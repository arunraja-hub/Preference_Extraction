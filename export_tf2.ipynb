{
  "nbformat": 4,
  "nbformat_minor": 0,
  "metadata": {
    "colab": {
      "name": "export_tf2.ipynb",
      "provenance": [],
      "collapsed_sections": [
        "b8Wjnp3ydqaS"
      ],
      "include_colab_link": true
    },
    "kernelspec": {
      "name": "python3",
      "display_name": "Python 3"
    },
    "accelerator": "GPU"
  },
  "cells": [
    {
      "cell_type": "markdown",
      "metadata": {
        "id": "view-in-github",
        "colab_type": "text"
      },
      "source": [
        "<a href=\"https://colab.research.google.com/github/arunraja-hub/Preference_Extraction/blob/master/export_tf2.ipynb\" target=\"_parent\"><img src=\"https://colab.research.google.com/assets/colab-badge.svg\" alt=\"Open In Colab\"/></a>"
      ]
    },
    {
      "cell_type": "markdown",
      "metadata": {
        "id": "LsE3f4g52xVz",
        "colab_type": "text"
      },
      "source": [
        "# The first part sets up the model to export it in tf 2.0 format. The \"Restore and verify it worked.\" part shows how to import the tf 2.0 version. That code can be run by itself to import the [version on github.](https://github.com/arunraja-hub/Preference_Extraction/tree/master/saved_model2)"
      ]
    },
    {
      "cell_type": "markdown",
      "metadata": {
        "id": "9tAQ3OiTyBY0",
        "colab_type": "text"
      },
      "source": [
        "#Install and imports"
      ]
    },
    {
      "cell_type": "code",
      "metadata": {
        "id": "2qFyxgPWtOMF",
        "colab_type": "code",
        "outputId": "ac1ba969-a2f9-46c8-997d-745865269e5c",
        "colab": {
          "base_uri": "https://localhost:8080/",
          "height": 426
        }
      },
      "source": [
        "%tensorflow_version 2.x\n",
        "\n",
        "!git clone https://github.com/arunraja-hub/Preference_Extraction.git\n",
        "\n",
        "!pip install tf-agents==0.3.0\n",
        "\n",
        "!pip uninstall tensorflow-probability -y\n",
        "!pip install tensorflow-probability==0.7.0\n",
        "\n",
        "import tensorflow as tf"
      ],
      "execution_count": 11,
      "outputs": [
        {
          "output_type": "stream",
          "text": [
            "fatal: destination path 'Preference_Extraction' already exists and is not an empty directory.\n",
            "Requirement already satisfied: tf-agents==0.3.0 in /usr/local/lib/python3.6/dist-packages (0.3.0)\n",
            "Requirement already satisfied: gin-config==0.1.3 in /usr/local/lib/python3.6/dist-packages (from tf-agents==0.3.0) (0.1.3)\n",
            "Requirement already satisfied: six>=1.10.0 in /usr/local/lib/python3.6/dist-packages (from tf-agents==0.3.0) (1.12.0)\n",
            "Requirement already satisfied: absl-py>=0.6.1 in /usr/local/lib/python3.6/dist-packages (from tf-agents==0.3.0) (0.9.0)\n",
            "Requirement already satisfied: numpy>=1.13.3 in /usr/local/lib/python3.6/dist-packages (from tf-agents==0.3.0) (1.18.3)\n",
            "Requirement already satisfied: tensorflow-probability>=0.6.0 in /usr/local/lib/python3.6/dist-packages (from tf-agents==0.3.0) (0.7.0)\n",
            "Requirement already satisfied: decorator in /usr/local/lib/python3.6/dist-packages (from tensorflow-probability>=0.6.0->tf-agents==0.3.0) (4.4.2)\n",
            "Requirement already satisfied: cloudpickle>=0.6.1 in /usr/local/lib/python3.6/dist-packages (from tensorflow-probability>=0.6.0->tf-agents==0.3.0) (1.3.0)\n",
            "Uninstalling tensorflow-probability-0.7.0:\n",
            "  Successfully uninstalled tensorflow-probability-0.7.0\n",
            "Collecting tensorflow-probability==0.7.0\n",
            "  Using cached https://files.pythonhosted.org/packages/3e/3a/c10b6c22320531c774402ac7186d1b673374e2a9d12502cbc8d811e4601c/tensorflow_probability-0.7.0-py2.py3-none-any.whl\n",
            "Requirement already satisfied: cloudpickle>=0.6.1 in /usr/local/lib/python3.6/dist-packages (from tensorflow-probability==0.7.0) (1.3.0)\n",
            "Requirement already satisfied: six>=1.10.0 in /usr/local/lib/python3.6/dist-packages (from tensorflow-probability==0.7.0) (1.12.0)\n",
            "Requirement already satisfied: decorator in /usr/local/lib/python3.6/dist-packages (from tensorflow-probability==0.7.0) (4.4.2)\n",
            "Requirement already satisfied: numpy>=1.13.3 in /usr/local/lib/python3.6/dist-packages (from tensorflow-probability==0.7.0) (1.18.3)\n",
            "Installing collected packages: tensorflow-probability\n",
            "Successfully installed tensorflow-probability-0.7.0\n"
          ],
          "name": "stdout"
        },
        {
          "output_type": "display_data",
          "data": {
            "application/vnd.colab-display-data+json": {
              "pip_warning": {
                "packages": [
                  "tensorflow_probability"
                ]
              }
            }
          },
          "metadata": {
            "tags": []
          }
        }
      ]
    },
    {
      "cell_type": "code",
      "metadata": {
        "id": "ap5q8W9Mx8Yi",
        "colab_type": "code",
        "colab": {}
      },
      "source": [
        "import numpy as np\n",
        "\n",
        "from tf_agents.trajectories.time_step import TimeStep\n",
        "from tf_agents.specs.tensor_spec import TensorSpec\n",
        "from tf_agents.specs.tensor_spec import TensorSpec\n",
        "from tf_agents.specs.tensor_spec import BoundedTensorSpec\n",
        "from tf_agents.networks import q_network\n",
        "\n",
        "import concurrent.futures\n",
        "import itertools\n",
        "import os\n",
        "import pickle\n",
        "import random\n",
        "import sys\n",
        "import time\n",
        "\n",
        "import numpy as np\n",
        "import io\n",
        "import collections"
      ],
      "execution_count": 0,
      "outputs": []
    },
    {
      "cell_type": "markdown",
      "metadata": {
        "id": "qtLlCNBLdBBK",
        "colab_type": "text"
      },
      "source": [
        "# Setup model and restore"
      ]
    },
    {
      "cell_type": "code",
      "metadata": {
        "id": "NCPu6NZBEjGh",
        "colab_type": "code",
        "colab": {}
      },
      "source": [
        "cpt_name = \"Preference_Extraction/model_ckpt\""
      ],
      "execution_count": 0,
      "outputs": []
    },
    {
      "cell_type": "code",
      "metadata": {
        "id": "jyivcV3jEJSn",
        "colab_type": "code",
        "colab": {}
      },
      "source": [
        "input_shape = [14, 16, 5]\n",
        "q_net = q_network.QNetwork(input_tensor_spec=TensorSpec(shape=input_shape), action_spec=BoundedTensorSpec((), tf.int32, 0, 2), conv_layer_params = [[16, 3, 1], [32, 3, 2]], fc_layer_params = [64])\n",
        "q_net.layers[0].layers[1]._name = \"EncodingNetwork/conv2d_1\""
      ],
      "execution_count": 0,
      "outputs": []
    },
    {
      "cell_type": "code",
      "metadata": {
        "id": "JP_NrHSQRfKq",
        "colab_type": "code",
        "colab": {}
      },
      "source": [
        "latest_cpt =  tf.train.latest_checkpoint(cpt_name)\n",
        "reader = tf.compat.v1.train.NewCheckpointReader(latest_cpt)"
      ],
      "execution_count": 0,
      "outputs": []
    },
    {
      "cell_type": "code",
      "metadata": {
        "id": "97YyEQnxK6Um",
        "colab_type": "code",
        "colab": {}
      },
      "source": [
        "model_input = tf.keras.Input(shape=input_shape)\n",
        "q_model_nested = tf.keras.models.Model(inputs=model_input, outputs=[q_net(model_input)])\n",
        "q_model_nested.build(input_shape=input_shape)"
      ],
      "execution_count": 0,
      "outputs": []
    },
    {
      "cell_type": "code",
      "metadata": {
        "id": "xVfk_9gexPzV",
        "colab_type": "code",
        "colab": {}
      },
      "source": [
        "def flatten_model(model_nested):\n",
        "    def get_layers(layers):\n",
        "        layers_flat = []\n",
        "        for layer in layers:\n",
        "            try:\n",
        "                layers_flat.extend(get_layers(layer.layers))\n",
        "            except AttributeError:\n",
        "                layers_flat.append(layer)\n",
        "        return layers_flat\n",
        "\n",
        "    model_flat = tf.keras.models.Sequential(\n",
        "        get_layers(model_nested.layers)\n",
        "    )\n",
        "    return model_flat\n",
        "\n",
        "q_model = flatten_model(q_model_nested)"
      ],
      "execution_count": 0,
      "outputs": []
    },
    {
      "cell_type": "code",
      "metadata": {
        "id": "jM1UgH34xhQJ",
        "colab_type": "code",
        "colab": {
          "base_uri": "https://localhost:8080/",
          "height": 323
        },
        "outputId": "d70659c8-65fc-4b80-db62-eced58388488"
      },
      "source": [
        "q_model.summary()"
      ],
      "execution_count": 18,
      "outputs": [
        {
          "output_type": "stream",
          "text": [
            "Model: \"sequential\"\n",
            "_________________________________________________________________\n",
            "Layer (type)                 Output Shape              Param #   \n",
            "=================================================================\n",
            "EncodingNetwork/conv2d (Conv (None, 12, 14, 16)        736       \n",
            "_________________________________________________________________\n",
            "EncodingNetwork/conv2d_1 (Co (None, 5, 6, 32)          4640      \n",
            "_________________________________________________________________\n",
            "flatten (Flatten)            (None, 960)               0         \n",
            "_________________________________________________________________\n",
            "EncodingNetwork/dense (Dense (None, 64)                61504     \n",
            "_________________________________________________________________\n",
            "dense (Dense)                (None, 3)                 195       \n",
            "=================================================================\n",
            "Total params: 67,075\n",
            "Trainable params: 67,075\n",
            "Non-trainable params: 0\n",
            "_________________________________________________________________\n"
          ],
          "name": "stdout"
        }
      ]
    },
    {
      "cell_type": "code",
      "metadata": {
        "id": "aS12qiTmMDRm",
        "colab_type": "code",
        "colab": {}
      },
      "source": [
        "layer_map = {\n",
        "    q_model.layers[0]: \"agent/_q_network/_encoder/_postprocessing_layers/0\",\n",
        "    q_model.layers[1]: \"agent/_q_network/_encoder/_postprocessing_layers/1\",\n",
        "    q_model.layers[3]: \"agent/_q_network/_encoder/_postprocessing_layers/3\",\n",
        "    q_model.layers[4]: \"agent/_q_network/_q_value_layer\",\n",
        "}"
      ],
      "execution_count": 0,
      "outputs": []
    },
    {
      "cell_type": "code",
      "metadata": {
        "id": "fVV8G0cqTVll",
        "colab_type": "code",
        "colab": {}
      },
      "source": [
        "last_name_part = \"/.ATTRIBUTES/VARIABLE_VALUE\"\n",
        "for keras_layer, weights_bias_name in layer_map.items():\n",
        "  weights = reader.get_tensor(weights_bias_name+\"/kernel\"+last_name_part)\n",
        "  biases = reader.get_tensor(weights_bias_name+\"/bias\"+last_name_part)\n",
        "  keras_layer.set_weights([weights, biases])"
      ],
      "execution_count": 0,
      "outputs": []
    },
    {
      "cell_type": "markdown",
      "metadata": {
        "id": "b8Wjnp3ydqaS",
        "colab_type": "text"
      },
      "source": [
        "# Read data"
      ]
    },
    {
      "cell_type": "code",
      "metadata": {
        "id": "y5DtdGrSHqnz",
        "colab_type": "code",
        "colab": {}
      },
      "source": [
        "class Trajectory(\n",
        "    collections.namedtuple('Trajectory', [\n",
        "        'step_type',\n",
        "        'observation',\n",
        "        'action',\n",
        "        'policy_info',\n",
        "        'next_step_type',\n",
        "        'reward',\n",
        "        'discount',\n",
        "    ])):\n",
        "  \"\"\"Stores the observation the agent saw and the action it took.\n",
        "      The rest of the attributes aren't used in this code.\"\"\"\n",
        "  __slots__ = ()\n",
        "\n",
        "class ListWrapper(object):\n",
        "  def __init__(self, list_to_wrap):\n",
        "    self._list = list_to_wrap\n",
        "\n",
        "  def as_list(self):\n",
        "    return self._list\n",
        "\n",
        "class RenameUnpickler(pickle.Unpickler):\n",
        "    def find_class(self, module, name):\n",
        "      if name == \"Trajectory\":\n",
        "        return Trajectory\n",
        "      if name == \"ListWrapper\":\n",
        "        return ListWrapper\n",
        "\n",
        "      return super(RenameUnpickler, self).find_class(module, name)\n",
        "\n",
        "def rename_load(s):\n",
        "    \"\"\"Helper function analogous to pickle.loads().\"\"\"\n",
        "    return RenameUnpickler(s, encoding='latin1').load()"
      ],
      "execution_count": 0,
      "outputs": []
    },
    {
      "cell_type": "code",
      "metadata": {
        "id": "6Nt_g4fjIHzz",
        "colab_type": "code",
        "colab": {}
      },
      "source": [
        "# Modified read trajectories functions to read files from local storage\n",
        "\n",
        "def load_file(full_path):\n",
        "    try:\n",
        "        with open(full_path, 'rb') as f:\n",
        "            data = rename_load(f)\n",
        "            return data\n",
        "    except:\n",
        "        return None\n",
        "    \n",
        "def all_load_data(base_path):\n",
        "    \n",
        "    executor = concurrent.futures.ThreadPoolExecutor(max_workers=100)\n",
        "    \n",
        "    futures = []\n",
        "    for i in range(5000):\n",
        "        full_path = os.path.join(base_path, \"ts\"+str(i)+\".pickle\")\n",
        "        future = executor.submit(load_file, full_path)\n",
        "        futures.append(future)\n",
        "    \n",
        "    raw_data = []\n",
        "    for future in concurrent.futures.as_completed(futures):\n",
        "        result = future.result()\n",
        "        if result:\n",
        "            raw_data.append(result)\n",
        "    \n",
        "    return raw_data\n",
        "\n",
        "\n",
        "all_raw_data = all_load_data(\"Preference_Extraction/data/simple_env_1/\")"
      ],
      "execution_count": 0,
      "outputs": []
    },
    {
      "cell_type": "markdown",
      "metadata": {
        "id": "SmIRId7SdRO8",
        "colab_type": "text"
      },
      "source": [
        "# Verify the model does inference correctly"
      ]
    },
    {
      "cell_type": "code",
      "metadata": {
        "id": "ml_Ivqa7IceG",
        "colab_type": "code",
        "outputId": "1a9752c0-4af6-4fe8-b085-f7f081e93d9d",
        "colab": {
          "base_uri": "https://localhost:8080/",
          "height": 1000
        }
      },
      "source": [
        "def verify_model(model):\n",
        "  activation_model = tf.keras.models.Model(inputs=model.input, outputs=model.layers[-2].output)\n",
        "  for i in range(len(all_raw_data[0].observation)):\n",
        "    single_observation = np.array([all_raw_data[0].observation[i]])\n",
        "\n",
        "    restored_activations = activation_model(single_observation)[0]\n",
        "    old_activations = all_raw_data[0].policy_info[\"activations\"][i]\n",
        "\n",
        "    if i < 3:\n",
        "      print(\"restored_activations\", restored_activations, \"old_activations\", old_activations)\n",
        "\n",
        "    np.testing.assert_allclose(restored_activations, old_activations, rtol=.1)\n",
        "\n",
        "verify_model(q_model)"
      ],
      "execution_count": 23,
      "outputs": [
        {
          "output_type": "stream",
          "text": [
            "restored_activations tf.Tensor(\n",
            "[ 0.        0.        0.        0.        0.        0.        0.\n",
            " 68.69019   0.        0.        0.       37.881477  0.       68.34023\n",
            "  0.        0.        0.        0.        0.        0.        0.\n",
            "  0.        0.        0.        0.        0.        0.        0.\n",
            "  0.        0.        0.        0.        0.        0.        0.\n",
            "  0.       55.817192  0.        0.        0.        0.        0.\n",
            "  0.        0.       24.650705  0.        0.        0.        0.\n",
            "  0.        0.        0.        0.        0.        0.        0.\n",
            "  0.        0.        0.        0.        0.        8.948536  0.\n",
            "  0.      ], shape=(64,), dtype=float32) old_activations [ 0.        0.        0.        0.        0.        0.        0.\n",
            " 68.6902    0.        0.        0.       37.88143   0.       68.340225\n",
            "  0.        0.        0.        0.        0.        0.        0.\n",
            "  0.        0.        0.        0.        0.        0.        0.\n",
            "  0.        0.        0.        0.        0.        0.        0.\n",
            "  0.       55.817123  0.        0.        0.        0.        0.\n",
            "  0.        0.       24.65078   0.        0.        0.        0.\n",
            "  0.        0.        0.        0.        0.        0.        0.\n",
            "  0.        0.        0.        0.        0.        8.948624  0.\n",
            "  0.      ]\n",
            "restored_activations tf.Tensor(\n",
            "[  0.         0.         0.         0.       122.143425   0.\n",
            "   0.        16.013237   0.         0.         0.        44.102222\n",
            "   0.         0.         0.         0.         0.         0.\n",
            "   0.         0.         0.       109.80744    0.         0.\n",
            "   0.         0.         0.        39.48075    0.         0.\n",
            "   0.         0.         0.         0.        62.60991    0.\n",
            "  50.126778   0.         0.         0.         0.         0.\n",
            "   0.         0.       133.6679     0.         0.         0.\n",
            "   0.         0.         0.         0.         0.         0.\n",
            "   0.         0.         0.         0.         0.         0.\n",
            "   0.        57.1823     0.         0.      ], shape=(64,), dtype=float32) old_activations [  0.         0.         0.         0.       122.14338    0.\n",
            "   0.        16.013302   0.         0.         0.        44.102234\n",
            "   0.         0.         0.         0.         0.         0.\n",
            "   0.         0.         0.       109.80743    0.         0.\n",
            "   0.         0.         0.        39.480694   0.         0.\n",
            "   0.         0.         0.         0.        62.60991    0.\n",
            "  50.126747   0.         0.         0.         0.         0.\n",
            "   0.         0.       133.66785    0.         0.         0.\n",
            "   0.         0.         0.         0.         0.         0.\n",
            "   0.         0.         0.         0.         0.         0.\n",
            "   0.        57.182323   0.         0.      ]\n",
            "restored_activations tf.Tensor(\n",
            "[  0.          0.          0.          0.         16.485687    0.\n",
            "   0.          0.          0.          0.          0.         20.570183\n",
            "   0.          0.          0.          0.          0.          0.\n",
            "   0.          0.          0.          0.          0.          0.\n",
            "   0.          0.          0.          0.          0.          0.\n",
            "   0.          0.          0.          0.          0.          0.\n",
            "  26.935162    0.          0.          0.          0.          0.\n",
            "   0.          0.        149.9606      0.          0.          0.\n",
            "   0.          0.          0.          0.          0.          0.\n",
            "   0.          0.          0.          0.          0.          0.\n",
            "   4.9027367  41.717304    0.          0.       ], shape=(64,), dtype=float32) old_activations [  0.          0.          0.          0.         16.485636    0.\n",
            "   0.          0.          0.          0.          0.         20.57018\n",
            "   0.          0.          0.          0.          0.          0.\n",
            "   0.          0.          0.          0.          0.          0.\n",
            "   0.          0.          0.          0.          0.          0.\n",
            "   0.          0.          0.          0.          0.          0.\n",
            "  26.93515     0.          0.          0.          0.          0.\n",
            "   0.          0.        149.9606      0.          0.          0.\n",
            "   0.          0.          0.          0.          0.          0.\n",
            "   0.          0.          0.          0.          0.          0.\n",
            "   4.9026318  41.717297    0.          0.       ]\n"
          ],
          "name": "stdout"
        }
      ]
    },
    {
      "cell_type": "markdown",
      "metadata": {
        "id": "e2ZTCFpfzAPj",
        "colab_type": "text"
      },
      "source": [
        "# Export in tf 2.0 format"
      ]
    },
    {
      "cell_type": "code",
      "metadata": {
        "id": "8s-G561nc0Xt",
        "colab_type": "code",
        "colab": {}
      },
      "source": [
        "new_save_path = \"Preference_Extraction/saved_model2\""
      ],
      "execution_count": 0,
      "outputs": []
    },
    {
      "cell_type": "code",
      "metadata": {
        "id": "aYOlJRhvbnvT",
        "colab_type": "code",
        "colab": {
          "base_uri": "https://localhost:8080/",
          "height": 105
        },
        "outputId": "14f62dca-8f4e-4385-aaed-c65e88b63c65"
      },
      "source": [
        "q_model.save(new_save_path, overwrite=True)"
      ],
      "execution_count": 25,
      "outputs": [
        {
          "output_type": "stream",
          "text": [
            "WARNING:tensorflow:From /usr/local/lib/python3.6/dist-packages/tensorflow/python/ops/resource_variable_ops.py:1817: calling BaseResourceVariable.__init__ (from tensorflow.python.ops.resource_variable_ops) with constraint is deprecated and will be removed in a future version.\n",
            "Instructions for updating:\n",
            "If using Keras pass *_constraint arguments to layers.\n",
            "INFO:tensorflow:Assets written to: Preference_Extraction/saved_model2/assets\n"
          ],
          "name": "stdout"
        }
      ]
    },
    {
      "cell_type": "markdown",
      "metadata": {
        "id": "Xt3lme0QzGbo",
        "colab_type": "text"
      },
      "source": [
        "# Restore and verify it worked."
      ]
    },
    {
      "cell_type": "code",
      "metadata": {
        "id": "CSBOpOQRdF6-",
        "colab_type": "code",
        "colab": {
          "base_uri": "https://localhost:8080/",
          "height": 340
        },
        "outputId": "9b1a2628-e66e-4a7a-ddde-63863267af6b"
      },
      "source": [
        "restored_model = tf.keras.models.load_model(new_save_path)\n",
        "restored_model.summary()"
      ],
      "execution_count": 26,
      "outputs": [
        {
          "output_type": "stream",
          "text": [
            "WARNING:tensorflow:No training configuration found in save file, so the model was *not* compiled. Compile it manually.\n",
            "Model: \"sequential\"\n",
            "_________________________________________________________________\n",
            "Layer (type)                 Output Shape              Param #   \n",
            "=================================================================\n",
            "EncodingNetwork/conv2d (Conv (None, 12, 14, 16)        736       \n",
            "_________________________________________________________________\n",
            "EncodingNetwork/conv2d_1 (Co (None, 5, 6, 32)          4640      \n",
            "_________________________________________________________________\n",
            "flatten (Flatten)            (None, 960)               0         \n",
            "_________________________________________________________________\n",
            "EncodingNetwork/dense (Dense (None, 64)                61504     \n",
            "_________________________________________________________________\n",
            "dense (Dense)                (None, 3)                 195       \n",
            "=================================================================\n",
            "Total params: 67,075\n",
            "Trainable params: 67,075\n",
            "Non-trainable params: 0\n",
            "_________________________________________________________________\n"
          ],
          "name": "stdout"
        }
      ]
    },
    {
      "cell_type": "code",
      "metadata": {
        "id": "JkEwvMJ3rhPe",
        "colab_type": "code",
        "colab": {
          "base_uri": "https://localhost:8080/",
          "height": 1000
        },
        "outputId": "5215c469-0c70-4ea6-8771-317a200a3293"
      },
      "source": [
        "verify_model(restored_model)"
      ],
      "execution_count": 27,
      "outputs": [
        {
          "output_type": "stream",
          "text": [
            "restored_activations tf.Tensor(\n",
            "[ 0.        0.        0.        0.        0.        0.        0.\n",
            " 68.69019   0.        0.        0.       37.881477  0.       68.34023\n",
            "  0.        0.        0.        0.        0.        0.        0.\n",
            "  0.        0.        0.        0.        0.        0.        0.\n",
            "  0.        0.        0.        0.        0.        0.        0.\n",
            "  0.       55.817192  0.        0.        0.        0.        0.\n",
            "  0.        0.       24.650705  0.        0.        0.        0.\n",
            "  0.        0.        0.        0.        0.        0.        0.\n",
            "  0.        0.        0.        0.        0.        8.948536  0.\n",
            "  0.      ], shape=(64,), dtype=float32) old_activations [ 0.        0.        0.        0.        0.        0.        0.\n",
            " 68.6902    0.        0.        0.       37.88143   0.       68.340225\n",
            "  0.        0.        0.        0.        0.        0.        0.\n",
            "  0.        0.        0.        0.        0.        0.        0.\n",
            "  0.        0.        0.        0.        0.        0.        0.\n",
            "  0.       55.817123  0.        0.        0.        0.        0.\n",
            "  0.        0.       24.65078   0.        0.        0.        0.\n",
            "  0.        0.        0.        0.        0.        0.        0.\n",
            "  0.        0.        0.        0.        0.        8.948624  0.\n",
            "  0.      ]\n",
            "restored_activations tf.Tensor(\n",
            "[  0.         0.         0.         0.       122.143425   0.\n",
            "   0.        16.013237   0.         0.         0.        44.102222\n",
            "   0.         0.         0.         0.         0.         0.\n",
            "   0.         0.         0.       109.80744    0.         0.\n",
            "   0.         0.         0.        39.48075    0.         0.\n",
            "   0.         0.         0.         0.        62.60991    0.\n",
            "  50.126778   0.         0.         0.         0.         0.\n",
            "   0.         0.       133.6679     0.         0.         0.\n",
            "   0.         0.         0.         0.         0.         0.\n",
            "   0.         0.         0.         0.         0.         0.\n",
            "   0.        57.1823     0.         0.      ], shape=(64,), dtype=float32) old_activations [  0.         0.         0.         0.       122.14338    0.\n",
            "   0.        16.013302   0.         0.         0.        44.102234\n",
            "   0.         0.         0.         0.         0.         0.\n",
            "   0.         0.         0.       109.80743    0.         0.\n",
            "   0.         0.         0.        39.480694   0.         0.\n",
            "   0.         0.         0.         0.        62.60991    0.\n",
            "  50.126747   0.         0.         0.         0.         0.\n",
            "   0.         0.       133.66785    0.         0.         0.\n",
            "   0.         0.         0.         0.         0.         0.\n",
            "   0.         0.         0.         0.         0.         0.\n",
            "   0.        57.182323   0.         0.      ]\n",
            "restored_activations tf.Tensor(\n",
            "[  0.          0.          0.          0.         16.485687    0.\n",
            "   0.          0.          0.          0.          0.         20.570183\n",
            "   0.          0.          0.          0.          0.          0.\n",
            "   0.          0.          0.          0.          0.          0.\n",
            "   0.          0.          0.          0.          0.          0.\n",
            "   0.          0.          0.          0.          0.          0.\n",
            "  26.935162    0.          0.          0.          0.          0.\n",
            "   0.          0.        149.9606      0.          0.          0.\n",
            "   0.          0.          0.          0.          0.          0.\n",
            "   0.          0.          0.          0.          0.          0.\n",
            "   4.9027367  41.717304    0.          0.       ], shape=(64,), dtype=float32) old_activations [  0.          0.          0.          0.         16.485636    0.\n",
            "   0.          0.          0.          0.          0.         20.57018\n",
            "   0.          0.          0.          0.          0.          0.\n",
            "   0.          0.          0.          0.          0.          0.\n",
            "   0.          0.          0.          0.          0.          0.\n",
            "   0.          0.          0.          0.          0.          0.\n",
            "  26.93515     0.          0.          0.          0.          0.\n",
            "   0.          0.        149.9606      0.          0.          0.\n",
            "   0.          0.          0.          0.          0.          0.\n",
            "   0.          0.          0.          0.          0.          0.\n",
            "   4.9026318  41.717297    0.          0.       ]\n"
          ],
          "name": "stdout"
        }
      ]
    }
  ]
}