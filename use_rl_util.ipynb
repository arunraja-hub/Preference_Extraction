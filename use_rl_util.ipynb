{
  "nbformat": 4,
  "nbformat_minor": 0,
  "metadata": {
    "colab": {
      "name": "use_rl_util.ipynb",
      "provenance": [],
      "collapsed_sections": [],
      "machine_shape": "hm",
      "include_colab_link": true
    },
    "kernelspec": {
      "name": "python3",
      "display_name": "Python 3"
    },
    "accelerator": "GPU"
  },
  "cells": [
    {
      "cell_type": "markdown",
      "metadata": {
        "id": "view-in-github",
        "colab_type": "text"
      },
      "source": [
        "<a href=\"https://colab.research.google.com/github/arunraja-hub/Preference_Extraction/blob/rl_util/use_rl_util.ipynb\" target=\"_parent\"><img src=\"https://colab.research.google.com/assets/colab-badge.svg\" alt=\"Open In Colab\"/></a>"
      ]
    },
    {
      "cell_type": "markdown",
      "metadata": {
        "id": "9tAQ3OiTyBY0",
        "colab_type": "text"
      },
      "source": [
        "#Install and imports"
      ]
    },
    {
      "cell_type": "code",
      "metadata": {
        "id": "2qFyxgPWtOMF",
        "colab_type": "code",
        "outputId": "5167ab24-7567-469c-bcfe-8133fc2906d8",
        "colab": {
          "base_uri": "https://localhost:8080/",
          "height": 0
        }
      },
      "source": [
        "%tensorflow_version 1.x\n",
        "\n",
        "!pip uninstall lucid -y\n",
        "!pip install git+https://github.com/tensorflow/lucid.git#egg=lucid\n",
        "\n",
        "!git clone https://github.com/arunraja-hub/Preference_Extraction.git\n",
        "\n",
        "!pip install tf-agents==0.3.0\n",
        "\n",
        "!pip uninstall tensorflow-probability -y\n",
        "!pip install tensorflow-probability==0.7.0\n",
        "\n",
        "!npm install -g svelte-cli@2.2.0\n",
        "\n",
        "import tensorflow as tf\n",
        "\n",
        "tf.compat.v1.disable_eager_execution()"
      ],
      "execution_count": 1,
      "outputs": [
        {
          "output_type": "stream",
          "text": [
            "TensorFlow 1.x selected.\n",
            "Uninstalling lucid-0.3.8:\n",
            "  Successfully uninstalled lucid-0.3.8\n",
            "Collecting lucid\n",
            "  Cloning https://github.com/tensorflow/lucid.git to /tmp/pip-install-xtmdnjni/lucid\n",
            "  Running command git clone -q https://github.com/tensorflow/lucid.git /tmp/pip-install-xtmdnjni/lucid\n",
            "Requirement already satisfied: numpy in /usr/local/lib/python3.6/dist-packages (from lucid) (1.18.2)\n",
            "Requirement already satisfied: scipy in /usr/local/lib/python3.6/dist-packages (from lucid) (1.4.1)\n",
            "Requirement already satisfied: scikit-learn in /usr/local/lib/python3.6/dist-packages (from lucid) (0.22.2.post1)\n",
            "Requirement already satisfied: umap-learn in /usr/local/lib/python3.6/dist-packages (from lucid) (0.4.1)\n",
            "Requirement already satisfied: nltk in /usr/local/lib/python3.6/dist-packages (from lucid) (3.2.5)\n",
            "Requirement already satisfied: ipython in /usr/local/lib/python3.6/dist-packages (from lucid) (5.5.0)\n",
            "Requirement already satisfied: pillow in /usr/local/lib/python3.6/dist-packages (from lucid) (7.0.0)\n",
            "Requirement already satisfied: future in /usr/local/lib/python3.6/dist-packages (from lucid) (0.16.0)\n",
            "Requirement already satisfied: decorator in /usr/local/lib/python3.6/dist-packages (from lucid) (4.4.2)\n",
            "Requirement already satisfied: pyopengl in /usr/local/lib/python3.6/dist-packages (from lucid) (3.1.5)\n",
            "Requirement already satisfied: filelock in /usr/local/lib/python3.6/dist-packages (from lucid) (3.0.12)\n",
            "Requirement already satisfied: cachetools in /usr/local/lib/python3.6/dist-packages (from lucid) (3.1.1)\n",
            "Requirement already satisfied: more-itertools in /usr/local/lib/python3.6/dist-packages (from lucid) (8.2.0)\n",
            "Requirement already satisfied: joblib>=0.11 in /usr/local/lib/python3.6/dist-packages (from scikit-learn->lucid) (0.14.1)\n",
            "Requirement already satisfied: numba!=0.47,>=0.46 in /usr/local/lib/python3.6/dist-packages (from umap-learn->lucid) (0.48.0)\n",
            "Requirement already satisfied: tbb>=2019.0 in /usr/local/lib/python3.6/dist-packages (from umap-learn->lucid) (2020.0.133)\n",
            "Requirement already satisfied: six in /usr/local/lib/python3.6/dist-packages (from nltk->lucid) (1.12.0)\n",
            "Requirement already satisfied: simplegeneric>0.8 in /usr/local/lib/python3.6/dist-packages (from ipython->lucid) (0.8.1)\n",
            "Requirement already satisfied: pexpect; sys_platform != \"win32\" in /usr/local/lib/python3.6/dist-packages (from ipython->lucid) (4.8.0)\n",
            "Requirement already satisfied: prompt-toolkit<2.0.0,>=1.0.4 in /usr/local/lib/python3.6/dist-packages (from ipython->lucid) (1.0.18)\n",
            "Requirement already satisfied: setuptools>=18.5 in /usr/local/lib/python3.6/dist-packages (from ipython->lucid) (46.1.3)\n",
            "Requirement already satisfied: traitlets>=4.2 in /usr/local/lib/python3.6/dist-packages (from ipython->lucid) (4.3.3)\n",
            "Requirement already satisfied: pickleshare in /usr/local/lib/python3.6/dist-packages (from ipython->lucid) (0.7.5)\n",
            "Requirement already satisfied: pygments in /usr/local/lib/python3.6/dist-packages (from ipython->lucid) (2.1.3)\n",
            "Requirement already satisfied: llvmlite<0.32.0,>=0.31.0dev0 in /usr/local/lib/python3.6/dist-packages (from numba!=0.47,>=0.46->umap-learn->lucid) (0.31.0)\n",
            "Requirement already satisfied: ptyprocess>=0.5 in /usr/local/lib/python3.6/dist-packages (from pexpect; sys_platform != \"win32\"->ipython->lucid) (0.6.0)\n",
            "Requirement already satisfied: wcwidth in /usr/local/lib/python3.6/dist-packages (from prompt-toolkit<2.0.0,>=1.0.4->ipython->lucid) (0.1.9)\n",
            "Requirement already satisfied: ipython-genutils in /usr/local/lib/python3.6/dist-packages (from traitlets>=4.2->ipython->lucid) (0.2.0)\n",
            "Building wheels for collected packages: lucid\n",
            "  Building wheel for lucid (setup.py) ... \u001b[?25l\u001b[?25hdone\n",
            "  Created wheel for lucid: filename=lucid-0.3.9-cp36-none-any.whl size=155742 sha256=e5eaf5c60f91c5029ca132467720f23979ff989bf3fb4c600929c919d90103d5\n",
            "  Stored in directory: /tmp/pip-ephem-wheel-cache-3hmn5c9c/wheels/64/c2/51/7238e75f457453774587708b21cd3cf32f9a86456648688634\n",
            "Successfully built lucid\n",
            "Installing collected packages: lucid\n",
            "Successfully installed lucid-0.3.9\n",
            "Cloning into 'Preference_Extraction'...\n",
            "remote: Enumerating objects: 567, done.\u001b[K\n",
            "remote: Counting objects: 100% (567/567), done.\u001b[K\n",
            "remote: Compressing objects: 100% (556/556), done.\u001b[K\n",
            "remote: Total 567 (delta 37), reused 512 (delta 10), pack-reused 0\u001b[K\n",
            "Receiving objects: 100% (567/567), 20.73 MiB | 15.43 MiB/s, done.\n",
            "Resolving deltas: 100% (37/37), done.\n",
            "Collecting tf-agents==0.3.0\n",
            "\u001b[?25l  Downloading https://files.pythonhosted.org/packages/0e/a5/07aa82a3cd586d193b2f086b50a2fd0f48bd888ae204389f666eb178cfb3/tf_agents-0.3.0-py2.py3-none-any.whl (839kB)\n",
            "\u001b[K     |████████████████████████████████| 839kB 621kB/s \n",
            "\u001b[?25hRequirement already satisfied: absl-py>=0.6.1 in /usr/local/lib/python3.6/dist-packages (from tf-agents==0.3.0) (0.9.0)\n",
            "Collecting gin-config==0.1.3\n",
            "\u001b[?25l  Downloading https://files.pythonhosted.org/packages/8c/be/c984b1c8a7ba1c385b32bf39c7a225cd9f713d49705898309d01b60fd0e7/gin_config-0.1.3-py3-none-any.whl (43kB)\n",
            "\u001b[K     |████████████████████████████████| 51kB 7.2MB/s \n",
            "\u001b[?25hRequirement already satisfied: tensorflow-probability>=0.6.0 in /tensorflow-1.15.2/python3.6 (from tf-agents==0.3.0) (0.7.0)\n",
            "Requirement already satisfied: six>=1.10.0 in /usr/local/lib/python3.6/dist-packages (from tf-agents==0.3.0) (1.12.0)\n",
            "Requirement already satisfied: numpy>=1.13.3 in /usr/local/lib/python3.6/dist-packages (from tf-agents==0.3.0) (1.18.2)\n",
            "Requirement already satisfied: decorator in /usr/local/lib/python3.6/dist-packages (from tensorflow-probability>=0.6.0->tf-agents==0.3.0) (4.4.2)\n",
            "Requirement already satisfied: cloudpickle>=0.6.1 in /usr/local/lib/python3.6/dist-packages (from tensorflow-probability>=0.6.0->tf-agents==0.3.0) (1.3.0)\n",
            "Installing collected packages: gin-config, tf-agents\n",
            "  Found existing installation: gin-config 0.3.0\n",
            "    Uninstalling gin-config-0.3.0:\n",
            "      Successfully uninstalled gin-config-0.3.0\n",
            "Successfully installed gin-config-0.1.3 tf-agents-0.3.0\n",
            "Uninstalling tensorflow-probability-0.7.0:\n",
            "  Successfully uninstalled tensorflow-probability-0.7.0\n",
            "Collecting tensorflow-probability==0.7.0\n",
            "\u001b[?25l  Downloading https://files.pythonhosted.org/packages/3e/3a/c10b6c22320531c774402ac7186d1b673374e2a9d12502cbc8d811e4601c/tensorflow_probability-0.7.0-py2.py3-none-any.whl (981kB)\n",
            "\u001b[K     |████████████████████████████████| 983kB 2.8MB/s \n",
            "\u001b[?25hRequirement already satisfied: numpy>=1.13.3 in /usr/local/lib/python3.6/dist-packages (from tensorflow-probability==0.7.0) (1.18.2)\n",
            "Requirement already satisfied: cloudpickle>=0.6.1 in /usr/local/lib/python3.6/dist-packages (from tensorflow-probability==0.7.0) (1.3.0)\n",
            "Requirement already satisfied: decorator in /usr/local/lib/python3.6/dist-packages (from tensorflow-probability==0.7.0) (4.4.2)\n",
            "Requirement already satisfied: six>=1.10.0 in /usr/local/lib/python3.6/dist-packages (from tensorflow-probability==0.7.0) (1.12.0)\n",
            "Installing collected packages: tensorflow-probability\n",
            "  Found existing installation: tensorflow-probability 0.9.0\n",
            "    Uninstalling tensorflow-probability-0.9.0:\n",
            "      Successfully uninstalled tensorflow-probability-0.9.0\n",
            "Successfully installed tensorflow-probability-0.7.0\n",
            "\u001b[K\u001b[?25h/tools/node/bin/svelte -> /tools/node/lib/node_modules/svelte-cli/bin.js\n",
            "\u001b[K\u001b[?25h+ svelte-cli@2.2.0\n",
            "added 2 packages from 1 contributor in 1.232s\n"
          ],
          "name": "stdout"
        }
      ]
    },
    {
      "cell_type": "code",
      "metadata": {
        "id": "ap5q8W9Mx8Yi",
        "colab_type": "code",
        "outputId": "680ea290-c726-456a-e974-d7f0cbc50c2a",
        "colab": {
          "base_uri": "https://localhost:8080/",
          "height": 0
        }
      },
      "source": [
        "import numpy as np\n",
        "\n",
        "from tf_agents.trajectories.time_step import TimeStep\n",
        "from tf_agents.specs.tensor_spec import TensorSpec\n",
        "from tf_agents.specs.tensor_spec import TensorSpec\n",
        "from tf_agents.specs.tensor_spec import BoundedTensorSpec\n",
        "from tf_agents.networks import q_network\n",
        "\n",
        "import lucid.modelzoo.vision_models as models\n",
        "from lucid.misc.io import show\n",
        "import lucid.misc.io.showing as showing\n",
        "from lucid.misc.channel_reducer import ChannelReducer\n",
        "import lucid.optvis.param as param\n",
        "import lucid.optvis.objectives as objectives\n",
        "import lucid.optvis.render as render\n",
        "from lucid.misc.io import show, load\n",
        "from lucid.misc.io.reading import read\n",
        "from lucid.misc.io.showing import _image_url\n",
        "import lucid.scratch.web.svelte as lucid_svelte\n",
        "from lucid.misc.gradient_override import gradient_override_map\n",
        "from lucid.scratch.rl_util import *\n",
        "\n",
        "\n",
        "import concurrent.futures\n",
        "import itertools\n",
        "import os\n",
        "import pickle\n",
        "import random\n",
        "import sys\n",
        "import time\n",
        "\n",
        "import numpy as np\n",
        "import io\n",
        "import collections\n",
        "\n",
        "import urllib.request\n",
        "from urllib.error import HTTPError"
      ],
      "execution_count": 2,
      "outputs": [
        {
          "output_type": "stream",
          "text": [
            "/usr/local/lib/python3.6/dist-packages/sklearn/utils/deprecation.py:144: FutureWarning: The sklearn.decomposition.base module is  deprecated in version 0.22 and will be removed in version 0.24. The corresponding classes / functions should instead be imported from sklearn.decomposition. Anything that cannot be imported from sklearn.decomposition is now part of the private API.\n",
            "  warnings.warn(message, FutureWarning)\n"
          ],
          "name": "stderr"
        }
      ]
    },
    {
      "cell_type": "markdown",
      "metadata": {
        "id": "ZAOsd5Ikw468",
        "colab_type": "text"
      },
      "source": [
        "# Read data"
      ]
    },
    {
      "cell_type": "code",
      "metadata": {
        "id": "RaQbLcupw4Pl",
        "colab_type": "code",
        "colab": {}
      },
      "source": [
        "class Trajectory(\n",
        "    collections.namedtuple('Trajectory', [\n",
        "        'step_type',\n",
        "        'observation',\n",
        "        'action',\n",
        "        'policy_info',\n",
        "        'next_step_type',\n",
        "        'reward',\n",
        "        'discount',\n",
        "    ])):\n",
        "  \"\"\"Stores the observation the agent saw and the action it took.\n",
        "      The rest of the attributes aren't used in this code.\"\"\"\n",
        "  __slots__ = ()\n",
        "\n",
        "class ListWrapper(object):\n",
        "  def __init__(self, list_to_wrap):\n",
        "    self._list = list_to_wrap\n",
        "\n",
        "  def as_list(self):\n",
        "    return self._list\n",
        "\n",
        "class RenameUnpickler(pickle.Unpickler):\n",
        "    def find_class(self, module, name):\n",
        "      if name == \"Trajectory\":\n",
        "        return Trajectory\n",
        "      if name == \"ListWrapper\":\n",
        "        return ListWrapper\n",
        "\n",
        "      return super(RenameUnpickler, self).find_class(module, name)\n",
        "\n",
        "def rename_load(s):\n",
        "    \"\"\"Helper function analogous to pickle.loads().\"\"\"\n",
        "    return RenameUnpickler(s, encoding='latin1').load()"
      ],
      "execution_count": 0,
      "outputs": []
    },
    {
      "cell_type": "code",
      "metadata": {
        "id": "EERbcpKTw7PU",
        "colab_type": "code",
        "colab": {}
      },
      "source": [
        "# Modified read trajectories functions to read files from local storage\n",
        "\n",
        "def load_file(full_path):\n",
        "    try:\n",
        "        with open(full_path, 'rb') as f:\n",
        "            data = rename_load(f)\n",
        "            return data\n",
        "    except:\n",
        "        return None\n",
        "    \n",
        "def all_load_data(base_path):\n",
        "    \n",
        "    executor = concurrent.futures.ThreadPoolExecutor(max_workers=100)\n",
        "    \n",
        "    futures = []\n",
        "    for i in range(5000):\n",
        "        full_path = os.path.join(base_path, \"ts\"+str(i)+\".pickle\")\n",
        "        future = executor.submit(load_file, full_path)\n",
        "        futures.append(future)\n",
        "    \n",
        "    raw_data = []\n",
        "    for future in concurrent.futures.as_completed(futures):\n",
        "        result = future.result()\n",
        "        if result:\n",
        "            raw_data.append(result)\n",
        "    \n",
        "    return raw_data\n",
        "\n",
        "\n",
        "all_raw_data = all_load_data(\"Preference_Extraction/data/simple_env_1/\")"
      ],
      "execution_count": 0,
      "outputs": []
    },
    {
      "cell_type": "code",
      "metadata": {
        "id": "0PRLS6J5xXfR",
        "colab_type": "code",
        "colab": {}
      },
      "source": [
        "all_observations = []\n",
        "\n",
        "for data in all_raw_data:\n",
        "  for i in range(data.observation.shape[0]):\n",
        "    obs = np.copy(data.observation[i])\n",
        "\n",
        "    all_observations.append(np.array(obs))\n",
        "\n",
        "all_observations = np.array(all_observations)"
      ],
      "execution_count": 0,
      "outputs": []
    },
    {
      "cell_type": "code",
      "metadata": {
        "id": "dWnVOa62UO8T",
        "colab_type": "code",
        "outputId": "5afebe9a-6f8e-4360-c766-62e8fc898b7d",
        "colab": {
          "base_uri": "https://localhost:8080/",
          "height": 0
        }
      },
      "source": [
        "all_observations.shape"
      ],
      "execution_count": 6,
      "outputs": [
        {
          "output_type": "execute_result",
          "data": {
            "text/plain": [
              "(23750, 14, 16, 5)"
            ]
          },
          "metadata": {
            "tags": []
          },
          "execution_count": 6
        }
      ]
    },
    {
      "cell_type": "markdown",
      "metadata": {
        "id": "JMyJU71h2i1s",
        "colab_type": "text"
      },
      "source": [
        "# Load model and get nmf and acts"
      ]
    },
    {
      "cell_type": "code",
      "metadata": {
        "id": "ku9oLrycj8k0",
        "colab_type": "code",
        "outputId": "6f19c342-25d2-499b-e154-efcf29992796",
        "colab": {
          "base_uri": "https://localhost:8080/",
          "height": 153
        }
      },
      "source": [
        "model = models.Model.load(\"Preference_Extraction/lucid_save_model.pb\")\n",
        "model.load_graphdef()"
      ],
      "execution_count": 7,
      "outputs": [
        {
          "output_type": "stream",
          "text": [
            "WARNING:tensorflow:From /usr/local/lib/python3.6/dist-packages/lucid/misc/io/reading.py:124: The name tf.gfile.Open is deprecated. Please use tf.io.gfile.GFile instead.\n",
            "\n"
          ],
          "name": "stdout"
        },
        {
          "output_type": "stream",
          "text": [
            "WARNING:tensorflow:From /usr/local/lib/python3.6/dist-packages/lucid/misc/io/reading.py:124: The name tf.gfile.Open is deprecated. Please use tf.io.gfile.GFile instead.\n",
            "\n"
          ],
          "name": "stderr"
        },
        {
          "output_type": "stream",
          "text": [
            "WARNING:tensorflow:From /usr/local/lib/python3.6/dist-packages/lucid/misc/io/loading.py:129: The name tf.GraphDef is deprecated. Please use tf.compat.v1.GraphDef instead.\n",
            "\n"
          ],
          "name": "stdout"
        },
        {
          "output_type": "stream",
          "text": [
            "WARNING:tensorflow:From /usr/local/lib/python3.6/dist-packages/lucid/misc/io/loading.py:129: The name tf.GraphDef is deprecated. Please use tf.compat.v1.GraphDef instead.\n",
            "\n"
          ],
          "name": "stderr"
        }
      ]
    },
    {
      "cell_type": "code",
      "metadata": {
        "id": "NXSNZhoOoRgW",
        "colab_type": "code",
        "colab": {}
      },
      "source": [
        "some_observations = all_observations[0:1000]"
      ],
      "execution_count": 0,
      "outputs": []
    },
    {
      "cell_type": "code",
      "metadata": {
        "id": "oQsTsMgXW0Yp",
        "colab_type": "code",
        "colab": {}
      },
      "source": [
        "output_layer_name = \"QNetwork/dense/BiasAdd\"\n",
        "# hidden_layer_name = \"QNetwork/EncodingNetwork/EncodingNetwork/conv2d_1/Relu\"\n",
        "hidden_layer_name = \"QNetwork/EncodingNetwork/EncodingNetwork/conv2d/Relu\"\n",
        "num_features = 6"
      ],
      "execution_count": 0,
      "outputs": []
    },
    {
      "cell_type": "code",
      "metadata": {
        "id": "A-p_jevKWIRK",
        "colab_type": "code",
        "outputId": "80db85dd-bda7-4eb7-c85c-ee0bba811c4f",
        "colab": {
          "base_uri": "https://localhost:8080/",
          "height": 221
        }
      },
      "source": [
        "nmf = LayerNMF(model, hidden_layer_name, some_observations, features=num_features, attr_layer_name=output_layer_name)"
      ],
      "execution_count": 10,
      "outputs": [
        {
          "output_type": "stream",
          "text": [
            "WARNING:tensorflow:From /usr/local/lib/python3.6/dist-packages/lucid/scratch/rl_util/attribution.py:26: The name tf.Session is deprecated. Please use tf.compat.v1.Session instead.\n",
            "\n"
          ],
          "name": "stdout"
        },
        {
          "output_type": "stream",
          "text": [
            "WARNING:tensorflow:From /usr/local/lib/python3.6/dist-packages/lucid/scratch/rl_util/attribution.py:26: The name tf.Session is deprecated. Please use tf.compat.v1.Session instead.\n",
            "\n"
          ],
          "name": "stderr"
        },
        {
          "output_type": "stream",
          "text": [
            "WARNING:tensorflow:From /usr/local/lib/python3.6/dist-packages/lucid/scratch/rl_util/attribution.py:27: The name tf.placeholder_with_default is deprecated. Please use tf.compat.v1.placeholder_with_default instead.\n",
            "\n"
          ],
          "name": "stdout"
        },
        {
          "output_type": "stream",
          "text": [
            "WARNING:tensorflow:From /usr/local/lib/python3.6/dist-packages/lucid/scratch/rl_util/attribution.py:27: The name tf.placeholder_with_default is deprecated. Please use tf.compat.v1.placeholder_with_default instead.\n",
            "\n"
          ],
          "name": "stderr"
        },
        {
          "output_type": "stream",
          "text": [
            "WARNING:tensorflow:From /usr/local/lib/python3.6/dist-packages/lucid/modelzoo/vision_base.py:192: The name tf.get_default_graph is deprecated. Please use tf.compat.v1.get_default_graph instead.\n",
            "\n"
          ],
          "name": "stdout"
        },
        {
          "output_type": "stream",
          "text": [
            "WARNING:tensorflow:From /usr/local/lib/python3.6/dist-packages/lucid/modelzoo/vision_base.py:192: The name tf.get_default_graph is deprecated. Please use tf.compat.v1.get_default_graph instead.\n",
            "\n"
          ],
          "name": "stderr"
        }
      ]
    },
    {
      "cell_type": "code",
      "metadata": {
        "id": "iUdoHOJJOTW3",
        "colab_type": "code",
        "colab": {}
      },
      "source": [
        "with tf.Graph().as_default(), tf.Session():\n",
        "  t_input = t_input = tf.placeholder_with_default(some_observations, some_observations.shape, name=\"lucid_placeholder\")\n",
        "  T = render.import_model(model, t_input, t_input)\n",
        "  acts = T(hidden_layer_name).eval()"
      ],
      "execution_count": 0,
      "outputs": []
    },
    {
      "cell_type": "markdown",
      "metadata": {
        "id": "mCtyq9rsjwBy",
        "colab_type": "text"
      },
      "source": [
        "# Define helper functions"
      ]
    },
    {
      "cell_type": "code",
      "metadata": {
        "id": "SJ_ASH8ZYH3Z",
        "colab_type": "code",
        "colab": {}
      },
      "source": [
        "def reduce_and_norm(to_reduce):\n",
        "  reduced = nmf.transform(np.abs(to_reduce))\n",
        "\n",
        "  normalize_by = np.median(reduced.max(axis=(-3, -2, -1)))\n",
        "  print(\"normalize_by\", normalize_by)\n",
        "  if normalize_by != 0:\n",
        "    reduced /= normalize_by # normalize to make the visualization balanced, may need tweaking\n",
        "  reduced = np.abs(reduced)\n",
        "\n",
        "  return reduced"
      ],
      "execution_count": 0,
      "outputs": []
    },
    {
      "cell_type": "code",
      "metadata": {
        "id": "lSOOgBTlhIDp",
        "colab_type": "code",
        "colab": {}
      },
      "source": [
        "def show_with_obs(obs, reduced, num_to_show):\n",
        "  start = random.randint(0, some_observations.shape[0]-num_to_show)\n",
        "\n",
        "  print(\"Time left in episode\")\n",
        "  show(zoom_to(some_observations[start:start+num_to_show, :, :, 3:4], 200))\n",
        "  print(\"Color channels (vertical stripes are 'apples'\")\n",
        "  show(zoom_to(some_observations[start:start+num_to_show, :, :, :3], 200))\n",
        "  print(\"Visualization\")\n",
        "  show(zoom_to(reduced[start:start+num_to_show], 200))"
      ],
      "execution_count": 0,
      "outputs": []
    },
    {
      "cell_type": "markdown",
      "metadata": {
        "id": "CMiGopA7jxwj",
        "colab_type": "text"
      },
      "source": [
        "# NMF on network activations.\n",
        "One of the channels usually corasponds to apples."
      ]
    },
    {
      "cell_type": "code",
      "metadata": {
        "id": "HLxwYEekhAWi",
        "colab_type": "code",
        "colab": {
          "base_uri": "https://localhost:8080/",
          "height": 701
        },
        "outputId": "ef12df80-1b48-4d14-972b-6c6b85e75d9f"
      },
      "source": [
        "reduced = reduce_and_norm(acts)\n",
        "show_with_obs(some_observations, reduced, 10)"
      ],
      "execution_count": 14,
      "outputs": [
        {
          "output_type": "stream",
          "text": [
            "normalize_by 0.2214253834733077\n",
            "Time left in episode\n"
          ],
          "name": "stdout"
        },
        {
          "output_type": "display_data",
          "data": {
            "text/html": [
              "<div style=\"display: flex; flex-direction: row;\"><div style=\"margin-right:10px; margin-top: 4px;\">\n",
              "              0 <br/>\n",
              "              <img src=\"data:image/PNG;base64,iVBORw0KGgoAAAANSUhEUgAAAMgAAACvCAAAAACdws6gAAAA70lEQVR4nO3dsQ2AMAwAQUAMxMpsSk1BR6JT9DeArZcH8H5tY9yD5n45Ju8bphBNIZpCNIVoCtEUoilEU4imEE0hmkI0hWgK0RSiKURTiKYQTSGaQjSFaArRFKIpRFOIphBNIZpCNIVoCtEUoilEU4imEE0hmkI0hWgK0RSiKURTiKYQTSGaQjSFaArRFKIpRFOIphBNIZpCNIVoCtEUoilEU4imEE0hmkI0hWgK0RSiKURTiKYQTSGaQjTLhJw/zpr9g+tlmYsUoilEU4imEE0hmkI0hWgK0RSiKURTiKYQTSGaQjSFaArRFKIpRPMASGMC0q+cA1EAAAAASUVORK5CYII=\" style=\"image-rendering: pixelated;\">\n",
              "            </div><div style=\"margin-right:10px; margin-top: 4px;\">\n",
              "              1 <br/>\n",
              "              <img src=\"data:image/PNG;base64,iVBORw0KGgoAAAANSUhEUgAAAMgAAACvCAAAAACdws6gAAAA7UlEQVR4nO3WsQ2AMAwAQUCMxP7rsAZt+iDlFP31Vvxyk/M9EM/c+PXPFusVoilEU4imEE0hmm1C7qWvT34UR9tcpBBNIZpCNIVoCtEUoilEU4imEE0hmkI0hWgK0RSiKURTiKYQTSGaQjSFaArRFKIpRFOIphBNIZpCNIVoCtEUoilEU4imEE0hmkI0hWgK0RSiKURTiKYQTSGaQjSFaArRFKIpRFOIphBNIZpCNIVoCtEUoilEU4imEE0hmkI0hWgK0RSiKURTiKYQTSGaQjSFaArRFKIpRFOIphBNIZpCNIVoCtEUoilEU4jmAwmxAq/7ok0vAAAAAElFTkSuQmCC\" style=\"image-rendering: pixelated;\">\n",
              "            </div><div style=\"margin-right:10px; margin-top: 4px;\">\n",
              "              2 <br/>\n",
              "              <img src=\"data:image/PNG;base64,iVBORw0KGgoAAAANSUhEUgAAAMgAAACvCAAAAACdws6gAAAA7klEQVR4nO3RAQ2AMAwAQUYQgBb8a0ELJgZclj8BbT8d97aG/e8DZilEU4imEE0hmkI0y4QcXy+8Xpq7zEcK0RSiKURTiKYQzTj/vmCSZT5SiKYQTSGaQjSFaArRFKIpRFOIphBNIZpCNIVoCtEUoilEU4imEE0hmkI0hWgK0RSiKURTiKYQTSGaQjSFaArRFKIpRFOIphBNIZpCNIVoCtEUoilEU4imEE0hmkI0hWgK0RSiKURTiKYQTSGaQjSFaArRFKIpRFOIphBNIZpCNIVoCtEUoilEU4imEE0hmkI0hWgK0RSiKURTiKYQzQNSTgJ/r9sKgwAAAABJRU5ErkJggg==\" style=\"image-rendering: pixelated;\">\n",
              "            </div><div style=\"margin-right:10px; margin-top: 4px;\">\n",
              "              3 <br/>\n",
              "              <img src=\"data:image/PNG;base64,iVBORw0KGgoAAAANSUhEUgAAAMgAAACvCAAAAACdws6gAAAA7UlEQVR4nO3cMQqAQAwAQRX/5+v8r7Wl3IHDsdMHsqTPfm1D7rHxeY6/F5ilEE0hmkI0hWgK0RSiKURTiKYQTSGaQjSFaArRFKIpRFOIphBNIZpCNIVoCtEUoilEU4imEE0hmkI0hWgK0RSiKURTiKYQTSGaQjSFaArRFKIpRFOIphBNIZpCNIVoCtEUoilEU4imEE0hmkI0hWgK0RSiKURzfh9hXvy+LHORQjSFaArRFKIpRFOIphBNIZpCNIVoCtEUoilEU4imEE0hmkI0hWgK0RSiKURTiKYQTSGaQjSFaArRFKIpRFOIZpmQB87aAtnQvMsNAAAAAElFTkSuQmCC\" style=\"image-rendering: pixelated;\">\n",
              "            </div><div style=\"margin-right:10px; margin-top: 4px;\">\n",
              "              4 <br/>\n",
              "              <img src=\"data:image/PNG;base64,iVBORw0KGgoAAAANSUhEUgAAAMgAAACvCAAAAACdws6gAAAA7klEQVR4nO3dwQmAMBAAQRWbtF8L8+tXDGQIO//LsVwB2e9tmGvcU98dM5ePVIimEE0hmkI0hWgK0RSiKURTiKYQTSGaQjSFaArRFKIpRFOIphBNIZpCNIVoCtEUoilEU4imEE0hmkI0hWgK0RSiKURTiKYQTSGaQjSFaArRFKIpRFOIphBNIZpCNIVoCtEUoilEU4imEE0hmkI0hWgK0RSiKURTiKYQTSGaQjSFaJYJOX/OT/0Y4m2ZixSiKURTiKYQTSGaQjSFaArRFKIpRFOIphBNIZpCNIVoCtEUoilEU4imEE0hmkI0hWgK0TxAzALWg73RRQAAAABJRU5ErkJggg==\" style=\"image-rendering: pixelated;\">\n",
              "            </div><div style=\"margin-right:10px; margin-top: 4px;\">\n",
              "              5 <br/>\n",
              "              <img src=\"data:image/PNG;base64,iVBORw0KGgoAAAANSUhEUgAAAMgAAACvCAAAAACdws6gAAAA8ElEQVR4nO3dMQqAMBAAQRX//w97H2htIaQQMoSd9lLccg/Ifm0j7qFXMx2zF/hLIZpCNIVoCtEUoilEU4imEE0hmkI0hWgK0RSiKURTiKYQTSGaQjSFaArRFKIpRFOIphBNIZpCNIVoCtEUoilEU4imEE0hmkI0hWgK0RSiKURTiKYQTSGaQjSFaArRFKIpRFOIphBNIZpCNIVoCtEUoilEU4imEE0hmkI0hWgK0RSiKURTiKYQTSGaQjSFaArRFKIpRFOIphBNIZpCNOfnxP+49WWZixSiKURTiKYQTSGaQjSFaArRFKIpRFOIZpmQB5+dA3FAkOKHAAAAAElFTkSuQmCC\" style=\"image-rendering: pixelated;\">\n",
              "            </div><div style=\"margin-right:10px; margin-top: 4px;\">\n",
              "              6 <br/>\n",
              "              <img src=\"data:image/PNG;base64,iVBORw0KGgoAAAANSUhEUgAAAMgAAACvCAAAAACdws6gAAAA7ElEQVR4nO3bsQ2AMAwAQUAMy+xMQZ0+IqfobwBbL9c+32OhZ96oa96otQrRFKIpRFOIphBNIZpCNIVoCtEUoilEU4imEE0hmkI0hWgK0RSiKURTiKYQTSGaQjSFaArRFKIpRFOIphBNIZptQu6/F078tBhsc5FCNIVoCtEUoilEU4imEE0hmkI0hWgK0RSiKURTiKYQTSGaQjSFaArRFKIpRFOIphBNIZpCNIVoCtEUoilEU4imEE0hmkI0hWgK0RSiKURTiKYQTSGaQjSFaArRFKIpRFOIphBNIZpCNIVoCtEUoilEU4imEM0H+mUDGvbilowAAAAASUVORK5CYII=\" style=\"image-rendering: pixelated;\">\n",
              "            </div><div style=\"margin-right:10px; margin-top: 4px;\">\n",
              "              7 <br/>\n",
              "              <img src=\"data:image/PNG;base64,iVBORw0KGgoAAAANSUhEUgAAAMgAAACvCAAAAACdws6gAAAA70lEQVR4nO3YMQqAMBAAQRU/4/8/Z2ltIaQQMoSd9lLccl32extxDb2a6Zi9wF8K0RSiKURTiKYQTSGaQjSFaArRFKIpRLNMyPk58f/kXpa5SCGaQjSFaArRFKIpRFOIphBNIZpCNIVoCtEUoilEU4imEE0hmkI0hWgK0RSiKURTiKYQTSGaQjSFaArRFKIpRFOIphBNIZpCNIVoCtEUoilEU4imEE0hmkI0hWgK0RSiKURTiKYQTSGaQjSFaArRFKIpRFOIphBNIZpCNIVoCtEUoilEU4imEE0hmkI0hWgK0RSiKURTiKYQTSGaQjQPYLsCqnWft00AAAAASUVORK5CYII=\" style=\"image-rendering: pixelated;\">\n",
              "            </div><div style=\"margin-right:10px; margin-top: 4px;\">\n",
              "              8 <br/>\n",
              "              <img src=\"data:image/PNG;base64,iVBORw0KGgoAAAANSUhEUgAAAMgAAACvCAAAAACdws6gAAAA8ElEQVR4nO3RwQmAQBAEQU8MyKANyYCMwIcgXHNUffczzY5zW8M+e8BfhNQIqRFSI6RGSI2QGiE1QmqE1AipEVIjpEZIjZAaITVCaoTUCKkRUiOkRkiNkBohNUJqhNQIqRFSI6RGSI2QGiE1QmqE1AipEVIjpEZIjZAaITVCaoTUCKkRUnPMHvDR9XZY5iNCaoTUCKkRUiOkZtyzF/xkmY8IqRFSI6RGSI2QGiE1QmqE1AipEVIjpEZIjZAaITVCaoTUCKkRUiOkRkiNkBohNUJqhNQIqRFSI6RGSI2QGiE1QmqE1AipEVIjpEZIzTIhD6kbAwczjD7eAAAAAElFTkSuQmCC\" style=\"image-rendering: pixelated;\">\n",
              "            </div><div style=\"margin-right:10px; margin-top: 4px;\">\n",
              "              9 <br/>\n",
              "              <img src=\"data:image/PNG;base64,iVBORw0KGgoAAAANSUhEUgAAAMgAAACvCAAAAACdws6gAAAA70lEQVR4nO3bsQ2AMAwAQUAsw/5DsQYtFOmQOKK/zkrjl+us5zJwjB5M29cLvKUQTSGaQjSFaArRFKIpRFOIphBNIZpCNIVoCtEUoilEU4imEE0hmkI0hWgK0RSiKURTiKYQTSGaQjSFaArRFKIpRFOIphBNIZpCNIVopgnZH9PPvrXeTXORQjSFaArRFKIpRFOIphBNIZpCNIVoCtEUoilEU4imEE0hmkI0hWgK0RSiKURTiKYQTSGaQjSFaArRFKIpRFOIphBNIZpCNIVoCtEUoilEU4imEE0hmkI0hWgK0RSiKURTiKYQTSGaQjQXq/ACmR1DoWsAAAAASUVORK5CYII=\" style=\"image-rendering: pixelated;\">\n",
              "            </div></div>"
            ],
            "text/plain": [
              "<IPython.core.display.HTML object>"
            ]
          },
          "metadata": {
            "tags": []
          }
        },
        {
          "output_type": "stream",
          "text": [
            "Color channels (vertical stripes are 'apples'\n"
          ],
          "name": "stdout"
        },
        {
          "output_type": "display_data",
          "data": {
            "text/html": [
              "<div style=\"display: flex; flex-direction: row;\"><div style=\"margin-right:10px; margin-top: 4px;\">\n",
              "              0 <br/>\n",
              "              <img src=\"data:image/PNG;base64,iVBORw0KGgoAAAANSUhEUgAAAMgAAACvCAIAAAA3ywYrAAACeElEQVR4nO3bsUlEURBA0V0xEizAMmzCVgwNtABbMLUMMbIG6zG2BJ8wV/ct58Sf4QeXlwxzvL79PCz4ePj68Zu7l6vzHjVo5a8Wf+k0R12sfAS/JSwSwiIhLBLCIiEsEsIiISwSwiIhLBLCIiEsEpdbbzr/eNSgfTfxi6O8WCSERUJYJIRFQlgkhEVCWCSERUJYJIRFQlgkjg5WZ0ed5pbTwSpnQlgkhEVCWCSERUJYJIRFQlgkhEVCWCSERUJYJBysDo/ad30+O8qLRUJYJIRFQlgkhEVCWCSERUJYJIRFQlgkhEXCwerwqH23nLOjvFgkhEVCWCSERUJYJIRFQlgkhEVCWCSERUJYJIRFwsHq8Kh91+ezo7xYJIRFQlgkhEVCWCSERUJYJIRFQlgkhEVCWCQcrA6P2nfLOTvKi0VCWCSERUJYJIRFQlgkhEVCWCSERUJYJIRFQlgkHKwOj9p3fT47yotFQlgkhEVCWCSERUJYJIRFQlgkhEVCWCSERcLB6vCofbecs6O8WCSERUJYJIRFQlgkhEVCWCSERUJYJIRFQlgk3BUOj9p3yzk7yotFQlgkhEVCWCSERUJYJIRFQlgkhEVCWCSERUJYJBysDo9a3HmvWPzzFQ5WORPCIiEsEsIiISwSwiIhLBLCIiEsEsIiISwSDlaHRw2uJhed4ML04MUiIiwSwiIhLBLCIiEsEsIiISwSwiIhLBLCIiEsEsf//oGdvN3cTI16fX6cGnW4f5qa9D41yItFRFgkhEVCWCSERUJYJIRFQlgkhEVCWCSERUJYJIRFQlgkhEVCWCSERUJYJIRFQlgkhEVCWCSERUJYJL4BxlQciGeGW0kAAAAASUVORK5CYII=\" style=\"image-rendering: pixelated;\">\n",
              "            </div><div style=\"margin-right:10px; margin-top: 4px;\">\n",
              "              1 <br/>\n",
              "              <img src=\"data:image/PNG;base64,iVBORw0KGgoAAAANSUhEUgAAAMgAAACvCAIAAAA3ywYrAAACgElEQVR4nO3bsW1UURBAURYhUcOGRG6GGgixAyQCuwA3QEZE6BrchEtyRgl8S3PX7y3nxF+jH1y9ZDSnu18vHw74/PvbP795/fFk1JE5/8Ooj0c+grcSFglhkRAWCWGREBYJYZEQFglhkRAWCWGREBaJ088vN0e+W3PTueCofdfns6O8WCSERUJYJIRFQlgkhEVCWCSERUJYJIRFQlgkTg5WZ0ddfss5yMEqqxMWCWGREBYJYZEQFglhkRAWCWGREBYJYZEQFolFD1YPGlzT7nuwOsjBKqsTFglhkRAWCWGREBYJYZEQFglhkRAWCWGR+LTvaehBV3+wuuYoLxYJYZEQFglhkRAWCWGREBYJYZEQFglhkRAWCWGRWPRgdd/b162X+g5WWZ2wSAiLhLBICIuEsEgIi4SwSAiLhLBICIvE3gerC96+rrkwdbDKlRAWCWGREBYJYZEQFglhkRAWCWGREBYJYZEQFonrP1i98KitN/EOVlmdsEgIi4SwSAiLhLBICIuEsEgIi4SwSAiLhIPV4VH7bjlnR3mxSAiLhLBICIuEsEgIi4SwSAiLhLBICIuEsEi4Kxwete+Wc3aUF4uEsEgIi4SwSAiLhLBICIuEsEgIi4SwSAiLhLBIOFgdHrXv+nx2lBeLhLBICIuEsEgIi4SwSAiLhLBICIuEsEgIi4SD1eFR+245Z0d5sUgIi4SwSAiLhLBICIuEsEgIi4SwSAiLhLBICIvE6b1/IPd1btT383lq1J/H+6lRz7cPU6MGebFICIuEsEgIi4SwSAiLhLBICIuEsEgIi4SwSAiLhLBICIuEsEgIi4SwSAiLhLBICIuEsEgIi4SwSAiLxF9gKhVdF26SkQAAAABJRU5ErkJggg==\" style=\"image-rendering: pixelated;\">\n",
              "            </div><div style=\"margin-right:10px; margin-top: 4px;\">\n",
              "              2 <br/>\n",
              "              <img src=\"data:image/PNG;base64,iVBORw0KGgoAAAANSUhEUgAAAMgAAACvCAIAAAA3ywYrAAACq0lEQVR4nO3dwYlUQRRA0WnpJAZcCm4MxQSMwAQMwwQ0AfcyGZiCGxeuJwWXJiBYQt3y9cw566b4DZe/ebxfl5e/ft4t+PLm9V9/8+77D0etnLNo8clXLD7Vxj/4YuVH8K+ERUJYJIRFQlgkhEVCWCSERUJYJIRFQlgkhEXien48efiojQ7PvBcNnMTfeWMRERYJYZEQFglhkRAWCWGREBYJYZEQFglhkbhuPGvmlumiXWPHmQNTC6s8EcIiISwSwiIhLBLCIiEsEsIiISwSwiIhLBLCIrFzCD1zy3SmmVumFlaZTlgkhEVCWCSERUJYJIRFQlgkhEVCWCSEReK2F1ZXHN59velrUS2sMp2wSAiLhLBICIuEsEgIi4SwSAiLhLBICIuEsEg8/YXV8/PXwyys8owIi4SwSAiLhLBICIuEsEgIi4SwSAiLhLBIXGd+QXXR4e3Qw6uhiyys8owIi4SwSAiLhLBICIuEsEgIi4SwSAiLhLBICIvE0IXVjYPqw081c6hvYZUnQlgkhEVCWCSERUJYJIRFQlgkhEVCWCSEReLy7dXSuHDmrubANdrzN6yuOP9U3lgkhEVCWCSERUJYJIRFQlgkhEVCWCSERUJYJHbuFc50u9uO5z8WbK+Q6YRFQlgkhEVCWCSERUJYJIRFQlgkhEVCWCSERWLoDauHLyC9G3nD6k0f5Y1FQlgkhEVCWCSERUJYJIRFQlgkhEVCWCSERWLoRZismznG9cYiISwSwiIhLBLCIiEsEsIiISwSwiIhLBLCIiEsEpf//QB/9vbTx11HPbz/sOuor/f3u476/Pi466iHXQdt5Y1FQlgkhEVCWCSERUJYJIRFQlgkhEVCWCSERUJYJIRFQlgkhEVCWCSERUJYJIRFQlgkhEVCWCSERUJYJH4DZWbOOsMmOJIAAAAASUVORK5CYII=\" style=\"image-rendering: pixelated;\">\n",
              "            </div><div style=\"margin-right:10px; margin-top: 4px;\">\n",
              "              3 <br/>\n",
              "              <img src=\"data:image/PNG;base64,iVBORw0KGgoAAAANSUhEUgAAAMgAAACvCAIAAAA3ywYrAAAClElEQVR4nO3dsU1cURBAUdbaQhy5Bgd0AHIZtIHJHJgCKIQOCGjACQ3QhkvwQ5pr/ludE6PZDa5eMhr29OvP16sF18+v//ybl5vvlz1qxeLHrVj8Siuf+P9HfVn5I/goYZEQFglhkRAWCWGREBYJYZEQFglhkRAWCWGROG+96TzmqBX7buIXR3mxSAiLhLBICIuEsEgIi4SwSAiLhLBICIuEsEicHKzOjhrcJy465sLUi0VCWCSERUJYJIRFQlgkhEVCWCSERUJYJIRFQlgkHKwOjxr8r8mLDriJv/JiEREWCWGREBYJYZEQFglhkRAWCWGREBYJYZE473saujhq0AFXk4cd5cUiISwSwiIhLBLCIiEsEsIiISwSwiIhLBLCIiEsEg5WP2DfTbyDVS6EsEgIi4SwSAiLhLBICIuEsEgIi4SwSAiLxOUfrB7zF1YvfpQXi4SwSAiLhLBICIuEsEgIi4SwSAiLhLBICIuEsEg4WB0ete/6fHaUF4uEsEgIi4SwSAiLhLBICIuEsEgIi4SwSAiLhIPV4VH7bjlnR3mxSAiLhLBICIuEsEgIi4SwSAiLhLBICIuEsEicB2dtvdtyVzg7yotFQlgkhEVCWCSERUJYJIRFQlgkhEVCWCSERUJYJCaX0FsvTRd31VMOuD6fHeXFIiEsEsIiISwSwiIhLBLCIiEsEsIiISwSwiLhhzDnR63Yd2HqYJXPJCwSwiIhLBLCIiEsEsIiISwSwiIhLBLCIiEsEqfP/gK5b/f3U6PeHh6mRt0+/Z4adffzcWrUj/f3qVFeLBLCIiEsEsIiISwSwiIhLBLCIiEsEsIiISwSwiIhLBLCIiEsEsIiISwSwiIhLBLCIiEsEsIiISwSwiLxFzfoERZaj0rrAAAAAElFTkSuQmCC\" style=\"image-rendering: pixelated;\">\n",
              "            </div><div style=\"margin-right:10px; margin-top: 4px;\">\n",
              "              4 <br/>\n",
              "              <img src=\"data:image/PNG;base64,iVBORw0KGgoAAAANSUhEUgAAAMgAAACvCAIAAAA3ywYrAAACh0lEQVR4nO3cwU1bURBAUZO4ALZ0QhEobdAAPbBJA2kDuQg6Ics0gEQDSHyUufb71jlra/QXV28zGt/8PT0fNri//fnlb17/vRu1Zc7sqEGDX/Xjvz8GPiEsEsIiISwSwiIhLBLCIiEsEsIiISwSwiIhLBLHwVnn378uOOr86/NBg1/lxSIhLBLCIiEsEsIiISwSwiIhLBLCIiEsEsIicRxcpW105o3boAVXk8uO8mKREBYJYZEQFglhkRAWCWGREBYJYZEQFglhkRAWCQer37Dmweqao7xYJIRFQlgkhEVCWCSERUJYJIRFQlgkhEVCWCSOu15IOVhddpQXi4SwSAiLhLBICIuEsEgIi4SwSAiLhLBICIuEsEhM/mvyrkdtsd9NvINVroSwSAiLhLBICIuEsEgIi4SwSAiLhLBICIvE9R+sun29yCgvFglhkRAWCWGREBYJYZEQFglhkRAWCWGREBYJYZFwsDo/aov9buIdrHJJwiIhLBLCIiEsEsIiISwSwiIhLBLCIiEsEg5Wh0etuZrcyMEqqxMWCWGREBYJYZEQFglhkRAWCWGREBYJYZFwVzg8as0t50buClmdsEgIi4SwSAiLhLBICIuEsEgIi4SwSAiLhLBIOFgdHrXf9fnsKC8WCWGREBYJYZEQFglhkRAWCWGREBYJYZEQFgkHq8Oj9rvlnB3lxSIhLBLCIiEsEsIiISwSwiIhLBLCIiEsEsIiISwSN5f+gM89/Pk9Ner0+DQ16uXubmrUr7e3qVEPU4MOh9PcKC8WCWGREBYJYZEQFglhkRAWCWGREBYJYZEQFglhkRAWCWGREBYJYZEQFglhkRAWCWGREBYJYZEQFglhkfgAIloCZ2miUG4AAAAASUVORK5CYII=\" style=\"image-rendering: pixelated;\">\n",
              "            </div><div style=\"margin-right:10px; margin-top: 4px;\">\n",
              "              5 <br/>\n",
              "              <img src=\"data:image/PNG;base64,iVBORw0KGgoAAAANSUhEUgAAAMgAAACvCAIAAAA3ywYrAAACl0lEQVR4nO3dwW3VUBBAUQf+Kit2UeqgjYg2aIAyaCANpACUNqgjWxpAooFIONK7/uPknLU18uLqbZ7Gvrm9e9p2+PL773+f+fP1s1F75nyEUZ/2PARvJSwSwiIhLBLCIiEsEsIiISwSwiIhLBLCIiEsEpeZN50LnfetznsTvzmxiAiLhLBICIuEsEgIi4SwSAiLhLBICIuEsEhcFt4izXT8Ndl5WVhlOmGREBYJYZEQFglhkRAWCWGREBYJYZEQFglhkbhc+wVeN3ON9uDV0ONZWGU6YZEQFglhkRAWCWGREBYJYZEQFglhkRAWiZV3hTOvyfxh9SqjnFgkhEVCWCSERUJYJIRFQlgkhEVCWCSERUJYJIRFYugfVhdeVM9cWJ3JwirTCYuEsEgIi4SwSAiLhLBICIuEsEgIi4SwSKz8w6pRO+fsHHU8C6tMJywSwiIhLBLCIiEsEsIiISwSwiIhLBLCIiEsEiu/mjzz/nXmwuq7H+XEIiEsEsIiISwSwiIhLBLCIiEsEsIiISwSwiIx9A+rC+8Tz7uweupRTiwSwiIhLBLCIiEsEsIiISwSwiIhLBLCIiEsEkP3Cs876viv1tor5AMRFglhkRAWCWGREBYJYZEQFglhkRAWCWGREBaJy/FfpJ15aTpwYXWngTfxmxOLiLBICIuEsEgIi4SwSAiLhLBICIuEsEgIi8T7X1hdaODV5NhRTiwSwiIhLBLCIiEsEsIiISwSwiIhLBLCIiEsEsIicXPtF3jdw+PPVaOev/9YNeph1aBte1436tf9/apR315eVo1yYpEQFglhkRAWCWGREBYJYZEQFglhkRAWCWGREBYJYZEQFglhkRAWCWGREBYJYZEQFglhkRAWCWGREBaJfxrT3jqNm5MCAAAAAElFTkSuQmCC\" style=\"image-rendering: pixelated;\">\n",
              "            </div><div style=\"margin-right:10px; margin-top: 4px;\">\n",
              "              6 <br/>\n",
              "              <img src=\"data:image/PNG;base64,iVBORw0KGgoAAAANSUhEUgAAAMgAAACvCAIAAAA3ywYrAAACgElEQVR4nO3dsU1DQRBAQYNcDnUQWaR0QEgNFAAFUAI5pdADIQ0Q0AASH+ke/87MxNbKwdMlq7UvPu6vDxvcvn3++JmXq6NRW+b8h1GXWz4EvyUsEsIiISwSwiIhLBLCIiEsEsIiISwSwiIhLBLHpTedE47auPMeaMJN/MGLRURYJIRFQlgkhEVCWCSERUJYJIRFQlgkhEXiuO5p6JyjBq4mN/rjUQ5W2ZOwSAiLhLBICIuEsEgIi4SwSAiLhLBICIuEsEhMerA60JwHq388aiAHq+xJWCSERUJYJIRFQlgkhEVCWCSERUJYJIRFYu2D1S3WPVhdepQXi4SwSAiLhLBICIuEsEgIi4SwSAiLhLBICIuEsEhMerC67qill/r+YZXZCYuEsEgIi4SwSAiLhLBICIuEsEgIi4SwSKx9sDrh77quu+UcO8qLRUJYJIRFQlgkhEVCWCSERUJYJIRFQlgkhEVCWCQcrP7Cupt4B6ucCWGREBYJYZEQFglhkRAWCWGREBYJYZEQFonzP1j1D6u7jPJikRAWCWGREBYJYZEQFglhkRAWCWGREBYJYZFwVzh41LpbzrGjvFgkhEVCWCSERUJYJIRFQlgkhEVCWCSERUJYJIRFwsHq4FHrrs/HjvJikRAWCWGREBYJYZEQFglhkRAWCWGREBYJYZE4/4PVgSZcTU47yotFQlgkhEVCWCSERUJYJIRFQlgkhEVCWCSERUJYJC72/gLfO40b9Tpu1ECn58dRo+4enkaNunl/HzXKi0VCWCSERUJYJIRFQlgkhEVCWCSERUJYJIRFQlgkhEVCWCSERUJYJIRFQlgkhEVCWCSERUJYJIRFQlgkvgBTHBH+BgzXBQAAAABJRU5ErkJggg==\" style=\"image-rendering: pixelated;\">\n",
              "            </div><div style=\"margin-right:10px; margin-top: 4px;\">\n",
              "              7 <br/>\n",
              "              <img src=\"data:image/PNG;base64,iVBORw0KGgoAAAANSUhEUgAAAMgAAACvCAIAAAA3ywYrAAACrUlEQVR4nO3dsW1UQRRA0V20DZAguQkqsdwEAQ1QBg0QUAApciVuwiKiBVICggnm/v8WnxNbs3/lq588vZ3rh18/Lgs+ffy98mcrvr+83/VxBx+14vgn3/Vxixaf6t2uz4O/CYuEsEgIi4SwSAiLhLBICIuEsEgIi4SwSAiLxG3m0JRTrPwHF+fZ3lgkhEVCWCSERUJYJIRFQlgkhEVCWCSERUJYJK4bF1YXp0j/91F3vWW68Qt6Y5EQFglhkRAWCWGREBYJYZEQFglhkRAWCWGREBaJExZWN85WVxz8BTfOvBcNnMRfvLGICIuEsEgIi4SwSAiLhLBICIuEsEgIi4SwSNzudzV00fHDuxX3e82shVXOJCwSwiIhLBLCIiEsEsIiISwSwiIhLBLCIiEsEjsXVmeaeYXszKG+hVWmExYJYZEQFglhkRAWCWGREBYJYZEQFglhkdi5sLro4LHjzIXVmSysMp2wSAiLhLBICIuEsEgIi4SwSAiLhLBICIuEsEjczn4ABrGwynTCIiEsEsIiISwSwiIhLBLCIiEsEsIiISwSJ/y47cE3rG508A/gLnLDKm+IsEgIi4SwSAiLhLBICIuEsEgIi4SwSAiLxM69wpl3as58qo1chMkbIiwSwiIhLBLCIiEsEsIiISwSwiIhLBLCIiEsEifcsHqw4+evK2ZumVpYZTphkRAWCWGREBYJYZEQFglhkRAWCWGREBaJoRdhzhyTbTRzy9TCKtMJi4SwSAiLhLBICIuEsEgIi4SwSAiLhLBICIvE9ewH+LfHb193HfX8+cuuox53HXS5PO876ufDw66jnl5fdx3ljUVCWCSERUJYJIRFQlgkhEVCWCSERUJYJIRFQlgkhEVCWCSERUJYJIRFQlgkhEVCWCSERUJYJIRFQlgk/gCrYbbAOKXvrAAAAABJRU5ErkJggg==\" style=\"image-rendering: pixelated;\">\n",
              "            </div><div style=\"margin-right:10px; margin-top: 4px;\">\n",
              "              8 <br/>\n",
              "              <img src=\"data:image/PNG;base64,iVBORw0KGgoAAAANSUhEUgAAAMgAAACvCAIAAAA3ywYrAAACdElEQVR4nO3bsUkFQRhGUddmBAsQ7MHEIrQOC9AC1NQS7MHY0MD4tWEDgiv8F9/gOfHyscFlkmG2z4vrkx3enj9+/Oby5szUnp3/MHW65yP4LWGREBYJYZEQFglhkRAWCWGREBYJYZEQFglhkdhe3s/3fHecN51HOLXu9fnslBOLhLBICIuEsEgIi4SwSAiLhLBICIuEsEgIi8Tmwers1Lq3nLNTTiwSwiIhLBLCIiEsEsIiISwSwiIhLBLCIiEsEsIi4cHq8NS61+ezU04sEsIiISwSwiIhLBLCIiEsEsIiISwSwiIhLBIerA5PrXvLOTvlxCIhLBLCIiEsEsIiISwSwiIhLBLCIiEsEsIiISwSHqwOT617fT475cQiISwSwiIhLBLCIiEsEsIiISwSwiIhLBLCIuHB6vDUurecs1NOLBLCIiEsEsIiISwSwiIhLBLCIiEsEsIiISwSwiLhwerw1LrX57NTTiwSwiIhLBLCIiEsEsIiISwSwiIhLBLCIiEsEh6sDk+te8s5O+XEIiEsEsIiISwSwiIhLBLCIiEsEsIiISwSwiLhXeHw1Lq3nLNTTiwSwiIhLBLCIiEsEsIiISwSwiIhLBLCIiEsEsIi4cHq/NSUdW/iT5xYRIRFQlgkhEVCWCSERUJYJIRFQlgkhEVCWCQ8WJ2fmrL0hakTi4SwSAiLhLBICIuEsEgIi4SwSAiLhLBICIuEsEhsf/0D37t6vJ+aur17mJp6Ohympl6nho6VE4uEsEgIi4SwSAiLhLBICIuEsEgIi4SwSAiLhLBICIuEsEgIi4SwSAiLhLBICIuEsEgIi4SwSAiLhLBIfAHeGyFz5GQ7VgAAAABJRU5ErkJggg==\" style=\"image-rendering: pixelated;\">\n",
              "            </div><div style=\"margin-right:10px; margin-top: 4px;\">\n",
              "              9 <br/>\n",
              "              <img src=\"data:image/PNG;base64,iVBORw0KGgoAAAANSUhEUgAAAMgAAACvCAIAAAA3ywYrAAACqElEQVR4nO3dsW1UQRRA0V3kBkhAbsKVWDRBQAMk9EABELgAUuRKaMIiogUaQGKQ5u6+v5wTf739lq4mGT3/86e3X04Lnn68/usz7x9+GbUy538Y9WrlIfhXwiIhLBLCIiEsEsIiISwSwiIhLBLCIiEsEsIicX7z89vKc4tXuSsWbzFXDLx/vfz1+a6fW7T4Vk4sEsIiISwSwiIhLBLCIiEsEsIiISwSwiIhLBJ3M++2Nr7VRgOvJhdHLbKwynTCIiEsEsIiISwSwiIhLBLCIiEsEsIiISwSwiJxN/PS9PKjVsxcWJ05yolFQlgkhEVCWCSERUJYJIRFQlgkhEVCWCSEReIKC6u3PerQF6YWVplOWCSERUJYJIRFQlgkhEVCWCSERUJYJIRFQlgkdn5h9fL/5Xfgx1qPe32+d5QTi4SwSAiLhLBICIuEsEgIi4SwSAiLhLBICIvEsRdWV9z8wupGFlaZTlgkhEVCWCSERUJYJIRFQlgkhEVCWCSERUJYJIZ+YXWjC/+BMy/1F1lYZTphkRAWCWGREBYJYZEQFglhkRAWCWGREBaJoQurG938wurMUU4sEsIiISwSwiIhLBLCIiEsEsIiISwSwiIhLBLH/hDmCnuFVxnlxCIhLBLCIiEsEsIiISwSwiIhLBLCIiEsEsIiISwSQxdWjzvq0FumFlaZTlgkhEVCWCSERUJYJIRFQlgkhEVCWCSERWLowupxRx33lnPvKCcWCWGREBYJYZEQFglhkRAWCWGREBYJYZEQFglhkThf+wX+7Pv9/a5R715edo163DXodHreN+rx6+ddo54/fNw1yolFQlgkhEVCWCSERUJYJIRFQlgkhEVCWCSERUJYJIRFQlgkhEVCWCSERUJYJIRFQlgkhEVCWCSERUJYJH4Dw9YJPlV2c6UAAAAASUVORK5CYII=\" style=\"image-rendering: pixelated;\">\n",
              "            </div></div>"
            ],
            "text/plain": [
              "<IPython.core.display.HTML object>"
            ]
          },
          "metadata": {
            "tags": []
          }
        },
        {
          "output_type": "stream",
          "text": [
            "Visualization\n"
          ],
          "name": "stdout"
        },
        {
          "output_type": "display_data",
          "data": {
            "text/html": [
              "<div style=\"display: flex; flex-direction: row;\"><div style=\"margin-right:10px; margin-top: 4px;\">\n",
              "              0 <br/>\n",
              "              <img src=\"data:image/PNG;base64,iVBORw0KGgoAAAANSUhEUgAAAMgAAACrCAIAAACsWkQ9AAAET0lEQVR4nO3dS2vVVxSG8XX0eKGKgjXVYhVBTM5JM7PQQT0moqPSgT3RNAO/kB/DoVoVhNqO0rQ66EQqFHMp9VYsUjCpIjqwVPsV3g15CJHnN14s/iQPe5LNTuejTd3KjM1MhZNVtXx5fs3X5jt7MyfDyapaunY7nOzu3BpOPn/xOv+AYzOT4eTypflwcuybqTXf2bR2U75UyhmWEIYlhGEJYVhCGJYQhiWEYQlhWEIYlhCGJYRhCWFYQnQGs6fD0fxyQTF3Fhp2Xr0VTlbV0a8+Dyf//v5BOPnB+K78A57e/T2c7MWXC5biOwv5zqa1nlhCGJYQhiWEYQlhWEIYlhCGJYRhCWFYQhiWEIYlhGEJYVhCGJYQnZH4UZBey6MgS1fm07Xn0rX5zv7ZhkdBFq+nd2x608fDyfx6STVdhml4FmXtdzat9cQSwrCEMCwhDEsIwxLCsIQwLCEMSwjDEsKwhDAsIQxLCMMSotvwZ/D4ckExdxbynYtXfw4nq6o/fSJde/nHcLLtpY11vbPQdmklXuuJJYRhCWFYQhiWEIYlhGEJYVhCGJYQhiWEYQlhWEIYlhCGJURnZHP8dkN8uaDe17cbhvHbDRvnJgj0qZ5YQhiWEIYlhGEJYVhCGJYQhiWEYQlhWEIYlhCGJYRhCWFYQnTX/c/g6/92wzB+u+FK/HbDxrkJAn2qJ5YQhiWEYQlhWEIYlhCGJYRhCWFYQhiWEIYlhGEJYVhCGJYQvt1QC/HbDf347YbFlpsg/fzWRv4TAHY2rfXEEsKwhDAsIQxLCMMSwrCEMCwhDEsIwxLCsIQwLCEMSwjDEsKwhOiONdyv+Cnf2/CAR7y25VGQ9CZMVY0PB+HkAnBrpVp+Ai2XYdZ+Z9NaTywhDEsIwxLCsIQwLCEMSwjDEsKwhDAsIQxLCMMSwrCEMCwhOns3bwlHe+cm871LDXcW0rX5zvGzU+FktTwK0osfBVluuQlyZJj+BFZv3g4nd3/5RTj58FrDv4fJf1meWEIYlhCGJYRhCWFYQhiWEIYlhGEJYVhCGJYQhiWEYQlhWEJ0js+eDkfzywW13ncWFlr+Yj8+fSJdG7/dMDqd3oOoqvs3fg0nJz7+NJz87elCODl65lg4WS2/LE8sIQxLCMMSwrCEMCwhDEsIwxLCsIQwLCEMSwjDEsKwhDAsITqfHbwYjh7++m2+9/H17ena4X/h5JMb29KdLZ/64Nut4eSek3fDyb9+uJN/wNtDf4STHz7aH06uHngZTu5YuRBOVtXo+XfhpCeWEIYlhGEJYVhCGJYQhiWEYQlhWEIYlhCGJYRhCWFYQhiWEIYlRLc/OByO/jO3I9/bn3wTTq7O7Ux3DtKdTZ86NngdTv75y6tw8pOJdGdVPXl2L5xc2fdvOLltJf1PNhOnDoaTVbX6XXpvxxNLCMMSwrCEMCwhDEsIwxLCsIQwLCEMSwjDEsKwhDAsIQxLiP8BwjHz5VQ2bTEAAAAASUVORK5CYII=\" style=\"image-rendering: pixelated;\">\n",
              "            </div><div style=\"margin-right:10px; margin-top: 4px;\">\n",
              "              1 <br/>\n",
              "              <img src=\"data:image/PNG;base64,iVBORw0KGgoAAAANSUhEUgAAAMgAAACrCAIAAACsWkQ9AAAEeUlEQVR4nO3dzWqcZRiH8TvpKNaZSZtSUXChFOxMqnUkKCio2H03utKz8SQ8FMFlQcGFFjpUM29Si1Xxs1XT+aiapKmn8H+gF9lcv/XNM2+mV95Nbp6uTUablVmM18LJqhp2jx77scSZ0LHD3fX8AVYXT4WT/b2jcPLerfvh5LkL/XCyqlaX0kdt+PmlnGEJYVhCGJYQhiWEYQlhWEIYlhCGJYRhCWFYQhiWEIYlRI9YLqiqZXzs6dnDcPLv2w/CyTOPGv5iv9hKf7ta9iDyz69Bl34Dy3H6AM//kz7Bz7/fCier6vz60+GkbywhDEsIwxLCsIQwLCEMSwjDEsKwhDAsIQxLCMMSwrCEMCwhDEuIHnbTRjp898JxOHl19VE4eW30aThZVcMufQBoxWg16oWT/Z30UpDbr34fTh5/lv741fIN+MYSwrCEMCwhDEsIwxLCsIQwLCEMSwjDEsKwhDAsIQxLCMMSgroUZPFSeuyZaXrm0bvpmQ8//y89tOqvX9Phs8fpXSOLS+nCQrVcCpLvQTw7TXcWnrnyejhZVftdF076xhLCsIQwLCEMSwjDEsKwhDAsIQxLCMMSwrCEMCwhDEsIwxJibTLaDEcb725IVyHm8bEbs/w+iINwsqqu3nw/nLy2nV4JcXov//xaxjsLg93056KWVry7QSfLsIQwLCEMSwjDEsKwhDAsIQxLCMMSwrCEMCwhDEsIwxKi17Bc0PJncOLYxcX4Pogb4WBV1WF8JcT6F4fh5GL7yfwB8rsbGnYWZvG3utWytBIf6xtLCMMSwrCEMCwhDEsIwxLCsIQwLCEMSwjDEsKwhDAsIQxLiIa7G/KFhWrZWSD2IKhHHcWPupt/fi1HT4STgy69u2Ee7yxsxAsLTcf6xhLCsIQwLCEMSwjDEsKwhDAsIQxLCMMSwrCEMCwhDEsIwxLCsIToNayCNF0KAhx78o+6G9+0MT6VP0B+KQixDJOf2XSsbywhDEsIwxLCsIQwLCEMSwjDEsKwhDAsIQxLCMMSwrCEMCwhevlf7PMtgGpZBCCWC078UYfdcf4Aq/hSkI3ZSe5BNB3rG0sIwxLCsIQwLCEMSwjDEsKwhDAsIQxLCMMSwrCEMCwhDEuIhrsbhvEWQDUtAhDLBdCjdumZy3HDb2w//wbi5YLhLH2A+VbDIsZwlt5J4RtLCMMSwrCEMCwhDEsIwxLCsIQwLCEMSwjDEsKwhDAsIQxLiN7LBx+Ho3fm5/NzXzmcP/ZjLx/dDye7P/vhZFVdPtgPJ/dWP4WTz/3yVf4Afwym4eRTO4Nwcv9u+sp4Y/xJOFlV363SfyzfWEIYlhCGJYRhCWFYQhiWEIYlhGEJYVhCGJYQhiWEYQlhWEIYlhC933beC0ffnDzIz51+ezY99rVVOHl9uhlOvvPWvXCyqqbXN8LJyeTLcPLON+n/TVJV5174IZz8ce/fcPKDFz8MJ7++cSWcrKq3txfhpG8sIQxLCMMSwrCEMCwhDEsIwxLCsIQwLCEMSwjDEsKwhDAsIf4HtlX83FjiY3QAAAAASUVORK5CYII=\" style=\"image-rendering: pixelated;\">\n",
              "            </div><div style=\"margin-right:10px; margin-top: 4px;\">\n",
              "              2 <br/>\n",
              "              <img src=\"data:image/PNG;base64,iVBORw0KGgoAAAANSUhEUgAAAMgAAACrCAIAAACsWkQ9AAAFYklEQVR4nO3d32uWdRzG8c/W3bZapHMu6Qcltp6cZel0rTW3CmylB0EHLoIogiCIJCgl0qIzIemgksQRoYMUpGUgSkgnLX9sOZ1sC8Xtqf1um0NHY5tue9T+hes5uBDh/Tq++PJlvLlPdnM/OfVbV4Wm9WQiLiOipuQfcdlTWi4uH+vpEJfN5wrEZUTs+bBBXG5ueF9cPlM2o19gYWm9uOz89aC4XP7yJnE52/uTuIyIv0tXi8tc/VBAR1iwICxYEBYsCAsWhAULwoIFYcGCsGBBWLAgLFgQFiwICxbJ5UsZcfrK1Ar93K6qReJyafqsuGzufUhc3pzoFZcR0Tj6mbgc7h8Wly0L1LcAImJdZr+4zGxQ3wSZS/8oLntKK8RlRKR6WsUlTyxYEBYsCAsWhAULwoIFYcGCsGBBWLAgLFgQFiwICxaEBQvCggVhwSLJvTEnTq8UZPGljWUX28Vl++IHxWXj+Lfi8pM33hKXETF0ZEBc5l2/KS6/e/0L/QL6t0aqkzZx2S2/DJNKq2dmdSxPLFgQFiwICxaEBQvCggVhwYKwYEFYsCAsWBAWLAgLFoQFC8KCRXIjR/0hk6Lpq/q5HUtXissH2rL477rovo5pfTyyvkxcFvapV20c26ZfYLhP/dbIcflbI+sy6tsl3cuz+SiI/CoETyxYEBYsCAsWhAULwoIFYcGCsGBBWLAgLFgQFiwICxaEBQvCgkVy7fSoOJ2vq9XPLe09Ji6bhxeKy5mPp8Tl+YZCcRkRVX0d4rLivXfE5V9HmvQLFL59l7jce/Qrcbl97RZxybcbcDshLFgQFiwICxaEBQvCggVhwYKwYEFYsCAsWBAWLAgLFoQFi2Sw8FFx+kj6oH7uhWVPisvMb+p/1/eNfSoux/tHxGVEpF+tEZep9H5xObe+XL9A5Zlz4nJmq/p+R3FTWlx2V/HtBtw+CAsWhAULwoIFYcGCsGBBWLAgLFgQFiwICxaEBQvCggVhwSLn8M4j4vSj3R/o567atEBc5v+xVlz2/veLuEzV1YvLiJgbUN9ZODOk/obF0y9e0y/QckL9cZDaJT3iUr/qU9lctVW+Kk8sWBAWLAgLFoQFC8KCBWHBgrBgQViwICxYEBYsCAsWhAULwoIFYcEiaRzfJk5r7qnTzx0cOykuH55UP3Qx5Pl+ycXUGnH5Ut8ScXlhtEu/wIbJJ8Tl2cp7xeUtvypPLFgQFiwICxaEBQvCggVhwYKwYEFYsCAsWBAWLAgLFoQFC8KCRTJ0eFicfv7ua/q5O344JC4PVQ+Iy5+Pqt8v2b52i7iMiFS6XVzOP/+muLx2bFS/wHxdrbhMpY+qZ97qq/LEggVhwYKwYEFYsCAsWBAWLAgLFoQFC8KCBWHBgrBgQViwICxYJCPyBxEaf9+hn5tZv1JclredFpc5kSMuF+dMi8uI+PPfx8VledkJcTlyt/pXjYj780+Jy7ahFeKyKrdPXM5tXC0uI2IufUBc8sSCBWHBgrBgQViwICxYEBYsCAsWhAULwoIFYcGCsGBBWLAgLFgkX5e1iNNdw/v0cyuujovLQ3f0isvZojvF5aXj18VlRHyzRn29Yk/rZnG5syiLj0c0de4Wl7tWfSkuG0aOicsXMlm8CdJeUCIueWLBgrBgQViwICxYEBYsCAsWhAULwoIFYcGCsGBBWLAgLFgQFiwICxZJV6ZLnF4drNTP7c69Ii6L8/aKywP534vLiYk8cRkRnZkecTlZ8py4PDWr/jZJRExdrhaX54v7xeV8/7PqmXkZcRkRGxcl4pInFiwICxaEBQvCggVhwYKwYEFYsCAsWBAWLAgLFoQFC8KCBWHB4n8r/xOjMc8klQAAAABJRU5ErkJggg==\" style=\"image-rendering: pixelated;\">\n",
              "            </div><div style=\"margin-right:10px; margin-top: 4px;\">\n",
              "              3 <br/>\n",
              "              <img src=\"data:image/PNG;base64,iVBORw0KGgoAAAANSUhEUgAAAMgAAACrCAIAAACsWkQ9AAAEfklEQVR4nO3dzWqcZRiH8XsmY2SaNEpLbUpnUhua6iogxC7cdJNJlIp06Ql4Eu7duvAg3CtI0wmCiG4FixtBG9MRLSZNyUfVNl+ewv9dXMSB67e+eXiYXHk378Pztt756HplRsPTcLKq+iutcPL3Ybrm3GAinNxcP0oXreoN0q3ufHESTi6szucb+HHtYTh57vx+OPn3yUw4mf+lqkkD7XxRKWdYQhiWEIYlhGEJYVhCGJYQhiWEYQlhWEIYlhCGJYRhCdHqX3s9HIVeg18bdMLJR+vH4WRvJRysarLVJkc2GpwEmdx7Hk4eTk6Gk1c/SB8Z0KEVn1hCGJYQhiWEYQlhWEIYlhCGJYRhCWFYQhiWEIYlhGEJYVhCGJYQrTG6FKS3nP4bbAwP00WrLpwehJNPWtPh5PXV9P6Sqtr6fCucfPnDqXBy7+tuOOmlIBonhiWEYQlhWEIYlhCGJYRhCWFYQhiWEIYlhGEJYVhCGJYQZ38pyFx8KchomH7IZHYpPYZQVRMP0pMIE7fSNX/7diffwI3lS+Hk5lfpslfupn8sLwXRODEsIQxLCMMSwrCEMCwhDEsIwxLCsIQwLCEMSwjDEsKwhOjk76uh1+CjYfohk358DmL7y/1wsqpuvjsfTv60thFOzt1Nt1pVvw7TMwt94MyCdzdonBiWEIYlhGEJYVhCGJYQhiWEYQlhWEIYlhCGJYRhCWFYQozV3Q3r6TmI3ko4WMUcBGh0EqTX4Cse6bLEmo2W9YklhGEJYVhCGJYQhiWEYQlhWEIYlhCGJYRhCWFYQhiWEIYlxP/h7ob0exP53Q2P4jWryRv7/BfI16yzPrMAbdUnlhCGJYRhCWFYQhiWEIYlhGEJYVhCGJYQhiWEYQlhWEIYlhCGJUTn8UE3HO22H+frjoYz4WR/MJGu2eBSkLE5tQIte+Zb9YklhGEJYVhCGJYQhiWEYQlhWEIYlhCGJYRhCWFYQhiWEIYlROfGi8vh6C///pOvO3cHOLMwSP8NRsN0zaq6OkgnN9bSZS+eHuQbeHhvOpycfy/+VYHvuDRa1ieWEIYlhGEJYVhCGJYQhiWEYQlhWEIYlhCGJYRhCWFYQhiWEK3lmbfT2fcbHBn4+fudcHIu/pDJ5nr8cZRGb+zvp2/sryylxxA6D9JjCFXVvpVObn63F072V9M1R/cb/Fb9VU836EwZlhCGJYRhCWFYQhiWEIYlhGEJYVhCGJYQhiWEYQlhWEK07tz+LBz94/DVfN3+5LNw8s/jdNnL7Sfh5A+7n4aTVdXdju+kOHolHLy9+HG+gW+2Pgkn29u74eT+yflw8o3X3gonq+p4Zjmc9IklhGEJYVhCGJYQhiWEYQlhWEIYlhCGJYRhCWFYQhiWEIYlhGEJ0emeWwpHF3YaVNiaSq/6WHiaLns0/SKcnD2eCieravdpesKkX7Ph5LPOYr6BSxfSazn+2roYTi6e3AwnX5qKb4Wpmn3+ZjjpE0sIwxLCsIQwLCEMSwjDEsKwhDAsIQxLCMMSwrCEMCwhDEuI/wAzSOhr0sl93QAAAABJRU5ErkJggg==\" style=\"image-rendering: pixelated;\">\n",
              "            </div><div style=\"margin-right:10px; margin-top: 4px;\">\n",
              "              4 <br/>\n",
              "              <img src=\"data:image/PNG;base64,iVBORw0KGgoAAAANSUhEUgAAAMgAAACrCAIAAACsWkQ9AAAEsElEQVR4nO3d22qcZRSH8TVmTDLNZmakgkpp0YaKiiJ6UNBubGxNansL3oI31Evw1E02WjeIQmsF0YM2SQ/EorirySQVnXQGb+H/QR4C8vyOFy8fycN7kpeVVn9utjIz46lwsqoevXQunNxZ/SCc7C1fDSf31lfCyaraO/tmOHn0i/VwcuLicv4BO2sfhpOzr6c/1V+ufxpO9jvT4WRVPRzvh5OP5IdKOcMSwrCEMCwhDEsIwxLCsIQwLCEMSwjDEsKwhDAsIQxLiFbn/GI4OvvNjfzc0XgYTs4vXQknd9c+Ss9cOBVOVtWR2w/DyeGz7XDyz63b+Qd033o7nNxeTX8Cjx9bCCcH97bCyarqLF0OJ72xhDAsIQxLCMMSwrCEMCwhDEsIwxLCsIQwLCEMSwjDEsKwhDAsIVovzZ0MR3/dv5ef21lOn4IM8qUg59PtHfc/T1diVNWxUfoT+Ld9N5zcv9RgKcggXgoyHz+wIc5sdKw3lhCGJYRhCWFYQhiWEIYlhGEJYVhCGJYQhiWEYQlhWEIYlhCtfmcyHO3G2zuqyT8yyY8dxEtBuiebLAW5ky8FmQgn/9i6k39AvhRkZzV9XNBdOvgzGx3rjSWEYQlhWEIYlhCGJYRhCWFYQhiWEIYlhGEJYVhCGJYQhiVEO39csLOSPlioqu7ywR+b72747bNPwsmqWpg+Hk7u3E23VwzfWMo/YPzxSjhJvFnIz2x0rDeWEIYlhGEJYVhCGJYQhiWEYQlhWEIYlhCGJYRhCWFYQhiWEK3+dLy7IX6wUE3eLOTHbsd/Wn+MWTMxF6+EmNkY5R/QYCXEZroSwt0N+n8yLCEMSwjDEsKwhDAsIQxLCMMSwrCEMCwhDEsIwxLCsIRoE0sWCtrdEJ95v8lf7PtnL4ST+UqI+akT+QcMNn8KJ3vxq40H6+l/8RheaLBmYhSvmfDGEsKwhDAsIQxLCMMSwrCEMCwhDEsIwxLCsIQwLCEMSwjDEsKwhGiyFITZtJEfu72GLAX5a+X9cPLQN23srqaPYWYX0v0lcxvjcLKq/jmV3kTeWEIYlhCGJYRhCWFYQhiWEIYlhGEJYVhCGJYQhiWEYQlhWEK088cF+YOFYt4s9OMzGy0F6TV4s5A+LsgfLDQ6tnfu4PeXdBvtL9lK95d4YwlhWEIYlhCGJYRhCWFYQhiWEIYlhGEJYVhCGJYQhiWEYQnR6h327ob+8tVwMn+z0F+6HE5W1fZKemw3PjZ/sAAde+if6o0lhGEJYVhCGJYQhiWEYQlhWEIYlhCGJYRhCWFYQhiWEIYlROvMO++Fo8Ov/87PnTzdDid/3Hg3nBwfvRhOTtz8MpysquNXroWTv6+nx868Osw/oLv5RDg5fu10ODm4vhtO9haPhJNVNfoq/bV6YwlhWEIYlhCGJYRhCWFYQhiWEIYlhGEJYVhCGJYQhiWEYQlhWEK0579L/+PF/svpk4mqmvx+L5x88oXnw8mfV2+Ek0+feCWcrKrOrWfS0cUH4eDUzR/yD5h/6sVwcnhrIZxsn9kPJ+e+bXC5jJ6bCSe9sYQwLCEMSwjDEsKwhDAsIQxLCMMSwrCEMCwhDEsIwxLCsIT4D5ok8Ho+WVs+AAAAAElFTkSuQmCC\" style=\"image-rendering: pixelated;\">\n",
              "            </div><div style=\"margin-right:10px; margin-top: 4px;\">\n",
              "              5 <br/>\n",
              "              <img src=\"data:image/PNG;base64,iVBORw0KGgoAAAANSUhEUgAAAMgAAACrCAIAAACsWkQ9AAAFX0lEQVR4nO3d30/VdRzH8fcXOEWAegLix0WkCYQ3iZhhAxsgcxEUP9y66sq2NltddNHWn9B9dkV1WzchVs5K+bF5skYqoM2pUOCF+KNSDrrkhJ71L7zO1mvdPB/Xr312dnzue8PXz0mqikpC0zG0RVxGROb4fXG5q75VXF7PXxGXdalGcRkRc0tz4rJt+y5xeSO3oH+A2qRZXF66NScu9/RuFpc/n8yKy4jofEU9tkg/FNARFiwICxaEBQvCggVhwYKwYEFYsCAsWBAWLAgLFoQFC8KCRdLf/5Q4Pf39mn7u4dS74vLIxsfisqVR/dN6+WKTuIyIykH1TYTscfWliewzi/oHmL96R1x+8Pj74vJY7Wfi8rWbh8RlRIzmPxGXPLFgQViwICxYEBYsCAsWhAULwoIFYcGCsGBBWLAgLFgQFiwICxaEBYuSpV8fitN/ih7p5yYPUuJyz94KcXlxVn1vp7P/qriMiOmj6q0Y3Qd/E5dzYwW8YrSvQ75tJaN+q6WlxeIyyalnRkRbJ5eC4H9FWLAgLFgQFiwICxaEBQvCggVhwYKwYEFYsCAsWBAWLAgLFsnulmpxWlbITRtVg8vicuLYX+LycPF74nI0f0RcRkTXkPoX+6mv7qpnHkzrH+DHsVVx+WKfeuzMKfX1ivbeTeIyIs6cUN8E4YkFC8KCBWHBgrBgQViwICxYEBYsCAsWhAULwoIFYcGCsGBBWLBI0sUl4rR75En93Klx9a/rre1l4rI987a4PNv5ubiMiHM/qe8s6N/A5Jh6ZkTsfrZNXN7IqXdSDN5+S1yO16g/jhIRdSn1DReeWLAgLFgQFiwICxaEBQvCggVhwYKwYEFYsCAsWBAWLAgLFoQFi5JO+TqAafmKgYjokl8EyMgvAlQMfCouz8tXDEQh7yxMyR+1eyitf4Dst+qvSJRuVV9FiXX19ybKy+QzI/KL6rE8sWBBWLAgLFgQFiwICxaEBQvCggVhwYKwYEFYsCAsWBAWLAgLFklLQ1qc6v9vPyLOX5sXly9saxWXK/LNBQV91NnlWXHZ47m7wXFsIWeuisuI6BlJi0ueWLAgLFgQFiwICxaEBQvCggVhwYKwYEFYsCAsWBAWLAgLFoQFC8KCRUlxkdrWo2vq3RUR0T2YFpdr8pUY5dvU6yvyC+rdFeF5w6Rbfr0kIk7Lx+4z3OCivwkThXwDPLFgQViwICxYEBYsCAsWhAULwoIFYcGCsGBBWLAgLFgQFiwICxbJzqYqcVqZa9TPPbei3rSxfzgtLgu4EmNYfWEhIiaP/vfHToyv6h9Avxblem5BXNan1H8s/fqWiNg/pH4DPLFgQViwICxYEBYsCAsWhAULwoIFYcGCsGBBWLAgLFgQFiwICxZJdWmpOM1uPNTP7R+uEZeT43+Ky67Xt4vLzDdL4jIiXjqwRVyemdwQly+/WsDlEasn1B9oudeg/ujLE8vPicuagUVxGRGnvl4TlzyxYEFYsCAsWBAWLAgLFoQFC8KCBWHBgrBgQViwICxYEBYsCAsWyYcHJsXpSuVF/dxfpivE5dN9H4nLs1+q70E839AqLiOieuub4vKxdfVNkLnLm/QP0PPGfXH5wxd14nJv34S4nPnupriMiK6RHeKSJxYsCAsWhAULwoIFYcGCsGBBWLAgLFgQFiwICxaEBQvCggVhwYKwYJG8M5ARp/OXN+vn7mz+Q1yevH1IXNbeUS8FSeULuJMjl4yKy2zJurjsbflb/wCXrtSLyx3N98TlzK0L4rKp7HdxGREP7naIS55YsCAsWBAWLAgLFoQFC8KCBWHBgrBgQViwICxYEBYsCAsWhAWLfwGVZ+xBveVoAgAAAABJRU5ErkJggg==\" style=\"image-rendering: pixelated;\">\n",
              "            </div><div style=\"margin-right:10px; margin-top: 4px;\">\n",
              "              6 <br/>\n",
              "              <img src=\"data:image/PNG;base64,iVBORw0KGgoAAAANSUhEUgAAAMgAAACrCAIAAACsWkQ9AAAEkElEQVR4nO3d3WpcZRxG8f+YNC35sCQmM8lERFGkiLRF0dZqmg+DXoGnXoH35G0UqYkKthlTPZIU9SD0bJKpTVptYkrSeAvPBhcluH7HD5vNsJiTeXmndfXzm5UZ3L4TLqtqZvXGf/5Y4pnQY19Zvp6/wO7dX8Pl1MRkuBw8/jNcdm5cDpdV9ey7jXD5Uv5QKWdYQhiWEIYlhGEJYVhCGJYQhiWEYQlhWEIYlhCGJYRhCdHqDg2H03Z8CqCqdm/fDZdTyx+lD11LDxccrzQ4XPBkPf3FPv8E+mu9/AUm5ufC5engKFw+b18Il0f9R+Gyqs7PdcKl31hCGJYQhiWEYQlhWEIYlhCGJYRhCWFYQhiWEIYlhGEJYVhCGJYQrfxSkN0mN21ML19LH/tjfCXGxalw+XA/vRKjqrqLV8Nl/gk0OmLUX/8pXM4ufRguB9+mx5ZGxkfDZVU9fnoYLv3GEsKwhDAsIQxLCMMSwrCEMCwhDEsIwxLCsIQwLCEMSwjDEoK6FGQnvhRk7NVu+tCHz9LlXINf7A+2H4TL9urH4XJnLb1opKo6K/FJkPh4xfQn74fLnd79cFlV4/Mz4dJvLCEMSwjDEsKwhDAsIQxLCMMSwrCEMCwhDEsIwxLCsIQwLCGouxvyoxBNLkRIDxfsN3nVoZvphQitO7+Ey/H4koWq6sdHIWbzGzHiuxvan8Z/OdPksX5jCWFYQhiWEIYlhGEJYVhCGJYQhiWEYQlhWEIYlhCGJYRhCdHqDp0Lp+3VJj+Dx3c35I8dxM8cf/OtcFlVR/29cHlhbjJc7m9v5y+Q/98EcWYhf2ajx/qNJYRhCWFYQhiWEIYlhGEJYVhCGJYQhiWEYQlhWEIYlhCGJUSDuxvyP5uoqk58ZiF/7PRC+m8Luxtb4bKqLo6lf2NxcPhPuJxeuJK/wE5+ewVwZsG7G3SWGJYQhiWEYQlhWEIYlhCGJYRhCWFYQhiWEIYlhGEJYVhCGJYQrbn4UpD8JEw1OQxzho6C5J9Af30zf4HO0gfh0ktB9H9nWEIYlhCGJYRhCWFYQhiWEIYlhGEJYVhCGJYQhiWEYQkxnP9e3ehSkBd7ZgH6xb6/1guXsyvX8xfwUhApZVhCGJYQhiWEYQlhWEIYlhCGJYRhCWFYQhiWEIYlhGEJ0eDuBuhn8Aa/2K9thMuppQaHC06/vxcuTxbfC5f7P/ycv8DsGbq7YcW7G/RCGZYQhiWEYQlhWEIYlhCGJYRhCWFYQhiWEIYlhGEJYVhCtD778utwurc+kj93cvl5uNz5Jl22V0/D5UlvIlxW1ehk+ti9R+fD5csLT/MX+O33r8LluZHL4fLve1vh8o2lL8JlVY1sXQmXfmMJYVhCGJYQhiWEYQlhWEIYlhCGJYRhCWFYQhiWEIYlhGEJYVhCDJ/00pMY3WvH+XOfbIyGy/nFv8Ll8eZYuGzVeLisqqH5o3B5eDAZLic29/IXmHnnUrh8cOuPcHnp3ZVw2br/erisqu5rb4dLv7GEMCwhDEsIwxLCsIQwLCEMSwjDEsKwhDAsIQxLCMMSwrCE+BcjWe6axEcQagAAAABJRU5ErkJggg==\" style=\"image-rendering: pixelated;\">\n",
              "            </div><div style=\"margin-right:10px; margin-top: 4px;\">\n",
              "              7 <br/>\n",
              "              <img src=\"data:image/PNG;base64,iVBORw0KGgoAAAANSUhEUgAAAMgAAACrCAIAAACsWkQ9AAAFfElEQVR4nO3d3U+WdRzH8e8tF3Kjy3TMCiwgKAsGSloRFA9rzq2HrbbaWm6ddNg8zHCdOE/ADmzrP6hOXFvrpDqolHjM8aQIZC1iwBAh0LgVaILc0r/wuQ8+Z+/X8We/Ltrb6+ja70699/bDoclcqxeXEfFvelhcvj91WlxeeLJdPXP6U3EZEd/Ix16dWhOX7Vsd+gNcePqcuDxx8xNx2XH/jLh8qqJAXEZEeuMlcblDPxTQERYsCAsWhAULwoIFYcGCsGBBWLAgLFgQFiwICxaEBQvCgkXS/8ej4rTpyIh+7vXxInE58NpZcTk7pj7q0HH1g4WIuPH7PnHZUr8pLrcHtvUHmF9R/3n3NX0mLjc6s+JyLrtfXEZES12/uOSNBQvCggVhwYKwYEFYsCAsWBAWLAgLFoQFC8KCBWHBgrBgQViwICxYpE68s0ec9kw8pp/b/OySuPzlcr64PLV0Slx+Ufy5uIyI5sY74rJ39IC4fPHgiv4Aa2NHxeWdhwbEZeFGg7gsqesTlxHRLTfAGwsWhAULwoIFYcGCsGBBWLAgLFgQFiwICxaEBQvCggVhwYKwYJH0jqs3bTRW39LP7RxRf0mluuy2uEwtpcRlbal6e0dEdI0Wi8v6VIm4nJzM6A9QXrAhLm/IF3i0yN8s6B8sRERLzaK45I0FC8KCBWHBgrBgQViwICxYEBYsCAsWhAULwoIFYcGCsGBBWLBIXq5RL1n4tbdAP/f0+kfi8qt0h36saHxWvQ8iIpobF8Tl3aFKcZkUbOkPsLpRKC4bDqsfmHSOPiIuX6nK4ZqJi9fUb2F4Y8GCsGBBWLAgLFgQFiwICxaEBQvCggVhwYKwYEFYsCAsWBAWLJKLg+olC5ury/q5/a3nxeXsYJ5+rKjqifv6+NKIenlBU756yUI2cvij3pw/Ji6/LhwSlx9Pq1+XfJl3TlxGRH08Li55Y8GCsGBBWLAgLFgQFiwICxaEBQvCggVhwYKwYEFYsCAsWBAWLJK2lZPitCPO6ufOTau/DbF2d01cpkL9ZYp/VtRlRLTNqh8CnE+fEZcHynK4PCIveSAuUzn8WardSQ5fgujXTPDGggVhwYKwYEFYsCAsWBAWLAgLFoQFC8KCBWHBgrBgQViwICxYEBYskv5m9U6Izc4cfsbj5qb8kxsvqDdtxGV1mJ/aVqcRebvVr1YO1e4Ul1cW9ukP0FP6g7jMbqvfzXRXfC8u57L7xWVEtNb1iUveWLAgLFgQFiwICxaEBQvCggVhwYKwYEFYsCAsWBAWLAgLFoQFi2R+JitO60vUX+aIiL3PqD/OcWlwl7h8PdRvFhZXc7iTY+hYh7i88lsiLtuW1YtGIpe7RsrK1b9Lv72jtWZRXEZE14T68zC8sWBBWLAgLFgQFiwICxaEBQvCggVhwYKwYEFYsCAsWBAWLAgLFsnMunrJQtPO//RzpybVix5WMxlxmZI/WairkO+DiOgbU+9ZqK5UvwTZuFegP0BddVpcjt0uEpf6JQtd48XiMiJaaxfEJW8sWBAWLAgLFoQFC8KCBWHBgrBgQViwICxYEBYsCAsWhAULwoJFqv2NUXH63fUJ/dyKg3PicnmrW1wW7fpLXA7/uUdcRsRbx06Ky5961GM/rDysP8CPy3+Ly+eOZsTlzwMz4vJI+aS4jIi5lQZxyRsLFoQFC8KCBWHBgrBgQViwICxYEBYsCAsWhAULwoIFYcGCsGBBWLBIlnasi9PC9CH93OW1UnGZX/StuOwfVP/rH+x9V51GDI+2isv8eCAub8U9/QHSmefF5dUR9aqVV4vV/1lj0zncX9JUXCUueWPBgrBgQViwICxYEBYsCAsWhAULwoIFYcGCsGBBWLAgLFgQFiz+BxHB+RjsV1iwAAAAAElFTkSuQmCC\" style=\"image-rendering: pixelated;\">\n",
              "            </div><div style=\"margin-right:10px; margin-top: 4px;\">\n",
              "              8 <br/>\n",
              "              <img src=\"data:image/PNG;base64,iVBORw0KGgoAAAANSUhEUgAAAMgAAACrCAIAAACsWkQ9AAADi0lEQVR4nO3dy2peZRSA4Z32p8VDRASFtBqk9G+aKglFdOoFeg3ejQ4dSQ82qQcysJNiVBC0eLiFtcGX0PR5xovVj/B2T/bH/nf2924sM9t7/wwnl2U5eXjlf19b7IzWzndGa6ujHk7XrlgKc8IiISwSwiIhLBLCIiEsEsIiISwSwiIhLBLCIiEsEpv5++roNfiKN/aX8ajR2uqoj6ZrPbFICIuEsEgIi4SwSAiLhLBICIuEsEgIi4SwSAiLhLBICIvEZn4RIrpfseIqyGU8arT2wo/qiUVCWCSERUJYJIRFQlgkhEVCWCSERUJYJIRFQlgkhEVizUdBXvk39pfyeoWPgvAyERYJYZEQFglhkRAWCWGREBYJYZEQFglhkRAWCWGR8O2GV/16hW838DIRFglhkRAWCWGREBYJYZEQFglhkRAWCWGREBYJYZFY8e2GJ2teg98J1hY7o7XzndHaNTt3hpOr1npikRAWCWGREBYJYZEQFglhkRAWCWGREBYJYZEQFglhkdjZ37s5HL1999/53tPH03fm87XFzmjtfGe0Njrq9sDtBi6UsEgIi4SwSAiLhLBICIuEsEgIi4SwSAiLhLBICIuEsEhstnenbZ0+XvGhi2LtfOdJc9T52vnOaO2KnQcrrs2cfOcnT7hQwiIhLBLCIiEsEsIiISwSwiIhLBLCIiEsEsIiISwSOx/s3RiOzn8cZVmWk/FvY8zXFjtXrb19+Pd058MV/2Pv7b8YTj46uzacLP6qq9Z6YpEQFglhkRAWCWGREBYJYZEQFglhkRAWCWGREBYJYZHYXPhr8Iu9B7Fq7en4zsL+1bfnB3jw9Nfh5MHx/C9wdTi5HV/ZWJblyXitJxYJYZEQFglhkRAWCWGREBYJYZEQFglhkRAWCWGREBaJnc8+/XI4+tGt3+d7Hzy9Ppy8vv/FcPLJV38OJz++Nf3Xl2V5dn48nDy+8+Fw8uE3n88PsLmyO5y89v70dsPR9nw4+e3pe8PJZVmOtr8MJz2xSAiLhLBICIuEsEgIi4SwSAiLhLBICIuEsEgIi4SwSAiLxOZo985w9Ozn1+Z7j3bPh5NfP59ecbl57Z3h5E/P/hpOLsty/O7hcPKP7z8ZTm5evz8/wObFm8PJ+2/9Npz88eyN6c7d6Q+uLMvyw3itJxYJYZEQFglhkRAWCWGREBYJYZEQFglhkRAWCWGREBaJ/wDKnPBe0XbYfQAAAABJRU5ErkJggg==\" style=\"image-rendering: pixelated;\">\n",
              "            </div><div style=\"margin-right:10px; margin-top: 4px;\">\n",
              "              9 <br/>\n",
              "              <img src=\"data:image/PNG;base64,iVBORw0KGgoAAAANSUhEUgAAAMgAAACrCAIAAACsWkQ9AAAE/klEQVR4nO3dz26UZRiG8edrZwjQWEtsrZQaK6XTONNhBkItKXamAitIdOHGcAS6B/buCcQD8BzcuGpCp60UlVinMwP+iSyMSAWkpRAClNBwCve7uNOYXL/1nTcT5uLb9M032dCh0dBMdb0rLiPiz+2OuBzZLorLZvddcTldXBOXETHfGhSXp0rr4nLx9379A9Qn/hWXjdbb4vLDbFhc3o5b4jJSvqwu/VBAR1iwICxYEBYsCAsWhAULwoIFYcGCsGBBWLAgLFgQFiwICxa52uF74vTR6ph+bk/+pbh88mKPuJwp/icu567vFZcRceH+F+Ly6+eXxWX9uHphISIWOu+ox5bVY9eb6qWVnt3qNxUpXxZPLFgQFiwICxaEBQvCggVhwYKwYEFYsCAsWBAWLAgLFoQFC8KCBWHBIrfU2S9Oa5Ub+rnt9oC4rFevicuFpnpmdUy9CxQRXZvqsnLwubjUb8JEyktBEi7YHLkuLjtJH1X+snhiwYKwYEFYsCAsWBAWLAgLFoQFC8KCBWHBgrBgQViwICxYEBYssnOf9YrTxXbCn8Fnyn+Ly6XmAXF5fHxDXC7+1icuI+J0Rb0KkXC5QL6wYDp2xz8qTyxYEBYsCAsWhAULwoIFYcGCsGBBWLAgLFgQFiwICxaEBQvCgkU2XCiI01pZ/cWRiJhv9onLqWxYXN6OW+JyZLskLiNipfsfcem4XJB07FJnUFxOF9Uzr7bUMyPiVGldXPLEggVhwYKwYEFYsCAsWBAWLAgLFoQFC8KCBWHBgrBgQViwICxY5D4qPxSnC+239HNrlTvi8vGNUXGZ3/1KXG5u9YjLiKhP/m9eiFAvqhdM5pb3iMuLD74UlxFx5dklcckTCxaEBQvCggVhwYKwYEFYsCAsWBAWLAgLFoQFC8KCBWHBgrBgkftevrNQL93Vz11Y3S8uJ/Nb4vJVZOLyzV1PxWXs9A9DpB3bHBCX1YL6cxvZpjiMiKgefCEueWLBgrBgQViwICxYEBYsCAsWhAULwoIFYcGCsGBBWLAgLFgQFiwICxa5mQn9pSAJV0FOTKyJy7nv1F8cyb2hvupjX5/6SoxIubXSkC/DzKa8FCTh2Kr+UYfE5cDZr8RlRDTlj8oTCxaEBQvCggVhwYKwYEFYsCAsWBAWLAgLFoQFC8KCBWHBgrBgkQ0XCuK0lvJSkPkV9V0jm2vqsV2Z+t/gkzN5cRmeOwv6maZjd/yj8sSCBWHBgrBgQViwICxYEBYsCAsWhAULwoIFYcGCsGBBWLAgLFgkvLuhkfLuhvoR9c/gD3Mfi8v84E/istHpF5eRdBFA/heYLae8u6Gt/jzMbFl9I4bjzIhotNRXQvDEggVhwYKwYEFYsCAsWBAWLAgLFoQFC8KCBWHBgrBgQViwICxYZFMnvxGnx8ae6uf++GuvuCwcUO8s/HJTfcvD7NEPxGVE/PzXMXE5Of5APfMP9dUVEXGitCUur91Uf3Fj3/vnxeXq1b3iMiJmJtQPwBMLFoQFC8KCBWHBgrBgQViwICxYEBYsCAsWhAULwoIFYcGCsGBBWLDIzn+6LE5XNnbp51Z6X4rL5a1VcTn+TL0282TjqLiMiLHRQ+LyB/ne0HTPtv4BWmvqHZvDQxvi8tv1z8Xle/dGxGVE3JG/Ap5YsCAsWBAWLAgLFoQFC8KCBWHBgrBgQViwICxYEBYsCAsWhAWL11hE8dNM0MIIAAAAAElFTkSuQmCC\" style=\"image-rendering: pixelated;\">\n",
              "            </div></div>"
            ],
            "text/plain": [
              "<IPython.core.display.HTML object>"
            ]
          },
          "metadata": {
            "tags": []
          }
        }
      ]
    },
    {
      "cell_type": "markdown",
      "metadata": {
        "id": "jwo7SrcOlbrv",
        "colab_type": "text"
      },
      "source": [
        "# NMF on attributions with ```score_fn = tf.reduce_sum```\n",
        "The visualizations are confusing to me. They don't seem to relate to the input image."
      ]
    },
    {
      "cell_type": "code",
      "metadata": {
        "id": "uFt9R9ixh-ix",
        "colab_type": "code",
        "colab": {
          "base_uri": "https://localhost:8080/",
          "height": 701
        },
        "outputId": "5685783d-7e12-40ac-b5da-ffda5f08dbfb"
      },
      "source": [
        "score_fn = tf.reduce_sum\n",
        "attr = get_attr(model, output_layer_name, hidden_layer_name, some_observations, integrate_steps=10, score_fn=score_fn)\n",
        "reduced = reduce_and_norm(attr)\n",
        "show_with_obs(some_observations, reduced, 10)"
      ],
      "execution_count": 15,
      "outputs": [
        {
          "output_type": "stream",
          "text": [
            "normalize_by 1.3221096455108174\n",
            "Time left in episode\n"
          ],
          "name": "stdout"
        },
        {
          "output_type": "display_data",
          "data": {
            "text/html": [
              "<div style=\"display: flex; flex-direction: row;\"><div style=\"margin-right:10px; margin-top: 4px;\">\n",
              "              0 <br/>\n",
              "              <img src=\"data:image/PNG;base64,iVBORw0KGgoAAAANSUhEUgAAAMgAAACvCAAAAACdws6gAAAA7klEQVR4nO3WMQqAMBAAQRXB/z/Sf9hqkU5wDDvdkeaWa7Iey8A5ejBtXy/wlkI0hWgK0RSiKUQzTcj+mH72Ubyb5iKFaArRFKIpRFOIphBNIZpCNIVoCtEUoilEU4imEE0hmkI0hWgK0RSiKURTiKYQTSGaQjSFaArRFKIpRFOIphBNIZpCNIVoCtEUoilEU4imEE0hmkI0hWgK0RSiKURTiKYQTSGaQjSFaArRFKIpRFOIphBNIZpCNIVoCtEUoilEU4imEE0hmkI0hWgK0RSiKURTiKYQTSGaQjSFaArRFKIpRFOIphBNIZpCNBfXtAMxilZsmAAAAABJRU5ErkJggg==\" style=\"image-rendering: pixelated;\">\n",
              "            </div><div style=\"margin-right:10px; margin-top: 4px;\">\n",
              "              1 <br/>\n",
              "              <img src=\"data:image/PNG;base64,iVBORw0KGgoAAAANSUhEUgAAAMgAAACvCAAAAACdws6gAAAA60lEQVR4nO3WMQqAMBAAQRX/7G99i236CBnCTn/klmtyvgfimRu//tlivUI0hWgK0RSiKUSzTci99PXJj+Jom4sUoilEU4imEE0hmkI0hWgK0RSiKURTiKYQTSGaQjSFaArRFKIpRFOIphBNIZpCNIVoCtEUoilEU4imEE0hmkI0hWgK0RSiKURTiKYQTSGaQjSFaArRFKIpRFOIphBNIZpCNIVoCtEUoilEU4imEE0hmkI0hWgK0RSiKURTiKYQTSGaQjSFaArRFKIpRFOIphBNIZpCNIVoCtEUoilEU4imEE0hmkI0hWgK0XwzzgMs3SzGwQAAAABJRU5ErkJggg==\" style=\"image-rendering: pixelated;\">\n",
              "            </div><div style=\"margin-right:10px; margin-top: 4px;\">\n",
              "              2 <br/>\n",
              "              <img src=\"data:image/PNG;base64,iVBORw0KGgoAAAANSUhEUgAAAMgAAACvCAAAAACdws6gAAAA7klEQVR4nO3bMQqAMBAAQRW/4av9sK2tGMgQdvrLsVyd/dqGucc99d0xc/lIhWgK0RSiKURTiKYQTSGaQjSFaArRFKIpRFOIphBNIZpCNIVoCtEUoilEU4imEE0hmkI0hWgK0RSiKURTiKYQzTIh58/5qV8t3pa5SCGaQjSFaArRFKIpRFOIphBNIZpCNIVoCtEUoilEU4imEE0hmkI0hWgK0RSiKURTiKYQTSGaQjSFaArRFKIpRFOIphBNIZpCNIVoCtEUoilEU4imEE0hmkI0hWgK0RSiKURTiKYQTSGaQjSFaArRFKIpRFOI5gHZ0AKjA1rTgAAAAABJRU5ErkJggg==\" style=\"image-rendering: pixelated;\">\n",
              "            </div><div style=\"margin-right:10px; margin-top: 4px;\">\n",
              "              3 <br/>\n",
              "              <img src=\"data:image/PNG;base64,iVBORw0KGgoAAAANSUhEUgAAAMgAAACvCAAAAACdws6gAAAA70lEQVR4nO3RwQmAMBBFQSMe7L8jj3ZlDUIgjzBzX/iPHfexh3P1gFmE1AipEVIjpEZIzTYh1/+TZ/6KCbb5iJAaITVCaoTUCKkZ7+oFk2zzESE1QmqE1AipEVIjpEZIjZAaITVCaoTUCKkRUiOkRkiNkBohNUJqhNQIqRFSI6RGSI2QGiE1QmqE1AipEVIjpEZIjZAaITVCaoTUCKkRUiOkRkiNkBohNUJqhNQIqRFSI6RGSI2QGiE1QmqE1AipEVIjpEZIjZAaITVCaoTUCKkRUiOkRkiNkBohNUJqhNQIqRFSI6RGSI2QGiE1Qmo+kVsC8WvBeeAAAAAASUVORK5CYII=\" style=\"image-rendering: pixelated;\">\n",
              "            </div><div style=\"margin-right:10px; margin-top: 4px;\">\n",
              "              4 <br/>\n",
              "              <img src=\"data:image/PNG;base64,iVBORw0KGgoAAAANSUhEUgAAAMgAAACvCAAAAACdws6gAAAA7klEQVR4nO3awQmAQAwAQRX7r8A27M+3T7kDh2PnH8iSb/ZrG3KPjc9z/L3ALIVoCtEUoilEU4imEE0hmkI0hWgK0RSiKURTiKYQTSGaQjSFaArRFKIpRFOIphBNIZpCNOf3EeZp7mWZixSiKURTiKYQTSGaQjSFaArRFKIpRFOIphBNIZpCNIVoCtEUoilEU4imEE0hmkI0hWgK0RSiKURTiKYQTSGaQjSFaArRFKIpRFOIphBNIZpCNIVoCtEUoilEU4imEE0hmkI0hWgK0RSiKURTiKYQTSGaQjSFaArRFKIpRFOIphBNIZplQh5CJgNmjoFrYgAAAABJRU5ErkJggg==\" style=\"image-rendering: pixelated;\">\n",
              "            </div><div style=\"margin-right:10px; margin-top: 4px;\">\n",
              "              5 <br/>\n",
              "              <img src=\"data:image/PNG;base64,iVBORw0KGgoAAAANSUhEUgAAAMgAAACvCAAAAACdws6gAAAA7ElEQVR4nO3aQQqAMAwAQRX//wE/69ljacGh7NwDWXLN+RxTJsfXuf5eYJVCNIVoCtEUoilEU4imEE0hmkI0hWgK0RSiKURTiKYQTSGaQjSFaArRFKIpRFOIphBNIZp7fIR5mvvY5iKFaArRFKIpRFOIphBNIZpCNIVoCtEUoilEU4imEE0hmkI0hWgK0RSiKURTiKYQTSGaQjSFaArRFKIpRFOIphBNIZpCNIVoCtEUoilEU4imEE0hmkI0hWgK0RSiKURTiKYQTSGaQjSFaArRFKIpRFOIphBNIZpCNIVoCtEUoilEU4hmm5AX1r8DMXom6mQAAAAASUVORK5CYII=\" style=\"image-rendering: pixelated;\">\n",
              "            </div><div style=\"margin-right:10px; margin-top: 4px;\">\n",
              "              6 <br/>\n",
              "              <img src=\"data:image/PNG;base64,iVBORw0KGgoAAAANSUhEUgAAAMgAAACvCAAAAACdws6gAAAA70lEQVR4nO3cMQqAMBAAQRV7//8Dn2lraUB0CDv1BW65PuuxjDqHX3xh+3uBtxSiKURTiKYQTSGaQjSFaArRFKIpRFOIphBNIZpCNIVoCtEUoilEU4imEE0hmkI0hWgK0RSiKURTiKYQTSGaQjSFaArRFKIpRFOIphBNIZpCNIVoCtEUoilEU4imEE0hmkI0hWgK0RSi2Z+Nmf/O3U1zkUI0hWgK0RSiKURTiKYQTSGaQjSFaArRFKIpRFOIphBNIZpCNIVoCtEUoilEU4imEE0hmkI0hWgK0RSiKURTiKYQTSGaQjSFaArRFKKZJuQCnJkCv5OtNswAAAAASUVORK5CYII=\" style=\"image-rendering: pixelated;\">\n",
              "            </div><div style=\"margin-right:10px; margin-top: 4px;\">\n",
              "              7 <br/>\n",
              "              <img src=\"data:image/PNG;base64,iVBORw0KGgoAAAANSUhEUgAAAMgAAACvCAAAAACdws6gAAAA7UlEQVR4nO3bsQ2AMAwAQUBMxP5jMBBt+iDlFP31VvxynfM9EM/c+PXPFusVoilEU4imEE0hmkI0hWgK0RSiKURTiKYQTSGaQjSFaArRFKIpRFOIphBNIZpCNIVoCtEUoilEU4imEE0hmkI0hWgK0RSiKURTiKYQzTYh99LXJ7+1jra5SCGaQjSFaArRFKIpRFOIphBNIZpCNIVoCtEUoilEU4imEE0hmkI0hWgK0RSiKURTiKYQTSGaQjSFaArRFKIpRFOIphBNIZpCNIVoCtEUoilEU4imEE0hmkI0hWgK0RSiKURTiKYQTSGaD+NMApgrae8lAAAAAElFTkSuQmCC\" style=\"image-rendering: pixelated;\">\n",
              "            </div><div style=\"margin-right:10px; margin-top: 4px;\">\n",
              "              8 <br/>\n",
              "              <img src=\"data:image/PNG;base64,iVBORw0KGgoAAAANSUhEUgAAAMgAAACvCAAAAACdws6gAAAA70lEQVR4nO3RgQmAMBAEQSP2aQt2bgvWIASyhJkCjl9+vMceztUHzCKkRkiNkBohNUJqhNQIqRFSI6RGSI2QGiE1QmqE1AipEVIjpEZIjZAaITVCaoTUCKkRUnNN3Hombv22zUeE1AipEVIjpEZIzTYh4159wSTbfERIjZAaITVCaoTUCKkRUiOkRkiNkBohNUJqhNQIqRFSI6RGSI2QGiE1QmqE1AipEVIjpEZIjZAaITVCaoTUCKkRUiOkRkiNkBohNUJqhNQIqRFSI6RGSI2QGiE1QmqE1AipEVIjpEZIjZAaITVCaoTUCKkRUvMBq3sDHe71iZIAAAAASUVORK5CYII=\" style=\"image-rendering: pixelated;\">\n",
              "            </div><div style=\"margin-right:10px; margin-top: 4px;\">\n",
              "              9 <br/>\n",
              "              <img src=\"data:image/PNG;base64,iVBORw0KGgoAAAANSUhEUgAAAMgAAACvCAAAAACdws6gAAAA7UlEQVR4nO3RwQmAQAwAQRULt0+bsQUPTh1k551AlqznMuoY3njD9vUBsxSiKURTiKYQTSGaQjSFaArRFKIpRFOIphBNIZpCNIVoCtEUoilEU4imEE0hmkI0hWgK0RSiKURTiKYQTSGaQjSFaArRFKIpRFOIphBNIZpCNIVoCtEUoilEU4imEE0hmkI0hWgK0RSi2e+NHY8eMcNvPlKIphBNIZpCNIVoCtEUoilEU4imEE0hmkI0hWgK0RSiKURTiKYQTSGaQjSFaArRFKIpRFOIphBNIZpCNIVoCtEUoilEU4imEE0hmkI0vwm5AIECAzuE9vy8AAAAAElFTkSuQmCC\" style=\"image-rendering: pixelated;\">\n",
              "            </div></div>"
            ],
            "text/plain": [
              "<IPython.core.display.HTML object>"
            ]
          },
          "metadata": {
            "tags": []
          }
        },
        {
          "output_type": "stream",
          "text": [
            "Color channels (vertical stripes are 'apples'\n"
          ],
          "name": "stdout"
        },
        {
          "output_type": "display_data",
          "data": {
            "text/html": [
              "<div style=\"display: flex; flex-direction: row;\"><div style=\"margin-right:10px; margin-top: 4px;\">\n",
              "              0 <br/>\n",
              "              <img src=\"data:image/PNG;base64,iVBORw0KGgoAAAANSUhEUgAAAMgAAACvCAIAAAA3ywYrAAACl0lEQVR4nO3dsWkdQRRA0S/zm1DuZgxCmcEVyA0oVuDYDagGpQJX41htuASPxNzZ0XJO/Jndhcsmj/f35uvfH5cBT9///Pc3v16+zTpq0OAVR8x6wMGnO/1RX0Z+BO8lLBLCIiEsEsIiISwSwiIhLBLCIiEsEsIiISwS16NvILd4/jpxEj9xxD5o4l15Y5EQFglhkRAWCWGREBYJYZEQFglhkRAWCWGROP+scPHwbuI67noWVtmdsEgIi4SwSAiLhLBICIuEsEgIi4SwSAiLhLBInH8IPXFhdU97rtF6Y5EQFglhkRAWCWGREBYJYZEQFglhkRAWCWGRmDkrXD+V2/C7r4ufbvCKvrDKSQiLhLBICIuEsEgIi4SwSAiLhLBICIuEsEgIi8R1/XiSiy+swscIi4SwSAiLhLBICIuEsEgIi4SwSAiLhLBIXBfvcw761Luan/RygyysciRhkRAWCWGREBYJYZEQFglhkRAWCWGREBYJYZGwsHqMDf/vefAoC6scSVgkhEVCWCSERUJYJIRFQlgkhEVCWCSERWLThdWJJj7gnvuxex7ljUVCWCSERUJYJIRFQlgkhEVCWCSERUJYJIRFwl7hMXwIEz5CWCSERUJYJIRFQlgkhEVCWCSERUJYJIRFQlgkZi6snn73dU+L59kWVjmSsEgIi4SwSAiLhLBICIuEsEgIi4SwSAiLxAELq4t3Xyfe1elZWGV3wiIhLBLCIiEsEsIiISwSwiIhLBLCIiEsEsIicXP0DeTunn/POur15+Oso+5mHXS5PNzezjrq/u1t1lHeWCSERUJYJIRFQlgkhEVCWCSERUJYJIRFQlgkhEVCWCSERUJYJIRFQlgkhEVCWCSERUJYJIRFQlgkhEXiHwG3pqa9gRq0AAAAAElFTkSuQmCC\" style=\"image-rendering: pixelated;\">\n",
              "            </div><div style=\"margin-right:10px; margin-top: 4px;\">\n",
              "              1 <br/>\n",
              "              <img src=\"data:image/PNG;base64,iVBORw0KGgoAAAANSUhEUgAAAMgAAACvCAIAAAA3ywYrAAACp0lEQVR4nO3dsU1cQRRAUT7anBiJKmjCCTkdmALsApzRgztw7sRN0ACpO6ABl+BBmrvMLOfEo7cEV5M8Df94fXu+Oq/Huy//PfPr759NR43M+QyjrkcOwXsJi4SwSAiLhLBICIuEsEgIi4SwSAiLhLBICIvEcX/zcuafXHNpOmvUvuvzuaPcWCSERUJYJIRFQlgkhEVCWCSERUJYJIRFQlgkjsEHq2supBYcte+Wc+4oNxYJYZEQFglhkRAWCWGREBYJYZEQFglhkRAWCWGRGH2wOrjKHTG4xRyx4P513/X53FFuLBLCIiEsEsIiISwSwiIhLBLCIiEsEsIiISwSp/NvkUbsuyY7/9PQiTxYZXXCIiEsEsIiISwSwiIhLBLCIiEsEsIiISwSwiJx2vpf8y44as31+SAPVlmdsEgIi4SwSAiLhLBICIuEsEgIi4SwSAiLxGnirDXXZBf/YHXNUW4sEsIiISwSwiIhLBLCIiEsEsIiISwSwiIhLBLCIjFzCb310vSyH6z6wioXQlgkhEVCWCSERUJYJIRFQlgkhEVCWCSEReJ4fXseObfmQmrBUftuOeeOcmOREBYJYZEQFglhkRAWCWGREBYJYZEQFglhkTjub15Gzq25kFpw1L5bzrmj3FgkhEVCWCSERUJYJIRFQlgkhEVCWCSERUJYJIRFwhdWJ4/ad30+d5Qbi4SwSAiLhLBICIuEsEgIi4SwSAiLhLBICIuED2FOHrXvlnPuKDcWCWGREBYJYZEQFglhkRAWCWGREBYJYZEQFglhkTg++g/YycO8UV9vb2eN+vnj26xRv5++zxrlxiIhLBLCIiEsEsIiISwSwiIhLBLCIiEsEsIiISwSwiIhLBLCIiEsEsIiISwSwiIhLBLCIiEsEsIiISwS/wCGCQuf7omtOAAAAABJRU5ErkJggg==\" style=\"image-rendering: pixelated;\">\n",
              "            </div><div style=\"margin-right:10px; margin-top: 4px;\">\n",
              "              2 <br/>\n",
              "              <img src=\"data:image/PNG;base64,iVBORw0KGgoAAAANSUhEUgAAAMgAAACvCAIAAAA3ywYrAAACcklEQVR4nO3bsUkFQRhG0bcmBrZjbgfahRYgmFqHdiHWYGYfrwETMbEEV/gvvsFz4uVjg8skw2xfFw+HHT4vb3785vz9xdSenf8wdbbnI/gtYZEQFglhkRAWCWGREBYJYZEQFglhkRAWCWGR2D6u3vZ8d5o3nSc4te71+eyUE4uEsEgIi4SwSAiLhLBICIuEsEgIi4SwSAiLxObB6uzUurecs1NOLBLCIiEsEsIiISwSwiIhLBLCIiEsEsIiISwSwiLhwerw1LrX57NTTiwSwiIhLBLCIiEsEsIiISwSwiIhLBLCIiEsEh6szk9NWffC9ODEIiIsEsIiISwSwiIhLBLCIiEsEsIiISwSwiIhLBIerM5PTVn6Jt6JRUJYJIRFQlgkhEVCWCSERUJYJIRFQlgkhEXCg9XhqaVvOT1Y5dQJi4SwSAiLhLBICIuEsEgIi4SwSAiLhLBICIuEB6vDU+ten89OObFICIuEsEgIi4SwSAiLhLBICIuEsEgIi4SwSHiwOjy17i3n7JQTi4SwSAiLhLBICIuEsEgIi4SwSAiLhLBICIuEd4XDU+vecs5OObFICIuEsEgIi4SwSAiLhLBICIuEsEgIi4SwSAiLhAerw1PrXp/PTjmxSAiLhLBICIuEsEgIi4SwSAiLhLBICIuEsEh4sDo8te4t5+yUE4uEsEgIi4SwSAiLhLBICIuEsEgIi4SwSAiLhLBIbH/9Ayu5vXqcmnq9f56aerqbWjpcH49TU04sEsIiISwSwiIhLBLCIiEsEsIiISwSwiIhLBLCIiEsEsIiISwSwiIhLBLCIiEsEsIiISwSwiIhLBLCIvENoQwkGYdfv30AAAAASUVORK5CYII=\" style=\"image-rendering: pixelated;\">\n",
              "            </div><div style=\"margin-right:10px; margin-top: 4px;\">\n",
              "              3 <br/>\n",
              "              <img src=\"data:image/PNG;base64,iVBORw0KGgoAAAANSUhEUgAAAMgAAACvCAIAAAA3ywYrAAAClElEQVR4nO3dsW0VURBAURt+SkDonix6cEQDRNRAA47cg+VS6MEFEFuiASQWae76vc858ddoLV1tMpr17ffPP28O+PT28Nff/Pr4ZNSROf/DqA9HfgT/SlgkhEVCWCSERUJYJIRFQlgkhEVCWCSERUJYJC6D68k1nbx/3Xd9PjvKG4uEsEgIi4SwSAiLhLBICIuEsEgIi4SwSAiLxOW9HyA3uCYbNHgaOsjBKqsTFglhkRAWCWGREBYJYZEQFglhkRAWCWGREBaJySX01l/5PXkrfPKV6UEOVlmdsEgIi4SwSAiLhLBICIuEsEgIi4SwSAiLxGXrL6guOGrrLaeDVVYnLBLCIiEsEsIiISwSwiIhLBLCIiEsEsIiISwSk/9h9epHrWnBTfyNNxYRYZEQFglhkRAWCWGREBYJYZEQFglhkRAWiUUPVged/weebM3dqzcWCWGREBYJYZEQFglhkRAWCWGREBYJYZEQFglhkdj7YPWIk59qzaW+g1WuhLBICIuEsEgIi4SwSAiLhLBICIuEsEgIi8SiB6v7jlpzYXqQg1VWJywSwiIhLBLCIiEsEsIiISwSwiIhLBLCInEZnLX1ieJ13xUe5K6Q1QmLhLBICIuEsEgIi4SwSAiLhLBICIuEsEgIi8Tkx20P2neVu+DOe9lR3lgkhEVCWCSERUJYJIRFQlgkhEVCWCSERUJYJBysDo/ad8s5O8obi4SwSAiLhLBICIuEsEgIi4SwSAiLhLBICIuEsEjcvvcD/Nnz3d3UqC+vr1OjBt0Pznr8MTXp5eu3qVHeWCSERUJYJIRFQlgkhEVCWCSERUJYJIRFQlgkhEVCWCSERUJYJIRFQlgkhEVCWCSERUJYJIRFQlgkhEXiN7Aj8OmzIJysAAAAAElFTkSuQmCC\" style=\"image-rendering: pixelated;\">\n",
              "            </div><div style=\"margin-right:10px; margin-top: 4px;\">\n",
              "              4 <br/>\n",
              "              <img src=\"data:image/PNG;base64,iVBORw0KGgoAAAANSUhEUgAAAMgAAACvCAIAAAA3ywYrAAAClElEQVR4nO3dsU1cURBA0cXaJggcuR3kiB5IHDpxD27APTiyaIEyiAhogwYcPKS5u//BOTEafnD1ktFob379eDotuP/6vPJnK/6+fJsadcCvWvyklX+39agvK38E7yUsEsIiISwSwiIhLBLCIiEsEsIiISwSwiIhLBLny68nV+z7VYvL7A8/yotFQlgkhEVCWCSERUJYJIRFQlgkhEVCWCSEReI8OGvr3dbUqK2vTB2scnTCIiEsEsIiISwSwiIhLBLCIiEsEsIiISwSwiIxuYQe3HQOuvD+dd/1+ewoLxYJYZEQFglhkRAWCWGREBYJYZEQFglhkRAWifPWC6kVDlavMsqLRUJYJIRFQlgkhEVCWCSERUJYJIRFQlgkhEVCWCQmf2H1mBysXmWUF4uEsEgIi4SwSAiLhLBICIuEsEgIi4SwSAiLxBUOVi/smAergxys8okIi4SwSAiLhLBICIuEsEgIi4SwSAiLhLBICIvE5MGqUYtzFkctcrDKJyIsEsIiISwSwiIhLBLCIiEsEsIiISwSwiKx9y+sHnDUvlvO2VFeLBLCIiEsEsIiISwSwiIhLBLCIiEsEsIiISwS7gqHR+275Zwd5cUiISwSwiIhLBLCIiEsEsIiISwSwiIhLBLCIiEsEg5W3zFq0If/sVYvFglhkRAWCWGREBYJYZEQFglhkRAWCWGREBYJB6vzo1Ycc8vpYJWjExYJYZEQFglhkRAWCWGREBYJYZEQFglhkRAWiZtrf8D/3f35PTXq8eHn1Kh/t7dTo76/vk6NupsadDo9zo3yYpEQFglhkRAWCWGREBYJYZEQFglhkRAWCWGREBYJYZEQFglhkRAWCWGREBYJYZEQFglhkRAWCWGREBaJNy7y/FUaY8fBAAAAAElFTkSuQmCC\" style=\"image-rendering: pixelated;\">\n",
              "            </div><div style=\"margin-right:10px; margin-top: 4px;\">\n",
              "              5 <br/>\n",
              "              <img src=\"data:image/PNG;base64,iVBORw0KGgoAAAANSUhEUgAAAMgAAACvCAIAAAA3ywYrAAAChUlEQVR4nO3dMU1EQRhG0X0EMyhAAC1BBg0lCEAAW1LgAxwgAgfYQAKP5L+7THJO/fJli5tpJpPdPq9uDjs8vrz++s3x6cHUnp2dU4MGf9XOqYs9H8FfCYuEsEgIi4SwSAiLhLBICIuEsEgIi4SwSAiLxHb98bXnuxPfv647NXjnPej0l/pOLBLCIiEsEsIiISwSwiIhLBLCIiEsEsIiISwSmwers1Pr3nLOTjmxSAiLhLBICIuEsEgIi4SwSAiLhLBICIuEsEgIi4QHq8NT616fz045sUgIi4SwSAiLhLBICIuEsEgIi4SwSAiLhLBIeLD6h6k9Bv86dd0L04MTi4iwSAiLhLBICIuEsEgIi4SwSAiLhLBICIuEsEhcLn3T+T+n9lj3Jt6DVc5JWCSERUJYJIRFQlgkhEVCWCSERUJYJIRFwoPV4amlbzk9WOW/ExYJYZEQFglhkRAWCWGREBYJYZEQFglhkRAWCf+wOjy17vX57JQTi4SwSAiLhLBICIuEsEgIi4SwSAiLhLBICIuEB6vDU+vecs5OObFICIuEsEgIi4SwSAiLhLBICIuEsEgIi4SwSHhXODy17i3n7JQTi4SwSAiLhLBICIuEsEgIi4SwSAiLhLBICIuEsEh4sDo8te71+eyUE4uEsEgIi4SwSAiLhLBICIuEsEgIi4SwSAiLhAerw1Pr3nLOTjmxSAiLhLBICIuEsEgIi4SwSAiLhLBICIuEsEgIi8R27h+Qu317mZq6fz5OTd19f09N3U4NHQ7vc1NOLBLCIiEsEsIiISwSwiIhLBLCIiEsEsIiISwSwiIhLBLCIiEsEsIiISwSwiIhLBLCIiEsEsIiISwSwiLxA3iTHIB/63HYAAAAAElFTkSuQmCC\" style=\"image-rendering: pixelated;\">\n",
              "            </div><div style=\"margin-right:10px; margin-top: 4px;\">\n",
              "              6 <br/>\n",
              "              <img src=\"data:image/PNG;base64,iVBORw0KGgoAAAANSUhEUgAAAMgAAACvCAIAAAA3ywYrAAACf0lEQVR4nO3dsUlEQRhGUVdMNbcOsQFjsQ0bMLIGG7ANMbYD67AAG7ABwSf8F9+s58SPjw0ukwzDHi6uH082eH87//Gbq5tPU1t2/sPU6ZaP4LeERUJYJIRFQlgkhEVCWCSERUJYJIRFQlgkhEXibOmbzh1OrXt9PjvlxCIhLBLCIiEsEsIiISwSwiIhLBLCIiEsEsIicbb0hdQOp9a95ZydcmKREBYJYZEQFglhkRAWCWGREBYJYZEQFglhkRAWCQ9Wh6fWvT6fnXJikRAWCWGREBYJYZEQFglhkRAWCWGREBYJYZHwYHV4at1bztkpJxYJYZEQFglhkRAWCWGREBYJYZEQFglhkRAWCWGR8GB1eGrd6/PZKScWCWGREBYJYZEQFglhkRAWCWGREBYJYZEQFonDxfXjlu/2eSG18R5wyg6vJnc75cQiISwSwiIhLBLCIiEsEsIiISwSwiIhLBLCIiEsEsf/YHXQujfxHqxyJIRFQlgkhEVCWCSERUJYJIRFQlgkhEVCWCT8w+rw1D4vTD1Y5UgIi4SwSAiLhLBICIuEsEgIi4SwSAiLhLBIHP+7Qn+E+SdTTiwSwiIhLBLCIiEsEsIiISwSwiIhLBLCIiEsEsIi4cHq8NS61+ezU04sEsIiISwSwiIhLBLCIiEsEsIiISwSwiIhLBIerA5PrXvLOTvlxCIhLBLCIiEsEsIiISwSwiIhLBLCIiEsEsIiISwSh7/+Ad97ubycmrr7+Jiaun1+mpo6uX+YWnqdGhrlxCIhLBLCIiEsEsIiISwSwiIhLBLCIiEsEsIiISwSwiIhLBLCIiEsEsIiISwSwiIhLBLCIiEsEsIiISwSXxPhICkzRe+GAAAAAElFTkSuQmCC\" style=\"image-rendering: pixelated;\">\n",
              "            </div><div style=\"margin-right:10px; margin-top: 4px;\">\n",
              "              7 <br/>\n",
              "              <img src=\"data:image/PNG;base64,iVBORw0KGgoAAAANSUhEUgAAAMgAAACvCAIAAAA3ywYrAAACfElEQVR4nO3bwUlDURRFUSNYRDqwAMEm7MMGLMMGtAzJ1AIEC3Di1DRgATYgGOFu/A/XGodDBps3+dzd5/vT2QleLq9+/M3126upU3b+w9T5KT+C3xIWCWGREBYJYZEQFglhkRAWCWGREBYJYZEQFond88XHKb/b5pfODU6t+/l8dsqLRUJYJIRFQlgkhEVCWCSERUJYJIRFQlgkhEVi52B1dmrdr5yzU14sEsIiISwSwiIhLBLCIiEsEsIiISwSwiIhLBLCIuFgdXhq3c/ns1NeLBLCIiEsEsIiISwSwiIhLBLCIiEsEsIiISwSax+sDnKwOjvlxSIhLBLCIiEsEsIiISwSwiIhLBLCIiEsEsIiISwSax+sDnKwOjvlxSIhLBLCIiEsEsIiISwSwiIhLBLCIiEsEsIisfbB6ganlr4ydbDK1gmLhLBICIuEsEgIi4SwSAiLhLBICIuEsEgIi8TaB6sbnFr38/nslBeLhLBICIuEsEgIi4SwSAiLhLBICIuEsEgIi4SD1eGpdb9yzk55sUgIi4SwSAiLhLBICIuEsEgIi4SwSAiLhLBIuCscnlr3K+fslBeLhLBICIuEsEgIi4SwSAiLhLBICIuEsEgIi4SwSDhYHZ5a9/P57JQXi4SwSAiLhLBICIuEsEgIi4SwSAiLhLBICIuEg9XhqXW/cs5OebFICIuEsEgIi4SwSAiLhLBICIuEsEgIi4SwSAiLxO6v/8D3bh7up6YOt3dTU0/7/dTU4/E4NXWYGhrlxSIhLBLCIiEsEsIiISwSwiIhLBLCIiEsEsIiISwSwiIhLBLCIiEsEsIiISwSwiIhLBLCIiEsEsIiISwSX++VKWPmf7Q0AAAAAElFTkSuQmCC\" style=\"image-rendering: pixelated;\">\n",
              "            </div><div style=\"margin-right:10px; margin-top: 4px;\">\n",
              "              8 <br/>\n",
              "              <img src=\"data:image/PNG;base64,iVBORw0KGgoAAAANSUhEUgAAAMgAAACvCAIAAAA3ywYrAAACoklEQVR4nO3dsU0dQRRAUdb6NVAGVVhy8gM3QOoCqIAC7ALsKghILNEPTRBQggdp7jIjnxOv3ie42uTpscfD2+3NgJfv3/75zNenv0aNzPkfRn0ZeQg+SlgkhEVCWCSERUJYJIRFQlgkhEVCWCSERUJYJI676/3Ic4Or3BGDW8wRC+5f912fzx3ljUVCWCSERUJYJIRFQlgkhEVCWCSERUJYJIRF4nL+FmnEvmuyra9MHayyOmGREBYJYZEQFglhkRAWCWGREBYJYZEQFglhkXCwOnnUvuvzuaO8sUgIi4SwSAiLhLBICIuEsEgIi4SwSAiLhLBIXCbOmriVm/iLJ5/Rbn1l6mCV1QmLhLBICIuEsEgIi4SwSAiLhLBICIuEsEgIi8TMJfRE5y9NZ9n6ytTBKqsTFglhkRAWCWGREBYJYZEQFglhkRAWCWGROB7ebkeeO3khNWjB29etr0wdrLI6YZEQFglhkRAWCWGREBYJYZEQFglhkRAWCWGRuGy96RzhC6ufMsobi4SwSAiLhLBICIuEsEgIi4SwSAiLhLBICIvEoger+47aevfqYJXVCYuEsEgIi4SwSAiLhLBICIuEsEgIi4SwSBx31/uR59ZcSC04at8t59xR3lgkhEVCWCSERUJYJIRFQlgkhEVCWCSERUJYJIRFwsHq5FFr/offkz9Fe+ONRURYJIRFQlgkhEVCWCSERUJYJIRFQlgkhEVi7w9hLjhqzS3nIAerrE5YJIRFQlgkhEVCWCSERUJYJIRFQlgkhEVCWCSOz/4DctffP2eN+vH4a9aoP6+vs0Y9zxo0lTcWCWGREBYJYZEQFglhkRAWCWGREBYJYZEQFglhkRAWCWGREBYJYZEQFglhkRAWCWGREBYJYZEQFglhkXgHxKwFq0zUfsYAAAAASUVORK5CYII=\" style=\"image-rendering: pixelated;\">\n",
              "            </div><div style=\"margin-right:10px; margin-top: 4px;\">\n",
              "              9 <br/>\n",
              "              <img src=\"data:image/PNG;base64,iVBORw0KGgoAAAANSUhEUgAAAMgAAACvCAIAAAA3ywYrAAACh0lEQVR4nO3dsY1TQRhG0eeVmzBtbEa2OaIEQjakFlJCSlhtDZtRATlugwYs8Vb6r+wx58TWJwdXk4xG7/D0+3nb4ePPb//8zduX76b27PwPUw97fgTvJSwSwiIhLBLCIiEsEsIiISwSwiIhLBLCIiEsEselbzpvcGrd6/PZKScWCWGREBYJYZEQFglhkRAWCWGREBYJYZEQFomDB6uzU+vecs5OObFICIuEsEgIi4SwSAiLhLBICIuEsEgIi4SwSAiLhAerw1PrXp/PTjmxSAiLhLBICIuEsEgIi4SwSAiLhLBICIuEsEh4sDo8tfNqctANXphuTiwiwiIhLBLCIiEsEsIiISwSwiIhLBLCIiEsEsIicbz2H7js7h+sDrrBm/jNiUVEWCSERUJYJIRFQlgkhEVCWCSERUJYJIRF4kbvCu/+werdTzmxSAiLhLBICIuEsEgIi4SwSAiLhLBICIuEsEgIi4QvrA5PrXt9PjvlxCIhLBLCIiEsEsIiISwSwiIhLBLCIiEsEsIi4Qurw1Pr3nLOTjmxSAiLhLBICIuEsEgIi4SwSAiLhLBICIuEsEh4Vzg8te4t5+yUE4uEsEgIi4SwSAiLhLBICIuEsEgIi4SwSAiLhLBIeLA6PLXu9fnslBOLhLBICIuEsEgIi4SwSAiLhLBICIuEsEgIi8RxcGvpuy0PVmennFgkhEVCWCSERUJYJIRFQlgkhEVCWCSERUJYJIRF4nDtP3DZy+k0NfXr65+pqR+PH6amzp/PU1Ofpoa27XVuyolFQlgkhEVCWCSERUJYJIRFQlgkhEVCWCSERUJYJIRFQlgkhEVCWCSERUJYJIRFQlgkhEVCWCSERUJYJP4C7U0SfG6F+6MAAAAASUVORK5CYII=\" style=\"image-rendering: pixelated;\">\n",
              "            </div></div>"
            ],
            "text/plain": [
              "<IPython.core.display.HTML object>"
            ]
          },
          "metadata": {
            "tags": []
          }
        },
        {
          "output_type": "stream",
          "text": [
            "Visualization\n"
          ],
          "name": "stdout"
        },
        {
          "output_type": "display_data",
          "data": {
            "text/html": [
              "<div style=\"display: flex; flex-direction: row;\"><div style=\"margin-right:10px; margin-top: 4px;\">\n",
              "              0 <br/>\n",
              "              <img src=\"data:image/PNG;base64,iVBORw0KGgoAAAANSUhEUgAAAMgAAACrCAIAAACsWkQ9AAAE+ElEQVR4nO3dPW9bZRyG8f+xj+0kzgsixSQFJ4gWMSAhURXBhATsLBVMHfgMDMyIGQEfoGKohJj4DAWpAqlAxdICivJSHNPECanjJnZ8fHzMV7jPcE9cv/nWkZVePYsfPU5urX8dmq9mn4nLiJger4nLx9O/xGVzY1lc9rpDcRkR1VkhLpNGXVxOs7H+AWq1hrhcbKXist/LxWVr+oy4jIj97LG4rOgPBXSEBQvCggVhwYKwYEFYsCAsWBAWLAgLFoQFC8KCBWHBgrBgkf47OBGn23GuP/fT/CNx+UV8rj60rv43mE2n6jMjqivqmYVscCEu87p6YCEiquNMXBYX6l8gH43E5XuvfCguI+L21m1xyRsLFoQFC8KCBWHBgrBgQViwICxYEBYsCAsWhAULwoIFYcGCsGBBWLBI/qz8IU7fr7+uP7d99Zq4/P3BPXG5vqaeb+kei8OIiOaCeinI4HwmLhfn5vUPcHZ+Ji6X1VtRYpwtiMs331AP7UTEjz9NxCVvLFgQFiwICxaEBQvCggVhwYKwYEFYsCAsWBAWLAgLFoQFC8KCRXrjygfidNip6s9tXOqIy3ymHhnoZovisogn4jIi+meJuEzlu0amM/X6kIgo5L9AZbUlLrNHR+Ly519r4rIU3liwICxYEBYsCAsWhAULwoIFYcGCsGBBWLAgLFgQFiwICxaEBYt07fKuON3eK3G64dGheiOA+s1+RDtXry74e6b+jktEtNdeEJedrnpko15TT0xERL0yJy5XK+qpjdO6+szlefVGjIg4PlH/WXljwYKwYEFYsCAsWBAWLAgLFoQFC8KCBWHBgrBgQViwICxYEBYs0t7wZXFaFDv6czdXmuKyI39j38v2xWVelDhcUFnqi8skUR+bVEr8j82KsbjcHav3LDRGI3F59a1UXEbE8Q/qkjcWLAgLFoQFC8KCBWHBgrBgQViwICxYEBYsCAsWhAULwoIFYcEijVP1JwxqSYkKt54MxGWjUO8OaF9WT0zsbD8VlxHRP1APAjTm1AsRVqrqb1hERC4/tt1Qr074Z25BXGb7JU6C6HhjwYKwYEFYsCAsWBAWLAgLFoQFC8KCBWHBgrBgQViwICxYEBYsCAsW6fKLG+p256H+3MVCvWriMNQrMQ4u1GdOIheXEVEdyj/l0lAfe3JW4qaNLFPP7XRO1QM2+UR95sPekrgshTcWLAgLFoQFC8KCBWHBgrBgQViwICxYEBYsCAsWhAULwoIFYcEi/eTGoTj9+K761XpEVIbqQYBmVb2+osgm6jIKcRkRN6s3xeW30+/UDzAq85srdfValM2m+tidofpXba88Ky4jYmug3vXCGwsWhAULwoIFYcGCsGBBWLAgLFgQFiwICxaEBQvCggVhwYKwYJF++f2qOE2mPf25k1pLXA5n6hfmb196TlzePToQlxFxf+OeuFzYU59ZS0ocGTjMuuKy+rQmLisj9XTJ5vW+uIyIrY665I0FC8KCBWHBgrBgQViwICxYEBYsCAsWhAULwoIFYcGCsGBBWLBIN1pH4vRB6x39uaNMTXZ+Xj2JcFp9V1zOVb4RlxHx0muvisv727vi8vrz1/QP0D1Q/7D99Bdxub6k3t3w2509cVkKbyxYEBYsCAsWhAULwoIFYcGCsGBBWLAgLFgQFiwICxaEBQvCggVhAQAAAAAAAAAAAAAA4H/oP8Q454q+FZwmAAAAAElFTkSuQmCC\" style=\"image-rendering: pixelated;\">\n",
              "            </div><div style=\"margin-right:10px; margin-top: 4px;\">\n",
              "              1 <br/>\n",
              "              <img src=\"data:image/PNG;base64,iVBORw0KGgoAAAANSUhEUgAAAMgAAACrCAIAAACsWkQ9AAAFD0lEQVR4nO3dTWtcdRiG8edkziSxk05wTEbb0iRtQ2wTqmmxLUUpunChFl8oCNlUFy78Av0UuhXcCCpCERQtgviCpGRhoUpbrCQppmRiTYc2SSUvk0wyMyd+hXsW98rrt745nE4vziaH/0kuHDsQmm9nFsVlROS6O9VlfUdcPjmu3mr1Vhu3Wh4qicsHlUfisrO3W7+B5mpdXCZ7u8Rltr4tLs+/f05cRsTXH0+Jyw79ooCOsGBBWLAgLFgQFiwICxaEBQvCggVhwYKwYEFYsCAsWBAWLJKjydPidC4318aFs0wcdnTmxGWh3hSXW13qNSNie7slLvN5+bKtXf0GkjQRl40d+VblX3VHvmZE6P8qnliwICxYEBYsCAsWhAULwoIFYcGCsGBBWLAgLFgQFiwICxaEBQvCgkW6dkY96KL3uvp2R0Sk5T5xufJgRVyenDgtLn+5fF1cRkTaUxCXyUZNXI6/PKrfwB8/T4vLM2+cEJfXrtwUl0eOFsVlRNydXROXPLFgQViwICxYEBYsCAsWhAULwoIFYcGCsGBBWLAgLFgQFiwICxbJeXl6dU8bn/E4mT0jLn9t/C4uk5Z60Eiro40XMfKZetRFU75sUb5mRKzlU3H5REM9FmU5pz4yuuRlRGztqDfAEwsWhAULwoIFYcGCsGBBWLAgLFgQFiwICxaEBQvCggVhwYKwYJEOfPCuOE0ufdrGdd9RP7nR+kx9Z2H4xH5x+dfN++IyIvL96tkNjSX17IauIfXoiojYrSyLy4OvjonLR9/fEZeHBkriMiKm5x+KS55YsCAsWBAWLAgLFoQFC8KCBWHBgrBgQViwICxYEBYsCAsWhAWL5MILw+L0hxttvDIwvLkpLv9M1fcgDjZb4vJep3oaQkQU5PMINuSzG7J2zm7o0E+akC+bdqq/aseO+qtGRF1e8sSCBWHBgrBgQViwICxYEBYsCAsWhAULwoIFYcGCsGBBWLAgLFik26XHxWmzPq9ft3fiOXG5e1n9MsVS72PisrW6JS4jou/4AXFZu70oLg+PqsdMRMS9maq4HDk7JC7vXKuIy2dfHBCXEfHb1b/FJU8sWBAWLAgLFoQFC8KCBWHBgrBgQViwICxYEBYsCAsWhAULwoIFYcEieU+eflVWX7CJiNLDf8VlJafGnbTUj6Nk+jEbEf3ySRsrXXlx2SMfNBIRNf0Ik+2GOMxS+fySZhvnl+h4YsGCsGBBWLAgLFgQFiwICxaEBQvCggVhwYKwYEFYsCAsWBAWLNK3738oTj/Zf0m/7qmL58Rl5fMpcTn+0pC4vDFZEZcRkRssistsYU1c9h3r129gfWZJXA6O9onLxellcfn8W8fFZURMfnNbXPLEggVhwYKwYEFYsCAsWBAWLAgLFoQFC8KCBWHBgrBgQViwICxYJKdHnhKns4vq3/Yj4lRtU1xOFbrF5eFaXVzO96gfR4mIkQ31+yhzvQVxWV6t6TdQ3aP+Aoc21V9gYa/6C+TW2/g8jPqfyhMLJoQFC8KCBWHBgrBgQViwICxYEBYsCAsWhAULwoIFYcGCsGCRFov7xGm2MKhft/G6Os6+uyIuS6+cFZd3f/xHXEbEkYtvisvZLybF5diEes2IqH75kbgsvzYmLud/uiUui/vaOGZis6oeM8ETCxaEBQvCggVhwYKwYEFYsCAsWBAWLAgLFoQFC8KCBWHBgrBgQVgAAAAAAAAAAAAAAAD4H/oPhm/hPt4Fz+MAAAAASUVORK5CYII=\" style=\"image-rendering: pixelated;\">\n",
              "            </div><div style=\"margin-right:10px; margin-top: 4px;\">\n",
              "              2 <br/>\n",
              "              <img src=\"data:image/PNG;base64,iVBORw0KGgoAAAANSUhEUgAAAMgAAACrCAIAAACsWkQ9AAAE2UlEQVR4nO3dPW+bVRjG8fuxj9/y5lqO2kgVISKigCJ1RyqMCAb2LoiVT4AQfARm1u4sIFVdWFCFVKQKJAYY2rSkUQgxiU1jx3acuLbDV7jOcE38f/Ot01P332d5js5TfPHBdmju/fhCnIyIrbW6OPnry3Nx8uNb6+Lk/d2eOBkR77/eFCcfHQzEyY/eVrcaEQ+eqLvdubEiTj45HomTH77ZFicj4sHuv+JkSV8U0BEWLAgLFoQFC8KCBWHBgrBgQViwICxYEBYsCAsWhAULwoJF+v7poTg6Wirr69ZKhThZkZf9o6O+sS+njP8we72JumxD3epvR2N9A6Wq+lutjGfi5NJKVZz8pXcmTmbhiQULwoIFYcGCsGBBWLAgLFgQFiwICxaEBQvCggVhwYKwYEFYsCAsWKTuutrW9uFUX/dorSFOrp9eiZOTjZo42b58JU5GxLRZESdXj9RfoF9c6Bt4o6L+E3Tb6lUrrX31/pLjsnpoJwtPLFgQFiwICxaEBQvCggVhwYKwYEFYsCAsWBAWLAgLFoQFC8KCRXqrq74wf54yTjdUB+rweUW9aWN5JK85W4iTEbE8VofVGzkitprL+gaGffWyk9GJ+nmYqfzE8Bxu4IkFD8KCBWHBgrBgQViwICxYEBYsCAsWhAULwoIFYcGCsGBBWLBI+zfUd/bTTsa6g6Z6e0Lxt3q4oLiuXrIwzPmKR6OpHq84lZetNDLODIz76uSGfHfD3qH6+3/2zrr6x0d88/uJOMkTCxaEBQvCggVhwYKwYEFYsCAsWBAWLAgLFoQFC8KCBWHBgrBgkbZ7VXH02UK9YiAiLk/U1/uNWhInL07Uzz20rtSvXUREaTQXJ1fkayZinPFpjCKpv8BIvhHjtaT+/j8M+uJkFp5YsCAsWBAWLAgLFoQFC8KCBWHBgrBgQViwICxYEBYsCAsWhAWLtL+pvoefHGTcR1Brq/csnB+rb+yLLfVwwWgv48sUr+rqUYjRqbrsZCPndMNQXTatqr/qxVD9Sy0f6R/cyMATCxaEBQvCggVhwYKwYEFYsCAsWBAWLAgLFoQFC8KCBWHBgrBgQViwSLc76lc0dusTfd3umXoYo1Gop3EqXfXYzKKacSnIrK9udU2+aaPeV8+3RMS0pm4gnakHbOY1+TsuGT9VxEzdAE8sWBAWLAgLFoQFC8KCBWHBgrBgQViwICxYEBYsCAsWhAULwoJF+uTr98TRz+/e19cdbqqvwcvP1DXLO+qL+MXjjEtB5nfUMwvpobqB+k5N38D48aU4eXNzVZzsPR+Ik1+9e1OcjIgvH/0lTvLEggVhwYKwYEFYsCAsWBAWLAgLFoQFC8KCBWHBgrBgQViwICxYpLs/n4mjP11f0tf97h/1jf21pH4dpDhQr5mYlTK+OHJtryVODkqn6pod9eqEiGiV1OMV+3+qZxa2C/Ugxrcvj8XJLDyxYEFYsCAsWBAWLAgLFoQFC8KCBWHBgrBgQViwICxYEBYsCAsWRWvpljh6uejo606n6uv9SlmNezpvy2tmbLVa/lTewD1xcjGf6hsI9XBDFFGVJ9UNzK4yPqIxW1yIkzyxYEFYsCAsWBAWLAgLFoQFC8KCBWHBgrBgQViwICxYEBYsCAsWhAUAAAAAAAAAAAAAAID/of8ArpXfrgERqz8AAAAASUVORK5CYII=\" style=\"image-rendering: pixelated;\">\n",
              "            </div><div style=\"margin-right:10px; margin-top: 4px;\">\n",
              "              3 <br/>\n",
              "              <img src=\"data:image/PNG;base64,iVBORw0KGgoAAAANSUhEUgAAAMgAAACrCAIAAACsWkQ9AAAE8klEQVR4nO3dvWskdRzH8e/szOxjHu4u5hIQTwtF7hI4O0HFViw8LLQV8QQR/wctxGusrrhCUdvrRMRTa4trRDlRcogIEUUCFzcmu5ts5mHHf+EzxYcUvl/1l98Ok/dOs7/8JtkY9UIznp2KkxHR6w7FyWqhLrudZOLkj2khTkbERt0VJ/dKddlurl5qRCR1LU5uJYk4eU9e88ntdXEyInZ+eSBOdvRFAR1hwYKwYEFYsCAsWBAWLAgLFoQFC8KCBWHBgrBgQViwICxYJOezVBzNmxYVzp/Nxcnu3VKcPH5d/fTqE3XNiKifVrcM5N+rd+CRRt1cEBG7jXoBg2vqRoz0jnoBJ4+JgxER898rcZInFiwICxaEBQvCggVhwYKwYEFYsCAsWBAWLAgLFoQFC8KCBWHBgrBgkfRD3bPRdNU9GxHRFOpRH81I3bdTzdStIN1ldc2IKCfqsr2hfAeOW5xKkq71xcnhgbodqLygrtkbz8XJiNhbqPeKJxYsCAsWhAULwoIFYcGCsGBBWLAgLFgQFiwICxaEBQvCggVhwSK7eHlFHP3r/qG+7nPvPCpO7tz6Q5wcXFMvdfrlkTgZEdnz6ttZyu+O1TXld5NExHSmnrTRbxbiZLE/EycneZuHi/r5PLHgQViwICxYEBYsCAsWhAULwoIFYcGCsGBBWLAgLFgQFiwICxbJw2kmju4lLV7jsRnqsoeVeh7BfFn9GtQT+Vf4iLVUPejhn1X1DqwetTjn4t819aCH9aOL4uRBf1+cfPWoxUaM2zVnN+BMERYsCAsWhAULwoIFYcGCsGBBWLAgLFgQFiwICxaEBQvCgkXWuTJSZ39ucXbD9nuXxMkfPvhTnFyRX6IxTtQdExFx7vqqOLn4eCxOnn/xIf0Cht/8LU5O31L/BBsfqfs7vn5KfYdFRMQ9djfgTBEWLAgLFoQFC8KCBWHBgrBgQViwICxYEBYsCAsWhAULwoJFckF+h8Kk1+Kf/LNCHl5VT3koD9QzDvJ+rn56RFWoL4aos0acHFUtvrGzgboTYe1EPr1ioW5DmObq0RURUZTsbsCZIixYEBYsCAsWhAULwoIFYcGCsGBBWLAgLFgQFiwICxaEBQvCgkW2Lo+O5y3eI7L1xqY4ufvZnjiZPdMTJ9O7p+JkRNRPqPtGhr+pd+D0qv75sfSTuhtn+NKSOHnw1USc7KQtdkOFfNgKTyxYEBYsCAsWhAULwoIFYcGCsGBBWLAgLFgQFiwICxaEBQvCgkVyo3lFHH0//1xfdzPULQO7mfqLeV6oX4Myb7ERY7NUl32QqNsQBk2Lb+xJR122G+oBKp2hegFvT9UzUSLiw4U6zBMLFoQFC8KCBWHBgrBgQViwICxYEBYsCAsWhAULwoIFYcGCsGCRXQp1I8BW1WLLwOGy+jv8inrIQPSvD9TRT2fqZER5ua9ewP1jcbJ6ucWBCEtfqO8RWd5SL3W+o96Bmy+IgxER8a06yBMLFoQFC8KCBWHBgrBgQViwICxYEBYsCAsWhAULwoIFYcGCsGCRrPSvyMMn+rqzYipOdpKuvqwojX19uGrOiZNZJxcni/o1/QLSzm1xcpS/K07O6zfFyXrxuDgZEWX9qzjJEwsWhAULwoIFYcGCsGBBWLAgLFgQFiwICxaEBQvCggVhwYKwYEFYAAAAAAAAAAAAAAAA+B/6D2XE2b8U/brDAAAAAElFTkSuQmCC\" style=\"image-rendering: pixelated;\">\n",
              "            </div><div style=\"margin-right:10px; margin-top: 4px;\">\n",
              "              4 <br/>\n",
              "              <img src=\"data:image/PNG;base64,iVBORw0KGgoAAAANSUhEUgAAAMgAAACrCAIAAACsWkQ9AAAFCUlEQVR4nO3dv4vbdRzH8fc33yR3SS7JNZfcr4oXzhZFwS4VUXAp6NRJEDcnZ3HpVFyko6PYLi6u0qmLoLQWEQUXC1oRtKdW0svletfc5fLr7hL/hVeGFx18PuYXX8Lx7Hfph883+eR8LTRXHxyIy4h4q7gkLr8a7onL5vGxuHyYz4nLiDgen4jL7FxeXF4ajfQf8H25LC6XDg/F5eN6XVxe290VlxHxgbzM6A8FdIQFC8KCBWHBgrBgQViwICxYEBYsCAsWhAULwoIFYcGCsGCRvZVZF6fzMcPphn8vLovL4p22uNwuzInLymCGwwWjxoK4TDs9cfnjpvpXjYjKg5a43F9bFJf1R+qZhZvvvSkuIyK++Foc8saCBWHBgrBgQViwICxYEBYsCAsWhAULwoIFYcGCsGBBWLAgLFgQFiySZmFRnO5OjvTn9uWbNvLyTRvpNBWX03QqLiNi0B+Iy0y1Ki5XD2Y4YtSrVsRl/on62O76qristx6Jy4hQz/fwxoIJYcGCsGBBWLAgLFgQFiwICxaEBQvCggVhwYKwYEFYsCAsWGSfe60pTg9u/6w/d/UZ9VKQXlv95MlhMhGXxb76cZSImGuoXxzJdbri8mBFPbAQEZO2emZh7cKGuBzf+0tcDmf5PEyM1T8sbyxYEBYsCAsWhAULwoIFYcGCsGBBWLAgLFgQFiwICxaEBQvCgkVyLlHbephTr06IiGfLDXG53d0Rl+WiegyhM+qLy4hIR+r3UU7LRXXZU++DiIhcUX3spCx/yiWjni55v6VfyBDX5SVvLFgQFiwICxaEBQvCggVhwYKwYEFYsCAsWBAWLAgLFoQFC8KCRfb85VfF6datH/TnXnx5SVzevdsWl+OJemQgHY3FZUTUN9SfOvj7sbicb9b1HxD/7IvDUakkLvPtbXH5zSvPi8uIiJ9+F4e8sWBBWLAgLFgQFiwICxaEBQvCggVhwYKwYEFYsCAsWBAWLAgLFklTnnYXCvpzhwP1EwZJTf2IQ6ajfsPipKTehhARSX8oLscL6uGCytEMdzf0suo/78JxXn1oWX3m2QP1uxgR8Zu85I0FC8KCBWHBgrBgQViwICxYEBYsCAsWhAULwoIFYcGCsGBBWLAgLFgk777zhji98+V3+nNfuHRBXP5y+564PF1WD9jEzgxHQU5L8+r0SD1gMy3m9B+Q6atHjPKr6l9guq3+BaYrZ8RlROy31ftLeGPBgrBgQViwICxYEBYsCAsWhAULwoIFYcGCsGBBWLAgLFgQFiySK0kiTj8tyDdSRDSG6v/Yt2tVcbm2dyguW4sL4jIiNva64nKrqh4uKJRmuBRk3FOPVySHPXE5v9IQl1dKM3we5uqfnG7AU0VYsCAsWBAWLAgLFoQFC8KCBWHBgrBgQViwICxYEBYsCAsW2TMfvS1OX//4pv7c3kub4nL31y1xOdUvWdh7oi4jxqU5cTnpqhcinK2t6D+gs90Rl5svnhOX9+//IS5vLK+Ly4iI4HQDnirCggVhwYKwYEFYsCAsWBAWLAgLFoQFC8KCBWHBgrBgQViwSOZz6n0EC2sb+nMHO6vicnj6rfrQk1NxmKYz/IOZTGriMptNxWV1rqz/gN5EPd2QnnwoLifp5+KykvtMXEZEq3tZXPLGggVhwYKwYEFYsCAsWBAWLAgLFoQFC8KCBWHBgrBgQViwICxYEBYAAAAAAAAAAAAAAAD+h/4DYQzckz5c0tcAAAAASUVORK5CYII=\" style=\"image-rendering: pixelated;\">\n",
              "            </div><div style=\"margin-right:10px; margin-top: 4px;\">\n",
              "              5 <br/>\n",
              "              <img src=\"data:image/PNG;base64,iVBORw0KGgoAAAANSUhEUgAAAMgAAACrCAIAAACsWkQ9AAAEuElEQVR4nO3dS47jZBSG4WP7d5LKpVJdBaIvEpdBSyyCERugR0xgCWyAhTBiDwwYICExZwWMkGi6GlHq6rolqTiJLzFb+Dz4RrzP+Oi0O3rLE1u/s4vnH4RmdXUjTkbEaLEQJ3frjTg5O1+Kk493K3EyImYXp+JkdbsWJ8vZRL+AZrsXJ8fTkbqzqsXJ0XQsTkbErjqIk7m+FNARFiwICxaEBQvCggVhwYKwYEFYsCAsWBAWLAgLFoQFC8KCRbaYZ+JotVcnI2KSq8M7eWd57MXJRt4ZESP5v1XLk0WnXmpEtPLs+UK9ETw8qjtnJ0d1NGL9qF4rdyxYEBYsCAsWhAULwoIFYcGCsGBBWLAgLFgQFiwICxaEBQvCggVhwSId5qU4mlcD3kbp5zN1dKUeCpItp+rkWn8ZJzr5F+jX6kkbXV7oF5CF+uLKqlJ39sdOnNxUA96G0nHHggVhwYKwYEFYsCAsWBAWLAgLFoQFC8KCBWHBgrBgQViwICxYpNlWfbS+KQY8Bs/26oP4LFfjTgf1extNNuT8klZ9EWBXyn+Hrf7vRy6vbeVL7UP9BVI+4PySRj5AhDsWLAgLFoQFC8KCBWHBgrBgQViwICxYEBYsCAsWhAULwoIFYcEiHZbqIQv9dq3v7RbqOQvdnfx1jtMzcfB4/aDujDgUE3Xtfi9OfvX0lX4Bv77/WZzMUhInm0Z9v+L8xUfiZES8e/NOnOSOBQvCggVhwYKwYEFYsCAsWBAWLAgLFoQFC8KCBWHBgrBgQViwyD48U7/LcL9RDw6ICPkxfMiP4SMl9eSAthlwdsN0og5XtXrMQTnk8Ii2V4enI3XnrlZ3Pns24JyJy7fqJHcsWBAWLAgLFoQFC8KCBWHBgrBgQViwICxYEBYsCAsWhAULwoJFqs7VQxaOq5W+9zhSD0Toa/VAhJifiIPd7U7dGVGX6qV2lbz2pNAvoN+r7xfsk/oqSrdTd15dqzsjIqIR57hjwYKwYEFYsCAsWBAWLAgLFoQFC8KCBWHBgrBgQViwICxYEBYsCAsWablSXwVpx/JBHxFZfVAnc/X4imKrvmCT0oA/mFz+kElRqmtHnXp+SUQ0hbq2OKgvw3TyD5D16pswg3DHggVhwYKwYEFYsCAsWBAWLAgLFoQFC8KCBWHBgrBgQViwICxYpG9uvhRHf5j8pu/Nlxfi5P76Rpzsn5+Kk90/a3EyIiafnKkX8NeDOJl/pu6MiFZeOzpTj0XJ7tRXNl68/FScjIjXf/wtTnLHggVhwYKwYEFYsCAsWBAWLAgLFoQFC8KCBWHBgrBgQViwICxYpO9/Uh+D//LyY33v9Z+X4mSd1K+DnFaVONnJpyFExPR+I07W8tonj1v9AppS/QUO8qdcyvFInDzp3oiTg3DHggVhwYKwYEFYsCAsWBAWLAgLFoQFC8KCBWHBgrBgQViwICxYpM+vvhVHq9ff6XvrNBcnu0b9iMP9Tt3ZtP+KkxFxsxmLk31Xi5O3+6f6BUR/Lw5m5dfi5LH7XZy8fPujOBkREV+Ic9yxYEFYsCAsWBAWLAgLFoQFC8KCBWHBgrBgQViwICxYEBYsCAsWhAUAAAAAAAAAAAAAAID/of8AOVzmY4Cy3RgAAAAASUVORK5CYII=\" style=\"image-rendering: pixelated;\">\n",
              "            </div><div style=\"margin-right:10px; margin-top: 4px;\">\n",
              "              6 <br/>\n",
              "              <img src=\"data:image/PNG;base64,iVBORw0KGgoAAAANSUhEUgAAAMgAAACrCAIAAACsWkQ9AAAE10lEQVR4nO3dzW4bdRiF8Xc8Mxl/xE0am0SEJuIbKiHBArHpgttgxZ5LYstFsEds2KGKBRGioSQ0Ca2TOk7szng8NrdwZnFWPL/10dhNn8wmo/knH3eS0PyVZeIyIrJGXVbdXFwOF6W4nPV76sdHDBcLcTnvqZcdlupXjYjp1pa43KoqcbkePRSX48mNuIyIK3nZ0S8K6AgLFoQFC8KCBWHBgrBgQViwICxYEBYsCAsWhAULwoIFYcEiK558Ik5XP5/o130w3hGXbya34rLcUh+v2Mzn4jIimp562UZ+DqIeqA8sREQyVx+FOPjwHXF58ecLcVl8eiguIyJOLsQhdyxYEBYsCAsWhAULwoIFYcGCsGBBWLAgLFgQFiwICxaEBQvCggVhwUJ9I0hEFHmqj/NmIy7LXH1qJalq9ePlB2wiYlOv1GWq/h4mzVr/AiFftrtS37VSj8fisppMxGUr3LFgQViwICxYEBYsCAsWhAULwoIFYcGCsGBBWLAgLFgQFiwICxbJ8ft74vTytMXZGHlffb6gXKh/se9vq4ejlPdLcRkR27vqCzzup+pldw+G+he4/fdOXHa66lddlupXzdo8CVIv1SdBuGPBgrBgQViwICxYEBYsCAsWhAULwoIFYcGCsGBBWLAgLFgQFiySnvz2hk2bdzfI70OIplD/Yt8t1aNB1sO++vER2b16kMlS/1nJr66IiE1RiMu0qtRr7qhHzoxv1SNnIuJKXnLHggVhwYKwYEFYsCAsWBAWLAgLFoQFC8KCBWHBgrBgQViwICxYZI8+eyROn//2j37dYqD+xX45fyMuB4cjcTm7uBaXETE+PhKX12fn4rL/dot3N0wv1Xc37Bzti8vZ+UtxOfj8WFxGRDw9E4fcsWBBWLAgLFgQFiwICxaEBQvCggVhwYKwYEFYsCAsWBAWLAgLFklHfh9BmraosF6t1cvm6skImXzNWv5HRUSq/3al6iEaSd3m3Q3yeRMd+byJ9d5D9eNvXqvLiFpecseCBWHBgrBgQViwICxYEBYsCAsWhAULwoIFYcGCsGBBWLAgLFgQFiyyx1+oLwU5/bXFS0GyrvrkSlWqz6Kke+qbNprX9+IyIkaHXXE5eaFetjdocTzMYq4+DJPIR7k08sMwWZuTbKJW/7O4Y8GCsGBBWLAgLFgQFiwICxaEBQvCggVhwYKwYEFYsCAsWBAWLJJvCvWP2z8W6rsrIqK6K8Xlqt8Tlxv5cJR8tCsuI6K6lh8EKHJx2VQr/Qsk8k8gK9Wfar6vHg9zcPVKXEbEqbzkjgULwoIFYcGCsGBBWLAgLFgQFiwICxaEBQvCggVhwYKwYEFYsEg2mx/E6ZPOt/p1/37vSFxen56Ly9HxQL3m2VxcRsRb7+6Iy1fPb8XlwQd7+hd4+exGXK53H4jLdDoTlx99/VhcRsTTn34Xl9yxYEFYsCAsWBAWLAgLFoQFC8KCBWHBgrBgQViwICxYEBYsCAsWSZEV4nT/qy/1617+ciIu8231zQXVnfrMQt5Xz8WIiOVcfRCj0/9DXZYtjnvIBurRGGn1nbhset+Ly2qmnosREevNVFxyx4IFYcGCsGBBWLAgLFgQFiwICxaEBQvCggVhwYKwYEFYsCAsWBAWAAAAAAAAAAAAAAAA/of+A0vf1wfCwLKgAAAAAElFTkSuQmCC\" style=\"image-rendering: pixelated;\">\n",
              "            </div><div style=\"margin-right:10px; margin-top: 4px;\">\n",
              "              7 <br/>\n",
              "              <img src=\"data:image/PNG;base64,iVBORw0KGgoAAAANSUhEUgAAAMgAAACrCAIAAACsWkQ9AAAEqUlEQVR4nO3dz24bZRiF8TP2TDxOnCZxMS2NFEqgCuzohmtnyQ2giiXEoCgi0DbFyh/HcTxjm1s4szhiwfNbv/r0dfRoNpm+Lk7fjOX583xmTkra7vTNyWa1NidPvzkwJy+mt+akpKouzclm2ZqTk+ORf4EPV3Nzsizdp7pp3ad68vqZOSnp4uLOnOz5hwI+wkIEYSGCsBBBWIggLEQQFiIICxGEhQjCQgRhIYKwEEFYiCgqe7TtF/65B+utOXnXd+Ou1xtzclW5XwFIGjbuhwAP9hMo7H++pE3PPXZ34x77WLpPtd+6T1VSY0/yxkIEYSGCsBBBWIggLEQQFiIICxGEhQjCQgRhIYKwEEFYiCAsRBAWIsrd8cAcXc6e/HMPT9xVE7eX7p6Jwb571e19h6tq5C4F0dxdClIN/c+RtHx0v0Zp99wnUD24T2A06XDVf67dq/LGQgRhIYKwEEFYiCAsRBAWIggLEYSFCMJCBGEhgrAQQViIICxEFO4Pnkg3RYelIMXWXV+xsU/9oef+Hf4XdVh00a7dpSBbeylI2WkpSOl+XlHaa1GWhXuByl40ImllT/LGQgRhIYKwEEFYiCAsRBAWIggLEYSFCMJCBGEhgrAQQViIICxElHq5586+f+hw7tD9i33z6C5EeNezf/LE/hUTSePP3YUIs4/uQoTBfu1f4Ol+aU4evTo0J5d/3ZiTJ18fmJOSpr/fmpO8sRBBWIggLEQQFiIICxGEhQjCQgRhIYKwEEFYiCAsRBAWIggLEcVze/S236HCyt4y8NSzlzf4Cxk6bJlQZa+ZaOyr9rcdbrCWe4GtfdWevWai6LJmwv0QhTcWQggLEYSFCMJCBGEhgrAQQViIICxEEBYiCAsRhIUIwkIEYSGiXE92zdH2euGfOzl2V0K8v3JXQuzsur9M0S4ac1LS4Jl77OrOPbY+dJ+qpPsb9wnUA3cjRvvkfogwfrFjTkr6+MH9bQreWIggLEQQFiIICxGEhQjCQgRhIYKwEEFYiCAsRBAWIggLEYSFCMJCRHFsj16XHSpcte4GD397hv3bLFoUHXZybOxNG31708awy1KQx8K9QGUv8PD3l2jTYSmI/0syvLEQQViIICxEEBYiCAsRhIUIwkIEYSGCsBBBWIggLEQQFiIICxHlfGx/NDBzd1dIGtTu+orV0l1fUX8xMicXf8/NSUn1yN2K0czdlRh7J0f+BR4uZ+5o7e4v0dLdX/L924l7pvTzu2tzkjcWIggLEYSFCMJCBGEhgrAQQViIICxEEBYiCAsRhIUIwkIEYSGieG2PXvU7VFit3d0Nrb0Sorb3QSz8zQXSvr28YG5fdWgvWZC0tFdCtPYTqKq+e2bjL2RgdwP+a4SFCMJCBGEhgrAQQViIICxEEBYiCAsRhIUIwkIEYSGCsBBR9s9emqPNrx3+k/9XZ8/NyfPffjInX3y5b07OLxfmpKTxm2/NyZvzqTn56jv3TEmXU3d9xunZj+bkH9O35uTRZ+6WB0mfPl2ak7yxEEFYiCAsRBAWIggLEYSFCMJCBGEhgrAQQViIICxEEBYiCAsRhAUAAAAAAAAAAAAAAID/oX8Bmprb8WT6V9AAAAAASUVORK5CYII=\" style=\"image-rendering: pixelated;\">\n",
              "            </div><div style=\"margin-right:10px; margin-top: 4px;\">\n",
              "              8 <br/>\n",
              "              <img src=\"data:image/PNG;base64,iVBORw0KGgoAAAANSUhEUgAAAMgAAACrCAIAAACsWkQ9AAAEn0lEQVR4nO3dQW7jZByG8deO7TTNNOnQqWYGEANCArHkAKy4A3fgCCy5AwskthyFQyAkhDSDhnZapDZNmsSxY67wevEKCZ7f+q+vjvvUm3z9XCzOT+V5vN+Zk5K+mHxmTv7a/+YuWhfmYNf27prS6WJqTrarvTk5XbprStrcu8sWZWlOlsejOXn+fG5OSrq93rgX4C8K+AgLEYSFCMJCBGEhgrAQQViIICxEEBYiCAsRhIUIwkIEYSGicDcMSFU1osJymLhXULvfw+937p6FcjLmD6Z3L0CVe7cm3eD//G7iLtv07rIH+5d17OyPL/mfiicWIggLEYSFCMJCBGEhgrAQQViIICxEEBYiCAsRhIUIwkIEYSGCsBBRTaeVOVqW/hYbLdsLc/Ld/p052cxqc3K/PZiTkura3eHTHdx9O/UT91IlDWv3agf7DmjbmYNV4358SQf7tBWeWIggLEQQFiIICxGEhQjCQgRhIYKwEEFYiCAsRBAWIggLEYSFiGLhbxmw36IhaZC7FaLv3S/MZ/ZJG49jDgW5KNz9Hbe9uw1hMYw4FOTB3jZSHN1lB/ugEdkHjUjyC+CJhQjCQgRhIYKwEEFYiCAsRBAWIggLEYSFCMJCBGEhgrAQQViIqIq6MUeX6xN/3VW9NicHd3ODZi/n5uT6r3t3Uemusa/A3l5RvDjzL0BXD+ZgPbe3omzcjRgXlzNzUtLtzdac5ImFCMJCBGEhgrAQQViIICxEEBYiCAsRhIUIwkIEYSGCsBBBWIgo/G/hH6sxFXb2v/mX7rInjXsewe4w4jyCZnC3DLRqzcnBPmRBUuG/8sNetqjdu9ofRh3J4eKJhQjCQgRhIYKwEEFYiCAsRBAWIggLEYSFCMJCBGEhgrAQQViIqHR5ao4ebx79dadz93UP+01nTtbNE3Oy3e3NSUknz9zJ/a377b7/8TXmDpRT90Fw3Lt7Fs4WE3NS0mrlnnPBEwsRhIUIwkIEYSGCsBBBWIggLEQQFiIICxGEhQjCQgRhIYKwEEFYiCie2qObZsT+ikNr76+YuEdiFL19JkVlH7Mh9faLTEr7pI1yzEkbx8Qd4FAQ/CcRFiIICxGEhQjCQgRhIYKwEEFYiCAsRBAWIggLEYSFCMJCRPXNj1+Zoz9/+8uIdc9m5uTjw9acXFzOzcnNzcaclLR84Z41cne1NifrxdS/gH7lHmEyOXHfztLv3INGPv50YU5K+uP3lTnJEwsRhIUIwkIEYSGCsBBBWIggLEQQFiIICxGEhQjCQgRhIYKwEFH8ZI9+9/zcX3d6fWdOXldu3HXnnjLQ2WtKquxlW3vZmb2mpLZxl+1ad9lJ475zpZn4BzJos+WVJ/hXERYiCAsRhIUIwkIEYSGCsBBBWIggLEQQFiIICxGEhQjCQkT15d335ujfT91JSR+8WpqTx9fu2Q3vffjSnLy6emNOSlq+f25OXr+9NyefffK5fwFvX7sHPXz06gdz8s83X5uTh8E9D0KS5P6yeGIhgrAQQViIICxEEBYiCAsRhIUIwkIEYSGCsBBBWIggLEQQFiIICwAAAAAAAAAAAAAAAP9D/wDtPtlO6pXvDwAAAABJRU5ErkJggg==\" style=\"image-rendering: pixelated;\">\n",
              "            </div><div style=\"margin-right:10px; margin-top: 4px;\">\n",
              "              9 <br/>\n",
              "              <img src=\"data:image/PNG;base64,iVBORw0KGgoAAAANSUhEUgAAAMgAAACrCAIAAACsWkQ9AAAEhUlEQVR4nO3duY7TUBiG4f94SWYcQmZo2AQVgoJLQOKCuCkuB4mChhaEkFhGLNEw2Zx44xa+U3wF4n3qX7YneePGZ47Tw8er0Pz8thMnI6Kskjh57EZxcrmqxcnNZhAnI6JZqJfa7iZxcn6mHjMi9rtenFyuZuJku1M/1aJQzx4RbSsfVj8ooCMsWBAWLAgLFoQFC8KCBWHBgrBgQViwICxYEBYsCAsWhAWLVNbqkoEocpYMpLk4uR9bcXI2VeJkFxmXWo/qSoSuVlc31F3G6objpF5tJd8IBvWjiujUPyoihkkd5o4FC8KCBWHBgrBgQViwICxYEBYsCAsWhAULwoIFYcGCsGBBWLAgLFhU1VIdLdcZ6yuKVSdOpq0a96mWF8Oc1MGIODbq3zXt1WPWTcYvdtrLH6y81UrGuqEy42sNeQMR7liwICxYEBYsCAsWhAULwoIFYcGCsGBBWLAgLFgQFiwICxaEBYs0X6i7d8zGjJ022qlUr2BQ10FM8u4d/ZBxqfpvSz5/lClndYO800bGMfXzDxlnV194wh0LJoQFC8KCBWHBgrBgQViwICxYEBYsCAsWhAULwoIFYcGCsGBRPb39RBz9uP6gH/d+fVec/HL6Kk7eulTfzrK5FgfzDnuzVveEaC5n+gUc1kdxMt1XbwTdlXr2ulEnI+K0V5eNcMeCBWHBgrBgQViwICxYEBYsCAsWhAULwoIFYcGCsGBBWLAgLFikeaE+2+/11xJEVKE+3u/l10gMo7rLQFHIuyxEhL53gfwzrIpKP3/fqx9sCvXvGpO6zULpuVTuWLAgLFgQFiwICxaEBQvCggVhwYKwYEFYsCAsWBAWLAgLFoQFi2r2QH2FRP9dfy9BxFwdHo9q3ItL9VIPm4xLbRbqkoHtjfpsvzzPeN1DP6qfQHOhrkTYXquXOk0Zb/HQcceCBWHBgrBgQViwICxYEBYsCAsWhAULwoIFYcGCsGBBWLAgLFgQFixSU6krMboiYylId5LfjSFv4DHJ5y9yfi+DvMSmlLfPmIaMXUmS/MFOo3pY/ZhjzqqZSf4OuGPBgrBgQViwICxYEBYsCAsWhAULwoIFYcGCsGBBWLAgLFgQFizSqzcvxNHXL99mHFh9kUq0J/WB+equ+hqVmx+devqIO4/m4uT680GcPL+X8R6Rww91fcVc3r9kOKiTz54vxcmIeP/ulzjJHQsWhAULwoIFYcGCsGBBWLAgLFgQFiwICxaEBQvCggVhwYKwYFFdt+qz/ceX6mRE/JafrnexEyd3V0dxsoiMV578+SJviCAftr9S3zgSEUWS91k4ql9Bmk7i5PtPvPIE/w7CggVhwYKwYEFYsCAsWBAWLAgLFoQFC8KCBWHBgrBgQViwSFOtPlo/qzL+yX9et+Lkbn8mTi4adcnAdqc+24+IpbwhwkZdhxG3mnP9ArZ79bOalQ/EyW68EifvXDwSJyPi56+P4iR3LFgQFiwICxaEBQvCggVhwYKwYEFYsCAsWBAWLAgLFoQFC8KCBWEBAAAAAAAAAAAAAADgP/QXyEHaU6Jtpk4AAAAASUVORK5CYII=\" style=\"image-rendering: pixelated;\">\n",
              "            </div></div>"
            ],
            "text/plain": [
              "<IPython.core.display.HTML object>"
            ]
          },
          "metadata": {
            "tags": []
          }
        }
      ]
    },
    {
      "cell_type": "markdown",
      "metadata": {
        "id": "QO5RLMGvljDG",
        "colab_type": "text"
      },
      "source": [
        "# NMF on attributions with ```score_fn = tf.reduce_max```\n",
        "Most of the visualzations are 0. Maybe I'm doing something wrong?"
      ]
    },
    {
      "cell_type": "code",
      "metadata": {
        "id": "H6VZnLevj9X7",
        "colab_type": "code",
        "outputId": "c3402114-4ca6-4972-f055-e48a899642b9",
        "colab": {
          "base_uri": "https://localhost:8080/",
          "height": 701
        }
      },
      "source": [
        "score_fn = tf.reduce_max\n",
        "attr = get_attr(model, output_layer_name, hidden_layer_name, some_observations, integrate_steps=10, score_fn=score_fn)\n",
        "reduced = reduce_and_norm(attr)\n",
        "show_with_obs(some_observations, reduced, 10)"
      ],
      "execution_count": 16,
      "outputs": [
        {
          "output_type": "stream",
          "text": [
            "normalize_by 0.0\n",
            "Time left in episode\n"
          ],
          "name": "stdout"
        },
        {
          "output_type": "display_data",
          "data": {
            "text/html": [
              "<div style=\"display: flex; flex-direction: row;\"><div style=\"margin-right:10px; margin-top: 4px;\">\n",
              "              0 <br/>\n",
              "              <img src=\"data:image/PNG;base64,iVBORw0KGgoAAAANSUhEUgAAAMgAAACvCAAAAACdws6gAAAA70lEQVR4nO3RwQmAQBAEQU8MzxyNwBz9mYDCNUfVf2GaHde2hn32gL8IqRFSI6RGSI2QGiE1QmqE1AipEVIjpEZIjZAaITVCaoTUCKkRUiOkRkiNkBohNUJqhNQcswe87m/ny3xESI2QGiE1QmqE1CwTMs7ZC36yzEeE1AipEVIjpEZIjZAaITVCaoTUCKkRUiOkRkiNkBohNUJqhNQIqRFSI6RGSI2QGiE1QmqE1AipEVIjpEZIjZAaITVCaoTUCKkRUiOkRkiNkBohNUJqhNQIqRFSI6RGSI2QGiE1QmqE1AipEVIjpEZIjZAaITUPWicC96vawu8AAAAASUVORK5CYII=\" style=\"image-rendering: pixelated;\">\n",
              "            </div><div style=\"margin-right:10px; margin-top: 4px;\">\n",
              "              1 <br/>\n",
              "              <img src=\"data:image/PNG;base64,iVBORw0KGgoAAAANSUhEUgAAAMgAAACvCAAAAACdws6gAAAA9ElEQVR4nO3RsQ3DQAwEQb3gWA25/wrckEqwAgE/IHZiBrfg+h0znLsHvKUQTSGaQjSFaArRFKIpRFOIphBNIZpCNGNCPrsH/Pd9dDXmI4VoCtEUoilEU4hmTMi6di94yZiPFKIpRFOIphBNIZpCNIVoCtEUoilEU4imEE0hmkI0hWgK0RSiKURTiKYQTSGaQjSFaArRFKIpRFOIphBNIZpCNIVoCtEUoilEU4imEE0hmkI0hWgK0RSiKURTiKYQTSGaQjSFaArRFKIpRFOIphBNIZpCNIVoCtEUoilEU4imEE0hmkI0hWgK0RSiKURTiGZMyA0k7QJ7LifS/wAAAABJRU5ErkJggg==\" style=\"image-rendering: pixelated;\">\n",
              "            </div><div style=\"margin-right:10px; margin-top: 4px;\">\n",
              "              2 <br/>\n",
              "              <img src=\"data:image/PNG;base64,iVBORw0KGgoAAAANSUhEUgAAAMgAAACvCAAAAACdws6gAAAA7klEQVR4nO3RAQ2AMBAEQSCIQgH+taAAE007aXYM3G/+/I49XKsPGKUQTSGaQjSFaArRFKIpRFOIphBNIZpCNIVoCtEUoilEU4imEE0hmkI0hWgK0RSiKURTiKYQTSGaQjSFaArRFKIpRFOIphBNIZpCNIVoCtEUoilEU4imEE0hmkI094yRd8LGNh8pRFOIphBNIZpCNOez+oJBtvlIIZpCNIVoCtEUoilEU4imEE0hmkI0hWgK0RSiKURTiKYQTSGaQjSFaArRFKIpRFOIphBNIZpCNIVoCtEUoilEU4imEE0hmkI0hWgK0WwT8gMpYwLPTPCCNgAAAABJRU5ErkJggg==\" style=\"image-rendering: pixelated;\">\n",
              "            </div><div style=\"margin-right:10px; margin-top: 4px;\">\n",
              "              3 <br/>\n",
              "              <img src=\"data:image/PNG;base64,iVBORw0KGgoAAAANSUhEUgAAAMgAAACvCAAAAACdws6gAAAA7UlEQVR4nO3RAQ2AMAwAQUYQhV9kYQYTAy7Ln4C2n45zW8P+9wGzFKIpRFOIphBNIZplQo6vF14vzV3mI4VoCtEUoilEU4hm3H9fMMkyHylEU4imEE0hmkI0hWgK0RSiKURTiKYQTSGaQjSFaArRFKIpRFOIphBNIZpCNIVoCtEUoilEU4imEE0hmkI0hWgK0RSiKURTiKYQTSGaQjSFaArRFKIpRFOIphBNIZpCNIVoCtEUoilEU4imEE0hmkI0hWgK0RSiKURTiKYQTSGaQjSFaArRFKIpRFOIphBNIZpCNIVoCtEUoilEU4jmAZQWAxUaJhRSAAAAAElFTkSuQmCC\" style=\"image-rendering: pixelated;\">\n",
              "            </div><div style=\"margin-right:10px; margin-top: 4px;\">\n",
              "              4 <br/>\n",
              "              <img src=\"data:image/PNG;base64,iVBORw0KGgoAAAANSUhEUgAAAMgAAACvCAAAAACdws6gAAAA70lEQVR4nO3dwQmAMBAAQRX7/9uOlfn1KwYyhJ3/5ViugOzXNsw97qnvjpnLRypEU4imEE0hmkI0hWgK0RSiKURTiKYQTSGaQjSFaArRFKIpRFOIphBNIZpCNIVoCtEUoilEU4imEE0hmkI0hWgK0RSiKURTiKYQTSGaQjSFaArRFKIpRFOIphBNIZpCNIVoCtEUoilEU4imEE0hmkI0hWgK0RSiKURTiKYQTSGaQjTLhJw/56d+DPG2zEUK0RSiKURTiKYQTSGaQjSFaArRFKIpRFOIphBNIZpCNIVoCtEUoilEU4imEE0hmkI0hWgea24DfVYj/HQAAAAASUVORK5CYII=\" style=\"image-rendering: pixelated;\">\n",
              "            </div><div style=\"margin-right:10px; margin-top: 4px;\">\n",
              "              5 <br/>\n",
              "              <img src=\"data:image/PNG;base64,iVBORw0KGgoAAAANSUhEUgAAAMgAAACvCAAAAACdws6gAAAA7UlEQVR4nO3ZIQ6AQAwAQY7w/wejsAjEGWBy2dEV3VR2jE13Tk3tL2/xmUI0hWgK0RSiKURTiKYQTSGaQjSFaArRFKIpRFOIphBNIZpCNIVojr8XeDb3yb1b5iKFaArRFKIpRFOIphBNIZpCNIVoCtEUoilEU4imEE0hmkI0hWgK0RSiKURTiKYQTSGaQjSFaArRFKIpRFOIphBNIZpCNIVoCtEUoilEU4imEE0hmkI0hWgK0RSiKURTiKYQTSGaQjSFaArRFKIpRFOIphBNIZpCNIVoCtEUoilEU4imEE0hmkI0hWgK0RSiWSbkAvJnA1X0v8zsAAAAAElFTkSuQmCC\" style=\"image-rendering: pixelated;\">\n",
              "            </div><div style=\"margin-right:10px; margin-top: 4px;\">\n",
              "              6 <br/>\n",
              "              <img src=\"data:image/PNG;base64,iVBORw0KGgoAAAANSUhEUgAAAMgAAACvCAAAAACdws6gAAAA6ElEQVR4nO3RsQ2AMBAEQUz/tZgWSSnAkhdrJvvsVj/G9Vvze9y7VqwmpEZIjZAaITVCao4JGc/uBYsc8xEhNUJqhNQIqRFSI6RGSI2QGiE1QmqE1AipEVIjpEZIjZAaITVCaoTUCKkRUiOkRkiNkBohNUJqhNQIqRFSI6RGSI2QGiE1QmqE1AipEVIjpEZIjZAaITVCaoTUCKkRUiOkRkiNkBohNUJqhNQIqRFSI6RGSI2QGiE1QmqE1AipEVIjpEZIjZAaITVCaoTUCKkRUiOkRkiNkBohNUJqhNQIqRFSI6RGSI2QmhdnywK7jdD4AwAAAABJRU5ErkJggg==\" style=\"image-rendering: pixelated;\">\n",
              "            </div><div style=\"margin-right:10px; margin-top: 4px;\">\n",
              "              7 <br/>\n",
              "              <img src=\"data:image/PNG;base64,iVBORw0KGgoAAAANSUhEUgAAAMgAAACvCAAAAACdws6gAAAA4klEQVR4nO3PwQnAIAAEQWPBFpVKU4SCS5j5H9w+79iy9ubnzNsHThFSI6RGSI2QGiE1QmqE1AipEVIjpEZIjZAaITVCaoTUCKkRUiOkRkiNkBohNUJqhNQIqRFSI6RGSI2QGiE1QmqE1AipEVIjpEZIjZAaITVCaoTUCKkRUiOkRkiNkBohNUJqhNQIqRFSI6RGSI2QGiE1QmqE1AipEVIjpEZIjZAaITVCaoTUCKkRUiOkRkiNkBohNUJqhNQIqRFSI6RGSI2QGiE1QmqE1AipEVIjpEZIjZAaITVCan4T8gFmLgJutMH96gAAAABJRU5ErkJggg==\" style=\"image-rendering: pixelated;\">\n",
              "            </div><div style=\"margin-right:10px; margin-top: 4px;\">\n",
              "              8 <br/>\n",
              "              <img src=\"data:image/PNG;base64,iVBORw0KGgoAAAANSUhEUgAAAMgAAACvCAAAAACdws6gAAAA8UlEQVR4nO3RwQmAQBAEQU9MwPwTMgWzMQIfgnDNUfXdzzQ7zm0N++wBfxFSI6RGSI2QGiE1y4Qcswd8dL0dlvmIkBohNUJqhNQIqRn37AU/WeYjQmqE1AipEVIjpEZIjZAaITVCaoTUCKkRUiOkRkiNkBohNUJqhNQIqRFSI6RGSI2QGiE1QmqE1AipEVIjpEZIjZAaITVCaoTUCKkRUiOkRkiNkBohNUJqhNQIqRFSI6RGSI2QGiE1QmqE1AipEVIjpEZIjZAaITVCaoTUCKkRUiOkRkiNkBohNUJqhNQIqRFSI6RGSI2QGiE1QmqE1DzacwMRuZDx8AAAAABJRU5ErkJggg==\" style=\"image-rendering: pixelated;\">\n",
              "            </div><div style=\"margin-right:10px; margin-top: 4px;\">\n",
              "              9 <br/>\n",
              "              <img src=\"data:image/PNG;base64,iVBORw0KGgoAAAANSUhEUgAAAMgAAACvCAAAAACdws6gAAAA7klEQVR4nO3RAQ2AQAwEQSBIQjmi0IGJD2yaWQPXSfdrm9Hx9wGrAqkFUgukFkgtkFogtUBqgdQCqQVSC6TWGMj5xcj9wcaYj4DUAqkFUgukFkitMZD9+fuCRY35CEgtkFogtUBqgdQCqQVSC6QWSC2QWiC1QGqB1AKpBVILpBZILZBaILVAaoHUAqkFUgukFkgtkFogtUBqgdQCqQVSC6QWSC2QWiC1QGqB1AKpBVILpBZILZBaILVAaoHUAqkFUgukFkgtkFogtUBqgdQCqQVSC6QWSC2QWiC1QGqB1AKpBVILpBZILZBaILXGQF4x+AMrEAeoaQAAAABJRU5ErkJggg==\" style=\"image-rendering: pixelated;\">\n",
              "            </div></div>"
            ],
            "text/plain": [
              "<IPython.core.display.HTML object>"
            ]
          },
          "metadata": {
            "tags": []
          }
        },
        {
          "output_type": "stream",
          "text": [
            "Color channels (vertical stripes are 'apples'\n"
          ],
          "name": "stdout"
        },
        {
          "output_type": "display_data",
          "data": {
            "text/html": [
              "<div style=\"display: flex; flex-direction: row;\"><div style=\"margin-right:10px; margin-top: 4px;\">\n",
              "              0 <br/>\n",
              "              <img src=\"data:image/PNG;base64,iVBORw0KGgoAAAANSUhEUgAAAMgAAACvCAIAAAA3ywYrAAACfUlEQVR4nO3bwS1FURSG0Uc0oQkNaEG0YWKoDEMTAy0YCCVoQBPa0IDEleyPe1hr/PLnDb7cyck+enx4OWxwd/b65W+u385Nbdn5D1PHW34E3yUsEsIiISwSwiIhLBLCIiEsEsIiISwSwiIhLBInS7907nBq3efz2SlfLBLCIiEsEsIiISwSwiIhLBLCIiEsEsIiISwSJ0s/SO1wat1XztkpXywSwiIhLBLCIiEsEsIiISwSwiIhLBLCIiEsEsIi4WB1eGrd5/PZKV8sEsIiISwSwiIhLBLCIiEsEsIiISwSwiIhLBI7PVgd5GD1V6Z8sUgIi4SwSAiLhLBICIuEsEgIi4SwSAiLhLBICIvE2gerW/z5g9VBDlbZO2GREBYJYZEQFglhkRAWCWGREBYJYZEQFomdHqwuPbXFD7+9buRglb0TFglhkRAWCWGREBYJYZEQFglhkRAWCWGREBaJtQ9W9zk1ZemXeF8sEsIiISwSwiIhLBLCIiEsEsIiISwSwiIhLBIOVoenln7ldLDK3gmLhLBICIuEsEgIi4SwSAiLhLBICIuEsEi4KxyeWveVc3bKF4uEsEgIi4SwSAiLhLBICIuEsEgIi4SwSAiLhLBIOFgdnlr3+Xx2yheLhLBICIuEsEgIi4SwSAiLhLBICIuEsEgIi4SD1eGpdV85Z6d8sUgIi4SwSAiLhLBICIuEsEgIi4SwSAiLhLBICIvE0W//gc89nZ5OTV2+v09NXdzfTk09X91MTV1MDR0Oz3NTvlgkhEVCWCSERUJYJIRFQlgkhEVCWCSERUJYJIRFQlgkhEVCWCSERUJYJIRFQlgkhEVCWCSERUJYJIRF4gMNbxuC90/dDwAAAABJRU5ErkJggg==\" style=\"image-rendering: pixelated;\">\n",
              "            </div><div style=\"margin-right:10px; margin-top: 4px;\">\n",
              "              1 <br/>\n",
              "              <img src=\"data:image/PNG;base64,iVBORw0KGgoAAAANSUhEUgAAAMgAAACvCAIAAAA3ywYrAAACpElEQVR4nO3dsW1UURBA0V20IQ04oCOLDhy7AcqgAcfuALkXCiBwA4QETgmQ+MHc3ffsc2I0xtbVS0ajf/758Od0wO8vD//9N59/PRt1ZM5B1/8jTP240+n0aernwd+ERUJYJIRFQlgkhEVCWCSERUJYJIRFQlgkhEXicnCnOLh/fd+jBjfH1zf4C3qxSAiLhLBICIuEsEgIi4SwSAiLhLBICIuEsEhcBmfte2U6OGrfLefsKC8WCWGREBYJYZEQFglhkRAWCWGREBYJYZEQFglhkZhcQm+9NF3wYHXrUV4sEsIiISwSwiIhLBLCIiEsEsIiISwSwiIhLBLnNb+wOmjNg9Ujrv9ZVAerrE5YJIRFQlgkhEVCWCSERUJYJIRFQlgkhEVCWCQW/cLqoH0PVg9ysMoHIiwSwiIhLBLCIiEsEsIiISwSwiIhLBLCInFZ88r0oAXXZGvuXh2s8k4Ii4SwSAiLhLBICIuEsEgIi4SwSAiLhLBICIvEDQ5Wj9h3/7r1Z1EdrLI6YZEQFglhkRAWCWGREBYJYZEQFglhkRAWicmDVaMOzvkIo7xYJIRFQlgkhEVCWCSERUJYJIRFQlgkhEVCWCQm7woH7bsm23fLOTvKi0VCWCSERUJYJIRFQlgkhEVCWCSERUJYJIRFQlgkbnCwesS++9d91+ezo7xYJIRFQlgkhEVCWCSERUJYJIRFQlgkhEVCWCRu8CHMK48atOBqctlRXiwSwiIhLBLCIiEsEsIiISwSwiIhLBLCIiEsEsIicb71f+Df7udGvcyNun/6PjXq5fHb1Kgfd3dTo76+vk6N8mKREBYJYZEQFglhkRAWCWGREBYJYZEQFglhkRAWCWGREBYJYZEQFglhkRAWCWGREBYJYZEQFglhkRAWiTe3kAQFnNSRvgAAAABJRU5ErkJggg==\" style=\"image-rendering: pixelated;\">\n",
              "            </div><div style=\"margin-right:10px; margin-top: 4px;\">\n",
              "              2 <br/>\n",
              "              <img src=\"data:image/PNG;base64,iVBORw0KGgoAAAANSUhEUgAAAMgAAACvCAIAAAA3ywYrAAACb0lEQVR4nO3bsUlEURRFUUdsw1LsQOxg0qnDArQATS3NYJowsAHBEe7GubBW/Dn8YPOSxzscvx5uLnB/fP/1m8+P096pKZf80s1lf7V66vaSj+CvhEVCWCSERUJYJIRFQlgkhEVCWCSERUJYJIRF4m71Tefg1JTVN/GDU04sEsIiISwSwiIhLBLCIiEsEsIiISwSwiIhLBIHD1Znp1ZfmHqwyrUTFglhkRAWCWGREBYJYZEQFglhkRAWCWGREBYJD1aHp/Zen89OObFICIuEsEgIi4SwSAiLhLBICIuEsEgIi4SwSHiwOjy195ZzdsqJRUJYJIRFQlgkhEVCWCSERUJYJIRFQlgkhEVCWCQ8WB2e2nt9PjvlxCIhLBLCIiEsEsIiISwSwiIhLBLCIiEsEsIi4cHq8NTeW87ZKScWCWGREBYJYZEQFglhkRAWCWGREBYJYZEQFglhkfBgdXhq7/X57JQTi4SwSAiLhLBICIuEsEgIi4SwSAiLhLBICIuEB6vDU3tvOWennFgkhEVCWCSERUJYJIRFQlgkhEVCWCSERUJYJLwrHJ7ae8s5O+XEIiEsEsIiISwSwiIhLBLCIiEsEsIiISwSwiIhLBIerA5P7b0+n51yYpEQFglhkRAWCWGREBYJYZEQFglhkRAWCWGR8GB1eGrvLefslBOLhLBICIuEsEgIi4SwSAiLhLBICIuEsEgIi4SwSBz++wd+9ji49fYytXR6fp2aejqfp6aukxOLhLBICIuEsEgIi4SwSAiLhLBICIuEsEgIi4SwSAiLhLBICIuEsEgIi4SwSAiLhLBICIuEsEgIi4SwSHwDA3geb93U/tAAAAAASUVORK5CYII=\" style=\"image-rendering: pixelated;\">\n",
              "            </div><div style=\"margin-right:10px; margin-top: 4px;\">\n",
              "              3 <br/>\n",
              "              <img src=\"data:image/PNG;base64,iVBORw0KGgoAAAANSUhEUgAAAMgAAACvCAIAAAA3ywYrAAACqklEQVR4nO3dMWoWURSAUUdmE6mygawgnb24ADdgLdiEbEGwtkjrAsTe5WQbFrYBn/C+mTd6Tj1cfn4+prlcZrt7uH814OO3N3985sv7n0aNzPkfRr0eeQj+lrBICIuEsEgIi4SwSAiLhLBICIuEsEgIi4SwSOyX3nQOLpgXtOD6fO4obywSwiIhLBLCIiEsEsIiISwSwiIhLBLCIiEsEvvEWZfebR3surtXB6ucSVgkhEVCWCSERUJYJIRFQlgkhEVCWCSERUJYJGYuodd08P710pt4B6usTlgkhEVCWCSERUJYJIRFQlgkhEVCWCSERWJ3GvqbL6zOHeWNRUJYJIRFQlgkhEVCWCSERUJYJIRFQlgkhEVCWCS2p9vHkefW3HQuOGrNpf7gnzDCwSpnEhYJYZEQFglhkRAWCWGREBYJYZEQFglhkdjuHu5Hnjt+2TTi4OXdiEsv+EY4WOVMwiIhLBLCIiEsEsIiISwSwiIhLBLCIiEsEsIisR9/GjriugergxZcnw+OcrDKmYRFQlgkhEVCWCSERUJYJIRFQlgkhEVCWCQcrE4edektpy+ssjphkRAWCWGREBYJYZEQFglhkRAWCWGREBaJ/ewf8LLrrsnW/BDmIHeFrE5YJIRFQlgkhEVCWCSERUJYJIRFQlgkhEVCWCRmLqGP378uOGrN9fkgB6usTlgkhEVCWCSERUJYJIRFQlgkhEVCWCSERWJ7un0cee66a7J//mB1zVHeWCSERUJYJIRFQlgkhEVCWCSERUJYJIRFQlgkhEViO/sHvOztxFlfP8+a9OPDp1mjvt/czBr17vl51qiJvLFICIuEsEgIi4SwSAiLhLBICIuEsEgIi4SwSAiLhLBICIuEsEgIi4SwSAiLhLBICIuEsEgIi4SwSAiLxC8OUejKY7MN6wAAAABJRU5ErkJggg==\" style=\"image-rendering: pixelated;\">\n",
              "            </div><div style=\"margin-right:10px; margin-top: 4px;\">\n",
              "              4 <br/>\n",
              "              <img src=\"data:image/PNG;base64,iVBORw0KGgoAAAANSUhEUgAAAMgAAACvCAIAAAA3ywYrAAACiElEQVR4nO3dsU0EMRBAUUBHQAk0QA10RAEQEBJSABFlIHojIKEEjOS/513ei09zC/pyYs3t5d3b/cWA65vnXz/z/fVq1Mic/zDqauRD8FfCIiEsEsIiISwSwiIhLBLCIiEsEsIiISwSwiJx2vVN5+AF84IWvD6fO8qJRUJYJIRFQlgkhEVCWCSERUJYJIRFQlgkhEXitOaF1Jom/hNmfd3gN1pY5SCERUJYJIRFQlgkhEVCWCSERUJYJIRFQlgkhEVi5sIq49bcMrWwyuqERUJYJIRFQlgkhEVCWCSERUJYJIRFQlgkzrCwOmL73ddZD7/9auhEFlZZnbBICIuEsEgIi4SwSAiLhLBICIuEsEgIi4SwSBz/DasTr3I3vonfnoVVVicsEsIiISwSwiIhLBLCIiEsEsIiISwSwiJx/DesbvwHbv9jwWvevTqxSAiLhLBICIuEsEgIi4SwSAiLhLBICIuEsEgIi8S+F1ZHbPxUa17qe8MqByEsEsIiISwSwiIhLBLCIiEsEsIiISwSwiJxmjjLwurgnP8wyolFQlgkhEVCWCSERUJYJIRFQlgkhEVCWCSERWLmXeHh9wonWnMZ0F4hqxMWCWGREBYJYZEQFglhkRAWCWGREBYJYZEQFomZb1idaNf3ryPW3DK1sMrqhEVCWCSERUJYJIRFQlgkhEVCWCSERUJYJM7wIswRtkz3PsqJRUJYJIRFQlgkhEVCWCSERUJYJIRFQlgkhEVCWCQuz/0Ae/Jxeztr1PvL46xRFw9PsyZ9zhrkxCIiLBLCIiEsEsIiISwSwiIhLBLCIiEsEsIiISwSwiIhLBLCIiEsEsIiISwSwiIhLBLCIiEsEsIiISwSP8wS3PflpfyjAAAAAElFTkSuQmCC\" style=\"image-rendering: pixelated;\">\n",
              "            </div><div style=\"margin-right:10px; margin-top: 4px;\">\n",
              "              5 <br/>\n",
              "              <img src=\"data:image/PNG;base64,iVBORw0KGgoAAAANSUhEUgAAAMgAAACvCAIAAAA3ywYrAAACi0lEQVR4nO3doW0cURRA0d3IDQQauQ+z8ChlJA0YBxi7AQPXknIM00JKyFh6d/3/6Bw8ehpwNeTp7V4f3x4uB3z7+vu/z/z5+7zvqClHXuly7K22HvXlyEPwUcIiISwSwiIhLBLCIiEsEsIiISwSwiIhLBLCInG39aZzcNSUrTfxg6N8sUgIi4SwSAiLhLBICIuEsEgIi4SwSAiLhLBIXB2szo7aemHqYJXVCYuEsEgIi4SwSAiLhLBICIuEsEgIi4SwSAiLxPkPVgctuPNedpQvFglhkRAWCWGREBYJYZEQFglhkRAWCWGREBaJu60XUjf+h9V9F6YOVjkJYZEQFglhkRAWCWGREBYJYZEQFglhkRAWCWGROP/B6o1Hrbk+P8jBKqsTFglhkRAWCWGREBYJYZEQFglhkRAWCWGROP/B6qAFV5MHRx3kYJXVCYuEsEgIi4SwSAiLhLBICIuEsEgIi4SwSAiLhIPVD9h3E+8fVjkJYZEQFglhkRAWCWGREBYJYZEQFglhkRAWievj28OR59ZcSC04anA1OXiJ6h9WOQlhkRAWCWGREBYJYZEQFglhkRAWCWGREBYJd4XDo27/s7wLLkwvvlhEhEVCWCSERUJYJIRFQlgkhEVCWCSERUJYJIRFwsHq8Kh91+ezo3yxSAiLhLBICIuEsEgIi4SwSAiLhLBICIuEsEg4WB0ete+Wc3aULxYJYZEQFglhkRAWCWGREBYJYZEQFglhkRAWCWGRuH72C+S+v76Mzfr1NDXp5/391Kgf7+9Towb5YpEQFglhkRAWCWGREBYJYZEQFglhkRAWCWGREBYJYZEQFglhkRAWCWGREBYJYZEQFglhkRAWCWGREBaJf3+oCZE8jzKdAAAAAElFTkSuQmCC\" style=\"image-rendering: pixelated;\">\n",
              "            </div><div style=\"margin-right:10px; margin-top: 4px;\">\n",
              "              6 <br/>\n",
              "              <img src=\"data:image/PNG;base64,iVBORw0KGgoAAAANSUhEUgAAAMgAAACvCAIAAAA3ywYrAAACnklEQVR4nO3dwW1UMRRA0QlKE6mAPXUgamAFDVAGDbCbirInDaSHrGjBSL6eN6Nz1l+er+TKG+t9P31c3y4Lvvz9vvLYitfP110/N3CplXUWHf6bL/7i4lKfVh6C/yUsEsIiISwSwiIhLBLCIiEsEsIiISwSwiIhLBLPt36B3OHz141n3osGnsRf7FhEhEVCWCSERUJYJIRFQlgkhEVCWCSERUJYJJ7PnyIddr8Dq+cZWGU6YZEQFglhkRAWCWGREBYJYZEQFglhkRAWCWGReD7/Pd3DZ9Uz32omA6tMJywSwiIhLBLCIiEsEsIiISwSwiIhLBLCInGDgdX7nX3daObsq4FVphMWCWGREBYJYZEQFglhkRAWCWGREBYJYZEQFonHv2F1o5kn8TMva7VjkRAWCWGREBYJYZEQFglhkRAWCWGREBYJYZF4/LPC8yduKw5/LPj8UnYsEsIiISwSwiIhLBLCIiEsEsIiISwSwiIhLBLCIvH4N6yyzsAq0wmLhLBICIuEsEgIi4SwSAiLhLBICIuEsEgMvWF10cxZzRUzr5k1sMp0wiIhLBLCIiEsEsIiISwSwiIhLBLCIiEsEjs/bjvzVO7hzbye045FQlgkhEVCWCSERUJYJIRFQlgkhEVCWCSERUJYJJ4+rm8rz20cnpx5aLprqZkn8Yf/fRc7FhFhkRAWCWGREBYJYZEQFglhkRAWCWGREBaJnQOrMx0+vLvraz4NrDKdsEgIi4SwSAiLhLBICIuEsEgIi4SwSAiLhLBIPN36Be7J1z+/t63189eulX68vOxa6tv7+66l7FgkhEVCWCSERUJYJIRFQlgkhEVCWCSERUJYJIRFQlgkhEVCWCSERUJYJIRFQlgkhEVCWCSERUJYJIRF4h9KeajtzMzCBgAAAABJRU5ErkJggg==\" style=\"image-rendering: pixelated;\">\n",
              "            </div><div style=\"margin-right:10px; margin-top: 4px;\">\n",
              "              7 <br/>\n",
              "              <img src=\"data:image/PNG;base64,iVBORw0KGgoAAAANSUhEUgAAAMgAAACvCAIAAAA3ywYrAAACn0lEQVR4nO3dsW1UURBAUX/kJtwGOR1Y9EACDVAGDRC5CapwQAXOHbgFAkrgWZq7+/5yTvw1dnD1ktFojz+fnu4W/H56/Oc3H7/8Whk1aPC/mhq1Mud/GPVh5SN4L2GREBYJYZEQFglhkRAWCWGREBYJYZEQFglhkTieX95WvhtcTw7acP964Z33tqO8WCSERUJYJIRFQlgkhEVCWCSERUJYJIRFQlgkjssfrN72qFNfmTpYZXfCIiEsEsIiISwSwiIhLBLCIiEsEsIiISwSwiJxhYPV2x513vX57CgvFglhkRAWCWGREBYJYZEQFglhkRAWCWGREBaJTQ9WFw3+pquD1dlRXiwSwiIhLBLCIiEsEsIiISwSwiIhLBLCIiEsEsIicX/qTecKB6tXGeXFIiEsEsIiISwSwiIhLBLCIiEsEsIiISwSwiKx6cHqnqNWXPiGdvEvOljlRgiLhLBICIuEsEgIi4SwSAiLhLBICIuEsEgIi8T94KxTL003PKPdcxPvYJVrEhYJYZEQFglhkRAWCWGREBYJYZEQFglhkZjcFZ56t+UXVmdHebFICIuEsEgIi4SwSAiLhLBICIuEsEgIi4SwSBzPL28r3+25kNpw1Hm3nLOjvFgkhEVCWCSERUJYJIRFQlgkhEVCWCSERUJYJIRFwi+sDo867/p8dpQXi4SwSAiLhLBICIuEsEgIi4SwSAiLhLBICIuEg9V3jFox+GOZ512Y3nmxiAiLhLBICIuEsEgIi4SwSAiLhLBICIuEsEgIi8Rx7X8g9/jzx9isb9+nJn19eJga9fn1dWrUIC8WCWGREBYJYZEQFglhkRAWCWGREBYJYZEQFglhkRAWCWGREBYJYZEQFglhkRAWCWGREBYJYZEQFglhkfgLH+8VEdx4NcYAAAAASUVORK5CYII=\" style=\"image-rendering: pixelated;\">\n",
              "            </div><div style=\"margin-right:10px; margin-top: 4px;\">\n",
              "              8 <br/>\n",
              "              <img src=\"data:image/PNG;base64,iVBORw0KGgoAAAANSUhEUgAAAMgAAACvCAIAAAA3ywYrAAACtUlEQVR4nO3dMW5TQRRAURtlE2moWA77QKKgYhmpEIoEy0BZDn32kALRpKBAYop37fnmnNp6/pGuppk8//PbXw+nBT8fP/3zM+8+frntUSsWv27F1COdrvFUb6a+D/4kLBLCIiEsEsIiISwSwiIhLBLCIiEsEsIiISwSd4OzFq8nVy5EDz1qxYbX54ujFp/KiUVCWCSERUJYJIRFQlgkhEVCWCSERUJYJIRFYvKucM8t0wuPOvQt5+AoJxYJYZEQFglhkRAWCWGREBYJYZEQFglhkRAWCWGROL98fVn53J43nRv+RPFxr89nRzmxSAiLhLBICIuEsEgIi4SwSAiLhLBICIuEsEjcHfpCanDUiuNemFpY5UYIi4SwSAiLhLBICIuEsEgIi4SwSAiLhLBICIvEpguriwZfLjr1Bx76Jt7CKrsTFglhkRAWCWGREBYJYZEQFglhkRAWCWGROPbC6oo937A6yMIq/xFhkRAWCWGREBYJYZEQFglhkRAWCWGREBYJYZG42/OneQdd+A8cvPNetOf/BzixSAiLhLBICIuEsEgIi4SwSAiLhLBICIuEsEhYWH114UXTPbdMLayyO2GREBYJYZEQFglhkRAWCWGREBYJYZEQFgl7ha8u/MO1e9692itkd8IiISwSwiIhLBLCIiEsEsIiISwSwiIhLBLCIjG5sLqnPd+wevMva3VikRAWCWGREBYJYZEQFglhkRAWCWGREBYJYZG4wsLqij3XaPdcDd1zjdaJRUJYJIRFQlgkhEVCWCSERUJYJIRFQlgkhEVCWCTO136Av/txfz816vvz89Sop6lBp9P7bw9To54+fJ4aNciJRUJYJIRFQlgkhEVCWCSERUJYJIRFQlgkhEVCWCSERUJYJIRFQlgkhEVCWCSERUJYJIRFQlgkhEVCWCR+A0oG9uXsfU75AAAAAElFTkSuQmCC\" style=\"image-rendering: pixelated;\">\n",
              "            </div><div style=\"margin-right:10px; margin-top: 4px;\">\n",
              "              9 <br/>\n",
              "              <img src=\"data:image/PNG;base64,iVBORw0KGgoAAAANSUhEUgAAAMgAAACvCAIAAAA3ywYrAAACm0lEQVR4nO3dsW1UQRRAUa+1CSVsDW6AIpCLIKEBBy7BASEJganBQjRBJVsCqRtA4q80d3nfPif+elpLV5M8jefw/PL7ZoM/T5//+c2Hxx9GbZnzHkbdbvkILiUsEsIiISwSwiIhLBLCIiEsEsIiISwSwiIhLBLHXW86B47auPOeaeEf6MQiISwSwiIhLBLCIiEsEsIiISwSwiIhLBLCInHc+N3Aq6EzRy1cTV6fC6tMJywSwiIhLBLCIiEsEsIiISwSwiIhLBLCIiEsEseF29D93jJdOGq/6/O1o5xYJIRFQlgkhEVCWCSERUJYJIRFQlgkhEVCWCRcWL1g1EIDt5xrRzmxSAiLhLBICIuEsEgIi4SwSAiLhLBICIuEsEgIi4QXVtePurKZS30nFglhkRAWCWGREBYJYZEQFglhkRAWCWGREBaJrf/cduZCauCo67+wOnNh6sQiISwSwiIhLBLCIiEsEsIiISwSwiIhLBLCIiEsEodvH++2fDdz/7rwBqkXVteOcmKREBYJYZEQFglhkRAWCWGREBYJYZEQFglhkdj3hdUrm3k1dOYoJxYJYZEQFglhkRAWCWGREBYJYZEQFglhkRAWiaEPYc40c2E6c5QTi4SwSAiLhLBICIuEsEgIi4SwSAiLhLBICIuEsEi8/Qur+31hddejnFgkhEVCWCSERUJYJIRFQlgkhEVCWCSERUJYJIY+hLnfUbvevbqwynTCIiEsEsIiISwSwiIhLBLCIiEsEsIiISwSwiJx+N8/4O8+LZz1/euqSb++PKwa9fN0WjXq/nxeNWohJxYJYZEQFglhkRAWCWGREBYJYZEQFglhkRAWCWGREBYJYZEQFglhkRAWCWGREBYJYZEQFglhkRAWCWGReAUvD/7OqgLfVQAAAABJRU5ErkJggg==\" style=\"image-rendering: pixelated;\">\n",
              "            </div></div>"
            ],
            "text/plain": [
              "<IPython.core.display.HTML object>"
            ]
          },
          "metadata": {
            "tags": []
          }
        },
        {
          "output_type": "stream",
          "text": [
            "Visualization\n"
          ],
          "name": "stdout"
        },
        {
          "output_type": "display_data",
          "data": {
            "text/html": [
              "<div style=\"display: flex; flex-direction: row;\"><div style=\"margin-right:10px; margin-top: 4px;\">\n",
              "              0 <br/>\n",
              "              <img src=\"data:image/PNG;base64,iVBORw0KGgoAAAANSUhEUgAAAMgAAACrCAIAAACsWkQ9AAAAeklEQVR4nO3BMQEAAADCoPVPbQo/oAAAAAAAAAAAAAAAAAAAAAAAAAAAAAAAAAAAAAAAAAAAAAAAAAAAAAAAAAAAAAAAAAAAAAAAAAAAAAAAAAAAAAAAAAAAAAAAAAAAAAAAAAAAAAAAAAAAAAAAAAAAAAAAAAAAAOBikYIAAXS1NDgAAAAASUVORK5CYII=\" style=\"image-rendering: pixelated;\">\n",
              "            </div><div style=\"margin-right:10px; margin-top: 4px;\">\n",
              "              1 <br/>\n",
              "              <img src=\"data:image/PNG;base64,iVBORw0KGgoAAAANSUhEUgAAAMgAAACrCAIAAACsWkQ9AAAAeklEQVR4nO3BMQEAAADCoPVPbQo/oAAAAAAAAAAAAAAAAAAAAAAAAAAAAAAAAAAAAAAAAAAAAAAAAAAAAAAAAAAAAAAAAAAAAAAAAAAAAAAAAAAAAAAAAAAAAAAAAAAAAAAAAAAAAAAAAAAAAAAAAAAAAAAAAAAAAOBikYIAAXS1NDgAAAAASUVORK5CYII=\" style=\"image-rendering: pixelated;\">\n",
              "            </div><div style=\"margin-right:10px; margin-top: 4px;\">\n",
              "              2 <br/>\n",
              "              <img src=\"data:image/PNG;base64,iVBORw0KGgoAAAANSUhEUgAAAMgAAACrCAIAAACsWkQ9AAAAeklEQVR4nO3BMQEAAADCoPVPbQo/oAAAAAAAAAAAAAAAAAAAAAAAAAAAAAAAAAAAAAAAAAAAAAAAAAAAAAAAAAAAAAAAAAAAAAAAAAAAAAAAAAAAAAAAAAAAAAAAAAAAAAAAAAAAAAAAAAAAAAAAAAAAAAAAAAAAAOBikYIAAXS1NDgAAAAASUVORK5CYII=\" style=\"image-rendering: pixelated;\">\n",
              "            </div><div style=\"margin-right:10px; margin-top: 4px;\">\n",
              "              3 <br/>\n",
              "              <img src=\"data:image/PNG;base64,iVBORw0KGgoAAAANSUhEUgAAAMgAAACrCAIAAACsWkQ9AAAAeklEQVR4nO3BMQEAAADCoPVPbQo/oAAAAAAAAAAAAAAAAAAAAAAAAAAAAAAAAAAAAAAAAAAAAAAAAAAAAAAAAAAAAAAAAAAAAAAAAAAAAAAAAAAAAAAAAAAAAAAAAAAAAAAAAAAAAAAAAAAAAAAAAAAAAAAAAAAAAOBikYIAAXS1NDgAAAAASUVORK5CYII=\" style=\"image-rendering: pixelated;\">\n",
              "            </div><div style=\"margin-right:10px; margin-top: 4px;\">\n",
              "              4 <br/>\n",
              "              <img src=\"data:image/PNG;base64,iVBORw0KGgoAAAANSUhEUgAAAMgAAACrCAIAAACsWkQ9AAAAeklEQVR4nO3BMQEAAADCoPVPbQo/oAAAAAAAAAAAAAAAAAAAAAAAAAAAAAAAAAAAAAAAAAAAAAAAAAAAAAAAAAAAAAAAAAAAAAAAAAAAAAAAAAAAAAAAAAAAAAAAAAAAAAAAAAAAAAAAAAAAAAAAAAAAAAAAAAAAAOBikYIAAXS1NDgAAAAASUVORK5CYII=\" style=\"image-rendering: pixelated;\">\n",
              "            </div><div style=\"margin-right:10px; margin-top: 4px;\">\n",
              "              5 <br/>\n",
              "              <img src=\"data:image/PNG;base64,iVBORw0KGgoAAAANSUhEUgAAAMgAAACrCAIAAACsWkQ9AAAAeklEQVR4nO3BMQEAAADCoPVPbQo/oAAAAAAAAAAAAAAAAAAAAAAAAAAAAAAAAAAAAAAAAAAAAAAAAAAAAAAAAAAAAAAAAAAAAAAAAAAAAAAAAAAAAAAAAAAAAAAAAAAAAAAAAAAAAAAAAAAAAAAAAAAAAAAAAAAAAOBikYIAAXS1NDgAAAAASUVORK5CYII=\" style=\"image-rendering: pixelated;\">\n",
              "            </div><div style=\"margin-right:10px; margin-top: 4px;\">\n",
              "              6 <br/>\n",
              "              <img src=\"data:image/PNG;base64,iVBORw0KGgoAAAANSUhEUgAAAMgAAACrCAIAAACsWkQ9AAAAeklEQVR4nO3BMQEAAADCoPVPbQo/oAAAAAAAAAAAAAAAAAAAAAAAAAAAAAAAAAAAAAAAAAAAAAAAAAAAAAAAAAAAAAAAAAAAAAAAAAAAAAAAAAAAAAAAAAAAAAAAAAAAAAAAAAAAAAAAAAAAAAAAAAAAAAAAAAAAAOBikYIAAXS1NDgAAAAASUVORK5CYII=\" style=\"image-rendering: pixelated;\">\n",
              "            </div><div style=\"margin-right:10px; margin-top: 4px;\">\n",
              "              7 <br/>\n",
              "              <img src=\"data:image/PNG;base64,iVBORw0KGgoAAAANSUhEUgAAAMgAAACrCAIAAACsWkQ9AAAAeklEQVR4nO3BMQEAAADCoPVPbQo/oAAAAAAAAAAAAAAAAAAAAAAAAAAAAAAAAAAAAAAAAAAAAAAAAAAAAAAAAAAAAAAAAAAAAAAAAAAAAAAAAAAAAAAAAAAAAAAAAAAAAAAAAAAAAAAAAAAAAAAAAAAAAAAAAAAAAOBikYIAAXS1NDgAAAAASUVORK5CYII=\" style=\"image-rendering: pixelated;\">\n",
              "            </div><div style=\"margin-right:10px; margin-top: 4px;\">\n",
              "              8 <br/>\n",
              "              <img src=\"data:image/PNG;base64,iVBORw0KGgoAAAANSUhEUgAAAMgAAACrCAIAAACsWkQ9AAAAeklEQVR4nO3BMQEAAADCoPVPbQo/oAAAAAAAAAAAAAAAAAAAAAAAAAAAAAAAAAAAAAAAAAAAAAAAAAAAAAAAAAAAAAAAAAAAAAAAAAAAAAAAAAAAAAAAAAAAAAAAAAAAAAAAAAAAAAAAAAAAAAAAAAAAAAAAAAAAAOBikYIAAXS1NDgAAAAASUVORK5CYII=\" style=\"image-rendering: pixelated;\">\n",
              "            </div><div style=\"margin-right:10px; margin-top: 4px;\">\n",
              "              9 <br/>\n",
              "              <img src=\"data:image/PNG;base64,iVBORw0KGgoAAAANSUhEUgAAAMgAAACrCAIAAACsWkQ9AAAAeklEQVR4nO3BMQEAAADCoPVPbQo/oAAAAAAAAAAAAAAAAAAAAAAAAAAAAAAAAAAAAAAAAAAAAAAAAAAAAAAAAAAAAAAAAAAAAAAAAAAAAAAAAAAAAAAAAAAAAAAAAAAAAAAAAAAAAAAAAAAAAAAAAAAAAAAAAAAAAOBikYIAAXS1NDgAAAAASUVORK5CYII=\" style=\"image-rendering: pixelated;\">\n",
              "            </div></div>"
            ],
            "text/plain": [
              "<IPython.core.display.HTML object>"
            ]
          },
          "metadata": {
            "tags": []
          }
        }
      ]
    }
  ]
}