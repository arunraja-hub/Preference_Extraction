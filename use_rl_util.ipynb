{
  "nbformat": 4,
  "nbformat_minor": 0,
  "metadata": {
    "colab": {
      "name": "use_rl_util.ipynb",
      "provenance": [],
      "collapsed_sections": [],
      "machine_shape": "hm",
      "include_colab_link": true
    },
    "kernelspec": {
      "name": "python3",
      "display_name": "Python 3"
    },
    "accelerator": "GPU"
  },
  "cells": [
    {
      "cell_type": "markdown",
      "metadata": {
        "id": "view-in-github",
        "colab_type": "text"
      },
      "source": [
        "<a href=\"https://colab.research.google.com/github/arunraja-hub/Preference_Extraction/blob/rl_util/use_rl_util.ipynb\" target=\"_parent\"><img src=\"https://colab.research.google.com/assets/colab-badge.svg\" alt=\"Open In Colab\"/></a>"
      ]
    },
    {
      "cell_type": "markdown",
      "metadata": {
        "id": "9tAQ3OiTyBY0",
        "colab_type": "text"
      },
      "source": [
        "#Install and imports"
      ]
    },
    {
      "cell_type": "code",
      "metadata": {
        "id": "2qFyxgPWtOMF",
        "colab_type": "code",
        "outputId": "348ca319-2d4b-4d52-d9ad-4c17c59df87a",
        "colab": {
          "base_uri": "https://localhost:8080/",
          "height": 1000
        }
      },
      "source": [
        "%tensorflow_version 1.x\n",
        "\n",
        "!pip uninstall lucid -y\n",
        "!pip install git+https://github.com/tensorflow/lucid.git#egg=lucid\n",
        "\n",
        "!git clone https://github.com/arunraja-hub/Preference_Extraction.git\n",
        "\n",
        "!pip install tf-agents==0.3.0\n",
        "\n",
        "!pip uninstall tensorflow-probability -y\n",
        "!pip install tensorflow-probability==0.7.0\n",
        "\n",
        "!npm install -g svelte-cli@2.2.0\n",
        "\n",
        "import tensorflow as tf\n",
        "\n",
        "tf.compat.v1.disable_eager_execution()"
      ],
      "execution_count": 1,
      "outputs": [
        {
          "output_type": "stream",
          "text": [
            "TensorFlow 1.x selected.\n",
            "Uninstalling lucid-0.3.8:\n",
            "  Successfully uninstalled lucid-0.3.8\n",
            "Collecting lucid\n",
            "  Cloning https://github.com/tensorflow/lucid.git to /tmp/pip-install-byw44a18/lucid\n",
            "  Running command git clone -q https://github.com/tensorflow/lucid.git /tmp/pip-install-byw44a18/lucid\n",
            "Requirement already satisfied: numpy in /usr/local/lib/python3.6/dist-packages (from lucid) (1.18.2)\n",
            "Requirement already satisfied: scipy in /usr/local/lib/python3.6/dist-packages (from lucid) (1.4.1)\n",
            "Requirement already satisfied: scikit-learn in /usr/local/lib/python3.6/dist-packages (from lucid) (0.22.2.post1)\n",
            "Requirement already satisfied: umap-learn in /usr/local/lib/python3.6/dist-packages (from lucid) (0.4.1)\n",
            "Requirement already satisfied: nltk in /usr/local/lib/python3.6/dist-packages (from lucid) (3.2.5)\n",
            "Requirement already satisfied: ipython in /usr/local/lib/python3.6/dist-packages (from lucid) (5.5.0)\n",
            "Requirement already satisfied: pillow in /usr/local/lib/python3.6/dist-packages (from lucid) (7.0.0)\n",
            "Requirement already satisfied: future in /usr/local/lib/python3.6/dist-packages (from lucid) (0.16.0)\n",
            "Requirement already satisfied: decorator in /usr/local/lib/python3.6/dist-packages (from lucid) (4.4.2)\n",
            "Requirement already satisfied: pyopengl in /usr/local/lib/python3.6/dist-packages (from lucid) (3.1.5)\n",
            "Requirement already satisfied: filelock in /usr/local/lib/python3.6/dist-packages (from lucid) (3.0.12)\n",
            "Requirement already satisfied: cachetools in /usr/local/lib/python3.6/dist-packages (from lucid) (3.1.1)\n",
            "Requirement already satisfied: more-itertools in /usr/local/lib/python3.6/dist-packages (from lucid) (8.2.0)\n",
            "Requirement already satisfied: joblib>=0.11 in /usr/local/lib/python3.6/dist-packages (from scikit-learn->lucid) (0.14.1)\n",
            "Requirement already satisfied: numba!=0.47,>=0.46 in /usr/local/lib/python3.6/dist-packages (from umap-learn->lucid) (0.48.0)\n",
            "Requirement already satisfied: tbb>=2019.0 in /usr/local/lib/python3.6/dist-packages (from umap-learn->lucid) (2020.0.133)\n",
            "Requirement already satisfied: six in /usr/local/lib/python3.6/dist-packages (from nltk->lucid) (1.12.0)\n",
            "Requirement already satisfied: pickleshare in /usr/local/lib/python3.6/dist-packages (from ipython->lucid) (0.7.5)\n",
            "Requirement already satisfied: traitlets>=4.2 in /usr/local/lib/python3.6/dist-packages (from ipython->lucid) (4.3.3)\n",
            "Requirement already satisfied: simplegeneric>0.8 in /usr/local/lib/python3.6/dist-packages (from ipython->lucid) (0.8.1)\n",
            "Requirement already satisfied: setuptools>=18.5 in /usr/local/lib/python3.6/dist-packages (from ipython->lucid) (46.1.3)\n",
            "Requirement already satisfied: pexpect; sys_platform != \"win32\" in /usr/local/lib/python3.6/dist-packages (from ipython->lucid) (4.8.0)\n",
            "Requirement already satisfied: prompt-toolkit<2.0.0,>=1.0.4 in /usr/local/lib/python3.6/dist-packages (from ipython->lucid) (1.0.18)\n",
            "Requirement already satisfied: pygments in /usr/local/lib/python3.6/dist-packages (from ipython->lucid) (2.1.3)\n",
            "Requirement already satisfied: llvmlite<0.32.0,>=0.31.0dev0 in /usr/local/lib/python3.6/dist-packages (from numba!=0.47,>=0.46->umap-learn->lucid) (0.31.0)\n",
            "Requirement already satisfied: ipython-genutils in /usr/local/lib/python3.6/dist-packages (from traitlets>=4.2->ipython->lucid) (0.2.0)\n",
            "Requirement already satisfied: ptyprocess>=0.5 in /usr/local/lib/python3.6/dist-packages (from pexpect; sys_platform != \"win32\"->ipython->lucid) (0.6.0)\n",
            "Requirement already satisfied: wcwidth in /usr/local/lib/python3.6/dist-packages (from prompt-toolkit<2.0.0,>=1.0.4->ipython->lucid) (0.1.9)\n",
            "Building wheels for collected packages: lucid\n",
            "  Building wheel for lucid (setup.py) ... \u001b[?25l\u001b[?25hdone\n",
            "  Created wheel for lucid: filename=lucid-0.3.9-cp36-none-any.whl size=155742 sha256=6027fd2c76f3aac7ce2622e6c16d940860370ee07872f4473293a1960ef5a574\n",
            "  Stored in directory: /tmp/pip-ephem-wheel-cache-4gvu7fz4/wheels/64/c2/51/7238e75f457453774587708b21cd3cf32f9a86456648688634\n",
            "Successfully built lucid\n",
            "Installing collected packages: lucid\n",
            "Successfully installed lucid-0.3.9\n",
            "Cloning into 'Preference_Extraction'...\n",
            "remote: Enumerating objects: 573, done.\u001b[K\n",
            "remote: Counting objects: 100% (573/573), done.\u001b[K\n",
            "remote: Compressing objects: 100% (562/562), done.\u001b[K\n",
            "remote: Total 573 (delta 41), reused 512 (delta 10), pack-reused 0\u001b[K\n",
            "Receiving objects: 100% (573/573), 20.78 MiB | 18.00 MiB/s, done.\n",
            "Resolving deltas: 100% (41/41), done.\n",
            "Collecting tf-agents==0.3.0\n",
            "\u001b[?25l  Downloading https://files.pythonhosted.org/packages/0e/a5/07aa82a3cd586d193b2f086b50a2fd0f48bd888ae204389f666eb178cfb3/tf_agents-0.3.0-py2.py3-none-any.whl (839kB)\n",
            "\u001b[K     |████████████████████████████████| 839kB 4.9MB/s \n",
            "\u001b[?25hCollecting gin-config==0.1.3\n",
            "\u001b[?25l  Downloading https://files.pythonhosted.org/packages/8c/be/c984b1c8a7ba1c385b32bf39c7a225cd9f713d49705898309d01b60fd0e7/gin_config-0.1.3-py3-none-any.whl (43kB)\n",
            "\u001b[K     |████████████████████████████████| 51kB 6.4MB/s \n",
            "\u001b[?25hRequirement already satisfied: numpy>=1.13.3 in /usr/local/lib/python3.6/dist-packages (from tf-agents==0.3.0) (1.18.2)\n",
            "Requirement already satisfied: six>=1.10.0 in /usr/local/lib/python3.6/dist-packages (from tf-agents==0.3.0) (1.12.0)\n",
            "Requirement already satisfied: absl-py>=0.6.1 in /usr/local/lib/python3.6/dist-packages (from tf-agents==0.3.0) (0.9.0)\n",
            "Requirement already satisfied: tensorflow-probability>=0.6.0 in /tensorflow-1.15.2/python3.6 (from tf-agents==0.3.0) (0.7.0)\n",
            "Requirement already satisfied: decorator in /usr/local/lib/python3.6/dist-packages (from tensorflow-probability>=0.6.0->tf-agents==0.3.0) (4.4.2)\n",
            "Requirement already satisfied: cloudpickle>=0.6.1 in /usr/local/lib/python3.6/dist-packages (from tensorflow-probability>=0.6.0->tf-agents==0.3.0) (1.3.0)\n",
            "Installing collected packages: gin-config, tf-agents\n",
            "  Found existing installation: gin-config 0.3.0\n",
            "    Uninstalling gin-config-0.3.0:\n",
            "      Successfully uninstalled gin-config-0.3.0\n",
            "Successfully installed gin-config-0.1.3 tf-agents-0.3.0\n",
            "Uninstalling tensorflow-probability-0.7.0:\n",
            "  Successfully uninstalled tensorflow-probability-0.7.0\n",
            "Collecting tensorflow-probability==0.7.0\n",
            "\u001b[?25l  Downloading https://files.pythonhosted.org/packages/3e/3a/c10b6c22320531c774402ac7186d1b673374e2a9d12502cbc8d811e4601c/tensorflow_probability-0.7.0-py2.py3-none-any.whl (981kB)\n",
            "\u001b[K     |████████████████████████████████| 983kB 4.7MB/s \n",
            "\u001b[?25hRequirement already satisfied: decorator in /usr/local/lib/python3.6/dist-packages (from tensorflow-probability==0.7.0) (4.4.2)\n",
            "Requirement already satisfied: cloudpickle>=0.6.1 in /usr/local/lib/python3.6/dist-packages (from tensorflow-probability==0.7.0) (1.3.0)\n",
            "Requirement already satisfied: six>=1.10.0 in /usr/local/lib/python3.6/dist-packages (from tensorflow-probability==0.7.0) (1.12.0)\n",
            "Requirement already satisfied: numpy>=1.13.3 in /usr/local/lib/python3.6/dist-packages (from tensorflow-probability==0.7.0) (1.18.2)\n",
            "Installing collected packages: tensorflow-probability\n",
            "  Found existing installation: tensorflow-probability 0.9.0\n",
            "    Uninstalling tensorflow-probability-0.9.0:\n",
            "      Successfully uninstalled tensorflow-probability-0.9.0\n",
            "Successfully installed tensorflow-probability-0.7.0\n",
            "\u001b[K\u001b[?25h/tools/node/bin/svelte -> /tools/node/lib/node_modules/svelte-cli/bin.js\n",
            "+ svelte-cli@2.2.0\n",
            "added 2 packages from 1 contributor in 2.026s\n"
          ],
          "name": "stdout"
        }
      ]
    },
    {
      "cell_type": "code",
      "metadata": {
        "id": "ap5q8W9Mx8Yi",
        "colab_type": "code",
        "outputId": "4447859e-9791-4415-b512-ad67fdae1392",
        "colab": {
          "base_uri": "https://localhost:8080/",
          "height": 71
        }
      },
      "source": [
        "import numpy as np\n",
        "\n",
        "from tf_agents.trajectories.time_step import TimeStep\n",
        "from tf_agents.specs.tensor_spec import TensorSpec\n",
        "from tf_agents.specs.tensor_spec import TensorSpec\n",
        "from tf_agents.specs.tensor_spec import BoundedTensorSpec\n",
        "from tf_agents.networks import q_network\n",
        "\n",
        "import lucid.modelzoo.vision_models as models\n",
        "from lucid.misc.io import show\n",
        "import lucid.misc.io.showing as showing\n",
        "from lucid.misc.channel_reducer import ChannelReducer\n",
        "import lucid.optvis.param as param\n",
        "import lucid.optvis.objectives as objectives\n",
        "import lucid.optvis.render as render\n",
        "from lucid.misc.io import show, load\n",
        "from lucid.misc.io.reading import read\n",
        "from lucid.misc.io.showing import _image_url\n",
        "import lucid.scratch.web.svelte as lucid_svelte\n",
        "from lucid.misc.gradient_override import gradient_override_map\n",
        "from lucid.scratch.rl_util import *\n",
        "\n",
        "\n",
        "import concurrent.futures\n",
        "import itertools\n",
        "import os\n",
        "import pickle\n",
        "import random\n",
        "import sys\n",
        "import time\n",
        "\n",
        "import numpy as np\n",
        "import io\n",
        "import collections\n",
        "\n",
        "import urllib.request\n",
        "from urllib.error import HTTPError"
      ],
      "execution_count": 2,
      "outputs": [
        {
          "output_type": "stream",
          "text": [
            "/usr/local/lib/python3.6/dist-packages/sklearn/utils/deprecation.py:144: FutureWarning: The sklearn.decomposition.base module is  deprecated in version 0.22 and will be removed in version 0.24. The corresponding classes / functions should instead be imported from sklearn.decomposition. Anything that cannot be imported from sklearn.decomposition is now part of the private API.\n",
            "  warnings.warn(message, FutureWarning)\n"
          ],
          "name": "stderr"
        }
      ]
    },
    {
      "cell_type": "markdown",
      "metadata": {
        "id": "ZAOsd5Ikw468",
        "colab_type": "text"
      },
      "source": [
        "# Read data"
      ]
    },
    {
      "cell_type": "code",
      "metadata": {
        "id": "RaQbLcupw4Pl",
        "colab_type": "code",
        "colab": {}
      },
      "source": [
        "class Trajectory(\n",
        "    collections.namedtuple('Trajectory', [\n",
        "        'step_type',\n",
        "        'observation',\n",
        "        'action',\n",
        "        'policy_info',\n",
        "        'next_step_type',\n",
        "        'reward',\n",
        "        'discount',\n",
        "    ])):\n",
        "  \"\"\"Stores the observation the agent saw and the action it took.\n",
        "      The rest of the attributes aren't used in this code.\"\"\"\n",
        "  __slots__ = ()\n",
        "\n",
        "class ListWrapper(object):\n",
        "  def __init__(self, list_to_wrap):\n",
        "    self._list = list_to_wrap\n",
        "\n",
        "  def as_list(self):\n",
        "    return self._list\n",
        "\n",
        "class RenameUnpickler(pickle.Unpickler):\n",
        "    def find_class(self, module, name):\n",
        "      if name == \"Trajectory\":\n",
        "        return Trajectory\n",
        "      if name == \"ListWrapper\":\n",
        "        return ListWrapper\n",
        "\n",
        "      return super(RenameUnpickler, self).find_class(module, name)\n",
        "\n",
        "def rename_load(s):\n",
        "    \"\"\"Helper function analogous to pickle.loads().\"\"\"\n",
        "    return RenameUnpickler(s, encoding='latin1').load()"
      ],
      "execution_count": 0,
      "outputs": []
    },
    {
      "cell_type": "code",
      "metadata": {
        "id": "EERbcpKTw7PU",
        "colab_type": "code",
        "colab": {}
      },
      "source": [
        "# Modified read trajectories functions to read files from local storage\n",
        "\n",
        "def load_file(full_path):\n",
        "    try:\n",
        "        with open(full_path, 'rb') as f:\n",
        "            data = rename_load(f)\n",
        "            return data\n",
        "    except:\n",
        "        return None\n",
        "    \n",
        "def all_load_data(base_path):\n",
        "    \n",
        "    executor = concurrent.futures.ThreadPoolExecutor(max_workers=100)\n",
        "    \n",
        "    futures = []\n",
        "    for i in range(5000):\n",
        "        full_path = os.path.join(base_path, \"ts\"+str(i)+\".pickle\")\n",
        "        future = executor.submit(load_file, full_path)\n",
        "        futures.append(future)\n",
        "    \n",
        "    raw_data = []\n",
        "    for future in concurrent.futures.as_completed(futures):\n",
        "        result = future.result()\n",
        "        if result:\n",
        "            raw_data.append(result)\n",
        "    \n",
        "    return raw_data\n",
        "\n",
        "\n",
        "all_raw_data = all_load_data(\"Preference_Extraction/data/simple_env_1/\")"
      ],
      "execution_count": 0,
      "outputs": []
    },
    {
      "cell_type": "code",
      "metadata": {
        "id": "0PRLS6J5xXfR",
        "colab_type": "code",
        "colab": {}
      },
      "source": [
        "all_observations = []\n",
        "\n",
        "for data in all_raw_data:\n",
        "  for i in range(data.observation.shape[0]):\n",
        "    obs = np.copy(data.observation[i])\n",
        "\n",
        "    all_observations.append(np.array(obs))\n",
        "\n",
        "all_observations = np.array(all_observations)"
      ],
      "execution_count": 0,
      "outputs": []
    },
    {
      "cell_type": "code",
      "metadata": {
        "id": "dWnVOa62UO8T",
        "colab_type": "code",
        "outputId": "b494179f-6aac-4e48-a989-3a076dce3c89",
        "colab": {
          "base_uri": "https://localhost:8080/",
          "height": 34
        }
      },
      "source": [
        "all_observations.shape"
      ],
      "execution_count": 6,
      "outputs": [
        {
          "output_type": "execute_result",
          "data": {
            "text/plain": [
              "(23750, 14, 16, 5)"
            ]
          },
          "metadata": {
            "tags": []
          },
          "execution_count": 6
        }
      ]
    },
    {
      "cell_type": "markdown",
      "metadata": {
        "id": "JMyJU71h2i1s",
        "colab_type": "text"
      },
      "source": [
        "# Load model and get nmf and acts"
      ]
    },
    {
      "cell_type": "code",
      "metadata": {
        "id": "ku9oLrycj8k0",
        "colab_type": "code",
        "outputId": "a990ab18-2bf6-45be-c8e4-9f253a6a7ceb",
        "colab": {
          "base_uri": "https://localhost:8080/",
          "height": 153
        }
      },
      "source": [
        "model = models.Model.load(\"Preference_Extraction/lucid_save_model.pb\")\n",
        "model.load_graphdef()"
      ],
      "execution_count": 7,
      "outputs": [
        {
          "output_type": "stream",
          "text": [
            "WARNING:tensorflow:From /usr/local/lib/python3.6/dist-packages/lucid/misc/io/reading.py:124: The name tf.gfile.Open is deprecated. Please use tf.io.gfile.GFile instead.\n",
            "\n"
          ],
          "name": "stdout"
        },
        {
          "output_type": "stream",
          "text": [
            "WARNING:tensorflow:From /usr/local/lib/python3.6/dist-packages/lucid/misc/io/reading.py:124: The name tf.gfile.Open is deprecated. Please use tf.io.gfile.GFile instead.\n",
            "\n"
          ],
          "name": "stderr"
        },
        {
          "output_type": "stream",
          "text": [
            "WARNING:tensorflow:From /usr/local/lib/python3.6/dist-packages/lucid/misc/io/loading.py:129: The name tf.GraphDef is deprecated. Please use tf.compat.v1.GraphDef instead.\n",
            "\n"
          ],
          "name": "stdout"
        },
        {
          "output_type": "stream",
          "text": [
            "WARNING:tensorflow:From /usr/local/lib/python3.6/dist-packages/lucid/misc/io/loading.py:129: The name tf.GraphDef is deprecated. Please use tf.compat.v1.GraphDef instead.\n",
            "\n"
          ],
          "name": "stderr"
        }
      ]
    },
    {
      "cell_type": "code",
      "metadata": {
        "id": "NXSNZhoOoRgW",
        "colab_type": "code",
        "colab": {}
      },
      "source": [
        "some_observations = all_observations[0:1000]"
      ],
      "execution_count": 0,
      "outputs": []
    },
    {
      "cell_type": "code",
      "metadata": {
        "id": "oQsTsMgXW0Yp",
        "colab_type": "code",
        "colab": {}
      },
      "source": [
        "output_layer_name = \"QNetwork/dense/BiasAdd\"\n",
        "# hidden_layer_name = \"QNetwork/EncodingNetwork/EncodingNetwork/conv2d_1/Relu\"\n",
        "hidden_layer_name = \"QNetwork/EncodingNetwork/EncodingNetwork/conv2d/Relu\"\n",
        "num_features = 6"
      ],
      "execution_count": 0,
      "outputs": []
    },
    {
      "cell_type": "code",
      "metadata": {
        "id": "A-p_jevKWIRK",
        "colab_type": "code",
        "colab": {}
      },
      "source": [
        "nmf = LayerNMF(model, hidden_layer_name, some_observations, features=num_features, attr_layer_name=output_layer_name)"
      ],
      "execution_count": 0,
      "outputs": []
    },
    {
      "cell_type": "code",
      "metadata": {
        "id": "iUdoHOJJOTW3",
        "colab_type": "code",
        "colab": {}
      },
      "source": [
        "with tf.Graph().as_default(), tf.Session():\n",
        "  t_input = t_input = tf.placeholder_with_default(some_observations, some_observations.shape, name=\"lucid_placeholder\")\n",
        "  T = render.import_model(model, t_input, t_input)\n",
        "  acts = T(hidden_layer_name).eval()"
      ],
      "execution_count": 0,
      "outputs": []
    },
    {
      "cell_type": "markdown",
      "metadata": {
        "id": "mCtyq9rsjwBy",
        "colab_type": "text"
      },
      "source": [
        "# Define helper functions"
      ]
    },
    {
      "cell_type": "code",
      "metadata": {
        "id": "SJ_ASH8ZYH3Z",
        "colab_type": "code",
        "colab": {}
      },
      "source": [
        "def reduce_and_norm(to_reduce):\n",
        "  reduced = nmf.transform(np.abs(to_reduce))\n",
        "\n",
        "  nmf_norms = nmf.channel_dirs.sum(-1)\n",
        "  reduced *= nmf_norms[None, None, None]\n",
        "\n",
        "  normalize_by = np.median(reduced.max(axis=(-3, -2, -1)))\n",
        "  print(\"normalize_by\", normalize_by)\n",
        "  if normalize_by != 0:\n",
        "    reduced /= normalize_by # normalize to make the visualization balanced, may need tweaking\n",
        "  reduced = np.abs(reduced)\n",
        "\n",
        "  return reduced"
      ],
      "execution_count": 0,
      "outputs": []
    },
    {
      "cell_type": "code",
      "metadata": {
        "id": "lSOOgBTlhIDp",
        "colab_type": "code",
        "colab": {}
      },
      "source": [
        "def show_with_obs(obs, reduced, num_to_show):\n",
        "  start = random.randint(0, some_observations.shape[0]-num_to_show)\n",
        "\n",
        "  print(\"Time left in episode\")\n",
        "  show(zoom_to(some_observations[start:start+num_to_show, :, :, 3:4], 200))\n",
        "  print(\"Color channels (vertical stripes are 'apples'\")\n",
        "  show(zoom_to(some_observations[start:start+num_to_show, :, :, :3], 200))\n",
        "  print(\"Visualization\")\n",
        "  show(zoom_to(reduced[start:start+num_to_show], 200))"
      ],
      "execution_count": 0,
      "outputs": []
    },
    {
      "cell_type": "markdown",
      "metadata": {
        "id": "CMiGopA7jxwj",
        "colab_type": "text"
      },
      "source": [
        "# NMF on network activations.\n",
        "One of the channels usually corasponds to apples."
      ]
    },
    {
      "cell_type": "code",
      "metadata": {
        "id": "HLxwYEekhAWi",
        "colab_type": "code",
        "outputId": "ce8693b4-236a-40e3-e2ad-5b608c101774",
        "colab": {
          "base_uri": "https://localhost:8080/",
          "height": 701
        }
      },
      "source": [
        "reduced = reduce_and_norm(acts)\n",
        "show_with_obs(some_observations, reduced, 10)"
      ],
      "execution_count": 55,
      "outputs": [
        {
          "output_type": "stream",
          "text": [
            "normalize_by 10.722276493757725\n",
            "Time left in episode\n"
          ],
          "name": "stdout"
        },
        {
          "output_type": "display_data",
          "data": {
            "text/html": [
              "<div style=\"display: flex; flex-direction: row;\"><div style=\"margin-right:10px; margin-top: 4px;\">\n",
              "              0 <br/>\n",
              "              <img src=\"data:image/PNG;base64,iVBORw0KGgoAAAANSUhEUgAAAMgAAACvCAAAAACdws6gAAAA8ElEQVR4nO3WyQ2AMAwAQUDpjh/9F0MTHCtrpoA4K3+8X9sMx98feIqQGiE1QmqE1AipEVIjpEZIjZAaITVCaoTUCKkRUiOkRkiNkBohNUJqhNQIqRFSI6RGSI2QGiE1QmqE1AipEVIjpEZIjZAaITVCaoTUjAlZXw88X3p3zEaE1AipEVIjpEZIzZiQ9dYR97UxGxFSI6RGSI2QGiE1QmqE1AipEVIjpEZIjZAaITVCaoTUCKkRUiOkRkiNkBohNUJqhNQIqRFSI6RGSI2QGiE1QmqE1AipEVIjpEZIjZAaITVCaoTUCKkRUiOkZkzIDYw3Akp4QTC3AAAAAElFTkSuQmCC\" style=\"image-rendering: pixelated;\">\n",
              "            </div><div style=\"margin-right:10px; margin-top: 4px;\">\n",
              "              1 <br/>\n",
              "              <img src=\"data:image/PNG;base64,iVBORw0KGgoAAAANSUhEUgAAAMgAAACvCAAAAACdws6gAAAA8ElEQVR4nO3YMQqAMBAAQRXf5P+/4W+sLYQUQoaw016KW67Lfm8jrqFXMx2zF/hLIZpCNIVoCtEUoilEU4imEE0hmkI0hWiWCTk/J/6f3MsyFylEU4imEE0hmkI0hWgK0RSiKURTiKYQTSGaQjSFaArRFKIpRFOIphBNIZpCNIVoCtEUoilEU4imEE0hmkI0hWgK0RSiKURTiKYQTSGaQjSFaArRFKIpRFOIphBNIZpCNIVoCtEUoilEU4imEE0hmkI0hWgK0RSiKURTiKYQTSGaQjSFaArRFKIpRFOIphBNIZpCNIVoCtEUoilEU4jmAa8hAqWLnkUtAAAAAElFTkSuQmCC\" style=\"image-rendering: pixelated;\">\n",
              "            </div><div style=\"margin-right:10px; margin-top: 4px;\">\n",
              "              2 <br/>\n",
              "              <img src=\"data:image/PNG;base64,iVBORw0KGgoAAAANSUhEUgAAAMgAAACvCAAAAACdws6gAAAA70lEQVR4nO3RwQmAQBAEQU/EwIzdwEzAjyBcc1T9F6bZcW9r2GcP+IuQGiE1QmqE1AipEVIjpEZIjZAaITVCaoTUCKkRUiOkRkiNkBohNcfsAe+uzxfLfERIjZAaITVCaoTUjHP2gp8s8xEhNUJqhNQIqRFSI6RGSI2QGiE1QmqE1AipEVIjpEZIjZAaITVCaoTUCKkRUiOkRkiNkBohNUJqhNQIqRFSI6RGSI2QGiE1QmqE1AipEVIjpEZIjZAaITVCaoTUCKkRUiOkRkiNkBohNUJqhNQIqRFSI6RGSI2QGiE1QmqE1AipEVKzTMgDDKsCa3E/OiMAAAAASUVORK5CYII=\" style=\"image-rendering: pixelated;\">\n",
              "            </div><div style=\"margin-right:10px; margin-top: 4px;\">\n",
              "              3 <br/>\n",
              "              <img src=\"data:image/PNG;base64,iVBORw0KGgoAAAANSUhEUgAAAMgAAACvCAAAAACdws6gAAAA70lEQVR4nO3cwQmAMBAAQRXrsv9qrMGvTwOiQ9h5X+CW+2c9l1HH8IsvbH8v8JZCNIVoCtEUoilEU4imEE0hmkI0hWgK0RSiKURTiKYQTSGaQjSFaArRFKIpRFOIphBNIZpCNIVoCtEUoilEU4imEE0hmkI0hWgK0RSiKURTiKYQTSGaQjSFaArRFKIpRFOIphBNIZpCNPuzMfPfubtpLlKIphBNIZpCNIVoCtEUoilEU4imEE0hmkI0hWgK0RSiKURTiKYQTSGaQjSFaArRFKIpRFOIphBNIZpCNIVoCtEUoilEU4imEE0hmkI004RcLVwCyighg6sAAAAASUVORK5CYII=\" style=\"image-rendering: pixelated;\">\n",
              "            </div><div style=\"margin-right:10px; margin-top: 4px;\">\n",
              "              4 <br/>\n",
              "              <img src=\"data:image/PNG;base64,iVBORw0KGgoAAAANSUhEUgAAAMgAAACvCAAAAACdws6gAAAA6UlEQVR4nO3RAQnAQAwEwX7l1Ej9a6iRmnjI8OwIOLJkfdegd9/UvW9qViGaQjSFaArRFKI5JmQ90xdscsxHCtEUoilEU4imEE0hmkI0hWgK0RSiKURTiKYQTSGaQjSFaArRFKIpRFOIphBNIZpCNIVoCtEUoilEU4imEE0hmkI0hWgK0RSiKURTiKYQTSGaQjSFaArRFKIpRFOIphBNIZpCNIVoCtEUoilEU4imEE0hmkI0hWgK0RSiKURTiKYQTSGaQjSFaArRFKIpRFOIphBNIZpCNIVoCtEUoilEU4imEE0hmkI0hWh+s8cCsWDhwqUAAAAASUVORK5CYII=\" style=\"image-rendering: pixelated;\">\n",
              "            </div><div style=\"margin-right:10px; margin-top: 4px;\">\n",
              "              5 <br/>\n",
              "              <img src=\"data:image/PNG;base64,iVBORw0KGgoAAAANSUhEUgAAAMgAAACvCAAAAACdws6gAAAA7klEQVR4nO3RCQ2AAAwAMSC4QCamkIkJnsvSE7Ct2XotM9r+PuCpQGqB1AKpBVILpBZILZBaILVAaoHUAqkFUgukFkgtkFogtUBqgdQCqQVSC6QWSC2QWiC1QGqB1AKpBVILpBZILZBaILVAaoHUAqkFUmsMZP964fnS3DEfAakFUgukFkgtkFpjIOvx9wUPNeYjILVAaoHUAqkFUgukFkgtkFogtUBqgdQCqQVSC6QWSC2QWiC1QGqB1AKpBVILpBZILZBaILVAaoHUAqkFUgukFkgtkFogtUBqgdQCqQVSC6QWSC2QWiC1QGqNgdxOiQKVLi/eTgAAAABJRU5ErkJggg==\" style=\"image-rendering: pixelated;\">\n",
              "            </div><div style=\"margin-right:10px; margin-top: 4px;\">\n",
              "              6 <br/>\n",
              "              <img src=\"data:image/PNG;base64,iVBORw0KGgoAAAANSUhEUgAAAMgAAACvCAAAAACdws6gAAAA60lEQVR4nO3R0QmAMBAFQWMlNmD/hdmARSSQJcz8H7zlxndNeefO17l3D1hFSI2QGiE1QmqE1BwTMp7dCxY55iNCaoTUCKkRUiOkRkiNkBohNUJqhNQIqRFSI6RGSI2QGiE1QmqE1AipEVIjpEZIjZAaITVCaoTUCKkRUiOkRkiNkBohNUJqhNQIqRFSI6RGSI2QGiE1QmqE1AipEVIjpEZIjZAaITVCaoTUCKkRUiOkRkiNkBohNUJqhNQIqRFSI6RGSI2QGiE1QmqE1AipEVIjpEZIjZAaITVCaoTUCKkRUiOkRkiNkBohNT904wKdyFo3YQAAAABJRU5ErkJggg==\" style=\"image-rendering: pixelated;\">\n",
              "            </div><div style=\"margin-right:10px; margin-top: 4px;\">\n",
              "              7 <br/>\n",
              "              <img src=\"data:image/PNG;base64,iVBORw0KGgoAAAANSUhEUgAAAMgAAACvCAAAAACdws6gAAAA20lEQVR4nO3PQQkAIADAQLV/Xt+WEDxkl2Cbe/xhvQ64pRFNI5pGNI1oGtE0omlE04imEU0jmkY0jWga0TSiaUTTiKYRTSOaRjSNaBrRNKJpRNOIphFNI5pGNI1oGtE0omlE04imEU0jmkY0jWga0TSiaUTTiKYRTSOaRjSNaBrRNKJpRNOIphFNI5pGNI1oGtE0omlE04imEU0jmkY0jWga0TSiaUTTiKYRTSOaRjSNaBrRNKJpRNOIphFNI5pGNI1oGtE0omlE04imEU0jmkY0jWga0TSi+WbkAIwSAlRIiC3hAAAAAElFTkSuQmCC\" style=\"image-rendering: pixelated;\">\n",
              "            </div><div style=\"margin-right:10px; margin-top: 4px;\">\n",
              "              8 <br/>\n",
              "              <img src=\"data:image/PNG;base64,iVBORw0KGgoAAAANSUhEUgAAAMgAAACvCAAAAACdws6gAAAA70lEQVR4nO3WsQ2AMAwAQUCMxP4DMBU1BR2JTtHfALZebrxf2xj3oLlfjsn7hilEU4imEE0hmkI0y4ScP86a/Se+LHORQjSFaArRFKIpRFOIphBNIZpCNIVoCtEUoilEU4imEE0hmkI0hWgK0RSiKURTiKYQTSGaQjSFaArRFKIpRFOIphBNIZpCNIVoCtEUoilEU4imEE0hmkI0hWgK0RSiKURTiKYQTSGaQjSFaArRFKIpRFOIphBNIZpCNIVoCtEUoilEU4imEE0hmkI0hWgK0RSiKURTiKYQTSGaQjSFaArRFKIpRFOIphBNIZoHt9kDKKS+htIAAAAASUVORK5CYII=\" style=\"image-rendering: pixelated;\">\n",
              "            </div><div style=\"margin-right:10px; margin-top: 4px;\">\n",
              "              9 <br/>\n",
              "              <img src=\"data:image/PNG;base64,iVBORw0KGgoAAAANSUhEUgAAAMgAAACvCAAAAACdws6gAAAA7ElEQVR4nO3bMQqAMBAAQRXf6DP8f2mbPkKGsNMfueXqnM+BeOfGr3+2WK8QTSGaQjSFaArRFKIpRFOIphBNIZpCNIVoCtEUoilEU4imEE0hmkI0hWgK0RSiKURTiKYQTSGaQjSFaArRFKIpRFOIphBNIZpCNIVotgm5l74++a11tM1FCtEUoilEU4imEE0hmkI0hWgK0RSiKURTiKYQTSGaQjSFaArRFKIpRFOIphBNIZpCNIVoCtEUoilEU4imEE0hmkI0hWgK0RSiKURTiKYQTSGaQjSFaArRFKIpRFOIphBNIZpCNIVoCtF8n00CkoJLdZQAAAAASUVORK5CYII=\" style=\"image-rendering: pixelated;\">\n",
              "            </div></div>"
            ],
            "text/plain": [
              "<IPython.core.display.HTML object>"
            ]
          },
          "metadata": {
            "tags": []
          }
        },
        {
          "output_type": "stream",
          "text": [
            "Color channels (vertical stripes are 'apples'\n"
          ],
          "name": "stdout"
        },
        {
          "output_type": "display_data",
          "data": {
            "text/html": [
              "<div style=\"display: flex; flex-direction: row;\"><div style=\"margin-right:10px; margin-top: 4px;\">\n",
              "              0 <br/>\n",
              "              <img src=\"data:image/PNG;base64,iVBORw0KGgoAAAANSUhEUgAAAMgAAACvCAIAAAA3ywYrAAACj0lEQVR4nO3dsU1cURBA0b8WgVsgcUAGxbgNl0CIKYMKyCnGlgicUoadEiDxLc1l30fnxGh2g6uXjIY93X77uu3w5+b3u39z9evaqD1zZkdNfdxOO7/Vl6nPg9eERUJYJIRFQlgkhEVCWCSERUJYJIRFQlgkhEXi4uOXpp971Jrr850Gv5UXi4SwSAiLhLBICIuEsEgIi4SwSAiLhLBICIvEycHqrONuOWdHebFICIuEsEgIi4SwSAiLhLBICIuEsEgIi4SwSAiLhIPVYYfexDtYZXXCIiEsEsIiISwSwiIhLBLCIiEsEsIiISwSF4deSC046tALUwerrE5YJIRFQlgkhEVCWCSERUJYJIRFQlgkhEVCWCQcrA6P+uB/0rwtuYnfvFhEhEVCWCSERUJYJIRFQlgkhEVCWCSERUJYJBys/seoNS24MN28WESERUJYJIRFQlgkhEVCWCSERUJYJIRFQlgkhEXCwer8qD2Ou4l3sMo5CYuEsEgIi4SwSAiLhLBICIuEsEgIi4SwSCx6sDrIL6yeZZQXi4SwSAiLhLBICIuEsEgIi4SwSAiLhLBICIvEse8K91jzhzA//SgvFglhkRAWCWGREBYJYZEQFglhkRAWCWGREBYJYZFY9GB1zVGD1lzqO1hldcIiISwSwiIhLBLCIiEsEsIiISwSwiIhLBKTB6uDDr0m2+O4C1MHq5yTsEgIi4SwSAiLhLBICIuEsEgIi4SwSAiLhLBInM79Bd72dHk5NerHw9Sk7eX7y9Sou7u/U6Met59To57v76dGebFICIuEsEgIi4SwSAiLhLBICIuEsEgIi4SwSAiLhLBICIuEsEgIi4SwSAiLhLBICIuEsEgIi4SwSAiLxD/pCQnz/81kUwAAAABJRU5ErkJggg==\" style=\"image-rendering: pixelated;\">\n",
              "            </div><div style=\"margin-right:10px; margin-top: 4px;\">\n",
              "              1 <br/>\n",
              "              <img src=\"data:image/PNG;base64,iVBORw0KGgoAAAANSUhEUgAAAMgAAACvCAIAAAA3ywYrAAAClklEQVR4nO3dsWlcQRRAUa1RE4pdjEEoUw3GOHcZzoWkGpwYtSTUhhsw+Anm7s63zok/729wmWR4+0+3Xz5fDTzff//nM19/PRg1mfMRRn2aPATvJSwSwiIhLBLCIiEsEsIiISwSwiIhLBLCIiEsEqfXp5+T5/a86dxw1HGvz9eOcmKREBYJYZEQFglhkRAWCWGREBYJYZEQFglhkThZWF076ri3nGtHObFICIuEsEgIi4SwSAiLhLBICIuEsEgIi4SwSAiLhIXVxaOOe32+dpQTi4SwSAiLhLBICIuEsEgIi4SwSAiLhLBICIvEdGF1oT3vtiysrh3lxCIhLBLCIiEsEsIiISwSwiIhLBLCIiEsEsIiISwS04XVhfa8NLWwunaUE4uEsEgIi4SwSAiLhLBICIuEsEgIi4SwSAiLxKZfWB0avnHCwuraUU4sEsIiISwSwiIhLBLCIiEsEsIiISwSwiIhLBLCInF96JvOCQurFxnlxCIhLBLCIiEsEsIiISwSwiIhLBLCIiEsEsIisenC6nFHHfru1cIquxMWCWGREBYJYZEQFglhkRAWCWGREBYJYZGYfghzzwupM4+aOP9f9254YXrlxCIiLBLCIiEsEsIiISwSwiIhLBLCIiEsEsIiISwSFlbfMWrizB99Hb7Rwir/CWGREBYJYZEQFglhkRAWCWGREBYJYZEQFoljfwhzz1ETx70wtbDKJQmLhLBICIuEsEgIi4SwSAiLhLBICIuEsEgIi8Tp0j/g737f3Kwa9fT2tmrUy6pBS909jv73euLl249Vo5xYJIRFQlgkhEVCWCSERUJYJIRFQlgkhEVCWCSERUJYJIRFQlgkhEVCWCSERUJYJIRFQlgkhEVCWCSEReIPVWYTJzHft1YAAAAASUVORK5CYII=\" style=\"image-rendering: pixelated;\">\n",
              "            </div><div style=\"margin-right:10px; margin-top: 4px;\">\n",
              "              2 <br/>\n",
              "              <img src=\"data:image/PNG;base64,iVBORw0KGgoAAAANSUhEUgAAAMgAAACvCAIAAAA3ywYrAAACp0lEQVR4nO3dsY0UQRBA0Tm0Hg7uhUAI5HAiCBwSIAwSwCEIdDGQyrk4+CRwEo3Uf7YGvWevasf4GqdUuw8ffr4/Fnx/++6vn/n0+9f/PWrF+U++6+sWv3Fx1JuVD8G/EhYJYZEQFglhkRAWCWGREBYJYZEQFglhkRAWidvGWedvOmeOOtnMpb43FglhkRAWCWGREBYJYZEQFglhkRAWCWGREBaJnbvCmVemJ4+69GrSwSrTCYuEsEgIi4SwSAiLhLBICIuEsEgIi4SwSAiLxO3Sp6EDR81cny9ysMp0wiIhLBLCIiEsEsIiISwSwiIhLBLCIiEsEreZu62Zo2YauDA9vLGICIuEsEgIi4SwSAiLhLBICIuEsEgIi4SwSAiLxM6D1Y2ue7B6vplLfW8sEsIiISwSwiIhLBLCIiEsEsIiISwSwiIhLBJ3OFhdMfNgdeY+cebC1BuLhLBICIuEsEgIi4SwSAiLhLBICIuEsEgIi4SwSDhY3Tzq0j/S7GCV6YRFQlgkhEVCWCSERUJYJIRFQlgkhEVCWCR2Hqwu2rh2vO7B6smjFjlYZTphkRAWCWGREBYJYZEQFglhkRAWCWGREBaJ270f4HUzN24n/8LvooEL08Mbi4iwSAiLhLBICIuEsEgIi4SwSAiLhLBICIuEsEjsXEJf929RN4669JWpg1WmExYJYZEQFglhkRAWCWGREBYJYZEQFglhkfBHmJtHXXfLuXeUNxYJYZEQFglhkRAWCWGREBYJYZEQFglhkRAWCWGReLj3A7zux+PjrlEfX152jXr69nXXqOfPX3aNeto16Die943yxiIhLBLCIiEsEsIiISwSwiIhLBLCIiEsEsIiISwSwiIhLBLCIiEsEsIiISwSwiIhLBLCIiEsEsIiISwSfwD6xOYN88BAPAAAAABJRU5ErkJggg==\" style=\"image-rendering: pixelated;\">\n",
              "            </div><div style=\"margin-right:10px; margin-top: 4px;\">\n",
              "              3 <br/>\n",
              "              <img src=\"data:image/PNG;base64,iVBORw0KGgoAAAANSUhEUgAAAMgAAACvCAIAAAA3ywYrAAACs0lEQVR4nO3dsW0VQRRA0V30A/dBFS7AmeUKiOkCgYWc4QLch0ugDcdugwaQGKS5+2etc+LV+xtcTfI0f/en27ttwM/P3//5zLe3x489asTgz40YfKWRXzx+1KeRh+B/CYuEsEgIi4SwSAiLhLBICIuEsEgIi4SwSAiLxGXienKiU+9fD7bmUt+JRUJYJIRFQlgkhEVCWCSERUJYJIRFQlgkhEXicvwWacSaF1YPXk0OWnNh6sQiISwSwiIhLBLCIiEsEsIiISwSwiIhLBLCIiEsEvvNl98jz6256Vxw1HnX53NHObFICIuEsEgIi4SwSAiLhLBICIuEsEgIi4SwSOy+sDp31Hm3nHNHObFICIuEsEgIi4SwSAiLhLBICIuEsEgIi4SwSAiLxMwLq4Mmfqd0wf3redfnc0c5sUgIi4SwSAiLhLBICIuEsEgIi4SwSAiLhLBI+MLq5FGnvmXqwiqrExYJYZEQFglhkRAWCWGREBYJYZEQFglhkRAWicu1X+Dvzrt/nbiJH7TgJn5zYhERFglhkRAWCWGREBYJYZEQFglhkRAWCWGRuExcpa3pvBdWBy24MN2cWESERUJYJIRFQlgkhEVCWCSERUJYJIRFQlgkZt4rPH4hNWLNe4UffpQTi4SwSAiLhLBICIuEsEgIi4SwSAiLhLBICIuEsEjsT7d3I8+tuek8eNSIiTdRz/sPv5sTi4iwSAiLhLBICIuEsEgIi4SwSAiLhLBICIvEzD+3NWrceRemLqxyTcIiISwSwiIhLBLCIiEsEsIiISwSwiIhLBLCIrFf+wVy9y+/Zo36+uN51qiH9/dZo+5nDdq213mjnFgkhEVCWCSERUJYJIRFQlgkhEVCWCSERUJYJIRFQlgkhEVCWCSERUJYJIRFQlgkhEVCWCSERUJYJIRF4g+CJPnA5G9bcAAAAABJRU5ErkJggg==\" style=\"image-rendering: pixelated;\">\n",
              "            </div><div style=\"margin-right:10px; margin-top: 4px;\">\n",
              "              4 <br/>\n",
              "              <img src=\"data:image/PNG;base64,iVBORw0KGgoAAAANSUhEUgAAAMgAAACvCAIAAAA3ywYrAAACl0lEQVR4nO3dsU0dQRRA0cX6iUugJ+yUEtwAZThx6DYw9TilBFIaQGKQ3uXvoHPi1dsNriZ5Gu3N//s/x4J/x8u7z/w4vn/tUSsWX7di8ZNW3vj5o76tPAQfJSwSwiIhLBLCIiEsEsIiISwSwiIhLBLCIiEsEpetN53nHLVi30384ignFglhkRAWCWGREBYJYZEQFglhkRAWCWGREBaJy9YLqRNeWF30yavJRS6scnbCIiEsEsIiISwSwiIhLBLCIiEsEsIiISwSwiLhwur8qBXnXJ+7sMrZCYuEsEgIi4SwSAiLhLBICIuEsEgIi4SwSLiwOjxq6y2nC6ucnbBICIuEsEgIi4SwSAiLhLBICIuEsEgIi4SwSExeWB207/513/X57CgnFglhkRAWCWGREBYJYZEQFglhkRAWCWGREBaJK1xYXbHvmmzfLefsKCcWCWGREBYJYZEQFglhkRAWCWGREBYJYZEQFglhkfCH1eFR+67PZ0c5sUgIi4SwSAiLhLBICIuEsEgIi4SwSAiLhLBIXAZnbb3bcmF1dpQTi4SwSAiLhLBICIuEsEgIi4SwSAiLhLBICIvE5K5w692We4Wzo5xYJIRFQlgkhEVCWCSERUJYJIRFQlgkhEVCWCSEReIKf1j92qMGd96LTriJP5xYRIRFQlgkhEVCWCSERUJYJIRFQlgkhEVCWCT8CPMDowYtftWKwS93YZWzExYJYZEQFglhkRAWCWGREBYJYZEQFglhkRAWiZtrf8DbHm9vp0b9fH6eGnX39/fUqKdfD1Oj7qYGHcfT3CgnFglhkRAWCWGREBYJYZEQFglhkRAWCWGREBYJYZEQFglhkRAWCWGREBYJYZEQFglhkRAWCWGREBYJYZF4BdcgtY07CazxAAAAAElFTkSuQmCC\" style=\"image-rendering: pixelated;\">\n",
              "            </div><div style=\"margin-right:10px; margin-top: 4px;\">\n",
              "              5 <br/>\n",
              "              <img src=\"data:image/PNG;base64,iVBORw0KGgoAAAANSUhEUgAAAMgAAACvCAIAAAA3ywYrAAAClUlEQVR4nO3dQW0cQRBA0XW0EHIxhjAwBsOIZAKBEQIJDMsYwiCSGTgHgwiBHDpSfU+P/d55VDNaffWlVdqbr89/Lgu+vP5aeWzF7893U6/bcNTKnI8w6tPKQ/C/hEVCWCSERUJYJIRFQlgkhEVCWCSERUJYJIRF4jo4a89L00Eb3nnPGvwqJxYJYZEQFglhkRAWCWGREBYJYZEQFglhkRAWievg3dagPW/c9lwNnXrdIgurHElYJIRFQlgkhEVCWCSERUJYJIRFQlgkhEVCWCSue16a7rn7uufC6hv/7BZWOZKwSAiLhLBICIuEsEgIi4SwSAiLhLBICIvE5MKqUYtzPsIoJxYJYZEQFglhkRAWCWGREBYJYZEQFglhkRAWCWGROGBh9X2POu/1+ewoJxYJYZEQFglhkRAWCWGREBYJYZEQFglhkRAWCQurw6Pe+K9oL1temF6cWESERUJYJIRFQlgkhEVCWCSERUJYJIRFQlgkhEXCwurwqFP/LaqFVXYnLBLCIiEsEsIiISwSwiIhLBLCIiEsEsIiYWF1eNR5bzlnRzmxSAiLhLBICIuEsEgIi4SwSAiLhLBICIuEsEjYKxwedd5bztlRTiwSwiIhLBLCIiEsEsIiISwSwiIhLBLCIiEsEsIice6F1RUWVg8Z5cQiISwSwiIhLBLCIiEsEsIiISwSwiIhLBLCInHuhdWp1y3a88J0z1FOLBLCIiEsEsIiISwSwiIhLBLCIiEsEsIiISwSwiJxc/QH/Nv9j+9To54evk2Nery9nRr18+VlatTT1KBRTiwSwiIhLBLCIiEsEsIiISwSwiIhLBLCIiEsEsIiISwSwiIhLBLCIiEsEsIiISwSwiIhLBLCIiEsEsIi8RcIzgrJgMefoQAAAABJRU5ErkJggg==\" style=\"image-rendering: pixelated;\">\n",
              "            </div><div style=\"margin-right:10px; margin-top: 4px;\">\n",
              "              6 <br/>\n",
              "              <img src=\"data:image/PNG;base64,iVBORw0KGgoAAAANSUhEUgAAAMgAAACvCAIAAAA3ywYrAAACj0lEQVR4nO3dsW1VQRBAUX/rl0EntODQNTikAgICQijAroEQ0ZJzKqABS16kuXgXnxN/jR1cbTIavcunD883C74+3b/6m88PP4xamfMeRt2u/Aj+lrBICIuEsEgIi4SwSAiLhLBICIuEsEgIi4SwSFx+//q48rs9N50bjjp3fT47yotFQlgkhEVCWCSERUJYJIRFQlgkhEVCWCSEReLiYHV21LlbztlRXiwSwiIhLBLCIiEsEsIiISwSwiIhLBLCIiEsEsIisenB6qLFv7jCwersKC8WCWGREBYJYZEQFglhkRAWCWGREBYJYZEQFonr0QupFQ5W32SUF4uEsEgIi4SwSAiLhLBICIuEsEgIi4SwSAiLhLBIbHqweu6oo5f6DlbZnbBICIuEsEgIi4SwSAiLhLBICIuEsEgIi8T//4XVRVMnsuduOWdHebFICIuEsEgIi4SwSAiLhLBICIuEsEgIi4SwSAiLxPXoTefgqBV7buIHOVhld8IiISwSwiIhLBLCIiEsEsIiISwSwiIhLBJnf2F1w1F7LkwXOVhld8IiISwSwiIhLBLCIiEsEsIiISwSwiIhLBI+hDk86twt5+woLxYJYZEQFglhkRAWCWGREBYJYZEQFglhkRAWCWGR2PQLq4P+8X81eD567ib+xotFRFgkhEVCWCSERUJYJIRFQlgkhEVCWCSERWLyQ5iDjt64rdjzytTBKrsTFglhkRAWCWGREBYJYZEQFglhkRAWCWGREBaJy1v/Ay+7e/w2Nerhy/epUU/PS8e9K35ODdqVF4uEsEgIi4SwSAiLhLBICIuEsEgIi4SwSAiLhLBICIuEsEgIi4SwSAiLhLBICIuEsEgIi4SwSAiLhLBI/AHUhg9L8wnTWQAAAABJRU5ErkJggg==\" style=\"image-rendering: pixelated;\">\n",
              "            </div><div style=\"margin-right:10px; margin-top: 4px;\">\n",
              "              7 <br/>\n",
              "              <img src=\"data:image/PNG;base64,iVBORw0KGgoAAAANSUhEUgAAAMgAAACvCAIAAAA3ywYrAAACoklEQVR4nO3dsY0UQRBA0T20Ej5hoRNhYBMCAYCESwQkQAjkch4+Hi4GEmPU7+lZ3rNXtWN8tVPqmadvP97eDvjy8/U/f/Phza/HHnXEwb87YuqRbmc81aup/4M/CYuEsEgIi4SwSAiLhLBICIuEsEgIi4SwSAiLxH1w1sH15OBC9IjBpxrcCu9pcKnvxCIhLBLCIiEsEsIiISwSwiIhLBLCIiEsEsIiMbkrXH/L9IjFT7V+Ybr4qVxY5UzCIiEsEsIiISwSwiIhLBLCIiEsEsIiISwSwiJxX7+efOxRi6/j3nZ9C7UTi4SwSAiLhLBICIuEsEgIi4SwSAiLhLBICIvEfc9vme45ak8bLkxvTiwiwiIhLBLCIiEsEsIiISwSwiIhLBLCIiEsEsIiMfnW5EHXvbB60HU38S6sciZhkRAWCWGREBYJYZEQFglhkRAWCWGREBaJyZfbDrrumuzSW04XVtmdsEgIi4SwSAiLhLBICIuEsEgIi4SwSAiLhLBITF5YvfTSdPEXVh9+lBOLhLBICIuEsEgIi4SwSAiLhLBICIuEsEgIi4QvrA6Puu6Wc3aUE4uEsEgIi4SwSAiLhLBICIuEsEgIi4SwSAiLxOTLbY06OOd/GOXEIiEsEsIiISwSwiIhLBLCIiEsEsIiISwSwiIhLBKPf2F1Txuuz2dHObFICIuEsEgIi4SwSAiLhLBICIuEsEgIi4SwSExeWB20fre12HV3ry6sciZhkRAWCWGREBYJYZEQFglhkRAWCWGREBYJYZF4OvsB/u55btT3uVGDnr9+mhr1/uPnqVHvXl6mRjmxSAiLhLBICIuEsEgIi4SwSAiLhLBICIuEsEgIi4SwSAiLhLBICIuEsEgIi4SwSAiLhLBICIuEsEgIi8RvmwrqMsdp2ysAAAAASUVORK5CYII=\" style=\"image-rendering: pixelated;\">\n",
              "            </div><div style=\"margin-right:10px; margin-top: 4px;\">\n",
              "              8 <br/>\n",
              "              <img src=\"data:image/PNG;base64,iVBORw0KGgoAAAANSUhEUgAAAMgAAACvCAIAAAA3ywYrAAACo0lEQVR4nO3dsW0bQRBAUdJgB47UhmMHDhy6DzegMtSAVIahAhw4dhtKXIQbEKAVMF/cI96LibkLPjYZLO/8+fu/04K/X3+/+Zsvf75tOGrR4hPftPhKK4879KhPKz+C9xIWCWGREBYJYZEQFglhkRAWCWGREBYJYZEQFonLoTedg6NW7LmJHzT4Vk4sEsIiISwSwiIhLBLCIiEsEsIiISwSwiIhLBKXPW+ZHnfUngvTRS6ssjthkRAWCWGREBYJYZEQFglhkRAWCWGREBYJYZFwYXV41HHX57OjnFgkhEVCWCSERUJYJIRFQlgkhEVCWCSERUJYJM43/4VVF1avMsqJRUJYJIRFQlgkhEVCWCSERUJYJIRFQlgkhEVCWCRcWB0eddz1+ewoJxYJYZEQFglhkRAWCWGREBYJYZEQFglhkRAWidu/sLpo6julH7/lnHrcIhdWuSZhkRAWCWGREBYJYZEQFglhkRAWCWGREBYJYZGYvLA6aM9V7s1v4l1YZXfCIiEsEsIiISwSwiIhLBLCIiEsEsIiISwSl4/fba3Yc+O24X/pbjvKiUVCWCSERUJYJIRFQlgkhEVCWCSERUJYJIRFwr3C4VHH3XLOjnJikRAWCWGREBYJYZEQFglhkRAWCWGREBYJYZEQFonLtV/gdcfdvw7+1eyiDTfxJycWEWGREBYJYZEQFglhkRAWCWGREBYJYZEQFonJXeGet0wH3fzXK11YZXfCIiEsEsIiISwSwiIhLBLCIiEsEsIiISwSwiJxvvYLvO7X3d3UqKeXl6lRz1ODTqcfjw9To55/3k+NGuTEIiEsEsIiISwSwiIhLBLCIiEsEsIiISwSwiIhLBLCIiEsEsIiISwSwiIhLBLCIiEsEsIiISwSwiIhLBL/AYUz/yhb9Gv6AAAAAElFTkSuQmCC\" style=\"image-rendering: pixelated;\">\n",
              "            </div><div style=\"margin-right:10px; margin-top: 4px;\">\n",
              "              9 <br/>\n",
              "              <img src=\"data:image/PNG;base64,iVBORw0KGgoAAAANSUhEUgAAAMgAAACvCAIAAAA3ywYrAAACcUlEQVR4nO3bsU0DQRRFUYycQu4S6AXRBg1QBg1AGZaboQIXQEpACRjpX3kHzolXTxtcTTKa3cP9x80Fnj6/fvzmeLc3dcnOf5i6veQj+C1hkRAWCWGREBYJYZEQFglhkRAWCWGREBYJYZHYL33TucGpda/PZ6ecWCSERUJYJIRFQlgkhEVCWCSERUJYJIRFQlgkdtt8sDrIg9WrTDmxSAiLhLBICIuEsEgIi4SwSAiLhLBICIuEsEgIi8RGH6wO8mD1KlNOLBLCIiEsEsIiISwSwiIhLBLCIiEsEsIiISwSG32wuu7UNu9ePVjljxAWCWGREBYJYZEQFglhkRAWCWGREBYJYZEQFomNPlhdd2rd6/PZKScWCWGREBYJYZEQFglhkRAWCWGREBYJYZEQFgkPVoen1r3lnJ1yYpEQFglhkRAWCWGREBYJYZEQFglhkRAWCWGREBYJD1aHp9a9Pp+dcmKREBYJYZEQFglhkRAWCWGREBYJYZEQFglhkfBgdXhq3VvO2SknFglhkRAWCWGREBYJYZEQFglhkRAWCWGREBYJ7wqHp9a95ZydcmKREBYJYZEQFglhkRAWCWGREBYJYZEQFglhkRAWCQ9Wh6fWvT6fnXJikRAWCWGREBYJYZEQFglhkRAWCWGREBYJYZHwYHV4at1bztkpJxYJYZEQFglhkRAWCWGREBYJYZEQFglhkRAWCWGR2F37B3KPb69TU6fnl6mp4+EwNfV+Pk9NnaaGnFhEhEVCWCSERUJYJIRFQlgkhEVCWCSERUJYJIRFQlgkhEVCWCSERUJYJIRFQlgkhEVCWCSERUJYJIRF4hsR7yRBmQ0sRQAAAABJRU5ErkJggg==\" style=\"image-rendering: pixelated;\">\n",
              "            </div></div>"
            ],
            "text/plain": [
              "<IPython.core.display.HTML object>"
            ]
          },
          "metadata": {
            "tags": []
          }
        },
        {
          "output_type": "stream",
          "text": [
            "Visualization\n"
          ],
          "name": "stdout"
        },
        {
          "output_type": "display_data",
          "data": {
            "text/html": [
              "<div style=\"display: flex; flex-direction: row;\"><div style=\"margin-right:10px; margin-top: 4px;\">\n",
              "              0 <br/>\n",
              "              <img src=\"data:image/PNG;base64,iVBORw0KGgoAAAANSUhEUgAAAMgAAACrCAIAAACsWkQ9AAAEyUlEQVR4nO3dy2tcdRyG8e/kMkmTTJtYbZWaSgQRES8tiIKibhshN9Gli/5brgTdmUwqiC50J0V34gURo+JKa5Ka5mYmyST+C++BPATh+axffh7i07OZwzmtZ29fq8zu6la4rKqJhckzP7bJmQ/CZVW1DtJlf+Q0XF5cnMwvoMFfYO6hcHm8uhEuX1yYDZdV9fXKp+FyID9UyhmWEIYlhGEJYVhCGJYQhiWEYQlhWEIYlhCGJYRhCWFYQrSemBoPpxONfrHvbp35sfmZ44sXw2VVDXx+IVzu9+6Fy/5J/t+v8fgvsNfgL3D2ZzY61juWEIYlhGEJYVhCGJYQhiWEYQlhWEIYlhCGJYRhCWFYQhiWEIYlxFD+IET+1Eo1eb6iycMw6Zn7TS71YH4vXB5/eBwur7z3cH4B5/swTH5mo2O9YwlhWEIYlhCGJYRhCWFYQhiWEIYlhGEJYVhCGJYQhiWEYQkxdO4/gxO/2E/Mp58Gqap2/HWQa0s3wuWv3R/yC2j10n/eA9v9cHmQ3zJ8KYj+RwxLCMMSwrCEMCwhDEsIwxLCsIQwLCEMSwjDEsKwhDAsIah3NxAfMsnP3OneD5dV1VlKH4X4aeX7cDl62Mov4PKlx8Ll8cB2uHxk8Eq4PJnrhctq8j/LO5YQhiWEYQlhWEIYlhCGJYRhCWFYQhiWEIYlhGEJYVhCGJYQretTE+E0f7igmGcWiDOram/1QbhszQ6Gy5t3X84v4Jc3fgyXvY/T10w8fit9zcTaF+kjG1XVmZ8Kl96xhDAsIQxLCMMSwrCEMCwhDEsIwxLCsIQwLCEMSwjDEsKwhBjqLKS/V+90/8nPvRgfu7GSvmdh9HgoXG43ec3E5NzlcHl4Zz1cthfTZ0aqams5fWah8056qWvd78JloydB8pdieMcSwrCEMCwhDEsIwxLCsIQwLCEMSwjDEsKwhDAsIQxLCMMSwrCEaF2fGg+n+cdRqmq/m36co95K47751Svh8vc3G7zo4v6d9KUg+V9gr8lzO8Sx536p3rGEMCwhDEsIwxLCsIQwLCEMSwjDEsKwhDAsIQxLCMMSwrCEGIJ+Bp+Iv41x1N0Ml+2l9E0bm8vpuyuqqvN2+qaNzeX0tSj5+0uq6vCzC+FyfDE9E/o8zG43fRLEO5YQhiWEYQlhWEIYlhCGJYRhCWFYQhiWEIYlhGEJYVhCGJYQren83Q0jL+TnDr72W7hc/3IvXLarFS47i51wWVW7q+kFtGZPw+WNu6/mF/DH69+Gy41P/g2XnYWxcLmzmp5ZVZ2F9EEM71hCGJYQhiWEYQlhWEIYlhCGJYRhCWFYQhiWEIYlhGEJYVhCtF6a+SCczlw9ys/9c3M4XB4PpF+R2Nn5JlzuHf4cLquq1x8Nl2Oj6b/DW8+/n1/A8tPvhsvTj/rhsl2D4fLgpB0uq2psZCRcescSwrCEMCwhDEsIwxLCsIQwLCEMSwjDEsKwhDAsIQxLCMMSwrCEGHpm+qlwuvZXgzdtnByl78+YmE6/onFpOP04Sn+4Fy6r6u/N9F0jU+2r4fLgaCa/gCe3nwuX6wP3wmW/txMuxzuPhstq8l4W71hCGJYQhiWEYQlhWEIYlhCGJYRhCWFYQhiWEIYlhGEJYVhC/Aeze/CN9j9FwwAAAABJRU5ErkJggg==\" style=\"image-rendering: pixelated;\">\n",
              "            </div><div style=\"margin-right:10px; margin-top: 4px;\">\n",
              "              1 <br/>\n",
              "              <img src=\"data:image/PNG;base64,iVBORw0KGgoAAAANSUhEUgAAAMgAAACrCAIAAACsWkQ9AAAERElEQVR4nO3d22pUZxiH8W+lK5tCjJvMjJiMlULGSByxplhFKFJ65K15D72TYntui6HmwEahpTOjZqa1jdkZK7W38F8HDwPh+R2/vHwMD+tkfaypev1WyXQur4eTpZTxcCecbK/2wsnJ8Nd0Z7fBUYm1+U5o7dSPOpMvlXKGJYRhCWFYQhiWEIYlhGEJYVhCGJYQhiWEYQlhWEIYlhB1fmdhPHie7+10r6Zrh8/Cyam/sW9wuWCVuV4Rr536UX1iCWFYQhiWEIYlhGEJYVhCGJYQhiWEYQlhWEIYlhCGJYRhCWFYQlT9uYVwdO7+rXzv/qv8oyDxVZARcxUEWJvvhNZO/ag+sYQwLCEMSwjDEsKwhDAsIQxLCMMSwrCEMCwhDEsIwxLCsISo59f74ejJ1iDf2948hW/sT+X1CuioPrGEMCwhDEsIwxLCsIQwLCEMSwjDEsKwhDAsIQxLCMMSwrCEqM5vLIWjS6Mq3zt3eTZde2ktnFx89HM4uffNZjhZSjl8/SKcPJXXK8ZNjtrx2w2aLsMSwrCEMCwhDEsIwxLCsIQwLCEMSwjDEsKwhDAsIQxLiOp2/3o6OtPgdsPMxcVw8s3vL8PJW/VGOPm0PAsnSynnPlsJJ/OLAPktAGjt1I/qE0sIwxLCsIQwLCEMSwjDEsKwhDAsIQxLCMMSwrCEMCwhDEuI+u+yG452Vhq8Bt8dpPcLzs4sh5PHF/4LJ+s3C+FkmfblAmjt1I/qE0sIwxLCsIQwLCEMSwjDEsKwhDAsIQxLCMMSwrCEMCwhDEsIwxKi7nTj+xXDnXzvxXxtfG1jstgKJ4/2JuFkKaUdH3X/+5/CyYUHX+QHOPpxK5xs30vX5r9q/ucojdb6xBLCsIQwLCEMSwjDEsKwhDAsIQxLCMMSwrCEMCwhDEsIwxKiWuunVwbyexCllPEw/ShI/nZ9wryx/3OU3to48/FKOHn28F1+gL/mZ8PJo9lBOEn8qo3W+sQSwrCEMCwhDEsIwxLCsIQwLCEMSwjDEsKwhDAsIQxLCMMSom53r4aj40GDbzfkH0Qg7iw0emN/fjm9s/BiN/0FbgxP8gPs9RbDyZXVa+Fkk1813VlKmYzSSys+sYQwLCEMSwjDEsKwhDAsIQxLCMMSwrCEMCwhDEsIwxLCsISovu19F46euf8x3/v2UR1Ofrj5Szh58jh9td76ejOcLKW8f9wPJzsbx+kBji7lBxgtHYST+9ufhJOvbzwMJw9++COcLKW0vrweTvrEEsKwhDAsIQxLCMMSwrCEMCwhDEsIwxLCsIQwLCEMSwjDEsKwhKivfNULR4+fzOd7z91+H06+fZ5O/rue/jXIwtMGH7ro3v08nDzYXg4nT25+yA8wv/1pONm68084efhb+lWSanUtnCylVDv74aRPLCEMSwjDEsKwhDAsIQxLCMMSwrCEMCwhDEsIwxLCsIQwLCH+B/Hu7lgN9kU1AAAAAElFTkSuQmCC\" style=\"image-rendering: pixelated;\">\n",
              "            </div><div style=\"margin-right:10px; margin-top: 4px;\">\n",
              "              2 <br/>\n",
              "              <img src=\"data:image/PNG;base64,iVBORw0KGgoAAAANSUhEUgAAAMgAAACrCAIAAACsWkQ9AAAE+ElEQVR4nO3d7U6TdxzG8V+fsC21D3TIozNBp465UkA0Ji7ZYe08dgI7k71dMgtdZGzJTMCpZZAGaIHSUoo7hetOvN59P6+v/K3lm/sNf29TW5W10JzPDsRlRPQ7/4rLysamuOxtt774mRFxqh9bXxKXZ71T/QOs5ObE5f6oIy4LNfXMWmdfXEbE8cstcZnWDwV0hAULwoIFYcGCsGBBWLAgLFgQFiwICxaEBQvCggVhwYKwYJF6VX8qTj+NPunnFpvfi0vHnQX9TNOxia5X6Mfeba6Ly5vdA3GZz2fEZURcDm/EJU8sWBAWLAgLFoQFC8KCBWHBgrBgQViwICxYEBYsCAsWhAULwoIFYcEitTBdEKfVdfXORkSc7ex88WMdZ0bEqXxsqaEeW2pt6x/gaLMpLue2/xCX/fq8uLy6SPD+ktKM+q4RnliwICxYEBYsCAsWhAULwoIFYcGCsGBBWLAgLFgQFiwICxaEBYvU6g+vxengd/UWQESM1tWXgpTbb8VlWr4FcNJui8uIqDbUjzr+8724nMrpf35UJ+pNhF7uSFxeDifisth4KC4joret3trgiQULwoIFYcGCsGBBWLAgLFgQFiwICxaEBQvCggVhwYKwYEFYsEgtFfPitDC/rJ9b606Ly/7sQF0efhCXlfUNcRkRZzvqb+zLMwvqmf0EL0R4mF4Sl+e36u2GXrkqLm9OPorLSPLF8sSCBWHBgrBgQViwICxYEBYsCAsWhAULwoIFYcGCsGBBWLAgLFiknrx4Lk577T393OX8I3F5fb2vLjfVlyz05AsLkeQ39vqxpbU1/QOMdw/EZTGfEZeDy7G6bKyIy4iot9T3d/DEggVhwYKwYEFYsCAsWBAWLAgLFoQFC8KCBWHBgrBgQViwICxYpBbldzfkZhf1cxfP74jLj6UrcTnu/icuq553N+j3IPQzI6IivxLioqe+EuJ2ot5uuJ9V76FEkhdt8MSCBWHBgrBgQViwICxYEBYsCAsWhAULwoIFYcGCsGBBWLAgLFgQFiyyo8ffiNPbv97p5w4nE3F5caXGfW/Dc2vF8FKQmvxRI2L02xtxOW6sisvinvrDymZH4jIiBkfqzSWeWLAgLFgQFiwICxaEBQvCggVhwYKwYEFYsCAsWBAWLAgLFoQFi9RWuSlOR8O/9XOPp9SXgkzP3BOXl90P4lK/sBBJ7izox54nuV5RmF8Wl7XutLjU397RP1S/1UjyDfDEggVhwYKwYEFYsCAsWBAWLAgLFoQFC8KCBWHBgrBgQViwICxYZPV/un+WzurnTp49FZe51o64rLx4Li71CwvheXdD+btn+gc43t0Tl7OFr8XllfySBdNNEJ5YsCAsWBAWLAgLFoQFC8KCBWHBgrBgQViwICxYEBYsCAsWhAWL1KsHv4jTzw8+6+fWT9Rk96da4jLX+Udc1l7+KC4jYtS+Ly4Pmz+Ly+tfE/wvHndXm+Ky1vlJPXRLvbSSeZNTz4wovM6LS55YsCAsWBAWLAgLFoQFC8KCBWHBgrBgQViwICxYEBYsCAsWhAULwoJFtvLtE3F6/L6c4OD0UBwuFHvi8vqRemdj7uCxuIyIi4Z6bSbbU++iHHy1pH+Ala7698psqD+sO+9uxOVkMyUuIyLztioueWLBgrBgQViwICxYEBYsCAsWhAULwoIFYcGCsGBBWLAgLFgQFiz+B0Ky88oc7JfrAAAAAElFTkSuQmCC\" style=\"image-rendering: pixelated;\">\n",
              "            </div><div style=\"margin-right:10px; margin-top: 4px;\">\n",
              "              3 <br/>\n",
              "              <img src=\"data:image/PNG;base64,iVBORw0KGgoAAAANSUhEUgAAAMgAAACrCAIAAACsWkQ9AAAEvElEQVR4nO3d3U5cZQBG4W902ikEmJZWfgLUtpQUW6JFoNZqNNHGG/EavB1vRA88sklRK1BpUpQ0FkQqKsxIywDteAvvPlhpSNZz/OZjM1nZJ7Ozpzb1+UzJNJePwmUpZX+iHS4bT86Gyxfv18Nla/HXcFlK6Z+9HC7bP6THfnjni/wC7n/3bbjsnzkXLk+t94fLznwjXJYqH+wb+aFSzrCEMCwhDEsIwxLCsIQwLCEMSwjDEsKwhDAsIQxLCMMSojY60BNOx2du5OduLa2Ey5HZ98Ll5srDcDmwcDVclirf2OfHtu6v5ReQf7DbPy+Hyws33w2XW7+shstS5RPwjiWEYQlhWEIYlhCGJYRhCWFYQhiWEIYlhGEJYVhCGJYQhiWEYQlRu3Y3fb6i0ps2BhamwuVefGxzYTJcVrzU+GEY4AGbSsf2z6fH5u8vyc+sdKx3LCEMSwjDEsKwhDAsIQxLCMMSwrCEMCwhDEsIwxLCsIQwLCFqI83ecNoYuZSfe6ZnJ1y2OoPpoZu/h8P+Kg8XtPOHC+Jj8zOhY1/7pXrHEsKwhDAsIQxLCMMSwrCEMCwhDEsIwxLCsIQwLCEMSwjDEqLeN3clnDZXjvNz9yfq4XJ4O437OfCShXKi3t1wgi7VO5YQhiWEYQlhWEIYlhCGJYRhCWFYQhiWEIYlhGEJYVhCGJYQ9Tf/3Q6nx43xCgd3/wmHh83T4bK1+DhcnqCHC0opjdG3w2Xt761w2R2bCJfQkyDesYQwLCEMSwjDEsKwhDAsIQxLCMMSwrCEMCwhDEsIwxLCsISot9fa4XSueTk/90HtWbistV6khw5fDIedH39Lz2SeWeibT9+IUUppLqcvxdi/GL8RY6sWLg98d4NOEMMSwrCEMCwhDEsIwxLCsIQwLCEMSwjDEsKwhDAsIQxLCMMSov4yfhZl/XyFt0e0Hu2Gy+5U+tjMp08/C5dL14/CZSllF3gpyN7iWn4BZ2duhMv/HqSPAw3NjoXL1uJquCy+FESvnWEJYVhCGJYQhiWEYQlhWEIYlhCGJYRhCWFYQhiWEIYlRP3jyelweu/eN/m5fXP5mzbSHzI5/ugwXLa/3wiXpZTmB9fCZf4cRBlKf8WklPJs9VG47L3zTrj8I35mAfp5GO9YQhiWEIYlhGEJYVhCGJYQhiWEYQlhWEIYlhCGJYRhCWFYQtSGB3rDafNWha/B9xbTtww05yfjM9Ov1ptVvrFvx5d6avpCuLz95FZ+AUtXfwqXuw+3w2VzIf3Nlb3F9XBZ6VjvWEIYlhCGJYRhCWFYQhiWEIYlhGEJYVhCGJYQhiWEYQlhWELUbt/9Opz27HTzcztDp8Nl48/0zIO30nc3bO58lR5aylFrKFzWdnfC5SdXvswvoH08GC53R26Gy9pGJ11O1MNlKWXgr55w6R1LCMMSwrCEMCwhDEsIwxLCsIQwLCEMSwjDEsKwhDAsIQxLCMMSoj59kP7kyca5Rn7udOdVuHx6/kx65uFeuHw+NB4uSymHW+ny1eCl9Mxu+k+VUga6c+Fy9GAqXD4eS//69YOX6bSU7Z70CR/vWEIYlhCGJYRhCWFYQhiWEIYlhGEJYVhCGJYQhiWEYQlhWEL8D/3i9XhiiImcAAAAAElFTkSuQmCC\" style=\"image-rendering: pixelated;\">\n",
              "            </div><div style=\"margin-right:10px; margin-top: 4px;\">\n",
              "              4 <br/>\n",
              "              <img src=\"data:image/PNG;base64,iVBORw0KGgoAAAANSUhEUgAAAMgAAACrCAIAAACsWkQ9AAAEDElEQVR4nO3dwU4TYRRH8TtlqgUFK7RF40LBxIVx6UafzJfxpVyzNBYEpbYaRGHqK/wn8aTRnN/65vpFT2bTz5nm+OmzynRfzsPJqhocTP/62h47L3oddRKvvUh3trv5AXZ+L8PJq1n6N9B+moeTq3hnVT08+xxODvKlUs6whDAsIQxLCMMSwrCEMCwhDEsIwxLCsIQwLCEMSwjDEqJ5Probjq4PH/XYe3b619cSO6tqEK/t9sbp0qv8z6/BTjz6bREObvyoPrGEMCwhDEsIwxLCsIQwLCEMSwjDEsKwhDAsIQxLCMMSwrCEMCwh2h43TOLrJdXr4gpxGabPUW8ns3Qyfn/J9vBBfoBumb4U5ObfOapPLCEMSwjDEsKwhDAsIQxLCMMSwrCEMCwhDEsIwxLCsIQwLCGa4/ilIN30MN+7d5reL7g8TNcOL9LvbdSsx0tB6nN8FSJfm++E1m76qD6xhDAsIQxLCMMSwrCEMCwhDEsIwxLCsIQwLCEMSwjDEsKwhGjX8Z2F9df0/+1X1c12/HGMy1U6uelf7JHLBdDaTR/VJ5YQhiWEYQlhWEIYlhCGJYRhCWFYQhiWEIYlhGEJYVhCGJYQzVH87obBzjjf212ldxZudnbDyeGPRTi57vOLfRP/Yp+vzXdCazd+VJ9YQhiWEIYlhGEJYVhCGJYQhiWEYQlhWEIYlhCGJYRhCWFYQrTX+5NwdHx+nu+9evw4PQHwi32vdzcQa3tdr0DWbvqoPrGEMCwhDEsIwxLCsIQwLCEMSwjDEsKwhDAsIQxLCMMSwrCEMCwhmuPd9JMnzXaPvd1ykY7+O5/x+D+/ucIc1SeWEIYlhGEJYVhCGJYQhiWEYQlhWEIYlhCGJYRhCWFYQhiWEO2wacLR2+W3Hov/x1/soesV63htN5mFk/fm83DyZ/z6lipfCqJNMywhDEsIwxLCsIQwLCEMSwjDEsKwhDAsIQxLCMMSwrCEaI5Gd9PZjb8Q4SzeeYhcLlhP0vdc7OZHrbqcTsPJ4eJ7OHk9asPJg9UqnKyqxSy9XuETSwjDEsKwhDAsIQxLCMMSwrCEMCwhDEsIwxLCsIQwLCEMS4jmzdv34ejW/E6+9/ejm3ByefIhPcD0JJx8cvs6nKyq1f5ROHm2ehdOXn9c5wfYbkfh5ORe+o81vJ/eWRiu0z+9qu506edJfGIJYVhCGJYQhiWEYQlhWEIYlhCGJYRhCWFYQhiWEIYlhGEJYVhCtNPlq3C0e5Z+HKWqutM02fuvf4STWyfpzifjl+FkVV1+fx5O/hqPw8n5+XV+gBd76Wl/jtJ/rAdN+vqQOthKJ6vqYj8c9IklhGEJYVhCGJYQhiWEYQlhWEIYlhCGJYRhCWFYQhiWEIYlxB+N9NeC0bLNygAAAABJRU5ErkJggg==\" style=\"image-rendering: pixelated;\">\n",
              "            </div><div style=\"margin-right:10px; margin-top: 4px;\">\n",
              "              5 <br/>\n",
              "              <img src=\"data:image/PNG;base64,iVBORw0KGgoAAAANSUhEUgAAAMgAAACrCAIAAACsWkQ9AAAEWElEQVR4nO3dTW7bZhhF4ZcUFaVSFFuREhfoH9BBf4AgQFt0Z11H19AFdQGddBSghY1Yku3YcWxJzBYuBwdC0fOML74QyQEnYsjmx2++rczlxdtwWVW78TRcjvcfw+XhdBYuJ9fhsKpqP3tIpzfj9MzTJr+AfvM+XDaLZ+Gyu+7D5eHxJlxWVTuap8v8UClnWEIYlhCGJYRhCWFYQhiWEIYlhGEJYVhCGJYQhiWEYQnRvJo9DaeH+ZP83Fd3q3C5nm/C5X5zFy4np4twWVX7y3fhsl0uw+XDdptfQP7MQr+5TZfPRuFyfzfg5jJJr9Q7lhiGJYRhCWFYQhiWEIYlhGEJYVhCGJYQhiWEYQlhWEIYlhCGJUTXn6Rv2mjXA161cThLl/1F/EqMF8/D5cdN+ihOVTWrk3C522zTM+MnYWrIS0Eqfi1Ku05f9bE6+yr906s25+mLYbxjCWFYQhiWEIYlhGEJYVhCGJYQhiWEYQlhWEIYlhCGJYRhCdG8nE7S7ZBf7Cv/xT4/ljgTOjY/Ezr22JfqHUsIwxLCsIQwLCEMSwjDEsKwhDAsIQxLCMMSwrCEMCwhDEuILv+9esArBoZ9xiN+d8PxLzX94ki7mOcXsN+mV3vo0u/TjLfp52EGPQly2MZ/A/mhUs6whDAsIQxLCMMSwrCEMCwhDEsIwxLCsIQwLCEMSwjDEqJZzdIfzNv4swg16Gfw+FjizIHHpg8CHPKHC6r6+Thcfv7hZbh8N7sMl7ur+3BZVaNF/GmM/FApZ1hCGJYQhiWEYQlhWEIYlhCGJYRhCWFYQhiWEIYlhGEJ0bXxf93fx28uqKoRcCxxJnRsezLNL6BZX6UXcLYMl/15+j6Idvk8XFbVYX2THpsfKuUMSwjDEsKwhDAsIQxLCMMSwrCEMCwhDEsIwxLCsIQwLCEMS4hmNZ2k0yHfxjjuh0z+Q5cKHXv0S/WOJYRhCWFYQhiWEIYlhGEJYVhCGJYQhiWEYQlhWEIYlhCGJUR39J/BD/GxfZd+naUb8lKQ+n8/XjHoUvN/LO9YQhiWEIYlhGEJYVhCGJYQhiWEYQlhWEIYlhCGJYRhCWFYQnQDfq+GfgY/nYXL7roPl7u+CZdV1Tw+hMvHLn3PxWjIkyD5Xyzxj5WfOehY71hCGJYQhiWEYQlhWEIYlhCGJYRhCWFYQhiWEIYlhGEJYVhCNK9/+COcjh8HVLjr7sPlefdbuLz/O31mYTFfhsuqmj/5PVzu+j/DZT/5K7+AVfcmXN6Ofw6Xs/00XL7vxuGyqsYPo3DpHUsIwxLCsIQwLCEMSwjDEsKwhDAsIQxLCMMSwrCEMCwhDEsIwxKi+272fTjd9OkXR6rqRXMVLkfTL8LlP2+vw+Wvy1/CZVX927wOl7OzdbhsL/I/v54efgqXX8f/WLe36YNDX8724bKqLj9LG/COJYRhCWFYQhiWEIYlhGEJYVhCGJYQhiWEYQlhWEIYlhCGJcQnxZzj4HYeC/8AAAAASUVORK5CYII=\" style=\"image-rendering: pixelated;\">\n",
              "            </div><div style=\"margin-right:10px; margin-top: 4px;\">\n",
              "              6 <br/>\n",
              "              <img src=\"data:image/PNG;base64,iVBORw0KGgoAAAANSUhEUgAAAMgAAACrCAIAAACsWkQ9AAAE20lEQVR4nO3d32vVdRzH8ffJlbMGaZazYkt3zhapmWiKqwzDTAO1y6JrMXXgf+NGUd0m1JVFeCEVWVoRZPZLc5szY+UEM6Zm/qj+hdcXeuLN83H94sP3HJ58b86X820tm9dTmaFd68JlVZ1646v42LXh8vTYsXA5uHs4XFbVxP4j4bI9suF/PxM69rZf6h35oVLOsIQwLCEMSwjDEsKwhDAsIQxLCMMSwrCEMCwhDEsIwxKi9dK+58Jpo5/Bl+59Jlz+MvZ5uFywaWW4vHL423BZVQ+NpJc6sf+zcNmOz4SOve2X6h1LCMMSwrCEMCwhDEsIwxLCsIQwLCEMSwjDEsKwhDAsIQxLCMMSorViTlc4bfR8xeTo0XDZu3V9uLx/+q5w+Wf/zXBZVefev51PrUDH5meON7nUTnysdywhDEsIwxLCsIQwLCEMSwjDEsKwhDAsIQxLCMMSwrCEMCwhuqCfwQd2PxUuZw9cDJc929rhcvrgZLgs5kGA/CkA6Njx/elfrTS81PRY71hCGJYQhiWEYQlhWEIYlhCGJYRhCWFYQhiWEIYlhGEJYVhCtJbPuTOcdkaezs9t8ut6euzkaHrm4i2rwmVVXb7xe7jsnrsoXM58eCK/gHb8DUzE3ypxZqNjvWMJYVhCGJYQhiWEYQlhWEIYlhCGJYRhCWFYQhiWEIYlhGEJ0dqxb2M4hX4Gz48d2JP+H8TMu+kDC1W1+tm14fKLj78Ml32vPpxfQINvYG/6rZ4dS8+8b9PKcFlVs4fTpza8YwlhWEIYlhCGJYRhCWFYQhiWEIYlhGEJYVhCGJYQhiWEYQnR4L8b8gcWCvqXgdFj4bLz8vpwWVUDh/rD5dSLv4bLn99p8BaP/BuYjL+B3q3rwuUD03PDZVVd6r8ZLr1jCWFYQhiWEIYlhGEJYVhCGJYQhiWEYQlhWEIYlhCGJYRhCWFYQnS14/+ZyN9iUlUd4Nj8zNPxy1Gq6t+9rXA5Hh+bX2qjY9uvDYfL2QMXw+U929rhsqqmD06ES+9YQhiWEIYlhGEJYVhCGJYQhiWEYQlhWEIYlhCGJYRhCWFYQrSWdaV/CtLZ0+AX+8mxo+HywS3pKzcufJT+tN6/84lwWU0utXfzmnB55cZv+QXM614YLs8f+i5cduLXw4zHH7/Rsd6xhDAsIQxLCMMSwrCEMCwhDEsIwxLCsIQwLCEMSwjDEsKwhGhtH3k+nE69/ml+7vyNK8Jl95zucHn53N/h8tL4yXBZVZ1dT4bL8+/NhMs1G9LnIKrq2Cdfh8v+VxaHy1NvHg+Xj+5cFS6r6uRbJ8KldywhDEsIwxLCsIQwLCEMSwjDEsKwhDAsIQxLCMMSwrCEMCwhWi8Mvh1OF7b/yc/t67kVLo9MjIbLn348Ey5Xb3o8XFbVte8XhcvO6sFw2Xd1c34Bf/WlD038cKQ3XC7d/ke4nPogPbOqBnakL7zwjiWEYQlhWEIYlhCGJYRhCWFYQhiWEIYlhGEJYVhCGJYQhiWEYQnRNbjqkXB6ZmJBfu69V9PnK1pL0neuzB2/O1x2newJl1XVN/RYuOy+sDxcXlsyP7+AW5NLw+XK4fRhpOvHh+Izb4bLqrr+TXqsdywhDEsIwxLCsIQwLCEMSwjDEsKwhDAsIQxLCMMSwrCEMCwh/gPYivD2kUitJwAAAABJRU5ErkJggg==\" style=\"image-rendering: pixelated;\">\n",
              "            </div><div style=\"margin-right:10px; margin-top: 4px;\">\n",
              "              7 <br/>\n",
              "              <img src=\"data:image/PNG;base64,iVBORw0KGgoAAAANSUhEUgAAAMgAAACrCAIAAACsWkQ9AAAEhklEQVR4nO3dT05bVxxH8fvgGcdWgBiIoa0a/pgQOqg6a7uBDruV7qjL6Q46KG0FZBBKnIQQDI6NDekWvk/iKIp0PuOfrm+cw5u8q+tqr/e0ZCaTu3CylLK0sx5Ozl9epGu2F8LJZlt91gsnR8dn4eRXK/18A28+/BdOLncfh5NnN6NwcvDk63CylHIxehNOpv9VUiOGJYRhCWFYQhiWEIYlhGEJYVhCGJYQhiWEYQlhWEIYlhDVVns5HG2treTrzoavw8n2RnoQYHqZvrFvtNV5vNVHh4Nw8uNfx/kGWmsb4eTSZBJOjjud9OPfDdPJJt+ATywhDEsIwxLCsIQwLCEMSwjDEsKwhDAsIQxLCMMSwrCEMCwhDEuIurOf3gkxaXIUpAOcMOkc7j34mqXJVufxsve7z/IN1Ocf0mVbi+FkdZUesGnH//zS5Iv1iSWEYQlhWEIYlhCGJYRhCWFYQhiWEIYlhGEJYVhCGJYQhiVEddBuh6NX29v5uqsvT8PJ0e5OOHn/z0k4mZ+DKKVM8zf2/fTnYVZH8Z0cpUznr8LJ0adWOLkUX4syGza4FCT/Yn1iCWFYQhiWEIYlhGEJYVhCGJYQhiWEYQlhWEIYlhCGJYRhCVFfLqSnGzaHs3zd6278oyOnb8NB6O6G9n56z8L18Vk42VtZyjcwvk3/vLvP04s2iBsxGi3rE0sIwxLCsIQwLCEMSwjDEsKwhDAsIQxLCMMSwrCEMCwhDEuIqr+/H44uv77M172+nYaTrfiWgXl8ywD0xh77aYyHX/azb9UnlhCGJYRhCWFYQhiWEIYlhGEJYVhCGJYQhiWEYQlhWEIYlhD15vt5OPpuOs7X7T7/Npwcx2/Xu/Gr9XxNaNl8TWjZfM1GJ0HyZX1iCWFYQhiWEIYlhGEJYVhCGJYQhiWEYQlhWEIYlhCGJYRhCWFYQlSbi61w9Au6aeML2iq07Gffqk8sIQxLCMMSwrCEMCwhDEsIwxLCsIQwLCEMSwjDEsKwhDAsIWrqNfiLh182vxLj9ugknCyllMFuONj69zSc/DjYyT+/OorPLADfar5mo2V9YglhWEIYlhCGJYRhCWFYQhiWEIYlhGEJYVhCGJYQhiWEYQlR9ev07oZH+w1eg7dPTsPJm93tcPI+Plyw+HQ9nCyl9EbdcHK0eBlOPp4/yTdwtToJJ2+Hw3CycxCfg/i7yaGVeFmfWEIYlhCGJYRhCWFYQhiWEIYlhGEJYVhCGJYQhiWEYQlhWEJUP/7yezjaOanzdWd1muzteBZO1gfpp98fNTjd0F+7CyffT9KTIL32Tb6BP+vfwsnpdT+c/HSWnoPY+v7XcLKUsjb8OZz0iSWEYQlhWEIYlhCGJYRhCWFYQhiWEIYlhGEJYVhCGJYQhiWEYQlRb5z9EI6OqqV83c7mPJysrtNTKxvn6Z9BNeiEk6WUu7ftcHIl/W2UsvBqmm+gt/VNOHn+x0U4ubv3Uzi5enEYTpZSNte/Cyd9YglhWEIYlhCGJYRhCWFYQhiWEIYlhGEJYVhCGJYQhiWEYQnxP1Qy652NOqmeAAAAAElFTkSuQmCC\" style=\"image-rendering: pixelated;\">\n",
              "            </div><div style=\"margin-right:10px; margin-top: 4px;\">\n",
              "              8 <br/>\n",
              "              <img src=\"data:image/PNG;base64,iVBORw0KGgoAAAANSUhEUgAAAMgAAACrCAIAAACsWkQ9AAAE70lEQVR4nO3dW28UdRzG8d+0s1ulYCUl23a3W2mCKVazhUaCHBQSEw/hEFtS4hsyvgdfQtu0XHAhJCSgohAg2kojSDUp7G4PlgJtBIVd6lt4JuFJY/L9XD/5M0y+nZtOpklfaxqa4thH4jIi6hPfvfJja9PX1DMre8VlRDTubojLlsEOcbl84xf9Aopnj6nHjqt3tX3fO+JyYLlXXEbEnz11cdmiHwroCAsWhAULwoIFYcGCsGBBWLAgLFgQFiwICxaEBQvCggVhwSLVXy7QX1iILO8s6MeWx46Ly+r0VXEZEcXRw+KyPn5FPVN+YSHTsV2nD4nLxW/nxOVmpVNcRsT6XE1c8sSCBWHBgrBgQViwICxYEBYsCAsWhAULwoIFYcGCsGBBWLAgLFgQFiyS/9FHQepTP4nL0pkj4jIiauOXxaX+Moz+Jozp2C2/VJ5YsCAsWBAWLAgLFoQFC8KCBWHBgrBgQViwICxYEBYsCAsWhAWLtMfzURDHsSX9oyBTWT4KIv/Gvub5KIjj2C2/VJ5YsCAsWBAWLAgLFoQFC8KCBWHBgrBgQViwICxYEBYsCAsWhAWLpNyaE6fFsQ/1c+sT37/yYxflbzd0fZrhUl/cvqkuK/vF5fr5Lf7zMIUTx8Vl89db4jKy3AGeWLAgLFgQFiwICxaEBQvCggVhwYKwYEFYsCAsWBAWLAgLFoQFi+Tglx+L04eT6gsLEZF+or5f0HZB/Y192+hRcdm4VBeXEZF2qe93PHvwXFxuO1nWL0B/Z6F79LC4bFxU70Cu2CYuI8sd4IkFC8KCBWHBgrBgQViwICxYEBYsCAsWhAULwoIFYcGCsGBBWLBIdqd5cdo+NKCfu3epT1z+UayKy9XZe+KyWMlwqc9/WxeX6Xs7xeXyjRn9AvRvN1TlF0x6hgbFZePuhriMLHeAJxYsCAsWhAULwoIFYcGCsGBBWLAgLFgQFiwICxaEBQvCggVhwYKwYJHuOnVQnK5cmNPPTTrlr2LcWRKH5RH1kxgPpn9U//WI0sghcVmTv95Rkt+EyXRsr3zsll8qTyxYEBYsCAsWhAULwoIFYcGCsGBBWLAgLFgQFiwICxaEBQvCgkUy3N8pTh+l3fq5w093i8t5+aMga7O/i8vSyBFxGRHViSvqsWPq33GpTf6gX0Dh82Pisnn7lrhsVIbF5ZPz6n8/stwBnliwICxYEBYsCAsWhAULwoIFYcGCsGBBWLAgLFgQFiwICxaEBYs0zRXE6eL8vH7u5gH12I25urjs/UL91frKuaviMiJ2fKZ+vODvqWvislv+HkRENC8uiMt8sUdcvrx0X1zqLyxERHVSvbE8sWBBWLAgLFgQFiwICxaEBQvCggVhwYKwYEFYsCAsWBAWLAgLFsmZoW/UbX+in7s6kxeXm+/fEZcvrs+Iy/a3h8RlRAy07BOXS9vVn8NHsxnu1eOur8Vl894/4jJfVj/J0bHxlbiMiJ0nmuKSJxYsCAsWhAULwoIFYcGCsGBBWLAgLFgQFiwICxaEBQvCggVhwYKwYJG+NjggTrct5PRzcwca4rJ1QV2u9f8rLrevvisuI+Lljj3iMv/Xm+Ky94O1DBdwX33HZqXwhrjse9ohLgtH3xKXEfH6z23ikicWLAgLFoQFC8KCBWHBgrBgQViwICxYEBYsCAsWhAULwoIFYcHiPz4P7vuALwEzAAAAAElFTkSuQmCC\" style=\"image-rendering: pixelated;\">\n",
              "            </div><div style=\"margin-right:10px; margin-top: 4px;\">\n",
              "              9 <br/>\n",
              "              <img src=\"data:image/PNG;base64,iVBORw0KGgoAAAANSUhEUgAAAMgAAACrCAIAAACsWkQ9AAAD70lEQVR4nO3dy2pkVRiG4VXJroqJLWLOdBtnjdgOGpx6ez3oq/COvABBBIeaCn3wkJCqqLfwbchH2fTzjH8Wm+JlT/bPqsXl4cHITKcX4eQYY7P+LZzcOz4LJ5dvrsPJh5MZj/oQP+p+/AvkZ44xlvGx9ze/h5PTyXk4uZ3zqHkDe/mhkBMWFcKiQlhUCIsKYVEhLCqERYWwqBAWFcKiQlhUCIuKxbOrq3B0u04/rY8xppN0Z2G8+Ssc3BwswsnFbXrmGGM6zRcB4uWC+Mwxxnadbm0s42Pz7ZJZSyv5KoQ3FhXCokJYVAiLCmFRISwqhEWFsKgQFhXCokJYVAiLCmFRISwqFhczLgWZsQryEG+YLP9N477bbMPJ1dPLcHJ0lmFmrRjll4JsXArCR05YVAiLCmFRISwqhEWFsKgQFhXCokJYVAiLCmFRISwqptIX+/0vTsPJu/yL/efH4eS8+0t2fSnIJt8EcSkIHzlhUSEsKoRFhbCoEBYVwqJCWFQIiwphUSEsKoRFhbCoaN3dsNsLEf4Hj5r+i8nMYx//UTfXM+5uWJ65u4GdEhYVwqJCWFQIiwphUSEsKoRFhbCoEBYVwqJCWFQIi4oZdzdsruf828LZ4x/bOLN07CreAhhjbG7SVYj87ob7eGchX1gYc1YhvLGoEBYVwqJCWFQIiwphUSEsKoRFhbCoEBYVwqJCWFQIi4rF+Sfp3Q35p/XR+reFxz+zdGy+sDDv2MLOgrsb+JAIiwphUSEsKoRFhbCoEBYVwqJCWFQIiwphUSEsKoRFhbComBpbK2PXyzCzHnXGtSjxsbMuBbnPf4HCMszkUhA+IMKiQlhUCIsKYVEhLCqERYWwqBAWFcKiQlhUCIsKYVEx41KQfAtgjLGNv9jnxzbOLB273fWlINOu/x7GG4sKYVEhLCqERYWwqBAWFcKiQlhUCIsKYVEhLCqERYWwqJgaywWjcyFC7ZqJ+EKEdbpcsDq9zB9gxt0N8bH5mTMfNd3a8MaiQlhUCIsKYVEhLCqERYWwqBAWFcKiQlhUCIsKYVEhLCoW3z//IRzdnO3n567W6fDmLI17dX0bTv7y5FU4Ocb45+f34eTBcboHcbV6nT/AzeGP4eSnb38KJ1fPvgsnlzcvw8kxxnh6GA56Y1EhLCqERYWwqBAWFcKiQlhUCIsKYVEhLCqERYWwqBAWFcKiYvrs4kU4evTHjApvz6f02D/TY/8+Tddmvto7CifHGL+mmyDj5ep5OHl7/G3+AF8v3oWTbxfLcPLLu2/CyfeXaQBjjKN3T8JJbywqhEWFsKgQFhXCokJYVAiLCmFRISwqhEWFsKgQFhXCouI/DIfj6ScFOcoAAAAASUVORK5CYII=\" style=\"image-rendering: pixelated;\">\n",
              "            </div></div>"
            ],
            "text/plain": [
              "<IPython.core.display.HTML object>"
            ]
          },
          "metadata": {
            "tags": []
          }
        }
      ]
    },
    {
      "cell_type": "markdown",
      "metadata": {
        "id": "90PNjn6jNISz",
        "colab_type": "text"
      },
      "source": [
        "# NMF on attributions with no score FN"
      ]
    },
    {
      "cell_type": "code",
      "metadata": {
        "id": "rbHdGEMSNBZ2",
        "colab_type": "code",
        "colab": {
          "base_uri": "https://localhost:8080/",
          "height": 701
        },
        "outputId": "5222a5e7-9baf-4e6e-b307-44919882751e"
      },
      "source": [
        "attr = get_attr(model, output_layer_name, hidden_layer_name, some_observations, integrate_steps=10)\n",
        "reduced = reduce_and_norm(attr)\n",
        "show_with_obs(some_observations, reduced, 10)"
      ],
      "execution_count": 43,
      "outputs": [
        {
          "output_type": "stream",
          "text": [
            "normalize_by 70.18486906715233\n",
            "Time left in episode\n"
          ],
          "name": "stdout"
        },
        {
          "output_type": "display_data",
          "data": {
            "text/html": [
              "<div style=\"display: flex; flex-direction: row;\"><div style=\"margin-right:10px; margin-top: 4px;\">\n",
              "              0 <br/>\n",
              "              <img src=\"data:image/PNG;base64,iVBORw0KGgoAAAANSUhEUgAAAMgAAACvCAAAAACdws6gAAAA7UlEQVR4nO3dsQ2AMAwAQUDsyP5j0FGnj8gp+hvA1ssD+HyPhZ55o655o9YqRFOIphBNIZpCNIVoCtEUoilEU4imEE0hmkI0hWgK0RSiKURTiKYQTSGaQjSFaArRFKIpRFOIphBNIZpCNIVoCtEUoilEU4imEE0hmkI0hWgK0RSiKURTiKYQTSGaQjSFaArRFKIpRFOIphBNIZpCNIVoCtEUoilEU4imEE0hmkI024Tcfy+c+BdisM1FCtEUoilEU4imEE0hmkI0hWgK0RSiKURTiKYQTSGaQjSFaArRFKIpRFOIphBNIZpCNIVoPjKgAwfbDyOEAAAAAElFTkSuQmCC\" style=\"image-rendering: pixelated;\">\n",
              "            </div><div style=\"margin-right:10px; margin-top: 4px;\">\n",
              "              1 <br/>\n",
              "              <img src=\"data:image/PNG;base64,iVBORw0KGgoAAAANSUhEUgAAAMgAAACvCAAAAACdws6gAAAA8ElEQVR4nO3RsQ2AMBAEQYzoh87piF5ogcCIlTUTf3CrH+e2hv3vAbMIqRFSI6RGSI2QGiE1QmqE1AipEVIjpEZIjZAaITVCaoTUCKkRUiOkRkiNkBohNUJqhNQIqRFSI6RGSI2QGiE1QmqE1AipEVIjpEZIjZAaITVCaoTUCKkRUiOkRkiNkBohNUJqhNQIqTnenV3frphgmY8IqRFSI6RGSI2QmnH/vWCSZT4ipEZIjZAaITVCaoTUCKkRUiOkRkiNkBohNUJqhNQIqRFSI6RGSI2QGiE1QmqE1AipEVIjpEZIjZAaITVCaoTULBPyAJ9VAxl4CtW5AAAAAElFTkSuQmCC\" style=\"image-rendering: pixelated;\">\n",
              "            </div><div style=\"margin-right:10px; margin-top: 4px;\">\n",
              "              2 <br/>\n",
              "              <img src=\"data:image/PNG;base64,iVBORw0KGgoAAAANSUhEUgAAAMgAAACvCAAAAACdws6gAAAA8ElEQVR4nO3RwQmAQBAEQU9MxsjM08iMwIcgXHNUffczzY57W8M+e8BfhNQIqRFSI6RGSI2QGiE1QmqE1AipEVIjpEZIjZAaITVCaoTUCKkRUiOkRkiNkBohNUJqhNQIqRFSI6RGSI2QGiE1QmqE1AipEVIjpEZIjZAaITVCaoTUCKkRUnPMHvDR9XZY5iNCaoTUCKkRUiOkZpyzF/xkmY8IqRFSI6RGSI2QGiE1QmqE1AipEVIjpEZIjZAaITVCaoTUCKkRUiOkRkiNkBohNUJqhNQIqRFSI6RGSI2QGiE1QmqE1AipEVIjpEZIzTIhD5THArEgneuhAAAAAElFTkSuQmCC\" style=\"image-rendering: pixelated;\">\n",
              "            </div><div style=\"margin-right:10px; margin-top: 4px;\">\n",
              "              3 <br/>\n",
              "              <img src=\"data:image/PNG;base64,iVBORw0KGgoAAAANSUhEUgAAAMgAAACvCAAAAACdws6gAAAA70lEQVR4nO3RsQ2AMBAEQYwogSIpjiKpgMyClTWTfnKrH/e2hv3vAbMIqRFSI6RGSI2QGiE1QmqE1AipEVIjpEZIjZAaITVCaoTUCKkRUnO8Xq4PV0ywzEeE1AipEVIjpEZIzTj/XjDJMh8RUiOkRkiNkBohNUJqhNQIqRFSI6RGSI2QGiE1QmqE1AipEVIjpEZIjZAaITVCaoTUCKkRUiOkRkiNkBohNUJqhNQIqRFSI6RGSI2QGiE1QmqE1AipEVIjpEZIjZAaITVCaoTUCKkRUiOkRkiNkBohNUJqhNQIqRFSI6RGSI2QGiE1y4Q8nW8Chxtkt/MAAAAASUVORK5CYII=\" style=\"image-rendering: pixelated;\">\n",
              "            </div><div style=\"margin-right:10px; margin-top: 4px;\">\n",
              "              4 <br/>\n",
              "              <img src=\"data:image/PNG;base64,iVBORw0KGgoAAAANSUhEUgAAAMgAAACvCAAAAACdws6gAAAA6klEQVR4nO3RsQ2AMBAEQUwttETdtERKAZY8WDvZZ7f68Ry/dX+Pc9WK2QrRFKIpRFOIphDNNiHjWr1gkm0+UoimEE0hmkI0hWgK0RSiKURTiKYQTSGaQjSFaArRFKIpRFOIphBNIZpCNIVoCtEUoilEU4imEE0hmkI0hWgK0RSiKURTiKYQTSGaQjSFaArRFKIpRFOIphBNIZpCNIVoCtEUoilEU4imEE0hmkI0hWgK0RSiKURTiKYQTSGaQjSFaArRFKIpRFOIphBNIZpCNIVoCtEUoilEU4imEE0hmkI0hWgK0RSiKUTzAmR3AqXm7GGvAAAAAElFTkSuQmCC\" style=\"image-rendering: pixelated;\">\n",
              "            </div><div style=\"margin-right:10px; margin-top: 4px;\">\n",
              "              5 <br/>\n",
              "              <img src=\"data:image/PNG;base64,iVBORw0KGgoAAAANSUhEUgAAAMgAAACvCAAAAACdws6gAAAA7klEQVR4nO3bMQqAMBAAQRU/7Gd9j62tGMgQdvrLsVyd/d6GucY99d0xc/lIhWgK0RSiKURTiKYQTSGaQjSFaArRFKIpRFOIphBNIZpCNIVoCtEUoilEU4imEE0hmkI0hWgK0RSiKURTiKYQzTIh58/5qV8t3pa5SCGaQjSFaArRFKIpRFOIphBNIZpCNIVoCtEUoilEU4imEE0hmkI0hWgK0RSiKURTiKYQTSGaQjSFaArRFKIpRFOIphBNIZpCNIVoCtEUoilEU4imEE0hmkI0hWgK0RSiKURTiKYQTSGaQjSFaArRFKIpRFOI5gFNqgMYVp4//AAAAABJRU5ErkJggg==\" style=\"image-rendering: pixelated;\">\n",
              "            </div><div style=\"margin-right:10px; margin-top: 4px;\">\n",
              "              6 <br/>\n",
              "              <img src=\"data:image/PNG;base64,iVBORw0KGgoAAAANSUhEUgAAAMgAAACvCAAAAACdws6gAAAA6ElEQVR4nO3RQQ2AMAAEQYoWbCMGZ3wR0KRDs6PgNjeu4+M+futcPWCWQjSFaArRFKIpRFOIphBNIZpCNIVoCtEUoilEU4imEE0hmkI0hWgK0RSiKURTiKYQTSGaQjSFaArRFKIpRFOIphBNIZpCNIVoCtEUoilEU4imEE0hmkI0hWgK0RSiKURTiKYQTSGaQjSFaArRFKIpRFOIphBNIZpCNIVoCtEUoilEs03IeFYvmGSbRwrRFKIpRFOIphBNIZpCNIVoCtEUoilEU4imEE0hmkI0hWgK0RSiKURTiKYQTSGaQjSFaF6CyQLf6AfiXAAAAABJRU5ErkJggg==\" style=\"image-rendering: pixelated;\">\n",
              "            </div><div style=\"margin-right:10px; margin-top: 4px;\">\n",
              "              7 <br/>\n",
              "              <img src=\"data:image/PNG;base64,iVBORw0KGgoAAAANSUhEUgAAAMgAAACvCAAAAACdws6gAAAA7UlEQVR4nO3RAQ2AMAwAQUbwiCXcYQkTAy7Ln4C2n457W8P+9wGzFKIpRFOIphBNIZplQo6vF14vzV3mI4VoCtEUoilEU4hmnH9fMMkyHylEU4imEE0hmkI0hWgK0RSiKURTiKYQTSGaQjSFaArRFKIpRFOIphBNIZpCNIVoCtEUoilEU4imEE0hmkI0hWgK0RSiKURTiKYQTSGaQjSFaArRFKIpRFOIphBNIZpCNIVoCtEUoilEU4imEE0hmkI0hWgK0RSiKURTiKYQTSGaQjSFaArRFKIpRFOIphBNIZpCNIVoCtEUoilEU4jmAYe6Aw2k03G8AAAAAElFTkSuQmCC\" style=\"image-rendering: pixelated;\">\n",
              "            </div><div style=\"margin-right:10px; margin-top: 4px;\">\n",
              "              8 <br/>\n",
              "              <img src=\"data:image/PNG;base64,iVBORw0KGgoAAAANSUhEUgAAAMgAAACvCAAAAACdws6gAAAA8ElEQVR4nO3RwQmAQBAEQU9MxzTMPwvT8GcCCtccVf+FaXbc2xr22QP+IqRGSI2QGiE1QmqE1AipEVIjpEZIjZAaITVCaoTUCKkRUiOkRkiNkBohNUJqhNQIqRFSc8we8Lq+nS/zESE1QmqE1AipEVKzTMg4Zy/4yTIfEVIjpEZIjZAaITVCaoTUCKkRUiOkRkiNkBohNUJqhNQIqRFSI6RGSI2QGiE1QmqE1AipEVIjpEZIjZAaITVCaoTUCKkRUiOkRkiNkBohNUJqhNQIqRFSI6RGSI2QGiE1QmqE1AipEVIjpEZIjZAaITVCaoTUPBLkArlhyvhOAAAAAElFTkSuQmCC\" style=\"image-rendering: pixelated;\">\n",
              "            </div><div style=\"margin-right:10px; margin-top: 4px;\">\n",
              "              9 <br/>\n",
              "              <img src=\"data:image/PNG;base64,iVBORw0KGgoAAAANSUhEUgAAAMgAAACvCAAAAACdws6gAAAA70lEQVR4nO3dwQmAMBAAQRX7f9iM7fn1KwYyhJ3/5ViugOz3Nsw17qnvjpnLRypEU4imEE0hmkI0hWgK0RSiKURTiKYQTSGaQjSFaArRFKIpRFOIphBNIZpCNIVoCtEUoilEU4imEE0hmkI0hWgK0RSiKURTiKYQTSGaQjSFaArRFKIpRFOIphBNIZpCNIVoCtEUoilEU4imEE0hmkI0hWgK0RSiKURTiKYQTSGaQjTLhJw/56d+DPG2zEUK0RSiKURTiKYQTSGaQjSFaArRFKIpRFOIphBNIZpCNIVoCtEUoilEU4imEE0hmkI0hWgefvMDO0FKBKwAAAAASUVORK5CYII=\" style=\"image-rendering: pixelated;\">\n",
              "            </div></div>"
            ],
            "text/plain": [
              "<IPython.core.display.HTML object>"
            ]
          },
          "metadata": {
            "tags": []
          }
        },
        {
          "output_type": "stream",
          "text": [
            "Color channels (vertical stripes are 'apples'\n"
          ],
          "name": "stdout"
        },
        {
          "output_type": "display_data",
          "data": {
            "text/html": [
              "<div style=\"display: flex; flex-direction: row;\"><div style=\"margin-right:10px; margin-top: 4px;\">\n",
              "              0 <br/>\n",
              "              <img src=\"data:image/PNG;base64,iVBORw0KGgoAAAANSUhEUgAAAMgAAACvCAIAAAA3ywYrAAACg0lEQVR4nO3bsU1DQRRFQRsR0gANUA11QAWEBAiJhAqgDOQGaIRaSJyzSHvs/dZMjJ4Jjn6yuvubt5/dgKfD659/837/vOCpQYO/+KfBf2nk5zZ96mrkj+C/hEVCWCSERUJYJIRFQlgkhEVCWCSERUJYJIRF4nrTL50TT43Y7kv86U/5YpEQFglhkRAWCWGREBYJYZEQFglhkRAWCWGR2F/8YPXE29dZw9e5DFa5EMIiISwSwiIhLBLCIiEsEsIiISwSwiIhLBLCImGwOv/UiImnRhisciGERUJYJIRFQlgkhEVCWCSERUJYJIRFQlgkDFYnn1rzaXLijNZglXMSFglhkRAWCWGREBYJYZEQFglhkRAWCWGREBYJg9XJp9Z8Ph9ksMrqhEVCWCSERUJYJIRFQlgkhEVCWCSERUJYJBYdrA468Q5zwafJZU/5YpEQFglhkRAWCWGREBYJYZEQFglhkRAWCWGREBaJbQ9WRxisnuWULxYJYZEQFglhkRAWCWGREBYJYZEQFglhkRAWCYPVI4PVuad8sUgIi4SwSAiLhLBICIuEsEgIi4SwSAiLhLBI2BUe2RXOPeWLRUJYJIRFQlgkhEVCWCSERUJYJIRFQlgkhEVCWCQWHaxu99SaL/EnXvbufLGICIuEsEgIi4SwSAiLhLBICIuEsEgIi4SwSGx7sLrgqTVfOQcZrLI6YZEQFglhkRAWCWGREBYJYZEQFglhkRAWCWGR2J/7H8jdft3OOvXxOOvS7nD3MOvU5/fLrFMT+WKREBYJYZEQFglhkRAWCWGREBYJYZEQFglhkRAWCWGREBYJYZEQFglhkRAWCWGREBYJYZEQFglhkRAWiV9u7wcjNedE0AAAAABJRU5ErkJggg==\" style=\"image-rendering: pixelated;\">\n",
              "            </div><div style=\"margin-right:10px; margin-top: 4px;\">\n",
              "              1 <br/>\n",
              "              <img src=\"data:image/PNG;base64,iVBORw0KGgoAAAANSUhEUgAAAMgAAACvCAIAAAA3ywYrAAACiElEQVR4nO3dsW1UURBAUS/aJhxQgOWABqiDFlwHJThky3DkgJCUgBpohBL4luaa/x7nxF8jB1cvGY338vB6uzvgx+9ff/3m88dPRh2Z8z+M+nDkI3grYZEQFglhkRAWCWGREBYJYZEQFglhkRAWCWGRuA7OWnppOjVq3fX57CgvFglhkRAWCWGREBYJYZEQFglhkRAWCWGREBaJyV3h0rstB6uzo7xYJIRFQlgkhEVCWCSERUJYJIRFQlgkhEVCWCSEReK69Kbz4IJ5ygl33qcd5cUiISwSwiIhLBLCIiEsEsIiISwSwiIhLBLCInFdeiE1OOqIdRemDlbZhLBICIuEsEgIi4SwSAiLhLBICIuEsEgIi4SwSOx/sLr97esgB6ucnbBICIuEsEgIi4SwSAiLhLBICIuEsEgIi8T+B6sH7X37epCDVc5OWCSERUJYJIRFQlgkhEVCWCSERUJYJIRFQlgk9j9YHbTuJt4vrLIJYZEQFglhkRAWCWGREBYJYZEQFglhkRAWicvD6+3Id+dcSA0erE6tHc+5MPULq2xCWCSERUJYJIRFQlgkhEVCWCSERUJYJIRFYv+7wnP+A9ztR3mxSAiLhLBICIuEsEgIi4SwSAiLhLBICIuEsEgIi8T+v7D6zqOW3sQ7WOXshEVCWCSERUJYJIRFQlgkhEVCWCSERUJYJBysDo9ad8s5O8qLRUJYJIRFQlgkhEVCWCSERUJYJIRFQlgkhEVCWCQu//oPWMnL/f3UqKdvU5PuHn8+T436/vXL1CgvFglhkRAWCWGREBYJYZEQFglhkRAWCWGREBYJYZEQFglhkRAWCWGREBYJYZEQFglhkRAWCWGREBYJYZH4A1FcCu1B6il1AAAAAElFTkSuQmCC\" style=\"image-rendering: pixelated;\">\n",
              "            </div><div style=\"margin-right:10px; margin-top: 4px;\">\n",
              "              2 <br/>\n",
              "              <img src=\"data:image/PNG;base64,iVBORw0KGgoAAAANSUhEUgAAAMgAAACvCAIAAAA3ywYrAAACh0lEQVR4nO3dMU1EQRRAUZZsiQFaCiSQUOEAGRhAAD6QASJIMLIGEIAEPsm77J9wTv3zdoubaV4mc3i7ub3Y4PPr/sdv7q4+jNoy5z+MutzyEfyWsEgIi4SwSAiLhLBICIuEsEgIi4SwSAiLhLBIHJfedO5w1Lrr89lRTiwSwiIhLBLCIiEsEsIiISwSwiIhLBLCIiEsEsfBWUvvtlxYnR3lxCIhLBLCIiEsEsIiISwSwiIhLBLCIiEsEsIiISwSk0vopZemLqzOjnJikRAWCWGREBYJYZEQFglhkRAWCWGREBYJYZE4eGF11t9vOad+biMXVjknYZEQFglhkRAWCWGREBYJYZEQFglhkRAWCWGR8MLqsH1u4jdyYZW9ExYJYZEQFglhkRAWCWGREBYJYZEQFglhkTjuc7e17qilF6ZeWGXvhEVCWCSERUJYJIRFQlgkhEVCWCSERUJYJIRFYvLC6qB196/rrs9nRzmxSAiLhLBICIuEsEgIi4SwSAiLhLBICIuEsEic4cLqFuuuydbdcs6OcmKREBYJYZEQFglhkRAWCWGREBYJYZEQFglhkTgOzlp6t+Ve4ewoJxYJYZEQFglhkRAWCWGREBYJYZEQFglhkRAWCWGRmFxCL7003bir3qEdbuIvnFhEhEVCWCSERUJYJIRFQlgkhEVCWCSERUJYJCYfwjTqLPa5e3VikRAWCWGREBYJYZEQFglhkRAWCWGREBYJYZEQFonDuf9A7unhZWrU+/Pr1KjT42lq1Nv19dSox9PYv3JikRAWCWGREBYJYZEQFglhkRAWCWGREBYJYZEQFglhkRAWCWGREBYJYZEQFglhkRAWCWGREBYJYZEQFolvChsEWNwwIbUAAAAASUVORK5CYII=\" style=\"image-rendering: pixelated;\">\n",
              "            </div><div style=\"margin-right:10px; margin-top: 4px;\">\n",
              "              3 <br/>\n",
              "              <img src=\"data:image/PNG;base64,iVBORw0KGgoAAAANSUhEUgAAAMgAAACvCAIAAAA3ywYrAAACnUlEQVR4nO3dsW1UQRRAUYy2A6JtBYkOEGW4D5dAK27AARIioQ0cuQc3QDBI7+7OiHPir7ff1tUkT7P78P3Xy4cFn378XHlsytuXzyuPrbzV4KgVix+3YvGVVj7x9qM+rjwE/0pYJIRFQlgkhEVCWCSERUJYJIRFQlgkhEVCWCQug+vJQUfvX1fceH1++1FOLBLCIiEsEsIiISwSwiIhLBLCIiEsEsIiISwSl6MXUhuOOnrL6cIquxMWCWGREBYJYZEQFglhkRAWCWGREBYJYZEQFonJC6tGLc75H0Y5sUgIi4SwSAiLhLBICIuEsEgIi4SwSAiLhLBIuLA6PGrP79Jd5MIquxMWCWGREBYJYZEQFglhkRAWCWGREBYJYZEQFgkXVodH7bk+X+TCKrsTFglhkRAWCWGREBYJYZEQFglhkRAWCWGRcGF1eNS5W87ZUU4sEsIiISwSwiIhLBLCIiEsEsIiISwSwiIhLBLCInEZnHX00nRxVz1lw/X57CgnFglhkRAWCWGREBYJYZEQFglhkRAWCWGREBaJyV3hoKPXZCvOXZi6sMo9CYuEsEgIi4SwSAiLhLBICIuEsEgIi4SwSNzhhzBXnLsmO3rL6V4huxMWCWGREBYJYZEQFglhkRAWCWGREBYJYZEQFgm/sDo86tz1+ewoJxYJYZEQFglhkRAWCWGREBYJYZEQFglhkRAWiTtcWD131KANt5yzo5xYJIRFQlgkhEVCWCSERUJYJIRFQlgkhEVCWCSEReLh3i/wd1/nRj1er1Ojfj/+mRr19DT2n78+j/2Br99ep0Y5sUgIi4SwSAiLhLBICIuEsEgIi4SwSAiLhLBICIuEsEgIi4SwSAiLhLBICIuEsEgIi4SwSAiLhLBICIvEOxGnCG6oY+4+AAAAAElFTkSuQmCC\" style=\"image-rendering: pixelated;\">\n",
              "            </div><div style=\"margin-right:10px; margin-top: 4px;\">\n",
              "              4 <br/>\n",
              "              <img src=\"data:image/PNG;base64,iVBORw0KGgoAAAANSUhEUgAAAMgAAACvCAIAAAA3ywYrAAACnElEQVR4nO3dsW1UURBAURZtbJG6C5fgAiwLCiDFDbgMGiB2BUj05JQOoAGCjzT3//ftc+LVeC1dvWQ02svn+5sPG1x+v2z52BZ/Pn2d+nMLjtoy5z2M+rjlQ/C/hEVCWCSERUJYJIRFQlgkhEVCWCSERUJYJIRF4nr0F8jtvH897/p8dpQXi4SwSAiLhLBICIuEsEgIi4SwSAiLhLBICIvEdf8t0s4G/8FBa16ZOlhldcIiISwSwiIhLBLCIiEsEsIiISwSwiIhLBLCInE99aZzzVE7c7DKOyIsEsIiISwSwiIhLBLCIiEsEsIiISwSwiJxwMHq2x41uJrcaM2FqReLhLBICIuEsEgIi4SwSAiLhLBICIuEsEgIi4SwSDhYHR513vX57CgvFglhkRAWCWGREBYJYZEQFglhkRAWCWGREBYJB6vDo8675Zwd5cUiISwSwiIhLBLCIiEsEsIiISwSwiIhLBLCIiEsEg5Wh0edd30+O8qLRUJYJIRFQlgkhEVCWCSERUJYJIRFQlgkhEXi8uXu55bPrbmQ2nnUoAW3nLOjvFgkhEVCWCSERUJYJIRFQlgkhEVCWCSERUJYJCbvCgetuSYbdN6FqbtCjiQsEsIiISwSwiIhLBLCIiEsEsIiISwSwiIhLBKTv7C60eC6d8H965rrcwervBHCIiEsEsIiISwSwiIhLBLCIiEsEsIiISwSB/wQ5hbnXZOd+srUwSqrExYJYZEQFglhkRAWCWGREBYJYZEQFglhkRAWicvRX+DfHuZGfbu9nRr1+Po6NWrQw4/vU6N+PT1PjfJikRAWCWGREBYJYZEQFglhkRAWCWGREBYJYZEQFglhkRAWCWGREBYJYZEQFglhkRAWCWGREBYJYZEQFom/rsoAu86IKB8AAAAASUVORK5CYII=\" style=\"image-rendering: pixelated;\">\n",
              "            </div><div style=\"margin-right:10px; margin-top: 4px;\">\n",
              "              5 <br/>\n",
              "              <img src=\"data:image/PNG;base64,iVBORw0KGgoAAAANSUhEUgAAAMgAAACvCAIAAAA3ywYrAAAChElEQVR4nO3csW0UQBBAUZ9xBWRuxEhUQEAdlIGQY1MA0AY9OaMDJJfgRZp/7Mrvxae5C742Gc1dPn38dbPgz9+vr37m/btHo1bmvIVRtysfgn8lLBLCIiEsEsIiISwSwiIhLBLCIiEsEsIiISwSl4cP9yuf23PTueGoc9fns6O8WCSERUJYJIRFQlgkhEVCWCSERUJYJIRFQlgk7o5eSG046twt5+woLxYJYZEQFglhkRAWCWGREBYJYZEQFglhkRAWCWGRcLA6POrc9fnsKC8WCWGREBYJYZEQFglhkRAWCWGREBYJYZEQFgkHq8Ojzt1yzo7yYpEQFglhkRAWCWGREBYJYZEQFglhkRAWCWGREBaJTQ9WFy1+4woHq7OjvFgkhEVCWCSERUJYJIRFQlgkhEVCWCSERUJYJM4+WF0x+KsG5+x5Zepgld0Ji4SwSAiLhLBICIuEsEgIi4SwSAiLhLBICIvEpgere44atOdS38EquxMWCWGREBYJYZEQFglhkRAWCWGREBYJYZE4+2B1w1GD/7d7fQ5W2Z2wSAiLhLBICIuEsEgIi4SwSAiLhLBICIvE3Z4XfOeOuvJ/6c5yV8juhEVCWCSERUJYJIRFQlgkhEVCWCSERUJYJIRFwsHq8Kjrr88HOVhld8IiISwSwiIhLBLCIiEsEsIiISwSwiIhLBIOVodH7bnlXORgld0Ji4SwSAiLhLBICIuEsEgIi4SwSAiLhLBICIvE5X//gJN8/vE0NerLt+9To34+P0+N+j01yItFRFgkhEVCWCSERUJYJIRFQlgkhEVCWCSERUJYJIRFQlgkhEVCWCSERUJYJIRFQlgkhEVCWCSERUJYJF4AxsEKQsJe9HsAAAAASUVORK5CYII=\" style=\"image-rendering: pixelated;\">\n",
              "            </div><div style=\"margin-right:10px; margin-top: 4px;\">\n",
              "              6 <br/>\n",
              "              <img src=\"data:image/PNG;base64,iVBORw0KGgoAAAANSUhEUgAAAMgAAACvCAIAAAA3ywYrAAACpklEQVR4nO3dsW1UQRRAURat3INzYiqhCDIXAGVAAaYM5CZIIXXkxCWQ0gASg/Tu7h/7nPjr7V/papKn2T39+Pj0ZsH7T+/++czPr48ve9SKxY9bsfhKK594+VFvVx6C/yUsEsIiISwSwiIhLBLCIiEsEsIiISwSwiIhLBLnY246B13+C67YdxO/OMqJRUJYJIRFQlgkhEVCWCSERUJYJIRFQlgkhEXivPVCasWF3+qYu1cXVnkhhEVCWCSERUJYJIRFQlgkhEVCWCSERUJYJIRF4vT7183Kc8fcdB5w1NZLfRdWOTphkRAWCWGREBYJYZEQFglhkRAWCWGREBaJk39YnR2175ZzdpQTi4SwSAiLhLBICIuEsEgIi4SwSAiLhLBICIuEsEi4sDo8at/1+ewoJxYJYZEQFglhkRAWCWGREBYJYZEQFglhkRAWickLq4P2XZPtu+WcHeXEIiEsEsIiISwSwiIhLBLCIiEsEsIiISwSwiIhLBLnwVmL694V++5f912fz45yYpEQFglhkRAWCWGREBYJYZEQFglhkRAWCWGRmNwVLjrmbsuF1dlRTiwSwiIhLBLCIiEsEsIiISwSwiIhLBLCIiEsEpO7wsGF1CD3Cq8yyolFQlgkhEVCWCSERUJYJIRFQlgkhEVCWCSERUJYJK7w47aDm84Vx7ywOsiFVV4RYZEQFglhkRAWCWGREBYJYZEQFglhkRAWifPWv6B6wFGDq8lFLqzyigiLhLBICIuEsEgIi4SwSAiLhLBICIuEsEgIi8Tp2i/wdx/uv0yNerj7PDXq++3t1Khvz89Tox6mBo1yYpEQFglhkRAWCWGREBYJYZEQFglhkRAWCWGREBYJYZEQFglhkRAWCWGREBYJYZEQFglhkRAWCWGREBaJP5y2BfzGIIhwAAAAAElFTkSuQmCC\" style=\"image-rendering: pixelated;\">\n",
              "            </div><div style=\"margin-right:10px; margin-top: 4px;\">\n",
              "              7 <br/>\n",
              "              <img src=\"data:image/PNG;base64,iVBORw0KGgoAAAANSUhEUgAAAMgAAACvCAIAAAA3ywYrAAACnElEQVR4nO3dsW0UURRAUQZtE6YYMjLaQMRIRBRAYjcAdIEcuBxHuA1ShJD4wbuzM6tz4tHbCa5+8vR3tvvnp1cLfn34+t9n3vz4YtTKnNlRUz+3aPGtXk/9HvxJWCSERUJYJIRFQlgkhEVCWCSERUJYJIRFQlgkLvsvTW971DHX54sG38qJRUJYJIRFQlgkhEVCWCSERUJYJIRFQlgkhEVic2F1dtR5t5yzo5xYJIRFQlgkhEVCWCSERUJYJIRFQlgkhEVCWCSEReIyOOvUS9PbvrC6/ygnFglhkRAWCWGREBYJYZEQFglhkRAWCWGREBaJ7dO7tyvP7fyJzvOuyc675Zwd5cQiISwSwiIhLBLCIiEsEsIiISwSwiIhLBLCIiEsEge9sDrIhdWrjHJikRAWCWGREBYJYZEQFglhkRAWCWGREBYJYZG4nHohtcKF1auMcmKREBYJYZEQFglhkRAWCWGREBYJYZEQFglhkRAWicl/TT710tSF1dlRTiwSwiIhLBLCIiEsEsIiISwSwiIhLBLCIiEsEtv989PKczsvpBYd8Luv591yzo5yYpEQFglhkRAWCWGREBYJYZEQFglhkRAWCWGRuJx6IbXivJ/ndK8Q/iYsEsIiISwSwiIhLBLCIiEsEsIiISwSwiIhLBIH/cLqoJ23y4uOudR3YZWjExYJYZEQFglhkRAWCWGREBYJYZEQFglhkXBhddgxd68urHIjhEVCWCSERUJYJIRFQlgkhEVCWCSERUJYJIRFYrv2C/zbz7u7qVHfX16mRj1ODRr1/tvD1KjHj5+nRjmxSAiLhLBICIuEsEgIi4SwSAiLhLBICIuEsEgIi4SwSAiLhLBICIuEsEgIi4SwSAiLhLBICIuEsEgIi8Rv3LsGOn2LGYsAAAAASUVORK5CYII=\" style=\"image-rendering: pixelated;\">\n",
              "            </div><div style=\"margin-right:10px; margin-top: 4px;\">\n",
              "              8 <br/>\n",
              "              <img src=\"data:image/PNG;base64,iVBORw0KGgoAAAANSUhEUgAAAMgAAACvCAIAAAA3ywYrAAACkklEQVR4nO3dMW5TQRRAUYzcsydqtkCbdbAAsgDSIkVKT529ULlmBxRQpphIc/1n7HNq6/nLuppm/PRPzy+/Pwz48/nryMdGfHr9OWvUyFMNft2sUYM/1M2P+jjyIXgvYZEQFglhkRAWCWGREBYJYZEQFglhkRAWCWGROF//enLExKeaaME772VHObFICIuEsEgIi4SwSAiLhLBICIuEsEgIi4SwSJy3vpCaOGrEmquha45yYpEQFglhkRAWCWGREBYJYZEQFglhkRAWCWGREBaJmQurE+17/7r1TbyFVVYnLBLCIiEsEsIiISwSwiIhLBLCIiEsEsIiccDC6oh9r8n2veWcO8qJRUJYJIRFQlgkhEVCWCSERUJYJIRFQlgkhEVCWCQOeMPqbe++7nt9PneUE4uEsEgIi4SwSAiLhLBICIuEsEgIi4SwSAiLxN5vWB1hYfWQUU4sEsIiISwSwiIhLBLCIiEsEsIiISwSwiIhLBLCImFh9b8rL6xOtOb/A5xYJIRFQlgkhEVCWCSERUJYJIRFQlgkhEVCWCRmLqzevDUvTC2sckeERUJYJIRFQlgkhEVCWCSERUJYJIRFQlgkDtgrHLHvU9kr/MeJRUJYJIRFQlgkhEVCWCSERUJYJIRFQlgkhEVCWCQWfcPqRPu+YXWQhVXuiLBICIuEsEgIi4SwSAiLhLBICIuEsEgIi8SiL8Lcd/d1zbtXC6vcCGGREBYJYZEQFglhkRAWCWGREBYJYZEQFglhkTgd/QBv+/Lj+6xRD98eZ416ulxmjfo1a9CqnFgkhEVCWCSERUJYJIRFQlgkhEVCWCSERUJYJIRFQlgkhEVCWCSERUJYJIRFQlgkhEVCWCSERUJYJIRF4i+tCPmjt5OvhgAAAABJRU5ErkJggg==\" style=\"image-rendering: pixelated;\">\n",
              "            </div><div style=\"margin-right:10px; margin-top: 4px;\">\n",
              "              9 <br/>\n",
              "              <img src=\"data:image/PNG;base64,iVBORw0KGgoAAAANSUhEUgAAAMgAAACvCAIAAAA3ywYrAAAChklEQVR4nO3dwUkkYRCAUUcmBEE0jU1j8WQMYkhiDJ5k09g0di572Qw2AcEW6uueHt87D6WHj7r8FH24vf13tcDz299Pf/PyeGPUkjnfYdT1kh/BVwmLhLBICIuEsEgIi4SwSAiLhLBICIuEsEgIi8Rx1y+dZzhqv8/ns6NsLBLCIiEsEsIiISwSwiIhLBLCIiEsEsIiISwSBwers6P2+8o5O8rGIiEsEsIiISwSwiIhLBLCIiEsEsIiISwSwiIhLBIOVodH7ff5fHaUjUVCWCSERUJYJIRFQlgkhEVCWCSERUJYJIRF4vIPVhda+Bc/td9XztlRNhYJYZEQFglhkRAWCWGREBYJYZEQFglhkRAWCWGRcLD6Bft9iXewyoUQFglhkRAWCWGREBYJYZEQFglhkRAWCWGROK5/GroyX1jdZJSNRUJYJIRFQlgkhEVCWCSERUJYJIRFQlgkhEVCWCQ2OFhdmS+sbjLKxiIhLBLCIiEsEsIiISwSwiIhLBLCIiEsEsIicflfWHWwuskoG4uEsEgIi4SwSAiLhLBICIuEsEgIi4SwSAiLxHFw1uCD1CB3hZuMsrFICIuEsEgIi4SwSAiLhLBICIuEsEgIi4SwSAiLxOQj9PovnUs4WN1klI1FQlgkhEVCWCSERUJYJIRFQlgkhEVCWCSERWKDD2GufLA66DxPQ89zlI1FQlgkhEVCWCSERUJYJIRFQlgkhEVCWCSERUJYJA5b/wMf+zk36tfcqPe7u6lRv5/+TI16/XE/Ner0cJoaZWOREBYJYZEQFglhkRAWCWGREBYJYZEQFglhkRAWCWGREBYJYZEQFglhkRAWCWGREBYJYZEQFglhkRAWif+SzQn1tvqKYAAAAABJRU5ErkJggg==\" style=\"image-rendering: pixelated;\">\n",
              "            </div></div>"
            ],
            "text/plain": [
              "<IPython.core.display.HTML object>"
            ]
          },
          "metadata": {
            "tags": []
          }
        },
        {
          "output_type": "stream",
          "text": [
            "Visualization\n"
          ],
          "name": "stdout"
        },
        {
          "output_type": "display_data",
          "data": {
            "text/html": [
              "<div style=\"display: flex; flex-direction: row;\"><div style=\"margin-right:10px; margin-top: 4px;\">\n",
              "              0 <br/>\n",
              "              <img src=\"data:image/PNG;base64,iVBORw0KGgoAAAANSUhEUgAAAMgAAACrCAIAAACsWkQ9AAAElElEQVR4nO3dOXMTWRiF4a9vL5IX2SDNsFcRkVFMOr+fkMmmyICZgB0bYRlr6Z2/cDo4gYv3ib+6vm6/VtK3rrIny6PQfNu14mREpKYXJ+sqiZOnmfrT9526ZkRU2SBONlklTq6qUt/AutuLk8/vLcTJfy+uxcm7acKzurxpxMkJiwI6woIFYcGCsGBBWLAgLFgQFiwICxaEBQvCggVhwYKwYEFYsCi2R4U42q/Vl/ARcXznWJxsNzt5UfVwwdirL+EjIj9Xlx026vmO6mSmb6C7UU+CvN6rz2o45OJks5APjUzBJxYsCAsWhAULwoIFYcGCsGBBWLAgLFgQFiwICxaEBQvCggVhwYKwYFG0V1txtCzUkxgRkfedOJlV6rI3W/nUSjlhq4eNutW8kK/66NSjOBFRyjeI5Gv1CSxDvelk23BsBrcHYcGCsGBBWLAgLFgQFiwICxaEBQvCggVhwYKwYEFYsCAsWBTFTL2+YrudcCnIKH89SlerV2Kcnstb3dTqj48oZ+pRiK5Wl/0+v9E3EJ16vGLxaClOfn1/oa7ZcboBtwdhwYKwYEFYsCAsWBAWLAgLFoQFC8KCBWHBgrBgQViwICxYFGOtvlpP+YQKx069OyAr1GVr+e6GrJyw1RSjODkm9SDAWb3SN3CRPouT3ea7OJmX6n0Qx+pX3kRE/GzVPyufWLAgLFgQFiwICxaEBQvCggVhwYKwYEFYsCAsWBAWLAgLFoQFiyJm8tvtnXoOIiLKhfp2vb1WzyyUlfpv0Mkv4SOiWqlXQhwuD+LkxfBR30Dq1MsjDoP8x+rUp/pzof76ERF7dVk+sWBBWLAgLFgQFiwICxaEBQvCggVhwYKwYEFYsCAsWBAWLAgLFkWzbcTRYco3GAzylRBZJsedqzvIBvVsRUT0O/UJ5IW6gWfVC30D79JrcTLV6qmN4kg9B1HW6q8/CZ9YsCAsWBAWLAgLFoQFC8KCBWHBgrBgQViwICxYEBYsCAsWhAULwoJFcXKu3gnRXe71dVv1a0RiDPnLUZJ6ecYgX4kREXWmHoYZevW3+hb/6xsY5IfVztWttjv1CfQz9alOwicWLAgLFoQFC8KCBWHBgrBgQViwICxYEBYsCAsWhAULwoIFYcEiO01qW7V8J0dEZKP6xr6X485G9aKRISa8sU/y8YqyOhIn/zr7W9/AP+uX6mivbjWfq0/g6fJE/ekRbz5ciZN8YsGCsGBBWLAgLFgQFiwICxaEBQvCggVhwYKwYEFYsCAsWBAWLIrF/bk42nzZ6evO76pv1/c/enHyZKV+kclurZ6DiIiz++rtFVdfD+Lk2/RK30Dq1ScwX1biZCM/gU9XE/6sOj6xYEFYsCAsWBAWLAgLFoQFC8KCBWHBgrBgQViwICxYEBYsCAsWxbZRjwxkjx/o6+Z/rsTJ8fCfuugfD9U182t1zYi2Uw8XDEn9uofDtbpmRPRJvRRj90P+xg15zUjqiYmIiGjUVacsCqgICxaEBQvCggVhwYKwYEFYsCAsWBAWLAgLFoQFC8KCBWHBgrAAAAAAAAAAAAAAAADwG/oFPizcBLwXxgAAAAAASUVORK5CYII=\" style=\"image-rendering: pixelated;\">\n",
              "            </div><div style=\"margin-right:10px; margin-top: 4px;\">\n",
              "              1 <br/>\n",
              "              <img src=\"data:image/PNG;base64,iVBORw0KGgoAAAANSUhEUgAAAMgAAACrCAIAAACsWkQ9AAAEsklEQVR4nO3dS5LTVhiG4V/Ske32rd3dCQUU0IwpVsACsuWsIBvIKANS1ZXQFAWNTfsiq21dsoVPg68Y5H3Gf4nD4UUTn9LJ0uW70OTdR3EyIvJjI06206RO7k/iZHYzFicj4nLbipNbdaXxos/1Bdw36l7NukycPC7VtV5X6l8/Ir7W6lIH/P0BHWHBgrBgQViwICxYEBYsCAsWhAULwoIFYcGCsGBBWLAgLFikefEgjm4f1cMFEXE1V88XbLZP4uRiNRUnq4ejOBkRW/l4RXM4i5OPrxf6Arp/1Y1Nywv1mRt1Bw7P1F2NiOB0A34uwoIFYcGCsGBBWLAgLFgQFiwICxaEBQvCggVhwYKwYEFYsCAsWGSjUv3ORJlK/bmjthMnD636UYqLXP1vsItenIyIri3EyVmoh0YGHDCKKDL1n2BZqDtwnI/UyccBR4yaVt1Y3liwICxYEBYsCAsWhAULwoIFYcGCsGBBWLAgLFgQFiwICxaEBYt083wljq4//Rjw4JF6ZKCTfzBv1EdGflLPVkTEdCrfj1KpHwVp5vLtKBHFXj00sS/VF0G9rtQ/fiJva0TIR1F4Y8GCsGBBWLAgLFgQFiwICxaEBQvCggVhwYKwYEFYsCAsWBAWLNLu604c7XP1EwMRUZ/Vn8Ez+caR/qg+s1kN+MzEc/k7D3f6DjzN9AW0Sf0nSI281qW6A/35mfrMiIh7cY43FiwICxaEBQvCggVhwYKwYEFYsCAsWBAWLAgLFoQFC8KCBWHBIq3erMTRbx+/688txuoXAfpK/XJBfzURJyc/nsTJiDi+XIiTaate4jBOtb6AOKpfmuiu1R1IG3UBaTbgGg35gxC8seBBWLAgLFgQFiwICxaEBQvCggVhwYKwYEFYsCAsWBAWLAgLFun73UYcbYsBFV416pGBdbkVJ/Od+uWCOhvwmYnLg7rUL9mjOPlb9kFfwO8Xf4iTt4drcfLzL+quvqgGXKLxtzzJGwsWhAULwoIFYcGCsGBBWLAgLFgQFiwICxaEBQvCggVhwYKwYEFYsMje3N6Io+t/1vpz60I+uNKqh2HSSD3g0T6d1T89ohypt4Oc1c+XxHg64H/suZKvhxmpu9rpO1AOODZzOqlbwBsLFoQFC8KCBWHBgrBgQViwICxYEBYsCAsWhAULwoIFYcGCsGCRirXaVjNRTwFERHlSr/E4L9Vf7Ju9egqgHw9Yan1WDwLkST4HUatLjYhupu7ApFJPgjS/XoiTtwNuh4m/ON2An4uwYEFYsCAsWBAWLAgLFoQFC8KCBWHBgrBgQViwICxYEBYsUjdXf90efznpz+0XE3UFW/nn9cVYndwN+Ml+9la9R2R3p369YvnqSl9A9Um9daa5Uc8slA+1OHn/fsBS48+jOMgbCxaEBQvCggVhwYKwYEFYsCAsWBAWLAgLFoQFC8KCBWHBgrBgkU2XM3G0SQMqLHP1voMmk2+mmKi/7benAacbykJdar3bi5NJvpcjIhp5Xwv5uolMvhrjtFEPLERE26jfpOCNBQvCggVhwYKwYEFYsCAsWBAWLAgLFoQFC8KCBWHBgrBgQViwICwAAAAAAAAAAAAAAAD8D/0H7u/iF/Ym5BAAAAAASUVORK5CYII=\" style=\"image-rendering: pixelated;\">\n",
              "            </div><div style=\"margin-right:10px; margin-top: 4px;\">\n",
              "              2 <br/>\n",
              "              <img src=\"data:image/PNG;base64,iVBORw0KGgoAAAANSUhEUgAAAMgAAACrCAIAAACsWkQ9AAAE7UlEQVR4nO3dT25bZRiF8ffa145j4sSO05RAQ0IjkOgEJCQKEuqgQoAErIIR22EDjKB76LASAxCirVSIqESMSNI0cew4iet/1/ZlC8eDM+L5jY8+Oc6TO4n1OfnivVuhebJ/JC4jYuvtDXH5tHUuLjfry+Ky1xuKy4i4/8G2uHz45FBcfnJnS38BP/95Ii5vNKri8uxiIC7vLfJSH8kvtaAfCugICxaEBQvCggVhwYKwYEFYsCAsWBAWLAgLFoQFC8KCBWHBIlmtrojTfD7Wz90bZeLyj3JRXO5OZuKylS7wB9OczsVld0k9dnOsnhkRL0vqsXcz9dinyyVxORuqv6mIGMlLnliwICxYEBYsCAsWhAULwoIFYcGCsGBBWLAgLFgQFiwICxaEBQvCgkX6WkO9aaNx3NfP7b1RF5c3XvTEZb61Ji7Tk0txGRHtQiIud+UPw5S36/oLmB72xGVrsyYuN8+uxeXZcllcRkQMJ+KQJxYsCAsWhAULwoIFYcGCsGBBWLAgLFgQFiwICxaEBQvCggVhwSK5L08fL6X6uWvjqbjslNRLQdJMvRQkKy7wB7NXVP+9fzpT/7dfny1wKUinpL6x80x9V8fyRzYiV4cR0c/VNU8sWBAWLAgLFoQFC8KCBWHBgrBgQViwICxYEBYsCAsWhAULwoJF+vz2ujjND7r6ud119UqIeXeoLtcq4nJ4qX83R3Qb6scr2ufqZxamt9RrJiJicqTeNFGT727oyHc3fL67LS4j4uE/h+KSJxYsCAsWhAULwoIFYcGCsGBBWLAgLFgQFiwICxaEBQvCggVhwSK5J0/3U/VTABExSOW7AybqRwbGc3VZX+TuhjxXx5Oi+gI2sgXubujLt1dcy7dXNMvqmfNCU1xGxMnoTFzyxIIFYcGCsGBBWLAgLFgQFiwICxaEBQvCggVhwYKwYEFYsCAsWKQHb26I08LplX5ufbkuLs8nHXG51lAvRHh1NRaXEfHhux+Ly8fPfxeXn73/nf4Cfnz2vbj8dOcjcfnri9/E5ddbX4nLiPip9YO45IkFC8KCBWHBgrBgQViwICxYEBYsCAsWhAULwoIFYcGCsGBBWLAgLFgkX+6qX3nyrL3ARRedYV9cFtNUXNbmubgcJOoyIhL5UpCZfNFJM1vgO1cuyupXuZSmU3E5kS9wmWfqmRGh/lJ5YsGEsGBBWLAgLFgQFiwICxaEBQvCggVhwYKwYEFYsCAsWBAWLNK8UhWnF4Nj/dzG6+qx7ZNX4nLlLflSkH8vxWVEbOytisvu39fi8uW6+uNHROFa/ShEUi2Ly7yvnvnN3dviMiIe/HIgLnliwYKwYEFYsCAsWBAWLAgLFoQFC8KCBWHBgrBgQViwICxYEBYskm/l6SP5X+sRkQ4m4nJUUe9uSEfqLQPZknpmRKyOZ+Kyv6TeiFAoLvBeVTP1C1r2c/XneidR36vWdIErOYa5eikGTyxYEBYsCAsWhAULwoIFYcGCsGBBWLAgLFgQFiwICxaEBQvCgkXS2LkpTvtt9eaCiKg0VsTl+Fy9Z6FyU/0SjeHxqbiMiKJ+IYJ8yUJt547+Aq6O/hKX5VpTXGajK3Epfy9HRMRkoL4DPLFgQViwICxYEBYsCAsWhAULwoIFYcGCsGBBWLAgLFgQFiwICxaEBQAAAAAAAAAAAAAAgP+h/wDWBO85oWeNngAAAABJRU5ErkJggg==\" style=\"image-rendering: pixelated;\">\n",
              "            </div><div style=\"margin-right:10px; margin-top: 4px;\">\n",
              "              3 <br/>\n",
              "              <img src=\"data:image/PNG;base64,iVBORw0KGgoAAAANSUhEUgAAAMgAAACrCAIAAACsWkQ9AAAE3klEQVR4nO3du24cdRiG8Xd2Zw8+LN7YCQkhCAkljggSF0CBQOIK6OgRBTXUXAWiAVHRUlAiARIlUqgiGYEAxTkI7NiOveudPc0ut/BO8VY8v/rTaLN+dpr58p/ig3uvyPPLb0/MSUmHKszJUitz8ur2hjn5dFyZk5Lu7m6bkwcnl+bkO8O+/wF+ej4xJ690u+bksl6ak7d2t8xJSQdHI3Oy5V8U8BEWIggLEYSFCMJCBGEhgrAQQViIICxEEBYiCAsRhIUIwkJEcc1+tl+dz/3rlr2eOTmeus/2d/ttc/J8XpuTkrZ67srAZOauDAx6DX6xZ9XCnLw52DQnjyfuH6suGnxXc/uL5Y6FCMJCBGEhgrAQQViIICxEEBYiCAsRhIUIwkIEYSGCsBBBWIggLESUbZXm6M5GgwrXpbthsqjdy+50b5mTs/qxOSlpam8D9VruSScvtV73P8CiPDAnR0t3a6VXuCtG6rhbQ5Lm87E5yR0LEYSFCMJCBGEhgrAQQViIICxEEBYiCAsRhIUIwkIEYSGCsBBR7vXdN448uXTPrpC01XIvK/uJ/cXKfedKPWtwfslgx309yWTkfgMXL/zhf4DVxL1s0XFXUaZLd7uku3ZXNhrhjoUIwkIEYSGCsBBBWIggLEQQFiIICxGEhQjCQgRhIYKwEEFYiCjHS/fReqtwH5hLOpm62w31eu1Oyp2clw1+MIOWe9lFx71sZX+rktb2kRCq3D/BqnT3IN7ddZc7JH33z4U5yR0LEYSFCMJCBGEhgrAQQViIICxEEBYiCAsRhIUIwkIEYSGCsBBRXj91jzkYtRv8J/+uv19Q28sF9nZDzx2UJPuUA7Xt8yjK5w0Ojyi77lsk6i13Z2G4cL+C788m5mQj3LEQQViIICxEEBYiCAsRhIUIwkIEYSGCsBBBWIggLEQQFiIICxFF+dqH5uidv7/0r/u03zEnlzP3zRRre2OiyXKDel13srIPpNC19/wPsH32ozlpH3OhuX0exJ69MSHp4bPKnOSOhQjCQgRhIYKwEEFYiCAsRBAWIggLEYSFCMJCBGEhgrAQQViIICxEFG++etUcrR6d+Nf9015d6RTukRh7A3cV52Lc4EyOddv9dZUr9x/VtreGJK0r99O27MvOZ+5RJ8uVvQskVfYJLtyxEEFYiCAsRBAWIggLEYSFCMJCBGEhgrAQQViIICxEEBYiCAsR5Wd3XzRHP26yMjAcuS/SGK3d4ysmK/eJ/axo8HaWvn0oxry2L+u/R0XqdNz9jt7SvRFMS/ea79972ZyU9M39Q3OSOxYiCAsRhIUIwkIEYSGCsBBBWIggLEQQFiIICxGEhQjCQgRhIaJYP/jEHP307S/86/48npmTj+y2N65smpOXp+5uhaTrNwbm5L9HY3Py5rTBdsPxpvvSlbO+e9lh5W43nPrvUZGqamFOcsdCBGEhgrAQQViIICxEEBYiCAsRhIUIwkIEYSGCsBBBWIggLESUX/963xz9XO5DeEk3bu+ak8fn7psR9t96w5w8/PYHc1JSt3af2D+zdxYu9z/yP8D8r6/MyeHtfXPy/PGROTnY2zYnJVW/PzQnuWMhgrAQQViIICxEEBYiCAsRhIUIwkIEYSGCsBBBWIggLEQQFiIICwAAAAAAAAAAAAAAAP9D/wHR4e++DuRczwAAAABJRU5ErkJggg==\" style=\"image-rendering: pixelated;\">\n",
              "            </div><div style=\"margin-right:10px; margin-top: 4px;\">\n",
              "              4 <br/>\n",
              "              <img src=\"data:image/PNG;base64,iVBORw0KGgoAAAANSUhEUgAAAMgAAACrCAIAAACsWkQ9AAAE2ElEQVR4nO3dv24jVRiG8W/G4xk7i+2Q8MdLVuyiSGy3BcWuqKhpuQvuhptASNwBFRUU0CAkkEAIZXeVxNpVYjvOOLbjmeEW3lO8Fc+v/jQZTZ5MMyfnZJ++dxqa88WFOBkRVVGIk92oESf3dU+cbNt7cTIiPqxG4uTr1VycHB1U+g3crLfi5LAYiJP3+U6c/OJgKE5GxA/XS3Ey1y8K6AgLFoQFC8KCBWHBgrBgQViwICxYEBYsCAsWhAULwoIFYcGimPdfiaN5s9evm4/UJQOLK/Xb/vtVX5ycbdRrRsSiasXJfas+ga5TF3dERNup6zueluoN/HWnTv55pK6DiIi4Vgd5Y8GCsGBBWLAgLFgQFiwICxaEBQvCggVhwYKwYEFYsCAsWBAWLAgLFlmWqW2NB+qeHBGx2XfiZDlUJ9e1+tOrhH0uYl2ry2aqUn1WvVB374iILtRFPpPBWJysdytxcrtNWA21a9VfFm8sWBAWLAgLFoQFC8KCBWHBgrBgQViwICxYEBYsCAsWhAULwoJF8cljdSXA7ExeXRAxOlbP/FjJm4IcfVCq13yTsNHFdKre6mKm3up4mrBkoJ6pw9vRrTh5u1QPfSnyTJxMwhsLFoQFC8KCBWHBgrBgQViwICxYEBYsCAsWhAULwoIFYcGCsGCRHZTq4RxNp/7ffkTs5X/y71p164SDUl3dsOvUb/sRUYX6BHaFugyhbBL2ubjbq0+gL2+0oR+58nmpHiQTET/e3ImTvLFgQViwICxYEBYsCAsWhAULwoIFYcGCsGBBWLAgLFgQFiwICxbFycfqGQoX/6gbB0TEgxN1R4DNuXzNaSNONi8TFmIMP1JvdXuhXnbyRF5dENGebcTJ4xN1o43V5Vqc/HuasLohbtRB3liwICxYEBYsCAsWhAULwoIFYcGCsGBBWLAgLFgQFiwICxaEBYss5IMJjg8TPoOv5uruCXklLy7YqosLBsOE0xZa9biJ2DbyNhN5wt4NxUid7OSzQTr5qfbkpxoRy726wIQ3FiwICxaEBQvCggVhwYKwYEFYsCAsWBAWLAgLFoQFC8KCBWHBgrBgkX327F1x9NXvc/26C3k1TiEfjjKSt6+oZwlHnhSH6hKXZqXe6lGVsCnIYr0TJ+8H8otgo67w2cu/qUg5yYY3FiwICxaEBQvCggVhwYKwYEFYsCAsWBAWLAgLFoQFC8KCBWHBIvu6VL/Df7tP2D0iJupOF/VyKU7mufpn0Osn3Gp+r37eb3rqZXe7hCUD/UK97GlfPfLkslDXd3zZL8XJiPjuSj32hjcWLAgLFoQFC8KCBWHBgrBgQViwICxYEBYsCAsWhAULwoIFYcGi+Obfr8TR20ff69f9aSjvHTCXv+0/eyBOvv7tRpyMiNPnE3Hy7Ff1sk9fqDtiRMQfv1yLk6uH6lOtztWzSX5+krJo5Uod5I0FC8KCBWHBgrBgQViwICxYEBYsCAsWhAULwoIFYcGCsGBBWLDIxo8fiaPb64QlA3n1jji5W74VJ7OHU/XHX87UyYhO3hIib9UlA9nkMOEG6lq9gbG6EKN9+0adHKm7bEREo2+0oV8U0BEWLAgLFoQFC8KCBWHBgrBgQViwICxYEBYsCAsWhAULwoIFYQEAAAAAAAAAAAAAAOB/6D8dDet+6rMAagAAAABJRU5ErkJggg==\" style=\"image-rendering: pixelated;\">\n",
              "            </div><div style=\"margin-right:10px; margin-top: 4px;\">\n",
              "              5 <br/>\n",
              "              <img src=\"data:image/PNG;base64,iVBORw0KGgoAAAANSUhEUgAAAMgAAACrCAIAAACsWkQ9AAAE3klEQVR4nO3dz2scZRzH8e/MzuzuZHdjEqON1lIhVKuiVKoHBU8KogcPXvx/BP8jT4KCIrQHwVaIBkOlSO2PbDYJu8lsJjO767/wmcMHD75f5y9PJ9s3c5mH50k+3305NHcePhUnI6IYFuLk4awUJ3dGA3Hyydm5OBkRb26NxMn94zNx8sbmUH+A/clUnNxY64uT03klTr7V5lHvT2biZKovCugICxaEBQvCggVhwYKwYEFYsCAsWBAWLAgLFoQFC8KCBWHBInswOhJHz1crfd31zlKcVOcilpk6m6fqLoCIOMkuxclmqT7ASaKuGRGrSMTJ54aZOFlW6gP8k8/FyVZ4Y8GCsGBBWLAgLFgQFiwICxaEBQvCggVhwYKwYEFYsCAsWBAWLAgLFkkvVfdsbA17bRZWk50vGnGySJ8XJ8vFsTgZEWfzWn2AXP2jui12GEWt/g9Et6M+wEJec1qqf35ELOWtU7yxYEFYsCAsWBAWLAgLFoQFC8KCBWHBgrBgQViwICxYEBYsCAsW2e1bW+Lo7/dO9HXXr8iXc4zVD/HDjnrjSF23+GJ//Zr6qONHF+Lkzq56O0tEPHqgXtAy2lEPBXn6t/qoubxjIiKqht0N+E8RFiwICxaEBQvCggVhwYKwYEFYsCAsWBAWLAgLFoQFC8KCRVKM1BMZ0nqhr9vI13gsLtV7RPp9dcvAclGKkxGxStRHbS7UYyb66y3uXGnKSpwsso44Wabqr3prsCZORsTd8Uyc5I0FC8KCBWHBgrBgQViwICxYEBYsCAsWhAULwoIFYcGCsGBBWLDI3n9jJI7u/TLR182vqt/hqyfqeQQbV9XtFc8O1G0IEVFs5uJkJd8hMbi41B+gXKoHImzsqpPJvjr5RzYXJ1vhjQULwoIFYcGCsGBBWLAgLFgQFiwICxaEBQvCggVhwYKwYEFYsEjWBurZDXmqfjCPiOlcPuYgU7cM1At1Ms/UkwsiotOoy17Kv0DTYnNDFCEv21N3gmxW6u8/7ar7UCKilJfljQULwoIFYcGCsGBBWLAgLFgQFiwICxaEBQvCggVhwYKwYEFYsCAsWGSffbQtjt757rG+bveKfDnHoTp5/VV18uivFleeDF7qipPlY3U3THdb3YwUEbPjWp5VXwRnqfpb1S12GLXAGwsWhAULwoIFYcGCsGBBWLAgLFgQFiwICxaEBQvCggVhwYKwYJG98uOROJq8UOjrTvUv9pl6zsRkPBQnL/JK/dcjqhN5tKduGTifqbezRETak29SWam3s8wz9ZXxwc1r4mRE/HT/T3GSNxYsCAsWhAULwoIFYcGCsGBBWLAgLFgQFiwICxaEBQvCggVhwSJZPfxKHP303W/1dX8r1N0NyaF64cfuh2vi5MHPU3EyIt7+eFOc3PvhVJx85xN1zYjY+15ddnRb3QdR3VMvRzldV9eMiOPxXJzkjQULwoIFYcGCsGBBWLAgLFgQFiwICxaEBQvCggVhwYKwYEFYsEhefO+mODr59UBfd5WqyaaNesxB0leve1jV+l0P0dneEifrZ2NxMi1a3EyRzNWTJjqvva5O5uopD/nX34iTEXH65RfiJG8sWBAWLAgLFoQFC8KCBWHBgrBgQViwICxYEBYsCAsWhAULwoIFYQEAAAAAAAAAAAAAAOB/6F/GNNwJuJr7dQAAAABJRU5ErkJggg==\" style=\"image-rendering: pixelated;\">\n",
              "            </div><div style=\"margin-right:10px; margin-top: 4px;\">\n",
              "              6 <br/>\n",
              "              <img src=\"data:image/PNG;base64,iVBORw0KGgoAAAANSUhEUgAAAMgAAACrCAIAAACsWkQ9AAAEjklEQVR4nO3dyW4TWxSF4X2qc0MSO4aERihiEN7/SZgyQiAQiIQoIYkdx3Z1vMI6gzXi/8ZbpaPw35p431PpXfMiNH/6rTgZEcOQ1FF5sK4qcbIYe/WhEYdWHR6Setbl/FQ/wP32TpwsolAfmkZx8GRQJyPirzwpHxTIQViwICxYEBYsCAsWhAULwoIFYcGCsGBBWLAgLFgQFiwICxZVnKu/2Pc/M34GP5qpmwibnbpckIpBnNzt1MmIqOtSnOzlPYhikrEJkp7UydlcPepm24qThyP1XyoiYtOJg7yxYEFYsCAsWBAWLAgLFoQFC8KCBWHBgrBgQViwICxYEBYsCAsWhAWL1BS1Olrm7KLIt3Ls5GWYXl3ZiLKWbxqJGOTHpkJdHKr0O1EiOvkCj3pUH9vJb4yhz/hn1Ud5Y8GCsGBBWLAgLFgQFiwICxaEBQvCggVhwYKwYEFYsCAsWBAWLKpXrxtx9Pa3fHlFRHGsPrZcq4sQi5dTcXJzuxMnI+J4NREnt3d7cXL5Wj1qRDxcP4uT06W6ivJ4fxAniyprE0RdxOCNBQvCggVhwYKwYEFYsCAsWBAWLAgLFoQFC8KCBWHBgrBgQViwSIuk/ri9znnuLKnJbkd1u6EM9agZtxFE6F/86OQ9gHHI+DxMKtTn1vJTD/JRz3OOei1P8saCBWHBgrBgQViwICxYEBYsCAsWhAULwoIFYcGCsGBBWLAgLFhUqSnF0bn8/+1HRFvKv9irlwzEdKEedf8gf20i4uRsJk4+3KiXLKzezPUD3F9txcnpmbqKkW7Uv8D2WF/viFirj+WNBQvCggVhwYKwYEFYsCAsWBAWLAgLFoQFC8KCBWHBgrBgQViwSPPZQhytqozPPaw36tJCKe9BdJ16J0PdZHxtoT+oWxtJ/ohDpd5HERHRq0sbUckLJq18H0SRc3dDK0/yxoIFYcGCsGBBWLAgLFgQFiwICxaEBQvCggVhwYKwYEFYsCAsWBAWLNL7Wr0TYt1l7IKk1VR97K1608Z8ph61fc64FCTN1LWV7ln9CxyvJvoBnu724uTRS/Wv+nir7jiN8tpSRHS9umPDGwsWhAULwoIFYcGCsGBBWLAgLFgQFiwICxaEBQvCggVhwYKwYJFWR0txdDdkXAqSWvVn8ENSNxFmjfodkd1e3ZiIiLZVD1DKl4JMhoyVgW2of6s61Mf28jMvci4F+SZP8saCBWHBgrBgQViwICxYEBYsCAsWhAULwoIFYcGCsGBBWLAgLFhU5+fq6K+v6hUDEfHm8kScvPryIE4u3qqfPGl/ZFwzcXGpfvRFP+qrDy/0A9x8fxIn60a9EmIj73eszzKumYgbtQHeWLAgLFgQFiwICxaEBQvCggVhwYKwYEFYsCAsWBAWLAgLFoQFi1Q0jThaVBkVjrX6m/nw+Kg+c1RvGUhFxtUJ4/JUnCzbgzg55PwXO5mr35uo338UJ/efP4mTbc4HR8a2FSd5Y8GCsGBBWLAgLFgQFiwICxaEBQvCggVhwYKwYEFYsCAsWBAWLAgLAAAAAAAAAAAAAAAA/6F//irU9C5wVoAAAAAASUVORK5CYII=\" style=\"image-rendering: pixelated;\">\n",
              "            </div><div style=\"margin-right:10px; margin-top: 4px;\">\n",
              "              7 <br/>\n",
              "              <img src=\"data:image/PNG;base64,iVBORw0KGgoAAAANSUhEUgAAAMgAAACrCAIAAACsWkQ9AAAEjklEQVR4nO3dPY7TUBSG4WP7OomTEA0aIaBBggbRsgJES0vJKlgSDVuAkiUgCiQkaAaQEGIYhsnEjv/YwneLr+J96qM7zuSNmxzFxZ3TXWj+XF6LkxHRjZM4Wc6zOFmvkvrX20GcjIg61eLkPKkvql5W+gW0bS9O3j09ESd/Xbbi5M1mJU5GxPeLc3Gy1A8FdIQFC8KCBWHBgrBgQViwICxYEBYsCAsWhAULwoIFYcGCsGBR1FGIo02z1c899uoqxDCpF1CW6nLBOKtnRkQlLyKkaSlODrO6XBARg7zfsVuo19pO6plzqJMR0R3lpRX9UEBHWLAgLFgQFiwICxaEBQvCggVhwYKwYEFYsCAsWBAWLAgLFoQFi7S5/0Qc3Zy90889X6jJlr26iVGU8oLNkLEKMsjDY6HuAhU5n9hCvth5of4HpoP6X91uMlaMuqM6yR0LFoQFC8KCBWHBgrBgQViwICxYEBYsCAsWhAULwoIFYcGCsGBRbLYLdfZK/mo7YiH/fMWV/HCU5aiuAbTyHkREpKR+uvpBvdQm65En3ShOVkl9XUd5Z6TM+V+N8lvAHQsWhAULwoIFYcGCsGBBWLAgLFgQFiwICxaEBQvCggVhwYKwYJGKMYmjx2alnzvM8iNP5J2J+sELcbI5e60eGtFX8tf7gzq4XGdsNxxadbsh1fIiRi8/RmVdi5MR8fuv+m5xx4IFYcGCsGBBWLAgLFgQFiwICxaEBQvCggVhwYKwYEFYsCAsWBQnW/XL7f1B/nI/5wcRRv1XBtY3xMl+/1ecjJyVgUG+1NUq4xPbdeqxSX4yxSBvN0xTxlM89FnuWLAgLFgQFiwICxaEBQvCggVhwYKwYEFYsCAsWBAWLAgLFoQFizTLDzuIyHiEgf4Qh1n+xryaDuqZkfGNfSrV4TGpk4dWffkRkeS3QP+dC/2Osd1k3Fwur+RVFP1QQEdYsCAsWBAWLAgLFoQFC8KCBWHBgrBgQViwICxYEBYsCAsWhAWL1JTqwzm6Un0yR0T0k7pfMRXq0sg8qZNVmfGBmeTfOkmVeuxizlib6eR9JP1ljfLf319nrBjpuGPBgrBgQViwICxYEBYsCAsWhAULwoIFYcGCsGBBWLAgLFgQFizS00e3xNE3H37o517s5a/XC/WZK/VyLU6Oc8YiRplacbK9lhchTh/rF1BdvhcnB/kHVMpS3Zi4d7sRJyPi87e9egH6oYCOsGBBWLAgLFgQFiwICxaEBQvCggVhwYKwYEFYsCAsWBAWLIpPr56Lo89evs04N9Tths/n6oNM1puFOHls5TWEiDu9OvxTP3S71Weng7wysJIfjtKpf32UNyayhrljwYKwYEFYsCAsWBAWLAgLFoQFC8KCBWHBgrBgQViwICxYEBYs0seH6i8yfNlnrAzsdktxcip6cXIu1DOjUh+3ERFf5QdDzLP63f6uyfjE/hlX4uS6Vo8d9tfiZN0kcTIixoP6ZnHHggVhwYKwYEFYsCAsWBAWLAgLFoQFC8KCBWHBgrBgQViwICxYEBYAAAAAAAAAAAAAAAD+Q/8A4FjpoqNNmxcAAAAASUVORK5CYII=\" style=\"image-rendering: pixelated;\">\n",
              "            </div><div style=\"margin-right:10px; margin-top: 4px;\">\n",
              "              8 <br/>\n",
              "              <img src=\"data:image/PNG;base64,iVBORw0KGgoAAAANSUhEUgAAAMgAAACrCAIAAACsWkQ9AAAE4UlEQVR4nO3dz24bVRiG8W/GE9ux3SR1UAo4KsoGFRZ0AVIFGyQWrFlwBVwCV8M9ILGEBUskaFoWpQiJqqqiVnHa/KF14sTj8WRmuIV3JN4Vz2/9aXLqPJmNT89Jmq/vhWbjx0fiZER8c/crcfK7B9+Lk8O6EScvk0ScjIhuty9OroqlOPnZpvrMiPh9UYiT3VL+BEKd/PzWpjgZET+/momTqf5QQEdYsCAsWBAWLAgLFoQFC8KCBWHBgrBgQViwICxYEBYsCAsW2R/f7omj1Q8P9edO7vwpTqYP1Gd2NnviZG9+rT40YrKn7kR48UTdhvCoLPUFpGUtTq5PhuJkcXgpTp5P2rxcXqmDvLFgQViwICxYEBYsCAsWhAULwoIFYcGCsGBBWLAgLFgQFiwICxaEBYtk792xOjtb6M/Nbo7Eyecnb8TJgXzUx7JWN6JERJmqj+3q+1vWuy0WcK0uYLK1JU4evD4VJ4e9dXEyIl5fqbtxeGPBgrBgQViwICxYEBYsCAsWhAULwoIFYcGCsGBBWLAgLFgQFiyy2UK9xqNetXjuZLQmTg5PboiTTTcXJztL9adHxOCmeoDH6rQjTm5OWizg+Km6ZaB+S/1lxVkmDuaVetJJK7yxYEFYsCAsWBAWLAgLFoQFC8KCBWHBgrBgQViwICxYEBYsCAsW2ac3PhFH7+eP9eem8w1xctHMxMnba+qFH9NVi50Yq1kjThaJug9i+rzFnStVqv55Hx6oCyhD/QTujdRTNiLit6W6AN5YsCAsWBAWLAgLFoQFC8KCBWHBgrBgQViwICxYEBYsCAsWhAWL7P7VvjpbtPhP/vN+JU6m8tkBQ3nLwrJssdTdPfVqhqMD9eiE8dvq0QkRcTFVL7zIKnUB6j6QiNNt9V6MiIgzdZA3FiwICxaEBQvCggVhwYKwYEFYsCAsWBAWLAgLFoQFC8KCBWHBIqsv1a/W5UsRIiKWJ+otEvo+hOJa3THRT1t8Y59f/PfnEVydqZ9qRKwy9cKLQdYTJ8+v1V9X+lL957fCGwsWhAULwoIFYcGCsGBBWLAgLFgQFiwICxaEBQvCggVhwYKwYEFYsMh2bg/E0emzuf7culaT7Tfq7SDTjvrMRdHiypNe0hcnk1CXOtxu8RdbHakbVwaNuhnmvFHvcbncaHMoyIU6yBsLFoQFC8KCBWHBgrBgQViwICxYEBYsCAsWhAULwoIFYcGCsGCRFS8W4uhS3lwQEXfG74uTf+d/iZPjHfV7+PxwTZyMiN16LE4+GxyLk7N/WhwKUspHmLzpqDeppKEeoDJusWcljuRJ3liwICxYEBYsCAsWhAULwoIFYcGCsGBBWLAgLFgQFiwICxaEBYssV7/aj/Vj9QvziNjaORMnuy/VuIcj9TyCft1ic8HuB+oCDvbVT+CLLyf6An75aSpOfvThLXHy18fqRoTVTlecjIg4V/fC8MaCBWHBgrBgQViwICxYEBYsCAsWhAULwoIFYcGCsGBBWLAgLFgknZ765bY+GRHVSr0boi7UexmS4XviZJofipMR0XtnW5zMK/m6jY/v6gto9h+Kk+nGSJys5lfiZBktbqaoTk7FSd5YsCAsWBAWLAgLFoQFC8KCBWHBgrBgQViwICxYEBYsCAsWhAULwgIAAAAAAAAAAAAAAMD/0L9D1+vALERyKQAAAABJRU5ErkJggg==\" style=\"image-rendering: pixelated;\">\n",
              "            </div><div style=\"margin-right:10px; margin-top: 4px;\">\n",
              "              9 <br/>\n",
              "              <img src=\"data:image/PNG;base64,iVBORw0KGgoAAAANSUhEUgAAAMgAAACrCAIAAACsWkQ9AAAE6klEQVR4nO3du24jdQCF8TP2jO1cdknY3DcrFMKtoECiXi1I6ZGokWgo6Gl4A2h4Axr6bRBCFCDB1mglCmgQWS5JSOLAxlaI49ixzSucKY4o+H710cRJvkyT0X+Kh3K906nsrRaGN+ay326Yy9nI/epN+5qSdkZTc/lLuzCXm0P3mpJOmu5lNyYzc3nccX8CW1fub0rSgb2s8QsAfISFCMJCBGEhgrAQQViIICxEEBYiCAsRhIUIwkIEYSGCsBBRfv/pA3f63iP/uu9//Kq5/OjDH83l7stz5vLXn8fmUtLZesdczk4uzeVgqel/gJvexFyett3LTu1nFjbeXDeXkg6+PTWX3LEQQViIICxEEBYiCAsRhIUIwkIEYSGCsBBBWIggLEQQFiIICxGEhYiiVbgnUlTtGoeC3AzdEzwmlfsoyL1y21weTQ/NpaSVa/eplW7L/ai3R+41JfWb7p/39sQ9a+R4rjSXzTqHglzZS+5YiCAsRBAWIggLEYSFCMJCBGEhgrAQQViIICxEEBYiCAsRhIWIcmnVPRKj2/X/t62ydB+aKMbugwA3Wxfu8g/31SCSni4su9NBzxy+8GDN/wCPH3XN5ebelrk8/OZPc7l+b95cSjo4GJhL7liIICxEEBYiCAsRhIUIwkIEYSGCsBBBWIggLEQQFiIICxGEhYhixz674Td3KEnbbffsgGO5TyIsjdyXc/SKE3MpqSH3RIZZ4R6dUIxrHIjgnnIhNeT+DtoL7s//+rLG62Hc7587FkIICxGEhQjCQgRhIYKwEEFYiCAsRBAWIggLEYSFCMJCBGEhovx72T27oer5/4ZXt7NhLic99y0S07lLc9kc1niJxhtv3zGXXz88Mpdlq85f7Mh9aGBp1f2+np65v6yO/Q4LSUP7NRbcsRBBWIggLEQQFiIICxGEhQjCQgRhIYKwEEFYiCAsRBAWIggLEUXVcNsqyhoVTibuiQyFfXjE/NqeuRydf2cuJS0Or83lecP9qFP725fUrNwfbMd+i8d1yz2QYjxyr1kLdyxEEBYiCAsRhIUIwkIEYSGCsBBBWIggLEQQFiIICxGEhQjCQgRhIaJYuztnTvtHV/51d15fMZdPHv9lLsf2Ez7zhXvSiaTNV9yTNvZ/6pvL53YX/Q/w+/4/5rJous/tzOzndir75TSSRtccCoL/FGEhgrAQQViIICxEEBYiCAsRhIUIwkIEYSGCsBBBWIggLEQUzyzcNqeDqXt4hqTiyh1P7VdutGYt95oN9yUiku6M3QcBTir3/IxnB+5TAJLOK/cAjx37mYWzFfehlftd90Uykr6wl9yxEEFYiCAsRBAWIggLEYSFCMJCBGEhgrAQQViIICxEEBYiCAsR5ejGPZGhmNSocPNF96GJg333v+vVgnvIwmw0NpeSdvfccxYuvuqay/vvPu9/gC8/e2Iu777lXrb/uXvNlz55zVxK0gc/mEPuWIggLEQQFiIICxGEhQjCQgRhIYKwEEFYiCAsRBAWIggLEYSFiKLa3DKny4s1Kjw/vTCXra11czk7OnGXck9DkHRrsW0uexfuKyRmi7f8D1D0z9zp0D08olydN5fjatn96tL46NBccsdCBGEhgrAQQViIICxEEBYiCAsRhIUIwkIEYSGCsBBBWIggLEQQFgAAAAAAAAAAAAAAAP6H/gW6jtpQK6jdSQAAAABJRU5ErkJggg==\" style=\"image-rendering: pixelated;\">\n",
              "            </div></div>"
            ],
            "text/plain": [
              "<IPython.core.display.HTML object>"
            ]
          },
          "metadata": {
            "tags": []
          }
        }
      ]
    },
    {
      "cell_type": "markdown",
      "metadata": {
        "id": "jwo7SrcOlbrv",
        "colab_type": "text"
      },
      "source": [
        "# NMF on attributions with ```score_fn = tf.reduce_sum```\n",
        "The visualizations are confusing to me. They don't seem to relate to the input image."
      ]
    },
    {
      "cell_type": "code",
      "metadata": {
        "id": "uFt9R9ixh-ix",
        "colab_type": "code",
        "outputId": "a7c83cfb-6523-4542-db3a-9f0f39323e4c",
        "colab": {
          "base_uri": "https://localhost:8080/",
          "height": 701
        }
      },
      "source": [
        "score_fn = tf.reduce_sum\n",
        "attr = get_attr(model, output_layer_name, hidden_layer_name, some_observations, integrate_steps=10, score_fn=score_fn)\n",
        "reduced = reduce_and_norm(attr)\n",
        "show_with_obs(some_observations, reduced, 10)"
      ],
      "execution_count": 51,
      "outputs": [
        {
          "output_type": "stream",
          "text": [
            "normalize_by 66.13916453971791\n",
            "Time left in episode\n"
          ],
          "name": "stdout"
        },
        {
          "output_type": "display_data",
          "data": {
            "text/html": [
              "<div style=\"display: flex; flex-direction: row;\"><div style=\"margin-right:10px; margin-top: 4px;\">\n",
              "              0 <br/>\n",
              "              <img src=\"data:image/PNG;base64,iVBORw0KGgoAAAANSUhEUgAAAMgAAACvCAAAAACdws6gAAAA7UlEQVR4nO3RuQnAQAwAQX/91+hSXIHhgsM3mJ1UCrRoP7cR99DWSsfqA2YpRFOIphBNIZpCNIVoCtEUoilEU4imEE0hmkI0hWgK0RSiKURTiKYQTSGaQjSFaArRFKIpRFOIphBNIZpCNIVoCtEUoilEU4imEE0hmkI0hWgK0RSiKURTiKYQzfU6ub87YobffKQQTSGaQjSFaArRFKIpRFOIphBNIZpCNIVoCtEUoilEU4imEE0hmkI0hWgK0RSiKURTiKYQTSGaQjSFaArRFKIpRFOIphBNIZpCNIVoCtEUoilEU4imEE0hmt+EPHIsAyOJ8+7pAAAAAElFTkSuQmCC\" style=\"image-rendering: pixelated;\">\n",
              "            </div><div style=\"margin-right:10px; margin-top: 4px;\">\n",
              "              1 <br/>\n",
              "              <img src=\"data:image/PNG;base64,iVBORw0KGgoAAAANSUhEUgAAAMgAAACvCAAAAACdws6gAAAA6ElEQVR4nO3RQQ2AMAAEQYo8xKEIcXwR0KRDs6PgNjee4+M+futcPWCWQjSFaArRFKIpRFOIphBNIZpCNIVoCtEUoilEU4imEE0hmkI0hWgK0RSiKURTiKYQTSGaQjSFaArRFKIpRFOIZpuQca1eMMk2jxSiKURTiKYQTSGaQjSFaArRFKIpRFOIphBNIZpCNIVoCtEUoilEU4imEE0hmkI0hWgK0RSiKURTiKYQTSGaQjSFaArRFKIpRFOIphBNIZpCNIVoCtEUoilEU4imEE0hmkI0hWgK0RSiKURTiKYQTSGaQjSFaF6xlALxGMiwLAAAAABJRU5ErkJggg==\" style=\"image-rendering: pixelated;\">\n",
              "            </div><div style=\"margin-right:10px; margin-top: 4px;\">\n",
              "              2 <br/>\n",
              "              <img src=\"data:image/PNG;base64,iVBORw0KGgoAAAANSUhEUgAAAMgAAACvCAAAAACdws6gAAAA70lEQVR4nO3R0QmAMBAFQSP+2qTt2aQ1CIEsYaaAxy033mMP5+oDZhFSI6RGSI2QGiE1QmqE1AipEVIjpEZIjZAaITVCaoTUCKkRUiOkRkiNkBohNUJqhNQIqRFSI6RGSI2QGiE1QmqE1AipEVIjpEZIjZAaITVCaoTUCKkRUiOkRkiNkBohNUJqhNQIqRFSI6RGSI2QGiE1QmqE1AipEVIjpEZIjZAaITXbhFwTt56JW79t8xEhNUJqhNQIqRFSM+7VF0yyzUeE1AipEVIjpEZIjZAaITVCaoTUCKkRUiOkRkiNkBohNUJqhNQIqfkA6HMCeYYrv9EAAAAASUVORK5CYII=\" style=\"image-rendering: pixelated;\">\n",
              "            </div><div style=\"margin-right:10px; margin-top: 4px;\">\n",
              "              3 <br/>\n",
              "              <img src=\"data:image/PNG;base64,iVBORw0KGgoAAAANSUhEUgAAAMgAAACvCAAAAACdws6gAAAA70lEQVR4nO3bMQqAMBAAQRVf4//fZm1rKwYyhJ3+cixXZ7+3Ya5xT313zFw+UiGaQjSFaArRFKIpRFOIphBNIZpCNIVoCtEUoilEU4imEE0hmkI0hWgK0RSiKURTiKYQTSGaQjSFaArRFKIpRLNMyPlzfupXi7dlLlKIphBNIZpCNIVoCtEUoilEU4imEE0hmkI0hWgK0RSiKURTiKYQTSGaQjSFaArRFKIpRFOIphBNIZpCNIVoCtEUoilEU4imEE0hmkI0hWgK0RSiKURTiKYQTSGaQjSFaArRFKIpRFOIphBNIZpCNIVoCtEUonkAH3oCqht94aYAAAAASUVORK5CYII=\" style=\"image-rendering: pixelated;\">\n",
              "            </div><div style=\"margin-right:10px; margin-top: 4px;\">\n",
              "              4 <br/>\n",
              "              <img src=\"data:image/PNG;base64,iVBORw0KGgoAAAANSUhEUgAAAMgAAACvCAAAAACdws6gAAAA8ElEQVR4nO3RwQmAQBAEQU/MyqTNyySMwIcgXHNUffczzY5zW8M+e8BfhNQIqRFSI6RGSM0yIcfsAR9db4dlPiKkRkiNkBohNUJqxj17wU+W+YiQGiE1QmqE1AipEVIjpEZIjZAaITVCaoTUCKkRUiOkRkiNkBohNUJqhNQIqRFSI6RGSI2QGiE1QmqE1AipEVIjpEZIjZAaITVCaoTUCKkRUiOkRkiNkBohNUJqhNQIqRFSI6RGSI2QGiE1QmqE1AipEVIjpEZIjZAaITVCaoTUCKkRUiOkRkiNkBohNUJqhNQIqRFSI6RGSI2QGiE1D9H2AzX0xCWKAAAAAElFTkSuQmCC\" style=\"image-rendering: pixelated;\">\n",
              "            </div><div style=\"margin-right:10px; margin-top: 4px;\">\n",
              "              5 <br/>\n",
              "              <img src=\"data:image/PNG;base64,iVBORw0KGgoAAAANSUhEUgAAAMgAAACvCAAAAACdws6gAAAA7klEQVR4nO3aMQqAQAwAQRXf48v8f21tKXfgcOz0gSxps1/bkHtsfJ7j7wVmKURTiKYQTSGaQjSFaArRFKIpRFOIphBNIZpCNIVoCtEUoilEU4imEE0hmkI0hWgK0RSiOb+PME9zL8tcpBBNIZpCNIVoCtEUoilEU4imEE0hmkI0hWgK0RSiKURTiKYQTSGaQjSFaArRFKIpRFOIphBNIZpCNIVoCtEUoilEU4imEE0hmkI0hWgK0RSiKURTiKYQTSGaQjSFaArRFKIpRFOIphBNIZpCNIVoCtEUoilEU4imEE0hmkI0hWgK0SwT8gAmzwJmQnnwhwAAAABJRU5ErkJggg==\" style=\"image-rendering: pixelated;\">\n",
              "            </div><div style=\"margin-right:10px; margin-top: 4px;\">\n",
              "              6 <br/>\n",
              "              <img src=\"data:image/PNG;base64,iVBORw0KGgoAAAANSUhEUgAAAMgAAACvCAAAAACdws6gAAAA70lEQVR4nO3dsQ2AMAwAQUBsyUZMTQtFOiSO6K+z0vjlAbIey8A5ejBtXy/wlkI0hWgK0RSiKURTiKYQTSGaQjSFaArRFKIpRFOIphBNIZpCNIVoCtEUoilEU4imEE0hmkI0hWgK0RSiKURTiKYQTSGaQjSFaArRFKIpRFOIphBNIZpCNIVoCtEUoilEU4imEE0hmkI0hWgK0RSiKURTiKYQTSGaQjSFaArRFKIpRFOIphBNIZpCNIVoCtFME7I/pp99wnU3zUUK0RSiKURTiKYQTSGaQjSFaArRFKIpRFOIphBNIZpCNIVoCtEUorkAqLcCz3yni0QAAAAASUVORK5CYII=\" style=\"image-rendering: pixelated;\">\n",
              "            </div><div style=\"margin-right:10px; margin-top: 4px;\">\n",
              "              7 <br/>\n",
              "              <img src=\"data:image/PNG;base64,iVBORw0KGgoAAAANSUhEUgAAAMgAAACvCAAAAACdws6gAAAA60lEQVR4nO3cwQmAQAwAQRUbs2Ur9GsDF5ZjpoCEJf+cz7HeO7DjGtgxQkiNkBohNUJqhNQIqRFSI6RGSI2QGiE1QmqE1AipEVIjpEZIjZAaITVCaoTUCKkRUiOkRkiNkBohNUJqhNQIqRFSI6RGSI2QGiE1QmqE1AipEVIjpEZIjZAaITX3qsETv1D+trmIkBohNUJqhNQIqRFSI6RGSI2QGiE1QmqE1AipEVIjpEZIjZAaITVCaoTUCKkRUiOkRkiNkBohNUJqhNQIqRFSI6RGSI2QGiE1QmqE1AipEVIjpEZIjZAaITXbhHx2tAMFphqVmgAAAABJRU5ErkJggg==\" style=\"image-rendering: pixelated;\">\n",
              "            </div><div style=\"margin-right:10px; margin-top: 4px;\">\n",
              "              8 <br/>\n",
              "              <img src=\"data:image/PNG;base64,iVBORw0KGgoAAAANSUhEUgAAAMgAAACvCAAAAACdws6gAAAA6klEQVR4nO3R0QmAMBAFQWMFVmbRVmYRCWQJM/8Hb7nxXVPeufN17t0DVhFSI6RGSI2QGiE1x4SMZ/eCRY75iJAaITVCaoTUCKkRUiOkRkiNkBohNUJqhNQIqRFSI6RGSI2QGiE1QmqE1AipEVIjpEZIjZAaITVCaoTUCKkRUiOkRkiNkBohNUJqhNQIqRFSI6RGSI2QGiE1QmqE1AipEVIjpEZIjZAaITVCaoTUCKkRUiOkRkiNkBohNUJqhNQIqRFSI6RGSI2QGiE1QmqE1AipEVIjpEZIjZAaITVCaoTUCKkRUiOkRkjND+JVAn3WtMFSAAAAAElFTkSuQmCC\" style=\"image-rendering: pixelated;\">\n",
              "            </div><div style=\"margin-right:10px; margin-top: 4px;\">\n",
              "              9 <br/>\n",
              "              <img src=\"data:image/PNG;base64,iVBORw0KGgoAAAANSUhEUgAAAMgAAACvCAAAAACdws6gAAAA7UlEQVR4nO3aMQqAQAwAQRU/54d8v7Wl3IHDsdMHsqTNfm1D7rHxeY6/F5ilEE0hmkI0hWgK0RSiKURTiKYQTSGaQjSFaArRFKIpRFOIphBNIZpCNIVoCtEUoilEU4jm/D7CPM29LHORQjSFaArRFKIpRFOIphBNIZpCNIVoCtEUoilEU4imEE0hmkI0hWgK0RSiKURTiKYQTSGaQjSFaArRFKIpRFOIphBNIZpCNIVoCtEUoilEU4imEE0hmkI0hWgK0RSiKURTiKYQTSGaQjSFaArRFKIpRFOIphBNIZpCNIVoCtEUoilEs0zIA9TkApUf4QjiAAAAAElFTkSuQmCC\" style=\"image-rendering: pixelated;\">\n",
              "            </div></div>"
            ],
            "text/plain": [
              "<IPython.core.display.HTML object>"
            ]
          },
          "metadata": {
            "tags": []
          }
        },
        {
          "output_type": "stream",
          "text": [
            "Color channels (vertical stripes are 'apples'\n"
          ],
          "name": "stdout"
        },
        {
          "output_type": "display_data",
          "data": {
            "text/html": [
              "<div style=\"display: flex; flex-direction: row;\"><div style=\"margin-right:10px; margin-top: 4px;\">\n",
              "              0 <br/>\n",
              "              <img src=\"data:image/PNG;base64,iVBORw0KGgoAAAANSUhEUgAAAMgAAACvCAIAAAA3ywYrAAACnUlEQVR4nO3dsW1UQRRA0V3kJlwCTZCQOLAoA2IkyrBETB8E7oQS3AMRJTBI7+7/s5wTr97f4GqSp9Fcf3/4eFnw/fX9X3/z9enXfY9asfi5FYt/aeWLtx/1buVH8K+ERUJYJIRFQlgkhEVCWCSERUJYJIRFQlgkhEXiYXA9OWjr/euKfTfxi6OcWCSERUJYJIRFQlgkhEVCWCSERUJYJIRFQlgkHm6/RVqx75ps6y2nC6ucnbBICIuEsEgIi4SwSAiLhLBICIuEsEgIi4SwSExeWDVqcc7/MMqJRUJYJIRFQlgkhEVCWCSERUJYJIRFQlgkhEXies4XVge5sHrIKCcWCWGREBYJYZEQFglhkRAWCWGREBYJYZEQFglhkTjphdVBLqweMsqJRUJYJIRFQlgkhEVCWCSERUJYJIRFQlgkhEVi8oXV2zvhmuycu1cXVrkTwiIhLBLCIiEsEsIiISwSwiIhLBLCIiEsEsIiccCF1RX77l+3vmXqwipnJywSwiIhLBLCIiEsEsIiISwSwiIhLBLCInHSF1b3HbXvlnN2lBOLhLBICIuEsEgIi4SwSAiLhLBICIuEsEgIi8TkvcJB+67J9t1yzo5yYpEQFglhkRAWCWGREBYJYZEQFglhkRAWCWGREBaJyRdWBxfV++5fb/8U7Qk38RcnFhFhkRAWCWGREBYJYZEQFglhkRAWCWGREBaJAx7CvO9Rg6vJRSdcmF6cWESERUJYJIRFQlgkhEVCWCSERUJYJIRFQlgkhEXievQfyD3Pjfr8+Dg16tPb29So5x8vU6N+fvk2NcqJRUJYJIRFQlgkhEVCWCSERUJYJIRFQlgkhEVCWCSERUJYJIRFQlgkhEVCWCSERUJYJIRFQlgkhEVCWCT+ADVPCR3+/7ObAAAAAElFTkSuQmCC\" style=\"image-rendering: pixelated;\">\n",
              "            </div><div style=\"margin-right:10px; margin-top: 4px;\">\n",
              "              1 <br/>\n",
              "              <img src=\"data:image/PNG;base64,iVBORw0KGgoAAAANSUhEUgAAAMgAAACvCAIAAAA3ywYrAAACoUlEQVR4nO3dwY0UMRBA0V00RxLYWAiIBDgRACcSgDAQKSBEImwCBEAIGKm+xz167zxyd4+++mJV+/nX759PCz79ePvP33x89+fApRatXHHwzldsfrrFKy4u9WblR/C/hEVCWCSERUJYJIRFQlgkhEVCWCSERUJYJIRF4nbvG7iSqY3qxaUWbb6rxaW8sUgIi4SwSAiLhLBICIuEsEgIi4SwSAiLhLBI3PbvIg1uk2123aldA6s8CGGREBYJYZEQFglhkRAWCWGREBYJYZEQFglhkXj8gdXN+6+Dnzrez8AqpxMWCWGREBYJYZEQFglhkRAWCWGREBYJYZGY3Cu87rGog0vt/xMGGVjldMIiISwSwiIhLBLCIiEsEsIiISwSwiIhLBLCInHb/z3dzQysrjOwyumERUJYJIRFQlgkhEVCWCSERUJYJIRFQlgkrn3C6oGzr/ufbvMOpoFV7klYJIRFQlgkhEVCWCSERUJYJIRFQlgkhEVCWCQmB1bP9PAPOMjAKqcTFglhkRAWCWGREBYJYZEQFglhkRAWCWGRmDxh9Uxnjn1uPqx1/1LeWCSERUJYJIRFQlgkhEVCWCSERUJYJIRFQlgkHn+vcNDmL/xeeilvLBLCIiEsEsIiISwSwiIhLBLCIiEsEsIiISwSwiIxecLqov2nfa6Yuqv9o6GDDKxyOmGREBYJYZEQFglhkRAWCWGREBYJYZEQFolDB1bP3HHb/AHc/QyscjphkRAWCWGREBYJYZEQFglhkRAWCWGREBYJYZF4vvcN5L69vEwt9fX1dWqppy+fp1b6/v7D1FKDvLFICIuEsEgIi4SwSAiLhLBICIuEsEgIi4SwSAiLhLBICIuEsEgIi4SwSAiLhLBICIuEsEgIi4SwSAiLxF9iVKw7BgI73QAAAABJRU5ErkJggg==\" style=\"image-rendering: pixelated;\">\n",
              "            </div><div style=\"margin-right:10px; margin-top: 4px;\">\n",
              "              2 <br/>\n",
              "              <img src=\"data:image/PNG;base64,iVBORw0KGgoAAAANSUhEUgAAAMgAAACvCAIAAAA3ywYrAAACjklEQVR4nO3dsUkEQBBAUU8Ea7AFO7AHNbIGjQXLEIytQ3uyBjMbEFxh/7kr78XH3AWfTYbhDleXdycD3h7Pf/zMzcvn/x41YvDrRgz+pJFvPP6o05EPwW8Ji4SwSAiLhLBICIuEsEgIi4SwSAiLhLBICIvE2dabzjVHjdh3Ez84yotFQlgkhEVCWCSERUJYJIRFQlgkhEVCWCSEReKw5sHqoCNfh665mlxzlBeLhLBICIuEsEgIi4SwSAiLhLBICIuEsEgIi4SwSOx9sDriyL9q6ytTB6usTlgkhEVCWCSERUJYJIRFQlgkhEVCWCSERWLRg9V9R229e3WwyuqERUJYJIRFQlgkhEVCWCSERUJYJIRFQlgkhEVi74PVBUftuz6fO8qLRUJYJIRFQlgkhEVCWCSERUJYJIRFQlgkhEXCwepk+245547yYpEQFglhkRAWCWGREBYJYZEQFglhkRAWCWGREBaJmQerE635Z60jtt7EO1hldcIiISwSwiIhLBLCIiEsEsIiISwSwiIhLBJna56G7rsm2/rK1MEqqxMWCWGREBYJYZEQFglhkRAWCWGREBYJYZHwR5iTR+275Zw7yotFQlgkhEVCWCSERUJYJIRFQlgkhEVCWCSERUJYJP7/P6wOmnVtu+/6fO4oLxYJYZEQFglhkRAWCWGREBYJYZEQFglhkRAWCQerv7DmwnQiB6usTlgkhEVCWCSERUJYJIRFQlgkhEVCWCSERUJYJA5//QO+dz1v1P3FxaxRtx8fs0Zdvz7PGvX+8DRr1EReLBLCIiEsEsIiISwSwiIhLBLCIiEsEsIiISwSwiIhLBLCIiEsEsIiISwSwiIhLBLCIiEsEsIiISwSwiLxBWuZBjbj5cjYAAAAAElFTkSuQmCC\" style=\"image-rendering: pixelated;\">\n",
              "            </div><div style=\"margin-right:10px; margin-top: 4px;\">\n",
              "              3 <br/>\n",
              "              <img src=\"data:image/PNG;base64,iVBORw0KGgoAAAANSUhEUgAAAMgAAACvCAIAAAA3ywYrAAACoUlEQVR4nO3dwWkcQRBAUY1RCjqsk9BBaRidnYCFk/DJSQhFoINScAhKQ4rC4AQMbkN97czy3nkphuXTl6Lp7dvNy9WCx+ef//zN968/jFqZM2vwqwZHfVr5EfwvYZEQFglhkRAWCWGREBYJYZEQFglhkRAWCWGR2H7/ul353eIqd8XgmnaH+9fBP2rRDjfxV04sIsIiISwSwiIhLBLCIiEsEsIiISwSwiIhLBLXH79FWnHxF1YvfpQTi4SwSAiLhLBICIuEsEgIi4SwSAiLhLBICIuEsEhMXlg99NL0gy+sXvwoJxYJYZEQFglhkRAWCWGREBYJYZEQFglhkRAWic0Lq7OjjrvlnB3lxCIhLBLCIiEsEsIiISwSwiIhLBLCIiEsEsIiISwSLqwOjzru+nx2lBOLhLBICIuEsEgIi4SwSAiLhLBICIuEsEgIi8TkhdVFgw+x7nBNdtwt5+woJxYJYZEQFglhkRAWCWGREBYJYZEQFglhkRAWCWGRuD73B/zd4NJ00A533rsd5cQiISwSwiIhLBLCIiEsEsIiISwSwiIhLBLCIjG5Kzz0bmvFPq+G7nOUE4uEsEgIi4SwSAiLhLBICIuEsEgIi4SwSAiLhIcwh0cdemHqXiF7JywSwiIhLBLCIiEsEsIiISwSwiIhLBLCIiEsEpMvrB56aeqF1dlRTiwSwiIhLBLCIiEsEsIiISwSwiIhLBLCIiEsEi6sDo867pZzdpQTi4SwSAiLhLBICIuEsEgIi4SwSAiLhLBICIuEsEhs5/6A3Je5UQ+n09So14e3qVFPd5+nRr3fv0+NcmKREBYJYZEQFglhkRAWCWGREBYJYZEQFglhkRAWCWGREBYJYZEQFglhkRAWCWGREBYJYZEQFglhkRAWiT/AfgxGCdeAjAAAAABJRU5ErkJggg==\" style=\"image-rendering: pixelated;\">\n",
              "            </div><div style=\"margin-right:10px; margin-top: 4px;\">\n",
              "              4 <br/>\n",
              "              <img src=\"data:image/PNG;base64,iVBORw0KGgoAAAANSUhEUgAAAMgAAACvCAIAAAA3ywYrAAACoUlEQVR4nO3dsW0bQRBAUcpg4BbUk2B1YTegAlyAUgfK3IIB96QWFLoBAVoD8497wnsxMcfg45LBkHe/fv6+LPj6/PjhZ96e/mw4atHiEz+0+JVWHnfqUV9WPgT/S1gkhEVCWCSERUJYJIRFQlgkhEVCWCSERUJYJK6D68lBxy9NV+y5iR80+K28sUgIi4SwSAiLhLBICIuEsEgIi4SwSAiLhLBIXG/9Bd53/MHqwQ6+Ml3kYJXdCYuEsEgIi4SwSAiLhLBICIuEsEgIi4SwSAiLxOQS+tS/8nuwPW9fHayyO2GREBYJYZEQFglhkRAWCWGREBYJYZEQFonrnqeh512TnXph6mCV3QmLhLBICIuEsEgIi4SwSAiLhLBICIuEsEgIi8TkP6we/F+ml11/e/hgG27iL95YRIRFQlgkhEVCWCSERUJYJIRFQlgkhEVCWCQcrM6POunjFp/oYJVbEhYJYZEQFglhkRAWCWGREBYJYZEQFglhkRAWCQerw6OOX+rvuYn3xiIhLBLCIiEsEsIiISwSwiIhLBLCIiEsEsIiMXmwatTinNlRgxyssjthkRAWCWGREBYJYZEQFglhkRAWCWGREBaJG9wVfu5Re245F7krZHfCIiEsEsIiISwSwiIhLBLCIiEsEsIiISwSwiJxHZy15/710x+s7jnKG4uEsEgIi4SwSAiLhLBICIuEsEgIi4SwSAiLxOSucNCea7JBg1vOQQ5W2Z2wSAiLhLBICIuEsEgIi4SwSAiLhLBICIuEsEjc3foLvO9hbtT3+/upUd9eX6dGPbw8T436++NpatQgbywSwiIhLBLCIiEsEsIiISwSwiIhLBLCIiEsEsIiISwSwiIhLBLCIiEsEsIiISwSwiIhLBLCIiEsEsIi8Q9ykt16JddiFAAAAABJRU5ErkJggg==\" style=\"image-rendering: pixelated;\">\n",
              "            </div><div style=\"margin-right:10px; margin-top: 4px;\">\n",
              "              5 <br/>\n",
              "              <img src=\"data:image/PNG;base64,iVBORw0KGgoAAAANSUhEUgAAAMgAAACvCAIAAAA3ywYrAAAClUlEQVR4nO3dsW1UURBA0TVaiRrcAAkxNZAhuQk34G5chiGhBjKacA1ktPAszd397+uceDVeWVeTjJ724e/Xp8uCz9+/rXxsxb/ff6ZGrXyrxT83NWrxH3X6UZ9WPgQfJSwSwiIhLBLCIiEsEsIiISwSwiIhLBLCIiEsEtfbnydX7Ht/HTyxLzrgJf5iYxERFglhkRAWCWGREBYJYZEQFglhkRAWCWGRuN7+inTuUYOnyUUHPJhebCwiwiIhLBLCIiEsEsIiISwSwiIhLBLCIiEsEsIicR2cte8r08FR+57PZ0fZWCSERUJYJIRFQlgkhEVCWCSERUJYJIRFQlgkJm+FW9+2DvhgdetRNhYJYZEQFglhkRAWCWGREBYJYZEQFglhkRAWCWGRuMMvrJ571L7n89lRNhYJYZEQFglhkRAWCWGREBYJYZEQFglhkRAWCQ9Wh0fd/sq5woNVTkJYJIRFQlgkhEVCWCSERUJYJIRFQlgkhEVCWCQmj9CDPFhdHzXIg1WOTlgkhEVCWCSERUJYJIRFQlgkhEVCWCSEReJ6zNuWB6u7j7KxSAiLhLBICIuEsEgIi4SwSAiLhLBICIuEsEj4IczhUfteOWdH2VgkhEVCWCSERUJYJIRFQlgkhEVCWCSERUJYJIRF4g4PVs89at/z+ewoG4uEsEgIi4SwSAiLhLBICIuEsEgIi4SwSAiLhAerHxg16IBXztlRNhYJYZEQFglhkRAWCWGREBYJYZEQFglhkRAWCWGReLj3F9jJ2+Pj1KhfX56nRv18eZ0a9f7jfWqUjUVCWCSERUJYJIRFQlgkhEVCWCSERUJYJIRFQlgkhEVCWCSERUJYJIRFQlgkhEVCWCSERUJYJIRFQlgk/gNshQVTbYveZgAAAABJRU5ErkJggg==\" style=\"image-rendering: pixelated;\">\n",
              "            </div><div style=\"margin-right:10px; margin-top: 4px;\">\n",
              "              6 <br/>\n",
              "              <img src=\"data:image/PNG;base64,iVBORw0KGgoAAAANSUhEUgAAAMgAAACvCAIAAAA3ywYrAAACf0lEQVR4nO3dsU1cURBAURZt6moogBiJOlyHC7ALMHXQANUQr0gJXIL/SnPhPTgnXo0W6eolo2FPl4e7mwNe3s7//cz9j3ejjsz5DqNuj3wIriUsEsIiISwSwiIhLBLCIiEsEsIiISwSwiIhLBLnrTedC446uPNe0+Af6MUiISwSwiIhLBLCIiEsEsIiISwSwiIhLBLCInFoj3bQmlemgz54NfnxHKyyOmGREBYJYZEQFglhkRAWCWGREBYJYZEQFglhkZhc4u57ZXrQgv+kedlRXiwSwiIhLBLCIiEsEsIiISwSwiIhLBLCIiEsEuetF1ILjtp6YepgldUJi4SwSAiLhLBICIuEsEgIi4SwSAiLhLBICIuEX1gdHrXv+nx2lBeLhLBICIuEsEgIi4SwSAiLhLBICIuEsEgIi8Tp8nB35HNrLqT8WOuyo7xYJIRFQlgkhEVCWCSERUJYJIRFQlgkhEVCWCSERcLB6hWjBu27iXewymcSFglhkRAWCWGREBYJYZEQFglhkRAWCWGR8Aurw6PW3HI6WOWLEBYJYZEQFglhkRAWCWGREBYJYZEQFglhkXBXODxq3y3n7CgvFglhkRAWCWGREBYJYZEQFglhkRAWCWGREBYJYZFwsDo8at/1+ewoLxYJYZEQFglhkRAWCWGREBYJYZEQFglhkRAWCQerw6P23XLOjvJikRAWCWGREBYJYZEQFglhkRAWCWGREBYJYZEQFonTZ3+BnTz+/T016uevP1Ojnl5fp0Y9Tw3yYhERFglhkRAWCWGREBYJYZEQFglhkRAWCWGREBYJYZEQFglhkRAWCWGREBYJYZEQFglhkRAWCWGREBaJf4BwDMmYPbn7AAAAAElFTkSuQmCC\" style=\"image-rendering: pixelated;\">\n",
              "            </div><div style=\"margin-right:10px; margin-top: 4px;\">\n",
              "              7 <br/>\n",
              "              <img src=\"data:image/PNG;base64,iVBORw0KGgoAAAANSUhEUgAAAMgAAACvCAIAAAA3ywYrAAACkElEQVR4nO3dsUkEYRCA0T25JmzHWOxCTAyNLEAQbEDsQqxJM0NjUwPBDebTXXkvPuYu+Jhk+LnD+9nrssLTy92Pn7k8vzVqzZzZUVNft9LKX3Uy9X3wlbBICIuEsEgIi4SwSAiLhLBICIuEsEgIi4SwSBx//2j6v0dt83y+0uCvsrFICIuEsEgIi4SwSAiLhLBICIuEsEgIi4SwSBw8WJ0dtd8r5+woG4uEsEgIi4SwSAiLhLBICIuEsEgIi4SwSAiLhLBIHAdn7fpo+r8frP7+KBuLhLBICIuEsEgIi4SwSAiLhLBICIuEsEgIi8TkrXDXty0PVmdH2VgkhEVCWCSERUJYJIRFQlgkhEVCWCSERUJYJIRF4nD/cb3mc9u8dG5w1H7P57OjbCwSwiIhLBLCIiEsEsIiISwSwiIhLBLCIiEsEv5hdXjUfq+cs6NsLBLCIiEsEsIiISwSwiIhLBLCIiEsEsIiISwSwiLhwerwqP2ez2dH2VgkhEVCWCSERUJYJIRFQlgkhEVCWCSERUJYJDxYHR618jQ5aIMH08XGIiIsEsIiISwSwiIhLBLCIiEsEsIiISwSwiLhXeHwqJWnyUEbPJguNhYRYZEQFglhkRAWCWGREBYJYZEQFglhkRAWCWGR8GB1eNR+z+ezo2wsEsIiISwSwiIhLBLCIiEsEsIiISwSwiIhLBIerA6P2u+Vc3aUjUVCWCSERUJYJIRFQlgkhEVCWCSERUJYJIRFQlgkDn/9A773fHo6Neri7W1q1PnUoGVZHh+mJr1c3UyNGmRjkRAWCWGREBYJYZEQFglhkRAWCWGREBYJYZEQFglhkRAWCWGREBYJYZEQFglhkRAWCWGREBYJYZEQFolPaOccLvVL3MsAAAAASUVORK5CYII=\" style=\"image-rendering: pixelated;\">\n",
              "            </div><div style=\"margin-right:10px; margin-top: 4px;\">\n",
              "              8 <br/>\n",
              "              <img src=\"data:image/PNG;base64,iVBORw0KGgoAAAANSUhEUgAAAMgAAACvCAIAAAA3ywYrAAACmElEQVR4nO3dsW0VQRRAUdv6qatxAcRI1EEdLgAXAHW4AapxjEgJnDggY0DvjsfmnPhr9q90tcnT273+8fHuasH3n5c//ubD7a+poxYtXnHF1A0u3t3gUVOXW7T4r26mrge/ExYJYZEQFglhkRAWCWGREBYJYZEQFglhkRAWibEx57E2T4UHJ/H7h/qD/8oTi4SwSAiLhLBICIuEsEgIi4SwSAiLhLBICIvEobPC/WOyFZu3TBeduUbriUVCWCSERUJYJIRFQlgkhEVCWCSERUJYJIRFQlgkLoPjyXfvzC3TQRZWOZ2wSAiLhLBICIuEsEgIi4SwSAiLhLBICIvEiROrY525Gjo4xrWwyumERUJYJIRFQlgkhEVCWCSERUJYJIRFQlgkhEXCEPp1DK6GDrKwyumERUJYJIRFQlgkhEVCWCSERUJYJIRFQlgkLoMvYz3zBbhn3qCFVfgXwiIhLBLCIiEsEsIiISwSwiIhLBLCIiEsEsIiYWH1L2z+wuqbPsoTi4SwSAiLhLBICIuEsEgIi4SwSAiLhLBICIvEZf9W5Gabb3DxcoPO/O6rJxYJYZEQFglhkRAWCWGREBYJYZEQFglhkRAWiUP3CvfPtlZs3uDbz14hpxMWCWGREBYJYZEQFglhkRAWCWGREBYJYZEQFglfWH1x5lR4MwurnE5YJIRFQlgkhEVCWCSERUJYJIRFQlgkhEVi8uW2Z26Zvns+hMl/RFgkhEVCWCSERUJYJIRFQlgkhEVCWCSERUJYJK5f+w+8JZ++fpk66vP9w9RR356epo56nDrIE4uIsEgIi4SwSAiLhLBICIuEsEgIi4SwSAiLhLBICIuEsEgIi4SwSAiLhLBICIuEsEgIi4SwSAiLhLBIPAPAQpxQZc1FiwAAAABJRU5ErkJggg==\" style=\"image-rendering: pixelated;\">\n",
              "            </div><div style=\"margin-right:10px; margin-top: 4px;\">\n",
              "              9 <br/>\n",
              "              <img src=\"data:image/PNG;base64,iVBORw0KGgoAAAANSUhEUgAAAMgAAACvCAIAAAA3ywYrAAACpUlEQVR4nO3dsW1UQRRA0V20Ib24BQqgCEeuwwVAAaYOCqAFqnDi0KklBxTAIM39+7ycE3/NfltXk4ze/PP9y9tpwedfd3995vXLb0utrLNo8c1XLL7Vxj/w08pD8K+ERUJYJIRFQlgkhEVCWCSERUJYJIRFQlgkhEXisnGt4086D15qpoEn8Sc7FhFhkRAWCWGREBYJYZEQFglhkRAWCWGREBaJnWeFG33cgdVFB8++LjKwynTCIiEsEsIiISwSwiIhLBLCIiEsEsIiISwSwiIx9BB6o5sfWN3IwCrTCYuEsEgIi4SwSAiLhLBICIuEsEgIi4SwSFyOv0b2YDMHVmcysMp0wiIhLBLCIiEsEsIiISwSwiIhLBLCIiEsEsIiMXRgdeYXVmde0rzx7N/AKtMJi4SwSAiLhLBICIuEsEgIi4SwSAiLhLBInO9f3lae23ggtXHsc+Dh3cf9Ry3+ooFVrklYJIRFQlgkhEVCWCSERUJYJIRFQlgkhEVCWCSG3po8c2B1poEn8Sc7FhFhkRAWCWGREBYJYZEQFglhkRAWCWGREBaJoZfbbjTzC6sDr+Xdu5Qdi4SwSAiLhLBICIuEsEgIi4SwSAiLhLBICIvE7Z8VzvwQ5kbmCvmPCIuEsEgIi4SwSAiLhLBICIuEsEgIi4SwSAiLxOX448mNd+CumPmF1ZuffbVjkRAWCWGREBYJYZEQFglhkRAWCWGREBYJYZG4wocwb/ubmgZW/7BjkRAWCWGREBYJYZEQFglhkRAWCWGREBYJYZEQFonztV8g9/Xp266lHh6/71rqx/PzrqV+7lpoKzsWCWGREBYJYZEQFglhkRAWCWGREBYJYZEQFglhkRAWCWGREBYJYZEQFglhkRAWCWGREBYJYZEQFglhkXgHuOW++PqZe6AAAAAASUVORK5CYII=\" style=\"image-rendering: pixelated;\">\n",
              "            </div></div>"
            ],
            "text/plain": [
              "<IPython.core.display.HTML object>"
            ]
          },
          "metadata": {
            "tags": []
          }
        },
        {
          "output_type": "stream",
          "text": [
            "Visualization\n"
          ],
          "name": "stdout"
        },
        {
          "output_type": "display_data",
          "data": {
            "text/html": [
              "<div style=\"display: flex; flex-direction: row;\"><div style=\"margin-right:10px; margin-top: 4px;\">\n",
              "              0 <br/>\n",
              "              <img src=\"data:image/PNG;base64,iVBORw0KGgoAAAANSUhEUgAAAMgAAACrCAIAAACsWkQ9AAAEf0lEQVR4nO3dzYocVRyG8fec6s/0jIpJCAYGBd2IIH6QjVtvyOtx5ZXoThBRgxtXghqxiTGCmelJf1Udb+E94Lvy+a3/nKrueaY2dThd3qlLeX4rB3NS0riu5uRs18zJo331KndNSffs2T/dz6TNtPFv4GK9Myef74s5Wexv4FXZn0p61iZzsmNRwEdYiCAsRBAWIggLEYSFCMJCBGEhgrAQQViIICxEEBYiCAsRZf6RPft9x7r333An/9i6k/WOfflbe1Ka2RsRzjt3c8Fy07G9Ym8vu7H3LNzKXXO66rhVPXEHeWIhgrAQQViIICxEEBYiCAsRhIUIwkIEYSGCsBBBWIggLEQQFiIICxFlU1bmaKt7f92xzczJo87m5MI9kELnwZ2UVMf/ftlhdD++pHHmfgMze9lmf6u1uRtsJB3tfTs8sRBBWIggLEQQFiIICxGEhQjCQgRhIYKwEEFYiCAsRBAWIggLEeXyQ3e0/dDxGnz5tvsafPezu+Zhbt/AqeOgC/9/a25Pljf966v+6k4e7aNWTlv7x1GGju+q2TtBeGIhgrAQQViIICxEEBYiCAsRhIUIwkIEYSGCsBBBWIggLEQQFiLKqq7N0Wnz0l93uHHfrrfmvl1v9vaCw+pkTkq6e3QPRPi7uQcirIu/E0KH5t5ttb+B0+Cu+WDseLg8be75GTyxEEFYiCAsRBAWIggLEYSFCMJCBGEhgrAQQViIICxEEBYiCAsR5fVH7uj0bcfZDf/YyT6Qex7A03vu1Vd/ddxqe+Rur/C/gfJWx4EIwy/u5NH+WDP7+vsrd1KSnriDPLEQQViIICxEEBYiCAsRhIUIwkIEYSGCsBBBWIggLEQQFiIICxGlauWOXuw7Fr65Yw6u6605eZzcQxaO1T1kQdJiGtxlB3cjRh3dNSWV4i67aO6yJ/tW/R+bkOyNKDyxEEJYiCAsRBAWIggLEYSFCMJCBGEhgrAQQViIICxEEBYiCAsRhIWI8tr77mj7sWPdw4V7fkW9cc+vGO+7V6/POg4FOb3i3sDwwj4U5G7HoSB67i472stWe82Df36IJHs7Ek8sRBAWIggLEYSFCMJCBGEhgrAQQViIICxEEBYiCAsRhIUIwkJE+UKfmqOfrb/01x1P7jvz68ldc6G1OXmeXrqLSirusm3pLrvcL/3rH8vBnNz4P2RiX/292rET5PFkb6/wFwV8hIUIwkIEYSGCsBBBWIggLEQQFiIICxGEhQjCQgRhIYKwEFG+sV+Yf17cH0eRtL10369/dW2/Xf/EvdfF1+6Sks4fu5P1O/dW5x90HIgwPXb/vV/Yaz60Hxm/v9vx8zD6yR3kiYUIwkIEYSGCsBBBWIggLEQQFiIICxGEhQjCQgRhIYKwEEFYiCgPry7N0e107a87bN2NAFNzNwIUexuEfcKAJM3tf67T6E4OXf+w9udq48Zd8mJnTo7uoCTZfyueWMggLEQQFiIICxGEhQjCQgRhIYKwEEFYiCAsRBAWIggLEYSFCMICAAAAAAAAAAAAAADA/9C/gxzDMIJLhaoAAAAASUVORK5CYII=\" style=\"image-rendering: pixelated;\">\n",
              "            </div><div style=\"margin-right:10px; margin-top: 4px;\">\n",
              "              1 <br/>\n",
              "              <img src=\"data:image/PNG;base64,iVBORw0KGgoAAAANSUhEUgAAAMgAAACrCAIAAACsWkQ9AAAE60lEQVR4nO3dv2vcdRzH8df37pu7s70k9UxMaxW0FhV/UEEdqoOCdImDo5trsQji6uTWwbEgFCcdBRcREUTbJYNCkeIPWvB35RqbNG3S5LxLcnf+C6/P8MLB52N+88k37fO+S958rjqpWp4/GmNzUtLcxJ1cbbiTtyaL5uSzuuEeKr3z1jFz8o1zv5mT85Op/wA3K3dyap86qN1DX98veNQP7En7fxUoQViIICxEEBYiCAsRhIUIwkIEYSGCsBBBWIggLEQQFiIICxH1z6eb5ujaeXtjQbrxuPs3895P7uR3Vcec7Bf8wV6nD98xJ8f2zsL1R92dEUndq/vm5NoR98z7r7vbDR8tuwFI0ufuo/LGQgRhIYKwEEFYiCAsRBAWIggLEYSFCMJCBGEhgrAQQViIICxEEBYiqvu6LXN0f3vXP3djbt6cnN3aNCdb6pqTS+2hOSnpr5G7ClJ33M/h8rBgxejjyl1cGTTdY4/aV31sLRaszdxZcy+G4Y2FCMJCBGEhgrAQQViIICxEEBYiCAsRhIUIwkIEYSGCsBBBWIioPnnlqDl65ou+f+7ZsXuBx9v6x5zcOuD+9HsH7qSk9ba739Ebufsddz1WsDJw7Yq7MjB3wL3qo7L/BYatghtUhvaCC28sRBAWIggLEYSFCMJCBGEhgrAQQViIICxEEBYiCAsRhIUIwkJEddge3ekWfI3HzrY72ZR7dcLSwow5+ffGnvvjpdq+ZmHacpcLOrslKwP2p7s94y54bI3c9YY3Txx0f7x07vKOOckbCxGEhQjCQgRhIYKwEEFYiCAsRBAWIggLEYSFCMJCBGEhgrAQUb33vrvf8OGZVf/cP19yLy+YuejeXNCzPwa/quCLIRoPuFsbk2vuIsb0kP/zNX/bnZyVe81Ev+PesjA3LFha2bBXUXhjIYKwEEFYiCAsRBAWIggLEYSFCMJCBGEhgrAQQViIICxEEBYiqotaMEdfbW/45zaPu9sNJ39071n4TPeYk43qpjkpqWlfs9CSe3dDa6HgmynqdXdlYCz32N2Gu9/x0MT9pST9YK+N8MZCBGEhgrAQQViIICxEEBYiCAsRhIUIwkIEYSGCsBBBWIggLEQQFiLqF+22jowKbtpYOu5+OUffXpvpzdgfg4JvPNG04042h+6GzZMD96YTSSv25GzXnZxuu4969QX3i2QkacW9a4Q3FiIICxGEhQjCQgRhIYKwEEFYiCAsRBAWIggLEYSFCMJCBGEhol62NwGulJzbW3eP9a/vOLF3y5z8xj5T0hM9d73h8urQnNwc2DeNSFXtXvXx7ra7NPHp0+7OwoWVeXNSUqU1c5I3FiIICxGEhQjCQgRhIYKwEEFYiCAsRBAWIggLEYSFCMJCBGEhor7w1G1z9JHvC859bmVkTl6yzzx1qm1Ofvul+yUiki71C+5ZMHUfrv3hu39xn/b8dNGcfK1y1xCeaR8yJyVpxHYD/lOEhQjCQgRhIYKwEEFYiCAsRBAWIggLEYSFCMJCBGEhgrAQUTUedFcGGr+7CwuS/O2CZl25k/vuhQh77mUIklTZyw2TlvuonXHB3Q27Y/fjffBl9wGe/8r9rb5Wwd0Ne9o0J3ljIYKwEEFYiCAsRBAWIggLEYSFCMJCBGEhgrAQQViIICxEEBYiCAsAAAAAAAAAAAAAAAD/Q/8CnX3PHfDEtiIAAAAASUVORK5CYII=\" style=\"image-rendering: pixelated;\">\n",
              "            </div><div style=\"margin-right:10px; margin-top: 4px;\">\n",
              "              2 <br/>\n",
              "              <img src=\"data:image/PNG;base64,iVBORw0KGgoAAAANSUhEUgAAAMgAAACrCAIAAACsWkQ9AAAEZklEQVR4nO3dPY8bZRRH8TuewTZ5Y4OUXQgvogGJJkI0SKnSI6XjU1LTUCCqSDQUNEhISEhkWS0RsNksa+/YnslX+D/FEQXnV1/NOvbxNH5yp3taqW+HeLTqwT6dPO27cPLzwxxO/rhI/3pVHU3p5Ksufanr9JVWVW36dPJh/A6cxe9qxdesql082fIJSDHDEsKwhDAsIQxLCMMSwrCEMCwhDEsIwxLCsIQwLCEMS4jhu6/S39bnrw/5dacnabLT9+npgl/jr8Fiik8sVB3icwC7OT0IsDzJ/37VeTp48X46OT9PX+rqzfSaVbXbpJPesYQwLCEMSwjDEsKwhDAsIQxLCMMSwrCEMCwhDEsIwxLCsIQwLCG6fNPHnfh4SbVsxXgRt72Kz8JslulkVa3HdLJ7I57Mt2dUbeM39nb8ru7jz/UQr2+pqpt40juWEIYlhGEJYVhCGJYQhiWEYQlhWEIYlhCGJYRhCWFYQhiWEMPxF+lv63//0PJsjHvpZH+ZTk7308nlP+lkVS3iTRuH5+nkrU8aXsD8Szo5Pkwnb/5IJ5ctJ0EqPgniHUsIwxLCsIQwLCEMSwjDEsKwhDAsIQxLCMMSwrCEMCwhDEuILn/gxWHVcN0p/l/+85Aer7i9T49XbFv2TBxfpZc9jRci9C0LESq+7BBfdozXTNxvWTPxVzzpHUsIwxLCsIQwLCEMSwjDEsKwhDAsIQxLCMMSwrCEMCwhDEuI4a3H6UGA62cNuxsu41/X17v0suNx+lKHP1vWTDxIv12rF+mzMfqP8r9f02/p5M3ddHL5Kp3c3Eknq6qu0kHvWEIYlhCGJYRhCWFYQhiWEIYlhGEJYVhCGJYQhiWEYQlhWEI07DgYWiKc4iuvpvQkQr5m4nLZ8O/ajw1HIUItay5qH+9uOIp3N+SnS6pld0M+6x1LCMMSwrCEMCwhDEsIwxLCsIQwLCEMSwjDEsKwhDAsIQxLCMMSovv4y/SEydk3DcdLtut0st+mk8NJOjmfp5NVdR0fxxk26WR/1PACpot4Mj6Os4gfOdO13FvGdCuKdywxDEsIwxLCsIQwLCEMSwjDEsKwhDAsIQxLCMMSwrCEMCwhug/j0fN4d0VVrfP1FX06ee+QHsS4yveHVN2Nzyy8jL+GfXwKoKrm+LIn8QKVi3X6Xn22bTi08iye9I4lhGEJYVhCGJYQhiWEYQlhWEIYlhCGJYRhCWFYQhiWEIYlRPfOe+nov6cN1929m06uzuKLfpAO7n+Pr1mVPxwk3jJRtz5teAG7n9PJcUjPLLy9T88snD9qeDzM9FN6We9YQhiWEIYlhGEJYVhCGJYQhiWEYQlhWEIYlhCGJYRhCWFYQnTx5oSaVg0/gw/xr+v7fHdDvBDhquX7Mo/p+Ya526WTDfsQqpbp4GJMJ/tF+mHt42eIVNV87ekG/acMSwjDEsKwhDAsIQxLCMMSwrCEMCwhDEsIwxLCsIQwLCEMS5IkSZIkSZIkSZIkSf9DrwEU7624UVHZJgAAAABJRU5ErkJggg==\" style=\"image-rendering: pixelated;\">\n",
              "            </div><div style=\"margin-right:10px; margin-top: 4px;\">\n",
              "              3 <br/>\n",
              "              <img src=\"data:image/PNG;base64,iVBORw0KGgoAAAANSUhEUgAAAMgAAACrCAIAAACsWkQ9AAAErUlEQVR4nO3du24cdQCF8TMX78Ve2/FFdgokEmLRQBpSkpoXydPxBEhIdKGMaEiDHAgSSLFjYyess97ZufAKZ4pT8f3qo/HY+2mq8X+Lb+R6XRT2VqorczhvB3M5GTpzeVWU5lLS4dCbyxv7L3A2uL+UpHO5d1vJvdWqcm91vxtxq+/s5YgPAPARFiIICxGEhQjCQgRhIYKwEEFYiCAsRBAWIggLEYSFCMJCRFE/O3Gnry79656cTszl3xeNuZwd7ZjL++s7cylpvndgLlcfb8zl9sHCv4HmZmkuh8fH5nL+x5W57M6m5lLS6nxtLnliIYKwEEFYiCAsRBAWIggLEYSFCMJCBGEhgrAQQViIICxEEBYiCAsRhft2izQptv3r9sMnc9mUc3NZ9Cv3x9f+r6Whdd/bKbRlLne18W9gWbkHqNSdeyzKp3rmXrO9N5eSWnvJEwsRhIUIwkIEYSGCsBBBWIggLEQQFiIICxGEhQjCQgRhIYKwEFHsPXloTjdv/C+8UHdkn4px7R6JUZ48MJfD5a370yU9dC+rd+5ly1P3oBFJunDPGmnm9gsmK/ftErkvl0hSZ79fwhMLEYSFCMJCBGEhgrAQQViIICxEEBYiCAsRhIUIwkIEYSGCsBBR+GUV7sEFkrS7cde3lXvMwY57cIHuqxFnN1Sde3ZDU7hvAuwP9msA0l3tfgiTtjeXjX16xVP76ApJv9hLnliIICxEEBYiCAsRhIUIwkIEYSGCsBBBWIggLEQQFiIICxGEhYiifuRO529HXLeyv8Rh6X+Jw5F7IML02j0NQdLKPbxC2/bhFd2XJ/4NFL9dusvPjtzlX9fmcv18xDETm5fuH5YnFiIICxGEhQjCQgRhIYKwEEFYiCAsRBAWIggLEYSFCMJCBGEhoiintTk9XE/9697I/maEyr2BsnPfg2jHnDNRzwZ32lTmsOvW/g2UWzNzOdncm8u2do+Z2GrHHDNhL3liIYKwEEFYiCAsRBAWIggLEYSFCMJCBGEhgrAQQViIICxEEBYiCAsR9eO9z83p5fs3/nWH421zOblyX7BpTw/N5fTiH3MpqWt37em/5rA+sq8pldfuZdf7C3O59WFpLleLwlxK0tJ9xYgnFiIICxGEhQjCQgRhIYKwEEFYiCAsRBAWIggLEYSFCMJCBGEhovjenr44cN+DkLR986e5fF9PzGXZuoeCDFvuQSOSqo172b60j0XpRxwKMpTuoSB97x4KMpvumMtv1/5JH/rJXvLEQgRhIYKwEEFYiCAsRBAWIggLEYSFCMJCBGEhgrAQQViIICxE1HuD+9/4L4oR/+T/w+LYXDbLK3N599UTc7l4PeKYiftnZ+ayenVuLsvnX/s3UL381Vx+fPDIXC5u35rLn79zPylJ+tH9sHhiIYKwEEFYiCAsRBAWIggLEYSFCMJCBGEhgrAQQViIICxEEBYiCverDqTmi8q/bv97Zy47u+3SfQ9D/ZgvW6jty7b+rbq/vST17uEVmjXucrAPr2hadympt5c8sRBBWIggLEQQFiIICxGEhQjCQgRhIYKwEEFYiCAsRBAWIggLEYQFAAAAAAAAAAAAAACA/6H/AI3+xxVk9jiGAAAAAElFTkSuQmCC\" style=\"image-rendering: pixelated;\">\n",
              "            </div><div style=\"margin-right:10px; margin-top: 4px;\">\n",
              "              4 <br/>\n",
              "              <img src=\"data:image/PNG;base64,iVBORw0KGgoAAAANSUhEUgAAAMgAAACrCAIAAACsWkQ9AAAE30lEQVR4nO3dvWtddQDG8efce5N7c29ahKox1KZIk75ZREqxiyJIHQRxtEJBKLg4CB0cHBQcnFwdOjgUhYJ1VMGldFGoSqhafE2qsZG2sTXatL33JvfVf+E5wzP5/cwPvx7Sb86SwznFp5/IdOoFdynpD+0zlzv1q7nsPn/EXI4+WzSXkqaLwlyujd3l3pmRfwF3/3KXG0/uMZftL38zl49qxv3npW/lXmvFPxTwERYiCAsRhIUIwkIEYSGCsBBBWIggLEQQFiIICxGEhQjCQkTt+pI7va6Gf+4urZjLrWbdXHbsZxbGVXMoSevb3GXrtrtcu1XiAnoV96GJDfuZhXrh/lR/HP9rLkvhjoUIwkIEYSGCsBBBWIggLEQQFiIICxGEhQjCQgRhIYKwEEFYiCAsRNTe+vllc3pQH/rnXj7sLotL7rJ5cspcTpzpuodK26d2mMvO7b/N5VSrxJs2Nuy3ghx4bbe5vPLeVXNZPeo+YCNJX7tD7liIICxEEBYiCAsRhIUIwkIEYSGCsBBBWIggLEQQFiIICxGEhYjitD19W03/3EO7O+by4lX3lRgzGpvL1cqkuZQ0HPXMZct9ukLd7v3+BTTq7kMT3a2HzWXRuGYu79t0f6qS/rGX3LEQQViIICxEEBYiCAsRhIUIwkIEYSGCsBBBWIggLEQQFiIICxFFcfqkOd356hn/3P6c+8zCrVX3r+vNXdPmcvDnPXMpafpYy1xunm+by0k94F/APbkfSOlrwr6Avrncf3zWXEr6/twNc8kdCxGEhQjCQgRhIYKwEEFYiCAsRBAWIggLEYSFCMJCBGEhgrAQUXxgT18vSnzC4ODClrlcXHL/Yn/U/ov9hYp7pqTWyD22bf8e1uzXTEhq2MfWG0NzOdh03zPRVomveAzsJXcsRBAWIggLEYSFCMJCBGEhgrAQQViIICxEEBYiCAsRhIUIwkJEse/EO+a0cvZN/9z1Q3PmcuOHVXO5bdL9NbjTG5lLSdOPu8cOv3OP7cyV+DJFa9X9MsWB/e6xX/3injn/kjmUpOWP3CV3LEQQFiIICxGEhQjCQgRhIYKwEEFYiCAsRBAWIggLEYSFCMJCBGEhonCfWZGere3wz+0P1s3liibN5YJ65nK5aJpLSXvGHXP5e+G+aeOpcYk3bXxRc692duBe6jW5l1p9qMSlDtfcJXcsRBAWIggLEYSFCMJCBGEhgrAQQViIICxEEBYiCAsRhIUIwkJE7ekld3pzr/vAgqS2HjGXFa2Yy/qxx8xl7fxlcymp/syCuaxeWDaX30we9i9gqnfJXN6dnTeXlRtXzOUTMw+aS0kX1266F+AfCvgICxGEhQjCQgRhIYKwEEFYiCAsRBAWIggLEYSFCMJCBGEhoihq7rRa4jMiGo3cpxtaNffphjcG7r/+rra7U+m47pjLc/av4fzoiH8BP2nRXL5in/n+hLus9kt8naUt90sq3LEQQViIICxEEBYiCAsRhIUIwkIEYSGCsBBBWIggLEQQFiIICxGF+1kIqV/uYHdYGbvL2ovucvixu5Q0PmFfwFl3OZD9dIE0lv3YxnPuD6v43D1y6P9XSZJ7AdyxEEFYiCAsRBAWIggLEYSFCMJCBGEhgrAQQViIICxEEBYiCAsRhAUAAAAAAAAAAAAAAID/of8Ai+zA1w/10QEAAAAASUVORK5CYII=\" style=\"image-rendering: pixelated;\">\n",
              "            </div><div style=\"margin-right:10px; margin-top: 4px;\">\n",
              "              5 <br/>\n",
              "              <img src=\"data:image/PNG;base64,iVBORw0KGgoAAAANSUhEUgAAAMgAAACrCAIAAACsWkQ9AAAE3klEQVR4nO3dP29bZRiG8fvYjtvGSTB1TEIkwp8KKrEQiQEKQmJDYkFIMLAwI3ZmNj4CI1+hbF0rFRUYUCshVQoQoC2KUxy3iR27Tuwc8xXuM9wT129+9PpUvXyWvHpcfK9Neb5uHJiTkmbzujnZq52bk5+Wq+bkd8XInJT0yWLNnLxRG5qTb5Ur/gPcLE7MyR01zck7izNz8iutm5OSvtGhOVnzDwV8hIUIwkIEYSGCsBBBWIggLEQQFiIICxGEhQjCQgRhIYKwEFFo5xlzdPPusX/u9lV38t6uew9io+veg+j1C/fjpdXOwpwcDpbMyc7yzH+AwcR92o9W3Ue9PXLvQfSuufcgJM1+dCd5YyGCsBBBWIggLEQQFiIICxGEhQjCQgRhIYKwEEFYiCAsRBAWIggLEYVaL5qj16b3/XMn5+5tnL7c2zhze33FhSV3d4Wk8azrHqu+OdnWlv8Ax419c3Ixv2xOLhePzcl/3Js4knRqT/LGQgRhIYKwEEFYiCAsRBAWIggLEYSFCMJCBGEhgrAQQViIICxEFJ+7lxt06767Z0LSpa67auK4727aWNt2N208eVBhKcjKK+7f96d/usd2rlS4M3C05369T18o3cmH7qqVuf2TM5JG7ufzxkIGYSGCsBBBWIggLEQQFiIICxGEhQjCQgRhIYKwEEFYiCAsRBTu3gLpYqvCuadjd3fDpHB3N5QLd3eDahV2N6yUHXPyWANzcqPK7oZx4e5uuLxwdzf8IXd3w7vmnCTpB3uSNxYiCAsRhIUIwkIEYSGCsBBBWIggLEQQFiIICxGEhQjCQgRhIaL40B7tVTn317Vlc7I7nJiTkzX301vDCl+Y2qvuQoLZ7w1z8rk35/4DjH5xJw/dhQzasBcy7LurMyTpqbs9gzcWMggLEYSFCMJCBGEhgrAQQViIICxEEBYiCAsRhIUIwkIEYSGiaGvHHN3SXf/c/Ysr5uTZ9MScnGrDnGzpkTkpaaa2OTlvHLmTc3fJgqROzd2zMCqfNSebemJOTqq8XEq5N0F4YyGCsBBBWIggLEQQFiIICxGEhQjCQgRhIYKwEEFYiCAsRBAWIggLEcUX77ijP992b8JI2ltxL8NcOnE3XTRfcjddlH9X2HQx7rqbLpp999j2y/b2DGn4l3vs81fcYw/2mu7HL5+5k1LPXeDCGwsZhIUIwkIEYSGCsBBBWIggLEQQFiIICxGEhQjCQgRhIYKwEFEstGuO7nSu+uc+HrTNyX/rR+bk+flr5uRS7TdzUtKsfN2crC/dMyfXZ9v+A0xrD8zJD0p318iNJXfRyLezjjkp6TMNzEneWIggLEQQFiIICxGEhQjCQgRhIYKwEEFYiCAsRBAWIggLEYSFiGKxcEeHxbp/7petQ3Nyd+zubnj6nru74cKtCl+Y4n33ZzzqN90zp29v+g9w+tOBOfmw5Z75xtjdB3Hn4wprJqbX3UneWIggLEQQFiIICxGEhQjCQgRhIYKwEEFYiCAsRBAWIggLEYSFiKJrtzXacG8BSCof+Y/gDs7tixhN98KEJE3dOxOq8HMXWxUeoL7vPu657PsdDffT/X++qvwX8MZCBGEhgrAQQViIICxEEBYiCAsRhIUIwkIEYSGCsBBBWIggLEQQFgAAAAAAAAAAAAAAAP6H/gM939MwyN/s6wAAAABJRU5ErkJggg==\" style=\"image-rendering: pixelated;\">\n",
              "            </div><div style=\"margin-right:10px; margin-top: 4px;\">\n",
              "              6 <br/>\n",
              "              <img src=\"data:image/PNG;base64,iVBORw0KGgoAAAANSUhEUgAAAMgAAACrCAIAAACsWkQ9AAAEpUlEQVR4nO3dv2vcdRzH8fe3OS9Nzx9N2h5Wk0KhgxFcugniD4TqIPg/KIiLCI5Ode7gagcnN4WuXbp0KxWCYKktNEbSiJLQpsYk11wuPf+F12d4Tj4f84f33X3ved/lPny+3fjcTGU+Xz8KV1bVxcGxcOXlvWfhyisvpTM/+SedWVVX59OxX2+nY789lV7VqvriUXphz1UXrtyp9EOtVcPXmr58xS8vNTEsIQxLCMMSwrCEMCwhDEsIwxLCsIQwLCEMSwjDEsKwhOiWT6RtDUcNWwbemaYrf+ilK5cn6co/Wn4vg3jlXvyhnsYrq2ocv9sv42/gVnxVr03yLQs1rfSDeccSwrCEMCwhDEsIwxLCsIQwLCEMSwjDEsKwhDAsIQxLCMMSwrCE6F7vz4VLPxuP8rmrL6f7Nu7+ne6GOYwPGqn4oJGq+qXrhysvTcfhyvtdwy/29DR9t6NhelVnNuOreiZcWFV1eytd6R1LCMMSwrCEMCwhDEsIwxLCsIQwLCEMSwjDEsKwhDAsIQxLiO5OvPRyw1M8aiF+jsbduO3leMtCPrOq3ojH3o+vwNsNjxGpW/HY4/HYzfgKxI9xqaq6F6/0jiWEYQlhWEIYlhCGJYRhCWFYQhiWEIYlhGEJYVhCGJYQhiVEd3ZpNly6/PAgn7tyMv3L/vST9C/7Lj65YCc+uaCqDofpW93fTN/qW+fjR45UPV5L3+2b8dNJvoufuTJ5reHm0t1L90J4xxLCsIQwLCEMSwjDEsKwhDAsIQxLCMMSwrCEMCwhDEsIwxKiW4mXXmk5u2EtPmWgH7d9EJ8ycBTvAqiqF+ONANvxzPcbXr9+jq/AenwF3nsuXXnzMF1ZVavxSu9YQhiWEIYlhGEJYVhCGJYQhiWEYQlhWEIYlhCGJYRhCWFYQnQfnemHS0db43zu7RPpBoPZ/XR3wbMX0p/B8/82PG5hNx47jcdOZhr2VwyP0iuwdDwdu/M0nXlhGC6sqvpxM13pHUsIwxLCsIQwLCEMSwjDEsKwhDAsIQxLCMMSwrCEMCwhDEsIwxKii0/EqG/icyaq6np81MQk3mAyH7/Xw5bfy0y8xaYXj+01bNupP+Oxi/HYcXyCy1/x8S1VdSde6R1LCMMSwrCEMCwhDEsIwxLCsIQwLCEMSwjDEsKwhDAsIQxLiF7Np/+Db2w3/A/+26leuHL20SRcuR7PPBbPrKqFk+nY3Sfp2H48s6oO4rEfxjtBfoq/q9WLDTeXbiXdX+EdSwjDEsKwhDAsIQxLCMMSwrCEMCwhDEsIwxLCsIQwLCEMS4iGsxtq0PAYj4/30sGvxqcMvBL/Y/97PLOqLsVjb8ZjP2g5EOFGPPZqPPar9EE2da3hQTb1IF7pHUsIwxLCsIQwLCEMSwjDEsKwhDAsIQxLCMMSwrCEMCwhDEuI7t3vl8Klv376MJ+7s5huhRhspPsg9hfTbQCDjYbdBQfn4yMh1tKTC44uNOyvmHuQPsZjdy6deXaUrtxaaNi0sv84/bK8YwlhWEIYlhCGJYRhCWFYQhiWEIYlhGEJYVhCGJYQhiWEYQlhWJIkSZIkSZIkSZIkSfof+g/sUcKt2ALY2AAAAABJRU5ErkJggg==\" style=\"image-rendering: pixelated;\">\n",
              "            </div><div style=\"margin-right:10px; margin-top: 4px;\">\n",
              "              7 <br/>\n",
              "              <img src=\"data:image/PNG;base64,iVBORw0KGgoAAAANSUhEUgAAAMgAAACrCAIAAACsWkQ9AAAEtUlEQVR4nO3dvXIbZQCF4bMryZIlZEkRPzHJeMJAQYYZZigoKKHjOuDauAAaOigpoIIiFPwGsJ3EsSU7slaWtMstnC1OxfvUZz7vyK/VWPOpeFAW8jxrSnMpaVLU5vKybtwz7UdduD9ckmYd/1j33DcK90xJz90XQD25053cX9ZJ03F/vPSXtuayRSuAj7AQQViIICxEEBYiCAsRhIUIwkIEYSGCsBBBWIggLEQQFiK6zx7Z/1v/fe+fux0OzGWzqszlZnhkLotXS3MpaT2emMtmsTCXi7fG/gPo/NocDt9zX9XNr+6r+vfnc3MpSd+8MIe8YyGCsBBBWIggLEQQFiIICxGEhQjCQgRhIYKwEEFYiCAsRBAWIggLEcW4506rrfuZDUmD0v3Yxm1zYC47zZ253JddcymprHfmsi7cY/uNe6akjf20M7nHLhv399o07j0fkv3jecdCCGEhgrAQQViIICxEEBYiCAsRhIUIwkIEYSGCsBBBWIggLER0R5P75nR9ce6fW81H5rJ8sTKXxf2pueydL8ylpObhzFyW/1yZy/pt90xJvVP32JcD+1Wt3Fe1OTSHkqS1O+QdCxGEhQjCQgRhIYKwEEFYiCAsRBAWIggLEYSFCMJCBGEhgrAQUXTKwpw2XfuaB0lb956FWu4DDN2hqjZ/MB3V5nJbd8zlpNPi62Fu7C+duVe706vS/WV9VLS4ZuLHvfsAvGMhgrAQQViIICxEEBYiCAsRhIUIwkIEYSGCsBBBWIggLEQQFiKK1x4fm9P9kzP/3Go6MZf9xdI9c37PXA5eXppLSbuTqbksny7MZfP4Tf8BOk+eu8e+c2Que39cm8vVZ+6Zkppv3WN5x0IEYSGCsBBBWIggLEQQFiIICxGEhQjCQgRhIYKwEEFYiCAsRBQj+0KEtVp8h0HP/g6Du8K9ZaBbb83lTi2umRi6FzJoZV+yMLcfVdKV/QA995YJ7Ur3l1Xv7W+bkOwXgHcsZBAWIggLEYSFCMJCBGEhgrAQQViIICxEEBYiCAsRhIUIwkIEYSGimH38rjmtf/jNP3c5cT+20V+6H9vYHbuXghyeXZlLSavpyFz2Fq/M5XbonilpeLsyl9PjA3N5eeZ+5UzzeotHrS7cR+UdCxGEhQjCQgRhIYKwEEFYiCAsRBAWIggLEYSFCMJCBGEhgrAQUXxlT7+YPfTPPbz+11xe7u1LQUr/UpCuuZR0ULhXXdzV7qUco8a+vkNaq28uj7Qxl4v+wFwebCpzKcn9yATvWAghLEQQFiIICxGEhQjCQgRhIYKwEEFYiCAsRBAWIggLEYSFiO5N4/5v/8tuiwq/7s/NZX17YS5XHzwyl9Of/zSXklYfurdXTH9yb69Yf/K+/wDj738xl8NPT8xl9d1Tc7kfuPdBSFLlfr6BdyxEEBYiCAsRhIUIwkIEYSGCsBBBWIggLEQQFiIICxGEhQjCQkTx4GRsTk+bG//c7qm73Nm3HBT+j28xVVm6f121fSNDmw8M6K7smMvSvjxiv3c/tNLqtbI/CsM7FjIICxGEhQjCQgRhIYKwEEFYiCAsRBAWIggLEYSFCMJCBGEhgrAAAAAAAAAAAAAAAADwP/QfncDbz4BJekoAAAAASUVORK5CYII=\" style=\"image-rendering: pixelated;\">\n",
              "            </div><div style=\"margin-right:10px; margin-top: 4px;\">\n",
              "              8 <br/>\n",
              "              <img src=\"data:image/PNG;base64,iVBORw0KGgoAAAANSUhEUgAAAMgAAACrCAIAAACsWkQ9AAAEsklEQVR4nO3dS29McRzG8edMZ1rqmkxLXOJaTUQaEkkr7ntRQVhLbO1shIQEwTsgiHdgg4WFjURC7ZAgcd+4VoPoxUw74y08Z/HEwvez/uV/Tme+PZv553+Kr+qSZ6Wa5qSkk6qYk9c1bU6+r881J+vff5uTkn5V3cnl7p3q+OKafwOXv7gf7IUe91M9PNoyJ/8s6jQnJRVfG+ake6NAKYSFCMJCBGEhgrAQQViIICxEEBYiCAsRhIUIwkIEYSGCsBBRtO3RwaLEul3tDnNyXm3GnNzfdNe8U7hrSupsu3/YmNxPa9S/vNRnf7BD9rf1yX5iXGmVeLhMyd00wRMLEYSFCMJCBGEhgrAQQViIICxEEBYiCAsRhIUIwkIEYSGCsBBBWIgo6oOzzNFdj6f8detyj9p4Yh8Kssxe85m9pqRmxd620nK3rdxY7e7wkXT1nbvJZ2x2tzl5fnLCnBw05yRJ/s4pnliIICxEEBYiCAsRhIUIwkIEYSGCsBBBWIggLEQQFiIICxGEhYhihf2D9RL//BDpkZ3sIfuciRf2j+tt+/QOSS8Ld9mDbXfZHv/y0k379Sgf7ZfObLC/1s/28S2SfsrdiMETCxGEhQjCQgRhIYKwEEFYiCAsRBAWIggLEYSFCMJCBGEhgrAQUbS73eMAqhPucQCSdqrLnHyrP+bkLfvqG+1JSWfnuKdXXBx3T6/YrRJbBh7aWwY2r3U/1eob91O9a85J4uwG/HOEhQjCQgRhIYKwEEFYiCAsRBAWIggLEYSFCMJCBGEhgrAQUdXEpDl6ukyEp1vuMQNH7TXn25PLSuwt0N3xhjk5YC/bmnE3LEjaZu8ZmGfvWRiwv6zFrVIPF/egDZ5YiCAsRBAWIggLEYSFCMJCBGEhgrAQQViIICxEEBYiCAsRhIWI6j5VzdF7Ffu9CNLNlrsT4L39Fokxe7Li/gYvSUfsZc/ZWxZ2rCzxH3vtg3u7qzrdNV+4Ozb0YMg/kEH9I+4kTyxEEBYiCAsRhIUIwkIEYSGCsBBBWIggLEQQFiIICxGEhQjCQgRhIaJ6pm/aHH36usS6B+Que7twd63Yg6rbk5KOdbvT/fY7X9baO2EkzRTuxpVG073VNfbV946UOL/ExxMLEYSFCMJCBGEhgrAQQViIICxEEBYiCAsRhIUIwkIEYSGCsBBRnFo4xxyt/Bj3190i91CQYbm/ri/tcq/+2X0ziCQ1emebkx3f3NfD7LFP75A0Yh/g8WVdzR195Z/gUuL9MIX9ZfHEQgRhIYKwEEFYiCAsRBAWIggLEYSFCMJCBGEhgrAQQViIICxEVM/bexbWu+9GkaSz0+7P4CvsNRfY5yFstdeUJH/Pgr0PoFbiNSLq90d7ut3JVz/NwRP+1cvgiYUIwkIEYSGCsBBBWIggLEQQFiIICxGEhQjCQgRhIYKwEEFYiCjW7HZ/MC/u2y9mkEaH7IMWHrkHLUx1uicX9Db8kws0VnOXnWgOuDdQe+7fgJpT5uD21e6uiUvv3HdYbBoucc7E5C33nAmeWIggLEQQFiIICxGEhQjCQgRhIYKwEEFYiCAsRBAWIggLEYSFCMICAAAAAAAAAAAAAADAf+gvvpi0T8iT2bwAAAAASUVORK5CYII=\" style=\"image-rendering: pixelated;\">\n",
              "            </div><div style=\"margin-right:10px; margin-top: 4px;\">\n",
              "              9 <br/>\n",
              "              <img src=\"data:image/PNG;base64,iVBORw0KGgoAAAANSUhEUgAAAMgAAACrCAIAAACsWkQ9AAAEs0lEQVR4nO3dvW4cZQCF4fPtznrtZG1iJ5DYCPMXRREQGn4aGrpISDQUlFwALddBywVQUlAiuUtDk4QmEBRFLsB2YuPgDfbizf4Pt3CmOBXvUx99O7ZfTzWaLW+pyFNUm0tJwxvusYPH7rHbH7uf/sfdyp1K6xdm5vJo2DaXb7o/vSTt1+5v4MPLC3N5/8T99OrVD9ypdP7kF3PZ8g8FfISFCMJCBGEhgrAQQViIICxEEBYiCAsRhIUIwkIEYSGCsBBRvW1PHzU5d3Byy1ye64G5PLzrfvqLtvvAgqTO8Lq5LNWuudybuc9BSJpXG+by0cnf7pn2py+en9vbBrhjIYKwEEFYiCAsRBAWIggLEYSFCMJCBGEhgrAQQViIICxEEBYiCAsRZbn9qTmdz+/457YuXTSX03/cxzaWi/ssSqn9x0Y0veAuy9D9P7yiBo/NPFHXXG5qbC5nmprLk06Dm8ti6r6VhDsWIggLEYSFCMJCBGEhgrAQQViIICxEEBYiCAsRhIUIwkIEYSGiml08Nqezswbnro+H5vK5feakvulOy0P7VM2GH5nLXrlnLvv1un8Bkvv9JMf6zFy29ZO5LPYDC41wx0IEYSGCsBBBWIggLEQQFiIICxGEhQjCQgRhIYKwEEFYiCAsRJTukjutJ8U/d2V121yOBgfmsrflvpHh9GllLiWtXHO/H2V01HMPbf3rX0CxHy+YrNoXMHhhDm9vNnjPxc6hu+SOhQjCQgRhIYKwEEFYiCAsRBAWIggLEYSFCMJCBGEhgrAQQViIKKt6x5xOy+/+uZvrr5jL/b778ohaX5jLpdaP5lLSePGJuVy0fzaXqw2eGLC/Q0JaW94wl/1R31zOddv+fNXaMZfcsRBBWIggLEQQFiIICxGEhQjCQgRhIYKwEEFYiCAsRBAWIggLEaVac19zUJ257ziQNFtrm8v2mfvqgvFLl9wzTxt8i8bV99xHEY5/WzGXGxr7F/BM7p+g15qYy+nCvdQr77tveZB08MBdcsdCBGEhgrAQQViIICxEEBYiCAsRhIUIwkIEYSGCsBBBWIggLEQQFiKKn1bL/mYOSb0l97GZ84n71MpauWouT+u/zKWkWl+ay5Xyg33oLf8ChtWv7tR+cKnr/vo1nb/uTqWF/jSX3LEQQViIICxEEBYiCAsRhIUIwkIEYSGCsBBBWIggLEQQFiIICxHlja473Zss++d+3huZy52Be2av415Af9rgK0fqG+53jrQfv+yeqWf+Bcztf2//NtCV+7u6/O7QPlUHD90ldyxEEBYiCAsRhIUIwkIEYSGCsBBBWIggLEQQFiIICxGEhQjCQkQpum5OO61d/9ybi6/N5W7rO3M56Wyby3q8Zy4ldfStuZyVb8zlov7Kv4BK37vH2mfar27QTK/ZW821by65YyGCsBBBWIggLEQQFiIICxGEhQjCQgRhIYKwEEFYiCAsRBAWIkoJHXzNHdZH9pn2uyPaowY/1nyrNpetp+6Ziy3/86VDd1j5Ty3U7tsrZqvukZJkv2iDOxYiCAsRhIUIwkIEYSGCsBBBWIggLEQQFiIICxGEhQjCQgRhIYKwAAAAAAAAAAAAAAAA8D/0H+X+xcaqPBrSAAAAAElFTkSuQmCC\" style=\"image-rendering: pixelated;\">\n",
              "            </div></div>"
            ],
            "text/plain": [
              "<IPython.core.display.HTML object>"
            ]
          },
          "metadata": {
            "tags": []
          }
        }
      ]
    },
    {
      "cell_type": "markdown",
      "metadata": {
        "id": "QO5RLMGvljDG",
        "colab_type": "text"
      },
      "source": [
        "# NMF on attributions with ```score_fn = tf.reduce_max```\n",
        "Most of the visualzations are 0. Maybe I'm doing something wrong?"
      ]
    },
    {
      "cell_type": "code",
      "metadata": {
        "id": "H6VZnLevj9X7",
        "colab_type": "code",
        "outputId": "312003ff-ce07-4e6e-86e1-d19c74dbd52f",
        "colab": {
          "base_uri": "https://localhost:8080/",
          "height": 701
        }
      },
      "source": [
        "score_fn = tf.reduce_max\n",
        "attr = get_attr(model, output_layer_name, hidden_layer_name, some_observations, integrate_steps=10, score_fn=score_fn)\n",
        "reduced = reduce_and_norm(attr)\n",
        "show_with_obs(some_observations, reduced, 10)"
      ],
      "execution_count": 50,
      "outputs": [
        {
          "output_type": "stream",
          "text": [
            "normalize_by 0.0\n",
            "Time left in episode\n"
          ],
          "name": "stdout"
        },
        {
          "output_type": "display_data",
          "data": {
            "text/html": [
              "<div style=\"display: flex; flex-direction: row;\"><div style=\"margin-right:10px; margin-top: 4px;\">\n",
              "              0 <br/>\n",
              "              <img src=\"data:image/PNG;base64,iVBORw0KGgoAAAANSUhEUgAAAMgAAACvCAAAAACdws6gAAAA6klEQVR4nO3RsQ2AMBAEQUwttETdtERKAZY8WDvZZ7f68Ry/dX+Pc9WK2QrRFKIpRFOIphDNNiHjWr1gkm0+UoimEE0hmkI0hWgK0RSiKURTiKYQTSGaQjSFaArRFKIpRFOIphBNIZpCNIVoCtEUoilEU4imEE0hmkI0hWgK0RSiKURTiKYQTSGaQjSFaArRFKIpRFOIphBNIZpCNIVoCtEUoilEU4imEE0hmkI0hWgK0RSiKURTiKYQTSGaQjSFaArRFKIpRFOIphBNIZpCNIVoCtEUoilEU4imEE0hmkI0hWgK0RSiKUTzAmR3AqXm7GGvAAAAAElFTkSuQmCC\" style=\"image-rendering: pixelated;\">\n",
              "            </div><div style=\"margin-right:10px; margin-top: 4px;\">\n",
              "              1 <br/>\n",
              "              <img src=\"data:image/PNG;base64,iVBORw0KGgoAAAANSUhEUgAAAMgAAACvCAAAAACdws6gAAAA7klEQVR4nO3bMQqAMBAAQRU/7Gd9j62tGMgQdvrLsVyd/d6GucY99d0xc/lIhWgK0RSiKURTiKYQTSGaQjSFaArRFKIpRFOIphBNIZpCNIVoCtEUoilEU4imEE0hmkI0hWgK0RSiKURTiKYQzTIh58/5qV8t3pa5SCGaQjSFaArRFKIpRFOIphBNIZpCNIVoCtEUoilEU4imEE0hmkI0hWgK0RSiKURTiKYQTSGaQjSFaArRFKIpRFOIphBNIZpCNIVoCtEUoilEU4imEE0hmkI0hWgK0RSiKURTiKYQTSGaQjSFaArRFKIpRFOI5gFNqgMYVp4//AAAAABJRU5ErkJggg==\" style=\"image-rendering: pixelated;\">\n",
              "            </div><div style=\"margin-right:10px; margin-top: 4px;\">\n",
              "              2 <br/>\n",
              "              <img src=\"data:image/PNG;base64,iVBORw0KGgoAAAANSUhEUgAAAMgAAACvCAAAAACdws6gAAAA6ElEQVR4nO3RQQ2AMAAEQYoWbCMGZ3wR0KRDs6PgNjeu4+M+futcPWCWQjSFaArRFKIpRFOIphBNIZpCNIVoCtEUoilEU4imEE0hmkI0hWgK0RSiKURTiKYQTSGaQjSFaArRFKIpRFOIphBNIZpCNIVoCtEUoilEU4imEE0hmkI0hWgK0RSiKURTiKYQTSGaQjSFaArRFKIpRFOIphBNIZpCNIVoCtEUoilEs03IeFYvmGSbRwrRFKIpRFOIphBNIZpCNIVoCtEUoilEU4imEE0hmkI0hWgK0RSiKURTiKYQTSGaQjSFaF6CyQLf6AfiXAAAAABJRU5ErkJggg==\" style=\"image-rendering: pixelated;\">\n",
              "            </div><div style=\"margin-right:10px; margin-top: 4px;\">\n",
              "              3 <br/>\n",
              "              <img src=\"data:image/PNG;base64,iVBORw0KGgoAAAANSUhEUgAAAMgAAACvCAAAAACdws6gAAAA7UlEQVR4nO3RAQ2AMAwAQUbwiCXcYQkTAy7Ln4C2n457W8P+9wGzFKIpRFOIphBNIZplQo6vF14vzV3mI4VoCtEUoilEU4hmnH9fMMkyHylEU4imEE0hmkI0hWgK0RSiKURTiKYQTSGaQjSFaArRFKIpRFOIphBNIZpCNIVoCtEUoilEU4imEE0hmkI0hWgK0RSiKURTiKYQTSGaQjSFaArRFKIpRFOIphBNIZpCNIVoCtEUoilEU4imEE0hmkI0hWgK0RSiKURTiKYQTSGaQjSFaArRFKIpRFOIphBNIZpCNIVoCtEUoilEU4jmAYe6Aw2k03G8AAAAAElFTkSuQmCC\" style=\"image-rendering: pixelated;\">\n",
              "            </div><div style=\"margin-right:10px; margin-top: 4px;\">\n",
              "              4 <br/>\n",
              "              <img src=\"data:image/PNG;base64,iVBORw0KGgoAAAANSUhEUgAAAMgAAACvCAAAAACdws6gAAAA8ElEQVR4nO3RwQmAQBAEQU9MxzTMPwvT8GcCCtccVf+FaXbc2xr22QP+IqRGSI2QGiE1QmqE1AipEVIjpEZIjZAaITVCaoTUCKkRUiOkRkiNkBohNUJqhNQIqRFSc8we8Lq+nS/zESE1QmqE1AipEVKzTMg4Zy/4yTIfEVIjpEZIjZAaITVCaoTUCKkRUiOkRkiNkBohNUJqhNQIqRFSI6RGSI2QGiE1QmqE1AipEVIjpEZIjZAaITVCaoTUCKkRUiOkRkiNkBohNUJqhNQIqRFSI6RGSI2QGiE1QmqE1AipEVIjpEZIjZAaITVCaoTUPBLkArlhyvhOAAAAAElFTkSuQmCC\" style=\"image-rendering: pixelated;\">\n",
              "            </div><div style=\"margin-right:10px; margin-top: 4px;\">\n",
              "              5 <br/>\n",
              "              <img src=\"data:image/PNG;base64,iVBORw0KGgoAAAANSUhEUgAAAMgAAACvCAAAAACdws6gAAAA70lEQVR4nO3dwQmAMBAAQRX7f9iM7fn1KwYyhJ3/5ViugOz3Nsw17qnvjpnLRypEU4imEE0hmkI0hWgK0RSiKURTiKYQTSGaQjSFaArRFKIpRFOIphBNIZpCNIVoCtEUoilEU4imEE0hmkI0hWgK0RSiKURTiKYQTSGaQjSFaArRFKIpRFOIphBNIZpCNIVoCtEUoilEU4imEE0hmkI0hWgK0RSiKURTiKYQTSGaQjTLhJw/56d+DPG2zEUK0RSiKURTiKYQTSGaQjSFaArRFKIpRFOIphBNIZpCNIVoCtEUoilEU4imEE0hmkI0hWgefvMDO0FKBKwAAAAASUVORK5CYII=\" style=\"image-rendering: pixelated;\">\n",
              "            </div><div style=\"margin-right:10px; margin-top: 4px;\">\n",
              "              6 <br/>\n",
              "              <img src=\"data:image/PNG;base64,iVBORw0KGgoAAAANSUhEUgAAAMgAAACvCAAAAACdws6gAAAA7UlEQVR4nO3aMQqAQAwAQRW/4pP9r7Wl3IHDsdMHsqTNfm1D7rHxeY6/F5ilEE0hmkI0hWgK0RSiKURTiKYQTSGaQjSFaArRFKIpRFOIphBNIZpCNIVoCtEUoilEU4jm/D7CPM29LHORQjSFaArRFKIpRFOIphBNIZpCNIVoCtEUoilEU4imEE0hmkI0hWgK0RSiKURTiKYQTSGaQjSFaArRFKIpRFOIphBNIZpCNIVoCtEUoilEU4imEE0hmkI0hWgK0RSiKURTiKYQTSGaQjSFaArRFKIpRFOIphBNIZpCNIVoCtEUoilEs0zIA/saAq88x1S1AAAAAElFTkSuQmCC\" style=\"image-rendering: pixelated;\">\n",
              "            </div><div style=\"margin-right:10px; margin-top: 4px;\">\n",
              "              7 <br/>\n",
              "              <img src=\"data:image/PNG;base64,iVBORw0KGgoAAAANSUhEUgAAAMgAAACvCAAAAACdws6gAAAA70lEQVR4nO3RwQmAQBAEQU9My0j9Gak/E1C45qj6L0yz497WsM8e8BchNUJqhNQIqRFSI6RGSI2QGiE1QmqE1AipEVIjpEZIjZAaITVCaoTUCKkRUiOkRkiNkJpj9oDX9e18mY8IqRFSI6RGSI2QmmVCxjl7wU+W+YiQGiE1QmqE1AipEVIjpEZIjZAaITVCaoTUCKkRUiOkRkiNkBohNUJqhNQIqRFSI6RGSI2QGiE1QmqE1AipEVIjpEZIjZAaITVCaoTUCKkRUiOkRkiNkBohNUJqhNQIqRFSI6RGSI2QGiE1QmqE1AipEVIjpOYB8c0C2doAMZgAAAAASUVORK5CYII=\" style=\"image-rendering: pixelated;\">\n",
              "            </div><div style=\"margin-right:10px; margin-top: 4px;\">\n",
              "              8 <br/>\n",
              "              <img src=\"data:image/PNG;base64,iVBORw0KGgoAAAANSUhEUgAAAMgAAACvCAAAAACdws6gAAAA7UlEQVR4nO3RiQ2AQAgAQc/Yfxnapk34TMhuAcCEtbYZ7X8f8FRBtIJoBdEKohVEK4hWEK0gWkG0gmgF0QqiFUQriFYQrSBaQbSCaAXRCqIVRCuIVhCtIFpBtIJoBdEKohVEK4hWEK0gWkG0gmgF0QqiNQZyfL3wfGnumI8E0QqiFUQriFYQrTGQdf19wUON+UgQrSBaQbSCaAXRCqIVRCuIVhCtIFpBtIJoBdEKohVEK4hWEK0gWkG0gmgF0QqiFUQriFYQrSBaQbSCaAXRCqIVRCuIVhCtIFpBtIJoBdEKohVEK4hWEK0gWmMgN5NFAq20pHwJAAAAAElFTkSuQmCC\" style=\"image-rendering: pixelated;\">\n",
              "            </div><div style=\"margin-right:10px; margin-top: 4px;\">\n",
              "              9 <br/>\n",
              "              <img src=\"data:image/PNG;base64,iVBORw0KGgoAAAANSUhEUgAAAMgAAACvCAAAAACdws6gAAAA7UlEQVR4nO3dsQ2AMAwAQUDsX7EFS9KmD1JO0V9vxS8PkPM9EM/c+PXPFusVoilEU4imEE0hmkI0hWgK0RSiKURTiKYQTSGaQjSFaArRFKIpRFOIphBNIZpCNIVoCtEUoilEU4imEE0hmkI0hWgK0RSiKURTiKYQTSGaQjSFaArRFKIpRFOIphBNIZpCNIVoCtEUoilEU4imEE0hmkI0hWgK0RSiKURTiKYQTSGaQjSFaArRFKIpRFOIZpuQe+nrk59wjba5SCGaQjSFaArRFKIpRFOIphBNIZpCNIVoCtEUoilEU4imEE0hmkI0H6DIAzMZTyDiAAAAAElFTkSuQmCC\" style=\"image-rendering: pixelated;\">\n",
              "            </div></div>"
            ],
            "text/plain": [
              "<IPython.core.display.HTML object>"
            ]
          },
          "metadata": {
            "tags": []
          }
        },
        {
          "output_type": "stream",
          "text": [
            "Color channels (vertical stripes are 'apples'\n"
          ],
          "name": "stdout"
        },
        {
          "output_type": "display_data",
          "data": {
            "text/html": [
              "<div style=\"display: flex; flex-direction: row;\"><div style=\"margin-right:10px; margin-top: 4px;\">\n",
              "              0 <br/>\n",
              "              <img src=\"data:image/PNG;base64,iVBORw0KGgoAAAANSUhEUgAAAMgAAACvCAIAAAA3ywYrAAACnElEQVR4nO3dsW1UURBAURZtbJG6C5fgAiwLCiDFDbgMGiB2BUj05JQOoAGCjzT3//ftc+LVeC1dvWQ02svn+5sPG1x+v2z52BZ/Pn2d+nMLjtoy5z2M+rjlQ/C/hEVCWCSERUJYJIRFQlgkhEVCWCSERUJYJIRF4nr0F8jtvH897/p8dpQXi4SwSAiLhLBICIuEsEgIi4SwSAiLhLBICIvEdf8t0s4G/8FBa16ZOlhldcIiISwSwiIhLBLCIiEsEsIiISwSwiIhLBLCInE99aZzzVE7c7DKOyIsEsIiISwSwiIhLBLCIiEsEsIiISwSwiJxwMHq2x41uJrcaM2FqReLhLBICIuEsEgIi4SwSAiLhLBICIuEsEgIi4SwSDhYHR513vX57CgvFglhkRAWCWGREBYJYZEQFglhkRAWCWGREBYJB6vDo8675Zwd5cUiISwSwiIhLBLCIiEsEsIiISwSwiIhLBLCIiEsEg5Wh0edd30+O8qLRUJYJIRFQlgkhEVCWCSERUJYJIRFQlgkhEXi8uXu55bPrbmQ2nnUoAW3nLOjvFgkhEVCWCSERUJYJIRFQlgkhEVCWCSERUJYJCbvCgetuSYbdN6FqbtCjiQsEsIiISwSwiIhLBLCIiEsEsIiISwSwiIhLBKTv7C60eC6d8H965rrcwervBHCIiEsEsIiISwSwiIhLBLCIiEsEsIiISwSB/wQ5hbnXZOd+srUwSqrExYJYZEQFglhkRAWCWGREBYJYZEQFglhkRAWicvRX+DfHuZGfbu9nRr1+Po6NWrQw4/vU6N+PT1PjfJikRAWCWGREBYJYZEQFglhkRAWCWGREBYJYZEQFglhkRAWCWGREBYJYZEQFglhkRAWCWGREBYJYZEQFom/rsoAu86IKB8AAAAASUVORK5CYII=\" style=\"image-rendering: pixelated;\">\n",
              "            </div><div style=\"margin-right:10px; margin-top: 4px;\">\n",
              "              1 <br/>\n",
              "              <img src=\"data:image/PNG;base64,iVBORw0KGgoAAAANSUhEUgAAAMgAAACvCAIAAAA3ywYrAAAChElEQVR4nO3csW0UQBBAUZ9xBWRuxEhUQEAdlIGQY1MA0AY9OaMDJJfgRZp/7Mrvxae5C742Gc1dPn38dbPgz9+vr37m/btHo1bmvIVRtysfgn8lLBLCIiEsEsIiISwSwiIhLBLCIiEsEsIiISwSl4cP9yuf23PTueGoc9fns6O8WCSERUJYJIRFQlgkhEVCWCSERUJYJIRFQlgk7o5eSG046twt5+woLxYJYZEQFglhkRAWCWGREBYJYZEQFglhkRAWCWGRcLA6POrc9fnsKC8WCWGREBYJYZEQFglhkRAWCWGREBYJYZEQFgkHq8Ojzt1yzo7yYpEQFglhkRAWCWGREBYJYZEQFglhkRAWCWGREBaJTQ9WFy1+4woHq7OjvFgkhEVCWCSERUJYJIRFQlgkhEVCWCSERUJYJM4+WF0x+KsG5+x5Zepgld0Ji4SwSAiLhLBICIuEsEgIi4SwSAiLhLBICIvEpgere44atOdS38EquxMWCWGREBYJYZEQFglhkRAWCWGREBYJYZE4+2B1w1GD/7d7fQ5W2Z2wSAiLhLBICIuEsEgIi4SwSAiLhLBICIvE3Z4XfOeOuvJ/6c5yV8juhEVCWCSERUJYJIRFQlgkhEVCWCSERUJYJIRFwsHq8Kjrr88HOVhld8IiISwSwiIhLBLCIiEsEsIiISwSwiIhLBIOVodH7bnlXORgld0Ji4SwSAiLhLBICIuEsEgIi4SwSAiLhLBICIvE5X//gJN8/vE0NerLt+9To34+P0+N+j01yItFRFgkhEVCWCSERUJYJIRFQlgkhEVCWCSERUJYJIRFQlgkhEVCWCSERUJYJIRFQlgkhEVCWCSERUJYJF4AxsEKQsJe9HsAAAAASUVORK5CYII=\" style=\"image-rendering: pixelated;\">\n",
              "            </div><div style=\"margin-right:10px; margin-top: 4px;\">\n",
              "              2 <br/>\n",
              "              <img src=\"data:image/PNG;base64,iVBORw0KGgoAAAANSUhEUgAAAMgAAACvCAIAAAA3ywYrAAACpklEQVR4nO3dsW1UQRRAURat3INzYiqhCDIXAGVAAaYM5CZIIXXkxCWQ0gASg/Tu7h/7nPjr7V/papKn2T39+Pj0ZsH7T+/++czPr48ve9SKxY9bsfhKK594+VFvVx6C/yUsEsIiISwSwiIhLBLCIiEsEsIiISwSwiIhLBLnY246B13+C67YdxO/OMqJRUJYJIRFQlgkhEVCWCSERUJYJIRFQlgkhEXivPVCasWF3+qYu1cXVnkhhEVCWCSERUJYJIRFQlgkhEVCWCSERUJYJIRF4vT7183Kc8fcdB5w1NZLfRdWOTphkRAWCWGREBYJYZEQFglhkRAWCWGREBaJk39YnR2175ZzdpQTi4SwSAiLhLBICIuEsEgIi4SwSAiLhLBICIuEsEi4sDo8at/1+ewoJxYJYZEQFglhkRAWCWGREBYJYZEQFglhkRAWickLq4P2XZPtu+WcHeXEIiEsEsIiISwSwiIhLBLCIiEsEsIiISwSwiIhLBLnwVmL694V++5f912fz45yYpEQFglhkRAWCWGREBYJYZEQFglhkRAWCWGRmNwVLjrmbsuF1dlRTiwSwiIhLBLCIiEsEsIiISwSwiIhLBLCIiEsEpO7wsGF1CD3Cq8yyolFQlgkhEVCWCSERUJYJIRFQlgkhEVCWCSERUJYJK7w47aDm84Vx7ywOsiFVV4RYZEQFglhkRAWCWGREBYJYZEQFglhkRAWifPWv6B6wFGDq8lFLqzyigiLhLBICIuEsEgIi4SwSAiLhLBICIuEsEgIi8Tp2i/wdx/uv0yNerj7PDXq++3t1Khvz89Tox6mBo1yYpEQFglhkRAWCWGREBYJYZEQFglhkRAWCWGREBYJYZEQFglhkRAWCWGREBYJYZEQFglhkRAWCWGREBaJP5y2BfzGIIhwAAAAAElFTkSuQmCC\" style=\"image-rendering: pixelated;\">\n",
              "            </div><div style=\"margin-right:10px; margin-top: 4px;\">\n",
              "              3 <br/>\n",
              "              <img src=\"data:image/PNG;base64,iVBORw0KGgoAAAANSUhEUgAAAMgAAACvCAIAAAA3ywYrAAACnElEQVR4nO3dsW0UURRAUQZtE6YYMjLaQMRIRBRAYjcAdIEcuBxHuA1ShJD4wbuzM6tz4tHbCa5+8vR3tvvnp1cLfn34+t9n3vz4YtTKnNlRUz+3aPGtXk/9HvxJWCSERUJYJIRFQlgkhEVCWCSERUJYJIRFQlgkLvsvTW971DHX54sG38qJRUJYJIRFQlgkhEVCWCSERUJYJIRFQlgkhEVic2F1dtR5t5yzo5xYJIRFQlgkhEVCWCSERUJYJIRFQlgkhEVCWCSEReIyOOvUS9PbvrC6/ygnFglhkRAWCWGREBYJYZEQFglhkRAWCWGREBaJ7dO7tyvP7fyJzvOuyc675Zwd5cQiISwSwiIhLBLCIiEsEsIiISwSwiIhLBLCIiEsEge9sDrIhdWrjHJikRAWCWGREBYJYZEQFglhkRAWCWGREBYJYZG4nHohtcKF1auMcmKREBYJYZEQFglhkRAWCWGREBYJYZEQFglhkRAWicl/TT710tSF1dlRTiwSwiIhLBLCIiEsEsIiISwSwiIhLBLCIiEsEtv989PKczsvpBYd8Luv591yzo5yYpEQFglhkRAWCWGREBYJYZEQFglhkRAWCWGRuJx6IbXivJ/ndK8Q/iYsEsIiISwSwiIhLBLCIiEsEsIiISwSwiIhLBIH/cLqoJ23y4uOudR3YZWjExYJYZEQFglhkRAWCWGREBYJYZEQFglhkXBhddgxd68urHIjhEVCWCSERUJYJIRFQlgkhEVCWCSERUJYJIRFYrv2C/zbz7u7qVHfX16mRj1ODRr1/tvD1KjHj5+nRjmxSAiLhLBICIuEsEgIi4SwSAiLhLBICIuEsEgIi4SwSAiLhLBICIuEsEgIi4SwSAiLhLBICIuEsEgIi8Rv3LsGOn2LGYsAAAAASUVORK5CYII=\" style=\"image-rendering: pixelated;\">\n",
              "            </div><div style=\"margin-right:10px; margin-top: 4px;\">\n",
              "              4 <br/>\n",
              "              <img src=\"data:image/PNG;base64,iVBORw0KGgoAAAANSUhEUgAAAMgAAACvCAIAAAA3ywYrAAACkklEQVR4nO3dMW5TQRRAUYzcsydqtkCbdbAAsgDSIkVKT529ULlmBxRQpphIc/1n7HNq6/nLuppm/PRPzy+/Pwz48/nryMdGfHr9OWvUyFMNft2sUYM/1M2P+jjyIXgvYZEQFglhkRAWCWGREBYJYZEQFglhkRAWCWGROF//enLExKeaaME772VHObFICIuEsEgIi4SwSAiLhLBICIuEsEgIi4SwSJy3vpCaOGrEmquha45yYpEQFglhkRAWCWGREBYJYZEQFglhkRAWCWGREBaJmQurE+17/7r1TbyFVVYnLBLCIiEsEsIiISwSwiIhLBLCIiEsEsIiccDC6oh9r8n2veWcO8qJRUJYJIRFQlgkhEVCWCSERUJYJIRFQlgkhEVCWCQOeMPqbe++7nt9PneUE4uEsEgIi4SwSAiLhLBICIuEsEgIi4SwSAiLxN5vWB1hYfWQUU4sEsIiISwSwiIhLBLCIiEsEsIiISwSwiIhLBLCImFh9b8rL6xOtOb/A5xYJIRFQlgkhEVCWCSERUJYJIRFQlgkhEVCWCRmLqzevDUvTC2sckeERUJYJIRFQlgkhEVCWCSERUJYJIRFQlgkDtgrHLHvU9kr/MeJRUJYJIRFQlgkhEVCWCSERUJYJIRFQlgkhEVCWCQWfcPqRPu+YXWQhVXuiLBICIuEsEgIi4SwSAiLhLBICIuEsEgIi8SiL8Lcd/d1zbtXC6vcCGGREBYJYZEQFglhkRAWCWGREBYJYZEQFglhkTgd/QBv+/Lj+6xRD98eZ416ulxmjfo1a9CqnFgkhEVCWCSERUJYJIRFQlgkhEVCWCSERUJYJIRFQlgkhEVCWCSERUJYJIRFQlgkhEVCWCSERUJYJIRF4i+tCPmjt5OvhgAAAABJRU5ErkJggg==\" style=\"image-rendering: pixelated;\">\n",
              "            </div><div style=\"margin-right:10px; margin-top: 4px;\">\n",
              "              5 <br/>\n",
              "              <img src=\"data:image/PNG;base64,iVBORw0KGgoAAAANSUhEUgAAAMgAAACvCAIAAAA3ywYrAAAChklEQVR4nO3dwUkkYRCAUUcmBEE0jU1j8WQMYkhiDJ5k09g0di572Qw2AcEW6uueHt87D6WHj7r8FH24vf13tcDz299Pf/PyeGPUkjnfYdT1kh/BVwmLhLBICIuEsEgIi4SwSAiLhLBICIuEsEgIi8Rx1y+dZzhqv8/ns6NsLBLCIiEsEsIiISwSwiIhLBLCIiEsEsIiISwSBwers6P2+8o5O8rGIiEsEsIiISwSwiIhLBLCIiEsEsIiISwSwiIhLBIOVodH7ff5fHaUjUVCWCSERUJYJIRFQlgkhEVCWCSERUJYJIRF4vIPVhda+Bc/td9XztlRNhYJYZEQFglhkRAWCWGREBYJYZEQFglhkRAWCWGRcLD6Bft9iXewyoUQFglhkRAWCWGREBYJYZEQFglhkRAWCWGROK5/GroyX1jdZJSNRUJYJIRFQlgkhEVCWCSERUJYJIRFQlgkhEVCWCQ2OFhdmS+sbjLKxiIhLBLCIiEsEsIiISwSwiIhLBLCIiEsEsIicflfWHWwuskoG4uEsEgIi4SwSAiLhLBICIuEsEgIi4SwSAiLxHFw1uCD1CB3hZuMsrFICIuEsEgIi4SwSAiLhLBICIuEsEgIi4SwSAiLxOQj9PovnUs4WN1klI1FQlgkhEVCWCSERUJYJIRFQlgkhEVCWCSERWKDD2GufLA66DxPQ89zlI1FQlgkhEVCWCSERUJYJIRFQlgkhEVCWCSERUJYJA5b/wMf+zk36tfcqPe7u6lRv5/+TI16/XE/Ner0cJoaZWOREBYJYZEQFglhkRAWCWGREBYJYZEQFglhkRAWCWGREBYJYZEQFglhkRAWCWGREBYJYZEQFglhkRAWif+SzQn1tvqKYAAAAABJRU5ErkJggg==\" style=\"image-rendering: pixelated;\">\n",
              "            </div><div style=\"margin-right:10px; margin-top: 4px;\">\n",
              "              6 <br/>\n",
              "              <img src=\"data:image/PNG;base64,iVBORw0KGgoAAAANSUhEUgAAAMgAAACvCAIAAAA3ywYrAAACkUlEQVR4nO3dsU1cURBAURa2AjIawU0gyoAGiAkcuwH6cE9kdGDJDSDxkOYub+GcGI1+cPWS0bCH2183Fwuur35/+Ddv/56NWpnzE0ZdrvwRfJawSAiLhLBICIuEsEgIi4SwSAiLhLBICIuEsEgcB2ed9dJ0atTp1+eDBr/Ki0VCWCSERUJYJIRFQlgkhEVCWCSERUJYJIRFYnJXuOeV6aANV5OLoxY5WGV3wiIhLBLCIiEsEsIiISwSwiIhLBLCIiEsEsIicdxzaXr6USv2PFjdc5QXi4SwSAiLhLBICIuEsEgIi4SwSAiLhLBICIvEwS+szo4aXE0OXqL6hVW+CWGREBYJYZEQFglhkRAWCWGREBYJYZEQFglhkXCwOjzq9P/vecNN/IUXi4iwSAiLhLBICIuEsEgIi4SwSAiLhLBICIuEg9XhUee75Zwd5cUiISwSwiIhLBLCIiEsEsIiISwSwiIhLBLCIiEsEpMHq4P2/KpBG67PZ0d5sUgIi4SwSAiLhLBICIuEsEgIi4SwSAiLhLBIHE+/RVqx51cN2vPK1MEquxMWCWGREBYJYZEQFglhkRAWCWGREBYJYZHwQ5jDo876GNBdIbsTFglhkRAWCWGREBYJYZEQFglhkRAWCWGREBYJv7A6POp81+ezo7xYJIRFQlgkhEVCWCSERUJYJIRFQlgkhEVCWCS+/8Hqnjbccs6O8mKREBYJYZEQFglhkRAWCWGREBYJYZEQFglhkRAWicNXf8D77l7+TI36+/g0NWrQ3dyoh5ulk+MV96+vU6O8WCSERUJYJIRFQlgkhEVCWCSERUJYJIRFQlgkhEVCWCSERUJYJIRFQlgkhEVCWCSERUJYJIRFQlgkhEXiP3AA+EeDaNwnAAAAAElFTkSuQmCC\" style=\"image-rendering: pixelated;\">\n",
              "            </div><div style=\"margin-right:10px; margin-top: 4px;\">\n",
              "              7 <br/>\n",
              "              <img src=\"data:image/PNG;base64,iVBORw0KGgoAAAANSUhEUgAAAMgAAACvCAIAAAA3ywYrAAACfklEQVR4nO3bsUmDURiG0cTaBbKCa9hZuIZDWIiFpQM4hSDiFs6R1sJS0AUEI3wP5uI59c9LIA+3udzt2cf95gB37y8/fnN9emHqkJ3/MHVyyEfwW8IiISwSwiIhLBLCIiEsEsIiISwSwiIhLBLCIrF9fDs/5LvjvOk8wql1r89np5xYJIRFQlgkhEVCWCSERUJYJIRFQlgkhEVCWCS2HqzOTq17yzk75cQiISwSwiIhLBLCIiEsEsIiISwSwiIhLBLCIiEsEh6sDk+te30+O+XEIiEsEsIiISwSwiIhLBLCIiEsEsIiISwSwiLhwer81JR1L0w3TiwiwiIhLBLCIiEsEsIiISwSwiIhLBLCIiEsEsIi4cHq/NSUpW/inVgkhEVCWCSERUJYJIRFQlgkhEVCWCSERUJYJDxYHZ5a+pbTg1WOnbBICIuEsEgIi4SwSAiLhLBICIuEsEgIi4SwSHiwOjy17vX57JQTi4SwSAiLhLBICIuEsEgIi4SwSAiLhLBICIuEB6vDU+vecs5OObFICIuEsEgIi4SwSAiLhLBICIuEsEgIi4SwSHhXODy17i3n7JQTi4SwSAiLhLBICIuEsEgIi4SwSAiLhLBICIuEsEh4sDo8te71+eyUE4uEsEgIi4SwSAiLhLBICIuEsEgIi4SwSAiLhAerw1Pr3nLOTjmxSAiLhLBICIuEsEgIi4SwSAiLhLBICIuEsEgIi8T2r3/A9552u6mpq4eppc3+cj81dXPzOTX1ejv2Jz5PDTmxiAiLhLBICIuEsEgIi4SwSAiLhLBICIuEsEgIi4SwSAiLhLBICIuEsEgIi4SwSAiLhLBICIuEsEgIi8QX6C8m37jjBucAAAAASUVORK5CYII=\" style=\"image-rendering: pixelated;\">\n",
              "            </div><div style=\"margin-right:10px; margin-top: 4px;\">\n",
              "              8 <br/>\n",
              "              <img src=\"data:image/PNG;base64,iVBORw0KGgoAAAANSUhEUgAAAMgAAACvCAIAAAA3ywYrAAACgElEQVR4nO3bsUlEQRhG0V3ZUAswth2xDTMjyzDSyDZkW7EGC9ACbEBwhf+yb/Cc+PHxgsskw+xf3m92J7j6evj1m8/LZ1On7PyHqYtTPoK/EhYJYZEQFglhkRAWCWGREBYJYZEQFglhkRAWicPSN50bnFr3+nx2yolFQlgkhEVCWCSERUJYJIRFQlgkhEVCWCSEReKw9IXUBqfWveWcnXJikRAWCWGREBYJYZEQFglhkRAWCWGREBYJYZEQFgkPVoen1r0+n51yYpEQFglhkRAWCWGREBYJYZEQFglhkRAWCWGR8GB1eGrdW87ZKScWCWGREBYJYZEQFglhkRAWCWGREBYJYZEQFglhkfBgdXhq3evz2SknFglhkRAWCWGREBYJYZEQFglhkRAWCWGREBYJD1aHp9a95ZydcmKREBYJYZEQFglhkRAWCWGREBYJYZEQFglhkRAWCQ9Wh6fWvT6fnXJikRAWCWGREBYJYZEQFglhkRAWCWGREBYJYZHwYHV4at1bztkpJxYJYZEQFglhkRAWCWGREBYJYZEQFglhkRAWCe8Kh6fWveWcnXJikRAWCWGREBYJYZEQFglhkRAWCWGREBYJYZEQFon9y/vNKd9t86Zzg1PbvD4f5MEq5yQsEsIiISwSwiIhLBLCIiEsEsIiISwSwiLhwerw1DZvOQd5sMo5CYuEsEgIi4SwSAiLhLBICIuEsEgIi4SwSAiLxP7cP/Cz29enqanj/ePU1O3U0G53nJt6u76emrr7+JiacmKREBYJYZEQFglhkRAWCWGREBYJYZEQFglhkRAWCWGREBYJYZEQFglhkRAWCWGREBYJYZEQFglhkRAWiW+0MSJzqtu1YAAAAABJRU5ErkJggg==\" style=\"image-rendering: pixelated;\">\n",
              "            </div><div style=\"margin-right:10px; margin-top: 4px;\">\n",
              "              9 <br/>\n",
              "              <img src=\"data:image/PNG;base64,iVBORw0KGgoAAAANSUhEUgAAAMgAAACvCAIAAAA3ywYrAAAClUlEQVR4nO3dsW1UURBA0b9om9iYbpBTWoACoABSWrBLIEMWFdAGoftwQAPP0lz7fTgn/ho5uJpk9LyX2/eHY8iPPx9WPvv4/tc/PGplzv8w6t3KR/BSwiIhLBLCIiEsEsIiISwSwiIhLBLCIiEsEsIicfn96Wlq1qmPplOjzns+nx1lY5EQFglhkRAWCWGREBYJYZEQFglhkRAWCWGRuC5+t+dBasNRi6fJQRseTA8bi4iwSAiLhLBICIuEsEgIi4SwSAiLhLBICIuEsEhcz/s0dM9RgzfvRRte4g8bi4iwSAiLhLBICIuEsEgIi4SwSAiLhLBICIvE6j+33fMgteGo8145Z0fZWCSERUJYJIRFQlgkhEVCWCSERUJYJIRFQlgkhEXCg9UXjBq04fl8dpSNRUJYJIRFQlgkhEVCWCSERUJYJIRFQlgkhEXieuqD1J6jXtmet1cbi4SwSAiLhLBICIuEsEgIi4SwSAiLhLBICIuEsEh4sDo8yi+s/mVjkRAWCWGREBYJYZEQFglhkRAWCWGREBYJYZHwC6vDo8575ZwdZWOREBYJYZEQFglhkRAWCWGREBYJYZEQFglhkfCucHjUea+cs6NsLBLCIiEsEsIiISwSwiIhLBLCIiEsEsIiISwSwiKx6YPVRYM/eerB6uwoG4uEsEgIi4SwSAiLhLBICIuEsEgIi4SwSAiLxHVw1usfpFZ4sPomo2wsEsIiISwSwiIhLBLCIiEsEsIiISwSwiIhLBLCInF56z8g9/N2mxp1/+3L1KjHz1+nRt1NDTqOx7lRNhYJYZEQFglhkRAWCWGREBYJYZEQFglhkRAWCWGREBYJYZEQFglhkRAWCWGREBYJYZEQFglhkRAWCWGReAbQjA0DgwbegQAAAABJRU5ErkJggg==\" style=\"image-rendering: pixelated;\">\n",
              "            </div></div>"
            ],
            "text/plain": [
              "<IPython.core.display.HTML object>"
            ]
          },
          "metadata": {
            "tags": []
          }
        },
        {
          "output_type": "stream",
          "text": [
            "Visualization\n"
          ],
          "name": "stdout"
        },
        {
          "output_type": "display_data",
          "data": {
            "text/html": [
              "<div style=\"display: flex; flex-direction: row;\"><div style=\"margin-right:10px; margin-top: 4px;\">\n",
              "              0 <br/>\n",
              "              <img src=\"data:image/PNG;base64,iVBORw0KGgoAAAANSUhEUgAAAMgAAACrCAIAAACsWkQ9AAAAeklEQVR4nO3BMQEAAADCoPVPbQo/oAAAAAAAAAAAAAAAAAAAAAAAAAAAAAAAAAAAAAAAAAAAAAAAAAAAAAAAAAAAAAAAAAAAAAAAAAAAAAAAAAAAAAAAAAAAAAAAAAAAAAAAAAAAAAAAAAAAAAAAAAAAAAAAAAAAAOBikYIAAXS1NDgAAAAASUVORK5CYII=\" style=\"image-rendering: pixelated;\">\n",
              "            </div><div style=\"margin-right:10px; margin-top: 4px;\">\n",
              "              1 <br/>\n",
              "              <img src=\"data:image/PNG;base64,iVBORw0KGgoAAAANSUhEUgAAAMgAAACrCAIAAACsWkQ9AAAAeklEQVR4nO3BMQEAAADCoPVPbQo/oAAAAAAAAAAAAAAAAAAAAAAAAAAAAAAAAAAAAAAAAAAAAAAAAAAAAAAAAAAAAAAAAAAAAAAAAAAAAAAAAAAAAAAAAAAAAAAAAAAAAAAAAAAAAAAAAAAAAAAAAAAAAAAAAAAAAOBikYIAAXS1NDgAAAAASUVORK5CYII=\" style=\"image-rendering: pixelated;\">\n",
              "            </div><div style=\"margin-right:10px; margin-top: 4px;\">\n",
              "              2 <br/>\n",
              "              <img src=\"data:image/PNG;base64,iVBORw0KGgoAAAANSUhEUgAAAMgAAACrCAIAAACsWkQ9AAAAeklEQVR4nO3BMQEAAADCoPVPbQo/oAAAAAAAAAAAAAAAAAAAAAAAAAAAAAAAAAAAAAAAAAAAAAAAAAAAAAAAAAAAAAAAAAAAAAAAAAAAAAAAAAAAAAAAAAAAAAAAAAAAAAAAAAAAAAAAAAAAAAAAAAAAAAAAAAAAAOBikYIAAXS1NDgAAAAASUVORK5CYII=\" style=\"image-rendering: pixelated;\">\n",
              "            </div><div style=\"margin-right:10px; margin-top: 4px;\">\n",
              "              3 <br/>\n",
              "              <img src=\"data:image/PNG;base64,iVBORw0KGgoAAAANSUhEUgAAAMgAAACrCAIAAACsWkQ9AAAAeklEQVR4nO3BMQEAAADCoPVPbQo/oAAAAAAAAAAAAAAAAAAAAAAAAAAAAAAAAAAAAAAAAAAAAAAAAAAAAAAAAAAAAAAAAAAAAAAAAAAAAAAAAAAAAAAAAAAAAAAAAAAAAAAAAAAAAAAAAAAAAAAAAAAAAAAAAAAAAOBikYIAAXS1NDgAAAAASUVORK5CYII=\" style=\"image-rendering: pixelated;\">\n",
              "            </div><div style=\"margin-right:10px; margin-top: 4px;\">\n",
              "              4 <br/>\n",
              "              <img src=\"data:image/PNG;base64,iVBORw0KGgoAAAANSUhEUgAAAMgAAACrCAIAAACsWkQ9AAAAeklEQVR4nO3BMQEAAADCoPVPbQo/oAAAAAAAAAAAAAAAAAAAAAAAAAAAAAAAAAAAAAAAAAAAAAAAAAAAAAAAAAAAAAAAAAAAAAAAAAAAAAAAAAAAAAAAAAAAAAAAAAAAAAAAAAAAAAAAAAAAAAAAAAAAAAAAAAAAAOBikYIAAXS1NDgAAAAASUVORK5CYII=\" style=\"image-rendering: pixelated;\">\n",
              "            </div><div style=\"margin-right:10px; margin-top: 4px;\">\n",
              "              5 <br/>\n",
              "              <img src=\"data:image/PNG;base64,iVBORw0KGgoAAAANSUhEUgAAAMgAAACrCAIAAACsWkQ9AAAAeklEQVR4nO3BMQEAAADCoPVPbQo/oAAAAAAAAAAAAAAAAAAAAAAAAAAAAAAAAAAAAAAAAAAAAAAAAAAAAAAAAAAAAAAAAAAAAAAAAAAAAAAAAAAAAAAAAAAAAAAAAAAAAAAAAAAAAAAAAAAAAAAAAAAAAAAAAAAAAOBikYIAAXS1NDgAAAAASUVORK5CYII=\" style=\"image-rendering: pixelated;\">\n",
              "            </div><div style=\"margin-right:10px; margin-top: 4px;\">\n",
              "              6 <br/>\n",
              "              <img src=\"data:image/PNG;base64,iVBORw0KGgoAAAANSUhEUgAAAMgAAACrCAIAAACsWkQ9AAAAeklEQVR4nO3BMQEAAADCoPVPbQo/oAAAAAAAAAAAAAAAAAAAAAAAAAAAAAAAAAAAAAAAAAAAAAAAAAAAAAAAAAAAAAAAAAAAAAAAAAAAAAAAAAAAAAAAAAAAAAAAAAAAAAAAAAAAAAAAAAAAAAAAAAAAAAAAAAAAAOBikYIAAXS1NDgAAAAASUVORK5CYII=\" style=\"image-rendering: pixelated;\">\n",
              "            </div><div style=\"margin-right:10px; margin-top: 4px;\">\n",
              "              7 <br/>\n",
              "              <img src=\"data:image/PNG;base64,iVBORw0KGgoAAAANSUhEUgAAAMgAAACrCAIAAACsWkQ9AAAAeklEQVR4nO3BMQEAAADCoPVPbQo/oAAAAAAAAAAAAAAAAAAAAAAAAAAAAAAAAAAAAAAAAAAAAAAAAAAAAAAAAAAAAAAAAAAAAAAAAAAAAAAAAAAAAAAAAAAAAAAAAAAAAAAAAAAAAAAAAAAAAAAAAAAAAAAAAAAAAOBikYIAAXS1NDgAAAAASUVORK5CYII=\" style=\"image-rendering: pixelated;\">\n",
              "            </div><div style=\"margin-right:10px; margin-top: 4px;\">\n",
              "              8 <br/>\n",
              "              <img src=\"data:image/PNG;base64,iVBORw0KGgoAAAANSUhEUgAAAMgAAACrCAIAAACsWkQ9AAAAeklEQVR4nO3BMQEAAADCoPVPbQo/oAAAAAAAAAAAAAAAAAAAAAAAAAAAAAAAAAAAAAAAAAAAAAAAAAAAAAAAAAAAAAAAAAAAAAAAAAAAAAAAAAAAAAAAAAAAAAAAAAAAAAAAAAAAAAAAAAAAAAAAAAAAAAAAAAAAAOBikYIAAXS1NDgAAAAASUVORK5CYII=\" style=\"image-rendering: pixelated;\">\n",
              "            </div><div style=\"margin-right:10px; margin-top: 4px;\">\n",
              "              9 <br/>\n",
              "              <img src=\"data:image/PNG;base64,iVBORw0KGgoAAAANSUhEUgAAAMgAAACrCAIAAACsWkQ9AAAAeklEQVR4nO3BMQEAAADCoPVPbQo/oAAAAAAAAAAAAAAAAAAAAAAAAAAAAAAAAAAAAAAAAAAAAAAAAAAAAAAAAAAAAAAAAAAAAAAAAAAAAAAAAAAAAAAAAAAAAAAAAAAAAAAAAAAAAAAAAAAAAAAAAAAAAAAAAAAAAOBikYIAAXS1NDgAAAAASUVORK5CYII=\" style=\"image-rendering: pixelated;\">\n",
              "            </div></div>"
            ],
            "text/plain": [
              "<IPython.core.display.HTML object>"
            ]
          },
          "metadata": {
            "tags": []
          }
        }
      ]
    }
  ]
}