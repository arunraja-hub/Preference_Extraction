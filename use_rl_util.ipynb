{
  "nbformat": 4,
  "nbformat_minor": 0,
  "metadata": {
    "colab": {
      "name": "use_rl_util.ipynb",
      "provenance": [],
      "collapsed_sections": [
        "90PNjn6jNISz",
        "jwo7SrcOlbrv",
        "QO5RLMGvljDG"
      ],
      "machine_shape": "hm",
      "include_colab_link": true
    },
    "kernelspec": {
      "name": "python3",
      "display_name": "Python 3"
    },
    "accelerator": "GPU"
  },
  "cells": [
    {
      "cell_type": "markdown",
      "metadata": {
        "id": "view-in-github",
        "colab_type": "text"
      },
      "source": [
        "<a href=\"https://colab.research.google.com/github/arunraja-hub/Preference_Extraction/blob/master/use_rl_util.ipynb\" target=\"_parent\"><img src=\"https://colab.research.google.com/assets/colab-badge.svg\" alt=\"Open In Colab\"/></a>"
      ]
    },
    {
      "cell_type": "markdown",
      "metadata": {
        "id": "tW8LpDrW7pjM",
        "colab_type": "text"
      },
      "source": [
        "Uses RL util to visualise the nmf of activations and attributions. It saves the results of the attribution visualization to your Google drive."
      ]
    },
    {
      "cell_type": "markdown",
      "metadata": {
        "id": "9tAQ3OiTyBY0",
        "colab_type": "text"
      },
      "source": [
        "#Install and imports"
      ]
    },
    {
      "cell_type": "code",
      "metadata": {
        "id": "2qFyxgPWtOMF",
        "colab_type": "code",
        "outputId": "196b405d-4685-4a30-86d1-2f42a1bdb1b7",
        "colab": {
          "base_uri": "https://localhost:8080/",
          "height": 1000
        }
      },
      "source": [
        "%tensorflow_version 1.x\n",
        "\n",
        "!pip uninstall lucid -y\n",
        "!pip install git+https://github.com/tensorflow/lucid.git#egg=lucid\n",
        "\n",
        "!git clone https://github.com/arunraja-hub/Preference_Extraction.git\n",
        "\n",
        "!pip install tf-agents==0.3.0\n",
        "\n",
        "!pip uninstall tensorflow-probability -y\n",
        "!pip install tensorflow-probability==0.7.0\n",
        "\n",
        "!npm install -g svelte-cli@2.2.0\n",
        "\n",
        "import tensorflow as tf\n",
        "\n",
        "tf.compat.v1.disable_eager_execution()"
      ],
      "execution_count": 1,
      "outputs": [
        {
          "output_type": "stream",
          "text": [
            "TensorFlow 1.x selected.\n",
            "Uninstalling lucid-0.3.8:\n",
            "  Successfully uninstalled lucid-0.3.8\n",
            "Collecting lucid\n",
            "  Cloning https://github.com/tensorflow/lucid.git to /tmp/pip-install-lo5mvrg8/lucid\n",
            "  Running command git clone -q https://github.com/tensorflow/lucid.git /tmp/pip-install-lo5mvrg8/lucid\n",
            "Requirement already satisfied: numpy in /usr/local/lib/python3.6/dist-packages (from lucid) (1.18.2)\n",
            "Requirement already satisfied: scipy in /usr/local/lib/python3.6/dist-packages (from lucid) (1.4.1)\n",
            "Requirement already satisfied: scikit-learn in /usr/local/lib/python3.6/dist-packages (from lucid) (0.22.2.post1)\n",
            "Requirement already satisfied: umap-learn in /usr/local/lib/python3.6/dist-packages (from lucid) (0.4.1)\n",
            "Requirement already satisfied: nltk in /usr/local/lib/python3.6/dist-packages (from lucid) (3.2.5)\n",
            "Requirement already satisfied: ipython in /usr/local/lib/python3.6/dist-packages (from lucid) (5.5.0)\n",
            "Requirement already satisfied: pillow in /usr/local/lib/python3.6/dist-packages (from lucid) (7.0.0)\n",
            "Requirement already satisfied: future in /usr/local/lib/python3.6/dist-packages (from lucid) (0.16.0)\n",
            "Requirement already satisfied: decorator in /usr/local/lib/python3.6/dist-packages (from lucid) (4.4.2)\n",
            "Requirement already satisfied: pyopengl in /usr/local/lib/python3.6/dist-packages (from lucid) (3.1.5)\n",
            "Requirement already satisfied: filelock in /usr/local/lib/python3.6/dist-packages (from lucid) (3.0.12)\n",
            "Requirement already satisfied: cachetools in /usr/local/lib/python3.6/dist-packages (from lucid) (3.1.1)\n",
            "Requirement already satisfied: more-itertools in /usr/local/lib/python3.6/dist-packages (from lucid) (8.2.0)\n",
            "Requirement already satisfied: joblib>=0.11 in /usr/local/lib/python3.6/dist-packages (from scikit-learn->lucid) (0.14.1)\n",
            "Requirement already satisfied: numba!=0.47,>=0.46 in /usr/local/lib/python3.6/dist-packages (from umap-learn->lucid) (0.48.0)\n",
            "Requirement already satisfied: tbb>=2019.0 in /usr/local/lib/python3.6/dist-packages (from umap-learn->lucid) (2020.0.133)\n",
            "Requirement already satisfied: six in /usr/local/lib/python3.6/dist-packages (from nltk->lucid) (1.12.0)\n",
            "Requirement already satisfied: pexpect; sys_platform != \"win32\" in /usr/local/lib/python3.6/dist-packages (from ipython->lucid) (4.8.0)\n",
            "Requirement already satisfied: setuptools>=18.5 in /usr/local/lib/python3.6/dist-packages (from ipython->lucid) (46.1.3)\n",
            "Requirement already satisfied: simplegeneric>0.8 in /usr/local/lib/python3.6/dist-packages (from ipython->lucid) (0.8.1)\n",
            "Requirement already satisfied: prompt-toolkit<2.0.0,>=1.0.4 in /usr/local/lib/python3.6/dist-packages (from ipython->lucid) (1.0.18)\n",
            "Requirement already satisfied: traitlets>=4.2 in /usr/local/lib/python3.6/dist-packages (from ipython->lucid) (4.3.3)\n",
            "Requirement already satisfied: pygments in /usr/local/lib/python3.6/dist-packages (from ipython->lucid) (2.1.3)\n",
            "Requirement already satisfied: pickleshare in /usr/local/lib/python3.6/dist-packages (from ipython->lucid) (0.7.5)\n",
            "Requirement already satisfied: llvmlite<0.32.0,>=0.31.0dev0 in /usr/local/lib/python3.6/dist-packages (from numba!=0.47,>=0.46->umap-learn->lucid) (0.31.0)\n",
            "Requirement already satisfied: ptyprocess>=0.5 in /usr/local/lib/python3.6/dist-packages (from pexpect; sys_platform != \"win32\"->ipython->lucid) (0.6.0)\n",
            "Requirement already satisfied: wcwidth in /usr/local/lib/python3.6/dist-packages (from prompt-toolkit<2.0.0,>=1.0.4->ipython->lucid) (0.1.9)\n",
            "Requirement already satisfied: ipython-genutils in /usr/local/lib/python3.6/dist-packages (from traitlets>=4.2->ipython->lucid) (0.2.0)\n",
            "Building wheels for collected packages: lucid\n",
            "  Building wheel for lucid (setup.py) ... \u001b[?25l\u001b[?25hdone\n",
            "  Created wheel for lucid: filename=lucid-0.3.9-cp36-none-any.whl size=155742 sha256=e8b2ecc3dfbc59c54577a01313696c27638b9ee76493e3a16336cb0988fc3463\n",
            "  Stored in directory: /tmp/pip-ephem-wheel-cache-sy_yohd3/wheels/64/c2/51/7238e75f457453774587708b21cd3cf32f9a86456648688634\n",
            "Successfully built lucid\n",
            "Installing collected packages: lucid\n",
            "Successfully installed lucid-0.3.9\n",
            "Cloning into 'Preference_Extraction'...\n",
            "remote: Enumerating objects: 576, done.\u001b[K\n",
            "remote: Counting objects: 100% (576/576), done.\u001b[K\n",
            "remote: Compressing objects: 100% (565/565), done.\u001b[K\n",
            "remote: Total 576 (delta 43), reused 512 (delta 10), pack-reused 0\u001b[K\n",
            "Receiving objects: 100% (576/576), 20.82 MiB | 15.49 MiB/s, done.\n",
            "Resolving deltas: 100% (43/43), done.\n",
            "Collecting tf-agents==0.3.0\n",
            "\u001b[?25l  Downloading https://files.pythonhosted.org/packages/0e/a5/07aa82a3cd586d193b2f086b50a2fd0f48bd888ae204389f666eb178cfb3/tf_agents-0.3.0-py2.py3-none-any.whl (839kB)\n",
            "\u001b[K     |████████████████████████████████| 839kB 3.4MB/s \n",
            "\u001b[?25hRequirement already satisfied: tensorflow-probability>=0.6.0 in /tensorflow-1.15.2/python3.6 (from tf-agents==0.3.0) (0.7.0)\n",
            "Requirement already satisfied: numpy>=1.13.3 in /usr/local/lib/python3.6/dist-packages (from tf-agents==0.3.0) (1.18.2)\n",
            "Collecting gin-config==0.1.3\n",
            "\u001b[?25l  Downloading https://files.pythonhosted.org/packages/8c/be/c984b1c8a7ba1c385b32bf39c7a225cd9f713d49705898309d01b60fd0e7/gin_config-0.1.3-py3-none-any.whl (43kB)\n",
            "\u001b[K     |████████████████████████████████| 51kB 7.5MB/s \n",
            "\u001b[?25hRequirement already satisfied: six>=1.10.0 in /usr/local/lib/python3.6/dist-packages (from tf-agents==0.3.0) (1.12.0)\n",
            "Requirement already satisfied: absl-py>=0.6.1 in /usr/local/lib/python3.6/dist-packages (from tf-agents==0.3.0) (0.9.0)\n",
            "Requirement already satisfied: cloudpickle>=0.6.1 in /usr/local/lib/python3.6/dist-packages (from tensorflow-probability>=0.6.0->tf-agents==0.3.0) (1.3.0)\n",
            "Requirement already satisfied: decorator in /usr/local/lib/python3.6/dist-packages (from tensorflow-probability>=0.6.0->tf-agents==0.3.0) (4.4.2)\n",
            "Installing collected packages: gin-config, tf-agents\n",
            "  Found existing installation: gin-config 0.3.0\n",
            "    Uninstalling gin-config-0.3.0:\n",
            "      Successfully uninstalled gin-config-0.3.0\n",
            "Successfully installed gin-config-0.1.3 tf-agents-0.3.0\n",
            "Uninstalling tensorflow-probability-0.7.0:\n",
            "  Successfully uninstalled tensorflow-probability-0.7.0\n",
            "Collecting tensorflow-probability==0.7.0\n",
            "\u001b[?25l  Downloading https://files.pythonhosted.org/packages/3e/3a/c10b6c22320531c774402ac7186d1b673374e2a9d12502cbc8d811e4601c/tensorflow_probability-0.7.0-py2.py3-none-any.whl (981kB)\n",
            "\u001b[K     |████████████████████████████████| 983kB 3.3MB/s \n",
            "\u001b[?25hRequirement already satisfied: six>=1.10.0 in /usr/local/lib/python3.6/dist-packages (from tensorflow-probability==0.7.0) (1.12.0)\n",
            "Requirement already satisfied: numpy>=1.13.3 in /usr/local/lib/python3.6/dist-packages (from tensorflow-probability==0.7.0) (1.18.2)\n",
            "Requirement already satisfied: cloudpickle>=0.6.1 in /usr/local/lib/python3.6/dist-packages (from tensorflow-probability==0.7.0) (1.3.0)\n",
            "Requirement already satisfied: decorator in /usr/local/lib/python3.6/dist-packages (from tensorflow-probability==0.7.0) (4.4.2)\n",
            "Installing collected packages: tensorflow-probability\n",
            "  Found existing installation: tensorflow-probability 0.10.0rc0\n",
            "    Uninstalling tensorflow-probability-0.10.0rc0:\n",
            "      Successfully uninstalled tensorflow-probability-0.10.0rc0\n",
            "Successfully installed tensorflow-probability-0.7.0\n",
            "\u001b[K\u001b[?25h/tools/node/bin/svelte -> /tools/node/lib/node_modules/svelte-cli/bin.js\n",
            "+ svelte-cli@2.2.0\n",
            "added 2 packages from 1 contributor in 1.742s\n"
          ],
          "name": "stdout"
        }
      ]
    },
    {
      "cell_type": "code",
      "metadata": {
        "id": "ap5q8W9Mx8Yi",
        "colab_type": "code",
        "outputId": "bbb8b443-0168-400a-b98c-c5ba93d78135",
        "colab": {
          "base_uri": "https://localhost:8080/",
          "height": 71
        }
      },
      "source": [
        "import numpy as np\n",
        "\n",
        "from tf_agents.trajectories.time_step import TimeStep\n",
        "from tf_agents.specs.tensor_spec import TensorSpec\n",
        "from tf_agents.specs.tensor_spec import TensorSpec\n",
        "from tf_agents.specs.tensor_spec import BoundedTensorSpec\n",
        "from tf_agents.networks import q_network\n",
        "\n",
        "import lucid.modelzoo.vision_models as models\n",
        "from lucid.misc.io import show\n",
        "import lucid.misc.io.showing as showing\n",
        "from lucid.misc.channel_reducer import ChannelReducer\n",
        "import lucid.optvis.param as param\n",
        "import lucid.optvis.objectives as objectives\n",
        "import lucid.optvis.render as render\n",
        "from lucid.misc.io import show, load\n",
        "from lucid.misc.io.reading import read\n",
        "from lucid.misc.io.showing import _image_url\n",
        "import lucid.scratch.web.svelte as lucid_svelte\n",
        "from lucid.misc.gradient_override import gradient_override_map\n",
        "from lucid.scratch.rl_util import *\n",
        "\n",
        "\n",
        "import concurrent.futures\n",
        "import itertools\n",
        "import os\n",
        "import pickle\n",
        "import random\n",
        "import sys\n",
        "import time\n",
        "import joblib\n",
        "\n",
        "import numpy as np\n",
        "import io\n",
        "import collections\n",
        "\n",
        "import urllib.request\n",
        "from urllib.error import HTTPError"
      ],
      "execution_count": 2,
      "outputs": [
        {
          "output_type": "stream",
          "text": [
            "/usr/local/lib/python3.6/dist-packages/sklearn/utils/deprecation.py:144: FutureWarning: The sklearn.decomposition.base module is  deprecated in version 0.22 and will be removed in version 0.24. The corresponding classes / functions should instead be imported from sklearn.decomposition. Anything that cannot be imported from sklearn.decomposition is now part of the private API.\n",
            "  warnings.warn(message, FutureWarning)\n"
          ],
          "name": "stderr"
        }
      ]
    },
    {
      "cell_type": "markdown",
      "metadata": {
        "id": "ZAOsd5Ikw468",
        "colab_type": "text"
      },
      "source": [
        "# Read data"
      ]
    },
    {
      "cell_type": "code",
      "metadata": {
        "id": "RaQbLcupw4Pl",
        "colab_type": "code",
        "colab": {}
      },
      "source": [
        "class Trajectory(\n",
        "    collections.namedtuple('Trajectory', [\n",
        "        'step_type',\n",
        "        'observation',\n",
        "        'action',\n",
        "        'policy_info',\n",
        "        'next_step_type',\n",
        "        'reward',\n",
        "        'discount',\n",
        "    ])):\n",
        "  \"\"\"Stores the observation the agent saw and the action it took.\n",
        "      The rest of the attributes aren't used in this code.\"\"\"\n",
        "  __slots__ = ()\n",
        "\n",
        "class ListWrapper(object):\n",
        "  def __init__(self, list_to_wrap):\n",
        "    self._list = list_to_wrap\n",
        "\n",
        "  def as_list(self):\n",
        "    return self._list\n",
        "\n",
        "class RenameUnpickler(pickle.Unpickler):\n",
        "    def find_class(self, module, name):\n",
        "      if name == \"Trajectory\":\n",
        "        return Trajectory\n",
        "      if name == \"ListWrapper\":\n",
        "        return ListWrapper\n",
        "\n",
        "      return super(RenameUnpickler, self).find_class(module, name)\n",
        "\n",
        "def rename_load(s):\n",
        "    \"\"\"Helper function analogous to pickle.loads().\"\"\"\n",
        "    return RenameUnpickler(s, encoding='latin1').load()"
      ],
      "execution_count": 0,
      "outputs": []
    },
    {
      "cell_type": "code",
      "metadata": {
        "id": "EERbcpKTw7PU",
        "colab_type": "code",
        "colab": {}
      },
      "source": [
        "# Modified read trajectories functions to read files from local storage\n",
        "\n",
        "def load_file(full_path):\n",
        "    try:\n",
        "        with open(full_path, 'rb') as f:\n",
        "            data = rename_load(f)\n",
        "            return data\n",
        "    except:\n",
        "        return None\n",
        "    \n",
        "def all_load_data(base_path):\n",
        "    \n",
        "    executor = concurrent.futures.ThreadPoolExecutor(max_workers=100)\n",
        "    \n",
        "    futures = []\n",
        "    for i in range(5000):\n",
        "        full_path = os.path.join(base_path, \"ts\"+str(i)+\".pickle\")\n",
        "        future = executor.submit(load_file, full_path)\n",
        "        futures.append(future)\n",
        "    \n",
        "    raw_data = []\n",
        "    for future in concurrent.futures.as_completed(futures):\n",
        "        result = future.result()\n",
        "        if result:\n",
        "            raw_data.append(result)\n",
        "    \n",
        "    return raw_data\n",
        "\n",
        "\n",
        "all_raw_data = all_load_data(\"Preference_Extraction/data/simple_env_1/\")"
      ],
      "execution_count": 0,
      "outputs": []
    },
    {
      "cell_type": "code",
      "metadata": {
        "id": "0PRLS6J5xXfR",
        "colab_type": "code",
        "colab": {}
      },
      "source": [
        "all_observations = []\n",
        "ys = []\n",
        "\n",
        "for data in all_raw_data:\n",
        "  for i in range(data.observation.shape[0]):\n",
        "    obs = np.copy(data.observation[i])\n",
        "    y = data.policy_info['satisfaction'].as_list()[i] > -6\n",
        "\n",
        "    all_observations.append(np.array(obs))\n",
        "    ys.append(np.array(y))\n",
        "\n",
        "ys = np.array(ys)\n",
        "all_observations = np.array(all_observations)"
      ],
      "execution_count": 0,
      "outputs": []
    },
    {
      "cell_type": "code",
      "metadata": {
        "id": "WNQzZtnNoVfp",
        "colab_type": "code",
        "colab": {
          "base_uri": "https://localhost:8080/",
          "height": 34
        },
        "outputId": "fa255dce-d18a-4d49-e774-4332018d3663"
      },
      "source": [
        "print(ys.shape)"
      ],
      "execution_count": 6,
      "outputs": [
        {
          "output_type": "stream",
          "text": [
            "(23750,)\n"
          ],
          "name": "stdout"
        }
      ]
    },
    {
      "cell_type": "markdown",
      "metadata": {
        "id": "JMyJU71h2i1s",
        "colab_type": "text"
      },
      "source": [
        "# Load model and get nmf and acts"
      ]
    },
    {
      "cell_type": "code",
      "metadata": {
        "id": "ku9oLrycj8k0",
        "colab_type": "code",
        "outputId": "2c1661ea-e3fd-4a29-8732-26246e4f1b46",
        "colab": {
          "base_uri": "https://localhost:8080/",
          "height": 153
        }
      },
      "source": [
        "model = models.Model.load(\"Preference_Extraction/lucid_save_model.pb\")\n",
        "model.load_graphdef()"
      ],
      "execution_count": 7,
      "outputs": [
        {
          "output_type": "stream",
          "text": [
            "WARNING:tensorflow:From /usr/local/lib/python3.6/dist-packages/lucid/misc/io/reading.py:124: The name tf.gfile.Open is deprecated. Please use tf.io.gfile.GFile instead.\n",
            "\n"
          ],
          "name": "stdout"
        },
        {
          "output_type": "stream",
          "text": [
            "WARNING:tensorflow:From /usr/local/lib/python3.6/dist-packages/lucid/misc/io/reading.py:124: The name tf.gfile.Open is deprecated. Please use tf.io.gfile.GFile instead.\n",
            "\n"
          ],
          "name": "stderr"
        },
        {
          "output_type": "stream",
          "text": [
            "WARNING:tensorflow:From /usr/local/lib/python3.6/dist-packages/lucid/misc/io/loading.py:129: The name tf.GraphDef is deprecated. Please use tf.compat.v1.GraphDef instead.\n",
            "\n"
          ],
          "name": "stdout"
        },
        {
          "output_type": "stream",
          "text": [
            "WARNING:tensorflow:From /usr/local/lib/python3.6/dist-packages/lucid/misc/io/loading.py:129: The name tf.GraphDef is deprecated. Please use tf.compat.v1.GraphDef instead.\n",
            "\n"
          ],
          "name": "stderr"
        }
      ]
    },
    {
      "cell_type": "code",
      "metadata": {
        "id": "NXSNZhoOoRgW",
        "colab_type": "code",
        "colab": {}
      },
      "source": [
        "num_obs = 2000\n",
        "some_observations = all_observations[0:num_obs]\n",
        "some_ys = ys[0:num_obs]"
      ],
      "execution_count": 0,
      "outputs": []
    },
    {
      "cell_type": "code",
      "metadata": {
        "id": "oQsTsMgXW0Yp",
        "colab_type": "code",
        "colab": {}
      },
      "source": [
        "output_layer_name = \"QNetwork/dense/BiasAdd\"\n",
        "# hidden_layer_name = \"QNetwork/EncodingNetwork/EncodingNetwork/conv2d_1/Relu\"\n",
        "hidden_layer_name = \"QNetwork/EncodingNetwork/EncodingNetwork/conv2d/Relu\"\n",
        "num_features = 6"
      ],
      "execution_count": 0,
      "outputs": []
    },
    {
      "cell_type": "code",
      "metadata": {
        "id": "A-p_jevKWIRK",
        "colab_type": "code",
        "outputId": "cbf339f8-ca5e-4d16-937a-138c38387c90",
        "colab": {
          "base_uri": "https://localhost:8080/",
          "height": 221
        }
      },
      "source": [
        "nmf = LayerNMF(model, hidden_layer_name, some_observations, features=num_features, attr_layer_name=output_layer_name)"
      ],
      "execution_count": 10,
      "outputs": [
        {
          "output_type": "stream",
          "text": [
            "WARNING:tensorflow:From /usr/local/lib/python3.6/dist-packages/lucid/scratch/rl_util/attribution.py:26: The name tf.Session is deprecated. Please use tf.compat.v1.Session instead.\n",
            "\n"
          ],
          "name": "stdout"
        },
        {
          "output_type": "stream",
          "text": [
            "WARNING:tensorflow:From /usr/local/lib/python3.6/dist-packages/lucid/scratch/rl_util/attribution.py:26: The name tf.Session is deprecated. Please use tf.compat.v1.Session instead.\n",
            "\n"
          ],
          "name": "stderr"
        },
        {
          "output_type": "stream",
          "text": [
            "WARNING:tensorflow:From /usr/local/lib/python3.6/dist-packages/lucid/scratch/rl_util/attribution.py:27: The name tf.placeholder_with_default is deprecated. Please use tf.compat.v1.placeholder_with_default instead.\n",
            "\n"
          ],
          "name": "stdout"
        },
        {
          "output_type": "stream",
          "text": [
            "WARNING:tensorflow:From /usr/local/lib/python3.6/dist-packages/lucid/scratch/rl_util/attribution.py:27: The name tf.placeholder_with_default is deprecated. Please use tf.compat.v1.placeholder_with_default instead.\n",
            "\n"
          ],
          "name": "stderr"
        },
        {
          "output_type": "stream",
          "text": [
            "WARNING:tensorflow:From /usr/local/lib/python3.6/dist-packages/lucid/modelzoo/vision_base.py:192: The name tf.get_default_graph is deprecated. Please use tf.compat.v1.get_default_graph instead.\n",
            "\n"
          ],
          "name": "stdout"
        },
        {
          "output_type": "stream",
          "text": [
            "WARNING:tensorflow:From /usr/local/lib/python3.6/dist-packages/lucid/modelzoo/vision_base.py:192: The name tf.get_default_graph is deprecated. Please use tf.compat.v1.get_default_graph instead.\n",
            "\n"
          ],
          "name": "stderr"
        }
      ]
    },
    {
      "cell_type": "code",
      "metadata": {
        "id": "iUdoHOJJOTW3",
        "colab_type": "code",
        "colab": {}
      },
      "source": [
        "with tf.Graph().as_default(), tf.Session():\n",
        "  t_input = t_input = tf.placeholder_with_default(some_observations, some_observations.shape, name=\"lucid_placeholder\")\n",
        "  T = render.import_model(model, t_input, t_input)\n",
        "  acts = T(hidden_layer_name).eval()"
      ],
      "execution_count": 0,
      "outputs": []
    },
    {
      "cell_type": "markdown",
      "metadata": {
        "id": "mCtyq9rsjwBy",
        "colab_type": "text"
      },
      "source": [
        "# Define helper functions"
      ]
    },
    {
      "cell_type": "code",
      "metadata": {
        "id": "SJ_ASH8ZYH3Z",
        "colab_type": "code",
        "colab": {}
      },
      "source": [
        "def reduce_and_norm(to_reduce):\n",
        "  reduced = nmf.transform(np.abs(to_reduce))\n",
        "\n",
        "  nmf_norms = nmf.channel_dirs.sum(-1)\n",
        "  reduced *= nmf_norms[None, None, None]\n",
        "\n",
        "  normalize_by = np.median(reduced.max(axis=(-3, -2, -1)))\n",
        "  print(\"normalize_by\", normalize_by)\n",
        "  if normalize_by != 0:\n",
        "    reduced /= normalize_by # normalize to make the visualization balanced, may need tweaking\n",
        "  reduced = np.abs(reduced)\n",
        "\n",
        "  return reduced"
      ],
      "execution_count": 0,
      "outputs": []
    },
    {
      "cell_type": "code",
      "metadata": {
        "id": "lSOOgBTlhIDp",
        "colab_type": "code",
        "colab": {}
      },
      "source": [
        "def show_with_obs(obs, reduced, num_to_show):\n",
        "  start = random.randint(0, some_observations.shape[0]-num_to_show)\n",
        "\n",
        "  print(\"Time left in episode\")\n",
        "  show(zoom_to(some_observations[start:start+num_to_show, :, :, 3:4], 200))\n",
        "  print(\"Color channels (vertical stripes are 'apples'\")\n",
        "  show(zoom_to(some_observations[start:start+num_to_show, :, :, :3], 200))\n",
        "  print(\"Visualization\")\n",
        "  show(zoom_to(reduced[start:start+num_to_show], 200))"
      ],
      "execution_count": 0,
      "outputs": []
    },
    {
      "cell_type": "markdown",
      "metadata": {
        "id": "CMiGopA7jxwj",
        "colab_type": "text"
      },
      "source": [
        "# NMF on network activations.\n",
        "One of the channels usually corasponds to apples."
      ]
    },
    {
      "cell_type": "code",
      "metadata": {
        "id": "HLxwYEekhAWi",
        "colab_type": "code",
        "outputId": "a3d9909f-f0ca-43c4-d668-096e41a09742",
        "colab": {
          "base_uri": "https://localhost:8080/",
          "height": 701
        }
      },
      "source": [
        "reduced = reduce_and_norm(acts)\n",
        "show_with_obs(some_observations, reduced, 50)"
      ],
      "execution_count": 14,
      "outputs": [
        {
          "output_type": "stream",
          "text": [
            "normalize_by 10.76604222155498\n",
            "Time left in episode\n"
          ],
          "name": "stdout"
        },
        {
          "output_type": "display_data",
          "data": {
            "text/html": [
              "<div style=\"display: flex; flex-direction: row;\"><div style=\"margin-right:10px; margin-top: 4px;\">\n",
              "              0 <br/>\n",
              "              <img src=\"data:image/PNG;base64,iVBORw0KGgoAAAANSUhEUgAAAMgAAACvCAAAAACdws6gAAAA4ElEQVR4nO3PAQnAMBDAwK4+6p+5nIo+YdwJCOQ5a9Z7qbsvdccZqTFSY6TGSI2RGiM1RmqM1BipMVJjpMZIjZEaIzVGaozUGKkxUmOkxkiNkRojNUZqjNQYqTFSY6TGSI2RGiM1RmqM1BipMVJjpMZIjZEaIzVGaozUGKkxUmOkxkiNkRojNUZqjNQYqTFSY6TGSI2RGiM1RmqM1BipMVJjpMZIjZEaIzVGaozUGKkxUmOkxkiNkRojNUZqjNQYqTFSY6TGSI2RGiM1RmqM1BipMVJjpMZIjZEaIzW/GfkAfXwCJDFLl7kAAAAASUVORK5CYII=\" style=\"image-rendering: pixelated;\">\n",
              "            </div><div style=\"margin-right:10px; margin-top: 4px;\">\n",
              "              1 <br/>\n",
              "              <img src=\"data:image/PNG;base64,iVBORw0KGgoAAAANSUhEUgAAAMgAAACvCAAAAACdws6gAAAA60lEQVR4nO3RMQqAQBAEQRV/5S/vxWbmInLF0ZUPbLP7tYnG68XxwxVTFKIpRFOIphBNIZpCNIVoCtEUoilEU4imEE0hmkI0hWgK0RSiKURTiKYQTSGaQjSFaArRFKIpRFOIphBNIZpCNIVoCtEUoilEU4imEE0hmkI0hWgK0RSiKURTiKYQTSGaQjSFaArRFKIpRFOIphBNIZpCNIVoCtEUoilEU4imEE0hmkI0hWgK0RSiKURTiKYQTSGaQjSFaArRFKIpRHPOPuAxvs2X+UghmkI0hWgK0RSiKURTiKYQTSGaQjSFaJYJuQE+6wK/zU5iPQAAAABJRU5ErkJggg==\" style=\"image-rendering: pixelated;\">\n",
              "            </div><div style=\"margin-right:10px; margin-top: 4px;\">\n",
              "              2 <br/>\n",
              "              <img src=\"data:image/PNG;base64,iVBORw0KGgoAAAANSUhEUgAAAMgAAACvCAAAAACdws6gAAAA7UlEQVR4nO3aMQqAQAwAQRUf4nN9trWl3IHDsdMHsqTNfm1D7rHxeY6/F5ilEE0hmkI0hWgK0RSiKURTiKYQTSGaQjSFaArRFKIpRFOIphBNIZpCNIVoCtEUoilEU4jm/D7CPM29LHORQjSFaArRFKIpRFOIphBNIZpCNIVoCtEUoilEU4imEE0hmkI0hWgK0RSiKURTiKYQTSGaQjSFaArRFKIpRFOIphBNIZpCNIVoCtEUoilEU4imEE0hmkI0hWgK0RSiKURTiKYQTSGaQjSFaArRFKIpRFOIphBNIZpCNIVoCtEUoilEs0zIA1sFApAwdd7JAAAAAElFTkSuQmCC\" style=\"image-rendering: pixelated;\">\n",
              "            </div><div style=\"margin-right:10px; margin-top: 4px;\">\n",
              "              3 <br/>\n",
              "              <img src=\"data:image/PNG;base64,iVBORw0KGgoAAAANSUhEUgAAAMgAAACvCAAAAACdws6gAAAA8ElEQVR4nO3YMQqAMBAAQRX//wBf49OsLYQUQoaw016KW67Lfm8jrqFXMx2zF/hLIZpCNIVoCtEUoilEU4imEE0hmkI0hWiWCTk/J/6f3MsyFylEU4imEE0hmkI0hWgK0RSiKURTiKYQTSGaQjSFaArRFKIpRFOIphBNIZpCNIVoCtEUoilEU4imEE0hmkI0hWgK0RSiKURTiKYQTSGaQjSFaArRFKIpRFOIphBNIZpCNIVoCtEUoilEU4imEE0hmkI0hWgK0RSiKURTiKYQTSGaQjSFaArRFKIpRFOIphBNIZpCNIVoCtEUoilEU4jmAd1lA1R5uQxEAAAAAElFTkSuQmCC\" style=\"image-rendering: pixelated;\">\n",
              "            </div><div style=\"margin-right:10px; margin-top: 4px;\">\n",
              "              4 <br/>\n",
              "              <img src=\"data:image/PNG;base64,iVBORw0KGgoAAAANSUhEUgAAAMgAAACvCAAAAACdws6gAAAA7UlEQVR4nO3dwQmAMBAAQRX7B2uzIb/5R8gQdv5HbrkCcr4H4pkbv/7ZYr1CNIVoCtEUoilEU4imEE0hmkI0hWgK0RSiKURTiKYQTSGaQjSFaArRFKIpRFOIphBNIZpCNIVoCtEUoilEU4imEE0hmkI0hWgK0RSiKURTiKYQTSGaQjSFaArRFKIpRFOIphBNIZpCNIVoCtEUoilEU4imEE0hmkI0hWgK0RSiKURTiKYQTSGaQjSFaArRbBNyL3198hOu0TYXKURTiKYQTSGaQjSFaArRFKIpRFOIphBNIZpCNIVoCtEUoilEU4jmAydFA1VOd9vHAAAAAElFTkSuQmCC\" style=\"image-rendering: pixelated;\">\n",
              "            </div><div style=\"margin-right:10px; margin-top: 4px;\">\n",
              "              5 <br/>\n",
              "              <img src=\"data:image/PNG;base64,iVBORw0KGgoAAAANSUhEUgAAAMgAAACvCAAAAACdws6gAAAA6UlEQVR4nO3RQQ2AMAAEQcob/9YQgBG+CGjSodlRcJsb1/FxH791rh4wSyGaQjSFaArRFKIpRFOIphBNIZpCNIVoCtEUoilEU4imEE0hmkI0hWgK0RSiKURTiKYQTSGaQjSFaArRFKIpRFOIphBNIZpCNIVoCtEUoilEU4imEE0hmkI0hWgK0RSiKURTiKYQTSGaQjSFaArRFKIpRFOIphBNIZpCNIVoCtEUotkmZDyrF0yyzSOFaArRFKIpRFOIphBNIZpCNIVoCtEUoilEU4imEE0hmkI0hWgK0RSiKURTiKYQTSGaQjQv914DIyXo3CEAAAAASUVORK5CYII=\" style=\"image-rendering: pixelated;\">\n",
              "            </div><div style=\"margin-right:10px; margin-top: 4px;\">\n",
              "              6 <br/>\n",
              "              <img src=\"data:image/PNG;base64,iVBORw0KGgoAAAANSUhEUgAAAMgAAACvCAAAAACdws6gAAAA8ElEQVR4nO3RwQmAQBAEQU8MwBSN0BRNwI8gXHNU/Rem2XFva9hnD/iLkBohNUJqhNQIqRFSI6RGSI2QGiE1QmqE1AipEVIjpEZIjZAaITXH7AHvrs8Xy3xESI2QGiE1QmqE1Ixz9oKfLPMRITVCaoTUCKkRUiOkRkiNkBohNUJqhNQIqRFSI6RGSI2QGiE1QmqE1AipEVIjpEZIjZAaITVCaoTUCKkRUiOkRkiNkBohNUJqhNQIqRFSI6RGSI2QGiE1QmqE1AipEVIjpEZIjZAaITVCaoTUCKkRUiOkRkiNkBohNUJqhNQIqRFSs0zIA5FGAn/i6PptAAAAAElFTkSuQmCC\" style=\"image-rendering: pixelated;\">\n",
              "            </div><div style=\"margin-right:10px; margin-top: 4px;\">\n",
              "              7 <br/>\n",
              "              <img src=\"data:image/PNG;base64,iVBORw0KGgoAAAANSUhEUgAAAMgAAACvCAAAAACdws6gAAAA7klEQVR4nO3bsQ2AMAwAQUAsx+hsRQtFOiSO6K+z0vjlOuu5DByjB9P29QJvKURTiKYQTSGaQjSFaArRFKIpRFOIphBNIZpCNIVoCtEUoilEU4imEE0hmkI0hWgK0RSiKURTiKYQTSGaQjSFaArRFKIpRFOIphBNIZppQvbH9LNvrXfTXKQQTSGaQjSFaArRFKIpRFOIphBNIZpCNIVoCtEUoilEU4imEE0hmkI0hWgK0RSiKURTiKYQTSGaQjSFaArRFKIpRFOIphBNIZpCNIVoCtEUoilEU4imEE0hmkI0hWgK0RSiKURTiKYQzQWLAQK7hptZgQAAAABJRU5ErkJggg==\" style=\"image-rendering: pixelated;\">\n",
              "            </div><div style=\"margin-right:10px; margin-top: 4px;\">\n",
              "              8 <br/>\n",
              "              <img src=\"data:image/PNG;base64,iVBORw0KGgoAAAANSUhEUgAAAMgAAACvCAAAAACdws6gAAAA7UlEQVR4nO3bsQ2AMAwAQUDsvwJjsB51+oicor8BbL1c+3yPhZ55o655o9YqRFOIphBNIZpCNIVoCtEUoilEU4imEE0hmkI0hWgK0RSiKURTiKYQTSGaQjSFaArRFKIpRFOIphBNIZpCNIVotgm5/1448dNisM1FCtEUoilEU4imEE0hmkI0hWgK0RSiKURTiKYQTSGaQjSFaArRFKIpRFOIphBNIZpCNIVoCtEUoilEU4imEE0hmkI0hWgK0RSiKURTiKYQTSGaQjSFaArRFKIpRFOIphBNIZpCNIVoCtEUoilEU4imEE0hmkI0H9KmA1WXm8jHAAAAAElFTkSuQmCC\" style=\"image-rendering: pixelated;\">\n",
              "            </div><div style=\"margin-right:10px; margin-top: 4px;\">\n",
              "              9 <br/>\n",
              "              <img src=\"data:image/PNG;base64,iVBORw0KGgoAAAANSUhEUgAAAMgAAACvCAAAAACdws6gAAAA8UlEQVR4nO3RUQ2AMBAFQUrQghD8y0AICviDdNLsCHi5zY17W8M++4CvFKIpRFOIphBNIZpCNIVoCtEUoilEU4imEE0hmkI0hWgK0RSiKURTiKYQTSGaQjSFaArRFKIpRFOIphBNIZpCNIVoCtEUoilEU4imEE0hmkI0hWgK0RSiKURTiKYQTSGaQjSFaArRFKIpRFOIphBNIZpCNIVojr+Gr7+GXyzzkUI0hWgK0RSiKUSzTMg4Z1/wkWU+UoimEE0hmkI0hWgK0RSiKURTiKYQTSGaQjSFaArRFKIpRFOIphBNIZpCNIVoCtEUoilE8wCcewKrzxfUggAAAABJRU5ErkJggg==\" style=\"image-rendering: pixelated;\">\n",
              "            </div><div style=\"margin-right:10px; margin-top: 4px;\">\n",
              "              10 <br/>\n",
              "              <img src=\"data:image/PNG;base64,iVBORw0KGgoAAAANSUhEUgAAAMgAAACvCAAAAACdws6gAAAA7klEQVR4nO3ZMQqAMBAAQRU/7Zd8pa2lAdEh7NQXuOXKrOcy6hh+8YXt7wXeUoimEE0hmkI0hWgK0RSiKURTiKYQTSGaQjSFaArRFKIpRFOIphDN/mzM/Mm9m+YihWgK0RSiKURTiKYQTSGaQjSFaArRFKIpRFOIphBNIZpCNIVoCtEUoilEU4imEE0hmkI0hWgK0RSiKURTiKYQTSGaQjSFaArRFKIpRFOIphBNIZpCNIVoCtEUoilEU4imEE0hmkI0hWgK0RSiKURTiKYQTSGaQjSFaArRFKIpRFOIphBNIZpCNIVoCtEUopkm5AI8DgL8z0+HHgAAAABJRU5ErkJggg==\" style=\"image-rendering: pixelated;\">\n",
              "            </div><div style=\"margin-right:10px; margin-top: 4px;\">\n",
              "              11 <br/>\n",
              "              <img src=\"data:image/PNG;base64,iVBORw0KGgoAAAANSUhEUgAAAMgAAACvCAAAAACdws6gAAAA20lEQVR4nO3PAQkAIADAMLV/WCNYQnDIl+Cfe/xhvQ64pRFNI5pGNI1oGtE0omlE04imEU0jmkY0jWga0TSiaUTTiKYRTSOaRjSNaBrRNKJpRNOIphFNI5pGNI1oGtE0omlE04imEU0jmkY0jWga0TSiaUTTiKYRTSOaRjSNaBrRNKJpRNOIphFNI5pGNI1oGtE0omlE04imEU0jmkY0jWga0TSiaUTTiKYRTSOaRjSNaBrRNKJpRNOIphFNI5pGNI1oGtE0omlE04imEU0jmkY0jWga0TSi+WbkAFOBAk7hEUdeAAAAAElFTkSuQmCC\" style=\"image-rendering: pixelated;\">\n",
              "            </div><div style=\"margin-right:10px; margin-top: 4px;\">\n",
              "              12 <br/>\n",
              "              <img src=\"data:image/PNG;base64,iVBORw0KGgoAAAANSUhEUgAAAMgAAACvCAAAAACdws6gAAAA70lEQVR4nO3ZwQmAMBAAQRU7sf8y7MuvTwOiQ9h5X+CWe2Y9llHn8IsvbH8v8JZCNIVoCtEUoilEU4imEE0hmkI0hWgK0RSiKURTiKYQTSGaQjSFaPZnY+ZP7t00FylEU4imEE0hmkI0hWgK0RSiKURTiKYQTSGaQjSFaArRFKIpRFOIphBNIZpCNIVoCtEUoilEU4imEE0hmkI0hWgK0RSiKURTiKYQTSGaQjSFaArRFKIpRFOIphBNIZpCNIVoCtEUoilEU4imEE0hmkI0hWgK0RSiKURTiKYQTSGaQjSFaArRFKIpRFOIphDNNCEXZiwDDcCq1AIAAAAASUVORK5CYII=\" style=\"image-rendering: pixelated;\">\n",
              "            </div><div style=\"margin-right:10px; margin-top: 4px;\">\n",
              "              13 <br/>\n",
              "              <img src=\"data:image/PNG;base64,iVBORw0KGgoAAAANSUhEUgAAAMgAAACvCAAAAACdws6gAAAA8UlEQVR4nO3RsQ2AMBAEQYwogTrovyLqoAIyC1bWTPrJrX7c2xr2vwfMIqRGSI2QGiE1QmqE1AipEVIjpEZIjZAaITVCaoTUCKkRUiOkRkjN8Xq5PlwxwTIfEVIjpEZIjZAaITXj/HvBJMt8REiNkBohNUJqhNQIqRFSI6RGSI2QGiE1QmqE1AipEVIjpEZIjZAaITVCaoTUCKkRUiOkRkiNkBohNUJqhNQIqRFSI6RGSI2QGiE1QmqE1AipEVIjpEZIjZAaITVCaoTUCKkRUiOkRkiNkBohNUJqhNQIqRFSI6RGSI2QGiE1QmqE1CwT8gBl/gKH7CAo/wAAAABJRU5ErkJggg==\" style=\"image-rendering: pixelated;\">\n",
              "            </div><div style=\"margin-right:10px; margin-top: 4px;\">\n",
              "              14 <br/>\n",
              "              <img src=\"data:image/PNG;base64,iVBORw0KGgoAAAANSUhEUgAAAMgAAACvCAAAAACdws6gAAAA70lEQVR4nO3cwQmAMBAAQRX7L8CKLMuvTwOiQ9h5X+CW+2c9llHn8IsvbH8v8JZCNIVoCtEUoilEU4imEE0hmkI0hWgK0RSiKURTiKYQTSGaQjSFaArRFKIpRFOIphBNIZpCNIVoCtEUoilEU4imEE0hmkI0hWgK0RSiKURTiKYQTSGaQjSFaArRFKIpRFOIphBNIZpCNPuzMfPfubtpLlKIphBNIZpCNIVoCtEUoilEU4imEE0hmkI0hWgK0RSiKURTiKYQTSGaQjSFaArRFKIpRFOIphBNIZpCNIVoCtEUoilEU4imEE0hmkI004RcusgDiuN/oGIAAAAASUVORK5CYII=\" style=\"image-rendering: pixelated;\">\n",
              "            </div><div style=\"margin-right:10px; margin-top: 4px;\">\n",
              "              15 <br/>\n",
              "              <img src=\"data:image/PNG;base64,iVBORw0KGgoAAAANSUhEUgAAAMgAAACvCAAAAACdws6gAAAA80lEQVR4nO3RsQ2EUAwFQUDUQv/FXDUX0QLBR6ysmdjBW3m/thmOrwesIqRGSI2QGiE1QmqE1AipEVIjpEZIjZCaMSHns7PfuysWGPMRITVCaoTUCKkRUjMmZP9/vWCRMR8RUiOkRkiNkBohNUJqhNQIqRFSI6RGSI2QGiE1QmqE1AipEVIjpEZIjZAaITVCaoTUCKkRUiOkRkiNkBohNUJqhNQIqRFSI6RGSI2QGiE1QmqE1AipEVIjpEZIjZAaITVCaoTUCKkRUiOkRkiNkBohNUJqhNQIqRFSI6RGSI2QGiE1QmqE1AipEVIjpEZIzZiQG+DOA1NWH2gVAAAAAElFTkSuQmCC\" style=\"image-rendering: pixelated;\">\n",
              "            </div><div style=\"margin-right:10px; margin-top: 4px;\">\n",
              "              16 <br/>\n",
              "              <img src=\"data:image/PNG;base64,iVBORw0KGgoAAAANSUhEUgAAAMgAAACvCAAAAACdws6gAAAA8ElEQVR4nO3dsQ2AMAwAQUAswv5jsQgtFOmQOKK/zkrjlwfIei4Dx+jBtH29wFsK0RSiKURTiKYQTSGaQjSFaArRFKIpRFOIphBNIZpCNIVoCtEUoilEU4imEE0hmkI0hWgK0RSiKURTiKYQTSGaQjSFaArRFKIpRFOIphBNIZpCNIVoCtEUoilEU4imEE0hmkI0hWgK0RSiKURTiKYQTSGaQjSFaArRFKIpRFOIphBNIZpCNIVoCtEUoilEM03I/ph+9gnX3TQXKURTiKYQTSGaQjSFaArRFKIpRFOIphBNIZpCNIVoCtEUoilEU4jmAh+VAoUl7p4lAAAAAElFTkSuQmCC\" style=\"image-rendering: pixelated;\">\n",
              "            </div><div style=\"margin-right:10px; margin-top: 4px;\">\n",
              "              17 <br/>\n",
              "              <img src=\"data:image/PNG;base64,iVBORw0KGgoAAAANSUhEUgAAAMgAAACvCAAAAACdws6gAAAA8ElEQVR4nO3RwQmAUAwFQRWbs0fbsw9rED44hJ174C3Zr22G4+8BqxSiKURTiKYQTSGaQjSFaArRFKIpRFOIphBNIZpCNIVoCtEUoilEU4imEE0hmkI0hWgK0RSiKURTiKYQTSGaQjSFaArRFKIpRFOIphDNmJDz+8m9fsUCYz5SiKYQTSGaQjSFaMaE7M/fCxYZ85FCNIVoCtEUoilEU4imEE0hmkI0hWgK0RSiKURTiKYQTSGaQjSFaArRFKIpRFOIphBNIZpCNIVoCtEUoilEU4imEE0hmkI0hWgK0RSiKURTiKYQTSGaQjSFaMaEvN7vAynx/9tyAAAAAElFTkSuQmCC\" style=\"image-rendering: pixelated;\">\n",
              "            </div><div style=\"margin-right:10px; margin-top: 4px;\">\n",
              "              18 <br/>\n",
              "              <img src=\"data:image/PNG;base64,iVBORw0KGgoAAAANSUhEUgAAAMgAAACvCAAAAACdws6gAAAA60lEQVR4nO3cwQmAQAwAQRX7tE6782sDF5ZjpoCEJf+c77HeM7DjGtgxQkiNkBohNUJqhNQIqRFSI6RGSI2QGiE1QmqE1AipEVIjpEZIjZAaITVCaoTUCKkRUiOkRkiNkBohNUJqhNQIqRFSI6RGSI2QGiE1QmqE1AipEVIjpEZIjZAaITX3qsETv1D+trmIkBohNUJqhNQIqRFSI6RGSI2QGiE1QmqE1AipEVIjpEZIjZAaITVCaoTUCKkRUiOkRkiNkBohNUJqhNQIqRFSI6RGSI2QGiE1QmqE1AipEVIjpEZIjZAaITXbhHxp/gLXnOPlJAAAAABJRU5ErkJggg==\" style=\"image-rendering: pixelated;\">\n",
              "            </div><div style=\"margin-right:10px; margin-top: 4px;\">\n",
              "              19 <br/>\n",
              "              <img src=\"data:image/PNG;base64,iVBORw0KGgoAAAANSUhEUgAAAMgAAACvCAAAAACdws6gAAAA8ElEQVR4nO3RsQ2AMBAEQYyog/57oRK6ICa35JG1k312qx/3sYdz9YBZCtEUoilEU4imEE0hmkI0hWgK0RSiKURTiKYQTSGaQjSFaArRFKIpRFOIphBNIZpCNIVort/1LFoxwTYfKURTiKYQTSGaQjTbhIx39YJJtvlIIZpCNIVoCtEUoilEU4imEE0hmkI0hWgK0RSiKURTiKYQTSGaQjSFaArRFKIpRFOIphBNIZpCNIVoCtEUoilEU4imEE0hmkI0hWgK0RSiKURTiKYQTSGaQjSFaArRFKIpRFOIphBNIZpCNIVoCtEUoilEU4jmA92WAzFS02DEAAAAAElFTkSuQmCC\" style=\"image-rendering: pixelated;\">\n",
              "            </div><div style=\"margin-right:10px; margin-top: 4px;\">\n",
              "              20 <br/>\n",
              "              <img src=\"data:image/PNG;base64,iVBORw0KGgoAAAANSUhEUgAAAMgAAACvCAAAAACdws6gAAAA70lEQVR4nO3ZwQmAMBAAQRX7sP/qbMGvTwOiQ9h5X+CWe2Y9l1HH8IsvbH8v8JZCNIVoCtEUoilEU4imEE0hmkI0hWgK0RSiKURTiKYQTSGaQjSFaPZnY+ZP7t00FylEU4imEE0hmkI0hWgK0RSiKURTiKYQTSGaQjSFaArRFKIpRFOIphBNIZpCNIVoCtEUoilEU4imEE0hmkI0hWgK0RSiKURTiKYQTSGaQjSFaArRFKIpRFOIphBNIZpCNIVoCtEUoilEU4imEE0hmkI0hWgK0RSiKURTiKYQTSGaQjSFaArRFKIpRFOIphDNNCEXQiECjckO6nMAAAAASUVORK5CYII=\" style=\"image-rendering: pixelated;\">\n",
              "            </div><div style=\"margin-right:10px; margin-top: 4px;\">\n",
              "              21 <br/>\n",
              "              <img src=\"data:image/PNG;base64,iVBORw0KGgoAAAANSUhEUgAAAMgAAACvCAAAAACdws6gAAAA60lEQVR4nO3dQQ2AQBAEwYNgCj3498AX/iTUXboUbGcE7HaNh3NMa//7gK8UoilEU4imEE0hmkI0hWgK0RSiKURTiKYQTSGaQjSFaArRFKIpRFOIphBNIZpCNIVoCtEUoilEU4imEE0hmkI0hWgK0RSiKURTiKYQTSGaQjSFaArRFKIpRFOIphBNIZpCNIVoCtEUoilEU4imEE0hmkI0hWgK0RSiKURTiKYQTSGaZUKOif9CvCyzSCGaQjSFaArRFKIpRFOIphBNIZpCNIVoCtEUoilEU4imEE0hmkI0hWgK0RSiKURTiKYQzQ1FBQI1WZUF8QAAAABJRU5ErkJggg==\" style=\"image-rendering: pixelated;\">\n",
              "            </div><div style=\"margin-right:10px; margin-top: 4px;\">\n",
              "              22 <br/>\n",
              "              <img src=\"data:image/PNG;base64,iVBORw0KGgoAAAANSUhEUgAAAMgAAACvCAAAAACdws6gAAAA70lEQVR4nO3R0QmAMBAFQSOWYD/2X4D9WISBLGHm/+AtN95jD+fqAbMIqRFSI6RGSI2QGiE1QmqE1AipEVIjpEZIjZAaITVCaoTUCKkRUiOkRkiNkBohNUJqhNQIqRFSI6RGSI2QGiE124RcP++fKSsm2OYjQmqE1AipEVIjpGbcqxdMss1HhNQIqRFSI6RGSI2QGiE1QmqE1AipEVIjpEZIjZAaITVCaoTUCKkRUiOkRkiNkBohNUJqhNQIqRFSI6RGSI2QGiE1QmqE1AipEVIjpEZIjZAaITVCaoTUCKkRUiOkRkiNkBohNUJqhNR87moCh9YlQMUAAAAASUVORK5CYII=\" style=\"image-rendering: pixelated;\">\n",
              "            </div><div style=\"margin-right:10px; margin-top: 4px;\">\n",
              "              23 <br/>\n",
              "              <img src=\"data:image/PNG;base64,iVBORw0KGgoAAAANSUhEUgAAAMgAAACvCAAAAACdws6gAAAA70lEQVR4nO3ZMQqAMBAAQRVL//81v2NraUB0CDv1BW65MuuxjDqHX3xh+3uBtxSiKURTiKYQTSGaQjSFaArRFKIpRFOIphBNIZpCNIVoCtEUoilEsz8bM39y76a5SCGaQjSFaArRFKIpRFOIphBNIZpCNIVoCtEUoilEU4imEE0hmkI0hWgK0RSiKURTiKYQTSGaQjSFaArRFKIpRFOIphBNIZpCNIVoCtEUoilEU4imEE0hmkI0hWgK0RSiKURTiKYQTSGaQjSFaArRFKIpRFOIphBNIZpCNIVoCtEUoilEU4imEE0hmkI0hWimCbkAQWkDGqYztDgAAAAASUVORK5CYII=\" style=\"image-rendering: pixelated;\">\n",
              "            </div><div style=\"margin-right:10px; margin-top: 4px;\">\n",
              "              24 <br/>\n",
              "              <img src=\"data:image/PNG;base64,iVBORw0KGgoAAAANSUhEUgAAAMgAAACvCAAAAACdws6gAAAA6klEQVR4nO3RsQ2AMBAEQUw5FEsFFEtKAZY8WDvZZ7f68Ry/dX+Pc9WK2QrRFKIpRFOIphDNNiHjWr1gkm0+UoimEE0hmkI0hWgK0RSiKURTiKYQTSGaQjSFaArRFKIpRFOIphBNIZpCNIVoCtEUoilEU4imEE0hmkI0hWgK0RSiKURTiKYQTSGaQjSFaArRFKIpRFOIphBNIZpCNIVoCtEUoilEU4imEE0hmkI0hWgK0RSiKURTiKYQTSGaQjSFaArRFKIpRFOIphBNIZpCNIVoCtEUoilEU4imEE0hmkI0hWgK0RSiKUTzAm64ArGU4nQ+AAAAAElFTkSuQmCC\" style=\"image-rendering: pixelated;\">\n",
              "            </div><div style=\"margin-right:10px; margin-top: 4px;\">\n",
              "              25 <br/>\n",
              "              <img src=\"data:image/PNG;base64,iVBORw0KGgoAAAANSUhEUgAAAMgAAACvCAAAAACdws6gAAAA70lEQVR4nO3RwQmAQBAEQU9MyaxM1Kz8mYDCNUfVf2GaHfe2hn32gL8IqRFSI6RGSI2QGiE1QmqE1AipEVIjpEZIjZAaITVCaoTUCKkRUiOkRkiNkBohNUJqhNQcswe8rm/ny3xESI2QGiE1QmqE1CwTMs7ZC36yzEeE1AipEVIjpEZIjZAaITVCaoTUCKkRUiOkRkiNkBohNUJqhNQIqRFSI6RGSI2QGiE1QmqE1AipEVIjpEZIjZAaITVCaoTUCKkRUiOkRkiNkBohNUJqhNQIqRFSI6RGSI2QGiE1QmqE1AipEVIjpEZIjZAaITUPNXkCyYzoOHwAAAAASUVORK5CYII=\" style=\"image-rendering: pixelated;\">\n",
              "            </div><div style=\"margin-right:10px; margin-top: 4px;\">\n",
              "              26 <br/>\n",
              "              <img src=\"data:image/PNG;base64,iVBORw0KGgoAAAANSUhEUgAAAMgAAACvCAAAAACdws6gAAAA7UlEQVR4nO3aQQqAMAwAQRX//yW/5tlrW3AoO/dAllxz3seUZ258nevvBVYpRFOIphBNIZpCNIVoCtEUoilEU4imEE0hmkI0hWgK0RSiKURTiKYQTSGaQjSFaArRFKIZeKBjnuY+trlIIZpCNIVoCtEUoilEU4imEE0hmkI0hWgK0RSiKURTiKYQTSGaQjSFaArRFKIpRFOIphBNIZpCNIVoCtEUoilEU4imEE0hmkI0hWgK0RSiKURTiKYQTSGaQjSFaArRFKIpRFOIphBNIZpCNIVoCtEUoilEU4imEE0hmkI0hWgK0RSi2SbkBdhJAuL45JOUAAAAAElFTkSuQmCC\" style=\"image-rendering: pixelated;\">\n",
              "            </div><div style=\"margin-right:10px; margin-top: 4px;\">\n",
              "              27 <br/>\n",
              "              <img src=\"data:image/PNG;base64,iVBORw0KGgoAAAANSUhEUgAAAMgAAACvCAAAAACdws6gAAAA70lEQVR4nO3dsQ2AMAwAQUBsyP49Y9BCkQ6JI/rrrDR+eYCs5zJwjB5M29cLvKUQTSGaQjSFaArRFKIpRFOIphBNIZpCNIVoCtEUoilEU4imEE0hmkI0hWgK0RSiKURTiKYQTSGaQjSFaArRFKIpRFOIphBNIZpCNIVoCtEUoilEU4imEE0hmkI0hWgK0RSiKURTiKYQTSGaQjSFaArRFKIpRFOIphBNIZpCNIVoCtEUoilEU4imEE0hmkI004Tsj+lnn3DdTXORQjSFaArRFKIpRFOIphBNIZpCNIVoCtEUoilEU4imEE0hmkI0hWgucroC7o1o1ygAAAAASUVORK5CYII=\" style=\"image-rendering: pixelated;\">\n",
              "            </div><div style=\"margin-right:10px; margin-top: 4px;\">\n",
              "              28 <br/>\n",
              "              <img src=\"data:image/PNG;base64,iVBORw0KGgoAAAANSUhEUgAAAMgAAACvCAAAAACdws6gAAAA8ElEQVR4nO3R0QmAMBAFQSM2Yf8F2IZlWYMQyBJm/g/ecuM+9nCuHjCLkBohNUJqhNQIqdkm5Pp/8sxfMcE2HxFSI6RGSI2QGiE14129YJJtPiKkRkiNkBohNUJqhNQIqRFSI6RGSI2QGiE1QmqE1AipEVIjpEZIjZAaITVCaoTUCKkRUiOkRkiNkBohNUJqhNQIqRFSI6RGSI2QGiE1QmqE1AipEVIjpEZIjZAaITVCaoTUCKkRUiOkRkiNkBohNUJqhNQIqRFSI6RGSI2QGiE1QmqE1AipEVIjpEZIjZAaITVCaoTUCKkRUiOkRkjNB01uAu8oH1GIAAAAAElFTkSuQmCC\" style=\"image-rendering: pixelated;\">\n",
              "            </div><div style=\"margin-right:10px; margin-top: 4px;\">\n",
              "              29 <br/>\n",
              "              <img src=\"data:image/PNG;base64,iVBORw0KGgoAAAANSUhEUgAAAMgAAACvCAAAAACdws6gAAAA8UlEQVR4nO3RsQ2AMBAEQYzohFbovwVaoQIyC1bWTPrJrX7c2xr2vwfMIqRGSI2QGiE1QmqE1AipEVIjpEZIjZAaITVCaoTUCKkRUiOkRkjN8Xq5PlwxwTIfEVIjpEZIjZAaITXj/HvBJMt8REiNkBohNUJqhNQIqRFSI6RGSI2QGiE1QmqE1AipEVIjpEZIjZAaITVCaoTUCKkRUiOkRkiNkBohNUJqhNQIqRFSI6RGSI2QGiE1QmqE1AipEVIjpEZIjZAaITVCaoTUCKkRUiOkRkiNkBohNUJqhNQIqRFSI6RGSI2QGiE1QmqE1CwT8gChLwKlOG5CKAAAAABJRU5ErkJggg==\" style=\"image-rendering: pixelated;\">\n",
              "            </div><div style=\"margin-right:10px; margin-top: 4px;\">\n",
              "              30 <br/>\n",
              "              <img src=\"data:image/PNG;base64,iVBORw0KGgoAAAANSUhEUgAAAMgAAACvCAAAAACdws6gAAAA7ElEQVR4nO3dwQmAQAwAQRUrsnrL82sDF5ZjpoCEJQXkfI713oEd18COEUJqhNQIqRFSI6RGSI2QGiE1QmqE1AipEVIjpEZIjZAaITVCaoTUCKkRUiOkRkiNkBohNUJqhNQIqRFSI6RGSI2QGiE1QmqE1AipEVIjpEZIjZAaITVCaoTUCKkRUiOkRkiNkBohNUJqhNQIqRFSI6RGSI2QGiE1QmqE1AipEVIjpEZIjZAaITVCaoTUCKkRUiOkRkiNkBohNUJqhNTcqwZPfG792+YiQmqE1AipEVIjpEZIjZAaITVCaoTUCKnZJuQD1tUDAtqkUZ4AAAAASUVORK5CYII=\" style=\"image-rendering: pixelated;\">\n",
              "            </div><div style=\"margin-right:10px; margin-top: 4px;\">\n",
              "              31 <br/>\n",
              "              <img src=\"data:image/PNG;base64,iVBORw0KGgoAAAANSUhEUgAAAMgAAACvCAAAAACdws6gAAAA60lEQVR4nO3RsQ2AMAwAQUDMlwnYfw5aOhokPtFdZ8mFX96vbVrjORx/XfE1ITVCaoTUCKkRUrNMyDned6awzEeE1AipEVIjpEZIjZAaITVCaoTUCKkRUiOkRkiNkBohNUJqhNQIqRFSI6RGSI2QGiE1QmqE1AipEVIjpEZIjZAaITVCaoTUCKkRUiOkRkiNkBohNUJqhNQIqRFSI6RGSI2QGiE1QmqE1AipEVIjpEZIjZAaITVCaoTUCKkRUiOkRkiNkBohNUJqhNQIqRFSI6RGSI2QGiE1QmqE1AipEVIjpEZIjZAaITVCam5IEwJYmKCHuwAAAABJRU5ErkJggg==\" style=\"image-rendering: pixelated;\">\n",
              "            </div><div style=\"margin-right:10px; margin-top: 4px;\">\n",
              "              32 <br/>\n",
              "              <img src=\"data:image/PNG;base64,iVBORw0KGgoAAAANSUhEUgAAAMgAAACvCAAAAACdws6gAAAA80lEQVR4nO3RsQ3DQAwEQb1g9V+XE9ekEqxAwA+InZjBLbiuY4Zz94C3FKIpRFOIphBNIZpCNIVoCtEUoilEU4hmTMhn94D/vo+uxnykEE0hmkI0hWgK0YwJWb/dC14y5iOFaArRFKIpRFOIphBNIZpCNIVoCtEUoilEU4imEE0hmkI0hWgK0RSiKURTiKYQTSGaQjSFaArRFKIpRFOIphBNIZpCNIVoCtEUoilEU4imEE0hmkI0hWgK0RSiKURTiKYQTSGaQjSFaArRFKIpRFOIphBNIZpCNIVoCtEUoilEU4imEE0hmkI0hWgK0RSiGRNyAzxQAvuUxD2AAAAAAElFTkSuQmCC\" style=\"image-rendering: pixelated;\">\n",
              "            </div><div style=\"margin-right:10px; margin-top: 4px;\">\n",
              "              33 <br/>\n",
              "              <img src=\"data:image/PNG;base64,iVBORw0KGgoAAAANSUhEUgAAAMgAAACvCAAAAACdws6gAAAA7UlEQVR4nO3WsQ2AMAwAQUCw/8IU1BR0JDpFfwPYernxfm9jXIPmfjkm7xumEE0hmkI0hWgK0SwTcv44a/af+LLMRQrRFKIpRFOIphBNIZpCNIVoCtEUoilEU4imEE0hmkI0hWgK0RSiKURTiKYQTSGaQjSFaArRFKIpRFOIphBNIZpCNIVoCtEUoilEU4imEE0hmkI0hWgK0RSiKURTiKYQTSGaQjSFaArRFKIpRFOIphBNIZpCNIVoCtEUoilEU4imEE0hmkI0hWgK0RSiKURTiKYQTSGaQjSFaArRFKIpRFOIphBNIZpCNIVoHuslAmYCW/xlAAAAAElFTkSuQmCC\" style=\"image-rendering: pixelated;\">\n",
              "            </div><div style=\"margin-right:10px; margin-top: 4px;\">\n",
              "              34 <br/>\n",
              "              <img src=\"data:image/PNG;base64,iVBORw0KGgoAAAANSUhEUgAAAMgAAACvCAAAAACdws6gAAAA70lEQVR4nO3dMQqAMBAAQRUf6qf8r7WFkELIEHbaS3HLPSD7tY24h17NdMxe4C+FaArRFKIpRFOIphBNIZpCNIVoCtEUoilEU4imEE0hmkI0hWgK0RSiKURTiKYQTSGaQjSFaArRFKIpRFOIphBNIZpCNIVoCtEUoilEU4imEE0hmkI0hWgK0RSiKURTiKYQTSGaQjSFaArRFKIpRFOIphBNIZpCNIVoCtEUoilEU4imEE0hmkI0hWgK0RSiKURTiKYQTSGaQjSFaArRnJ8T/+PWl2UuUoimEE0hmkI0hWgK0RSiKURTiKYQTSGaZUIecggC6nQ1Y1sAAAAASUVORK5CYII=\" style=\"image-rendering: pixelated;\">\n",
              "            </div><div style=\"margin-right:10px; margin-top: 4px;\">\n",
              "              35 <br/>\n",
              "              <img src=\"data:image/PNG;base64,iVBORw0KGgoAAAANSUhEUgAAAMgAAACvCAAAAACdws6gAAAA7klEQVR4nO3ZMQqAMBAAQRWf6Ff8v62lAdEh7NQXuOXKrMcy6hx+8YXt7wXeUoimEE0hmkI0hWgK0RSiKURTiKYQTSGaQjSFaArRFKIpRFOIphDN/mzM/Mm9m+YihWgK0RSiKURTiKYQTSGaQjSFaArRFKIpRFOIphBNIZpCNIVoCtEUoilEU4imEE0hmkI0hWgK0RSiKURTiKYQTSGaQjSFaArRFKIpRFOIphBNIZpCNIVoCtEUoilEU4imEE0hmkI0hWgK0RSiKURTiKYQTSGaQjSFaArRFKIpRFOIphBNIZpCNIVoCtEUopkm5AI+ZAKeJYjRdwAAAABJRU5ErkJggg==\" style=\"image-rendering: pixelated;\">\n",
              "            </div><div style=\"margin-right:10px; margin-top: 4px;\">\n",
              "              36 <br/>\n",
              "              <img src=\"data:image/PNG;base64,iVBORw0KGgoAAAANSUhEUgAAAMgAAACvCAAAAACdws6gAAAA70lEQVR4nO3RgQmAMBAEQSO2aEn2Z0nWIASyhJkCjl9+vMceztUHzCKkRkiNkBohNUJqhNQIqRFSI6RGSI2QGiE1QmqE1AipEVIjpEZIjZAaITVCaoTUCKkRUnNN3Hombv22zUeE1AipEVIjpEZIzTYh4159wSTbfERIjZAaITVCaoTUCKkRUiOkRkiNkBohNUJqhNQIqRFSI6RGSI2QGiE1QmqE1AipEVIjpEZIjZAaITVCaoTUCKkRUiOkRkiNkBohNUJqhNQIqRFSI6RGSI2QGiE1QmqE1AipEVIjpEZIjZAaITVCaoTUCKkRUvMBnuQDCZ/zOu4AAAAASUVORK5CYII=\" style=\"image-rendering: pixelated;\">\n",
              "            </div><div style=\"margin-right:10px; margin-top: 4px;\">\n",
              "              37 <br/>\n",
              "              <img src=\"data:image/PNG;base64,iVBORw0KGgoAAAANSUhEUgAAAMgAAACvCAAAAACdws6gAAAA7UlEQVR4nO3R0QmAMBAFQRUrTpHWZQV+CIkMslPAO5bbr22NsWj3yfHxvWUK0RSiKURTiKYQTSGaQjSFaArRFKIpRFOIphBNIZpCNIVoCtEUoilEU4imEE0hmkI0hWgK0RSiKURTiKYQTSGaQjSFaArRFKIpRFOIphBNIZpCNIVoCtEUoilEU4imEE0hmkI0hWgK0RSiKURTiKYQTSGaQjSFaArRFKIpRFOIphBNIZpCNIVoCtEUoilE85uQc+LWmLj12m8+UoimEE0hmkI0hWgK0RSiKURTiKYQTSGaQjSFaArRFKIpRFOIphDNDTctAwqJ5ck/AAAAAElFTkSuQmCC\" style=\"image-rendering: pixelated;\">\n",
              "            </div><div style=\"margin-right:10px; margin-top: 4px;\">\n",
              "              38 <br/>\n",
              "              <img src=\"data:image/PNG;base64,iVBORw0KGgoAAAANSUhEUgAAAMgAAACvCAAAAACdws6gAAAA6ElEQVR4nO3RwQnAIBAAwRhSoKWmxBQRwUF2/ufd4ngvxPw3fi85AlCIphBNIZpCNIVojgl5tm6f65465kcK0RSiKURTiKYQTSGaQjSFaArRFKIpRFOIphBNIZpCNIVoCtEUoilEU4imEE0hmkI0hWgK0RSiKURTiKYQTSGaQjSFaArRFKIpRFOIphBNIZpCNIVoCtEUoilEU4imEE0hmkI0hWgK0RSiKURTiKYQTSGaQjSFaArRFKIpRFOIphBNIZpCNIVoCtEUoilEU4imEE0hmkI0hWgK0RSiKURTiKYQTSGaQjSFaD5YlAKw3bGJkwAAAABJRU5ErkJggg==\" style=\"image-rendering: pixelated;\">\n",
              "            </div><div style=\"margin-right:10px; margin-top: 4px;\">\n",
              "              39 <br/>\n",
              "              <img src=\"data:image/PNG;base64,iVBORw0KGgoAAAANSUhEUgAAAMgAAACvCAAAAACdws6gAAAA60lEQVR4nO3WMQqAMBAAQRWf7wt8rW36CBnCTn/klmtyvgfimRu//tlivUI0hWgK0RSiKUSzTci99PXJj+Jom4sUoilEU4imEE0hmkI0hWgK0RSiKURTiKYQTSGaQjSFaArRFKIpRFOIphBNIZpCNIVoCtEUoilEU4imEE0hmkI0hWgK0RSiKURTiKYQTSGaQjSFaArRFKIpRFOIphBNIZpCNIVoCtEUoilEU4imEE0hmkI0hWgK0RSiKURTiKYQTSGaQjSFaArRFKIpRFOIphBNIZpCNIVoCtEUoilEU4imEE0hmkI0hWgK0XxSugMS4oGMPwAAAABJRU5ErkJggg==\" style=\"image-rendering: pixelated;\">\n",
              "            </div><div style=\"margin-right:10px; margin-top: 4px;\">\n",
              "              40 <br/>\n",
              "              <img src=\"data:image/PNG;base64,iVBORw0KGgoAAAANSUhEUgAAAMgAAACvCAAAAACdws6gAAAA7UlEQVR4nO3R0QmAMBAFQaN2aKOWaA1CIEuY+T94y4332MO5esAsQmqE1AipEVIjpGabkPv/yTN/xQTbfERIjZAaITVCaoTUjGv1gkm2+YiQGiE1QmqE1AipEVIjpEZIjZAaITVCaoTUCKkRUiOkRkiNkBohNUJqhNQIqRFSI6RGSI2QGiE1QmqE1AipEVIjpEZIjZAaITVCaoTUCKkRUiOkRkiNkBohNUJqhNQIqRFSI6RGSI2QGiE1QmqE1AipEVIjpEZIjZAaITVCaoTUCKkRUiOkRkiNkBohNUJqhNQIqRFSI6RGSI2QGiE1HxEiAmXWzH1KAAAAAElFTkSuQmCC\" style=\"image-rendering: pixelated;\">\n",
              "            </div><div style=\"margin-right:10px; margin-top: 4px;\">\n",
              "              41 <br/>\n",
              "              <img src=\"data:image/PNG;base64,iVBORw0KGgoAAAANSUhEUgAAAMgAAACvCAAAAACdws6gAAAA6UlEQVR4nO3R0QmAMBAFQaP91ylYhUUkkCXM/B+85cZzTXnnzte5dw9YRUiNkBohNUJqhNQcEzK+3QsWOeYjQmqE1AipEVIjpEZIjZAaITVCaoTUCKkRUiOkRkiNkBohNUJqhNQIqRFSI6RGSI2QGiE1QmqE1AipEVIjpEZIjZAaITVCaoTUCKkRUiOkRkiNkBohNUJqhNQIqRFSI6RGSI2QGiE1QmqE1AipEVIjpEZIjZAaITVCaoTUCKkRUiOkRkiNkBohNUJqhNQIqRFSI6RGSI2QGiE1QmqE1AipEVIjpEZIjZAaITU/rGwDMXWjxAYAAAAASUVORK5CYII=\" style=\"image-rendering: pixelated;\">\n",
              "            </div><div style=\"margin-right:10px; margin-top: 4px;\">\n",
              "              42 <br/>\n",
              "              <img src=\"data:image/PNG;base64,iVBORw0KGgoAAAANSUhEUgAAAMgAAACvCAAAAACdws6gAAAA70lEQVR4nO3RMQqAQBAEQU8E/5+b+VG/YHBic1TFG0yz49zWsP89YBYhNUJqhNQIqRFSI6RGSI2QGiE1QmqE1AipEVIjpEZIjZAaITVCaoTUCKkRUiOkRkiNkBohNUJqhNQIqRFSI6RGSI2QGiE1QmqE1AipEVIjpEZIjZAaITVCaoTUCKkRUiOkRkiNkBohNce7s+vbFRMs8xEhNUJqhNQIqRFSM+6/F0yyzEeE1AipEVIjpEZIjZAaITVCaoTUCKkRUiOkRkiNkBohNUJqhNQIqRFSI6RGSI2QGiE1QmqE1AipEVIjpEZIjZCaZUIez0YCpa7k/Q4AAAAASUVORK5CYII=\" style=\"image-rendering: pixelated;\">\n",
              "            </div><div style=\"margin-right:10px; margin-top: 4px;\">\n",
              "              43 <br/>\n",
              "              <img src=\"data:image/PNG;base64,iVBORw0KGgoAAAANSUhEUgAAAMgAAACvCAAAAACdws6gAAAA70lEQVR4nO3dsQ2AMAwAQUCMxXgMTgtFOiSO6K+z0vjlAbIey8A5ejBtXy/wlkI0hWgK0RSiKURTiKYQTSGaQjSFaArRFKIpRFOIphBNIZpCNIVoCtEUoilEU4imEE0hmkI0hWgK0RSiKURTiKYQTSGaQjSFaArRFKIpRFOIphBNIZpCNIVoCtEUoilEU4imEE0hmkI0hWgK0RSiKURTiKYQTSGaQjSFaArRFKIpRFOIphBNIZpCNIVoCtFME7I/pp99wnU3zUUK0RSiKURTiKYQTSGaQjSFaArRFKIpRFOIphBNIZpCNIVoCtEUorkAGbMCpNS/wkoAAAAASUVORK5CYII=\" style=\"image-rendering: pixelated;\">\n",
              "            </div><div style=\"margin-right:10px; margin-top: 4px;\">\n",
              "              44 <br/>\n",
              "              <img src=\"data:image/PNG;base64,iVBORw0KGgoAAAANSUhEUgAAAMgAAACvCAAAAACdws6gAAAA7UlEQVR4nO3RwQmAQAwAQRXLtFhLswUPTh1k551AlqznMuoY3njD9vUBsxSiKURTiKYQTSGaQjSFaArRFKIpRFOIphBNIZpCNIVoCtEUoilEU4imEE0hmkI0hWgK0RSiKURTiKYQTSGaQjSFaArRFKIpRFOIphBNIZpCNIVoCtEUoilEU4imEE0hmkI0hWgK0RSiKURTiKYQTSGaQjSFaArRFKIpRFOIphBNIZpCNIVoCtEUoilEU4imEE0hmkI0hWgK0RSiKURTiKYQTSGaQjSFaArR7PfGjmevmOA3HylEU4imEE0hmkI0vwm5AJIYAtgy/GvcAAAAAElFTkSuQmCC\" style=\"image-rendering: pixelated;\">\n",
              "            </div><div style=\"margin-right:10px; margin-top: 4px;\">\n",
              "              45 <br/>\n",
              "              <img src=\"data:image/PNG;base64,iVBORw0KGgoAAAANSUhEUgAAAMgAAACvCAAAAACdws6gAAAA6ElEQVR4nO3RQQ2AMAAEQYoTvGIDr3wR0KRDs6PgNjee4+M+futcPWCWQjSFaArRFKIpRFOIphBNIZpCNIVoCtEUoilEU4imEE0hmkI0hWgK0RSiKURTiKYQTSGaQjSFaArRFKIpRFOIphBNIZpCNIVoCtEUoilEU4imEE0hmkI0hWgK0RSiKURTiKYQTSGaQjSFaArRFKIpRFOIphBNIZpCNIVoCtEUoilEs03IuFYvmGSbRwrRFKIpRFOIphBNIZpCNIVoCtEUoilEU4imEE0hmkI0hWgK0RSiKURTiKYQTSGaQjSFaF6DQwKfDZLofwAAAABJRU5ErkJggg==\" style=\"image-rendering: pixelated;\">\n",
              "            </div><div style=\"margin-right:10px; margin-top: 4px;\">\n",
              "              46 <br/>\n",
              "              <img src=\"data:image/PNG;base64,iVBORw0KGgoAAAANSUhEUgAAAMgAAACvCAAAAACdws6gAAAA7klEQVR4nO3WsQ2AMAwAQUDsydxsQ01BR6JT9DeArZcb7/c2xjVo7pdj8r5hCtEUoilEU4imEM0yIeePs2b/iS/LXKQQTSGaQjSFaArRFKIpRFOIphBNIZpCNIVoCtEUoilEU4imEE0hmkI0hWgK0RSiKURTiKYQTSGaQjSFaArRFKIpRFOIphBNIZpCNIVoCtEUoilEU4imEE0hmkI0hWgK0RSiKURTiKYQTSGaQjSFaArRFKIpRFOIphBNIZpCNIVoCtEUoilEU4imEE0hmkI0hWgK0RSiKURTiKYQTSGaQjSFaArRFKIpRFOI5gHyUQL3s1t1RQAAAABJRU5ErkJggg==\" style=\"image-rendering: pixelated;\">\n",
              "            </div><div style=\"margin-right:10px; margin-top: 4px;\">\n",
              "              47 <br/>\n",
              "              <img src=\"data:image/PNG;base64,iVBORw0KGgoAAAANSUhEUgAAAMgAAACvCAAAAACdws6gAAAA5ElEQVR4nO3RAQnAMBAEwaYW4t9dhdREIMszo+CWW/uZ4b094BQhNUJqhNQIqRFSI6RGSI2QGiE1QmqE1AipEVIjpEZIjZAaITVCaoTUCKkRUiOkRkiNkBohNUJqhNQIqRFSI6RmTMj6bi84ZMwjQmqE1AipEVIjpEZIjZAaITVCaoTUCKkRUiOkRkiNkBohNUJqhNQIqRFSI6RGSI2QGiE1QmqE1AipEVIjpEZIjZAaITVCaoTUCKkRUiOkRkiNkBohNUJqhNQIqRFSI6RGSI2QGiE1QmqE1AipEVIjpEZIjZCaH6z4AlS41nI0AAAAAElFTkSuQmCC\" style=\"image-rendering: pixelated;\">\n",
              "            </div><div style=\"margin-right:10px; margin-top: 4px;\">\n",
              "              48 <br/>\n",
              "              <img src=\"data:image/PNG;base64,iVBORw0KGgoAAAANSUhEUgAAAMgAAACvCAAAAACdws6gAAAA70lEQVR4nO3YMQqAMBAAQRX/5Kf8f21tIaQQMoSd9lLccl32axtxD72a6Zi9wF8K0RSiKURTiKYQTSGaQjSFaArRFKIpRLNMyPk58f/kXpa5SCGaQjSFaArRFKIpRFOIphBNIZpCNIVoCtEUoilEU4imEE0hmkI0hWgK0RSiKURTiKYQTSGaQjSFaArRFKIpRFOIphBNIZpCNIVoCtEUoilEU4imEE0hmkI0hWgK0RSiKURTiKYQTSGaQjSFaArRFKIpRFOIphBNIZpCNIVoCtEUoilEU4imEE0hmkI0hWgK0RSiKURTiKYQTSGaQjQPgG4Cbyhx2IUAAAAASUVORK5CYII=\" style=\"image-rendering: pixelated;\">\n",
              "            </div><div style=\"margin-right:10px; margin-top: 4px;\">\n",
              "              49 <br/>\n",
              "              <img src=\"data:image/PNG;base64,iVBORw0KGgoAAAANSUhEUgAAAMgAAACvCAAAAACdws6gAAAA7klEQVR4nO3RwQmAQAwAQRULvwbtyQqEexw6yM43eWTJfm0zxtTWl46vD1ilEE0hmkI0hWgK0RSiKURTiKYQTSGaQjSFaArRFKIpRFOIphBNIZpCNIVoCtEUoilEU4imEE0hmkI0hWgK0RSiKURTiKYQTSGaQjSFaArRFKIpRFOIphBNIZpCNOfjZLx3xAq/+UghmkI0hWgK0RSiKURTiKYQTSGaQjSFaArRFKIpRFOIphBNIZpCNIVoCtEUoilEU4imEE0hmkI0hWgK0RSiKURTiKYQTSGaQjSFaArRFKIpRFOIphBNIZpCNL8JuQHSmQMtkWLkHgAAAABJRU5ErkJggg==\" style=\"image-rendering: pixelated;\">\n",
              "            </div></div>"
            ],
            "text/plain": [
              "<IPython.core.display.HTML object>"
            ]
          },
          "metadata": {
            "tags": []
          }
        },
        {
          "output_type": "stream",
          "text": [
            "Color channels (vertical stripes are 'apples'\n"
          ],
          "name": "stdout"
        },
        {
          "output_type": "display_data",
          "data": {
            "text/html": [
              "<div style=\"display: flex; flex-direction: row;\"><div style=\"margin-right:10px; margin-top: 4px;\">\n",
              "              0 <br/>\n",
              "              <img src=\"data:image/PNG;base64,iVBORw0KGgoAAAANSUhEUgAAAMgAAACvCAIAAAA3ywYrAAACpElEQVR4nO3dMYpUQRRA0Z7hL8B0tqGRYGwkuAtdx7gLtyFGxqbCbKBTY1cgbkCYaqhrV7XnxJ9HM1wqeTzm7vz+9WnAr9/fn/3mxf0bo0bm/A+j7kc+gksJi4SwSAiLhLBICIuEsEgIi4SwSAiLhLBICIvEsfWmc8FR+67P547yYpEQFglhkRAWCWGREBYJYZEQFglhkRAWCWGROLZeSA3uAWdZcDW57CgvFglhkRAWCWGREBYJYZEQFglhkRAWCWGREBYJYZFwsHqBfTfxDla5EcIiISwSwiIhLBLCIiEsEsIiISwSwiIhLBK3f7DqP6xeZZQXi4SwSAiLhLBICIuEsEgIi4SwSAiLhLBICIuEsEg4WL1g1EQLrs/njvJikRAWCWGREBYJYZEQFglhkRAWCWGREBYJYZE4Xr38NPbl22e/OD9tvNuaOGrEvgtTB6tck7BICIuEsEgIi4SwSAiLhLBICIuEsEgIi4SwSBwTZ229NJ01auv1uYNVVicsEsIiISwSwiIhLBLCIiEsEsIiISwSwiJxnJ++jXw3uHGbZd812b/fck7kYJXVCYuEsEgIi4SwSAiLhLBICIuEsEgIi4SwSMy8K5zIXeHcUYPcFbI6YZEQFglhkRAWCWGREBYJYZEQFglhkRAWCWGRmLmEXnP/evMHq2uO8mKREBYJYZEQFglhkRAWCWGREBYJYZEQFglhkTi2XkgN7gFnWXA1uewoLxYJYZEQFglhkRAWCWGREBYJYZEQFglhkRAWCWGRuLv2D/i7hy8Ps0Z9/jhr0unHh5+zRj0+TvvLv5s16HT6Om+UF4uEsEgIi4SwSAiLhLBICIuEsEgIi4SwSAiLhLBICIuEsEgIi4SwSAiLhLBICIuEsEgIi4SwSAiLhLBI/AFPqAwsQkZg/gAAAABJRU5ErkJggg==\" style=\"image-rendering: pixelated;\">\n",
              "            </div><div style=\"margin-right:10px; margin-top: 4px;\">\n",
              "              1 <br/>\n",
              "              <img src=\"data:image/PNG;base64,iVBORw0KGgoAAAANSUhEUgAAAMgAAACvCAIAAAA3ywYrAAAClElEQVR4nO3dsW1VQRBA0f8tN0BHFGBRBiE5CSZzYidE0AQRPbkMuwQv0lyzK86Jn8bJ1SSj9b/+/PjtsuDrl+ub3zz8eDFqZc7/MOpm5SP4W8IiISwSwiIhLBLCIiEsEsIiISwSwiIhLBLCInH98Pt+5bs9L50bjjr3fD47ysYiISwSwiIhLBLCIiEsEsIiISwSwiIhLBLCInF79EFqw1HnXjlnR9lYJIRFQlgkhEVCWCSERUJYJIRFQlgkhEVCWCSERcKD1eFR557PZ0fZWCSERUJYJIRFQlgkhEVCWCSERUJYJIRFQlgkPFgdHnXulXN2lI1FQlgkhEVCWCSERUJYJIRFQlgkhEVCWCSERUJYJDZ9sLpo8S+u8GB1dpSNRUJYJIRFQlgkhEVCWCSERUJYJIRFQlgkhEVi9cHqivc/SK3wYPWfjLKxSAiLhLBICIuEsEgIi4SwSAiLhLBICIuEsEgIi8Tqg9VBex5NPVidHWVjkRAWCWGREBYJYZEQFglhkRAWCWGREBYJYZG4Xfzunf8j7blnsnOvnLOjbCwSwiIhLBLCIiEsEsIiISwSwiIhLBLCIiEsEqu3whVH37a8K5wdZWOREBYJYZEQFglhkRAWCWGREBYJYZEQFglhkRAWidVfWN3z0rnhqHPP57OjbCwSwiIhLBLCIiEsEsIiISwSwiIhLBLCIiEsEqs/hLnnQWrDUedeOWdH2VgkhEVCWCSERUJYJIRFQlgkhEVCWCSERUJYJIRFYulAe7S7X49Toz5/f5oa9en5eWrU3dSgy+XP3Cgbi4SwSAiLhLBICIuEsEgIi4SwSAiLhLBICIuEsEgIi4SwSAiLhLBICIuEsEgIi4SwSAiLhLBICIuEsEi8ArWbGo+4KiHfAAAAAElFTkSuQmCC\" style=\"image-rendering: pixelated;\">\n",
              "            </div><div style=\"margin-right:10px; margin-top: 4px;\">\n",
              "              2 <br/>\n",
              "              <img src=\"data:image/PNG;base64,iVBORw0KGgoAAAANSUhEUgAAAMgAAACvCAIAAAA3ywYrAAACnElEQVR4nO3dsW1UQRRA0b9om3AHiIwuHCDnBMRuwBkxGQ24ADeACOjCZbgNSmCQ5v6dsc6JV283uPrJ09t/efn28Rjw4/7zPz/z/c/r+x41YvDrRgz+pJFvPH/Uh5EPwf8SFglhkRAWCWGREBYJYZEQFglhkRAWCWGREBaJ69abzjVHjdh3Ez84yhOLhLBICIuEsEgIi4SwSAiLhLBICIuEsEgIi8TFwercUVtvOR2ssjphkRAWCWGREBYJYZEQFglhkRAWCWGREBYJYZG4Tpy19dJ01qiJ/5p8PgerrE5YJIRFQlgkhEVCWCSERUJYJIRFQlgkhEVi5q7w5HeZMp2DVVYnLBLCIiEsEsIiISwSwiIhLBLCIiEsEsIiISwSe79hdV8L/t/z3FGeWCSERUJYJIRFQlgkhEVCWCSERUJYJIRFQlgkvGF18qitd68OVlmdsEgIi4SwSAiLhLBICIuEsEgIi4SwSAiLhLBIXD69fB353JqbzpNHjZh4arvvJv7wxCIiLBLCIiEsEsIiISwSwiIhLBLCIiEsEsIicV3ztahbr8lG7LswdbDKLQmLhLBICIuEsEgIi4SwSAiLhLBICIuEsEjc4EWYI/Zdk2295XRXyOqERUJYJIRFQlgkhEVCWCSERUJYJIRFQlgkhEVi5sHqmrev796Cm/jDE4uIsEgIi4SwSAiLhLBICIuEsEgIi4SwSAiLxA0OVk++fWWcg1VWJywSwiIhLBLCIiEsEsIiISwSwiIhLBLCIiEsEpdb/4Dcl+ef02Y9Ps2a9HvWoOP4dXc3a9TD29usUZ5YJIRFQlgkhEVCWCSERUJYJIRFQlgkhEVCWCSERUJYJIRFQlgkhEVCWCSERUJYJIRFQlgkhEVCWCSEReIvAuDaBvPhbiIAAAAASUVORK5CYII=\" style=\"image-rendering: pixelated;\">\n",
              "            </div><div style=\"margin-right:10px; margin-top: 4px;\">\n",
              "              3 <br/>\n",
              "              <img src=\"data:image/PNG;base64,iVBORw0KGgoAAAANSUhEUgAAAMgAAACvCAIAAAA3ywYrAAACj0lEQVR4nO3dsW0bQRBAUUpgCVIdasKh4EQ9uA4lzqwCVITrYiAXoUQFrIH9y+XpvZhYHomPSwZzd/f04/dpwN9/HyMfG/Hy8DjrqJGrGvy6WUcN/lGHP+p+5EPwv4RFQlgkhEVCWCSERUJYJIRFQlgkhEVCWCSEReK8fjw54nbnr4tn3nNNvCp3LBLCIiEsEsIiISwSwiIhLBLCIiEsEsIiISwS5/WzrcVH7Wnx7HXxkvDJHYuIsEgIi4SwSAiLhLBICIuEsEgIi4SwSAiLhLBIXGFhdc+jOFlYZX/CIiEsEsIiISwSwiIhLBLCIiEsEsIiISwSx19Yvd03rA7ac/bqjkVCWCSERUJYJIRFQlgkhEVCWCSERUJYJIRFQlgkNl1Y3dPhX4tqYZXdCYuEsEgIi4SwSAiLhLBICIuEsEgIi4SwSJwnnrV+ILXY4V+LamGV3QmLhLBICIuEsEgIi4SwSAiLhLBICIuEsEgIi8TMIfSerNGeLKxyGMIiISwSwiIhLBLCIiEsEsIiISwSwiIhLBJXeMPqYhN/4MSvG7Hnc4ctrHJNwiIhLBLCIiEsEsIiISwSwiIhLBLCIiEsEvYKvyx+cO1E9gr5RoRFQlgkhEVCWCSERUJYJIRFQlgkhEVCWCSEReL4Q+jF89f1z9K1sMo3IiwSwiIhLBLCIiEsEsIiISwSwiIhLBLCInHe8wmqE93uVa1/WLCFVXYnLBLCIiEsEsIiISwSwiIhLBLCIiEsEsIiISwSd9e+gFvyPPGs9z+zTvr1+jbrqJ+Xy6yj3LFICIuEsEgIi4SwSAiLhLBICIuEsEgIi4SwSAiLhLBICIuEsEgIi4SwSAiLhLBICIuEsEgIi4SwSAiLxCeYDr5rTYTo/AAAAABJRU5ErkJggg==\" style=\"image-rendering: pixelated;\">\n",
              "            </div><div style=\"margin-right:10px; margin-top: 4px;\">\n",
              "              4 <br/>\n",
              "              <img src=\"data:image/PNG;base64,iVBORw0KGgoAAAANSUhEUgAAAMgAAACvCAIAAAA3ywYrAAACmklEQVR4nO3dsU1dQRBAUR765SEnuAREhOQOkEWMMyf04NABGeUQ04EbQPJa2svfxefETwPB1SajgeP57eViwK/7n3/95uvDnVEjc/6HUZcjH8G/EhYJYZEQFglhkRAWCWGREBYJYZEQFglhkRAWiePm2/XId2tuOhccte/6fO4oLxYJYZEQFglhkRAWCWGREBYJYZEQFglhkRAWicPB6txR+245547yYpEQFglhkRAWCWGREBYJYZEQFglhkRAWCWGREBYJB6uTR338+nzWjxvkYJVzEhYJYZEQFglhkRAWCWGREBYJYZEQFglhkTjtexq65qg1t5yDHKyyOmGREBYJYZEQFglhkRAWCWGREBYJYZEQFglhkXCwOnnUvuvzuaO8WCSERUJYJIRFQlgkhEVCWCSERUJYJIRFQlgkRneFI7bebX3ug1X/YZVPQlgkhEVCWCSERUJYJIRFQlgkhEVCWCSERUJYJI7nt5dZs7ZemjpYnTvKi0VCWCSERUJYJIRFQlgkhEVCWCSERUJYJIRF4jT43ZoLqQ8eNdGCW865o7xYJIRFQlgkhEVCWCSERUJYJIRFQlgkhEVCWCROWy+k1hw1Yt+FqbtCzklYJIRFQlgkhEVCWCSERUJYJIRFQlgkhEVCWCRG/7jtxP3r4BZzxIL7163X5w5WWZ2wSAiLhLBICIuEsEgIi4SwSAiLhLBICIvEGQ5WR+y7Jtv6ytTBKqsTFglhkRAWCWGREBYJYZEQFglhkRAWCWGREBaJ49y/wPuu5o36PW/URFdPj7NG3X7/MWvUl9fXWaO8WCSERUJYJIRFQlgkhEVCWCSERUJYJIRFQlgkhEVCWCSERUJYJIRFQlgkhEVCWCSERUJYJIRFQlgkhEXiD7cCGCHVDtqeAAAAAElFTkSuQmCC\" style=\"image-rendering: pixelated;\">\n",
              "            </div><div style=\"margin-right:10px; margin-top: 4px;\">\n",
              "              5 <br/>\n",
              "              <img src=\"data:image/PNG;base64,iVBORw0KGgoAAAANSUhEUgAAAMgAAACvCAIAAAA3ywYrAAACqklEQVR4nO3dsW0UURRA0V20kRO3QEGWE3qgBVJSJCiAIsgowmU4cxs0QPCR3p39g8+JR29Hq6tJvt7M9fHl4bLg26+PK5et+PLpdWrUyl0t/tzUqPP+UYu/uDjqw8pF8K+ERUJYJIRFQlgkhEVCWCSERUJYJIRFQlgkhEXidvzx5Irj72pq1OCZ96INT+IvnlhEhEVCWCSERUJYJIRFQlgkhEVCWCSERUJYJK4WVmdHnfeUc3aUJxYJYZEQFglhkRAWCWGREBYJYZEQFglhkRAWCWGR2HRhddB5F1ZPPcoTi4SwSAiLhLBICIuEsEgIi4SwSAiLhLBICIvEbXDW8QdSB9vzwNTCKu+IsEgIi4SwSAiLhLBICIuEsEgIi4SwSAiLhLBITB5Cn/otv+dlYZV3RFgkhEVCWCSERUJYJIRFQlgkhEVCWCSEReK25xtUB+25RrvngamFVXYnLBLCIiEsEsIiISwSwiIhLBLCIiEsEsIiISwSd/jC6sFbpr6wepdRnlgkhEVCWCSERUJYJIRFQlgkhEVCWCSERUJYJK6PLw8r1w0e3g2ufW54V6c+e7Wwyu6ERUJYJIRFQlgkhEVCWCSERUJYJIRFQlgkJj+E+d/bc4NvkL1CdicsEsIiISwSwiIhLBLCIiEsEsIiISwSwiIhLBKTh9B7nr8efFd7vuH3+CVhTywSwiIhLBLCIiEsEsIiISwSwiIhLBLCIiEsEpt+CHNPey6sHvzRUAur3JOwSAiLhLBICIuEsEgIi4SwSAiLhLBICIuEsEhc730Df/f08/vUqM9ff0yNen57mxr1NDXocvk9N2qQJxYJYZEQFglhkRAWCWGREBYJYZEQFglhkRAWCWGREBYJYZEQFglhkRAWCWGREBYJYZEQFglhkRAWCWGR+ANqt9UUQqdVSwAAAABJRU5ErkJggg==\" style=\"image-rendering: pixelated;\">\n",
              "            </div><div style=\"margin-right:10px; margin-top: 4px;\">\n",
              "              6 <br/>\n",
              "              <img src=\"data:image/PNG;base64,iVBORw0KGgoAAAANSUhEUgAAAMgAAACvCAIAAAA3ywYrAAACi0lEQVR4nO3dsU1cURBAURZtE0jugSrIqANHRCZGyC2QUQclEW8NLoGPNNe8Z58Tr0a70tVLRqM9Xe5urw54/PH86WdeP34bdWTO/zDq+siH4KuERUJYJIRFQlgkhEVCWCSERUJYJIRFQlgkhEXiPLieHLTv/nXf9fnsKC8WCWGREBYJYZEQFglhkRAWCWGREBYJYZEQFonz398iHbHvmmzfLefsKC8WCWGREBYJYZEQFglhkRAWCWGREBYJYZEQFglhkTgPztp6aepgdXaUF4uEsEgIi4SwSAiLhLBICIuEsEgIi4SwSAiLxOSucNC+Z7T7bjlnR3mxSAiLhLBICIuEsEgIi4SwSAiLhLBICIuEsEgIi8TkP6weHHXEmt/qiK2vTB2ssjphkRAWCWGREBYJYZEQFglhkRAWCWGREBaJ0+Xu9sjn1lxILThq6ytTB6usTlgkhEVCWCSERUJYJIRFQlgkhEVCWCSERUJYJL7hYPXfHrXv+nx2lBeLhLBICIuEsEgIi4SwSAiLhLBICIuEsEgIi4SD1eFR+245Z0d5sUgIi4SwSAiLhLBICIuEsEgIi4SwSAiLhLBInAdnbb3bclc4O8qLRUJYJIRFQlgkhEVCWCSERUJYJIRFQlgkhEVCWCQml9BrLk0HLbjznuVgldUJi4SwSAiLhLBICIuEsEgIi4SwSAiLhLBI+CPML1jzNHTNH+jFIiEsEsIiISwSwiIhLBLCIiEsEsIiISwSwiIhLBKn7/4CO7mfG/VwczM16u3l19So959PU6O8WCSERUJYJIRFQlgkhEVCWCSERUJYJIRFQlgkhEVCWCSERUJYJIRFQlgkhEVCWCSERUJYJIRFQlgkhEXiD/sJAL7UuqFXAAAAAElFTkSuQmCC\" style=\"image-rendering: pixelated;\">\n",
              "            </div><div style=\"margin-right:10px; margin-top: 4px;\">\n",
              "              7 <br/>\n",
              "              <img src=\"data:image/PNG;base64,iVBORw0KGgoAAAANSUhEUgAAAMgAAACvCAIAAAA3ywYrAAACfklEQVR4nO3cQU1EQRBAQZZ8GXjgggyCDHQgAARwRwMqkEGCDJDAkMyDmaXq/NPZw8tcOr2n65fXiwGnt/dvv/m8uTJqZM5/GHU58hH8lLBICIuEsEgIi4SwSAiLhLBICIuEsEgIi4SwSBxbbzoXHLXv+nzuKC8WCWGREBYJYZEQFglhkRAWCWGREBYJYZEQFolj64XUgqP23XLOHeXFIiEsEsIiISwSwiIhLBLCIiEsEsIiISwSwiIhLBLHxFkTN50Tnf3B6kQOVlmdsEgIi4SwSAiLhLBICIuEsEgIi4SwSAiLxMxd4ZprMger4xyssjphkRAWCWGREBYJYZEQFglhkRAWCWGREBYJYZFY9GB131FrbuIHOVhldcIiISwSwiIhLBLCIiEsEsIiISwSwiIhLBLH719Frrlxc7A6OMrBKn9JWCSERUJYJIRFQlgkhEVCWCSERUJYJIRFQlgkHKxOHrX1lamDVVYnLBLCIiEsEsIiISwSwiIhLBLCIiEsEsIicex7Gjo4atCCB6uDFlyYXnixiAiLhLBICIuEsEgIi4SwSAiLhLBICIuEsEic/13hRPsuTN0VciaERUJYJIRFQlgkhEVCWCSERUJYJIRFQlgkhEVi5hJ666XpLx+sTuRglX9EWCSERUJYJIRFQlgkhEVCWCSERUJYJIRF4ljzynTfUfv+Le/cUV4sEsIiISwSwiIhLBLCIiEsEsIiISwSwiIhLBLCInH66x+wk9uJs54fZ026f3iaNeru42PWKC8WCWGREBYJYZEQFglhkRAWCWGREBYJYZEQFglhkRAWCWGREBYJYZEQFglhkRAWCWGREBYJYZEQFglhkfgCPBr3/Jdx8MQAAAAASUVORK5CYII=\" style=\"image-rendering: pixelated;\">\n",
              "            </div><div style=\"margin-right:10px; margin-top: 4px;\">\n",
              "              8 <br/>\n",
              "              <img src=\"data:image/PNG;base64,iVBORw0KGgoAAAANSUhEUgAAAMgAAACvCAIAAAA3ywYrAAACgUlEQVR4nO3dsU0dURBA0f2IEpxQDB0gAjfhBtyEJRpwTkxgWTTgYkhchBuw5EWay9+3Pif+GhFcvWQ07OX59du2w69PL//8zf3vz0btmfM/jLrZ8yN4L2GREBYJYZEQFglhkRAWCWGREBYJYZEQFglhkbhdetO5c8E85YA778OO8mKREBYJYZEQFglhkRAWCWGREBYJYZEQFglhkbhdeiE1OGqPdRemDlY5CWGREBYJYZEQFglhkRAWCWGREBYJYZEQFglhkTj/weoHj1p6E+9glaMTFglhkRAWCWGREBYJYZEQFglhkRAWCWGRuPjC6uyodf8t7+ZgleMTFglhkRAWCWGREBYJYZEQFglhkRAWCWGREBaJyYPVQQ5WZzlY5SSERUJYJIRFQlgkhEVCWCSERUJYJIRFQlgkrvCF1T0crK4+yotFQlgkhEVCWCSERUJYJIRFQlgkhEVCWCSERUJYJHxhdXjUuuvz2VFeLBLCIiEsEsIiISwSwiIhLBLCIiEsEsIiISwSVzhYPfeodbecs6O8WCSERUJYJIRFQlgkhEVCWCSERUJYJIRFQlgkzn9XOOiAq8nDjvJikRAWCWGREBYJYZEQFglhkRAWCWGREBYJYZEQFgkHq++w7ibewSonISwSwiIhLBLCIiEsEsIiISwSwiIhLBLCInH+g9XTfwhzkINVjk5YJIRFQlgkhEVCWCSERUJYJIRFQlgkhEVCWCQu1/4D/u7H3d3UqMe3t6lRD1ODtm37/jQ16eeXr1OjBnmxSAiLhLBICIuEsEgIi4SwSAiLhLBICIuEsEgIi4SwSAiLhLBICIuEsEgIi4SwSAiLhLBICIuEsEgIi8QfiRMRwITxh9EAAAAASUVORK5CYII=\" style=\"image-rendering: pixelated;\">\n",
              "            </div><div style=\"margin-right:10px; margin-top: 4px;\">\n",
              "              9 <br/>\n",
              "              <img src=\"data:image/PNG;base64,iVBORw0KGgoAAAANSUhEUgAAAMgAAACvCAIAAAA3ywYrAAACgUlEQVR4nO3dsUlEURRFUUemCduwDvuwAM0EEcEmTAzsQASbM7ABwS/crf/pWvFwMNi85PLx8Hb/dLLBzf3xy9883L6b2rLzH6ZOt/wIvktYJIRFQlgkhEVCWCSERUJYJIRFQlgkhEVCWCQO58fnLb/b56Vzh1Prns9np7xYJIRFQlgkhEVCWCSERUJYJIRFQlgkhEVCWCQOPljdPjVoh1fO2SkvFglhkRAWCWGREBYJYZEQFglhkRAWCWGREBYJYZHwweo3pgate4n3wSq/SVgkhEVCWCSERUJYJIRFQlgkhEVCWCSEReK49EFqh1P7vHL6YJU/QlgkhEVCWCSERUJYJIRFQlgkhEVCWCSERUJYJHywOjy17vl8dsqLRUJYJIRFQlgkhEVCWCSERUJYJIRFQlgkhEXCB6vDU+teOWenvFgkhEVCWCSERUJYJIRFQlgkhEVCWCSERUJYJIRFwgerw1Prns9np7xYJIRFQlgkhEVCWCSERUJYJIRFQlgkhEVCWCQmP1gdtO6ZbN0r5+yUF4uEsEgIi4SwSAiLhLBICIuEsEgIi4SwSAiLxPHnr0hbrHsmW/fKOTvlxSIhLBLCIiEsEsIiISwSwiIhLBLCIiEsEsIiISwS/sPq8NS65/PZKS8WCWGREBYJYZEQFglhkRAWCWGREBYJYZEQFgn/CHN4at0r5+yUF4uEsEgIi4SwSAiLhLBICIuEsEgIi4SwSAiLhLBIHH77D/jcxdzU69zUoJezs6mpx7urqanXy+upKS8WCWGREBYJYZEQFglhkRAWCWGREBYJYZEQFglhkRAWCWGREBYJYZEQFglhkRAWCWGREBYJYZEQFglhkfgAyYsaWyix3HEAAAAASUVORK5CYII=\" style=\"image-rendering: pixelated;\">\n",
              "            </div><div style=\"margin-right:10px; margin-top: 4px;\">\n",
              "              10 <br/>\n",
              "              <img src=\"data:image/PNG;base64,iVBORw0KGgoAAAANSUhEUgAAAMgAAACvCAIAAAA3ywYrAAACoUlEQVR4nO3dwW0UQRBA0TXaJEwc5OQEiIETCZgwECn4Rhz4SgiEQCH17+1B751XtXP4mkurpp/efn+5Dbx8+vjX37z+/PV/j5oY/t3E8JEm/7h/1IfJj+BfCYuEsEgIi4SwSAiLhLBICIuEsEgIi4SwSAiLxP3SJ50LT3w3u+5J/HCUNxYJYZEQFglhkRAWCWGREBYJYZEQFglhkRAWifulD6QWjpo488B0IQurnE5YJIRFQlgkhEVCWCSERUJYJIRFQlgkhEVCWCTuC2edubB65u7rgd97Ho6ysMojCYuEsEgIi4SwSAiLhLBICIuEsEgIi4SwSKw8K9x/tjVh9/Uho7yxSAiLhLBICIuEsEgIi4SwSAiLhLBICIuEsEgIi8TKG1aZ23zmPWRhldMJi4SwSAiLhLBICIuEsEgIi4SwSAiLhLBIrFxYXWj/7uvmg7kzP8trYZXTCYuEsEgIi4SwSAiLhLBICIuEsEgIi4SwSAiLxKE3rJ5p87Wolx7ljUVCWCSERUJYJIRFQlgkhEVCWCSERUJYJIRF4n7pA6mJzU+1/y7ThSyscjphkRAWCWGREBYJYZEQFglhkRAWCWGREBaJlRdhGjWcs3/UkL1CTicsEsIiISwSwiIhLBLCIiEsEsIiISwSwiIhLBIrP267/9B04syF1YUOPIm/eWMRERYJYZEQFglhkRAWCWGREBYJYZEQFglhkTj0IszNS5i3IxdWh85co/XGIiEsEsIiISwSwiIhLBLCIiEsEsIiISwSwiIhLBJPj36A3Pfn51Wjvr2/rxp1e/26atKPl8+rRi3kjUVCWCSERUJYJIRFQlgkhEVCWCSERUJYJIRFQlgkhEVCWCSERUJYJIRFQlgkhEVCWCSERUJYJIRFQlgk/gBxvtKuubftFQAAAABJRU5ErkJggg==\" style=\"image-rendering: pixelated;\">\n",
              "            </div><div style=\"margin-right:10px; margin-top: 4px;\">\n",
              "              11 <br/>\n",
              "              <img src=\"data:image/PNG;base64,iVBORw0KGgoAAAANSUhEUgAAAMgAAACvCAIAAAA3ywYrAAACp0lEQVR4nO3dwYkUURRAUVt6M+DSAGYze+MQ4zAOA3ACcOIYjMOtGMAkYAAmMOAX3u36Jeesi9fVcPmbx6cuv97/fLPg47sPf33m++8fG45atPKLg2++YvHfTb357Ki3Kw/BvxIWCWGREBYJYZEQFglhkRAWCWGREBYJYZEQFonrqTedg6Nu7LxL/cVRTiwSwiIhLBLCIiEsEsIiISwSwiIhLBLCIiEsEpf//sLqjUedemHqwiq7ExYJYZEQFglhkRAWCWGREBYJYZEQFglhkRAWicvD/d3Kc3tuOjccdd71+ewoJxYJYZEQFglhkRAWCWGREBYJYZEQFglhkRAWCRdWh0edd8s5O8qJRUJYJIRFQlgkhEVCWCSERUJYJIRFQlgkhEVCWCQmL6wuGvzk6Yb71/Ouz2dHObFICIuEsEgIi4SwSAiLhLBICIuEsEgIi4SwSFxvv0VaMfhWgzZcTW47yolFQlgkhEVCWCSERUJYJIRFQlgkhEVCWCSERUJYJK6n3nQOjlqx59XQPUc5sUgIi4SwSAiLhLBICIuEsEgIi4SwSAiLhLBIHHBh9caj9rTnwtSFVXYnLBLCIiEsEsIiISwSwiIhLBLCIiEsEsIi4V7hMc67e3WvkCMJi4SwSAiLhLBICIuEsEgIi4SwSAiLhLBICIvE5eH+buW5wa+n7rk09bHW2VFOLBLCIiEsEsIiISwSwiIhLBLCIiEsEsIiISwS16Nf4HV7rskGnXdh6sIqRxIWCWGREBYJYZEQFglhkRAWCWGREBYJYZEQFonL0S/wuk/fvk6N+vzlcWrU08vL1KjnqUG7cmKREBYJYZEQFglhkRAWCWGREBYJYZEQFglhkRAWCWGREBYJYZEQFglhkRAWCWGREBYJYZEQFglhkRAWiT8u8vk4E/lHNwAAAABJRU5ErkJggg==\" style=\"image-rendering: pixelated;\">\n",
              "            </div><div style=\"margin-right:10px; margin-top: 4px;\">\n",
              "              12 <br/>\n",
              "              <img src=\"data:image/PNG;base64,iVBORw0KGgoAAAANSUhEUgAAAMgAAACvCAIAAAA3ywYrAAACjUlEQVR4nO3dsW0UURRA0V3kEImExJkTWnARiD4oAAqgDpdhWS6CDizaoABK4CO9uzt/OScevZng6idPX3P+8OvjacHPz+//+szj62+jVub8D6PerTwE/0pYJIRFQlgkhEVCWCSERUJYJIRFQlgkhEVCWCTOb58eVp475qbzgKP2XZ/PjnJikRAWCWGREBYJYZEQFglhkRAWCWGREBYJYZE4u7A6PmrKvgvTkxOLiLBICIuEsEgIi4SwSAiLhLBICIuEsEgIi4SwSNz+hdVFi2+8pK038U4sEsIiISwSwiIhLBLCIiEsEsIiISwSwiIhLBJ3Wy+kLnzLdN+FqQur3AhhkRAWCWGREBYJYZEQFglhkRAWCWGREBYJYZG4/QurN/+H1anXLXJhlWsSFglhkRAWCWGREBYJYZEQFglhkRAWCWGR8IfV4VGX33JOvW6RC6tck7BICIuEsEgIi4SwSAiLhLBICIuEsEgIi4SwSNztezX0mKOOuT5f5A+rHJ2wSAiLhLBICIuEsEgIi4SwSAiLhLBICIuEC6vDo/bdcs6OcmKREBYJYZEQFglhkRAWCWGREBYJYZEQFglhkfAjzOFR+245Z0c5sUgIi4SwSAiLhLBICIuEsEgIi4SwSAiLhLBICIuEC6vDo/Zdn8+OcmKREBYJYZEQFglhkRAWCWGREBYJYZEQFglhkXBhdXjUvlvO2VFOLBLCIiEsEsIiISwSwiIhLBLCIiEsEsIiISwSwiJxvvYH5J7v76dGPf34NjXq5ev3qVFfpgadTi9zo5xYJIRFQlgkhEVCWCSERUJYJIRFQlgkhEVCWCSERUJYJIRFQlgkhEVCWCSERUJYJIRFQlgkhEVCWCSEReIP6XMP8/dPTioAAAAASUVORK5CYII=\" style=\"image-rendering: pixelated;\">\n",
              "            </div><div style=\"margin-right:10px; margin-top: 4px;\">\n",
              "              13 <br/>\n",
              "              <img src=\"data:image/PNG;base64,iVBORw0KGgoAAAANSUhEUgAAAMgAAACvCAIAAAA3ywYrAAACm0lEQVR4nO3dsW0UURRA0TFayTWYmjAdOKYBaiCiAcd0gIhdDq7BmRMCAiQmeHf2z+qc2HrrWV395Ovt3H17edx2+Hj/479/8/vtyag9c3Y6/kuY+rht2z5MfR78TVgkhEVCWCSERUJYJIRFQlgkhEVCWCSERUJYJC477xQH719ve9TgzfHxBh/QiUVCWCSERUJYJIRFQlgkhEVCWCSERUJYJIRF4nLe1dA1R533lnN2lBOLhLBICIuEsEgIi4SwSAiLhLBICIuEsEgIi4SwSFwGZ5360vTghdVBC97Eb04sIsIiISwSwiIhLBLCIiEsEsIiISwSwiIhLBKTd4Vr/q7rmgurexz/WlQLq6xOWCSERUJYJIRFQlgkhEVCWCSERUJYJIRFQlgkzv2G1T3WXFg9+AEtrHIjhEVCWCSERUJYJIRFQlgkhEVCWCSERUJYJBZ9w+qgNRdWb36UE4uEsEgIi4SwSAiLhLBICIuEsEgIi4SwSAiLhLBIWFj9Y8GF1VOPcmKREBYJYZEQFglhkRAWCWGREBYJYZEQFglhkVh0YfW8o05992phldUJi4SwSAiLhLBICIuEsEgIi4SwSAiLhLBITO4VrmnNB1zwlnN2lBOLhLBICIuEsEgIi4SwSAiLhLBICIuEsEgIi4SwSFxhYfVgaz7gmlumFlZZnbBICIuEsEgIi4SwSAiLhLBICIuEsEgIi8SiL8Ic5EWYVxnlxCIhLBLCIiEsEsIiISwSwiIhLBLCIiEsEsIiISwSd9f+B/7t0+Cs5+9Tk359+To1atDPh4epUZ9fX6dGObFICIuEsEgIi4SwSAiLhLBICIuEsEgIi4SwSAiLhLBICIuEsEgIi4SwSAiLhLBICIuEsEgIi4SwSAiLxDuYnPVQbV+rAgAAAABJRU5ErkJggg==\" style=\"image-rendering: pixelated;\">\n",
              "            </div><div style=\"margin-right:10px; margin-top: 4px;\">\n",
              "              14 <br/>\n",
              "              <img src=\"data:image/PNG;base64,iVBORw0KGgoAAAANSUhEUgAAAMgAAACvCAIAAAA3ywYrAAAClUlEQVR4nO3dsW0UURRA0bE1BZC6FCRKsEQZNEAZNABlWC6BNoidugJEQEbCIL07+wefE6/e7kpXP/l6M3c/Pr7fDnj9+f2vn3l3/8GoI3Pewqj7Ix+CfyUsEsIiISwSwiIhLBLCIiEsEsIiISwSwiIhLBL74PXkmtb8gwten8+OcmKREBYJYZEQFglhkRAWCWGREBYJYZEQFglhkdjPv0U62eAfHPy6Iyyswp+ERUJYJIRFQlgkhEVCWCSERUJYJIRFQlgkhEVicmH1uquh2+gfPGLNLVMLq6xOWCSERUJYJIRFQlgkhEVCWCSERUJYJIRFYh+ctebuqzes3mSUE4uEsEgIi4SwSAiLhLBICIuEsEgIi4SwSAiLhLBITF5CD7ru/ev5j462sMobIiwSwiIhLBLCIiEsEsIiISwSwiIhLBLCIrHoXeF1n+t6/hN+F7ww3ZxYRIRFQlgkhEVCWCSERUJYJIRFQlgkhEVCWCSERWLRS+jrvqz1utfns6OcWCSERUJYJIRFQlgkhEVCWCSERUJYJIRFQlgkdq9FPW7N1dA1RzmxSAiLhLBICIuEsEgIi4SwSAiLhLBICIuEsEjsl76QWnCUF2H+5sQiISwSwiIhLBLCIiEsEsIiISwSwiIhLBLCIiEsEjdYWD151KDBO++przvIwir/CWGREBYJYZEQFglhkRAWCWGREBYJYZEQFolFF1a5CQurrE5YJIRFQlgkhEVCWCSERUJYJIRFQlgkhEVCWCTubv0Dck8PD1Ojvr28TI16nhq0bY9fv0yNev70eWqUE4uEsEgIi4SwSAiLhLBICIuEsEgIi4SwSAiLhLBICIuEsEgIi4SwSAiLhLBICIuEsEgIi4SwSAiLhLBI/AKzYNbCB1kUpgAAAABJRU5ErkJggg==\" style=\"image-rendering: pixelated;\">\n",
              "            </div><div style=\"margin-right:10px; margin-top: 4px;\">\n",
              "              15 <br/>\n",
              "              <img src=\"data:image/PNG;base64,iVBORw0KGgoAAAANSUhEUgAAAMgAAACvCAIAAAA3ywYrAAACnklEQVR4nO3dwW1TURBAUSf6BbBNL5QAtEEDlEEDtIFSAlvqyDYNBNHCQ3r3e344Z23Nt6wrb0ZjP/z+/HZb8OHx48rLVrz++bVr1Mq7WnzcrlGLH9S7H/W48iL4V8IiISwSwiIhLBLCIiEsEsIiISwSwiIhLBLCInGcv568ro07740GbuJvvrGICIuEsEgIi4SwSAiLhLBICIuEsEgIi4SwSBznb5FmbtxWnHwausjBKv8RYZEQFglhkRAWCWGREBYJYZEQFglhkRAWCWGRuMPB6sxV7slmLvUdrDKdsEgIi4SwSAiLhLBICIuEsEgIi4SwSAiLxLUPVmf+7+uux83cvTpY5Z6ERUJYJIRFQlgkhEVCWCSERUJYJIRFQlgkhEXi2Djr3V+ZbnTdpb6DVe5JWCSERUJYJIRFQlgkhEVCWCSERUJYJIRFYueu8NJXpif/7+vMK1MHq0wnLBLCIiEsEsIiISwSwiIhLBLCIiEsEsIiISwSQw9WNy6qZ5p5ZepglemERUJYJIRFQlgkhEVCWCSERUJYJIRFQlgkhh6snj/qoo/by8Eq0wmLhLBICIuEsEgIi4SwSAiLhLBICIuEsEgcl/4F1ZmjVpy8MF3krpDphEVCWCSERUJYJIRFQlgkhEVCWCSERUJYJIRF4rj0lel1fwN35vrcwSrTCYuEsEgIi4SwSAiLhLBICIuEsEgIi4SwSOw8WN1o5pXpRtfdvTpY5Z6ERUJYJIRFQlgkhEVCWCSERUJYJIRFQlgkhEXi4d5vIPfz6WnXqC8vL7tGffrxfdeo29dvuyY97xrkG4uIsEgIi4SwSAiLhLBICIuEsEgIi4SwSAiLhLBICIuEsEgIi4SwSAiLhLBICIuEsEgIi4SwSAiLhLBI/AXl+tAm6b29+wAAAABJRU5ErkJggg==\" style=\"image-rendering: pixelated;\">\n",
              "            </div><div style=\"margin-right:10px; margin-top: 4px;\">\n",
              "              16 <br/>\n",
              "              <img src=\"data:image/PNG;base64,iVBORw0KGgoAAAANSUhEUgAAAMgAAACvCAIAAAA3ywYrAAACuElEQVR4nO3dsW1bMRRAUUnQBq7cZAGvYmQNL5AyZcoskDUCT5TGVWq3XsCAGYD3i4zPqYWnb+CCDf30z5fXh9OAH3d/PvzM979fFhw1aPAbPzT4SCNft/Woy8iH4F8Ji4SwSAiLhLBICIuEsEgIi4SwSAiLhLBICIvEdeubzomjRux7E3/8KCcWCWGREBYJYZEQFglhkRAWCWGREBYJYZEQFonzxIXVQbNWQ09LPtXWF6YWVlmdsEgIi4SwSAiLhLBICIuEsEgIi4SwSAiLhLBI3GBhdcSaTzXRxNXQiSyssjphkRAWCWGREBYJYZEQFglhkRAWCWGREBaJ6/HvMh2x9e+6jjj4lvP4JWEnFglhkRAWCWGREBYJYZEQFglhkRAWCWGREBYJYZFYdGF1ooP/wDWvzwdZWGV1wiIhLBLCIiEsEsIiISwSwiIhLBLCIiEsEteJs46/2zp4D3PNC1NvWOUTERYJYZEQFglhkRAWCWGREBYJYZEQFglhkRAWiZmX0Gvuvu67sDpozTVaJxYJYZEQFglhkRAWCWGREBYJYZEQFglhkRAWifPl9WHkc2tek+27sPrfj3JikRAWCWGREBYJYZEQFglhkRAWCWGREBYJYZG4wYsw1/yJ2BETL0wnslfIJyIsEsIiISwSwiIhLBLCIiEsEsIiISwSwiIhLBKLvmH1+FEjDr6JH7Tm/wc4sUgIi4SwSAiLhLBICIuEsEgIi4SwSAiLhLBILPoizIn2fRHm1qOcWCSERUJYJIRFQlgkhEVCWCSERUJYJIRFQlgkhEXifOsHeN/jr5+zRj0/fZs16vf9/axRX19eZo16nDXodHqeN8qJRUJYJIRFQlgkhEVCWCSERUJYJIRFQlgkhEVCWCSERUJYJIRFQlgkhEVCWCSERUJYJIRFQlgkhEVCWCTeABVJ4KGYWvKKAAAAAElFTkSuQmCC\" style=\"image-rendering: pixelated;\">\n",
              "            </div><div style=\"margin-right:10px; margin-top: 4px;\">\n",
              "              17 <br/>\n",
              "              <img src=\"data:image/PNG;base64,iVBORw0KGgoAAAANSUhEUgAAAMgAAACvCAIAAAA3ywYrAAACo0lEQVR4nO3dwUmcURSAUScjWEJwY0ViEwHTQDZWIIgNZJEu7EnSRbZZBPKE9413hnPWP3d+4eNt3lzncPfyeLXg99Ov/z7z9fnbZY9asfhxK3a90tVnvNWXXZ8HfxMWCWGREBYJYZEQFglhkRAWCWGREBYJYZEQFonrxTvFlVtMo9YNvD5fHLX4Vk4sEsIiISwSwiIhLBLCIiEsEsIiISwSwiIhLBLXM1dDz3fUWd9ybhzlxCIhLBLCIiEsEsIiISwSwiIhLBLCIiEsEsIiISwSh5vjceW5mTedA0ed9X9NtrDKdMIiISwSwiIhLBLCIiEsEsIiISwSwiIhLBIWVj8w6uJZWGU6YZEQFglhkRAWCWGREBYJYZEQFglhkRAWCWGR8Aur+0etmHl9bmGV6YRFQlgkhEVCWCSERUJYJIRFQlgkhEVCWCQuf2F1o5lXkzNHObFICIuEsEgIi4SwSAiLhLBICIuEsEgIi4SwSAiLhIXVDzjxL6wumvn9ACcWCWGREBYJYZEQFglhkRAWCWGREBYJYZEQFomhC6sbnfgP3HjLuWjm3asTi4SwSAiLhLBICIuEsEgIi4SwSAiLhLBICIvEee8VntjMDb6Zo5xYJIRFQlgkhEVCWCSERUJYJIRFQlgkhEVCWCSERWLowurpR62YeRM/c5QTi4SwSAiLhLBICIuEsEgIi4SwSAiLhLBICIvE4eZ4XHlu5oXUwFEbryY3bu1aWOVCCIuEsEgIi4SwSAiLhLBICIuEsEgIi4SwSAiLxOGzX+Df7veNery93TXq4f1916j7n6+7Rr19/7Fr1EZOLBLCIiEsEsIiISwSwiIhLBLCIiEsEsIiISwSwiIhLBLCIiEsEsIiISwSwiIhLBLCIiEsEsIiISwSwiLxB4Mv+JKdLWZmAAAAAElFTkSuQmCC\" style=\"image-rendering: pixelated;\">\n",
              "            </div><div style=\"margin-right:10px; margin-top: 4px;\">\n",
              "              18 <br/>\n",
              "              <img src=\"data:image/PNG;base64,iVBORw0KGgoAAAANSUhEUgAAAMgAAACvCAIAAAA3ywYrAAAChElEQVR4nO3dsUlEURBAURULMLUOWzDVwEYswX4UDOzD0Bo2tQKxAcEvzF3f13PiZVzh8pJh2NOn15uTDe4uzr79zPP7h1Fb5vyHUZs+BD8lLBLCIiEsEsIiISwSwiIhLBLCIiEsEsIiISwS57vedC44ar/r89lRXiwSwiIhLBLCIiEsEsIiISwSwiIhLBLCIiEsEue7XkgtOOr4W85BDlZZnbBICIuEsEgIi4SwSAiLhLBICIuEsEgIi4SwSDhYHR615vp8IwerrE5YJIRFQlgkhEVCWCSERUJYJIRFQlgkhEXCwerwqP1uOWdHebFICIuEsEgIi4SwSAiLhLBICIuEsEgIi4SwSAiLhIPV4VH7XZ/PjvJikRAWCWGREBYJYZEQFglhkRAWCWGREBYJYZGYPFg9vgXXZPvdcs6OWjEX/gBhkRAWCWGREBYJYZEQFglhkRAWCWGREBYJYZH4hYPVqT+30eA/OGhwfT7IwSqrExYJYZEQFglhkRAWCWGREBYJYZEQFglhkfALq/OjtjjylelGDlZZnbBICIuEsEgIi4SwSAiLhLBICIuEsEgIi4Qfwhwetestp7tCVicsEsIiISwSwiIhLBLCIiEsEsIiISwSwiIhLBIOVodH7Xd9PjvKi0VCWCSERUJYJIRFQlgkhEVCWCSERUJYJIRF4u8frA5acDW57CgvFglhkRAWCWGREBYJYZEQFglhkRAWCWGREBYJYZE4/e0v8LXrh8epUW9X91OjDreHqVEvl5dTo24PY99qkBeLhLBICIuEsEgIi4SwSAiLhLBICIuEsEgIi4SwSAiLhLBICIuEsEgIi4SwSAiLhLBICIuEsEgIi4SwSHwCQDsQqzICTi8AAAAASUVORK5CYII=\" style=\"image-rendering: pixelated;\">\n",
              "            </div><div style=\"margin-right:10px; margin-top: 4px;\">\n",
              "              19 <br/>\n",
              "              <img src=\"data:image/PNG;base64,iVBORw0KGgoAAAANSUhEUgAAAMgAAACvCAIAAAA3ywYrAAACbklEQVR4nO3bsUlEQRhGUZ9sE9uGddiHDZgJBoKZDWhqB7I9bRMGNiC4wn/xDZ4TPz5ecJlkmO3m8H51gefHzx+/eXg6mLpk5z9MXV/yEfyWsEgIi4SwSAiLhLBICIuEsEgIi4SwSAiLhLBIHJa+6dzh1LrX57NTTiwSwiIhLBLCIiEsEsIiISwSwiIhLBLCIiEsEpsHq7NT695yzk45sUgIi4SwSAiLhLBICIuEsEgIi4SwSAiLhLBICIuEB6vDU+ten89OObFICIuEsEgIi4SwSAiLhLBICIuEsEgIi4SwSHiwOjy17i3n7JQTi4SwSAiLhLBICIuEsEgIi4SwSAiLhLBICIuEsEh4sDo8te71+eyUE4uEsEgIi4SwSAiLhLBICIuEsEgIi4SwSAiLhAerw1Pr3nLOTjmxSAiLhLBICIuEsEgIi4SwSAiLhLBICIuEsEgIi4QHq8NT616fz045sUgIi4SwSAiLhLBICIuEsEgIi4SwSAiLhLBIeLA6bN1bztkpJxYJYZEQFglhkRAWCWGREBYJYZEQFglhkRAWCe8Khy19YepdIXsnLBLCIiEsEsIiISwSwiIhLBLCIiEsEsIiISwSHqwOTy19E+/BKnsnLBLCIiEsEsIiISwSwiIhLBLCIiEsEsIi4cHq8NS6t5yzU04sEsIiISwSwiIhLBLCIiEsEsIiISwSwiIhLBLCIrH99Q987/b1ZWrqdHc/NTXo43icmno7n6emTlNDTiwiwiIhLBLCIiEsEsIiISwSwiIhLBLCIiEsEsIiISwSwiIhLBLCIiEsEsIiISwSwiIhLBLCIiEsEsIi8QXaQCGDG4zf8wAAAABJRU5ErkJggg==\" style=\"image-rendering: pixelated;\">\n",
              "            </div><div style=\"margin-right:10px; margin-top: 4px;\">\n",
              "              20 <br/>\n",
              "              <img src=\"data:image/PNG;base64,iVBORw0KGgoAAAANSUhEUgAAAMgAAACvCAIAAAA3ywYrAAACnElEQVR4nO3cwYlUURBA0R7pJCYYN4KRuDABTcCtJqAg5iCCCwOaNAzBJ7z7pr6es26qu+HyN0X9h58fvt0WfPz15o+fef/6q1Erc/6HUS9WPgR/S1gkhEVCWCSERUJYJIRFQlgkhEVCWCSERUJYJB5evVxqa+am8/CoFYtft+K6m/ibJxYRYZEQFglhkRAWCWGREBYJYZEQFglhkRAWifulF1IzR6247sLUwSrPSVgkhEVCWCSERUJYJIRFQlgkhEVCWCSERUJYJO4bZx0+DT1v5s575ihPLBLCIiEsEsIiISwSwiIhLBLCIiEsEsIiISwSO3eFM09Dz99qHv66maM8sUgIi4SwSAiLhLBICIuEsEgIi4SwSAiLhLBICIvE0IPVmZvjjWZemTpYZTphkRAWCWGREBYJYZEQFglhkRAWCWGREBaJax+sHh610cyFqYNVphMWCWGREBYJYZEQFglhkRAWCWGREBYJYZEQFon7pTedM0etOPzq6EUOVplOWCSERUJYJIRFQlgkhEVCWCSERUJYJIRF4n7de87byNvXmVvORQ5WmU5YJIRFQlgkhEVCWCSERUJYJIRFQlgkhEXiGe4KDzv8B6+75dw7yhOLhLBICIuEsEgIi4SwSAiLhLBICIuEsEgIi4SwSOw8WD0/asU/f7C6kYNVphMWCWGREBYJYZEQFglhkRAWCWGREBYJYZG4b5w1872u518Ru+Lw7nWRg1WmExYJYZEQFglhkRAWCWGREBYJYZEQFglhkRAWiYfn/gFX8v3xcdeoL09Pu0bdPn/aNenH23e7RnlikRAWCWGREBYJYZEQFglhkRAWCWGREBYJYZEQFglhkRAWCWGREBYJYZEQFglhkRAWCWGREBYJYZEQFonfl+3scroYA+cAAAAASUVORK5CYII=\" style=\"image-rendering: pixelated;\">\n",
              "            </div><div style=\"margin-right:10px; margin-top: 4px;\">\n",
              "              21 <br/>\n",
              "              <img src=\"data:image/PNG;base64,iVBORw0KGgoAAAANSUhEUgAAAMgAAACvCAIAAAA3ywYrAAACtUlEQVR4nO3dsY2TMRiA4QSlh4LmFrkp2IOKjjHoqGABenRT3AaIAa6gYQQKGkpLfO8fR3meOnJs6ZUby7/PP9/+OC148/lx5Wcrfn94nvq7laEWTS1wcUorf7fh6k7Ls3o19X/wL2GREBYJYZEQFglhkRAWCWGREBYJYZEQFglhkbgMjjV4/rqng4/Pjz+JH5yVHYuEsEgIi4SwSAiLhLBICIuEsEgIi4SwSAiLxGXPs63B88SDZ7XnhdVFg7OyY5EQFglhkRAWCWGREBYJYZEQFglhkRAWCWGREBaJy/GHpgcPNWjPk3gXVrkjwiIhLBLCIiEsEsIiISwSwiIhLBLCIiEsEudf316v/O6mX/tcMXWCefzq9jzGtWOREBYJYZEQFglhkRAWCWGREBYJYZEQFglhkRAWickXVgfd9LeHD7bnNVo7FglhkRAWCWGREBYJYZEQFglhkRAWCWGREBaJybPCPb/revwnYg/mwip3RFgkhEVCWCSERUJYJIRFQlgkhEVCWCSERUJYJCZfWN3Tnndfb/ck3oVVrklYJIRFQlgkhEVCWCSERUJYJIRFQlgkhEVi0xdWjz/BnFrghlM6XWNWdiwSwiIhLBLCIiEsEsIiISwSwiIhLBLCIiEsEpP3Cvf8PuyeC9zzs7zuFbI7YZEQFglhkRAWCWGREBYJYZEQFglhkRAWCWGRuHiA9K+DF7jns6heWGV3wiIhLBLCIiEsEsIiISwSwiIhLBLCIiEsEpdrT4D/5SFM7oiwSAiLhLBICIuEsEgIi4SwSAiLhLBICIuEsEicrz2B3Lsvn6aGenr/cWqo7w8PU0N9fXmZGuppaiA7FhFhkRAWCWGREBYJYZEQFglhkRAWCWGREBYJYZEQFglhkRAWCWGREBYJYZEQFglhkRAWCWGREBYJYZH4AzWkw68Dx4lpAAAAAElFTkSuQmCC\" style=\"image-rendering: pixelated;\">\n",
              "            </div><div style=\"margin-right:10px; margin-top: 4px;\">\n",
              "              22 <br/>\n",
              "              <img src=\"data:image/PNG;base64,iVBORw0KGgoAAAANSUhEUgAAAMgAAACvCAIAAAA3ywYrAAACdklEQVR4nO3bsU0DQRRFURttFbThmASJDNEGFRBTABVAQiEU5CaQoAQ2+Bc84px49bTB1SSjOb7f3hx22J7ufvzm8+XD1J6d358atPOvrur/4H8SFglhkRAWCWGREBYJYZEQFglhkRAWCWGREBaJ7TIvTdeduszr80E7/8qJRUJYJIRFQlgkhEVCWCSERUJYJIRFQlgkhEViu8y7rXWn1r3lnJ1yYpEQFglhkRAWCWGREBYJYZEQFglhkRAWCWGREBYJD1aHp9a9Pp+dcmKREBYJYZEQFglhkRAWCWGREBYJYZEQFglhkfBgdXhq3VvO2SknFglhkRAWCWGREBYJYZEQFglhkRAWCWGREBYJYZHwYHV4at3r89kpJxYJYZEQFglhkRAWCWGREBYJYZEQFglhkRAWCQ9Wh6fWveWcnXJikRAWCWGREBYJYZEQFglhkRAWCWGREBYJYZEQFgkPVoen1r0+n51yYpEQFglhkRAWCWGREBYJYZEQFglhkRAWCWGR8GB1eGrdW87ZKScWCWGREBYJYZEQFglhkRAWCWGREBYJYZEQFgnvCoen1r3lnJ1yYpEQFglhkRAWCWGREBYJYZEQFglhkRAWCWGREBYJD1aHp9a9Pp+dcmKREBYJYZEQFglhkRAWCWGREBYJYZEQFglhkfBgdXhq3VvO2SknFglhkRAWCWGREBYJYZEQFglhkRAWCWGREBYJYZE4/vUP5O7npk7PX1NTb6frqanXx6mlw8P5PDXlxCIhLBLCIiEsEsIiISwSwiIhLBLCIiEsEsIiISwSwiIhLBLCIiEsEsIiISwSwiIhLBLCIiEsEsIiISwS38iQIF4ORsDTAAAAAElFTkSuQmCC\" style=\"image-rendering: pixelated;\">\n",
              "            </div><div style=\"margin-right:10px; margin-top: 4px;\">\n",
              "              23 <br/>\n",
              "              <img src=\"data:image/PNG;base64,iVBORw0KGgoAAAANSUhEUgAAAMgAAACvCAIAAAA3ywYrAAACr0lEQVR4nO3dsY0UQRBA0Vu0SVxISCc8UoAECOACIAFCwAIDiUiI4XwSgASQrpHq7/Ss3rNHNWN8tdPb25dvv74+LLg8v331mT/PPzcctWjxja9a/KSV15161JuVh+B/CYuEsEgIi4SwSAiLhLBICIuEsEgIi4SwSAiLxPXUO52Do85rz98HWLFICIuEsEgIi4SwSAiLhLBICIuEsEgIi4SwSFz3PGV66lEnfd3iGx1Y5UjCIiEsEsIiISwSwiIhLBLCIiEsEsIiISwSwiJxHZx16gOrU6Nu/3/Pe+7EW7FICIuEsEgIi4SwSAiLhLBICIuEsEgIi4SwSEzuFZ76lOnUqPPucs6OsmKREBYJYZEQFglhkRAWCWGREBYJYZEQFglhkRAWickbVgft+VWDNtw+nx1lxSIhLBLCIiEsEsIiISwSwiIhLBLCIiEsEsIiccANqyv2/KpBe54ydWCV3QmLhLBICIuEsEgIi4SwSAiLhLBICIuEsEgIi8Tl+/vfK8/tudO54ag9t88HL3R1YJUjCYuEsEgIi4SwSAiLhLBICIuEsEgIi4SwSBxwYHVw32qFG1bXObDK7oRFQlgkhEVCWCSERUJYJIRFQlgkhEVCWCQmL8K8/agVd3+ucM9RViwSwiIhLBLCIiEsEsIiISwSwiIhLBLCIiEsEsIicR2cdepN0/s+sOqGVe6EsEgIi4SwSAiLhLBICIuEsEgIi4SwSAiLxORe4e3/jHXFeb/qvBumD1YsIsIiISwSwiIhLBLCIiEsEsIiISwSwiIhLBLCInE5+gP+7Wlu1IfHx6lR715epkY9ffk8NerHx09TowZZsUgIi4SwSAiLhLBICIuEsEgIi4SwSAiLhLBICIuEsEgIi4SwSAiLhLBICIuEsEgIi4SwSAiLhLBICIvEXwwJ75QlxXHSAAAAAElFTkSuQmCC\" style=\"image-rendering: pixelated;\">\n",
              "            </div><div style=\"margin-right:10px; margin-top: 4px;\">\n",
              "              24 <br/>\n",
              "              <img src=\"data:image/PNG;base64,iVBORw0KGgoAAAANSUhEUgAAAMgAAACvCAIAAAA3ywYrAAACq0lEQVR4nO3dsU0cURRA0V20TdABogd3gFyGaYAAKiBxA+7DHdADLRDTgVMHSPzg39k/u+fE6O0EV5M8nuZ49/x5GPDy4/3bv3l9uzdqZM7cUbN+btDgU93M+j34n7BICIuEsEgIi4SwSAiLhLBICIuEsEgIi4SwSJy2X5rud9REG6/PB018Km8sEsIiISwSwiIhLBLCIiEsEsIiISwSwiIhLBKn7RdSI/Z7sDpovwtTB6uck7BICIuEsEgIi4SwSAiLhLBICIuEsEgIi4SwSJzO/QBfc2W691HeWCSERUJYJIRFQlgkhEVCWCSERUJYJIRFQlgkZu4K19xtDZq1dtz4svfgYJWrIiwSwiIhLBLCIiEsEsIiISwSwiIhLBLCIiEsEot+YXVNa67PHaxyRYRFQlgkhEVCWCSERUJYJIRFQlgkhEVCWCRmfmF1v98yPcx7qjV3rw5WuRDCIiEsEsIiISwSwiIhLBLCIiEsEsIiISwSwiKx6MHqfkdtf4675v8HeGOREBYJYZEQFglhkRAWCWGREBYJYZEQFglhkVj0C6sT7fdgddCCC9ODNxYRYZEQFglhkRAWCWGREBYJYZEQFglhkRAWiZm7wu0XUiPWvCu8+FHeWCSERUJYJIRFQlgkhEVCWCSERUJYJIRFQlgkhEXiePf8OfJ3a246Fxy15iZ+4n2sg1XOSVgkhEVCWCSERUJYJIRFQlgkhEVCWCSEReLyP4Q50YKrycFRgxyssjphkRAWCWGREBYJYZEQFglhkRAWCWGREBYJYZE4nvsBvvbw5/esUX8fn2aNmuhh3qhft7ezRv38+Jg1yhuLhLBICIuEsEgIi4SwSAiLhLBICIuEsEgIi4SwSAiLhLBICIuEsEgIi4SwSAiLhLBICIuEsEgIi4SwSPwDwrvqNsZfdx8AAAAASUVORK5CYII=\" style=\"image-rendering: pixelated;\">\n",
              "            </div><div style=\"margin-right:10px; margin-top: 4px;\">\n",
              "              25 <br/>\n",
              "              <img src=\"data:image/PNG;base64,iVBORw0KGgoAAAANSUhEUgAAAMgAAACvCAIAAAA3ywYrAAACnklEQVR4nO3dMUpdURRAUb84gJA+lRAymOAwMg21NwPIgDKEQAhYW2pjnwkEvMLZ+i5Zq34cfrG5zeHwT59+fTxb8Pvp/sVvvny4NGplzv8w6nzlI3gtYZEQFglhkRAWCWGREBYJYZEQFglhkRAWCWGROD3/fFz5bnGVu2Jxi7nigPvXfdfns6O8WCSERUJYJIRFQlgkhEVCWCSERUJYJIRFQlgkToMHq4P2XZNtfWXqYJWjExYJYZEQFglhkRAWCWGREBYJYZEQFglhkRAWiYvBWW9/1HrA/eu+6/PZUV4sEsIiISwSwiIhLBLCIiEsEsIiISwSwiIhLBKTu8JFx9xtOVidHeXFIiEsEsIiISwSwiIhLBLCIiEsEsIiISwSwiIhLBKT/7C69dLUwersKC8WCWGREBYJYZEQFglhkRAWCWGREBYJYZEQFonJf1jderflYHV2lBeLhLBICIuEsEgIi4SwSAiLhLBICIuEsEgIi4SwSEwerC5a3GKuOOD+dd/1+ewoLxYJYZEQFglhkRAWCWGREBYJYZEQFglhkRAWiYu33yKt2HdNtvWVqYNVjk5YJIRFQlgkhEVCWCSERUJYJIRFQlgkhEXCXeHwqH23nLOjvFgkhEVCWCSERUJYJIRFQlgkhEVCWCSERUJYJIRFwsHq8Kitr0wdrHJ0wiIhLBLCIiEsEsIiISwSwiIhLBLCIiEsEpMHq1vvthyszo7yYpEQFglhkRAWCWGREBYJYZEQFglhkRAWCWGREBaJ03v/gH/7+uNuatS3m+9To64eHqZGfb6+nhr15/Z2atQgLxYJYZEQFglhkRAWCWGREBYJYZEQFglhkRAWCWGREBYJYZEQFglhkRAWCWGREBYJYZEQFglhkRAWCWGR+AvYwREyKkx7qwAAAABJRU5ErkJggg==\" style=\"image-rendering: pixelated;\">\n",
              "            </div><div style=\"margin-right:10px; margin-top: 4px;\">\n",
              "              26 <br/>\n",
              "              <img src=\"data:image/PNG;base64,iVBORw0KGgoAAAANSUhEUgAAAMgAAACvCAIAAAA3ywYrAAACpUlEQVR4nO3dsW1UQRRA0b9om3ABNEAdiMQNkDkkoQwSh4QUQIKowwEuwjEdUII/0ty/78M58ertBleTjN7O5dvHX9sO7x7vX/3M06fvRu2Z8z+MerPnQ/C3hEVCWCSERUJYJIRFQlgkhEVCWCSERUJYJIRF4vL8++2ez8286dx5wbzHzm981cCftN3iUt+JRUJYJIRFQlgkhEVCWCSERUJYJIRFQlgkhEXiet7V0LWj9ph5yznzGteJRUJYJIRFQlgkhEVCWCSERUJYJIRFQlgkhEVCWCSuC2fNXFg9eNTC2+XjWVhlOmGREBYJYZEQFglhkRAWCWGREBYJYZEQFomVd4UznfeF1eNZWGU6YZEQFglhkRAWCWGREBYJYZEQFglhkRAWCWGRuB6/GnqwmbfCM/862sIq0wmLhLBICIuEsEgIi4SwSAiLhLBICIuEsEh4YXX9qIMN/IffzYlFRFgkhEVCWCSERUJYJIRFQlgkhEVCWCSERUJYJG6wsDpwNXQ7/IXVhcu9M2/inVgkhEVCWCSERUJYJIRFQlgkhEVCWCSERUJYJFYurM503hdWTz3KiUVCWCSERUJYJIRFQlgkhEVCWCSERUJYJIRF4t9/CHOhmRt8M0c5sUgIi4SwSAiLhLBICIuEsEgIi4SwSAiLhLBICIvEdeEsb5luJ98ytbDKdMIiISwSwiIhLBLCIiEsEsIiISwSwiIhLBIr7wpn3m0tNHM1dOYoJxYJYZEQFglhkRAWCWGREBYJYZEQFglhkRAWCWGRuNz6B+Tef/2ybNbD51WTfq4atG0/7u5Wjfrw8rJqlBOLhLBICIuEsEgIi4SwSAiLhLBICIuEsEgIi4SwSAiLhLBICIuEsEgIi4SwSAiLhLBICIuEsEgIi4SwSPwBncneAIf1A/IAAAAASUVORK5CYII=\" style=\"image-rendering: pixelated;\">\n",
              "            </div><div style=\"margin-right:10px; margin-top: 4px;\">\n",
              "              27 <br/>\n",
              "              <img src=\"data:image/PNG;base64,iVBORw0KGgoAAAANSUhEUgAAAMgAAACvCAIAAAA3ywYrAAACnUlEQVR4nO3dwU0cQRBAUUCbBAH4RCoWQnICPtkJOAwS8JEAkEiGGEjDCfjQlvrP1pj3zqtihL7mUqrd2y8v328WvD48rXxsxbf3t12jVp5q8c/tGrX4j/rvR92tfAj+lbBICIuEsEgIi4SwSAiLhLBICIuEsEgIi4SwSFyOX0+u2PhUMw1cn+8d5Y1FQlgkhEVCWCSERUJYJIRFQlgkhEVCWCSEReJy7Qf4u+N3WwebeWXqYJXphEVCWCSERUJYJIRFQlgkhEVCWCSERUJYJIRFYugS+rz711NfmTpYZTphkRAWCWGREBYJYZEQFglhkRAWCWGREBaJnbvCU++2zvsLqxs5WGU6YZEQFglhkRAWCWGREBYJYZEQFglhkRAWCWGRcLC6edTM9fkiB6tMJywSwiIhLBLCIiEsEsIiISwSwiIhLBLCInE5fiG18SdPZ27cVgzccu4d5Y1FQlgkhEVCWCSERUJYJIRFQlgkhEVCWCSERUJYJC4zv+X31PvXg808o/XGIiEsEsIiISwSwiIhLBLCIiEsEsIiISwSwiJxhYPVFed9qo2ryeM5WGU6YZEQFglhkRAWCWGREBYJYZEQFglhkRAWiaF3hTPNvODzQ5h8IsIiISwSwiIhLBLCIiEsEsIiISwSwiIhLBLCIrHzYPX4UQeb+V26M0d5Y5EQFglhkRAWCWGREBYJYZEQFglhkRAWCWGRuMLB6sw94IqZC9OZo7yxSAiLhLBICIuEsEgIi4SwSAiLhLBICIuEsEgIi8TttR8g9/X387ZZP3/tmvTj/n7XqMePj12jNvLGIiEsEsIiISwSwiIhLBLCIiEsEsIiISwSwiIhLBLCIiEsEsIiISwSwiIhLBLCIiEsEsIiISwSwiIhLBJ/AA6b0jlEryCkAAAAAElFTkSuQmCC\" style=\"image-rendering: pixelated;\">\n",
              "            </div><div style=\"margin-right:10px; margin-top: 4px;\">\n",
              "              28 <br/>\n",
              "              <img src=\"data:image/PNG;base64,iVBORw0KGgoAAAANSUhEUgAAAMgAAACvCAIAAAA3ywYrAAAClUlEQVR4nO3dsW1UQRRAUS9yEbgnMjpwAAUAOTkdENCBM8ojoIVBevf/GXROvHq7lq4meRrP4+nP+6cFb7++rXxsxcfXH1OjVn7V4tdN/YEX/3WL33j9qHcrH4J/JSwSwiIhLBLCIiEsEsIiISwSwiIhLBLCIiEsEs/XrydXHL1/XXHx+vz6UU4sEsIiISwSwiIhLBLCIiEsEsIiISwSwiIhLBKPwQurR++2pkYdveV0YZXdCYuEsEgIi4SwSAiLhLBICIuEsEgIi4SwSAiLxOSF1UHn7l/PXZ/PjnJikRAWCWGREBYJYZEQFglhkRAWCWGREBYJYZF4vn6LtOLcNdme/0t3kQur7E5YJIRFQlgkhEVCWCSERUJYJIRFQlgkhEVCWCRueGH1/x615/p8kQur7E5YJIRFQlgkhEVCWCSERUJYJIRFQlgkhEXCC6vDo87dcs6OcmKREBYJYZEQFglhkRAWCWGREBYJYZEQFglhkRAWiU0vrO5pw533tqOcWCSERUJYJIRFQlgkhEVCWCSERUJYJIRFQlgkbnhh9eLHWgfteTX04odtXVjlTsIiISwSwiIhLBLCIiEsEsIiISwSwiIhLBKb3is8d9Seu9dB7hVyJ2GREBYJYZEQFglhkRAWCWGREBYJYZEQFglhkfDC6vCoc9fns6OcWCSERUJYJIRFQlgkhEVCWCSERUJYJIRFQlgkXFgdHnXulnN2lBOLhLBICIuEsEgIi4SwSAiLhLBICIuEsEgIi4SwSDzu/gG5D3OjPr28TI36+f3L1Kjfn79OjRrkxCIhLBLCIiEsEsIiISwSwiIhLBLCIiEsEsIiISwSwiIhLBLCIiEsEsIiISwSwiIhLBLCIiEsEsIiISwSfwGpyQPJARGVkwAAAABJRU5ErkJggg==\" style=\"image-rendering: pixelated;\">\n",
              "            </div><div style=\"margin-right:10px; margin-top: 4px;\">\n",
              "              29 <br/>\n",
              "              <img src=\"data:image/PNG;base64,iVBORw0KGgoAAAANSUhEUgAAAMgAAACvCAIAAAA3ywYrAAACl0lEQVR4nO3dsXEUQRBAUQ5tApgXEyqFAQkQBgmQh0hAKRDEGRikQAIYS1V/dqZ4z97qk/FrnK7R3N6Op3cnfHh8PPPZGb/u36d+bsFRZ+b8D6Pen/kI/pawSAiLhLBICIuEsEgIi4SwSAiLhLBICIuEsEgcg7O2XppOjdp3fT47yolFQlgkhEVCWCSERUJYJIRFQlgkhEVCWCSEReLYeiH1j0cNWnDLOTvKiUVCWCSERUJYJIRFQlgkhEVCWCSERUJYJIRFQlgkjq03nWuOOmPfTbwLq1xJWCSERUJYJIRFQlgkhEVCWCSERUJYJIRFYvKf22692/LC6uwoJxYJYZEQFglhkRAWCWGREBYJYZEQFglhkRAWCWGR8MLq8Kh91+ezo5xYJIRFQlgkhEVCWCSERUJYJIRFQlgkhEVCWCQWfWF1kAurl4xyYpEQFglhkRAWCWGREBYJYZEQFglhkRAWCWGREBaJvV9YPcOF1UtGObFICIuEsEgIi4SwSAiLhLBICIuEsEgIi4SwSCx6YXXfUVvvXl1YZXXCIiEsEsIiISwSwiIhLBLCIiEsEsIiISwSt7fj6cx3ay6kFhy175ZzdpQTi4SwSAiLhLBICIuEsEgIi4SwSAiLhLBICIuEsEjcfvx8OfPd4Hpy0IL7133X57OjnFgkhEVCWCSERUJYJIRFQlgkhEVCWCSERUJYJC64sDpowTXZ1rdMXVhldcIiISwSwiIhLBLCIiEsEsIiISwSwiIhLBLCInG7+g/4s+dvX6dGvX7+MjVq0PPcqE/3+9Sol8djapQTi4SwSAiLhLBICIuEsEgIi4SwSAiLhLBICIuEsEgIi4SwSAiLhLBICIuEsEgIi4SwSAiLhLBICIuEsEj8BlezDJ1IQ5iCAAAAAElFTkSuQmCC\" style=\"image-rendering: pixelated;\">\n",
              "            </div><div style=\"margin-right:10px; margin-top: 4px;\">\n",
              "              30 <br/>\n",
              "              <img src=\"data:image/PNG;base64,iVBORw0KGgoAAAANSUhEUgAAAMgAAACvCAIAAAA3ywYrAAACr0lEQVR4nO3dwWlbQRRAUf0g3IPVlRdJC2kgZbiBpAR7EQhxB3YtbiMNBDyBucqMOGf9eZLgMpvH6B+Xt5fTgKfPDx8+8+X5522PGjH4cSMGv9LIJ15/1KeRh+BfCYuEsEgIi4SwSAiLhLBICIuEsEgIi4SwSAiLxHnirK2XphNHjdh3Ez84yolFQlgkhEVCWCSERUJYJIRFQlgkhEVCWCSEReJ4vdyNPHfle5j7rskm7hO3vvvqxCIhLBLCIiEsEsIiISwSwiIhLBLCIiEsEsIiISwSMy+sTjRxaTrRgn/SPDjKhVVuhLBICIuEsEgIi4SwSAiLhLBICIuEsEgIi8T5+rutNe++jljzv3TXHOXEIiEsEsIiISwSwiIhLBLCIiEsEsIiISwSwiIhLBLnfV9Aelpy/7rv/z3PHeXEIiEsEsIiISwSwiIhLBLCIiEsEsIiISwSwiJxXN5eRp67+Qurs37g1q9FdWGV1QmLhLBICIuEsEgIi4SwSAiLhLBICIuEsEgIi4QLq/NHjVjzlqkLq6xOWCSERUJYJIRFQlgkhEVCWCSERUJYJIRF4jxx1ta7rVmjtt5yurDK6oRFQlgkhEVCWCSERUJYJIRFQlgkhEVCWCRm7gq33m15EebcUU4sEsIiISwSwiIhLBLCIiEsEsIiISwSwiIhLBLCIjHzDatbL01dWJ07yolFQlgkhEVCWCSERUJYJIRFQlgkhEVCWCSEReJ4vdyNPLfmQmrBUftuOeeOcmKREBYJYZEQFglhkRAWCWGREBYJYZEQFglhkRAWieN/f4G/+3V/P2vUj/f3WaNO3x9nTfr99dusUWtyYpEQFglhkRAWCWGREBYJYZEQFglhkRAWCWGREBYJYZEQFglhkRAWCWGREBYJYZEQFglhkRAWCWGREBaJP8PF+cvc8bg8AAAAAElFTkSuQmCC\" style=\"image-rendering: pixelated;\">\n",
              "            </div><div style=\"margin-right:10px; margin-top: 4px;\">\n",
              "              31 <br/>\n",
              "              <img src=\"data:image/PNG;base64,iVBORw0KGgoAAAANSUhEUgAAAMgAAACvCAIAAAA3ywYrAAACk0lEQVR4nO3dsW1UURBAURZtExYxBA6pA5EQ0AFugDJowEXQCgkSLTimAxpA4ll693v+ck68Gn9LVz8Zz/ry7s3nVwu+//rxz898un9v1Mqc/2HU65UPwXMJi4SwSAiLhLBICIuEsEgIi4SwSAiLhLBICIvE5efvtyufm7npHDjq+PX5rh+3aPGpvLFICIuEsEgIi4SwSAiLhLBICIuEsEgIi4SwSFxf+gH+buPGbaOBq8lFx68dvbFICIuEsEgIi4SwSAiLhLBICIuEsEgIi4SwSAiLxNAl9MxV7syD1Zm/oDcWCWGREBYJYZEQFglhkRAWCWGREBYJYZEQFomL/7C6d9R5v5Z37yhvLBLCIiEsEsIiISwSwiIhLBLCIiEsEsIiISwSwiJxPfWm8+BRN8/BKtMJi4SwSAiLhLBICIuEsEgIi4SwSAiLhLBIXM97Gro4inUOVplOWCSERUJYJIRFQlgkhEVCWCSERUJYJIRFQlgkhh6szrRxfb7RzL8P8MYiISwSwiIhLBLCIiEsEsIiISwSwiIhLBLCInHug9WD3fzC1MEq0wmLhLBICIuEsEgIi4SwSAiLhLBICIuEsEi4K3yGmQvTjd/w666Q6YRFQlgkhEVCWCSERUJYJIRFQlgkhEVCWCSEReL2D1YPfqrjl/obOVhlOmGREBYJYZEQFglhkRAWCWGREBYJYZEQFomhB6vnHTVz97rIwSrTCYuEsEgIi4SwSAiLhLBICIuEsEgIi4SwSAiLxOWlHyD34fHbtlkPX3dN+nJ3t2vUx6enXaM28sYiISwSwiIhLBLCIiEsEsIiISwSwiIhLBLCIiEsEsIiISwSwiIhLBLCIiEsEsIiISwSwiIhLBLCIiEsEn8A8lTaKCFcSMIAAAAASUVORK5CYII=\" style=\"image-rendering: pixelated;\">\n",
              "            </div><div style=\"margin-right:10px; margin-top: 4px;\">\n",
              "              32 <br/>\n",
              "              <img src=\"data:image/PNG;base64,iVBORw0KGgoAAAANSUhEUgAAAMgAAACvCAIAAAA3ywYrAAACo0lEQVR4nO3dsW1UQRRAURttLQjRgztAhLRAAwREuAE3gEsghgoI6IAWHNMBJXiQ3l3PoHPir7d/patJnmb39vOfLzcL7n5/e/aZn28/bDhq0eInPmvxlVY+7uhRr1Yegn8lLBLCIiEsEsIiISwSwiIhLBLCIiEsEsIiISwSl6M3nYOjVpy7ib/+KCcWCWGREBYJYZEQFglhkRAWCWGREBYJYZEQFonLngupQXu+1ZW5sMp/QlgkhEVCWCSERUJYJIRFQlgkhEVCWCSERUJYJM6+sLpiz7caNPV7zzcurLI/YZEQFglhkRAWCWGREBYJYZEQFglhkRAWiU0vrJ476ujdqwur7E5YJIRFQlgkhEVCWCSERUJYJIRFQlgkhEVCWCRuf/x6s/LclTediwZvkE59wXPX57OjnFgkhEVCWCSERUJYJIRFQlgkhEVCWCSERUJYJM6+sLrChdUXGeXEIiEsEsIiISwSwiIhLBLCIiEsEsIiISwSwiIhLBKbXlg9d9TRS30XVtmdsEgIi4SwSAiLhLBICIuEsEgIi4SwSAiLxOSF1UHnrsnO3XLOjnJikRAWCWGREBYJYZEQFglhkRAWCWGREBYJYZG4XH+LtOLcNdm5W87ZUU4sEsIiISwSwiIhLBLCIiEsEsIiISwSwiIhLBLCInH2P6xuOOrc9fnsKCcWCWGREBYJYZEQFglhkRAWCWGREBYJYZEQFgl/hDk86twt5+woJxYJYZEQFglhkRAWCWGREBYJYZEQFglhkRAWCWGRuH3pF8i9+/owNer7x09To17f30+Nenh8nBr1/ulpapQTi4SwSAiLhLBICIuEsEgIi4SwSAiLhLBICIuEsEgIi4SwSAiLhLBICIuEsEgIi4SwSAiLhLBICIuEsEj8BTG5CwkEkoukAAAAAElFTkSuQmCC\" style=\"image-rendering: pixelated;\">\n",
              "            </div><div style=\"margin-right:10px; margin-top: 4px;\">\n",
              "              33 <br/>\n",
              "              <img src=\"data:image/PNG;base64,iVBORw0KGgoAAAANSUhEUgAAAMgAAACvCAIAAAA3ywYrAAACoklEQVR4nO3dMW4UQRBA0V20ssQRfCfkKxBCQkZG5ICMjMjXsLiTj0BKQEhSSP1ne6T34lGNbX110irP9eHl82Xg25ffk8cmvv98v+p1G46azBk6+G8+fONw1LvJQ/C/hEVCWCSERUJYJIRFQlgkhEVCWCSERUJYJIRF4rZw1vE3nQeP2tOGN/EXJxYRYZEQFglhkRAWCWGREBYJYZEQFglhkRAWidt5V0O3HTVx8O7rkIVVdicsEsIiISwSwiIhLBLCIiEsEsIiISwSwiIhLBIWVheP2vP6fMjCKrsTFglhkRAWCWGREBYJYZEQFglhkRAWCWGRuO75hdWhDb/7et5bzrWjnFgkhEVCWCSERUJYJIRFQlgkhEVCWCSERUJYJIRF4twLqxMWVu8yyolFQlgkhEVCWCSERUJYJIRFQlgkhEVCWCSEReL6/PBx8tyeF1Ib7r7ueWF6/L6xE4uEsEgIi4SwSAiLhLBICIuEsEgIi4SwSAiLhLBI3E79r3k33H099U28hVV2JywSwiIhLBLCIiEsEsIiISwSwiIhLBLCIrFyYXVow8+iDkdN+BTtX04sEsIiISwSwiIhLBLCIiEsEsIiISwSwiIhLBJ32CucsKJ4sVcI/xIWCWGREBYJYZEQFglhkRAWCWGREBYJYZEQFolNv7A6tOHu63l/u+EbLaxyT8IiISwSwiIhLBLCIiEsEsIiISwSwiIhLBIrF1b3dPA12am3TC2ssjthkRAWCWGREBYJYZEQFglhkRAWCWGREBYJYZG43vsHyH1YOOvlx6pJvz59XTXq9fFx1aint7dVo5xYJIRFQlgkhEVCWCSERUJYJIRFQlgkhEVCWCSERUJYJIRFQlgkhEVCWCSERUJYJIRFQlgkhEVCWCSEReIPJ9jdcf14Fo4AAAAASUVORK5CYII=\" style=\"image-rendering: pixelated;\">\n",
              "            </div><div style=\"margin-right:10px; margin-top: 4px;\">\n",
              "              34 <br/>\n",
              "              <img src=\"data:image/PNG;base64,iVBORw0KGgoAAAANSUhEUgAAAMgAAACvCAIAAAA3ywYrAAACjElEQVR4nO3dsU1cURBA0V20TdCCS0H0YeemAJeBHFICQu6AFhxSixuw5I80l30PnxN/jTa4eslotOfXp7fTAb9/Pf7zmy9334w6Mud/GHVz5CN4L2GREBYJYZEQFglhkRAWCWGREBYJYZEQFglhkbhsvelccNTBnfegBTfxJy8WEWGREBYJYZEQFglhkRAWCWGREBYJYZEQFonLvqeha44aXE0etODC9OTFIiIsEsIiISwSwiIhLBLCIiEsEsIiISwSwiIhLBKLHqwOWvNg9dOP8mKREBYJYZEQFglhkRAWCWGREBYJYZEQFglhkbgMzvr4hdQR+x6sbj3Ki0VCWCSERUJYJIRFQlgkhEVCWCSERUJYJIRFQlgkJpfQWy9NHazOjvJikRAWCWGREBYJYZEQFglhkRAWCWGREBYJYZE4vz69HfluzYXUgqP23XLOjvJikRAWCWGREBYJYZEQFglhkRAWCWGREBYJYZEQFolF/2F131H7rs9nR3mxSAiLhLBICIuEsEgIi4SwSAiLhLBICIuEsEg4WB0ete+Wc3aUF4uEsEgIi4SwSAiLhLBICIuEsEgIi4SwSAiLhLvC4VEfv+Uc5K6Q1QmLhLBICIuEsEgIi4SwSAiLhLBICIuEsEgIi4SD1eFRa67PBzlY5ZqERUJYJIRFQlgkhEVCWCSERUJYJIRFQlgkHKwOj1pzyznIwSrXJCwSwiIhLBLCIiEsEsIiISwSwiIhLBLCIiEsEudr/4C/u58b9TI3atDz7e3UqJ8/vk+Nevn6MDXKi0VCWCSERUJYJIRFQlgkhEVCWCSERUJYJIRFQlgkhEVCWCSERUJYJIRFQlgkhEVCWCSERUJYJIRFQlgk/gA8xBLVpsE+xwAAAABJRU5ErkJggg==\" style=\"image-rendering: pixelated;\">\n",
              "            </div><div style=\"margin-right:10px; margin-top: 4px;\">\n",
              "              35 <br/>\n",
              "              <img src=\"data:image/PNG;base64,iVBORw0KGgoAAAANSUhEUgAAAMgAAACvCAIAAAA3ywYrAAACpElEQVR4nO3dwYlTURSA4UTSxMCUI4gbl7ZgGWIZlqCbETci2IY1zH4a0AYE78D5M/eF71uH80L4uZuTyzvfPz2cFvz8cf7vZ968/TM1atHKExcfNzVq8Ec49KhXKx+C5xIWCWGREBYJYZEQFglhkRAWCWGREBYJYZEQFonLS3+Bfzvu/vXKO+9tRzmxSAiLhLBICIuEsEgIi4SwSAiLhLBICIuEsEhM7goPvdtyYXV2lBOLhLBICIuEsEgIi4SwSAiLhLBICIuEsEgIi4SwSEwuoQ+9NHVhdXaUE4uEsEgIi4SwSAiLhLBICIuEsEgIi4SwSAiLxOXQC6kNR11/yznIhVV2JywSwiIhLBLCIiEsEsIiISwSwiIhLBLCIiEsEpfjXg3dc9Se6/NFLqyyO2GREBYJYZEQFglhkRAWCWGREBYJYZEQFonz7y/frvzI427cNlxNbjvKiUVCWCSERUJYJIRFQlgkhEVCWCSERUJYJIRFQlgkzvdPD1d+5J5L09u+sOoNq9wIYZEQFglhkRAWCWGREBYJYZEQFglhkRAWCW9YHR513C3n7CgnFglhkRAWCWGREBYJYZEQFglhkRAWCWGREBaJ1XuFey6kFveAK6ZeJ7nhVzq5V8jNEBYJYZEQFglhkRAWCWGREBYJYZEQFglhkRAWCRdWn2HP9fme/w9wYpEQFglhkRAWCWGREBYJYZEQFglhkRAWCWGRuP0Lq16E+SKjnFgkhEVCWCSERUJYJIRFQlgkhEVCWCSERUJYJIRFYuza5KzXH79Ojfr16f3UqLvvd1OjPn+YmnR69/g4NmuOE4uEsEgIi4SwSAiLhLBICIuEsEgIi4SwSAiLhLBICIuEsEgIi4SwSAiLhLBICIuEsEgIi4SwSAiLhLBI/AV2zQjrUNgBMgAAAABJRU5ErkJggg==\" style=\"image-rendering: pixelated;\">\n",
              "            </div><div style=\"margin-right:10px; margin-top: 4px;\">\n",
              "              36 <br/>\n",
              "              <img src=\"data:image/PNG;base64,iVBORw0KGgoAAAANSUhEUgAAAMgAAACvCAIAAAA3ywYrAAACiUlEQVR4nO3bsW1UQRhG0V3kyCGZMwJXQQ2WY4uQxA1QhhtwB8RoyyFw5owayBESY+m/8htxTvz07QZXk4zm/Pnj19OCTz+///Obl9sHUys7/8PUh5WP4K2ERUJYJIRFQlgkhEVCWCSERUJYJIRFQlgkhEXi/OXX9cp3x7zpPODUvtfns1NOLBLCIiEsEsIiISwSwiIhLBLCIiEsEsIiISwSV1tfSB1wat9bztkpJxYJYZEQFglhkRAWCWGREBYJYZEQFglhkRAWCWGR8GB1eGrf6/PZKScWCWGREBYJYZEQFglhkRAWCWGREBYJYZEQFgkPVoen9r3lnJ1yYpEQFglhkRAWCWGREBYJYZEQFglhkRAWCWGREBYJD1aHp/a9Pp+dcmKREBYJYZEQFglhkRAWCWGREBYJYZEQFglhkfBgdXhq31vO2SknFglhkRAWCWGREBYJYZEQFglhkRAWCWGREBYJYZHwYHV4at/r89kpJxYJYZEQFglhkRAWCWGREBYJYZEQFglhkRAWCQ9Wh6f2veWcnXJikRAWCWGREBYJYZEQFglhkRAWCWGREBYJYZE46LvCRYu/uMK7wtkpJxYJYZEQFglhkRAWCWGREBYJYZEQFglhkRAWCWGR2PvB6op9/5UHq/AnYZEQFglhkRAWCWGREBYJYZEQFglhkRAWiYM+WN16asrW17hOLBLCIiEsEsIiISwSwiIhLBLCIiEsEsIiISwSwiJxfu8/8Hc/bm6mpu5fX6em7qaGTqfL3NTd89PU1OXx29SUE4uEsEgIi4SwSAiLhLBICIuEsEgIi4SwSAiLhLBICIuEsEgIi4SwSAiLhLBICIuEsEgIi4SwSAiLhLBI/AZEfRyOltj94wAAAABJRU5ErkJggg==\" style=\"image-rendering: pixelated;\">\n",
              "            </div><div style=\"margin-right:10px; margin-top: 4px;\">\n",
              "              37 <br/>\n",
              "              <img src=\"data:image/PNG;base64,iVBORw0KGgoAAAANSUhEUgAAAMgAAACvCAIAAAA3ywYrAAAClUlEQVR4nO3dsW1UURBAUS/aAiwyB45IKMZ1QAFQgOtwHbRACUgk1AAJOQ0QPEtzv/9bnROvxivr6iWj0V7+fv99t+Dj/YeVj634+efX1KiVb7X456ZGLf6jbn7Uu5UPwWsJi4SwSAiLhLBICIuEsEgIi4SwSAiLhLBICIvE9fj15Ip9968H77xPO8qLRUJYJIRFQlgkhEVCWCSERUJYJIRFQlgkhEXiMniwevxCapCD1dlRXiwSwiIhLBLCIiEsEsIiISwSwiIhLBLCIiEsEsIicXn88X7lc+fcdA5ysDo7yotFQlgkhEVCWCSERUJYJIRFQlgkhEVCWCSERWLvg9UTjtr6ytTBKmcnLBLCIiEsEsIiISwSwiIhLBLCIiEsEsIiISwS18FZWy9NHazOjvJikRAWCWGREBYJYZEQFglhkRAWCWGREBYJYZGY3BVuvdtysDo7yotFQlgkhEVCWCSERUJYJIRFQlgkhEVCWCSERUJYJPb+hdWDR60Y/G3YfTfxd14sIsIiISwSwiIhLBLCIiEsEsIiISwSwiIhLBLXrRdS5xy1Yt+FqYNV3pKwSAiLhLBICIuEsEgIi4SwSAiLhLBICIvE7d8VLpq6B9x6y+mukLMTFglhkRAWCWGREBYJYZEQFglhkRAWCWGREBYJB6uvsO8m3sEqN0JYJIRFQlgkhEVCWCSERUJYJIRFQlgkhEXi9g9WDx619cLUwSpnJywSwiIhLBLCIiEsEsIiISwSwiIhLBLCIiEsEpe3/gL/9zQ36tPDw9Sol+cvU6O+ff46NeqcvFgkhEVCWCSERUJYJIRFQlgkhEVCWCSERUJYJIRFQlgkhEVCWCSERUJYJIRFQlgkhEVCWCSERUJYJIRF4h+mEQ/Focn5VQAAAABJRU5ErkJggg==\" style=\"image-rendering: pixelated;\">\n",
              "            </div><div style=\"margin-right:10px; margin-top: 4px;\">\n",
              "              38 <br/>\n",
              "              <img src=\"data:image/PNG;base64,iVBORw0KGgoAAAANSUhEUgAAAMgAAACvCAIAAAA3ywYrAAACnUlEQVR4nO3dsU1cQRRA0V2L0BEZvbgEaiAgIUOWTOaEhCYIKcGiAXqiABJCJMbS3GUGnRN/vf0rXU0yevrH37e/DgOeXh8+febq51+jRubMNfGtJo76MfIQ/C9hkRAWCWGREBYJYZEQFglhkRAWCWGREBYJYZE4nl+/jDy35k3ngqMG77wnWvAm/uDEIiIsEsIiISwSwiIhLBLCIiEsEsIiISwSwiJxtuZq6ERrLqx++1FOLBLCIiEsEsIiISwSwiIhLBLCIiEsEsIiISwSwiJxtvVN54g1F1a//SgnFglhkRAWCWGREBYJYZEQFglhkRAWCWGREBYJC6vvLKzOHeXEIiEsEsIiISwSwiIhLBLCIiEsEsIiISwSwiIhLBIWVt/tu7A6kYVVVicsEsIiISwSwiIhLBLCIiEsEsIiISwSwiKx6MLqvqPWvHsdZGGV1QmLhLBICIuEsEgIi4SwSAiLhLBICIuEsEgIi8Tx/Ppl5Lk1L00n7rWeeGF1xIn/3eAvWljlKwmLhLBICIuEsEgIi4SwSAiLhLBICIuEsEjsvbA6Yt+F1dOzsMrqhEVCWCSERUJYJIRFQlgkhEVCWCSERUJYJPb+EOaCo9a8ex1kr5DVCYuEsEgIi4SwSAiLhLBICIuEsEgIi4SwSAiLxN4LqwuO2vf6fO4oJxYJYZEQFglhkRAWCWGREBYJYZEQFglhkRAWiUU/hLnvqH1vOeeOcmKREBYJYZEQFglhkRAWCWGREBYJYZEQFglhkRAWieNXv8DH/l1czBr1eP9n1qjnm7tZoy5nDTocnueNmsiJRUJYJIRFQlgkhEVCWCSERUJYJIRFQlgkhEVCWCSERUJYJIRFQlgkhEVCWCSERUJYJIRFQlgkhEVCWCTeALxSAvx4UFXjAAAAAElFTkSuQmCC\" style=\"image-rendering: pixelated;\">\n",
              "            </div><div style=\"margin-right:10px; margin-top: 4px;\">\n",
              "              39 <br/>\n",
              "              <img src=\"data:image/PNG;base64,iVBORw0KGgoAAAANSUhEUgAAAMgAAACvCAIAAAA3ywYrAAAClklEQVR4nO3dsW0bQRBAUVFgqMiZenINDhxIBdiZEyVqwqFrcAPuyQWoAQFaAfPJW+K9mBiSwMclg8Gdvnz/d7fg28OvDz/z5//r1KhFi9+4YuoPLv67mx91v/Ih+CxhkRAWCWGREBYJYZEQFglhkRAWCWGREBYJYZE4b73pXHHhXzW4id96lCcWCWGREBYJYZEQFglhkRAWCWGREBYJYZEQFonTMQ9W9x219e7VwSpHJywSwiIhLBLCIiEsEsIiISwSwiIhLBLCIiEsEnsfrB5w1L7r89lRnlgkhEVCWCSERUJYJIRFQlgkhEVCWCSERUJYJBysfmLUigu/9HXxGx2sciOERUJYJIRFQlgkhEVCWCSERUJYJIRFQlgkhEXCwer8qBX7buIdrHJNwiIhLBLCIiEsEsIiISwSwiIhLBLCIiEsErd/sLpo6tB06y2ng1WOTlgkhEVCWCSERUJYJIRFQlgkhEVCWCSERUJYJM6Ds7Zeml7Yvkt9B6tck7BICIuEsEgIi4SwSAiLhLBICIuEsEgIi8TkrnDr3dbgqBXHXJg6WOXohEVCWCSERUJYJIRFQlgkhEVCWCSERUJYJLwIc3jU4D5x0TEXpp5YJIRFQlgkhEVCWCSERUJYJIRFQlgkhEVCWCSERWLyDauD9j1Y3Xd9PjvKE4uEsEgIi4SwSAiLhLBICIuEsEgIi4SwSAiLxOTB6qB912T7bjlnR3likRAWCWGREBYJYZEQFglhkRAWCWGREBYJYZEQFonTtX/A+77OjXp6fJwa9fvlx9Sov88/p0YdkycWCWGREBYJYZEQFglhkRAWCWGREBYJYZEQFglhkRAWCWGREBYJYZEQFglhkRAWCWGREBYJYZEQFglhkXgD6XP+syzKsycAAAAASUVORK5CYII=\" style=\"image-rendering: pixelated;\">\n",
              "            </div><div style=\"margin-right:10px; margin-top: 4px;\">\n",
              "              40 <br/>\n",
              "              <img src=\"data:image/PNG;base64,iVBORw0KGgoAAAANSUhEUgAAAMgAAACvCAIAAAA3ywYrAAACmUlEQVR4nO3dsY0UQRBA0Tu0EeBdQMSChINDGDg4SFwWICQMAro0CIFGqr9Xu7xnr3rW+GqnVDOPv76/fTjw8cO7v/7my9ff933UicPHnTj8SydPvP5Rb05+BP9KWCSERUJYJIRFQlgkhEVCWCSERUJYJIRFQlgkLoNn3fTQdPCoE7c7iT88yo1FQlgkhEVCWCSERUJYJIRFQlgkhEVCWCSERWJyVjjoylumh3aOJnce5cYiISwSwiIhLBLCIiEsEsIiISwSwiIhLBLCIiEsEped+5w77VwN3XmUG4uEsEgIi4SwSAiLhLBICIuEsEgIi4SwSAiLxGXnaujgBHPwiXc/MLWwynbCIiEsEsIiISwSwiIhLBLCIiEsEsIiISwSwiKx9K3Jg668kbtzqH/IwirbCYuEsEgIi4SwSAiLhLBICIuEsEgIi4SwSEzOCm/6Zaw+1jp7lBuLhLBICIuEsEgIi4SwSAiLhLBICIuEsEgIi4SwSLzCF1YHX3XMw9ahvhuLhLBICIuEsEgIi4SwSAiLhLBICIuEsEgIi8T9v9x20M6BqYVV/iPCIiEsEsIiISwSwiIhLBLCIiEsEsIiISwS9z8r3LntuHMZ0F4h2wmLhLBICIuEsEgIi4SwSAiLhLBICIuEsEgIi8TSL6zOPvHE4Pz1xM4tUwurbCcsEsIiISwSwiIhLBLCIiEsEsIiISwSwiIxOSu8/kDqxM6F1Z0srLKdsEgIi4SwSAiLhLBICIuEsEgIi4SwSAiLhLBIPL72H8j9eHqaOur55WXqqIdvn6dO+vn+09RRg9xYJIRFQlgkhEVCWCSERUJYJIRFQlgkhEVCWCSERUJYJIRFQlgkhEVCWCSERUJYJIRFQlgkhEVCWCSEReIPNOi1ZY1jAzgAAAAASUVORK5CYII=\" style=\"image-rendering: pixelated;\">\n",
              "            </div><div style=\"margin-right:10px; margin-top: 4px;\">\n",
              "              41 <br/>\n",
              "              <img src=\"data:image/PNG;base64,iVBORw0KGgoAAAANSUhEUgAAAMgAAACvCAIAAAA3ywYrAAACmUlEQVR4nO3dwU0cQRBA0V20SZACoSCLMGwH4DAIAK4E4QxIgSNX0nAClmik/kv36L3zqHYPX3Mpleb8+vJ+GvD29+nTZ+7ufy84atDgL35q8C+N/NzWo25GHoKvEhYJYZEQFglhkRAWCWGREBYJYZEQFglhkRAWicvWm86Jo0bsu4m//ihvLBLCIiEsEsIiISwSwiIhLBLCIiEsEsIiISwS58MfrF7/9nWWWTe0JwerHIawSAiLhLBICIuEsEgIi4SwSAiLhLBICIuEsEg4WP3CqIkW3HmfHKyyPmGREBYJYZEQFglhkRAWCWGREBYJYZEQFonLxFlrXpleedTWW04Hq6xOWCSERUJYJIRFQlgkhEVCWCSERUJYJIRFQlgkZi6ht96/jlhw573sKG8sEsIiISwSwiIhLBLCIiEsEsIiISwSwiIhLBKXrRdSE0eN2Pdg1RdWOQhhkRAWCWGREBYJYZEQFglhkRAWCWGREBYJYZHwhdXJo7bexDtYZXXCIiEsEsIiISwSwiIhLBLCIiEsEsIiISwS59eX95Hn1lxIDe4BR8y6a913yzl3lDcWCWGREBYJYZEQFglhkRAWCWGREBYJYZEQFolF7wrXtO/C1F0hByEsEsIiISwSwiIhLBLCIiEsEsIiISwSwiIhLBJ7f2F1xJX/1ZpLfQerHISwSAiLhLBICIuEsEgIi4SwSAiLhLBICIvEoger+47aevfqYJXVCYuEsEgIi4SwSAiLhLBICIuEsEgIi4SwSAiLxPm7/8D//Xh+nDbr159Zk37e3s4a9fDxMWvUmryxSAiLhLBICIuEsEgIi4SwSAiLhLBICIuEsEgIi4SwSAiLhLBICIuEsEgIi4SwSAiLhLBICIuEsEgIi8Q/D8oBk8DvuZEAAAAASUVORK5CYII=\" style=\"image-rendering: pixelated;\">\n",
              "            </div><div style=\"margin-right:10px; margin-top: 4px;\">\n",
              "              42 <br/>\n",
              "              <img src=\"data:image/PNG;base64,iVBORw0KGgoAAAANSUhEUgAAAMgAAACvCAIAAAA3ywYrAAACkklEQVR4nO3dwW0UQRBA0Rm0QdgxkcNeSQCiAALARzIwgpicBAdCoJHq42l47zwq9eGrL6XePR/uz8eCD1/f/vabj/cf+46asnKkY+1UW496s/IR/ClhkRAWCWGREBYJYZEQFglhkRAWCWGREBYJYZE4Px8/V7675qZzcNSUrTfxg6PcWCSERUJYJIRFQlgkhEVCWCSERUJYJIRFQlgkTg9WZ0dtvTD1YJWrExYJYZEQFglhkRAWCWGREBYJYZEQFglhkRAWidvgrK2XplOj9l2fz45yY5EQFglhkRAWCWGREBYJYZEQFglhkRAWCWGRmNwVbr3b8mB1dpQbi4SwSAiLhLBICIuEsEgIi4SwSAiLhLBICIuEsEj4h9XhUYs77xWD/w3rwSr/CGGREBYJYZEQFglhkRAWCWGREBYJYZEQFonb4BZp0L6nGlxNLrrgwvRwYxERFglhkRAWCWGREBYJYZEQFglhkRAWCWGREBaJ299fT6645qmu6YI/HX24sYgIi4SwSAiLhLBICIuEsEgIi4SwSAiLhLBITD5YNepVeLDKf0RYJIRFQlgkhEVCWCSERUJYJIRFQlgkhEXCH2EOj9p6y+ldIVcnLBLCIiEsEsIiISwSwiIhLBLCIiEsEsIiISwS58P9eeW7a246Lzhq3/X57Cg3FglhkRAWCWGREBYJYZEQFglhkRAWCWGREBYJD1aHR+275Zwd5cYiISwSwiIhLBLCIiEsEsIiISwSwiIhLBLCIiEsEudrH2An3x4fp0Y9vbxMjTq+fJqa9P3d+6lRbiwSwiIhLBLCIiEsEsIiISwSwiIhLBLCIiEsEsIiISwSwiIhLBLCIiEsEsIiISwSwiIhLBLCIiEsEsIi8QtEkgKnYxs2FgAAAABJRU5ErkJggg==\" style=\"image-rendering: pixelated;\">\n",
              "            </div><div style=\"margin-right:10px; margin-top: 4px;\">\n",
              "              43 <br/>\n",
              "              <img src=\"data:image/PNG;base64,iVBORw0KGgoAAAANSUhEUgAAAMgAAACvCAIAAAA3ywYrAAACnElEQVR4nO3dsXHUUBRA0V1mi3BRDAkdELgDcnJwASagA9flJhy4BD4z/2qfxTmx5knBHSV/nnR9+f10WfD128+/XvPy57tRK3P+h1GfVi6CfyUsEsIiISwSwiIhLBLCIiEsEsIiISwSwiIhLBLXy9vDynUzTzoHjlo8816x+OQrjj/U98YiISwSwiIhLBLCIiEsEsIiISwSwiIhLBLCInGbuRq60cynmsnCKtMJi4SwSAiLhLBICIuEsEgIi4SwSAiLhLBICIvE7d4PkDt+93XFzEN9C6tMJywSwiIhLBLCIiEsEsIiISwSwiIhLBLCIjH0rPD0W6YDP8u7d5Q3FglhkRAWCWGREBYJYZEQFglhkRAWCWGREBYJYZG4bTye3GjmlunpWVhlOmGREBYJYZEQFglhkRAWCWGREBYJYZEQFonzL6wePGrj0eTB57OLd7Swyj0Ji4SwSAiLhLBICIuEsEgIi4SwSAiLhLBICIvEzkPomV/53ej0v0W1sMp0wiIhLBLCIiEsEsIiISwSwiIhLBLCIiEsEjvPCj/ulumimf8ynTnKG4uEsEgIi4SwSAiLhLBICIuEsEgIi4SwSAiLxPn3Cg8edfwXaTeyV8h0wiIhLBLCIiEsEsIiISwSwiIhLBLCIiEsEsIicfvQW6YDR838LO8iC6tMJywSwiIhLBLCIiEsEsIiISwSwiIhLBLCInG9vD2sXDdwNXTmqI2HgBt/lulHmJyEsEgIi4SwSAiLhLBICIuEsEgIi4SwSAiLhLBIXO/9ALnPG2c9/9o16fHH065RX15fd43ayBuLhLBICIuEsEgIi4SwSAiLhLBICIuEsEgIi4SwSAiLhLBICIuEsEgIi4SwSAiLhLBICIuEsEgIi4SwSLwDEgXKafj5d78AAAAASUVORK5CYII=\" style=\"image-rendering: pixelated;\">\n",
              "            </div><div style=\"margin-right:10px; margin-top: 4px;\">\n",
              "              44 <br/>\n",
              "              <img src=\"data:image/PNG;base64,iVBORw0KGgoAAAANSUhEUgAAAMgAAACvCAIAAAA3ywYrAAACiElEQVR4nO3dsW0bQRBAUcpgAwoVuQSV5QKsAlSHyjDciStwpMCBWlAJ3mC+7pZ8LyYGF3xsMhjw4fnPv8uC7x9P//3N38d3o1bmfP2oQYtf9a3+Du6TsEgIi4SwSAiLhLBICIuEsEgIi4SwSAiLhLBIXM+5ND3nqEFfvD4ftPhVXiwSwiIhLBLCIiEsEsIiISwSwiIhLBLCIiEsEtfBWftemc6OWrHvwtTBKkcSFglhkRAWCWGREBYJYZEQFglhkRAWCWGREBaJySX0vqehl7n969br88FRXiwSwiIhLBLCIiEsEsIiISwSwiIhLBLCIiEsEtdzLqQWDa4db/sfVh2sciOERUJYJIRFQlgkhEVCWCSERUJYJIRFQlgkhEVi8h9Wz8nB6iGjvFgkhEVCWCSERUJYJIRFQlgkhEVCWCSERUJYJA44WF2x75ps6ytTB6ucnbBICIuEsEgIi4SwSAiLhLBICIuEsEgIi4SwSEwerBq1OOceRnmxSAiLhLBICIuEsEgIi4SwSAiLhLBICIuEsEic9B9W9x2175ZzdpQXi4SwSAiLhLBICIuEsEgIi4SwSAiLhLBICIuEu8LhUftuOWdHebFICIuEsEgIi4SwSAiLhLBICIuEsEgIi4SwSAiLhIPV4VH7rs9nR3mxSAiLhLBICIuEsEgIi4SwSAiLhLBICIuEsEhcB2dtvdtysDo7yotFQlgkhEVCWCSERUJYJIRFQlgkhEVCWCSERUJYJB6O/oCd/Hpa2meveHv9OTXq8uNlatLvqUFeLCLCIiEsEsIiISwSwiIhLBLCIiEsEsIiISwSwiIhLBLCIiEsEsIiISwSwiIhLBLCIiEsEsIiISwSwiLxCepoBUhAA5XmAAAAAElFTkSuQmCC\" style=\"image-rendering: pixelated;\">\n",
              "            </div><div style=\"margin-right:10px; margin-top: 4px;\">\n",
              "              45 <br/>\n",
              "              <img src=\"data:image/PNG;base64,iVBORw0KGgoAAAANSUhEUgAAAMgAAACvCAIAAAA3ywYrAAACo0lEQVR4nO3dwW1TQRRAUQd5SRssUFqJWKUG6qAAKIAeWKYVRAnZUERaGNC7k7F1ztp6/rau/uZp/n/4+PfTZcHj518rH1vx+8/z1NdtHrVi8x+1+I37R31Y+RD8K2GREBYJYZEQFglhkRAWCWGREBYJYZEQFglhkbgOzrrppengqBWD6/NBg1fljkVCWCSERUJYJIRFQlgkhEVCWCSERUJYJIRF4nrm0dDbHTW4T9zPgVVOJywSwiIhLBLCIiEsEsIiISwSwiIhLBLCIiEsEg6sDo/a/JDmxVH7l/ruWCSERUJYJIRFQlgkhEVCWCSERUJYJIRFQlgkJneFg+7+wOrdj3LHIiEsEsIiISwSwiIhLBLCIiEsEsIiISwSwiIhLBKHLqEHDe5fB3nDKvwPYZEQFglhkRAWCWGREBYJYZEQFglhkRAWiev+VdrmNdnmp81u/qNmv9GBVU4nLBLCIiEsEsIiISwSwiIhLBLCIiEsEsIiISwShx5YPfOU6ZkOfHT0xR2LiLBICIuEsEgIi4SwSAiLhLBICIuEsEgIi8R1/xZpxZlXNWjzgm+RA6ucTlgkhEVCWCSERUJYJIRFQlgkhEVCWCSEReIdHm67YvCq9o+6Xc4VcjphkRAWCWGREBYJYZEQFglhkRAWCWGREBYJYZGYfLjtmS9rHXT3O28HVjmdsEgIi4SwSAiLhLBICIuEsEgIi4SwSAiLxP2/CHNw43bmKyfP/IHuWCSERUJYJIRFQlgkhEVCWCSERUJYJIRFQlgkhEXi4b0vIPf08/vUqK/ffkyN+vL6OjXqaWrQ5fIyN8odi4SwSAiLhLBICIuEsEgIi4SwSAiLhLBICIuEsEgIi4SwSAiLhLBICIuEsEgIi4SwSAiLhLBICIuEsEi8AUJowZBOVkQWAAAAAElFTkSuQmCC\" style=\"image-rendering: pixelated;\">\n",
              "            </div><div style=\"margin-right:10px; margin-top: 4px;\">\n",
              "              46 <br/>\n",
              "              <img src=\"data:image/PNG;base64,iVBORw0KGgoAAAANSUhEUgAAAMgAAACvCAIAAAA3ywYrAAACjklEQVR4nO3dwUlkQRhGUVtMwiQ0EZEJQZiFCRiGCbhwZwCNGMasTMI0TGDAJ/y3fYXnrJuve3GpTVH04fhyfXZax6vnLz/z5/3volNbdn7D1PmWD8F3CYuEsEgIi4SwSAiLhLBICIuEsEgIi4SwSAiLxOHu/d+Jv3Kfl6ZTU+ten89OObFICIuEsEgIi4SwSAiLhLBICIuEsEgIi4SwSBw2Pljd54XUDqfWveWcnXJikRAWCWGREBYJYZEQFglhkRAWCWGREBYJYZEQFomtD1b3edO5w6l1r89np5xYJIRFQlgkhEVCWCSERUJYJIRFQlgkhEVCWCQ8WB2eWveWc3bKiUVCWCSERUJYJIRFQlgkhEVCWCSERUJYJIRFQlgkPFgdnjr99fnU123kwSo/SVgkhEVCWCSERUJYJIRFQlgkhEVCWCSEReJi3aeh+5za5y3nRh6ssnfCIiEsEsIiISwSwiIhLBLCIiEsEsIiISwSwiLhwerw1LrX57NTTiwSwiIhLBLCIiEsEsIiISwSwiIhLBLCIiEsEv5hdXhq3VvO2SknFglhkRAWCWGREBYJYZEQFglhkRAWCWGREBYJ7wqHp9a95ZydcmKREBYJYZEQFglhkRAWCWGREBYJYZEQFglhkRAWCQ9Wh6fWvT6fnXJikRAWCWGREBYJYZEQFglhkRAWCWGREBYJYZHwYHV4at1bztkpJxYJYZEQFglhkRAWCWGREBYJYZEQFglhkRAWCWGROPz0D/i/m8Gtp8eppbf7h6mp18vLqanbj4+pqUFOLBLCIiEsEsIiISwSwiIhLBLCIiEsEsIiISwSwiIhLBLCIiEsEsIiISwSwiIhLBLCIiEsEsIiISwSwiLxCT1rH/HrPSLQAAAAAElFTkSuQmCC\" style=\"image-rendering: pixelated;\">\n",
              "            </div><div style=\"margin-right:10px; margin-top: 4px;\">\n",
              "              47 <br/>\n",
              "              <img src=\"data:image/PNG;base64,iVBORw0KGgoAAAANSUhEUgAAAMgAAACvCAIAAAA3ywYrAAACg0lEQVR4nO3dMWpbURBA0SjYWwhoT8E7SiHSZgPZRjZgsg0vwAK3Kd24cBvID8zVfx+fU4tBxeU1w0inx6ffnzb49nL/z898//Jq1JY5H2HU5y0fgv8lLBLCIiEsEsIiISwSwiIhLBLCIiEsEsIiISwSd4fedC446rjr89lRXiwSwiIhLBLCIiEsEsIiISwSwiIhLBLCIiEsEneHXkgtOOr2W85BDlZZnbBICIuEsEgIi4SwSAiLhLBICIuEsEgIi4SwSDhYHR615vp8IwerrE5YJIRFQlgkhEVCWCSERUJYJIRFQlgkhEXCwerwqONuOWdHebFICIuEsEgIi4SwSAiLhLBICIuEsEgIi4SwSAiLhIPV4VHHXZ/PjvJikRAWCWGREBYJYZEQFglhkRAWCWGREBYJYZFwsDo8yj+svvNikRAWCWGREBYJYZEQFglhkRAWCWGREBYJYZEQFgkHq8Oj1lyfb+RgldUJi4SwSAiLhLBICIuEsEgIi4SwSAiLhLBIOFgdHnXcLefsKC8WCWGREBYJYZEQFglhkRAWCWGREBYJYZEQFonJu8JBx12THXfLOTvKi0VCWCSERUJYJIRFQlgkhEVCWCSERUJYJIRFQlgkdjhY3eL2v+t6Yzden2/kYJXVCYuEsEgIi4SwSAiLhLBICIuEsEgIi4SwSDhY3ceaf4S5hYNV9iQsEsIiISwSwiIhLBLCIiEsEsIiISwSwiIhLBKnvb/A3/06n6dGPVyvU6MGff35Y2rU0/OfsVGXy9QoLxYJYZEQFglhkRAWCWGREBYJYZEQFglhkRAWCWGREBYJYZEQFglhkRAWCWGREBYJYZEQFglhkRAWCWGReAN5Xgu0zkX/YAAAAABJRU5ErkJggg==\" style=\"image-rendering: pixelated;\">\n",
              "            </div><div style=\"margin-right:10px; margin-top: 4px;\">\n",
              "              48 <br/>\n",
              "              <img src=\"data:image/PNG;base64,iVBORw0KGgoAAAANSUhEUgAAAMgAAACvCAIAAAA3ywYrAAACmElEQVR4nO3dsW1UQRRAURtt7Nz9UIkTIjLKICMCd2ER0gGFOKcCGrDEWHp3dwadE6/erlZXkzzN//fPT7/vFnz88+2fn/n18Hlq1KKVb1z8uqlRg3/C0aM+rHwI3ktYJIRFQlgkhEVCWCSERUJYJIRFQlgkhEVCWCQut/4Bbzt3/3rlnfe2o5xYJIRFQlgkhEVCWCSERUJYJIRFQlgkhEVCWCQuRy+kNhx17pZzdpQTi4SwSAiLhLBICIuEsEgIi4SwSAiLhLBICIuEsEhMXlg9emnqwursKCcWCWGREBYJYZEQFglhkRAWCWGREBYJYZEQFonJXeHRu63FleKUDbecs6OcWCSERUJYJIRFQlgkhEVCWCSERUJYJIRFQlgkhEXicvSmc89RKwbX54NcWGV3wiIhLBLCIiEsEsIiISwSwiIhLBLCIiEsEi6svmPUoCtvORe5sMruhEVCWCSERUJYJIRFQlgkhEVCWCSERUJYJIRFwhtW50etOHcT78IqtyQsEsIiISwSwiIhLBLCIiEsEsIiISwSwiJxOXohteGoo7ecLqyyO2GREBYJYZEQFglhkRAWCWGREBYJYZEQFonJF2H+9/Z8e+Ug9wrZnbBICIuEsEgIi4SwSAiLhLBICIuEsEgIi4SwSGz6cNs97fla1Cuvxl1Y5ZaERUJYJIRFQlgkhEVCWCSERUJYJIRFQlgkJneFg/Z8ruugKz+Wd5ELq+xOWCSERUJYJIRFQlgkhEVCWCSERUJYJIRFQlgk7m/9A07y8vg4NerH6+vUqLvvX6cm/fz0ZWqUE4uEsEgIi4SwSAiLhLBICIuEsEgIi4SwSAiLhLBICIuEsEgIi4SwSAiLhLBICIuEsEgIi4SwSAiLhLBI/AVLEuCprzUknQAAAABJRU5ErkJggg==\" style=\"image-rendering: pixelated;\">\n",
              "            </div><div style=\"margin-right:10px; margin-top: 4px;\">\n",
              "              49 <br/>\n",
              "              <img src=\"data:image/PNG;base64,iVBORw0KGgoAAAANSUhEUgAAAMgAAACvCAIAAAA3ywYrAAACo0lEQVR4nO3dsW0UURRA0V20TbgnROSADsgsAjJiMhqgAwdEiAaoxm24ASQ+0r+zb9fnxKM/E1xN8vRmzn8+P50WfH38+M9rvv18vu+jVizebsXiI63c8fij3q1cBP9LWCSERUJYJIRFQlgkhEVCWCSERUJYJIRFQlgkLhvHkxvd9Px1xe1O4heP8sYiISwSwiIhLBLCIiEsEsIiISwSwiIhLBLCInHeuLC66OCVzoPHZDNHk8ev0XpjkRAWCWGREBYJYZEQFglhkRAWCWGREBYJYZEQFonLtR/g7253YXXmlukiC6tMJywSwiIhLBLCIiEsEsIiISwSwiIhLBLCIrFzVnj8bGvF3S+szjzKG4uEsEgIi4SwSAiLhLBICIuEsEgIi4SwSAiLhLBI7BxCz/xg8O3+Qnbm7quFVa5JWCSERUJYJIRFQlgkhEVCWCSERUJYJIRF4nL8KG3md10PNnPL1MIq0wmLhLBICIuEsEgIi4SwSAiLhLBICIuEsEgIi8TQhdW7N3PL1MIq0wmLhLBICIuEsEgIi4SwSAiLhLBICIuEsEgM/cPqxnnizKfayMIqb4iwSAiLhLBICIuEsEgIi4SwSAiLhLBICIvEzlnhRjO/6zqTvULeEGGREBYJYZEQFglhkRAWCWGREBYJYZEQFglhkRg6hPaH1dPUSbyFVa5JWCSERUJYJIRFQlgkhEVCWCSERUJYJIRFYuiPMI8/asXM1dCNLKwynbBICIuEsEgIi4SwSAiLhLBICIuEsEgIi4SwSJyv/QC5Xw8Pu4768PKy66j3P77vOur06cuuk37vOsgbi4iwSAiLhLBICIuEsEgIi4SwSAiLhLBICIuEsEgIi4SwSAiLhLBICIuEsEgIi4SwSAiLhLBICIuEsEi8AuPox3E5ZJslAAAAAElFTkSuQmCC\" style=\"image-rendering: pixelated;\">\n",
              "            </div></div>"
            ],
            "text/plain": [
              "<IPython.core.display.HTML object>"
            ]
          },
          "metadata": {
            "tags": []
          }
        },
        {
          "output_type": "stream",
          "text": [
            "Visualization\n"
          ],
          "name": "stdout"
        },
        {
          "output_type": "display_data",
          "data": {
            "text/html": [
              "<div style=\"display: flex; flex-direction: row;\"><div style=\"margin-right:10px; margin-top: 4px;\">\n",
              "              0 <br/>\n",
              "              <img src=\"data:image/PNG;base64,iVBORw0KGgoAAAANSUhEUgAAAMgAAACrCAIAAACsWkQ9AAAE6UlEQVR4nO3dTWtUZxyG8f9JT2Zy5i2xE19iQC2+tcEuCi1VKEQQCqVNR+PCTT9ZofgF4iRiFuKqhdJu6qKrtrRii9SaqHlxkjlxJnH8CvcD3hTk+q1vHgdycTY+nJN9fGM2NP1bT8VlRNSuH37jxxaL6pnb3XVxGRFFpSouBwcH4rLVOaL/gN3lJ+KyWJwWl2X32Rs/M+nYMf1QQEdYsCAsWBAWLAgLFoQFC8KCBWHBgrBgQViwICxYEBYsCAsW2VxeEaeFfGEhIkr9zoJ8bLmyIS6zL1riMiKm78+Iy8GnW+JyezXhJkjRmRKXjjsL+plJx/LEggVhwYKwYEFYsCAsWBAWLAgLFoQFC8KCBWHBgrBgQViwICxYEBYs8oRbK92UqyCGY4ur6ps2Rt01cRkRjc4H4vKv1QfisvV1wps2drrqS0Fq8q2VvnwZRj8z6VieWLAgLFgQFiwICxaEBQvCggVhwYKwYEFYsCAsWBAWLAgLFoQFi2xuXH4piPzFkUi6syAf6zgzUt6KMaqqH0fJLzf0H7D7c09cVl8MxKXjHkTSsTyxYEFYsCAsWBAWLAgLFoQFC8KCBWHBgrBgQViwICxYEBYsCAsWea8yLk7XbyX8N/hJ+d0NffnOQk2+s6CfGUlXIb5Xbzdko339BwxjUlzWFkfiknc34O1EWLAgLFgQFiwICxaEBQvCggVhwYKwYEFYsCAsWBAWLAgLFtl7U7Pi9NBHJ/Vzyx9/EZeOOwv6mRFRLq2Ly/bCBXG5de+h/gPaV06Jy7W7v4lL07sbCt7dgP8XYcGCsGBBWLAgLFgQFiwICxaEBQvCggVhwYKwYEFYsCAsWGRHv2mL08+W5vVzfx+7Jy6HA/VrC82E90FYvrbQv70lLusLCS9E2Fl5Ii5r19Rjt5blr3jInyaJiMFwKC55YsGCsGBBWLAgLFgQFiwICxaEBQvCggVhwYKwYEFYsCAsWBAWLAgLFvlYqX6c40H9V/3c6doZcVleUq+49OSXgujvroiUOzaNq8fEZe+O6d7Opric+HJKXLbvq2+FiYi9i+qfgCcWLAgLFoQFC8KCBWHBgrBgQViwICxYEBYsCAsWhAULwoIFYcEiP7rXEKeDF//q59bnL4rLx131Mx7N65bPeOiXC3q3n4vLRtJLQZbll4J01NeijLrqd1wanTlxGRH/rah/LJ5YsCAsWBAWLAgLFoQFC8KCBWHBgrBgQViwICxYEBYsCAsWhAWL7EJVvd3Q/lx9HUNErN1V/xs84c0F8p2Fg4m6uIyI8cu5uNz7Sf06S17q/340vlJ/be/OjrhsLqh/1t7qrriMiKb8U3liwYKwYEFYsCAsWBAWLAgLFoQFC8KCBWHBgrBgQViwICxYEBYssvmz34nT8uWEfm6tuiEuH23cFJeDA/UdB0Ul4XbDocqH4vKdT/4Wl49+eKj/gHo2KS5n2t+Ky82e+q9PN1+p04j90ZS45IkFC8KCBWHBgrBgQViwICxYEBYsCAsWhAULwoIFYcGCsGBBWLAgLFjkJ46/L043txOuzUw21e+jTByfEZf//DkUl8cmz4nLiKi+Usdl/oe4rORt/Qecbp0Sl4dnz4vL1st9cXmkyMRlRPQ33hWXPLFgQViwICxYEBYsCAsWhAULwoIFYcGCsGBBWLAgLFgQFiwICxavAVOm63/NR/zuAAAAAElFTkSuQmCC\" style=\"image-rendering: pixelated;\">\n",
              "            </div><div style=\"margin-right:10px; margin-top: 4px;\">\n",
              "              1 <br/>\n",
              "              <img src=\"data:image/PNG;base64,iVBORw0KGgoAAAANSUhEUgAAAMgAAACrCAIAAACsWkQ9AAAEGklEQVR4nO3d0WpUVxSH8TXOcTKpRZOZQiIaizGFCrbS2FJo6UUv+1A+i88ivoA3xQtLmwSVppiZKK2eiR3TV/hv6McQ+H7Xi8VGP87NbHYGe9/sV2ay+C2crKrZ2t7/vvYk3jltOWrD2j4+6jjd2bR2Pv4inNzofw8nZ+Pb4WS1/MNeypdKOcMSwrCEMCwhDEsIwxLCsIQwLCEMSwjDEsKwhDAsIQxLiG6y6l/s87Urv1xAHLVp7aT/I5w8He+Gk9P+eThZLUf1iyWEYQlhWEIYlhCGJYRhCWFYQhiWEIYlhGEJYVhCGJYQhiWEYQnRrfwqyAW6tbLyezvEoyDQUf1iCWFYQhiWEIYlhGEJYVhCGJYQhiWEYQlhWEIYlhCGJYRhCdFBv9hPFulTE69Hd8LJrXeH4eRB/CRGVe1cnOsVxKMgEx8F0QViWEIYlhCGJYRhCWFYQhiWEIYlhGEJYVhCGJYQhiWEYQnRHY/Sn8Gvvz/I9+Zrbx6fh5Ozy8NwcnceDlZV/Xkjv1zA3ASJ154CbzfMmKP6xRLCsIQwLCEMSwjDEsKwhDAsIQxLCMMSwrCEMCwhDEsIwxKi2zlehqMHw0/yvdtX01cGluMvw8mzfhFO9p+uh5NVNel/DSfziwD5LYC2te/Tf9X5OvJ2Q35Uv1hCGJYQhiWEYQlhWEIYlhCGJYRhCWFYQhiWEIYlhGEJYVhCDK51o3D0asve0Vf3wsn8IsDqLxcAR21aO4/fbthseLvhdjhZvt2glTMsIQxLCMMSwrCEMCwhDEsIwxLCsIQwLCEMSwjDEsKwhDAsIbrd6bfh6Mu3T/O928BfB5kyf3GEWJvvbFvb8ChIehmm6YpRflS/WEIYlhCGJYRhCWFYQhiWEIYlhGEJYVhCGJYQhiWEYQlhWEJ0P/19Nxx9vPUs33sSPzXRcLlgjblcAKzNdzatJR4FgW6C+MUSwrCEMCwhDEsIwxLCsIQwLCEMSwjDEsKwhDAsIQxLCMMSYvDd3fRPmbT9Yr8A7iwAO6G1+c6mtZP+IJw8jW+XbC6eh5NVdbKWXq/wiyWEYQlhWEIYlhCGJYRhCWFYQhiWEIYlhGEJYVhCGJYQhiXE4IdfHoWjO5fe5ntfnH8WTt4avgknj/5dDyf/efcwnKyq1yfb4eT2x7/CyeXGz/kB7m1+Hk4eDn8MJ29UetRXg/R/qqr2urNw0i+WEIYlhGEJYVhCGJYQhiWEYQlhWEIYlhCGJYRhCWFYQhiWEIYlRPf1WfoixVG3lu+9vzwPJw/jtfc/pPd2nlyehpNVdX0+DCffXNkKJx8s0zc5qmo4+z6c3N9I3+R4Nkon9/tlOFlVrz5Owkm/WEIYlhCGJYRhCWFYQhiWEIYlhGEJYVhCGJYQhiWEYQlhWEL8Bz0i8uq8HfrSAAAAAElFTkSuQmCC\" style=\"image-rendering: pixelated;\">\n",
              "            </div><div style=\"margin-right:10px; margin-top: 4px;\">\n",
              "              2 <br/>\n",
              "              <img src=\"data:image/PNG;base64,iVBORw0KGgoAAAANSUhEUgAAAMgAAACrCAIAAACsWkQ9AAAFBklEQVR4nO3dy24bdRiG8c/xTJyDnYMT141DYxoBLUW0AsSiEixogXtgyx1xOyAKC05ZwIINSCxAtCQe51Qb49iescstvCPlVTfPb/3qn6n7aDYejSuH774ZmuXsH3EZEbP2vrhMsxNxOW93xGU1eyYuIyLf2ROXixP12Ie7j/UL+PnyW3FZdF4Rl6n8CeRt9cxSxy7phwI6woIFYcGCsGBBWLAgLFgQFiwICxaEBQvCggVhwYKwYEFYsKjce21XnA7Sln5ufag+CjGXv12vZsfiMpefgwjPgwBp9lS/gHzjQFzWZj1xOUxuiMvN+am4jIhBqh7LHQsWhAULwoIFYcGCsGBBWLAgLFgQFiwICxaEBQvCggVhwYKwYEFYsEiKQp22Lxf6ucOu/jCM+oDNuK6+aKQ+yMRlRAzlYzfkYy/WSjy3c/tC/T84X1HPfHT6trg8aj5RD41oX87FJXcsWBAWLAgLFoQFC8KCBWHBgrBgQViwICxYEBYsCAsWhAULwoJFUgzH4nTWKvGNfVV+K8a41hCXj3rqN/Y/bJV4ukF/EOCn7a/F5cdnD/QLOGp8KS6LkfocRNGZqMu+GkCUaYA7FiwICxaEBQvCggVhwYKwYEFYsCAsWBAWLAgLFoQFC8KCBWHBIolXu+I0z/7Szy2ae+Jyqae+u2G2p35jn59OxWVEFB11rB+7OFAvNSIqF/ILEbq3xOUv2Tfqn5cDiIg8+1NccseCBWHBgrBgQViwICxYEBYsCAsWhAULwoIFYcGCsGBBWLAgLFhU7uxviNO8rf6CQ0Sk2Ym4LNrq6wAS+X0QeVv9XYyISLJn6rEbB+JyZdbTL2Cw3BaXjeH1fwKp/M8vdSx3LFgQFiwICxaEBQvCggVhwYKwYEFYsCAsWBAWLAgLFoQFC8KCRVLIzyykmfqShYgYratfg2/21QcBJp5v7Kfyry20jtWXLDxfq+gXcLO/UI/tXv8nYHoShDsWLAgLFoQFC8KCBWHBgrBgQViwICxYEBYsCAsWhAULwoIFYcGCsGCRJL1jcTqq1fVzH5/cF5ff3xyJyxJv7yjzKEjaU48ttm6ry7OxfgGz1rK4TORfHNE/Af1TjYiCl4Lg5SIsWBAWLAgLFoQFC8KCBWHBgrBgQViwICxYEBYsCAsWhAWLZLaj/t5GIj8FEBEvbk3F5dL5QFyOttSv1jee98VlRAwb6rHVXH0tyrTV1S+gJh87rKuX2uyrPzlzVepJEF4KgpeLsGBBWLAgLFgQFiwICxaEBQvCggVhwYKwYEFYsCAsWBAWLCpv7DfEaX6j1Nfg6g+ZjGur4vKjsw/F5Y/bX4nLiHh4+cm1H6ufWerY988/FZdH29+Jy+XaRFxGxDBVn4XhjgULwoIFYcGCsGBBWLAgLFgQFiwICxaEBQvCggVhwYKwYEFYsEia974Qp63plX7uxY760MT6vwtxWT9Qz3wxfiIuI2KSJ+q0WBOHm+99rl/AW/ln4nL7cFdcrv7xQD1z9VdxGRH31z4Ql9yxYEFYsCAsWBAWLAgLFoQFC8KCBWHBgrBgQViwICxYEBYsCAsWhAWL5O7kjjj9O1Hf3hERd/O5emxjRVxOZ0Nxuba1Jy4j4venv4nLxvqBuJxFR7+AxVJTXF4tcnHZfv1Q/ev/peIyIqr5O+KSOxYsCAsWhAULwoIFYcGCsGBBWLAgLFgQFiwICxaEBQvCggVhweJ/bpf908QkINMAAAAASUVORK5CYII=\" style=\"image-rendering: pixelated;\">\n",
              "            </div><div style=\"margin-right:10px; margin-top: 4px;\">\n",
              "              3 <br/>\n",
              "              <img src=\"data:image/PNG;base64,iVBORw0KGgoAAAANSUhEUgAAAMgAAACrCAIAAACsWkQ9AAAFQUlEQVR4nO3d21JbZRyG8X82EBLISqKmtKZCGITuKLSV1LHjeNAD78yL8JrYCFNFmFppQ5USyiYEEoQAXoJvnHmnJ8/v+J3VVefpOvGbL6m7xUJoytUJcRkRp7vb4jJXmxaX3T31maMLz8VlRORe/yIuP04/EZfVN2v6CxzMqI9Nry+Ly8z4l+Ky3k3EZURs59viMq0/FNARFiwICxaEBQvCggVhwYKwYEFYsCAsWBAWLAgLFoQFC8KCRerRyx/EaXt5RX9usviNuDxdWhKXhWdPxWVqrSkuIyI7di4uqyez4vKw/EZ/gdO2+s+7Pa2eWShsborLSpIRlxGxe/CPuOSLBQvCggVhwYKwYEFYsCAsWBAWLAgLFoQFC8KCBWHBgrBgQViwICxYZE+W1HsmSo1F/bkd+TDMWKMhLk/kZ5aqk+IyIo73j8RlNVEPjXQOjvUX6A4Pi8u5rby4bOdS4vLouCsuI6JcVw8O8cWCBWHBgrBgQViwICxYEBYsCAsWhAULwoIFYcGCsGBBWLAgLFhki/KZhfbSAJeClOQzCz35rpGbOfWZmT/XxGVEXM49E5etjVVxmXuq3l8SERdr6mMjdSMO0/1LcZl/8UL90yM6y+oBE75YsCAsWBAWLAgLFoQFC8KCBWHBgrBgQViwICxYEBYsCAsWhAWL1MJ4SZwezTwZ4Lnr6v8GH6qpP+Mx8X5cXLaSLXEZEdXje+Jyr/5RXJ7u7OgvkLl1R1xO9cricjt/LC77rb/FZUQUF9UDJnyxYEFYsCAsWBAWLAgLFoQFC8KCBWHBgrBgQViwICxYEBYsCAsW2ZvhEXGae/WH/tyz2cfiMv/ulbi8iVvi8vq8Ly4jIl1Rf28imm/FYfdr9a8fEYWt38XlQXFfXJ411b/UF98/F5fB3Q345AgLFoQFC8KCBWHBgrBgQViwICxYEBYsCAsWhAULwoIFYcEi2zk8EafdoSH9uY+2suKyleTVh3ZT6vK2estDRLze2RCXmfG74nK+pf/50by6FpfttnpmoTI5Ky5PlpbFZUQk8u+Y8MWCBWHBgrBgQViwICxYEBYsCAsWhAULwoIFYcGCsGBBWLAgLFgQFiyy5/fnxWn53W8DPFi+leNmgIeqx2by8u0dEdGfUy/waK2o95eUKurtHRHRu74Sl1eN78Tl6MaquNRPwsQgZ2z4YsGCsGBBWLAgLFgQFiwICxaEBQvCggVhwYKwYEFYsCAsWBAWLLIP5Ns7PiTqj6NERJz/n7f5L+pJiN5EXX/o2a/qqY3aV1Pisr27rb9AfywnLh+uq9eH7NXV+0sGuhSkyKUg+LQICxaEBQvCggVhwYKwYEFYsCAsWBAWLAgLFoQFC8KCBWHBIhuJeg6h3RngxMKdkvrjHGenF/JTLXc3pBrfisvuyoq47D1c0F8g2VwTl+mK+t/qeue9uOw/bojLiEitqldC8MWCBWHBgrBgQViwICxYEBYsCAsWhAULwoIFYcGCsGBBWLAgLFikfpz/WZxe3Cvqz81vqacbjj5Tr4SYOhsSlx9KA/zeRX5fHe8l6tUJs71L/QVWRn4Sl5cbh+Lyovi5uFwYeykuIyJq6q948MWCBWHBgrBgQViwICxYEBYsCAsWhAULwoIFYcGCsGBBWLAgLFgQFiyymbp6fUWtOcBzD2vqEZd0c1RcZsbUKzFG/sqLy4i4nrwSl4UD9djMcKatv0Al3ReXO4WyuJwZnhGXI9kJcRkRtzv3xSVfLFgQFiwICxaEBQvCggVhwYKwYEFYsCAsWBAWLAgLFoQFC8KCxb9ygPAyFfpYJQAAAABJRU5ErkJggg==\" style=\"image-rendering: pixelated;\">\n",
              "            </div><div style=\"margin-right:10px; margin-top: 4px;\">\n",
              "              4 <br/>\n",
              "              <img src=\"data:image/PNG;base64,iVBORw0KGgoAAAANSUhEUgAAAMgAAACrCAIAAACsWkQ9AAAEXUlEQVR4nO3dz2rcVRyG8e8vHW0SS0gy+TMTq4QmFtEqmqpgu2hRENy6E1wKXoQ30RsRr6AbaYtowWxt1W4yzjRmKvVfCQmpt/Ae8CFYns/65TCEJ7PJ4aS7ev1SZSbTX8NlVQ36G//5scSZ0LH5mVU1ORiHy+FKeux4OgqXbR81/gnM5IdKOcMSwrCEMCwhDEsIwxLCsIQwLCEMSwjDEsKwhDAsIQxLiG7rjeVwCv0Z/PQvFxAf9aDlekV8Z+HhdBIul5bWwuXJ7fvhsqpmrmyny/xQKWdYQhiWEIYlhGEJYVhCGJYQhiWEYQlhWEIYlhCGJYRhCWFYQvRO/SpIfixxJnRsfmZVjfNHQfrDcLk3ehguP936PFxW1VfTr8Ol31hCGJYQhiWEYQlhWEIYlhCGJYRhCWFYQhiWEIYlhGEJYVhC9LC/2KfHNvwbD+BM6Nj8zLZj99NHQVafmw+XT14Kh1VV50az4dJvLCEMSwjDEsKwhDAsIQxLCMMSwrCEMCwhDEsIwxLCsIQwLCF6y0vr4ZT6i/3/6HIBdb0ifrthLf+oo3B59/CbcFlVj7s/wqXfWEIYlhCGJYRhCWFYQhiWEIYlhGEJYVhCGJYQhiWEYQlhWEJ02wuL4XR953x+rm835B+g5dj07YZhP760Mk3vVlTLv8bwG0sIwxLCsIQwLCEMSwjDEsKwhDAsIQxLCMMSwrCEMCwhDEuIbmN+LpzOXkiXddp3FpouF+T/ceP3W/fC5eyHr+Qf4K87D8Ll2uWtcJm/3ZBfWKiWqxB+YwlhWEIYlhCGJYRhCWFYQhiWEIYlhGEJYVhCGJYQhiWEYQlhWEJ013beC6fHC//k5z6Tj4Js1qvhcvJ0L/8A/ZP04srozM/hchA/CjJpeRRk4KMgOl2GJYRhCWFYQhiWEIYlhGEJYVhCGJYQhiWEYQlhWEIYlhC9o/jOwqP4SYyqWohfxfjtdvwX+4YnMRoeBVlfXAuXx4cn4XJ2P11W1czK03A5PDcIl+Np+hPILyxUy1UIv7GEMCwhDEsIwxLCsIQwLCEMSwjDEsKwhDAsIQxLCMMSwrCE6C68vhxON7v05YKqGsePF6yepO8s7J1Jr1cM+g1vN0waLgKkxzY9iDBcSe8XjA8m4dK3G/RsMiwhDEsIwxLCsIQwLCEMSwjDEsKwhDAsIQxLCMMSwrCE6D757EY4nbu3kp97NPc4XPb+PpueeelJuHx0q+F2w+r1P8Pl6Gb6E9j4oOHKwPe7X4bLxfkXw+V0N70HcfHaR+Gyqp6//3649BtLCMMSwrCEMCwhDEsIwxLCsIQwLCEMSwjDEsKwhDAsIQxLCMMSonf8w5Vw2n/zKD/3l90XwuX5t9NbK/t358LlOzsNvzA/frsQLt+9ehguH3y3mX+A1e2Xw+XezfQyzMdvfREuJz/Nh8uqunzxtXDpN5YQhiWEYQlhWEIYlhCGJYRhCWFYQhiWEIYlhGEJYVhCGJYQ/wJ0DPNLOn6i0AAAAABJRU5ErkJggg==\" style=\"image-rendering: pixelated;\">\n",
              "            </div><div style=\"margin-right:10px; margin-top: 4px;\">\n",
              "              5 <br/>\n",
              "              <img src=\"data:image/PNG;base64,iVBORw0KGgoAAAANSUhEUgAAAMgAAACrCAIAAACsWkQ9AAAFE0lEQVR4nO3dTU9jZRyG8T/09LTQ0pahQGGGNydk4sK4cePGxMT4tnDi53PhJ3AxX8CVO5OJGmfjKyKhMkNLWzhtKafUr3CfxDvE5Pqt7zw5Q67ppidPl54db4SmNn0sLiPiLr9Ql2X52Oqf4jBfe6qeGZFc//6fH1uSz4yI2nRPXPbzc3FZT9Uz8/REXEaRv8CyfiigIyxYEBYsCAsWhAULwoIFYcGCsGBBWLAgLFgQFiwICxaEBYtkXjsUp/eTkX7uolQSl9Ub9djzLfUb+53LAi8XZBvqN/aO9yAiYhzqsYl8bO55VP0vwCcWLAgLFoQFC8KCBWHBgrBgQViwICxYEBYsCAsWhAULwoIFYcGCsGCRrA1OxWm+6OjnZosrcTkYq8uP//5CXH5fKfCGT6un3jXSXX9LXDauf9Mf4LamvriybnjUZpH7S7gUBA+MsGBBWLAgLFgQFiwICxaEBQvCggVhwYKwYEFYsCAsWBAWLJJZnorT0vKtfm5pXf0hk0aivl6R9mfiMpu+EZcRsbrWFJfbfw3F5dnBE/0Bjs7UdzGytCIuNy+vxeV4i0tB8P9BWLAgLFgQFiwICxaEBQvCggVhwYKwYEFYsCAsWBAWLAgLFktHjzfFaa1c4Bv7u1S9ZWAm31zQvFLPnN+p71ZExM2iKy4H/UxcftJ6rj/AT70X4nK8uSou6+m+uMzTE3EZEXfc3YCHRViwICxYEBYsCAsWhAULwoIFYcGCsGBBWLAgLFgQFiwICxZJeftQnOY3BX5tYVaTfxnhjXpzwWyh3lyQFLlmYlm/ZqIkXzMxKPAA+W5NXJbah+qZ8iUL+gsLEVHm7gY8LMKCBWHBgrBgQViwICxYEBYsCAsWhAULwoIFYcGCsGBBWLBYena8IU5v64f6ua2+fM9Crr5cMLo/F5f19EBcRkS6dCIu/2kdicvG+A/9AXL5/QL9hyEcZxY6lk8sWBAWLAgLFoQFC8KCBWHBgrBgQViwICxYEBYsCAsWhAULwoIFYcEiGdR2xen+mXp7R0SMK1VxWZ5MxWV2sCMut86uxWVE3KTqXSObPfXYbKvATRvJSH1x5b6hHlu9VG9wed1WfxwlInZ6XAqCB0VYsCAsWBAWLAgLFoQFC8KCBWHBgrBgQViwICxYEBYsCAsWyUcX74rTl8Nv9HMnbfVnPAbjK3H5afe5uPxx+EJcRsS4vSou6yX1H6W/sBARufzOQjJUjx3Nm+Lys1/VH6eJiG/XhuKSTyxYEBYsCAsWhAULwoIFYcGCsGBBWLAgLFgQFiwICxaEBQvCgkWSZhNxOt9Rv9uPiHLzibhszU/VQxfqsLpdV6cRl1vqlRDN3om4nMovLEREMlLvWbit7InLXvcXcflD+ztxGRHZ1Vhc8okFC8KCBWHBgrBgQViwICxYEBYsCAsWhAULwoIFYcGCsGBBWLBI+u99IE4frXypn9sZn4vLl82vxGX+Sv1vMFhKxWVEfDj9XFz29xvislk50h/gtLMiLg9uM3GZbD8Sl/NcfmkkYu+p+hfgEwsWhAULwoIFYcGCsGBBWLAgLFgQFiwICxaEBQvCggVhwYKwYEFYsEgm6fvi9HhQ4P2K1+m+uGwlX4vLV8nP4nJl/VBcRsQ0Uf937WbviMuLVXUZEW8Pp+Ky3yiLy86N+uJQt6m+tBMRnWt1yScWLAgLFoQFC8KCBWHBgrBgQViwICxYEBYsCAsWhAULwoIFYcHiXxF69VTiWGMdAAAAAElFTkSuQmCC\" style=\"image-rendering: pixelated;\">\n",
              "            </div><div style=\"margin-right:10px; margin-top: 4px;\">\n",
              "              6 <br/>\n",
              "              <img src=\"data:image/PNG;base64,iVBORw0KGgoAAAANSUhEUgAAAMgAAACrCAIAAACsWkQ9AAAEmUlEQVR4nO3d205ddRRG8QnsUorAxmhDNY2hlYPQKlhNg9CYeGHiK/o0XnG4MzStLS0ttDGYWFTOIoeNr/CthBHSZPyuZ/5dXYysmzWzV9f9n76pTP+vB+FkVZ1+dhxOXrzqDSc7c8Ph5MHi03CyqgYW7l36sfmZ0LFXfqnd+aFSzrCEMCwhDEsIwxLCsIQwLCEMSwjDEsKwhDAsIQxLCMMSotV6txWOHt/4OD/39OnrcHLg69lw8q+rfmNPLBc0OnZ/8Vk4ObRwPz1z6bdwsqoG40v1iSWEYQlhWEIYlhCGJYRhCWFYQhiWEIYlhGEJYVhCGJYQhiWEYQnR6u5Jf5PjfP8oP/f47nQ42f3seTiZ72zsLqXrJVXVNzoZTp6vXP6lVtVefLVDC1Ph5O5yeqnt+fQvVU1urE8sIQxLCMMSwrCEMCwhDEsIwxLCsIQwLCEMSwjDEsKwhDAsIbom24Ph6Nmd/vzcb//8LpxcG38ZTu6svg0nh+bShYWqaq3uphdw/SSc7Oz8nV9Aez7eWcj3IOa/CCcb/n5JvLSSHyrlDEsIwxLCsIQwLCEMSwjDEsKwhDAsIQxLCMMSwrCEMCwhWr0Px8LR0+UG38Y4n0sXAf5dWQ8nh77/Mpw8jD8NUlWtsXS/4/DxTjg58mP6xZGq2ov3C/LfbthfTP9Yg/HCQjX55opPLCEMSwjDEsKwhDAsIQxLCMMSwrCEMCwhDEsIwxLCsIQwLCG67rQ/CEcH41fr1eQ1eH5sfubAw4lwsqoO462Nj2a+Cie3nzTYBCHuAHFmo2N9YglhWEIYlhCGJYRhCWFYQhiWEIYlhGEJYVhCGJYQhiWEYQnRuvLX4Ff/xj7+SYjtBj+I8N5sgkCX6hNLCMMSwrCEMCwhDEsIwxLCsIQwLCEMSwjDEsKwhDAsIQxLCMMSomvmwSfh6G7nZoNzN16Fk+/RKgi1tzMfH7sUXypwZqNjfWIJYVhCGJYQhiWEYQlhWEIYlhCGJYRhCWFYQhiWEIYlhGEJ0erquRaODm8e5+d28rfr+XLB/HR8ZoMvjlzcHgsnz5afh5MD8X+/mu0sxHdgKb0D+X+/qs5W0jvgE0sIwxLCsIQwLCEMSwjDEsKwhDAsIQxLCMMSwrCEMCwhDEuIrskb6XbD0IPZ/Nx3T+Kvg8SLAEdL6av1nqlb4WRVzW6mKwNrEy/Dyd3Vt/kF5HfgcGktnGxNjYSTM2/uhZNV9WL8RTjpE0sIwxLCsIQwLCEMSwjDEsKwhDAsIQxLCMMSwrCEMCwhDEuI1sgPP4ejfb938nP7H/Vd+rHH873hZM+bdGWjqm5O94eT21v/hJMfPurJL+Bs/XE4eW3i83DyaO+XcPIkXm+pqs76STjpE0sIwxLCsIQwLCEMSwjDEsKwhDAsIQxLCMMSwrCEMCwhDEsIwxKiNbY/GY7+8Wm6tVJVY3vpZH7sxOFFOLk1ej3956v+O0j3drrHb4eTd3fO8gt4PXEeTt6KV4w226vh5MbORjhZVcPt0XDSJ5YQhiWEYQlhWEIYlhCGJYRhCWFYQhiWEIYlhGEJYVhCGJYQ/wPag/rmBR5Q5wAAAABJRU5ErkJggg==\" style=\"image-rendering: pixelated;\">\n",
              "            </div><div style=\"margin-right:10px; margin-top: 4px;\">\n",
              "              7 <br/>\n",
              "              <img src=\"data:image/PNG;base64,iVBORw0KGgoAAAANSUhEUgAAAMgAAACrCAIAAACsWkQ9AAAEgElEQVR4nO3d22pbVxRG4anTliVFDolzVackbutCWkxLofQBSt+n79DnDDWx09DiHBwsW8cor/AvyMAUxnc9mcjyYN/sxVLv+GhWmcV6H05W1axLJxerT+nOcf+L74TW5juhtff+URuWSjnDEsKwhDAsIQxLCMMSwrCEMCwhDEsIwxLCsIQwLCEMS4je0WgcjnbzUb53udmGkwejXji5uU53jh4Ow8mquotPbdz78YrbdbqW+Far5Yv1iSWEYQlhWEIYlhCGJYRhCWFYQhiWEIYlhGEJYVhCGJYQhiWEYQnRO3vwfTh62bvI907iYxuL1SacfF4n4eRF/zycrKqDLj0Kchsfhpm23LTRsLbLz+18+W+1Wr5Yn1hCGJYQhiWEYQlhWEIYlhCGJYRhCWFYQhiWEIYlhGEJYVhCDCv+HZPhoGFvw/UV8d5d/DMqo/U9Hy7IdzatvYu/1W4QfwO7dLCqhr300IpPLCEMSwjDEsKwhDAsIQxLCMMSwrCEMCwhDEsIwxLCsIQwLCGG+2n6vnr7oeE9+HQeX4gQv7F/t7sMJ1ctb+wbzizEHzXfCa29ie9uaLLZp4dhfGIJYVhCGJYQhiWEYQlhWEIYlhCGJYRhCWFYQhiWEIYlhGEJMfx3/zoc3VZ6DqKYN/b/o8MF+c6qOoh/xWP1cRtOjqfpR92Nw8Gqqi6+FMMnlhCGJYRhCWFYQhiWEIYlhGEJYVhCGJYQhiWEYQlhWEIYlhC9Jw8m4ehoMGvYO7gNJxfxQYBZl54CWF6npwCqanwYXzOxSW8umLUcr8jvWTipk3DyVf88nJyM0j+/Wv5ZPrGEMCwhDEsIwxLCsIQwLCEMSwjDEsKwhDAsIQxLCMMSwrCEMCwhhrt1ehRkNFvkexfx2vyESX7TxmzyMJysquX7q3Tt42k4uVi1XAoyyC/wSA8Odet0Mj8JUy3/LJ9YQhiWEIYlhGEJYVhCGJYQhiWEYQlhWEIYlhCGJYRhCWFYQvR+nr8IR8/3L/O90y69aiJ/uz6NLwX5uGx4Yz+ITyL0JoNwMv+oVbWOrzDpPxqFk9sP6UUjk8N0Z3kpiO6dYQlhWEIYlhCGJYRhCWFYQhiWEIYlhGEJYVhCGJYQhiXE8FP6iyfVrRre2LecWYjvboiPIcwaXtjXYBRf9BD/jkv+UatqPk0/wM36JpycHqQ7F/HOavln+cQSwrCEMCwhDEsIwxLCsIQwLCEMSwjDEsKwhDAsIQxLCMMSYnj49Z/h6OriMN97dLwKJ9/+Mw8nv3me7rx6ne6sqidfpWsv/07vbvju9G3+Ad7s/gon787TWx56/fRHNE6P/wgnq6pb/h5O+sQSwrCEMCwhDEsIwxLCsIQwLCEMSwjDEsKwhDAsIQxLCMMSwrCEGO6vfwtHXzxb53vf/JceXPnhWXpqJd/5Y3zApqpexWdsfjlLD8O8u/g2/wCPTtKfh3n/Mj0M8+vT9HzL1e1P4WRVnT09DSd9YglhWEIYlhCGJYRhCWFYQhiWEIYlhGEJYVhCGJYQhiWEYQnxGY0Q7HaDZghrAAAAAElFTkSuQmCC\" style=\"image-rendering: pixelated;\">\n",
              "            </div><div style=\"margin-right:10px; margin-top: 4px;\">\n",
              "              8 <br/>\n",
              "              <img src=\"data:image/PNG;base64,iVBORw0KGgoAAAANSUhEUgAAAMgAAACrCAIAAACsWkQ9AAAEWUlEQVR4nO3dS25jVRRG4W3X9TsqTDlCkEI0aIGEeIihMRDGwjQYBEK0EEpCVBVfx69rpvAfyUsR0vraWyeWveKOt84dfXn3vjLjZR9OVtXQL69+7Hm7SM/sDuFkVS1eZuHk/uYYTp73k/wFjBe7cHLYxe9A/K7mn1TTseP8UClnWEIYlhCGJYRhCWFYQhiWEIYlhGEJYVhCGJYQhiWEYQnRjRfMz+DAsQ0/rT80LBdcbtP/rv39JZyc3jZtgqzCyfFyG595/Xe17dj8UClnWEIYlhCGJYRhCWFYQhiWEIYlhGEJYVhCGJYQhiWEYQlhWEJ0wy5ehIg3YaqKODY/87JpeKm7Pt2xmW5O4WTTitFokS7DHJ7n4WT38hRODrUOJ6vlw/IbSwjDEsKwhDAsIQxLCMMSwrCEMCwhDEsIwxLCsIQwLCEMS4iu4af1+IkjVbXqn8LJ5+FtODlbXX8Popj1iqZNkHMfP8jkQ/phnWbpS51CSyv5oVLOsIQwLCEMSwjDEsKwhDAsIQxLCMMSwrCEMCwhDEsIwxKiy28Z6CaH/NzxbB1OzufHcPIc/7Q+alouAHYW8jOr5aEjs3/T9+rl01E4ed6lD1wp727QqzMsIQxLCMMSwrCEMCwhDEsIwxLCsIQwLCEMSwjDEsKwhOjyn9bHD+kTHKqqbtNk9/eXcHKySW8uGNp+sb/+sW1P8dimz5s43KUfwfFxCCenLU/x8O4GvTLDEsKwhDAsIQxLCMMSwrCEMCwhDEsIwxLCsIQwLCEMS4iuYREgXi6oqr6fhpOTTXofQctyQcNLJXYW2h6NsUpfbX7PwvS1N0H8xhLCsIQwLCEMSwjDEsKwhDAsIQxLCMMSwrCEMCwhDEsIwxLCsIToiCsxirlpYxSfedwuwsmqWvZP4eTz+W04Obtpumnj+utAr79ilB8q5QxLCMMSwrCEMCwhDEsIwxLCsIQwLCEMSwjDEsKwhDAsIRouBcFu2oivxOjTmza6ySGcrKo3s3U4OV+k95ecmy4FyXcW+vhdXV7/zKZj/cYSwrCEMCwhDEsIwxLCsIQwLCEMSwjDEsKwhDAsIQxLCMMS4v90d0PD8zYeJ+FkVV026X/X/mEIJ6eblrsb4q2NUbxccIhvr8ivrqiq5yG9vcJvLCEMSwjDEsKwhDAsIQxLCMMSwrCEMCwhDEsIwxLCsIQwLCG6zbtfw9HFh1F+7vYmTfZw+j2cHCZ/hpNfvf8pnKyq+9XP4eQntQ8nR5uX/AU8vPslnPz41zqcXJ3Sv/79t7+lo1WPj/Nw0m8sIQxLCMMSwrCEMCwhDEsIwxLCsIQwLCEMSwjDEsKwhDAsIQxLiO7z/rtw9M0XDWszq7/TZM/fpBddjP6YhZN3yx/Dyarqtuk7MHy9CydX/zSszZzWt+Hkfp8e+8Nn8eJQy3t1/Bjf4JIfKuUMSwjDEsKwhDAsIQxLCMMSwrCEMCwhDEsIwxLCsIQwLCH+A9dQ9ZbjoYxLAAAAAElFTkSuQmCC\" style=\"image-rendering: pixelated;\">\n",
              "            </div><div style=\"margin-right:10px; margin-top: 4px;\">\n",
              "              9 <br/>\n",
              "              <img src=\"data:image/PNG;base64,iVBORw0KGgoAAAANSUhEUgAAAMgAAACrCAIAAACsWkQ9AAAEWUlEQVR4nO3dzWpVZxSH8bXrqd9Vo41a8CRGUZRoNSKCYKWJMdULqHfgHfU+OumgRJvGiWAHNdFIUdqqOVpqEioRsX6U1lv4b8jDofL8xovF6+HxnezNTnP+8pnKPJn+OZysqn1Tp9Z8LbGz1drleO32iRP5AZZm5sPJ/v6qrdZ+lC+VcoYlhGEJYVhCGJYQhiWEYQlhWEIYlhCGJYRhCWFYQhiWEM2BdZ1wFHoM3vcn9n9M3w4ndxw6Hk6+eNrLD7D33Eg42Yt/gW78C+Q7W631xhLCsIQwLCEMSwjDEsKwhDAsIQxLCMMSwrCEMCwhDEsIwxLCsIRo8o+CQO9X9P1VkM++PBZO3p29F07u2rohP0Dz8k042Z0aCyd78btA+c5Wa72xhDAsIQxLCMMSwrCEMCwhDEsIwxLCsIQwLCEMSwjDEsKwhGhG1n0cjnanTuZ7e9Nza76W2FlVi9fSvzgyOJp+vaMe/ZcfYNPZ7eFk79pcONm9eHLNd7Za640lhGEJYVhCGJYQhiWEYQlhWEIYlhCGJYRhCWFYQhiWEIYlRKfFY/D45YJq9XQ9f2eBOeoQ8CJAflRobd+P6o0lhGEJYVhCGJYQhiWEYQlhWEIYlhCGJYRhCWFYQhiWEIYlRJtvN/T7if1ivDN/YQFam++E1vb9qN5YQhiWEIYlhGEJYVhCGJYQhiWEYQlhWEIYlhCGJYRhCWFYQjRfXDoTjq5cn8v3bj5/LJx8e+NuODnQ7yf2H+TrFdBRvbGEMCwhDEsIwxLCsIQwLCEMSwjDEsKwhDAsIQxLCMMSwrCEMCwhmgOd9eHorsOj+d43q8/DyfXbdoSTKw/uhZPdi2PhZFUtzqTv7QxPHA8nH8/cyQ8wPPH5mq9tszP951ebX8AbSwjDEsKwhDAsIQxLCMMSwrCEMCwhDEsIwxLCsIQwLCEMS4jm3OSpcPT1rVf53s6ef8LJf5c74eTGs9vCyUc/LoSTVbV/PH1i/3A2XTsynn4TpaoexqfN1xI7W631xhLCsIQwLCEMSwjDEsKwhDAsIQxLCMMSwrCEMCwhDEsIwxKi6W7cEo7+j57Y7x9v8ZmJxz/k325Ij7p4fT4/wNDkiXRtfNShC/lnJtIvYlTV8ET6w3pjCWFYQhiWEIYlhGEJYVhCGJYQhiWEYQlhWEIYlhCGJYRhCdFcufpNOLoy80m+d/BC+qGHJ99vCCe7X/0dTq7e2BNOVtXOyfSoz6YHwsndU6v5AX759tdw8tPT98PJP3+fDSc37z0YTlbVq/mlcNIbSwjDEsKwhDAsIQxLCMMSwrCEMCwhDEsIwxLCsIQwLCEMSwjDEqK5MnYzHB04nP4Vk6r66/6mcHLLkZfh5LsH6c7Bgy3+wzz7Lf1LKjuPvg0nlxbSo1ZVM/pTOPl6Lv3WyPLu78LJpYV34WRVXT70dTjpjSWEYQlhWEIYlhCGJYRhCWFYQhiWEIYlhGEJYVhCGJYQhiXEe0sx8iVcTJCeAAAAAElFTkSuQmCC\" style=\"image-rendering: pixelated;\">\n",
              "            </div><div style=\"margin-right:10px; margin-top: 4px;\">\n",
              "              10 <br/>\n",
              "              <img src=\"data:image/PNG;base64,iVBORw0KGgoAAAANSUhEUgAAAMgAAACrCAIAAACsWkQ9AAAFjUlEQVR4nO3d30/VdRzH8ffxHAIpVkEzolDR8auQCQcIQxFca7XVWK1sqdUaE2Pauuqu3Lquue5EotYaRVubbbnaGhmopKWC06FwZP2YglYjLJQVpda/8DoXr7vn4/q1747w9HvDZ5+T2Lzz4dCM9gyLy4hId7eJy5O934rL+s514vJU/1lxGRE7yzrF5e6JPeKytb5K/wDJTIG4zNuaKy4zPYfE5fJtLeIyIi71j4jLJfpDAR1hwYKwYEFYsCAsWBAWLAgLFoQFC8KCBWHBgrBgQViwICxYJJqWqX9av6ejUX/u+AfqmYV0V6u4HN13WFyWt1WLy4h49NjT4vKLxv3i8o9zU/oHKOloEJfn3lcPF5Sv2ygur81eFpcRcWtRsbjkjQULwoIFYcGCsGBBWLAgLFgQFiwICxaEBQvCggVhwYKwYEFYsCAsWCTeanhdnPacf09/bv0La8TlRK96GGblc83icqZfPbQTEau7NojLMfmuke7K7foH2Jt5V1zWbVHvGlkc+E9c3qyaF5cRkTyvHrLijQULwoIFYcGCsGBBWLAgLFgQFiwICxaEBQvCggVhwYKwYEFYsEilJvLE6aqmEv25P396XFzeW6teX3H1+LS4XFbXLi4j4uJn34vLkgfuE5fJefVwQUSUpdUf7Jm+o+Ky5iX1qpXpz38QlxFR8ox6fwlvLFgQFiwICxaEBQvCggVhwYKwYEFYsCAsWBAWLAgLFoQFC8KCRerrpwbF6cyBLL4bY/uKXeLyjdNvi8uWtZXi8szYkLiMiNcK3hSXX14bEJc3lib0D/DT6CVxWZ/FNRPj4rK74lVxGRF7P1GvmeCNBQvCggVhwYKwYEFYsCAsWBAWLAgLFoQFC8KCBWHBgrBgQViwSC2MzonTv3Ou6c9dMpUvLptb7heXV85OicubiSz+wxx84itxOXvwirhMzqn//IiobCsVl2N96jduVGysFpfJEctH5Y0FC8KCBWHBgrBgQViwICxYEBYsCAsWhAULwoIFYcGCsGBBWLBIPNa0VpwmMwX6c/O23CIu9VsGdpV1isvdE3vEZURsqKsSlyn5J5C3LVf/AKM9h8Rl/cvqt3hk9h0Wlyu2PiQuI2K6Xz1ewRsLFoQFC8KCBWHBgrBgQViwICxYEBYsCAsWhAULwoIFYcGCsGBBWLBIrErmiNN0t3pmIyJO9B0Tl1Xry8XlIyObxeVg235xGRGZwdPiMi2fWtFPwmT12DH5MExFc6u4XJjN4pts8ouKxSVvLFgQFiwICxaEBQvCggVhwYKwYEFYsCAsWBAWLAgLFoQFC8KCReLxF9vF6YUB9cBCRFRsV/9iP7lvSFyulK+vuPjxd+IyIiq61ovLk/KZhfSOTfoHmOxVfwKlmxvFZWowKS6vl82Ly8jmYhjeWLAgLFgQFiwICxaEBQvCggVhwYKwYEFYsCAsWBAWLAgLFoQFi0RrVY04zS+6W39u5qR8d0OjemZBv2Ugv1C9YiAiMsePiMuGHeqFCPolC5HdPQu/iMv8QvWXNXniqLiMiMauFnHJGwsWhAULwoIFYcGCsGBBWLAgLFgQFiwICxaEBQvCggVhwYKwYJHo7nhHnP7za6H+3Jz2RXF5feh2cZlb/Lu4vPzjtLiMiJwH58Tl/PBd4nL5kyX6B7hwZEBcLi78JS6X/qn+siq6XhGXETHx4R3ikjcWLAgLFoQFC8KCBWHBgrBgQViwICxYEBYsCAsWhAULwoIFYcGCsGCRujqjfotGcW1Cf+5v36TUx9aoj50+tVpc3pm+TVxGxOzRcXG5prZWfeZwFsdm/i39SFzOHFG/nuTZ6ufF5fSBtLiMiKZNN8QlbyxYEBYsCAsWhAULwoIFYcGCsGBBWLAgLFgQFiwICxaEBQvCgsX/eaTuk5+IEI8AAAAASUVORK5CYII=\" style=\"image-rendering: pixelated;\">\n",
              "            </div><div style=\"margin-right:10px; margin-top: 4px;\">\n",
              "              11 <br/>\n",
              "              <img src=\"data:image/PNG;base64,iVBORw0KGgoAAAANSUhEUgAAAMgAAACrCAIAAACsWkQ9AAAEgklEQVR4nO3dz25UdRyG8e90DkyKQGmnjVJKQHBRMRFqkWKiCxeGDVyCJl6CG2/DS+ECDBpCDBgLxhBxYzQqtkJbpjY1/TPCeAvvSXzSaJ7P+s2Pk+mT2czJj87C9RsVmryfLqtqsPjvH7t6IRz2ZtbTM6tO3OqGy7H3p8Ll6MtB/gDDd1+Ey439U+mh+aea/6XaHDvW4lApZlhCGJYQhiWEYQlhWEIYlhCGJYRhCWFYQhiWEIYlhGEJ0Yzi36s7bX4GJ44dnUzP3GvzqH9cyx91NlyOrq3kD9DiEyA+VealFb+xhDAsIQxLCMMSwrCEMCwhDEsIwxLCsIQwLCEMSwjDEsKwhDAsIZr8RQjo/YoWx/4fHxU6FnpULwXRATMsIQxLCMMSwrCEMCwhDEsIwxLCsIQwLCEMSwjDEsKwhGhGk8vhdHujxc/gc3dvh8ufrr4XLvvTB/yLPfL/uEDHHvSj+o0lhGEJYVhCGJYQhiWEYQlhWEIYlhCGJYRhCWFYQhiWEIYlRDNaXwinJ5qf83OPnHozXJ4++jhc7m6mP63v3PkiXFZVfZS+XjH2+Z1weehyembVQb+z4N0N+g8xLCEMSwjDEsKwhDAsIQxLCMMSwrCEMCwhDEsIwxLCsIRoOv3vwmnn3mR+bnexFy43v90Ol70rD8Ll5LmL4bKqjvy+Hy63Xp4Pl/ve3dDiUClmWEIYlhCGJYRhCWFYQhiWEIYlhGEJYVhCGJYQhiWEYQnRdDbfCqd/v9PiZ/DHg1fD5eGlH9JDV98Ih2u/PUrPrDpzNn1nYWowCJe/TqRXV1RVh7gSgrm7YeTdDTpYhiWEYQlhWEIYlhCGJYRhCWFYQhiWEIYlhGEJYVhCGJYQhiVEk78I0WHer2hx7CvppSDTp8+kZ1ZVjdLhsX44nF1JLxqpNneN7AGfav6XanWs31hCGJYQhiWEYQlhWEIYlhCGJYRhCWFYQhiWEIYlhGEJYVhCNMP4+or87opqc31Fi1/XVy6Ewxfz6+mZVc2tvXC5Mz2RPsDyeP4AxxY3w+X+s8vhcjS1HC47G+mZVTXqp8f6jSWEYQlhWEIYlhCGJYRhCWFYQhiWEIYlhGEJYVhCGJYQhiVEczK+ZWCt/1p+7vGvbofLraUPw+Vo9ma43FtfCpdVtfrBN+Gy+6gJl8NnP+YP0N2J71mY+TpcdtauxmfeC5dVNRYf6zeWEIYlhGEJYVhCGJYQhiWEYQlhWEIYlhCGJYRhCWFYQhiWEM30Lx+H0+e7Lc49f+WvcHl/47NwOXj+drjsPbgbLqvq+MXr4XJ35Xy43Oteyh/g0tNhuNya/SRcjj/ZCZe7c5+Gy6oaf5oe6zeWEIYlhGEJYVhCGJYQhiWEYQlhWEIYlhCGJYRhCWFYQhiWEIYlRNPtpK+CTPR6+bn7R/8Ml6NhN1w2yw/D5fzCjXBZVfWkHw77c2fD5fbeufzfn3k9/QRe+j79Exxe6ITL4cND4bLVsX5jCWFYQhiWEIYlhGEJYVhCGJYQhiWEYQlhWEIYlhCGJYRhCfEPRe7jDPO3AoAAAAAASUVORK5CYII=\" style=\"image-rendering: pixelated;\">\n",
              "            </div><div style=\"margin-right:10px; margin-top: 4px;\">\n",
              "              12 <br/>\n",
              "              <img src=\"data:image/PNG;base64,iVBORw0KGgoAAAANSUhEUgAAAMgAAACrCAIAAACsWkQ9AAAEq0lEQVR4nO3dTWtcZRyG8f9MJokURaut1aJoM1OjIGKtNBFJ1IUb3Yh04VZx69KNuHDpQld+CP0OoghaTVv6gq0v0UkyKTW1KgENStJpZvwK9wEvguX6rW8eTsnF2eT0Sevkywcrs1InwmVVdUcXwuWg/VS4PFKnw2W/5sJlVXXjY9fjY7s7Z/IHON15OlwenzgbLlfyR43/+Y2ObeeHSjnDEsKwhDAsIQxLCMMSwrCEMCwhDEsIwxLCsIQwLCEMS4hO/s1Cb3w+P3eldTxczozSYwft9FfrR28shcuqOjWRfl6xsJN+svHt7/flD7CwPQqXl2b/+28W8g8WGh3rG0sIwxLCsIQwLCEMSwjDEsKwhDAsIQxLCMMSwrCEMCwhDEsIwxKi0630+orVJt9XzIwvhsu1/FKQ3XPh8vtr94fLqvpw9Y1w+f4D74XL9Ss/5g+wNTkIl3OPTIfLlVb8gc24yaUg8bG+sYQwLCEMSwjDEsKwhDAsIQxLCMMSwrCEMCwhDEsIwxLCsIRocClIt8mlIGut+JuF+Lfrq8Mnw+U9t6e3d1TVZHs7XB7a/1e4nL3z1fwBtia+DJeD1rFwmV+LcqqdXt9SVc/dTD8w8Y0lhGEJYVhCGJYQhiWEYQlhWEIYlhCGJYRhCWFYQhiWEIYlRKc7Tu9uWIv/335VHan0U4h+fGxvOv0Oon/bfLisqo8X3w6X1+NHvWP8Wf4AG/k9C7vpD+vS1UPh8qNfXguXVfXO4avh0jeWEIYlhGEJYVhCGJYQhiWEYQlhWEIYlhCGJYRhCWFYQhiWEJ1+fHdDj7m7oRff3dDgO4gmf22BODY/s9Gxy9uPh8v1ta/D5Scn3g2XVfXH+c1w6RtLCMMSwrCEMCwhDEsIwxLCsIQwLCEMSwjDEsKwhDAsIQxLiNbJlw6G07VqcndD/ClEv72X30FAx0KfV8zEx05tPB8uBztfhcuqunffC+HSN5YQhiWEYQlhWEIYlhCGJYRhCWFYQhiWEIYlhGEJYVhCGJYQhiVEk0tBRk0uBdnTj2Fu1UtBGjzq4S/C5XaTR50afxoufWMJYVhCGJYQhiWEYQlhWEIYlhCGJYRhCWFYQhiWEIYlhGEJ0enVmXC62oYuBbkVPy74/3xeAT2qbywhDEsIwxLCsIQwLCEMSwjDEsKwhDAsIQxLCMMSwrCEMCwhGtzd0N3zuxviv7nS7Df2NR8fu5SeOU7PrKpe5cc+E5/5TXrmKD2zqnrt9FjfWEIYlhCGJYRhCWFYQhiWEIYlhGEJYVhCGJYQhiWEYQlhWEK03nr9g3D6080H83Mfnfo1XP4wTI99bHIjXC5tbobLqnp4J/0UYnn/MFw+9Nt6/gCDeiJcvth9JVxe/OdAuDy273q4rKrl0dFw6RtLCMMSwrCEMCwhDEsIwxLCsIQwLCEMSwjDEsKwhDAsIQxLCMMSonNl69lwOj+azs+9fKObHjucCpcXxjPhcrF+DpdVde7vP8Plge3Pw+Xla3flD/DmxEK4PHv3YrhcHI3D5XfD2XBZVXO76Q/LN5YQhiWEYQlhWEIYlhCGJYRhCWFYQhiWEIYlhGEJYVhCGJYQ/wJYO/aRoWuaIAAAAABJRU5ErkJggg==\" style=\"image-rendering: pixelated;\">\n",
              "            </div><div style=\"margin-right:10px; margin-top: 4px;\">\n",
              "              13 <br/>\n",
              "              <img src=\"data:image/PNG;base64,iVBORw0KGgoAAAANSUhEUgAAAMgAAACrCAIAAACsWkQ9AAAE00lEQVR4nO3d3U5cVRyG8TWwB6TDyNfQUjF60KoYjR9JhYlRq6demnfgoTdiUos6NDTqiaiJplqpTYuADFMKMwzewruTPunJ8zv+Z3Wz82SfzOpajeufd0pmsHURTpZSWhuNZ74ssSa0bOuDifwBxpun4eTV7lo4+WBzJ5xc/ejNcLKU8lvvl3Cyxt8v5QxLCMMSwrCEMCwhDEsIwxLCsIQwLCEMSwjDEsKwhDAsIarTwUw4OjE6zNcdbE2Hk+31Kpzsb50/8zWhZft30jVLKdVwFE7eH/4TTo6m040Yv//wRzhZSpn/OK4lX1TKGZYQhiWEYQlhWEIYlhCGJYRhCWFYQhiWEIYlhGEJYVhCGJYQ1aVxur/ibGq+xro3huHkfu8snHzxNN1est+rsW1msTsVTh7Fm2Fq7dsZ/bgUTo7vHoeTk9Nz4eTMeo0dPvkb8IslhGEJYVhCGJYQhiWEYQlhWEIYlhCGJYRhCWFYQhiWEIYlROOVVvoz+PL6S/m6D356FE423x+Hk1d20gfov7MXTpZS/ruTbppodePLUb6vsWXgdCPd37Hwdfqupj5th5MH2zUedTZ+A36xhDAsIQxLCMMSwrCEMCwhDEsIwxLCsIQwLCEMSwjDEsKwhKimbjbD0d1eumGhlNJaT38Gf3or/W2/MZceM/HwVnrGQSml81l6jcdxL32A2W6Nsxtmvkm3V1z95K1w8tdvd8LJuZvp5TSlzhvwiyWEYQlhWEIYlhCGJYRhCWFYQhiWEIYlhGEJYVhCGJYQhiVEY2UxvRYh/3/7pc7P4PnZDSs/p2c3HL2LnN2Qv4H8z4eWfe6P6hdLCMMSwrCEMCwhDEsIwxLCsIQwLCEMSwjDEsKwhDAsIQxLiAr6Gby1kSY7js9umPqwFU7u3/4rnCx1Di8gNhdAy+Zr5tdt1FrWL5YQhiWEYQlhWEIYlhCGJYRhCWFYQhiWEIYlhGEJYVhCGJYQhiVEVeP0jn6Ne0ROTzrh5PQoXfbP0W442ZxMDxoptc4v6Q/CyZMn6VErpZSJ0WE4edx7IZzMN8MMau2G8lAQPV+GJYRhCWFYQhiWEIYlhGEJYVhCGJYQhiWEYQlhWEIYlhBV/nt1Y/tyjYUvhuHgwtK1cPJg/G84OWzOhZOllGojPZWksb2cLjpOr1EpdZ42f9R8z0KtQ0HyZf1iCWFYQhiWEIYlhGEJYVhCGJYQhiWEYQlhWEIYlhCGJYRhCVENvjsPRy/fSG8cKaUc3f47nDyfXwwnLy7iQxYada7xAN7A4WZ6zEQppdNdDSd3e4/DSegmm3xZv1hCGJYQhiWEYQlhWEIYlhCGJYRhCWFYQhiWEIYlhGEJYVhCNN5b/SocHc3XqHDyoAonF5b74eST/XQbwuP2F+FkKeX43lE42Wy3w8mV5pf5A4wW0hfb2Es3F+w174aTnbOdcLKU0n65G076xRLCsIQwLCEMSwjDEsKwhDAsIQxLCMMSwrCEMCwhDEsIwxLCsISoXn/jeji6d382X3fptfRyjoeD9FCKpUtP43++xqEgFwedcPLV5pVwcnUtfaullEf30he7tHYSTh4M0+thpoc1DgXpjN4OJ/1iCWFYQhiWEIYlhGEJYVhCGJYQhiWEYQlhWEIYlhCGJYRhCfE/yWn/mcB2JbsAAAAASUVORK5CYII=\" style=\"image-rendering: pixelated;\">\n",
              "            </div><div style=\"margin-right:10px; margin-top: 4px;\">\n",
              "              14 <br/>\n",
              "              <img src=\"data:image/PNG;base64,iVBORw0KGgoAAAANSUhEUgAAAMgAAACrCAIAAACsWkQ9AAAFF0lEQVR4nO3dTWtcZRjG8ftkTmYy52SSmElrS6DQl4CkRVDRLroQqu2q1RoK/Qp+Kb9BmRYKTXATUazuBEEEI3bRQs2MaSYNmcmZt+NXuM7iIpv/b33zzCH+ezZz+0zyyaP10Mx26+JkRMTNkTi4/Pv74uS7D7vi5OCFOBgRkX1ZipPFj6k4mb490B9gmC+Lk6078pmdnjjZ3DqnHlrl2Dn9UEBHWLAgLFgQFiwICxaEBQvCggVhwYKwYEFYsCAsWBAWLAgLFunpY3VlYPX+df3co+d74uTswnlxspypawhpvSZORkTR+Ved/KqlHrqtf360b6v/vI86++KkvrOgLyxUOpY3FiwICxaEBQvCggVhwYKwYEFYsCAsWBAWLAgLFoQFC8KCBWHBgrBgkdzIFsXR8Vi95yMicnm/ovxBvWsk+Ux9gMGLRJyMiPy2OlnKWysXv76lP8Des1/FydZWW5wcdv4TJ5tba+JkpWN5Y8GCsGBBWLAgLFgQFiwICxaEBQvCggVhwYKwYEFYsCAsWBAWLNL22oY4etT9Sz93NJyok3Nq3I3vj8TJC3eviZMRsf/0T3Eye6jeX/Ky84v+ALV59QqT08FYnVxSd0ZKeWEhIjJ5FYI3FiwICxaEBQvCggVhwYKwYEFYsCAsWBAWLAgLFoQFC8KCBWHBItVHhxXuQ4isVE+eyDdC1B8si5P7HXVhIap8Yz/wXIhQ7qqbCFGqf6xpqGdmW+oPyUSVvwBvLFgQFiwICxaEBQvCggVhwYKwYEFYsCAsWBAWLAgLFoQFC8KCRRoVvtuusN5QztTJWl09Vv9qvZyvsLWhX4hQyBciJI+7+gOs3r8uTva3/xYn9dsrTJsgvLFgQViwICxYEBYsCAsWhAULwoIFYcGCsGBBWLAgLFgQFiwICxZp/ql6IUJtp8J2QyLPTkfqfoX+1Xq5O69+fESU6nbDtFS3GxYeLumffyDvF+hXQug7C5WumeDuBpwxwoIFYcGCsGBBWLAgLFgQFiwICxaEBQvCggVhwYKwYEFYsCAsWCSbqboKsnpvUz/3cOcfcfLcnSviZHf7D3Fy9Z56zUZUuWmjLd+00d2pcNOGfoXJ3Be5ODn8eShONo7l35zhUhCcOcKCBWHBgrBgQViwICxYEBYsCAsWhAULwoIFYcGCsGBBWLBIPn60Lo4Onhzo52YP1K/BB0966pnfqGf2O+qZEdGsq/sdo7F6fcii/KgRMfpJ3m54q/4nKLIVcXLxboUfveFSEJwxwoIFYcGCsGBBWLAgLFgQFiwICxaEBQvCggVhwYKwYEFYsEj176v1/28/IgZP1e/hp41MnCwGM3FyUqvw6yxr7Q1x8uDwlTg5Hk70B+gdqn+rdk3dg1iYqIsYpycVXi5FS90E4Y0FC8KCBWHBgrBgQViwICxYEBYsCAsWhAULwoIFYcGCsGBBWLBIPt/4ThwdFgv6uc2GeiPA2rK6s9DtNcTJ/ZPfxMmIuHrxtThZFJfFyWT6kf4A03JJnLx66Z04uXv8rfrpe+rGRETkrffESd5YsCAsWBAWLAgLFoQFC8KCBWHBgrBgQViwICxYEBYsCAsWhAULwoJFemn9A3H0sF9hbaa9oi7DvOk3xcksV1dxrlyu8Oss8331BpGV5g1xskg39QfIy1ycnMWxOLmSnxcne+mJOBkRm0tqLbyxYEFYsCAsWBAWLAgLFoQFC8KCBWHBgrBgQViwICxYEBYsCAsW/wMuhPFjU5g3+wAAAABJRU5ErkJggg==\" style=\"image-rendering: pixelated;\">\n",
              "            </div><div style=\"margin-right:10px; margin-top: 4px;\">\n",
              "              15 <br/>\n",
              "              <img src=\"data:image/PNG;base64,iVBORw0KGgoAAAANSUhEUgAAAMgAAACrCAIAAACsWkQ9AAAFJklEQVR4nO3dX29TdRzH8W/bM7p27WlZ9yfMxEgkExCNN+i88cIwo8tkDp4MD8f4ACjLlkF2Y7gi8UIiXqDEAUJkYCcd69ZtXdfjU/g08RNi8n5df3J2KO+cm578mrtUSEIz/u3H4jIi2htPxGXuy5K4bPx6RlzufvS3uIyI6oNJcXn46T/i8s36a/0GkvmKuGzcVz8B/VZ311riMiLKVyfEZV6/KKAjLFgQFiwICxaEBQvCggVhwYKwYEFYsCAsWBAWLAgLFoQFi2T0+ow4ba0+0q+bfjMlLo/vqN/DV76ui8utjU1xGRH1iWlxud/ri8vCyCn9BvIb++KyunBaXG6tq59AfVH950dEZ039z+KJBQvCggVhwYKwYEFYsCAsWBAWLAgLFoQFC8KCBWHBgrBgQViwICxY5C6UU3GaLjT063bW1GM5Skt1cXmw0haXvZOBuIyI2cU5cbm5/pO4nJ6e1W/g6DP5AI8V9VMtL6und3Sb2+JyqMvyxIIFYcGCsGBBWLAgLFgQFiwICxaEBQvCggVhwYKwYEFYsCAsWCSFUF8EaK+80K9bkb8Gb99Uf3JjVD5poz44EZcR8az3u7g8kj+rXOT0G9huqu8s1K//9+8s6C8sDHVZnliwICxYEBYsCAsWhAULwoIFYcGCsGBBWLAgLFgQFiwICxaEBYvcF+9+Ik71IwYiYndVHR/L5yzohyw8vPuzuIyISlddZvMlcTn+yxn9Bji7AVARFiwICxaEBQvCggVhwYKwYEFYsCAsWBAWLAgLFoQFC8KCRaKfMqAfMRARqfw1eLqifrf/rP+buOx2e+IyIkqFEXFZzNTPaqizG1pv9eyGEmc34H+EsGBBWLAgLFgQFiwICxaEBQvCggVhwYKwYEFYsCAsWBAWLJIsU6eN5Sn9unvNV+JybPGietE7j8Xh5HxNvWZE48GMuGxtPBKX5YXz+g0UO+rrFQdN9U2QLEnE5eF+X1xGxGFF/XEQnliwICxYEBYsCAsWhAULwoIFYcGCsGBBWLAgLFgQFiwICxaEBQvCgkVSuay+YbJ1Sz2TIyKq1ybF5bZ82fKSenxFdnOI80vKVy+Iy9Hb6jWfDx7qN7C/p764MnGtIS4HP6rvt+RiiANUBqHWwhMLFoQFC8KCBWHBgrBgQViwICxYEBYsCAsWhAULwoIFYcGCsGCRO39qVJyWv1O/Wo+I7i31+Ar9svo1s6QgLiNi5EpFXA7uFdVrXj7Rb6B/X73bQeuluGzIR63s3N4UlxHR+Op9cckTCxaEBQvCggVhwYKwYEFYsCAsWBAWLAgLFoQFC8KCBWHBgrBgkZTklwvazW39uqUR9Wc8dlb3xGVtWb3VTD65ICJicCQO07J6IMVuXn0NISL68uEJY/KJGK9Wn4rL6lKq/vmIF2t/ikueWLAgLFgQFiwICxaEBQvCggVhwYKwYEFYsCAsWBAWLAgLFoQFi9zc2R/Eaf9YfWEhIj48q/7awl8v1ZML3hyo7ywUK/fEZUT0Oo/F5cVzc+Ly6fNz+g28Tm+Iy9YfO+JyrKgeyTFV/V5cRkStrP4X8MSCBWHBgrBgQViwICxYEBYsCAsWhAULwoIFYcGCsGBBWLAgLFgQFiySidMfiNNCbojfEckKmbjMV0ricjxR/3rlvbY6jeg8UX/IpJafVZepuoyIbloWl4VEPb/k83euqH89UQOIiJkar83grSIsWBAWLAgLFoQFC8KCBWHBgrBgQViwICxYEBYsCAsWhAWLfwEh1OgJp/WvRAAAAABJRU5ErkJggg==\" style=\"image-rendering: pixelated;\">\n",
              "            </div><div style=\"margin-right:10px; margin-top: 4px;\">\n",
              "              16 <br/>\n",
              "              <img src=\"data:image/PNG;base64,iVBORw0KGgoAAAANSUhEUgAAAMgAAACrCAIAAACsWkQ9AAAFaElEQVR4nO3d30/VdRzH8feBww+h1gK1lIniBSUKZ+ywbCjhFGFx0OnWTbWo5fSmi/o36rKtrtxcN8ZNi3IZBxnZsg08/BgyxfwFGm6NBNKGQAj0L7y4eM2b5+P6tc++g+e+V999TuKTUy+Fpj9XJS4j4uDeGXHZO14uLtsb7onLtYF3xGVE3NnUJy43L3SIy62NXfoDZK/tFJdtdfef45kbOjZPPxTQERYsCAsWhAULwoIFYcGCsGBBWLAgLFgQFiwICxaEBQvCgkUyO7RDnHbk1+jn5iZmxWVmfa+4zI6uqWcWLYrLiFiJfHH5ct5jcdl9Vf2rRsTx1F/isk/+uODwvj/FpelReWPBgrBgQViwICxYEBYsCAsWhAULwoIFYcGCsGBBWLAgLFgQFiwICxbJlrR6J8Ty4H793KKCVXE5u6LeStKWnhaXC9fS4jIiiteXxeU3U9+Ly+zSJf0BzvzXKS6PHFD/Ahf7SsTltytfisuI6LzyobjkjQULwoIFYcGCsGBBWLAgLFgQFiwICxaEBQvCggVhwYKwYEFYsEheGlbvmThWuIGbNp5FUlzqN21ckO8vOZ7qEZcRMTW+WVy2v/VUPXRYvb8kItJV6rE9uS3icv7vSXF59sT74jIiHv8wJy55Y8GCsGBBWLAgLFgQFiwICxaEBQvCggVhwYKwYEFYsCAsWBAWLBIfv1shTvNGM/q5k0XqNQcD1/8Rl9myrLj8oFC9YiAiMi1P1AcYqxSXR+vVjwsioj+3W1w21qg/JBMjbeJwuvSCemZEeRwTl7yxYEFYsCAsWBAWLAgLFoQFC8KCBWHBgrBgQViwICxYEBYsCAsWyZsTalvpwgX93KmVMvUJ5Lsbzh5Sbxl4Il8xEBHZsWpx2ZZ6IC5/lm/EiIhMYo+4HL75u7hMFar3QUwmXhWXEVGd+k5c8saCBWHBgrBgQViwICxYEBYsCAsWhAULwoIFYcGCsGBBWLAgLFgkSxPL4nSuoFQ/92h6Wlyur70nLm/f6hWXLTs/EpcRsSXVJS71uxv07yAiYmGsQVyWyP+s+YIScbmhR9X/AryxYEFYsCAsWBAWLAgLFoQFC8KCBWHBgrBgQViwICxYEBYsCAsWhAWL5FSod0JU13br5/YM7xKXmcJFcbkSSXFZlqf+iklEdF/dIS4zdc/EZf/4Bi4FOZRSf3RkYmi7uGyvGxGX+pcwsZFvbHhjwYKwYEFYsCAsWBAWLAgLFoQFC8KCBWHBgrBgQViwICxYEBYsks171F8H+SlXoZ/7dvqeuNSvxCheXxKX56bUX+aIiN6lPnF5erlTXLY0PtIf4MfLm8Tl+Qdfi0v9Udua5sVlcCkInjvCggVhwYKwYEFYsCAsWBAWLAgLFoQFC8KCBWHBgrBgQViwSE7cSIjTjvwa/dy+8VVxebB2UFz+MfCKuGxvVr+YiIj1YXWZ3r0gLntH1EeNiDdevy8u15bUF4H+qNnRKnEZEa31U+KSNxYsCAsWhAULwoIFYcGCsGBBWLAgLFgQFiwICxaEBQvCggVhwSJx6uQX4rRodZ9+7gu7rovL8yNfictzt7rE5acvnhaXEXHi5Gfi8uLQHXG5v/Kh/gCTj+rF5Zt128TlL9dKxOXh2n/FZUQM3lbv7+CNBQvCggVhwYKwYEFYsCAsWBAWLAgLFoQFC8KCBWHBgrBgQViwICxYJNpbB8TpgfJS/dwrD9Uf0pjOOyMuG+aaxOXs4oy4jIin2z8Xl00Vd8Xl5bs5/QFaK5vF5a/zr4nLI9vUu15+m1kRlxHRvLVYXPLGggVhwYKwYEFYsCAsWBAWLAgLFoQFC8KCBWHBgrBgQViwICxY/A9L1/2i5YTT7gAAAABJRU5ErkJggg==\" style=\"image-rendering: pixelated;\">\n",
              "            </div><div style=\"margin-right:10px; margin-top: 4px;\">\n",
              "              17 <br/>\n",
              "              <img src=\"data:image/PNG;base64,iVBORw0KGgoAAAANSUhEUgAAAMgAAACrCAIAAACsWkQ9AAAE+klEQVR4nO3dTWtUZxyG8f/Uk0kmzcQzyXQ0zoypoUqgKWkFqyFC6d5VC132ZVH7Ffot2g/QXV9AKOLalZRSWhLaQAhWDNXxnLwQk3EyRE1xUv0K9wFv7OL6rW8OD+HibPJwprRw8VRo8v3H4jIiWsdff+mPdTwzIprVirhMBtPisvdwXT/A8ckZcXlUzsTlKz/qa/pDAR1hwYKwYEFYsCAsWBAWLAgLFoQFC8KCBWHBgrBgQViwICxYJJl8EaAtXy6ICMdj/wdHVS8X9KtH+gFGRtTHdpf3xOXk+ZK47I0NxGVEVEc2xCVvLFgQFiwICxaEBQvCggVhwYKwYEFYsCAsWBAWLAgLFoQFC8KCBWHBInHcWolXfRmm0FFbqfrYzeVdcVm7fFI/QOfXLXH5WeMrcXl95TtxOXm5IS4jovPHjrjkjQULwoIFYcGCsGBBWLAgLFgQFiwICxaEBQvCggVhwYKwYEFYsOCjIJE9Uh/71vS8uMy3OvoBoqR+wONw9rm6/F19ZZS2DsVlRMw05sQlbyxYEBYsCAsWhAULwoIFYcGCsGBBWLAgLFgQFiwICxaEBQvCgkVp4eIpcVrw2w3Vl/7YpnxnYesv9adBIiJdqIvL2u0pcblb/kc/QK0+Iy6fDeXisnx0Wlx2d9bFZRQ5Km8sWBAWLAgLFoQFC8KCBWHBgrBgQViwICxYEBYsCAsWhAULwoJFkvWeitOWfGEhIvKe/p0F9bG5/JGFc/JHFiKis31PXNbG1I8sHAypH1mIiMrQprjcW90Xl/W5DXHZHy1w1PHytrjkjQULwoIFYcGCsGBBWLAgLFgQFiwICxaEBQvCggVhwYKwYEFYsEgKXC6QLyxERDNVH/tg7Ym4nLwwKi6frR2Jy4gYLg/E5aD+n7icGq7oB7i32xeXn9a+EJfX+j+Jy2atwFGznnpU3liwICxYEBYsCAsWhAULwoIFYcGCsGBBWLAgLFgQFiwICxaEBQvCgkXyYF+9CNGuqb84EkXuV5w9eVZc5tsdcTlWUb/eERGPNw/Ux7aHxOXGXoErRlOJ+tjDWfWZE5vHxGVW5DZUO1Ub4I0FC8KCBWHBgrBgQViwICxYEBYsCAsWhAULwoIFYcGCsGBBWLBI9P9XF/o3eGtc/dTEYKD+H768o36TY214TVxGxNXGVXF5rfujuGxNFLoJol6vWHpyQ1w+DPVLJ+10TFxGkQZ4Y8GCsGBBWLAgLFgQFiwICxaEBQvCggVhwYKwYEFYsCAsWBAWLJKsp/7iiOnf4O00F5f9UfV2w5mS+uMoEfFU/iBCbUP+doP8V42IE+OpuMzln4d598PPxeXKne/FZUS00lRc8saCBWHBgrBgQViwICxYEBYsCAsWhAULwoIFYcGCsGBBWLAgLFiUPv7kW3F6/7c39OeeWeyJy79vqZcmZj94JC7vLGXiMiLq03fVabYoDhsXUv0Av9z/Wlx+1P1SXN7c/Vlcvn/lG3EZEXdvnRCXvLFgQViwICxYEBYsCAsWhAULwoIFYcGCsGBBWLAgLFgQFiwICxaEBYvS4psr4vSdt//Vn7uyWhWXc+/ti8vbf6o/o3J6fllcRkS+2hGXl2Yvicul9XP6AbrNK+KykjfF5URpXFwePP9BXEbE+Xn1qyS8sWBBWLAgLFgQFiwICxaEBQvCggVhwYKwYEFYsCAsWBAWLAgLFi8ANl/47iPXjiIAAAAASUVORK5CYII=\" style=\"image-rendering: pixelated;\">\n",
              "            </div><div style=\"margin-right:10px; margin-top: 4px;\">\n",
              "              18 <br/>\n",
              "              <img src=\"data:image/PNG;base64,iVBORw0KGgoAAAANSUhEUgAAAMgAAACrCAIAAACsWkQ9AAAEZ0lEQVR4nO3dS04cZxRH8Vudog2EdIPj0GAeSbBxHrNIkZeYcbaQvWSQTTgDXg3Ejg0SBqcflS38S8oRUnR+46tLgQ416U9fNy8/W6lMd/g8nKyq5uTiP19L7Kyq7uwqfYD9nXTy5LzHAxzuxmun4eQ8ftTx2WU4WVXv9ybh5CBfKuUMSwjDEsKwhDAsIQxLCMMSwrCEMCwhDEsIwxLCsIQwLCFa4nBBPfaZhV6PWvHa7uI63pkeWKg+ZxaW8ZmFur4NB2cbW+nOqi5e6xtLCMMSwrCEMCwhDEsIwxLCsIQwLCEMSwjDEsKwhDAsIQxLCMMSonkRXwqSHy+pqsoPruRriZ3MpSDV51KQOojP2JymB2y6rfQwTHf3T/rTq+Ybw3DSN5YQhiWEYQlhWEIYlhCGJYRhCWFYQhiWEIYlhGEJYVhCGJYQLXK4oB77zALzqMv4UpAmP7BQ1eRnFuK1+c4eZyuqhvFa31hCGJYQhiWEYQlhWEIYlhCGJYRhCWFYQhiWEIYlhGEJYVhC9Li7YbHf42Pw0Vn6Mfi73e1wcjxNDxc89Lq74Ty9u2Gwh9zdQJxZQM5B9FnrG0sIwxLCsIQwLCEMSwjDEsKwhDAsIQxLCMMSwrCEMCwhDEuI5tuvD8LR5fVtvndtJf0Kg4fqwsnFMP03aG97POpgbxJONhd/hZP3z9Ivhqiq8WV8aiM+XNCeXYaTd5OvwsmqGl+lj+obSwjDEsKwhDAsIQxLCMMSwrCEMCwhDEsIwxLCsIQwLCEMS4jmqE2PIXSbm/ne7mEeTj5ZLMLJj7OHcHLlIL5koaqbvk0nR1+Ek8v79Nevqna9DSebd3+Hk4unT8NJ6FF9YwlhWEIYlhCGJYRhCWFYQhiWEIYlhGEJYVhCGJYQhiWEYQlhWEI0R98cprPxPRNV1T1Pv8hkcfU+3Tn6PJxsb3pcClI76a0Y8/hRV9fW8p+/vE+PAy0n43ByfvUhnIQe1TeWEIYlhGEJYVhCGJYQhiWEYQlhWEIYlhCGJYRhCWFYQhiWED0uBan9Hjdt9DgKka8ldlYt40tBBrvP0qV9ToI88l+AeVTfWEIYlhCGJYRhCWFYQhiWEIYlhGEJYVhCGJYQhiWEYQlhWEK0j/4xeJ9P7HfDwcHFdbqz6tP2l+HkKH7UT//TkyD5Wt9YQhiWEIYlhGEJYVhCGJYQhiWEYQlhWEIYlhCGJYRhCWFYQjSvD38LR9ujeb53+WcbTk6/+yVd+vtpODjfGKU7q1a69AsvumH6fzgZ/Jo/wN3kj3BydfomnNz64ef0p795HU5W1fB4Fk76xhLCsIQwLCEMSwjDEsKwhDAsIQxLCMMSwrCEMCwhDEsIwxLCsIRot1+9Ckfn56v53pXj+3TtLI37ZH0jnNzMv8elaj57Ek7+OP4pnFzupH/Vqtr8+CFde5j+Xvs36aPefH8cTlbV7HQ9nPSNJYRhCWFYQhiWEIYlhGEJYVhCGJYQhiWEYQlhWEIYlhCGJcS/m+LeX7wHXhUAAAAASUVORK5CYII=\" style=\"image-rendering: pixelated;\">\n",
              "            </div><div style=\"margin-right:10px; margin-top: 4px;\">\n",
              "              19 <br/>\n",
              "              <img src=\"data:image/PNG;base64,iVBORw0KGgoAAAANSUhEUgAAAMgAAACrCAIAAACsWkQ9AAAD70lEQVR4nO3d22pdVRiG4ZEmxrihbg6Ulq403ViI1CZFiqKimDToiRfjBYmXIVgTAkUUBFtrKx5pk7SCithAqeiJ3sK3oB+LyPMc//wMFi/jZE7mmjs7vzAyp7Yuh5NjjHvXbjz2tY2dpbX5ztLamR/1WL4UcsKiQlhUCIsKYVEhLCqERYWwqBAWFcKiQlhUCIsKYVGxMPPH4Efoif3/8vWKKY96M5x0Y1EhLCqERYWwqBAWFcKiQlhUCIsKYVEhLCqERYWwqBAWFcKiYu7M4lI4Otm4lO892L6Vrt1M1zZ2ltYe7KQ7xzQ/bL62sXOqtW4sKoRFhbCoEBYVwqJCWFQIiwphUSEsKoRFhbCoEBYVwqJi4fTGeji6t3s737u8uRZO7u/emeHO0trljXRnae3Mj+rGokJYVAiLCmFRISwqhEWFsKgQFhXCokJYVAiLCmFRISwq5s4sPhWOTjYu5nsP4v/GmGytz3BnaW2+s7R25kd1Y1EhLCqERYWwqBAWFcKiQlhUCIsKYVEhLCqERYWwqBAWFQv5Owulx+D78drlws7S2nxnae3Mj+rGokJYVAiLCmFRISwqhEWFsKgQFhXCokJYVAiLCmFRISwq5lbmnwhHj9AT+8nW5XByjPHbtRvh5PMbl8LJX3du5QeY7TsLpTdB3FhUCIsKYVEhLCqERYWwqBAWFcKiQlhUCIsKYVEhLCqERYWwqJh798Mr4egR+tLG/S++CyfHGC+cTz+Lcnj/IJw88fZKfgAfBYGUsKgQFhXCokJYVAiLCmFRISwqhEWFsKgQFhXCokJYVEzxUZD8X0zGGAfx+wWTq2uPfeeJ91bDyTHG97s/hJMvPvNkOHns0T/5ARq/QGPnVGvdWFQIiwphUSEsKoRFhbCoEBYVwqJCWFQIiwphUSEsKoRFxUL+zsL+NI/Bl+PH4PnaaXZO8Y8jqxfPpqM//xsOLl19Lj9Aftr8F9jbvh1Ono53jjH2dtI3QdxYVAiLCmFRISwqhEWFsKgQFhXCokJYVAiLCmFRISwqhEXF3PvnPg1HX9r8K9/7+/Z8OPlw7ZNw8o/P74aTJ996NZwcYyz+9HE4eeKDh+HkL58dzw+w9MZX4eThl3fDyVOb6S/w5/X0r0nGGJOP0m9SuLGoEBYVwqJCWFQIiwphUSEsKoRFhbCoEBYVwqJCWFQIiwphUbHwyusr4ejhN0/ne89dfhBOfrt3GE4en5wPJ//+MX2/ZYzx2jvL4eSDr58NJy9ceZQf4N6d9LQnLyyFk4s318PJ1Tcn4eQY48H1l8NJNxYVwqJCWFQIiwphUSEsKoRFhbCoEBYVwqJCWFQIiwphUfEfdNLuF95FZdsAAAAASUVORK5CYII=\" style=\"image-rendering: pixelated;\">\n",
              "            </div><div style=\"margin-right:10px; margin-top: 4px;\">\n",
              "              20 <br/>\n",
              "              <img src=\"data:image/PNG;base64,iVBORw0KGgoAAAANSUhEUgAAAMgAAACrCAIAAACsWkQ9AAAFJElEQVR4nO3dwU5UZxyG8f/MnIFzmKGNFqSoNLSdAbVUqwQW3TXppvQS2uvqFfQ2TEx3pmqdCgqhmjFYlZYBBgbmzABOb+E9i3fTPL/1m48T8uRs+HIo3f32Tmj6tbfiMiKyk2vicjCxKy7HT66Iy7xe4FHHj2fFZb+0Ly5Xu8v6A7SmW+KyMvxYXOq/gbR3VVwWOrasHwroCAsWhAULwoIFYcGCsGBBWLAgLFgQFiwICxaEBQvCggVhwSJJHz4Xp/nyDf3cwUfv1emxemchfaQ+6nBtSf3pEekD9dijK5+Iy8FySX+A/rORuKw01MsFmXxnoV/kJoh+LG8sWBAWLAgLFoQFC8KCBWHBgrBgQViwICxYEBYsCAsWhAULwoIFYcEi+XJxTZw+S9f1c8u9T8XlaVn90kZjQX3Uxw8ficuImFv7UVye3/9NXG6MXusPkBzuicu01xCX+mUY/SZMoWN5Y8GCsGBBWLAgLFgQFiwICxaEBQvCggVhwYKwYEFYsCAsWBAWLJLy2YU47baH+rlZ4x/1CV4l4jK/UxGXE/cH4jIi1s+2xeWlmvr9kovOqf4AlZlFcdmr74hLPgqC/yfCggVhwYKwYEFYsCAsWBAWLAgLFoQFC8KCBWHBgrBgQViwSD5U1SsDk1fVawgRUc2nxOVp84243HqzKS5rK/PiMiLG/1AvYnxW/0Zcbo229AcY6/XFZWq4s6CfWehY3liwICxYEBYsCAsWhAULwoIFYcGCsGBBWLAgLFgQFiwICxaEBYtk2CiJ08H6SD/3/PP34lL/63p+Wf7TepG/2A++ysXl67fyZw7UX2pExLCWictc/nZDqav+Z5D0yQtxGRH5vQVxyRsLFoQFC8KCBWHBgrBgQViwICxYEBYsCAsWhAULwoIFYcGCsGCRbO+1xWnpb/UbBxFRWbopLgeP1S8ypDcb4jIv8t8Wxvan1al6YyBGL9TPMURE1qyLy7Mj9Qn6lQNx2Wj+IC4jopW1xCVvLFgQFiwICxaEBQvCggVhwYKwYEFYsCAsWBAWLAgLFoQFC8KCBWHBIulPqDdMLjVu6ecOO6fi8mKqKS7T35+LS/3bFRExvLwrLvVvjeRLBa7NRO9cPbauPmr1ZSouh7cLvFz6f6ofhuGNBQvCggVhwYKwYEFYsCAsWBAWLAgLFoQFC8KCBWHBgrBgQViwSMYO5U9izBQ4d7Sl3m44mH8nLr+uqp+v0L9dERGVY/XOQn9SvQmSyWcWO1a+XtHr/Csu10dtcRkRyeGeuOSNBQvCggVhwYKwYEFYsCAsWBAWLAgLFoQFC8KCBWHBgrBgQViwSLKn2+L06O6yfu6HxaG4rL+aFJf6Vwb0TwxERNJULxeUu+p/HBl7+pf+ABf3VsVlXt8Ql1Nz8+qZna64jIjKzA1xyRsLFoQFC8KCBWHBgrBgQViwICxYEBYsCAsWhAULwoIFYcGCsGCRrH7/qzjdah8XOFf9dxNx0p4Ql8eTZ+LyeuVn9cdHpFPqZybebWyKy4Vl9XJHRHQ6NXU695M4PDj9RVz2X6r/FyMiprOquOSNBQvCggVhwYKwYEFYsCAsWBAWLAgLFoQFC8KCBWHBgrBgQViwICxYJL1sVpx2K7f0c2c31Csu11bUaxu7LfV6ydyK+tMjYudJJi6nvhiIy155R3+AaqJ+bWVsc05c7l+XP6AyLPABldvN78QlbyxYEBYsCAsWhAULwoIFYcGCsGBBWLAgLFgQFiwICxaEBQvCgsV/+6D+YMB/DtoAAAAASUVORK5CYII=\" style=\"image-rendering: pixelated;\">\n",
              "            </div><div style=\"margin-right:10px; margin-top: 4px;\">\n",
              "              21 <br/>\n",
              "              <img src=\"data:image/PNG;base64,iVBORw0KGgoAAAANSUhEUgAAAMgAAACrCAIAAACsWkQ9AAAFdElEQVR4nO3d30/VdRzH8ffX+HkoEQ7GAcQ4/iTNSCi7sVaDMlZb6kYt12rdqNU/0F03/Q9R/0EELtILl622tDYzs5qVInEUOEIg20HgTEOg/6C9Tttr3jwf1699z5ez5743fPc5yZtvHwjN5KkpcRkR9W8k6mU/XxCX+3r2i8tzAwPiMiIeO/KsuJw8NS0u0/KfHxHX+/8Ql61HHxWXi0Nr4jKVqRaXEVGYKIrLdfpFAR1hwYKwYEFYsCAsWBAWLAgLFoQFC8KCBWHBgrBgQViwICxYJF3lleK07Vi7ft0bH8v/sX+rS1xuP71NXP7aeFFcRsRcdl5cNsyo7yzMnp/Rb6Dt+C5xmfv0qrjM9HaqHz+2rC4jyturxCVPLFgQFiwICxaEBQvCggVhwYKwYEFYsCAsWBAWLAgLFoQFC8KCBWHBIjn0foc4zclnV0REy96HxWX+kvqGSdsx9UiMiWH1oJGI6F5Vzxr5seuyuKyZLuG1Gf0b2CK/YFMcUj+94UCjOi3lYBieWLAgLFgQFiwICxaEBQvCggVhwYKwYEFYsCAsWBAWLAgLFoQFi+Spg5vEaernDfp1a2rVH9LQz5nIf3FBXBYPrxeXEbF5tExcPtD4iLhMJu/pN3Bn/q64LHTeEpf6+SUz52fFZURkj6svmPDEggVhwYKwYEFYsCAsWBAWLAgLFoQFC8KCBWHBgrBgQViwICxYlD1d0y1Oz04N6Ndtff4ZcakfB9B6dKe41E8uiIi6F9RjJpq+2igur2VG9RvITV8Tl72pPnF5buQ7cblFfmEhInL9f4pLnliwICxYEBYsCAsWhAULwoIFYcGCsGBBWLAgLFgQFiwICxaEBYuy1Der4jSzu02/7siC+jMW6ax6AxM31U9Pb1VPLoiIK59dFZeF3k5xuS63pt9A7Wt14rL6jHrZHS83i8vR/p/EZUS0cXYD7i/CggVhwYKwYEFYsCAsWBAWLAgLFoQFC8KCBWHBgrBgQViwSA6+97g4HR9e0K/bvbJfXOZf/FtcbjqjHrJw+t5ZcRkR2b5acbk4qL6IkWpK6TdQGC+Ky/QR9UGQ+0Q9ZKHlCfVbjYj8L+rPWPDEggVhwYKwYEFYsCAsWBAWLAgLFoQFC8KCBWHBgrBgQViwICxYEBYskq6KanFaPPSQft22v8rE5dxmNe4N19W3Vu7sqBCXEbFwQn1vJ9O7V1wmY//oN1DeXiUux4cvisv7fqs8sWBBWLAgLFgQFiwICxaEBQvCggVhwYKwYEFYsCAsWBAWLAgLFsmr76qHgiwOqS8XRERlRn1pIrtH/RWN8ctXxOVcvoT/2G/sU/8u/Rso6VCQW/llcZl5Xb2B4qD66Q0vNarTiPzJKXHJEwsWhAULwoIFYcGCsGBBWLAgLFgQFiwICxaEBQvCggVhwYKwYFGWn1wSpzWV6gsLEVEZyf+6n/+yuramfvr6Es5uyE8UxGVNpXpZ/VYjokq+24kb8+IyvU39fZrfBm+Ky4jY/k6zuOSJBQvCggVhwYKwYEFYsCAsWBAWLAgLFoQFC8KCBWHBgrBgQViwSD7oOSlOfxhT/7UeEZ0d6ksTqaWsuCymRsTliakPxWVEvDJ+WFx+u/y1es3nPtJv4MvvR8VlT6v6HsT0svp2Scse9YWFiBi9sFVc8sSCBWHBgrBgQViwICxYEBYsCAsWhAULwoIFYcGCsGBBWLAgLFgQFizKlioeFKfp+ib9ugu3V8RlUq3+jMfSfIe4rK8q4Wc8LlX9Li5316o3UJh9Ur+B5l3qN3D77pi4rFvrFJcrU+pPzkTEvp3l4pInFiwICxaEBQvCggVhwYKwYEFYsCAsWBAWLAgLFoQFC8KCBWHB4l8MAPJwAWowPAAAAABJRU5ErkJggg==\" style=\"image-rendering: pixelated;\">\n",
              "            </div><div style=\"margin-right:10px; margin-top: 4px;\">\n",
              "              22 <br/>\n",
              "              <img src=\"data:image/PNG;base64,iVBORw0KGgoAAAANSUhEUgAAAMgAAACrCAIAAACsWkQ9AAADqElEQVR4nO3dz4rWZRiA4df8zDJoBlR0phjDFqELc1OL6iQ6oM4lOp4galOQi4r5k4E6FpVZi07h+WBuPoTrWj88vAw37+b98c2lu0f7a+Zg//Xh5Frr7Pzlha8tdkZr5zujtbfevjKc/Onpi+HkWuvqk+kBXpsvhTlhkRAWCWGREBYJYZEQFglhkRAWCWGREBYJYZEQFonN/Gn9dJsX+8O9i19b7IzWzndutfZgvPbs/N/h5DvXpt9BrLUuX7sznHRjkRAWCWGREBYJYZEQFglhkRAWCWGREBYJYZEQFglhkRAWiU3xzcZa6/T5xa8tdkZr5zu3Wns2P+r8h0a2O+pvw0k3FglhkRAWCWGREBYJYZEQFglhkRAWCWGREBYJYZEQFolN8bS+tnux/2+8843xzm1+FGT/6nDydPxLG/Od0dqdH9WNRUJYJIRFQlgkhEVCWCSERUJYJIRFQlgkhEVCWCSERWIz/7gge7Gffgdxcj7+DmK8c611Mj7qfO18Z7R250d1Y5EQFglhkRAWCWGREBYJYZEQFglhkRAWCWGREBYJYZHY3N71M/jJ+F9jHO5fGU6enb8YTq61Dvcufu18Z7R250d1Y5EQFglhkRAWCWGREBYJYZEQFglhkRAWCWGREBYJYZHY/LrrZ/BtXuz/GU4ebHXU5+MfRJgfdbwzWrvzo7qxSAiLhLBICIuEsEgIi4SwSAiLhLBICIuEsEgIi4SwSAiLxGbn31e8Qp+CnI7XbvWJUbF250d1Y5EQFglhkRAWCWGREBYJYZEQFglhkRAWCWGREBYJYZHY7PwZ/BV6sS+OGq3d+VHdWCSERUJYJIRFQlgkhEVCWCSERUJYJIRFQlgkhEVCWCQ2WzyDn2/zDL5/8WuLndHa+c5o7c6P6sYiISwSwiIhLBLCIiEsEsIiISwSwiIhLBLCIiEsEsIicemTO18OR999+Pt87/G3N4aTRw+fDyd/+Wa68/DB4+HkWuvxdzeno59/MRw8/upkfoBbB3vDydPjzXDy5tHV4eTlZ58OJ9daH3x0bzjpxiIhLBLCIiEsEsIiISwSwiIhLBLCIiEsEsIiISwSwiIhLBKbB/fvDkcf/TD9umOt9eH9v4aTP36/P97553Dy0fH7w8m11sN70x+6+PrJW8PJG29O/6prrZdP/x5O3r5+MJx89uyP4eTH702/hFlrbX7+bDjpxiIhLBLCIiEsEsIiISwSwiIhLBLCIiEsEsIiISwSwiLxPw9z9VoyPfkJAAAAAElFTkSuQmCC\" style=\"image-rendering: pixelated;\">\n",
              "            </div><div style=\"margin-right:10px; margin-top: 4px;\">\n",
              "              23 <br/>\n",
              "              <img src=\"data:image/PNG;base64,iVBORw0KGgoAAAANSUhEUgAAAMgAAACrCAIAAACsWkQ9AAAFN0lEQVR4nO3dXU+bdRzG8V+3jnYPSqGDPvGQyNBtdtmQIVRIxGiyg8UXYDz05Xjgm/EFmJlRNqYYl41lAhaw5S4b6wRBAcN8C1cTr+zk+zm+8s/t/OY+4Z+7qbn5SmjaCy/FZUQUagVxmSy9Us+c6hWXp79eEpcRcTx8Ii5bT5vi8rMP7+gP8OT1sric3J8Ulz8c3xOX5dvnxWVEJPVdcXlGPxTQERYsCAsWhAULwoIFYcGCsGBBWLAgLFgQFiwICxaEBQvCgkX6j98PxenI9Zx+buuB+mfw4sd5cZks7qhn1sRhRMReXb1eUb6lXtnIrJ7VH+Agp16veFb6UT30b3WoX1iIiEJN/Z/FGwsWhAULwoIFYcGCsGBBWLAgLFgQFiwICxaEBQvCggVhwYKwYEFYsEh9detLcbq0XtfPLU5cFJfJQ/VbI4XpnLhse66C6McOzqhnRsQb+RMm+vdLUhvnxGVm4i9xGXwUBG8dYcGCsGBBWLAgLFgQFiwICxaEBQvCggVhwYKwYEFYsCAsWKSzG+rnK/oLGf3cZuNAXA59oP7kRntB/dN6+Zp6tyIithrqBzQq4+o1hK2G+qmViBgZPRKXOyvqTYSifGWjq4+C6MfyxoIFYcGCsGBBWLAgLFgQFiwICxaEBQvCggVhwYKwYEFYsCAsWKRmPx0Sp+3lf/Rza2Nz4vL+b/fEZWlSvQex/ZP8ix8RM1dmxeXj3WVxWc1P6A/wYPW+uCzdVv8F9DsL+oWFro7ljQULwoIFYcGCsGBBWLAgLFgQFiwICxaEBQvCggVhwYKwYEFYsEi36+oPQ/TeKOjnZtbT4nLg2jvisr24Iy5zNwbEZURkV9VHPTes/txDtqGeGd38C+wstMVlRf56xcZ6N5+ZuKp+vYI3FiwICxaEBQvCggVhwYKwYEFYsCAsWBAWLAgLFoQFC8KCBWHBIjU7XxGnycM9/dzCVE5c7tRfiMvi++qf1pvP1V9wiIjyJ///jzh09UGEbf3YGflR5a9XTMufrohuPjPBGwsWhAULwoIFYcGCsGBBWLAgLFgQFiwICxaEBQvCggVhwYKwYEFYsEiN9WTFaXFmUD93+1FHXPaNlsXl0b56GSbzrnrBJiI6axvisiRfhtFvwnR1bFJ/JS57q+pnUW6uTorLiHgy/rO45I0FC8KCBWHBgrBgQViwICxYEBYsCAsWhAULwoIFYcGCsGBBWLBIzVUvi9PWmvqdiYgoTvWLyzePL4jLo+ETcXmmof42SURkPlIvTWzLlwtKNfU/33TsW39U3liwICxYEBYsCAsWhAULwoIFYcGCsGBBWLAgLFgQFiwICxaEBYtUdUj9yZMLuV793M7aprgsjF8Ul5uv/xWXo30pcRkRyYp6u2HwqnoRYKtzrD/AiHy9oPXsQFzqdxZadfUrGxFRrvWJS95YsCAsWBAWLAgLFoQFC8KCBWHBgrBgQViwICxYEBYsCAsWhAWL1NeffydOD1+qf9mOiEvv/Sku139RbzfcrKjXKx5tLorLiMgNr4jL9N6suBzrn9Af4PvkG3FZzJ4Xly+a6v2O+S++FZcR8XSpJC55Y8GCsGBBWLAgLFgQFiwICxaEBQvCggVhwYKwYEFYsCAsWBAWLAgLFumTw2lxWimp3+SIiN1EveCRGVCPPe1Rf3MlP3RFXEbE2f0ecXk5UxWXp9m8/gD5AfU+UvJc/dbI3cG74rLTVO8CRcT0dfUBeGPBgrBgQViwICxYEBYsCAsWhAULwoIFYcGCsGBBWLAgLFgQFiz+A6H77pYP7wCPAAAAAElFTkSuQmCC\" style=\"image-rendering: pixelated;\">\n",
              "            </div><div style=\"margin-right:10px; margin-top: 4px;\">\n",
              "              24 <br/>\n",
              "              <img src=\"data:image/PNG;base64,iVBORw0KGgoAAAANSUhEUgAAAMgAAACrCAIAAACsWkQ9AAAFC0lEQVR4nO3dX09adxzH8e9RRDSCCFiFSLR2mtRhLK3Znt6ewR7DnsyWLNhdNHGxmdqsa6GohcofoUK3p/A5F5+LJe/X9SfHo75zbjj5kWxlc6FZP3oqLiNi1v4oLheqVXE5OH8nLkvNFLfa++NaXK7sbIvL/HBJv4FRfiYuB+/b4rJQ31KXHTWAiLivTcXlgn5RQEdYsCAsWBAWLAgLFoQFC8KCBWHBgrBgQViwICxYEBYsCAsWmdzhjjidXd7q1y2U1BcBuhc34nKjuScuh62/xGVEZA/r4vLf9/fiMnmyrt/AY3sgLkvyX6Av/wUyp9+Jy4gYtj6IS55YsCAsWBAWLAgLFoQFC8KCBWHBgrBgQViwICxYEBYsCAsWhAULwoJFcrz5TJx+Sbr6dUsj9bWZQfWruHx4px6JkdlUf3pErOcy4rI/eRSXj92OfgP5Y/VfMP+ovrWS1GricvTmSlxGRPFUvVWeWLAgLFgQFiwICxaEBQvCggVhwYKwYEFYsCAsWBAWLAgLFoQFi8xCXt52lvXrTo4XxeW0pX45yuKBen7J5Eq9ZkRkN7LisnerfuFH7WWK71wZn6unrVQq6jsL3Qv1mvoLCxHRb12KS55YsCAsWBAWLAgLFoQFC8KCBWHBgrBgQViwICxYEBYsCAsWhAWLZHtxSZwWX6X4GPzLmfox+HJd/cQ+P1JvtZ98EpcRUR7Kx0zU1GMmhtcpXq9Y21VvIN/JiUvTrW7IDfDEggVhwYKwYEFYsCAsWBAWLAgLFoQFC8KCBWHBgrBgQViwICxYZPR3FnryCwsRsX6yJy5H53ficqG2IS6TjnocQ0RMGuoxE8Mz9UWAVAcijM7U74aYP98Tl8m5eqv6CwuRpgGeWLAgLFgQFiwICxaEBQvCggVhwYKwYEFYsCAsWBAWLAgLFoQFi2T/ifzVFDX1kIWIGL1RP7EvNNRP1+ftD+qP99yq/iJA/7V6zYhY3pHPbhipb22M1x7F5ehvzm7A/wdhwYKwYEFYsCAsWBAWLAgLFoQFC8KCBWHBgrBgQViwICxYEBYskpPdQ3F601VP74iItUZZXI7PP4vLcqUkLlPdav54U1z25SMx9DNRIs2xKBX5WJRepy8uVxrqrx9p/gI8sWBBWLAgLFgQFiwICxaEBQvCggVhwYKwYEFYsCAsWBAWLAgLFsmL1QNxOqh91a87uFaPmljbVY/EKHRy6k/33Kp+JEaqr4dxnDVS+H5fXM70o1Yikqp62gpPLFgQFiwICxaEBQvCggVhwYKwYEFYsCAsWBAWLAgLFoQFC8KCReahsShOB2eW78bQXwRYkq85ed0WlxGxevRUXE7llwv0Xz/S/AWKTfVWx3/eistyuSouI+LmrXrMBE8sWBAWLAgLFoQFC8KCBWHBgrBgQViwICxYEBYsCAsWhAULwoJFclr/RZwWf3jQr3v/u/rSxOf9n8XluNUVlyvliriMiObOT+JykJV/qcu8fgOFH9U3EQa/FcXlav1Xcblw1xGXEZHfb6iX1S8K6AgLFoQFC8KCBWHBgrBgQViwICxYEBYsCAsWhAULwoIFYcGCsGCReXayK06/Xa3q1y0f99XL3s3F5axYEpdH2UNxGRGZ6Utx+a23LC4PmmP9BmaX6r9g68VUXI7/UX+pee1CXEbE9v0rcckTCxaEBQvCggVhwYKwYEFYsCAsWBAWLAgLFoQFC8KCBWHBgrBg8R8Hu/CWZ7vmbwAAAABJRU5ErkJggg==\" style=\"image-rendering: pixelated;\">\n",
              "            </div><div style=\"margin-right:10px; margin-top: 4px;\">\n",
              "              25 <br/>\n",
              "              <img src=\"data:image/PNG;base64,iVBORw0KGgoAAAANSUhEUgAAAMgAAACrCAIAAACsWkQ9AAAEY0lEQVR4nO3d34pVdRiH8XfNXijkbAebTMex0CmNDhzaNgRhlH+ipAMPvYI66bhr6AK6gi6gAxGhwD+ZZ1ZQepCBNgaBNJZFzmytPbhXt/Bd0MMQPJ/jl3cWw8PvZP1Yuzny/kJl2hsHw8mq2v/T9nDy96Un4eT46O1wsts4GU5WVTN75T9fm+/stbbytcTOPmtneiyVYoYlhGEJYVhCGJYQhiWEYQlhWEIYlhCGJYRhCWFYQhiWEG03HIWj9364lu/9e7ArnFx8YU84ucG8sZ8Cdxbynb3WEtcroJsgnlhCGJYQhiWEYQlhWEIYlhCGJYRhCWFYQhiWEIYlhGEJYVhCGJYQ7dJaG44+98z+fO/q23+Ek78+fimc3PKrINBHQfIvbQx2XA0np+vx1ztm051V1eVr86VSzrCEMCwhDEsIwxLCsIQwLCEMSwjDEsKwhDAsIQxLCMMSoh1c+jMcbU4fyPduu55+FKR5/Wo42ePVOvTGPl6b76yqmdmv0rUbx8PJJt5Z4xPpZFUT/wc8sYQwLCEMSwjDEsKwhDAsIQxLCMMSwrCEMCwhDEsIwxLCsIRolj+Iv8gQv1qvqsrvF+RriZ3Q2l7XKzbeSkeH6dpuPd3ZDL9M/3pVt55ehfDEEsKwhDAsIQxLCMMSwrCEMCwhDEsIwxLCsIQwLCEMSwjDEqKtcfoafPz5uXzvUx++E05uXrgQTrbH3wsnm+HlcLL6vLHP1+Y7q6oZxj+N0eNR0zsLPR81XeuJJYRhCWFYQhiWEIYlhGEJYVhCGJYQhiWEYQlhWEIYlhCGJURbO9L31XsPreR753/eDCfvLy6Hk+OtfmNPXC6A1m75o3piCWFYQhiWEIYlhGEJYVhCGJYQhiWEYQlhWEIYlhCGJYRhCWFYQrTNb6+Fo2t3v833zr84CiebB/fCyR6XYZirIPnaXvd2kLVb/aieWEIYlhCGJYRhCWFYQhiWEIYlhGEJYVhCGJYQhiWEYQlhWEK03e6vw9E9Bw/3WNykg938vnTUj4L8fx7VE0sIwxLCsIQwLCEMSwjDEsKwhDAsIQxLCMMSwrCEMCwhDEuItruffrth88gv+d7B+Wk4OXvqUTi5Tr2xPxmvvZIufZjurKpmZ772VLzzcrrzr3RnVTVz6VpPLCEMSwjDEsKwhDAsIQxLCMMSwrCEMCwhDEsIwxLCsIQwLCHavaunw9HJs4v53vHCajh5Zy59tz/97ItwcvLmmXCyqg7cXAsnd574OJwc3NqeP8Ctlcfh5PTixXByW/wfOHz3bDhZVZM3PgonPbGEMCwhDEsIwxLCsIQwLCEMSwjDEsKwhDAsIQxLCMMSwrCEMCwh2oVXR+Fod7PL9zajuXDyn9ufhpMPnn8lnHz5m0k4WVWT0bFw8ukbu8LJmZVD+QM8/PGTcPLR0tFwct/36V2gxXeXw8mqevJd+lM2nlhCGJYQhiWEYQlhWEIYlhCGJYRhCWFYQhiWEIYlhGEJYVhC/AsV3+qlDauBFQAAAABJRU5ErkJggg==\" style=\"image-rendering: pixelated;\">\n",
              "            </div><div style=\"margin-right:10px; margin-top: 4px;\">\n",
              "              26 <br/>\n",
              "              <img src=\"data:image/PNG;base64,iVBORw0KGgoAAAANSUhEUgAAAMgAAACrCAIAAACsWkQ9AAAFVUlEQVR4nO3dS29UdRzG8d/pjG3pSC+C01LF6YjQG0IEgkZDaKnGxEUTYlwZq3uW7lz4GnwJUq8bDNoYSSDcuhCUMZVgLfQ2ZiyFlmTQ3qZoxbfwnMWz+37WT04O5Juz6T//Sfoy2dB0fbBfXEZE+dNb4rI4ckB95le3xWX78RSvmqn8Iy7rig3isnKupL9Ax+sviUvPq/4sLiNNA3X6QwEdYcGCsGBBWLAgLFgQFiwICxaEBQvCggVhwYKwYEFYsCAsWCQDRwvidLm0oD+3IP8Z/I/P1DMLhXd7xOXGmHoKICJ2DD4tLu+dXxaXuZMZ/QVqY/+Ky8b2RnG52S5/MtbUf1RELN/4U1zyxYIFYcGCsGBBWLAgLFgQFiwICxaEBQvCggVhwYKwYEFYsCAsWBAWLJI3+g6J09p6irMo6/uq4jJXfUJcrrSoL9BcU286iYjlH9XjQF3v94vL8uik/gIdQ+qlINmKesCm2NstLud+nxKXEZHId43wxYIFYcGCsGBBWLAgLFgQFiwICxaEBQvCggVhwYKwYEFYsCAsWGSb+5vF6dTZa/pzh4+8Iy5n76p/Xe9/Tv2L/eVfrojLiCiMqGcW5k//Ji7zhzv1F9gqrYrLtgH1/pJtl9RPRsuJFnEZaa5F4YsFC8KCBWHBgrBgQViwICxYEBYsCAsWhAULwoIFYcGCsGBBWLBI+rL14rTw9kH9uf0X+8RleaAiLp+9qB4ZmBm6Iy4jYvabCXG5S75kIVNJcc/Fhnwpxspe9XBB64b64yhL8tUVkeb2Cr5YsCAsWBAWLAgLFoQFC8KCBWHBgrBgQViwICxYEBYsCAsWhAWLbGFEPoZweiLFg99Tf0Nh/mv1JMKDA+rNBUtnUvzFXv8fqI2ticu2wZ36C0ydvS4u3zp0UlxeLY2LS/3AQkSU5dsr+GLBgrBgQViwICxYEBYsCAsWhAULwoIFYcGCsGBBWLAgLFgQFiyS/fLdDfmju/TnVpvU0w25afUgQGMuIy7rig3iMiIq526IS/0gQHl0Un8B/VKMngvqb3Pot1fMyFdXRERRPgnCFwsWhAULwoIFYcGCsGBBWLAgLFgQFiwICxaEBQvCggVhwYKwYEFYsMjuHukVpwvfPdSf+9rxIXH5w/0z4rJ7T4+43NxQD+1ERP7wM+JSPwzTJR8viYj50V/FZTKi/jjKvPyq+kmYVI/liwULwoIFYcGCsGBBWLAgLFgQFiwICxaEBQvCggVhwYKwYEFYsMguVpbEaVPnk/pzm64k4rLlWJu4fCz/jkl36151GjG7uCUud7+pXosyP1rSX0A/X+A4s6A/M9Vj+WLBgrBgQViwICxYEBYsCAsWhAULwoIFYcGCsGBBWLAgLFgQFiyyL28fFKdXS+P6cyeHb4rLnd/vEJe5Yy3isv6yOIyIyHSqBzGq12viMtWFCHOfqz9P8rz82NkvZsTlnjSvOvvlnLjkiwULwoIFYcGCsGBBWLAgLFgQFiwICxaEBQvCggVhwYKwYEFYsEg+PPGtOP27Tf3LdkTcnsiLyxderYrL6fHt4nIz/4m4jIjcer24rG38Jy6zWx/pL9A/tCIub55XL4/oOHJBXC78dF9cRsSLg+qPg/DFggVhwYKwYEFYsCAsWBAWLAgLFoQFC8KCBWHBgrBgQViwICxYEBYsklPDl8Tp6vI2/bmt7erviKw+UB/b2PpQXF7765S4jIjVO4/FZbFpn7jsPfix/gKPqk+Jy2zrI3G5uHZLXDZsTYvLiMgnr4hLvliwICxYEBYsCAsWhAULwoIFYcGCsGBBWLAgLFgQFiwICxaEBYv/AU9V8U1N/agVAAAAAElFTkSuQmCC\" style=\"image-rendering: pixelated;\">\n",
              "            </div><div style=\"margin-right:10px; margin-top: 4px;\">\n",
              "              27 <br/>\n",
              "              <img src=\"data:image/PNG;base64,iVBORw0KGgoAAAANSUhEUgAAAMgAAACrCAIAAACsWkQ9AAAFJUlEQVR4nO3d225UZRyG8f8a1uxoGWB2FNpaYApFg5toRBJA4+aWOPZOvBMTJESJMSSgMaVTadoqbma6YWpn2mlnlrfwroM3njy/4zefY3myTmblm+SjUjU0O0tz4jIilkY1cblRPBSXWfTFZb2yJC4jYjI5EpcXj8+Ky73KUP8AhaQsLnfHm+KyeeN9cdnvPheXuY4t6IcCOsKCBWHBgrBgQViwICxYEBYsCAsWhAULwoIFYcGCsGBBWLBIq5dvidPaGfUtgIjIiqm4TDL17YYLSyvicrD9WlxGROOwKC6HzUxcVvqn+gc4mBmJy+ay/M7CmvrOgv7CQq5jeWLBgrBgQViwICxYEBYsCAsWhAULwoIFYcGCsGBBWLAgLFgQFiwICxZpJOq0kOdVkGH7RFyWxrPicndrVVzmehXkL/lWjOb8grjsDzf0D6C/DNOTP+q5jnpm6dsfxGVElL+4Ky55YsGCsGBBWLAgLFgQFiwICxaEBQvCggVhwYKwYEFYsCAsWBAWLNKkoLa1d7Sf49xrDXFZerQmLpv37ohL/S2AiGjJr0Lox+pn5jq23nlXXO6vvhSX7bfeE5cRcdpdF5c8sWBBWLAgLFgQFiwICxaEBQvCggVhwYKwYEFYsCAsWBAWLAgLFumool6ysJ8N9XOXf+qJy8HljrrUL1nwvFygX4hQzHMhQkW+EGGn+0Jc1tK6uBxW1QAionisXrTBEwsWhAULwoIFYcGCsGBBWLAgLFgQFiwICxaEBQvCggVhwYKwYJGOGmVxOjnMUeGZP7bF5aBSEZdzKx+Iy36euxv+9wsRxt//Ki6rn72tHvqd+hc4ubeonhkx6m6KS55YsCAsWBAWLAgLFoQFC8KCBWHBgrBgQViwICxYEBYsCAsWhAWL5MrV8+K0OlWvA4iIhUlNXL4qHYrLaaj3QeiXLETEzKOn4rLfbovL9oUcf6vtrVfisjG/IC4n01RcnttQfxkkInY+/0Rc8sSCBWHBgrBgQViwICxYEBYsCAsWhAULwoIFYcGCsGBBWLAgLFgQFizSxrJ6Jcabl7/p52Yl+b2Rf/bEYfnBirgcP1Gv2YiI9qL6F+hlr8XlUauqf4DK0UV1ua/+PMlW+ru41P/3I+K0uy4ueWLBgrBgQViwICxYEBYsCAsWhAULwoIFYcGCsGBBWLAgLFgQFizSnfVfxGktbejnjqrq9/AnybG4PL8xUP/rozfiMiKS8am4zEoz4nJ3a1X/AM0b6hUmf66pP2RSj5a4HMr/UhFROp4VlzyxYEFYsCAsWBAWLAgLFoQFC8KCBWHBgrBgQViwICxYEBYsCAsWaXtF/Wq9t/ZCP7fYUr9dr26pX5jnkOTYZiX110GSTP11lubNHL+50u+q7yy05GP1MysLi+IyIkbdTXHJEwsWhAULwoIFYcGCsGBBWLAgLFgQFiwICxaEBQvCggVhwYKwYJHc73wjTsv3i/q548dqsrO3JuIy/Vu95eHZyUNxGRFXetfFZX9mLC7nT77WP8Dk4664PH36s7hsffmpuDx4cltcRsTsV1NxyRMLFoQFC8KCBWHBgrBgQViwICxYEBYsCAsWhAULwoIFYcGCsGBBWLBIr965KU7/fVbWzz37ofoyzPpqXVzOF3bF5aVaW1xGxGCsXgrSOWqKy7m76qs4EXHQVd/Gmd7OxGXt+Tvi8tKDa+IyIg5+VH/0hScWLAgLFoQFC8KCBWHBgrBgQViwICxYEBYsCAsWhAULwoIFYcHiP0nr7+wvQBW5AAAAAElFTkSuQmCC\" style=\"image-rendering: pixelated;\">\n",
              "            </div><div style=\"margin-right:10px; margin-top: 4px;\">\n",
              "              28 <br/>\n",
              "              <img src=\"data:image/PNG;base64,iVBORw0KGgoAAAANSUhEUgAAAMgAAACrCAIAAACsWkQ9AAAEkklEQVR4nO3dzW5UdRyH8d90plicUqSl5WVaAhsFeRFqjBs3snKhbtS1t+IVeCteARtdqESFSIqaGgNWS+ib7TCtQ9tpvYXvJDxpMM9n/c2fYfL0bObknMb8+xcqM/73XLisqv7kZrhs9s6Gy93p39N/vXk5XFbV2OC3cHniSfoN9E/9k3+A6p4Jh3szL/4bGBv8Gi6HOnYkP1TKGZYQhiWEYQlhWEIYlhCGJYRhCWFYQhiWEIYlhGEJYVhCtPaaV8Lpdt3Lz13tpD+Dzyw8CJe91s1w2R48DJdV1Wul38Dh+V/C5Xb8rVZV+/iLPzb/BvL//lDHesUSwrCEMCwhDEsIwxLCsIQwLCEMSwjDEsKwhDAsIQxLCMMSwrCEaI3upzdC9EfSp3dU1Yfda+Hym9oMl+1BentJb5i7VsaBY/Mzhzo2v2tlvZHettR5fD9cVtXi7Fvh0iuWEIYlhGEJYVhCGJYQhiWEYQlhWEIYlhCGJYRhCWFYQhiWEK2dwaVwemxqKT+3/f0gXI5d3QmXW0d9cwFxH8RQx3brjXDZ6aXvXBnUVLisqtd3N8OlVywhDEsIwxLCsIQwLCEMSwjDEsKwhDAsIQxLCMMSwrCEMCwhGvO358LpS/RAhJfoow51bP70ivGl2XDZn9wMl1V12D0TLr1iCWFYQhiWEIYlhGEJYVhCGJYQhiWEYQlhWEIYlhCGJYRhCdGCfrH/Nz72xOMfwuXKjavhcvbne+Gyqv66nj4QYWbhp3D5bG4+/wDE7RWNOeZOkHZ6rFcsIQxLCMMSwrCEMCwhDEsIwxLCsIQwLCEMSwjDEsKwhDAsIVrUAxH20mP7I+lTBj7euh4u7x6uhsuq+qh7I1x+Xd1weeSvxtjJ7y559GO4rKo/Z98Ol16xhDAsIQxLCMMSwrCEMCwhDEsIwxLCsIQwLCEMSwjDEsKwhDAsIaiHgmwPLoXLY1NL4fLVu/vh8uDKEH8w7e8OwuXxazvhcuuo37nS3nsYLp81z4fLqrq8+DRcesUSwrCEMCwhDEsIwxLCsIQwLCEMSwjDEsKwhDAsIQxLCMMSonHr9lw43R7mF/t2/It9fmx+5nDPLwGOPfKHgnT7F8Ll09374bKqRhfSpVcsIQxLCMMSwrCEMCwhDEsIwxLCsIQwLCEMSwjDEsKwhDAsIVq9EeYXe+DY/+VHHerY7cab4XLilfTZDec207eYVNXzm8vh0iuWEIYlhGEJYVhCGJYQhiWEYQlhWEIYlhCGJYRhCWFYQhiWEI3PPvgynC6f7OTndrqr8bHpmxE63ZVw+ag9GS6r6mIvfdvCYrMXLiee3Mk/wPLF9I0bYw/+CJf9c+k9C+++9nm4rKqlk2fDpVcsIQxLCMMSwrCEMCwhDEsIwxLCsIQwLCEMSwjDEsKwhDAsIQxLiMYnn34bTk9vNPJz16dGw+X0Rnrmyqn0zNMbu+mhVWsT6XK8m77xY3mQPpOjqnr7X4XLtbX0dqD3Dm6Fy+fvfBEuq2p6PV16xRLCsIQwLCEMSwjDEsKwhDAsIQxLCMMSwrCEMCwhDEsIwxLiPzhM+X1I65q2AAAAAElFTkSuQmCC\" style=\"image-rendering: pixelated;\">\n",
              "            </div><div style=\"margin-right:10px; margin-top: 4px;\">\n",
              "              29 <br/>\n",
              "              <img src=\"data:image/PNG;base64,iVBORw0KGgoAAAANSUhEUgAAAMgAAACrCAIAAACsWkQ9AAAEb0lEQVR4nO3dv2tddRjH8efYDIIQa29F8UdpIrRpoFHT4SY5TW4CDi4WMaNu/QsEB5Gu/gPubuJiEUV0cDDWNs1tLabYiC1OBgUXbapoxTTRf+FzoG8uyPs1Pzyc3r5zlvPlnObMqSOVGb83E05W1fjM9+HkhfXb4eSgfeS+76yqxdPp2m/f+zGcPPLaZH4BP5xP1/ZXnwoniV+109oH8qVSzrCEMCwhDEsIwxLCsIQwLCEMSwjDEsKwhDAsIQxLCMMSopmePByOLreH8r0X1n+L16ZP17+MH63nO6tqLV672FsIJ2/sbeYXMFXPhpNXdobhZP4L5P/8qlqJ13rHEsKwhDAsIQxLCMMSwrCEMCwhDEsIwxLCsIQwLCEMSwjDEsKwhBh7bjE9NrP+0S/53sGZx8LJtQ4HbHr3fWdVLc2nR0H+vpX+HfaaA/kF7O6na5eAX2AQ76yqL+K13rGEMCwhDEsIwxLCsIQwLCEMSwjDEsKwhDAsIQxLCMMSwrCEaOZn00+eTNXJfO/VnY1wkviQCfQZD+ibK6P9BaBL9Y4lhGEJYVhCGJYQhiWEYQlhWEIYlhCGJYRhCWFYQhiWEIYlxFj65oaq3b0m37vYHgwnr7+/HU6efHUinByeT3dW1WD1yXAS+uYKsXbkl+odSwjDEsKwhDAsIQxLCMMSwrCEMCwhDEsIwxLCsIQwLCEMS4hmevJQONrtMfil9DF422vDya39zXDy+P5MOFlVV38fhpPE4QJo7cgv1TuWEIYlhGEJYVhCGJYQhiWEYQlhWEIYlhCGJYRhCWFYQhiWEGPQY/Cl+fFw8q+b6SshDlc6ee/fDn8wywvA4YJ4Z3U5CdLhPwvY2WmtdywhDEsIwxLCsIQwLCEMSwjDEsKwhDAsIQxLCMMSwrCEMCwhDEuIZnqCeSnI//EzHtibNg7Ga3dGuLPTWu9YQhiWEIYlhGEJYVhCGJYQhiWEYQlhWEIYlhCGJYRhCWFYQozlz6svbuzkexfm0peCDD/8OZxcfuWJcBI7XJCfg0h31qjPLECX6h1LCMMSwrCEMCwhDEsIwxLCsIQwLCEMSwjDEsKwhDAsIQxLiOZE/O6G0/NP53u3vjoWTk49czScHG6/G06udHlivxY/sc/X5juhtV123gknq2qlfTic9I4lhGEJYVhCGJYQhiWEYQlhWEIYlhCGJYRhCWFYQhiWEIYlRPPG6++Eozc+7fC5h7t7d8PJnx59K5xsJ9J3N2x9/mc4WVUvnj0XTm5+3AsnZ1/ucGRg+MFD4WR/NV17+ZPtcPLYXPrujKq6fe35cNI7lhCGJYRhCWFYQhiWEIYlhGEJYVhCGJYQhiWEYQlhWEIYlhCGJUTz0olr4ehsemKiquriN7vh5J3Hz4aTv17/I5x88+jb4WRVffZPG07O9ffDycsbD+YX0G/TI0ZfXzoQTh7vfxdO3rxyK5ysqhdODcJJ71hCGJYQhiWEYQlhWEIYlhCGJYRhCWFYQhiWEIYlhGEJYVhC/AcA8vDdxS8W4gAAAABJRU5ErkJggg==\" style=\"image-rendering: pixelated;\">\n",
              "            </div><div style=\"margin-right:10px; margin-top: 4px;\">\n",
              "              30 <br/>\n",
              "              <img src=\"data:image/PNG;base64,iVBORw0KGgoAAAANSUhEUgAAAMgAAACrCAIAAACsWkQ9AAAFCUlEQVR4nO3dT2tcZRiG8WcmxzadMmOtMKWTmWDRprFRmGBCotBS0SoI/qFLN250K1VEEfwKblyIC7+C2IhuXInYCN0ENc0kbRpJzplU2kzS4ExqJxb9CveB3ITA9VvfvJwMF7PJy5nC9x/NhObDmcviMiLG6tviMh16Rlw22vN7fmZE1NaWxGX11Ovicn72W/0BRspvisvNs1fVB7hVFpfjgyviMvJ8sEX9UEBHWLAgLFgQFiwICxaEBQvCggVhwYKwYEFYsCAsWBAWLAgLFslXtz8Rp+3VTD/330pTXDYftsRlNqz+a72W/S4uI6LVHRGXAys/iMv+5Kj+AJX5rrhc7ahnXtw8LS7nJkvqoXkumPCNBQvCggVhwYKwYEFYsCAsWBAWLAgLFoQFC8KCBWHBgrBgQViwICxYJBvXNsXp4f8K+rlfvPiZuNTfNTJWWBSXS6WauIyIrxc/F5efTl8Wl422ehcoInrNM+Jy91f13szO9KC4bGTqTZjgpSDYd4QFC8KCBWHBgrBgQViwICxYEBYsCAsWhAULwoIFYcGCsGCR/NM8JU6PpjnetPHl7Y/F5Z3VdXFZHp8Ql9WlBXEZETvvqL/OcvRH9bUo7bEcv7lSSK+Iy/6UemwvU3/JJsvz8zB1XgqC/UVYsCAsWBAWLAgLFoQFC8KCBWHBgrBgQViwICxYEBYsCAsWhTcuHBOnJ+5d0s+9dfJncfn43fPicrd8RVzm+o/9UKa+Z+HP3pPicvjMlv4A88tlcdk8siIu9U9Av7CQ61i+sWBBWLAgLFgQFiwICxaEBQvCggVhwYKwYEFYsCAsWBAWLAgLFklaGxOnw52ufu7DGBCXx/6+Ly7nRi3/sU9PnhWXFxYa4vK3To7bDRe3TovLuadK4lL/BHh3Aw4SwoIFYcGCsGBBWLAgLFgQFiwICxaEBQvCggVhwYKwYEFYsEhqxQ1xun1oRD+3v9wRlzvTg+Kynsr/sa+rVzYiYmjthrjcaY6Ky/6s+udHrk8g2/s7C7y7AQcJYcGCsGBBWLAgLFgQFiwICxaEBQvCggVhwYKwYEFYsCAsWBAWLJKufL+j1n2gn7s79bS47KUz4lK/DFPProvLiFhvPCsui6vficvdKfVFIxHRy+RPwHAZhpeC4CAhLFgQFiwICxaEBQvCggVhwYKwYEFYsCAsWBAWLAgLFoQFi6R/U357x/OH9XPrqXq/IBva+zsL+pkRMZQtist2Xb2yUW//oT+A485CKp/ZyPXzMLwUBPuLsGBBWLAgLFgQFiwICxaEBQvCggVhwYKwYEFYsCAsWBAWLJK+4SULEZHK9wsabfXOguPMiGjX1Xc31NotcZnWc7wQoSH/kIl+rOPMXMfyjQULwoIFYcGCsGBBWLAgLFgQFiwICxaEBQvCggVhwYKwYEFYsEgmim+J0xuPvqefO1HcFJfXBibF5RMbN8Xldul9cRkRz8URcXm10heXjbV1/QGW74+Ly5cG3xWXrWpVXJ4rbYnLiGidUI/lGwsWhAULwoIFYcGCsGBBWLAgLFgQFiwICxaEBQvCggVhwYKwYEFYsEjWOy+I05fLJf3cX/56IC5fOz4sLmezRFyer6oXUSLi+r3HxGUtvhGXC5l6FSciPjj+trj86e45cflK5ZC4nL0jDiMiXq08Ii75xoIFYcGCsGBBWLAgLFgQFiwICxaEBQvCggVhwYKwYEFYsCAsWPwP3cz/DFfEBt8AAAAASUVORK5CYII=\" style=\"image-rendering: pixelated;\">\n",
              "            </div><div style=\"margin-right:10px; margin-top: 4px;\">\n",
              "              31 <br/>\n",
              "              <img src=\"data:image/PNG;base64,iVBORw0KGgoAAAANSUhEUgAAAMgAAACrCAIAAACsWkQ9AAAFdUlEQVR4nO3d20vfdRzH8fdv/n6ubFFbqYGJVKSb6DzspxRb/iydW1E3g11NOtka1DpJN3UTXXajmwyERIIOEMEgiNbaXFqsrTw2l+Y6uEp2ckVSg6XL7F94faHX3fNx/eLrd+7J98YP329q812FoSlq2SQuI+LC0RFxWfpQg7ic6hsSl9W7HxCXEfHLoa/FpX6rk28O6TeQfaFFXJ7q+Uxc3pltFZep9Ly4jIjlpVvF5Sr9ooCOsGBBWLAgLFgQFiwICxaEBQvCggVhwYKwYEFYsCAsWBAWLFI9udfF6Sd/fKRfd9u6R8Rl70SfuKx/qkpcftP/rbiMiD21u8WlfqvZpzfqNzDadVRc1jzbJC4/7f1SXFbffoO4jIjTc1fEJU8sWBAWLAgLFoQFC8KCBWHBgrBgQViwICxYEBYsCAsWhAULwoIFYcEivWr6RnF6XWWeft38kQJxWbG1TFyO9Qyq19xWIy4jIn/w/7/VEfkkTEQ0dG5VL7vvmLhskn8DDw7uFJcRcfjhD8UlTyxYEBYsCAsWhAULwoIFYcGCsGBBWLAgLFgQFiwICxaEBQvCgkX65OMD4nSqa1y/bkHnLeJypmtYXCY4BZDkcMGaTvWjL3Pd6ndcKjsSfHPl7EH1myuVTzSLy/mBUXF5ZFeC39XFfvU/iycWLAgLFoQFC8KCBWHBgrBgQViwICxYEBYsCAsWhAULwoIFYcEiVZ6XEadZ+XBBJPmMh37ZiW71IEb1nhZxGRFzH6uHC9YW3ysuV65e0m9g+83q52EOL6hfndGvmehLNpki9dAKTyxYEBYsCAsWhAULwoIFYcGCsGBBWLAgLFgQFiwICxaEBQvCgkVaP1ygH1iIiE2dbeLyu271suWPNYnLH96fEpcR8eT658TlK8NviMuWexJ8GiNvdrU6XacOM3PqNQvK1OMtEbEy/re45IkFC8KCBWHBgrBgQViwICxYEBYsCAsWhAULwoIFYcGCsGBBWLBIj8ovREj07oYx/cxCTv2Iw7XR38XlwsIFcRkR8U9KHG5pVs8szAxO6D//39xacblyWb3moeIvxOXln8+oF40o3dUoLnliwYKwYEFYsCAsWBAWLAgLFoQFC8KCBWHBgrBgQViwICxYEBYsCAsW6exLreJ0RD5gExF1e5vF5bV3r4jL5RL1p6+ow4iI5evVYzNnh8+Jy9q9Of0GFt9S37SRrkuLy6Hjx8Tla1teFZcR0ft2n7jkiQULwoIFYcGCsGBBWLAgLFgQFiwICxaEBQvCggVhwYKwYEFYsEjrZxYa5HMQETHWrf51vTx3v3rR3xbFYX7JGvWaEfnDBeKyoq1MXI4f+Fy/Af0XO7bvK3HZuLlWXK4s5YnLiLijUT1hwhMLFoQFC8KCBWHBgrBgQViwICxYEBYsCAsWhAULwoIFYcGCsGCR1v+0nujdDfXyywv0Nxdk5DcXVP66UVxGxPFnBsXl9P4xcdn4YoKTIMP7h8Rl9vlmcTnRPy0uUzXL4jIiZkfUb8nwxIIFYcGCsGBBWLAgLFgQFiwICxaEBQvCggVhwYKwYEFYsCAsWKTa7u4XpxXtCSo88556EmF9u3zNd5bEZcGOg+pFI6Z71TMLNe33ics/j+zUb6Bkx0/i8scP1DMLG5o3iMu6xUfFZUR8X6z+rnhiwYKwYEFYsCAsWBAWLAgLFoQFC8KCBWHBgrBgQViwICxYEBYsCAsWqZc7TojT+dMJKrytRv2QxqVJdVlUdVVcDpzqEJcRUZipEpd/nT8nLptaD+g3MDs5Iy5vKp0Xl5mL6j+qsF49YBMR58dXi0ueWLAgLFgQFiwICxaEBQvCggVhwYKwYEFYsCAsWBAWLAgLFoQFi/8AECbvDHp2hd8AAAAASUVORK5CYII=\" style=\"image-rendering: pixelated;\">\n",
              "            </div><div style=\"margin-right:10px; margin-top: 4px;\">\n",
              "              32 <br/>\n",
              "              <img src=\"data:image/PNG;base64,iVBORw0KGgoAAAANSUhEUgAAAMgAAACrCAIAAACsWkQ9AAAEdklEQVR4nO3d304cdRyG8e/sLiwgyoIItLQmWrX+ST3Q4yamJ554Pd6AiRfhlamkVUxoWKipSPlTGGa8hXcSnxCS53P85seweTInO9lpPtxYrdD2Wrqs6ucn4bIbr4TL6VobLkcn74bLqmovD8Pl4vReuLye/ZtfwMXrUbhcXu/iM8fhcqnehsuq6j54L1ym/5I0iGEJYVhCGJYQhiWEYQlhWEIYlhCGJYRhCWFYQhiWEIYlxKS2ZuE0f2Chqpqt9FGI2fEkXF70Z+Fy3KZPAVTV1e5muFw47sNl2zf5BTwZPQ6Xz/tfw+WXC5+Gy73r38JlVTXHp+HSO5YQhiWEYQlhWEIYlhCGJYRhCWFYQhiWEIYlhGEJYVhCGJYQhiXEpOIHIcbxAzZV1R2lv4rRbO+Ey/7l3+FyfG8jXFZVHc3DYX6p3UF6qVXVfZIu++dX4fJwK/2n3u6fp3++avpx+sF6xxLCsIQwLCEMSwjDEsKwhDAsIQxLCMMSwrCEMCwhDEsIwxKiefj5bro9Qn4UpIt/a+R6tBQul/rLcFlVXXypAz6B/MxBx8ZvHGkOX4fL5e376V+vOn+VPjThHUsIwxLCsIQwLCEMSwjDEsKwhDAsIQxLCMMSwrCEMCwhDEuI5uHGarod8o19E39j366nzyx88U/6Go8Xmy/CZVW1x+mbVAZ8AkOeBEGOve1L9Y4lhGEJYVhCGJYQhiWEYQlhWEIYlhCGJYRhCWFYQhiWEIYlxAT6GryPf2VgHP/KQPtRHy5v/kjfi1FVlb/G4tZ/u+Hu/MyEdywhDEsIwxLCsIQwLCEMSwjDEsKwhDAsIQxLCMMSwrCEMCwhmgfxbzd0o5X83OlaGy7fnKRxL3Xx+ybu0MMFQ47t42PzN4PkZw461juWEIYlhGEJYVhCGJYQhiWEYQlhWEIYlhCGJYRhCWFYQhiWEIYlxKTiX++YvZrk515U+h6RWZu+8uRyZxouoUdBhjy1kn6q0LG3fqnesYQwLCEMSwjDEsKwhDAsIQxLCMMSwrCEMCwhDEsIwxLCsISY1FH6dpB+ayc/tzuYh8vR/Vl6AfP0zGZ7yDf28/hBgPjYfj7gnSvEsbd+qd6xhDAsIQxLCMMSwrCEMCwhDEsIwxLCsIQwLCEMSwjDEsKwhJjk31efzg/zc5sH74fLM+CZhTv0cAF07K1fqncsIQxLCMMSwrCEMCwhDEsIwxLCsIQwLCEMSwjDEsKwhDAsIZqnX/8STt+M0hdDVNVq34fLs/jY1e40XO5NfwqXVdXvnYfLheVZuHy09XN+Ab/Xj+HyZj/9BNomfd/Ho83vwmVVLa8/DZfesYQwLCEMSwjDEsKwhDAsIQxLCMMSwrCEMCwhDEsIwxLCsIQwLCEmtfhtOH08ucnPfXmz/L8fe3DVhsvdlXfCZVXtj5pw+f3sWbj8a+Gb/AJ2FjbC5Z99+gk82/whXB4tfRYuq+rJ4lfh0juWEIYlhGEJYVhCGJYQhiWEYQlhWEIYlhCGJYRhCWFYQhiWEP8BEbviseCv0/EAAAAASUVORK5CYII=\" style=\"image-rendering: pixelated;\">\n",
              "            </div><div style=\"margin-right:10px; margin-top: 4px;\">\n",
              "              33 <br/>\n",
              "              <img src=\"data:image/PNG;base64,iVBORw0KGgoAAAANSUhEUgAAAMgAAACrCAIAAACsWkQ9AAAFO0lEQVR4nO3dzWpcdRzG8d8kJzaZmdMpkrcmk5iZEZTSRpQWqeJGIRsvQPdJCr7sXbhxI+IVqItaib0FUXDhFYhSg03AmdHOW5OYpNOZpKaa1Ft4Dvjg5vtZPxymp1/OJof/yX2c/zA031U+F5cR0R2ZE5e14j1x2RwuiculYk9cRkS9PyUunz9KxeX9XF3/AZutA3H5UfEDcfnN3BfisvFkRlxGxHK6Ky5H9IsCOsKCBWHBgrBgQViwICxYEBYsCAsWhAULwoIFYcGCsGBBWLDIrVxV/7b/63GGP4NfKrXEZX24KC5raUdcNgYL4jIiKoXf1enOi+Jw9+xn/QecT14SlxOT6mW32hPicrVzQ1xGxO3Fm+KSJxYsCAsWhAULwoIFYcGCsGBBWLAgLFgQFiwICxaEBQvCggVhwYKwYJG0987E6ZXTon7d30bVl2EqefUFm18O5sXl5fM74jIiGkP1HZva7E/icpjlvZ2Z9EdxWT9Qj1qZLbXFZXL4WFxGxEx6JC55YsGCsGBBWLAgLFgQFiwICxaEBQvCggVhwYKwYEFYsCAsWBAWLHIXq8+K09NeV7/uC8vj4nK7nReXq711cXl74Za4jIjK3KG4rMvvLNRS9ZUN02X/95/KEwsWhAULwoIFYcGCsGBBWLAgLFgQFiwICxaEBQvCggVhwYKwYJG833tbnH5b/Uy/bqM/LS4znDIwUE8ZmMw/EpcRcedQPRJiOb0vLvW3ACLL+wVN+bKVgvp5GP2fH1nuAE8sWBAWLAgLFoQFC8KCBWHBgrBgQViwICxYEBYsCAsWhAULwoJFbuV6SZzWB+rHJiKilt77zy9bLfbE5XZrQlxGxGpnTVx+vXBTXFbLff0H6K9CVAvq8RlbbfUOrHVuiMvIcgd4YsGCsGBBWLAgLFgQFiwICxaEBQvCggVhwYKwYEFYsCAsWBAWLJLmUH25oFJQD1mIbAciqH+xrx/OiMvpknrEQESMPVSPhJguHotL04EIzb58B+S7mslcqh6KwRMLFoQFC8KCBWHBgrBgQViwICxYEBYsCAsWhAULwoIFYcGCsGBBWLBIlvLqtzG22nn9uu923hKXG4tfistqWX695GGGL478cEn9lEtLPmvkna76z48sJ21U5nbE5VarqP8AXXeg3gGeWLAgLFgQFiwICxaEBQvCggVhwYKwYEFYsCAsWBAWLAgLFoQFi6QhnzMxW8pwKMhY/29xOVU4EpebBxfF5eVUfQsgIuoP5DtwQb0DTw3Vf35ETBVPxOXm3qS4XEh3xWUykeGnzqTqfxZPLFgQFiwICxaEBQvCggVhwYKwYEFYsCAsWBAWLAgLFoQFC8KCRe6N69PitNlXlxFRHf9TXN7pJOLyvb11cblR/kpcRkR1/kBc1vvPiMtamuFNkLutgrhc766Jy42FW+KyWn4gLiPLHeCJBQvCggVhwYKwYEFYsCAsWBAWLAgLFoQFC8KCBWHBgrBgQViwSI6Ln4rT18/l9OsOk4G4HP1D/YrEyJuL4vLVKInLiGj+pX5xY37yE3G5fXde/wHlpx+Ly7Gr6gcvlh+p97817IvLiFi5UhOXPLFgQViwICxYEBYsCAsWhAULwoIFYcGCsGBBWLAgLFgQFiwICxaEBYvk2shz4nSzU9SvO17+R1xOX0jF5f7ZUFz2nrwmLiPi2qj6hsn3h+fEZe1U/TpLROwf7avLU/UAlb3xV8Tl8klTXEbESeNlcckTCxaEBQvCggVhwYKwYEFYsCAsWBAWLAgLFoQFC8KCBWHBgrBg8S/4/fNCqsmhZwAAAABJRU5ErkJggg==\" style=\"image-rendering: pixelated;\">\n",
              "            </div><div style=\"margin-right:10px; margin-top: 4px;\">\n",
              "              34 <br/>\n",
              "              <img src=\"data:image/PNG;base64,iVBORw0KGgoAAAANSUhEUgAAAMgAAACrCAIAAACsWkQ9AAAENElEQVR4nO3dW2tUZxSH8TWZnZkkok5aS8RTqIba1ootVfBC8KP58RRBEA9UI2lIoS1NoWbqYTKnjF/hvy8eBuX5XS9WX9LHfTObd3d+2LlYmXl/Gk5WVXfSCydn/VE42YzX4p3H4SS0tjlOd1bVqJOuvT35JZx8dupZONmdroaT1eYvsJIvlXKGJYRhCWFYQhiWEIYlhGEJYVhCGJYQhiWEYQlhWEIYlhDNbC3/xX493ztfm4STi4/pexC9g8Nwcrp9LpysqulG+hdYjd+DmPbG+QHWh+k/7/F2uvPkYJFObiJvgvjEEsKwhDAsIQxLCMMSwrCEMCwhDEsIwxLCsIQwLCEMSwjDEsKwhOjs/Hw5HF3Ze5vv7W4NwslRJ70U5Nf4Sozn8ZUYVbUySW/FaPOKUYtLQYi1Sz+qTywhDEsIwxLCsIQwLCEMSwjDEsKwhDAsIQxLCMMSwrCEMCwhms7H9EMmpwaX8r3ve/+Fk2vxlRgT4EqMqjoZAC8XtPrmCrB26Uf1iSWEYQlhWEIYlhCGJYRhCWFYQhiWEIYlhGEJYVhCGJYQhiVEs/o2fbuhOd9tsXeUfshkOkjvbnhz+Fv6nx+cpJNtPuPR4uWCeCe0dulH9YklhGEJYVhCGJYQhiWEYQlhWEIYlhCGJYRhCWFYQhiWEIYlRDPZSkdPRsN877w/Tk/w+fxiTxwVWrv0o/rEEsKwhDAsIQxLCMMSwrCEMCwhDEsIwxLCsIQwLCEMSwjDEqLJvzWQv7BQVd1xP5yc9dO7G5b+i/0X+XqFdzfoc2JYQhiWEIYlhGEJYVhCGJYQhiWEYQlhWEIYlhCGJYRhCWFYQjRt3q9Yz/d6KUh+AGLtIv7kTO+Pf8PJqppd+Tqc9IklhGEJYVhCGJYQhiWEYQlhWEIYlhCGJYRhCWFYQhiWEIYlRJP/tD7vIZeCTONLQVbjo07bvFxArM13tlqb/88ad9Od1y7eDyer6sXhw3DSJ5YQhiWEYQlhWEIYlhCGJYRhCWFYQhiWEIYlhGEJYVhCGJYQTZtf7Fvc3TAD7m4g3gKA1rZ6vaLF3Q29dG3vqBNO7s73w8mq+v94Ek76xBLCsIQwLCEMSwjDEsKwhDAsIQxLCMMSwrCEMCwhDEsIwxKiub79IBx99+psvvfM9odw8p+nG+Hk1nfvw8nR6wvhZFVtXE2PevTiq3By8O1RfoD9x3vp2iuPwsnh4kk6+Vf6V62qweblcNInlhCGJYRhCWFYQhiWEIYlhGEJYVhCGJYQhiWEYQlhWEIYlhCGJUTTPbgbjv54s8UnT/7cPR1O3rhzFE4O35wJJ3euL8LJqvp9bxBO3ryVfp1l/+VP+QFu3EtP++55eoCVb3bDyeHfs3Cyqr7fvJUeIF8q5QxLCMMSwrCEMCwhDEsIwxLCsIQwLCEMSwjDEsKwhDAsIT4BvOwDXzExzhwAAAAASUVORK5CYII=\" style=\"image-rendering: pixelated;\">\n",
              "            </div><div style=\"margin-right:10px; margin-top: 4px;\">\n",
              "              35 <br/>\n",
              "              <img src=\"data:image/PNG;base64,iVBORw0KGgoAAAANSUhEUgAAAMgAAACrCAIAAACsWkQ9AAAEXElEQVR4nO3dz2pcdRiH8fdkRm0kIWmd6ZRqoYkxcYLBKrFVi39AvQA37vQqvAX3XoWXIIKrbmxjlaJIxigubLU1rZ22WklDYuItfA/4MBafz/rlzY/wcDbz45zmg6n3K7Nx/NNwsqpe23krnLww/Xm6dG09HGw2L6U7qw5XX/7X1+Y7obUTP+pUvlTKGZYQhiWEYQlhWEIYlhCGJYRhCWFYQhiWEIYlhGEJYVhCdPPRztFBPnyh81m6dpj+un6weTGcfIguF0BrJ35Un1hCGJYQhiWEYQlhWEIYlhCGJYRhCWFYQhiWEIYlhGEJYVhCGJYQ3c7MTji6d+d6vrfzXHwZZvTQXAVpcWslvgvUau3U8JV0afxf/eWZc+nOqoXvvwonfWIJYVhCGJYQhiWEYQlhWEIYlhCGJYRhCWFYQhiWEIYlhGEJ0Sw/OZuO5j+tVx3mdxaG6a/rzSh+KUiboxJr850t126Ek3/PnAwnz/94Npysqssr3m7QRBmWEIYlhGEJYVhCGJYQhiWEYQlhWEIYlhCGJYRhCWFYQnR3V9LLBbNbX+d79/KXF4y+CAf/A5cLJny9ohZfDAd3R+k1hM7MWvrXq/bHv4aTPrGEMCwhDEsIwxLCsIQwLCEMSwjDEsKwhDAsIQxLCMMSwrCEaNZ7y+HorfkWex/d+S0d/d+/u+EgXjsVryV2tlubL5VyhiWEYQlhWEIYlhCGJYRhCWFYQhiWEIYlhGEJYVhCGJYQzcLsXDg6frCb7x288Xo4eei7GyZ6vQI6qk8sIQxLCMMSwrCEMCwhDEsIwxLCsIQwLCEMSwjDEsKwhDAsIQxLiOap3uPhaL93Jt97/8/vwslD4KUg+8vxB1eq5n66Ek5eW0q/OHJsq8W9nfy0Ez9qfsfGJ5YQhiWEYQlhWEIYlhCGJYRhCWFYQhiWEIYlhGEJYVhCGJYQzdLb76Sjo40We4fpL/b5S0H2l8+Gk/1v4w+uVP01PQ4np+/3wsnbLxzPD5Cfts1R++Hk3fUT4WT5UhBNnGEJYVhCGJYQhiWEYQlhWEIYlhCGJYRhCWFYQhiWEIYlRLfF79XPvprvPRhdCifz1wF0NuOd8yvhZFXdG18NJ7uDhXCys3U5P0B+WuKo0OdhfGIJYVhCGJYQhiWEYQlhWEIYlhCGJYRhCWFYQhiWEIYlhGEJ0Zx/75NwtL+dvjigqsaDo+Hk79sfhpN36kw42bu6GU5W1fxLH4WT9658HE7eHZzMD3DkWvq9ibnhu+Hk4u4gnNw+9WY4WVX9G3+Ekz6xhDAsIQxLCMMSwrCEMCwhDEsIwxLCsIQwLCEMSwjDEsKwhDAsIbqrN0+Fozd7S/ne1VsPwskvj50OJwcX00+DTPcXw8mqGm6n3/z4eWU1nHzkmx/yA+ydeD6cfPp2+iGTI3Pnwsm1G6fDyaq6/sRj4aRPLCEMSwjDEsKwhDAsIQxLCMMSwrCEMCwhDEsIwxLCsIQwLCH+AdTE7VOljgIEAAAAAElFTkSuQmCC\" style=\"image-rendering: pixelated;\">\n",
              "            </div><div style=\"margin-right:10px; margin-top: 4px;\">\n",
              "              36 <br/>\n",
              "              <img src=\"data:image/PNG;base64,iVBORw0KGgoAAAANSUhEUgAAAMgAAACrCAIAAACsWkQ9AAAERUlEQVR4nO3dzYuVdRiH8fuxo8eSSLDASnyZFNTIFo5z5jShu6BFDBGErVqIjoVbN/4hOTPhwlWLctEm/wB1Zg4OvSC4sBnfUGoaaVMJgYj/wvcBLx6E67O+uXmYufhtnh/nacZe2liZwVd7w8mqGp1fee5riZ3Q2nwntLbzR92QL5VyhiWEYQlhWEIYlhCGJYRhCWFYQhiWEIYlhGEJYVhCGJYQvc5fg+drJ5hHJdbmO6G1nT+qJ5YQhiWEYQlhWEIYlhCGJYRhCWFYQhiWEIYlhGEJYVhCGJYQhiVEk/8oCHS/osUFm7nb4eTkzDvhZFUtza2ma0+na5dm053Q2s4f1RNLCMMSwrCEMCwhDEsIwxLCsIQwLCEMSwjDEsKwhDAsIQxLiN7g633haLvX4MDa/NX6wvzdcLKqhjPp9YqF+TvPfSe0tvNH9cQSwrCEMCwhDEsIwxLCsIQwLCEMSwjDEsKwhDAsIQxLCMMSotnVfyUcHZ7ck+9d/DZ+ux6vXZxPf7thONPiUUff/B5OvkCfh+n8UT2xhDAsIQxLCMMSwrCEMCwhDEsIwxLCsIQwLCEMSwjDEsKwhOgNT+4KR0fnb+V7hy3erqdrW+yMLyxU15cLoLWdP6onlhCGJYRhCWFYQhiWEIYlhGEJYVhCGJYQhiWEYQlhWEIYlhDNnt6mcHQQfxiiqkbx9ybytcROaG27r3gAa4mdrdZ6YglhWEIYlhCGJYRhCWFYQhiWEIYlhGEJYVhCGJYQhiWEYQlhWEI0x88cCEdb3a+YOD0WTv4ym37IZHx6ezg5+vHPcLKqJjq9tQKt7fxRPbGEMCwhDEsIwxLCsIQwLCEMSwjDEsKwhDAsIQxLCMMSwrCEaHbHPwrS8jV4emfh0NQH4eSjtQfh5Lbtb4eTVXXj6kI4eeRUehPk+tzN/AGmPn8znLz2fXprYzK+XZL/p1qt9cQSwrCEMCwhDEsIwxLCsIQwLCEMSwjDEsKwhDAsIQxLCMMSojl+Zn84ujh3L987OLUznHzy3Y5w8t/318PJ/nL6Kw9VteXL++Hk8uydcPLQ3vTKRlX9un43nJz4oh9OXruQ3oOYOtHib3X1wlo46YklhGEJYVhCGJYQhiWEYQlhWEIYlhCGJYRhCWFYQhiWEIYlRDO582I4Ovj0n3zv0qWt4eSBj0bh5G+X088ifDh9OJysqus/HQknx6cfhpNXfkh/jqGqNm96NZzsNf+Fk298ci6cXL74KJysqmMf7wsnPbGEMCwhDEsIwxLCsIQwLCEMSwjDEsKwhDAsIQxLCMMSwrCEMCwhmrOfLYajK6sb871ju5+EkzfWfw4n3+r/FU72Hh8MJ6vq9R3vhpMrD56Gk/fWXssfoF8vh5NHx9O/wKXV6XBy7P/3wsmq+vvxH+GkJ5YQhiWEYQlhWEIYlhCGJYRhCWFYQhiWEIYlhGEJYVhCGJYQzwDN/vDfnZTmxAAAAABJRU5ErkJggg==\" style=\"image-rendering: pixelated;\">\n",
              "            </div><div style=\"margin-right:10px; margin-top: 4px;\">\n",
              "              37 <br/>\n",
              "              <img src=\"data:image/PNG;base64,iVBORw0KGgoAAAANSUhEUgAAAMgAAACrCAIAAACsWkQ9AAAEmklEQVR4nO3dTWtcZRiH8ftkTh21Y1ISlbY2IC4sKEkWiq1E2/RlVV0UwY24du+i38W9H8CFKErRFqX4glUkjUrBoq2rWmpmmqaamBm/wv+AF7O5fuube87i4mzm4TnN8vnzlXl4/mY4WVVHPhyEk8PT2+HkRvNsOHngi4/Dyap6aO31dHTwWTg42TqVP0AzuPS/ryV2dlo7ky+VcoYlhGEJYVhCGJYQhiWEYQlhWEIYlhCGJYRhCWFYQhiWEM3SO4fS2a3THRYPPg8Hx8OT6eQnV8LJ3tOL4WRV9V5KT22M759Il8anAKqq8vMF+VpiZ5e1vrGEMCwhDEsIwxLCsIQwLCEMSwjDEsKwhDAsIQxLCMMSwrCEMCwh2kl8GKaJT8JUVb62N7gcTs7198LJuy/eCCeraub+2XTUS0G8FETTZVhCGJYQhiWEYQlhWEIYlhCGJYRhCWFYQhiWEIYlhGEJ0by6MBeOrp99Ld+7OBdfNXH7WDi4f/5WOLn17b7016tmXv4jnMwvBclPAdS0zyxAj+obSwjDEsKwhDAsIQxLCMMSwrCEMCwhDEsIwxLCsIQwLCEMS4jm3Er6j/1weTvfO9w7mj5BfCVEl2smOvxj38RrJ/ndDfe6XIjwWHxmIV5L7Oy01jeWEIYlhGEJYVhCGJYQhiWEYQlhWEIYlhCGJYRhCWFYQhiWEG278mg4Ory6m+9tVokzC/HOe+nOqprERyHujtbCyWcufpQ/wLUz6aUYiwemeQ6i01rfWEIYlhCGJYRhCWFYQhiWEIYlhGEJYVhCGJYQhiWEYQlhWEK0N/5dSGdXf8z35mcWiri7ocs/9nubJ8PJw5Ofw8nZp1byB3i+fz2cHE777oby7gZNl2EJYVhCGJYQhiWEYQlhWEIYlhCGJYRhCWFYQhiWEIYlhGEJ0eanVio/CVMdDsPka8fxF0eGow6PeuTSp+HkaP/BcLI9kV61UlXDqzvp6CpwGKbLEaPyUhBNl2EJYVhCGJYQhiWEYQlhWEIYlhCGJYRhCWFYQhiWEIYlREt8caSYD5mMN9fCyYOTn8LJqnr88FI42VvZCid/3Z3PH6CJb1shPmTS6VKQfK1vLCEMSwjDEsKwhDAsIQxLCMMSwrCEMCwhDEsIwxLCsIQwLCHa/HBBh6+YdDmzkK/tzV4OJ2e+fDKcrKr2+CPh5Oi7v8PJJr5koaoqvmmimY0PmIzOxDvTGzGqqobpWt9YQhiWEIYlhGEJYVhCGJYQhiWEYQlhWEIYlhCGJYRhCWFYQrQLk/fC0f767XzvP8ffCiebH26lS1ffDAd324vpzqrfR/FXJPa9Hw7+eedc/gALX6VnFg698UE42f9lM5zceeXdcLKq+teH4aRvLCEMSwjDEsKwhDAsIQxLCMMSwrCEMCwhDEsIwxLCsIQwLCEMS4jm7WNXwtHec/18797GOJwcpx8cqZn1nXDywdHf0qVVO99/E07eeeLrcPKvje38AV5YTi8F6T+4EE72ltpwcnytCSerql1O1/rGEsKwhDAsIQxLCMMSwrCEMCwhDEsIwxLCsIQwLCEMSwjDEuI/AqDsowHJTJsAAAAASUVORK5CYII=\" style=\"image-rendering: pixelated;\">\n",
              "            </div><div style=\"margin-right:10px; margin-top: 4px;\">\n",
              "              38 <br/>\n",
              "              <img src=\"data:image/PNG;base64,iVBORw0KGgoAAAANSUhEUgAAAMgAAACrCAIAAACsWkQ9AAAE9ElEQVR4nO3d7U9TZxzG8d+xD1bXFlCBgmOrthiTxSjZNDwZ/0nf7d8p1uDiw5ZsMaLCiIAgSNtDEWXiv3DdideLJd/P6ysn5PjNeeOdu1n7wY3Q5J234jIiqsvXxGVffmzWmBCX5Z1dcRkR5+U/VX8DFxd/1v+AweqWuBydq6nPfHIgLqvLTXEZEXlnXVye0x8K6AgLFoQFC8KCBWHBgrBgQViwICxYEBYsCAsWhAULwoIFYcEimyyUxGlNPgUQEUcr6+KyNKeeWZjeUJcHLfX/9iOit/pOXOpvoP9oQ/8DGndnxeX71TVxWVuaEZcD+cBCRNTkoxB8sWBBWLAgLFgQFiwICxaEBQvCggVhwYKwYEFYsCAsWBAWLAgLFoQFi6J+FGSQdCnIgnorRt6VT5hcVo/NDJ9sq89MOQyjv4F6yhGj7e5r9bGGwzBJl4Loj+WLBQvCggVhwYKwYEFYsCAsWBAWLAgLFoQFC8KCBWHBgrBgQViwSLgURP8Vk0i5FKT8/7kUJOF3XFIuBRldbKqP7bwRl4WpSXFZmRyKy4jIdyviki8WLAgLFoQFC8KCBWHBgrBgQViwICxYEBYsCAsWhAULwoIFYcGiqP+PfZ50d8OienfDUXdTXJYWrorLXndHXEbKmQX9DSTd3XDY/Vdc1pbUt3ruxbG6HFcPLETEhY/qki8WLAgLFoQFC8KCBWHBgrBgQViwICxYEBYsCAsWhAULwoIFYcEim5DvbtB/wSEiBivqQYBi4/vfMjCQrxiIiGxrT1zqb6D/SD2wEBGlhnonRWUyF5dfNi+Ky9PDnriMiEt3fhSXfLFgQViwICxYEBYsCAsWhAULwoIFYcGCsGBBWLAgLFgQFiwICxZZ68ENcTpIurtBvmWgIN8yENfPxOHnV+ojI6L4a1Vc6m+gutRM+AP+PBGXZ81TcflpTX1XJ/VMXEZEeVc9CcIXCxaEBQvCggVhwYKwYEFYsCAsWBAWLAgLFoQFC8KCBWHBgrBgQViwsF0KIp8wmbg7Ky4/PFNv2rh85ydxGRF7f6iHbPQ30Eu5FGTqt7a43H+2IS6zWwVxObPeEpcRsd/eF5d8sWBBWLAgLFgQFiwICxaEBQvCggVhwYKwYEFYsCAsWBAWLAgLFsXaclOcJl0Koj92t6MfLlCfuSc/M+mx+hsYSTkJst19LS7r966Ky6PHm+KytFAUlxHR6+6IS75YsCAsWBAWLAgLFoQFC8KCBWHBgrBgQViwICxYEBYsCAsWhAWLbFy+u6EunwKIiH5n/bs/tr8iPzPlF0f6K+o9C/Ul9UqIw+47/Q8YW5iRH6ueWRiZV89B9B5vicuIGJmfFpd8sWBBWLAgLFgQFiwICxaEBQvCggVhwYKwYEFYsCAsWBAWLAgLFtm9+7+L0+O1qv7c861jcbnz19/isjr1VFyefH0uLiNiOBwRl5X8VFxOzT3U/4D+P+qvSIze/Cwu/3szLi4L7S/iMiKGL9UG+GLBgrBgQViwICxYEBYsCAsWhAULwoIFYcGCsGBBWLAgLFgQFiwICxbFmeFtcdq7rp7uiIgf8jNxWZ7/JC6rG0NxuT+W8OsscVAWh81LbXF5JVffakTs/aIehpkeqP8Ew0ZNXFaOEj4uH1vq76PwxYIFYcGCsGBBWLAgLFgQFiwICxaEBQvCggVhwYKwYEFYsCAsWHwD4kLq+cUHOXYAAAAASUVORK5CYII=\" style=\"image-rendering: pixelated;\">\n",
              "            </div><div style=\"margin-right:10px; margin-top: 4px;\">\n",
              "              39 <br/>\n",
              "              <img src=\"data:image/PNG;base64,iVBORw0KGgoAAAANSUhEUgAAAMgAAACrCAIAAACsWkQ9AAAEpUlEQVR4nO3d325UZRhG8XfaKYxlpphaOnUstWLRnhhrFJIO3qc34KWUgiJRY4xRiLRaIrb0/1TaEoq38OyDFaJZv+MnXzbDYk74sqc1Nz5Rme6XH4TLqhqtPQmXM7eWwuXe91vhcnplPlxW1fPvHofL/BM4Xt/MH6A3XAyXR+sb4XJq+H64zP+mqsknMJYfKuUMSwjDEsKwhDAsIQxLCMMSwrCEMCwhDEsIwxLCsIQwLCHaDf7Hvsl/g/fiY3fW0ssFxJmNjs0/gfzMqjqKr0JMDRfCZZNHXQyXjY71G0sIwxLCsIQwLCEMSwjDEsKwhDAsIQxLCMMSwrCEMCwhDEsIwxKi1Y9fCtLoKghxwwS6tZIfOz7oh8vO7Iv8AUY7nXDZerodLrvxZZjR2ka4bHSs31hCGJYQhiWEYQlhWEIYlhCGJYRhCWFYQhiWEIYlhGEJYVhCUC8FIY6FHvXKnfTXQcZ/jO8szFzOH2ByP12OA3cW8gsLjY71G0sIwxLCsIQwLCEMSwjDEsKwhDAsIQxLCMMSwrCEMCwhDEuIBu9uyC8XVNXojd5ZaL+bvmShqjr9f8Lly63JdHlwkD/AzGfp9YqdB7+FS9/doP8nwxLCsIQwLCEMSwjDEsKwhDAsIQxLCMMSwrCEMCwhDEuI1uzgvXB66e/0ZxGq6jLx7gbiJQtVFV/aOH10ES7P3m7wL7a9sxsu31q9Hi6P4zsLvSbvbsiP9RtLCMMSwrCEMCwhDEsIwxLCsIQwLCEMSwjDEsKwhDAsIQxLiPaNl3PhdPd2+paHqjqM7yz0gHsQs7duhsuq2v1hK1yOfZL+O7yxuZQ/wN7nl8LlAXBnIb+w0OhYv7GEMCwhDEsIwxLCsIQwLCEMSwjDEsKwhDAsIQxLCMMSwrCEMCwh2hPL7XB6eO9Zfm6Taxv5BZv0zO21R+Gyqrqr6btGTu7/GS4vDdNPtar27v8VLsf618Ll6d3NcOlLQfRfYlhCGJYQhiWEYQlhWEIYlhCGJYRhCWFYQhiWEIYlhGEJ0brWTt9I0Z6bzc8de5b+Pkon/iGTN/4zHg2ubKyn9yCqqrOS3lkYbKR/BbtL6c+oHD54Gi6rqndnMVz6jSWEYQlhWEIYlhCGJYRhCWFYQhiWEIYlhGEJYVhCGJYQhiVEuzdMLxe8/ukkP3d0tRsuz+9uhMup+HLBUfzmgobHpncWeqvz+QMcf5u+FGPi9iBc7n+zEy6vDhfDZVUd3ItfM5EfKuUMSwjDEsKwhDAsIQxLCMMSwrCEMCwhDEsIwxLCsIQwLCFanw6+DqejVxP5uefnabLvLO+Hy4snk+ly/mG4rKqLP34Oly8Wfg+Xx7+kf6iq6vX74XLq7KtweeXj83B58mt6D6Wqustn4dJvLCEMSwjDEsKwhDAsIQxLCMMSwrCEMCwhDEsIwxLCsIQwLCEMS4j2zMLNcDq5nd5aqarX3fFwOTg7DpcH11vhslen4bKqns++CpedehwuTyan8gf4orMSLg/nPwqX06P089//MF1W1fQo/SbyG0sIwxLCsIQwLCEMSwjDEsKwhDAsIQxLCMMSwrCEMCwhDEuIfwGoOef/xpL0+AAAAABJRU5ErkJggg==\" style=\"image-rendering: pixelated;\">\n",
              "            </div><div style=\"margin-right:10px; margin-top: 4px;\">\n",
              "              40 <br/>\n",
              "              <img src=\"data:image/PNG;base64,iVBORw0KGgoAAAANSUhEUgAAAMgAAACrCAIAAACsWkQ9AAAFZ0lEQVR4nO3dTW9UZRyG8f+B05lpwb5DjUpwWqatHS20QUqoMUR8rcTEGmHhmsQv4kchURSjC2OM8S1x0dJQDCltaWEotFCsbe0LBdthwK9wz+IOm+u3vnMYwsXZzJNnks8HPwvNb5O/i8uI2D94QFyu/3pNXLZ9fERcLnx7RVxGRNOb3eIyc3lbXNZ25fQPsDWpPjY31CAub1wcF5eHPukXl1U9dpf+UEBHWLAgLFgQFiwICxaEBQvCggVhwYKwYEFYsCAsWBAWLAgLFml2OitOtxt3qnjurPqN/d72HnG5MjopLp97+RVxGRGZkvr3KnfUisuFkSqOV+TPHhOXpS9HxGWH4ZlVPZY3FiwICxaEBQvCggVhwYKwYEFYsCAsWBAWLAgLFoQFC8KCBWHBgrBgkbx1ZkCc7vy8qT+3Zl9GXN6tzIvL91eHxOXXj74RlxHR26+e23Hc3hERixfGxGXje33i8tHMTXFZV+gQlxHx4CcuBcEzRViwICxYEBYsCAsWhAULwoIFYcGCsGBBWLAgLFgQFiwICxZJX0eLOK3JtOvP3fukLC4fJxVxuX0gFZcrJfXERETE3Lo41G/vmPvqkv7n7zuqnlnI/qser+hqUY9sTC+rV61ERLlZvUKGNxYsCAsWhAULwoIFYcGCsGBBWLAgLFgQFiwICxaEBQvCggVhwSI93vq2OD0//p3+3ONHi+KyZ1b9bn+2+aq4rFl5XlxGRO5sl7i8J1+y0HrqNf0D1FzeUped6uGCdDYnLrMF9cxIRDyeeigueWPBgrBgQViwICxYEBYsCAsWhAULwoIFYcGCsGBBWLAgLFgQFizSdEr9GvzIoHodQETc+nNCXJaH1G/s16Zui8u6wSp+bWFldFpc7ikcFpfZuR39A2y37RGXa0vq701sn6gRlws/qGdGIqJdvr2CNxYsCAsWhAULwoIFYcGCsGBBWLAgLFgQFiwICxaEBQvCggVhwSIZ/HBAnD6cUb9aj4jaQ3lxuTl6X1ye6HpDXM6sTInLiOhuUu9uOD/+vbjUr66IiCtj6kmQ4WPD4vKXiT/EZf60+i8VESX59greWLAgLFgQFiwICxaEBQvCggVhwYKwYEFYsCAsWBAWLAgLFoQFC8KCRZqZ3Ranr7a+oz93pqQeXFlcV4/NxFN1mOyWpxE10+qtJMXegrj8e2lO/wD5onpwJTOREZcv9LeJS/0kTETkz7wuLnljwYKwYEFYsCAsWBAWLAgLFoQFC8KCBWHBgrBgQViwICxYEBYsUn2ama9inL60W1zu7FLjTm+pxxAWy6viMiKSD2bF5eqP6mNPFt/VP4B+gcfU6RvicuHCNXHZ/ql6YCG4FATPHGHBgrBgQViwICxYEBYsCAsWhAULwoIFYcGCsGBBWLAgLFgkJwuHxelOs3q4ICKWxq+Ky8qLdeJyf+GguFy+OS8uIyK5sykuW4rd4rI/oy4j4lJ5UlxWHiyKy7pCp7jcmLknLiOiuaheCcEbCxaEBQvCggVhwYKwYEFYsCAsWBAWLAgLFoQFC8KCBWHBgrBgkXYVzonTjfvqMYSIyJ/7T1w+HWkUlw3ZLXFZyl0XlxGRfKT+NEbmunq8or5tQP8AzZUvxOXBjWFxefuuemLiVM9FcRkRE3c2xCVvLFgQFiwICxaEBQvCggVhwYKwYEFYsCAsWBAWLAgLFoQFC8KCBWHBIt1Y6hen9Z1P9OdujuXEZUN3RVyuTGfEZVNfFf9htv5SH5smveJys6lB/wDLJfWXVNbq1J88STbK4nK9vkVcRsQ/5R5xyRsLFoQFC8KCBWHBgrBgQViwICxYEBYsCAsWhAULwoIFYcGCsGDxP3w68jietM8iAAAAAElFTkSuQmCC\" style=\"image-rendering: pixelated;\">\n",
              "            </div><div style=\"margin-right:10px; margin-top: 4px;\">\n",
              "              41 <br/>\n",
              "              <img src=\"data:image/PNG;base64,iVBORw0KGgoAAAANSUhEUgAAAMgAAACrCAIAAACsWkQ9AAAEr0lEQVR4nO3dzW5UdRyH8d8wpzPTQUpLkQJCqyI0aCCgxkQTw8pL8GpcuPTedOFLSXhVXtS0gDSllHY6M229he9ZPOnm+ay/+eekfXo25+S08+nV5coc9Mbhsqq641567Ex6bGe/Gy5nh3PhsqpGGy/D5cmjhXC5Nfcuv4Des//C5fjG+XDZffQqXJ64uBguq2raH6XH5odKOcMSwrCEMCwhDEsIwxLCsIQwLCEMSwjDEsKwhDAsIQxLiGbST5/DN/uD/NxxfOxMfOxkNn20PkqHVVXTpXQ53k7/Drsvt/MLGFy6Ei4ne1vhsjl9OV3+9TRcVtVk5Wy49I4lhGEJYVhCGJYQhiWEYQlhWEIYlhCGJYRhCWFYQhiWEIYlhGEJ0Rw1w3B68CT9zkRVNRfST01MBuk7Ls0ofsEmPrOqurvp90teDTfCZX99kl/AcK4TLmdeTMPl9un0SydfXboTLqtqbfBHuPSOJYRhCWFYQhiWEIYlhGEJYVhCGJYQhiWEYQlhWEIYlhCGJUTT2U2fww8W0n+OUlW7g9fpFcTvLBzk7yzELyxUVf/5ZrgcnjsVLudXP8gv4N1e+gWR6dmjcHnyTfoTGK+Ew6qqw2fpBXjHEsKwhDAsIQxLCMMSwrCEMCwhDEsIwxLCsIQwLCEMSwjDEqJz/f30IwvDpXP5ue9G8RP7fvzthvifo4w6Lb7d8MX+7XC59l785YLxTH4BxE+AOLPVsd6xhDAsIQxLCMMSwrCEMCwhDEsIwxLCsIQwLCEMSwjDEsKwhGgm8SsL+QsLBT2x76VnDt60+IMZr6T/GOIg/nLB4XyL1yuO952F/MxWx3rHEsKwhDAsIQxLCMMSwrCEMCwhDEsIwxLCsIQwLCEMSwjDEqI59sfg+bHd/CsDGy/TZdW9s/fD5YmtnXDZnT2TX4DfbpBShiWEYQlhWEIYlhCGJYRhCWFYQhiWEIYlhGEJYVhCGJYQhiVEc+zvVxzt9cJl//mrcNm58HG4rKrp3la4nF24HC53+6/zCzjel2Embd6GmvGjIDpehiWEYQlhWEIYlhCGJYRhCWFYQhiWEIYlhGEJYVhCGJYQLT4K0uoxeH7sqLsXLq+d/zZc/jL3W7isqmH6zkQ1S910OWrxJkj+g81fLsjPbPXSSn6sdywhDEsIwxLCsIQwLCEMSwjDEsKwhDAsIQxLCMMSwrCEMCwhGugx+LSXHjt4k8a9v5Ium6ct/mDG5w7D5eFoO1xC/x6G+GVBl+odSwjDEsKwhDAsIQxLCMMSwrCEMCwhDEsIwxLCsIQwLCEMS4jm6vKP4fTtvYX83FNXXoTLB/2fwuXd9fvhsrvTD5dVtXrrh3C5/us/4bJ35m5+AfOTO+Gy/8mH4XJzbTFcLl57Gy6ravP39FjvWEIYlhCGJYRhCWFYQhiWEIYlhGEJYVhCGJYQhiWEYQlhWEIYlhBN98nX4fT6jRZfj9h4/FG4XFy+mJ7552a4/O7q9+Gyqv59/E24vPL5z+Fy5+FMfgGfLa+Gy4ePvgyXN2/thsu/H8yHy6q6eTs91juWEIYlhGEJYVhCGJYQhiWEYQlhWEIYlhCGJYRhCWFYQhiWEP8DrOr2TY3dZLQAAAAASUVORK5CYII=\" style=\"image-rendering: pixelated;\">\n",
              "            </div><div style=\"margin-right:10px; margin-top: 4px;\">\n",
              "              42 <br/>\n",
              "              <img src=\"data:image/PNG;base64,iVBORw0KGgoAAAANSUhEUgAAAMgAAACrCAIAAACsWkQ9AAAEgUlEQVR4nO3dS28bVRiH8TNkEtvjhkBjmrR1kShISKiRuAlVLJBYIbFhx8diyydC3Dag7hGFpCFNoeRie2znwlf4j9RHFvD81q9eTdNHs/HRmWrvw52Smc3TyVLKoHf0wtfmO8/PXg0nSynPZ7+FkxtP0507DzbzB5jGf4Em/gsQOzutfSlfKuUMSwjDEsKwhDAsIQxLCMMSwrCEMCwhDEsIwxLCsIQwLCHqZ1V6EOB2e5DvPSl3w0niF/vhjQ6/2I/mb4eT7VvH4eR0fjN/gNWeWch3dlrrG0sIwxLCsIQwLCEMSwjDEsKwhDAsIQxLCMMSwrCEMCwhDEsIwxKi/nT5bjj6Y/t9vrfZ+tccBalGT174WuimDS8F0f+dYQlhWEIYlhCGJYRhCWFYQhiWEIYlhGEJYVhCGJYQhiVE3fxyGY72X1/me/+Tv9jna9suxys2p+k3V476u+Hk7iy9weU0vr6leCmIVs6whDAsIQxLCMMSwrCEMCwhDEsIwxLCsIQwLCEMSwjDEqJ68MGtcPSs7fCL/a32MJzcj3+x3+4/DSdX/qijXvpxlFLK5LgJJx9uPwwnf/jzu3BysDMNJ4t3N2jlDEsIwxLCsIQwLCEMSwjDEsKwhDAsIQxLCMMSwrCEMCwh6kmbnm7YvrzI97bLYTi520svj/ibedRF/Kh3Thbh5OF4M3+ArauTdPS6CgdvrLXh5FmXayaaDe9u0EoZlhCGJYRhCWFYQhiWEIYlhGEJYVhCGJYQhiWEYQlhWELUw356y0B9fDvfO2/SGwGuJunNBcPt/XCyfoY86u/H6ecePi9f5A/w89o34WSVHm4ok6tBODmIDyyUUqaL9PYK31hCGJYQhiWEYQlhWEIYlhCGJYRhCWFYQhiWEIYlhGEJYVhCGJYQ9Sw+CFFGf+R7Fxfx+YrmSTg5X6Y7q1GHoyDz2c1w8rX76V0jw8dX+QNc7sZXffyarh2M00ftEEApzXr61RnfWEIYlhCGJYRhCWFYQhiWEIYlhGEJYVhCGJYQhiWEYQlhWEJUe++n92e0yw7fxuivp0chJsv0Qyb59zamC+QzHvnafCe0duWP6htLCMMSwrCEMCwhDEsIwxLCsIQwLCEMSwjDEsKwhDAsIQxLiLrL4YLDfO8kvhGg2UjPQUzn6UGMptfhUYm10/md/AGaXnp7Rb62w872bjhZSmn66UdffGMJYVhCGJYQhiWEYQlhWEIYlhCGJYRhCWFYQhiWEIYlhGEJUX352Vfh6EE1yveOy2m8djucvFedhZP7Jd1ZShlfPw8nH50+Did3lz/lD7DY+jicvFdvhZPfnn8dTm4epv9TpZTZYBxO+sYSwrCEMCwhDEsIwxLCsIQwLCEMSwjDEsKwhDAsIQxLCMMSwrCEqK/XPgpH92Yd9v7VbKRrp9fpzmG+MxwspZSj9bVw8r16PZw8Tv9NpZRyf/JmOHn+yhvh5Hg9PTZzcPFyOFlK+eTinXDSN5YQhiWEYQlhWEIYlhCGJYRhCWFYQhiWEIYlhGEJYVhCGJYQ/wDe//gulejMmgAAAABJRU5ErkJggg==\" style=\"image-rendering: pixelated;\">\n",
              "            </div><div style=\"margin-right:10px; margin-top: 4px;\">\n",
              "              43 <br/>\n",
              "              <img src=\"data:image/PNG;base64,iVBORw0KGgoAAAANSUhEUgAAAMgAAACrCAIAAACsWkQ9AAAFQ0lEQVR4nO3dTU9cZRyG8T/MseO8AFPA8tIZoEVHEaGUxrCxO+Ou1V2NGz+In8V016W6aTdo0gRabdFEU7WakBSENgVmyvtQXmbGr3CfpPfu+q3vPB3gytn05JmOiU8/C02+9Y+4jIijzAfiMre6JC43pifF5eCfKT7qYWVWXOb1jzo5oX+A8Z8PxOVJz5m4zGy/JS5XrneJy4gY/Ev9xXbqhwI6woIFYcGCsGBBWLAgLFgQFiwICxaEBQvCggVhwYKwYEFYsEhK//0hTl9MVfVzy0/kY5vD4vLm7rS4XIg9cRkRudOn4vJ1Z0Vcfn5wVf8Ai/VvxWV29LK4fLq2LC6/2vtaXEaaXyxPLFgQFiwICxaEBQvCggVhwYKwYEFYsCAsWBAWLAgLFoQFC8KCBWHBImm1e8Xpjf0r+rm/tbbE5ebAirjsWvpEXJ7r3RaXEbFVVN/b6WmsqYe29X8/smMXxOXeuX5xOXL1SFwWHjXFZUTkJhvikicWLAgLFoQFC8KCBWHBgrBgQViwICxYEBYsCAsWhAULwoIFYcEiOetT28o/THFux4D6//vV+py4nJ+5Jy6PX54XlxFx4/iauFzK7orLdprXG3ZD/dKR3g31/pL1afUrZx5sfS8uI+JZTn3DhScWLAgLFoQFC8KCBWHBgrBgQViwICxYEBYsCAsWhAULwoIFYcEi2RosidOl1UX93GZGfmninX1xWWteEpfZPvmShYj84zNx2ZpQf6ji45b+AQ6On6nHzoyJy1v3psTlQrkmLiOierIjLnliwYKwYEFYsCAsWBAWLAgLFoQFC8KCBWHBgrBgQViwICxYEBYski8as+L0/vZt/dzsSEVcHtcL4jI3tCwuX4V6c0FEPBj4QVyu5mfE5fzsXf0DlBbV74bYHC6Jy19XF8RlK8U1Fyn+WDyxYEFYsCAsWBAWLAgLFoQFC8KCBWHBgrBgQViwICxYEBYsCAsWSVu+ZODtSp9+7k63+nZDsaB+28J+vC8uy4fb4jIizkL9uaon6rG1DvWaiYjIziXi8ssf1RsZ7n/0k7jcLV4Wl5Hmj8UTCxaEBQvCggVhwYKwYEFYsCAsWBAWLAgLFoQFC8KCBWHBgrBgQViwSNodbXF6lJT0c4tN9f2Kg8yEuOw+k9/ZeFUWlxHR7m2IS8f9JZHmCpOFoe/E5cth9czyk9/FZUQsX5wRlzyxYEFYsCAsWBAWLAgLFoQFC8KCBWHBgrBgQViwICxYEBYsCAsWSeGR+n0buUn1LYCI2JHfWSjI70EcJuqZUVHPjIiDTvVYx/0lkeYKk9OWen/JzT31+pClqInLiKieqh+VJxYsCAsWhAULwoIFYcGCsGBBWLAgLFgQFiwICxaEBQvCggVhwSKZv3ZXnDbkFxYiotD8W1ymeLlAvw9CPjMiiq03f2xR/vEjImoj4rAzo75g0vpFvWai/aE4jIh4XS+KS55YsCAsWBAWLAgLFoQFC8KCBWHBgrBgQViwICxYEBYsCAsWhAWLjuu37ojTob1N/dznPep3Q5TlY9e7h8XlwPaauIyIze6SuGzUvhGX6ycp3hkYX1EvROi6eElc9nfOicvnVXUZESO7dXHJEwsWhAULwoIFYcGCsGBBWLAgLFgQFiwICxaEBQvCggVhwYKwYEFYsEgma6PitHb+Xf3cKfkVm3r/+Bs/88WFijqNmN7cF5cPE/UbR0b/Vc+MiHxWPTaTnxaXh7WPxeWVjTFxGRG1/vfEJU8sWBAWLAgLFoQFC8KCBWHBgrBgQViwICxYEBYsCAsWhAULwoLF/wAU8l2S8gJYAAAAAElFTkSuQmCC\" style=\"image-rendering: pixelated;\">\n",
              "            </div><div style=\"margin-right:10px; margin-top: 4px;\">\n",
              "              44 <br/>\n",
              "              <img src=\"data:image/PNG;base64,iVBORw0KGgoAAAANSUhEUgAAAMgAAACrCAIAAACsWkQ9AAAEZElEQVR4nO3dQWtcdRhG8fcmk0wyE5OUolgFCwZXgogiWMGNy67q1i5MEU1D6dfpjIJLEZHudOHSnahE1BaUGNzoQiSNTdKZSSZp/ArPLA5DyvmtH/5cpid308u9zaUby5UZ3D0Jl1U1e3waLpc3VsPlQX8vXC5udsNlVY36g3B5vJ6e+eZXV/IL+PPdX8Plg08OwmX7ZidcLtwZhsuqan+wEi5n8kOlnGEJYVhCGJYQhiWEYQlhWEIYlhCGJYRhCWFYQhiWEIYlRKs9k7bVbZ7Jzx1t7IfLf/v/hculaoXLw96jcFlVT32UPt+xGD9e0Xk/fQqgqnbjX6BzK73UYfwLXL7xWrisqt8+/SFcescSwrCEMCwhDEsIwxLCsIQwLCEMSwjDEsKwhDAsIQxLCMMSwrCEaJ5rpW2tvfdGfu79L38Jl+Pj9F0j76xfDZff3f0mXFbVePg4XHbid40MJnluhzh26pfqHUsIwxLCsIQwLCEMSwjDEsKwhDAsIQxLCMMSwrCEMCwhDEuI1syt1XC61dvKz11s5sLlhbn5cPljfRsu9w/SD65U1cXbS+GSeLgAOjY/c6LPw+THescSwrCEMCwhDEsIwxLCsIQwLCEMSwjDEsKwhDAsIQxLCMMSorm40A6nR+tn+blXvn4rXO5c+z1cju78Ey7Xrk/ymokvfgqX+YMA+RdHoGOnfqnesYQwLCEMSwjDEsKwhDAsIQxLCMMSwrCEMCwhDEsIwxLCsIRodT5cDqeL/Qf5uZ31lXC5+/FuuFy6nZ55v5c+sFDTfrgAOnbql+odSwjDEsKwhDAsIQxLCMMSwrCEMCwhDEsIwxLCsIQwLCEMS4jmQjv9MERnM/2CQ1U96qf/Db68sRouD/p74fIcfRgCOnbql+odSwjDEsKwhDAsIQxLCMMSwrCEMCwhDEsIwxLCsIQwLCEMSwjDEqKVPwwz6B3m53bjY/f7D+Mzn8CnVqBjp36p3rGEMCwhDEsIwxLCsIQwLCEMSwjDEsKwhDAsIQxLCMMSwrCEeDJfCnKOvjgCHTv1S/WOJYRhCWFYQhiWEIYlhGEJYVhCGJYQhiWEYQlhWEIYlhCGJUTzdLsTTo/qND93KX/LQH8QLjs3F8PlOXq4oKoGvfgX2Ez/sQa9YXxm+qtW1aA/CpfesYQwLCEMSwjDEsKwhDAsIQxLCMMSwrCEMCwhDEsIwxLCsIRorr/9eTj9eedxfu6o5sLl/GyTnjlOXzMxN8nfy9FJuj46+z5cdmsrv4DxpfTYve1xuFxopc9BrHQ/C5dV1W0vhEvvWEIYlhCGJYRhCWFYQhiWEIYlhGEJYVhCGJYQhiWEYQlhWEIYlhCt8claOJ3vTPCii24zGy5ffDZ9FGT7r/QCXnr+OFxW1b0/0idMXn/1Ybj8+95JfgGn7Z1wedikbyW5+sK1cLk9fCVcVtXLl8/CpXcsIQxLCMMSwrCEMCwhDEsIwxLCsIQwLCEMSwjDEsKwhDAsIf4H7CHuOSXgAj8AAAAASUVORK5CYII=\" style=\"image-rendering: pixelated;\">\n",
              "            </div><div style=\"margin-right:10px; margin-top: 4px;\">\n",
              "              45 <br/>\n",
              "              <img src=\"data:image/PNG;base64,iVBORw0KGgoAAAANSUhEUgAAAMgAAACrCAIAAACsWkQ9AAAFdElEQVR4nO3d20/XdRzH8Tfy4xD7QcwIsiOwjLSGqWBgxkmd6Sbz1Npcrbio1bwzTWY3XpS1rLVlQ0pWclFbW7VGTteMTDnkNFcuKyJdRhpYaIGnkQj9C6/f1uui7fm4fu3Ddz+efG/47vtLez/RHpqOplZxGRFdHb+Iy9qnbxSXB1r//M/PjIiDO/4Ql5WrSsTlw+1P6hfwYcVr4vJozhVxWX1yurgcTqqfakTcMOMWcTlFPxTQERYsCAsWhAULwoIFYcGCsGBBWLAgLFgQFiwICxaEBQvCgkXa443q/6v39l7Vz120rkhcOp5Z0M80HVvzVKF+AUfeHhGXzzY2i8uX2teLy3lr7heXETH2Rb645I4FC8KCBWHBgrBgQViwICxYEBYsCAsWhAULwoIFYcGCsGBBWLAgLFgkhn67SZwuzE/hTRs9h34Sl/X16pn7PS8FsTy303JWv4B5q9V3jeS2ZYvL6qb7xGVXR5+4jIg6+RPgjgULwoIFYcGCsGBBWLAgLFgQFiwICxaEBQvCggVhwYKwYEFYsEhbOqdCnO779hv93O1Nb4rLVz7dKi5rqtS3kuztnRCXEdGwTv2P/Zct6nMQS6pT+IvVr/Z/dKncsWBBWLAgLFgQFiwICxaEBQvCggVhwYKwYEFYsCAsWBAWLAgLFomcsqQ6/SFdPzd313XqsYvGxOWZAfXbWeoXq8uI6G79WlzW5c0VlyM5l/ULqC/MEpcHdxwTlwvqK8Xlmf7fxWVE1MkfLHcsWBAWLAgLFoQFC8KCBWHBgrBgQViwICxYEBYsCAsWhAULwoJF4ujwgDidGE/hhQifLWsWl+WH1UcGJhvURwYudKbwB1NbmSYuO/ftF5dZper3fUTEYP9pcfnI0gJxefmA+svKX3i9uIyIK50JcckdCxaEBQvCggVhwYKwYEFYsCAsWBAWLAgLFoQFC8KCBWHBgrBgkXixc4s43bJ4g37u4MA0cTm1QX0lRFdnn7h8oE79uo2IOPfzzeJyeFz9uoftd2zSL2DrlPXi8lKyTFxm56g/vfvcr+o0oqb+R3HJHQsWhAULwoIFYcGCsGBBWLAgLFgQFiwICxaEBQvCggVhwYKwYEFYsEh0PL9NnM7aOVs/99K0YXE5+rn6hR+1zxSKy4m2SXEZEcm6XHGZcVz+O1TfMxIRMWdusbg8dl59g8udRRnisvm2jeIyIl7teFlccseCBWHBgrBgQViwICxYEBYsCAsWhAULwoIFYcGCsGBBWLAgLFgkjhxWv0ekKiuFCsfvyhOXmWMXxGX3W+o7OeoeHBeXEdFz9pq4rJ1fKi7zdmXrF5BYUyQuX/jkMXH57j3viMuJSfU5iIgov1t9EoQ7FiwICxaEBQvCggVhwYKwYEFYsCAsWBAWLAgLFoQFC8KCBWHBIrHxdvWLTPaMtujnfv/XRXE5eGJIXK7YNF1cfrVT/ekR8dxy9eUF2zrU91zs3vy6fgG9refFZeaGN8TlyTb1E0ifncKTIN/1j4lL7liwICxYEBYsCAsWhAULwoIFYcGCsGBBWLAgLFgQFiwICxaEBYtEDC0Xp8W3pvBv8GVjq8XlibUfi8ue3TnisnSB+hRARKS/p75mYlbFVHF5/IMS/QLWriwXl717qsTlQ0sGxWXG343iMiIeXVEgLrljwYKwYEFYsCAsWBAWLAgLFoQFC8KCBWHBgrBgQViwICxYEBYsCAsWaZtXHhKnp0Ym9XNL8jPlY9Uzi/P+EZcfnX5CPTSibHSGuDx17ay4nF+8Sr+A9KszxWVB4b3isu+i+vaOmcmEuIyIweGkuOSOBQvCggVhwYKwYEFYsCAsWBAWLAgLFoQFC8KCBWHBgrBgQViw+BcxWPOoy7JP8gAAAABJRU5ErkJggg==\" style=\"image-rendering: pixelated;\">\n",
              "            </div><div style=\"margin-right:10px; margin-top: 4px;\">\n",
              "              46 <br/>\n",
              "              <img src=\"data:image/PNG;base64,iVBORw0KGgoAAAANSUhEUgAAAMgAAACrCAIAAACsWkQ9AAAEEElEQVR4nO3dwWpUWRRG4V32rVh1oxiiTdQYdRS0RRFS8QEUfC/fwakv4zSl0D1qaBEdaKTbFpR4qzTdxFf4D7gohfWNN8djWN6Jm5PR1fvnK3P09CicrKoLD66Fk8uDt+HkdLYdTg7PDsPJqupnF8PJRXzVyf6l/ALLg/S2+bHEmU3HnsoPlXKGJYRhCWFYQhiWEIYlhGEJYVhCGJYQhiWEYQlhWEIYlhCj6xvTcHTr7q383MM//gwnJ7PL4eQi3lno99Izq2oxfxNOEssF0LErv6pfLCEMSwjDEsKwhDAsIQxLCMMSwrCEMCwhDEsIwxLCsIQwLCEMS4hu7d5OOHo4TzdhqmUZZjmPHwXZT88c5g2rINOf56WNySw9dhGfOY3PbDrWL5YQhiWEYQlhWEIYlhCGJYRhCWFYQhiWEIYlhGEJYVhCGJYQ3SJfLogXFqqKOHYR7yw0PQoyHKSPguSLAPkWQNux8U/gZO1sONkNn8LJqvpyej2c9IslhGEJYVhCGJYQhiWEYQlhWEIYlhCGJYRhCWFYQhiWEIYlRNeyXJAuLFTbzsL3f7vhc8tyQQ8sF7Q9iBAfO5ldDCc3fv8l/dNHDdsNl76mSxN+sYQwLCEMSwjDEsKwhDAsIQxLCMMSwrCEMCwhDEsIwxLCsIT4md5uGOKdhfWWqw5z4O2Gpl+NARzb3f0tnBwOXoWTVfXr3nY46RdLCMMSwrCEMCwhDEsIwxLCsIQwLCEMSwjDEsKwhDAsIQxLiNHuw91wdPVvN+R7EPN34WRV9bOtcHLlbzcQexDQVf1iCWFYQhiWEIYlhGEJYVhCGJYQhiWEYQlhWEIYlhCGJYRhCWFYQox2Ns+Eo5OW/Yplw6/xyFdB0mWYvu39kvRRkPyq+V8fOnblV/WLJYRhCWFYQhiWEIYlhGEJYVhCGJYQhiWEYQlhWEIYlhCGJUTXslyw4l/j0fIoyMqv6qMgEsCwhDAsIQxLCMMSwrCEMCwhDEsIwxLCsIQwLCEMSwjDEmJ0JX674Qf4H3vk7YYhfruBWC6Ajl35Vf1iCWFYQhiWEIYlhGEJYVhCGJYQhiWEYQlhWEIYlhCGJYRhCTGa7T8JR/vjhnM/d+NwcrxchpP/T76Gk/98eRROVtXw9yScPBv/M9zYfpxf4PjTPJw86V6Ek1f7vXDy3/EsnKyq9eNROOkXSwjDEsKwhDAsIQxLCMMSwrCEMCwhDEsIwxLCsIQwLCEMSwjDEqK7Pb0Zjr7upvm5d8b/hZN/TU/CyVunPoaTz/vNcLKqzrzvw8npON0Fur1+I7/Ai80hnNz6kG74rB3fCyd3zu2Gk1X1cpn+rPxiCWFYQhiWEIYlhGEJYVhCGJYQhiWEYQlhWEIYlhCGJYRhCfENgG/s0aUprPUAAAAASUVORK5CYII=\" style=\"image-rendering: pixelated;\">\n",
              "            </div><div style=\"margin-right:10px; margin-top: 4px;\">\n",
              "              47 <br/>\n",
              "              <img src=\"data:image/PNG;base64,iVBORw0KGgoAAAANSUhEUgAAAMgAAACrCAIAAACsWkQ9AAAEU0lEQVR4nO3d305cZRhG8XeXPTDAQOsohRobU2nBaSlNExMvwmvxkrwcL8C2CkWrDQfWYipTOvyRqeItPDthhdSs3/GbN1/IyncyXzbN+uOtykye7IaTVTXY/vLS1xI7obX5zk5rl7ZH4eTf8c7z+xvhZFUNftoLJ6/lS6WcYQlhWEIYlhCGJYRhCWFYQhiWEIYlhGEJYVhCGJYQhiVEszrThqMdf7F/Hq/dvMKd0Np8Z6e1J/Ha9tZaONk/bMLJqpoO00lvLCEMSwjDEsKwhDAsIQxLCMMSwrCEMCwhDEsIwxLCsIQwLCEMS4i2yycxkKcgH9CrlSt/t7M4Wg8nD/f2052D+ClM1fHBOJz0xhLCsIQwLCEMSwjDEsKwhDAsIQxLCMMSwrCEMCwhDEsIwxKiudmbC0eXtzr8Yn/0LP3FPl9L7ITW5juhtVd+VG8sIQxLCMMSwrCEMCwhDEsIwxLCsIQwLCEMSwjDEsKwhDAsIZqNx4/C0bc7v+R7r4/uXvrafOe4y1FvAGvzndDak50X4eTF3TvhZFXNvfgtnPTGEsKwhDAsIQxLCMMSwrCEMCwhDEsIwxLCsIQwLCEMSwjDEqK5OdMLR5fi/2FRVe+e7F76WmIntDbf2Wnt5Gn6nYXZtdVwsn/Y4XKZDi/CSW8sIQxLCMMSwrCEMCwhDEsIwxLCsIQwLCEMSwjDEsKwhDAsIdor/8WeeFxw1OWoy8DafGentYPRejg53tsPJxcHw3CyqiYH43DSG0sIwxLCsIQwLCEMSwjDEsKwhDAsIQxLCMMSwrCEMCwhDEsIwxKiWYk/CrKw1eEpSH8n/XzFu9FGODl9lu78v34U5AM6qjeWEIYlhGEJYVhCGJYQhiWEYQlhWEIYlhCGJYRhCWFYQhiWEM2dRw/C0bO93/O98/Oz4eTk+DycXLp/O5w8fdrhF/v3o81w8sbzvXByvHkvP8DiTrq2eZge9Sj+Cyw8SHdW1cyP6VG9sYQwLCEMSwjDEsKwhDAsIQxLCMMSwrCEMCwhDEsIwxLCsIRoPmnTZwhzw4/zvf3T9M3CZKGfLn3zZzg4u7qa7qyaH8+Ek+e943CyN13MD3D+0b/h5MmrV+HkYCv9IsbZzx0erVwsL4ST3lhCGJYQhiWEYQlhWEIYlhCGJYRhCWFYQhiWEIYlhGEJYVhCNF9/8104Orvbdlg8m/5if/DXD+Fke/tlODl881U4WVWLS6Nw8vR9+l885tuT/AA702/DyX/az8LJi1/3w8mza+njjqrqz6RPUbyxhDAsIQxLCMMSwrCEMCwhDEsIwxLCsIQwLCEMSwjDEsKwhDAsIdrV/Yfh6Fk/fTRSVe3aWTq6choOzv+RPvD49Fb6SYyqenu8HU4u3EvfAjUv02+iVNXKF5+Hk6+/fx1O9q6nX3CZTjocdXOYPjHyxhLCsIQwLCEMSwjDEsKwhDAsIQxLCMMSwrCEMCwhDEsIwxLiPx1n6DaL5BooAAAAAElFTkSuQmCC\" style=\"image-rendering: pixelated;\">\n",
              "            </div><div style=\"margin-right:10px; margin-top: 4px;\">\n",
              "              48 <br/>\n",
              "              <img src=\"data:image/PNG;base64,iVBORw0KGgoAAAANSUhEUgAAAMgAAACrCAIAAACsWkQ9AAAEu0lEQVR4nO3d3U5UdxhG8XdvBgcHFORDreBHraZIxYOmSU96I72K3lFvqGdoFZJKtIbU6oA4KiAMM72FZ5KucLJ+x0/+bieLfTI7e5pffvqxMvtbT8NlVS092QyX759uhcvR47VwOX7xNlxWVfPo5v9+bH4mdOyFX2qbHyrlDEsIwxLCsIQwLCEMSwjDEsKwhDAsIQxLCMMSwrCEMCwhmvWN6+H0y4ep/Nzu4GN8BekFXPg39sTDBdCxF36p3rGEMCwhDEsIwxLCsIQwLCEMSwjDEsKwhDAsIQxLCMMSwrCEMCwhOu1U2tbMSTPBwRf6MAz0KMgwPnY4t5BfQG87PXYUX+oof3vHJI8YTXBsfqiUMywhDEsIwxLCsIQwLCEMSwjDEsKwhDAsIQxLCMMSwrCEaB5d6oTTzvr9/Nyjv/4Ol/m369A39uPtf9ML+HY+XN58lz7cUVUfVg/C5elOP1yeX10Ml93Fs3BZVZ8P0juRdywhDEsIwxLCsIQwLCEMSwjDEsKwhDAsIQxLCMMSwrCEMCwhOl8WVsLp5d29/NyLfWYhP7Oq2u9vpMvn8ScwP8HTDfU8fnvFD6vhsvf6PFyO2wluLpdPfLpBF8qwhDAsIQxLCMMSwrCEMCwhDEsIwxLCsIQwLCEMSwjDEqJzu0m/hz94mL7loSb5EYd2HXgOIj6zJnl3w/nD5fTQd/m/X7UR/+JGfKntgzvhcvjiZbisqu6j9P0d3rGEMCwhDEsIwxLCsIQwLCEMSwjDEsKwhDAsIQxLCMMSwrCE6DS302cWhs8m+Mq+2fgmXI624zcX5M9BxGdWVRO/u2H6z/jdDZvpf7+qhs/ydzeshcuj7fiXQTZvh8uqOt1+kx6bHyrlDEsIwxLCsIQwLCEMSwjDEsKwhDAsIQxLCMMSwrCEMCwhDEuI5v5sL5yOrizk53YXz8LlUX8qXPaW05/xyM+c6NhPB+nf4cxgkF/AefzBdpeG4fIY+FRrkk/AO5YQhiWEYQlhWEIYlhCGJYRhCWFYQhiWEIYlhGEJYVhCGJYQndPe1XC6vJI+B1FVxzuvwuWdaxvhcr/9Jz2z0vd8VNV+m76To3ec/h2O19Mfkqmq2dfp8wWjJl3ealfC5eHuTrisqtmZpXDpHUsIwxLCsIQwLCEMSwjDEsKwhDAsIQxLCMMSwrCEMCwhDEuIzr02/R2R/ij+wY+qz/Pp1+AzK1/C5XjnQ7p8kv40SFWNt/rhsr2WHtucHOUXcNLOhMvplx/D5eDe5XD56WwhXFbV/OooXHrHEsKwhDAsIQxLCMMSwrCEMCwhDEsIwxLCsIQwLCEMSwjDEqL59effw+newXR+7q3FJly+6cfHLo3D4dThBJf6dS49tvvpj3B5crabX8BibzNcHvXuh8u909/Sf73/XbisqsHwfbj0jiWEYQlhWEIYlhCGJYRhCWFYQhiWEIYlhGEJYVhCGJYQhiWEYQnRaWs9nM7duJSfO3WWLq/c7IbL5fP0+Zb96+mZVXXr6zBc9tcOw2Wnn76To6qWO4/D5fT03XB5PJu+6+Xw7SBcVtXd+Qfh0juWEIYlhGEJYVhCGJYQhiWEYQlhWEIYlhCGJYRhCWFYQhiWEP8B5K3n2fRVswkAAAAASUVORK5CYII=\" style=\"image-rendering: pixelated;\">\n",
              "            </div><div style=\"margin-right:10px; margin-top: 4px;\">\n",
              "              49 <br/>\n",
              "              <img src=\"data:image/PNG;base64,iVBORw0KGgoAAAANSUhEUgAAAMgAAACrCAIAAACsWkQ9AAAFOklEQVR4nO3dPW9bZRyG8f9xTpzUNnFfQpoEJzGGVlRFaaEICRATSB2QOkUgscPKAp+HjYWXmVTifUFMCAmEolCcmKQhtpO0Thy/m69we7iFKl2/+daJ1Vw6S54+Tq69fjM0CzsZcRkRDwc1cbmcrIrLw+fH4jJb2xGXEdFdKonLcXVXXL59fUP/AD9sfyUuR5U1cZnK/wInF1bEZUTMd/bF5QStADrCggVhwYKwYEFYsCAsWBAWLAgLFoQFC8KCBWHBgrBgQViwSNbXF8Xp7p9H+nNzJfXv8NnMsbgs9Hvisrui/vSImJEPAuiP1Z854WPVMyOtwpy4vLf3jriMiPvlTXHJGwsWhAULwoIFYcGCsGBBWLAgLFgQFiwICxaEBQvCggVhwYKwYEFYsEiHffWmje5IXUbE+6tvistvt74Ql0dz6vUVT9f+EZcR0TYchnGd21lU7y+Z3lGf2V8/F5cRkdluqEv9oYCOsGBBWLAgLFgQFiwICxaEBQvCggVhwYKwYEFYsCAsWBAWLJKbNxbEabZb0Z/bH26Jy1a+IC7v7avXV9xfU++uiIj0RP2LfSevnlnIp3X9AzSHl8XlpVP11Mb/fn8JbyxYEBYsCAsWhAULwoIFYcGCsGBBWLAgLFgQFiwICxaEBQvCgkV63uyK04uZCf6T/2F5SVxOV6vicnBL/QDJlnpgISKaTy2LyxuPpsTlQTHRP0C5MSMuD6+visvsBNdMqM+c6LG8sWBBWLAgLFgQFiwICxaEBQvCggVhwYKwYEFYsCAsWBAWLAgLFslS5Zo4zWaO9ecWBgNx2cmp37aQT5vicv/fkbiMiPfON8TlN91PxeVURb2QIiJmOuqlGN3RH+KyJ59ZyNZ2xeVEj+WNBQvCggVhwYKwYEFYsCAsWBAWLAgLFoQFC8KCBWHBgrBgQViwSDeO74rT73Kf6c89X3tGXJaqqbisF9UzC2eNI3EZEYM3zsRl+xf1RoZCot7yEBHZU/VOioMrK+JyvrYnLs8nu7tBPQrBGwsWhAULwoIFYcGCsGBBWLAgLFgQFiwICxaEBQvCggVhwYKwYEFYsEiHI/UsSndqgosucqfqBR6d7Jq47NXV8y0vvnRHXEbET9UvxeXq4rq4PBk/0D/Ar0e/i8sPeh+Ky83y1+KSS0HwJCEsWBAWLAgLFoQFC8KCBWHBgrBgQViwICxYEBYsCAsWhAWLNMbqRRdJfYKvPBnk1aMQabsnLjMvPCsuz3bVrwaJiOasen/J1TP19o7RrP7zIwn1V9C/pX6AzHZDXPYqXAqCJwdhwYKwYEFYsCAsWBAWLAgLFoQFC8KCBWHBgrBgQViwICxYpBn1L+sRpZz+3H79sbjsldW7G6Z3/xaXrUJRXEbEu3tvicvNhc/F5aihXjMRk9w08eOOes1E76J6ZiH/WD0HERHNQklc8saCBWHBgrBgQViwICxYEBYsCAsWhAULwoIFYcGCsGBBWLAgLFgkH99Vv8Jgu/2X/tzD3Jy4vDpQ7yM4iLy4HNZ/FpcRcTtV7244zrXE5cOC+h0WEVFvfiQuW48WxeVzvQvicn7lE3EZEXNxSVzyxoIFYcGCsGBBWLAgLFgQFiwICxaEBQvCggVhwYKwYEFYsCAsWBAWLNL2SP1ukl7uVf25L49G4vJBqn49yO2B+uUov5XUZUS0mupxoJnOa+LyTm5Z/wDfF9XDMMUD9ZdVzF4Rl+PZV8RlRDT2LotL3liwICxYEBYsCAsWhAULwoIFYcGCsGBBWLAgLFgQFiwICxaEBYv/AHVR/6d5fymgAAAAAElFTkSuQmCC\" style=\"image-rendering: pixelated;\">\n",
              "            </div></div>"
            ],
            "text/plain": [
              "<IPython.core.display.HTML object>"
            ]
          },
          "metadata": {
            "tags": []
          }
        }
      ]
    },
    {
      "cell_type": "code",
      "metadata": {
        "id": "5jEiojf4QENZ",
        "colab_type": "code",
        "colab": {
          "base_uri": "https://localhost:8080/",
          "height": 34
        },
        "outputId": "aeaa5b67-ef4c-4035-c894-253995c80e60"
      },
      "source": [
        "reduced.shape"
      ],
      "execution_count": 15,
      "outputs": [
        {
          "output_type": "execute_result",
          "data": {
            "text/plain": [
              "(2000, 12, 14, 6)"
            ]
          },
          "metadata": {
            "tags": []
          },
          "execution_count": 15
        }
      ]
    },
    {
      "cell_type": "code",
      "metadata": {
        "id": "es4dnN6-dx7n",
        "colab_type": "code",
        "colab": {
          "base_uri": "https://localhost:8080/",
          "height": 34
        },
        "outputId": "9f3b5d1e-1bb9-409d-bb9f-b761922e7954"
      },
      "source": [
        "reduced_ave = np.mean(reduced, axis = (1,2))\n",
        "reduced_ave.shape"
      ],
      "execution_count": 16,
      "outputs": [
        {
          "output_type": "execute_result",
          "data": {
            "text/plain": [
              "(2000, 6)"
            ]
          },
          "metadata": {
            "tags": []
          },
          "execution_count": 16
        }
      ]
    },
    {
      "cell_type": "markdown",
      "metadata": {
        "id": "kyDfjMJA8auK",
        "colab_type": "text"
      },
      "source": [
        "# Save results to your Google drive"
      ]
    },
    {
      "cell_type": "code",
      "metadata": {
        "id": "mi5EXzRZk6Qi",
        "colab_type": "code",
        "colab": {
          "base_uri": "https://localhost:8080/",
          "height": 122
        },
        "outputId": "5aed955d-1c7a-491d-9ec0-0f7c83d97299"
      },
      "source": [
        "from google.colab import drive\n",
        "drive.mount('/content/drive')"
      ],
      "execution_count": 17,
      "outputs": [
        {
          "output_type": "stream",
          "text": [
            "Go to this URL in a browser: https://accounts.google.com/o/oauth2/auth?client_id=947318989803-6bn6qk8qdgf4n4g3pfee6491hc0brc4i.apps.googleusercontent.com&redirect_uri=urn%3aietf%3awg%3aoauth%3a2.0%3aoob&response_type=code&scope=email%20https%3a%2f%2fwww.googleapis.com%2fauth%2fdocs.test%20https%3a%2f%2fwww.googleapis.com%2fauth%2fdrive%20https%3a%2f%2fwww.googleapis.com%2fauth%2fdrive.photos.readonly%20https%3a%2f%2fwww.googleapis.com%2fauth%2fpeopleapi.readonly\n",
            "\n",
            "Enter your authorization code:\n",
            "··········\n",
            "Mounted at /content/drive\n"
          ],
          "name": "stdout"
        }
      ]
    },
    {
      "cell_type": "code",
      "metadata": {
        "id": "y_pjZolFlIyv",
        "colab_type": "code",
        "colab": {
          "base_uri": "https://localhost:8080/",
          "height": 34
        },
        "outputId": "a74ff694-889b-48c5-9039-4acb97aa3ee5"
      },
      "source": [
        "file_path = '/content/drive/My Drive/pref_extract_files/'\n",
        "try:\n",
        "  os.makedirs(file_path)\n",
        "except FileExistsError:\n",
        "  pass\n",
        "\n",
        "joblib.dump(some_ys, os.path.join(file_path, 'ys.pkl'))\n",
        "joblib.dump(some_observations, os.path.join(file_path, 'observations.pkl'))\n",
        "joblib.dump(reduced, os.path.join(file_path, 'reduced.pkl'))"
      ],
      "execution_count": 18,
      "outputs": [
        {
          "output_type": "execute_result",
          "data": {
            "text/plain": [
              "['/content/drive/My Drive/pref_extract_files/reduced.pkl']"
            ]
          },
          "metadata": {
            "tags": []
          },
          "execution_count": 18
        }
      ]
    },
    {
      "cell_type": "markdown",
      "metadata": {
        "id": "90PNjn6jNISz",
        "colab_type": "text"
      },
      "source": [
        "# NMF on attributions with no score FN"
      ]
    },
    {
      "cell_type": "code",
      "metadata": {
        "id": "rbHdGEMSNBZ2",
        "colab_type": "code",
        "colab": {
          "base_uri": "https://localhost:8080/",
          "height": 0
        },
        "outputId": "38ac3178-b220-45bf-9291-cf43dff04ac1"
      },
      "source": [
        "attr = get_attr(model, output_layer_name, hidden_layer_name, some_observations, integrate_steps=10)\n",
        "reduced = reduce_and_norm(attr)\n",
        "show_with_obs(some_observations, reduced, 10)"
      ],
      "execution_count": 19,
      "outputs": [
        {
          "output_type": "stream",
          "text": [
            "normalize_by 69.80664939060938\n",
            "Time left in episode\n"
          ],
          "name": "stdout"
        },
        {
          "output_type": "display_data",
          "data": {
            "text/html": [
              "<div style=\"display: flex; flex-direction: row;\"><div style=\"margin-right:10px; margin-top: 4px;\">\n",
              "              0 <br/>\n",
              "              <img src=\"data:image/PNG;base64,iVBORw0KGgoAAAANSUhEUgAAAMgAAACvCAAAAACdws6gAAAA7klEQVR4nO3bsQ2AMAwAQUBsytKMQwtFOiSO6K+z0vjlOuu5DByjB9P29QJvKURTiKYQTSGaQjSFaArRFKIpRFOIphBNIZpCNIVoCtEUoilEU4imEE0hmkI0hWgK0RSiKURTiKYQTSGaQjSFaArRFKIpRFOIphBNIZppQvbH9LNvrXfTXKQQTSGaQjSFaArRFKIpRFOIphBNIZpCNIVoCtEUoilEU4imEE0hmkI0hWgK0RSiKURTiKYQTSGaQjSFaArRFKIpRFOIphBNIZpCNIVoCtEUoilEU4imEE0hmkI0hWgK0RSiKURTiKYQzQWDiwL+2jfgRAAAAABJRU5ErkJggg==\" style=\"image-rendering: pixelated;\">\n",
              "            </div><div style=\"margin-right:10px; margin-top: 4px;\">\n",
              "              1 <br/>\n",
              "              <img src=\"data:image/PNG;base64,iVBORw0KGgoAAAANSUhEUgAAAMgAAACvCAAAAACdws6gAAAA70lEQVR4nO3RsQ2AMBAEQYxokoD+myAgJrfkkbWTfXarH++xh3P1gFkK0RSiKURTiKYQTSGaQjSFaArRFKIpRFOIphBNIZpCNIVoCtEUoilEU4imEE0hmkI0hWiu3/UsWjHBNh8pRFOIphBNIZpCNNuEjHv1gkm2+UghmkI0hWgK0RSiKURTiKYQTSGaQjSFaArRFKIpRFOIphBNIZpCNIVoCtEUoilEU4imEE0hmkI0hWgK0RSiKURTiKYQTSGaQjSFaArRFKIpRFOIphBNIZpCNIVoCtEUoilEU4imEE0hmkI0hWgK0RSiKURTiOYDaVwDETaJZq0AAAAASUVORK5CYII=\" style=\"image-rendering: pixelated;\">\n",
              "            </div><div style=\"margin-right:10px; margin-top: 4px;\">\n",
              "              2 <br/>\n",
              "              <img src=\"data:image/PNG;base64,iVBORw0KGgoAAAANSUhEUgAAAMgAAACvCAAAAACdws6gAAAA70lEQVR4nO3RwQmAQBAEQU9MyhhNy8D8mYDCNUfVf2GaHee2hn32gL8IqRFSI6RGSI2QGiE1QmqE1AipEVIjpEZIjZAaITVCaoTUCKkRUiOkRkiNkBohNUJqhNQcswe8rm/ny3xESI2QGiE1QmqE1CwTMu7ZC36yzEeE1AipEVIjpEZIjZAaITVCaoTUCKkRUiOkRkiNkBohNUJqhNQIqRFSI6RGSI2QGiE1QmqE1AipEVIjpEZIjZAaITVCaoTUCKkRUiOkRkiNkBohNUJqhNQIqRFSI6RGSI2QGiE1QmqE1AipEVIjpEZIjZAaITUP22AC53CRrjsAAAAASUVORK5CYII=\" style=\"image-rendering: pixelated;\">\n",
              "            </div><div style=\"margin-right:10px; margin-top: 4px;\">\n",
              "              3 <br/>\n",
              "              <img src=\"data:image/PNG;base64,iVBORw0KGgoAAAANSUhEUgAAAMgAAACvCAAAAACdws6gAAAA70lEQVR4nO3R0QmAMBAFQSM2aQ22aWHWIASyhJn/g7fcuI89nKsHzCKkRkiNkBohNUJqhNQIqRFSI6RGSI2QGiE1QmqE1AipEVIjpEZIjZAaITVCaoTUCKkRUiOkRkiNkBohNUJqhNQIqRFSI6RGSI2QGiE1QmqE1AipEVIjpEZIjZAaITVCaoTUCKkRUiOkRkiNkBohNUJqhNQIqRFSI6RGSI2QGiE1QmqE1AipEVIjpEZIjZAaITVCaoTUCKkRUiOkRkjN9f/kmb9igm0+IqRGSI2QGiE1QmrGu3rBJNt8REiNkBohNUJqhNRsE/IBUF8C5+Y62h4AAAAASUVORK5CYII=\" style=\"image-rendering: pixelated;\">\n",
              "            </div><div style=\"margin-right:10px; margin-top: 4px;\">\n",
              "              4 <br/>\n",
              "              <img src=\"data:image/PNG;base64,iVBORw0KGgoAAAANSUhEUgAAAMgAAACvCAAAAACdws6gAAAA8ElEQVR4nO3RsQ2AMBAEQYxog1rphFppgcCIlTUTf3CrH/e2hv3vAbMIqRFSI6RGSI2QGiE1QmqE1AipEVIjpEZIjZAaITVCaoTUCKkRUiOkRkiNkBohNUJqhNQIqRFSI6RGSI2QGiE1QmqE1AipEVIjpEZIjZAaITVCaoTUCKkRUiOkRkiNkBohNUJqhNQIqTnenV3frphgmY8IqRFSI6RGSI2QmnH+vWCSZT4ipEZIjZAaITVCaoTUCKkRUiOkRkiNkBohNUJqhNQIqRFSI6RGSI2QGiE1QmqE1AipEVIjpEZIjZAaITVCaoTULBPyAFI/Apl8H2rFAAAAAElFTkSuQmCC\" style=\"image-rendering: pixelated;\">\n",
              "            </div><div style=\"margin-right:10px; margin-top: 4px;\">\n",
              "              5 <br/>\n",
              "              <img src=\"data:image/PNG;base64,iVBORw0KGgoAAAANSUhEUgAAAMgAAACvCAAAAACdws6gAAAA7UlEQVR4nO3dwQ2AMAwAMUAszYSsxbv/ilrVeYBEpwyQ8z0WeuaNuuaNWqsQTSGaQjSFaArRFKIpRFOIphBNIZpCNIVoCtEUoilEU4imEE0hmkI0hWgK0RSiKURTiKYQTSGaQjSFaArRFKIpRFOIphBNIZpCNIVoCtEUoilEU4imEE0hmkI0hWgK0RSiKURTiKYQTSGaQjSFaArRFKIpRFOIphBNIZpCNIVoCtFsE3L/vXDiX4jBNhcpRFOIphBNIZpCNIVoCtEUoilEU4imEE0hmkI0hWgK0RSiKURTiKYQTSGaQjSFaArRFKL5ALMsAxn0DR1tAAAAAElFTkSuQmCC\" style=\"image-rendering: pixelated;\">\n",
              "            </div><div style=\"margin-right:10px; margin-top: 4px;\">\n",
              "              6 <br/>\n",
              "              <img src=\"data:image/PNG;base64,iVBORw0KGgoAAAANSUhEUgAAAMgAAACvCAAAAACdws6gAAAA6klEQVR4nO3R0QmAMBAFQWMr9m8vdmQRCWQJM/8Hb7nxXFPeufN17t0DVhFSI6RGSI2QGiE1x4SMb/eCRY75iJAaITVCaoTUCKkRUiOkRkiNkBohNUJqhNQIqRFSI6RGSI2QGiE1QmqE1AipEVIjpEZIjZAaITVCaoTUCKkRUiOkRkiNkBohNUJqhNQIqRFSI6RGSI2QGiE1QmqE1AipEVIjpEZIjZAaITVCaoTUCKkRUiOkRkiNkBohNUJqhNQIqRFSI6RGSI2QGiE1QmqE1AipEVIjpEZIjZAaITVCaoTUCKkRUiOkRkjND+IuAv/HmHI0AAAAAElFTkSuQmCC\" style=\"image-rendering: pixelated;\">\n",
              "            </div><div style=\"margin-right:10px; margin-top: 4px;\">\n",
              "              7 <br/>\n",
              "              <img src=\"data:image/PNG;base64,iVBORw0KGgoAAAANSUhEUgAAAMgAAACvCAAAAACdws6gAAAA7UlEQVR4nO3RAQ2AMAwAQUZwg1F8YBQTAy7Ln4C2n457W8P+9wGzFKIpRFOIphBNIZplQo6vF14vzV3mI4VoCtEUoilEU4hmnH9fMMkyHylEU4imEE0hmkI0hWgK0RSiKURTiKYQTSGaQjSFaArRFKIpRFOIphBNIZpCNIVoCtEUoilEU4imEE0hmkI0hWgK0RSiKURTiKYQTSGaQjSFaArRFKIpRFOIphBNIZpCNIVoCtEUoilEU4imEE0hmkI0hWgK0RSiKURTiKYQTSGaQjSFaArRFKIpRFOIphBNIZpCNIVoCtEUoilEU4jmAanCArUZT8RRAAAAAElFTkSuQmCC\" style=\"image-rendering: pixelated;\">\n",
              "            </div><div style=\"margin-right:10px; margin-top: 4px;\">\n",
              "              8 <br/>\n",
              "              <img src=\"data:image/PNG;base64,iVBORw0KGgoAAAANSUhEUgAAAMgAAACvCAAAAACdws6gAAAA8ElEQVR4nO3RsQ2AMBAEQYxogMppgVJpgcCIlTUTf3CrH+e2hv3vAbMIqRFSI6RGSI2QGiE1QmqE1AipEVIjpEZIjZAaITVCaoTUCKkRUiOkRkiNkBohNUJqhNQIqRFSI6RGSI2QGiE1QmqE1AipEVIjpEZIjZAaITVCaoTUCKkRUiOk5nh3dn27YoJlPiKkRkiNkBohNUJqxv33gkmW+YiQGiE1QmqE1AipEVIjpEZIjZAaITVCaoTUCKkRUiOkRkiNkBohNUJqhNQIqRFSI6RGSI2QGiE1QmqE1AipEVIjpEZIjZAaITVCaoTULBPyAM5XAp/ThOUPAAAAAElFTkSuQmCC\" style=\"image-rendering: pixelated;\">\n",
              "            </div><div style=\"margin-right:10px; margin-top: 4px;\">\n",
              "              9 <br/>\n",
              "              <img src=\"data:image/PNG;base64,iVBORw0KGgoAAAANSUhEUgAAAMgAAACvCAAAAACdws6gAAAA8UlEQVR4nO3WsQmAUAxAQZW/nhu4/xyOoIXgEd7VKfJIk/3aZjj+XuArhWgK0RSiKURTiKYQTSGaQjSFaArRFKIZE7L+XuDZ+WpqzEUK0RSiKURTiKYQzZiQ9e4l8425SCGaQjSFaArRFKIpRFOIphBNIZpCNIVoCtEUoilEU4imEE0hmkI0hWgK0RSiKURTiKYQTSGaQjSFaArRFKIpRFOIphBNIZpCNIVoCtEUoilEU4imEE0hmkI0hWgK0RSiKURTiKYQTSGaQjSFaArRFKIpRFOIphBNIZpCNIVoCtEUoilEU4imEE0hmkI0hWjGhNw8eAJY1Ndb+gAAAABJRU5ErkJggg==\" style=\"image-rendering: pixelated;\">\n",
              "            </div></div>"
            ],
            "text/plain": [
              "<IPython.core.display.HTML object>"
            ]
          },
          "metadata": {
            "tags": []
          }
        },
        {
          "output_type": "stream",
          "text": [
            "Color channels (vertical stripes are 'apples'\n"
          ],
          "name": "stdout"
        },
        {
          "output_type": "display_data",
          "data": {
            "text/html": [
              "<div style=\"display: flex; flex-direction: row;\"><div style=\"margin-right:10px; margin-top: 4px;\">\n",
              "              0 <br/>\n",
              "              <img src=\"data:image/PNG;base64,iVBORw0KGgoAAAANSUhEUgAAAMgAAACvCAIAAAA3ywYrAAACn0lEQVR4nO3dwWkVYRRAYSNvmQbSk9iB6zQQsAbBBgR3diDWoiWkgRTg1oXgLO6Z3JHvW4f/zcBhNpeb/+7rr59vDvjw8vGff/Pt/pOjjpwze9TUzx108KneTv0e/ElYJIRFQlgkhEVCWCSERUJYJIRFQlgkhEVCWCRu5w9NBweiR5z8gjvH5wcNPpUvFglhkRAWCWGREBYJYZEQFglhkRAWCWGREBaJ287Z1uA88fyJ23UNToR9sUgIi4SwSAiLhLBICIuEsEgIi4SwSAiLhLBICIvE0oXVSx91XRZW2U5YJIRFQlgkhEVCWCSERUJYJIRFQlgkhEXiNnjWztXQnTes7mRhle2ERUJYJIRFQlgkhEVCWCSERUJYJIRFQlgkhEVicgi9czV0572vO1lYZTthkRAWCWGREBYJYZEQFglhkRAWCWGREBaJa9+wuvOoI3buvlpYZTthkRAWCWGREBYJYZEQFglhkRAWCWGREBYJYZFYurA66OQ12p3j84MsrLKdsEgIi4SwSAiLhLBICIuEsEgIi4SwSAiLxLVvWB0cOy689/X8fxZsYZXthEVCWCSERUJYJIRFQlgkhEVCWCSERUJYJG6XHkgdcd2nOv9uTnuFbCcsEsIiISwSwiIhLBLCIiEsEsIiISwSwiIhLBKTN6zutPMFT555n7/Z64tFQlgkhEVCWCSERUJYJIRFQlgkhEVCWCSEReIVFlZP9t+/4CALq2wnLBLCIiEsEsIiISwSwiIhLBLCIiEsEsIiISwSd6/9AH/3/eFh6qj3z89TRw16N3jWl89TJ/14fJo6yheLhLBICIuEsEgIi4SwSAiLhLBICIuEsEgIi4SwSAiLhLBICIuEsEgIi4SwSAiLhLBICIuEsEgIi4SwSPwG/hjENMMlbG4AAAAASUVORK5CYII=\" style=\"image-rendering: pixelated;\">\n",
              "            </div><div style=\"margin-right:10px; margin-top: 4px;\">\n",
              "              1 <br/>\n",
              "              <img src=\"data:image/PNG;base64,iVBORw0KGgoAAAANSUhEUgAAAMgAAACvCAIAAAA3ywYrAAACfklEQVR4nO3dsU0DQRBAUYycUoCLIKITEhdCA7gAGqADUlohow0aoAQOaT+3a96LrZGDr01Gozuc7h5vNjjfn3/8zdvHm1Fb5vyHUbdbfgS/JSwSwiIhLBLCIiEsEsIiISwSwiIhLBLCIiEsEselN50bF8yjTLjznnaUF4uEsEgIi4SwSAiLhLBICIuEsEgIi4SwSAiLxHHphdTAUVusuzB1sMqVEBYJYZEQFglhkRAWCWGREBYJYZEQFglhkRAWies/WP3jUUtv4h2sMjthkRAWCWGREBYJYZEQFglhkRAWCWGREBaJgy+sjh217pZz7CgvFglhkRAWCWGREBYJYZEQFglhkRAWCWGREBYJYZGY9GB1IAeru4zyYpEQFglhkRAWCWGREBYJYZEQFglhkRAWCWGRWPsLq1s4WN1llBeLhLBICIuEsEgIi4SwSAiLhLBICIuEsEgIi4SwSEx6sLruqKWX+g5WmZ2wSAiLhLBICIuEsEgIi4SwSAiLhLBICIvE9X9hdaNRJ7LrbjnHjvJikRAWCWGREBYJYZEQFglhkRAWCWGREBYJYZFwV7iPdXev7grZk7BICIuEsEgIi4SwSAiLhLBICIuEsEgIi4SwSKz9hdU5F8yjLL3U92KREBYJYZEQFglhkRAWCWGREBYJYZEQFglhkTgOnLX0bmuLgVvOgeZc43qxSAiLhLBICIuEsEgIi4SwSAiLhLBICIuEsEgIi8Rh7z+QO72fRo16fn0aNerl4WvUqM/LZdSogbxYJIRFQlgkhEVCWCSERUJYJIRFQlgkhEVCWCSERUJYJIRFQlgkhEVCWCSERUJYJIRFQlgkhEVCWCSEReIbra4CUBmP7GgAAAAASUVORK5CYII=\" style=\"image-rendering: pixelated;\">\n",
              "            </div><div style=\"margin-right:10px; margin-top: 4px;\">\n",
              "              2 <br/>\n",
              "              <img src=\"data:image/PNG;base64,iVBORw0KGgoAAAANSUhEUgAAAMgAAACvCAIAAAA3ywYrAAACl0lEQVR4nO3dsY0UQRBA0Vu0JglcHMSxkAUuJjFggn1JQBpnAyFcAgRAAkg0Un2uG96zR6XR6qudUu9cHm8Pdwtefvj822d+vH9j1Mqc/2HUi5WH4E8Ji4SwSAiLhLBICIuEsEgIi4SwSAiLhLBICIvE5fu328pze246Nxx17vp8dpQTi4SwSAiLhLBICIuEsEgIi4SwSAiLhLBICIvE9eiF1Iajzt1yzo5yYpEQFglhkRAWCWGREBYJYZEQFglhkRAWCWGREBYJF1aHR527Pp8d5cQiISwSwiIhLBLCIiEsEsIiISwSwiIhLBLCIuHC6vCoc7ecs6OcWCSERUJYJIRFQlgkhEVCWCSERUJYJIRFQlgkhEXChdXhUeeuz2dHObFICIuEsEgIi4SwSAiLhLBICIuEsEgIi4SwSFwebw8rzy1u3KacuyYb/KEW33yFC6v8I4RFQlgkhEVCWCSERUJYJIRFQlgkhEVCWCSEReI6OOvopemGF1YXbbiJv3NiEREWCWGREBYJYZEQFglhkRAWCWGREBYJYZGY3BUu2nO35Qurs6OcWCSERUJYJIRFQlgkhEVCWCSERUJYJIRFQlgkNv0Q5qK//E+yG64mtx3lxCIhLBLCIiEsEsIiISwSwiIhLBLCIiEsEsIiISwS16M3nStcWH2WUU4sEsIiISwSwiIhLBLCIiEsEsIiISwSwiIhLBKbXlg9d9TRu1cXVtmdsEgIi4SwSAiLhLBICIuEsEgIi4SwSAiLhLBIXJ77BX7ty/391KhPbz9Ojfr66t3UqKfXT1Oj9uTEIiEsEsIiISwSwiIhLBLCIiEsEsIiISwSwiIhLBLCIiEsEsIiISwSwiIhLBLCIiEsEsIiISwSwiIhLBI/ASO9FejtPhdxAAAAAElFTkSuQmCC\" style=\"image-rendering: pixelated;\">\n",
              "            </div><div style=\"margin-right:10px; margin-top: 4px;\">\n",
              "              3 <br/>\n",
              "              <img src=\"data:image/PNG;base64,iVBORw0KGgoAAAANSUhEUgAAAMgAAACvCAIAAAA3ywYrAAACfUlEQVR4nO3dsU0DQRBAURvRhOsgpgNEG5SBXAZlQAtUQkQNRFAChzTf3MJ78Wmir01Gozt+vD0fNnh9PH77ze3506gtc/7DqKstH8FPCYuEsEgIi4SwSAiLhLBICIuEsEgIi4SwSAiLxPXSm84djlp3fT47yotFQlgkhEVCWCSERUJYJIRFQlgkhEVCWCSEReJ4+YPVQTtck6275Zwd5cUiISwSwiIhLBLCIiEsEsIiISwSwiIhLBLCIiEsEr9wsDpoh/vXpa9MHayyd8IiISwSwiIhLBLCIiEsEsIiISwSwiIhLBK/cLD6t0ctfWXqYJW9ExYJYZEQFglhkRAWCWGREBYJYZEQFglhkRAWCX9YHR617vp8dpQXi4SwSAiLhLBICIuEsEgIi4SwSAiLhLBICIuEg9XhUetuOWdHebFICIuEsEgIi4SwSAiLhLBICIuEsEgIi4SwSAiLhIPV4VHrrs9nR3mxSAiLhLBICIuEsEgIi4SwSAiLhLBICIuEsEg4WB0ete6Wc3aUF4uEsEgIi4SwSAiLhLBICIuEsEgIi4SwSAiLhLvC4VHrbjlnR3mxSAiLhLBICIuEsEgIi4SwSAiLhLBICIuEsEgIi4SD1eFR667PZ0d5sUgIi4SwSAiLhLBICIuEsEgIi4SwSAiLhLBIOFgdHrXulnN2lBeLhLBICIuEsEgIi4SwSAiLhLBICIuEsEgIi4SwSGxa0F7e6eU0NerpYWrS4f79fWrU3dSgw+HmcdNWeIvzeawHLxYJYZEQFglhkRAWCWGREBYJYZEQFglhkRAWCWGREBYJYZEQFglhkRAWCWGREBYJYZEQFglhkRAWCWGR+AKkECdHaP35awAAAABJRU5ErkJggg==\" style=\"image-rendering: pixelated;\">\n",
              "            </div><div style=\"margin-right:10px; margin-top: 4px;\">\n",
              "              4 <br/>\n",
              "              <img src=\"data:image/PNG;base64,iVBORw0KGgoAAAANSUhEUgAAAMgAAACvCAIAAAA3ywYrAAAChElEQVR4nO3dsUkFQRRA0f/FEoy0HjMRi9A+LMAG1CbMrcPEArQAGzD4BTjC3O+snBMvj124TDI8dn92f74bcPP8+uMzL3eXRo3MGTT45iMG32riB56MPAS/JSwSwiIhLBLCIiEsEsIiISwSwiIhLBLCIiEsEqfHv57836Mm3nkPWvAmfufEIiIsEsIiISwSwiIhLBLCIiEsEsIiISwSwiKxt7A6d5SF1QMnFglhkRAWCWGREBYJYZEQFglhkRAWCWGREBYJYZGwsDp5lIXVAycWCWGREBYJYZEQFglhkRAWCWGREBYJYZEQFgkLq5NHbfeWc+4oJxYJYZEQFglhkRAWCWGREBYJYZEQFglhkRAWCWGR2N9evI08t+ZN54Kjtnt9PneUE4uEsEgIi4SwSAiLhLBICIuEsEgIi4SwSAiLhIXVyfxh9cCJRUJYJIRFQlgkhEVCWCSERUJYJIRFQlgkhEVCWCT8YXUyf1g9cGKREBYJYZEQFglhkRAWCWGREBYJYZEQFglhkVh0YXXQkVc617zlXHOUE4uEsEgIi4SwSAiLhLBICIuEsEgIi4SwSAiLxLb3Ckf4EeafjHJikRAWCWGREBYJYZEQFglhkRAWCWGREBYJYZEQFolFF1a3O2rTl/oWVlmdsEgIi4SwSAiLhLBICIuEsEgIi4SwSAiLxLYXVo88ak0LXpjunFhEhEVCWCSERUJYJIRFQlgkhEVCWCSERUJYJIRFYv/XL5C7enyYNer942vWqIenp1mjrj8/Z42ayIlFQlgkhEVCWCSERUJYJIRFQlgkhEVCWCSERUJYJIRFQlgkhEVCWCSERUJYJIRFQlgkhEVCWCSERUJYJL4BRcgHrkFZCtYAAAAASUVORK5CYII=\" style=\"image-rendering: pixelated;\">\n",
              "            </div><div style=\"margin-right:10px; margin-top: 4px;\">\n",
              "              5 <br/>\n",
              "              <img src=\"data:image/PNG;base64,iVBORw0KGgoAAAANSUhEUgAAAMgAAACvCAIAAAA3ywYrAAACmElEQVR4nO3dwWlbURBAUSnIuzTgnoyrcJIGAqnBELI3uAzX4gKycQMuICX4Beb+6IVz1mKkxWU2w0Pn37/OpwXvPx4+/Mznx+crHLVo8Rs/tPiTVr5u61GfVj4Ef0tYJIRFQlgkhEVCWCSERUJYJIRFQlgkhEVCWCQug+fJQccfTVfse4k/fpSNRUJYJIRFQlgkhEVCWCSERUJYJIRFQlgkhEXicvwVacW+Z7KtX5l6sMq1ExYJYZEQFglhkRAWCWGREBYJYZEQFglhkRAWifPrzZeVz13npfMKR+17Pp8dZWOREBYJYZEQFglhkRAWCWGREBYJYZEQFglhkTj/9/+w6sHqPxllY5EQFglhkRAWCWGREBYJYZEQFglhkRAWCWGREBYJD1aHR+17Pp8dZWOREBYJYZEQFglhkRAWCWGREBYJYZEQFglhkfBgdXjUvlfO2VE2FglhkRAWCWGREBYJYZEQFglhkRAWCWGREBYJYZHwYHV41L7n89lRNhYJYZEQFglhkRAWCWGREBYJYZEQFglhkRAWCQ9Wh0fte+WcHWVjkRAWCWGREBYJYZEQFglhkRAWCWGREBYJYZHwrnB41L5XztlRNhYJYZEQFglhkRAWCWGREBYJYZEQFglhkRAWCWGRuCzeFA+27/113/P57Cgbi4SwSAiLhLBICIuEsEgIi4SwSAiLhLBICIvEZfH0c7B9z2T7XjlnR9lYJIRFQlgkhEVCWCSERUJYJIRFQlgkhEVCWCSERWLp71WPd/f0c2rUy7fvU6PupgadTl9vb6dG3b+9TY0aZGOREBYJYZEQFglhkRAWCWGREBYJYZEQFglhkRAWCWGREBYJYZEQFglhkRAWCWGREBYJYZEQFglhkRAWiT+JixQxbYzuewAAAABJRU5ErkJggg==\" style=\"image-rendering: pixelated;\">\n",
              "            </div><div style=\"margin-right:10px; margin-top: 4px;\">\n",
              "              6 <br/>\n",
              "              <img src=\"data:image/PNG;base64,iVBORw0KGgoAAAANSUhEUgAAAMgAAACvCAIAAAA3ywYrAAACnklEQVR4nO3dsWkcURRA0ZUZ3IPqcSqcuwLlxuAmjHK1YZy6E+fqQZFL8Bj+Hb0vzomXt7Nw+cnnzd79+fL9dsLXTx//+Zmn36+rRp108hvPWPUDT/66dz/qw5kPwf8SFglhkRAWCWGREBYJYZEQFglhkRAWCWGREBaJY+ubzjMufqqFN/Fbj3JikRAWCWGREBYJYZEQFglhkRAWCWGREBYJYZE4tr6QGjhq67tXC6tMJywSwiIhLBLCIiEsEsIiISwSwiIhLBLCIiEsEnsvrA4cte/1+dpRTiwSwiIhLBLCIiEsEsIiISwSwiIhLBLCIiEsEkMXVmcaeDU5dpQTi4SwSAiLhLBICIuEsEgIi4SwSAiLhLBICIuEsEgcC2fN/IfVhWauhs4c5cQiISwSwiIhLBLCIiEsEsIiISwSwiIhLBLCIrHyrnDru62LbydnbplaWGU6YZEQFglhkRAWCWGREBYJYZEQFglhkRAWCWGRGLqwutC7X6NdyMIq0wmLhLBICIuEsEgIi4SwSAiLhLBICIuEsEjsvbB6xsVPtfA+8eJL1ZPfaGGVtyQsEsIiISwSwiIhLBLCIiEsEsIiISwSwiJxbP0G1YGjrn+X7syXBTuxSAiLhLBICIuEsEgIi4SwSAiLhLBICIuEsEgIi8Qx879M9x217/X52lFOLBLCIiEsEsIiISwSwiIhLBLCIiEsEsIiISwSQxdWF9p3YXXrUU4sEsIiISwSwiIhLBLCIiEsEsIiISwSwiIhLBLCInH31g+Q+3l/v2rU55eXVaMeVg263W7PP1ZN+vX4bdUoJxYJYZEQFglhkRAWCWGREBYJYZEQFglhkRAWCWGREBYJYZEQFglhkRAWCWGREBYJYZEQFglhkRAWCWGR+Asf0/JQyPFTiAAAAABJRU5ErkJggg==\" style=\"image-rendering: pixelated;\">\n",
              "            </div><div style=\"margin-right:10px; margin-top: 4px;\">\n",
              "              7 <br/>\n",
              "              <img src=\"data:image/PNG;base64,iVBORw0KGgoAAAANSUhEUgAAAMgAAACvCAIAAAA3ywYrAAACoUlEQVR4nO3dsW0UQBBA0Tt0AaIFiqEBCxG7ADogRHIOLsBdENASchs0gMQi7d/bFe/Fp7kLvjYZjX39+vjuMuDbr09//cyX9z9mjRo0+I0jZv2q9T9p5BvXj3oz8iH4V8IiISwSwiIhLBLCIiEsEsIiISwSwiIhLBLCInE7etN5rsVL/fWjvFgkhEVCWCSERUJYJIRFQlgkhEVCWCSERUJYJG4TZx292xqx58J0z1FeLBLCIiEsEsIiISwSwiIhLBLCIiEsEsIiISwSwiIxcwm959J0oj3X53uO8mKREBYJYZEQFglhkRAWCWGREBYJYZEQFglhkbit/7eoIxysnj7Ki0VCWCSERUJYJIRFQlgkhEVCWCSERUJYJIRFQlgk7vAfVkecu39dfEN7cbDKf0VYJIRFQlgkhEVCWCSERUJYJIRFQlgkhEVi5sHquVeml3m/as8/yzvIwSq7ExYJYZEQFglhkRAWCWGREBYJYZEQFglhkRAWiTscrC6+fR20+GB18ahBDlbZnbBICIuEsEgIi4SwSAiLhLBICIuEsEgIi8TZB6sbjjp69+pgld0Ji4SwSAiLhLBICIuEsEgIi4SwSAiLhLBIXN9+eBz53J4LqQ1HnbvlnDvKi0VCWCSERUJYJIRFQlgkhEVCWCSERUJYJIRFQlgkHKxOHnXu+nzuKC8WCWGREBYJYZEQFglhkRAWCWGREBYJYZEQFgkHq5NHnbvlnDvKi0VCWCSERUJYJIRFQlgkhEVCWCSERUJYJIRFQlgkrvf+AX/2MG/Uz3mjJnp4+T5r1Oen51mjPr6+zhrlxSIhLBLCIiEsEsIiISwSwiIhLBLCIiEsEsIiISwSwiIhLBLCIiEsEsIiISwSwiIhLBLCIiEsEsIiISwSvwGBdfkQQ9Ua6gAAAABJRU5ErkJggg==\" style=\"image-rendering: pixelated;\">\n",
              "            </div><div style=\"margin-right:10px; margin-top: 4px;\">\n",
              "              8 <br/>\n",
              "              <img src=\"data:image/PNG;base64,iVBORw0KGgoAAAANSUhEUgAAAMgAAACvCAIAAAA3ywYrAAACj0lEQVR4nO3dMUpkURBA0W6Z1AUYuhtXMFsQwUwTM2PjgQEDFyEGLs8l+IW67X96TtwUHVwqKV738fLl4bDBzfu/Tz/z/+p2y6hBg99qatSWOb9h1NmWD8FXCYuEsEgIi4SwSAiLhLBICIuEsEgIi4SwSAiLxPHp7/mWzw2eJwft8P564pv3bkfZWCSERUJYJIRFQlgkhEVCWCSERUJYJIRFQlgk/gzOWvq2deIHq4N2eDA92FhEhEVCWCSERUJYJIRFQlgkhEVCWCSERUJYJIRFYvIIvfSv/O7wwepGO7zEH2wsIsIiISwSwiIhLBLCIiEsEsIiISwSwiIhLBLH0//D6s8ete6Vc3aUjUVCWCSERUJYJIRFQlgkhEVCWCSERUJYJIRFQlgkvuEfVn/2qHXP57OjbCwSwiIhLBLCIiEsEsIiISwSwiIhLBLCIiEsEh6sDo9a98o5O8rGIiEsEsIiISwSwiIhLBLCIiEsEsIiISwSwiIhLBIerA6PWvd8PjvKxiIhLBLCIiEsEsIiISwSwiIhLBLCIiEsEsIi4cHq8Kh1r5yzo2wsEsIiISwSwiIhLBLCIiEsEsIiISwSwiIhLBLeFQ6PWvfKOTvKxiIhLBLCIiEsEsIiISwSwiIhLBLCIiEsEsIiISwSHqwOj1r3fD47ysYiISwSwiIhLBLCIiEsEsIiISwSwiIhLBLCIuHB6vCoda+cs6NsLBLCIiEsEsIiISwSwiIhLBLCIiEsEsIiISwSwiJx/O4vkHu9uJga9fx4NzXqcH0/NeltatAoG4uEsEgIi4SwSAiLhLBICIuEsEgIi4SwSAiLhLBICIuEsEgIi4SwSAiLhLBICIuEsEgIi4SwSAiLhLBIfABeeRDVUIDWYwAAAABJRU5ErkJggg==\" style=\"image-rendering: pixelated;\">\n",
              "            </div><div style=\"margin-right:10px; margin-top: 4px;\">\n",
              "              9 <br/>\n",
              "              <img src=\"data:image/PNG;base64,iVBORw0KGgoAAAANSUhEUgAAAMgAAACvCAIAAAA3ywYrAAACkUlEQVR4nO3dsU1cURBA0V2LBggpwh1QAAENUIELgIzEiZsgpQNECfRBCbTgEvyR5uL3xDnxarTB1SSjp3/++Xx3OuDP9cc/f/P4dmnUkTnfYdSPIz+CzxIWCWGREBYJYZEQFglhkRAWCWGREBYJYZEQFonzy/vNkd+teelccNS+5/PZUTYWCWGREBYJYZEQFglhkRAWCWGREBYJYZEQFomLrQ9SC47a98o5O8rGIiEsEsIiISwSwiIhLBLCIiEsEsIiISwSwiIhLBIerA6P2vd8PjvKxiIhLBLCIiEsEsIiISwSwiIhLBLCIiEsEsIicR78wuqgfc9k+145Z0fZWCSERUJYJIRFQlgkhEVCWCSERUJYJIRFQlgkhEVi8sHq1xs8jXuwOjvKxiIhLBLCIiEsEsIiISwSwiIhLBLCIiEsEsIisfcXVr/Ymk9D1xxlY5EQFglhkRAWCWGREBYJYZEQFglhkRAWCWGREBaJi60vnYOjjljzEr/mKBuLhLBICIuEsEgIi4SwSAiLhLBICIuEsEgIi8TeD1YXHLX1wdSDVVYnLBLCIiEsEsIiISwSwiIhLBLCIiEsEsIiMfkhzK1vWz6EOTvKxiIhLBLCIiEsEsIiISwSwiIhLBLCIiEsEsIiISwSHqwOj9r3fD47ysYiISwSwiIhLBLCIiEsEsIiISwSwiIhLBLCIuHB6idGHTH43c19D6YnG4uIsEgIi4SwSAiLhLBICIuEsEgIi4SwSAiLhLBInP/3H8i9XF1NjXr6fT816vXXw9So26lBp9Pr3Cgbi4SwSAiLhLBICIuEsEgIi4SwSAiLhLBICIuEsEgIi4SwSAiLhLBICIuEsEgIi4SwSAiLhLBICIuEsEj8BVjgFO9jZUZ1AAAAAElFTkSuQmCC\" style=\"image-rendering: pixelated;\">\n",
              "            </div></div>"
            ],
            "text/plain": [
              "<IPython.core.display.HTML object>"
            ]
          },
          "metadata": {
            "tags": []
          }
        },
        {
          "output_type": "stream",
          "text": [
            "Visualization\n"
          ],
          "name": "stdout"
        },
        {
          "output_type": "display_data",
          "data": {
            "text/html": [
              "<div style=\"display: flex; flex-direction: row;\"><div style=\"margin-right:10px; margin-top: 4px;\">\n",
              "              0 <br/>\n",
              "              <img src=\"data:image/PNG;base64,iVBORw0KGgoAAAANSUhEUgAAAMgAAACrCAIAAACsWkQ9AAAE7UlEQVR4nO3dzW4bZRyF8f/YYzsTJ3GcqCwazFeDKFVU1BUVSEhVV1wAC66Ca+BWWHeDxK6CCmXRRkKqgLaA2kgpNHJFTG0Su2OPxza3cGZxVjy/9dGMVT2dTUbvJF90tkJzmCTiMiLevBiLy+NWS1zut3bE5eP8TFxGxGpeisvG2pq4vJks9B9wpN4/em9tiMs/jkfi8stP9tTbR3xz+Fxc1vSLAjrCggVhwYKwYEFYsCAsWBAWLAgLFoQFC8KCBWHBgrBgQViwSP++dSBOX337QL/u6GpbXHZ/vxCX+aeXxWV5dyYuIyLrZeKyeJGLy0cbTf0HzAr19YazyVRc1lfq3e+cVngTRMcTCxaEBQvCggVhwYKwYEFYsCAsWBAWLAgLFoQFC8KCBWHBgrBgQViwSD7Y2RSn/UmhX3daqOOafNLG5ob632B0Lp+zEZEt1HG+lK+5kqcRq1R9b2e7q57LMhqpP2BDfb8pIqI/VF8c4okFC8KCBWHBgrBgQViwICxYEBYsCAsWhAULwoIFYcGCsGBBWLBIn85fi9NaIR80EXHls564HPz4p3rRVP04ymJW4UWM5sGuuCwfDcTluX77iKxUXxkYzOvispAPGolGhfNLdDyxYEFYsCAsWBAWLAgLFoQFC8KCBWHBgrBgQViwICxYEBYsCAsWSZKoxwHUaxUqfLup/h3+r0I9ZaAuH7IwTxviMiKaof6AMlX/BTaX6oEUETEsx+p0qb5gkjXU8yA+v9ZR7x5x5+eX4pInFiwICxaEBQvCggVhwYKwYEFYsCAsWBAWLAgLFoQFC8KCBWHBIv2wpx6y8OzFqX7dzu0r4vLsu9/E5Xp3R1zmo1fiMiKyjy+Jy+mDM3G5caOr/4DawwtxObqtnl7RvTcXlz/01btXwhMLFoQFC8KCBWHBgrBgQViwICxYEBYsCAsWhAULwoIFYcGCsGCRXNvaF6eDWl+/7mg8FZfzRI27taYui3whLiOiW1dPr5gk6oEUq7TCD0hW6rch3lio7yyM5IM2ukWFr3g8L9VzLnhiwYKwYEFYsCAsWBAWLAgLFoQFC8KCBWHBgrBgQViwICxYEBYsCAsW6fZH6lc0+ocT/br7t94Rl6f3TsRl2la/I7Iq1Y+jRETea6vTk9ficL2tnt4REfk/6mWHN3bF5fThQFwWjQqfhwn58zA8sWBBWLAgLFgQFiwICxaEBQvCggVhwYKwYEFYsCAsWBAWLAgLFumlJ+pnPO7L50xERPOZetlpqv51fd6ZicvaWD1mIyLefametPG0ph4KsrNX4ZWByb/qCSL5L0Nx2coycXnz+nviMiK+P3osLnliwYKwYEFYsCAsWBAWLAgLFoQFC8KCBWHBgrBgQViwICxYEBYs0u2vrovTg6+P9OsO1S+eRLJUD49ot9R3Fhbyp0Ei4nxTfRGgNs3FZdJS34OIiNVCfbthb1c9u2E8UN8u+eniWFxWwhMLFoQFC8KCBWHBgrBgQViwICxYEBYsCAsWhAULwoIFYcGCsGCRtLOOOq1f1q8rvwcQ6011OpurryEktRP19hFlqX5tIWu9Ly6XK3UZEbPiV3HZbtwVl9PFvrhcxpa4jIh5qR4ewRMLFoQFC8KCBWHBgrBgQViwICxYEBYsCAsWhAULwoIFYcGCsGBBWAAAAAAAAAAAAAAAAPgf+g8mZ+UNLdgRgQAAAABJRU5ErkJggg==\" style=\"image-rendering: pixelated;\">\n",
              "            </div><div style=\"margin-right:10px; margin-top: 4px;\">\n",
              "              1 <br/>\n",
              "              <img src=\"data:image/PNG;base64,iVBORw0KGgoAAAANSUhEUgAAAMgAAACrCAIAAACsWkQ9AAAEsElEQVR4nO3dTY4bVRSG4VNVt7r80+2QEBABpEhMEBJ7yISFZEnZCGLMiFUwQpECBAkkHHecrrLr97KFrwafMuB9xkfV5fZrT3x0q/j+m8ehef22FScjolgmcXKoanHycaP+9VM3q6MRdUri5DSpL+qTW/VFRcSxHcXJYlFfV7ndi5PPmhX/qz+OF/UG9IsCOsKCBWHBgrBgQViwICxYEBYsCAsWhAULwoIFYcGCsGBBWLBIf/eVONqX6o/wEfF0dydOHrsP4uRwUT8GObI4GRGbaREnz6FOdsOKGwh5Z+HpE3UV5d35Xpy8r9U9iFX4xoIFYcGCsGBBWLAgLFgQFiwICxaEBQvCggVhwYKwYEFYsCAsWBAWLIr9F1txtDqpSyMRUZTq8GVUN0yWrE6WRSFORsRyUC+b36vXbA4rPrHTWf1fbXfy+SVZPZWka1ec9ZL1t0C/KKAjLFgQFiwICxaEBQvCggVhwYKwYEFYsCAsWBAWLAgLFoQFi7SVT9o4L71+3TKrZ40U8nNE5krdWcjTijM59oO633HNV3Gy6lc88mTJ6n/g2qvHhwyj+mZVsWITRL1RvrFgQliwICxYEBYsCAsWhAULwoIFYcGCsGBBWLAgLFgQFiwICxapP6gPMsntmp/Bd+rv8HlWzyPYbtWVgb4bxMmIGCr1PzCU6spG2qgvPyLmSX1ddaNubaSkPsjky2bFrf5+Uvc7+MaCBWHBgrBgQViwICxYEBYsCAsWhAULwoIFYcGCsGBBWLAgLFik/XUnjk76gxkiplZONqvPZbi26k/rac2TKcpB3lnI6h5E2Tf6DVSzfM5CdSdO5vaDOHm/O4iTERHBdgM+KsKCBWHBgrBgQViwICxYEBYsCAsWhAULwoIFYcGCsGBBWLAoiu/U0fo39ZCFiJjkwwuKq7pcUG3UkwumccWtPu/Vgx7eJnkPYsVyQ4yj/PHeq4+GqOTHbeRrp/71iGFW3wK+sWBBWLAgLFgQFiwICxaEBQvCggVhwYKwYEFYsCAsWBAWLAgLFoQFi+L5s0/F0dO7e/263aTuV6w4v6NQPwbFoh40EhE3lbzjMqqnd1y3K/Z20kXd20mN/NCXSX6QyaK+UxExysN8Y8GCsGBBWLAgLFgQFiwICxaEBQvCggVhwYKwYEFYsCAsWBAWLNKLl1+Loz++avXrbg7qfkF3UeOuD+ov9tNxxSNPPk/qfsefw1/i5O2TjX4DD/+oKwPzLG9t3Kg38FUt70FEvHmv7nfwjQULwoIFYcGCsGBBWLAgLFgQFiwICxaEBQvCggVhwYKwYEFYsEj/xq04+sOg/rIdEb8UN+LkflZPLshneQ8irzi7IU1HcbKq1RtoTqN+AyGfs9Ac7tRr9uoqyimveTxLsN2Aj4qwYEFYsCAsWBAWLAgLFoQFC8KCBWHBgrBgQViwICxYEBYsUv5J/cH85+1Bv+7Qqj/vp0bdg5iHR+JklR7EyYhI+2/VG+h+FSdP3UW/gbpUP97ns/q60kbdWVgePhMnIyJCXZrgGwsWhAULwoIFYcGCsGBBWLAgLFgQFiwICxaEBQvCggVhwYKwYEFYAAAAAAAAAAAAAAAA+B/6D8KA81C7/stWAAAAAElFTkSuQmCC\" style=\"image-rendering: pixelated;\">\n",
              "            </div><div style=\"margin-right:10px; margin-top: 4px;\">\n",
              "              2 <br/>\n",
              "              <img src=\"data:image/PNG;base64,iVBORw0KGgoAAAANSUhEUgAAAMgAAACrCAIAAACsWkQ9AAAExElEQVR4nO3dzW4bZRiG4ecbz9iOE4fEaVKo2IAolWDRLeqmPQjOgUNgiTgPzoIVQmLZfSX+JP7VqMQtSXDipo7tsTmFZxbPivtavxpNRndm40/vlE/l+qbfs2d1Z7kxJ59X7jXf32zNyV+Le01J992r6vfavdcHa/fPl/ST/QQO7ateFvcR3N/af7/0sz1p/01AF4SFCMJCBGEhgrAQQViIICxEEBYiCAsRhIUIwkIEYSGCsBBR//bo0By9fXrpX/f1wY45ufn3jTl5ttd3rzlfmpOSzvYH5uT66ta95rH750tqX7lPoNhPtbGf6vnbQ3NSks4W5iBvLEQQFiIICxGEhQjCQgRhIYKwEEFYiCAsRBAWIggLEYSFCMJCBGEhojT26P7In1VzszInZ/aukcGyNScXXfaXtPb+krrnbtrYbzssBbm273Zk3+pi4F7z5nZtTkry/yreWIggLEQQFiIICxGEhQjCQgRhIYKwEEFYiCAsRBAWIggLEYSFiPrDjybm6PMfOywFqe7YWzH+cddX1PY1q3N3d4Wkw3vuZa9e3JiT/XfH/g3Up9fuqL1r5PaV+wR69pENSZvW/T4KbyxEEBYiCAsRhIUIwkIEYSGCsBBBWIggLEQQFiIICxGEhQjCQkTpF7etuulQ4US1OXm6dH+H36ncfQSr4v4IL6m3dX/eX1Xu7oJh2+HIQCv3bk/G7udJXszdp/p40+FZfWdP8sZCBGEhgrAQQViIICxEEBYiCAsRhIUIwkIEYSGCsBBBWIggLETUuyP3GMJq7X4YQtKsuD/vu7/XSxq7/wb9mftdDEl7d92FCLOpu2bi5L09/wZmf87NyX5zZE6ONqfm5PThyJyUpGfu9greWIggLEQQFiIICxGEhQjCQgRhIYKwEEFYiCAsRBAWIggLEYSFiHKvck83THvu5gJJg7U7uRq45yC2C/d4xbbL1xZ27K8tLGp7z8W6w0KE1l6Ksbt1D2LcFPt7H6sOh1bcsw28sRBCWIggLEQQFiIICxGEhQjCQgRhIYKwEEFYiCAsRBAWIggLEYSFiPrwgwNz9PUvF/51FwM32bJwT9gM99zDMO28w6mV4V13L8l66n5HZDTpsOtkceFedvPW0pysZ+5hmKV9FkiS1u7RKd5YiCAsRBAWIggLEYSFCMJCBGEhgrAQQViIICxEEBYiCAsRhIWI8pU9+vlRh29jXJ67SylK455ZqNUzJ9tNh0UXtb3rpHX3p6hZdVig4p8vOLJ3jVzYi0aedFkK8q09yRsLEYSFCMJCBGEhgrAQQViIICxEEBYiCAsRhIUIwkIEYSGCsBBRttsvzdHPyhf+db8eNObk0j4IMHhn15yc/+1/m0MPPjkyJ/94OjUnJx9P/Bu4+sFdinF10jcnxy/dLQ/HD93PqEj6/pl7aIU3FiIICxGEhQjCQgRhIYKwEEFYiCAsRBAWIggLEYSFCMJCBGEhouwPj93Zxv1lW9L19YE5Wdfn5mTbussjqt6lOSmptRciVJW7ZqIqJ/4NqLw0B1t7zUK/OTAnV6uxe1Gp3f5lTvLGQgRhIYKwEEFYiCAsRBAWIggLEYSFCMJCBGEhgrAQQViIICxEEBYAAAAAAAAAAAAAAAD+h/4Dp2PVuueiLk4AAAAASUVORK5CYII=\" style=\"image-rendering: pixelated;\">\n",
              "            </div><div style=\"margin-right:10px; margin-top: 4px;\">\n",
              "              3 <br/>\n",
              "              <img src=\"data:image/PNG;base64,iVBORw0KGgoAAAANSUhEUgAAAMgAAACrCAIAAACsWkQ9AAAExklEQVR4nO3dS28TdxSG8TP2OLaT4GucCAQSkSJCkagQUlftppsKVnzKfoZ2j9i2KuUiUEQIRYHEhkzi+Dpjh6/wevGqC57f+uivif1kNh6dSXa2GqEpBhfiZEQ0b26Jk0cfB+Lktnypn1e51P3dHXHy4PBEPXPvun4Brw4+iZPt1qY4eZZdipO/PLwtTkbE07/ei5Ml/VBAR1iwICxYEBYsCAsWhAULwoIFYcGCsGBBWLAgLFgQFiwICxaJ+nN5RFEp6+cWxVKcLJXUY3uLQpw8XeVSO/lCnByU1f/D9kL98yPiTD52Xz72sFYRJ4tpLk5GhD7KHQsWhAULwoIFYcGCsGBBWLAgLFgQFiwICxaEBQvCggVhwYKwYEFYsEjajao4WhvO9XNLiTp5Lj9g0txpipPZSaYeGjGTn1rZkJ9aydNUv4BqoT4OVO+pa1FmfXUtysatdXEyIj78NxYnuWPBgrBgQViwICxYEBYsCAsWhAULwoIFYcGCsGBBWLAgLFgQFiySn+TRl5UVfrFvq4s24kuiPjJQlx8umMgPLEREQz52mKq7RrYL+e+P6MsfbC1Xn4MYpeonUJbXt0SE+mwDdyyYEBYsCAsWhAULwoIFYcGCsGBBWLAgLFgQFiwICxaEBQvCgkU6+vGGOvv8WD933LsmTi77Q/XQLfX9LPngUj0zorrbEidPDzNxsry/rV/A8s2pOrmp7lmYXaoPIjz6eU+cjIg/nx2Ik9yxYEFYsCAsWBAWLAgLFoQFC8KCBWHBgrBgQViwICxYEBYsCAsWyQN59LBa0c+9muXiZC4vRCjLCxGKVXY3pPLuhrn8vo3W8kq/gFFF/QTyXP0E1uvqlzWfqN9UsLsB/zvCggVhwYKwYEFYsCAsWBAWLAgLFoQFC8KCBWHBgrBgQViwSM92u+Lo8v1X/dykWRMnp+dTcbLVlTcXfNF/ho/2DXXNxOBYXTOxkC81Igr5autV9R0WU/mZhb07LXEyIl68zcRJ7liwICxYEBYsCAsWhAULwoIFYcGCsGBBWLAgLFgQFiwICxaEBQvCgkXyqzz6vL6mnzuZzMXJhbxpoypv2ijkRSOx0q4R+diGfGZEXKTqv/daoe4vyeVFIyV50UhE6G+S4Y4FC8KCBWHBgrBgQViwICxYEBYsCAsWhAULwoIFYcGCsGBBWLBIj7Y74uj09Ew/d62pbsUYnqsrMTZ7DXFy1L8QJyOi3VOXgsz76lKQq+st/QIWnzJxMq3Xxcl8MhEnnzy+L05GxO9//CtOcseCBWHBgrBgQViwICxYEBYsCAsWhAULwoIFYcGCsGBBWLAgLFgkv8mjf69X9XNr45k4OZZXQmzK+yCGtYo4GRGtqfp2kEw+tiOfGRHZuvp6mMFYfT1Md0P9sqYj9ZuKiJE8yR0LFoQFC8KCBWHBgrBgQViwICxYEBYsCAsWhAULwoIFYcGCsGCRHt2/JY5mr1Z4hcHuD+qWgePX78TJ7r2eOPnx9VdxMiK27t4WJ7M3H8TJmw8e6hfw7h/1+YJO51icPB+qaya6O+o3FRGjE3UlBHcsWBAWLAgLFoQFC8KCBWHBgrBgQViwICxYEBYsCAsWhAULwoIFYQEAAAAAAAAAAAAAAOA79A02D+ih5tyl4gAAAABJRU5ErkJggg==\" style=\"image-rendering: pixelated;\">\n",
              "            </div><div style=\"margin-right:10px; margin-top: 4px;\">\n",
              "              4 <br/>\n",
              "              <img src=\"data:image/PNG;base64,iVBORw0KGgoAAAANSUhEUgAAAMgAAACrCAIAAACsWkQ9AAAEpElEQVR4nO3dS3IbZRiF4fP3RbKMTGxDLqRgkIHnWQAsgYWwmqyGBTBmzoAKBQSXKyYYYUvWvbuzhdNVnGLA+4y/arXbr3vir36VixczeZYf9uakpHZazMmNfdWzs9qcXC0796LSk8vWnFzeuffaztwfX9L+sTcnm6pyL1q5z+qrq7l7TemXn+7cz/cvCvgICxGEhQjCQgRhIYKwEEFYiCAsRBAWIggLEYSFCMJCBGEhotSt+799VSNWBk6HxpxcVwdzcrJ3Vwb21WBOSipyFwF6+wk0xxHbDZ37+fq8dn9Z9+7jl6qpPartw4N7Vf+igI+wEEFYiCAsRBAWIggLEYSFCMJCBGEhgrAQQViIICxEEBYiCAsRzeSpO9r9OaLCfesedKGdu2HSn9k3sLQ/XarP3cl+4U5WFyOeVb9w73Y1ca953LgbPvOzlXtRaWtP8sZCBGEhgrAQQViIICxEEBYiCAsRhIUIwkIEYSGCsBBBWIggLESUeeMeH7EpIw4FqTp3Z6Er7gEerf1nsO9H3GprfzvIwb7sxL6mpMNg72IU9wkM9q0W+5qS+t69Vd5YiCAsRBAWIggLEYSFCMJCBGEhgrAQQViIICxEEBYiCAsRhIWIprx0txuG6zEHIjyxVwaW7nbDULuTpbe/x0V6du7+dV3/Zf9vfz7mL9Y+POHEXi7YNe4TePnlzP146Y9f+coT/KcICxGEhQjCQgRhIYKwEEFYiCAsRBAWIggLEYSFCMJCBGEhohlu7ZUB+5AFSfvFwZysG/eUh7b9xJzst2tzUtKhm5uTk7I3J7cPR/8G3J9fqibuzkLp3LMb3n8YsbTi442FCMJCBGEhgrAQQViIICxEEBYiCAsRhIUIwkIEYSGCsBBBWIho6lf2lx38PKLCiX14wW7t/h++7nbmZF+NOLvhvnJXIfa9u98xnY+4gf2juwoxTN2n2q/dnYXziftUJf1tT/LGQgRhIYKwEEFYiCAsRBAWIggLEYSFCMJCBGEhgrAQQViIICxEEBYiyuXJiTm6HNwjMSQddv/+UROluMdn2IOSNLF3bI7F3W8p7iqQJPXut8Oo9O4P1st9/mXMy6WzzxrhjYUIwkIEYSGCsBBBWIggLEQQFiIICxGEhQjCQgRhIYKwEEFYiGi+23xtjr5pf/Cv2zXu5NC5J23MXrlrCJvfRnzjyOzKvdfFW/dWLy/sjQVp8eCuDJx96r4INiv3Vj97PuL8kvfXj+YkbyxEEBYiCAsRhIUIwkIEYSGCsBBBWIggLEQQFiIICxGEhQjCQkRz9e3MHL144U5Kqjfu/8xv/lmYk8d37nkE9ZizGzZvD+bkpHOXJu5XIw5vqI7uJsL64L4IuoN7A7d39iLKGLyxEEFYiCAsRBAWIggLEYSFCMJCBGEhgrAQQViIICxEEBYiCAsRzc3rd+bo8sfn/nVPm6k5WWp3Z+HZ02/MyZvb781JSa17p9ptJ+bktLMvKm21Mif7lbu2cTr9wpwcivtDSVrrd3OSNxYiCAsRhIUIwkIEYSGCsBBBWIggLEQQFiIICxGEhQjCQgRhIYKwAAAAAAAAAAAAAAAA8D/0EW1E1QPoZlfQAAAAAElFTkSuQmCC\" style=\"image-rendering: pixelated;\">\n",
              "            </div><div style=\"margin-right:10px; margin-top: 4px;\">\n",
              "              5 <br/>\n",
              "              <img src=\"data:image/PNG;base64,iVBORw0KGgoAAAANSUhEUgAAAMgAAACrCAIAAACsWkQ9AAAEoElEQVR4nO3dz24bdRiF4TPj8diJ/7SpQyhkgSLIim6RuAhYcY1cB0sWXYLKAiqoRApVY6dt7MT2jCfcwpnFURe8z/rTT+Ppm9l09E1xeXEiz19/3piTkoqyNiebbm9Onp0emZO311tzUtJ8OjYn15udOXl6PvUv4NXfH8zJQV2ak+2+MyefXT4xJyX9+vvKnHQvFOiFsBBBWIggLEQQFiIICxGEhQjCQgRhIYKwEEFYiCAsRBAWIoqBPdq57xZI0tNmZE6+kft2w6x9MCc3VWFOSnpkH7ty39jQvOnxF7uu3Au4aNzJV2P3H3awPZiTkvyXRnhiIYKwEEFYiCAsRBAWIggLEYSFCMJCBGEhgrAQQViIICxEEBYiCAsRxfzUXYlR9tm0UT52X5v58M7dtFGM3T+DcuuuxJBUHQ/Nyeaucc+c2G/YSM3GfXFoNHOPrW7dM8uF/+aUVkv3HRueWIggLEQQFiIICxGEhQjCQgRhIYKwEEFYiCAsRBAWIggLEYSFiOJTe/S6x6IN1e72Cu1K99xJZy8F6XOpI/tSG/vYiXpcwZ09W9h3oB24h9YH+/ezFAQfHWEhgrAQQViIICxEEBYiCAsRhIUIwkIEYSGCsBBBWIggLERUOp+Yo8XVxj+3mFbmZLdu3clH7pIFvXeXLEgaf+Jur7h/6/7vfvfEXV0hqV25xx5P3d0Nzdrd3XDx5Yk5Kem3lzfmJE8sRBAWIggLEYSFCMJCBGEhgrAQQViIICxEEBYiCAsRhIUIwkJEcWaPruwlC5IO9paBwj72wT5z0OdSK/vYxj62ts/sdeyRfey+dr838bB3PzYhyX1lgicWQggLEYSFCMJCBGEhgrAQQViIICxEEBYiCAsRhIUIwkIEYSGi2p8emaPt9X2Pc2s32W7fmZOTE3chwv3NzpyUNFq4CxG2S/d/94upuw9CUru2P/hg724o7d0NJ097XOrrf91L5YmFCMJCBGEhgrAQQViIICxEEBYiCAsRhIUIwkIEYSGCsBBBWIggLEQUX9ijb4bunglJ28ZdNeF+GkVy3++R7nvsBJG/v6Os3L/DqseiDbX2fR207itG3cC9Bd2hx/4S/2fxxEIEYSGCsBBBWIggLEQQFiIICxGEhQjCQgRhIYKwEEFYiCAsRFTbobtnYnBo/HPPJu6qibcbd89EfX5sTt5d3ZmTkmafu5e6fu3uGjmyL1XS+6uNe+zMXYvS3rqX+u03n5mTkn56/o85yRMLEYSFCMJCBGEhgrAQQViIICxEEBYiCAsRhIUIwkIEYSGCsBBRfG/vI/jZXhwgaWlPHg/d7Q3DpjUnd/aPkjSyf9fePnbe517d2sce7GPrkXtXNzv3rordDfjoCAsRhIUIwkIEYSGCsBBBWIggLEQQFiIICxGEhQjCQgRhIaKoq7k5+qCFf+7j2cycXL77xZxcLNxPOKyWPb628NXlD+bkyz+em5PPvv7Ov4AXL340J+uRewe6xl20MZ71+ODIauW+tsITCxGEhQjCQgRhIYKwEEFYiCAsRBAWIggLEYSFCMJCBGEhgrAQQVgAAAAAAAAAAAAAAAD4H/oPiRPUDTpTPWcAAAAASUVORK5CYII=\" style=\"image-rendering: pixelated;\">\n",
              "            </div><div style=\"margin-right:10px; margin-top: 4px;\">\n",
              "              6 <br/>\n",
              "              <img src=\"data:image/PNG;base64,iVBORw0KGgoAAAANSUhEUgAAAMgAAACrCAIAAACsWkQ9AAAE1ElEQVR4nO3du24cdRiG8W8Oe3TsrO2IYKACpwClyEGCgpSIAnENtBR0XAo9FVdBg5QCiTQUtsTBSRxEEtnsWl6vvJndnZ2d4RbeKV5R8PzqV7Nj+8k2+89s8uHhndA8O30uLiMiHQzFZflmLi7fHdwSl68WF+IyIt4+OBCX47Mzcbk7VH/8iHhTFOIyzzJxuaw34vLTjz8RlxHx+MkTcZnqFwV0hAULwoIFYcGCsGBBWLAgLFgQFiwICxaEBQvCggVhwYKwYJFPpy/EqfpxeURE7FVLcXnV6YjLopqqLy9fMyKK6URc1vLhgrIu9RtYp+o/7xtddbnZqLf6cqweWGiFdyxYEBYsCAsWhAULwoIFYcGCsGBBWLAgLFgQFiwICxaEBQvCggVhwSLZ6nbFaVat9esO9/bF5fhCfYBHo796lsjbWNbqsi9ftcnyFjewVn+xqXzAJmr1p6p6PfWaEbFaiUPesWBBWLAgLFgQFiwICxaEBQvCggVhwYKwYEFYsCAsWBAWLAgLFvn7I/XD7T8nlX7dG6X6RSZD+UkbK/kYgv7ZfkRkod5AlqgHLHr9Fv9i61AfYZLn6s81X6ivPqhaPL9EvirvWPAgLFgQFiwICxaEBQvCggVhwYKwYEFYsCAsWBAWLAgLFoQFi/z5tfrhdp20eCDCeX9HnV6PxeHD9IG4/K3+VX31iM+Gj8TlT8VjcblOB/oNrDczdbqjPhEjXapPxDj84I766hHHJyfqDegXBXSEBQvCggVhwYKwYEFYsCAsWBAWLAgLFoQFC8KCBWHBgrBgkdwfDcXp8Uz/n/uRyMWmjTotm4247OlfYhExGvXF5fVM/V6GJGlxuqGJpbjc6qqPmbiq1F/B7k6LQyv/XMpfoqFfFNARFiwICxaEBQvCggVhwYKwYEFYsCAsWBAWLAgLFoQFC8KCRX6ylL9vos2zG9Z99eP9rFAPTfQ6ufrqZYvjDfNQTzcs5GMIh/lt/Qaeln+Jy2Kl/rEGiXoOordWlxERwekG/KcICxaEBQvCggVhwYKwYEFYsCAsWBAWLAgLFoQFC8KCBWHBgrBgkdzb3xKnz+RHYkTEJq3FZVOpp3GqRL1m1C1O+Az68g0s1KeSRN7iLEq/Ui8773TF5bBWD9io52AiIqLYqH8C3rFgQViwICxYEBYsCAsWhAULwoIFYcGCsGBBWLAgLFgQFiwICxb5F9fqx9vfJS2etLG6/Z64TF7/LS47+2+Jy3IyFpcRUY4OxGW1OBOXw919/QZm8t3ezw/F5en6D/WaH90VlxHx89GRuOQdCxaEBQvCggVhwYKwYEFYsCAsWBAWLAgLFoQFC8KCBWHBgrBgkX/5zSNx+suP5/p1j0+fistVqn6Ryc1qLi4v0xaPThitrsTlvKs+OmE31FuNiLyvfufK0fp3cbmdqL/VVxP1mq3wjgULwoIFYcGCsGBBWLAgLFgQFiwICxaEBQvCggVhwYKwYEFYsMi/uvutOJ18/7V+3aK+JS6b+lJc1uVAXC4b9XsZIuIiborLpp6Jyzp7R7+BTaMehdje+1xczic/iMvp+ba4jAj9iyx4x4IFYcGCsGBBWLAgLFgQFiwICxaEBQvCggVhwYKwYEFYsCAsWBAWAAAAAAAAAAAAAAAA/of+BSDB5QZoSmo7AAAAAElFTkSuQmCC\" style=\"image-rendering: pixelated;\">\n",
              "            </div><div style=\"margin-right:10px; margin-top: 4px;\">\n",
              "              7 <br/>\n",
              "              <img src=\"data:image/PNG;base64,iVBORw0KGgoAAAANSUhEUgAAAMgAAACrCAIAAACsWkQ9AAAEwElEQVR4nO3dvXIbZRyF8f9Kq2/JsvyFxyZOipgaaKkZLoiayQxpcjehouUWYIaKZIZAiGNsy5Yle6VdrbTcwtniTAqeX33mnY15sk2W18nR8WehyS7/FZcRsekPxOUqy8Tl4XhfXM7nt+IyIk5Hu+Lyz/mduDwZHugPMH+4EZerXk9clkv1p3p2/kRcRsS7N+/FZUM/FNARFiwICxaEBQvCggVhwYKwYEFYsCAsWBAWLAgLFoQFC8KCRdJN2+K0Srb6uaN1KS5vUzXufqk+wLJR4y/MqNUUl/NC/UM1qkp/gDJRlyfyqdedlris8rV6aIT65+eNBRPCggVhwYKwYEFYsCAsWBAWLAgLFoQFC8KCBWHBgrBgQViwICxYpJM99aaN4dWlfu7H/V1xmUxn4jLvd8RllRXiMiJWTfWzmSQ24jLdUT9GiohqnovL6aAvLpvZUlxu26m4jIjQPxyqcSggIyxYEBYsCAsWhAULwoIFYcGCsGBBWLAgLFgQFiwICxaEBYvkqTy9HtT4F/vNSr2/opGqV32kufpxQS5/sBAR6UY9dt2U7y/Z1LhA5VG+wqRK9LtG1JtGNnUeVccbCxaEBQvCggVhwYKwYEFYsCAsWBAWLAgLFoQFC8KCBWHBgrBgkc5OJ+I0v7jXz90bjcXlzXwmLnuTXXFZ3KlnRkRzPBCX6/tHcVl9rt6IERHJh5m4HPfVR509ZOLy8PhQXEbE9eW1uOSNBQvCggVhwYKwYEFYsCAsWBAWLAgLFoQFC8KCBWHBgrBgQViwSE7k6TStcSFCWaoXIjTlYxvyJQPbqsZ9BEmlXoiwke9u6Na5EKGUb5poJvJvkUjW4nC9rfFyKTb8Zgp8UoQFC8KCBWHBgrBgQViwICxYEBYsCAsWhAULwoIFYcGCsGCRrr44EqfbP9T/bz8iWuOeuMzvl+KyO2qJy2KhflsREd1RV1yWi5W4XMtn1jq2MVB/AqtH9ZON49GeuIyIi8WVuOSNBQvCggVhwYKwYEFYsCAsWBAWLAgLFoQFC8KCBWHBgrBgQViwICxYJM/l6ceu+s1GRFQr9VKKQr4UpFWqN21s0jp/YeT7Syr52I78qBGRt9Rjm2v5J9CSb3BZ1/jESP2PyhsLJoQFC8KCBWHBgrBgQViwICxYEBYsCAsWhAULwoIFYcGCsGCRfvPjV+L09Yvf9HOr031xWX6Yisv+mXp9Rf73nbiMiOEz9diHd7fisv30UH+A7C/1tpXewY64zKcP4vL8y3NxGRG///pGXPLGggVhwYKwYEFYsCAsWBAWLAgLFoQFC8KCBWHBgrBgQViwICxYJD/L0++fP9HPvXv7Xlwu2vLdDYV6y0DRTsVlRHSLUlwu5WMn8pkRMeu0xWWWF+Jy2JF/PUxe41GLUH+TCm8sWBAWLAgLFoQFC8KCBWHBgrBgQViwICxYEBYsCAsWhAULwoJF8u2LH8TpLy9f6efuTL4Wl/e3b8Xl0dl34nL6z0/iMiJaw664XC0W4nK0f6Q/wPzmQlw2U/WbhaRUv1lIewfiMiKy7Epc8saCBWHBgrBgQViwICxYEBYsCAsWhAULwoIFYcGCsGBBWLAgLFgQFgAAAAAAAAAAAAAAAP6H/gNnWufcMbQ8dwAAAABJRU5ErkJggg==\" style=\"image-rendering: pixelated;\">\n",
              "            </div><div style=\"margin-right:10px; margin-top: 4px;\">\n",
              "              8 <br/>\n",
              "              <img src=\"data:image/PNG;base64,iVBORw0KGgoAAAANSUhEUgAAAMgAAACrCAIAAACsWkQ9AAAEq0lEQVR4nO3dS47cVBiG4d/HdrkucV9QlECkDMKYEStgD4zZA1tBSGyARTCBFbABJqghCEWkEzrV5bq5fGEL35H4xID3Gf86sStvPPHJcbFpF6E5HSdxMiKeTaM4+desrtmuSnHycSjURSPWSb3U86xewM0i4wLe7QdxclGqy/apEidfbtSbiog//j6Ik0lfFNARFiwICxaEBQvCggVhwYKwYEFYsCAsWBAWLAgLFoQFC8KCRRXya/hizNjd0K1W6uhRfWHeF+q1pkHdLxAR00rdCDAdLuJk18i3H5EmddmnbSNOvn3sxcl7+faz8MSCBWHBgrBgQViwICxYEBYsCAsWhAULwoIFYcGCsGBBWLAgLFgQFiwK/fSKVKnHh0REk9Q9Ngf5UJByUtdUt6FERMQkbwdK8r6dZpbvKmJI6rEct7V6AQ+jvMUoZWwxOp3V++KJBQvCggVhwYKwYEFYsCAsWBAWLAgLFoQFC8KCBWHBgrBgQViwqK5f3Iij2zdbfd1xWYuTc6ceX1FdLdU/fXsSJyNieaMe4NFvj+Jk86zVL2C878TJbqX+qpcH9VdNZdbDhd0N+E8RFiwICxaEBQvCggVhwYKwYEFYsCAsWBAWLAgLFoQFC8KCRTV2O3E044MnEZez+nZ9KtWTC+b+LE6OlbpmRKRB3QoxyhsBZvk7LhExFuqyi24UJ8uV+nGUF+uMT568fr8XJ3liwYKwYEFYsCAsWBAWLAgLFoQFC8KCBWHBgrBgQViwICxYEBYsqurqWh3tPmQsvFI/Y1Hu1H0Qw1Je85zxbYqxVDcCpEm91HGhngcREWmvHgkx3W7UNeVtCG/rjN0NOp5YsCAsWBAWLAgLFoQFC8KCBWHBgrBgQViwICxYEBYsCAsWhAWLopX/6/7xon6VICLKQh2+zIU4WcvHRwwp4439Wj48Yi8fSLGQ14yIYVZ/q1r+Gxga9RdoZvU8iIjoDuq2EZ5YsCAsWBAWLAgLFoQFC8KCBWHBgrBgQViwICxYEBYsCAsWhAULwoJFdfvyI3F0/vW9vu65UZNN+0GdvFYPBUmPGYeC9LW6bydN6raV8knGv9hRPhYlNrU4OHXq52FOpXr7WXhiwYKwYEFYsCAsWBAWLAgLFoQFC8KCBWHBgrBgQViwICxYEBYsqs/lN/Y/termgoiI3UkcnGv1jX2c1D0LU5VxKEh1UZcda/Woj+mYsb1iSv/+TpBqrX7H5dVVxl/rL28exUmeWLAgLFgQFiwICxaEBQvCggVhwYKwYEFYsCAsWBAWLAgLFoQFi+rL778SR19/8a2+7u/rjTh53B/EyebjVpws/tyJkxHx5NWtOLm7exAn20/VNSNif/dBnByeL8XJ6l7dXfLbRd0HkYUnFiwICxaEBQvCggVhwYKwYEFYsCAsWBAWLAgLFoQFC8KCBWHBovrxmx/E0bunn+nrtoW6E2F7/FmcXHbqe/g+52sL5f4TddmknlxQbNf6BfTlKE4+n78TJ98tvhYnF33G2Q2n2IqTPLFgQViwICxYEBYsCAsWhAULwoIFYcGCsGBBWLAgLFgQFiwICxaEBQAAAAAAAAAAAAAAgP+hfwDfT9oU5rxCRgAAAABJRU5ErkJggg==\" style=\"image-rendering: pixelated;\">\n",
              "            </div><div style=\"margin-right:10px; margin-top: 4px;\">\n",
              "              9 <br/>\n",
              "              <img src=\"data:image/PNG;base64,iVBORw0KGgoAAAANSUhEUgAAAMgAAACrCAIAAACsWkQ9AAAE2ElEQVR4nO3dy25bVRyF8XXsYzu24zZOUohoqgrUjiASQuIhEC/BiHdgwJjHYMqLMEMIgcStAiSaQFASEseX+Pj4wiusM1gjvt/4r91T99OedGvv4rjsyTPX2pyU9M6uZU6+Kt3JQb0xJ2e90pyUdFDV5uS01zEnj1bup0r6p7UzJ8uNO6nRvjn4fDJx15R+tSfdf1SgEcJCBGEhgrAQQViIICxEEBYiCAsRhIUIwkIEYSGCsBBBWIgoZ133P8w7i62/7p/77kGA1WxpTnb3h+bkejY3JyUt9txPrR7cT50M3DMjkjaLypx88/TEnLw5v3QnT4/NSUk6vzYH2bEQQViIICxEEBYiCAsRhIUIwkIEYSGCsBBBWIggLEQQFiIICxGEhYiiV7qHRoqy7a87qFbm5LzrXuDRXrvndtbtwpyUtLHvGmnb95e0Gpwwkn1/ioa1ey9LPT4wJxeTqfvHS5ut+1uxYyGCsBBBWIggLEQQFiIICxGEhQjCQgRhIYKwEEFYiCAsRBAWIornz9w7Ie4v7vx1F2072do9B6Fh3x2cP7hrSrux+zpIdTszJ/tHI/8Dqhv7fMGg6665cH/VXavBSZD11r1Chh0LEYSFCMJCBGEhgrAQQViIICxEEBYiCAsRhIUIwkIEYSGCsBBRHBRuW52Oe8mCpIl9y0DRc18Hea/9wpz8pfrZnJTUk3vRwp3cgwCDtfvXl7Syf4Gych9Hqcdjc/LF7a05KelHe5IdCxGEhQjCQgRhIYKwEEFYiCAsRBAWIggLEYSFCMJCBGEhgrAQUZw+de9umFxc++tu++49C8vl0pwcdPfMybpqcHdDp+cuu6rcTx0dP/I/YHl9b04WJ0fuopc35uDesyfumtLV6ytzkh0LEYSFCMJCBGEhgrAQQViIICxEEBYiCAsRhIUIwkIEYSGCsBBR+M8S9EdDf916tjAn24fuQYDVjXsKoNVtcM3EhzozJ7/dfW9Oru2rKyS17bsb+vbdDasj9+6G1k2Duxvm9iQ7FiIICxGEhQjCQgRhIYKwEEFYiCAsRBAWIggLEYSFCMJCBGEhgrAQUbx8+ZY5evfqL3/d+557cKWo3BMmrX7HXfOhNicl1T132VblLtsZuidhJK3n7mGY1mhgTm6m7rGlTbvB5lJv3Odh2LEQQViIICxEEBYiCAsRhIUIwkIEYSGCsBBBWIggLEQQFiIICxHFp3KvBflq5L5iImk+dR8dKR65d41s7t07KTqPRuakpGI6Myd39qfuJtMGH2DftrKzzyx0n7iPo7x/1eAlm6/tSXYsRBAWIggLEYSFCMJCBGEhgrAQQViIICxEEBYiCAsRhIUIwkJEefbFJ+bo75996a/7zdh9yKR16z5k0jl5bE7WlxNzUtLw9NCcrM7/NSeX4wbPw7xx657auDh0T20M7DML52dvm5OS9MMf5iA7FiIICxGEhQjCQgRhIYKwEEFYiCAsRBAWIggLEYSFCMJCBGEhonjcf+rOnroHFiTNfnvtfkF3Z05uq6W7Zq9rTjZatizdNyw+GL3rf8B385/Myd3mI3Ny7+Bvc3J7/7k5KWm2+ticZMdCBGEhgrAQQViIICxEEBYiCAsRhIUIwkIEYSGCsBBBWIggLEQQFgAAAAAAAAAAAAAAAP6H/gOd1eCAAmughwAAAABJRU5ErkJggg==\" style=\"image-rendering: pixelated;\">\n",
              "            </div></div>"
            ],
            "text/plain": [
              "<IPython.core.display.HTML object>"
            ]
          },
          "metadata": {
            "tags": []
          }
        }
      ]
    },
    {
      "cell_type": "markdown",
      "metadata": {
        "id": "jwo7SrcOlbrv",
        "colab_type": "text"
      },
      "source": [
        "# NMF on attributions with ```score_fn = tf.reduce_sum```\n",
        "The visualizations are confusing to me. They don't seem to relate to the input image."
      ]
    },
    {
      "cell_type": "code",
      "metadata": {
        "id": "uFt9R9ixh-ix",
        "colab_type": "code",
        "outputId": "0fbbfa99-78e4-4328-e4ff-15b16bb507f7",
        "colab": {
          "base_uri": "https://localhost:8080/",
          "height": 0
        }
      },
      "source": [
        "score_fn = tf.reduce_sum\n",
        "attr = get_attr(model, output_layer_name, hidden_layer_name, some_observations, integrate_steps=10, score_fn=score_fn)\n",
        "reduced = reduce_and_norm(attr)\n",
        "show_with_obs(some_observations, reduced, 10)"
      ],
      "execution_count": 20,
      "outputs": [
        {
          "output_type": "stream",
          "text": [
            "normalize_by 69.80664939060938\n",
            "Time left in episode\n"
          ],
          "name": "stdout"
        },
        {
          "output_type": "display_data",
          "data": {
            "text/html": [
              "<div style=\"display: flex; flex-direction: row;\"><div style=\"margin-right:10px; margin-top: 4px;\">\n",
              "              0 <br/>\n",
              "              <img src=\"data:image/PNG;base64,iVBORw0KGgoAAAANSUhEUgAAAMgAAACvCAAAAACdws6gAAAA7klEQVR4nO3RwQmAQBAEQRXzj+H+JmkEPoQ7KaQrgFma3a9tjbFo98nx8b1lCtEUoilEU4imEE0hmkI0hWgK0RSiKURTiKYQTSGaQjSFaArRFKIpRFOIphBNIZpCNIVoCtEUoilEU4imEE0hmkI0hWgK0RSiKURTiKYQTSGaQjSFaArRFKIpRFOIphBNIZpCNIVoCtEUoilEU4imEE0hmkI0hWgK0RSiKURTiKYQTSGaQjSFaArRFKIpRPObkHPi1pi49dpvPlKIphBNIZpCNIVoCtEUoilEU4imEE0hmkI0hWgK0RSiKURTiKYQzQ2pnANLAD7pvwAAAABJRU5ErkJggg==\" style=\"image-rendering: pixelated;\">\n",
              "            </div><div style=\"margin-right:10px; margin-top: 4px;\">\n",
              "              1 <br/>\n",
              "              <img src=\"data:image/PNG;base64,iVBORw0KGgoAAAANSUhEUgAAAMgAAACvCAAAAACdws6gAAAA70lEQVR4nO3RwQmAQBAEQU+MzCiNzWj8mYDCNUfVf2GaHee2hn32gL8IqRFSI6RGSI2QGiE1QmqE1AipEVIjpEZIjZAaITVCaoTUCKkRUiOkRkiNkBohNUJqhNQcswe8rm/ny3xESI2QGiE1QmqE1CwTMu7ZC36yzEeE1AipEVIjpEZIjZAaITVCaoTUCKkRUiOkRkiNkBohNUJqhNQIqRFSI6RGSI2QGiE1QmqE1AipEVIjpEZIjZAaITVCaoTUCKkRUiOkRkiNkBohNUJqhNQIqRFSI6RGSI2QGiE1QmqE1AipEVIjpEZIjZAaITUPNG0DExDSAv8AAAAASUVORK5CYII=\" style=\"image-rendering: pixelated;\">\n",
              "            </div><div style=\"margin-right:10px; margin-top: 4px;\">\n",
              "              2 <br/>\n",
              "              <img src=\"data:image/PNG;base64,iVBORw0KGgoAAAANSUhEUgAAAMgAAACvCAAAAACdws6gAAAA70lEQVR4nO3dsQ2AMAwAQUB07L8WM1FT0JHoFP0NYOvlAbxf2xj3oLlfjsn7hilEU4imEE0hmkI0hWgK0RSiKURTiKYQTSGaQjSFaArRFKIpRFOIphBNIZpCNIVoCtEUoilEU4imEE0hmkI0hWgK0RSiKURTiKYQTSGaQjSFaArRFKIpRFOIphBNIZpCNIVoCtEUoilEU4imEE0hmkI0hWgK0RSiKURTiKYQTSGaQjSFaArRFKIpRFOIphDNMiHnj7Nm/+B6WeYihWgK0RSiKURTiKYQTSGaQjSFaArRFKIpRFOIphBNIZpCNIVoCtE8teQDB9YhcqYAAAAASUVORK5CYII=\" style=\"image-rendering: pixelated;\">\n",
              "            </div><div style=\"margin-right:10px; margin-top: 4px;\">\n",
              "              3 <br/>\n",
              "              <img src=\"data:image/PNG;base64,iVBORw0KGgoAAAANSUhEUgAAAMgAAACvCAAAAACdws6gAAAA70lEQVR4nO3RgQmAMBAEQSOWZnWWZHXWIASyhJkCjl9+vMceztUHzCKkRkiNkBohNUJqhNQIqRFSI6RGSI2QGiE1QmqE1AipEVIjpEZIjZAaITVCaoTUCKkRUnNN3Hombv22zUeE1AipEVIjpEZIzTYh4159wSTbfERIjZAaITVCaoTUCKkRUiOkRkiNkBohNUJqhNQIqRFSI6RGSI2QGiE1QmqE1AipEVIjpEZIjZAaITVCaoTUCKkRUiOkRkiNkBohNUJqhNQIqRFSI6RGSI2QGiE1QmqE1AipEVIjpEZIjZAaITVCaoTUCKkRUvMB4Y4C58N8ABoAAAAASUVORK5CYII=\" style=\"image-rendering: pixelated;\">\n",
              "            </div><div style=\"margin-right:10px; margin-top: 4px;\">\n",
              "              4 <br/>\n",
              "              <img src=\"data:image/PNG;base64,iVBORw0KGgoAAAANSUhEUgAAAMgAAACvCAAAAACdws6gAAAA7UlEQVR4nO3YMQqAQAwAQRV/5099pZ1geYXccOz0gSzpsl+b6B6eOH7YYopCNIVoCtEUoilEU4imEE0hmkI0hWgK0SwTcs5e4DX+k/tY5iKFaArRFKIpRFOIphBNIZpCNIVoCtEUoilEU4imEE0hmkI0hWgK0RSiKURTiKYQTSGaQjSFaArRFKIpRFOIphBNIZpCNIVoCtEUoilEU4imEE0hmkI0hWgK0RSiKURTiKYQTSGaQjSFaArRFKIpRFOIphBNIZpCNIVoCtEUoilEU4imEE0hmkI0hWgK0RSiKURTiKYQTSGaQjSFaArRPGkGAv/3aV3sAAAAAElFTkSuQmCC\" style=\"image-rendering: pixelated;\">\n",
              "            </div><div style=\"margin-right:10px; margin-top: 4px;\">\n",
              "              5 <br/>\n",
              "              <img src=\"data:image/PNG;base64,iVBORw0KGgoAAAANSUhEUgAAAMgAAACvCAAAAACdws6gAAAA8ElEQVR4nO3dwQmAMBAAQRV7sP9i7MuvXzGQIez8L8dyBWS/tmHucU99d8xcPlIhmkI0hWgK0RSiKURTiKYQTSGaQjSFaArRFKIpRFOIphBNIZpCNIVoCtEUoilEU4imEE0hmkI0hWgK0RSiKURTiKYQTSGaQjSFaArRFKIpRFOIphBNIZpCNIVoCtEUoilEU4imEE0hmkI0hWgK0RSiKURTiKYQTSGaQjSFaArRFKJZJuT8OT/1Y4i3ZS5SiKYQTSGaQjSFaArRFKIpRFOIphBNIZpCNIVoCtEUoilEU4imEE0hmkI0hWgK0RSiKUTzALH9AwE0qc8TAAAAAElFTkSuQmCC\" style=\"image-rendering: pixelated;\">\n",
              "            </div><div style=\"margin-right:10px; margin-top: 4px;\">\n",
              "              6 <br/>\n",
              "              <img src=\"data:image/PNG;base64,iVBORw0KGgoAAAANSUhEUgAAAMgAAACvCAAAAACdws6gAAAA80lEQVR4nO3RsQ3DQAwEQb3gHtSp+3GnKsEKBPyA2IkZ3ILrd8xw7h7wlkI0hWgK0RSiKURTiKYQTSGaQjSFaArRjAn57B7w3/fR1ZiPFKIpRFOIphBNIZoxIevaveAlYz5SiKYQTSGaQjSFaArRFKIpRFOIphBNIZpCNIVoCtEUoilEU4imEE0hmkI0hWgK0RSiKURTiKYQTSGaQjSFaArRFKIpRFOIphBNIZpCNIVoCtEUoilEU4imEE0hmkI0hWgK0RSiKURTiKYQTSGaQjSFaArRFKIpRFOIphBNIZpCNIVoCtEUoilEU4imEE0hmjEhNxZeAo3wG1K5AAAAAElFTkSuQmCC\" style=\"image-rendering: pixelated;\">\n",
              "            </div><div style=\"margin-right:10px; margin-top: 4px;\">\n",
              "              7 <br/>\n",
              "              <img src=\"data:image/PNG;base64,iVBORw0KGgoAAAANSUhEUgAAAMgAAACvCAAAAACdws6gAAAA70lEQVR4nO3RsQ2AMBAEQYyohrKph6JIyUHyyprJPrvVj3Nbwz57wF+E1AipEVIjpEZIjZAaITVCaoTUCKkRUiOkRkiNkBohNUJqhNQIqRFSI6RGSI2QGiE1QmqE1AipEVIjpEZIjZCaZUKO2QM+uN7HMh8RUiOkRkiNkBohNeOeveAny3xESI2QGiE1QmqE1AipEVIjpEZIjZAaITVCaoTUCKkRUiOkRkiNkBohNUJqhNQIqRFSI6RGSI2QGiE1QmqE1AipEVIjpEZIjZAaITVCaoTUCKkRUiOkRkiNkBohNUJqhNQIqRFSI6RGSM0DL/kC9wxnt6AAAAAASUVORK5CYII=\" style=\"image-rendering: pixelated;\">\n",
              "            </div><div style=\"margin-right:10px; margin-top: 4px;\">\n",
              "              8 <br/>\n",
              "              <img src=\"data:image/PNG;base64,iVBORw0KGgoAAAANSUhEUgAAAMgAAACvCAAAAACdws6gAAAA20lEQVR4nO3PAQkAIADAMLWR/ctZQnDIl+Cfe/xhvQ64pRFNI5pGNI1oGtE0omlE04imEU0jmkY0jWga0TSiaUTTiKYRTSOaRjSNaBrRNKJpRNOIphFNI5pGNI1oGtE0omlE04imEU0jmkY0jWga0TSiaUTTiKYRTSOaRjSNaBrRNKJpRNOIphFNI5pGNI1oGtE0omlE04imEU0jmkY0jWga0TSiaUTTiKYRTSOaRjSNaBrRNKJpRNOIphFNI5pGNI1oGtE0omlE04imEU0jmkY0jWga0TSi+WbkAMpeAY/qAnSYAAAAAElFTkSuQmCC\" style=\"image-rendering: pixelated;\">\n",
              "            </div><div style=\"margin-right:10px; margin-top: 4px;\">\n",
              "              9 <br/>\n",
              "              <img src=\"data:image/PNG;base64,iVBORw0KGgoAAAANSUhEUgAAAMgAAACvCAAAAACdws6gAAAA9ElEQVR4nO3RsQnDQBBFQZ1wbyrC/WcuQhU4EAhuWN6km/zHrt8xw7l7wFsK0RSiKURTiKYQTSGaQjSFaArRFKIpRFOIphBNIZpCNIVoCtEUoilEU4imEE0hmkI0hWgK0RSiKURTiKYQTSGaQjSFaArRFKIpRFOIZkzIZ/eAh77/DmM+UoimEE0hmkI0hWjGhKxr94KXjPlIIZpCNIVoCtEUoilEU4imEE0hmkI0hWgK0RSiKURTiKYQTSGaQjSFaArRFKIpRFOIphBNIZpCNIVoCtEUoilEU4imEE0hmkI0hWgK0RSiKURTiKYQTSGaQjRjQm4lQwLtvfXr0gAAAABJRU5ErkJggg==\" style=\"image-rendering: pixelated;\">\n",
              "            </div></div>"
            ],
            "text/plain": [
              "<IPython.core.display.HTML object>"
            ]
          },
          "metadata": {
            "tags": []
          }
        },
        {
          "output_type": "stream",
          "text": [
            "Color channels (vertical stripes are 'apples'\n"
          ],
          "name": "stdout"
        },
        {
          "output_type": "display_data",
          "data": {
            "text/html": [
              "<div style=\"display: flex; flex-direction: row;\"><div style=\"margin-right:10px; margin-top: 4px;\">\n",
              "              0 <br/>\n",
              "              <img src=\"data:image/PNG;base64,iVBORw0KGgoAAAANSUhEUgAAAMgAAACvCAIAAAA3ywYrAAACoElEQVR4nO3cwWlVURRAUZ/5HaSJFBNShjMhBSgIOjQjB8EC0oE9pQ0bELzC3cl5ca3x5fAHmzc5nH883V+/W/D1x7e/vvn88ZNRK3P+h1HvVx7BvxIWCWGREBYJYZEQFglhkRAWCWGREBYJYZEQFonj5upx5d3iKnfF4hZzxcD963nX53tH+WKREBYJYZEQFglhkRAWCWGREBYJYZEQFglhkbi8/BZpxXnXZKe+MnWwynTCIiEsEsIiISwSwiIhLBLCIiEsEsIiISwSwiJx2Thr46ZzpoE777GjfLFICIuEsEgIi4SwSAiLhLBICIuEsEgIi4SwSOzcFc68fZ1p5pWpg1WmExYJYZEQFglhkRAWCWGREBYJYZEQFglhkRAWicupN50zR62YuYl3sMp0wiIhLBLCIiEsEsIiISwSwiIhLBLCIiEsEsfT/fXKu5n/oDpw1MzV5Ma1o4NVXpOwSAiLhLBICIuEsEgIi4SwSAiLhLBICIuEsEg4WN08aub6fJGDVaYTFglhkRAWCWGREBYJYZEQFglhkRAWCWGRGHqwuuiF7zAHribHjvLFIiEsEsIiISwSwiIhLBLCIiEsEsIiISwSwiJx7rvCFW/+rnAjd4VMJywSwiIhLBLCIiEsEsIiISwSwiIhLBLCIiEsEpeZf8Z63lEzl/qLHKwynbBICIuEsEgIi4SwSAiLhLBICIuEsEgIi8Rxc/W48u68a7I3f7A6c5QvFglhkRAWCWGREBYJYZEQFglhkRAWCWGREBYJYZE4XvsH/NntvlG/9o3a6Pbn912jPnx52DXq7vl51yhfLBLCIiEsEsIiISwSwiIhLBLCIiEsEsIiISwSwiIhLBLCIiEsEsIiISwSwiIhLBLCIiEsEsIiISwSwiLxG0ft+v3iJlOgAAAAAElFTkSuQmCC\" style=\"image-rendering: pixelated;\">\n",
              "            </div><div style=\"margin-right:10px; margin-top: 4px;\">\n",
              "              1 <br/>\n",
              "              <img src=\"data:image/PNG;base64,iVBORw0KGgoAAAANSUhEUgAAAMgAAACvCAIAAAA3ywYrAAAClUlEQVR4nO3dwY0TQRBAURs5iU2BRLisOBMBJEAYEAAZEAAXJOIghQ2CCyHQK9Uf2uP3zqPyWPqaS6vU1z+/vl4WfH/3+5/PfPj5dsNRi1Z+cfDNVyz+u6k3nx31ZuUheC1hkRAWCWGREBYJYZEQFglhkRAWCWGREBYJYZG4Dc4aPOk8vfs91F8c5YtFQlgkhEVCWCSERUJYJIRFQlgkhEVCWCSEReJ2/AHfwWufp2dhlQciLBLCIiEsEsIiISwSwiIhLBLCIiEsEsIiISwSmy6sHj/qfllY5YEIi4SwSAiLhLBICIuEsEgIi4SwSAiLhLBIXE9/w+rBow6+9HWRhVVOQlgkhEVCWCSERUJYJIRFQlgkhEVCWCSERUJYJCysDo8aPPNetOFJ/MUXi4iwSAiLhLBICIuEsEgIi4SwSAiLhLBICIvE5Fnhnlume9rwlHN2lC8WCWGREBYJYZEQFglhkRAWCWGREBYJYZEQFglhkbgNHk8OcsPqOgurPBBhkRAWCWGREBYJYZEQFglhkRAWCWGREBaJyYXVQXsurB68GrrIwioPRFgkhEVCWCSERUJYJIRFQlgkhEVCWCSERcJFmK+w5wbfIHuF7E5YJIRFQlgkhEVCWCSERUJYJIRFQlgkhEVCWCRue16LamF1dtQiC6vsTlgkhEVCWCSERUJYJIRFQlgkhEVCWCSERWLyIsy7HrXifg9MXYTJSQiLhLBICIuEsEgIi4SwSAiLhLBICIuEsEgIi8T1f79A7vnbl6lRPz59nhr1PDXocvn49DQ16v3Ly9QoXywSwiIhLBLCIiEsEsIiISwSwiIhLBLCIiEsEsIiISwSwiIhLBLCIiEsEsIiISwSwiIhLBLCIiEsEsIi8RejBNHRTuPnKQAAAABJRU5ErkJggg==\" style=\"image-rendering: pixelated;\">\n",
              "            </div><div style=\"margin-right:10px; margin-top: 4px;\">\n",
              "              2 <br/>\n",
              "              <img src=\"data:image/PNG;base64,iVBORw0KGgoAAAANSUhEUgAAAMgAAACvCAIAAAA3ywYrAAACm0lEQVR4nO3dwW1TURBAURu5iRQU2ES0gdhTBqwjukARG0Qr7FMBexqIxEeaa78XzllbIyu6+pvJfJ+/ffl1OuD+x8e/fubnu0ejjsz5H0a9OfIh+FfCIiEsEsIiISwSwiIhLBLCIiEsEsIiISwSwiJxGVxPDlpz//rqDS71PbFICIuEsEgIi4SwSAiLhLBICIuEsEgIi4SwSFyufxrKadW/p4NVVicsEsIiISwSwiIhLBLCIiEsEsIiISwSwiIhLBKTB6vXH3VlV35J80ELvjr65IlFRFgkhEVCWCSERUJYJIRFQlgkhEVCWCSEReLsF1ZnR229e3WwyuqERUJYJIRFQlgkhEVCWCSERUJYJIRFQlgkhEVi74PVfd/TvOZbkx2ssjphkRAWCWGREBYJYZEQFglhkRAWCWGREBaJG/zC6pqviN137TjIwSqrExYJYZEQFglhkRAWCWGREBYJYZEQFglhkRAWidd/sLrmj7UOWvP/AzyxSAiLhLBICIuEsEgIi4SwSAiLhLBICIuEsEhMHqwOWvP2dfCodc2FqYNVVicsEsIiISwSwiIhLBLCIiEsEsIiISwSwiJxufUXeNm+a7Ktt5zuClmdsEgIi4SwSAiLhLBICIuEsEgIi4SwSAiLhLBITC6ht16aTo3ad30+O8oTi4SwSAiLhLBICIuEsEgIi4SwSAiLhLBICIvE+ffb+yOfW3MhteCofbecs6M8sUgIi4SwSAiLhLBICIuEsEgIi4SwSAiLhLBICIvE+dZf4GUPg7O+fp6a9P3Dp6lRg57u7qZGvX9+nhrliUVCWCSERUJYJIRFQlgkhEVCWCSERUJYJIRFQlgkhEVCWCSERUJYJIRFQlgkhEVCWCSERUJYJIRFQlgk/gCiUeCGXT07JwAAAABJRU5ErkJggg==\" style=\"image-rendering: pixelated;\">\n",
              "            </div><div style=\"margin-right:10px; margin-top: 4px;\">\n",
              "              3 <br/>\n",
              "              <img src=\"data:image/PNG;base64,iVBORw0KGgoAAAANSUhEUgAAAMgAAACvCAIAAAA3ywYrAAACpUlEQVR4nO3dsW1UQRRAUa+1iUtwI4jMKQGiByIaoAw3QERKbFEFjbgEUhogGKR3//4x58Rfb9fW1SRPs//y9P7H3YKHX59XHlvx+933qVEr32rx46ZGLf6j3vyo+5WH4F8Ji4SwSAiLhLBICIuEsEgIi4SwSAiLhLBICIvE9fj15MEO/gMHV+yLTriJv3NiEREWCWGREBYJYZEQFglhkRAWCWGREBYJYZG43voL5Pa9sLrIhVX+I8IiISwSwiIhLBLCIiEsEsIiISwSwiIhLBLCInHSJfS+Pxh8/NXQc45yYpEQFglhkRAWCWGREBYJYZEQFglhkRAWCWGRuG69kDr453RPuJo87SgnFglhkRAWCWGREBYJYZEQFglhkRAWCWGREBYJYZG4wRtWzzlqxb6beBdWeSOERUJYJIRFQlgkhEVCWCSERUJYJIRFQlgkJn/cduvd1gnfsLr1KCcWCWGREBYJYZEQFglhkRAWCWGREBYJYZEQFglhkfCG1eFR+67PZ0c5sUgIi4SwSAiLhLBICIuEsEgIi4SwSAiLhLBI3OANqyv2XZPtu+WcHeXEIiEsEsIiISwSwiIhLBLCIiEsEsIiISwSwiIxea9w692We4Wzo5xYJIRFQlgkhEVCWCSERUJYJIRFQlgkhEVCWCSERcIbVodH7bs+nx3lxCIhLBLCIiEsEsIiISwSwiIhLBLCIiEsEsIicflw/7Dy3MELqUWLn7jChdXZUU4sEsIiISwSwiIhLBLCIiEsEsIiISwSwiIhLBLCInG59Rf4u4+Ds749T036+eXr1KiXx8epUZ9eX6dGDXJikRAWCWGREBYJYZEQFglhkRAWCWGREBYJYZEQFglhkRAWCWGREBYJYZEQFglhkRAWCWGREBYJYZEQFok/fDfy4gf7j74AAAAASUVORK5CYII=\" style=\"image-rendering: pixelated;\">\n",
              "            </div><div style=\"margin-right:10px; margin-top: 4px;\">\n",
              "              4 <br/>\n",
              "              <img src=\"data:image/PNG;base64,iVBORw0KGgoAAAANSUhEUgAAAMgAAACvCAIAAAA3ywYrAAACgElEQVR4nO3bwUlDQRhGUaM2kUrswjLULkKsQtsRXIplWIVoCT7hv5rRc9aPjxAusxlmd/V8f7bBw/vxy2/uLg5bpgYN/qqpqS07/2HqfMtH8F3CIiEsEsIiISwSwiIhLBLCIiEsEsIiISwSwiKxe3262PLd4PXkoBO8f/3hO++TnXJikRAWCWGREBYJYZEQFglhkRAWCWGREBYJYZG4XPpC6gSnln5l6sEqp05YJIRFQlgkhEVCWCSERUJYJIRFQlgkhEVCWCR+4cHq355a9/p8dsqJRUJYJIRFQlgkhEVCWCSERUJYJIRFQlgkhEXCg9XhqXVvOWennFgkhEVCWCSERUJYJIRFQlgkhEVCWCSERUJYJIRFwoPV4al1r89np5xYJIRFQlgkhEVCWCSERUJYJIRFQlgkhEVCWCQ8WB2eWveWc3bKiUVCWCSERUJYJIRFQlgkhEVCWCSERUJYJIRFQlgkPFgdnlr3+nx2yolFQlgkhEVCWCSERUJYJIRFQlgkhEVCWCSERcKD1eGpdW85Z6ecWCSERUJYJIRFQlgkhEVCWCSERUJYJIRFQlgkvCscnlr3lnN2yolFQlgkhEVCWCSERUJYJIRFQlgkhEVCWCSERUJYJDxYHZ5a9/p8dsqJRUJYJIRFQlgkhEVCWCSERUJYJIRFQlgkhEXCg9XhqXVvOWennFgkhEVCWCSERUJYJIRFQlgkhEVCWCSERUJYJIRFYvfbPyB3OHxMTb0cx/6um/1+aur2cWrp7O36bWrKiUVCWCSERUJYJIRFQlgkhEVCWCSERUJYJIRFQlgkhEVCWCSERUJYJIRFQlgkhEVCWCSERUJYJIRFQlgkPgG0ZR/4n4x4SgAAAABJRU5ErkJggg==\" style=\"image-rendering: pixelated;\">\n",
              "            </div><div style=\"margin-right:10px; margin-top: 4px;\">\n",
              "              5 <br/>\n",
              "              <img src=\"data:image/PNG;base64,iVBORw0KGgoAAAANSUhEUgAAAMgAAACvCAIAAAA3ywYrAAACoklEQVR4nO3dsW1UQRRAURZtQAvuwoUgMjLnNIAoArkBaiACEdGQE0IHhDSAxCDN/ft2fU789XZtXW0yen9OD/fPrxa8//z7n898/fTGqJU5L2HU65WH4H8Ji4SwSAiLhLBICIuEsEgIi4SwSAiLhLBICIvEeeOsmYemGw08895r47fyi0VCWCSERUJYJIRFQlgkhEVCWCSERUJYJIRFYudZ4fVumR5v5oGphVWmExYJYZEQFglhkRAWCWGREBYJYZEQFglhkRAWiaELqzdv5km8hVWmExYJYZEQFglhkRAWCWGREBYJYZEQFglhkTgff8Bny3QvN6zyggiLhLBICIuEsEgIi4SwSAiLhLBICIuEsEgIi8TOhdWNbv6y1o0srPKCCIuEsEgIi4SwSAiLhLBICIuEsEgIi4SwSJxv/i7TjQ7+J8w8MLWwyiUJi4SwSAiLhLBICIuEsEgIi4SwSAiLhLBICIvEzrcmHz/qes3cMrWwynTCIiEsEsIiISwSwiIhLBLCIiEsEsIiISwSp4f755XnZh5IDRx11WevFlaZTlgkhEVCWCSERUJYJIRFQlgkhEVCWCSEReL07eevleeOf2frioEXYR781y1+or1CboSwSAiLhLBICIuEsEgIi4SwSAiLhLBICIuEsEjsvGF10cHn2TOvkJ35hl8Lq0wnLBLCIiEsEsIiISwSwiIhLBLCIiEsEsIicYGLMFdc73tdZ26ZLrKwynTCIiEsEsIiISwSwiIhLBLCIiEsEsIiISwSwiJxuvQX+Lvvd3e7Rr17eto1aqO3Xx63zfrwcdekH7sG+cUiIiwSwiIhLBLCIiEsEsIiISwSwiIhLBLCIiEsEsIiISwSwiIhLBLCIiEsEsIiISwSwiIhLBLCIiEsEn8AIj7Umyu2q+UAAAAASUVORK5CYII=\" style=\"image-rendering: pixelated;\">\n",
              "            </div><div style=\"margin-right:10px; margin-top: 4px;\">\n",
              "              6 <br/>\n",
              "              <img src=\"data:image/PNG;base64,iVBORw0KGgoAAAANSUhEUgAAAMgAAACvCAIAAAA3ywYrAAACg0lEQVR4nO3dsU0DQRBAUYwcEJI6h24QOQ1AA5RBA3RAT5C7BUIaQMJI8+1b6b34NGdLX5uMVrd7+ri9OsHN59efz3zf35151NTrBt84+LqlR12f8hD8l7BICIuEsEgIi4SwSAiLhLBICIuEsEgIi4SwSOwHZ51/03lm29zEb3OUE4uEsEgIi4SwSAiLhLBICIuEsEgIi4SwSAiLxOSucOnd1tSopW+ZurDK1gmLhLBICIuEsEgIi4SwSAiLhLBICIuEsEgIi8R+m5vOQWf+g+uuz2dHObFICIuEsEgIi4SwSAiLhLBICIuEsEgIi4SwSOyXXkidwoXVi4xyYpEQFglhkRAWCWGREBYJYZEQFglhkRAWCWGREBaJjV5YXXfU0kt9F1bZOmGREBYJYZEQFglhkRAWCWGREBYJYZEQFglfWB0ete6Wc3aUE4uEsEgIi4SwSAiLhLBICIuEsEgIi4SwSAiLhLBITC6hl16aurA6O8qJRUJYJIRFQlgkhEVCWCSERUJYJIRFQlgkhEVi7S+sbnDUulvO2VFOLBLCIiEsEsIiISwSwiIhLBLCIiEsEsIiISwSPoQ5PGrdLefsKCcWCWGREBYJYZEQFglhkRAWCWGREBYJYZEQFglhkXBhdXjUuuvz2VFOLBLCIiEsEsIiISwSwiIhLBLCIiEsEsIiISwSLqwOj1p3yzk7yolFQlgkhEVCWCSERUJYJIRFQlgkhEVCWCSERUJYJHaX/gG/e3h/G5v18jo16flwmBr1eDxOjdomJxYJYZEQFglhkRAWCWGREBYJYZEQFglhkRAWCWGREBYJYZEQFglhkRAWCWGREBYJYZEQFglhkRAWCWGR+AEsZw5Sg0FspgAAAABJRU5ErkJggg==\" style=\"image-rendering: pixelated;\">\n",
              "            </div><div style=\"margin-right:10px; margin-top: 4px;\">\n",
              "              7 <br/>\n",
              "              <img src=\"data:image/PNG;base64,iVBORw0KGgoAAAANSUhEUgAAAMgAAACvCAIAAAA3ywYrAAACfElEQVR4nO3bsUmDURiG0cTKFQIO4SLa2Vk7gr2t4AKuYGVKO3cR0jiECwhG+B7MxXPqn5cQHm5zudvz17fNET5e7n/85uLm0dQxO/9h6uyYj+C3hEVCWCSERUJYJIRFQlgkhEVCWCSERUJYJIRFYvt5e3nMd6d503mCU+ten89OObFICIuEsEgIi4SwSAiLhLBICIuEsEgIi4SwSGw9WJ2dWveWc3bKiUVCWCSERUJYJIRFQlgkhEVCWCSERUJYJIRFQlgkPFgdnlr3+nx2yolFQlgkhEVCWCSERUJYJIRFQlgkhEVCWCSERcKD1eGpdW85Z6ecWCSERUJYJIRFQlgkhEVCWCSERUJYJIRFQlgkhEXCg9XhqXWvz2ennFgkhEVCWCSERUJYJIRFQlgkhEVCWCSERUJYJDxYHZ5a95ZzdsqJRUJYJIRFQlgkhEVCWCSERUJYJIRFQlgkhEVCWCQ8WB2eWvf6fHbKiUVCWCSERUJYJIRFQlgkhEVCWCSERUJYJIRFwoPV4al1bzlnp5xYJIRFQlgkhEVCWCSERUJYJIRFQlgkhEVCWCS8KxyeWveWc3bKiUVCWCSERUJYJIRFQlgkhEVCWCSERUJYJIRFQlgkPFidn5qy7k38xolFRFgkhEVCWCSERUJYJIRFQlgkhEVCWCSERcKD1fmpKUtfmDqxSAiLhLBICIuEsEgIi4SwSAiLhLBICIuEsEgIi8T2r3/A93b73dTU1dPd1NTz+8PU1KD9buy/uj4cpqacWCSERUJYJIRFQlgkhEVCWCSERUJYJIRFQlgkhEVCWCSERUJYJIRFQlgkhEVCWCSERUJYJIRFQlgkhEXiC8TYIeMD/UbyAAAAAElFTkSuQmCC\" style=\"image-rendering: pixelated;\">\n",
              "            </div><div style=\"margin-right:10px; margin-top: 4px;\">\n",
              "              8 <br/>\n",
              "              <img src=\"data:image/PNG;base64,iVBORw0KGgoAAAANSUhEUgAAAMgAAACvCAIAAAA3ywYrAAACmUlEQVR4nO3dsY0UQRBA0Tm0AeBgXBjo0kCEAQmQAw4JEBRxnHEOBgHgIhwaqf9c7eg9e9UzK32106rph/dffx0LXn78/Odv3j293bXUosUnrtj1Bxf/3cyldj3uOI43u54HfxIWCWGREBYJYZEQFglhkRAWCWGREBYJYZEQFonba78Ag2w8z7ZjkRAWCWGREBYJYZEQFglhkRAWCWGREBYJYZG4XX7A8uS32ji1u3Ecd9HGt7JjkRAWCWGREBYJYZEQFglhkRAWCWGREBYJYZEQFomhA6vnH+VuPPZecfKh/iIDq0wnLBLCIiEsEsIiISwSwiIhLBLCIiEsEsIicbvrU7lrj9EaWIW/CYuEsEgIi4SwSAiLhLBICIuEsEgIi4SwSAiLhIHV/1jq8gysMp2wSAiLhLBICIuEsEgIi4SwSAiLhLBICIvEzhtWN5p57+uK888cZ977asciISwSwiIhLBLCIiEsEsIiISwSwiIhLBLCIiEsEkMHVi/v5I80LzKwynTCIiEsEsIiISwSwiIhLBLCIiEsEsIiISwSO88KZ95lutHM0dCZ977asUgIi4SwSAiLhLBICIuEsEgIi4SwSAiLhLBIDJ0rnHl75f2eci4yV8h0wiIhLBLCIiEsEsIiISwSwiIhLBLCIiEsEsIicZt53Hv52deZb25glemERUJYJIRFQlgkhEVCWCSERUJYJIRFQlgkdg6s3vV3XTkMrDKfsEgIi4SwSAiLhLBICIuEsEgIi4SwSAiLhLBIPLz2C+Q+fP+2ba3PX3at9OnxcddSH5+fdy21kR2LhLBICIuEsEgIi4SwSAiLhLBICIuEsEgIi4SwSAiLhLBICIuEsEgIi4SwSAiLhLBICIuEsEgIi4SwSPwG5WOiv8enhqMAAAAASUVORK5CYII=\" style=\"image-rendering: pixelated;\">\n",
              "            </div><div style=\"margin-right:10px; margin-top: 4px;\">\n",
              "              9 <br/>\n",
              "              <img src=\"data:image/PNG;base64,iVBORw0KGgoAAAANSUhEUgAAAMgAAACvCAIAAAA3ywYrAAACgElEQVR4nO3dQU1DURBA0ZZgAhd4wQMIAAHoqAc2BEn1ARL4JHPb98s562bSxc3bTCb/+Hg+HzY4fXz/+pvnp6NRW+b8h1F3W34EfyUsEsIiISwSwiIhLBLCIiEsEsIiISwSwiIhLBL3g7N2vTSdGnX59fmgwX/lxSIhLBLCIiEsEsIiISwSwiIhLBLCIiEsEsIiMbkr3O+V6eCoNbecGzlYZXXCIiEsEsIiISwSwiIhLBLCIiEsEsIiISwSwiJxf/lN5xZrrnIX3HkvO8qLRUJYJIRFQlgkhEVCWCSERUJYJIRFQlgkhEXiOPiF1Y0G146D/2qLBVeTy47yYpEQFglhkRAWCWGREBYJYZEQFglhkRAWCWGREBaJyYPVwZXwfs9od31l6mCV1QmLhLBICIuEsEgIi4SwSAiLhLBICIuEsEjc/sGqL6xeZZQXi4SwSAiLhLBICIuEsEgIi4SwSAiLhLBICIuEsEjc/sGqL6xeZZQXi4SwSAiLhLBICIuEsEgIi4SwSAiLhLBICIvE5MHqrndbDlZnR3mxSAiLhLBICIuEsEgIi4SwSAiLhLBICIuEsEhc4a7wtkftd8s5O8qLRUJYJIRFQlgkhEVCWCSERUJYJIRFQlgkhEVCWCQcrA6P2u/6fHaUF4uEsEgIi4SwSAiLhLBICIuEsEgIi4SwSAiLxKIHq4McrF5llBeLhLBICIuEsEgIi4SwSAiLhLBICIuEsEgIi4SwSFx0H7x3nw8PU6NO769Tow4vb1OTvqYGebGICIuEsEgIi4SwSAiLhLBICIuEsEgIi4SwSAiLhLBICIuEsEgIi4SwSAiLhLBICIuEsEgIi4SwSAiLxA/BoQzyxsKb+QAAAABJRU5ErkJggg==\" style=\"image-rendering: pixelated;\">\n",
              "            </div></div>"
            ],
            "text/plain": [
              "<IPython.core.display.HTML object>"
            ]
          },
          "metadata": {
            "tags": []
          }
        },
        {
          "output_type": "stream",
          "text": [
            "Visualization\n"
          ],
          "name": "stdout"
        },
        {
          "output_type": "display_data",
          "data": {
            "text/html": [
              "<div style=\"display: flex; flex-direction: row;\"><div style=\"margin-right:10px; margin-top: 4px;\">\n",
              "              0 <br/>\n",
              "              <img src=\"data:image/PNG;base64,iVBORw0KGgoAAAANSUhEUgAAAMgAAACrCAIAAACsWkQ9AAAFLUlEQVR4nO3dy09cdRyG8e+BmeHW0QpYU8AiF20Tg5LammrcNHGhRptgIpgYFzYa3aiNi7qqVjZGTUw0LkzUuGvUJtKFCy8LL4tqq9RWJLFKuQh4GaDATAGBYcZ/4Z3FGxc+n/Wbw4F5OBuG3ySPPn53aIbe/1pcRkRze7O4zE38LS5v2LtLXM4OT4rLiNjK1orLpPCPuExdn9VvoDxdEJebzQ3isnp+RVze8eDt4jIiPvv4rLis0i8K6AgLFoQFC8KCBWHBgrBgQViwICxYEBYsCAsWhAULwoIFYcEiuebqGnFaKGzq170p3SEux4qT4nL7VWlxuZCv4Fa3ZdXL5pfVdzeUy/rXj5p0tXrZzS1xmapTv6m1tQp+Vvq3xRMLFoQFC8KCBWHBgrBgQViwICxYEBYsCAsWhAULwoIFYcGCsGBBWLBIdfXsEafj347q133y83vE5alDQ+LyhcPPiMvnT7wjLiPizAcnxWXm4H5x2byrSb+B5amcuGzsbROXufMz4nJ3b6u4jIhfzs+KS55YsCAsWBAWLAgLFoQFC8KCBWHBgrBgQViwICxYEBYsCAsWhAWLZN929Q/mF4vz+nXfWFGPmnjtxh3i8tbpVXE5srNeXEbEwOIT4vL40qC4zCTqOR8RsZFSz9q4bqMkLhfSKXFZm07EZUTkV9WXlScWLAgLFoQFC8KCBWHBgrBgQViwICxYEBYsCAsWhAULwoIFYcEiVftQu7p9V/2//YgY//CwuFzvf09c1r/4sLicH/xIXEbEsdKd4nKwSv09bGpq1G8gN39ZXGb2qS9W8qP6YrUkdeIyIvLBuxvwnyIsWBAWLAgLFoQFC8KCBWHBgrBgQViwICxYEBYsCAsWhAWL5D55+mV9BX8Gv3l1TVz+lFKPOdhbVE8umOus4IMhilNL4vL30pa4TMrqcQwRUV2tnp6wtaVetm5bWlxe29osLiNi8uKf4pInFiwICxaEBQvCggVhwYKwYEFYsCAsWBAWLAgLFoQFC8KCBWHBInXlQKc4bTszqV/36HevisuBA0fFZe39veIy9ckFcRkRXX3d4jI3NCYuH3vpXv0Gzh7/VFy+MvGWuHyg64i4TNbV4xgqwhMLFoQFC8KCBWHBgrBgQViwICxYEBYsCAsWhAULwoIFYcGCsGBBWLBI6kI9kWJ3dwWnR9RdWhCX32fUG0iV1V+DYqIeHxIRjevqUR/z8vklh+TzSyJipFP9wS6Nz4nLvHyrW9kKbrW0qJ5KwhMLFoQFC8KCBWHBgrBgQViwICxYEBYsCAsWhAULwoIFYcGCsGCROvJDnzj9Yv8p/bqnS5fEZaaqS1y2tmbF5eTskriMiOo29c0FpZl5cfly+U39BvqrnhWXY2X1Bmqqd4rL3pYWcRkR5xanxSVPLFgQFiwICxaEBQvCggVhwYKwYEFYsCAsWBAWLAgLFoQFC8KCRfJroh6d0Hdbu37d+uEpcXmhISMuO1Y2xOVEXVpcRkT3qvqZH79l1csOFCr4HJHRHvX9BbnRv9Rlg/rI6FnbIy4j4lxxRFzyxIIFYcGCsGBBWLAgLFgQFiwICxaEBQvCggVhwYKwYEFYsCAsWKS++mZQnBb7TujX7X/9oLgcfu6KuMy35dQv/8dldRmR71DftVGeHBeXhUfu0m9g7uRpcXns7VvE5dNP/SwuZ3Ysi8uICPXdFTyx4EFYsCAsWBAWLAgLFoQFC8KCBWHBgrBgQViwICxYEBYsCAsWhAUAAAAAAAAAAAAAAID/oX8BkxjmaCMG19gAAAAASUVORK5CYII=\" style=\"image-rendering: pixelated;\">\n",
              "            </div><div style=\"margin-right:10px; margin-top: 4px;\">\n",
              "              1 <br/>\n",
              "              <img src=\"data:image/PNG;base64,iVBORw0KGgoAAAANSUhEUgAAAMgAAACrCAIAAACsWkQ9AAAE5klEQVR4nO3dy24bdRiG8W/G42ObpAk45CAlRFagQkgcNrDgIpBYILHmFlizYN8NexAr7oALYINoRaWCRIEUqtQ52Ikd1zn4HJtbeGfxigXPb/1qMm0ezyZ/jZPXluqhKd50xWVEDMoldTqeiMPVO2visn19of70iPu7m+Ly8eGpuHxrZ12/gW6zIy53P9oTlw9/PFCvubMqLiPi+YueuEz1iwI6woIFYcGCsGBBWLAgLFgQFiwICxaEBQvCggVhwYKwYEFYsMiK62Nx2v17rl/3g8VMXP5UUOPer70uLkdD9Y/wEdHvX4vL5UJNXF4O1GtGxGVSFJfHB21xmWWZuDw/7YvLXHhiwYKwYEFYsCAsWBAWLAgLFoQFC8KCBWHBgrBgQViwICxYEBYsCAsWWb2ltnVdXNGv+2zlVlxWz9QTJv1l9UUXvU4iLiMiuxmJy1minkUppepJmIhYk0/j9K/UIy7VRH0pS2Ujx61eN9Ub4IkFC8KCBWHBgrBgQViwICxYEBYsCAsWhAULwoIFYcGCsGBBWLBI9hK1raNingoXC3E4n6vLRD6yoF8zIlL5upn8/pJyQf/5MZqqy0z+FUxn6v9AJcnxrpfLiXpohScWLAgLFoQFC8KCBWHBgrBgQViwICxYEBYsCAsWhAULwoIFYcEi2916W5x2zp7q171br4jL1umNuKwU1FcnTOQvXImIYkl9ecF0PBGXt/Mcn9iFemIgGuvL4rLZVr/J5v77a+qPj3j46FBc8sSCBWHBgrBgQViwICxYEBYsCAsWhAULwoIFYcGCsGBBWLAgLFhk/UVLnJYLOV5IsH2ift/Ey5p6ZmE6ynFmQad/tory900s3cnxie1dqYcmeicdcTnM1Bv49clAXObCEwsWhAULwoIFYcGCsGBBWLAgLFgQFiwICxaEBQvCggVhwYKwYJEtv/eqOL36Qf3TekRc3N0Sl8mwLS73Ghvi8vifrriMiEqhJC7TW/V8x2xwpd/ATP4Wj1qm3mrIb6/49JN31GtGfPf9Y3HJEwsWhAULwoIFYcGCsGBBWLAgLFgQFiwICxaEBQvCggVhwYKwYEFYsEj2NlbF6fNWT7/uUqkqLkezkbisldVTK0P1LRsREZn6po8YjtUvJ7lXUd90EhE3Y/WIy1ZVPTh0PlIPI01u5+IyIqbykicWLAgLFoQFC8KCBWHBgrBgQViwICxYEBYsCAsWhAULwoIFYcEie9DYFqefd3L8GTzW1ddXDI7V0w2v1NfE5fFRjoMY5ZJ6vGE2GYvLnXfVd6JExNOfX4jLs/lLcTmRf1eNlbo6jfizfy4ueWLBgrBgQViwICxYEBYsCAsWhAULwoIFYcGCsGBBWLAgLFgQFiyyj/fVtwx8dbSiX7fUbIrLX9JEXHbOLsTlQr5mRKRFdVwoqP9XJ7+39BsopOrHe7xQT4KUEvUflU7uicuIiOB0A/5ThAULwoIFYcGCsGBBWLAgLFgQFiwICxaEBQvCggVhwYKwYJE9+eYLcXpQ/Va/7vYb6rdIpM/Ua27ufyYum388UC8asVT6UFyOkkficlN+I0ZEHPzWFZdvNr4Wl4d/fSku29W+uIyIGKpDnliwICxYEBYsCAsWhAULwoIFYcGCsGBBWLAgLFgQFiwICxaEBQvCAgAAAAAAAAAAAAAAwP/Qv5du2vaoXktsAAAAAElFTkSuQmCC\" style=\"image-rendering: pixelated;\">\n",
              "            </div><div style=\"margin-right:10px; margin-top: 4px;\">\n",
              "              2 <br/>\n",
              "              <img src=\"data:image/PNG;base64,iVBORw0KGgoAAAANSUhEUgAAAMgAAACrCAIAAACsWkQ9AAAE8klEQVR4nO3dy24bdRiG8c/2uJM4iRNzCI1oRVAph1aJCCeJborohjVsuATughUrroIlqwJSOUhUQhWqOAni0koNNChtopLEdZJmbMdncwvvLN4Vz2/9ajDp49l4NP/Cd++vheaj63fFZUS8Of2cuPyi8be4PL84Iy4bBz1xGRGvvX1WXH77wz1xuZjW9A/Q6R+Jy4srL4jL32+pf9WFdFZcRkSj1xKXRf2igI6wYEFYsCAsWBAWLAgLFoQFC8KCBWHBgrBgQViwICxYEBYskmuvnxOn+1/W9esuvfeGuBx8rj40UegNxWU2mojLiFjf2hOX+rdw8qz6USNi+r564f2TprgcyP/1cVqWtxHyUyPcsWBBWLAgLFgQFiwICxaEBQvCggVhwYKwYEFYsCAsWBAWLAgLFoQFi8I7b02L08fbiX7dk7m2uPxnsyQunyiMxGVWUP+nIiI9NRaX7aH6MMxcKcc3tic/5DMt/wsc99RrVivq3z8i9o+74pI7FiwICxaEBQvCggVhwYKwYEFYsCAsWBAWLAgLFoQFC8KCBWHBIrl4+ZI4vfrpdf26z6+eF5e799RzRFrVKXHZO+qIy4joyu/vqCTq9/Cgn+OlIPNl9bJZ7ZS47O6ciMtxJ8cLVHTcsWBBWLAgLFgQFiwICxaEBQvCggVhwYKwYEFYsCAsWBAWLAgLFsnPX98Up4Najhci7N16KC6PS+q7A1YrqbhcP1RfMRARy0+dFZf3Hz0Ql5fmV/QP8Ed2R1xWE/V4kl5RPZzk1bklcRkRvxxui0vuWLAgLFgQFiwICxaEBQvCggVhwYKwYEFYsCAsWBAWLAgLFoQFi+TdD6+I088+vqZf9/Tll8Vl86u76vJY/cU+TXIcotHs74vLpFAQl/VsU/8A1bF6NIZ+hoR+zcMn1WdGIiIO1SF3LFgQFiwICxaEBQvCggVhwYKwYEFYsCAsWBAWLAgLFoQFC8KCRfLr1RvitCW/OCAibv+0pV62pD6JUJW/BcNQf9uPiDPFGXG5nQ7E5TOxoH+ArZ56isT8nrrsTqkv2lgYH4jLXLhjwYKwYEFYsCAsWBAWLAgLFoQFC8KCBWHBgrBgQViwICxYEBYsCAsWyYN6W5yWJzmuO1SvGoXhUFyWspG4HMmvxIiIzlA9H6XfVT9ANiu/PSNi0lP/sqNZ9RGjYUN9wObPTH/VSA7csWBBWLAgLFgQFiwICxaEBQvCggVhwYKwYEFYsCAsWBAWLAgLFskgrYrT4SDTr/tKSf3NvF5RzxHZ6avv5CjlOfLkxVpFXD4qqU83LJZzPDLQnKhvWxk8Vv8C5ZkpcblWVZcRcbPREpfcsWBBWLAgLFgQFiwICxaEBQvCggVhwYKwYEFYsCAsWBAWLAgLFkm7pv5inz5UlxFxenVZXNZ/3BSX566cEZe73++Iy4hYXnlaXK5/o54O0qzkOB4maavPLFx4aUlc3tn4V1xuhHriSy7csWBBWLAgLFgQFiwICxaEBQvCggVhwYKwYEFYsCAsWBAWLAgLFkmr0Renpak1/bq//aUezTCcXBCXJxsfiMus+Im4jIgbt9WDITpF+ZmFRH1iIiImifr6jKN+Ki5Hibrs7eY4REPHHQsWhAULwoIFYcGCsGBBWLAgLFgQFiwICxaEBQvCggVhwYKwYEFYAAAAAAAAAAAAAAAA+B/6D5X267HQsWRoAAAAAElFTkSuQmCC\" style=\"image-rendering: pixelated;\">\n",
              "            </div><div style=\"margin-right:10px; margin-top: 4px;\">\n",
              "              3 <br/>\n",
              "              <img src=\"data:image/PNG;base64,iVBORw0KGgoAAAANSUhEUgAAAMgAAACrCAIAAACsWkQ9AAAE8UlEQVR4nO3dTW9UVRzH8f+dOXceKFBLfQimVIgpJURWEnDpThaaGF+B8VUYY+Ka+AZ8A5iwcaEhEGIMBgyQaGIFTUQotVAdKK3jzKXTufNQ38LvLn4rv5/1P6en02/vZk7Ozb44/25oPv70W3EyIt7/YFmcvHBxRZw81p4VJ9fGhTgZEfubuThZDIbi5PILM/oGHvy7I04erLfFye5YXfOtYy+JkxFx7f5TcbKmLwroCAsWhAULwoIFYcGCsGBBWLAgLFgQFiwICxaEBQvCggVhwSJ9/uUtcfRAra6ve+3uI3GywjGAd9Tv4evf9PVVJ6/viZO1u5k4uZqr5yAioqX+/MiPz6mTvw3Eye+b6oGFSnhiwYKwYEFYsCAsWBAWLAgLFoQFC8KCBWHBgrBgQViwICxYEBYsCAsWKf58Lo6OGg193d5aT5wsW01xsn+9I04OJ1NxMiJOLy+Ik91f18TJj86+oW/gk8u/iJP54y1xcjxVP4G5RxX+rNtRipM8sWBBWLAgLFgQFiwICxaEBQvCggVhwYKwYEFYsCAsWBAWLAgLFilfUm/l+OenbX3dk++9LE4+vLQpTpYn1H+D9s0K95dkm+qlHE/yljh5/tQf+gamX6snEZpn1JMI06u74mTZVw8sVMITCxaEBQvCggVhwYKwYEFYsCAsWBAWLAgLFoQFC8KCBWHBgrBgkYoN9cvtCtchRHRuqFdCFDX1cMHhe0mc7MpXDETE/ZW/xMmxvOb8BfXlKBHxZE/9BIpb6pmFsfpRxemFF9XRiB8ePhMneWLBgrBgQViwICxYEBYsCAsWhAULwoIFYcGCsGBBWLAgLFgQFizSdjlQZ9Xv4CMiyq2+OLk/qXH300icTFWOYoyW1Q3s3lY/q+KIeiNGRMyuqxvYOTcRJ+e+Ute8M1H/UpXwxIIFYcGCsGBBWLAgLFgQFiwICxaEBQvCggVhwYKwYEFYsCAsWKRWVz0IUGYVjjfMt46Kk/fKNXHy8ED9N+hOK2x194560YN6cULEvhX9nofoyXc3zFxSr4ToT9RzEK8MKrzFoydP8sSCBWHBgrBgQViwICxYEBYsCAsWhAULwoIFYcGCsGBBWLAgLFgQFizS2bF6bOa7JL9GIyK9rU7OXlGPghQn1bMo7ZvqT4+IyYy6gbSjrtlrqfeXRETSb+VYUrea/awu2ekN5R9fAU8sWBAWLAgLFoQFC8KCBWHBgrBgQViwICxYEBYsCAsWhAULwoJFWlw6J46ONq7o6/Z/fKZOym0fXW2Jk6uZes9HRCyOG+Lkek09s/DatMIrT9bluzbS7+pRlKymnoM4szAvTkbEjQdPxUmeWLAgLFgQFiwICxaEBQvCggVhwYKwYEFYsCAsWBAWLAgLFoQFi/T4s3Vx9PiH6hfmEZHvFOJkR/4evuyopwDyeoVrJnbVww3RmKpb3Tii/voRkW+pyx6cUffaHarvZ7mdq+dQKuGJBQvCggVhwYKwYEFYsCAsWBAWLAgLFoQFC8KCBWHBgrBgQViwyBYXXxVHN/+u6+vu1dV7FkbyixH2Nd8UJ8vyorpoRJYOiZN7o644mdpz+gZGwwPiZKs9ECcnQ/VjzRoVXqJRPFdPbfDEggVhwYKwYEFYsCAsWBAWLAgLFoQFC8KCBWHBgrBgQViwICxYEBYAAAAAAAAAAAAAAAD+h/4Dq+nn+rStKkAAAAAASUVORK5CYII=\" style=\"image-rendering: pixelated;\">\n",
              "            </div><div style=\"margin-right:10px; margin-top: 4px;\">\n",
              "              4 <br/>\n",
              "              <img src=\"data:image/PNG;base64,iVBORw0KGgoAAAANSUhEUgAAAMgAAACrCAIAAACsWkQ9AAAEsUlEQVR4nO3dyW7bVhyF8cNBMmV5iOrEQ2ygKIqgi3YT5P2foIuii7aLtAgSxGmjpJYiR/PAvsLh4qz6/dZ/3NDkF250cVnc1H15JuXenJS03rjDbeGueaHSnJz0KndRabR1L3V2VJuTT9c7/wLGtXsLit3BnKxOj83Ji9ncnJT0wZ50HxXQCWEhgrAQQViIICxEEBYiCAsRhIUIwkIEYSGCsBBBWIggLETU89szc3T79rO/bjNozMnlcmVOrk/czQWHrxtzUtJieGRO7uZrc/LxbuRfwOH91Jx8cnluTn4Zu2tOn39jTkrShwdzkDcWIggLEYSFCMJCBGEhgrAQQViIICxEEBYiCAsRhIUIwkIEYSGCsBBR2EdyqKk6VFjtW3Ny3fTMyXrlbobZdTkUpLQPBVHp3oHBwT29Q9K8dB9CU7h/127obltazb6ak5Lch8obCyGEhQjCQgRhIYKwEEFYiCAsRBAWIggLEYSFCMJCBGEhgrAQUV99f2mOTv8ad1j4ifslFU3dPQv9Zyfm5P5Th1/seyP36yC7ycKcLOyjViT1Pi7NyfLKPb9kc+/egbrusBNku3N3gvDGQgRhIYKwEEFYiCAsRBAWIggLEYSFCMJCBGEhgrAQQViIICxEFO7BCVJRdfgZfLN3fwavevaHTLY7c7Kw15Qke1nV9v/DXYezG/yrPS7dx7UYuJO305k5KemdPckbCxGEhQjCQgRhIYKwEEFYiCAsRBAWIggLEYSFCMJCBGEhgrAQUVy/uDJHH193OLuhuByak5uxe8rA/szdBVDO7A0LUv/CPbth/a97dkPzzF1T0vbBPb2ivnZPrzjcT91//mrkTkrLjxNzkjcWIggLEYSFCMJCBGEhgrAQQViIICxEEBYiCAsRhIUIwkIEYSGicD91IO37Hc5uOGzcsxv8AxFK/0CExv4uhnRYuZsL2qIwJ+u27XABfXfXxlDuiQzrxn5Ysw5f8Vjbk7yxEEFYiCAsRBAWIggLEYSFCMJCBGEhgrAQQViIICxEEBYiCAsRhIWI+vnLO3P04Zf3/rqLU3crSPvoHuAxuLYPGvlnbk5Kaof2Zpi5uxlmeHPqX8ByvDQnt+4NUGtvhjlkPg/DGwsRhIUIwkIEYSGCsBBBWIggLEQQFiIICxGEhQjCQgRhIYKwEFHcle7pEZ+OOvwM3lu650csjxtzsrLXPHQ5FKTDsn33TA5/F4Ck9si92hO5j2A1cF8ZP0wezUlJv9qTvLEQQViIICxEEBYiCAsRhIUIwkIEYSGCsBBBWIggLEQQFiIICxH14NW1OTr4+d5ft/322Jwcvl2Yk70XI3Ny+XpiTko6+/HSnJz/NjYnT35y76qk+e+fzcmtfVebN+4d+PO7G3NSkt78bQ7yxkIEYSGCsBBBWIggLEQQFiIICxGEhQjCQgRhIYKwEEFYiCAsRBT96twcrU6e+uuuZu5OhKr/hznZbm/NyeL8nTkpaT91z24oev7ZDe6OCUl1435Ho9i5D6ut3Y0Y+7X9R0n7wxdzkjcWIggLEYSFCMJCBGEhgrAQQViIICxEEBYiCAsRhIUIwkIEYSGCsAAAAAAAAAAAAAAAAPA/9B/4HdHe4YgUhQAAAABJRU5ErkJggg==\" style=\"image-rendering: pixelated;\">\n",
              "            </div><div style=\"margin-right:10px; margin-top: 4px;\">\n",
              "              5 <br/>\n",
              "              <img src=\"data:image/PNG;base64,iVBORw0KGgoAAAANSUhEUgAAAMgAAACrCAIAAACsWkQ9AAAFEElEQVR4nO3dO28cdRiF8XdmZ29eNo5jjE2w0SoJF5HGQYpIExSUhoYKiQI6JAokJCQqWmoKlAbEF6CgoIECpSBKJIggoAgJsEDJyoljNpe115v1ZW/e4SucLU7F86uPxhPnyTQZ/Sf56p23QvPJ5SviMiLm2lvicq1eE5eV3p643E4TcRkRi7N1cflwV72B5clEv4H2zIy4HO8eiMvDLBWXqysL4jIifr69KS7VHw9MhbBgQViwICxYEBYsCAsWhAULwoIFYcGCsGBBWLAgLFgQFiyyr5t/idP2Tk+/7tufXxCXf77/g7isn1JfQ+g11bcAIqLfV8f5cCQua3NL+g086NwXl+ffbIjLq99siMuslovLqfDEggVhwYKwYEFYsCAsWBAWLAgLFoQFC8KCBWHBgrBgQViwICxYEBYskhcbT4rTzv1D/bqd4WNxWSyWxeWJRfW1mbV7bXEZEUcr6pkcvQP1UJCl5Lh+A/eSlrh8vVISl5fH6qkkTwwG4jIiOvKSJxYsCAsWhAULwoIFYcGCsGBBWLAgLFgQFiwICxaEBQvCggVhwSK7e1f9NsloMsXpEeV6RVwOdvvicmeg/jOY5FN8cWRnuC8uq/JlN0L9NEhE1ORf7KPSy+Iy3/9JXE5m1Zc7IiK66u+KJxYsCAsWhAULwoIFYcGCsGBBWLAgLFgQFiwICxaEBQvCggVhwSIrRFWcptlQv245T8TlOM3E5XBbPWWgUCqKy4g4LX/I5I+Ceqsn54/qN3DnoXrSRKu7Li7r8+o7C422eiBFRNyUlzyxYEFYsCAsWBAWLAgLFoQFC8KCBWHBgrBgQViwICxYEBYsCAsW2aefXRSnH3/0vX7d0ytPicvra3fE5cLss+Ky053i6IRW5Yi4zAc9cXn4SD0RIyL0D348rm2Ly0H7QFymr52Qf37ElaZ62SkuCsgICxaEBQvCggVhwYKwYEFYsCAsWBAWLAgLFoQFC8KCBWHBIjkrT5vVsn7dbl89ECHNCuLy1eycuLw2vC4uI6JWUD+i0Z+oh0eUx1N87mFUUS9bGqjL4ZGauFzoTnF2w3qoH9HgiQULwoIFYcGCsGBBWLAgLFgQFiwICxaEBQvCggVhwYKwYEFYsCAsWGQfXHpDnH7x4bf6dR+8cFxcrv/9r7j8tfyb+uMPx+oyojY3EZfdtvouUHW+r99AvqW+DDOqlMTloLsrLotnnhGXERE31dNWeGLBgrBgQViwICxYEBYsCAsWhAULwoIFYcGCsGBBWLAgLFgQFiyS5wtFcbqZqf+1HhF5or5fMB6rLxe8lKj/DP5R/0wREav76ssFN0rqsSiry0v6Dfy+ob7fEYfq76pYr4rL1YMpXsT4caj+tfLEggVhwYKwYEFYsCAsWBAWLAgLFoQFC8KCBWHBgrBgQViwICxYZM2C+hGLfDDFtzHSTE02Has30LjwnLjcvHZbXEbE/qkFcVlZ74nL1mZLv4FUfWUhXjn7tLi88Yv6xkT12Hn1x0fE1lVxyBMLFoQFC8KCBWHBgrBgQViwICxYEBYsCAsWhAULwoIFYcGCsGCRzBSXxelK46J+3Vu31DcR6rNfist8oB4esTfaEJcRUQj1pIdji++Jy3brjH4DafFdcTkZqb+BYrEmLpP8nLiMiL3hd+KSJxYsCAsWhAULwoIFYcGCsGBBWLAgLFgQFiwICxaEBQvCggVhwYKwAAAAAAAAAAAAAAAA8D/0H8Ri8JBMt0qUAAAAAElFTkSuQmCC\" style=\"image-rendering: pixelated;\">\n",
              "            </div><div style=\"margin-right:10px; margin-top: 4px;\">\n",
              "              6 <br/>\n",
              "              <img src=\"data:image/PNG;base64,iVBORw0KGgoAAAANSUhEUgAAAMgAAACrCAIAAACsWkQ9AAAEjElEQVR4nO3dzW0kVRhG4a+6q//GFrYHW0IsvIAFggDIhVRIggAIgFgIACFYgASzAGnGZjx2u91VXUUK710cseA86093rj3HtamrW93N7WVlHv58CCeravHRKpx8ef+SrvmqDyfn/RxOVtX1zXU4ebh7F04+dQ0bmMdTONmv09/ANEzpv54uWVU1xssuGlaVYoYlhGEJYVhCGJYQhiWEYQlhWEIYlhCGJYRhCWFYQhiWEN2mNuHo0A/5uts42efTGE4uu2U4ObccLpjSF/bVVTxaXb6BfLerRXoUYZjTExPzqeF3lfOJJYRhCWFYQhiWEIYlhGEJYVhCGJYQhiWEYQlhWEIYlhCGJYRhCdFvPovvmfi94dhMt0nPjSyn9DDM1evX4eT93X04WVWrXbrV4Tk9YbI7Tw8jVdXzh0M4uXyVbvW0TyfX5+n1LVX1/HgMJ31iCWFYQhiWEIYlhGEJYVhCGJYQhiWEYQlhWEIYlhCGJYRhCdGdL9K2Dg0v7GuZfsekhj6+EiM+XTE2XMlR6yndwEufrrsdG27ayJddxsuO8ZqV3h5SVTXN6QZ8YglhWEIYlhCGJYRhCWFYQhiWEIYlhGEJYVhCGJYQhiWEYQnRD4v0Nfj0nH/wo2obL3uIDwJcprcMzP80XDMxXcXL3qfLjjfpjRhVVW/TAwbLi3Srw0P6IZn4dEtVNRyF8IklhGEJYVhCGJYQhiWEYQlhWEIYlhCGJYRhCWFYQhiWEIYlRHe1St/D7zcN9xGcntKjEFPFy+b/fn5zQdU6vhDhuI7vbmg4XVGH+AebKt1AF6/ZNfyvVn6+xSeWEIYlhGEJYVhCGJYQhiWEYQlhWEIYlhCGJYRhCWFYQhiWEP3u0+twdHzzNl/3MT5e0MVvzJcfL8PJ8V3D5xbGXfrXld9eMZylW62q2qfLbi/SZY/v4/sgzhoeLtNTuqxPLCEMSwjDEsKwhDAsIQxLCMMSwrCEMCwhDEsIwxLCsIQwLCEMS4jupk8vBflw0bDufJeerxjjj4P0Q3p/xbhpuBRkcUwnp106udo3XLUxxLvt460O23RyPqSTVTXP6c/lE0sIwxLCsIQwLCEMSwjDEsKwhDAsIQxLCMMSwrCEMCwhDEuI/pvh63D0+/7HfN1xmb6xPw3plRirL1bh5PzrGE5WVfdVetPG9FO67PLzTb6B42/poYX+k3U4OfyVrrnbxcdLqvb79FsuPrGEMCwhDEsIwxLCsIQwLCEMSwjDEsKwhDAsIQxLCMMSwrCE6H64vQ1Hv1095Ose3zyHk3/P6QvzdXxk4djywZHtlB7EOPTpzQXn6c9UVfWYHy+Il+3i0xWnl4ZrJibvbtB/y7CEMCwhDEsIwxLCsIQwLCEMSwjDEsKwhDAsIQxLCMMSov/uMv2ExB8/pwcWqqrv4q9IHNO7Gxar9M/gNDa8se/OvkyXffolnDysG+5umIf02Ea3SP+zWs4sNHzFoyrdgE8sIQxLCMMSwrCEMCwhDEsIwxLCsIQwLCEMSwjDEsKwhDAsIQxLkiRJkiRJkiRJkiRJ/0P/Asgl40Cz5/DAAAAAAElFTkSuQmCC\" style=\"image-rendering: pixelated;\">\n",
              "            </div><div style=\"margin-right:10px; margin-top: 4px;\">\n",
              "              7 <br/>\n",
              "              <img src=\"data:image/PNG;base64,iVBORw0KGgoAAAANSUhEUgAAAMgAAACrCAIAAACsWkQ9AAAEoUlEQVR4nO3dy44TRxiG4b/64LG7DR6HTJhBIIGi3P/tZJEVIBhE5uRD43afcgtfLz55kfdZ/ypKzTvedKk6/f7qKjTP50mcjIhiHMTJtlyIk+upEycPSV0zIurxLE42hbrsZur1DbzIs9NZ3WrabsXJ96lV//mIzw+NOJnpiwI6woIFYcGCsGBBWLAgLFgQFiwICxaEBQvCggVhwYKwYEFYsCiO9Uoc7ffP+rrVZi1OtruDODlU6uGC1Kgv4WctOx3UZU+vlvoGpvYkTv52dyNOvvz4V5x8+ngrTkZEcLoBl0VYsCAsWBAWLAgLFoQFC8KCBWHBgrBgQViwICxYEBYsCAsWhAWLtCjktvJcXzefRnGyl+OeevX2jCmf8Qcz9epWs0J9Anmv3okSEX2WxMl6oW7gvFDP7ZT9UZyMiP1Rflb6ooCOsGBBWLAgLFgQFiwICxaEBQvCggVhwYKwYEFYsCAsWBAWLIqrjXopSPM44zV4LNX38ONJ/ZBJWatfZ+kOMz7joT+B88svcTLfVvoGhif1po1fuXp/ybDbi5N9XoiTERHB6QZcFGHBgrBgQViwICxYEBYsCAsWhAULwoIFYcGCsGBBWLAgLFik1VJtq40Zr8HLUb1noc3UN/ZVqOcgTuOMP5hlpr6x15fV14yIk/wEyvasLnr9Whz8Q36qEfHlQf0+Db9YsCAsWBAWLAgLFoQFC8KCBWHBgrBgQViwICxYEBYsCAsWhAWLYrndiKPd/ZO+brdWj0Lkh5M42V+rX1tIzzPubhhey8vu1Lsb0pu1voFMPjJQ3r0RJ88/HsXJh3c34mREBKcbcFmEBQvCggVhwYKwYEFYsCAsWBAWLAgLFoQFC8KCBWHBgrBgkZYLta0uqR+biIh8UO9u6Ar55oJBPbPQF+o3LCKiHNVlz6P6BBZpxt0NfSrFybyX71nYqIdW1p16YCEiHvfqfyu/WLAgLFgQFiwICxaEBQvCggVhwYKwYEFYsCAsWBAWLAgLFoQFC8KCRbG+vRZH919nXArSr9RLQbJGPbWS5EtBsmf1opGIGGt1q+moHhqJSj0JExHRqB8ymWr1iNH09CJO7lYzjhhFcGwGF0VYsCAsWBAWLAgLFoQFC8KCBWHBgrBgQViwICxYEBYsCAsWaZOpbR2X6qv1iEit+sZ+XKpv18tOXfNczthqPanLHuUPqRRp0jfQZerxiq18LUtTVeLkx6tBXTTi7297cZJfLFgQFiwICxaEBQvCggVhwYKwYEFYsCAsWBAWLAgLFoQFC8KCRVHercTR8nujr5vfqPcsDD/VexbK21qcnO6P4mREXP15K06e/vkuTnaR9A1Erx6vaD+9FSfTl5/i5Ne/PoiTERGcbsBlERYsCAsWhAULwoIFYcGCsGBBWLAgLFgQFiwICxaEBQvCgkWqK/U+gCG/0detS/XQxO70KE4u5ZsLTjHjPoIqqccrdo18ZqF/r28gkvoViTypH4Yo1tfi5CLUsxURsdvdi5P8YsGCsGBBWLAgLFgQFiwICxaEBQvCggVhwYKwYEFYsCAsWBAWLAgLAAAAAAAAAAAAAAAA/0P/AUYN2s1ed8D4AAAAAElFTkSuQmCC\" style=\"image-rendering: pixelated;\">\n",
              "            </div><div style=\"margin-right:10px; margin-top: 4px;\">\n",
              "              8 <br/>\n",
              "              <img src=\"data:image/PNG;base64,iVBORw0KGgoAAAANSUhEUgAAAMgAAACrCAIAAACsWkQ9AAAE6klEQVR4nO3d32tbdRzG8U+Sb5M0a5q2YxZXYhG1CuLFUAYDmRcbggjzxn/A/0lvvJgXgjdejN7IcCqCvyijIrP+gnR2W9ct7dJ1SZpfTRr/hedcPFe+X9cPJ4f23XOT03NytUo1NN3+sbiMiPfXLojLRuM3cfnOW2+Iy8821GNGREX+CbT7PXG5MDunn0C73xWXK/PnxOVu+4m4/Gj1TXEZEZ/ubIjLvH5QQEdYsCAsWBAWLAgLFoQFC8KCBWHBgrBgQViwICxYEBYsCAsW6eLF58TpN99v68etvzcVl5ufFMXlj80dcVkqJHEZEZFOxOHidCIuB7mB/vk1+bDdSVtcLuXUY+4+ronLTLhiwYKwYEFYsCAsWBAWLAgLFoQFC8KCBWHBgrBgQViwICxYEBYsCAsW6c+/dtVpPkOF337ZEJcHod61styfEZeLtZK4jIgPJ2Nx+fGMegLlKOgn8LSg/mDP5tRjDpJ649AwPVMPmgVXLFgQFiwICxaEBQvCggVhwYKwYEFYsCAsWBAWLAgLFoQFC8KCRZrsj8RpoZjhG/vyQ/XxFUX5G/vL114Vl9evb6oHjdi8WheXZ26pd4K0R0P9BKqn6rK8pP4KevfUt7Pcid/Vj8+CKxYsCAsWhAULwoIFYcGCsGBBWLAgLFgQFiwICxaEBQvCggVhwSKdVhbE6ekwwz/5LxQvicvhZENcfvXFHXE5msnwypO9n5vi8miqvselnFOf8hARQ/mvu9tWbwXpyp9+tf66vI0b27fFJVcsWBAWLAgLFoQFC8KCBWHBgrBgQViwICxYEBYsCAsWhAULwoJFWnpebeuwIT9jIGKvpD4R4PxEPeyD8URczg3Vl01ERPvcrLgsddRTHWZ5dkNJfotE77gvLtdKZ8Rls/5IXEZEbKtDrliwICxYEBYsCAsWhAULwoIFYcGCsGBBWLAgLFgQFiwICxaEBYt0uH8sTjPcMBBxefVdcflLY11cXnjpBXF5658H4jIixi31gQgnOXV5bf6KfgLrne/EZTGvvpniUP51ze2o94xkwhULFoQFC8KCBWHBgrBgQViwICxYEBYsCAsWhAULwoIFYcGCsGBBWLBIy1X1kRhPOxkedJF/+664vP+v+naQcfexuJxOstzjM1X/uirqG0/i6+EP+udXT9VnjXT1C8FYPebd1hP1mFlwxYIFYcGCsGBBWLAgLFgQFiwICxaEBQvCggVhwYKwYEFYsCAsWKTz5bI4HVSW9ONu3WzKW/V7+KNHI3E5SuodExFRr86Jy/uTnrhcGZ3oJ3AvFcVlpaA+FGQo34jxwWur6jTi89t/i0uuWLAgLFgQFiwICxaEBQvCggVhwYKwYEFYsCAsWBAWLAgLFoQFi3RzW30gwkJFfcpDRFx6cVFcbjYPxGW+oP4ZzMrf7UfEQU996ct0NBCXrRn1jomISNEXl/N99aaJXkm9aeWn1kNxmQlXLFgQFiwICxaEBQvCggVhwYKwYEFYsCAsWBAWLAgLFoQFC8KCRTp6WX10Qq1zRT/u+q/qYXOpJS7H07q4HEz/EJcRkeurp1pIr4jLtZUt/QS29pbFZb56VlzmTvbFZedZhhsxIjrijisWLAgLFoQFC8KCBWHBgrBgQViwICxYEBYsCAsWhAULwoIFYcGCsAAAAAAAAAAAAAAAAPA/9B/Q3+PJEMetmQAAAABJRU5ErkJggg==\" style=\"image-rendering: pixelated;\">\n",
              "            </div><div style=\"margin-right:10px; margin-top: 4px;\">\n",
              "              9 <br/>\n",
              "              <img src=\"data:image/PNG;base64,iVBORw0KGgoAAAANSUhEUgAAAMgAAACrCAIAAACsWkQ9AAAEs0lEQVR4nO3dz24bVRiG8XfOzNiO7YQAVYUqVXTRBXATbGANt8iC+0Big9hWggUSC0hUCk0bO4nteP5xC68Xr1jw/Nafjifu09n46JzqRfWpPA/l2pyUpFVtDt4eK3OynTpzcj+5ny7p+YU7/GbnPup8OvoPsHX/LNXjYE6W+cKc/Ozw0v146dX0yn0Af1HAR1iIICxEEBYiCAsRhIUIwkIEYSGCsBBBWIggLEQQFiIICxHNtf40R2v3p31JGrvWHe0O7mQ7NwdLb68p/X1Ym5Pd/t59gLrxH6AaenPy8uMn5uTtu7fm5D/lL3NSktzdFbyxkEFYiCAsRBAWIggLEYSFCMJCBGEhgrAQQViIICxEEBYiCAsRhIWIaj5zd8OU4u5akTTr3ZM2Dv3OnJwv3TXvTziSQ001mpNVP5mTpTnhf+wwuMu2rbts37qHglTdgzkp6fBofwP+ooCPsBBBWIggLEQQFiIICxGEhQjCQgRhIYKwEEFYiCAsRBAWIprlbGWObu7dIzEkLZfuoSC9vWVgtrcv/HCXlKSzM3cjwL7buw9Q22eiSMPwaE6OR/cb6I7uP1atUw57sfHGQgRhIYKwEEFYiCAsRBAWIggLEYSFCMJCBGEhgrAQQViIICxENHXj/rQ+t28ckXR7cI9PKPayQ3GvBpmO7nEMku4O7v0oZeHug3hy6X++Xt+496NU9jETzfLcnHxad+akpKsb96AH3liIICxEEBYiCAsRhIUIwkIEYSGCsBBBWIggLEQQFiIICxGEhYhmLGtztB82/rrz4iZ76N1f1wd7zcaelDRN7uEF09HdsrHpPzrhAcZ35uRw8YG75nZrTr49d/dBnIQ3FiIICxGEhQjCQgRhIYKwEEFYiCAsRBAWIggLEYSFCMJCBGEhohl79wqDUtX+usfJvUOhqtzNBaW4a2r9oTspnY/ufRPvH9yNGP3O3VwgScU9u6HYl4NMa3fTymJwj66Q5I/yxkIEYSGCsBBBWIggLEQQFiIICxGEhQjCQgRhIYKwEEFYiCAsRBAWIprVwt1h0u1v/HVHe4eLJvcajzK5+3bGzXv747Ut7rLF/qvGx8l/gMn+Bqblypwc7tx9O7sq8nLhjYUIwkIEYSGCsBBBWIggLEQQFiIICxGEhQjCQgRhIYKwEEFYiGg+v3RHf9q2/rrT+OhOnl+Yk+vqwZzcHM/MSUmzwX3UY7swJ6up9x+g1O6yw25nTs5X7qEgL9xbVCTpl6s7c5I3FiIICxGEhQjCQgRhIYKwEEFYiCAsRBAWIggLEYSFCMJCBGEhovn2y2/M0evvv/PX3X7yzJy8efPanHznHnGgdTnhGo92dW5Ojvfub/tnFyfsGRi3G3OyW7j7IMrRvcflt/a5OSlJYncD/lOEhQjCQgRhIYKwEEFYiCAsRBAWIggLEYSFCMJCBGEhgrAQ0fyx+tkcvXr2hb/u6v7WnOwq90iIr5uvzMkf9KM5KWkxa8zJrpmbk3V7ws0U/cxd9mL+1Jw89O7hES+r381JSb+qMid5YyGCsBBBWIggLEQQFiIICxGEhQjCQgRhIYKwEEFYiCAsRBAWIggLAAAAAAAAAAAAAAAA/0P/ApPz4INkoBaWAAAAAElFTkSuQmCC\" style=\"image-rendering: pixelated;\">\n",
              "            </div></div>"
            ],
            "text/plain": [
              "<IPython.core.display.HTML object>"
            ]
          },
          "metadata": {
            "tags": []
          }
        }
      ]
    },
    {
      "cell_type": "markdown",
      "metadata": {
        "id": "QO5RLMGvljDG",
        "colab_type": "text"
      },
      "source": [
        "# NMF on attributions with ```score_fn = tf.reduce_max```\n",
        "Most of the visualzations are 0. Maybe I'm doing something wrong?"
      ]
    },
    {
      "cell_type": "code",
      "metadata": {
        "id": "H6VZnLevj9X7",
        "colab_type": "code",
        "outputId": "73a58b01-53f8-457d-b7a9-4171993cc81b",
        "colab": {
          "base_uri": "https://localhost:8080/",
          "height": 0
        }
      },
      "source": [
        "score_fn = tf.reduce_max\n",
        "attr = get_attr(model, output_layer_name, hidden_layer_name, some_observations, integrate_steps=10, score_fn=score_fn)\n",
        "reduced = reduce_and_norm(attr)\n",
        "show_with_obs(some_observations, reduced, 10)"
      ],
      "execution_count": 21,
      "outputs": [
        {
          "output_type": "stream",
          "text": [
            "normalize_by 0.0\n",
            "Time left in episode\n"
          ],
          "name": "stdout"
        },
        {
          "output_type": "display_data",
          "data": {
            "text/html": [
              "<div style=\"display: flex; flex-direction: row;\"><div style=\"margin-right:10px; margin-top: 4px;\">\n",
              "              0 <br/>\n",
              "              <img src=\"data:image/PNG;base64,iVBORw0KGgoAAAANSUhEUgAAAMgAAACvCAAAAACdws6gAAAA7klEQVR4nO3RAQ2AMAwAQUaQgQv8C8IFJgZclj8BbT8d97aG/e8DZilEU4imEE0hmkI0y4QcXy+8Xpq7zEcK0RSiKURTiKYQzTj/vmCSZT5SiKYQTSGaQjSFaArRFKIpRFOIphBNIZpCNIVoCtEUoilEU4imEE0hmkI0hWgK0RSiKURTiKYQTSGaQjSFaArRFKIpRFOIphBNIZpCNIVoCtEUoilEU4imEE0hmkI0hWgK0RSiKURTiKYQTSGaQjSFaArRFKIpRFOIphBNIZpCNIVoCtEUoilEU4imEE0hmkI0hWgK0RSiKURTiKYQzQM+YQKXoLBTxwAAAABJRU5ErkJggg==\" style=\"image-rendering: pixelated;\">\n",
              "            </div><div style=\"margin-right:10px; margin-top: 4px;\">\n",
              "              1 <br/>\n",
              "              <img src=\"data:image/PNG;base64,iVBORw0KGgoAAAANSUhEUgAAAMgAAACvCAAAAACdws6gAAAA7klEQVR4nO3awQmAQAwAQRWLsP82bM63T7kDh2PnH8iSb/ZrG3KPjc9z/L3ALIVoCtEUoilEU4imEE0hmkI0hWgK0RSiKURTiKYQTSGaQjSFaArRFKIpRFOIphBNIZpCNOf3EeZp7mWZixSiKURTiKYQTSGaQjSFaArRFKIpRFOIphBNIZpCNIVoCtEUoilEU4imEE0hmkI0hWgK0RSiKURTiKYQTSGaQjSFaArRFKIpRFOIphBNIZpCNIVoCtEUoilEU4imEE0hmkI0hWgK0RSiKURTiKYQTSGaQjSFaArRFKIpRFOIphBNIZplQh7oRgLu25aYvwAAAABJRU5ErkJggg==\" style=\"image-rendering: pixelated;\">\n",
              "            </div><div style=\"margin-right:10px; margin-top: 4px;\">\n",
              "              2 <br/>\n",
              "              <img src=\"data:image/PNG;base64,iVBORw0KGgoAAAANSUhEUgAAAMgAAACvCAAAAACdws6gAAAA6klEQVR4nO3RsQ2AMBAEQUwzFETrFERKAZY8WDvZZ7f68Ry/dX+Pc9WK2QrRFKIpRFOIphDNNiHjWr1gkm0+UoimEE0hmkI0hWgK0RSiKURTiKYQTSGaQjSFaArRFKIpRFOIphBNIZpCNIVoCtEUoilEU4imEE0hmkI0hWgK0RSiKURTiKYQTSGaQjSFaArRFKIpRFOIphBNIZpCNIVoCtEUoilEU4imEE0hmkI0hWgK0RSiKURTiKYQTSGaQjSFaArRFKIpRFOIphBNIZpCNIVoCtEUoilEU4imEE0hmkI0hWgK0RSiKUTzAn/fAqvR7YpBAAAAAElFTkSuQmCC\" style=\"image-rendering: pixelated;\">\n",
              "            </div><div style=\"margin-right:10px; margin-top: 4px;\">\n",
              "              3 <br/>\n",
              "              <img src=\"data:image/PNG;base64,iVBORw0KGgoAAAANSUhEUgAAAMgAAACvCAAAAACdws6gAAAA70lEQVR4nO3bsQ2AMAwAQUDswf6DsQc1BR2JTtHfALZerr3f2xjXoLlfjsn7hilEU4imEE0hmkI0hWgK0RSiKURTiKYQTSGaQjSFaArRFKIpRFOIphBNIZpCNIVoCtEUoilEU4imEE0hmkI0hWgK0RSiKURTiKYQTSGaZULOH2fN/mp9WeYihWgK0RSiKURTiKYQTSGaQjSFaArRFKIpRFOIphBNIZpCNIVoCtEUoilEU4imEE0hmkI0hWgK0RSiKURTiKYQTSGaQjSFaArRFKIpRFOIphBNIZpCNIVoCtEUoilEU4imEE0hmkI0hWgeG9wCg1xtL1wAAAAASUVORK5CYII=\" style=\"image-rendering: pixelated;\">\n",
              "            </div><div style=\"margin-right:10px; margin-top: 4px;\">\n",
              "              4 <br/>\n",
              "              <img src=\"data:image/PNG;base64,iVBORw0KGgoAAAANSUhEUgAAAMgAAACvCAAAAACdws6gAAAA7ElEQVR4nO3dwQmAQAwAQRU7sWur9WsDF5ZjpoCEJQXkfI713oEd18COEUJqhNQIqRFSI6RGSI2QGiE1QmqE1AipEVIjpEZIjZAaITVCaoTUCKkRUiOkRkiNkBohNUJqhNQIqRFSI6RGSI2QGiE1QmqE1AipEVIjpEZIjZAaITVCaoTUCKkRUiOkRkiNkBohNUJqhNQIqRFSI6RGSI2QGiE1QmqE1AipEVIjpEZIjZAaITVCaoTUCKkRUiOkRkiNkBohNUJqhNTcqwZPfG792+YiQmqE1AipEVIjpEZIjZAaITVCaoTUCKnZJuQDd6kCtxkl0/kAAAAASUVORK5CYII=\" style=\"image-rendering: pixelated;\">\n",
              "            </div><div style=\"margin-right:10px; margin-top: 4px;\">\n",
              "              5 <br/>\n",
              "              <img src=\"data:image/PNG;base64,iVBORw0KGgoAAAANSUhEUgAAAMgAAACvCAAAAACdws6gAAAA70lEQVR4nO3R0QmAMBAFQSMWYq/WYa/WIASyhJn/g7fceI89nKsHzCKkRkiNkBohNUJqhNQIqRFSI6RGSI2QGiE1QmqE1AipEVIjpEZIjZAaITVCaoTUCKkRUiOkRkiNkBohNUJqhNQIqRFSI6RGSI2QGiE1QmqE1AipEVIjpEZIjZAaITVCaoTUCKkRUiOkRkiNkBohNUJqhNQIqRFSI6RGSI2QGiE1QmqE1AipEVIjpEZIjZAaITVCaoTUCKkRUiOkRkjN9f/kmb9igm0+IqRGSI2QGiE1QmrGvXrBJNt8REiNkBohNUJqhNRsE/IBGlcCn8bJhooAAAAASUVORK5CYII=\" style=\"image-rendering: pixelated;\">\n",
              "            </div><div style=\"margin-right:10px; margin-top: 4px;\">\n",
              "              6 <br/>\n",
              "              <img src=\"data:image/PNG;base64,iVBORw0KGgoAAAANSUhEUgAAAMgAAACvCAAAAACdws6gAAAA7klEQVR4nO3YMQqAMBAAQRWf72N8orWFkELIEHbaS3HLddnvbcQ19GqmY/YCfylEU4imEE0hmkI0hWgK0RSiKURTiKYQzTIh5+fE/5N7WeYihWgK0RSiKURTiKYQTSGaQjSFaArRFKIpRFOIphBNIZpCNIVoCtEUoilEU4imEE0hmkI0hWgK0RSiKURTiKYQTSGaQjSFaArRFKIpRFOIphBNIZpCNIVoCtEUoilEU4imEE0hmkI0hWgK0RSiKURTiKYQTSGaQjSFaArRFKIpRFOIphBNIZpCNIVoCtEUoilEU4imEE0hmkI0hWgK0TxU0wMotj1OxgAAAABJRU5ErkJggg==\" style=\"image-rendering: pixelated;\">\n",
              "            </div><div style=\"margin-right:10px; margin-top: 4px;\">\n",
              "              7 <br/>\n",
              "              <img src=\"data:image/PNG;base64,iVBORw0KGgoAAAANSUhEUgAAAMgAAACvCAAAAACdws6gAAAA6klEQVR4nO3RsQ2AMBAEQUyTFEZLFEZKAZY8WDvZZ7f68Ry/dX+Pc9WK2QrRFKIpRFOIphDNNiHjWr1gkm0+UoimEE0hmkI0hWgK0RSiKURTiKYQTSGaQjSFaArRFKIpRFOIphBNIZpCNIVoCtEUoilEU4imEE0hmkI0hWgK0RSiKURTiKYQTSGaQjSFaArRFKIpRFOIphBNIZpCNIVoCtEUoilEU4imEE0hmkI0hWgK0RSiKURTiKYQTSGaQjSFaArRFKIpRFOIphBNIZpCNIVoCtEUoilEU4imEE0hmkI0hWgK0RSiKUTzAvBOAwum6zRmAAAAAElFTkSuQmCC\" style=\"image-rendering: pixelated;\">\n",
              "            </div><div style=\"margin-right:10px; margin-top: 4px;\">\n",
              "              8 <br/>\n",
              "              <img src=\"data:image/PNG;base64,iVBORw0KGgoAAAANSUhEUgAAAMgAAACvCAAAAACdws6gAAAA6ElEQVR4nO3RwQmAMAAEQWOTYv99iF8LCGQMOxXccuM5Pu7jt87VA2YpRFOIphBNIZpCNIVoCtEUoilEU4imEE0hmkI0hWgK0RSiKURTiKYQTSGaQjSFaArRFKIpRFOIphBNIZpCNIVotgkZ1+oFk2zzSCGaQjSFaArRFKIpRFOIphBNIZpCNIVoCtEUoilEU4imEE0hmkI0hWgK0RSiKURTiKYQTSGaQjSFaArRFKIpRFOIphBNIZpCNIVoCtEUoilEU4imEE0hmkI0hWgK0RSiKURTiKYQTSGaQjSFaArRFKIpRFOI5gUmSgMLCJ9C/QAAAABJRU5ErkJggg==\" style=\"image-rendering: pixelated;\">\n",
              "            </div><div style=\"margin-right:10px; margin-top: 4px;\">\n",
              "              9 <br/>\n",
              "              <img src=\"data:image/PNG;base64,iVBORw0KGgoAAAANSUhEUgAAAMgAAACvCAAAAACdws6gAAAA70lEQVR4nO3cMQqAMBAAQRX/41v9sbWFkELIEHbaS3HL9dmvbcQ99GqmY/YCfylEU4imEE0hmkI0hWgK0RSiKURTiKYQTSGaQjSFaArRFKIpRFOIphBNIZpCNIVoCtEUoilEU4imEE0hmkI0hWgK0RSiKURTiKYQTSGaQjSFaArRFKIpRFOIphDN+Tnxv0J5WeYihWgK0RSiKURTiKYQTSGaQjSFaArRFKIpRFOIphBNIZpCNIVoCtEUoilEU4imEE0hmkI0hWgK0RSiKURTiKYQTSGaQjSFaArRFKIpRFOIphBNIZpCNIVoCtEsE/IApkECsY5UfW4AAAAASUVORK5CYII=\" style=\"image-rendering: pixelated;\">\n",
              "            </div></div>"
            ],
            "text/plain": [
              "<IPython.core.display.HTML object>"
            ]
          },
          "metadata": {
            "tags": []
          }
        },
        {
          "output_type": "stream",
          "text": [
            "Color channels (vertical stripes are 'apples'\n"
          ],
          "name": "stdout"
        },
        {
          "output_type": "display_data",
          "data": {
            "text/html": [
              "<div style=\"display: flex; flex-direction: row;\"><div style=\"margin-right:10px; margin-top: 4px;\">\n",
              "              0 <br/>\n",
              "              <img src=\"data:image/PNG;base64,iVBORw0KGgoAAAANSUhEUgAAAMgAAACvCAIAAAA3ywYrAAACrklEQVR4nO3dMYpUQRRA0W6ZTcyeDMwMDQVTDQwNZw0uQDATmWg2NKsYcAOCT6j7p35zTvx53Q2XSh71+/rh04/LwMO79/985uuvnxuOGhp+4pGGv27yzY8f9WbyEPwvYZEQFglhkRAWCWGREBYJYZEQFglhkRAWCWGRuFs469RL04mFoyb2XOoPRzmxSAiLhLBICIuEsEgIi4SwSAiLhLBICIuEsEis3BWeere1atSpF6YurLI7YZEQFglhkRAWCWGREBYJYZEQFglhkRAWCWGRuD4/vUyeO3jTOXTwW5M33HkPHf96aScWCWGREBYJYZEQFglhkRAWCWGREBYJYZEQFom7814NHbr5C6urPm7IhVVek7BICIuEsEgIi4SwSAiLhLBICIuEsEgIi4SwSNyd+tW8G47ac6k/5B9W2Z2wSAiLhLBICIuEsEgIi4SwSAiLhLBICIvEphdWF7r5C6t7jnJikRAWCWGREBYJYZEQFglhkRAWCWGREBYJYZEQFolzX1iduPkLqwu5sMruhEVCWCSERUJYJIRFQlgkhEVCWCSERUJYJDa9sHreUXvuXodcWGV3wiIhLBLCIiEsEsIiISwSwiIhLBLCIiEsEtfnp5fJc+ddk938vcI9RzmxSAiLhLBICIuEsEgIi4SwSAiLhLBICIuEsEgIi4QLq4tHHfz/sZctN/EXJxYRYZEQFglhkRAWCWGREBYJYZEQFglhkRAWiXP/EeaGoxauJoc2XJhenFhEhEVCWCSERUJYJIRFQlgkhEVCWCSERUJYJIRF4vraX+Dvft/frxr1/dvnVaMeP35ZNWqht+tGPa4b5cQiISwSwiIhLBLCIiEsEsIiISwSwiIhLBLCIiEsEsIiISwSwiIhLBLCIiEsEsIiISwSwiIhLBLCIiEsEn8AHDH+R79/Qc4AAAAASUVORK5CYII=\" style=\"image-rendering: pixelated;\">\n",
              "            </div><div style=\"margin-right:10px; margin-top: 4px;\">\n",
              "              1 <br/>\n",
              "              <img src=\"data:image/PNG;base64,iVBORw0KGgoAAAANSUhEUgAAAMgAAACvCAIAAAA3ywYrAAACfklEQVR4nO3dwUlDQRRA0USCPaQX+xHXWoBdCDYhiCVYg9W4sAHBL8xNZj7nrMNLFpfZPB45fr3dHjb4PD38+Zm775dRozba8o0bv27jj7/k1y096mbLh+C/hEVCWCSERUJYJIRFQlgkhEVCWCSERUJYJIRF4rT0pvPCLryJX3qUF4uEsEgIi4SwSAiLhLBICIuEsEgIi4SwSAiLxHHOg9V1Ry29e3WwyuyERUJYJIRFQlgkhEVCWCSERUJYJIRFQlgkhEVi7YPVCUetuz4fO8qLRUJYJIRFQlgkhEVCWCSERUJYJIRFQlgkhEVi/werA024mpx2lBeLhLBICIuEsEgIi4SwSAiLhLBICIuEsEgIi4SwSOz/YHVOAzfxAzlYZXbCIiEsEsIiISwSwiIhLBLCIiEsEsIiISwSpzmvTJcetcWcC1MHq8xOWCSERUJYJIRFQlgkhEVCWCSERUJYJIRFQlgk9n+w6h9WrzLKi0VCWCSERUJYJIRFQlgkhEVCWCSERUJYJIRFYv//sHrhUetuOceO8mKREBYJYZEQFglhkRAWCWGREBYJYZEQFglhkXBXOHjUulvOsaO8WCSERUJYJIRFQlgkhEVCWCSERUJYJIRFQlgkhEXCwergUeuuz8eO8mKREBYJYZEQFglhkRAWCWGREBYJYZEQFglhkXCwOnjUulvOsaO8WCSERUJYJIRFQlgkhEVCWCSERUJYJIRFQlgkhEXieO0f8Lv383nUqNfnx1GjDvdPoyZ9jBo0Ky8WCWGREBYJYZEQFglhkRAWCWGREBYJYZEQFglhkRAWCWGREBYJYZEQFglhkRAWCWGREBYJYZEQFglhkfgBJAQN8c4l3dMAAAAASUVORK5CYII=\" style=\"image-rendering: pixelated;\">\n",
              "            </div><div style=\"margin-right:10px; margin-top: 4px;\">\n",
              "              2 <br/>\n",
              "              <img src=\"data:image/PNG;base64,iVBORw0KGgoAAAANSUhEUgAAAMgAAACvCAIAAAA3ywYrAAACqklEQVR4nO3dIY5UQRRA0W7SbhL8SFY2kgUMAolkDSyDoGYrCCR+/CQIDIJkStT9/01yju78qt+5KVN53denl4fLgg/vv776mV/Pnwc+atHiiq9a3NLKcgPf7rK8q3e71oN/CYuEsEgIi4SwSAiLhLBICIuEsEgIi4SwSAiLxO3sDfzfzKvcjWbexG/clROLhLBICIuEsEgIi4SwSAiLhLBICIuEsEgIi8TQu8Ljr8l2LTdz1Pb4u1cnFglhkRAWCWGREBYJYZEQFglhkRAWCWGREBYJYZEYegnNKQysMp2wSAiLhLBICIuEsEgIi4SwSAiLhLBICIvEzrvC46ciD/7j0JmjoRu/BAOrTCcsEsIiISwSwiIhLBLCIiEsEsIiISwSwiIhLBIGVt+8g3/L2cAqZxIWCWGREBYJYZEQFglhkRAWCWGREBYJYZG4/rz7vfK5gaOhi49atOsFj9/Sxu9z13IXJxYRYZEQFglhkRAWCWGREBYJYZEQFglhkRAWCWGRGDqwevxvD6+YeX2+kYFVphMWCWGREBYJYZEQFglhkRAWCWGREBYJYZG4zZyKPH5XB//D6kYz//fViUVCWCSERUJYJIRFQlgkhEVCWCSERUJYJIRF4rbxFmmjt7src4V/ObFICIuEsEgIi4SwSAiLhLBICIuEsEgIi4SwSAiLxNCB1ZlmjobuWm6RgVXOJCwSwiIhLBLCIiEsEsIiISwSwiIhLBLCIjF0YHWjmS84c/bVwCrTCYuEsEgIi4SwSAiLhLBICIuEsEgIi4SwSAiLxPXsDeS+39/vetS3L4+7HnX5+GnXk37setBWTiwSwiIhLBLCIiEsEsIiISwSwiIhLBLCIiEsEsIiISwSwiIhLBLCIiEsEsIiISwSwiIhLBLCIiEsEsIi8QfVOqCdeKUbQwAAAABJRU5ErkJggg==\" style=\"image-rendering: pixelated;\">\n",
              "            </div><div style=\"margin-right:10px; margin-top: 4px;\">\n",
              "              3 <br/>\n",
              "              <img src=\"data:image/PNG;base64,iVBORw0KGgoAAAANSUhEUgAAAMgAAACvCAIAAAA3ywYrAAACq0lEQVR4nO3dwW1TQRRAURu5iUipIkWwAVEGNEAZSFlDGQg21JBNFqkhbVACgzT3e8Y5Z/31YktXf/P04vP90+NpwO/P7//5zIcff4wamfMWRr0beQj+l7BICIuEsEgIi4SwSAiLhLBICIuEsEgIi4SwSJyfH15Gnltz07ngqH3X53NHeWOREBYJYZEQFglhkRAWCWGREBYJYZEQFglhkThPPFgdNLhsGnHwmmzEwd9u8C86WOVGCIuEsEgIi4SwSAiLhLBICIuEsEgIi4SwSAiLxOX49eSIrfevB3OwyhsiLBLCIiEsEsIiISwSwiIhLBLCIiEsEsIicZk4a+t/xrrmHnDEmgtTbywSwiIhLBLCIiEsEsIiISwSwiIhLBLCIiEsEsIiMXMJPdHNH6zuu4l3sMo1CYuEsEgIi4SwSAiLhLBICIuEsEgIi4SwSFyO3yKN2HdNtvWW08EqqxMWCWGREBYJYZEQFglhkRAWCWGREBYJYZEQFonz88PLyHNrbjoXHLXv+nzuKG8sEsIiISwSwiIhLBLCIiEsEsIiISwSwiIhLBLn+6fHkefW/C3TiSeyDlbnjvLGIiEsEsIiISwSwiIhLBLCIiEsEsIiISwSwiJx2XohNeLm7wonclfI6oRFQlgkhEVCWCSERUJYJIRFQlgkhEVCWCSEReIKv7C676iJDl7qD3KwyuqERUJYJIRFQlgkhEVCWCSERUJYJIRFQlgk9j5YXXPUiH0Xpg5WuSZhkRAWCWGREBYJYZEQFglhkRAWCWGREBYJYZE4X/sD5H7e3c0a9en1ddaoj7MGnU6n799mTfr15eusUd5YJIRFQlgkhEVCWCSERUJYJIRFQlgkhEVCWCSERUJYJIRFQlgkhEVCWCSERUJYJIRFQlgkhEVCWCSEReIvVh78AIChL88AAAAASUVORK5CYII=\" style=\"image-rendering: pixelated;\">\n",
              "            </div><div style=\"margin-right:10px; margin-top: 4px;\">\n",
              "              4 <br/>\n",
              "              <img src=\"data:image/PNG;base64,iVBORw0KGgoAAAANSUhEUgAAAMgAAACvCAIAAAA3ywYrAAAClElEQVR4nO3dMUpdURRA0fzgJJyTBLuUloJ1igwhhRNwAkI6CVaZ0B+FkAkE8j6crfe9rFU/jhab2xwO/3T38Pxpgx+3X//5zfeXn0ZtmfM/jPq85SO4lLBICIuEsEgIi4SwSAiLhLBICIuEsEgIi4SwSJzOv9+2fLfmpnPBUe+/Pp/6cxtt/K+8WCSERUJYJIRFQlgkhEVCWCSERUJYJIRFQlgkrvZ7GrrmqDW3nBs5WGV1wiIhLBLCIiEsEsIiISwSwiIhLBLCIiEsEsIicfyD1Y2mTjr3uz6fHeXFIiEsEsIiISwSwiIhLBLCIiEsEsIiISwSwiLhYPUC+12Y+oVVDkJYJIRFQlgkhEVCWCSERUJYJIRFQlgkhEVCWCSOf7B6+F9YXXOUF4uEsEgIi4SwSAiLhLBICIuEsEgIi4SwSAiLhIPV4VH73XLOjvJikRAWCWGREBYJYZEQFglhkRAWCWGREBYJYZEQFgkHq8Oj9rs+nx3lxSIhLBLCIiEsEsIiISwSwiIhLBLCIiEsEsIicbp7eN7y3ZoLqXceNWjBLefsKC8WCWGREBYJYZEQFglhkRAWCWGREBYJYZEQFgl3hReMGrTfham7Qj6SsEgIi4SwSAiLhLBICIuEsEgIi4SwSAiLhLBI+IXV4VFrrs8drHIQwiIhLBLCIiEsEsIiISwSwiIhLBLCIiEsEg5Wh0ftd8s5O8qLRUJYJIRFQlgkhEVCWCSERUJYJIRFQlgkhEVCWCROH/0P/N3N3KjXuVG/rq+nRn05n6dG3Tw9To16vf82NcqLRUJYJIRFQlgkhEVCWCSERUJYJIRFQlgkhEVCWCSERUJYJIRFQlgkhEVCWCSERUJYJIRFQlgkhEVCWCT+AHOYIeVILHYTAAAAAElFTkSuQmCC\" style=\"image-rendering: pixelated;\">\n",
              "            </div><div style=\"margin-right:10px; margin-top: 4px;\">\n",
              "              5 <br/>\n",
              "              <img src=\"data:image/PNG;base64,iVBORw0KGgoAAAANSUhEUgAAAMgAAACvCAIAAAA3ywYrAAACgklEQVR4nO3dsUlEURRF0RmZKuzByArMxRrMLMHQOjSyEyvQxCIsQxsQ/MLd+B+uFQ8Hg81LLh+P969vhw3eX25//M3F1bOpLTv/Yepsy4/gt4RFQlgkhEVCWCSERUJYJIRFQlgkhEVCWCSEReK09KVzh1Prns9np7xYJIRFQlgkhEVCWCSERUJYJIRFQlgkhEVCWCROSx+kdji17pVzdsqLRUJYJIRFQlgkhEVCWCSERUJYJIRFQlgkhEVCWCR8sDo8te75fHbKi0VCWCSERUJYJIRFQlgkhEVCWCSERUJYJIRFwgerw1PrXjlnp7xYJIRFQlgkhEVCWCSERUJYJIRFQlgkhEVCWCSERcIHq8NT657PZ6e8WCSERUJYJIRFQlgkhEVCWCSERUJYJIRFQlgkfLA6PLXulXN2yotFQlgkhEVCWCSERUJYJIRFQlgkhEVCWCSERUJYJHywOjy17vl8dsqLRUJYJIRFQlgkhEVCWCSERUJYJIRFQlgkhEXieP/6tuV3+zxI7XBq42ly0A4PpgcvFhFhkRAWCWGREBYJYZEQFglhkRAWCWGREBYJ3xUOT208TQ7a4cH04MUiIiwSwiIhLBLCIiEsEsIiISwSwiIhLBLCIiEsEv7D6vDUuufz2SkvFglhkRAWCWGREBYJYZEQFglhkRAWCWGREBYJH6wOT6175Zyd8mKREBYJYZEQFglhkRAWCWGREBYJYZEQFglhkRAWieNf/wHfu56bunz4HJt6Op+aunucWjp83HyMbc3xYpEQFglhkRAWCWGREBYJYZEQFglhkRAWCWGREBYJYZEQFglhkRAWCWGREBYJYZEQFglhkRAWCWGREBaJL6FaI4febyYHAAAAAElFTkSuQmCC\" style=\"image-rendering: pixelated;\">\n",
              "            </div><div style=\"margin-right:10px; margin-top: 4px;\">\n",
              "              6 <br/>\n",
              "              <img src=\"data:image/PNG;base64,iVBORw0KGgoAAAANSUhEUgAAAMgAAACvCAIAAAA3ywYrAAACmElEQVR4nO3dsW1UQRRA0V20ZTigAjeCRREEpG6BAnABJFSB+3HmNsgREoM09+/z+pz4a/zXuvrJ09Oc7x/vTgt+fnz+5zNfXj45auWc93DUh5WH4H8Ji4SwSAiLhLBICIuEsEgIi4SwSAiLhLBICIvEZeN4cqaZP3Dg+HzvUb5YJIRFQlgkhEVCWCSERUJYJIRFQlgkhEVCWCQuG6dIiw6eyh0/JluxcTV0IwurTCcsEsIiISwSwiIhLBLCIiEsEsIiISwSwiIhLBKXa79AzsLqOgurTCcsEsIiISwSwiIhLBLCIiEsEsIiISwSwiKxc1b4dldDTyPfyg2r8CdhkRAWCWGREBYJYZEQFglhkRAWCWGREBYJYZHYecPqzR81kxtWeUeERUJYJIRFQlgkhEVCWCSERUJYJIRFQlgkzvePdyvPzbxhdeCY7O3+oxb/ooVVrklYJIRFQlgkhEVCWCSERUJYJIRFQlgkhEVCWCRu/4bVmzdwEn/yxSIiLBLCIiEsEsIiISwSwiIhLBLCIiEsEsIicfs3rG508Jtv3H1dZGGV6YRFQlgkhEVCWCSERUJYJIRFQlgkhEVCWCSG7hXOvAhz4/Du4GXARfYKmU5YJIRFQlgkhEVCWCSERUJYJIRFQlgkhEVCWCSGDqE3mnnD6sEz70UWVplOWCSERUJYJIRFQlgkhEVCWCSERUJYJIRF4rJxtjXTzf/AjSysMp2wSAiLhLBICIuEsEgIi4SwSAiLhLBICIuEsEicr/0Cf/ew76hf+47a6OHH911Hff32tOuoz6+vu47yxSIhLBLCIiEsEsIiISwSwiIhLBLCIiEsEsIiISwSwiIhLBLCIiEsEsIiISwSwiIhLBLCIiEsEsIiISwSvwG/frJV27Eu4QAAAABJRU5ErkJggg==\" style=\"image-rendering: pixelated;\">\n",
              "            </div><div style=\"margin-right:10px; margin-top: 4px;\">\n",
              "              7 <br/>\n",
              "              <img src=\"data:image/PNG;base64,iVBORw0KGgoAAAANSUhEUgAAAMgAAACvCAIAAAA3ywYrAAACl0lEQVR4nO3dsU1cQRRA0V20TdATQmTuwDRA4BII3AAlkDmmoa0CyQ0gMZbm7p+xzolXbze4muTpwfn68Xka8OvP+7efeX36MWvUoJFvHPy6wR9/y6/betTdyIfgXwmLhLBICIuEsEgIi4SwSAiLhLBICIuEsEgIi8Rl603njd14E7/1KC8WCWGREBYJYZEQFglhkRAWCWGREBYJYZEQFonzxIPVQbNOQ09Lrsm23r06WGV1wiIhLBLCIiEsEsIiISwSwiIhLBLCIiEsEsIiccDB6oh9968TV+yDFtzEn7xYRIRFQlgkhEVCWCSERUJYJIRFQlgkhEVCWCQuW/8F1QVH3fgfug6OcrDKf0JYJIRFQlgkhEVCWCSERUJYJIRFQlgkhEVCWCT2/g+ra26FRyy4Pp87yotFQlgkhEVCWCSERUJYJIRFQlgkhEVCWCSERcLB6vxRI/ZdmDpY5UjCIiEsEsIiISwSwiIhLBLCIiEsEsIiISwSwiLhYHXyqK3X5w5WWZ2wSAiLhLBICIuEsEgIi4SwSAiLhLBICIvE+frxOfK5NRdSC47ad8s5d5QXi4SwSAiLhLBICIuEsEgIi4SwSAiLhLBICIuEu8LJo/bdcs4d5cUiISwSwiIhLBLCIiEsEsIiISwSwiIhLBLCIiEsEoserE7kYPWQUV4sEsIiISwSwiIhLBLCIiEsEsIiISwSwiIhLBKLHqxO5GD1kFFeLBLCIiEsEsIiISwSwiIhLBLCIiEsEsIiISwSwiJxPvoHfO3h7fe0Wc8vsyb9vL+fNerxep01ak1eLBLCIiEsEsIiISwSwiIhLBLCIiEsEsIiISwSwiIhLBLCIiEsEsIiISwSwiIhLBLCIiEsEsIiISwSwiLxF+oiETUSINAnAAAAAElFTkSuQmCC\" style=\"image-rendering: pixelated;\">\n",
              "            </div><div style=\"margin-right:10px; margin-top: 4px;\">\n",
              "              8 <br/>\n",
              "              <img src=\"data:image/PNG;base64,iVBORw0KGgoAAAANSUhEUgAAAMgAAACvCAIAAAA3ywYrAAACgElEQVR4nO3dsU3sUBBA0d0vYnLq+YSIgCKgAcqgAZqgAmiCJmiDkBAjveudhXNia9YrXTl5Gvt4eXg/bHD9/+Xba17f7ozaMucvjPq35SL4KWGREBYJYZEQFglhkRAWCWGREBYJYZEQFglhkbg49Q38UQOPz9eO8sQiISwSwiIhLBLCIiEsEsIiISwSwiIhLBLCIrHyrHDhVuSvt3A1dCELq0wnLBLCIiEsEsIiISwSwiIhLBLCIiEsEsIiISwSQxdWZ55nL9znnMnCKtMJi4SwSAiLhLBICIuEsEgIi4SwSAiLhLBIXOx/KjfzZaxb7Pwt0/1ZWGU6YZEQFglhkRAWCWGREBYJYZEQFglhkRAWCWGRGPrW5LM+yj1fFlaZTlgkhEVCWCSERUJYJIRFQlgkhEVCWCSEReJ4eXjfct3MLdOdR20xc9V2/2NcTywSwiIhLBLCIiEsEsIiISwSwiIhLBLCIiEsEsIiMfQLq2w381DfE4uEsEgIi4SwSAiLhLBICIuEsEgIi4SwSAiLxAm+sLqznf/gzDf8WljllxAWCWGREBYJYZEQFglhkRAWCWGREBYJYZGwV/gDMzf4FrJXyHTCIiEsEsIiISwSwiIhLBLCIiEsEsIiISwSwiKx8hD6rBcsB/7c/iysMp2wSAiLhLBICIuEsEgIi4SwSAiLhLBICIuEhVW+WFhlOmGREBYJYZEQFglhkRAWCWGREBYJYZEQFglhkTie+gbOyc3z07JZD4+rJt1fXa0adfvxsWqUJxYJYZEQFglhkRAWCWGREBYJYZEQFglhkRAWCWGREBYJYZEQFglhkRAWCWGREBYJYZEQFglhkRAWCWGR+AT955XPuwfW7QAAAABJRU5ErkJggg==\" style=\"image-rendering: pixelated;\">\n",
              "            </div><div style=\"margin-right:10px; margin-top: 4px;\">\n",
              "              9 <br/>\n",
              "              <img src=\"data:image/PNG;base64,iVBORw0KGgoAAAANSUhEUgAAAMgAAACvCAIAAAA3ywYrAAACmElEQVR4nO3dsW1UURBAURZthkRu2nAbCNEBmQMqoARqoArH9EAbbE6ORAl+SHOX/z7nxF+zDq5eMhr58vvT51cL3n79+OI3v748G7Uy538Y9XrlI/hbwiIhLBLCIiEsEsIiISwSwiIhLBLCIiEsEsIicXlz+77y3TE3nYsL5hWLv/iifdfns6O8WCSERUJYJIRFQlgkhEVCWCSERUJYJIRFQlgkrlsvpAZHrdh3YepglZMQFglhkRAWCWGREBYJYZEQFglhkRAWCWGREBaJ8x+s3nnU1pt4B6scnbBICIuEsEgIi4SwSAiLhLBICIuEsEgIi8TFf1idHbXvlnN2lBeLhLBICIuEsEgIi4SwSAiLhLBICIuEsEgIi4SwSDhYHR617/p8dpQXi4SwSAiLhLBICIuEsEgIi4SwSAiLhLBICIvE+Q9WBx1wNXnYUV4sEsIiISwSwiIhLBLCIiEsEsIiISwSwiIhLBLCInH+g9VBg+vzqZ9b5GCVkxAWCWGREBYJYZEQFglhkRAWCWGREBYJYZG4HvPKdN9R999yHnON68UiISwSwiIhLBLCIiEsEsIiISwSwiIhLBLCInH+u8I7L++2PgZ0V8jRCYuEsEgIi4SwSAiLhLBICIuEsEgIi4SwSAiLxOTB6qCt968rBtfngxyscnTCIiEsEsIiISwSwiIhLBLCIiEsEsIiISwS1/ufhq7Y92B10Z23nIscrHJ0wiIhLBLCIiEsEsIiISwSwiIhLBLCIiEsEsIicfnXf0Du/dyop4eHqVE/nn5Ojfr2+G5q1O3DbWqUF4uEsEgIi4SwSAiLhLBICIuEsEgIi4SwSAiLhLBICIuEsEgIi4SwSAiLhLBICIuEsEgIi4SwSAiLhLBI/AFGsQtp+7wPvAAAAABJRU5ErkJggg==\" style=\"image-rendering: pixelated;\">\n",
              "            </div></div>"
            ],
            "text/plain": [
              "<IPython.core.display.HTML object>"
            ]
          },
          "metadata": {
            "tags": []
          }
        },
        {
          "output_type": "stream",
          "text": [
            "Visualization\n"
          ],
          "name": "stdout"
        },
        {
          "output_type": "display_data",
          "data": {
            "text/html": [
              "<div style=\"display: flex; flex-direction: row;\"><div style=\"margin-right:10px; margin-top: 4px;\">\n",
              "              0 <br/>\n",
              "              <img src=\"data:image/PNG;base64,iVBORw0KGgoAAAANSUhEUgAAAMgAAACrCAIAAACsWkQ9AAAAeklEQVR4nO3BMQEAAADCoPVPbQo/oAAAAAAAAAAAAAAAAAAAAAAAAAAAAAAAAAAAAAAAAAAAAAAAAAAAAAAAAAAAAAAAAAAAAAAAAAAAAAAAAAAAAAAAAAAAAAAAAAAAAAAAAAAAAAAAAAAAAAAAAAAAAAAAAAAAAOBikYIAAXS1NDgAAAAASUVORK5CYII=\" style=\"image-rendering: pixelated;\">\n",
              "            </div><div style=\"margin-right:10px; margin-top: 4px;\">\n",
              "              1 <br/>\n",
              "              <img src=\"data:image/PNG;base64,iVBORw0KGgoAAAANSUhEUgAAAMgAAACrCAIAAACsWkQ9AAAAeklEQVR4nO3BMQEAAADCoPVPbQo/oAAAAAAAAAAAAAAAAAAAAAAAAAAAAAAAAAAAAAAAAAAAAAAAAAAAAAAAAAAAAAAAAAAAAAAAAAAAAAAAAAAAAAAAAAAAAAAAAAAAAAAAAAAAAAAAAAAAAAAAAAAAAAAAAAAAAOBikYIAAXS1NDgAAAAASUVORK5CYII=\" style=\"image-rendering: pixelated;\">\n",
              "            </div><div style=\"margin-right:10px; margin-top: 4px;\">\n",
              "              2 <br/>\n",
              "              <img src=\"data:image/PNG;base64,iVBORw0KGgoAAAANSUhEUgAAAMgAAACrCAIAAACsWkQ9AAAAeklEQVR4nO3BMQEAAADCoPVPbQo/oAAAAAAAAAAAAAAAAAAAAAAAAAAAAAAAAAAAAAAAAAAAAAAAAAAAAAAAAAAAAAAAAAAAAAAAAAAAAAAAAAAAAAAAAAAAAAAAAAAAAAAAAAAAAAAAAAAAAAAAAAAAAAAAAAAAAOBikYIAAXS1NDgAAAAASUVORK5CYII=\" style=\"image-rendering: pixelated;\">\n",
              "            </div><div style=\"margin-right:10px; margin-top: 4px;\">\n",
              "              3 <br/>\n",
              "              <img src=\"data:image/PNG;base64,iVBORw0KGgoAAAANSUhEUgAAAMgAAACrCAIAAACsWkQ9AAAAeklEQVR4nO3BMQEAAADCoPVPbQo/oAAAAAAAAAAAAAAAAAAAAAAAAAAAAAAAAAAAAAAAAAAAAAAAAAAAAAAAAAAAAAAAAAAAAAAAAAAAAAAAAAAAAAAAAAAAAAAAAAAAAAAAAAAAAAAAAAAAAAAAAAAAAAAAAAAAAOBikYIAAXS1NDgAAAAASUVORK5CYII=\" style=\"image-rendering: pixelated;\">\n",
              "            </div><div style=\"margin-right:10px; margin-top: 4px;\">\n",
              "              4 <br/>\n",
              "              <img src=\"data:image/PNG;base64,iVBORw0KGgoAAAANSUhEUgAAAMgAAACrCAIAAACsWkQ9AAAAeklEQVR4nO3BMQEAAADCoPVPbQo/oAAAAAAAAAAAAAAAAAAAAAAAAAAAAAAAAAAAAAAAAAAAAAAAAAAAAAAAAAAAAAAAAAAAAAAAAAAAAAAAAAAAAAAAAAAAAAAAAAAAAAAAAAAAAAAAAAAAAAAAAAAAAAAAAAAAAOBikYIAAXS1NDgAAAAASUVORK5CYII=\" style=\"image-rendering: pixelated;\">\n",
              "            </div><div style=\"margin-right:10px; margin-top: 4px;\">\n",
              "              5 <br/>\n",
              "              <img src=\"data:image/PNG;base64,iVBORw0KGgoAAAANSUhEUgAAAMgAAACrCAIAAACsWkQ9AAAAeklEQVR4nO3BMQEAAADCoPVPbQo/oAAAAAAAAAAAAAAAAAAAAAAAAAAAAAAAAAAAAAAAAAAAAAAAAAAAAAAAAAAAAAAAAAAAAAAAAAAAAAAAAAAAAAAAAAAAAAAAAAAAAAAAAAAAAAAAAAAAAAAAAAAAAAAAAAAAAOBikYIAAXS1NDgAAAAASUVORK5CYII=\" style=\"image-rendering: pixelated;\">\n",
              "            </div><div style=\"margin-right:10px; margin-top: 4px;\">\n",
              "              6 <br/>\n",
              "              <img src=\"data:image/PNG;base64,iVBORw0KGgoAAAANSUhEUgAAAMgAAACrCAIAAACsWkQ9AAAAeklEQVR4nO3BMQEAAADCoPVPbQo/oAAAAAAAAAAAAAAAAAAAAAAAAAAAAAAAAAAAAAAAAAAAAAAAAAAAAAAAAAAAAAAAAAAAAAAAAAAAAAAAAAAAAAAAAAAAAAAAAAAAAAAAAAAAAAAAAAAAAAAAAAAAAAAAAAAAAOBikYIAAXS1NDgAAAAASUVORK5CYII=\" style=\"image-rendering: pixelated;\">\n",
              "            </div><div style=\"margin-right:10px; margin-top: 4px;\">\n",
              "              7 <br/>\n",
              "              <img src=\"data:image/PNG;base64,iVBORw0KGgoAAAANSUhEUgAAAMgAAACrCAIAAACsWkQ9AAAAeklEQVR4nO3BMQEAAADCoPVPbQo/oAAAAAAAAAAAAAAAAAAAAAAAAAAAAAAAAAAAAAAAAAAAAAAAAAAAAAAAAAAAAAAAAAAAAAAAAAAAAAAAAAAAAAAAAAAAAAAAAAAAAAAAAAAAAAAAAAAAAAAAAAAAAAAAAAAAAOBikYIAAXS1NDgAAAAASUVORK5CYII=\" style=\"image-rendering: pixelated;\">\n",
              "            </div><div style=\"margin-right:10px; margin-top: 4px;\">\n",
              "              8 <br/>\n",
              "              <img src=\"data:image/PNG;base64,iVBORw0KGgoAAAANSUhEUgAAAMgAAACrCAIAAACsWkQ9AAAAeklEQVR4nO3BMQEAAADCoPVPbQo/oAAAAAAAAAAAAAAAAAAAAAAAAAAAAAAAAAAAAAAAAAAAAAAAAAAAAAAAAAAAAAAAAAAAAAAAAAAAAAAAAAAAAAAAAAAAAAAAAAAAAAAAAAAAAAAAAAAAAAAAAAAAAAAAAAAAAOBikYIAAXS1NDgAAAAASUVORK5CYII=\" style=\"image-rendering: pixelated;\">\n",
              "            </div><div style=\"margin-right:10px; margin-top: 4px;\">\n",
              "              9 <br/>\n",
              "              <img src=\"data:image/PNG;base64,iVBORw0KGgoAAAANSUhEUgAAAMgAAACrCAIAAACsWkQ9AAAAeklEQVR4nO3BMQEAAADCoPVPbQo/oAAAAAAAAAAAAAAAAAAAAAAAAAAAAAAAAAAAAAAAAAAAAAAAAAAAAAAAAAAAAAAAAAAAAAAAAAAAAAAAAAAAAAAAAAAAAAAAAAAAAAAAAAAAAAAAAAAAAAAAAAAAAAAAAAAAAOBikYIAAXS1NDgAAAAASUVORK5CYII=\" style=\"image-rendering: pixelated;\">\n",
              "            </div></div>"
            ],
            "text/plain": [
              "<IPython.core.display.HTML object>"
            ]
          },
          "metadata": {
            "tags": []
          }
        }
      ]
    }
  ]
}