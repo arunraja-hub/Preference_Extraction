{
  "nbformat": 4,
  "nbformat_minor": 0,
  "metadata": {
    "colab": {
      "name": "use_rl_util.ipynb",
      "provenance": [],
      "collapsed_sections": [],
      "machine_shape": "hm",
      "include_colab_link": true
    },
    "kernelspec": {
      "name": "python3",
      "display_name": "Python 3"
    },
    "accelerator": "GPU"
  },
  "cells": [
    {
      "cell_type": "markdown",
      "metadata": {
        "id": "view-in-github",
        "colab_type": "text"
      },
      "source": [
        "<a href=\"https://colab.research.google.com/github/arunraja-hub/Preference_Extraction/blob/rl_util/use_rl_util.ipynb\" target=\"_parent\"><img src=\"https://colab.research.google.com/assets/colab-badge.svg\" alt=\"Open In Colab\"/></a>"
      ]
    },
    {
      "cell_type": "markdown",
      "metadata": {
        "id": "9tAQ3OiTyBY0",
        "colab_type": "text"
      },
      "source": [
        "#Install and imports"
      ]
    },
    {
      "cell_type": "code",
      "metadata": {
        "id": "2qFyxgPWtOMF",
        "colab_type": "code",
        "outputId": "31c578f8-c741-4fd4-bd76-bdf2bb29bfcb",
        "colab": {
          "base_uri": "https://localhost:8080/",
          "height": 1000
        }
      },
      "source": [
        "%tensorflow_version 1.x\n",
        "\n",
        "!pip uninstall lucid -y\n",
        "!pip install git+https://github.com/tensorflow/lucid.git#egg=lucid\n",
        "\n",
        "!git clone https://github.com/arunraja-hub/Preference_Extraction.git\n",
        "\n",
        "!pip install tf-agents==0.3.0\n",
        "\n",
        "!pip uninstall tensorflow-probability -y\n",
        "!pip install tensorflow-probability==0.7.0\n",
        "\n",
        "!npm install -g svelte-cli@2.2.0\n",
        "\n",
        "import tensorflow as tf\n",
        "\n",
        "tf.compat.v1.disable_eager_execution()"
      ],
      "execution_count": 0,
      "outputs": [
        {
          "output_type": "stream",
          "text": [
            "TensorFlow 1.x selected.\n",
            "Uninstalling lucid-0.3.9:\n",
            "  Successfully uninstalled lucid-0.3.9\n",
            "Collecting lucid\n",
            "  Cloning https://github.com/tensorflow/lucid.git to /tmp/pip-install-vadg0fo5/lucid\n",
            "  Running command git clone -q https://github.com/tensorflow/lucid.git /tmp/pip-install-vadg0fo5/lucid\n",
            "Requirement already satisfied: numpy in /usr/local/lib/python3.6/dist-packages (from lucid) (1.18.2)\n",
            "Requirement already satisfied: scipy in /usr/local/lib/python3.6/dist-packages (from lucid) (1.4.1)\n",
            "Requirement already satisfied: scikit-learn in /usr/local/lib/python3.6/dist-packages (from lucid) (0.22.2.post1)\n",
            "Requirement already satisfied: umap-learn in /usr/local/lib/python3.6/dist-packages (from lucid) (0.4.1)\n",
            "Requirement already satisfied: nltk in /usr/local/lib/python3.6/dist-packages (from lucid) (3.2.5)\n",
            "Requirement already satisfied: ipython in /usr/local/lib/python3.6/dist-packages (from lucid) (5.5.0)\n",
            "Requirement already satisfied: pillow in /usr/local/lib/python3.6/dist-packages (from lucid) (7.0.0)\n",
            "Requirement already satisfied: future in /usr/local/lib/python3.6/dist-packages (from lucid) (0.16.0)\n",
            "Requirement already satisfied: decorator in /usr/local/lib/python3.6/dist-packages (from lucid) (4.4.2)\n",
            "Requirement already satisfied: pyopengl in /usr/local/lib/python3.6/dist-packages (from lucid) (3.1.5)\n",
            "Requirement already satisfied: filelock in /usr/local/lib/python3.6/dist-packages (from lucid) (3.0.12)\n",
            "Requirement already satisfied: cachetools in /usr/local/lib/python3.6/dist-packages (from lucid) (3.1.1)\n",
            "Requirement already satisfied: more-itertools in /usr/local/lib/python3.6/dist-packages (from lucid) (8.2.0)\n",
            "Requirement already satisfied: joblib>=0.11 in /usr/local/lib/python3.6/dist-packages (from scikit-learn->lucid) (0.14.1)\n",
            "Requirement already satisfied: tbb>=2019.0 in /usr/local/lib/python3.6/dist-packages (from umap-learn->lucid) (2020.0.133)\n",
            "Requirement already satisfied: numba!=0.47,>=0.46 in /usr/local/lib/python3.6/dist-packages (from umap-learn->lucid) (0.48.0)\n",
            "Requirement already satisfied: six in /usr/local/lib/python3.6/dist-packages (from nltk->lucid) (1.12.0)\n",
            "Requirement already satisfied: pygments in /usr/local/lib/python3.6/dist-packages (from ipython->lucid) (2.1.3)\n",
            "Requirement already satisfied: pexpect; sys_platform != \"win32\" in /usr/local/lib/python3.6/dist-packages (from ipython->lucid) (4.8.0)\n",
            "Requirement already satisfied: pickleshare in /usr/local/lib/python3.6/dist-packages (from ipython->lucid) (0.7.5)\n",
            "Requirement already satisfied: setuptools>=18.5 in /usr/local/lib/python3.6/dist-packages (from ipython->lucid) (46.1.3)\n",
            "Requirement already satisfied: traitlets>=4.2 in /usr/local/lib/python3.6/dist-packages (from ipython->lucid) (4.3.3)\n",
            "Requirement already satisfied: simplegeneric>0.8 in /usr/local/lib/python3.6/dist-packages (from ipython->lucid) (0.8.1)\n",
            "Requirement already satisfied: prompt-toolkit<2.0.0,>=1.0.4 in /usr/local/lib/python3.6/dist-packages (from ipython->lucid) (1.0.18)\n",
            "Requirement already satisfied: llvmlite<0.32.0,>=0.31.0dev0 in /usr/local/lib/python3.6/dist-packages (from numba!=0.47,>=0.46->umap-learn->lucid) (0.31.0)\n",
            "Requirement already satisfied: ptyprocess>=0.5 in /usr/local/lib/python3.6/dist-packages (from pexpect; sys_platform != \"win32\"->ipython->lucid) (0.6.0)\n",
            "Requirement already satisfied: ipython-genutils in /usr/local/lib/python3.6/dist-packages (from traitlets>=4.2->ipython->lucid) (0.2.0)\n",
            "Requirement already satisfied: wcwidth in /usr/local/lib/python3.6/dist-packages (from prompt-toolkit<2.0.0,>=1.0.4->ipython->lucid) (0.1.9)\n",
            "Building wheels for collected packages: lucid\n",
            "  Building wheel for lucid (setup.py) ... \u001b[?25l\u001b[?25hdone\n",
            "  Created wheel for lucid: filename=lucid-0.3.9-cp36-none-any.whl size=155742 sha256=6ccd37c1df89664972067c47d42ba003be2642f1a287e91214ea0acabd864765\n",
            "  Stored in directory: /tmp/pip-ephem-wheel-cache-pteuwhmr/wheels/64/c2/51/7238e75f457453774587708b21cd3cf32f9a86456648688634\n",
            "Successfully built lucid\n",
            "Installing collected packages: lucid\n",
            "Successfully installed lucid-0.3.9\n",
            "fatal: destination path 'Preference_Extraction' already exists and is not an empty directory.\n",
            "Requirement already satisfied: tf-agents==0.3.0 in /usr/local/lib/python3.6/dist-packages (0.3.0)\n",
            "Requirement already satisfied: absl-py>=0.6.1 in /usr/local/lib/python3.6/dist-packages (from tf-agents==0.3.0) (0.9.0)\n",
            "Requirement already satisfied: tensorflow-probability>=0.6.0 in /usr/local/lib/python3.6/dist-packages (from tf-agents==0.3.0) (0.7.0)\n",
            "Requirement already satisfied: six>=1.10.0 in /usr/local/lib/python3.6/dist-packages (from tf-agents==0.3.0) (1.12.0)\n",
            "Requirement already satisfied: numpy>=1.13.3 in /usr/local/lib/python3.6/dist-packages (from tf-agents==0.3.0) (1.18.2)\n",
            "Requirement already satisfied: gin-config==0.1.3 in /usr/local/lib/python3.6/dist-packages (from tf-agents==0.3.0) (0.1.3)\n",
            "Requirement already satisfied: decorator in /usr/local/lib/python3.6/dist-packages (from tensorflow-probability>=0.6.0->tf-agents==0.3.0) (4.4.2)\n",
            "Requirement already satisfied: cloudpickle>=0.6.1 in /usr/local/lib/python3.6/dist-packages (from tensorflow-probability>=0.6.0->tf-agents==0.3.0) (1.3.0)\n",
            "Uninstalling tensorflow-probability-0.7.0:\n",
            "  Successfully uninstalled tensorflow-probability-0.7.0\n",
            "Collecting tensorflow-probability==0.7.0\n",
            "  Using cached https://files.pythonhosted.org/packages/3e/3a/c10b6c22320531c774402ac7186d1b673374e2a9d12502cbc8d811e4601c/tensorflow_probability-0.7.0-py2.py3-none-any.whl\n",
            "Requirement already satisfied: numpy>=1.13.3 in /usr/local/lib/python3.6/dist-packages (from tensorflow-probability==0.7.0) (1.18.2)\n",
            "Requirement already satisfied: cloudpickle>=0.6.1 in /usr/local/lib/python3.6/dist-packages (from tensorflow-probability==0.7.0) (1.3.0)\n",
            "Requirement already satisfied: six>=1.10.0 in /usr/local/lib/python3.6/dist-packages (from tensorflow-probability==0.7.0) (1.12.0)\n",
            "Requirement already satisfied: decorator in /usr/local/lib/python3.6/dist-packages (from tensorflow-probability==0.7.0) (4.4.2)\n",
            "Installing collected packages: tensorflow-probability\n",
            "Successfully installed tensorflow-probability-0.7.0\n",
            "\u001b[K\u001b[?25h/tools/node/bin/svelte -> /tools/node/lib/node_modules/svelte-cli/bin.js\n",
            "+ svelte-cli@2.2.0\n",
            "updated 1 package in 1.033s\n",
            "\n",
            "\u001b[33m\u001b[39m\n",
            "\u001b[33m   ╭──────────────────────────────────────╮\u001b[39m\n",
            "   \u001b[33m│\u001b[39m                                      \u001b[33m│\u001b[39m\n",
            "   \u001b[33m│\u001b[39m   Update available \u001b[2m5.7.1\u001b[22m\u001b[0m → \u001b[0m\u001b[32m6.14.4\u001b[39m    \u001b[33m│\u001b[39m\n",
            "   \u001b[33m│\u001b[39m      Run \u001b[36mnpm i -g npm\u001b[39m to update      \u001b[33m│\u001b[39m\n",
            "   \u001b[33m│\u001b[39m                                      \u001b[33m│\u001b[39m\n",
            "\u001b[33m   ╰──────────────────────────────────────╯\u001b[39m\n",
            "\u001b[33m\u001b[39m\n"
          ],
          "name": "stdout"
        }
      ]
    },
    {
      "cell_type": "code",
      "metadata": {
        "id": "ap5q8W9Mx8Yi",
        "colab_type": "code",
        "outputId": "3432e72b-2b80-407f-ff88-3444afb9f48d",
        "colab": {
          "base_uri": "https://localhost:8080/",
          "height": 71
        }
      },
      "source": [
        "import numpy as np\n",
        "\n",
        "from tf_agents.trajectories.time_step import TimeStep\n",
        "from tf_agents.specs.tensor_spec import TensorSpec\n",
        "from tf_agents.specs.tensor_spec import TensorSpec\n",
        "from tf_agents.specs.tensor_spec import BoundedTensorSpec\n",
        "from tf_agents.networks import q_network\n",
        "\n",
        "import lucid.modelzoo.vision_models as models\n",
        "from lucid.misc.io import show\n",
        "import lucid.misc.io.showing as showing\n",
        "from lucid.misc.channel_reducer import ChannelReducer\n",
        "import lucid.optvis.param as param\n",
        "import lucid.optvis.objectives as objectives\n",
        "import lucid.optvis.render as render\n",
        "from lucid.misc.io import show, load\n",
        "from lucid.misc.io.reading import read\n",
        "from lucid.misc.io.showing import _image_url\n",
        "import lucid.scratch.web.svelte as lucid_svelte\n",
        "from lucid.misc.gradient_override import gradient_override_map\n",
        "\n",
        "\n",
        "import concurrent.futures\n",
        "import itertools\n",
        "import os\n",
        "import pickle\n",
        "import random\n",
        "import sys\n",
        "import time\n",
        "\n",
        "import numpy as np\n",
        "import io\n",
        "import collections\n",
        "\n",
        "import urllib.request\n",
        "from urllib.error import HTTPError"
      ],
      "execution_count": 0,
      "outputs": [
        {
          "output_type": "stream",
          "text": [
            "/usr/local/lib/python3.6/dist-packages/sklearn/utils/deprecation.py:144: FutureWarning: The sklearn.decomposition.base module is  deprecated in version 0.22 and will be removed in version 0.24. The corresponding classes / functions should instead be imported from sklearn.decomposition. Anything that cannot be imported from sklearn.decomposition is now part of the private API.\n",
            "  warnings.warn(message, FutureWarning)\n"
          ],
          "name": "stderr"
        }
      ]
    },
    {
      "cell_type": "markdown",
      "metadata": {
        "id": "ZAOsd5Ikw468",
        "colab_type": "text"
      },
      "source": [
        "# Read data"
      ]
    },
    {
      "cell_type": "code",
      "metadata": {
        "id": "RaQbLcupw4Pl",
        "colab_type": "code",
        "colab": {}
      },
      "source": [
        "class Trajectory(\n",
        "    collections.namedtuple('Trajectory', [\n",
        "        'step_type',\n",
        "        'observation',\n",
        "        'action',\n",
        "        'policy_info',\n",
        "        'next_step_type',\n",
        "        'reward',\n",
        "        'discount',\n",
        "    ])):\n",
        "  \"\"\"Stores the observation the agent saw and the action it took.\n",
        "      The rest of the attributes aren't used in this code.\"\"\"\n",
        "  __slots__ = ()\n",
        "\n",
        "class ListWrapper(object):\n",
        "  def __init__(self, list_to_wrap):\n",
        "    self._list = list_to_wrap\n",
        "\n",
        "  def as_list(self):\n",
        "    return self._list\n",
        "\n",
        "class RenameUnpickler(pickle.Unpickler):\n",
        "    def find_class(self, module, name):\n",
        "      if name == \"Trajectory\":\n",
        "        return Trajectory\n",
        "      if name == \"ListWrapper\":\n",
        "        return ListWrapper\n",
        "\n",
        "      return super(RenameUnpickler, self).find_class(module, name)\n",
        "\n",
        "def rename_load(s):\n",
        "    \"\"\"Helper function analogous to pickle.loads().\"\"\"\n",
        "    return RenameUnpickler(s, encoding='latin1').load()"
      ],
      "execution_count": 0,
      "outputs": []
    },
    {
      "cell_type": "code",
      "metadata": {
        "id": "EERbcpKTw7PU",
        "colab_type": "code",
        "colab": {}
      },
      "source": [
        "# Modified read trajectories functions to read files from local storage\n",
        "\n",
        "def load_file(full_path):\n",
        "    try:\n",
        "        with open(full_path, 'rb') as f:\n",
        "            data = rename_load(f)\n",
        "            return data\n",
        "    except:\n",
        "        return None\n",
        "    \n",
        "def all_load_data(base_path):\n",
        "    \n",
        "    executor = concurrent.futures.ThreadPoolExecutor(max_workers=100)\n",
        "    \n",
        "    futures = []\n",
        "    for i in range(5000):\n",
        "        full_path = os.path.join(base_path, \"ts\"+str(i)+\".pickle\")\n",
        "        future = executor.submit(load_file, full_path)\n",
        "        futures.append(future)\n",
        "    \n",
        "    raw_data = []\n",
        "    for future in concurrent.futures.as_completed(futures):\n",
        "        result = future.result()\n",
        "        if result:\n",
        "            raw_data.append(result)\n",
        "    \n",
        "    return raw_data\n",
        "\n",
        "\n",
        "all_raw_data = all_load_data(\"Preference_Extraction/data/simple_env_1/\")"
      ],
      "execution_count": 0,
      "outputs": []
    },
    {
      "cell_type": "code",
      "metadata": {
        "id": "0PRLS6J5xXfR",
        "colab_type": "code",
        "colab": {}
      },
      "source": [
        "all_observations = []\n",
        "\n",
        "for data in all_raw_data:\n",
        "  for i in range(data.observation.shape[0]):\n",
        "    obs = np.copy(data.observation[i])\n",
        "\n",
        "    all_observations.append(np.array(obs))\n",
        "\n",
        "all_observations = np.array(all_observations)"
      ],
      "execution_count": 0,
      "outputs": []
    },
    {
      "cell_type": "code",
      "metadata": {
        "id": "dWnVOa62UO8T",
        "colab_type": "code",
        "outputId": "56fb6a20-bfbf-47fa-d273-8e0c1d3e64bf",
        "colab": {
          "base_uri": "https://localhost:8080/",
          "height": 34
        }
      },
      "source": [
        "all_observations.shape"
      ],
      "execution_count": 0,
      "outputs": [
        {
          "output_type": "execute_result",
          "data": {
            "text/plain": [
              "(23750, 14, 16, 5)"
            ]
          },
          "metadata": {
            "tags": []
          },
          "execution_count": 6
        }
      ]
    },
    {
      "cell_type": "markdown",
      "metadata": {
        "id": "JMyJU71h2i1s",
        "colab_type": "text"
      },
      "source": [
        "# Load model and run lucid grouping code"
      ]
    },
    {
      "cell_type": "code",
      "metadata": {
        "id": "ku9oLrycj8k0",
        "colab_type": "code",
        "outputId": "fff49b10-ee0b-4864-b516-6ffedd8a73e9",
        "colab": {
          "base_uri": "https://localhost:8080/",
          "height": 153
        }
      },
      "source": [
        "model = models.Model.load(\"Preference_Extraction/lucid_save_model.pb\")\n",
        "model.load_graphdef()"
      ],
      "execution_count": 0,
      "outputs": [
        {
          "output_type": "stream",
          "text": [
            "WARNING:tensorflow:From /usr/local/lib/python3.6/dist-packages/lucid/misc/io/reading.py:124: The name tf.gfile.Open is deprecated. Please use tf.io.gfile.GFile instead.\n",
            "\n"
          ],
          "name": "stdout"
        },
        {
          "output_type": "stream",
          "text": [
            "WARNING:tensorflow:From /usr/local/lib/python3.6/dist-packages/lucid/misc/io/reading.py:124: The name tf.gfile.Open is deprecated. Please use tf.io.gfile.GFile instead.\n",
            "\n"
          ],
          "name": "stderr"
        },
        {
          "output_type": "stream",
          "text": [
            "WARNING:tensorflow:From /usr/local/lib/python3.6/dist-packages/lucid/misc/io/loading.py:129: The name tf.GraphDef is deprecated. Please use tf.compat.v1.GraphDef instead.\n",
            "\n"
          ],
          "name": "stdout"
        },
        {
          "output_type": "stream",
          "text": [
            "WARNING:tensorflow:From /usr/local/lib/python3.6/dist-packages/lucid/misc/io/loading.py:129: The name tf.GraphDef is deprecated. Please use tf.compat.v1.GraphDef instead.\n",
            "\n"
          ],
          "name": "stderr"
        }
      ]
    },
    {
      "cell_type": "code",
      "metadata": {
        "id": "QqtIEaYiUsE0",
        "colab_type": "code",
        "colab": {}
      },
      "source": [
        "from lucid.scratch.rl_util import *"
      ],
      "execution_count": 0,
      "outputs": []
    },
    {
      "cell_type": "code",
      "metadata": {
        "id": "NXSNZhoOoRgW",
        "colab_type": "code",
        "colab": {}
      },
      "source": [
        "some_observations = all_observations[0:200]"
      ],
      "execution_count": 0,
      "outputs": []
    },
    {
      "cell_type": "code",
      "metadata": {
        "id": "oQsTsMgXW0Yp",
        "colab_type": "code",
        "colab": {}
      },
      "source": [
        "output_layer_name = \"QNetwork/dense/BiasAdd\"\n",
        "# hidden_layer_name = \"QNetwork/EncodingNetwork/EncodingNetwork/conv2d_1/Relu\"\n",
        "hidden_layer_name = \"QNetwork/EncodingNetwork/EncodingNetwork/conv2d/Relu\""
      ],
      "execution_count": 0,
      "outputs": []
    },
    {
      "cell_type": "code",
      "metadata": {
        "id": "A-p_jevKWIRK",
        "colab_type": "code",
        "outputId": "3d48556a-a0bd-49f6-8b3f-7cfb667d7019",
        "colab": {
          "base_uri": "https://localhost:8080/",
          "height": 221
        }
      },
      "source": [
        "nmf = LayerNMF(model, hidden_layer_name, some_observations, features=8, attr_layer_name=output_layer_name)"
      ],
      "execution_count": 0,
      "outputs": [
        {
          "output_type": "stream",
          "text": [
            "WARNING:tensorflow:From /usr/local/lib/python3.6/dist-packages/lucid/scratch/rl_util/attribution.py:26: The name tf.Session is deprecated. Please use tf.compat.v1.Session instead.\n",
            "\n"
          ],
          "name": "stdout"
        },
        {
          "output_type": "stream",
          "text": [
            "WARNING:tensorflow:From /usr/local/lib/python3.6/dist-packages/lucid/scratch/rl_util/attribution.py:26: The name tf.Session is deprecated. Please use tf.compat.v1.Session instead.\n",
            "\n"
          ],
          "name": "stderr"
        },
        {
          "output_type": "stream",
          "text": [
            "WARNING:tensorflow:From /usr/local/lib/python3.6/dist-packages/lucid/scratch/rl_util/attribution.py:27: The name tf.placeholder_with_default is deprecated. Please use tf.compat.v1.placeholder_with_default instead.\n",
            "\n"
          ],
          "name": "stdout"
        },
        {
          "output_type": "stream",
          "text": [
            "WARNING:tensorflow:From /usr/local/lib/python3.6/dist-packages/lucid/scratch/rl_util/attribution.py:27: The name tf.placeholder_with_default is deprecated. Please use tf.compat.v1.placeholder_with_default instead.\n",
            "\n"
          ],
          "name": "stderr"
        },
        {
          "output_type": "stream",
          "text": [
            "WARNING:tensorflow:From /usr/local/lib/python3.6/dist-packages/lucid/modelzoo/vision_base.py:192: The name tf.get_default_graph is deprecated. Please use tf.compat.v1.get_default_graph instead.\n",
            "\n"
          ],
          "name": "stdout"
        },
        {
          "output_type": "stream",
          "text": [
            "WARNING:tensorflow:From /usr/local/lib/python3.6/dist-packages/lucid/modelzoo/vision_base.py:192: The name tf.get_default_graph is deprecated. Please use tf.compat.v1.get_default_graph instead.\n",
            "\n"
          ],
          "name": "stderr"
        }
      ]
    },
    {
      "cell_type": "code",
      "metadata": {
        "id": "uFt9R9ixh-ix",
        "colab_type": "code",
        "colab": {}
      },
      "source": [
        "score_fn = lambda x: tf.reduce_max(x) - tf.reduce_sum(x)\n",
        "# score_fn = lambda x: x[1] - tf.reduce_sum(x)\n",
        "attr = get_attr(model, output_layer_name, hidden_layer_name, some_observations, integrate_steps=10, score_fn=score_fn, )"
      ],
      "execution_count": 0,
      "outputs": []
    },
    {
      "cell_type": "code",
      "metadata": {
        "id": "JD6zGJAUqdTZ",
        "colab_type": "code",
        "outputId": "b745f8f3-31c9-42dc-acac-4860169db614",
        "colab": {
          "base_uri": "https://localhost:8080/",
          "height": 68
        }
      },
      "source": [
        "print(np.min(attr))\n",
        "print(np.max(attr))\n",
        "print(attr.shape)"
      ],
      "execution_count": 0,
      "outputs": [
        {
          "output_type": "stream",
          "text": [
            "-245.50542\n",
            "162.56981\n",
            "(200, 12, 14, 16)\n"
          ],
          "name": "stdout"
        }
      ]
    },
    {
      "cell_type": "code",
      "metadata": {
        "id": "Q5KCFbkqjSQy",
        "colab_type": "code",
        "outputId": "7cb105ef-134d-442b-fedb-8e6d80ae6bce",
        "colab": {
          "base_uri": "https://localhost:8080/",
          "height": 34
        }
      },
      "source": [
        "# attr_reduced = nmf.transform(np.maximum(attr, 0)) - nmf.transform(np.maximum(-attr, 0))\n",
        "attr_reduced = nmf.transform(np.abs(attr))\n",
        "normalize_by = np.median(attr_reduced.max(axis=(-3, -2, -1)))\n",
        "print(normalize_by)\n",
        "attr_reduced /= normalize_by # normalize to make the visualization balanced, may need tweaking\n",
        "attr_reduced = np.abs(attr_reduced)\n",
        "attr_reduced = conv2d(attr_reduced, filter_=norm_filter(15)) # smooth out attribution over nearby spatial positions, to make it easier to judge attribution strength of sparse attribution"
      ],
      "execution_count": 0,
      "outputs": [
        {
          "output_type": "stream",
          "text": [
            "2.190571867011738\n"
          ],
          "name": "stdout"
        }
      ]
    },
    {
      "cell_type": "code",
      "metadata": {
        "id": "fBrW5NB4rv46",
        "colab_type": "code",
        "outputId": "b529aa95-66b8-46fb-b0bb-ab522a2b6d72",
        "colab": {
          "base_uri": "https://localhost:8080/",
          "height": 34
        }
      },
      "source": [
        "print(attr_reduced.shape)"
      ],
      "execution_count": 0,
      "outputs": [
        {
          "output_type": "stream",
          "text": [
            "(200, 12, 14, 8)\n"
          ],
          "name": "stdout"
        }
      ]
    },
    {
      "cell_type": "code",
      "metadata": {
        "id": "H6VZnLevj9X7",
        "colab_type": "code",
        "outputId": "35633bb7-74c3-4624-82a7-4833f1399183",
        "colab": {
          "base_uri": "https://localhost:8080/",
          "height": 633
        }
      },
      "source": [
        "num_to_show = 10\n",
        "start = random.randint(0, some_observations.shape[0]-num_to_show)\n",
        "\n",
        "show(zoom_to(some_observations[start:start+num_to_show, :, :, 2:], 200))\n",
        "show(zoom_to(some_observations[start:start+num_to_show, :, :, :3], 200))\n",
        "show(zoom_to(attr_reduced[start:start+num_to_show], 200))"
      ],
      "execution_count": 0,
      "outputs": [
        {
          "output_type": "display_data",
          "data": {
            "text/html": [
              "<div style=\"display: flex; flex-direction: row;\"><div style=\"margin-right:10px; margin-top: 4px;\">\n",
              "              0 <br/>\n",
              "              <img src=\"data:image/PNG;base64,iVBORw0KGgoAAAANSUhEUgAAAMgAAACvCAIAAAA3ywYrAAADGElEQVR4nO3dsW0bQRBA0ZXBCqzI3ShyMYpdhmOVpsANuA2XwDGwf3kU3osPqwP1eclgeC8/P9fE+3oZXDW5Zn3sO2pyV7M/Nzzq25Zz1lofb/cvmx41uGzrUfc/hLVmF8H/EhYJYZEQFglhkRAWCWGREBYJYZEQFglhkRAWidv7+j65buOkczJg3jg0HX959tzV1pn30fH5+KjRXXlikRAWCWGREBYJYZEQFglhkRAWCWGREBYJYZG4fcxmhYdnW8OF1dkXY9sE8/hq6PCofWu0++7KE4uEsEgIi4SwSAiLhLBICIuEsEgIi4SwSAiLhLBIPGBhdePQ9PDu69ZJ/P0P4aq7r4bQPI6wSAiLhLBICIuEsEgIi4SwSAiLhLBICIvE3oXV07+gesGjhi8gveruq4VVrk1YJIRFQlgkhEVCWCSERUJYJIRFQlgkhEVCWCRu7+t1ct3hSefGnzo+vEb78fas4/O1dY3WE4uEsEgIi4SwSAiLhLBICIuEsEgIi4SwSAiLxEXfsDo8avZa1KNrtOdXQ2cD09NrtJ5YJIRFQlgkhEVCWCSERUJYJIRFQlgkhEVCWCSEReIhb1i94tD0+BtWt43PZ8u93rDKlyAsEsIiISwSwiIhLBLCIiEsEsIiISwSwiLxkIXVbb+gesE12sO/pbsuOTBdnlhEhEVCWCSERUJYJIRFQlgkhEVCWCSERUJYJOZ7hV98trVr2/F5p5zjo0YPI08sEsIiISwSwiIhLBLCIiEsEsIiISwSwiIhLBLCInFb63V25fMOTY+u0V51fH56jdYTi4SwSAiLhLBICIuEsEgIi4SwSAiLhLBICIvEbc0WViezwo2zreGLGydfjGd+EeYT/1iwJxYJYZEQFglhkRAWCWGREBYJYZEQFglhkRAWCWGReFmff6ZX7rlmeNmw+PtH/dh3V38nR72N/tzvfR/Cr9P/GkNoHkdYJIRFQlgkhEVCWCSERUJYJIRFQlgkhEVi58LqxgHf+dnWvqN8CGt5YhERFglhkRAWCWGREBYJYZEQFglhkRAWCWGREBaJf+m5XQi+aH8CAAAAAElFTkSuQmCC\" style=\"image-rendering: pixelated;\">\n",
              "            </div><div style=\"margin-right:10px; margin-top: 4px;\">\n",
              "              1 <br/>\n",
              "              <img src=\"data:image/PNG;base64,iVBORw0KGgoAAAANSUhEUgAAAMgAAACvCAIAAAA3ywYrAAADA0lEQVR4nO3dwW0UQRBA0ba1d7T4hMjUEimQHTFwdAqE4ELqP9trvXduDaPley6lmnn59mdNfKyXT8/cB2ee/FKvW66zZnd16qU+/xHWmh2C/yUsEsIiISwSwiIhLBLCIiEsEsIiISwSwiIhLBK3j/V9cu7LD0133dXzjs/HlxrdlScWCWGREBYJYZEQFglhkRAWCWGREBYJYZEQFonbfTYrPHVMNvnDGF1qcuzUgemJa7SeWCSERUJYJIRFQlgkhEVCWCSERUJYJIRFQlgkhEXiIQurJw5NJ0Poi8fnp+6+GkLzOMIiISwSwiIhLBLCIiEsEsIiISwSwiIhLBI7F1bHmZ4429p1qeG7dGdrtGe+LNiskMcRFglhkRAWCWGREBYJYZEQFglhkRAWCWGREBaJ28d6m5w7cDV0HblGu3HmPRxCX71G+24IzeMIi4SwSAiLhLBICIuEsEgIi4SwSAiLhLBI3O7vGxdWL/2W6TpyjfYRU85ta7QWVjmdsEgIi4SwSAiLhLBICIuEsEgIi4SwSAiLhLBIPOALq7OF1auHpvteY7xxy3T0Ixz46ujliUVEWCSERUJYJIRFQlgkhEVCWCSERUJYJIRFYucXVne+QfVpv7A6/izqnnfprlPXaD2xSAiLhLBICIuEsEgIi4SwSAiLhLBICIuEsEjM9wq/+Gxr1ytin3nKuXPb0ROLhLBICIuEsEgIi4SwSAiLhLBICIuEsEgIi4SwSNzu621y7pmHppeu0Z46Pr96jdYTi4SwSAiLhLBICIuEsEgIi4SwSAiLhLBICIvEzg9hDt/rOvsQ5rO+InY4mtz6Tc0T12g9sUgIi4SwSAiLhLBICIuEsEgIi4SwSAiLhLBICIvE7XU2hN44NH0dHRsW//mlfs/u6tfg2OzOR//cj8Gxn7Mf4e/V/zWG0DyOsEgIi4SwSAiLhLBICIuEsEgIi4SwSAiLxG3tnBVuG/Bt3H29/FJ+hLU8sYgIi4SwSAiLhLBICIuEsEgIi4SwSAiLhLBICIvEP/wiXgQIoC1nAAAAAElFTkSuQmCC\" style=\"image-rendering: pixelated;\">\n",
              "            </div><div style=\"margin-right:10px; margin-top: 4px;\">\n",
              "              2 <br/>\n",
              "              <img src=\"data:image/PNG;base64,iVBORw0KGgoAAAANSUhEUgAAAMgAAACvCAIAAAA3ywYrAAADBUlEQVR4nO3dsW0bQRBA0ZXBRKkVuT624DLcgkI1pQbchkrgGNh/WhrvxYvzgfjaZDzky+frmrivl4dn3gdnnvxRPx4/52P0z03eavJK3/Goxx/CWrND8K+ERUJYJIRFQlgkhEVCWCSERUJYJIRFQlgkhEXidl8/J+f++6Hprrd63vH5+FGjt3JjkRAWCWGREBYJYZEQFglhkRAWCWGREBYJYZG4vc9mhaeOyR7/YVz8VtcPTGe3w9Vv5cYiISwSwiIhLBLCIiEsEsIiISwSwiIhLBLCIiEsEt+ysDr47uEjd19no9wTx+fjt7KwytmERUJYJIRFQlgkhEVCWCSERUJYJIRFQlgk9i6sXv0Nqkc+6tLv0j32UW4sEsIiISwSwiIhLBLCIiEsEsIiISwSwiIhLBLCInG7r7fJuX37nKNj3zF/3bNGe/34/Mw1WjcWCWGREBYJYZEQFglhkRAWCWGREBYJYZEQFonbmi2sbhxITY5tnbhdukZ75pbp9Wu0biwSwiIhLBLCIiEsEsIiISwSwiIhLBLCIiEsEsIisXMIvXX++qzfPfy84/O9j3JjkRAWCWGREBYJYZEQFglhkRAWCWGREBYJYZHY+wur275BdePu68412o/jvkt3HTkwXW4sIsIiISwSwiIhLBLCIiEsEsIiISwSwiIhLBK3+2xWeOZs6+JZ4cbfiTxzGXDjtqMbi4SwSAiLhLBICIuEsEgIi4SwSAiLhLBICIuEsEjc3tfb5NwzD023rdGeuRq69VHb/quBG4uEsEgIi4SwSAiLhLBICIuEsEgIi4SwSAiLxHxh9dLZ1njL9Lg12uFocuOq7ZlrtG4sEsIiISwSwiIhLBLCIiEsEsIiISwSwiIhLBLCIvGyXj+nJ/ecGR37NS3+8aP+7nurP4NfWB1+CL9Hx7Z9CNf/Yq0bi4SwSAiLhLBICIuEsEgIi4SwSAiLhLBICIvEbc0WVmcToieebe17lA9hLTcWEWGREBYJYZEQFglhkRAWCWGREBYJYZEQFglhkfgC6PRaVk9tVcwAAAAASUVORK5CYII=\" style=\"image-rendering: pixelated;\">\n",
              "            </div><div style=\"margin-right:10px; margin-top: 4px;\">\n",
              "              3 <br/>\n",
              "              <img src=\"data:image/PNG;base64,iVBORw0KGgoAAAANSUhEUgAAAMgAAACvCAIAAAA3ywYrAAADFUlEQVR4nO3dsXHbQBBAUdDDCqzIBakaps7dgFM25wbchUa5E+547oNHzXvxDURBn5ecFrj8+jgm7sfl4Zrb++M100sN1gwvdcwuNfuJ3x6umH2k0Y/b9VKPb8IxuVPwH4RFQlgkhEVCWCSERUJYJIRFQlgkhEVCWCSEReJ6P75P1p180jk8OZ4tG3551vyCC4/Pl15qdBMWfio7FglhkRAWCWGREBYJYZEQFglhkRAWCWGREBaJ6212VrjnMdnki3HypxoemK46mjxm54Dnz77asUgIi4SwSAiLhLBICIuEsEgIi4SwSAiLhLBICIvEUwZWdzw0XXWphcfnw6ndPf8/wI5FQlgkhEVCWCSERUJYJIRFQlgkhEVCWCSERWLlwOrCx8ju+ojYZS8g3fCUc+2l7FgkhEVCWCSERUJYJIRFQlgkhEVCWCSERUJYJIRF4no/3ibrdn1g8KljtLMJ0oXvhj3/JH7ZU6jtWCSERUJYJIRFQlgkhEVCWCSERUJYJIRFQlgkXvsNqyeP0e55VjhbdvYYrR2LhLBICIuEsEgIi4SwSAiLhLBICIuEsEgIi4SwSDzlDas7Pnt41Rjt0pP40U2Y/YLesMqXICwSwiIhLBLCIiEsEsIiISwSwiIhLBLCIvGUgdVlT1DdcIx24bN0vWEV/iUsEsIiISwSwiIhLBLCIiEsEsIiISwSwiIxnyv84mdbq6YdX/eUc3yp0WZkxyIhLBLCIiEsEsIiISwSwiIhLBLCIiEsEsIiISwS19vxNll3+mtRlz2R9uQx2l2Pz88eo7VjkRAWCWGREBYJYZEQFglhkRAWCWGREBYJYZEYD6y+73i2NflinPypnjFluuMYrR2LhLBICIuEsEgIi4SwSAiLhLBICIuEsEgIi4SwSFyOjz+jhYND6IVTpj+mxT++1N91n+r3ulHbn6Nly27Cwj/N8FJ2LBLCIiEsEsIiISwSwiIhLBLCIiEsEsIiISwS12M2sDo7IXrhs611l3ITjsOORURYJIRFQlgkhEVCWCSERUJYJIRFQlgkhEVCWCQ+Af1lWkvH1AS1AAAAAElFTkSuQmCC\" style=\"image-rendering: pixelated;\">\n",
              "            </div><div style=\"margin-right:10px; margin-top: 4px;\">\n",
              "              4 <br/>\n",
              "              <img src=\"data:image/PNG;base64,iVBORw0KGgoAAAANSUhEUgAAAMgAAACvCAIAAAA3ywYrAAAC40lEQVR4nO3dwY3bMBBAUTpwBdlTukkH6dVFJWVsSvAswC/Ti/fOAiEI37yMKd3+/F4Tn+v29Jrb4Jpzl3pMlvqx5ZbW7K5OXer5Q1hrdhF8lbBICIuEsEgIi4SwSAiLhLBICIuEsEgIi4SwSNw/18/Jdd9+aLrrrk6dxI8ewsa7smOREBYJYZEQFglhkRAWCWGREBYJYZEQFglhkbjfZrPCU8dkz38YF9/VKwamJx6jtWOREBYJYZEQFglhkRAWCWGREBYJYZEQFglhkRAWiZccWD1xaHr5gdXjxud7l7JjkRAWCWGREBYJYZEQFglhkRAWCWGREBYJYZHYe2D16jeoHrjUxe/SPXYpOxYJYZEQFglhkRAWCWGREBYJYZEQFglhkRAWCWGRuH+uj8l1Z046DzxG+77j87X1GK0di4SwSAiLhLBICIuEsEgIi4SwSAiLhLBICIvEu39hdbDU49JjtMPR5Lp6YHr1MVo7FglhkRAWCWGREBYJYZEQFglhkRAWCWGREBYJYZF4yRdWTxyaXvyF1ckQevizP/P/AXYsEsIiISwSwiIhLBLCIiEsEsIiISwSwiIhLBIvObC67Q2qB47JLn6X7jpyYLrsWESERUJYJIRFQlgkhEVCWCSERUJYJIRFQlgk5ucKv/lsa9dpx/edco6XGm1GdiwSwiIhLBLCIiEsEsIiISwSwiIhLBLCIiEsEsIicb+tj8l17zw0vfQY7anj86uP0dqxSAiLhLBICIuEsEgIi4SwSAiLhLBICIuEsEgc+yHMd31F7PtOOZcPYXI+YZEQFglhkRAWCWGREBYJYZEQFglhkRAWCWGRuD9mQ+g1Gj2OxpOzy4bFP1/q1767+rfvIczuavQQ/u67q9mA2RCa1xEWCWGREBYJYZEQFglhkRAWCWGREBYJYZG4r52zwm0Dvq1jx4uX8hDWsmMRERYJYZEQFglhkRAWCWGREBYJYZEQFglhkRAWif/C2Gb2sQdOuQAAAABJRU5ErkJggg==\" style=\"image-rendering: pixelated;\">\n",
              "            </div><div style=\"margin-right:10px; margin-top: 4px;\">\n",
              "              5 <br/>\n",
              "              <img src=\"data:image/PNG;base64,iVBORw0KGgoAAAANSUhEUgAAAMgAAACvCAIAAAA3ywYrAAADBklEQVR4nO3dwW3cMBBAUW6gCrLFuMmkwTSQkyvwJSXsGOCXGeO9syAQi7+8DCg+Hh9r4rkerx96Gzyz1vvkVaNnZquavWqyquf6seU9a7byU1/1+kdYa/YQfJawSAiLhLBICIuEsEgIi4SwSAiLhLBICIuEsEhca/2cPXni0HS2qtGfZ9eqZnPx+181+hE2rsqORUJYJIRFQlgkhEVCWCSERUJYJIRFQlgkhEXies5mhaeOyV7/MW5e1cYp5/jU7onHaO1YJIRFQlgkhEVCWCSERUJYJIRFQlgkhEVCWCSEReJ6nw2ht36a98Sh6e0HVid/6TPPvhpC83WERUJYJIRFQlgkhEVCWCSERUJYJIRFQlgk9h5YvfsLqge+avgt3a0HVo8bmC47FhFhkRAWCWGREBYJYZEQFglhkRAWCWGREBYJYZG41nrOntw2ND3zstZdx2g3zry/4sDqtq9Q27FICIuEsEgIi4SwSAiLhLBICIuEsEgIi4SwSFxrdmD15lnh1lOmtx6jPfWzvKMfwYFVTicsEsIiISwSwiIhLBLCIiEsEsIiISwSwiIhLBJfcsPqiUPT229YPW58vvdVdiwSwiIhLBLCIiEsEsIiISwSwiIhLBLCIiEsEntvWN32BdVTz74e9y3dtdaZl7XasUgIi4SwSAiLhLBICIuEsEgIi4SwSAiLhLBIzM8V3jrgO/VOzW33RP7Pd2qONiM7FglhkRAWCWGREBYJYZEQFglhkRAWCWGREBYJYZG4nus5eW7j0PTAU6Zr5zHaM29YvfsYrR2LhLBICIuEsEgIi4SwSAiLhLBICIuEsEgIi8T4wOrbN59t7VvViVNOF2HyTQiLhLBICIuEsEgIi4SwSAiLhLBICIuEsEgIi8RjffwZPTgYQm/9avKw+Nev+rVvVb/3DaH/3vsj3P9BazsWCWGREBYJYZEQFglhkRAWCWGREBYJYZEQFolrzQ6s3jzgO/OyVj/C/FV2LBLCIiEsEsIiISwSwiIhLBLCIiEsEsIiISwSwiLxD18UWWjfJZliAAAAAElFTkSuQmCC\" style=\"image-rendering: pixelated;\">\n",
              "            </div><div style=\"margin-right:10px; margin-top: 4px;\">\n",
              "              6 <br/>\n",
              "              <img src=\"data:image/PNG;base64,iVBORw0KGgoAAAANSUhEUgAAAMgAAACvCAIAAAA3ywYrAAADHklEQVR4nO3dsW3cQBBA0ZVxFViRm1DqitSBi1Dg6i50A2rDJdwamL9HGe/FBEFR/5gMhnz5+b523NfLw2PeNo5Za90/5k41eFVbp/o2cp61d1VXPdXjm7DW3kHwr4RFQlgkhEVCWCSERUJYJIRFQlgkhEVCWCSEReK21ve9I3emmFuTzsOn2hyaTo1yN2fex+/n1k0Y/AM9sUgIi4SwSAiLhLBICIuEsEgIi4SwSAiLhLBI3O57s8K9CdH5MdnjH8bgwupVB6Y7T4fTu6+eWCSERUJYJIRFQlgkhEVCWCSERUJYJIRFQlgkhEXiKQur//e7hzdn3mPj88F/jYVVrk5YJIRFQlgkhEVCWCSERUJYJIRFQlgkhEViclY4+BrZwdnW8Q3Szd/qBa/cwiqXJywSwiIhLBLCIiEsEsIiISwSwiIhLBLCIiEsEre1XveOPPxZ1NND07l3D3/hLdPBNVpPLBLCIiEsEsIiISwSwiIhLBLCIiEsEsIiISwSt7e9hdXRgdThU239eKau6qqv5R3bJbawyjMJi4SwSAiLhLBICIuEsEgIi4SwSAiLhLBICIvE6BdWPwYXVk8PTadONfpZ1KPj89lTeWKREBYJYZEQFglhkRAWCWGREBYJYZEQFglhkRidFc69Rvaau6+Hb8L5z6JaWOXqhEVCWCSERUJYJIRFQlgkhEVCWCSERUJYJG73vVnh3itiv/CHMOdeEXt6ynn8m5pbDyNPLBLCIiEsEsIiISwSwiIhLBLCIiEsEsIiISwSwiJxe1uvO8cdHpoe3zJdcxukVxyfb1/V45tgYZVnEhYJYZEQFglhkRAWCWGREBYJYZEQFglhkdhfWB2cyg2OycZmW3NzwNNbpoPvyfUhTK5OWCSERUJYJIRFQlgkhEVCWCSERUJYJIRFQlgkXtb7n90jH/oYnL9uFv/4VD/mpsKfc5Pj33M34dclR+OeWCSERUJYJIRFQlgkhEVCWCSERUJYJIRFQlgkbmtvYfXwgO8Za59Tp3IT1vLEIiIsEsIiISwSwiIhLBLCIiEsEsIiISwSwiIhLBJ/AXkgQPk1AnOPAAAAAElFTkSuQmCC\" style=\"image-rendering: pixelated;\">\n",
              "            </div><div style=\"margin-right:10px; margin-top: 4px;\">\n",
              "              7 <br/>\n",
              "              <img src=\"data:image/PNG;base64,iVBORw0KGgoAAAANSUhEUgAAAMgAAACvCAIAAAA3ywYrAAADE0lEQVR4nO3dsW1bMRRAUSrQBHGV6dylV5EBMoH3ywLpNUFG8AvA+00b59QELX9fs3mg/u3Xc028rdu7ax6DNedu9TrZ6tuWj7Rmn+rUrd5/CGvNFsH/EhYJYZEQFglhkRAWCWGREBYJYZEQFglhkRAWidv9+X2y7ssPTR+DIfTGmffa9xAmW03G58OfOPwFnVgkhEVCWCSERUJYJIRFQlgkhEVCWCSERUJYJO6PNZoVXnzLdDL/WmtN/jEuvvu6cco5fAhnXqN1YpEQFglhkRAWCWGREBYJYZEQFglhkRAWCWGREBaJ+9tsCL11/rptaLrx2ueuX3A88z5ufL53KycWCWGREBYJYZEQFglhkRAWCWGREBYJYZEQFom9F1av/gbVA7eafpfueVPOvVs5sUgIi4SwSAiLhLBICIuEsEgIi4SwSAiLhLBICIvE/W29TNadOek88Brt5x2fr63XaJ1YJIRFQlgkhEVCWCSERUJYJIRFQlgkhEVCWCQOfcPq1q0uvUZ76sD06mu0TiwSwiIhLBLCIiEsEsIiISwSwiIhLBLCIiEsEsIi8SFvWD1xaHrxG1Yn74Yd/9tPtvKGVb4EYZEQFglhkRAWCWGREBYJYZEQFglhkRAWiQ+4sDqp+dS7r5d+l+5wwLdxVujCKqcTFglhkRAWCWGREBYJYZEQFglhkRAWCWGRmN8r3POeyLXWmbOtXbcdP++Uc7zV6DByYpEQFglhkRAWCWGREBYJYZEQFglhkRAWCWGREBaJ+2O9TNZ95qHpcKtdN0jPHJ9vu0brwiofSVgkhEVCWCSERUJYJIRFQlgkhEVCWCSEReLYF2Hum229XvypTpxyXj97dWKREBYJYZEQFglhkRAWCWGREBYJYZEQFglhkRAWidt6/pmu3LNmtOzHtPj3t/o7G0LPPtW2h/BztGz0EH5f+6cZbuXEIiEsEsIiISwSwiIhLBLCIiEsEsIiISwSwiJxX7MLq7MJ0bYB3/WzrX1beQhrObGICIuEsEgIi4SwSAiLhLBICIuEsEgIi4SwSAiLxD9sI2BRdFmZuAAAAABJRU5ErkJggg==\" style=\"image-rendering: pixelated;\">\n",
              "            </div><div style=\"margin-right:10px; margin-top: 4px;\">\n",
              "              8 <br/>\n",
              "              <img src=\"data:image/PNG;base64,iVBORw0KGgoAAAANSUhEUgAAAMgAAACvCAIAAAA3ywYrAAAC4ElEQVR4nO3dwW3cMBRAQTpQBXYLqcMVJl24mtSQGraGlLAMwMeljJkzIQvyMy/flN5+fo4Z7+Pt6ZrHxJp7X+rrx5LrjLm7OvVSzx/CGHOL4H8Ji4SwSAiLhLBICIuEsEgIi4SwSAiLhLBICIvE9T7eZ9Z9+6Hpqrs6dHw+9xAW3pUdi4SwSAiLhLBICIuEsEgIi4SwSAiLhLBICIvE9ZibFZ46Jnv+hzF7qa81d/WKgemJx2jtWCSERUJYJIRFQlgkhEVCWCSERUJYJIRFQlgkhEXiJQdWTxyabj+wum58fuT/B9ixSAiLhLBICIuEsEgIi4SwSAiLhLBICIuEsEhcY+WB1d1vUD3wUpvfpXvspexYJIRFQlgkhEVCWCSERUJYJIRFQlgkhEVCWCSEReJ6jI+5lSdOOjcfo515CHNrThyfj6XHaO1YJIRFQlgkhEVCWCSERUJYJIRFQlgkhEVCWCTWHlg9c0y2+RjtmQPT3cdo7VgkhEVCWCSERUJYJIRFQlgkhEVCWCSERUJYJIRF4iVfWN06NJ2cCq86kXvn8bkvrHI8YZEQFglhkRAWCWGREBYJYZEQFglhkRAWievxggOry96guvCuZmaFm9+le+uXBduxSAiLhLBICIuEsEgIi4SwSAiLhLBICIuEsEjMnyv85rOtVacdT33D7+7TjnYsEsIiISwSwiIhLBLCIiEsEsIiISwSwiIhLBLCInE9xsfMujsPTbceoz11fL77GK0di4SwSAiLhLBICIuEsEgIi4SwSAiLhLBICIvEsR/CvOsrYu875Rw+hMn5hEVCWCSERUJYJIRFQlgkhEVCWCSERUJYJIRF4vozN4Se+QDp3JrJZZPFb72rX+t+3O91D+Hv7l+NITSvIywSwiIhLBLCIiEsEsIiISwSwiIhLBLCInGNlbPCEwd82y/lIYxhxyIiLBLCIiEsEsIiISwSwiIhLBLCIiEsEsIiISwS/wBSK2K8TfoUHgAAAABJRU5ErkJggg==\" style=\"image-rendering: pixelated;\">\n",
              "            </div><div style=\"margin-right:10px; margin-top: 4px;\">\n",
              "              9 <br/>\n",
              "              <img src=\"data:image/PNG;base64,iVBORw0KGgoAAAANSUhEUgAAAMgAAACvCAIAAAA3ywYrAAAC5UlEQVR4nO3d0YkbMRRAUTlMBbvgLlLI9pZtMN+BgKtICVZAd6wx53wL7WDu6uehmdv4M2Y8xu3pmvvEmotv9WPJPmPuqXbd6vmPMMbcIvhfwiIhLBLCIiEsEsIiISwSwiIhLBLCIiEsEsIicTzGx8y6tx+arnqq647Pp7eaeionFglhkRAWCWGREBYJYZEQFglhkRAWCWGREBaJ4z43K9x1TPb8H+Pkp3rFwHTHa7ROLBLCIiEsEsIiISwSwiIhLBLCIiEsEsIiISwSwiLxkgurOw5NT7+wut34fO1WTiwSwiIhLBLCIiEsEsIiISwSwiIhLBLCIiEsEmsvrJ79BtUNtzr5XbrbbuXEIiEsEsIiISwSwiIhLBLCIiEsEsIiISwSwiIhLBLHY3zOrNtz0jk3YJ7aauZ/bMOZ9+qtll2jdWKREBYJYZEQFglhkRAWCWGREBYJYZEQFglhkbj6F1aXXaOdGSled2B6/jVaJxYJYZEQFglhkRAWCWGREBYJYZEQFglhkRAWCWGReMkXVnccmp7+hdU3fwu1E4uEsEgIi4SwSAiLhLBICIuEsEgIi4SwSAiLxEsurC57g+rZY7KvhaPJNe/SHUvf8OvCKrsTFglhkRAWCWGREBYJYZEQFglhkRAWCWGROB5fk/cKT51t7brVVaec018DXXbb0YlFQlgkhEVCWCSERUJYJIRFQlgkhEVCWCSERUJYJI77+JxZt+cbVDe8Rnv++HzVt2HHGDMHjQurvJKwSAiLhLBICIuEsEgIi4SwSAiLhLBICIvEth/C3PEVsdedck5eWPUhTHYnLBLCIiEsEsIiISwSwiIhLBLCIiEsEsIiISwSt/Hz9+zKNWsml00Wf/JTLftzv9b9CN/rnurvuq2cWCSERUJYJIRFQlgkhEVCWCSERUJYJIRFQlgkjjF3YfXdB3wLt/IjjOHEIiIsEsIiISwSwiIhLBLCIiEsEsIiISwSwiIhLBL/AJ0DYrs3UKWqAAAAAElFTkSuQmCC\" style=\"image-rendering: pixelated;\">\n",
              "            </div></div>"
            ],
            "text/plain": [
              "<IPython.core.display.HTML object>"
            ]
          },
          "metadata": {
            "tags": []
          }
        },
        {
          "output_type": "display_data",
          "data": {
            "text/html": [
              "<div style=\"display: flex; flex-direction: row;\"><div style=\"margin-right:10px; margin-top: 4px;\">\n",
              "              0 <br/>\n",
              "              <img src=\"data:image/PNG;base64,iVBORw0KGgoAAAANSUhEUgAAAMgAAACvCAIAAAA3ywYrAAACiklEQVR4nO3bsW2UQRCAUYyuAYfuhdSOkAshIKIMYktuA5y5IIe0QAuLNB+3e3ovPo1/WZ82Gc3d9y9PnxY8/vm28rMV7/cvU6NWvmrxz02NWvxH3fyozys/gn8lLBLCIiEsEsIiISwSwiIhLBLCIiEsEsIiISwSl/+/nlwx+FWDNtx5bzvKi0VCWCSERUJYJIRFQlgkhEVCWCSERUJYJIRF4rLnQmpPe56G7jnKi0VCWCSERUJYJIRFQlgkhEVCWCSERUJYJIRFQlgkrnCweu7t656noXuO8mKREBYJYZEQFglhkRAWCWGREBYJYZEQFglhkdj0YPXcUUfvXh2ssjthkRAWCWGREBYJYZEQFglhkRAWCWGREBYJYZHY9GB1kIPVq4zyYpEQFglhkRAWCWGREBYJYZEQFglhkRAWCWGROPtgdcXNH6yucLDKjRAWCWGREBYJYZEQFglhkRAWCWGREBYJYZEQFolND1bPHbXnJn6Rg1V2JywSwiIhLBLCIiEsEsIiISwSwiIhLBLCInH2weqGo87dcs6O8mKREBYJYZEQFglhkRAWCWGREBYJYZEQFglhkXBXODzq3C3n7CgvFglhkRAWCWGREBYJYZEQFglhkRAWCWGREBYJYZG4DM46emnqYHV2lBeLhLBICIuEsEgIi4SwSAiLhLBICIuEsEgIi8TkrnBwITXIwepVRnmxSAiLhLBICIuEsEgIi4SwSAiLhLBICIuEsEgIi8TdtT8g9/DrYWrUx/PH1KjXrz+nRv1++zE16m1qkBeLiLBICIuEsEgIi4SwSAiLhLBICIuEsEgIi4SwSAiLhLBICIuEsEgIi4SwSAiLhLBICIuEsEgIi4SwSPwFHjUHTHnEgDkAAAAASUVORK5CYII=\" style=\"image-rendering: pixelated;\">\n",
              "            </div><div style=\"margin-right:10px; margin-top: 4px;\">\n",
              "              1 <br/>\n",
              "              <img src=\"data:image/PNG;base64,iVBORw0KGgoAAAANSUhEUgAAAMgAAACvCAIAAAA3ywYrAAACpUlEQVR4nO3dsW1UQRRA0f3W5ojQBZHRBw1QBg1AGciZA8pxSIwsrSjBY2kuf2Y5J/56a62ufvL0vMefXx8uAx4+/X7zmdvzR6NG5vwPox5GHoL3EhYJYZEQFglhkRAWCWGREBYJYZEQFglhkRAWieP1eht5bs1N54Kj9l2fTx418hC8l7BICIuEsEgIi4SwSAiLhLBICIuEsEgIi8Rx9wergwY/8U37bjnnjvLGIiEsEsIiISwSwiIhLBLCIiEsEsIiISwSwiIhLBLXrTedE0eN2HcT72CVOyEsEsIiISwSwiIhLBLCIiEsEsIiISwSwiIx82B10KzT0MuSa7J9v6jBT3SwypmERUJYJIRFQlgkhEVCWCSERUJYJIRFQlgkhEXihIPVEfvevv77//e84Cb+4o1FRFgkhEVCWCSERUJYJIRFQlgkhEVCWCSEReL+D1YH+YXVuaO8sUgIi4SwSAiLhLBICIuEsEgIi4SwSAiLhLBICIuEg9VzLHpl6mCVxQmLhLBICIuEsEgIi4SwSAiLhLBICIuEsEhc915ILTlqxJpXpg5WWZ2wSAiLhLBICIuEsEgIi4SwSAiLhLBICIvE8Xq9jTy35kJqwVFbbzndFbI6YZEQFglhkRAWCWGREBYJYZEQFglhkRAWCWGRmPkLq3svTSeN2nd9PneUNxYJYZEQFglhkRAWCWGREBYJYZEQFglhkRAWiZkHq4Mm/jLlgmuyfb+owU90sMqZhEVCWCSERUJYJIRFQlgkhEVCWCSERUJYJIRF4jj7D8h9/v5t1qinL19njfr5+Dhr1I+Xl1mjnmYN8sYiIiwSwiIhLBLCIiEsEsIiISwSwiIhLBLCIiEsEsIiISwSwiIhLBLCIiEsEsIiISwSwiIhLBLCIiEsEn8BNUMIi10EvgUAAAAASUVORK5CYII=\" style=\"image-rendering: pixelated;\">\n",
              "            </div><div style=\"margin-right:10px; margin-top: 4px;\">\n",
              "              2 <br/>\n",
              "              <img src=\"data:image/PNG;base64,iVBORw0KGgoAAAANSUhEUgAAAMgAAACvCAIAAAA3ywYrAAACnElEQVR4nO3dwW1TURBAURvcRBqgipQQ0QQLGqAMGmBBEyjVuIFUkCUSDUTiRXrXng/nrL/GXlz9zWj0z4+v19OC35++/PWZj9efRq3M+R9GfVh5CN5LWCSERUJYJIRFQlgkhEVCWCSERUJYJIRFQlgkLofedA4cddz1+d5R3lgkhEVCWCSERUJYJIRFQlgkhEVCWCSERUJYJM4OVveOuv2Wc9fPLXKwyj0Ji4SwSAiLhLBICIuEsEgIi4SwSAiLhLBICIuEg9V3jNroxuvzRQ5WmU5YJIRFQlgkhEVCWCSERUJYJIRFQlgkhEXictzT0LGjVhx3YepglXsSFglhkRAWCWGREBYJYZEQFglhkRAWCWGREBaJnQerGx13/zpz573IwSrTCYuEsEgIi4SwSAiLhLBICIuEsEgIi4SwSFzu/QfedtyD1ZlbzkUOVplOWCSERUJYJIRFQlgkhEVCWCSERUJYJIRFQlgkdi6hZ+5f//mD1ZmjvLFICIuEsEgIi4SwSAiLhLBICIuEsEgIi4SwSAz9wupMA1eTY0d5Y5EQFglhkRAWCWGREBYJYZEQFglhkRAWCWGR2PkhzNuPurGZF3wzR3ljkRAWCWGREBYJYZEQFglhkRAWCWGREBYJYZEQFonz4+t15bmZm86Bow691HewynTCIiEsEsIiISwSwiIhLBLCIiEsEsIiISwSQw9WN5r5IcyNBi5MT95YRIRFQlgkhEVCWCSERUJYJIRFQlgkhEVCWCSEReJ87z/wtl8PD7tGfX552TXq6cf3XaOev37bNepp16DT6XnfKG8sEsIiISwSwiIhLBLCIiEsEsIiISwSwiIhLBLCIiEsEsIiISwSwiIhLBLCIiEsEsIiISwSwiIhLBLCIvEHHMwAL0nBQuoAAAAASUVORK5CYII=\" style=\"image-rendering: pixelated;\">\n",
              "            </div><div style=\"margin-right:10px; margin-top: 4px;\">\n",
              "              3 <br/>\n",
              "              <img src=\"data:image/PNG;base64,iVBORw0KGgoAAAANSUhEUgAAAMgAAACvCAIAAAA3ywYrAAACp0lEQVR4nO3dsU0dQRRA0b+IEkhogZwukNuwZKfOCIjISEEicuQGLPdEG27AEmNp7t9ZOCdevd3gapKn0W6/fj6cBjy+PL/7zP237wuOGjT4xncNftLI6w496mLkIfhfwiIhLBLCIiEsEsIiISwSwiIhLBLCIiEsEsIicbnmpnNNx93En3+UE4uEsEgIi4SwSAiLhLBICIuEsEgIi4SwSAiLxPbhL6yeedTEO7SDXFjlExEWCWGREBYJYZEQFglhkRAWCWGREBYJYZEQFont5vZq5Lk1N50Ljjr/ddwFN/EnJxYRYZEQFglhkRAWCWGREBYJYZEQFglhkRAWiZkXVgdN3KYtuCY77pZz7ignFglhkRAWCWGREBYJYZEQFglhkRAWCWGREBYJYZHY4Q+rI9bcv65pwU38yYlFRFgkhEVCWCSERUJYJIRFQlgkhEVCWCSEReLyuP8yHRzFOBdWWZ2wSAiLhLBICIuEsEgIi4SwSAiLhLBICIuEsEjscGF1zVEjPvwm3oVVVicsEsIiISwSwiIhLBLCIiEsEsIiISwSwiIx8w+ra67J/GF1l1FOLBLCIiEsEsIiISwSwiIhLBLCIiEsEsIiISwS283t1chzay6kFhx13C3n3FFOLBLCIiEsEsIiISwSwiIhLBLCIiEsEsIiISwSwiKx6IXVQYNvHOHC6txRTiwSwiIhLBLCIiEsEsIiISwSwiIhLBLCIiEsEsf+EeYIF1Z3GeXEIiEsEsIiISwSwiIhLBLCIiEsEsIiISwSwiIhLBLb3h/wb7+vr2eN+vL2NmvU3evTrFGnrz9mTfoza9BUTiwSwiIhLBLCIiEsEsIiISwSwiIhLBLCIiEsEsIiISwSwiIhLBLCIiEsEsIiISwSwiIhLBLCIiEsEsIi8RdnXvrmYkbdvQAAAABJRU5ErkJggg==\" style=\"image-rendering: pixelated;\">\n",
              "            </div><div style=\"margin-right:10px; margin-top: 4px;\">\n",
              "              4 <br/>\n",
              "              <img src=\"data:image/PNG;base64,iVBORw0KGgoAAAANSUhEUgAAAMgAAACvCAIAAAA3ywYrAAACeUlEQVR4nO3bsU0DQRRFURu5AjI3QkQJCLpwH26HkBqc0gbOaAFKYJH+RR5xTmw9Obia5Gv3rw8vuw0un18//ubxfm9qy85/mLrb8iP4LWGREBYJYZEQFglhkRAWCWGREBYJYZEQFglhkTgsfem8wal1z+ezU14sEsIiISwSwiIhLBLCIiEsEsIiISwSwiIhLBKHpQ9SNzi17pVzdsqLRUJYJIRFQlgkhEVCWCSERUJYJIRFQlgkhEVCWCR8sDo8te75fHbKi0VCWCSERUJYJIRFQlgkhEVCWCSERUJYJIRFwgerw1PrXjlnp7xYJIRFQlgkhEVCWCSERUJYJIRFQlgkhEVCWCSERcIHq8NT657PZ6e8WCSERUJYJIRFQlgkhEVCWCSERUJYJIRFQlgkfLA6PLXxNLnFugfTnReLiLBICIuEsEgIi4SwSAiLhLBICIuEsEgIi4SwSPhgdXhq48170A1e4ndeLCLCIiEsEsIiISwSwiIhLBLCIiEsEsIiISwSPlgdnlr3yjk75cUiISwSwiIhLBLCIiEsEsIiISwSwiIhLBLCIuG7wuGpda+cs1NeLBLCIiEsEsIiISwSwiIhLBLCIiEsEsIiISwSwiLhg9XhqXXP57NTXiwSwiIhLBLCIiEsEsIiISwSwiIhLBLCIiEsEj5YHZ5a98o5O+XFIiEsEsIiISwSwiIhLBLCIiEsEsIiISwSwiIhLBKbDop/72lu6nQ8Tk09X69TU8e3sX91ev+Ymjqfx3rwYpEQFglhkRAWCWGREBYJYZEQFglhkRAWCWGREBYJYZEQFglhkRAWCWGREBYJYZEQFglhkRAWCWGREBaJb94XJhNf+42cAAAAAElFTkSuQmCC\" style=\"image-rendering: pixelated;\">\n",
              "            </div><div style=\"margin-right:10px; margin-top: 4px;\">\n",
              "              5 <br/>\n",
              "              <img src=\"data:image/PNG;base64,iVBORw0KGgoAAAANSUhEUgAAAMgAAACvCAIAAAA3ywYrAAACm0lEQVR4nO3dwW1TQRRA0e/IHUAV7FGaiKgCUQcFAHuklEFPWdECYkEDD2nu99g6Z209O9LVbEYvc/nxfDkGXv+8m3xs4vPT71WjTv5Vk68b/nUPP+pp8iH4X8IiISwSwiIhLBLCIiEsEsIiISwSwiIhLBLCInFdOOv8m86Jk3/V8F784Uc5sUgIi4SwSAiLhLBICIuEsEgIi4SwSAiLhLBIXD58fD/53J4XUhuOut913OE3WljlloRFQlgkhEVCWCSERUJYJIRFQlgkhEVCWCSEReJ61/+ad8NRC++8hza8iT+cWESERUJYJIRFQlgkhEVCWCSERUJYJIRFQlgkLKwuHmVh9R8nFglhkRAWCWGREBYJYZEQFglhkRAWCWGREBYJYZFY+cLqQhZW5za8iT+cWESERUJYJIRFQlgkhEVCWCSERUJYJIRFQlgkNr0rfPiF1Ycf5cQiISwSwiIhLBLCIiEsEsIiISwSwiIhLBLCIiEsEl5YXTzqfq/P145yYpEQFglhkRAWCWGREBYJYZEQFglhkRAWCWGR2PSF1aGT3yDd8Gpy6PzHWp1YJIRFQlgkhEVCWCSERUJYJIRFQlgkhEVCWCRW7hXuyV7hnL1CdicsEsIiISwSwiIhLBLCIiEsEsIiISwSwiIhLBLX8y9NJ+76Kndiz91XL6yyO2GREBYJYZEQFglhkRAWCWGREBYJYZEQFgkPYa4fNXG/u68WVrklYZEQFglhkRAWCWGREBYJYZEQFglhkRAWCWGRuNz6B+Refn5bNerL1++rRn16e1s16mXVoOP4tW6UE4uEsEgIi4SwSAiLhLBICIuEsEgIi4SwSAiLhLBICIuEsEgIi4SwSAiLhLBICIuEsEgIi4SwSAiLhLBI/AWjN/DOBXzXyAAAAABJRU5ErkJggg==\" style=\"image-rendering: pixelated;\">\n",
              "            </div><div style=\"margin-right:10px; margin-top: 4px;\">\n",
              "              6 <br/>\n",
              "              <img src=\"data:image/PNG;base64,iVBORw0KGgoAAAANSUhEUgAAAMgAAACvCAIAAAA3ywYrAAAChklEQVR4nO3dwWlUURiG4Tsy66xESBNu04TYhg2kjDRgGyGV2ERALMKlS49w3sl/4/OsL4cZeLmbwzdzuTsejgW/fv746zMfP3121Mo5/8NRH1Yegn8lLBLCIiEsEsIiISwSwiIhLBLCIiEsEsIiISwS17f+ALkb378u3nnPtPELemOREBYJYZEQFglhkRAWCWGREBYJYZEQFglhkbhuvEqbaeNg9d0zWGU6YZEQFglhkRAWCWGREBYJYZEQFglhkRAWCWGRGDpYPfUPBq+YuX01WGU6YZEQFglhkRAWCWGREBYJYZEQFglhkRAWiZ13hbffvlqZ7mWwynTCIiEsEsIiISwSwiIhLBLCIiEsEsIiISwSwiJhsHp6G1emBqtMJywSwiIhLBLCIiEsEsIiISwSwiIhLBLCInG5Ox5Wnpt5ITXwqFP/LK/BKtMJi4SwSAiLhLBICIuEsEgIi4SwSAiLhLBICIuEwermo079t6gGq0wnLBLCIiEsEsIiISwSwiIhLBLCIiEsEsIiMfSucOZgdaaBF6aHNxYRYZEQFglhkRAWCWGREBYJYZEQFglhkRAWievGW6SNzrsrXPTuJ4reWCSERUJYJIRFQlgkhEVCWCSERUJYJIRFQlgkhEXievtp6Aor02Pr9fkig1WmExYJYZEQFglhkRAWCWGREBYJYZEQFglhkTBY5Q+DVaYTFglhkRAWCWGREBYJYZEQFglhkRAWCWGREBaJy1t/gNzz/f2uo76+vu466sv3p11HHd8ed530susgbywiwiIhLBLCIiEsEsIiISwSwiIhLBLCIiEsEsIiISwSwiIhLBLCIiEsEsIiISwSwiIhLBLCIiEsEsIi8RvSkrFCuY5GtAAAAABJRU5ErkJggg==\" style=\"image-rendering: pixelated;\">\n",
              "            </div><div style=\"margin-right:10px; margin-top: 4px;\">\n",
              "              7 <br/>\n",
              "              <img src=\"data:image/PNG;base64,iVBORw0KGgoAAAANSUhEUgAAAMgAAACvCAIAAAA3ywYrAAAClklEQVR4nO3dsU1cQRRA0V1rc4twizIBiTsgJ3ABLgA5pwNSOqAaQhdgCbkBSx6kuewMnBOvnn5wNcno7Rxfb34cBlw9/vrvb35/vzNqZM5nGPVl5EfwVsIiISwSwiIhLBLCIiEsEsIiISwSwiIhLBLCInH8+uc08rs1bzoXHDV45z1i8MtHvP+lvhOLhLBICIuEsEgIi4SwSAiLhLBICIuEsEgIi8RpzdXQifZdWB204IXpwYlFRFgkhEVCWCSERUJYJIRFQlgkhEVCWCSERUJYJE77roYOWnNh9cOPcmKREBYJYZEQFglhkRAWCWGREBYJYZEQFglhkTh6YXXuqK3vXi2ssjphkRAWCWGREBYJYZEQFglhkRAWCWGREBYJYZHwwurkUften88d5cQiISwSwiIhLBLCIiEsEsIiISwSwiIhLBLCImFhdfKofW85545yYpEQFglhkRAWCWGREBYJYZEQFglhkRAWCWGREBaJvV9YXXDU4J33miyssjphkRAWCWGREBYJYZEQFglhkRAWCWGREBaJ0/uvho6wsHoRFlZZnbBICIuEsEgIi4SwSAiLhLBICIuEsEgIi8QFHsKcaN+9wg8/yolFQlgkhEVCWCSERUJYJIRFQlgkhEVCWCSERUJYJLyw+oZRIyZuou77D78HJxYRYZEQFglhkRAWCWGREBYJYZEQFglhkRAWCQ9hzh81Yt8LUwurXJKwSAiLhLBICIuEsEgIi4SwSAiLhLBICIuEsEgcL/0B//Z0Ps8adf3yMmvU+WnaV327v5016uH556xREzmxSAiLhLBICIuEsEgIi4SwSAiLhLBICIuEsEgIi4SwSAiLhLBICIuEsEgIi4SwSAiLhLBICIuEsEgIi8RfQ3sLrqDJGoEAAAAASUVORK5CYII=\" style=\"image-rendering: pixelated;\">\n",
              "            </div><div style=\"margin-right:10px; margin-top: 4px;\">\n",
              "              8 <br/>\n",
              "              <img src=\"data:image/PNG;base64,iVBORw0KGgoAAAANSUhEUgAAAMgAAACvCAIAAAA3ywYrAAAChklEQVR4nO3dsU1dQRBAUb71K3ANlOESLCJqcEgNLsAugB5cBr2QUQARJbCW5ppdfE78NBBcTTJauLw+3N4suP/29d1v/jy9GLUy538Y9WXlI/hbwiIhLBLCIiEsEsIiISwSwiIhLBLCIiEsEsIicT360rnhqHPP57OjbCwSwiIhLBLCIiEsEsIiISwSwiIhLBLCIiEsEhcPVmdHnXvlnB1lY5EQFglhkRAWCWGREBYJYZEQFglhkRAWCWGREBYJD1aHR517Pp8dZWOREBYJYZEQFglhkRAWCWGREBYJYZEQFglhkbgufrfnQWrDUedeOWdH2VgkhEVCWCSERUJYJIRFQlgkhEVCWCSERUJYJIRFYvWvJq84+mi6eKue+nErzr3E39hYRIRFQlgkhEVCWCSERUJYJIRFQlgkhEVCWCQ8WJ0fteLcg6kHq3wkYZEQFglhkRAWCWGREBYJYZEQFglhkRAWCWGR+Pz/YXXQnjfvPUfZWCSERUJYJIRFQlgkhEVCWCSERUJYJIRFQlgkrkcfpLwy3XaUjUVCWCSERUJYJIRFQlgkhEVCWCSERUJYJIRF4vO/K/zHo44+mHpXyO6ERUJYJIRFQlgkhEVCWCSERUJYJIRFQlgkhEXi8vpwu/LdnpfODUedez6fHWVjkRAWCWGREBYJYZEQFglhkRAWCWGREBYJYZHwYHV41LlXztlRNhYJYZEQFglhkRAWCWGREBYJYZEQFglhkRAWCWGRuHz0L5D7Pjjr8dfUpB8/f0+Nunt+nho1yMYiISwSwiIhLBLCIiEsEsIiISwSwiIhLBLCIiEsEsIiISwSwiIhLBLCIiEsEsIiISwSwiIhLBLCIiEsEm9c5xaPeObObwAAAABJRU5ErkJggg==\" style=\"image-rendering: pixelated;\">\n",
              "            </div><div style=\"margin-right:10px; margin-top: 4px;\">\n",
              "              9 <br/>\n",
              "              <img src=\"data:image/PNG;base64,iVBORw0KGgoAAAANSUhEUgAAAMgAAACvCAIAAAA3ywYrAAACiUlEQVR4nO3dwWmUURSAUUeyzkqsRLCJkDLcpAkLSAqwD8uwj4BYgas0IOQP3C//e+M56+HOLD7e5nKZy8PthyN+/fn96me+fPps1JE5/8Ooj0c+BG8lLBLCIiEsEsIiISwSwiIhLBLCIiEsEsIiISwSl69/N950Ljhq3/X57CgvFglhkRAWCWGREBYJYZEQFglhkRAWCWGREBaJm60XUguO2nfLOTvKi0VCWCSERUJYJIRFQlgkhEVCWCSERUJYJIRFQlgkHKwOj9p3fT47yotFQlgkhEVCWCSERUJYJIRFQlgkhEVCWCSERcLB6vCofbecs6O8WCSERUJYJIRFQlgkhEVCWCSERUJYJIRFQlgkhEXi+g9WDzr4ja/ad30+O8qLRUJYJIRFQlgkhEVCWCSERUJYJIRFQlgkhEXCweob7LswdbDKlRAWCWGREBYJYZEQFglhkRAWCWGREBYJYZEQFonrP1j1D6unjPJikRAWCWGREBYJYZEQFglhkRAWCWGREBYJYZG4PNwe+tyaC6kFR6255RzkYJUzCYuEsEgIi4SwSAiLhLBICIuEsEgIi4SwSLgrHB615pZzkLtCziQsEsIiISwSwiIhLBLCIiEsEsIiISwSwiIhLBL+YXV41Puvz6e+7iAHq5xJWCSERUJYJIRFQlgkhEVCWCSERUJYJIRF4mbf09A1R6255TzIH2GyOmGREBYJYZEQFglhkRAWCWGREBYJYZEQFglhkbic/QP+7W5u1M+5UYPufjxOjfr2/Wlq1P3z89QoLxYJYZEQFglhkRAWCWGREBYJYZEQFglhkRAWCWGREBYJYZEQFglhkRAWCWGREBYJYZEQFglhkRAWCWGReAH/xRYDWjufkgAAAABJRU5ErkJggg==\" style=\"image-rendering: pixelated;\">\n",
              "            </div></div>"
            ],
            "text/plain": [
              "<IPython.core.display.HTML object>"
            ]
          },
          "metadata": {
            "tags": []
          }
        },
        {
          "output_type": "display_data",
          "data": {
            "text/html": [
              "<div style=\"display: flex; flex-direction: row;\"><div style=\"margin-right:10px; margin-top: 4px;\">\n",
              "              0 <br/>\n",
              "              <img src=\"data:image/PNG;base64,iVBORw0KGgoAAAANSUhEUgAAAMgAAACrCAIAAACsWkQ9AAAFDElEQVR4nO3du4okZRjG8bfq+6q6enoOOC67oK642RptYC4GBl6I1+VtmIgYCcaC4AHBBYNxl3anz3X2Fp4KHkz+v/ilpuj5TyX9zlfFyxdPQ3M8D+JkRBSzOpmmQpx8VmVx8qFdcKupqsXJNtTLrptKv4HjpRcnC/lj7cdJnEzzKE5GxOPhLE6W+kUBHWHBgrBgQViwICxYEBYsCAsWhAULwoIFYcGCsGBBWLAgLFjks/zddrNWtwAiYl2qX+9fzq042Rfqn0HKSZyMiJTVyza5ESdLeWMiIq7kzyqHurNw6tRPtevEwYiIUv4V8MSCBWHBgrBgQViwICxYEBYsCAsWhAULwoIFYcGCsGBBWLAgLFgQFizySj69olhweESce3UbY5rVgy4eZ3VpZEwL/mDKSt2xKZL6YW2ub/Ub6Fv1s5oH9UyOelA/q25SjySJiKJQT3DhiQULwoIFYcGCsGBBWLAgLFgQFiwICxaEBQvCggVhwYKwYEFYsMhDp34NPsvLBRER8itPhkkdndVv1qMs1ZejRESV1QM8mit1ZyFX6vEhEZHyRpw879QNk1Sqb2e5XnJ+ydCpqxA8sWBBWLAgLFgQFiwICxaEBQvCggVhwYKwYEFYsCAsWBAWLAgLFjlV6s5A28kbCxGl/E/+k76zIJ/IUGT5RIqIq9s7cXJz95E4ebNZsDJw2p/EyWpSX2Rykp8YT5a8yeaXy0Wc5IkFC8KCBWHBgrBgQViwICxYEBYsCAsWhAULwoIFYcGCsGBBWLDIwyhvF+jnMUT0o3wkhPzzJ3m0rlbqRSPqmw/EyQ8/+1q9ZqgLCxHx9o/vxcnjqF52Oh7EydeXBW+m6OUEeGLBgrBgQViwICxYEBYsCAsWhAULwoIFYcGCsGBBWLAgLFgQFizy+iqJo6fjkgsX6nbDKK9X1I36volUL9huaG7vxcny+rk4+fFXr/QbOH3zjzj5+OZXcbIb1XdYtH0nTkbEIL+dhCcWLAgLFoQFC8KCBWHBgrBgQViwICxYEBYsCAsWhAULwoIFYcGCsGCRc6+uzdSlujIREZdBXYYpSvnlKPKhIGXSTzqJVDXi5Obpp+Lkvz/rPz8KeRdlmuQHgTyY8oKHi/7WGZ5YsCAsWBAWLAgLFoQFC8KCBWHBgrBgQViwICxYEBYsCAsWhAWLvJZfYtEldQ8iIppaPcCjlV+jkWv1Bool2w11pZ52Mmx/FCc/+fwL/QYefrqIkzmpn9VqXYuT798t+LUeW/VWeWLBgrBgQViwICxYEBYsCAsWhAULwoIFYcGCsGBBWLAgLFgQFixyr/83fqUuLEREyPsFVVZPLiiy+j38HOoLPyLi8G4nTl72D+Lk7999q9/AbvuXOHnqW3Gyl8+D2M4LHi4TZzfg/0VYsCAsWBAWLAgLFoQFC8KCBWHBgrBgQViwICxYEBYsCAsW+VFOq3l+rV+3vlfPDhj+PKg3cHsjTnb7QZyMiP1pK06+/u0HcfLJyy/1G3i7/Vuc3O3eqRet1P2O9Ys79ZoR4xt1kicWLAgLFoQFC8KCBWHBgrBgQViwICxYEBYsCAsWhAULwoIFYcGCsGBRvPdM3ZrIN6sF15VfTzJ36ms8Cvn4inlY8MqTslQ3fOr1vTiZVuqGT0S0e3UZpT2qGz5zIR+LsuC3Gt3hLE7yxIIFYcGCsGBBWLAgLFgQFiwICxaEBQvCggVhwYKwYEFYsCAsWPwHW4zgC6sa8h0AAAAASUVORK5CYII=\" style=\"image-rendering: pixelated;\">\n",
              "            </div><div style=\"margin-right:10px; margin-top: 4px;\">\n",
              "              1 <br/>\n",
              "              <img src=\"data:image/PNG;base64,iVBORw0KGgoAAAANSUhEUgAAAMgAAACrCAIAAACsWkQ9AAAFPklEQVR4nO3dzW4bdRiF8TP2jB3biZM0KVSKqNRQdiy4Au6AFZfAZXEDSOzYILEBIbFBYhNAqvholY82KUlIYmI7tscebuF4cdTN81u/sqfJk9nM2/8UTfOlPEdf/2ROSjq5HZmT331/ak6OF7U5eX4yNicldVZtc/Ju/OB+aMv/fjWtxpwsB6X7/cXKnHz+fMuclPTjz6/dC/A/FPARFiIICxGEhQjCQgRhIYKwEEFYiCAsRBAWIggLEYSFCMJCRPnbt7+Yo/NijQpv3i7NyWG/a05Ort0tgN5G35yU1FFlTtaFuwexspcLJFVd9wdbdQpzcil3E+Ts3F7ZkNot91K5YyGCsBBBWIggLEQQFiIICxGEhQjCQgRhIYKwEEFYiCAsRBAWIggLEeV7u+5+xa8vZ/7nvr/dMSf/LNytlcOn7jLM0f2dOSmpWbonbVTugo8GO+4/X1KrcdeBPj50D/D4/fTKnOwP3W+XdHrh/mC5YyGCsBBBWIggLEQQFiIICxGEhQjCQgRhIYKwEEFYiCAsRBAWIsqvvnnjzi7dIzEkzafuM/PrO3dydDE1J6f1Gk/sm6V7fonKDXNw0Wz6F9DuuCeIvLpxDwVpOu6lXly5L6eRpMK9AO5YiCAsRBAWIggLEYSFCMJCBGEhgrAQQViIICxEEBYiCAsRhIWI8smTfXP0jxdrPAYvGjfZycxdmmhvbJuTzfjanJTUH7iLAHXhTn74yWf+Bbx++YM5Odhzlybu3vxlTj57tmdOSjo7vzUnuWMhgrAQQViIICxEEBYiCAsRhIUIwkIEYSGCsBBBWIggLEQQFiKKLz7/1Bztbwz9z9103/agk0t3aWK+cE9kWNi7FZK6hbte8dC4k70t9xUSkuql+8qPsm2/HKR0J2dz90QMScfHb81J7liIICxEEBYiCAsRhIUIwkIEYSGCsBBBWIggLEQQFiIICxGEhYiyXrgPt8cP7gsUJHWH7jEHs5n9dL1y/wxW61zq5tDd2lhN3Evt23sQkq6nd+Zkd8f9CUzn7nbDR4c9c1LS6Zm7YMIdCxGEhQjCQgRhIYKwEEFYiCAsRBAWIggLEYSFCMJCBGEhgrAQQViIKP8+cd8OMhz2/c8dzypzcrqszcmlfShIp1xja0WLsTnYLpfm5GS68L9/2bgrLv9cuR/b23JvGUcvJuakpNnc/WVxx0IEYSGCsBBBWIggLEQQFiIICxGEhQjCQgRhIYKwEEFYiCAsRJSzem6OXo/c5QJJxb67CjGeu0/sdx+5B43c/rvGazzapXuCyOTBfba//ajrX8Dtpbtf0LKPRXkYuYsYBwdrHAry6phDQfBOERYiCAsRhIUIwkIEYSGCsBBBWIggLEQQFiIICxGEhQjCQkRx+MG+OdobuMsFkh4/3jQn7yfuekWzch+tF8UarzzRqjAHy669XFCvsQnSKktzcrDlbiLUK3cRY75Y45iJy3P37SzcsRBBWIggLEQQFiIICxGEhQjCQgRhIYKwEEFYiCAsRBAWIggLEeVk4f4n/9XMnZRU3bj7BXXHjbteunsQ09GDOSmp1bb/uv5zB3tba2yCDPbcnYWdpwfm5Gh6a052ds1BSbq4ZLsB7xRhIYKwEEFYiCAsRBAWIggLEYSFCMJCBGEhgrAQQViIICxEEBYiioF91EdVVf7nVpV70IXf9qpxV3GW9RobPr6i5R4fUnXsf77U3XR/BR37l7VquaeSLOx33ki6v7o3J7ljIYKwEEFYiCAsRBAWIggLEYSFCMJCBGEhgrAQQViIICxEEBYi/geO3Af5NwVVGgAAAABJRU5ErkJggg==\" style=\"image-rendering: pixelated;\">\n",
              "            </div><div style=\"margin-right:10px; margin-top: 4px;\">\n",
              "              2 <br/>\n",
              "              <img src=\"data:image/PNG;base64,iVBORw0KGgoAAAANSUhEUgAAAMgAAACrCAIAAACsWkQ9AAAFIklEQVR4nO3dS29UdRzG8V+npx2m0047l5ZKkVJccZOAQ43BeIsLCMGdJsYVb8SlS1+AMXEDL4BLcSGR1BghKdGkmIDUAiO0hVLoTDu20zJlfAvPWTxx8/2sn5wzxq9n0+P/dP30/Zeh+WRyQlxGROboWXm7IS8/lZffysv48YffxeX16QVx+aC2pv+A7faWuCxWesRlkrwWl4erA+IyIq5eeSguM/pFAR1hwYKwYEFYsCAsWBAWLAgLFoQFC8KCBWHBgrBgQViwICxYJOVCvzjNHN2T5srd8rIgL5fk5V55GWfOq68MFHpr4nL65mP9BzQ26+KyNJqIy+1WS1xm2x1xGRH5bK+45IkFC8KCBWHBgrBgQViwICxYEBYsCAsWhAULwoIFYcGCsGBBWLAgLFgk4/vy6vaefnpHRPmOuhzuky+6KS/fkJcR8YW4O/XVBXE5kBnRb7+8ob5jU53MicvrvyyKy7XVFXEZEUlHfW+HJxYsCAsWhAULwoIFYcGCsGBBWLAgLFgQFiwICxaEBQvCggVhwSKJHvWLF7VH6/p1c+rxGTEyph5fEUeK8v33ycuIUL8OEnFI3L392VCK+zflY1F2t8XhiVX1MyqXr9XVu0d0d3EoCP5XhAULwoIFYcGCsGBBWLAgLFgQFiwICxaEBQvCggVhwYKwYJGUDqmfPGmvqP/ffkSMvHlcnfbV5avqn1GRD6SISPNf1zH5/idS3D//pzw9LO4OfPCduDw+n+LhMvdPQ1zyxIIFYcGCsGBBWLAgLFgQFiwICxaEBQvCggVhwYKwYEFYsCAsWCQzl9TPIpx8q5riwgc/lqe35GVWXnbkZSr66xWpTMjLf+XlAXH34Xn9RIx4XF8SlzyxYEFYsCAsWBAWLAgLFoQFC8KCBWHBgrBgQViwICxYEBYsCAsWSUb/i/2g+lmEiIhQ/wwe6wvqciAn331HXkaalwtM9E9jqJ8RiRiXl+/Ky3jv/WlxyRMLFoQFC8KCBWHBgrBgQViwICxYEBYsCAsWhAULwoIFYcGCsGBBWLBI3jk9Jk5fzD/Rrzs0d1FcPl3YEpelQklc5vbrx4dEqFeNiLq8THUqyd/yUv/qTFNepvjX+nRdPZWEJxYsCAsWhAULwoIFYcGCsGBBWLAgLFgQFiwICxaEBQvCggVhwSKJQfXv1Y+Wn+nXzS73ictn8pkgx8bUIzFy3foxG2nebpj/Qxw+rM3r99/u1MVlaUQ9wWV4j/x6RXmXuoyYvftcXPLEggVhwYKwYEFYsCAsWBAWLAgLFoQFC8KCBWHBgrBgQViwICxYJN98rX7Eoi/br1+30j8sLpsv1fMIOo01cVl4ck9cRsRkS31l4MbsbXH512JN/wGbr1+Jy0plUFxu9aovrbxK1sVlRPw6sywueWLBgrBgQViwICxYEBYsCAsWhAULwoIFYcGCsGBBWLAgLFgQFiySn28uitPhypB+3Wq1IC7rDfWUgTMTJ8Xl1N0b4jIiisVRcfnb7H1x2dhp6D+gtaO+3/HRuc/F5dTMlLhcXNoQlxEx90D95+KJBQvCggVhwYKwYEFYsCAsWBAWLAgLFoQFC8KCBWHBgrBgQViwICxYdI3vV7/4USjk9esODqifJ8l3qy/YlLNFcdlqq8dsRERPT5e4XG2qL400tzf1H9Cby4nL8qh61MralnqAysrLFXEZEc+XXohLnliwICxYEBYsCAsWhAULwoIFYcGCsGBBWLAgLFgQFiwICxaEBYv/ALCSv+k3m4AhAAAAAElFTkSuQmCC\" style=\"image-rendering: pixelated;\">\n",
              "            </div><div style=\"margin-right:10px; margin-top: 4px;\">\n",
              "              3 <br/>\n",
              "              <img src=\"data:image/PNG;base64,iVBORw0KGgoAAAANSUhEUgAAAMgAAACrCAIAAACsWkQ9AAAE6ElEQVR4nO3dvW4cVRyG8XdmznptZ4EqKBJyJKT0FFAiOgoaCm6VkjuIxB0AAoRCLGyvP+L9mplzuIV3ildpnl/91/Fk88w0c3Smu3r9Wp7T/mhOSupqNScv+3Nz8ovzz83J98drc1JSVztzcnt6MidPbfYvoNq/1Wq1ctecJ3OyqZmTkvYHt4HeXxTwERYiCAsRhIUIwkIEYSGCsBBBWIggLEQQFiIICxGEhQjCQkQ5HvbuaFn767bxZE5Onfsefqutu6bc/QKSxjaak93grlnagju29e72ipW96mQ/MiZ7H4SkrnMvlScWIggLEYSFCMJCBGEhgrAQQViIICxEEBYiCAsRhIUIwkIEYSGCsBBR/CMh2uxuL5HUD26yc3XPz3gcd+6aWnAmR+vdn6DY+2bWxd5hI82zu8nHPz7E/vk11wUPl87e4cMTCxGEhQjCQgRhIYKwEEFYiCAsRBAWIggLEYSFCMJCBGEhgrAQUWR/nKOT+2Zb0nlxP84xyj2Uojb33X5rCz7jMfTu3eXvbjgfzvwL6Io7Wav779pX+/s09oYFSdPs1sITCxGEhQjCQgRhIYKwEEFYiCAsRBAWIggLEYSFCMJCBGEhgrAQUQb7lIFhSYWXqwtz8kNzT2SQvQ2hjQuOmThbuRsxLuR+9OXN5sq/gLvJ/ZTLZ+tPzck/n9+bk2fDgt/qNLpbUXhiIYKwEEFYiCAsRBAWIggLEYSFCMJCBGEhgrAQQViIICxEEBYiyvrM3jLgnpwgSY/Tkzk52V+mkH0BQ7/gwxAXvXvOQmcfnfDP/tq/gNa5y3bDs7+qu+a44P916NxaeGIhgrAQQViIICxEEBYiCAsRhIUIwkIEYSGCsBBBWIggLEQQFiLK5Qv3kIV5srchSOPoDvu7G9rsvrEvw4IbZrO6NCcfT+7mgu3obu6QFtzdx+Kes+DvmNgMbgCS7pr77+KJhQjCQgRhIYKwEEFYiCAsRBAWIggLEYSFCMJCBGEhgrAQQViIICxElKtX7lc0nncLvo1x/7Q3J2t1D6WovbsVZGoLdvhcH+7cC/Av1T6TQ1Kd3OFx535xpLP/+qN90omkqfHJE3xUhIUIwkIEYSGCsBBBWIggLEQQFiIICxGEhQjCQgRhIYKwEFG+/eaNOfrHu3t/3d//ujUnZ/vdfrPf2R/3R3NSUl/cu2s82psLen97gZq9v2Du3O0V/p9fX67sWbWde6k8sRBBWIggLEQQFiIICxGEhQjCQgRhIYKwEEFYiCAsRBAWIggLEeWHH782R3/+5Td/3dvtwZx82O7MyWLfBtX+4IqkWfawvWehrJfcsdVddlgP5uTJPmjj4YP7+0ua7NMreGIhgrAQQViIICxEEBYiCAsRhIUIwkIEYSGCsBBBWIggLEQQFiLKzasvzdG/b3/1193apycc7Z0Im9ULc/K+LnhjP8p9Yz9O9tkN67V/Af2mmJOffPXSnLx5+86crAu+N6KZ3Q34uAgLEYSFCMJCBGEhgrAQQViIICxEEBYiCAsRhIUIwkIEYSGCsBDRff/Td+bo/X8P/ro3/96Zk/unvbuofXjHOLv7WyRN1R2ucj/40Q0L7tjhwj3qoz93N9iMu5M7+exOSpoO7m/FEwsRhIUIwkIEYSGCsBBBWIggLEQQFiIICxGEhQjCQgRhIYKwEPE/8rMbPlPVZiMAAAAASUVORK5CYII=\" style=\"image-rendering: pixelated;\">\n",
              "            </div><div style=\"margin-right:10px; margin-top: 4px;\">\n",
              "              4 <br/>\n",
              "              <img src=\"data:image/PNG;base64,iVBORw0KGgoAAAANSUhEUgAAAMgAAACrCAIAAACsWkQ9AAAFFElEQVR4nO3dS44bVRyF8VN2+dFtt51ukaSFgAgRxBaQ2Acj1sSQRbAMZowYISJlEhHSeUK3X+VHuarYwqnBmX2/8V9XJevrmtTte4uff/pRnvXde3NSUjOemJP/3D+Yk8vl0py8e9iYk5KePXlqTr779MGc/Pzxtf8Ar99/NCcfLebm5MfVypy8vnF/VUm//fnCnBz4iwI+wkIEYSGCsBBBWIggLEQQFiIICxGEhQjCQgRhIYKwEEFYiChfv/rbHP3qcuavuxy4yXZXV+ZkU3fm5M3UXVPSeVWZk4vh2JwsVjv/AW6nU3fSXrOw13z11t2yIalrWnOSNxYiCAsRhIUIwkIEYSGCsBBBWIggLEQQFiIICxGEhQjCQgRhIYKwEFHWrbsR4nY49Ndtlgtz8vrePcBjNR6Zk9PNyZyUdGwLc/JKjTk5cZeUpEXhTq/L0pwcbd19O23nBiCpbdxfgDcWIggLEYSFCMJCBGEhgrAQQViIICxEEBYiCAsRhIUIwkIEYSGifG6fHrEd9PhkP9q5J20c3JM+1J7c7/BFeeEuKs3lPkHbuZOzsseWgapx92KcNltzcns6mpPFwZ2UVNh7YXhjIYKwEEFYiCAsRBAWIggLEYSFCMJCBGEhgrAQQViIICxEEBYiyndL93aQz07u/+1L+mSfR1DVtTl5GLs3jjT1wZyUNFtcuw+wdg9EOF+4e0YkFQ97c/I/e83qdDYnZ2P3PAhJ7uEZvLEQQliIICxEEBYiCAsRhIUIwkIEYSGCsBBBWIggLEQQFiIICxHl4537ab0d9LiZ4rx39xccavc4gNr+Yj/s8wdzXH0wJ8vW3YixWLuTkvb2/o6x/at29iELp2OPR/U3QvDGQgRhIYKwEEFYiCAsRBAWIggLEYSFCMJCBGEhgrAQQViIICxElNuJeyDC3N5cIGlr32KxO7v3MpxL91EnbY9jJpYX9jUWW/cX2NmXaEg6H9w9C48a9wFWnfsAo4l/IINGQ/dNxBsLEYSFCMJCBGEhgrAQQViIICxEEBYiCAsRhIUIwkIEYSGCsBBBWIgof7BPj3g76XE3xp29GeYwcs8aKe1rVPzdHZK62n1U2aeijOxdQ5KK0n9a9wnmY3eyVo8dPhP71hneWIggLEQQFiIICxGEhQjCQgRhIYKwEEFYiCAsRBAWIggLEYSFiHKzmJujVX3ssfDQPWmjsa/xaEt3zdo+ZkPSeep+sR/u3LNG6sup/wCtf+XJwN7fYe+Y+PaLW3NS0h+rtTnJGwsRhIUIwkIEYSGCsBBBWIggLEQQFiIICxGEhQjCQgRhIYKwEFFuB+4X+82VuwtA0sA/ZeBmYk62hX0ewX1nTkqaHt1foLCPmZjYd5NIWtnLvql25uRi4F5k8vLFS3NS0r/2VhTeWIggLEQQFiIICxGEhQjCQgRhIYKwEEFYiCAsRBAWIggLEYSFiPLXnfvBfFj1+GJ/9d1Tc7KbuecRPPn+mTn51y+/m5OSjpu9OdlV9pEQI3dzgaRq7R6IcCrcXRvNZmNO7g/2xRzSaleZk7yxEEFYiCAsRBAWIggLEYSFCMJCBGEhgrAQQViIICxEEBYiCAsRhIWI4utvvjRHx5c9DgUZL907P8qFu2xRuodnVG/cjSiSDvfuVpD25B4f0rWt/wBN4y7btPbk2Z0825OSTvbtLLyxEEFYiCAsRBAWIggLEYSFCMJCBGEhgrAQQViIICxEEBYiCAsR/wPCaA5feszmrQAAAABJRU5ErkJggg==\" style=\"image-rendering: pixelated;\">\n",
              "            </div><div style=\"margin-right:10px; margin-top: 4px;\">\n",
              "              5 <br/>\n",
              "              <img src=\"data:image/PNG;base64,iVBORw0KGgoAAAANSUhEUgAAAMgAAACrCAIAAACsWkQ9AAAFNElEQVR4nO3dTW8bVRiG4Xdmjr8dx41dRUoRC9RdWbBGbKsuKvFDWbNAYo3YIRUhkKBSobRJIbFJUtuxPV/8hWcWz+6+1q8m0+nt2czROdmzi09CU/SG4mREzIpMnOylJE4+HfXFyT8PR3EyIk4KdfJjrydOftqTLxqxahpx8iLl4uS7UG9gWVXiZET88P5KnFRvFOiEsGBBWLAgLFgQFiwICxaEBQvCggVhwYKwYEFYsCAsWBAWLNJisRRHs7LDZ/DpWF2JkNRlELEaqYsLTnodfjADeclA3qrX3E1G+g0s9gdxcjlUn+quVO91NZuJkxGR36zVSf2igI6wYEFYsCAsWBAWLAgLFoQFC8KCBWHBgrBgQViwICxYEBYsCAsWab/di6OLyUS/7lBOth2re43UTSlODmZTcTIi4qCuWskLdf8S/alGxFlfXQ5UFepT7bfqZLq9FycjomjV1Ti8sWBBWLAgLFgQFiwICxaEBQvCggVhwYKwYEFYsCAsWBAWLAgLFqmfqV/sUyNv3xHRC/WyRa1+MB8vH4mT93d34mRENEk9HaSVTwfJig5HnkShrm44kxeYHHfqoS/tQN1oJCKm8vk0vLFgQViwICxYEBYsCAsWhAULwoIFYcGCsGBBWLAgLFgQFiwICxbp6em5OFqH+sE8IoaDsTi5a3fi5PrmP3HyUHRYiNGU8t4NfXWbiUneYXVDO1af1XF0Ik6OTtQ1C8+qDv+tb+RlI7yxYEFYsCAsWBAWLAgLFoQFC8KCBWHBgrBgQViwICxYEBYsCAsW6WKqfga/qzosGZiP1c/777bq3g3bSj2Zoj7W4mRE9OSlEHnbiJPT5UK/gVb+ee+eqEtRBlt1ycbr4VycjIjq9z/ESd5YsCAsWBAWLAgLFoQFC8KCBWHBgrBgQViwICxYEBYsCAsWhAWLtJxPxdG6VM9liIjrB3VHhq18iENTqosLyqzDD2Z3VBdNjPoDcfLDSt1mIiJm81Nxsr36R5w8ffxYnGwur8TJiKhK9VnxxoIFYcGCsGBBWLAgLFgQFiwICxaEBQvCggVhwYKwYEFYsCAsWBAWLNLzr74UR3/+S12zERGvV9fi5PHqrTiZyatWbuRFOxERubopSCvvStKkDn//uFfv9kE+SKV9rx5k0u46PKu6VpdO8caCBWHBgrBgQViwICxYEBYsCAsWhAULwoIFYcGCsGBBWLAgLFikz59/LY5evPpFv+73P6nDb28+iJO3W/XTepnLywAi8lw9cyWfDMXJolCvGRHNUD11Zp+pl+2P1PUVT6bqliQR8epSfbC8sWBBWLAgLFgQFiwICxaEBQvCggVhwYKwYEFYsCAsWBAWLAgLFim++EwcPUsT/brTv9UdGdJY3ZHheK8eedJUHU5niaQuBGgPB3FycT7X//59q/670vlCnNzt1W0mfpuNxcmI2MqrRnhjwYKwYEFYsCAsWBAWLAgLFoQFC8KCBWHBgrBgQViwICxYEBYs0rfffCeO3mXqt/2I+PHyV3Hyzf5OnFw/PIiTx1L9th8RzcdanBwO1E0WNrm6YCEi+ifqspFDUp9A1VP/ej3eqqMRm1o98II3FiwICxaEBQvCggVhwYKwYEFYsCAsWBAWLAgLFoQFC8KCBWHBgrBgkb148VIcbfNMv+56fS1O3q5X4uRmsxEnqy7LZtpQzxEpCvV32BvKy1a6bIuSpupkK99qWXd4Vpt/78VJ3liwICxYEBYsCAsWhAULwoIFYcGCsGBBWLAgLFgQFiwICxaEBYv/AbrR8xP0Sdz+AAAAAElFTkSuQmCC\" style=\"image-rendering: pixelated;\">\n",
              "            </div><div style=\"margin-right:10px; margin-top: 4px;\">\n",
              "              6 <br/>\n",
              "              <img src=\"data:image/PNG;base64,iVBORw0KGgoAAAANSUhEUgAAAMgAAACrCAIAAACsWkQ9AAAFP0lEQVR4nO3dvY4bVRjG8XfsM+Ov8a43yUIU2BAkkChQSkoa4CZySdQUXAGio6GjgYIaIQRCSAFlEyUoWbP2rj9nPGNu4Zni6f6/+tXorP3faXx0TvbJo49CM8xLcTIiHp1+IE4+Wz1VH5odxMHtcac+MyKPRpzctK04WUZPX8AuO4qTd8qRONm28jPH6jMj4tdnz8XJDn8/oCMsWBAWLAgLFoQFC8KCBWHBgrBgQViwICxYEBYsCAsWhAWLlB0zcbRISX9u1V+Kk+VI/XW96m/Fybbqi5MRUZYDcTLdqtsryjTssICeumni/QczcfJqsRYnZ5MOuxuGhdoAbyxYEBYsCAsWhAULwoIFYcGCsGBBWLAgLFgQFiwICxaEBQvCggVhwSK9M7knju7l3R0RUfTVjStV1OJk06ind7T9Djt8blbqY8tiLE4+PH1bX8B8vxAn66161Eclf1dv1uoGp4ioW/Wz4o0FC8KCBWHBgrBgQViwICxYEBYsCAsWhAULwoIFYcGCsGBBWLBI27YSR7Muh4IsKvU386rdi5PFWF3AcdPhypOil6uPlbcMLOsOC6gO6nN3jbpnZFOrX2tzVCcjopIvfeGNBQvCggVhwYKwYEFYsCAsWBAWLAgLFoQFC8KCBWHBgrBgQViwSFP5xotDUg8OiIg61JtUBnkhTvZ66gIm4w7XeJT9iTi5q9Q7VxbVRl/AoVH3F6xW6qaJQal+qlF1+FqzpG6v4I0FC8KCBWHBgrBgQViwICxYEBYsCAsWhAULwoIFYcGCsGBBWLBI5T319+q9eoNERESvVX8zz0I9OuHBxZk4eXn5WpyMiKY4iJPrnbq5IB8O9AVUB/WTzZP6IqiP6ud/8fg9cTIiXlwvxEneWLAgLFgQFiwICxaEBQvCggVhwYKwYEFYsCAsWBAWLAgLFoQFi/TZxx+Ko5dz9eSCiHi5WIuT1/VKnLyZ34iTvS7/L7uVutSmadQF7Dpc95BydX/H2XQsTt7KN1P88cs/4mREbHfqRgzeWLAgLFgQFiwICxaEBQvCggVhwYKwYEFYsCAsWBAWLAgLFoQFC8KCRXry5Atx9Jtvf9afWzfqlSfL+VKcPJmq13is9+rpHRGRcvW/qzio+1tORif6Aja1uh+pn6lLreT9LYeD+k1FxKFuxUneWLAgLFgQFiwICxaEBQvCggVhwYKwYEFYsCAsWBAWLAgLFoQFi/Tl19+Jo8tavUUjIq5ubsXJ3kC9c2U0HoqT05k4GBGxXannZ+SFutR3z+7rC/j7zQtx8vVqI06mQt0JcpIncTIirpI6zBsLFoQFC8KCBWHBgrBgQViwICxYEBYsCAsWhAULwoIFYcGCsGCRfnv1rzi63nbY3dAc1dtBpnfVPQuPP1VvZ/nphz/FyYg4HZ+Lk/OtejnKZqTug4iIRt5f0MvVK09Sob4yJpOBOBkRo5trcZI3FiwICxaEBQvCggVhwYKwYEFYsCAsWBAWLAgLFoQFC8KCBWHBIj19vhBHi7F6HEBETIbqnoXrvXp0wvc//i5ObpYdbqaYlerP+4OHM3FyP+ywu2H3St0Jcnd6R5wcnKt/1PnnF+JkRPz1lXrMBG8sWBAWLAgLFoQFC8KCBWHBgrBgQViwICxYEBYsCAsWhAULwoIFYcEiu3/+ljhayLdoREReyAddyMdX9FImTmZHdTIiUlL/rr68cajJOhygUq3VjUP9TP2siom61KN6zkhExH8v5+IkbyxYEBYsCAsWhAULwoIFYcGCsGBBWLAgLFgQFiwICxaEBQvCgsX/i+/1LOBrrhsAAAAASUVORK5CYII=\" style=\"image-rendering: pixelated;\">\n",
              "            </div><div style=\"margin-right:10px; margin-top: 4px;\">\n",
              "              7 <br/>\n",
              "              <img src=\"data:image/PNG;base64,iVBORw0KGgoAAAANSUhEUgAAAMgAAACrCAIAAACsWkQ9AAAEu0lEQVR4nO3dS27kNhhF4UuJqpdtpDuepIdZQ/a/hADZRIAEPQgCt91VepAZ9AYuBxeZnG/8Q1a5jjURTZbnTy8yteZOSsvlak6uH3dzskzVnKzLxZyUdHr6ZE4+3r6ak73t/g3oOMzBou5esxdzcB+51XXbzMnJvyjgIyxEEBYiCAsRhIUIwkIEYSGCsBBBWIggLEQQFiIICxGEhYhai/vCvLnvyyVJu/safJ7cuJd6NifPT6/mpKQyu6s22sm9gbYPrARp3R0ucr+DZi9FqfPAw2U73BvgiYUIwkIEYSGCsBBBWIggLEQQFiIICxGEhQjCQgRhIYKwEEFYiCAsRNTW7H0m7DUbkrp91TK5ly3zbE7O54FNQa4//2pOtr/+MCfX99W/AU3upiD+Yhh7TxD1ka+1FJbN4H9FWIggLEQQFiIICxGEhQjCQgRhIYKwEEFYiCAsRBAWIggLEbXO9tkY7jt4aeQ9vH+QyXyyjzy5/WROSurbP+4N1MWcXM7upKQu9zfb7a+g28tLmr8QRSrFfRLxxEIEYSGCsBBBWIggLEQQFiIICxGEhQjCQgRhIYKwEEFYiCAsRNTD/i9/+2iSH9PuSgR/S4hiLy7ox8P+6bp++c2cvL9/NSenkc0jps3d6KHY30Fv7kKIejqZk5KO/c2c5ImFCMJCBGEhgrAQQViIICxEEBYiCAsRhIUIwkIEYSGCsBBBWIios30wxMBpB5J9goH8kzGO9W5O7ut396LS25+/2zfgXraN3ECxd0+4ntyzOR6be82+jxyiYeOJhQjCQgRhIYKwEEFYiCAsRBAWIggLEYSFCMJCBGEhgrAQQViIqPPkvjD3TyWQNM3u3g3btrsX7e5pF20bWFzQlrM5eWzulhD7uvk3UOwFHn1g0v1d+WdY/Jg2B3liIYKwEEFYiCAsRBAWIggLEYSFCMJCBGEhgrAQQViIICxEEBYiCAsR9XxxT7woIxWeZ/ey37q71Ue3f35d3MNRJB2re4xHP9xzRMrIUpRmL3G5D+zf4e7KMnKnA5u98MRCBGEhgrAQQViIICxEEBYiCAsRhIUIwkIEYSGCsBBBWIggLETU5elmjh6PgXfre3cXAnR/JYA92I6BTUGuL5/Nyf37v+ZkP9ytViTJXjRx2Nui1OrewPXpyZyU9NjczU54YiGCsBBBWIggLEQQFiIICxGEhQjCQgRhIYKwEEFYiCAsRBAWIuq2uVsnzPYuD5KW6v6T//1wjzzp9pkrXfYxKlLp38zJ5eQuGbjVF/8G3t7dRROtu5+r2UtB9sMNQFK3L8sTCxGEhQjCQgRhIYKwEEFYiCAsRBAWIggLEYSFCMJCBGEhgrAQUR/2hgjPv1wHLny7mIPt429z8ljdPQ7qZeAPZv7y6l7W3maifLi3Kmla3UUT+2bviGGfdqFpYJsJf/MInliIICxEEBYiCAsRhIUIwkIEYSGCsBBBWIggLEQQFiIICxGEhQjCQkS5vbrbVyzPA5uClMlN9vhwT9Hou70jxWkxJyXVk/u5ur9qZXU/lKTdPkfk8DdQ8c+HcXdvkaTD/g3wxEIEYSGCsBBBWIggLEQQFiIICxGEhQjCQgRhIYKwEEFYiCAsRPwHbgr+KwAO8GAAAAAASUVORK5CYII=\" style=\"image-rendering: pixelated;\">\n",
              "            </div><div style=\"margin-right:10px; margin-top: 4px;\">\n",
              "              8 <br/>\n",
              "              <img src=\"data:image/PNG;base64,iVBORw0KGgoAAAANSUhEUgAAAMgAAACrCAIAAACsWkQ9AAAFIklEQVR4nO3dzWokdRSG8VNd1VXdSXcmTqII4weIA24UxIUgg6CIOxezFq9IXHgDbr0FwQsQd4NuZBZhxPnMJN2d7k6669tbeGvxks3zWx8qlc6T2vThX8mDB5+HZnl+IU5GRNOrk1VZi5Oz+R1x8npzo/74iHw8ESebuhQnJ3P1mhGxXq/EySwfi5NNrX6q82P1U42I50+fiZMj/aKAjrBgQViwICxYEBYsCAsWhAULwoIFYcGCsGBBWLAgLFgQFiyy/dVSHC2yVL/uJFGT3clxd2UlTt6ZDPjGPrpWHGzHiThZ73b6z5+MM3EyU39+VPIfa7taqBeN6LtOnOSJBQvCggVhwYKwYEFYsCAsWBAWLAgLFoQFC8KCBWHBgrBgQViwICxYZHmo50zkxYC1meTgUJysL9S9nSTUG0jlI0ki4iA/EifX5aU4WYwG/Mc2vbqLkua5OFlfq8ei1FUjTkZEx9oMbhdhwYKwYEFYsCAsWBAWLAgLFoQFC8KCBWHBgrBgQViwICxYZO8WB+LoMtRvtiPicrkSJ/UvzMepuohxNDkWJyOi79WzRvJOPb0jH/IPu63UT6Ct1FuNRD0/JEvVXyoiUnlrgycWLAgLFoQFC8KCBWHBgrBgQViwICxYEBYsCAsWhAULwoIFYcEiO1urRyfoX5hHRBXqcNupBy1MD2fi5CjUMw4i4mR2T5x8uvxHvYF0wGfVd6V6WfnlKKn8qZ6c3BUnI2K334uTPLFgQViwICxYEBYsCAsWhAULwoIFYcGCsGBBWLAgLFgQFiwICxZZn7TiaNsPqHAkr0KMEvl9E7X6jf07Rx+IkxGR9uplZ5n6Dour6pV+A/p+RyMvF+irKOsreb2FN1Pg1hEWLAgLFoQFC8KCBWHBgrBgQViwICxYEBYsCAsWhAULwoJFNp2pb6ZomwFvpihDPWWg3anrFdNCPbvhuDgVJyPi6zceipO/Nj+Kk4vyQr+BVl4Z6OVFjKZv5ElxMCKik2+AJxYsCAsWhAULwoIFYcGCsGBBWLAgLFgQFiwICxaEBQvCggVhwYKwYJHdf3Mujq7KAQsWLzfqazz6Tj0U5HCqbvh89Nan4mREPOvOxMmsmIiT6Xis30BSqZ9A0qsLNumQZRhdmqq3yhMLFoQFC8KCBWHBgrBgQViwICxYEBYsCAsWhAULwoIFYcGCsGCRffXxh+Loo9db/brN4kacfH1+JU52M/Wr9X+zx+JkRHzz3vfi5B/b38TJvFXPL4mIpNqIk1miPgi6Tj1q5fT0rjgZEduzJ+IkTyxYEBYsCAsWhAULwoIFYcGCsGBBWLAgLFgQFiwICxaEBQvCgkX2yRfqMQebJwv9uv/9+UicLOaFOJlManFyPR1wq7+vflEvGytxsml2+g0kaSJO3uzVEzEy+Zqvzl+KkxFRN+qfgCcWLAgLFoQFC8KCBWHBgrBgQViwICxYEBYsCAsWhAULwoIFYcEi+/vb78TRv376Wb/uZqp+u14fqJPFZ/fEyfMXA7Ybpu+/LU4uHq/EyZsh/7CbvboK0TTqiQy7uhEn21DfdhERZcV2A24VYcGCsGBBWLAgLFgQFiwICxaEBQvCggVhwYKwYEFYsCAsWBAWLJIvf3goju4uL/Xrri/U4aZVV0HG06k6GepBIxGRduqbVDYLdRvnervWb6Dc6Wsz6jJM36ufatsNWJtp5G0cnliwICxYEBYsCAsWhAULwoIFYcGCsGBBWLAgLFgQFiwICxaEBYv/AUrBDhZiNS/TAAAAAElFTkSuQmCC\" style=\"image-rendering: pixelated;\">\n",
              "            </div><div style=\"margin-right:10px; margin-top: 4px;\">\n",
              "              9 <br/>\n",
              "              <img src=\"data:image/PNG;base64,iVBORw0KGgoAAAANSUhEUgAAAMgAAACrCAIAAACsWkQ9AAAE1UlEQVR4nO3dTXLUVhiF4XOlK/WP3Y2xDUlVUikqGTDINpK9sAV2lwVkCUnBCDJwcPBv/6ilbOGoijN7n/FXl8Z+0aQ/rsrlxVqe02k0JyW1bfPNj23rtz9TUu1ad3SazMHlsvM/wHA8mZN9737Uav+sttuFOSnp8z/35qT7xwOzEBYiCAsRhIUIwkIEYSGCsBBBWIggLEQQFiIICxGEhQjCQkT1FwFqN6PCMhV30j/WPrNWe2FBahv7WHsPorbumZJqrebk65e9Obkb3EWMV5czPurNv+4wTyxEEBYiCAsRhIUIwkIEYSGCsBBBWIggLEQQFiIICxGEhQjCQgRhIaKsV+4mRjtnFaQpfrLugkfTuGfO2vDp7Js2TvYuSpnxo5oxvLD3drrOPrS4fylJX+/25iRPLEQQFiIICxGEhQjCQgRhIYKwEEFYiCAsRBAWIggLEYSFCMJCRB3HGV9u+0a5d40U+04O2YOTfX2I5tzJMQzuu0lm/VT97YajvV7h//H2yogkndwfAE8sZBAWIggLEYSFCMJCBGEhgrAQQViIICxEEBYiCAsRhIUIwkJELf7OwIzJGV/ZT/6x9n0QTdO5Z0ptXZqTXe+ubEyjOympsW9P6O0bGfydhd6+ukLS49PgfgD/UMBHWIggLEQQFiIICxGEhQjCQgRhIYKwEEFYiCAsRBAWIggLEdW/5aDMed1C8TcRWv9tC+5LNPrlmTkpabm+cI9dux/Vv49C0nB4NCcvzt1zHx535uSLrXt1haQvt8/mJE8sRBAWIggLEYSFCMJCBGEhgrAQQViIICxEEBYiCAsRhIUIwkJEbVv3moPazfhP/k3jfmfubzfUhXvJwmJzbU5Kuvj5N3Py+b+/zcnzV2/9D3D74Q/3AwzucsFoXx5x+3XGr3Vwr27giYUMwkIEYSGCsBBBWIggLEQQFiIICxGEhQjCQgRhIYKwEEFYiCAsRJSX11fmaL9c+efW3r3Ao/hrM73/bpK1OSmpsxeHxtHeGhndt5hIGnb37qkHe23meDInp5M7Kenu4cGc5ImFCMJCBGEhgrAQQViIICxEEBYiCAsRhIUIwkIEYSGCsBBBWIiodbkwR7u1Oylp8/o7c3I4PJmTq80Lc/L5zv0SXtJh7w4fntyPWsYZKwOTfdVGZ79KpZnc9Yri3h4iSa39hhyeWIggLEQQFiIICxGEhQjCQgRhIYKwEEFYiCAsRBAWIggLEYSFiNr27rfb3ZV7x4Gk5kc32fXm0pzsW/fMw0dzUJKeP+3MyePgTraacXdDI/dX8P3VuTl5c3M0J6879/IOSbvdJ3OSJxYiCAsRhIUIwkIEYSGCsBBBWIggLEQQFiIICxGEhQjCQgRhIaKeVu7/xi+/ns04+N0bc/D0xf0evvn9B3Nyev+nOSlpmtwbGUb7molSZvyL3d/uzcmPn+/MyV7um0GmlftmEEn2jRA8sZBBWIggLEQQFiIICxGEhQjCQgRhIYKwEEFYiCAsRBAWIggLEYSFiHL2k/seke7N1j+3/rIxJ5utu+DRtO6Gz/DXvTkpafjgDo/2fsu0c99iImncu5eCNPbWSm2qOdnJnZS0P9o7Tv6hgI+wEEFYiCAsRBAWIggLEYSFCMJCBGEhgrAQQViIICxEEBYi/gegRr89yJsoOwAAAABJRU5ErkJggg==\" style=\"image-rendering: pixelated;\">\n",
              "            </div></div>"
            ],
            "text/plain": [
              "<IPython.core.display.HTML object>"
            ]
          },
          "metadata": {
            "tags": []
          }
        }
      ]
    }
  ]
}