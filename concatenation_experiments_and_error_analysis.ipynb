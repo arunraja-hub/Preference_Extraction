{
  "nbformat": 4,
  "nbformat_minor": 0,
  "metadata": {
    "colab": {
      "name": "concatenation_experiments_and_error_analysis.ipynb",
      "provenance": [],
      "collapsed_sections": [],
      "machine_shape": "hm",
      "mount_file_id": "1MmA_cg4owDtDm7Y0lfWRVZ1tlNGprhn1",
      "authorship_tag": "ABX9TyPCEKL3i8zCM5kZT3zDthb6",
      "include_colab_link": true
    },
    "kernelspec": {
      "name": "python3",
      "display_name": "Python 3"
    },
    "accelerator": "GPU"
  },
  "cells": [
    {
      "cell_type": "markdown",
      "metadata": {
        "id": "view-in-github",
        "colab_type": "text"
      },
      "source": [
        "<a href=\"https://colab.research.google.com/github/arunraja-hub/Preference_Extraction/blob/master/concatenation_experiments_and_error_analysis.ipynb\" target=\"_parent\"><img src=\"https://colab.research.google.com/assets/colab-badge.svg\" alt=\"Open In Colab\"/></a>"
      ]
    },
    {
      "cell_type": "markdown",
      "metadata": {
        "id": "w7ASSmHyk1A4",
        "colab_type": "text"
      },
      "source": [
        "# Imports"
      ]
    },
    {
      "cell_type": "code",
      "metadata": {
        "id": "IMKhp_sBk2yq",
        "colab_type": "code",
        "colab": {}
      },
      "source": [
        "import joblib\n",
        "import concurrent.futures\n",
        "import itertools\n",
        "import os\n",
        "import pickle\n",
        "import random\n",
        "import sys\n",
        "import time\n",
        "\n",
        "import pandas as pd\n",
        "import matplotlib.pyplot as plt\n",
        "import numpy as np\n",
        "import PIL\n",
        "from PIL import Image\n",
        "import scipy\n",
        "from scipy import ndimage\n",
        "from sklearn import metrics\n",
        "from sklearn.utils import shuffle\n",
        "import io\n",
        "import collections\n",
        "\n",
        "%tensorflow_version 2.x\n",
        "import tensorflow as tf"
      ],
      "execution_count": 0,
      "outputs": []
    },
    {
      "cell_type": "markdown",
      "metadata": {
        "id": "LhVtgzu_k67U",
        "colab_type": "text"
      },
      "source": [
        "# Load Data from Drive"
      ]
    },
    {
      "cell_type": "code",
      "metadata": {
        "id": "STmpXR0ok5rn",
        "colab_type": "code",
        "colab": {}
      },
      "source": [
        "obs = joblib.load('/content/drive/My Drive/_data/PreferenceExtraction/obs.pkl')\n",
        "prefs = joblib.load('/content/drive/My Drive/_data/PreferenceExtraction/pref.pkl')\n",
        "conv_acts = joblib.load('/content/drive/My Drive/_data/PreferenceExtraction/convAct.pkl')\n",
        "dens_acts = joblib.load('/content/drive/My Drive/_data/PreferenceExtraction/densAct.pkl')"
      ],
      "execution_count": 0,
      "outputs": []
    },
    {
      "cell_type": "markdown",
      "metadata": {
        "id": "qtv0NDAblJm3",
        "colab_type": "text"
      },
      "source": [
        "# Modelling Functions\n",
        "\n",
        "1. Metrics\n",
        "2. CNN\n",
        "3. DNN\n",
        "4. Training code\n",
        "5. Error analysis"
      ]
    },
    {
      "cell_type": "code",
      "metadata": {
        "id": "ZiEZGLIKlBxa",
        "colab_type": "code",
        "colab": {}
      },
      "source": [
        "def get_val_auc(logs):\n",
        "      for key in logs:\n",
        "        if key.startswith('val_auc'):\n",
        "          return logs[key]\n",
        "\n",
        "class BestStats(tf.keras.callbacks.Callback):\n",
        "  \"\"\"A callback to keep track of the best val accuracy and auc seen so far.\"\"\"\n",
        "  def on_train_begin(self, logs):\n",
        "      self.bestMetric = -float('inf')\n",
        "      self.bestLogs = None\n",
        "      self.bestTrain = -float('inf')\n",
        "      self.num_epochs = 0\n",
        "\n",
        "  def on_epoch_end(self, epoch, logs):\n",
        "    self.num_epochs += 1\n",
        "    self.bestTrain = max(self.bestTrain, logs.get('accuracy'))\n",
        "\n",
        "    val_accuracy = logs.get('val_accuracy')\n",
        "    if val_accuracy == None:\n",
        "      return \n",
        "\n",
        "    val_auc = get_val_auc(logs)\n",
        "    \n",
        "    metric = (val_accuracy + val_auc) / 2.0\n",
        "\n",
        "    if metric > self.bestMetric:\n",
        "      self.bestMetric = metric\n",
        "      self.bestLogs = logs"
      ],
      "execution_count": 0,
      "outputs": []
    },
    {
      "cell_type": "code",
      "metadata": {
        "id": "AYrjzFNjlOYn",
        "colab_type": "code",
        "colab": {}
      },
      "source": [
        "def cnn(reg_amount, drop_rate, xs_shape):\n",
        "\n",
        "  model = tf.keras.models.Sequential([\n",
        "    tf.keras.layers.Conv2D(32, 2, activation='relu', kernel_regularizer=tf.keras.regularizers.l2(reg_amount), input_shape=xs_shape[1:]),\n",
        "    tf.keras.layers.Conv2D(16, 1, activation='relu', strides=1, kernel_regularizer=tf.keras.regularizers.l2(reg_amount)),\n",
        "    tf.keras.layers.AveragePooling2D(),\n",
        "    tf.keras.layers.Flatten(),\n",
        "    tf.keras.layers.Dropout(drop_rate),\n",
        "    tf.keras.layers.Dense(1, activation='sigmoid', kernel_regularizer=tf.keras.regularizers.l2(reg_amount)),\n",
        "  ])\n",
        "\n",
        "  model.compile(optimizer=tf.keras.optimizers.Adam(.01),\n",
        "                loss='binary_crossentropy',\n",
        "                metrics=['accuracy',\n",
        "                        tf.keras.metrics.AUC()\n",
        "                        ],\n",
        "                )\n",
        "  return model"
      ],
      "execution_count": 0,
      "outputs": []
    },
    {
      "cell_type": "code",
      "metadata": {
        "id": "K8blFY9vlvnW",
        "colab_type": "code",
        "colab": {}
      },
      "source": [
        "def dnn(reg_amount, drop_rate, layer_sizes):\n",
        "\n",
        "  layers = []\n",
        "  for layer_size in layer_sizes:\n",
        "    layers.append(tf.keras.layers.Dense(layer_size, activation='relu', kernel_regularizer=tf.keras.regularizers.l2(reg_amount)))\n",
        "    layers.append(tf.keras.layers.Dropout(drop_rate))\n",
        "\n",
        "  model = tf.keras.models.Sequential(layers + [\n",
        "    tf.keras.layers.Dense(1, activation='sigmoid', kernel_regularizer=tf.keras.regularizers.l2(reg_amount))\n",
        "  ])\n",
        "\n",
        "  model.compile(optimizer=tf.keras.optimizers.Adam(.01),\n",
        "                loss='binary_crossentropy',\n",
        "                metrics=['accuracy', tf.keras.metrics.AUC()],\n",
        "                )\n",
        "  return model"
      ],
      "execution_count": 0,
      "outputs": []
    },
    {
      "cell_type": "code",
      "metadata": {
        "id": "Ev7HrTurly2w",
        "colab_type": "code",
        "colab": {}
      },
      "source": [
        "def train_best_logs(xs, ys, prefs, num_train, num_val, do_summary, hparams, model, epochs):\n",
        "  \"\"\"Trains the model and retruns the logs of the best epoch. randomly splits the train and val data before training.\"\"\"\n",
        "  tf.keras.backend.clear_session()\n",
        "  model = model(**hparams)\n",
        "  xs, ys, prefs = shuffle(xs, ys, prefs)\n",
        "\n",
        "  xs_val = xs[num_train:num_train+num_val]\n",
        "  ys_val = ys[num_train:num_train+num_val]\n",
        "  pref_val = prefs[num_train:num_train+num_val]\n",
        "  early_stopping = tf.keras.callbacks.EarlyStopping(monitor='val_loss', patience=30, verbose=0)\n",
        "  best_stats = BestStats()\n",
        "  model.fit(xs[:num_train], ys[:num_train], epochs=epochs, batch_size=256, validation_freq=1, callbacks=[best_stats, early_stopping], validation_data=(xs_val, ys_val), verbose=0)\n",
        "  ys_val_hat = model.predict(xs_val)\n",
        "  if do_summary:\n",
        "    model.summary()\n",
        "    print(\"Best train accuracy:\", best_stats.bestTrain)\n",
        "    print(\"Number of epochs:\", best_stats.num_epochs)\n",
        "    \n",
        "  ys_val_hat = (ys_val_hat.flatten() > 0.5).astype(int)\n",
        "  errors = (ys_val_hat != ys_val)\n",
        "  pct_diff = pd.Series(pref_val[errors]).value_counts(normalize=True) - pd.Series(pref_val).value_counts(normalize=True)\n",
        "\n",
        "  return best_stats.bestLogs, ys_val_hat, ys_val, pref_val, pct_diff\n",
        "\n",
        "def multiple_train_ave(hparams, model, xs_for_train, ys, prefs, num_train, num_val, epochs, num_repeat = 10):\n",
        "  \"\"\"Trains the model multiple times with the same parameters and returns the average metrics\"\"\"\n",
        "  start = time.time()\n",
        "  all_val_auc = []\n",
        "  all_val_accuracy = []\n",
        "\n",
        "  pct_diffs = []\n",
        "  do_summary = True\n",
        "  for i in range(num_repeat):\n",
        "    print('Doing training iteration no.', i+1)\n",
        "    logs, ys_val_hat, ys_val, pref_val, pct_diff = train_best_logs(xs_for_train, ys, prefs, num_train, num_val, do_summary, hparams, model, epochs)\n",
        "    all_val_auc.append(get_val_auc(logs))\n",
        "    all_val_accuracy.append(logs.get('val_accuracy'))\n",
        "    do_summary = False \n",
        "    pct_diffs.append(pct_diff)\n",
        "\n",
        "  mean_val_auc = np.mean(all_val_auc)\n",
        "  mean_val_accuracy = np.mean(all_val_accuracy)\n",
        "  metric = (mean_val_auc + mean_val_accuracy) / 2.0\n",
        "  print_data = (\"mean_val_auc\", mean_val_auc, \"mean_val_accuracy\", mean_val_accuracy, \"metric\", metric, \"val_auc_std\", np.std(all_val_auc), \"val_accuracy_std\", np.std(all_val_accuracy))\n",
        "\n",
        "  end = time.time()\n",
        "\n",
        "  return metric, print_data, ys_val_hat, ys_val, pref_val, pct_diffs\n",
        "\n",
        "def train_eval(hparams, model, xs, ys, prefs, num_train, num_val, epochs):\n",
        "    \n",
        "    print(\"Model:\", model)\n",
        "    print(\"Shape of input:\", xs.shape)\n",
        "    print(\"Hyperparameters:\", hparams)\n",
        "    print(\"Number of training data:\", num_train)\n",
        "    print(\"Number of validation data:\", num_val)\n",
        "    print(\"Number of epochs:\", epochs)\n",
        "    \n",
        "    metric, print_data, ys_val_hat, ys_val, pref_val, pct_diffs = multiple_train_ave(hparams, model, xs, ys, prefs, num_train, num_val, epochs)\n",
        "    print(\"Results\", print_data)\n",
        "\n",
        "    return ys_val_hat, ys_val, pref_val, pct_diffs"
      ],
      "execution_count": 0,
      "outputs": []
    },
    {
      "cell_type": "code",
      "metadata": {
        "id": "zAVXpBKrnYj9",
        "colab_type": "code",
        "colab": {}
      },
      "source": [
        "def error_analysis_plot(y_pred, y_true, prefs):\n",
        "    y_pred = (y_pred.flatten() > 0.5).astype(int)\n",
        "    errors = (y_pred != y_true)\n",
        "    prefs[prefs == -100] = -12\n",
        "    plt.hist(prefs, bins=13, label='True values')\n",
        "    plt.hist(prefs[errors], bins=13, label='Prediction errors')\n",
        "    plt.ylabel('Number of occurrences')\n",
        "    plt.xlabel('Human preference value')\n",
        "    plt.legend()\n",
        "    plt.show()"
      ],
      "execution_count": 0,
      "outputs": []
    },
    {
      "cell_type": "markdown",
      "metadata": {
        "id": "89i3D1jwoVTx",
        "colab_type": "text"
      },
      "source": [
        "# Experiments"
      ]
    },
    {
      "cell_type": "markdown",
      "metadata": {
        "id": "3NH3YJntuNe7",
        "colab_type": "text"
      },
      "source": [
        "1. Train on 10K observation data\n",
        "2. Train on all possible combination of concatenations with 50 data points"
      ]
    },
    {
      "cell_type": "code",
      "metadata": {
        "id": "QyoA1bP7o7E3",
        "colab_type": "code",
        "colab": {}
      },
      "source": [
        "ys = (prefs > -6).astype(int)"
      ],
      "execution_count": 0,
      "outputs": []
    },
    {
      "cell_type": "markdown",
      "metadata": {
        "id": "6hTKvFyTvQ8M",
        "colab_type": "text"
      },
      "source": [
        "## Experiment (1) - Train on 10K Observation"
      ]
    },
    {
      "cell_type": "code",
      "metadata": {
        "id": "XZQ0ljbTuW_k",
        "colab_type": "code",
        "colab": {
          "base_uri": "https://localhost:8080/",
          "height": 889
        },
        "outputId": "a9117953-bbf9-4dc1-fc7a-3dd6895146a3"
      },
      "source": [
        "# Experiment No. 1\n",
        "hparam = {\"reg_amount\": 0.0, \"drop_rate\": 0.0, \"xs_shape\": obs.shape}\n",
        "ys_val_hat, ys_val, pref_val = train_eval(hparam, cnn, obs, ys, prefs, num_train=10000, num_val=2000, epochs=1000)\n",
        "error_analysis_plot(ys_val_hat, ys_val, pref_val)"
      ],
      "execution_count": 11,
      "outputs": [
        {
          "output_type": "stream",
          "text": [
            "Model: <function cnn at 0x7fe12dbdcf28>\n",
            "Shape of input: (23750, 14, 16, 5)\n",
            "Hyperparameters: {'reg_amount': 0.0, 'drop_rate': 0.0, 'xs_shape': (23750, 14, 16, 5)}\n",
            "Number of training data: 10000\n",
            "Number of validation data: 2000\n",
            "Number of epochs: 1000\n",
            "Doing training iteration no. 1\n",
            "Model: \"sequential\"\n",
            "_________________________________________________________________\n",
            "Layer (type)                 Output Shape              Param #   \n",
            "=================================================================\n",
            "conv2d (Conv2D)              (None, 13, 15, 64)        1344      \n",
            "_________________________________________________________________\n",
            "conv2d_1 (Conv2D)            (None, 13, 15, 32)        2080      \n",
            "_________________________________________________________________\n",
            "average_pooling2d (AveragePo (None, 6, 7, 32)          0         \n",
            "_________________________________________________________________\n",
            "flatten (Flatten)            (None, 1344)              0         \n",
            "_________________________________________________________________\n",
            "dropout (Dropout)            (None, 1344)              0         \n",
            "_________________________________________________________________\n",
            "dense (Dense)                (None, 1)                 1345      \n",
            "=================================================================\n",
            "Total params: 4,769\n",
            "Trainable params: 4,769\n",
            "Non-trainable params: 0\n",
            "_________________________________________________________________\n",
            "Best train accuracy: 0.9079999923706055\n",
            "Number of epochs: 105\n",
            "Doing training iteration no. 2\n",
            "Doing training iteration no. 3\n",
            "Doing training iteration no. 4\n",
            "Doing training iteration no. 5\n",
            "Results ('mean_val_auc', 0.9325024247169494, 'mean_val_accuracy', 0.8850000023841857, 'metric', 0.9087512135505675, 'val_auc_std', 0.014382437879937725, 'val_accuracy_std', 0.007368851520081325)\n"
          ],
          "name": "stdout"
        },
        {
          "output_type": "display_data",
          "data": {
            "image/png": "[encoded data removed]",
            "text/plain": [
              "<Figure size 432x288 with 1 Axes>"
            ]
          },
          "metadata": {
            "tags": [],
            "needs_background": "light"
          }
        }
      ]
    },
    {
      "cell_type": "markdown",
      "metadata": {
        "id": "agIR2QfnvQOO",
        "colab_type": "text"
      },
      "source": [
        "## Experiment (2) - Train on all possible concatenations of dense and conv activations"
      ]
    },
    {
      "cell_type": "code",
      "metadata": {
        "id": "MdlT1OMesos7",
        "colab_type": "code",
        "colab": {}
      },
      "source": [
        "conv_acts_flat = conv_acts.reshape((23750, 12 * 14 * 16))\n",
        "\n",
        "dens_acts_ch16 = dens_acts.reshape((23750, 2, 2, 16))\n",
        "dens_act_pad_ch16 = np.zeros((23750, 12, 14, 16))\n",
        "dens_act_pad_ch16[:dens_acts_ch16.shape[0], :dens_acts_ch16.shape[1],\n",
        "                  :dens_acts_ch16.shape[2], :dens_acts_ch16.shape[3]] = dens_acts_ch16\n",
        "\n",
        "dens_acts_ch64 = dens_acts.reshape((23750, 1, 1, 64))\n",
        "dens_act_pad_ch64 = np.zeros((23750, 12, 14, 64))\n",
        "dens_act_pad_ch64[:dens_acts_ch64.shape[0], :dens_acts_ch64.shape[1],\n",
        "                  :dens_acts_ch64.shape[2], :dens_acts_ch64.shape[3]] = dens_acts_ch64\n",
        "\n",
        "all_acts_flat = np.concatenate([conv_acts_flat, dens_acts], axis=1)\n",
        "conv_dens_act_conc_on_x1 = np.concatenate([conv_acts, dens_act_pad_ch16], axis=1)\n",
        "conv_dens_act_conc_on_x2 = np.concatenate([conv_acts, dens_act_pad_ch16], axis=2)\n",
        "conv_dens_act_conc_on_x3 = np.concatenate([conv_acts, dens_act_pad_ch16], axis=3)\n",
        "conv_dens_act_conc_on_ch = np.concatenate([conv_acts, dens_act_pad_ch64], axis=3)\n",
        "\n",
        "del conv_acts, dens_acts, conv_acts_flat, dens_acts_ch16, dens_act_pad_ch16, dens_acts_ch64, dens_act_pad_ch64"
      ],
      "execution_count": 0,
      "outputs": []
    },
    {
      "cell_type": "code",
      "metadata": {
        "id": "afCE8P-XoXj1",
        "colab_type": "code",
        "colab": {
          "base_uri": "https://localhost:8080/",
          "height": 1000
        },
        "outputId": "cb550c0e-fd9b-4908-d14d-47980cbe9aa2"
      },
      "source": [
        "# Experiment No. 2\n",
        "\n",
        "for xs in [\n",
        "    dens_acts,\n",
        "    all_acts_flat,\n",
        "    conv_acts,\n",
        "    conv_dens_act_conc_on_x1, \n",
        "    conv_dens_act_conc_on_x2,\n",
        "    conv_dens_act_conc_on_x3,\n",
        "    conv_dens_act_conc_on_ch]:\n",
        "\n",
        "    if len(xs.shape) == 2:\n",
        "        hparam = {\"reg_amount\": 0.0, \"drop_rate\": 0.0, \"layer_sizes\": (32,)}\n",
        "        mod = dnn\n",
        "    else:\n",
        "        hparam = {\"reg_amount\": 0.0, \"drop_rate\": 0.0, \"xs_shape\": xs.shape}\n",
        "        mod = cnn\n",
        "    \n",
        "    ys_val_hat, ys_val, pref_val = train_eval(hparam, mod, xs, ys, prefs, num_train=50, num_val=400, epochs=400)\n",
        "    error_analysis_plot(ys_val_hat, ys_val, pref_val)"
      ],
      "execution_count": 22,
      "outputs": [
        {
          "output_type": "stream",
          "text": [
            "Model: <function dnn at 0x7fcdf56a37b8>\n",
            "Shape of input: (23750, 64)\n",
            "Hyperparameters: {'reg_amount': 0.0, 'drop_rate': 0.0, 'layer_sizes': (32,)}\n",
            "Number of training data: 50\n",
            "Number of validation data: 400\n",
            "Number of epochs: 400\n",
            "Doing training iteration no. 1\n",
            "Model: \"sequential\"\n",
            "_________________________________________________________________\n",
            "Layer (type)                 Output Shape              Param #   \n",
            "=================================================================\n",
            "dense (Dense)                multiple                  2080      \n",
            "_________________________________________________________________\n",
            "dropout (Dropout)            multiple                  0         \n",
            "_________________________________________________________________\n",
            "dense_1 (Dense)              multiple                  33        \n",
            "=================================================================\n",
            "Total params: 2,113\n",
            "Trainable params: 2,113\n",
            "Non-trainable params: 0\n",
            "_________________________________________________________________\n",
            "Best train accuracy: 1.0\n",
            "Number of epochs: 31\n",
            "Doing training iteration no. 2\n",
            "Doing training iteration no. 3\n",
            "Doing training iteration no. 4\n",
            "Doing training iteration no. 5\n",
            "Doing training iteration no. 6\n",
            "Doing training iteration no. 7\n",
            "Doing training iteration no. 8\n",
            "Doing training iteration no. 9\n",
            "Doing training iteration no. 10\n",
            "Results ('mean_val_auc', 0.8714653313159942, 'mean_val_accuracy', 0.8435000061988831, 'metric', 0.8574826687574386, 'val_auc_std', 0.02263668332293567, 'val_accuracy_std', 0.02372235332354643)\n"
          ],
          "name": "stdout"
        },
        {
          "output_type": "display_data",
          "data": {
            "image/png": "[encoded data removed]",
            "text/plain": [
              "<Figure size 432x288 with 1 Axes>"
            ]
          },
          "metadata": {
            "tags": [],
            "needs_background": "light"
          }
        },
        {
          "output_type": "stream",
          "text": [
            "Model: <function dnn at 0x7fcdf56a37b8>\n",
            "Shape of input: (23750, 2752)\n",
            "Hyperparameters: {'reg_amount': 0.0, 'drop_rate': 0.0, 'layer_sizes': (32,)}\n",
            "Number of training data: 50\n",
            "Number of validation data: 400\n",
            "Number of epochs: 400\n",
            "Doing training iteration no. 1\n",
            "Model: \"sequential\"\n",
            "_________________________________________________________________\n",
            "Layer (type)                 Output Shape              Param #   \n",
            "=================================================================\n",
            "dense (Dense)                multiple                  88096     \n",
            "_________________________________________________________________\n",
            "dropout (Dropout)            multiple                  0         \n",
            "_________________________________________________________________\n",
            "dense_1 (Dense)              multiple                  33        \n",
            "=================================================================\n",
            "Total params: 88,129\n",
            "Trainable params: 88,129\n",
            "Non-trainable params: 0\n",
            "_________________________________________________________________\n",
            "Best train accuracy: 0.9599999785423279\n",
            "Number of epochs: 35\n",
            "Doing training iteration no. 2\n",
            "Doing training iteration no. 3\n",
            "Doing training iteration no. 4\n",
            "Doing training iteration no. 5\n",
            "Doing training iteration no. 6\n",
            "Doing training iteration no. 7\n",
            "Doing training iteration no. 8\n",
            "Doing training iteration no. 9\n",
            "Doing training iteration no. 10\n",
            "Results ('mean_val_auc', 0.8381119489669799, 'mean_val_accuracy', 0.7775000035762787, 'metric', 0.8078059762716293, 'val_auc_std', 0.023772682868251443, 'val_accuracy_std', 0.02921899779108061)\n"
          ],
          "name": "stdout"
        },
        {
          "output_type": "display_data",
          "data": {
            "image/png": "[encoded data removed]",
            "text/plain": [
              "<Figure size 432x288 with 1 Axes>"
            ]
          },
          "metadata": {
            "tags": [],
            "needs_background": "light"
          }
        },
        {
          "output_type": "stream",
          "text": [
            "Model: <function cnn at 0x7fcdf56a3c80>\n",
            "Shape of input: (23750, 12, 14, 16)\n",
            "Hyperparameters: {'reg_amount': 0.0, 'drop_rate': 0.0, 'xs_shape': (23750, 12, 14, 16)}\n",
            "Number of training data: 50\n",
            "Number of validation data: 400\n",
            "Number of epochs: 400\n",
            "Doing training iteration no. 1\n",
            "Model: \"sequential\"\n",
            "_________________________________________________________________\n",
            "Layer (type)                 Output Shape              Param #   \n",
            "=================================================================\n",
            "conv2d (Conv2D)              (None, 11, 13, 32)        2080      \n",
            "_________________________________________________________________\n",
            "conv2d_1 (Conv2D)            (None, 11, 13, 16)        528       \n",
            "_________________________________________________________________\n",
            "average_pooling2d (AveragePo (None, 5, 6, 16)          0         \n",
            "_________________________________________________________________\n",
            "flatten (Flatten)            (None, 480)               0         \n",
            "_________________________________________________________________\n",
            "dropout (Dropout)            (None, 480)               0         \n",
            "_________________________________________________________________\n",
            "dense (Dense)                (None, 1)                 481       \n",
            "=================================================================\n",
            "Total params: 3,089\n",
            "Trainable params: 3,089\n",
            "Non-trainable params: 0\n",
            "_________________________________________________________________\n",
            "Best train accuracy: 1.0\n",
            "Number of epochs: 35\n",
            "Doing training iteration no. 2\n",
            "Doing training iteration no. 3\n",
            "Doing training iteration no. 4\n",
            "Doing training iteration no. 5\n",
            "Doing training iteration no. 6\n",
            "Doing training iteration no. 7\n",
            "Doing training iteration no. 8\n",
            "Doing training iteration no. 9\n",
            "Doing training iteration no. 10\n",
            "Results ('mean_val_auc', 0.8118107438087463, 'mean_val_accuracy', 0.7614999949932099, 'metric', 0.7866553694009781, 'val_auc_std', 0.0461885203069655, 'val_accuracy_std', 0.041985113778413484)\n"
          ],
          "name": "stdout"
        },
        {
          "output_type": "display_data",
          "data": {
            "image/png": "[encoded data removed]",
            "text/plain": [
              "<Figure size 432x288 with 1 Axes>"
            ]
          },
          "metadata": {
            "tags": [],
            "needs_background": "light"
          }
        },
        {
          "output_type": "stream",
          "text": [
            "Model: <function cnn at 0x7fcdf56a3c80>\n",
            "Shape of input: (23750, 24, 14, 16)\n",
            "Hyperparameters: {'reg_amount': 0.0, 'drop_rate': 0.0, 'xs_shape': (23750, 24, 14, 16)}\n",
            "Number of training data: 50\n",
            "Number of validation data: 400\n",
            "Number of epochs: 400\n",
            "Doing training iteration no. 1\n",
            "Model: \"sequential\"\n",
            "_________________________________________________________________\n",
            "Layer (type)                 Output Shape              Param #   \n",
            "=================================================================\n",
            "conv2d (Conv2D)              (None, 23, 13, 32)        2080      \n",
            "_________________________________________________________________\n",
            "conv2d_1 (Conv2D)            (None, 23, 13, 16)        528       \n",
            "_________________________________________________________________\n",
            "average_pooling2d (AveragePo (None, 11, 6, 16)         0         \n",
            "_________________________________________________________________\n",
            "flatten (Flatten)            (None, 1056)              0         \n",
            "_________________________________________________________________\n",
            "dropout (Dropout)            (None, 1056)              0         \n",
            "_________________________________________________________________\n",
            "dense (Dense)                (None, 1)                 1057      \n",
            "=================================================================\n",
            "Total params: 3,665\n",
            "Trainable params: 3,665\n",
            "Non-trainable params: 0\n",
            "_________________________________________________________________\n",
            "Best train accuracy: 1.0\n",
            "Number of epochs: 60\n",
            "Doing training iteration no. 2\n",
            "Doing training iteration no. 3\n",
            "Doing training iteration no. 4\n",
            "Doing training iteration no. 5\n",
            "Doing training iteration no. 6\n",
            "Doing training iteration no. 7\n",
            "Doing training iteration no. 8\n",
            "Doing training iteration no. 9\n",
            "Doing training iteration no. 10\n",
            "Results ('mean_val_auc', 0.8793354988098144, 'mean_val_accuracy', 0.8144999921321869, 'metric', 0.8469177454710006, 'val_auc_std', 0.028125135179792708, 'val_accuracy_std', 0.033124762159971566)\n"
          ],
          "name": "stdout"
        },
        {
          "output_type": "display_data",
          "data": {
            "image/png": "[encoded data removed]",
            "text/plain": [
              "<Figure size 432x288 with 1 Axes>"
            ]
          },
          "metadata": {
            "tags": [],
            "needs_background": "light"
          }
        },
        {
          "output_type": "stream",
          "text": [
            "Model: <function cnn at 0x7fcdf56a3c80>\n",
            "Shape of input: (23750, 12, 28, 16)\n",
            "Hyperparameters: {'reg_amount': 0.0, 'drop_rate': 0.0, 'xs_shape': (23750, 12, 28, 16)}\n",
            "Number of training data: 50\n",
            "Number of validation data: 400\n",
            "Number of epochs: 400\n",
            "Doing training iteration no. 1\n",
            "Model: \"sequential\"\n",
            "_________________________________________________________________\n",
            "Layer (type)                 Output Shape              Param #   \n",
            "=================================================================\n",
            "conv2d (Conv2D)              (None, 11, 27, 32)        2080      \n",
            "_________________________________________________________________\n",
            "conv2d_1 (Conv2D)            (None, 11, 27, 16)        528       \n",
            "_________________________________________________________________\n",
            "average_pooling2d (AveragePo (None, 5, 13, 16)         0         \n",
            "_________________________________________________________________\n",
            "flatten (Flatten)            (None, 1040)              0         \n",
            "_________________________________________________________________\n",
            "dropout (Dropout)            (None, 1040)              0         \n",
            "_________________________________________________________________\n",
            "dense (Dense)                (None, 1)                 1041      \n",
            "=================================================================\n",
            "Total params: 3,649\n",
            "Trainable params: 3,649\n",
            "Non-trainable params: 0\n",
            "_________________________________________________________________\n",
            "Best train accuracy: 1.0\n",
            "Number of epochs: 58\n",
            "Doing training iteration no. 2\n",
            "Doing training iteration no. 3\n",
            "Doing training iteration no. 4\n",
            "Doing training iteration no. 5\n",
            "Doing training iteration no. 6\n",
            "Doing training iteration no. 7\n",
            "Doing training iteration no. 8\n",
            "Doing training iteration no. 9\n",
            "Doing training iteration no. 10\n",
            "Results ('mean_val_auc', 0.8932569205760956, 'mean_val_accuracy', 0.8285000026226044, 'metric', 0.86087846159935, 'val_auc_std', 0.017591903831538216, 'val_accuracy_std', 0.01997498529837964)\n"
          ],
          "name": "stdout"
        },
        {
          "output_type": "display_data",
          "data": {
            "image/png": "[encoded data removed]",
            "text/plain": [
              "<Figure size 432x288 with 1 Axes>"
            ]
          },
          "metadata": {
            "tags": [],
            "needs_background": "light"
          }
        },
        {
          "output_type": "stream",
          "text": [
            "Model: <function cnn at 0x7fcdf56a3c80>\n",
            "Shape of input: (23750, 12, 14, 32)\n",
            "Hyperparameters: {'reg_amount': 0.0, 'drop_rate': 0.0, 'xs_shape': (23750, 12, 14, 32)}\n",
            "Number of training data: 50\n",
            "Number of validation data: 400\n",
            "Number of epochs: 400\n",
            "Doing training iteration no. 1\n",
            "Model: \"sequential\"\n",
            "_________________________________________________________________\n",
            "Layer (type)                 Output Shape              Param #   \n",
            "=================================================================\n",
            "conv2d (Conv2D)              (None, 11, 13, 32)        4128      \n",
            "_________________________________________________________________\n",
            "conv2d_1 (Conv2D)            (None, 11, 13, 16)        528       \n",
            "_________________________________________________________________\n",
            "average_pooling2d (AveragePo (None, 5, 6, 16)          0         \n",
            "_________________________________________________________________\n",
            "flatten (Flatten)            (None, 480)               0         \n",
            "_________________________________________________________________\n",
            "dropout (Dropout)            (None, 480)               0         \n",
            "_________________________________________________________________\n",
            "dense (Dense)                (None, 1)                 481       \n",
            "=================================================================\n",
            "Total params: 5,137\n",
            "Trainable params: 5,137\n",
            "Non-trainable params: 0\n",
            "_________________________________________________________________\n",
            "Best train accuracy: 1.0\n",
            "Number of epochs: 37\n",
            "Doing training iteration no. 2\n",
            "Doing training iteration no. 3\n",
            "Doing training iteration no. 4\n",
            "Doing training iteration no. 5\n",
            "Doing training iteration no. 6\n",
            "Doing training iteration no. 7\n",
            "Doing training iteration no. 8\n",
            "Doing training iteration no. 9\n",
            "Doing training iteration no. 10\n",
            "Results ('mean_val_auc', 0.8686852812767029, 'mean_val_accuracy', 0.8247500061988831, 'metric', 0.846717643737793, 'val_auc_std', 0.06532306181400693, 'val_accuracy_std', 0.04938940212156422)\n"
          ],
          "name": "stdout"
        },
        {
          "output_type": "display_data",
          "data": {
            "image/png": "[encoded data removed]",
            "text/plain": [
              "<Figure size 432x288 with 1 Axes>"
            ]
          },
          "metadata": {
            "tags": [],
            "needs_background": "light"
          }
        },
        {
          "output_type": "stream",
          "text": [
            "Model: <function cnn at 0x7fcdf56a3c80>\n",
            "Shape of input: (23750, 12, 14, 80)\n",
            "Hyperparameters: {'reg_amount': 0.0, 'drop_rate': 0.0, 'xs_shape': (23750, 12, 14, 80)}\n",
            "Number of training data: 50\n",
            "Number of validation data: 400\n",
            "Number of epochs: 400\n",
            "Doing training iteration no. 1\n",
            "Model: \"sequential\"\n",
            "_________________________________________________________________\n",
            "Layer (type)                 Output Shape              Param #   \n",
            "=================================================================\n",
            "conv2d (Conv2D)              (None, 11, 13, 32)        10272     \n",
            "_________________________________________________________________\n",
            "conv2d_1 (Conv2D)            (None, 11, 13, 16)        528       \n",
            "_________________________________________________________________\n",
            "average_pooling2d (AveragePo (None, 5, 6, 16)          0         \n",
            "_________________________________________________________________\n",
            "flatten (Flatten)            (None, 480)               0         \n",
            "_________________________________________________________________\n",
            "dropout (Dropout)            (None, 480)               0         \n",
            "_________________________________________________________________\n",
            "dense (Dense)                (None, 1)                 481       \n",
            "=================================================================\n",
            "Total params: 11,281\n",
            "Trainable params: 11,281\n",
            "Non-trainable params: 0\n",
            "_________________________________________________________________\n",
            "Best train accuracy: 1.0\n",
            "Number of epochs: 33\n",
            "Doing training iteration no. 2\n",
            "Doing training iteration no. 3\n",
            "Doing training iteration no. 4\n",
            "Doing training iteration no. 5\n",
            "Doing training iteration no. 6\n",
            "Doing training iteration no. 7\n",
            "Doing training iteration no. 8\n",
            "Doing training iteration no. 9\n",
            "Doing training iteration no. 10\n",
            "Results ('mean_val_auc', 0.8871894717216492, 'mean_val_accuracy', 0.8284999907016755, 'metric', 0.8578447312116624, 'val_auc_std', 0.02655174341386464, 'val_accuracy_std', 0.028332845354556074)\n"
          ],
          "name": "stdout"
        },
        {
          "output_type": "display_data",
          "data": {
            "image/png": "[encoded data removed]",
            "text/plain": [
              "<Figure size 432x288 with 1 Axes>"
            ]
          },
          "metadata": {
            "tags": [],
            "needs_background": "light"
          }
        }
      ]
    },
    {
      "cell_type": "markdown",
      "metadata": {
        "id": "TnB4SBJ8_GJg",
        "colab_type": "text"
      },
      "source": [
        "### Summary of results of Experiment 2\n",
        "\n",
        "| Xs                       | AUC   |\n",
        "|--------------------------|-------|\n",
        "| dens_acts                | 0.871 |\n",
        "| all_acts_flat            | 0.838 |\n",
        "| conv_acts                | 0.811 |\n",
        "| conv_dens_act_conc_on_x1 | 0.879 |\n",
        "| conv_dens_act_conc_on_x2 | 0.893 |\n",
        "| conv_dens_act_conc_on_x3 | 0.868 |\n",
        "| conv_dens_act_conc_on_ch | 0.887 |"
      ]
    },
    {
      "cell_type": "markdown",
      "metadata": {
        "id": "YiZ3CaQDCDmU",
        "colab_type": "text"
      },
      "source": [
        "## Experiment 3 - Looking for Systematic Errors\n",
        "\n",
        "1. Take the best model of experiment 2 (`conv_dens_act_conc_on_ch`)\n",
        "2. Train the model 10 times with 50 different samples of 50 datests\n",
        "3. Measure the mean deviation between the proportion of values in the validation dataset and the proportion of values for which the model makes errors (e.g. validation dataset has 10% of 6 but 30% of error are for 6s, 20% difference would signal systematic error)"
      ]
    },
    {
      "cell_type": "code",
      "metadata": {
        "id": "47Jsua7-_KRy",
        "colab_type": "code",
        "colab": {
          "base_uri": "https://localhost:8080/",
          "height": 714
        },
        "outputId": "6c4a9b9b-6d7a-4031-da46-7eaeaec3d70b"
      },
      "source": [
        "hparam = {\"reg_amount\": 0.0, \"drop_rate\": 0.0, \"xs_shape\": xs.shape}\n",
        "ys_val_hat, ys_val, pref_val, pct_diffs = train_eval(hparam, cnn, conv_dens_act_conc_on_ch, ys, prefs, num_train=50, num_val=400, epochs=400)"
      ],
      "execution_count": 42,
      "outputs": [
        {
          "output_type": "stream",
          "text": [
            "Model: <function cnn at 0x7fcdf56a3c80>\n",
            "Shape of input: (23750, 12, 14, 80)\n",
            "Hyperparameters: {'reg_amount': 0.0, 'drop_rate': 0.0, 'xs_shape': (23750, 12, 14, 80)}\n",
            "Number of training data: 50\n",
            "Number of validation data: 400\n",
            "Number of epochs: 400\n",
            "Doing training iteration no. 1\n",
            "Model: \"sequential\"\n",
            "_________________________________________________________________\n",
            "Layer (type)                 Output Shape              Param #   \n",
            "=================================================================\n",
            "conv2d (Conv2D)              (None, 11, 13, 32)        10272     \n",
            "_________________________________________________________________\n",
            "conv2d_1 (Conv2D)            (None, 11, 13, 16)        528       \n",
            "_________________________________________________________________\n",
            "average_pooling2d (AveragePo (None, 5, 6, 16)          0         \n",
            "_________________________________________________________________\n",
            "flatten (Flatten)            (None, 480)               0         \n",
            "_________________________________________________________________\n",
            "dropout (Dropout)            (None, 480)               0         \n",
            "_________________________________________________________________\n",
            "dense (Dense)                (None, 1)                 481       \n",
            "=================================================================\n",
            "Total params: 11,281\n",
            "Trainable params: 11,281\n",
            "Non-trainable params: 0\n",
            "_________________________________________________________________\n",
            "Best train accuracy: 1.0\n",
            "Number of epochs: 40\n",
            "Doing training iteration no. 2\n",
            "Doing training iteration no. 3\n",
            "Doing training iteration no. 4\n",
            "Doing training iteration no. 5\n",
            "Doing training iteration no. 6\n",
            "Doing training iteration no. 7\n",
            "Doing training iteration no. 8\n",
            "Doing training iteration no. 9\n",
            "Doing training iteration no. 10\n",
            "Results ('mean_val_auc', 0.8927126169204712, 'mean_val_accuracy', 0.8322499930858612, 'metric', 0.8624813050031662, 'val_auc_std', 0.024345455638997714, 'val_accuracy_std', 0.02739638713499936)\n"
          ],
          "name": "stdout"
        }
      ]
    },
    {
      "cell_type": "code",
      "metadata": {
        "id": "6MEZ1dBDBhhM",
        "colab_type": "code",
        "colab": {
          "base_uri": "https://localhost:8080/",
          "height": 208
        },
        "outputId": "6dc71b62-e8fa-4ba4-aa60-ce88d8e417e8"
      },
      "source": [
        "# Some model have differences as big as 20% for certain preference values\n",
        "pd.concat(pct_diffs, axis=1).fillna(0).max().sort_values(ascending=False).round(4)"
      ],
      "execution_count": 56,
      "outputs": [
        {
          "output_type": "execute_result",
          "data": {
            "text/plain": [
              "8    0.1929\n",
              "2    0.1893\n",
              "5    0.1815\n",
              "4    0.1787\n",
              "3    0.1722\n",
              "7    0.1428\n",
              "6    0.1363\n",
              "0    0.1299\n",
              "9    0.1261\n",
              "1    0.0867\n",
              "dtype: float64"
            ]
          },
          "metadata": {
            "tags": []
          },
          "execution_count": 56
        }
      ]
    },
    {
      "cell_type": "code",
      "metadata": {
        "id": "deGYGz00_4XE",
        "colab_type": "code",
        "colab": {
          "base_uri": "https://localhost:8080/",
          "height": 208
        },
        "outputId": "d7f8e505-53f6-4c92-b926-99d68dec8371"
      },
      "source": [
        "# For no preference value all model training make sysetmatic mistakes\n",
        "pd.concat(pct_diffs, axis=1).fillna(0).mean().sort_values(ascending=False).round(4)"
      ],
      "execution_count": 55,
      "outputs": [
        {
          "output_type": "execute_result",
          "data": {
            "text/plain": [
              "8    0.0415\n",
              "4    0.0331\n",
              "9    0.0319\n",
              "6    0.0252\n",
              "3    0.0060\n",
              "2    0.0035\n",
              "7    0.0012\n",
              "1    0.0012\n",
              "0    0.0008\n",
              "5    0.0000\n",
              "dtype: float64"
            ]
          },
          "metadata": {
            "tags": []
          },
          "execution_count": 55
        }
      ]
    }
  ]
}