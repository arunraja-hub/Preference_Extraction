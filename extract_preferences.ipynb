{
  "nbformat": 4,
  "nbformat_minor": 0,
  "metadata": {
    "accelerator": "GPU",
    "colab": {
      "name": "extract_preferences.ipynb",
      "provenance": [],
      "collapsed_sections": []
    },
    "environment": {
      "name": "tf2-2-2-gpu.2-2.m49",
      "type": "gcloud",
      "uri": "gcr.io/deeplearning-platform-release/tf2-2-2-gpu.2-2:m49"
    },
    "kernelspec": {
      "display_name": "Python 3",
      "language": "python",
      "name": "python3"
    },
    "language_info": {
      "codemirror_mode": {
        "name": "ipython",
        "version": 3
      },
      "file_extension": ".py",
      "mimetype": "text/x-python",
      "name": "python",
      "nbconvert_exporter": "python",
      "pygments_lexer": "ipython3",
      "version": "3.7.6"
    }
  },
  "cells": [
    {
      "cell_type": "markdown",
      "metadata": {
        "id": "JKmidrQSH8bZ"
      },
      "source": [
        "Licensed under the Apache License, Version 2.0 (the \"License\"); you may not use this file except in compliance with the License.\n",
        "You may obtain a copy of the License at\n",
        "http://www.apache.org/licenses/LICENSE-2.0\n",
        "\n",
        "Unless required by applicable law or agreed to in writing, software distributed under the License is distributed on an \"AS IS\" BASIS,\n",
        "WITHOUT WARRANTIES OR CONDITIONS OF ANY KIND, either express or implied. See the License for the specific language governing permissions and limitations under the License."
      ]
    },
    {
      "cell_type": "markdown",
      "metadata": {
        "id": "v9uu_Ht_oXGx"
      },
      "source": [
        "## Data and import stuff"
      ]
    },
    {
      "cell_type": "code",
      "metadata": {
        "id": "3nC3ZAJFA6Jz",
        "outputId": "8f752caa-07f4-4f4a-915d-50360e5df889",
        "colab": {
          "base_uri": "https://localhost:8080/"
        }
      },
      "source": [
        "%tensorflow_version 2.2.1\n",
        "!git clone https://github.com/arunraja-hub/Preference_Extraction.git\n",
        "\n",
        "!pip install tensorflow==2.2.1\n",
        "!pip install tf-agents==0.5.0\n",
        "!pip install tensorflow-probability==0.10"
      ],
      "execution_count": 2,
      "outputs": [
        {
          "output_type": "stream",
          "text": [
            "`%tensorflow_version` only switches the major version: 1.x or 2.x.\n",
            "You set: `2.2.1`. This will be interpreted as: `2.x`.\n",
            "\n",
            "\n",
            "TensorFlow 2.x selected.\n",
            "Cloning into 'Preference_Extraction'...\n",
            "remote: Enumerating objects: 246, done.\u001b[K\n",
            "remote: Counting objects: 100% (246/246), done.\u001b[K\n",
            "remote: Compressing objects: 100% (113/113), done.\u001b[K\n",
            "remote: Total 1246 (delta 170), reused 192 (delta 133), pack-reused 1000\u001b[K\n",
            "Receiving objects: 100% (1246/1246), 38.21 MiB | 17.72 MiB/s, done.\n",
            "Resolving deltas: 100% (484/484), done.\n",
            "Collecting tensorflow==2.2.1\n",
            "\u001b[?25l  Downloading https://files.pythonhosted.org/packages/70/e3/663eac537202dee730ad6e61769fc3ebce92a6085dbfd13ca902df5f1477/tensorflow-2.2.1-cp36-cp36m-manylinux2010_x86_64.whl (516.2MB)\n",
            "\u001b[K     |████████████████████████████████| 516.2MB 31kB/s \n",
            "\u001b[?25hRequirement already satisfied: opt-einsum>=2.3.2 in /usr/local/lib/python3.6/dist-packages (from tensorflow==2.2.1) (3.3.0)\n",
            "Collecting tensorflow-estimator<2.3.0,>=2.2.0\n",
            "\u001b[?25l  Downloading https://files.pythonhosted.org/packages/a4/f5/926ae53d6a226ec0fda5208e0e581cffed895ccc89e36ba76a8e60895b78/tensorflow_estimator-2.2.0-py2.py3-none-any.whl (454kB)\n",
            "\u001b[K     |████████████████████████████████| 460kB 53.4MB/s \n",
            "\u001b[?25hRequirement already satisfied: protobuf>=3.8.0 in /usr/local/lib/python3.6/dist-packages (from tensorflow==2.2.1) (3.12.4)\n",
            "Requirement already satisfied: numpy<1.19.0,>=1.16.0 in /usr/local/lib/python3.6/dist-packages (from tensorflow==2.2.1) (1.18.5)\n",
            "Requirement already satisfied: h5py<2.11.0,>=2.10.0 in /usr/local/lib/python3.6/dist-packages (from tensorflow==2.2.1) (2.10.0)\n",
            "Requirement already satisfied: wheel>=0.26; python_version >= \"3\" in /usr/local/lib/python3.6/dist-packages (from tensorflow==2.2.1) (0.35.1)\n",
            "Requirement already satisfied: astunparse==1.6.3 in /usr/local/lib/python3.6/dist-packages (from tensorflow==2.2.1) (1.6.3)\n",
            "Requirement already satisfied: wrapt>=1.11.1 in /usr/local/lib/python3.6/dist-packages (from tensorflow==2.2.1) (1.12.1)\n",
            "Requirement already satisfied: six>=1.12.0 in /usr/local/lib/python3.6/dist-packages (from tensorflow==2.2.1) (1.15.0)\n",
            "Requirement already satisfied: absl-py>=0.7.0 in /usr/local/lib/python3.6/dist-packages (from tensorflow==2.2.1) (0.10.0)\n",
            "Requirement already satisfied: keras-preprocessing>=1.1.0 in /usr/local/lib/python3.6/dist-packages (from tensorflow==2.2.1) (1.1.2)\n",
            "Collecting tensorboard<2.3.0,>=2.2.0\n",
            "\u001b[?25l  Downloading https://files.pythonhosted.org/packages/1d/74/0a6fcb206dcc72a6da9a62dd81784bfdbff5fedb099982861dc2219014fb/tensorboard-2.2.2-py3-none-any.whl (3.0MB)\n",
            "\u001b[K     |████████████████████████████████| 3.0MB 46.7MB/s \n",
            "\u001b[?25hRequirement already satisfied: termcolor>=1.1.0 in /usr/local/lib/python3.6/dist-packages (from tensorflow==2.2.1) (1.1.0)\n",
            "Requirement already satisfied: google-pasta>=0.1.8 in /usr/local/lib/python3.6/dist-packages (from tensorflow==2.2.1) (0.2.0)\n",
            "Requirement already satisfied: gast==0.3.3 in /usr/local/lib/python3.6/dist-packages (from tensorflow==2.2.1) (0.3.3)\n",
            "Requirement already satisfied: grpcio>=1.8.6 in /usr/local/lib/python3.6/dist-packages (from tensorflow==2.2.1) (1.32.0)\n",
            "Requirement already satisfied: setuptools in /usr/local/lib/python3.6/dist-packages (from protobuf>=3.8.0->tensorflow==2.2.1) (50.3.0)\n",
            "Requirement already satisfied: werkzeug>=0.11.15 in /usr/local/lib/python3.6/dist-packages (from tensorboard<2.3.0,>=2.2.0->tensorflow==2.2.1) (1.0.1)\n",
            "Requirement already satisfied: google-auth<2,>=1.6.3 in /usr/local/lib/python3.6/dist-packages (from tensorboard<2.3.0,>=2.2.0->tensorflow==2.2.1) (1.17.2)\n",
            "Requirement already satisfied: markdown>=2.6.8 in /usr/local/lib/python3.6/dist-packages (from tensorboard<2.3.0,>=2.2.0->tensorflow==2.2.1) (3.2.2)\n",
            "Requirement already satisfied: tensorboard-plugin-wit>=1.6.0 in /usr/local/lib/python3.6/dist-packages (from tensorboard<2.3.0,>=2.2.0->tensorflow==2.2.1) (1.7.0)\n",
            "Requirement already satisfied: requests<3,>=2.21.0 in /usr/local/lib/python3.6/dist-packages (from tensorboard<2.3.0,>=2.2.0->tensorflow==2.2.1) (2.23.0)\n",
            "Requirement already satisfied: google-auth-oauthlib<0.5,>=0.4.1 in /usr/local/lib/python3.6/dist-packages (from tensorboard<2.3.0,>=2.2.0->tensorflow==2.2.1) (0.4.1)\n",
            "Requirement already satisfied: rsa<5,>=3.1.4; python_version >= \"3\" in /usr/local/lib/python3.6/dist-packages (from google-auth<2,>=1.6.3->tensorboard<2.3.0,>=2.2.0->tensorflow==2.2.1) (4.6)\n",
            "Requirement already satisfied: cachetools<5.0,>=2.0.0 in /usr/local/lib/python3.6/dist-packages (from google-auth<2,>=1.6.3->tensorboard<2.3.0,>=2.2.0->tensorflow==2.2.1) (4.1.1)\n",
            "Requirement already satisfied: pyasn1-modules>=0.2.1 in /usr/local/lib/python3.6/dist-packages (from google-auth<2,>=1.6.3->tensorboard<2.3.0,>=2.2.0->tensorflow==2.2.1) (0.2.8)\n",
            "Requirement already satisfied: importlib-metadata; python_version < \"3.8\" in /usr/local/lib/python3.6/dist-packages (from markdown>=2.6.8->tensorboard<2.3.0,>=2.2.0->tensorflow==2.2.1) (2.0.0)\n",
            "Requirement already satisfied: certifi>=2017.4.17 in /usr/local/lib/python3.6/dist-packages (from requests<3,>=2.21.0->tensorboard<2.3.0,>=2.2.0->tensorflow==2.2.1) (2020.6.20)\n",
            "Requirement already satisfied: urllib3!=1.25.0,!=1.25.1,<1.26,>=1.21.1 in /usr/local/lib/python3.6/dist-packages (from requests<3,>=2.21.0->tensorboard<2.3.0,>=2.2.0->tensorflow==2.2.1) (1.24.3)\n",
            "Requirement already satisfied: chardet<4,>=3.0.2 in /usr/local/lib/python3.6/dist-packages (from requests<3,>=2.21.0->tensorboard<2.3.0,>=2.2.0->tensorflow==2.2.1) (3.0.4)\n",
            "Requirement already satisfied: idna<3,>=2.5 in /usr/local/lib/python3.6/dist-packages (from requests<3,>=2.21.0->tensorboard<2.3.0,>=2.2.0->tensorflow==2.2.1) (2.10)\n",
            "Requirement already satisfied: requests-oauthlib>=0.7.0 in /usr/local/lib/python3.6/dist-packages (from google-auth-oauthlib<0.5,>=0.4.1->tensorboard<2.3.0,>=2.2.0->tensorflow==2.2.1) (1.3.0)\n",
            "Requirement already satisfied: pyasn1>=0.1.3 in /usr/local/lib/python3.6/dist-packages (from rsa<5,>=3.1.4; python_version >= \"3\"->google-auth<2,>=1.6.3->tensorboard<2.3.0,>=2.2.0->tensorflow==2.2.1) (0.4.8)\n",
            "Requirement already satisfied: zipp>=0.5 in /usr/local/lib/python3.6/dist-packages (from importlib-metadata; python_version < \"3.8\"->markdown>=2.6.8->tensorboard<2.3.0,>=2.2.0->tensorflow==2.2.1) (3.2.0)\n",
            "Requirement already satisfied: oauthlib>=3.0.0 in /usr/local/lib/python3.6/dist-packages (from requests-oauthlib>=0.7.0->google-auth-oauthlib<0.5,>=0.4.1->tensorboard<2.3.0,>=2.2.0->tensorflow==2.2.1) (3.1.0)\n",
            "Installing collected packages: tensorflow-estimator, tensorboard, tensorflow\n",
            "  Found existing installation: tensorflow-estimator 2.3.0\n",
            "    Uninstalling tensorflow-estimator-2.3.0:\n",
            "      Successfully uninstalled tensorflow-estimator-2.3.0\n",
            "  Found existing installation: tensorboard 2.3.0\n",
            "    Uninstalling tensorboard-2.3.0:\n",
            "      Successfully uninstalled tensorboard-2.3.0\n",
            "  Found existing installation: tensorflow 2.3.0\n",
            "    Uninstalling tensorflow-2.3.0:\n",
            "      Successfully uninstalled tensorflow-2.3.0\n",
            "Successfully installed tensorboard-2.2.2 tensorflow-2.2.1 tensorflow-estimator-2.2.0\n",
            "Collecting tf-agents==0.5.0\n",
            "\u001b[?25l  Downloading https://files.pythonhosted.org/packages/ef/b0/88c9aab39050cfb544ec73ee48b8d0e67b4b16ed5470c82235255b119952/tf_agents-0.5.0-py3-none-any.whl (933kB)\n",
            "\u001b[K     |████████████████████████████████| 942kB 7.9MB/s \n",
            "\u001b[?25hRequirement already satisfied: six>=1.10.0 in /usr/local/lib/python3.6/dist-packages (from tf-agents==0.5.0) (1.15.0)\n",
            "Requirement already satisfied: numpy>=1.13.3 in /usr/local/lib/python3.6/dist-packages (from tf-agents==0.5.0) (1.18.5)\n",
            "Collecting gin-config==0.1.3\n",
            "\u001b[?25l  Downloading https://files.pythonhosted.org/packages/8c/be/c984b1c8a7ba1c385b32bf39c7a225cd9f713d49705898309d01b60fd0e7/gin_config-0.1.3-py3-none-any.whl (43kB)\n",
            "\u001b[K     |████████████████████████████████| 51kB 6.4MB/s \n",
            "\u001b[?25hRequirement already satisfied: tensorflow-probability>=0.9.0 in /usr/local/lib/python3.6/dist-packages (from tf-agents==0.5.0) (0.11.0)\n",
            "Requirement already satisfied: protobuf>=3.11.3 in /usr/local/lib/python3.6/dist-packages (from tf-agents==0.5.0) (3.12.4)\n",
            "Requirement already satisfied: absl-py>=0.6.1 in /usr/local/lib/python3.6/dist-packages (from tf-agents==0.5.0) (0.10.0)\n",
            "Requirement already satisfied: cloudpickle==1.3 in /usr/local/lib/python3.6/dist-packages (from tensorflow-probability>=0.9.0->tf-agents==0.5.0) (1.3.0)\n",
            "Requirement already satisfied: decorator in /usr/local/lib/python3.6/dist-packages (from tensorflow-probability>=0.9.0->tf-agents==0.5.0) (4.4.2)\n",
            "Requirement already satisfied: gast>=0.3.2 in /usr/local/lib/python3.6/dist-packages (from tensorflow-probability>=0.9.0->tf-agents==0.5.0) (0.3.3)\n",
            "Requirement already satisfied: dm-tree in /usr/local/lib/python3.6/dist-packages (from tensorflow-probability>=0.9.0->tf-agents==0.5.0) (0.1.5)\n",
            "Requirement already satisfied: setuptools in /usr/local/lib/python3.6/dist-packages (from protobuf>=3.11.3->tf-agents==0.5.0) (50.3.0)\n",
            "Installing collected packages: gin-config, tf-agents\n",
            "  Found existing installation: gin-config 0.3.0\n",
            "    Uninstalling gin-config-0.3.0:\n",
            "      Successfully uninstalled gin-config-0.3.0\n",
            "Successfully installed gin-config-0.1.3 tf-agents-0.5.0\n",
            "Collecting tensorflow-probability==0.10\n",
            "\u001b[?25l  Downloading https://files.pythonhosted.org/packages/61/c5/783644c55074f42070acfa1662145f4a0c59ff425495194aa2dc4052f22a/tensorflow_probability-0.10.0-py2.py3-none-any.whl (3.5MB)\n",
            "\u001b[K     |████████████████████████████████| 3.5MB 9.1MB/s \n",
            "\u001b[?25hRequirement already satisfied: numpy>=1.13.3 in /usr/local/lib/python3.6/dist-packages (from tensorflow-probability==0.10) (1.18.5)\n",
            "Requirement already satisfied: gast>=0.3.2 in /usr/local/lib/python3.6/dist-packages (from tensorflow-probability==0.10) (0.3.3)\n",
            "Requirement already satisfied: decorator in /usr/local/lib/python3.6/dist-packages (from tensorflow-probability==0.10) (4.4.2)\n",
            "Requirement already satisfied: cloudpickle>=1.2.2 in /usr/local/lib/python3.6/dist-packages (from tensorflow-probability==0.10) (1.3.0)\n",
            "Requirement already satisfied: six>=1.10.0 in /usr/local/lib/python3.6/dist-packages (from tensorflow-probability==0.10) (1.15.0)\n",
            "Installing collected packages: tensorflow-probability\n",
            "  Found existing installation: tensorflow-probability 0.11.0\n",
            "    Uninstalling tensorflow-probability-0.11.0:\n",
            "      Successfully uninstalled tensorflow-probability-0.11.0\n",
            "Successfully installed tensorflow-probability-0.10.0\n"
          ],
          "name": "stdout"
        }
      ]
    },
    {
      "cell_type": "code",
      "metadata": {
        "id": "nGhMeaXwica2"
      },
      "source": [
        "import tensorflow as tf\n",
        "import concurrent.futures\n",
        "import itertools\n",
        "import os\n",
        "import pickle\n",
        "import random\n",
        "import sys\n",
        "import time\n",
        "\n",
        "import matplotlib.pyplot as plt\n",
        "import numpy as np\n",
        "import PIL\n",
        "from PIL import Image\n",
        "import scipy\n",
        "from scipy import ndimage\n",
        "from sklearn import metrics\n",
        "from sklearn.utils import shuffle\n",
        "import io\n",
        "import collections\n",
        "\n",
        "import urllib.request\n",
        "from urllib.error import HTTPError\n",
        "\n",
        "from tf_agents.trajectories.time_step import TimeStep\n",
        "from tf_agents.specs.tensor_spec import TensorSpec\n",
        "from tf_agents.specs.tensor_spec import TensorSpec\n",
        "from tf_agents.specs.tensor_spec import BoundedTensorSpec\n",
        "from tf_agents.networks import q_network\n",
        "\n",
        "sys.path.append('Preference_Extraction')\n",
        "from imports_data import all_load_data\n",
        "import joblib"
      ],
      "execution_count": 3,
      "outputs": []
    },
    {
      "cell_type": "markdown",
      "metadata": {
        "id": "nHm3f_W6BX0X"
      },
      "source": [
        "## Load Data"
      ]
    },
    {
      "cell_type": "code",
      "metadata": {
        "id": "NiZJwTGfcTSd"
      },
      "source": [
        "use_agent = True\n",
        "env = 'doom' # valid options 'doom', 'grid'"
      ],
      "execution_count": 4,
      "outputs": []
    },
    {
      "cell_type": "code",
      "metadata": {
        "id": "obSHtFX-cTio",
        "outputId": "2505377e-155b-49b3-bf71-39e03d4010b4",
        "colab": {
          "base_uri": "https://localhost:8080/"
        }
      },
      "source": [
        "# Load doom data from GCP storage, run only if env == 'doom'\n",
        "# Requires GCP authentication\n",
        "# Change last line to load different experience data\n",
        "from google.colab import auth\n",
        "auth.authenticate_user()\n",
        "!gsutil cp gs://pref-extr-data/agentv29/experienceData.pkl experienceData.pkl"
      ],
      "execution_count": 5,
      "outputs": [
        {
          "output_type": "stream",
          "text": [
            "Copying gs://pref-extr-data/agentv29/experienceData.pkl...\n",
            "- [1 files][  1.3 GiB/  1.3 GiB]   64.0 MiB/s                                   \n",
            "Operation completed over 1 objects/1.3 GiB.                                      \n"
          ],
          "name": "stdout"
        }
      ]
    },
    {
      "cell_type": "code",
      "metadata": {
        "id": "pp0xu_3RHDJK"
      },
      "source": [
        "if env == 'doom':\n",
        "    all_raw_data = joblib.load('/content/experienceData.pkl')\n",
        "else:\n",
        "    all_raw_data = all_load_data(\"/content/Preference_Extraction/data/simple_env_1/\")"
      ],
      "execution_count": 6,
      "outputs": []
    },
    {
      "cell_type": "code",
      "metadata": {
        "cellView": "code",
        "id": "HLw7aBy67gnH",
        "outputId": "3a669acf-1662-4bbf-81f0-1908a3b1b070",
        "colab": {
          "base_uri": "https://localhost:8080/"
        }
      },
      "source": [
        "# @title Preprocess the data into x,y training pairs\n",
        "# @markdown The use_agent control which model is trained.\n",
        "# @markdown All of the cells below use the data specified here.\n",
        "\n",
        "xs, ys = [], []\n",
        "\n",
        "for data in all_raw_data:\n",
        "    for i in range(data.observation.shape[0]):\n",
        "        x = np.copy(data.observation[i])\n",
        "        \n",
        "        if env == 'doom':\n",
        "            # Doom label object is a dictionary with object_angle and distance_from_wall\n",
        "            label_object = data.policy_info['satisfaction'][i]\n",
        "            if len(label_object) == 0: # When label is empty, i.e. human is dead, skip frame\n",
        "                continue\n",
        "            else:\n",
        "                y = label_object['object_angle'] < 90 or label_object['object_angle'] > 270\n",
        "        else:\n",
        "            y = data.policy_info['satisfaction'].as_list()[i] > -6\n",
        "\n",
        "        xs.append(x)\n",
        "        ys.append(y)\n",
        "\n",
        "xs = np.array(xs)\n",
        "ys = np.array(ys).astype(int)\n",
        "xs, ys = shuffle(xs, ys)\n",
        "print(\"xs\", xs.shape, \"ys\", ys.shape)\n",
        "print(\"ys 1\", np.sum(ys))"
      ],
      "execution_count": 7,
      "outputs": [
        {
          "output_type": "stream",
          "text": [
            "xs (7830, 60, 100, 6) ys (7830,)\n",
            "ys 1 1828\n"
          ],
          "name": "stdout"
        }
      ]
    },
    {
      "cell_type": "code",
      "metadata": {
        "id": "wMB6Z24hHDJa",
        "outputId": "21588799-a723-4445-824d-36d239e7fa42",
        "colab": {
          "base_uri": "https://localhost:8080/"
        }
      },
      "source": [
        "# Rebalancing data to minority class\n",
        "points = xs\n",
        "labels = ys\n",
        "\n",
        "# indexes of 1s and 0s\n",
        "indexes1 = [i for i in range(len(points)) if labels[i] == 1]\n",
        "indexes0 = [i for i in range(len(points)) if labels[i] == 0]\n",
        "\n",
        "# separate 0s and 1s\n",
        "x0, x1, y0, y1 = points[indexes0], points[indexes1], labels[indexes0], labels[indexes1]\n",
        "\n",
        "minority_points, minority_labels = x1, y1  # points and labels for the minority class\n",
        "majority_points, majority_labels = x0, y0  # points and labels for the majority class\n",
        "\n",
        "# get a random permutation of indexes of the majority that includes a number of indexes equal to the minority\n",
        "sample_ind = np.random.permutation(len(majority_labels))[:len(minority_labels)]\n",
        "\n",
        "# subsample the majority\n",
        "majority_points, majority_labels = majority_points[sample_ind], majority_labels[sample_ind]\n",
        "\n",
        "# concat the minority and the sub-sampled majority\n",
        "xs = np.concatenate((majority_points, minority_points))\n",
        "ys = np.concatenate((majority_labels, minority_labels))\n",
        "\n",
        "print(\"xs\", xs.shape, \"ys\", ys.shape)\n",
        "print(\"ys 1\", np.sum(ys))"
      ],
      "execution_count": 8,
      "outputs": [
        {
          "output_type": "stream",
          "text": [
            "xs (3656, 60, 100, 6) ys (3656,)\n",
            "ys 1 1828\n"
          ],
          "name": "stdout"
        }
      ]
    },
    {
      "cell_type": "code",
      "metadata": {
        "cellView": "code",
        "id": "jpNLoX8t8vC7",
        "outputId": "ba1edf34-085a-4559-adbc-15eb9ea3e1a2",
        "colab": {
          "base_uri": "https://localhost:8080/",
          "height": 1000
        }
      },
      "source": [
        "# @title Visualize and example\n",
        "rand_index = random.randint(0,1000)\n",
        "plt.imshow(xs[rand_index,:,:,:3])\n",
        "plt.show()\n",
        "print(\"x\", xs[rand_index])\n",
        "print(\"y\", ys[rand_index])"
      ],
      "execution_count": 9,
      "outputs": [
        {
          "output_type": "display_data",
          "data": {
            "image/png": "[encoded data removed]",
            "text/plain": [
              "<Figure size 432x288 with 1 Axes>"
            ]
          },
          "metadata": {
            "tags": [],
            "needs_background": "light"
          }
        },
        {
          "output_type": "stream",
          "text": [
            "x [[[0.43529412 0.34117648 0.2627451  0.93333334 0.93333334 0.90166664]\n",
            "  [0.43529412 0.34117648 0.2627451  0.93333334 0.93333334 0.90166664]\n",
            "  [0.4745098  0.38039216 0.3019608  0.93333334 0.93333334 0.90166664]\n",
            "  ...\n",
            "  [0.4392157  0.34509805 0.26666668 0.93333334 0.93333334 0.90166664]\n",
            "  [0.33333334 0.24705882 0.18039216 0.93333334 0.93333334 0.90166664]\n",
            "  [0.44313726 0.34901962 0.27058825 0.93333334 0.93333334 0.90166664]]\n",
            "\n",
            " [[0.48235294 0.3882353  0.30980393 0.93333334 0.93333334 0.90166664]\n",
            "  [0.47843137 0.38431373 0.30588236 0.93333334 0.93333334 0.90166664]\n",
            "  [0.49019608 0.39607844 0.31764707 0.93333334 0.93333334 0.90166664]\n",
            "  ...\n",
            "  [0.4117647  0.32941177 0.2509804  0.93333334 0.93333334 0.90166664]\n",
            "  [0.32941177 0.24705882 0.18039216 0.93333334 0.93333334 0.90166664]\n",
            "  [0.3647059  0.28235295 0.21176471 0.93333334 0.93333334 0.90166664]]\n",
            "\n",
            " [[0.46666667 0.37254903 0.29411766 0.93333334 0.93333334 0.90166664]\n",
            "  [0.5137255  0.41960785 0.34117648 0.93333334 0.93333334 0.90166664]\n",
            "  [0.5137255  0.41960785 0.34117648 0.93333334 0.93333334 0.90166664]\n",
            "  ...\n",
            "  [0.34509805 0.2627451  0.19607843 0.93333334 0.93333334 0.90166664]\n",
            "  [0.25882354 0.18039216 0.11764706 0.93333334 0.93333334 0.90166664]\n",
            "  [0.4117647  0.3254902  0.25490198 0.93333334 0.93333334 0.90166664]]\n",
            "\n",
            " ...\n",
            "\n",
            " [[0.3254902  0.24705882 0.1764706  0.93333334 0.93333334 0.90166664]\n",
            "  [0.34117648 0.2627451  0.18431373 0.93333334 0.93333334 0.90166664]\n",
            "  [0.56078434 0.46666667 0.37254903 0.93333334 0.93333334 0.90166664]\n",
            "  ...\n",
            "  [0.32941177 0.32941177 0.32941177 0.93333334 0.93333334 0.90166664]\n",
            "  [0.30980393 0.30980393 0.30980393 0.93333334 0.93333334 0.90166664]\n",
            "  [0.30980393 0.30980393 0.30980393 0.93333334 0.93333334 0.90166664]]\n",
            "\n",
            " [[0.3882353  0.3019608  0.21960784 0.93333334 0.93333334 0.90166664]\n",
            "  [0.54509807 0.4509804  0.36078432 0.93333334 0.93333334 0.90166664]\n",
            "  [0.4509804  0.35686275 0.2784314  0.93333334 0.93333334 0.90166664]\n",
            "  ...\n",
            "  [0.30588236 0.30588236 0.30588236 0.93333334 0.93333334 0.90166664]\n",
            "  [0.30588236 0.30588236 0.30588236 0.93333334 0.93333334 0.90166664]\n",
            "  [0.30980393 0.30980393 0.30980393 0.93333334 0.93333334 0.90166664]]\n",
            "\n",
            " [[0.3254902  0.3254902  0.3254902  0.93333334 0.93333334 0.90166664]\n",
            "  [0.27450982 0.27450982 0.27450982 0.93333334 0.93333334 0.90166664]\n",
            "  [0.2784314  0.2784314  0.2784314  0.93333334 0.93333334 0.90166664]\n",
            "  ...\n",
            "  [0.32941177 0.32941177 0.32941177 0.93333334 0.93333334 0.90166664]\n",
            "  [0.37254903 0.37254903 0.37254903 0.93333334 0.93333334 0.90166664]\n",
            "  [0.34901962 0.34901962 0.34901962 0.93333334 0.93333334 0.90166664]]]\n",
            "y 0\n"
          ],
          "name": "stdout"
        }
      ]
    },
    {
      "cell_type": "markdown",
      "metadata": {
        "id": "EPKA64IvojNR"
      },
      "source": [
        "## Training Functions"
      ]
    },
    {
      "cell_type": "code",
      "metadata": {
        "cellView": "both",
        "id": "aSIP8sjjGdiC",
        "outputId": "2e1d34b6-2b36-45ca-9ed0-b6b678985949",
        "colab": {
          "base_uri": "https://localhost:8080/"
        }
      },
      "source": [
        "# @title ChannelReducer from lucid\n",
        "# Copied from https://github.com/tensorflow/lucid/blob/master/lucid/misc/channel_reducer.py\n",
        "\n",
        "# Copyright 2018 The Lucid Authors. All Rights Reserved.\n",
        "#\n",
        "# Licensed under the Apache License, Version 2.0 (the \"License\");\n",
        "# you may not use this file except in compliance with the License.\n",
        "# You may obtain a copy of the License at\n",
        "#\n",
        "#     http://www.apache.org/licenses/LICENSE-2.0\n",
        "#\n",
        "# Unless required by applicable law or agreed to in writing, software\n",
        "# distributed under the License is distributed on an \"AS IS\" BASIS,\n",
        "# WITHOUT WARRANTIES OR CONDITIONS OF ANY KIND, either express or implied.\n",
        "# See the License for the specific language governing permissions and\n",
        "# limitations under the License.\n",
        "# ==============================================================================\n",
        "\n",
        "\"\"\"Helper for using sklearn.decomposition on high-dimensional tensors.\n",
        "\n",
        "Provides ChannelReducer, a wrapper around sklearn.decomposition to help them\n",
        "apply to arbitrary rank tensors. It saves lots of annoying reshaping.\n",
        "\"\"\"\n",
        "\n",
        "import numpy as np\n",
        "import sklearn.decomposition\n",
        "\n",
        "try:\n",
        "    from sklearn.decomposition.base import BaseEstimator\n",
        "except AttributeError:\n",
        "    from sklearn.base import BaseEstimator\n",
        "\n",
        "\n",
        "class ChannelReducer(object):\n",
        "  \"\"\"Helper for dimensionality reduction to the innermost dimension of a tensor.\n",
        "\n",
        "  This class wraps sklearn.decomposition classes to help them apply to arbitrary\n",
        "  rank tensors. It saves lots of annoying reshaping.\n",
        "\n",
        "  See the original sklearn.decomposition documentation:\n",
        "  http://scikit-learn.org/stable/modules/classes.html#module-sklearn.decomposition\n",
        "  \"\"\"\n",
        "\n",
        "  def __init__(self, n_components=3, reduction_alg=\"NMF\", **kwargs):\n",
        "    \"\"\"Constructor for ChannelReducer.\n",
        "\n",
        "    Inputs:\n",
        "      n_components: Numer of dimensions to reduce inner most dimension to.\n",
        "      reduction_alg: A string or sklearn.decomposition class. Defaults to\n",
        "        \"NMF\" (non-negative matrix facotrization). Other options include:\n",
        "        \"PCA\", \"FastICA\", and \"MiniBatchDictionaryLearning\". The name of any of\n",
        "        the sklearn.decomposition classes will work, though.\n",
        "      kwargs: Additional kwargs to be passed on to the reducer.\n",
        "    \"\"\"\n",
        "\n",
        "    if not isinstance(n_components, int):\n",
        "      raise ValueError(\"n_components must be an int, not '%s'.\" % n_components)\n",
        "\n",
        "    # Defensively look up reduction_alg if it is a string and give useful errors.\n",
        "    algorithm_map = {}\n",
        "    for name in dir(sklearn.decomposition):\n",
        "      obj = sklearn.decomposition.__getattribute__(name)\n",
        "      if isinstance(obj, type) and issubclass(obj, BaseEstimator):\n",
        "        algorithm_map[name] = obj\n",
        "    if isinstance(reduction_alg, str):\n",
        "      if reduction_alg in algorithm_map:\n",
        "        reduction_alg = algorithm_map[reduction_alg]\n",
        "      else:\n",
        "        raise ValueError(\"Unknown dimensionality reduction method '%s'.\" % reduction_alg)\n",
        "\n",
        "\n",
        "    self.n_components = n_components\n",
        "    self._reducer = reduction_alg(n_components=n_components, **kwargs)\n",
        "    self._is_fit = False\n",
        "\n",
        "  @classmethod\n",
        "  def _apply_flat(cls, f, acts):\n",
        "    \"\"\"Utility for applying f to inner dimension of acts.\n",
        "\n",
        "    Flattens acts into a 2D tensor, applies f, then unflattens so that all\n",
        "    dimesnions except innermost are unchanged.\n",
        "    \"\"\"\n",
        "    orig_shape = acts.shape\n",
        "    acts_flat = acts.reshape([-1, acts.shape[-1]])\n",
        "    new_flat = f(acts_flat)\n",
        "    if not isinstance(new_flat, np.ndarray):\n",
        "      return new_flat\n",
        "    shape = list(orig_shape[:-1]) + [-1]\n",
        "    return new_flat.reshape(shape)\n",
        "\n",
        "  def fit(self, acts):\n",
        "    self._is_fit = True\n",
        "    return ChannelReducer._apply_flat(self._reducer.fit, acts)\n",
        "\n",
        "  def fit_transform(self, acts):\n",
        "    self._is_fit = True\n",
        "    return ChannelReducer._apply_flat(self._reducer.fit_transform, acts)\n",
        "\n",
        "  def transform(self, acts):\n",
        "    return ChannelReducer._apply_flat(self._reducer.transform, acts)\n",
        "\n",
        "  def __call__(self, acts):\n",
        "    if self._is_fit:\n",
        "      return self.transform(acts)\n",
        "    else:\n",
        "      return self.fit_transform(acts)\n",
        "\n",
        "  def __getattr__(self, name):\n",
        "    if name in self.__dict__:\n",
        "      return self.__dict__[name]\n",
        "    elif name + \"_\" in self._reducer.__dict__:\n",
        "      return self._reducer.__dict__[name+\"_\"]\n",
        "\n",
        "  def __dir__(self):\n",
        "    dynamic_attrs = [name[:-1]\n",
        "                     for name in dir(self._reducer)\n",
        "                     if name[-1] == \"_\" and name[0] != \"_\"\n",
        "                    ]\n",
        "\n",
        "    return list(ChannelReducer.__dict__.keys()) + list(self.__dict__.keys()) + dynamic_attrs"
      ],
      "execution_count": 10,
      "outputs": [
        {
          "output_type": "stream",
          "text": [
            "/usr/local/lib/python3.6/dist-packages/sklearn/utils/deprecation.py:144: FutureWarning: The sklearn.decomposition.base module is  deprecated in version 0.22 and will be removed in version 0.24. The corresponding classes / functions should instead be imported from sklearn.decomposition. Anything that cannot be imported from sklearn.decomposition is now part of the private API.\n",
            "  warnings.warn(message, FutureWarning)\n"
          ],
          "name": "stderr"
        }
      ]
    },
    {
      "cell_type": "code",
      "metadata": {
        "id": "Xo_yWm1n9Fp1"
      },
      "source": [
        "def get_val_auc(logs):\n",
        "      for key in logs:\n",
        "        if key.startswith('val_auc'):\n",
        "          return logs[key]\n",
        "\n",
        "class BestStats(tf.keras.callbacks.Callback):\n",
        "  \"\"\"A callback to keep track of the best val accuracy and auc seen so far.\"\"\"\n",
        "  def on_train_begin(self, logs):\n",
        "      self.bestMetric = -float('inf')\n",
        "      self.bestLogs = None\n",
        "      self.bestTrain = -float('inf')\n",
        "      self.num_epochs = 0\n",
        "\n",
        "  def on_epoch_end(self, epoch, logs):\n",
        "    self.num_epochs += 1\n",
        "    self.bestTrain = max(self.bestTrain, logs.get('accuracy'))\n",
        "\n",
        "    val_accuracy = logs.get('val_accuracy')\n",
        "    if val_accuracy == None:\n",
        "      return \n",
        "\n",
        "    val_auc = get_val_auc(logs)\n",
        "    \n",
        "    metric = (val_accuracy + val_auc) / 2.0\n",
        "\n",
        "    if metric > self.bestMetric:\n",
        "      self.bestMetric = metric\n",
        "      self.bestLogs = logs"
      ],
      "execution_count": 11,
      "outputs": []
    },
    {
      "cell_type": "markdown",
      "metadata": {
        "id": "4tFrFen8l7Q4"
      },
      "source": [
        "### CNN from observations"
      ]
    },
    {
      "cell_type": "code",
      "metadata": {
        "cellView": "code",
        "id": "bfVZf7rX9MZe"
      },
      "source": [
        "# @title Image model.\n",
        "# @markdown Run this cell iff use_agent=False\n",
        "# @markdown If you're trying to improve the accuracy of the model trained on activations, you won't care about this cell.\n",
        "\n",
        "def get_model(reg_amount, drop_rate, reduction_alg, n_components):\n",
        "  del reduction_alg, n_components\n",
        "\n",
        "  model = tf.keras.models.Sequential([\n",
        "    # This layer gets one of the color channels. It works better than using all of them.\n",
        "    tf.keras.layers.Lambda(lambda x: tf.expand_dims(x[:,:,:,tf.random.uniform((), 0,4, tf.int32)], 3), input_shape=xs.shape[1:]),\n",
        "    tf.keras.layers.Conv2D(64, 2, activation='relu', kernel_regularizer=tf.keras.regularizers.l2(reg_amount)),\n",
        "    tf.keras.layers.Conv2D(32, 1, activation='relu', strides=1, kernel_regularizer=tf.keras.regularizers.l2(reg_amount)),\n",
        "    tf.keras.layers.GlobalAveragePooling2D(),\n",
        "    tf.keras.layers.Flatten(),\n",
        "    tf.keras.layers.Dropout(drop_rate),\n",
        "    tf.keras.layers.Dense(1, activation='sigmoid', kernel_regularizer=tf.keras.regularizers.l2(reg_amount)),\n",
        "  ])\n",
        "\n",
        "  model.compile(optimizer=tf.keras.optimizers.Adam(.01),\n",
        "                loss='binary_crossentropy',\n",
        "                metrics=['accuracy',\n",
        "                        tf.keras.metrics.AUC()\n",
        "                        ],\n",
        "                )\n",
        "  return model"
      ],
      "execution_count": 12,
      "outputs": []
    },
    {
      "cell_type": "code",
      "metadata": {
        "id": "XQ9rHssEmQPf"
      },
      "source": [
        "# Hyperparameters for CNN from observations\n",
        "all_hparam_possibilities = [{\"reg_amount\": [0], \"drop_rate\": [0], 'reduction_alg': [None], 'n_components': [None]}]"
      ],
      "execution_count": 13,
      "outputs": []
    },
    {
      "cell_type": "markdown",
      "metadata": {
        "id": "fjrGt3aEB-BJ"
      },
      "source": [
        "### QNet Agent"
      ]
    },
    {
      "cell_type": "code",
      "metadata": {
        "id": "yqcO8ZrWB5_V"
      },
      "source": [
        "cpt_name = \"/content/Preference_Extraction/model_ckpt\"\n",
        "\n",
        "input_shape = [14, 16, 5]\n",
        "q_net = q_network.QNetwork(input_tensor_spec=TensorSpec(shape=input_shape), action_spec=BoundedTensorSpec((), tf.int32, 0, 2), conv_layer_params = [[16, 3, 1], [32, 3, 2]], fc_layer_params = [64])\n",
        "q_net.layers[0].layers[1]._name = \"EncodingNetwork/conv2d_1\"\n",
        "\n",
        "latest_cpt =  tf.train.latest_checkpoint(cpt_name)\n",
        "reader = tf.compat.v1.train.NewCheckpointReader(latest_cpt)\n",
        "model_input = tf.keras.Input(shape=input_shape)\n",
        "q_model_nested = tf.keras.models.Model(inputs=model_input, outputs=[q_net(model_input)])\n",
        "q_model_nested.build(input_shape=input_shape)"
      ],
      "execution_count": 14,
      "outputs": []
    },
    {
      "cell_type": "code",
      "metadata": {
        "id": "wfrEjW3LCCm6",
        "outputId": "ed8c4ac9-2a7b-40da-9fdf-73b0f9fba600",
        "colab": {
          "base_uri": "https://localhost:8080/"
        }
      },
      "source": [
        "def flatten_model(model_nested):\n",
        "    def get_layers(layers):\n",
        "        layers_flat = []\n",
        "        for layer in layers:\n",
        "            try:\n",
        "                layers_flat.extend(get_layers(layer.layers))\n",
        "            except AttributeError:\n",
        "                layers_flat.append(layer)\n",
        "        return layers_flat\n",
        "\n",
        "    model_flat = tf.keras.models.Sequential(\n",
        "        get_layers(model_nested.layers)\n",
        "    )\n",
        "    return model_flat\n",
        "\n",
        "def load_weigths(model, last_layer, random=False):\n",
        "\n",
        "    layer_map = {\n",
        "        model.layers[0]: \"agent/_q_network/_encoder/_postprocessing_layers/0\",\n",
        "        model.layers[1]: \"agent/_q_network/_encoder/_postprocessing_layers/1\",\n",
        "    }\n",
        "    if last_layer > 3:\n",
        "        layer_map[model.layers[3]] = \"agent/_q_network/_encoder/_postprocessing_layers/3\"\n",
        "    if last_layer > 4:\n",
        "        layer_map[model.layers[4]] = \"agent/_q_network/_q_value_layer\"\n",
        "\n",
        "    last_name_part = \"/.ATTRIBUTES/VARIABLE_VALUE\"\n",
        "    for keras_layer, weights_bias_name in layer_map.items():\n",
        "        weights = reader.get_tensor(weights_bias_name+\"/kernel\"+last_name_part)\n",
        "        biases = reader.get_tensor(weights_bias_name+\"/bias\"+last_name_part)\n",
        "        if random:\n",
        "            initializer = tf.keras.initializers.VarianceScaling(\n",
        "                scale=1.0, mode=\"fan_in\", distribution=\"truncated_normal\", seed=None)\n",
        "            weights = initializer(shape=weights.shape)\n",
        "            biases = initializer(shape=biases.shape)\n",
        "        keras_layer.set_weights([weights, biases])\n",
        "    \n",
        "    return model\n",
        "\n",
        "q_model = flatten_model(q_model_nested)\n",
        "q_model = load_weigths(q_model, last_layer=5, random=False)\n",
        "q_model.summary()"
      ],
      "execution_count": 10,
      "outputs": [
        {
          "output_type": "stream",
          "text": [
            "Model: \"sequential\"\n",
            "_________________________________________________________________\n",
            "Layer (type)                 Output Shape              Param #   \n",
            "=================================================================\n",
            "conv2d (Conv2D)              (None, 12, 14, 16)        736       \n",
            "_________________________________________________________________\n",
            "EncodingNetwork/conv2d_1 (Co (None, 5, 6, 32)          4640      \n",
            "_________________________________________________________________\n",
            "flatten (Flatten)            (None, 960)               0         \n",
            "_________________________________________________________________\n",
            "dense (Dense)                (None, 64)                61504     \n",
            "_________________________________________________________________\n",
            "dense_1 (Dense)              (None, 3)                 195       \n",
            "=================================================================\n",
            "Total params: 67,075\n",
            "Trainable params: 67,075\n",
            "Non-trainable params: 0\n",
            "_________________________________________________________________\n"
          ],
          "name": "stdout"
        }
      ]
    },
    {
      "cell_type": "code",
      "metadata": {
        "id": "GjbFIA5KCKRx"
      },
      "source": [
        "# Verify agent it performs inference correctly\n",
        "def verify_model(model, output_index):\n",
        "  activation_model = tf.keras.models.Model(inputs=model.input, outputs=model.layers[output_index].output)\n",
        "  for i in range(len(all_raw_data[0].observation)):\n",
        "    single_observation = np.array([all_raw_data[0].observation[i]])\n",
        "\n",
        "    restored_activations = activation_model(single_observation)[0]\n",
        "    old_activations = all_raw_data[0].policy_info[\"activations\"][i]\n",
        "    np.testing.assert_allclose(restored_activations, old_activations, rtol=.1)\n",
        "\n",
        "verify_model(q_model, output_index=-2)"
      ],
      "execution_count": 11,
      "outputs": []
    },
    {
      "cell_type": "markdown",
      "metadata": {
        "id": "Bpr6wvvzHDKY"
      },
      "source": [
        "### PPO Agent"
      ]
    },
    {
      "cell_type": "code",
      "metadata": {
        "id": "sUWcveJrcqqZ",
        "outputId": "33de068b-b8d7-4b5e-eb9b-47d0657c91af",
        "colab": {
          "base_uri": "https://localhost:8080/"
        }
      },
      "source": [
        "!gsutil cp gs://pref-extr-data/agentv29/actorNet.keras actorNet.keras"
      ],
      "execution_count": 15,
      "outputs": [
        {
          "output_type": "stream",
          "text": [
            "Copying gs://pref-extr-data/agentv29/actorNet.keras...\n",
            "- [1 files][ 27.6 MiB/ 27.6 MiB]                                                \n",
            "Operation completed over 1 objects/27.6 MiB.                                     \n"
          ],
          "name": "stdout"
        }
      ]
    },
    {
      "cell_type": "code",
      "metadata": {
        "id": "jkNhdl5iHDKZ",
        "outputId": "2a499038-b4f2-4a03-ba9b-4b39742440dc",
        "colab": {
          "base_uri": "https://localhost:8080/"
        }
      },
      "source": [
        "PPO_AGENT_PATH = 'actorNet.keras'\n",
        "ppo_model = tf.keras.models.load_model(PPO_AGENT_PATH)\n",
        "ppo_model.summary()"
      ],
      "execution_count": 16,
      "outputs": [
        {
          "output_type": "stream",
          "text": [
            "WARNING:tensorflow:No training configuration found in the save file, so the model was *not* compiled. Compile it manually.\n",
            "Model: \"sequential\"\n",
            "_________________________________________________________________\n",
            "Layer (type)                 Output Shape              Param #   \n",
            "=================================================================\n",
            "flatten (Flatten)            multiple                  0         \n",
            "_________________________________________________________________\n",
            "dense (Dense)                multiple                  7200200   \n",
            "_________________________________________________________________\n",
            "dense_1 (Dense)              multiple                  20100     \n",
            "_________________________________________________________________\n",
            "logits (Dense)               multiple                  404       \n",
            "=================================================================\n",
            "Total params: 7,220,704\n",
            "Trainable params: 7,220,704\n",
            "Non-trainable params: 0\n",
            "_________________________________________________________________\n"
          ],
          "name": "stdout"
        }
      ]
    },
    {
      "cell_type": "code",
      "metadata": {
        "id": "y1H7zQzpeFRz"
      },
      "source": [
        "def load_random_weigths(model):    \n",
        "    for keras_layer in model.layers:\n",
        "        initializer = tf.keras.initializers.VarianceScaling(\n",
        "            scale=1.0, mode=\"fan_in\", distribution=\"truncated_normal\", seed=None)\n",
        "        if len(keras_layer.weights) > 0:\n",
        "            weights = initializer(shape=keras_layer.weights[0].shape)\n",
        "            biases = initializer(shape=keras_layer.weights[1].shape)\n",
        "            keras_layer.set_weights([weights, biases])"
      ],
      "execution_count": 45,
      "outputs": []
    },
    {
      "cell_type": "code",
      "metadata": {
        "id": "8L-LZ7RStDaw"
      },
      "source": [
        ""
      ],
      "execution_count": null,
      "outputs": []
    },
    {
      "cell_type": "markdown",
      "metadata": {
        "id": "PP_kL8W3CcPK"
      },
      "source": [
        "### Method to get activations DNN"
      ]
    },
    {
      "cell_type": "code",
      "metadata": {
        "cellView": "code",
        "id": "v30FiGi2Cf94"
      },
      "source": [
        "# @title Model for training on top of the agent\n",
        "# @markdown Run this cell iff use_agent=True\n",
        "\n",
        "def get_model(agent_model, agent_type, reg_amount, drop_rate, layer_sizes, net_last_cut, \n",
        "              net_freeze, slowly_unfreezing, reduction_alg, n_components):\n",
        "  del slowly_unfreezing, reduction_alg, n_components\n",
        "\n",
        "  if agent_type == 'ppo':\n",
        "        # Re-load on every train to ensure weigths degeneration\n",
        "        agent_model = tf.keras.models.load_model(PPO_AGENT_PATH)\n",
        "\n",
        "  layers = []\n",
        "  for ix, layer_size in enumerate(layer_sizes):\n",
        "    layers.append(tf.keras.layers.Dense(layer_size, activation='relu', \n",
        "                                        kernel_regularizer=tf.keras.regularizers.l2(reg_amount), name='post_agent_{}'.format(ix)))\n",
        "    layers.append(tf.keras.layers.Dropout(drop_rate))\n",
        "\n",
        "  for ix, _ in enumerate(agent_model.layers[:net_last_cut]):\n",
        "      if ix in net_freeze:\n",
        "          agent_model.layers[ix].trainable = False\n",
        "      else:\n",
        "          agent_model.layers[ix].trainable = True\n",
        "\n",
        "  if agent_type == 'qnet':\n",
        "    agent_layers = [agent_model.input] + agent_model.layers[:net_last_cut] \n",
        "  elif agent_type == 'ppo':\n",
        "    agent_layers = agent_model.layers[:net_last_cut]\n",
        "\n",
        "  model = tf.keras.models.Sequential(agent_layers + layers + [\n",
        "    tf.keras.layers.Dense(1, activation='sigmoid', kernel_regularizer=tf.keras.regularizers.l2(reg_amount), name='output')\n",
        "  ])\n",
        "\n",
        "  model.compile(optimizer=tf.keras.optimizers.Adam(.01),\n",
        "                loss='binary_crossentropy',\n",
        "                metrics=['accuracy', tf.keras.metrics.AUC()])\n",
        "\n",
        "  random_basline = True  # Set to True for a randomly weigthed baseline\n",
        "  if agent_type == 'qnet':\n",
        "    return load_weigths(model, last_layer=net_last_cut, random=random_basline)\n",
        "  else:\n",
        "    if random_basline:\n",
        "      load_random_weigths(model)  \n",
        "    return model\n",
        "\n",
        "class SlowlyUnfreezing(tf.keras.callbacks.Callback):\n",
        "  \"\"\"A callback to slowly unfreeze previously frozen activation layers\"\"\"\n",
        "  def on_train_begin(self, logs):\n",
        "      self.num_epochs = 0\n",
        "\n",
        "  def on_epoch_end(self, epoch, logs):\n",
        "    self.num_epochs += 1\n",
        "    if self.num_epochs >= 50:\n",
        "        self.model.layers[3].trainable = True\n",
        "    if self.num_epochs >= 100:\n",
        "        self.model.layers[2].trainable = True\n",
        "    if self.num_epochs >= 150:\n",
        "        self.model.layers[1].trainable = True\n",
        "    if self.num_epochs >= 200:\n",
        "        self.model.layers[0].trainable = True"
      ],
      "execution_count": 86,
      "outputs": []
    },
    {
      "cell_type": "code",
      "metadata": {
        "id": "dw6YTEfclZYF"
      },
      "source": [
        "# @title Run this cell for hparams with unsupervised feature extraction.\n",
        "# @markdown Run this cell iff use_agent=True and you want unspervised feature exraction.\n",
        "# TODO: fix using unsupervised feature extract now that we are training from the agent itself\n",
        "\n",
        "all_hparam_possibilities = [\n",
        "   {\n",
        "    \"drop_rate\": [0],  \n",
        "    \"reg_amount\": [.2],  \n",
        "    \"layer_sizes\": [()],\n",
        "    \"net_last_cut\": [4],\n",
        "    \"net_freeze\": [(None,)],\n",
        "    \"reduction_alg\": ['PCA'], \n",
        "    \"n_components\": [2]\n",
        "   },\n",
        "{\n",
        "    \"drop_rate\": [0],  \n",
        "    \"reg_amount\": [.2],  \n",
        "    \"layer_sizes\": [(16, 16)],\n",
        "    \"net_last_cut\": [4],\n",
        "    \"net_freeze\": [(None,)],\n",
        "    \"reduction_alg\": ['FastICA'], \n",
        "    \"n_components\": [2]\n",
        "   }\n",
        "]"
      ],
      "execution_count": 16,
      "outputs": []
    },
    {
      "cell_type": "code",
      "metadata": {
        "cellView": "code",
        "id": "bgCRDam2DZWB"
      },
      "source": [
        "# @title Run this cell for hparams without unsupervised feature extraction.\n",
        "# @markdown Run this cell iff use_agent=True and you don't want unspervised feature exraction.\n",
        "all_hparam_possibilities = [\n",
        "   {\n",
        "    \"drop_rate\": [0],  \n",
        "    \"reg_amount\": [0],  \n",
        "    \"layer_sizes\": [(128, 64)],\n",
        "    \"net_last_cut\": [3],\n",
        "    \"net_freeze\": [()],\n",
        "    \"slowly_unfreezing\": [False],\n",
        "    \"reduction_alg\": [None], \n",
        "    \"n_components\": [None]\n",
        "   }\n",
        "]"
      ],
      "execution_count": 87,
      "outputs": []
    },
    {
      "cell_type": "markdown",
      "metadata": {
        "id": "3yJW0yanonbZ"
      },
      "source": [
        "# Training code"
      ]
    },
    {
      "cell_type": "code",
      "metadata": {
        "id": "6wKrJqVEHDKv"
      },
      "source": [
        "agent_type = 'ppo'\n",
        "agent_model = ppo_model"
      ],
      "execution_count": 88,
      "outputs": []
    },
    {
      "cell_type": "code",
      "metadata": {
        "id": "XG8eFVRagQ_J"
      },
      "source": [
        "# Run this to reproduce the original results.\n",
        "num_train = 500\n",
        "num_val = 1000\n",
        "epochs = 500\n",
        "num_repeat = 1"
      ],
      "execution_count": 89,
      "outputs": []
    },
    {
      "cell_type": "code",
      "metadata": {
        "id": "w7Rg76Q4ckGr"
      },
      "source": [
        "# Run this to train on 10k data instead.\n",
        "num_train = 10000\n",
        "num_val = 1000\n",
        "epochs = 400\n",
        "num_repeat = 5"
      ],
      "execution_count": null,
      "outputs": []
    },
    {
      "cell_type": "code",
      "metadata": {
        "cellView": "code",
        "id": "d-2EQMqS_ayd",
        "outputId": "2f7924c7-5d5c-41a7-8a49-eec511e32c9b",
        "colab": {
          "base_uri": "https://localhost:8080/"
        }
      },
      "source": [
        "# @title Train the model\n",
        "# @markdown This tries all the combinations of hparams and picks the best one.\n",
        "# @markdown For each combination of hparams, it averages over num_repeat different train val splits.\n",
        "# @markdown It re runs the best hyperparameters at the end.\n",
        "tf.compat.v1.logging.set_verbosity(tf.compat.v1.logging.ERROR)\n",
        "\n",
        "print(\"use_agent:\", use_agent, \"num_train:\", num_train, \"epochs\", epochs)\n",
        "if num_train > 50:\n",
        "  print(\"More than 50 train data!!!!!!!!\")\n",
        "\n",
        "# each item in all_hparam_possibilities specifies valid hyper params to try. Put parameters that don't make sense together in separate lists.\n",
        "\n",
        "hparam_combinations = []\n",
        "for hparam_possibilities in all_hparam_possibilities:\n",
        "  hparam_keys, hparam_values = zip(*hparam_possibilities.items())\n",
        "  hparam_combinations.extend([dict(zip(hparam_keys, v)) for v in itertools.product(*hparam_values)])\n",
        "random.shuffle(hparam_combinations)\n",
        "print(\"len(hparam_combinations)\", len(hparam_combinations), \"hparam_combinations\", hparam_combinations)\n",
        "\n",
        "def modify_x_for_reduce(xs):\n",
        "  reshaped_x = np.reshape(xs, [xs.shape[0], -1])\n",
        "  # Make everything positive because some reductions don't work with negatives.\n",
        "  reshaped_x -= np.min(reshaped_x)\n",
        "  return reshaped_x\n",
        "\n",
        "def unsup_exstract(xs, reg_amount, drop_rate, layer_sizes, reduction_alg, n_components, net_last_cut, net_freeze):\n",
        "  del reg_amount, drop_rate, layer_sizes, net_last_cut, net_freeze\n",
        "\n",
        "  print(\"Using unsupervised feature extraction.\")\n",
        "\n",
        "  dim_reduct_model = ChannelReducer(reduction_alg=reduction_alg, n_components=n_components)\n",
        "  xs = dim_reduct_model.fit_transform(modify_x_for_reduce(xs))\n",
        "  return xs\n",
        "\n",
        "def train_best_logs(xs, ys, num_val, do_summary, hparams, get_model):\n",
        "  \"\"\"Trains the model and retruns the logs of the best epoch. randomly splits the train and val data before training.\"\"\"\n",
        "  tf.keras.backend.clear_session()\n",
        "  if use_agent:\n",
        "    model = get_model(agent_model, agent_type, **hparams)\n",
        "  else:\n",
        "    model = get_model(**hparams)\n",
        "  xs, ys = shuffle(xs, ys)\n",
        "\n",
        "  xs_val = xs[num_train:num_train+num_val]\n",
        "  ys_val = ys[num_train:num_train+num_val]\n",
        "  early_stopping = tf.keras.callbacks.EarlyStopping(monitor='val_loss', patience=100, verbose=0)\n",
        "  best_stats = BestStats()\n",
        "  if hparams['slowly_unfreezing']:\n",
        "      slowly_unfreezing = SlowlyUnfreezing()\n",
        "  else:\n",
        "      slowly_unfreezing = tf.keras.callbacks.Callback()\n",
        "  model.fit(xs[:num_train], ys[:num_train], epochs=epochs, batch_size=128, validation_freq=10, \n",
        "            callbacks=[best_stats, early_stopping, slowly_unfreezing], validation_data=(xs_val, ys_val), verbose=0)\n",
        "  if do_summary:\n",
        "    model.summary()\n",
        "    print(\"best train accuracy:\", best_stats.bestTrain)\n",
        "    print(\"Number of epochs:\", best_stats.num_epochs)\n",
        "  return best_stats.bestLogs\n",
        "\n",
        "def multiple_train_ave(hparams):\n",
        "  \"\"\"Trains the model multiple times with the same parameters and returns the average metrics\"\"\"\n",
        "  start = time.time()\n",
        "  all_val_auc = []\n",
        "  all_val_accuracy = []\n",
        "\n",
        "  if hparams['reduction_alg'] != None:\n",
        "    xs_for_train = unsup_exstract(xs, **hparams)\n",
        "  else:\n",
        "    xs_for_train = xs\n",
        "\n",
        "  do_summary = True\n",
        "  for i in range(num_repeat):\n",
        "    logs = train_best_logs(xs_for_train, ys, num_val, do_summary, hparams, get_model)\n",
        "    all_val_auc.append(get_val_auc(logs))\n",
        "    all_val_accuracy.append(logs.get('val_accuracy'))\n",
        "    do_summary = False \n",
        "\n",
        "  mean_val_auc = np.mean(all_val_auc)\n",
        "  mean_val_accuracy = np.mean(all_val_accuracy)\n",
        "  metric = (mean_val_auc + mean_val_accuracy) / 2.0\n",
        "  print_data = (\"mean_val_auc\", mean_val_auc, \"mean_val_accuracy\", mean_val_accuracy, \n",
        "                \"metric\", metric, \"val_auc_std\", np.std(all_val_auc), \"val_accuracy_std\", np.std(all_val_accuracy))\n",
        "\n",
        "  end = time.time()\n",
        "  print(\"Seconds per hyperparam config\", end - start)\n",
        "  # GPU: ('Seconds per hyperparam config', 16.970870971679688)\n",
        "\n",
        "  return metric, print_data\n",
        "\n",
        "best_metric = -float('inf')\n",
        "\n",
        "run_num = 0\n",
        "for hparams in hparam_combinations:\n",
        "  print(\"hparams\", hparams)\n",
        "\n",
        "  metric, print_data = multiple_train_ave(hparams)\n",
        "\n",
        "  print(print_data)\n",
        "  if metric > best_metric:\n",
        "    best_metric = metric\n",
        "    best_print_data = print_data\n",
        "    best_hparams = hparams\n",
        "\n",
        "  run_num += 1\n",
        "  print(\"fract done\", run_num/float(len(hparam_combinations)))\n",
        "  print\n",
        "  print(\"==============================================================================================\")\n",
        "  print\n",
        "  sys.stdout.flush()\n",
        "\n",
        "print(\"best_hparams\", best_hparams)\n",
        "print(\"best results\", best_print_data)\n",
        "print(\"Retraining on the best_hparams to make sure we didn't just get good results by random chance.\")\n",
        "\n",
        "_, print_data = multiple_train_ave(best_hparams)\n",
        "print(\"Result of retrain on the best hyperparameters\", print_data)\n"
      ],
      "execution_count": 90,
      "outputs": [
        {
          "output_type": "stream",
          "text": [
            "use_agent: True num_train: 500 epochs 500\n",
            "More than 50 train data!!!!!!!!\n",
            "len(hparam_combinations) 1 hparam_combinations [{'drop_rate': 0, 'reg_amount': 0, 'layer_sizes': (128, 64), 'net_last_cut': 3, 'net_freeze': (), 'slowly_unfreezing': False, 'reduction_alg': None, 'n_components': None}]\n",
            "hparams {'drop_rate': 0, 'reg_amount': 0, 'layer_sizes': (128, 64), 'net_last_cut': 3, 'net_freeze': (), 'slowly_unfreezing': False, 'reduction_alg': None, 'n_components': None}\n",
            "Model: \"sequential\"\n",
            "_________________________________________________________________\n",
            "Layer (type)                 Output Shape              Param #   \n",
            "=================================================================\n",
            "flatten (Flatten)            multiple                  0         \n",
            "_________________________________________________________________\n",
            "dense (Dense)                multiple                  7200200   \n",
            "_________________________________________________________________\n",
            "dense_1 (Dense)              multiple                  20100     \n",
            "_________________________________________________________________\n",
            "post_agent_0 (Dense)         multiple                  12928     \n",
            "_________________________________________________________________\n",
            "dropout (Dropout)            multiple                  0         \n",
            "_________________________________________________________________\n",
            "post_agent_1 (Dense)         multiple                  8256      \n",
            "_________________________________________________________________\n",
            "dropout_1 (Dropout)          multiple                  0         \n",
            "_________________________________________________________________\n",
            "output (Dense)               multiple                  65        \n",
            "=================================================================\n",
            "Total params: 7,241,549\n",
            "Trainable params: 7,241,549\n",
            "Non-trainable params: 0\n",
            "_________________________________________________________________\n",
            "best train accuracy: 0.8199999928474426\n",
            "Number of epochs: 500\n",
            "Seconds per hyperparam config 30.084106922149658\n",
            "('mean_val_auc', 0.8724077343940735, 'mean_val_accuracy', 0.7269999980926514, 'metric', 0.7997038662433624, 'val_auc_std', 0.0, 'val_accuracy_std', 0.0)\n",
            "fract done 1.0\n",
            "==============================================================================================\n",
            "best_hparams {'drop_rate': 0, 'reg_amount': 0, 'layer_sizes': (128, 64), 'net_last_cut': 3, 'net_freeze': (), 'slowly_unfreezing': False, 'reduction_alg': None, 'n_components': None}\n",
            "best results ('mean_val_auc', 0.8724077343940735, 'mean_val_accuracy', 0.7269999980926514, 'metric', 0.7997038662433624, 'val_auc_std', 0.0, 'val_accuracy_std', 0.0)\n",
            "Retraining on the best_hparams to make sure we didn't just get good results by random chance.\n",
            "Model: \"sequential\"\n",
            "_________________________________________________________________\n",
            "Layer (type)                 Output Shape              Param #   \n",
            "=================================================================\n",
            "flatten (Flatten)            multiple                  0         \n",
            "_________________________________________________________________\n",
            "dense (Dense)                multiple                  7200200   \n",
            "_________________________________________________________________\n",
            "dense_1 (Dense)              multiple                  20100     \n",
            "_________________________________________________________________\n",
            "post_agent_0 (Dense)         multiple                  12928     \n",
            "_________________________________________________________________\n",
            "dropout (Dropout)            multiple                  0         \n",
            "_________________________________________________________________\n",
            "post_agent_1 (Dense)         multiple                  8256      \n",
            "_________________________________________________________________\n",
            "dropout_1 (Dropout)          multiple                  0         \n",
            "_________________________________________________________________\n",
            "output (Dense)               multiple                  65        \n",
            "=================================================================\n",
            "Total params: 7,241,549\n",
            "Trainable params: 7,241,549\n",
            "Non-trainable params: 0\n",
            "_________________________________________________________________\n",
            "best train accuracy: 0.8379999995231628\n",
            "Number of epochs: 500\n",
            "Seconds per hyperparam config 30.098744869232178\n",
            "Result of retrain on the best hyperparameters ('mean_val_auc', 0.8323546051979065, 'mean_val_accuracy', 0.6909999847412109, 'metric', 0.7616772949695587, 'val_auc_std', 0.0, 'val_accuracy_std', 0.0)\n"
          ],
          "name": "stdout"
        }
      ]
    },
    {
      "cell_type": "code",
      "metadata": {
        "id": "Ui_CB32AzEsp"
      },
      "source": [
        ""
      ],
      "execution_count": null,
      "outputs": []
    }
  ]
}