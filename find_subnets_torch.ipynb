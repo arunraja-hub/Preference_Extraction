{
  "nbformat": 4,
  "nbformat_minor": 0,
  "metadata": {
    "colab": {
      "name": "find-subnets-torch-bugfix",
      "provenance": [],
      "collapsed_sections": []
    },
    "kernelspec": {
      "name": "python3",
      "display_name": "Python 3"
    },
    "accelerator": "GPU"
  },
  "cells": [
    {
      "cell_type": "markdown",
      "metadata": {
        "id": "QWwPhoB4VkHs",
        "colab_type": "text"
      },
      "source": [
        "# Everything"
      ]
    },
    {
      "cell_type": "markdown",
      "metadata": {
        "id": "O2PtbrFz01L5",
        "colab_type": "text"
      },
      "source": [
        "## Imports"
      ]
    },
    {
      "cell_type": "code",
      "metadata": {
        "id": "cVH7LTvX00Y5",
        "colab_type": "code",
        "colab": {}
      },
      "source": [
        "import os\n",
        "\n",
        "if not os.path.isdir('Preference_Extraction'):\n",
        "    print(\"Setting up colab environment\")\n",
        "    !pip uninstall -y -q pyarrow\n",
        "    !pip install -q https://s3-us-west-2.amazonaws.com/ray-wheels/latest/ray-0.8.0.dev5-cp36-cp36m-manylinux1_x86_64.whl\n",
        "    !pip install -q ray[debug]\n",
        "    !pip install 'ray[tune]' \n",
        "    !pip install bayesian-optimization\n",
        "\n",
        "    !git clone https://github.com/arunraja-hub/Preference_Extraction.git\n",
        "    # # A hack to force the runtime to restart, needed to include the above dependencies.\n",
        "    # # Only after first time\n",
        "    os._exit(0)"
      ],
      "execution_count": 0,
      "outputs": []
    },
    {
      "cell_type": "code",
      "metadata": {
        "id": "Yd-5ibD8Zsfl",
        "colab_type": "code",
        "colab": {}
      },
      "source": [
        "## If you are running on Google Colab, please install TensorFlow 2.0 by uncommenting below..\n",
        "\n",
        "try:\n",
        "  # %tensorflow_version only exists in Colab.\n",
        "  %tensorflow_version 2.x\n",
        "except Exception:\n",
        "  pass"
      ],
      "execution_count": 0,
      "outputs": []
    },
    {
      "cell_type": "code",
      "metadata": {
        "id": "5xmOhgVIHOwh",
        "colab_type": "code",
        "colab": {}
      },
      "source": [
        "from __future__ import print_function\n",
        "import argparse\n",
        "import os\n",
        "import math\n",
        "\n",
        "import numpy as np\n",
        "import pandas as pd\n",
        "import matplotlib.pyplot as plt\n",
        "from sklearn import metrics\n",
        "from sklearn.metrics import roc_curve, auc, roc_auc_score\n",
        "from sklearn.preprocessing import label_binarize\n",
        "\n",
        "import torch\n",
        "import torch.nn as nn\n",
        "import torch.nn.functional as F\n",
        "import torch.optim as optim\n",
        "import torchvision.transforms.functional as TF\n",
        "from torch.optim.lr_scheduler import CosineAnnealingLR\n",
        "from torchvision import datasets, transforms\n",
        "import torch.autograd as autograd\n",
        "from torchsummary import summary\n",
        "\n",
        "from sklearn.utils import shuffle\n",
        "import tensorflow as tf\n",
        "import concurrent.futures\n",
        "import itertools\n",
        "import os\n",
        "import random\n",
        "import sys\n",
        "import time\n",
        "import re\n",
        "import io\n",
        "import itertools\n",
        "import sys\n",
        "\n",
        "import ray\n",
        "from ray import tune\n",
        "from ray.tune.schedulers import AsyncHyperBandScheduler\n",
        "from ray.tune.suggest.bayesopt import BayesOptSearch\n",
        "\n",
        "sys.path.append('Preference_Extraction')\n",
        "from imports_data import all_load_data"
      ],
      "execution_count": 0,
      "outputs": []
    },
    {
      "cell_type": "code",
      "metadata": {
        "id": "5hU3eIxdF6IH",
        "colab_type": "code",
        "colab": {}
      },
      "source": [
        "np.random.seed(0)\n",
        "torch.manual_seed(0)\n",
        "torch.backends.cudnn.deterministic = True\n",
        "torch.backends.cudnn.benchmark = False"
      ],
      "execution_count": 0,
      "outputs": []
    },
    {
      "cell_type": "code",
      "metadata": {
        "id": "IKHxPPHXH-G-",
        "colab_type": "code",
        "outputId": "0520e251-4141-4641-ad49-3fdd9dc740e4",
        "colab": {
          "base_uri": "https://localhost:8080/",
          "height": 34
        }
      },
      "source": [
        "use_cuda = torch.cuda.is_available()\n",
        "device = torch.device(\"cuda\" if use_cuda else \"cpu\")\n",
        "device"
      ],
      "execution_count": 4,
      "outputs": [
        {
          "output_type": "execute_result",
          "data": {
            "text/plain": [
              "device(type='cuda')"
            ]
          },
          "metadata": {
            "tags": []
          },
          "execution_count": 4
        }
      ]
    },
    {
      "cell_type": "markdown",
      "metadata": {
        "id": "O5pVqCzTrzc2",
        "colab_type": "text"
      },
      "source": [
        "## Parameters"
      ]
    },
    {
      "cell_type": "code",
      "metadata": {
        "id": "jvjWhMZVr2el",
        "colab_type": "code",
        "colab": {}
      },
      "source": [
        "params = {\n",
        "    'num_train': 50,\n",
        "    'num_tune': 25,\n",
        "    'num_val': 400,\n",
        "    'batch_size': 10,\n",
        "    'val_batch_size': 10,\n",
        "    'num_epochs': 100,\n",
        "    'use_qnet_weights': True, # Flag for running models that use the weights of Qnet vs models that use random weights\n",
        "    'use_mnist': False,  # Flag for running models on MNIST. If False uses RL Preference Extraction data\n",
        "    'num_run': 5  # Number of runs (with different data sample) over which to average performance\n",
        "}"
      ],
      "execution_count": 0,
      "outputs": []
    },
    {
      "cell_type": "markdown",
      "metadata": {
        "id": "Y1R6bB1u1B-l",
        "colab_type": "text"
      },
      "source": [
        "## Subnets Methods"
      ]
    },
    {
      "cell_type": "code",
      "metadata": {
        "id": "fzdNqZBANfjh",
        "colab_type": "code",
        "colab": {}
      },
      "source": [
        "\"\"\"\n",
        "    Original code from What's hidden in a randomly weighted neural network? paper\n",
        "    Implemented at https://github.com/allenai/hidden-networks\n",
        "    Remove weigths-initialisation since it is not relevant for us\n",
        "\"\"\"\n",
        "\n",
        "class GetSubnet(autograd.Function):\n",
        "    @staticmethod\n",
        "    def forward(ctx, scores, k):\n",
        "        # Get the supermask by sorting the scores and using the top k%\n",
        "        out = scores.clone()\n",
        "        _, idx = scores.flatten().sort()\n",
        "        j = int((1 - k) * scores.numel())\n",
        "\n",
        "        # flat_out and out access the same memory.\n",
        "        flat_out = out.flatten()\n",
        "        flat_out[idx[:j]] = 0\n",
        "        flat_out[idx[j:]] = 1\n",
        "\n",
        "        return out\n",
        "\n",
        "    @staticmethod\n",
        "    def backward(ctx, g):\n",
        "        # send the gradient g straight-through on the backward pass.\n",
        "        return g, None\n",
        "\n",
        "class SupermaskConv(nn.Conv2d):\n",
        "    def __init__(self, *args, k, scores_init='kaiming_uniform', **kwargs):\n",
        "        super().__init__(*args, **kwargs)\n",
        "        self.k = k\n",
        "        self.scores_init = scores_init\n",
        "\n",
        "        # initialize the scores\n",
        "        self.scores = nn.Parameter(torch.Tensor(self.weight.size()))\n",
        "        if self.scores_init == 'kaiming_normal':\n",
        "          nn.init.kaiming_normal_(self.scores)\n",
        "        elif self.scores_init == 'kaiming_uniform':\n",
        "          nn.init.kaiming_uniform_(self.scores, a=math.sqrt(5))\n",
        "        elif self.scores_init == 'xavier_normal':\n",
        "          nn.init.xavier_normal_(self.scores)\n",
        "        elif self.scores_init == 'best_activation':\n",
        "          nn.init.ones_(self.scores)\n",
        "        else:\n",
        "          nn.init.uniform_(self.scores)\n",
        "\n",
        "        # initialize the weights\n",
        "        nn.init.uniform_(self.weight)\n",
        "        \n",
        "        # NOTE: turn the gradient on the weights off\n",
        "        self.weight.requires_grad = False\n",
        "\n",
        "    def forward(self, x):\n",
        "        subnet = GetSubnet.apply(self.scores.abs(), self.k)\n",
        "        w = self.weight * subnet\n",
        "        x = F.conv2d(\n",
        "            x, w, self.bias, self.stride, self.padding, self.dilation, self.groups\n",
        "        )\n",
        "        return x\n",
        "\n",
        "class SupermaskLinear(nn.Linear):\n",
        "    def __init__(self, *args, k, scores_init='kaiming_uniform', **kwargs):\n",
        "        super().__init__(*args, **kwargs)\n",
        "        self.k = k\n",
        "        self.scores_init = scores_init\n",
        "\n",
        "        # initialize the scores and weights\n",
        "        self.scores = nn.Parameter(torch.Tensor(self.weight.size()))\n",
        "        if self.scores_init == 'kaiming_normal':\n",
        "          nn.init.kaiming_normal_(self.scores)\n",
        "        elif self.scores_init == 'kaiming_uniform':\n",
        "          nn.init.kaiming_uniform_(self.scores, a=math.sqrt(5))\n",
        "        elif self.scores_init == 'xavier_normal':\n",
        "          nn.init.xavier_normal_(self.scores)\n",
        "        elif self.scores_init == 'best_activation':\n",
        "          nn.init.ones_(self.scores)\n",
        "        else:\n",
        "          nn.init.uniform_(self.scores)\n",
        "\n",
        "        nn.init.uniform_(self.weight)\n",
        "\n",
        "        # NOTE: turn the gradient on the weights off\n",
        "        self.weight.requires_grad = False\n",
        "\n",
        "    def forward(self, x):\n",
        "        subnet = GetSubnet.apply(self.scores.abs(), self.k)\n",
        "        w = self.weight * subnet\n",
        "        return F.linear(x, w, self.bias)\n",
        "        return x\n",
        "\n",
        "# NOTE: not used here but we use NON-AFFINE Normalization!\n",
        "# So there is no learned parameters for your nomralization layer.\n",
        "class NonAffineBatchNorm(nn.BatchNorm2d):\n",
        "    def __init__(self, dim):\n",
        "        super(NonAffineBatchNorm, self).__init__(dim, affine=False)"
      ],
      "execution_count": 0,
      "outputs": []
    },
    {
      "cell_type": "markdown",
      "metadata": {
        "id": "dTVKe_Pozw0C",
        "colab_type": "text"
      },
      "source": [
        "## Define architecture"
      ]
    },
    {
      "cell_type": "code",
      "metadata": {
        "id": "MLgKTR1sqhB-",
        "colab_type": "code",
        "colab": {}
      },
      "source": [
        "class PrefQNet(nn.Module):\n",
        "    \"\"\"\n",
        "      If q_head_index is None, this uses a linear model on the normalized q outputs.\n",
        "      Otherwise, it gets the Q head with the specified index.\n",
        "    \"\"\" \n",
        "    def __init__(self, fine_tune, k, q_head_index, q_means_stds, use_last_linear, init_from_act_index=None):\n",
        "        super(PrefQNet, self).__init__()\n",
        "        \n",
        "        if not params['use_mnist']:\n",
        "            channels_in = 5\n",
        "            flattened_shape = 960\n",
        "        else:\n",
        "            channels_in = 1\n",
        "            flattened_shape = 4608\n",
        "\n",
        "        if fine_tune:\n",
        "            conv_layer = nn.Conv2d\n",
        "            dense_layer = nn.Linear\n",
        "            additional_args = {}\n",
        "            init_from_act_index = None\n",
        "        else:\n",
        "            conv_layer = SupermaskConv\n",
        "            dense_layer = SupermaskLinear\n",
        "            additional_args = {'k': k}\n",
        "            if init_from_act_index is not None:\n",
        "                additional_args['scores_init'] = 'best_activation'\n",
        "        \n",
        "        self.conv1 = conv_layer(in_channels=channels_in, out_channels=16, kernel_size=3, stride=1, bias=True, **additional_args)\n",
        "        self.conv2 = conv_layer(in_channels=16, out_channels=32, kernel_size=3, stride=2, bias=True, **additional_args)\n",
        "        self.fc1 = dense_layer(in_features=flattened_shape, out_features=64, bias=True, **additional_args)\n",
        "        self.fc2 = dense_layer(in_features=64, out_features=3, bias=True, **additional_args)\n",
        "        \n",
        "        if init_from_act_index is not None:\n",
        "            init_scores = np.zeros((3, 64))\n",
        "            init_scores[:, init_from_act_index] = 1.0\n",
        "            self.fc2.scores.data = torch.from_numpy(init_scores).float()\n",
        "\n",
        "        self.fc3 = dense_layer(in_features=3, out_features=1, bias=True, **additional_args)\n",
        "        self.linear = nn.Linear(1, 1, bias=True)\n",
        "\n",
        "        self.qix = q_head_index\n",
        "        self.qu_mu_s = q_means_stds\n",
        "        self.use_last_linear = use_last_linear\n",
        "\n",
        "    def fwd_conv1(self, x):\n",
        "        x = self.conv1(x)\n",
        "        return F.relu(x)\n",
        "\n",
        "    def fwd_conv2(self, x):\n",
        "        x = self.fwd_conv1(x)\n",
        "        x = self.conv2(x)\n",
        "        return F.relu(x)\n",
        "\n",
        "    def fwd_flat(self, x):\n",
        "        x = self.fwd_conv2(x)\n",
        "        return torch.flatten(torch.transpose(x, 1, 3), 1) # Pre-flattening transpose is necessary for TF-Torch conversion\n",
        "\n",
        "    def fwd_fc1(self, x):\n",
        "        x = self.fwd_flat(x)\n",
        "        x = self.fc1(x)\n",
        "        return F.relu(x)\n",
        "    \n",
        "    def fwd_fc2(self, x):\n",
        "        x = self.fwd_fc1(x)\n",
        "        return self.fc2(x)\n",
        "\n",
        "    def forward(self, x):\n",
        "        x = self.fwd_fc2(x)\n",
        "\n",
        "        x -= torch.tensor(self.qu_mu_s[0], device=device)\n",
        "        x /= torch.tensor(self.qu_mu_s[1], device=device)\n",
        "\n",
        "        if self.qix == None:\n",
        "          x = self.fc3(x)\n",
        "        else:\n",
        "          x = x[: ,self.qix:self.qix+1]\n",
        "\n",
        "        if self.use_last_linear:\n",
        "          x = self.linear(x)\n",
        "\n",
        "        x = torch.sigmoid(x)\n",
        "        return x.flatten()"
      ],
      "execution_count": 0,
      "outputs": []
    },
    {
      "cell_type": "markdown",
      "metadata": {
        "id": "uIHGI0a71NVI",
        "colab_type": "text"
      },
      "source": [
        "## Load Data"
      ]
    },
    {
      "cell_type": "code",
      "metadata": {
        "id": "4htablfz1umt",
        "colab_type": "code",
        "colab": {}
      },
      "source": [
        "# Run this cell for training with original RL Preference Extraction data\n",
        "if not params['use_mnist']:\n",
        "    all_raw_data = all_load_data(\"Preference_Extraction/data/simple_env_1/\")\n",
        "\n",
        "    activations = []\n",
        "    observations = []\n",
        "    preferences = []\n",
        "\n",
        "    for data in all_raw_data:\n",
        "        for i in range(data.observation.shape[0]):\n",
        "            observations.append(np.copy(data.observation[i]))\n",
        "            activations.append(np.copy(data.policy_info[\"activations\"][i]))\n",
        "            preferences.append((data.policy_info['satisfaction'].as_list()[i] > -6).astype(int))\n",
        "\n",
        "    activations = np.array(activations)\n",
        "\n",
        "    xs = np.rollaxis(np.array(observations), 3, 1) # Torch wants channel-first\n",
        "    ys = np.array(preferences)"
      ],
      "execution_count": 0,
      "outputs": []
    },
    {
      "cell_type": "code",
      "metadata": {
        "id": "7tLaYKbpSct4",
        "colab_type": "code",
        "colab": {}
      },
      "source": [
        "# Run this cell for training with MNIST\n",
        "if params['use_mnist']:\n",
        "    tr_data_loader = torch.utils.data.DataLoader(\n",
        "        datasets.MNIST('mnist', train=True, download=True,\n",
        "                   transform=transforms.Compose([\n",
        "                       transforms.ToTensor(),\n",
        "                       transforms.Normalize((0.1307,), (0.3081,))\n",
        "                   ])), batch_size=params['batch_size'], shuffle=True)\n",
        "\n",
        "    val_data_loader = torch.utils.data.DataLoader(\n",
        "        datasets.MNIST('mnist', train=False, download=True, \n",
        "                    transform=transforms.Compose([\n",
        "                        transforms.ToTensor(),\n",
        "                        transforms.Normalize((0.1307,), (0.3081,))\n",
        "                    ])), batch_size=params['val_batch_size'], shuffle=True)"
      ],
      "execution_count": 0,
      "outputs": []
    },
    {
      "cell_type": "markdown",
      "metadata": {
        "id": "wpSHf83VSgoJ",
        "colab_type": "text"
      },
      "source": [
        "## Loading Weights"
      ]
    },
    {
      "cell_type": "code",
      "metadata": {
        "id": "DD-16xFHSi5r",
        "colab_type": "code",
        "outputId": "e92a452b-601a-4921-e0f7-24a930166b25",
        "colab": {
          "base_uri": "https://localhost:8080/",
          "height": 347
        }
      },
      "source": [
        "new_save_path = \"Preference_Extraction/saved_model2\"\n",
        "restored_model = tf.keras.models.load_model(new_save_path)\n",
        "restored_model.summary()"
      ],
      "execution_count": 10,
      "outputs": [
        {
          "output_type": "stream",
          "text": [
            "WARNING:tensorflow:No training configuration found in save file, so the model was *not* compiled. Compile it manually.\n",
            "Model: \"sequential\"\n",
            "_________________________________________________________________\n",
            "Layer (type)                 Output Shape              Param #   \n",
            "=================================================================\n",
            "EncodingNetwork/conv2d (Conv (None, 12, 14, 16)        736       \n",
            "_________________________________________________________________\n",
            "EncodingNetwork/conv2d_1 (Co (None, 5, 6, 32)          4640      \n",
            "_________________________________________________________________\n",
            "flatten (Flatten)            (None, 960)               0         \n",
            "_________________________________________________________________\n",
            "EncodingNetwork/dense (Dense (None, 64)                61504     \n",
            "_________________________________________________________________\n",
            "dense (Dense)                (None, 3)                 195       \n",
            "=================================================================\n",
            "Total params: 67,075\n",
            "Trainable params: 67,075\n",
            "Non-trainable params: 0\n",
            "_________________________________________________________________\n"
          ],
          "name": "stdout"
        }
      ]
    },
    {
      "cell_type": "code",
      "metadata": {
        "id": "yB2G-FiUTmr4",
        "colab_type": "code",
        "colab": {}
      },
      "source": [
        "original_weights=restored_model.get_weights()"
      ],
      "execution_count": 0,
      "outputs": []
    },
    {
      "cell_type": "code",
      "metadata": {
        "id": "Qg-CpUoIqlUv",
        "colab_type": "code",
        "colab": {}
      },
      "source": [
        "def load_weights(model):\n",
        "    if not params['use_mnist']:\n",
        "        model.conv1.weight.data = torch.from_numpy(np.transpose(original_weights[0]))\n",
        "        model.fc1.weight.data = torch.from_numpy(np.transpose(original_weights[4]))\n",
        "    else:\n",
        "        model.conv1.weight.data = torch.from_numpy(np.transpose(original_weights[0][:,:,:1,:]))\n",
        "        mnist_flt_weights = np.random.rand(64, 4608)\n",
        "        mnist_flt_weights[:, :original_weights[4].shape[0]] = np.transpose(original_weights[4])\n",
        "        mnist_flt_weights = mnist_flt_weights.astype(np.float32)\n",
        "        model.fc1.weight.data = torch.from_numpy(mnist_flt_weights)\n",
        "\n",
        "    model.conv1.bias.data = torch.from_numpy(original_weights[1])\n",
        "    model.conv2.weight.data = torch.from_numpy(np.transpose(original_weights[2]))\n",
        "    model.conv2.bias.data = torch.from_numpy(original_weights[3])\n",
        "    model.fc1.bias.data = torch.from_numpy(original_weights[5])\n",
        "    model.fc2.weight.data = torch.from_numpy(np.transpose(original_weights[6]))\n",
        "    model.fc2.bias.data = torch.from_numpy(original_weights[7])\n",
        "    model.fc3.weight.data = torch.from_numpy(np.ones(shape=[1,3], dtype=np.float32))\n",
        "    model.fc3.bias.data = torch.from_numpy(np.zeros(shape=[1], dtype=np.float32))\n",
        "    model.to(device)"
      ],
      "execution_count": 0,
      "outputs": []
    },
    {
      "cell_type": "code",
      "metadata": {
        "id": "AwWx3ioNqhhC",
        "colab_type": "code",
        "colab": {}
      },
      "source": [
        "test_model = PrefQNet(k=1, fine_tune=False, q_head_index=None, q_means_stds=[[0, 0, 0], [1, 1, 1]], use_last_linear=True).to(device)\n",
        "\n",
        "if params['use_qnet_weights']:\n",
        "    load_weights(test_model)"
      ],
      "execution_count": 0,
      "outputs": []
    },
    {
      "cell_type": "markdown",
      "metadata": {
        "id": "MmX7Cyzes4Ct",
        "colab_type": "text"
      },
      "source": [
        "## Test the weights loaded properly"
      ]
    },
    {
      "cell_type": "code",
      "metadata": {
        "id": "CXsgEQuAUwha",
        "colab_type": "code",
        "colab": {}
      },
      "source": [
        "# Comparing that the models have identical observations for identical images\n",
        "tf_conv1_fn = tf.keras.models.Model(inputs=restored_model.input, outputs=restored_model.layers[0].output)\n",
        "tf_conv2_fn = tf.keras.models.Model(inputs=restored_model.input, outputs=restored_model.layers[1].output)\n",
        "tf_flt_fn = tf.keras.models.Model(inputs=restored_model.input, outputs=restored_model.layers[2].output)\n",
        "tf_fc1_fn = tf.keras.models.Model(inputs=restored_model.input, outputs=restored_model.layers[3].output)\n",
        "\n",
        "def npsigmoid(x):\n",
        "  return 1/(1 + np.exp(-x)) \n",
        "\n",
        "def check_same(torch_layer, tf_layer):\n",
        "    torch_out = np.transpose(torch_layer(single_observation_torch).detach().cpu().numpy())\n",
        "    torch_out = torch_out.reshape(torch_out.shape[:-1])\n",
        "    tf_out = tf_layer(single_observation)[0].numpy()\n",
        "    np.testing.assert_allclose(torch_out, tf_out, rtol=.1, atol=5)  \n",
        "\n",
        "# due to shape of original TF model this test can be done only when use_mnist = False\n",
        "if not params['use_mnist'] and params['use_qnet_weights']:\n",
        "    for i in range(len(all_raw_data[0].observation)):\n",
        "\n",
        "        single_observation = np.array([all_raw_data[0].observation[i]])\n",
        "        single_observation_torch = torch.Tensor(np.array([np.transpose(all_raw_data[0].observation[i])]))\n",
        "\n",
        "        single_observation_torch = single_observation_torch.to(device)\n",
        "\n",
        "        check_same(test_model.fwd_conv1, tf_conv1_fn)\n",
        "        check_same(test_model.fwd_conv2, tf_conv2_fn)\n",
        "        check_same(test_model.fwd_flat, tf_flt_fn)\n",
        "        check_same(test_model.fwd_flat, tf_flt_fn)\n",
        "\n",
        "        fc1_torch_out = np.transpose(test_model.fwd_fc1(single_observation_torch).detach().cpu().numpy())\n",
        "        fc1_torch_out = fc1_torch_out.reshape(fc1_torch_out.shape[:-1])\n",
        "        fc1_tf_out = tf_fc1_fn(single_observation)[0].numpy()\n",
        "        \n",
        "        np.testing.assert_allclose(fc1_torch_out, fc1_tf_out, rtol=.1, atol=5)\n",
        "        old_activations = all_raw_data[0].policy_info[\"activations\"][i]\n",
        "        np.testing.assert_allclose(fc1_torch_out, old_activations, rtol=.1, atol=5)\n",
        "        np.testing.assert_allclose(old_activations, fc1_tf_out, rtol=.1, atol=5)\n",
        "\n",
        "        check_same(test_model.fwd_fc2, restored_model)\n",
        "\n",
        "        torch_out = np.transpose(test_model.forward(single_observation_torch).detach().cpu().numpy())\n",
        "        torch_out = torch_out.reshape(torch_out.shape[:-1])\n",
        "        tf_out = npsigmoid(np.sum(restored_model(single_observation)[0].numpy()))\n",
        "        np.testing.assert_allclose(torch_out, tf_out, rtol=.1, atol=5)  "
      ],
      "execution_count": 0,
      "outputs": []
    },
    {
      "cell_type": "markdown",
      "metadata": {
        "id": "_WAEh60PtAFW",
        "colab_type": "text"
      },
      "source": [
        "## Modelling"
      ]
    },
    {
      "cell_type": "markdown",
      "metadata": {
        "id": "j4DfkOECSppn",
        "colab_type": "text"
      },
      "source": [
        "### Get data to normalize qHeads"
      ]
    },
    {
      "cell_type": "code",
      "metadata": {
        "id": "AbrjckDJn94C",
        "colab_type": "code",
        "outputId": "12eda5ef-530d-4adb-8401-cb7d18127b0c",
        "colab": {
          "base_uri": "https://localhost:8080/",
          "height": 34
        }
      },
      "source": [
        "def get_q_heads_mu_and_sigma(model, all_obs, num_obs):\n",
        "    \n",
        "    model.eval()\n",
        "\n",
        "    all_obs = shuffle(all_obs)\n",
        "    obs_to_pass = all_obs[:num_obs]\n",
        "\n",
        "    obs_tensor = torch.Tensor(obs_to_pass)\n",
        "    obs_tensor = obs_tensor.to(device)\n",
        "    qheads_values = model.fwd_fc2(obs_tensor).detach().cpu().numpy()\n",
        "\n",
        "    mu = qheads_values.mean(axis=0)\n",
        "    s = qheads_values.std(axis=0)\n",
        "\n",
        "    print(\"mu\", mu, \"s\", s)\n",
        "    \n",
        "    return np.array([mu, s])\n",
        "\n",
        "if params['use_mnist']:\n",
        "    img_batch, label = iter(tr_data_loader).next()\n",
        "    xs = img_batch\n",
        "\n",
        "q_mu_s = get_q_heads_mu_and_sigma(test_model, xs, 10000)"
      ],
      "execution_count": 15,
      "outputs": [
        {
          "output_type": "stream",
          "text": [
            "mu [ 93.20709   68.562904 138.82045 ] s [47.691833 51.373444 77.846725]\n"
          ],
          "name": "stdout"
        }
      ]
    },
    {
      "cell_type": "markdown",
      "metadata": {
        "id": "EnfF0HPKKxC3",
        "colab_type": "text"
      },
      "source": [
        "### Methods to inspect performance"
      ]
    },
    {
      "cell_type": "code",
      "metadata": {
        "id": "inXU2W5VKr2A",
        "colab_type": "code",
        "colab": {}
      },
      "source": [
        "def get_number_of_new_scores_in_top_k(new_scores, old_scores, k):\n",
        "    new_top_k_scores = set(new_scores[:int(len(new_scores) * k)])\n",
        "    old_top_k_scores = set(old_scores[:int(len(old_scores) * k)])\n",
        "\n",
        "    return len(old_top_k_scores) - len(new_top_k_scores.intersection(old_top_k_scores))\n",
        "\n",
        "def model_scores_to_dict(model):\n",
        "    return {\n",
        "        'conv1': model.conv1.scores.detach().cpu().numpy().flatten().argsort(),\n",
        "        'conv2': model.conv2.scores.detach().cpu().numpy().flatten().argsort(),\n",
        "        'fc1': model.fc1.scores.detach().cpu().numpy().flatten().argsort(),\n",
        "        'fc2': model.fc2.scores.detach().cpu().numpy().flatten().argsort(),\n",
        "        'fc3': model.fc3.scores.detach().cpu().numpy().flatten().argsort()\n",
        "    }\n",
        "\n",
        "def get_no_of_changed_scores(model, previous_scores, k):\n",
        "\n",
        "    new_scores_idxs = model_scores_to_dict(model)\n",
        "\n",
        "    score_changes = {}\n",
        "\n",
        "    for score in new_scores_idxs:\n",
        "        changed_scores_num = get_number_of_new_scores_in_top_k(new_scores_idxs[score], previous_scores[score], k)\n",
        "        score_changes[score] = changed_scores_num\n",
        "\n",
        "    return score_changes, new_scores_idxs\n",
        "\n",
        "def plot_metric(results_dict, metric):\n",
        "    plt.title(metric)\n",
        "    plt.xlabel('Epochs')\n",
        "    plt.plot(list(range(1, params['num_epochs'] + 1)), results_dict[f'train{metric}'], label=f'Train {metric}')\n",
        "    plt.plot(list(range(1, params['num_epochs'] + 1)), results_dict[f'test{metric}'], label=f'Test {metric}')\n",
        "    plt.legend()\n",
        "    plt.show()\n",
        "\n",
        "def plot_metric_multiple_runs(results_items, metric, train=True):\n",
        "    plt.title(metric)\n",
        "    plt.xlabel('Epochs')\n",
        "    for res_key, res_dict in results_items.items():\n",
        "        if train:\n",
        "            plt.plot(list(range(1, params['num_epochs'] + 1)), res_dict[f'train{metric}'], label=f'Train {metric} - {res_key}')\n",
        "        else:\n",
        "            plt.plot(list(range(1, params['num_epochs'] + 1)), res_dict[f'test{metric}'], label=f'Test {metric} - {res_key}')\n",
        "    plt.legend()\n",
        "    plt.show()\n",
        "\n",
        "def plot_score_changes(score_changes_dict):\n",
        "    plt.title('Layer-wise score changes')\n",
        "    plt.xlabel('Optimisation steps (num_train / batch_size * epochs)')\n",
        "    for layer in score_changes_dict:\n",
        "        plt.plot(list(range(1, len(score_changes_dict[layer]) + 1)), score_changes_dict[layer], label=f'{layer}')\n",
        "    plt.legend()\n",
        "    plt.show()"
      ],
      "execution_count": 0,
      "outputs": []
    },
    {
      "cell_type": "markdown",
      "metadata": {
        "id": "cjzhnnt9UqBB",
        "colab_type": "text"
      },
      "source": [
        "### Method to get data for one sample run"
      ]
    },
    {
      "cell_type": "code",
      "metadata": {
        "id": "fv8Z2oPJb270",
        "colab_type": "code",
        "colab": {}
      },
      "source": [
        "def get_data_sample(xs=None, ys=None):\n",
        "\n",
        "    if not params['use_mnist']:\n",
        "        xs, ys = shuffle(xs, ys)\n",
        "        \n",
        "        train_split = params['num_train']\n",
        "        tune_split = params['num_train']+params['num_tune']\n",
        "        test_split = params['num_train']+params['num_tune']+params['num_val']\n",
        "\n",
        "        tr_data_loader = torch.utils.data.DataLoader(\n",
        "            torch.utils.data.TensorDataset(torch.Tensor(xs[:train_split]), torch.Tensor(ys[:train_split])),\n",
        "            batch_size=params['batch_size'])\n",
        "\n",
        "        tune_data_loader = torch.utils.data.DataLoader(\n",
        "            torch.utils.data.TensorDataset(torch.Tensor(xs[train_split:tune_split]), torch.Tensor(ys[train_split:tune_split])),\n",
        "            batch_size=params['batch_size'])\n",
        "\n",
        "        val_data_loader = torch.utils.data.DataLoader(\n",
        "            torch.utils.data.TensorDataset(torch.Tensor(xs[tune_split:test_split]), torch.Tensor(ys[tune_split:test_split])),\n",
        "            batch_size=params['val_batch_size'])\n",
        "    else:\n",
        "        tr_data_loader = torch.utils.data.DataLoader(\n",
        "            datasets.MNIST('mnist', train=True, download=True,\n",
        "                    transform=transforms.Compose([\n",
        "                        transforms.ToTensor(),\n",
        "                        transforms.Normalize((0.1307,), (0.3081,))\n",
        "                    ])), batch_size=params['batch_size'], shuffle=True)\n",
        "\n",
        "        tune_data_loader = torch.utils.data.DataLoader(\n",
        "            datasets.MNIST('mnist', train=False, download=True, \n",
        "                        transform=transforms.Compose([\n",
        "                            transforms.ToTensor(),\n",
        "                            transforms.Normalize((0.1307,), (0.3081,))\n",
        "                        ])), batch_size=params['batch_size'], shuffle=True)\n",
        "\n",
        "        val_data_loader = torch.utils.data.DataLoader(\n",
        "            datasets.MNIST('mnist', train=False, download=True, \n",
        "                        transform=transforms.Compose([\n",
        "                            transforms.ToTensor(),\n",
        "                            transforms.Normalize((0.1307,), (0.3081,))\n",
        "                        ])), batch_size=params['val_batch_size'], shuffle=True)\n",
        "        \n",
        "    return tr_data_loader, tune_data_loader, val_data_loader"
      ],
      "execution_count": 0,
      "outputs": []
    },
    {
      "cell_type": "markdown",
      "metadata": {
        "id": "Th-WxNDGTKth",
        "colab_type": "text"
      },
      "source": [
        "### Single run train/test methods"
      ]
    },
    {
      "cell_type": "code",
      "metadata": {
        "id": "xEj7Qn1-H-Es",
        "colab_type": "code",
        "colab": {}
      },
      "source": [
        "\"\"\"\n",
        "    Train/Test function for Randomly Weighted Hidden Neural Networks Techniques\n",
        "    Adapted from https://github.com/NesterukSergey/hidden-networks/blob/master/demos/mnist.ipynb\n",
        "\"\"\"\n",
        "\n",
        "def compute_metrics(predictions, true_labels):\n",
        "    predictions = np.array(predictions)\n",
        "    true_labels = np.array(true_labels)\n",
        "    accuracy = np.sum(np.equal((predictions > 0.5).astype(int), true_labels)) / len(true_labels)\n",
        "    fpr, tpr, thresholds = metrics.roc_curve(true_labels, predictions, pos_label=1)\n",
        "    auc = metrics.auc(fpr, tpr)\n",
        "    return accuracy, auc\n",
        "\n",
        "def train(model, k, device, train_loader, optimizer, criterion):\n",
        "    \n",
        "    train_loss = 0\n",
        "    true_labels = []\n",
        "    predictions = [] # labels\n",
        "\n",
        "    model.train()\n",
        "    train_score_changes = {}\n",
        "    if k is not None:\n",
        "        scores = model_scores_to_dict(model)\n",
        "        train_score_changes = {k: [] for k in scores}\n",
        "\n",
        "    for data, target in itertools.islice(train_loader, params['num_train']):\n",
        "        \n",
        "        data, target = data.to(device), target.to(device)\n",
        "        if params['use_mnist']:\n",
        "            target = (target > 0).float()\n",
        "        optimizer.zero_grad()\n",
        "        output = model(data)\n",
        "        loss = criterion(output, target)\n",
        "        loss.backward()\n",
        "        optimizer.step()\n",
        "\n",
        "        if k is not None:\n",
        "            score_changes, scores = get_no_of_changed_scores(model, scores, k)\n",
        "            for layer_changes in score_changes:\n",
        "                train_score_changes[layer_changes].append(score_changes[layer_changes])\n",
        "\n",
        "        train_loss += loss\n",
        "        predictions.extend(output.detach().cpu().numpy())\n",
        "        true_labels.extend(target.detach().cpu().numpy())\n",
        "    \n",
        "    train_loss /= len(train_loader.dataset)\n",
        "    accuracy, auc = compute_metrics(predictions, true_labels)\n",
        "\n",
        "    return train_loss.item(), accuracy, auc, train_score_changes\n",
        "\n",
        "\n",
        "def test(model, device, criterion, test_loader, num_test):\n",
        "    true_labels = []\n",
        "    predictions = [] # labels\n",
        "\n",
        "    model.eval()\n",
        "    test_loss = 0\n",
        "    with torch.no_grad():\n",
        "        for data, target in itertools.islice(test_loader, num_test):\n",
        "            data, target = data.to(device), target.to(device)\n",
        "            if params['use_mnist']:\n",
        "                target = (target > 0).float()\n",
        "            output = model(data)\n",
        "            test_loss += criterion(output, target)\n",
        "\n",
        "            predictions.extend(output.detach().cpu().numpy())\n",
        "            true_labels.extend(target.detach().cpu().numpy())\n",
        "    \n",
        "    test_loss /= len(test_loader.dataset)\n",
        "    accuracy, auc = compute_metrics(predictions, true_labels)\n",
        "\n",
        "    return test_loss.item(), accuracy, auc\n",
        "\n",
        "def run_model(model, k, learning_rate, weight_decay, num_epochs):\n",
        "\n",
        "  tr_data_loader, tune_data_loader, val_data_loader = get_data_sample(xs, ys)\n",
        "\n",
        "  optimizer = optim.Adam(\n",
        "      [p for p in model.parameters() if p.requires_grad],\n",
        "      lr=learning_rate,\n",
        "      weight_decay=weight_decay\n",
        "  )\n",
        "\n",
        "  criterion = nn.BCELoss().to(device)\n",
        "  scheduler = CosineAnnealingLR(optimizer, T_max=len(tr_data_loader))\n",
        "\n",
        "  train_losses = []\n",
        "  test_losses = []\n",
        "  tune_losses = []\n",
        "  train_accs = []\n",
        "  train_aucs = []\n",
        "  test_accs = []\n",
        "  test_aucs = []\n",
        "  score_changes = []\n",
        "  \n",
        "\n",
        "  for epoch in range(num_epochs):\n",
        "      train_loss, train_accuracy, train_auc, train_score_changes = train(model, k, device, tr_data_loader, optimizer, criterion)\n",
        "      tune_loss, _, _ = test(model, device, criterion, tune_data_loader, params['num_tune'])\n",
        "      test_loss, test_accuracy, test_auc = test(model, device, criterion, val_data_loader, params['num_val'])\n",
        "      scheduler.step()\n",
        "\n",
        "      score_changes.append(train_score_changes)\n",
        "      train_losses.append(train_loss)\n",
        "      tune_losses.append(tune_loss)\n",
        "      test_losses.append(test_loss)\n",
        "      train_accs.append(train_accuracy)\n",
        "      train_aucs.append(train_auc)\n",
        "      test_accs.append(test_accuracy)\n",
        "      test_aucs.append(test_auc)\n",
        "\n",
        "  merged_score_changes = {k: [] for k in score_changes[0].keys()}\n",
        "  for d in score_changes:\n",
        "    for k in d:\n",
        "        merged_score_changes[k].extend(d[k])\n",
        "\n",
        "  return {'trainLoss': train_losses, 'testLoss': test_losses, 'tuneLoss': tune_losses,\n",
        "          'trainAccuracy': train_accs, 'testAccuracy': test_accs,\n",
        "          'trainAUC': train_aucs, 'testAUC': test_aucs, 'scoreChanges': merged_score_changes}"
      ],
      "execution_count": 0,
      "outputs": []
    },
    {
      "cell_type": "code",
      "metadata": {
        "id": "oIBJ-Xbe5IaY",
        "colab_type": "code",
        "colab": {}
      },
      "source": [
        "def multi_runs(fine_tune, K, q_head_index, q_means_stds, use_last_linear, init_from_act_index, \n",
        "               learning_rate, weight_decay, plots=False):\n",
        "\n",
        "    averaged_results = {}    \n",
        "    for run_ix in range(params['num_run']):\n",
        "        \n",
        "        model = PrefQNet(fine_tune=fine_tune, k=K, q_head_index=q_head_index, q_means_stds=q_means_stds,\n",
        "                         use_last_linear=use_last_linear, init_from_act_index=init_from_act_index)\n",
        "        \n",
        "        if params['use_qnet_weights']:\n",
        "            load_weights(model)\n",
        "\n",
        "        results = run_model(model, K, learning_rate=learning_rate, weight_decay=weight_decay, num_epochs=params['num_epochs'])\n",
        "        \n",
        "        print(f'Train pass no. {run_ix+1}')\n",
        "        if (run_ix == 0) and plots:\n",
        "            print('Debug charts for first training run')\n",
        "            plot_metric(results, 'Loss')\n",
        "            plot_metric(results, 'Accuracy')\n",
        "            plot_metric(results, 'AUC')\n",
        "\n",
        "        for val in results:\n",
        "            if len(results[val]) > 0 and val != 'scoreChanges':\n",
        "                if val not in averaged_results:\n",
        "                    averaged_results[val] = [results[val][-1]]\n",
        "                else:\n",
        "                    averaged_results[val].append(results[val][-1])         \n",
        "    \n",
        "    return averaged_results, {x: sum(averaged_results[x]) / params['num_run'] for x in averaged_results}"
      ],
      "execution_count": 0,
      "outputs": []
    },
    {
      "cell_type": "markdown",
      "metadata": {
        "id": "Clre1lUXPXYg",
        "colab_type": "text"
      },
      "source": [
        "## Initialise Subnets Search with activation that obtained optimal AUC in previous experiment\n",
        "\n",
        "We do this both as a sanity check as well as a potential improvement"
      ]
    },
    {
      "cell_type": "code",
      "metadata": {
        "id": "RO5NwFAmPh2l",
        "colab_type": "code",
        "outputId": "f0c71515-1629-40ad-cdae-8dfe12a4cffc",
        "colab": {
          "base_uri": "https://localhost:8080/",
          "height": 69
        }
      },
      "source": [
        "from sklearn import metrics \n",
        "\n",
        "acts = []\n",
        "prefs = []\n",
        "\n",
        "for data in all_raw_data:\n",
        "    for i in range(data.observation.shape[0]):\n",
        "        acts.append(np.copy(data.policy_info[\"activations\"][i]))\n",
        "        prefs.append((data.policy_info['satisfaction'].as_list()[i] > -6).astype(int))\n",
        "\n",
        "acts = np.array(acts)\n",
        "prefs = np.array(prefs)\n",
        "\n",
        "def display_auc_info(xs, ys):\n",
        "    \n",
        "    def calc_auc(xs, ys, i):\n",
        "        fpr, tpr, thresholds = metrics.roc_curve(ys, xs[:,i], pos_label=1)\n",
        "        return metrics.auc(fpr, tpr)\n",
        "\n",
        "\n",
        "    multi_runs_aucs = []\n",
        "    for run_ix in range(50):\n",
        "        xs, ys = shuffle(xs, ys)\n",
        "        flat_xs = np.reshape(xs, (xs.shape[0], -1))\n",
        "        aucs = []    \n",
        "        \n",
        "        for i in range(flat_xs.shape[1]):\n",
        "            auc = calc_auc(flat_xs[:params['num_train']], ys[:params['num_train']], i)\n",
        "            aucs.append(auc)  \n",
        "\n",
        "        aucs = np.array(aucs)\n",
        "        multi_runs_aucs.append(aucs)\n",
        "\n",
        "    aucs = np.array(multi_runs_aucs)\n",
        "    aucs = aucs.mean(axis=0)\n",
        "\n",
        "    print(\"AUC from only picking a single activation\")\n",
        "    print(np.argmin(aucs), \"train\", 1-np.min(aucs), \"val\", 1-calc_auc(flat_xs[params['num_train']:], ys[params['num_train']:], np.argmin(aucs)))\n",
        "    print(np.argmax(aucs), \"train\", np.max(aucs), \"val\", calc_auc(flat_xs[params['num_train']:], ys[params['num_train']:], np.argmax(aucs)))\n",
        "  \n",
        "display_auc_info(acts, prefs)"
      ],
      "execution_count": 67,
      "outputs": [
        {
          "output_type": "stream",
          "text": [
            "AUC from only picking a single activation\n",
            "34 train 0.8283087091008614 val 0.8202670285662659\n",
            "13 train 0.6322109960460084 val 0.6179261050588937\n"
          ],
          "name": "stdout"
        }
      ]
    },
    {
      "cell_type": "code",
      "metadata": {
        "id": "M9Yw8LJRYEnL",
        "colab_type": "code",
        "colab": {
          "base_uri": "https://localhost:8080/",
          "height": 121
        },
        "outputId": "dad8dea4-b76e-4140-dd8a-0c70ecd6b3cd"
      },
      "source": [
        "best_act_index = 34\n",
        "K = 66774 / 67152  # Num of weigths with all dense activations except one set to 0 / Number of total weights\n",
        "\n",
        "params['num_epochs'] = 1\n",
        "results = multi_runs(fine_tune=False, K=1, q_head_index=None, q_means_stds=q_mu_s, \n",
        "                     use_last_linear=False, init_from_act_index=best_act_index,\n",
        "                     learning_rate=0.000, weight_decay=0.000, plots=False)\n",
        "\n",
        "1 - results['testAUC']"
      ],
      "execution_count": 78,
      "outputs": [
        {
          "output_type": "stream",
          "text": [
            "Train pass no. 1\n",
            "Train pass no. 2\n",
            "Train pass no. 3\n",
            "Train pass no. 4\n",
            "Train pass no. 5\n"
          ],
          "name": "stdout"
        },
        {
          "output_type": "execute_result",
          "data": {
            "text/plain": [
              "0.8293560760678543"
            ]
          },
          "metadata": {
            "tags": []
          },
          "execution_count": 78
        }
      ]
    },
    {
      "cell_type": "markdown",
      "metadata": {
        "id": "8UgIPiAeBYcR",
        "colab_type": "text"
      },
      "source": [
        "## Getting Results for Different Combinations"
      ]
    },
    {
      "cell_type": "code",
      "metadata": {
        "id": "dY1CfExmBde-",
        "colab_type": "code",
        "colab": {}
      },
      "source": [
        "params['num_epochs'] = 100"
      ],
      "execution_count": 0,
      "outputs": []
    },
    {
      "cell_type": "code",
      "metadata": {
        "id": "3gSlNktRBfZh",
        "colab_type": "code",
        "colab": {
          "base_uri": "https://localhost:8080/",
          "height": 625
        },
        "outputId": "ff4bf746-8fdc-4563-a969-77f206b4a1dc"
      },
      "source": [
        "multi_runs(fine_tune=True, K=None, q_head_index=None, q_means_stds=q_mu_s, \n",
        "           use_last_linear=True, init_from_act_index=None,\n",
        "           learning_rate=0.01, weight_decay=0.001, plots=False)"
      ],
      "execution_count": 95,
      "outputs": [
        {
          "output_type": "stream",
          "text": [
            "Train pass no. 1\n",
            "Train pass no. 2\n",
            "Train pass no. 3\n",
            "Train pass no. 4\n",
            "Train pass no. 5\n"
          ],
          "name": "stdout"
        },
        {
          "output_type": "execute_result",
          "data": {
            "text/plain": [
              "({'testAUC': [0.8133364456893868,\n",
              "   0.8154763434504382,\n",
              "   0.8522975641869651,\n",
              "   0.8247224815852268,\n",
              "   0.8357568783345539],\n",
              "  'testAccuracy': [0.7625, 0.7425, 0.815, 0.775, 0.7575],\n",
              "  'testLoss': [0.1537771224975586,\n",
              "   0.09648054838180542,\n",
              "   0.08775465935468674,\n",
              "   0.13497887551784515,\n",
              "   0.07934705168008804],\n",
              "  'trainAUC': [1.0, 1.0, 1.0, 1.0, 1.0],\n",
              "  'trainAccuracy': [1.0, 1.0, 1.0, 1.0, 1.0],\n",
              "  'trainLoss': [0.00011910752073163167,\n",
              "   0.00018867047037929296,\n",
              "   0.00037541292840614915,\n",
              "   0.0006876284605823457,\n",
              "   0.0016543453093618155],\n",
              "  'tuneLoss': [0.2263316661119461,\n",
              "   0.17281566560268402,\n",
              "   0.20987460017204285,\n",
              "   0.1995871663093567,\n",
              "   0.07609060406684875]},\n",
              " {'testAUC': 0.8283179426493141,\n",
              "  'testAccuracy': 0.7705,\n",
              "  'testLoss': 0.11046765148639678,\n",
              "  'trainAUC': 1.0,\n",
              "  'trainAccuracy': 1.0,\n",
              "  'trainLoss': 0.000605032937892247,\n",
              "  'tuneLoss': 0.1769399404525757})"
            ]
          },
          "metadata": {
            "tags": []
          },
          "execution_count": 95
        }
      ]
    },
    {
      "cell_type": "code",
      "metadata": {
        "id": "38IW5SumDoNy",
        "colab_type": "code",
        "colab": {
          "base_uri": "https://localhost:8080/",
          "height": 625
        },
        "outputId": "a7eb66f0-a6b4-4242-a3ac-3b4b57e2f954"
      },
      "source": [
        "multi_runs(fine_tune=True, K=None, q_head_index=None, q_means_stds=[[0,0,0],[1,1,1]], \n",
        "           use_last_linear=True, init_from_act_index=None,\n",
        "           learning_rate=0.01, weight_decay=0.001, plots=False)"
      ],
      "execution_count": 97,
      "outputs": [
        {
          "output_type": "stream",
          "text": [
            "Train pass no. 1\n",
            "Train pass no. 2\n",
            "Train pass no. 3\n",
            "Train pass no. 4\n",
            "Train pass no. 5\n"
          ],
          "name": "stdout"
        },
        {
          "output_type": "execute_result",
          "data": {
            "text/plain": [
              "({'testAUC': [0.7477879665379665,\n",
              "   0.7751653575857793,\n",
              "   0.6778058007566203,\n",
              "   0.8065151986720615,\n",
              "   0.7833914053426247],\n",
              "  'testAccuracy': [0.6925, 0.7025, 0.6775, 0.765, 0.745],\n",
              "  'testLoss': [0.2816723585128784,\n",
              "   0.19054630398750305,\n",
              "   0.186612069606781,\n",
              "   0.1592748761177063,\n",
              "   0.1535634547472],\n",
              "  'trainAUC': [1.0, 1.0, 1.0, 1.0, 1.0],\n",
              "  'trainAccuracy': [1.0, 1.0, 1.0, 1.0, 1.0],\n",
              "  'trainLoss': [5.849573062732816e-05,\n",
              "   0.00012599444016814232,\n",
              "   0.00014537507377099246,\n",
              "   4.419025935931131e-05,\n",
              "   7.232251664390787e-05],\n",
              "  'tuneLoss': [0.1408819556236267,\n",
              "   0.24297289550304413,\n",
              "   0.27762624621391296,\n",
              "   0.1575925052165985,\n",
              "   0.1641690582036972]},\n",
              " {'testAUC': 0.7581331457790105,\n",
              "  'testAccuracy': 0.7165,\n",
              "  'testLoss': 0.19433381259441376,\n",
              "  'trainAUC': 1.0,\n",
              "  'trainAccuracy': 1.0,\n",
              "  'trainLoss': 8.927560411393642e-05,\n",
              "  'tuneLoss': 0.1966485321521759})"
            ]
          },
          "metadata": {
            "tags": []
          },
          "execution_count": 97
        }
      ]
    },
    {
      "cell_type": "code",
      "metadata": {
        "id": "FuYkmycDEIEY",
        "colab_type": "code",
        "colab": {
          "base_uri": "https://localhost:8080/",
          "height": 625
        },
        "outputId": "7dc25453-4abe-4d98-9b27-02de35ac4456"
      },
      "source": [
        "multi_runs(fine_tune=True, K=None, q_head_index=None, q_means_stds=q_mu_s, \n",
        "           use_last_linear=False, init_from_act_index=None,\n",
        "           learning_rate=0.01, weight_decay=0.001, plots=False)"
      ],
      "execution_count": 98,
      "outputs": [
        {
          "output_type": "stream",
          "text": [
            "Train pass no. 1\n",
            "Train pass no. 2\n",
            "Train pass no. 3\n",
            "Train pass no. 4\n",
            "Train pass no. 5\n"
          ],
          "name": "stdout"
        },
        {
          "output_type": "execute_result",
          "data": {
            "text/plain": [
              "({'testAUC': [0.7715556012438642,\n",
              "   0.774658553076403,\n",
              "   0.5266279819471309,\n",
              "   0.7981329290672625,\n",
              "   0.5574850925829062],\n",
              "  'testAccuracy': [0.72, 0.705, 0.5825, 0.71, 0.555],\n",
              "  'testLoss': [0.11522474884986877,\n",
              "   0.11896015703678131,\n",
              "   0.25925329327583313,\n",
              "   0.13024890422821045,\n",
              "   0.22739072144031525],\n",
              "  'trainAUC': [1.0, 1.0, 0.988970588235294, 1.0, 1.0],\n",
              "  'trainAccuracy': [1.0, 1.0, 0.94, 1.0, 0.98],\n",
              "  'trainLoss': [0.00022527291730511934,\n",
              "   0.00024238736659754068,\n",
              "   0.012866455130279064,\n",
              "   0.0002553285157773644,\n",
              "   0.005089514888823032],\n",
              "  'tuneLoss': [0.03174200281500816,\n",
              "   0.22029440104961395,\n",
              "   0.3788627088069916,\n",
              "   0.13941320776939392,\n",
              "   0.23116329312324524]},\n",
              " {'testAUC': 0.6856920315835133,\n",
              "  'testAccuracy': 0.6545,\n",
              "  'testLoss': 0.17021556496620177,\n",
              "  'trainAUC': 0.9977941176470587,\n",
              "  'trainAccuracy': 0.984,\n",
              "  'trainLoss': 0.003735791763756424,\n",
              "  'tuneLoss': 0.20029512271285058})"
            ]
          },
          "metadata": {
            "tags": []
          },
          "execution_count": 98
        }
      ]
    },
    {
      "cell_type": "code",
      "metadata": {
        "id": "xgO0pk1BEiN8",
        "colab_type": "code",
        "colab": {
          "base_uri": "https://localhost:8080/",
          "height": 625
        },
        "outputId": "161b961a-06a0-4cf3-adde-580518891647"
      },
      "source": [
        "multi_runs(fine_tune=True, K=None, q_head_index=None, q_means_stds=q_mu_s, \n",
        "           use_last_linear=True, init_from_act_index=None,\n",
        "           learning_rate=0.005, weight_decay=0.005, plots=False)"
      ],
      "execution_count": 99,
      "outputs": [
        {
          "output_type": "stream",
          "text": [
            "Train pass no. 1\n",
            "Train pass no. 2\n",
            "Train pass no. 3\n",
            "Train pass no. 4\n",
            "Train pass no. 5\n"
          ],
          "name": "stdout"
        },
        {
          "output_type": "execute_result",
          "data": {
            "text/plain": [
              "({'testAUC': [0.7548387096774193,\n",
              "   0.7608515915667631,\n",
              "   0.8438559705935648,\n",
              "   0.8534888586672247,\n",
              "   0.8283984375000001],\n",
              "  'testAccuracy': [0.68, 0.7175, 0.785, 0.7625, 0.7525],\n",
              "  'testLoss': [0.16195568442344666,\n",
              "   0.09815102070569992,\n",
              "   0.12214992195367813,\n",
              "   0.0896163359284401,\n",
              "   0.1074909120798111],\n",
              "  'trainAUC': [1.0, 1.0, 1.0, 1.0, 1.0],\n",
              "  'trainAccuracy': [1.0, 1.0, 1.0, 1.0, 1.0],\n",
              "  'trainLoss': [0.0005004504346288741,\n",
              "   0.0010932598961517215,\n",
              "   0.0005481308326125145,\n",
              "   0.0006376910605467856,\n",
              "   0.0006498582661151886],\n",
              "  'tuneLoss': [0.04782821610569954,\n",
              "   0.14940868318080902,\n",
              "   0.20063456892967224,\n",
              "   0.03472176566720009,\n",
              "   0.11419814825057983]},\n",
              " {'testAUC': 0.8082867136009944,\n",
              "  'testAccuracy': 0.7395,\n",
              "  'testLoss': 0.11587277501821518,\n",
              "  'trainAUC': 1.0,\n",
              "  'trainAccuracy': 1.0,\n",
              "  'trainLoss': 0.0006858780980110168,\n",
              "  'tuneLoss': 0.10935827642679215})"
            ]
          },
          "metadata": {
            "tags": []
          },
          "execution_count": 99
        }
      ]
    },
    {
      "cell_type": "code",
      "metadata": {
        "id": "bWdGu2arEm3w",
        "colab_type": "code",
        "colab": {
          "base_uri": "https://localhost:8080/",
          "height": 625
        },
        "outputId": "88134737-2512-435a-f37c-7bc8d102c19e"
      },
      "source": [
        "multi_runs(fine_tune=True, K=None, q_head_index=0, q_means_stds=q_mu_s, \n",
        "           use_last_linear=True, init_from_act_index=None,\n",
        "           learning_rate=0.01, weight_decay=0.005, plots=False)"
      ],
      "execution_count": 101,
      "outputs": [
        {
          "output_type": "stream",
          "text": [
            "Train pass no. 1\n",
            "Train pass no. 2\n",
            "Train pass no. 3\n",
            "Train pass no. 4\n",
            "Train pass no. 5\n"
          ],
          "name": "stdout"
        },
        {
          "output_type": "execute_result",
          "data": {
            "text/plain": [
              "({'testAUC': [0.7471994884910486,\n",
              "   0.8140650656814451,\n",
              "   0.7021952406567791,\n",
              "   0.7318123441867492,\n",
              "   0.8180720104854667],\n",
              "  'testAccuracy': [0.69, 0.7375, 0.6575, 0.6925, 0.785],\n",
              "  'testLoss': [0.17120319604873657,\n",
              "   0.1225447803735733,\n",
              "   0.17691823840141296,\n",
              "   0.14129996299743652,\n",
              "   0.10622461140155792],\n",
              "  'trainAUC': [1.0, 1.0, 1.0, 1.0, 1.0],\n",
              "  'trainAccuracy': [1.0, 1.0, 1.0, 1.0, 1.0],\n",
              "  'trainLoss': [0.00029294859268702567,\n",
              "   0.0005789602873846889,\n",
              "   0.0009452882222831249,\n",
              "   0.0010689892806112766,\n",
              "   0.0008288358803838491],\n",
              "  'tuneLoss': [0.13852056860923767,\n",
              "   0.14755722880363464,\n",
              "   0.2768683135509491,\n",
              "   0.1588255614042282,\n",
              "   0.17423930764198303]},\n",
              " {'testAUC': 0.7626688299002977,\n",
              "  'testAccuracy': 0.7125,\n",
              "  'testLoss': 0.14363815784454345,\n",
              "  'trainAUC': 1.0,\n",
              "  'trainAccuracy': 1.0,\n",
              "  'trainLoss': 0.0007430044526699931,\n",
              "  'tuneLoss': 0.17920219600200654})"
            ]
          },
          "metadata": {
            "tags": []
          },
          "execution_count": 101
        }
      ]
    },
    {
      "cell_type": "code",
      "metadata": {
        "id": "g0w6BT2lE9ik",
        "colab_type": "code",
        "colab": {
          "base_uri": "https://localhost:8080/",
          "height": 625
        },
        "outputId": "c2a5091e-7556-4071-c222-8dfef6873597"
      },
      "source": [
        "multi_runs(fine_tune=True, K=None, q_head_index=None, q_means_stds=q_mu_s, \n",
        "           use_last_linear=True, init_from_act_index=None,\n",
        "           learning_rate=0.02, weight_decay=0.02, plots=False)"
      ],
      "execution_count": 103,
      "outputs": [
        {
          "output_type": "stream",
          "text": [
            "Train pass no. 1\n",
            "Train pass no. 2\n",
            "Train pass no. 3\n",
            "Train pass no. 4\n",
            "Train pass no. 5\n"
          ],
          "name": "stdout"
        },
        {
          "output_type": "execute_result",
          "data": {
            "text/plain": [
              "({'testAUC': [0.7739121430975123,\n",
              "   0.572289156626506,\n",
              "   0.6748532591906086,\n",
              "   0.7508389046850585,\n",
              "   0.8160444716442268],\n",
              "  'testAccuracy': [0.725, 0.595, 0.6275, 0.6875, 0.745],\n",
              "  'testLoss': [0.09092437475919724,\n",
              "   0.07079415023326874,\n",
              "   0.06848209351301193,\n",
              "   0.09792287647724152,\n",
              "   0.08965844660997391],\n",
              "  'trainAUC': [1.0, 0.7205882352941176, 0.7754677754677755, 1.0, 1.0],\n",
              "  'trainAccuracy': [1.0, 0.74, 0.86, 0.98, 1.0],\n",
              "  'trainLoss': [0.002261457731947303,\n",
              "   0.05391618609428406,\n",
              "   0.04400831460952759,\n",
              "   0.00655113160610199,\n",
              "   0.0017912012990564108],\n",
              "  'tuneLoss': [0.11504357308149338,\n",
              "   0.08367732912302017,\n",
              "   0.07473348081111908,\n",
              "   0.07115575671195984,\n",
              "   0.11498477309942245]},\n",
              " {'testAUC': 0.7175875870487823,\n",
              "  'testAccuracy': 0.6759999999999999,\n",
              "  'testLoss': 0.08355638831853866,\n",
              "  'trainAUC': 0.8992112021523786,\n",
              "  'trainAccuracy': 0.916,\n",
              "  'trainLoss': 0.02170565826818347,\n",
              "  'tuneLoss': 0.09191898256540298})"
            ]
          },
          "metadata": {
            "tags": []
          },
          "execution_count": 103
        }
      ]
    },
    {
      "cell_type": "code",
      "metadata": {
        "id": "qveadK_2FWne",
        "colab_type": "code",
        "colab": {
          "base_uri": "https://localhost:8080/",
          "height": 694
        },
        "outputId": "7fadbb79-b94b-41fd-a146-bd18b4fd5f36"
      },
      "source": [
        "multi_runs(fine_tune=False, K=0.9, q_head_index=None, q_means_stds=q_mu_s, \n",
        "           use_last_linear=True, init_from_act_index=None,\n",
        "           learning_rate=0.01, weight_decay=0.001, plots=False)"
      ],
      "execution_count": 104,
      "outputs": [
        {
          "output_type": "stream",
          "text": [
            "Train pass no. 1\n",
            "Train pass no. 2\n",
            "Train pass no. 3\n",
            "Train pass no. 4\n",
            "Train pass no. 5\n"
          ],
          "name": "stdout"
        },
        {
          "output_type": "execute_result",
          "data": {
            "text/plain": [
              "({'testAUC': [0.8143466380653234,\n",
              "   0.7676147793537216,\n",
              "   0.8176718827815783,\n",
              "   0.5068503694581281,\n",
              "   0.8545417400852932],\n",
              "  'testAccuracy': [0.77, 0.74, 0.77, 0.53, 0.815],\n",
              "  'testLoss': [0.05556024983525276,\n",
              "   0.056379470974206924,\n",
              "   0.054878585040569305,\n",
              "   0.07284703850746155,\n",
              "   0.05128539353609085],\n",
              "  'trainAUC': [0.8633333333333333,\n",
              "   0.8084415584415585,\n",
              "   0.8276972624798712,\n",
              "   0.6499999999999999,\n",
              "   0.9136029411764707],\n",
              "  'trainAccuracy': [0.88, 0.8, 0.74, 0.64, 0.86],\n",
              "  'trainLoss': [0.04745708405971527,\n",
              "   0.047659922391176224,\n",
              "   0.05367177352309227,\n",
              "   0.06543111801147461,\n",
              "   0.03468288481235504],\n",
              "  'tuneLoss': [0.07962016016244888,\n",
              "   0.0642518475651741,\n",
              "   0.06761405616998672,\n",
              "   0.07475253194570541,\n",
              "   0.028424810618162155]},\n",
              " {'testAUC': 0.7522050819488089,\n",
              "  'testAccuracy': 0.7250000000000001,\n",
              "  'testLoss': 0.05819014757871628,\n",
              "  'trainAUC': 0.8126150190862468,\n",
              "  'trainAccuracy': 0.784,\n",
              "  'trainLoss': 0.049780556559562684,\n",
              "  'tuneLoss': 0.06293268129229546})"
            ]
          },
          "metadata": {
            "tags": []
          },
          "execution_count": 104
        }
      ]
    },
    {
      "cell_type": "code",
      "metadata": {
        "id": "0UC_ukNWF6_Q",
        "colab_type": "code",
        "colab": {
          "base_uri": "https://localhost:8080/",
          "height": 694
        },
        "outputId": "c5c72791-bb3c-424d-e076-edaf0fe09769"
      },
      "source": [
        "multi_runs(fine_tune=False, K=0.6, q_head_index=None, q_means_stds=q_mu_s, \n",
        "           use_last_linear=True, init_from_act_index=None,\n",
        "           learning_rate=0.01, weight_decay=0.001, plots=False)"
      ],
      "execution_count": 105,
      "outputs": [
        {
          "output_type": "stream",
          "text": [
            "Train pass no. 1\n",
            "Train pass no. 2\n",
            "Train pass no. 3\n",
            "Train pass no. 4\n",
            "Train pass no. 5\n"
          ],
          "name": "stdout"
        },
        {
          "output_type": "execute_result",
          "data": {
            "text/plain": [
              "({'testAUC': [0.8406857142857143,\n",
              "   0.6529928735111178,\n",
              "   0.7702365451388888,\n",
              "   0.5740233304626947,\n",
              "   0.5459261519682637],\n",
              "  'testAccuracy': [0.7875, 0.6775, 0.6725, 0.5675, 0.485],\n",
              "  'testLoss': [0.05376938357949257,\n",
              "   0.06315452605485916,\n",
              "   0.05775335058569908,\n",
              "   0.07495023310184479,\n",
              "   0.07004529982805252],\n",
              "  'trainAUC': [0.9466666666666667,\n",
              "   0.7000000000000001,\n",
              "   0.5349999999999999,\n",
              "   0.7321428571428571,\n",
              "   0.6666666666666667],\n",
              "  'trainAccuracy': [0.92, 0.72, 0.6, 0.7, 0.64],\n",
              "  'trainLoss': [0.029632307589054108,\n",
              "   0.05787434056401253,\n",
              "   0.06735801696777344,\n",
              "   0.06216932460665703,\n",
              "   0.06394052505493164],\n",
              "  'tuneLoss': [0.12848210334777832,\n",
              "   0.07463286817073822,\n",
              "   0.07181157916784286,\n",
              "   0.0973539799451828,\n",
              "   0.08388696610927582]},\n",
              " {'testAUC': 0.6767729230733359,\n",
              "  'testAccuracy': 0.6379999999999999,\n",
              "  'testLoss': 0.06393455862998962,\n",
              "  'trainAUC': 0.7160952380952381,\n",
              "  'trainAccuracy': 0.7160000000000001,\n",
              "  'trainLoss': 0.05619490295648575,\n",
              "  'tuneLoss': 0.0912334993481636})"
            ]
          },
          "metadata": {
            "tags": []
          },
          "execution_count": 105
        }
      ]
    },
    {
      "cell_type": "code",
      "metadata": {
        "id": "P4hbqN36GWOw",
        "colab_type": "code",
        "colab": {
          "base_uri": "https://localhost:8080/",
          "height": 694
        },
        "outputId": "bcfe3d61-e84e-4bf8-80a5-376149bb4fb3"
      },
      "source": [
        "multi_runs(fine_tune=False, K=0.6, q_head_index=None, q_means_stds=q_mu_s, \n",
        "           use_last_linear=True, init_from_act_index=None,\n",
        "           learning_rate=0.001, weight_decay=0.001, plots=False)"
      ],
      "execution_count": 106,
      "outputs": [
        {
          "output_type": "stream",
          "text": [
            "Train pass no. 1\n",
            "Train pass no. 2\n",
            "Train pass no. 3\n",
            "Train pass no. 4\n",
            "Train pass no. 5\n"
          ],
          "name": "stdout"
        },
        {
          "output_type": "execute_result",
          "data": {
            "text/plain": [
              "({'testAUC': [0.7000343997248022,\n",
              "   0.5269282257234064,\n",
              "   0.8544660724031289,\n",
              "   0.7313003452243959,\n",
              "   0.6140092165898617],\n",
              "  'testAccuracy': [0.6775, 0.5525, 0.805, 0.6175, 0.6525],\n",
              "  'testLoss': [0.06187906488776207,\n",
              "   0.07768125832080841,\n",
              "   0.05388563871383667,\n",
              "   0.06781795620918274,\n",
              "   0.06757856160402298],\n",
              "  'trainAUC': [0.8146167557932263,\n",
              "   0.8472222222222222,\n",
              "   0.8940972222222222,\n",
              "   0.9006410256410257,\n",
              "   0.784],\n",
              "  'trainAccuracy': [0.8, 0.82, 0.7, 0.8, 0.68],\n",
              "  'trainLoss': [0.05098897963762283,\n",
              "   0.0832400694489479,\n",
              "   0.04823710024356842,\n",
              "   0.04425951465964317,\n",
              "   0.05717984586954117],\n",
              "  'tuneLoss': [0.07258088886737823,\n",
              "   0.09840782731771469,\n",
              "   0.05668112635612488,\n",
              "   0.07356924563646317,\n",
              "   0.08751397579908371]},\n",
              " {'testAUC': 0.685347651933119,\n",
              "  'testAccuracy': 0.661,\n",
              "  'testLoss': 0.06576849594712257,\n",
              "  'trainAUC': 0.8481154451757392,\n",
              "  'trainAccuracy': 0.76,\n",
              "  'trainLoss': 0.0567811019718647,\n",
              "  'tuneLoss': 0.07775061279535293})"
            ]
          },
          "metadata": {
            "tags": []
          },
          "execution_count": 106
        }
      ]
    },
    {
      "cell_type": "code",
      "metadata": {
        "id": "IR3H0Y6YGvbp",
        "colab_type": "code",
        "colab": {
          "base_uri": "https://localhost:8080/",
          "height": 694
        },
        "outputId": "856cc002-9708-474d-d8cf-4ed45fd24136"
      },
      "source": [
        "multi_runs(fine_tune=False, K=0.9, q_head_index=None, q_means_stds=q_mu_s, \n",
        "           use_last_linear=False, init_from_act_index=None,\n",
        "           learning_rate=0.005, weight_decay=0.001, plots=False)"
      ],
      "execution_count": 107,
      "outputs": [
        {
          "output_type": "stream",
          "text": [
            "Train pass no. 1\n",
            "Train pass no. 2\n",
            "Train pass no. 3\n",
            "Train pass no. 4\n",
            "Train pass no. 5\n"
          ],
          "name": "stdout"
        },
        {
          "output_type": "execute_result",
          "data": {
            "text/plain": [
              "({'testAUC': [0.3784893267651888,\n",
              "   0.41625041625041626,\n",
              "   0.2968005266622778,\n",
              "   0.3443843940738351,\n",
              "   0.5686321444719276],\n",
              "  'testAccuracy': [0.565, 0.5225, 0.515, 0.52, 0.6425],\n",
              "  'testLoss': [0.11786006391048431,\n",
              "   0.09654093533754349,\n",
              "   0.10057266056537628,\n",
              "   0.09719052165746689,\n",
              "   0.087620310485363],\n",
              "  'trainAUC': [0.26559714795008915,\n",
              "   0.46314102564102566,\n",
              "   0.4935897435897436,\n",
              "   0.41,\n",
              "   0.5695238095238095],\n",
              "  'trainAccuracy': [0.66, 0.5, 0.48, 0.6, 0.7],\n",
              "  'trainLoss': [0.11307734251022339,\n",
              "   0.10102222859859467,\n",
              "   0.09550159424543381,\n",
              "   0.09159834682941437,\n",
              "   0.06936497241258621],\n",
              "  'tuneLoss': [0.15354789793491364,\n",
              "   0.11735742539167404,\n",
              "   0.09057482331991196,\n",
              "   0.1102447584271431,\n",
              "   0.13559284806251526]},\n",
              " {'testAUC': 0.40091136164472907,\n",
              "  'testAccuracy': 0.553,\n",
              "  'testLoss': 0.0999568983912468,\n",
              "  'trainAUC': 0.4403703453409335,\n",
              "  'trainAccuracy': 0.5880000000000001,\n",
              "  'trainLoss': 0.09411289691925048,\n",
              "  'tuneLoss': 0.1214635506272316})"
            ]
          },
          "metadata": {
            "tags": []
          },
          "execution_count": 107
        }
      ]
    },
    {
      "cell_type": "code",
      "metadata": {
        "id": "4V82UXi-HVP2",
        "colab_type": "code",
        "colab": {
          "base_uri": "https://localhost:8080/",
          "height": 694
        },
        "outputId": "dec60c52-0651-46cf-e637-45baac82a92f"
      },
      "source": [
        "multi_runs(fine_tune=False, K=0.95, q_head_index=None, q_means_stds=q_mu_s, \n",
        "           use_last_linear=True, init_from_act_index=34,\n",
        "           learning_rate=0.01, weight_decay=0.0001, plots=False)"
      ],
      "execution_count": 108,
      "outputs": [
        {
          "output_type": "stream",
          "text": [
            "Train pass no. 1\n",
            "Train pass no. 2\n",
            "Train pass no. 3\n",
            "Train pass no. 4\n",
            "Train pass no. 5\n"
          ],
          "name": "stdout"
        },
        {
          "output_type": "execute_result",
          "data": {
            "text/plain": [
              "({'testAUC': [0.675113504381797,\n",
              "   0.8661377275963786,\n",
              "   0.8394269161512565,\n",
              "   0.7257984874866811,\n",
              "   0.7394791666666666],\n",
              "  'testAccuracy': [0.6575, 0.7875, 0.7825, 0.62, 0.665],\n",
              "  'testLoss': [0.06970095634460449,\n",
              "   0.05055497586727142,\n",
              "   0.05125127732753754,\n",
              "   0.06653737276792526,\n",
              "   0.06019798666238785],\n",
              "  'trainAUC': [0.925,\n",
              "   0.9472,\n",
              "   0.9357638888888888,\n",
              "   0.7985739750445633,\n",
              "   0.9014778325123153],\n",
              "  'trainAccuracy': [0.86, 0.9, 0.88, 0.74, 0.76],\n",
              "  'trainLoss': [0.03679502382874489,\n",
              "   0.02972467988729477,\n",
              "   0.030581464990973473,\n",
              "   0.05469159781932831,\n",
              "   0.04718099907040596],\n",
              "  'tuneLoss': [0.08983348309993744,\n",
              "   0.07408870756626129,\n",
              "   0.07701148092746735,\n",
              "   0.05246501415967941,\n",
              "   0.05968058109283447]},\n",
              " {'testAUC': 0.769191160456556,\n",
              "  'testAccuracy': 0.7025,\n",
              "  'testLoss': 0.05964851379394531,\n",
              "  'trainAUC': 0.9016031392891535,\n",
              "  'trainAccuracy': 0.828,\n",
              "  'trainLoss': 0.03979475311934948,\n",
              "  'tuneLoss': 0.070615853369236})"
            ]
          },
          "metadata": {
            "tags": []
          },
          "execution_count": 108
        }
      ]
    },
    {
      "cell_type": "code",
      "metadata": {
        "id": "EDNkwRn5HwM6",
        "colab_type": "code",
        "colab": {
          "base_uri": "https://localhost:8080/",
          "height": 694
        },
        "outputId": "9cb6d18d-37e4-4d3e-a8cf-b34d1b773879"
      },
      "source": [
        "multi_runs(fine_tune=False, K=0.95, q_head_index=0, q_means_stds=q_mu_s, \n",
        "           use_last_linear=True, init_from_act_index=34,\n",
        "           learning_rate=0.01, weight_decay=0.0005, plots=False)"
      ],
      "execution_count": 109,
      "outputs": [
        {
          "output_type": "stream",
          "text": [
            "Train pass no. 1\n",
            "Train pass no. 2\n",
            "Train pass no. 3\n",
            "Train pass no. 4\n",
            "Train pass no. 5\n"
          ],
          "name": "stdout"
        },
        {
          "output_type": "execute_result",
          "data": {
            "text/plain": [
              "({'testAUC': [0.7694624652455977,\n",
              "   0.8248337595907927,\n",
              "   0.8124300681517648,\n",
              "   0.7965104001689367,\n",
              "   0.8487487865386689],\n",
              "  'testAccuracy': [0.61, 0.7675, 0.7375, 0.7475, 0.775],\n",
              "  'testLoss': [0.11215081810951233,\n",
              "   0.07271672785282135,\n",
              "   0.056875914335250854,\n",
              "   0.05969255790114403,\n",
              "   0.04754012078046799],\n",
              "  'trainAUC': [0.962059620596206,\n",
              "   1.0,\n",
              "   0.9295238095238095,\n",
              "   0.9618055555555556,\n",
              "   0.9833333333333334],\n",
              "  'trainAccuracy': [0.86, 0.98, 0.92, 0.82, 0.9],\n",
              "  'trainLoss': [0.028372040018439293,\n",
              "   0.019243409857153893,\n",
              "   0.032974474132061005,\n",
              "   0.03540046885609627,\n",
              "   0.03246229141950607],\n",
              "  'tuneLoss': [0.12373261153697968,\n",
              "   0.060958605259656906,\n",
              "   0.07308142632246017,\n",
              "   0.08058549463748932,\n",
              "   0.060368526726961136]},\n",
              " {'testAUC': 0.8103970959391521,\n",
              "  'testAccuracy': 0.7275,\n",
              "  'testLoss': 0.06979522779583931,\n",
              "  'trainAUC': 0.967344463801781,\n",
              "  'trainAccuracy': 0.8959999999999999,\n",
              "  'trainLoss': 0.029690536856651305,\n",
              "  'tuneLoss': 0.07974533289670944})"
            ]
          },
          "metadata": {
            "tags": []
          },
          "execution_count": 109
        }
      ]
    },
    {
      "cell_type": "code",
      "metadata": {
        "id": "C86bMWuAH74M",
        "colab_type": "code",
        "colab": {
          "base_uri": "https://localhost:8080/",
          "height": 694
        },
        "outputId": "9358f3fc-4c07-497c-b541-c6579f1994ed"
      },
      "source": [
        "multi_runs(fine_tune=False, K=0.95, q_head_index=0, q_means_stds=[[0,0,0], [1,1,1]], \n",
        "           use_last_linear=True, init_from_act_index=34,\n",
        "           learning_rate=0.01, weight_decay=0.0005, plots=False)"
      ],
      "execution_count": 110,
      "outputs": [
        {
          "output_type": "stream",
          "text": [
            "Train pass no. 1\n",
            "Train pass no. 2\n",
            "Train pass no. 3\n",
            "Train pass no. 4\n",
            "Train pass no. 5\n"
          ],
          "name": "stdout"
        },
        {
          "output_type": "execute_result",
          "data": {
            "text/plain": [
              "({'testAUC': [0.7526146103640796,\n",
              "   0.5945896877269427,\n",
              "   0.7550835148874364,\n",
              "   0.7966951747439552,\n",
              "   0.6848419318298836],\n",
              "  'testAccuracy': [0.7175, 0.54, 0.7, 0.7175, 0.6375],\n",
              "  'testLoss': [0.06425639241933823,\n",
              "   0.07532334327697754,\n",
              "   0.11996649205684662,\n",
              "   0.10264424979686737,\n",
              "   0.08122178167104721],\n",
              "  'trainAUC': [0.8701298701298702,\n",
              "   0.765625,\n",
              "   0.9904000000000001,\n",
              "   0.9461805555555556,\n",
              "   0.7783251231527093],\n",
              "  'trainAccuracy': [0.8, 0.76, 0.88, 0.88, 0.68],\n",
              "  'trainLoss': [0.044709257781505585,\n",
              "   0.05730096250772476,\n",
              "   0.018094198778271675,\n",
              "   0.02974756248295307,\n",
              "   0.06562159955501556],\n",
              "  'tuneLoss': [0.08781808614730835,\n",
              "   0.06935253739356995,\n",
              "   0.2592705488204956,\n",
              "   0.07122427970170975,\n",
              "   0.11129285395145416]},\n",
              " {'testAUC': 0.7167649839104594,\n",
              "  'testAccuracy': 0.6625,\n",
              "  'testLoss': 0.08868245184421539,\n",
              "  'trainAUC': 0.8701321097676271,\n",
              "  'trainAccuracy': 0.8,\n",
              "  'trainLoss': 0.043094716221094134,\n",
              "  'tuneLoss': 0.11979166120290756})"
            ]
          },
          "metadata": {
            "tags": []
          },
          "execution_count": 110
        }
      ]
    },
    {
      "cell_type": "code",
      "metadata": {
        "id": "gkNyZbBLIHV8",
        "colab_type": "code",
        "colab": {
          "base_uri": "https://localhost:8080/",
          "height": 625
        },
        "outputId": "a85fd74a-a163-430c-da0d-802fbca2035f"
      },
      "source": [
        "multi_runs(fine_tune=False, K=0.5, q_head_index=0, q_means_stds=q_mu_s, \n",
        "           use_last_linear=True, init_from_act_index=34,\n",
        "           learning_rate=0.01, weight_decay=0.0005, plots=False)"
      ],
      "execution_count": 111,
      "outputs": [
        {
          "output_type": "stream",
          "text": [
            "Train pass no. 1\n",
            "Train pass no. 2\n",
            "Train pass no. 3\n",
            "Train pass no. 4\n",
            "Train pass no. 5\n"
          ],
          "name": "stdout"
        },
        {
          "output_type": "execute_result",
          "data": {
            "text/plain": [
              "({'testAUC': [0.6257382333978078, 0.5, 0.6320043103448275, 0.5, 0.5],\n",
              "  'testAccuracy': [0.605, 0.5675, 0.58, 0.635, 0.585],\n",
              "  'testLoss': [0.06631014496088028,\n",
              "   0.0688510462641716,\n",
              "   0.07176155596971512,\n",
              "   0.06588596105575562,\n",
              "   0.06846720725297928],\n",
              "  'trainAUC': [0.785,\n",
              "   0.3557692307692308,\n",
              "   0.8095238095238095,\n",
              "   0.4000000000000001,\n",
              "   0.36111111111111105],\n",
              "  'trainAccuracy': [0.66, 0.52, 0.72, 0.6, 0.64],\n",
              "  'trainLoss': [0.062056612223386765,\n",
              "   0.0692453682422638,\n",
              "   0.0479121096432209,\n",
              "   0.06731388717889786,\n",
              "   0.06535253673791885],\n",
              "  'tuneLoss': [0.08478225767612457,\n",
              "   0.08133701235055923,\n",
              "   0.08145411312580109,\n",
              "   0.0823788270354271,\n",
              "   0.0765928253531456]},\n",
              " {'testAUC': 0.551548508748527,\n",
              "  'testAccuracy': 0.5945,\n",
              "  'testLoss': 0.06825518310070038,\n",
              "  'trainAUC': 0.5422808302808303,\n",
              "  'trainAccuracy': 0.628,\n",
              "  'trainLoss': 0.06237610280513763,\n",
              "  'tuneLoss': 0.08130900710821151})"
            ]
          },
          "metadata": {
            "tags": []
          },
          "execution_count": 111
        }
      ]
    },
    {
      "cell_type": "code",
      "metadata": {
        "id": "yRPVYsOXIOI7",
        "colab_type": "code",
        "colab": {
          "base_uri": "https://localhost:8080/",
          "height": 625
        },
        "outputId": "3e6d4e40-e3b7-474e-ff84-4576c09e67bc"
      },
      "source": [
        "multi_runs(fine_tune=False, K=0.5, q_head_index=0, q_means_stds=q_mu_s, \n",
        "           use_last_linear=True, init_from_act_index=None,\n",
        "           learning_rate=0.01, weight_decay=0.0005, plots=False)"
      ],
      "execution_count": 113,
      "outputs": [
        {
          "output_type": "stream",
          "text": [
            "Train pass no. 1\n",
            "Train pass no. 2\n",
            "Train pass no. 3\n",
            "Train pass no. 4\n",
            "Train pass no. 5\n"
          ],
          "name": "stdout"
        },
        {
          "output_type": "execute_result",
          "data": {
            "text/plain": [
              "({'testAUC': [0.6774869923118738,\n",
              "   0.8382871667185393,\n",
              "   0.4694270833333334,\n",
              "   0.8442786974713479,\n",
              "   0.8157291666666667],\n",
              "  'testAccuracy': [0.6775, 0.7375, 0.5725, 0.785, 0.755],\n",
              "  'testLoss': [0.07251473516225815,\n",
              "   0.05908678099513054,\n",
              "   0.07354000210762024,\n",
              "   0.06079702079296112,\n",
              "   0.12730401754379272],\n",
              "  'trainAUC': [1.0, 1.0, 0.8057142857142857, 1.0, 1.0],\n",
              "  'trainAccuracy': [0.94, 1.0, 0.72, 1.0, 1.0],\n",
              "  'trainLoss': [0.01984412595629692,\n",
              "   0.006265793461352587,\n",
              "   0.05153064429759979,\n",
              "   0.008897450752556324,\n",
              "   6.345896690618247e-05],\n",
              "  'tuneLoss': [0.05665118247270584,\n",
              "   0.1205177754163742,\n",
              "   0.07822347432374954,\n",
              "   0.0429522879421711,\n",
              "   0.19523631036281586]},\n",
              " {'testAUC': 0.7290418213003522,\n",
              "  'testAccuracy': 0.7055,\n",
              "  'testLoss': 0.07864851132035255,\n",
              "  'trainAUC': 0.9611428571428572,\n",
              "  'trainAccuracy': 0.932,\n",
              "  'trainLoss': 0.01732029468694236,\n",
              "  'tuneLoss': 0.09871620610356331})"
            ]
          },
          "metadata": {
            "tags": []
          },
          "execution_count": 113
        }
      ]
    },
    {
      "cell_type": "code",
      "metadata": {
        "id": "7HxO2zv1Kq-j",
        "colab_type": "code",
        "colab": {
          "base_uri": "https://localhost:8080/",
          "height": 625
        },
        "outputId": "dc32deec-3554-405d-b1e7-a9ac6e2a177b"
      },
      "source": [
        "multi_runs(fine_tune=False, K=0.95, q_head_index=0, q_means_stds=q_mu_s, \n",
        "           use_last_linear=True, init_from_act_index=None,\n",
        "           learning_rate=0.01, weight_decay=0.0005, plots=False)"
      ],
      "execution_count": 114,
      "outputs": [
        {
          "output_type": "stream",
          "text": [
            "Train pass no. 1\n",
            "Train pass no. 2\n",
            "Train pass no. 3\n",
            "Train pass no. 4\n",
            "Train pass no. 5\n"
          ],
          "name": "stdout"
        },
        {
          "output_type": "execute_result",
          "data": {
            "text/plain": [
              "({'testAUC': [0.820771001150748,\n",
              "   0.7318933333333333,\n",
              "   0.8628095722748507,\n",
              "   0.8583643026066166,\n",
              "   0.7261219792865362],\n",
              "  'testAccuracy': [0.75, 0.68, 0.795, 0.7925, 0.6625],\n",
              "  'testLoss': [0.06421355158090591,\n",
              "   0.11194369941949844,\n",
              "   0.06392784416675568,\n",
              "   0.06583256274461746,\n",
              "   0.0744662806391716],\n",
              "  'trainAUC': [1.0, 1.0, 1.0, 1.0, 1.0],\n",
              "  'trainAccuracy': [1.0, 1.0, 1.0, 1.0, 1.0],\n",
              "  'trainLoss': [0.002578325103968382,\n",
              "   0.0023219643626362085,\n",
              "   0.0023922764230519533,\n",
              "   0.0024932799860835075,\n",
              "   0.004318648017942905],\n",
              "  'tuneLoss': [0.06408543139696121,\n",
              "   0.04451474919915199,\n",
              "   0.10824717581272125,\n",
              "   0.12606698274612427,\n",
              "   0.14177194237709045]},\n",
              " {'testAUC': 0.7999920377304169,\n",
              "  'testAccuracy': 0.736,\n",
              "  'testLoss': 0.07607678771018982,\n",
              "  'trainAUC': 1.0,\n",
              "  'trainAccuracy': 1.0,\n",
              "  'trainLoss': 0.0028208987787365913,\n",
              "  'tuneLoss': 0.09693725630640984})"
            ]
          },
          "metadata": {
            "tags": []
          },
          "execution_count": 114
        }
      ]
    },
    {
      "cell_type": "code",
      "metadata": {
        "id": "eTRf8ChrLHNR",
        "colab_type": "code",
        "colab": {
          "base_uri": "https://localhost:8080/",
          "height": 625
        },
        "outputId": "10809299-79cd-4dde-f966-468477783f44"
      },
      "source": [
        "multi_runs(fine_tune=False, K=0.95, q_head_index=0, q_means_stds=q_mu_s, \n",
        "           use_last_linear=True, init_from_act_index=34,\n",
        "           learning_rate=0.1, weight_decay=0.0005, plots=False)"
      ],
      "execution_count": 115,
      "outputs": [
        {
          "output_type": "stream",
          "text": [
            "Train pass no. 1\n",
            "Train pass no. 2\n",
            "Train pass no. 3\n",
            "Train pass no. 4\n",
            "Train pass no. 5\n"
          ],
          "name": "stdout"
        },
        {
          "output_type": "execute_result",
          "data": {
            "text/plain": [
              "({'testAUC': [0.6188574858425324,\n",
              "   0.6511699507389164,\n",
              "   0.6255630630630631,\n",
              "   0.5930911533691609,\n",
              "   0.8116473749483258],\n",
              "  'testAccuracy': [0.5825, 0.615, 0.6575, 0.6125, 0.75],\n",
              "  'testLoss': [0.1295589655637741,\n",
              "   0.08068183809518814,\n",
              "   0.06292353570461273,\n",
              "   0.0890970528125763,\n",
              "   0.05521814525127411],\n",
              "  'trainAUC': [1.0, 1.0, 0.8423645320197044, 0.9750445632798573, 1.0],\n",
              "  'trainAccuracy': [1.0, 0.96, 0.74, 0.92, 0.96],\n",
              "  'trainLoss': [0.002316945930942893,\n",
              "   0.021039480343461037,\n",
              "   0.05347485467791557,\n",
              "   0.02702312357723713,\n",
              "   0.013313046656548977],\n",
              "  'tuneLoss': [0.11564882099628448,\n",
              "   0.09832269698381424,\n",
              "   0.08518502861261368,\n",
              "   0.1050223782658577,\n",
              "   0.058514554053545]},\n",
              " {'testAUC': 0.6600658055923997,\n",
              "  'testAccuracy': 0.6435000000000001,\n",
              "  'testLoss': 0.08349590748548508,\n",
              "  'trainAUC': 0.9634818190599124,\n",
              "  'trainAccuracy': 0.916,\n",
              "  'trainLoss': 0.023433490237221122,\n",
              "  'tuneLoss': 0.09253869578242302})"
            ]
          },
          "metadata": {
            "tags": []
          },
          "execution_count": 115
        }
      ]
    },
    {
      "cell_type": "code",
      "metadata": {
        "id": "IMBOoB0dLbcM",
        "colab_type": "code",
        "colab": {
          "base_uri": "https://localhost:8080/",
          "height": 625
        },
        "outputId": "e9f8d793-9edd-464b-f417-50b0bcfbc481"
      },
      "source": [
        "multi_runs(fine_tune=False, K=0.95, q_head_index=0, q_means_stds=q_mu_s, \n",
        "           use_last_linear=True, init_from_act_index=4,\n",
        "           learning_rate=0.1, weight_decay=0.0005, plots=False)"
      ],
      "execution_count": 117,
      "outputs": [
        {
          "output_type": "stream",
          "text": [
            "Train pass no. 1\n",
            "Train pass no. 2\n",
            "Train pass no. 3\n",
            "Train pass no. 4\n",
            "Train pass no. 5\n"
          ],
          "name": "stdout"
        },
        {
          "output_type": "execute_result",
          "data": {
            "text/plain": [
              "({'testAUC': [0.4875583616298812,\n",
              "   0.5603684932953226,\n",
              "   0.5,\n",
              "   0.7264018033248802,\n",
              "   0.5897973259762309],\n",
              "  'testAccuracy': [0.55, 0.575, 0.3825, 0.7025, 0.6225],\n",
              "  'testLoss': [0.08827588707208633,\n",
              "   0.07162626087665558,\n",
              "   6.174999713897705,\n",
              "   0.09538057446479797,\n",
              "   0.08188704401254654],\n",
              "  'trainAUC': [0.9500805152979066, 0.9622331691297208, 0.5, 1.0, 0.96],\n",
              "  'trainAccuracy': [0.84, 0.9, 0.38, 0.98, 0.94],\n",
              "  'trainLoss': [0.03287625312805176,\n",
              "   0.033768948167562485,\n",
              "   6.199999809265137,\n",
              "   0.008226421661674976,\n",
              "   0.023387528955936432],\n",
              "  'tuneLoss': [0.15499870479106903,\n",
              "   0.06846723705530167,\n",
              "   8.399999618530273,\n",
              "   0.11436572670936584,\n",
              "   0.12820696830749512]},\n",
              " {'testAUC': 0.572825196845263,\n",
              "  'testAccuracy': 0.5665,\n",
              "  'testLoss': 1.3024338960647583,\n",
              "  'trainAUC': 0.8744627368855256,\n",
              "  'trainAccuracy': 0.808,\n",
              "  'trainLoss': 1.2596517922356725,\n",
              "  'tuneLoss': 1.773207651078701})"
            ]
          },
          "metadata": {
            "tags": []
          },
          "execution_count": 117
        }
      ]
    },
    {
      "cell_type": "code",
      "metadata": {
        "id": "s2Bh1fGALcQ2",
        "colab_type": "code",
        "colab": {
          "base_uri": "https://localhost:8080/",
          "height": 625
        },
        "outputId": "9d290e3c-0c4d-4740-8de9-21be9bbbfdde"
      },
      "source": [
        "multi_runs(fine_tune=False, K=0.99, q_head_index=0, q_means_stds=q_mu_s, \n",
        "           use_last_linear=True, init_from_act_index=34,\n",
        "           learning_rate=0.1, weight_decay=0.0005, plots=False)"
      ],
      "execution_count": 118,
      "outputs": [
        {
          "output_type": "stream",
          "text": [
            "Train pass no. 1\n",
            "Train pass no. 2\n",
            "Train pass no. 3\n",
            "Train pass no. 4\n",
            "Train pass no. 5\n"
          ],
          "name": "stdout"
        },
        {
          "output_type": "execute_result",
          "data": {
            "text/plain": [
              "({'testAUC': [0.8329141311697092,\n",
              "   0.6919871038767005,\n",
              "   0.5624496478598716,\n",
              "   0.5552075993632402,\n",
              "   0.6513831696758525],\n",
              "  'testAccuracy': [0.7425, 0.6, 0.545, 0.5, 0.6475],\n",
              "  'testLoss': [0.08803754299879074,\n",
              "   0.10880590230226517,\n",
              "   0.08032785356044769,\n",
              "   0.11284294724464417,\n",
              "   0.10569707304239273],\n",
              "  'trainAUC': [1.0, 1.0, 0.7869269949066213, 0.9885057471264367, 1.0],\n",
              "  'trainAccuracy': [1.0, 1.0, 0.74, 0.96, 0.98],\n",
              "  'trainLoss': [0.0011589666828513145,\n",
              "   0.007331452798098326,\n",
              "   0.0491270050406456,\n",
              "   0.01544104516506195,\n",
              "   0.007958120666444302],\n",
              "  'tuneLoss': [0.07976274192333221,\n",
              "   0.1272801011800766,\n",
              "   0.10634607821702957,\n",
              "   0.0972849503159523,\n",
              "   0.09030703455209732]},\n",
              " {'testAUC': 0.6587883303890748,\n",
              "  'testAccuracy': 0.607,\n",
              "  'testLoss': 0.0991422638297081,\n",
              "  'trainAUC': 0.9550865484066116,\n",
              "  'trainAccuracy': 0.9359999999999999,\n",
              "  'trainLoss': 0.0162033180706203,\n",
              "  'tuneLoss': 0.1001961812376976})"
            ]
          },
          "metadata": {
            "tags": []
          },
          "execution_count": 118
        }
      ]
    },
    {
      "cell_type": "code",
      "metadata": {
        "id": "AbmCvdgrMbcp",
        "colab_type": "code",
        "colab": {
          "base_uri": "https://localhost:8080/",
          "height": 625
        },
        "outputId": "114d56fc-bb93-4bdb-9b39-c4e798479cd0"
      },
      "source": [
        "multi_runs(fine_tune=True, K=None, q_head_index=None, q_means_stds=q_mu_s, \n",
        "           use_last_linear=True, init_from_act_index=None,\n",
        "           learning_rate=0.1, weight_decay=0.0005, plots=False)"
      ],
      "execution_count": 119,
      "outputs": [
        {
          "output_type": "stream",
          "text": [
            "Train pass no. 1\n",
            "Train pass no. 2\n",
            "Train pass no. 3\n",
            "Train pass no. 4\n",
            "Train pass no. 5\n"
          ],
          "name": "stdout"
        },
        {
          "output_type": "execute_result",
          "data": {
            "text/plain": [
              "({'testAUC': [0.4947465437788018,\n",
              "   0.5,\n",
              "   0.5,\n",
              "   0.513583339857512,\n",
              "   0.4837848932676519],\n",
              "  'testAccuracy': [0.61, 0.58, 0.56, 0.6025, 0.5075],\n",
              "  'testLoss': [0.0674053356051445,\n",
              "   4.199999809265137,\n",
              "   4.400000095367432,\n",
              "   0.06802979856729507,\n",
              "   0.6365293264389038],\n",
              "  'trainAUC': [0.3863636363636364, 0.5, 0.5, 0.3872785829307569, 1.0],\n",
              "  'trainAccuracy': [0.56, 0.58, 0.7, 0.54, 1.0],\n",
              "  'trainLoss': [0.0685952827334404,\n",
              "   4.199999809265137,\n",
              "   3.0,\n",
              "   0.06899969279766083,\n",
              "   6.407623004633933e-05],\n",
              "  'tuneLoss': [0.08115255832672119,\n",
              "   5.199999809265137,\n",
              "   2.3999998569488525,\n",
              "   0.07682645320892334,\n",
              "   1.05329430103302]},\n",
              " {'testAUC': 0.4984229553807931,\n",
              "  'testAccuracy': 0.572,\n",
              "  'testLoss': 1.8743928730487824,\n",
              "  'trainAUC': 0.5547284438588787,\n",
              "  'trainAccuracy': 0.6759999999999999,\n",
              "  'trainLoss': 1.4675317722052568,\n",
              "  'tuneLoss': 1.7622545957565308})"
            ]
          },
          "metadata": {
            "tags": []
          },
          "execution_count": 119
        }
      ]
    },
    {
      "cell_type": "code",
      "metadata": {
        "id": "Rzhx0WPsM-Jl",
        "colab_type": "code",
        "colab": {
          "base_uri": "https://localhost:8080/",
          "height": 694
        },
        "outputId": "9ef740df-410b-48e4-a2be-deea9da26546"
      },
      "source": [
        "multi_runs(fine_tune=True, K=None, q_head_index=None, q_means_stds=q_mu_s, \n",
        "           use_last_linear=True, init_from_act_index=None,\n",
        "           learning_rate=0.1, weight_decay=0.0005, plots=False)"
      ],
      "execution_count": 121,
      "outputs": [
        {
          "output_type": "stream",
          "text": [
            "Train pass no. 1\n",
            "Train pass no. 2\n",
            "Train pass no. 3\n",
            "Train pass no. 4\n",
            "Train pass no. 5\n"
          ],
          "name": "stdout"
        },
        {
          "output_type": "execute_result",
          "data": {
            "text/plain": [
              "({'testAUC': [0.5069774613862404,\n",
              "   0.47904696238412614,\n",
              "   0.5121325183244688,\n",
              "   0.6140483183826837,\n",
              "   0.4435182980074621],\n",
              "  'testAccuracy': [0.585, 0.5725, 0.5175, 0.47, 0.48],\n",
              "  'testLoss': [0.07276777923107147,\n",
              "   0.06838060170412064,\n",
              "   0.3830075263977051,\n",
              "   0.1075957641005516,\n",
              "   0.07727602124214172],\n",
              "  'trainAUC': [0.5865874363327674,\n",
              "   0.5714285714285714,\n",
              "   1.0,\n",
              "   0.8060897435897436,\n",
              "   0.563301282051282],\n",
              "  'trainAccuracy': [0.56, 0.58, 0.98, 0.7, 0.64],\n",
              "  'trainLoss': [0.0628318265080452,\n",
              "   0.06780815124511719,\n",
              "   0.0020031295716762543,\n",
              "   0.05002676323056221,\n",
              "   0.06529764086008072],\n",
              "  'tuneLoss': [0.08729052543640137,\n",
              "   0.07584648579359055,\n",
              "   0.25307905673980713,\n",
              "   0.1024998351931572,\n",
              "   0.07730937749147415]},\n",
              " {'testAUC': 0.5111447116969963,\n",
              "  'testAccuracy': 0.5249999999999999,\n",
              "  'testLoss': 0.1418055385351181,\n",
              "  'trainAUC': 0.7054814066804729,\n",
              "  'trainAccuracy': 0.6920000000000001,\n",
              "  'trainLoss': 0.049593502283096315,\n",
              "  'tuneLoss': 0.11920505613088608})"
            ]
          },
          "metadata": {
            "tags": []
          },
          "execution_count": 121
        }
      ]
    },
    {
      "cell_type": "code",
      "metadata": {
        "id": "yHlE79fiNLbw",
        "colab_type": "code",
        "colab": {
          "base_uri": "https://localhost:8080/",
          "height": 625
        },
        "outputId": "72b92da2-03a7-42dd-c18f-671e3b7ef312"
      },
      "source": [
        "multi_runs(fine_tune=True, K=None, q_head_index=None, q_means_stds=q_mu_s, \n",
        "           use_last_linear=True, init_from_act_index=None,\n",
        "           learning_rate=0.01, weight_decay=0.0001, plots=False)"
      ],
      "execution_count": 126,
      "outputs": [
        {
          "output_type": "stream",
          "text": [
            "Train pass no. 1\n",
            "Train pass no. 2\n",
            "Train pass no. 3\n",
            "Train pass no. 4\n",
            "Train pass no. 5\n"
          ],
          "name": "stdout"
        },
        {
          "output_type": "execute_result",
          "data": {
            "text/plain": [
              "({'testAUC': [0.8031373767181795,\n",
              "   0.8275679117147707,\n",
              "   0.765932881773399,\n",
              "   0.8180254557963537,\n",
              "   0.8527954706298656],\n",
              "  'testAccuracy': [0.74, 0.78, 0.72, 0.7375, 0.785],\n",
              "  'testLoss': [0.12222526222467422,\n",
              "   0.14976026117801666,\n",
              "   0.1272013783454895,\n",
              "   0.11517591029405594,\n",
              "   0.10829062014818192],\n",
              "  'trainAUC': [1.0, 1.0, 1.0, 1.0, 1.0],\n",
              "  'trainAccuracy': [1.0, 1.0, 1.0, 1.0, 1.0],\n",
              "  'trainLoss': [3.612661748775281e-05,\n",
              "   0.0001716889819363132,\n",
              "   4.5609442167915404e-05,\n",
              "   3.601723801693879e-05,\n",
              "   2.9387227186816745e-05],\n",
              "  'tuneLoss': [0.12290343642234802,\n",
              "   0.18294183909893036,\n",
              "   0.19423751533031464,\n",
              "   0.05970530956983566,\n",
              "   0.11969821900129318]},\n",
              " {'testAUC': 0.8134918193265136,\n",
              "  'testAccuracy': 0.7525000000000001,\n",
              "  'testLoss': 0.12453068643808365,\n",
              "  'trainAUC': 1.0,\n",
              "  'trainAccuracy': 1.0,\n",
              "  'trainLoss': 6.376590135914739e-05,\n",
              "  'tuneLoss': 0.13589726388454437})"
            ]
          },
          "metadata": {
            "tags": []
          },
          "execution_count": 126
        }
      ]
    },
    {
      "cell_type": "code",
      "metadata": {
        "id": "XrrRp9kNOF0X",
        "colab_type": "code",
        "colab": {
          "base_uri": "https://localhost:8080/",
          "height": 625
        },
        "outputId": "c81e702e-5599-4fe0-e17f-5c721e570e0a"
      },
      "source": [
        "# Temporarily added dropout in the code (will not be able to reproduce)\n",
        "multi_runs(fine_tune=True, K=None, q_head_index=None, q_means_stds=q_mu_s, \n",
        "           use_last_linear=True, init_from_act_index=None,\n",
        "           learning_rate=0.005, weight_decay=0.0005, plots=False)"
      ],
      "execution_count": 130,
      "outputs": [
        {
          "output_type": "stream",
          "text": [
            "Train pass no. 1\n",
            "Train pass no. 2\n",
            "Train pass no. 3\n",
            "Train pass no. 4\n",
            "Train pass no. 5\n"
          ],
          "name": "stdout"
        },
        {
          "output_type": "execute_result",
          "data": {
            "text/plain": [
              "({'testAUC': [0.7992793955526876,\n",
              "   0.7850740711189127,\n",
              "   0.8039541759053955,\n",
              "   0.8336572890025576,\n",
              "   0.8473712934327817],\n",
              "  'testAccuracy': [0.7775, 0.7175, 0.76, 0.7775, 0.765],\n",
              "  'testLoss': [0.13031229376792908,\n",
              "   0.10789167881011963,\n",
              "   0.1365920454263687,\n",
              "   0.20121319591999054,\n",
              "   0.16124093532562256],\n",
              "  'trainAUC': [1.0, 0.9983896940418681, 1.0, 1.0, 1.0],\n",
              "  'trainAccuracy': [1.0, 0.96, 1.0, 1.0, 1.0],\n",
              "  'trainLoss': [0.0009359754621982574,\n",
              "   0.007983668707311153,\n",
              "   0.0012027123011648655,\n",
              "   0.0010768078500404954,\n",
              "   0.0030503899324685335],\n",
              "  'tuneLoss': [0.09233274310827255,\n",
              "   0.054200902581214905,\n",
              "   0.19584806263446808,\n",
              "   0.30205732583999634,\n",
              "   0.21459732949733734]},\n",
              " {'testAUC': 0.813867245002467,\n",
              "  'testAccuracy': 0.7595,\n",
              "  'testLoss': 0.1474500298500061,\n",
              "  'trainAUC': 0.9996779388083736,\n",
              "  'trainAccuracy': 0.992,\n",
              "  'trainLoss': 0.002849910850636661,\n",
              "  'tuneLoss': 0.17180727273225785})"
            ]
          },
          "metadata": {
            "tags": []
          },
          "execution_count": 130
        }
      ]
    },
    {
      "cell_type": "code",
      "metadata": {
        "id": "Su5YANhwOvBG",
        "colab_type": "code",
        "colab": {
          "base_uri": "https://localhost:8080/",
          "height": 625
        },
        "outputId": "3924c516-0114-4496-d73c-237b50be09e8"
      },
      "source": [
        "# Temporarily added dropout in the code (will not be able to reproduce)\n",
        "multi_runs(fine_tune=True, K=None, q_head_index=None, q_means_stds=q_mu_s, \n",
        "           use_last_linear=True, init_from_act_index=34,\n",
        "           learning_rate=0.005, weight_decay=0.0005, plots=False)"
      ],
      "execution_count": 131,
      "outputs": [
        {
          "output_type": "stream",
          "text": [
            "Train pass no. 1\n",
            "Train pass no. 2\n",
            "Train pass no. 3\n",
            "Train pass no. 4\n",
            "Train pass no. 5\n"
          ],
          "name": "stdout"
        },
        {
          "output_type": "execute_result",
          "data": {
            "text/plain": [
              "({'testAUC': [0.702785500978272,\n",
              "   0.8599755710907248,\n",
              "   0.7906640876853643,\n",
              "   0.7534694812966312,\n",
              "   0.7853019595661516],\n",
              "  'testAccuracy': [0.645, 0.7675, 0.7325, 0.6975, 0.72],\n",
              "  'testLoss': [0.13485755026340485,\n",
              "   0.11228759586811066,\n",
              "   0.1193864494562149,\n",
              "   0.14743559062480927,\n",
              "   0.10943439602851868],\n",
              "  'trainAUC': [1.0, 1.0, 1.0, 1.0, 0.9949066213921902],\n",
              "  'trainAccuracy': [0.98, 1.0, 0.98, 1.0, 0.98],\n",
              "  'trainLoss': [0.004431566689163446,\n",
              "   0.001344757853075862,\n",
              "   0.0034431852400302887,\n",
              "   0.0007841906044632196,\n",
              "   0.009738054126501083],\n",
              "  'tuneLoss': [0.0951336994767189,\n",
              "   0.023204084485769272,\n",
              "   0.07031336426734924,\n",
              "   0.22040671110153198,\n",
              "   0.08768835663795471]},\n",
              " {'testAUC': 0.7784393201234288,\n",
              "  'testAccuracy': 0.7125,\n",
              "  'testLoss': 0.12468031644821168,\n",
              "  'trainAUC': 0.9989813242784381,\n",
              "  'trainAccuracy': 0.9879999999999999,\n",
              "  'trainLoss': 0.00394835090264678,\n",
              "  'tuneLoss': 0.09934924319386482})"
            ]
          },
          "metadata": {
            "tags": []
          },
          "execution_count": 131
        }
      ]
    },
    {
      "cell_type": "markdown",
      "metadata": {
        "id": "4BXsLGpzDq6K",
        "colab_type": "text"
      },
      "source": [
        "### Results\n",
        "\n",
        "All runs use the following parameters\n",
        "\n",
        "```\n",
        "{'batch_size': 10,\n",
        " 'num_epochs': 100,\n",
        " 'num_run': 5,\n",
        " 'num_train': 50,\n",
        " 'num_tune': 25,\n",
        " 'num_val': 400,\n",
        " 'use_mnist': False,\n",
        " 'use_qnet_weights': True,\n",
        " 'val_batch_size': 10}\n",
        " ```\n",
        "\n",
        "| fine_tune      | q_head_index | norm_q_means | use_last_linear | init_from_act_index | K     | Optimiser | learning_rate | momentum | weight_decay | testAUC |\n",
        "|----------------|--------------|--------------|-----------------|---------------------|-------|-----------|---------------|----------|--------------|---------|\n",
        "| False          | None (fc3)   | True         | True            | Activation 34       | ~0.99 | Adam      | 0.000         | None     | 0.000        | 0.83    |\n",
        "| True           | None (fc3)   | True         | True            | None                | 1     | Adam      | 0.01          | None     | 0.001        | 0.83    |\n",
        "| True           | None (fc3)   | False        | True            | None                | 1     | Adam      | 0.01          | None     | 0.001        | 0.76    |\n",
        "| True           | None (fc3)   | True         | False           | None                | 1     | Adam      | 0.01          | None     | 0.001        | 0.68    |\n",
        "| True           | None (fc3)   | True         | False           | None                | 1     | Adam      | 0.005         | None     | 0.005        | 0.81    |\n",
        "| True           | 0            | True         | True            | None                | 1     | Adam      | 0.01          | None     | 0.005        | 0.76    |\n",
        "| True           | None (fc3)   | True         | True            | None                | 1     | Adam      | 0.1           | None     | 0.001        | 0.51    |\n",
        "| True           | None (fc3)   | True         | True            | None                | 1     | Adam      | 0.02          | None     | 0.02         | 0.71    |\n",
        "| False          | None (fc3)   | True         | True            | None                | 0.9   | Adam      | 0.01          | None     | 0.001        | 0.75    |\n",
        "| False          | None (fc3)   | True         | True            | None                | 0.6   | Adam      | 0.01          | None     | 0.001        | 0.67    |\n",
        "| False          | None (fc3)   | True         | True            | None                | 0.6   | Adam      | 0.001         | None     | 0.001        | 0.68    |\n",
        "| False          | None (fc3)   | True         | False           | None                | 0.9   | Adam      | 0.005         | None     | 0.001        | 0.4     |\n",
        "| False          | None (fc3)   | True         | True            | Activation 34       | 0.95  | Adam      | 0.01          | None     | 0.0001       | 0.77    |\n",
        "| False          | 0            | True         | True            | Activation 34       | 0.95  | Adam      | 0.01          | None     | 0.0005       | 0.81    |\n",
        "| False          | 0            | False        | True            | Activation 34       | 0.95  | Adam      | 0.01          | None     | 0.0005       | 0.71    |\n",
        "| False          | 0            | True         | True            | Activation 34       | 0.5   | Adam      | 0.01          | None     | 0.0005       | 0.55    |\n",
        "| False          | 0            | True         | True            | None                | 0.5   | SDG       | 0.1           | 0.9      | 0.0005       | 0.73    |\n",
        "| False          | 0            | True         | True            | None                | 0.95  | SDG       | 0.1           | 0.9      | 0.0005       | 0.79    |\n",
        "| False          | 0            | True         | True            | Activation 34       | 0.95  | SDG       | 0.1           | 0.9      | 0.0005       | 0.66    |\n",
        "| False          | 0            | True         | True            | Activation 4        | 0.95  | SDG       | 0.1           | 0.9      | 0.0005       | 0.57    |\n",
        "| False          | 0            | True         | True            | Activation 34       | 0.99  | SDG       | 0.1           | 0.9      | 0.0005       | 0.66    |\n",
        "| True           | None (fc3)   | True         | True            | None                | 1     | SDG       | 0.1           | 0.9      | 0.0005       | 0.5     |\n",
        "| True           | None (fc3)   | True         | True            | None                | 1     | Adam      | 0.1           | None     | 0.0005       | 0.51    |\n",
        "| True w/DropOut | None (fc3)   | True         | True            | None                | 1     | Adam      | 0.005         | None     | 0.0005       | 0.81    |\n",
        "| True w/DropOut | None (fc3)   | True         | True            | Activation 34       | 1     | Adam      | 0.005         | None     | 0.005        | 0.78    |"
      ]
    },
    {
      "cell_type": "markdown",
      "metadata": {
        "id": "hzVb5sW-U6Gs",
        "colab_type": "text"
      },
      "source": [
        "## Hyperparameters Tuning (not used)"
      ]
    },
    {
      "cell_type": "code",
      "metadata": {
        "id": "Sj4MIa8iZEf5",
        "colab_type": "code",
        "colab": {}
      },
      "source": [
        "def multi_runs_tune(config, reporter):\n",
        "\n",
        "    averaged_results = {}\n",
        "    tuning_losses = []\n",
        "    for run_ix in range(params['num_run']):\n",
        "        if params['fine_tune']:\n",
        "            K = None\n",
        "        else:\n",
        "            K = config['k']\n",
        "\n",
        "        model = PrefQNet(fine_tune=params['fine_tune'], k=K, \n",
        "                         q_head_index=None, q_means_stds=q_mu_s, use_last_linear=True, init_from_act_index=34).to(device)\n",
        "\n",
        "        if params['use_qnet_weights']:\n",
        "            load_weights(model)\n",
        "        \n",
        "        results = run_model(model, K, config['lr'], config['decay'], num_epochs=params['num_epochs'])\n",
        "\n",
        "        if reporter is not None:  # Hyperp-tuning pass\n",
        "            tuning_losses.append(results['tuneLoss'][-1])\n",
        "            reporter(timesteps_total=run_ix, mean_loss=sum(tuning_losses)/len(tuning_losses))\n",
        "\n",
        "def launch_tune():\n",
        "\n",
        "    space = {\n",
        "        \"k\": (0.05, 0.95), \n",
        "        \"lr\": (0.001, 0.1), \n",
        "        'decay': (0.0001, 0.05)\n",
        "    }\n",
        "\n",
        "    if params['fine_tune']:\n",
        "        space['k'] = (1, 1)\n",
        "\n",
        "    config = {\"num_samples\": params['num_tune_iters'], \"stop\": {\"timesteps_total\": params['num_run']}}\n",
        "\n",
        "    algo = BayesOptSearch(space, metric=\"mean_loss\", mode=\"min\", utility_kwargs={\n",
        "        \"kind\": \"ucb\", \"kappa\": 2.5, \"xi\": 0.0})\n",
        "\n",
        "    scheduler = AsyncHyperBandScheduler(metric=\"mean_loss\", mode=\"min\")\n",
        "\n",
        "    return tune.run(multi_runs_tune, resources_per_trial={'gpu': 1, 'cpu': 2}, verbose=1, \n",
        "                    name=\"tune_exp\", search_alg=algo, scheduler=scheduler, **config)"
      ],
      "execution_count": 0,
      "outputs": []
    }
  ]
}