{
  "nbformat": 4,
  "nbformat_minor": 0,
  "metadata": {
    "colab": {
      "name": "find-subnets-torch_ppo",
      "provenance": [],
      "collapsed_sections": []
    },
    "kernelspec": {
      "name": "python3",
      "display_name": "Python 3"
    },
    "accelerator": "GPU"
  },
  "cells": [
    {
      "cell_type": "markdown",
      "metadata": {
        "id": "QWwPhoB4VkHs"
      },
      "source": [
        "# Find subnets implemented using mnist"
      ]
    },
    {
      "cell_type": "markdown",
      "metadata": {
        "id": "O2PtbrFz01L5"
      },
      "source": [
        "## Imports"
      ]
    },
    {
      "cell_type": "code",
      "metadata": {
        "id": "cVH7LTvX00Y5",
        "outputId": "9d4c4497-65ad-4c94-9e22-caa28c3a39bf",
        "colab": {
          "base_uri": "https://localhost:8080/",
          "height": 139
        }
      },
      "source": [
        "!git clone https://github.com/arunraja-hub/Preference_Extraction.git"
      ],
      "execution_count": 1,
      "outputs": [
        {
          "output_type": "stream",
          "text": [
            "Cloning into 'Preference_Extraction'...\n",
            "remote: Enumerating objects: 198, done.\u001b[K\n",
            "remote: Counting objects: 100% (198/198), done.\u001b[K\n",
            "remote: Compressing objects: 100% (140/140), done.\u001b[K\n",
            "remote: Total 1198 (delta 134), reused 103 (delta 58), pack-reused 1000\u001b[K\n",
            "Receiving objects: 100% (1198/1198), 38.09 MiB | 23.62 MiB/s, done.\n",
            "Resolving deltas: 100% (448/448), done.\n"
          ],
          "name": "stdout"
        }
      ]
    },
    {
      "cell_type": "code",
      "metadata": {
        "id": "kFZkjgJt4W2H",
        "outputId": "93e3d65a-45d8-43c3-e6b3-ac69048bc318",
        "colab": {
          "base_uri": "https://localhost:8080/",
          "height": 364
        }
      },
      "source": [
        "!nvidia-smi"
      ],
      "execution_count": 2,
      "outputs": [
        {
          "output_type": "stream",
          "text": [
            "Tue Sep 29 13:52:06 2020       \n",
            "+-----------------------------------------------------------------------------+\n",
            "| NVIDIA-SMI 450.66       Driver Version: 418.67       CUDA Version: 10.1     |\n",
            "|-------------------------------+----------------------+----------------------+\n",
            "| GPU  Name        Persistence-M| Bus-Id        Disp.A | Volatile Uncorr. ECC |\n",
            "| Fan  Temp  Perf  Pwr:Usage/Cap|         Memory-Usage | GPU-Util  Compute M. |\n",
            "|                               |                      |               MIG M. |\n",
            "|===============================+======================+======================|\n",
            "|   0  Tesla T4            Off  | 00000000:00:04.0 Off |                    0 |\n",
            "| N/A   66C    P8    11W /  70W |      0MiB / 15079MiB |      0%      Default |\n",
            "|                               |                      |                 ERR! |\n",
            "+-------------------------------+----------------------+----------------------+\n",
            "                                                                               \n",
            "+-----------------------------------------------------------------------------+\n",
            "| Processes:                                                                  |\n",
            "|  GPU   GI   CI        PID   Type   Process name                  GPU Memory |\n",
            "|        ID   ID                                                   Usage      |\n",
            "|=============================================================================|\n",
            "|  No running processes found                                                 |\n",
            "+-----------------------------------------------------------------------------+\n"
          ],
          "name": "stdout"
        }
      ]
    },
    {
      "cell_type": "code",
      "metadata": {
        "id": "Yd-5ibD8Zsfl"
      },
      "source": [
        "## If you are running on Google Colab, please install TensorFlow 2.0 by uncommenting below..\n",
        "try:\n",
        "  # %tensorflow_version only exists in Colab.\n",
        "  %tensorflow_version 2.x\n",
        "except Exception:\n",
        "  pass"
      ],
      "execution_count": 3,
      "outputs": []
    },
    {
      "cell_type": "code",
      "metadata": {
        "id": "5xmOhgVIHOwh"
      },
      "source": [
        "from __future__ import print_function\n",
        "import argparse\n",
        "import os\n",
        "import math\n",
        "\n",
        "import numpy as np\n",
        "import pandas as pd\n",
        "import matplotlib.pyplot as plt\n",
        "from sklearn import metrics\n",
        "from sklearn.metrics import roc_curve, auc, roc_auc_score\n",
        "from sklearn.preprocessing import label_binarize\n",
        "import joblib\n",
        "\n",
        "import torch\n",
        "import torch.nn as nn\n",
        "import torch.nn.functional as F\n",
        "import torch.optim as optim\n",
        "import torchvision.transforms.functional as TF\n",
        "from torch.optim.lr_scheduler import CosineAnnealingLR\n",
        "from torchvision import datasets, transforms\n",
        "import torch.autograd as autograd\n",
        "from torchsummary import summary\n",
        "\n",
        "from sklearn.utils import shuffle\n",
        "import tensorflow as tf\n",
        "import concurrent.futures\n",
        "import itertools\n",
        "import os\n",
        "import random\n",
        "import sys\n",
        "import time\n",
        "import re\n",
        "import io\n",
        "import itertools\n",
        "import sys\n",
        "\n",
        "sys.path.append('Preference_Extraction')\n",
        "from imports_data import all_load_data"
      ],
      "execution_count": 4,
      "outputs": []
    },
    {
      "cell_type": "code",
      "metadata": {
        "id": "5hU3eIxdF6IH",
        "outputId": "eff94343-cdc7-4472-d036-f4bca74c8d7c",
        "colab": {
          "base_uri": "https://localhost:8080/",
          "height": 34
        }
      },
      "source": [
        "params = {}\n",
        "np.random.seed(0)\n",
        "torch.manual_seed(0)\n",
        "torch.backends.cudnn.deterministic = True\n",
        "torch.backends.cudnn.benchmark = False\n",
        "use_cuda = torch.cuda.is_available()\n",
        "device = torch.device(\"cuda\" if use_cuda else \"cpu\")\n",
        "device"
      ],
      "execution_count": 5,
      "outputs": [
        {
          "output_type": "execute_result",
          "data": {
            "text/plain": [
              "device(type='cuda')"
            ]
          },
          "metadata": {
            "tags": []
          },
          "execution_count": 5
        }
      ]
    },
    {
      "cell_type": "markdown",
      "metadata": {
        "id": "uIHGI0a71NVI"
      },
      "source": [
        "## Load Data"
      ]
    },
    {
      "cell_type": "code",
      "metadata": {
        "id": "dAN7OYeaDMk5"
      },
      "source": [
        "# Data source options, choices: 'mnist', 'grid' and 'doom'\n",
        "params['env'] = 'doom' "
      ],
      "execution_count": 6,
      "outputs": []
    },
    {
      "cell_type": "code",
      "metadata": {
        "id": "-XVXv9cXDeL2",
        "outputId": "5da4ce1b-9a17-41ee-ad9e-1e81bd491017",
        "colab": {
          "base_uri": "https://localhost:8080/",
          "height": 69
        }
      },
      "source": [
        "# Load doom data from GCP storage, run only if env == doom\n",
        "# Requires GCP authentication\n",
        "from google.colab import auth\n",
        "auth.authenticate_user()\n",
        "!gsutil cp gs://pref-extr-data/agentv29/experienceData.pkl experienceData.pkl"
      ],
      "execution_count": 7,
      "outputs": [
        {
          "output_type": "stream",
          "text": [
            "Copying gs://pref-extr-data/agentv29/experienceData.pkl...\n",
            "| [1 files][  1.3 GiB/  1.3 GiB]   66.2 MiB/s                                   \n",
            "Operation completed over 1 objects/1.3 GiB.                                      \n"
          ],
          "name": "stdout"
        }
      ]
    },
    {
      "cell_type": "code",
      "metadata": {
        "id": "bSOw_1tcDWJt",
        "outputId": "1edb2f1a-30ef-4fe4-8d80-832362876600",
        "colab": {
          "base_uri": "https://localhost:8080/",
          "height": 52
        }
      },
      "source": [
        "# Data Loader\n",
        "xs = []\n",
        "ys = []\n",
        "\n",
        "if params['env'] == 'grid':\n",
        "    # original pref extraction data\n",
        "    all_raw_data = all_load_data(\"Preference_Extraction/data/simple_env_1/\")\n",
        "    for data in all_raw_data:\n",
        "        for i in range(data.observation.shape[0]):\n",
        "            x = np.copy(data.observation[i])\n",
        "            y = (data.policy_info['satisfaction'].as_list()[i] > -6).astype(int)\n",
        "\n",
        "            xs.append(x)\n",
        "            ys.append(y)\n",
        "\n",
        "    ys = np.array(ys).astype(int)\n",
        "    xs = np.rollaxis(np.array(xs), 3, 1) # Torch wants channel-first\n",
        "\n",
        "elif params['env'] == 'doom':\n",
        "    all_raw_data = joblib.load('/content/experienceData.pkl')\n",
        "    for data in all_raw_data:\n",
        "        for i in range(data.observation.shape[0]):\n",
        "            x = np.copy(data.observation[i])\n",
        "            label_object = data.policy_info['satisfaction'][i]\n",
        "            if len(label_object) == 0: # When label is empty, i.e. human is dead, skip frame\n",
        "                continue\n",
        "            else:\n",
        "                y = label_object['object_angle'] < 90 or label_object['object_angle'] > 270\n",
        "\n",
        "            xs.append(x)\n",
        "            ys.append(y)\n",
        "    \n",
        "    ys = np.array(ys).astype(int)\n",
        "    xs = np.rollaxis(np.array(xs), 3, 1) # Torch wants channel-first\n",
        "\n",
        "elif params['env'] == 'mnist':\n",
        "    mnist_choice = 3 # Change this value to do binary classification against other mnist digit\n",
        "    (mnist_xs, mnist_ys), _ = tf.keras.datasets.mnist.load_data()\n",
        "    for ix, label in enumerate(mnist_ys):\n",
        "        x = np.copy(mnist_xs[ix])\n",
        "        y = (label == mnist_choice).astype(int)\n",
        "\n",
        "        xs.append(x)\n",
        "        ys.append(y)\n",
        "\n",
        "    ys = np.array(ys).astype(int)\n",
        "    xs = np.array(xs) # Mnist has no channels\n",
        "\n",
        "else:\n",
        "    print('Invalid enviroment choice!!')\n",
        "\n",
        "print(\"xs\", xs.shape, \"ys\", ys.shape)\n",
        "print(\"ys 1\", np.sum(ys))"
      ],
      "execution_count": 11,
      "outputs": [
        {
          "output_type": "stream",
          "text": [
            "xs (7830, 6, 60, 100) ys (7830,)\n",
            "ys 1 1828\n"
          ],
          "name": "stdout"
        }
      ]
    },
    {
      "cell_type": "code",
      "metadata": {
        "id": "JmNMl0RHdBSe",
        "outputId": "0c4242d8-2251-4434-f80b-903a5a722202",
        "colab": {
          "base_uri": "https://localhost:8080/",
          "height": 52
        }
      },
      "source": [
        "# Rebalancing data to minority class\n",
        "points = xs\n",
        "labels = ys\n",
        "\n",
        "# indexes of 1s and 0s\n",
        "indexes1 = [i for i in range(len(points)) if labels[i] == 1]\n",
        "indexes0 = [i for i in range(len(points)) if labels[i] == 0]\n",
        "\n",
        "# separate 0s and 1s\n",
        "x0, x1, y0, y1 = points[indexes0], points[indexes1], labels[indexes0], labels[indexes1]\n",
        "\n",
        "minority_points, minority_labels = x1, y1  # points and labels for the minority class\n",
        "majority_points, majority_labels = x0, y0  # points and labels for the majority class\n",
        "\n",
        "# get a random permutation of indexes of the majority that includes a number of indexes equal to the minority\n",
        "sample_ind = np.random.permutation(len(majority_labels))[:len(minority_labels)]\n",
        "\n",
        "# subsample the majority\n",
        "majority_points, majority_labels = majority_points[sample_ind], majority_labels[sample_ind]\n",
        "\n",
        "# concat the minority and the sub-sampled majority\n",
        "xs = np.concatenate((majority_points, minority_points))\n",
        "ys = np.concatenate((majority_labels, minority_labels))\n",
        "\n",
        "print(\"xs\", xs.shape, \"ys\", ys.shape)\n",
        "print(\"ys 1\", np.sum(ys))\n",
        "xs, ys = shuffle(xs, ys)"
      ],
      "execution_count": 12,
      "outputs": [
        {
          "output_type": "stream",
          "text": [
            "xs (3656, 6, 60, 100) ys (3656,)\n",
            "ys 1 1828\n"
          ],
          "name": "stdout"
        }
      ]
    },
    {
      "cell_type": "markdown",
      "metadata": {
        "id": "Y1R6bB1u1B-l"
      },
      "source": [
        "## Nets and Subnets Architectures"
      ]
    },
    {
      "cell_type": "code",
      "metadata": {
        "id": "fzdNqZBANfjh"
      },
      "source": [
        "\"\"\"\n",
        "    Original code from What's hidden in a randomly weighted neural network? paper\n",
        "    Implemented at https://github.com/allenai/hidden-networks\n",
        "    Remove weigths-initialisation since it is not relevant for us\n",
        "\"\"\"\n",
        "\n",
        "class GetSubnet(autograd.Function):\n",
        "    @staticmethod\n",
        "    def forward(ctx, scores, k):\n",
        "        # Get the supermask by sorting the scores and using the top k%\n",
        "        out = scores.clone()\n",
        "        _, idx = scores.flatten().sort()\n",
        "        j = int((1 - k) * scores.numel())\n",
        "\n",
        "        # flat_out and out access the same memory.\n",
        "        flat_out = out.flatten()\n",
        "        flat_out[idx[:j]] = 0\n",
        "        flat_out[idx[j:]] = 1\n",
        "\n",
        "        return out\n",
        "\n",
        "    @staticmethod\n",
        "    def backward(ctx, g):\n",
        "        # send the gradient g straight-through on the backward pass.\n",
        "        return g, None\n",
        "\n",
        "class SupermaskConv(nn.Conv2d):\n",
        "    def __init__(self, *args, k, scores_init='kaiming_uniform', **kwargs):\n",
        "        super().__init__(*args, **kwargs)\n",
        "        self.k = k\n",
        "        self.scores_init = scores_init\n",
        "\n",
        "        # initialize the scores\n",
        "        self.scores = nn.Parameter(torch.Tensor(self.weight.size()))\n",
        "        if self.scores_init == 'kaiming_normal':\n",
        "          nn.init.kaiming_normal_(self.scores)\n",
        "        elif self.scores_init == 'kaiming_uniform':\n",
        "          nn.init.kaiming_uniform_(self.scores, a=math.sqrt(5))\n",
        "        elif self.scores_init == 'xavier_normal':\n",
        "          nn.init.xavier_normal_(self.scores)\n",
        "        elif self.scores_init == 'best_activation':\n",
        "          nn.init.ones_(self.scores)\n",
        "        else:\n",
        "          nn.init.uniform_(self.scores)\n",
        "\n",
        "        # initialize the weights\n",
        "        nn.init.uniform_(self.weight)\n",
        "        \n",
        "        # NOTE: turn the gradient on the weights off\n",
        "        self.weight.requires_grad = False\n",
        "\n",
        "    def forward(self, x):\n",
        "        subnet = GetSubnet.apply(self.scores.abs(), self.k)\n",
        "        w = self.weight * subnet\n",
        "        x = F.conv2d(\n",
        "            x, w, self.bias, self.stride, self.padding, self.dilation, self.groups\n",
        "        )\n",
        "        return x\n",
        "\n",
        "class SupermaskLinear(nn.Linear):\n",
        "    def __init__(self, *args, k, scores_init='kaiming_uniform', **kwargs):\n",
        "        super().__init__(*args, **kwargs)\n",
        "        self.k = k\n",
        "        self.scores_init = scores_init\n",
        "\n",
        "        # initialize the scores and weights\n",
        "        self.scores = nn.Parameter(torch.Tensor(self.weight.size()))\n",
        "        if self.scores_init == 'kaiming_normal':\n",
        "          nn.init.kaiming_normal_(self.scores)\n",
        "        elif self.scores_init == 'kaiming_uniform':\n",
        "          nn.init.kaiming_uniform_(self.scores, a=math.sqrt(5))\n",
        "        elif self.scores_init == 'xavier_normal':\n",
        "          nn.init.xavier_normal_(self.scores)\n",
        "        elif self.scores_init == 'best_activation':\n",
        "          nn.init.ones_(self.scores)\n",
        "        else:\n",
        "          nn.init.uniform_(self.scores)\n",
        "\n",
        "        nn.init.uniform_(self.weight)\n",
        "\n",
        "        # NOTE: turn the gradient on the weights off\n",
        "        self.weight.requires_grad = False\n",
        "\n",
        "    def forward(self, x):\n",
        "        subnet = GetSubnet.apply(self.scores.abs(), self.k)\n",
        "        w = self.weight * subnet\n",
        "        return F.linear(x, w, self.bias)\n",
        "        return x\n",
        "\n",
        "# NOTE: not used here but we use NON-AFFINE Normalization!\n",
        "# So there is no learned parameters for your nomralization layer.\n",
        "class NonAffineBatchNorm(nn.BatchNorm2d):\n",
        "    def __init__(self, dim):\n",
        "        super(NonAffineBatchNorm, self).__init__(dim, affine=False)"
      ],
      "execution_count": 20,
      "outputs": []
    },
    {
      "cell_type": "code",
      "metadata": {
        "id": "MLgKTR1sqhB-"
      },
      "source": [
        "class PrefQNet(nn.Module):\n",
        "    \"\"\"\n",
        "      If q_head_index is None, this uses a linear model on the normalized q outputs.\n",
        "      Otherwise, it gets the Q head with the specified index.\n",
        "    \"\"\" \n",
        "    def __init__(self, fine_tune, k, q_head_index, means_stds, use_last_linear, init_from_act_index=None):\n",
        "        super(PrefQNet, self).__init__()\n",
        "        \n",
        "        if not params['use_mnist']:\n",
        "            channels_in = 5\n",
        "            flattened_shape = 960\n",
        "        else:\n",
        "            channels_in = 1\n",
        "            flattened_shape = 4608\n",
        "\n",
        "        if fine_tune:\n",
        "            conv_layer = nn.Conv2d\n",
        "            dense_layer = nn.Linear\n",
        "            additional_args = {}\n",
        "            init_from_act_index = None\n",
        "        else:\n",
        "            conv_layer = SupermaskConv\n",
        "            dense_layer = SupermaskLinear\n",
        "            additional_args = {'k': k}\n",
        "            if init_from_act_index is not None:\n",
        "                additional_args['scores_init'] = 'best_activation'\n",
        "        \n",
        "        self.conv1 = conv_layer(in_channels=channels_in, out_channels=16, kernel_size=3, stride=1, bias=True, **additional_args)\n",
        "        self.conv2 = conv_layer(in_channels=16, out_channels=32, kernel_size=3, stride=2, bias=True, **additional_args)\n",
        "        self.fc1 = dense_layer(in_features=flattened_shape, out_features=64, bias=True, **additional_args)\n",
        "        self.fc2 = dense_layer(in_features=64, out_features=3, bias=True, **additional_args)\n",
        "        \n",
        "        if init_from_act_index is not None:\n",
        "            init_scores = np.zeros((3, 64))\n",
        "            init_scores[:, init_from_act_index] = 1.0\n",
        "            self.fc2.scores.data = torch.from_numpy(init_scores).float()\n",
        "\n",
        "        self.fc3 = dense_layer(in_features=3, out_features=1, bias=True, **additional_args)\n",
        "        self.linear = nn.Linear(1, 1, bias=True)\n",
        "\n",
        "        self.qix = q_head_index\n",
        "        self.mu_s = means_stds\n",
        "        self.use_last_linear = use_last_linear\n",
        "\n",
        "    def fwd_conv1(self, x):\n",
        "        x = self.conv1(x)\n",
        "        return F.relu(x)\n",
        "\n",
        "    def fwd_conv2(self, x):\n",
        "        x = self.fwd_conv1(x)\n",
        "        x = self.conv2(x)\n",
        "        return F.relu(x)\n",
        "\n",
        "    def fwd_flat(self, x):\n",
        "        x = self.fwd_conv2(x)\n",
        "        return torch.flatten(torch.transpose(x, 1, 3), 1) # Pre-flattening transpose is necessary for TF-Torch conversion\n",
        "\n",
        "    def fwd_fc1(self, x):\n",
        "        x = self.fwd_flat(x)\n",
        "        x = self.fc1(x)\n",
        "        return F.relu(x)\n",
        "    \n",
        "    def fwd_fc2(self, x):\n",
        "        x = self.fwd_fc1(x)\n",
        "        return self.fc2(x)\n",
        "\n",
        "    def forward(self, x):\n",
        "        x = self.fwd_fc2(x)\n",
        "\n",
        "        x -= torch.tensor(self.mu_s[0], device=device)\n",
        "        x /= torch.tensor(self.mu_s[1], device=device)\n",
        "\n",
        "        if self.qix == None:\n",
        "          x = self.fc3(x)\n",
        "        else:\n",
        "          x = x[: ,self.qix:self.qix+1]\n",
        "\n",
        "        if self.use_last_linear:\n",
        "          x = self.linear(x)\n",
        "\n",
        "        x = torch.sigmoid(x)\n",
        "        return x.flatten()\n",
        "\n",
        "    def layer_to_norm(self, x):\n",
        "        return self.fwd_fc2(x)\n",
        "\n",
        "    def load_weights(self, original_weights):\n",
        "        if not params['use_mnist']:\n",
        "            self.conv1.weight.data = torch.from_numpy(np.transpose(original_weights[0]))\n",
        "            self.fc1.weight.data = torch.from_numpy(np.transpose(original_weights[4]))\n",
        "        else:\n",
        "            self.conv1.weight.data = torch.from_numpy(np.transpose(original_weights[0][:,:,:1,:]))\n",
        "            mnist_flt_weights = np.random.rand(64, 4608)\n",
        "            mnist_flt_weights[:, :original_weights[4].shape[0]] = np.transpose(original_weights[4])\n",
        "            mnist_flt_weights = mnist_flt_weights.astype(np.float32)\n",
        "            self.fc1.weight.data = torch.from_numpy(mnist_flt_weights)\n",
        "\n",
        "        self.conv1.bias.data = torch.from_numpy(original_weights[1])\n",
        "        self.conv2.weight.data = torch.from_numpy(np.transpose(original_weights[2]))\n",
        "        self.conv2.bias.data = torch.from_numpy(original_weights[3])\n",
        "        self.fc1.bias.data = torch.from_numpy(original_weights[5])\n",
        "        self.fc2.weight.data = torch.from_numpy(np.transpose(original_weights[6]))\n",
        "        self.fc2.bias.data = torch.from_numpy(original_weights[7])\n",
        "        self.fc3.weight.data = torch.from_numpy(np.ones(shape=[1,3], dtype=np.float32))\n",
        "        self.fc3.bias.data = torch.from_numpy(np.zeros(shape=[1], dtype=np.float32))\n",
        "        self.to(device)"
      ],
      "execution_count": 31,
      "outputs": []
    },
    {
      "cell_type": "code",
      "metadata": {
        "id": "22d-UaZtMPMT"
      },
      "source": [
        "class PPOMaskNet(nn.Module):\n",
        "    \"\"\"\n",
        "    A simple torch network to apply supermask techniques on Doom Agent\n",
        "    \"\"\" \n",
        "    def __init__(self, fine_tune, k, use_last_linear,\n",
        "                 means_stds=[[0, 0, 0], [1, 1, 1]],\n",
        "                 dropout=None,\n",
        "                 init_from_act_index=None):\n",
        "        super(PPOMaskNet, self).__init__()\n",
        "        \n",
        "        if fine_tune:\n",
        "            conv_layer = nn.Conv2d\n",
        "            dense_layer = nn.Linear\n",
        "            additional_args = {}\n",
        "            init_from_act_index = None\n",
        "        else:\n",
        "            conv_layer = SupermaskConv\n",
        "            dense_layer = SupermaskLinear\n",
        "            additional_args = {'k': k}\n",
        "            if init_from_act_index is not None:\n",
        "                additional_args['scores_init'] = 'best_activation'\n",
        "        \n",
        "        self.fc1 = dense_layer(in_features=36000, out_features=200, bias=True, **additional_args)\n",
        "        self.fc2 = dense_layer(in_features=200, out_features=100, bias=True, **additional_args)\n",
        "        #self.fc3 = dense_layer(in_features=100, out_features=4, bias=True, **additional_args)\n",
        "        #self.fc4 = dense_layer(in_features=4, out_features=1, bias=True, **additional_args)\n",
        "        self.drop = None\n",
        "        if dropout is not None:\n",
        "            self.drop = nn.Dropout(p=dropout)\n",
        "        self.linear = nn.Linear(100, 1, bias=True)\n",
        "        self.use_last_linear = use_last_linear\n",
        "\n",
        "        self.mu_s = means_stds\n",
        "\n",
        "    def fwd_flat(self, x):\n",
        "        return torch.flatten(torch.transpose(x, 1, 3), 1) # Pre-flattening transpose is necessary for TF-Torch conversion\n",
        "\n",
        "    def fwd_fc1(self, x):\n",
        "        x = self.fwd_flat(x)\n",
        "        x = self.fc1(x)\n",
        "        return F.relu(x)\n",
        "    \n",
        "    def fwd_fc2(self, x):\n",
        "        x = self.fwd_fc1(x)\n",
        "        x = self.fc2(x)\n",
        "        return F.relu(x)\n",
        "\n",
        "    def fwd_fc3(self, x):\n",
        "        x = self.fwd_fc2(x)\n",
        "        return self.fc3(x)\n",
        "\n",
        "    def fwd_fc4(self, x):\n",
        "        x = self.fwd_fc3(x)\n",
        "        return self.fc4(x)\n",
        "\n",
        "    def forward(self, x):\n",
        "        x = self.fwd_fc2(x)\n",
        "\n",
        "        x -= torch.tensor(self.mu_s[0], device=device)\n",
        "        x /= torch.tensor(self.mu_s[1], device=device)\n",
        "\n",
        "        if self.use_last_linear:\n",
        "            if self.drop is not None:\n",
        "                x = self.drop(x)\n",
        "            x = self.linear(x)\n",
        "\n",
        "        x = torch.sigmoid(x)\n",
        "        return x.flatten()\n",
        "\n",
        "    def layer_to_norm(self, x):\n",
        "        return self.fwd_fc2(x)\n",
        "\n",
        "    def load_weights(self, original_weights):\n",
        "        self.fc1.weight.data = torch.from_numpy(np.transpose(original_weights[0]))\n",
        "        self.fc1.bias.data = torch.from_numpy(original_weights[1])\n",
        "        self.fc2.weight.data = torch.from_numpy(np.transpose(original_weights[2]))\n",
        "        self.fc2.bias.data = torch.from_numpy(original_weights[3])\n",
        "        #self.fc3.weight.data = torch.from_numpy(np.transpose(original_weights[4]))\n",
        "        #self.fc3.bias.data = torch.from_numpy(original_weights[5])\n",
        "        #self.fc4.weight.data = torch.from_numpy(np.ones(shape=[1, 4], dtype=np.float32))\n",
        "        #self.fc4.bias.data = torch.from_numpy(np.zeros(shape=[1], dtype=np.float32))\n",
        "        self.to(device)"
      ],
      "execution_count": 78,
      "outputs": []
    },
    {
      "cell_type": "markdown",
      "metadata": {
        "id": "wpSHf83VSgoJ"
      },
      "source": [
        "## Loading Weights"
      ]
    },
    {
      "cell_type": "code",
      "metadata": {
        "id": "9Bmgjet_cJ7m",
        "outputId": "1c0a5f4e-1138-4cff-8060-15d176b290b6",
        "colab": {
          "base_uri": "https://localhost:8080/",
          "height": 69
        }
      },
      "source": [
        "!gsutil cp gs://pref-extr-data/agentv29/actorNet.keras actorNet.keras"
      ],
      "execution_count": 23,
      "outputs": [
        {
          "output_type": "stream",
          "text": [
            "Copying gs://pref-extr-data/agentv29/actorNet.keras...\n",
            "/ [1 files][ 27.6 MiB/ 27.6 MiB]                                                \n",
            "Operation completed over 1 objects/27.6 MiB.                                     \n"
          ],
          "name": "stdout"
        }
      ]
    },
    {
      "cell_type": "code",
      "metadata": {
        "id": "DD-16xFHSi5r"
      },
      "source": [
        "# Shortlisting different agents\n",
        "dqn_grid_path = \"Preference_Extraction/saved_model2\"\n",
        "ppo_doom_path = \"/content/actorNet.keras\""
      ],
      "execution_count": 54,
      "outputs": []
    },
    {
      "cell_type": "code",
      "metadata": {
        "id": "DduBU77wPgSI"
      },
      "source": [
        "# Choose agent to use\n",
        "model_path = ppo_doom_path\n",
        "params['agent_path'] = model_path"
      ],
      "execution_count": 55,
      "outputs": []
    },
    {
      "cell_type": "code",
      "metadata": {
        "id": "ml_EV0Y_KrHR",
        "outputId": "6dd70504-b7d1-4fda-9c30-0182dc14c13f",
        "colab": {
          "base_uri": "https://localhost:8080/",
          "height": 312
        }
      },
      "source": [
        "restored_model = tf.keras.models.load_model(model_path)\n",
        "restored_model.summary()\n",
        "original_weights = restored_model.get_weights()"
      ],
      "execution_count": 56,
      "outputs": [
        {
          "output_type": "stream",
          "text": [
            "WARNING:tensorflow:No training configuration found in the save file, so the model was *not* compiled. Compile it manually.\n",
            "Model: \"sequential\"\n",
            "_________________________________________________________________\n",
            "Layer (type)                 Output Shape              Param #   \n",
            "=================================================================\n",
            "flatten (Flatten)            (1, 36000)                0         \n",
            "_________________________________________________________________\n",
            "dense (Dense)                (1, 200)                  7200200   \n",
            "_________________________________________________________________\n",
            "dense_1 (Dense)              (1, 100)                  20100     \n",
            "_________________________________________________________________\n",
            "logits (Dense)               (1, 4)                    404       \n",
            "=================================================================\n",
            "Total params: 7,220,704\n",
            "Trainable params: 7,220,704\n",
            "Non-trainable params: 0\n",
            "_________________________________________________________________\n"
          ],
          "name": "stdout"
        }
      ]
    },
    {
      "cell_type": "code",
      "metadata": {
        "id": "AwWx3ioNqhhC"
      },
      "source": [
        "if params['env'] != 'doom':\n",
        "    test_model = PrefQNet(k=1, fine_tune=False, q_head_index=None, q_means_stds=[[0, 0, 0], [1, 1, 1]], use_last_linear=True).to(device)\n",
        "else:\n",
        "    test_model = PPOMaskNet(k=1, fine_tune=False, use_last_linear=True).to(device)\n",
        "\n",
        "test_model.load_weights(original_weights)"
      ],
      "execution_count": 57,
      "outputs": []
    },
    {
      "cell_type": "code",
      "metadata": {
        "id": "_i1akicOSL3n"
      },
      "source": [
        "# Testing that weigths loaded property\n",
        "# Change this list to test different torch models\n",
        "torch_model_layers = [test_model.fwd_fc1, \n",
        "                      test_model.fwd_fc2,\n",
        "                      test_model.fwd_fc3]\n",
        "\n",
        "def check_same(torch_layer, tf_layer):\n",
        "    torch_out = np.transpose(torch_layer(single_observation_torch).detach().cpu().numpy())\n",
        "    torch_out = torch_out.reshape(torch_out.shape[:-1])\n",
        "    tf_out = tf_layer(single_observation)[0].numpy()\n",
        "    np.testing.assert_allclose(torch_out, tf_out, rtol=.1, atol=5)  \n",
        "\n",
        "for i in range(100):\n",
        "    single_observation = np.array([xs[i]])\n",
        "    single_observation_torch = torch.Tensor(np.array([np.transpose(xs[i])]))\n",
        "    single_observation_torch = single_observation_torch.to(device)\n",
        "    \n",
        "    index_shift = 0\n",
        "    for ix, original_lyr in enumerate(restored_model.layers):\n",
        "        if ix < len(torch_model_layers):\n",
        "            if original_lyr.name == 'flatten':\n",
        "                index_shift = 1\n",
        "            else:\n",
        "                tf_sub_model = tf.keras.models.Model(inputs=restored_model.input, outputs=original_lyr.output)\n",
        "                check_same(torch_model_layers[ix-index_shift], tf_sub_model)"
      ],
      "execution_count": 59,
      "outputs": []
    },
    {
      "cell_type": "markdown",
      "metadata": {
        "id": "cjzhnnt9UqBB"
      },
      "source": [
        "### Data getters"
      ]
    },
    {
      "cell_type": "code",
      "metadata": {
        "id": "fv8Z2oPJb270"
      },
      "source": [
        "params['num_train'] = 50\n",
        "params['num_val'] = 500\n",
        "params['batch_size'] = 16\n",
        "\n",
        "def get_data_sample(xs=None, ys=None):\n",
        "    xs, ys = shuffle(xs, ys)\n",
        "    \n",
        "    train_split = params['num_train']\n",
        "    test_split = params['num_train']+params['num_val']\n",
        "\n",
        "    tr_data_loader = torch.utils.data.DataLoader(\n",
        "        torch.utils.data.TensorDataset(torch.Tensor(xs[:train_split]), torch.Tensor(ys[:train_split])),\n",
        "        batch_size=params['batch_size'])\n",
        "    \n",
        "    val_data_loader = torch.utils.data.DataLoader(\n",
        "        torch.utils.data.TensorDataset(torch.Tensor(xs[train_split:test_split]), torch.Tensor(ys[train_split:test_split])),\n",
        "        batch_size=params['batch_size'])\n",
        "    \n",
        "    return tr_data_loader, val_data_loader, xs[:train_split]\n",
        "\n",
        "def get_heads_mu_and_sigma(model, obs):\n",
        "    \n",
        "    model.eval()\n",
        "    obs_tensor = torch.Tensor(obs)\n",
        "    obs_tensor = obs_tensor.to(device)\n",
        "    heads_values = model.layer_to_norm(obs_tensor).detach().cpu().numpy()\n",
        "\n",
        "    mu = heads_values.mean(axis=0)\n",
        "    s = heads_values.std(axis=0)\n",
        "    s[s == 0] = 1\n",
        "    \n",
        "    return np.array([mu, s])"
      ],
      "execution_count": 73,
      "outputs": []
    },
    {
      "cell_type": "markdown",
      "metadata": {
        "id": "Th-WxNDGTKth"
      },
      "source": [
        "### Single run train/test methods"
      ]
    },
    {
      "cell_type": "code",
      "metadata": {
        "id": "xEj7Qn1-H-Es"
      },
      "source": [
        "\"\"\"\n",
        "    Train/Test function for Randomly Weighted Hidden Neural Networks Techniques\n",
        "    Adapted from https://github.com/NesterukSergey/hidden-networks/blob/master/demos/mnist.ipynb\n",
        "\"\"\"\n",
        "\n",
        "def compute_metrics(predictions, true_labels):\n",
        "    predictions = np.array(predictions)\n",
        "    true_labels = np.array(true_labels)\n",
        "    accuracy = np.sum(np.equal((predictions > 0.5).astype(int), true_labels)) / len(true_labels)\n",
        "    fpr, tpr, thresholds = metrics.roc_curve(true_labels, predictions)\n",
        "    auc = metrics.auc(fpr, tpr)\n",
        "    return accuracy, auc\n",
        "\n",
        "def train(model, device, train_loader, optimizer, criterion):\n",
        "    \n",
        "    train_loss = 0\n",
        "    true_labels = []\n",
        "    predictions = [] # labels\n",
        "\n",
        "    model.train()\n",
        "\n",
        "    for data, target in itertools.islice(train_loader, params['num_train']):\n",
        "        data, target = data.to(device), target.to(device)\n",
        "        optimizer.zero_grad()\n",
        "        output = model(data)\n",
        "        loss = criterion(output, target)\n",
        "        loss.backward()\n",
        "        optimizer.step()\n",
        "        train_loss += loss\n",
        "        predictions.extend(output.detach().cpu().numpy())\n",
        "        true_labels.extend(target.detach().cpu().numpy())\n",
        "    \n",
        "    train_loss /= len(train_loader.dataset)\n",
        "    accuracy, auc = compute_metrics(predictions, true_labels)\n",
        "\n",
        "    return train_loss.item(), accuracy, auc\n",
        "\n",
        "def test(model, device, criterion, test_loader, num_test):\n",
        "    true_labels = []\n",
        "    predictions = [] # labels\n",
        "\n",
        "    model.eval()\n",
        "    test_loss = 0\n",
        "    with torch.no_grad():\n",
        "        for data, target in itertools.islice(test_loader, num_test):\n",
        "            data, target = data.to(device), target.to(device)\n",
        "            output = model(data)\n",
        "            test_loss += criterion(output, target)\n",
        "            predictions.extend(output.detach().cpu().numpy())\n",
        "            true_labels.extend(target.detach().cpu().numpy())\n",
        "    \n",
        "    test_loss /= len(test_loader.dataset)\n",
        "    accuracy, auc = compute_metrics(predictions, true_labels)\n",
        "\n",
        "    return test_loss.item(), accuracy, auc\n",
        "\n",
        "def run_model(model, learning_rate, weight_decay, num_epochs):\n",
        "\n",
        "  tr_data_loader, val_data_loader, x_train = get_data_sample(xs, ys)\n",
        "\n",
        "  # Normalise last layer using training data\n",
        "  model.mu_s = get_heads_mu_and_sigma(model, x_train)\n",
        "  \n",
        "  optimizer = optim.Adam(\n",
        "      [p for p in model.parameters() if p.requires_grad],\n",
        "      lr=learning_rate,\n",
        "      weight_decay=weight_decay\n",
        "  )\n",
        "\n",
        "  criterion = nn.BCELoss().to(device)\n",
        "  scheduler = CosineAnnealingLR(optimizer, T_max=len(tr_data_loader))\n",
        "\n",
        "  train_losses = []\n",
        "  test_losses = []\n",
        "  train_accs = []\n",
        "  train_aucs = []\n",
        "  test_accs = []\n",
        "  test_aucs = []  \n",
        "\n",
        "  best_test_loss = np.inf\n",
        "  test_loss_up_since = 0\n",
        "  early_stop = 100\n",
        "  verbose = True\n",
        "  for epoch in range(num_epochs):\n",
        "      train_loss, train_accuracy, train_auc = train(model, device, tr_data_loader, optimizer, criterion)\n",
        "      test_loss, test_accuracy, test_auc = test(model, device, criterion, val_data_loader, params['num_val'])\n",
        "      scheduler.step()\n",
        "      if test_loss < best_test_loss:\n",
        "          best_test_loss = test_loss\n",
        "          test_loss_up_since = 0\n",
        "      test_loss_up_since += 1\n",
        "      if test_loss_up_since > early_stop:\n",
        "          print('Epoch - ', epoch, 'Early stopping')\n",
        "          break\n",
        "      if verbose:\n",
        "          print('Epoch - ', epoch)\n",
        "          print('Train metrics: loss', train_loss, 'accuracy', train_accuracy, 'auc', train_auc)\n",
        "          print('Val metrics: loss', test_loss, 'accuracy', test_accuracy, 'auc', test_auc)\n",
        "\n",
        "      train_losses.append(train_loss)\n",
        "      test_losses.append(test_loss)\n",
        "      train_accs.append(train_accuracy)\n",
        "      train_aucs.append(train_auc)\n",
        "      test_accs.append(test_accuracy)\n",
        "      test_aucs.append(test_auc)\n",
        "\n",
        "  return {'trainLoss': train_losses, 'testLoss': test_losses, \n",
        "          'trainAccuracy': train_accs, 'testAccuracy': test_accs,\n",
        "          'trainAUC': train_aucs, 'testAUC': test_aucs}\n",
        "\n",
        "def plot_metric(results_dict, metric):\n",
        "    plt.title(metric)\n",
        "    plt.xlabel('Epochs')\n",
        "    plt.plot(list(range(1, len(results_dict[f'train{metric}']) + 1)), results_dict[f'train{metric}'], label=f'Train {metric}')\n",
        "    plt.plot(list(range(1, len(results_dict[f'train{metric}']) + 1)), results_dict[f'test{metric}'], label=f'Test {metric}')\n",
        "    plt.legend()\n",
        "    plt.show()\n",
        "\n",
        "def multi_runs(model, learning_rate, weight_decay, plots=False):\n",
        "\n",
        "    averaged_results = {}    \n",
        "    for run_ix in range(params['num_run']):\n",
        " \n",
        "        results = run_model(model, learning_rate=learning_rate, weight_decay=weight_decay, num_epochs=params['num_epochs'])       \n",
        "        print(f'Train pass no. {run_ix+1}')\n",
        "\n",
        "        if (run_ix == 0) and plots:\n",
        "            print('Debug charts for first training run')\n",
        "            plot_metric(results, 'Loss')\n",
        "            plot_metric(results, 'Accuracy')\n",
        "            plot_metric(results, 'AUC')\n",
        "\n",
        "        for res in results:\n",
        "            if len(results[res]) > 0:\n",
        "                if res not in averaged_results:\n",
        "                    averaged_results[res] = [results[res][-1]]\n",
        "                else:\n",
        "                    averaged_results[res].append(results[res][-1])         \n",
        "    \n",
        "    return {x: sum(averaged_results[x]) / params['num_run'] for x in averaged_results}"
      ],
      "execution_count": 74,
      "outputs": []
    },
    {
      "cell_type": "code",
      "metadata": {
        "id": "9W4Kl4TEhyX8",
        "outputId": "c428ca41-ede5-480d-a8f4-6f10547eed33",
        "colab": {
          "base_uri": "https://localhost:8080/",
          "height": 1000
        }
      },
      "source": [
        "params['num_run'] = 1\n",
        "params['num_epochs'] = 100\n",
        "\n",
        "model = PPOMaskNet(k=1e-1, fine_tune=False, \n",
        "                   means_stds=None,\n",
        "                   dropout=0.2,\n",
        "                   use_last_linear=True).to(device)\n",
        "model.load_weights(original_weights)\n",
        "multi_runs(model, learning_rate=1e-4, weight_decay=0, plots=True)"
      ],
      "execution_count": 79,
      "outputs": [
        {
          "output_type": "stream",
          "text": [
            "Epoch -  0\n",
            "Train metrics: loss 0.09145215898752213 accuracy 0.46 auc 0.46474358974358976\n",
            "Val metrics: loss 0.14220818877220154 accuracy 0.49 auc 0.5392566281060497\n",
            "Epoch -  1\n",
            "Train metrics: loss 0.10452956706285477 accuracy 0.46 auc 0.4326923076923077\n",
            "Val metrics: loss 0.047062791883945465 accuracy 0.504 auc 0.5565849053584858\n",
            "Epoch -  2\n",
            "Train metrics: loss 0.07950051873922348 accuracy 0.58 auc 0.5224358974358975\n",
            "Val metrics: loss 0.04612601548433304 accuracy 0.51 auc 0.5661050576809229\n",
            "Epoch -  3\n",
            "Train metrics: loss 0.05662499740719795 accuracy 0.62 auc 0.6201923076923077\n",
            "Val metrics: loss 0.04445526376366615 accuracy 0.556 auc 0.543480695691131\n",
            "Epoch -  4\n",
            "Train metrics: loss 0.057136863470077515 accuracy 0.54 auc 0.5801282051282052\n",
            "Val metrics: loss 0.04445526376366615 accuracy 0.556 auc 0.543480695691131\n",
            "Epoch -  5\n",
            "Train metrics: loss 0.06879840791225433 accuracy 0.48 auc 0.5224358974358974\n",
            "Val metrics: loss 0.04546046257019043 accuracy 0.492 auc 0.545480727691643\n",
            "Epoch -  6\n",
            "Train metrics: loss 0.05518433079123497 accuracy 0.56 auc 0.5881410256410255\n",
            "Val metrics: loss 0.04946117475628853 accuracy 0.502 auc 0.5448087169394711\n",
            "Epoch -  7\n",
            "Train metrics: loss 0.07826261967420578 accuracy 0.54 auc 0.5576923076923077\n",
            "Val metrics: loss 0.04401912912726402 accuracy 0.566 auc 0.6192579081265299\n",
            "Epoch -  8\n",
            "Train metrics: loss 0.0542648583650589 accuracy 0.52 auc 0.5913461538461539\n",
            "Val metrics: loss 0.04640115052461624 accuracy 0.51 auc 0.6290340645450326\n",
            "Epoch -  9\n",
            "Train metrics: loss 0.05936029180884361 accuracy 0.48 auc 0.4887820512820513\n",
            "Val metrics: loss 0.052217159420251846 accuracy 0.51 auc 0.6717707483319733\n",
            "Epoch -  10\n",
            "Train metrics: loss 0.05560572072863579 accuracy 0.56 auc 0.6314102564102564\n",
            "Val metrics: loss 0.0474732331931591 accuracy 0.506 auc 0.6851949631194099\n",
            "Epoch -  11\n",
            "Train metrics: loss 0.05377307906746864 accuracy 0.56 auc 0.6137820512820512\n",
            "Val metrics: loss 0.04527865722775459 accuracy 0.504 auc 0.6962351397622362\n",
            "Epoch -  12\n",
            "Train metrics: loss 0.052356280386447906 accuracy 0.56 auc 0.5737179487179487\n",
            "Val metrics: loss 0.04527865722775459 accuracy 0.504 auc 0.6962351397622362\n",
            "Epoch -  13\n",
            "Train metrics: loss 0.06204027682542801 accuracy 0.5 auc 0.48557692307692313\n",
            "Val metrics: loss 0.043127257376909256 accuracy 0.536 auc 0.6878990063841022\n",
            "Epoch -  14\n",
            "Train metrics: loss 0.07077298313379288 accuracy 0.48 auc 0.5096153846153846\n",
            "Val metrics: loss 0.046605225652456284 accuracy 0.504 auc 0.6483783740539849\n",
            "Epoch -  15\n",
            "Train metrics: loss 0.056029658764600754 accuracy 0.56 auc 0.5256410256410257\n",
            "Val metrics: loss 0.04489980265498161 accuracy 0.516 auc 0.619433910942575\n",
            "Epoch -  16\n",
            "Train metrics: loss 0.04680195823311806 accuracy 0.64 auc 0.7884615384615385\n",
            "Val metrics: loss 0.04879501834511757 accuracy 0.506 auc 0.6158658538536617\n",
            "Epoch -  17\n",
            "Train metrics: loss 0.06634045392274857 accuracy 0.52 auc 0.6586538461538461\n",
            "Val metrics: loss 0.04475768283009529 accuracy 0.508 auc 0.61058576937231\n",
            "Epoch -  18\n",
            "Train metrics: loss 0.052332621067762375 accuracy 0.62 auc 0.6826923076923077\n",
            "Val metrics: loss 0.04361100122332573 accuracy 0.546 auc 0.6138498215971456\n",
            "Epoch -  19\n",
            "Train metrics: loss 0.04744089022278786 accuracy 0.62 auc 0.766025641025641\n",
            "Val metrics: loss 0.04380513355135918 accuracy 0.536 auc 0.6112737803804862\n",
            "Epoch -  20\n",
            "Train metrics: loss 0.045660845935344696 accuracy 0.6 auc 0.7147435897435898\n",
            "Val metrics: loss 0.04380513355135918 accuracy 0.536 auc 0.6112737803804862\n",
            "Epoch -  21\n",
            "Train metrics: loss 0.04865091294050217 accuracy 0.6 auc 0.6426282051282052\n",
            "Val metrics: loss 0.04444538801908493 accuracy 0.536 auc 0.6211299380790093\n",
            "Epoch -  22\n",
            "Train metrics: loss 0.04696173220872879 accuracy 0.6 auc 0.641025641025641\n",
            "Val metrics: loss 0.046607330441474915 accuracy 0.516 auc 0.6404102465639451\n",
            "Epoch -  23\n",
            "Train metrics: loss 0.04668054357171059 accuracy 0.64 auc 0.7163461538461539\n",
            "Val metrics: loss 0.047311339527368546 accuracy 0.578 auc 0.6553064849037584\n",
            "Epoch -  24\n",
            "Train metrics: loss 0.04882728308439255 accuracy 0.64 auc 0.6778846153846154\n",
            "Val metrics: loss 0.05118263512849808 accuracy 0.554 auc 0.6445383126130018\n",
            "Epoch -  25\n",
            "Train metrics: loss 0.05024084076285362 accuracy 0.6 auc 0.6153846153846154\n",
            "Val metrics: loss 0.04244174808263779 accuracy 0.562 auc 0.6770028320453128\n",
            "Epoch -  26\n",
            "Train metrics: loss 0.04771122336387634 accuracy 0.7 auc 0.7419871794871795\n",
            "Val metrics: loss 0.0430181547999382 accuracy 0.54 auc 0.6612425798812782\n",
            "Epoch -  27\n",
            "Train metrics: loss 0.05098086595535278 accuracy 0.64 auc 0.7051282051282051\n",
            "Val metrics: loss 0.04321078583598137 accuracy 0.542 auc 0.6564745035920574\n",
            "Epoch -  28\n",
            "Train metrics: loss 0.05417683348059654 accuracy 0.66 auc 0.6778846153846154\n",
            "Val metrics: loss 0.04321078583598137 accuracy 0.542 auc 0.6564745035920574\n",
            "Epoch -  29\n",
            "Train metrics: loss 0.055925630033016205 accuracy 0.6 auc 0.5753205128205128\n",
            "Val metrics: loss 0.04361811280250549 accuracy 0.542 auc 0.6448903182450919\n",
            "Epoch -  30\n",
            "Train metrics: loss 0.051379695534706116 accuracy 0.7 auc 0.7435897435897437\n",
            "Val metrics: loss 0.047334812581539154 accuracy 0.536 auc 0.6314981039696635\n",
            "Epoch -  31\n",
            "Train metrics: loss 0.05356265977025032 accuracy 0.66 auc 0.7516025641025641\n",
            "Val metrics: loss 0.04316189885139465 accuracy 0.614 auc 0.6741387862205794\n",
            "Epoch -  32\n",
            "Train metrics: loss 0.043392084538936615 accuracy 0.68 auc 0.764423076923077\n",
            "Val metrics: loss 0.04472862929105759 accuracy 0.518 auc 0.6615305844893518\n",
            "Epoch -  33\n",
            "Train metrics: loss 0.04628749191761017 accuracy 0.6 auc 0.7564102564102564\n",
            "Val metrics: loss 0.04362642019987106 accuracy 0.534 auc 0.7098673578777261\n",
            "Epoch -  34\n",
            "Train metrics: loss 0.042349494993686676 accuracy 0.62 auc 0.7163461538461539\n",
            "Val metrics: loss 0.04335334524512291 accuracy 0.528 auc 0.7078033248531977\n",
            "Epoch -  35\n",
            "Train metrics: loss 0.04501904547214508 accuracy 0.66 auc 0.7179487179487181\n",
            "Val metrics: loss 0.04247547313570976 accuracy 0.534 auc 0.7002512040192642\n",
            "Epoch -  36\n",
            "Train metrics: loss 0.051725804805755615 accuracy 0.62 auc 0.6490384615384616\n",
            "Val metrics: loss 0.04247547313570976 accuracy 0.534 auc 0.7002512040192642\n",
            "Epoch -  37\n",
            "Train metrics: loss 0.03659956529736519 accuracy 0.74 auc 0.7948717948717949\n",
            "Val metrics: loss 0.04188478738069534 accuracy 0.55 auc 0.6937871005936095\n",
            "Epoch -  38\n",
            "Train metrics: loss 0.04527068883180618 accuracy 0.62 auc 0.6907051282051283\n",
            "Val metrics: loss 0.04230077564716339 accuracy 0.592 auc 0.668042688683019\n",
            "Epoch -  39\n",
            "Train metrics: loss 0.049259088933467865 accuracy 0.58 auc 0.639423076923077\n",
            "Val metrics: loss 0.04651535674929619 accuracy 0.562 auc 0.6725547608761739\n",
            "Epoch -  40\n",
            "Train metrics: loss 0.05192131549119949 accuracy 0.58 auc 0.6586538461538461\n",
            "Val metrics: loss 0.04648957401514053 accuracy 0.512 auc 0.6161378582057313\n",
            "Epoch -  41\n",
            "Train metrics: loss 0.04062509909272194 accuracy 0.64 auc 0.8237179487179488\n",
            "Val metrics: loss 0.041413355618715286 accuracy 0.61 auc 0.6984911758588137\n",
            "Epoch -  42\n",
            "Train metrics: loss 0.0395696759223938 accuracy 0.66 auc 0.7756410256410255\n",
            "Val metrics: loss 0.041542403399944305 accuracy 0.698 auc 0.6951151218419496\n",
            "Epoch -  43\n",
            "Train metrics: loss 0.03831898793578148 accuracy 0.7 auc 0.7788461538461539\n",
            "Val metrics: loss 0.041475869715213776 accuracy 0.592 auc 0.6948271172338758\n",
            "Epoch -  44\n",
            "Train metrics: loss 0.03793015703558922 accuracy 0.64 auc 0.7724358974358975\n",
            "Val metrics: loss 0.041475869715213776 accuracy 0.592 auc 0.6948271172338758\n",
            "Epoch -  45\n",
            "Train metrics: loss 0.037210267037153244 accuracy 0.72 auc 0.7532051282051282\n",
            "Val metrics: loss 0.041528504341840744 accuracy 0.698 auc 0.6928430854893677\n",
            "Epoch -  46\n",
            "Train metrics: loss 0.05270444601774216 accuracy 0.66 auc 0.7836538461538463\n",
            "Val metrics: loss 0.041722968220710754 accuracy 0.708 auc 0.7090033440535048\n",
            "Epoch -  47\n",
            "Train metrics: loss 0.045892708003520966 accuracy 0.58 auc 0.6362179487179487\n",
            "Val metrics: loss 0.04297297075390816 accuracy 0.554 auc 0.6803948863181812\n",
            "Epoch -  48\n",
            "Train metrics: loss 0.039706774055957794 accuracy 0.62 auc 0.7788461538461539\n",
            "Val metrics: loss 0.044815417379140854 accuracy 0.522 auc 0.6981711707387319\n",
            "Epoch -  49\n",
            "Train metrics: loss 0.04838167876005173 accuracy 0.66 auc 0.7147435897435898\n",
            "Val metrics: loss 0.041974589228630066 accuracy 0.564 auc 0.6651306420902735\n",
            "Epoch -  50\n",
            "Train metrics: loss 0.03386422246694565 accuracy 0.74 auc 0.8782051282051282\n",
            "Val metrics: loss 0.04281949996948242 accuracy 0.574 auc 0.6625706011296181\n",
            "Epoch -  51\n",
            "Train metrics: loss 0.039010029286146164 accuracy 0.7 auc 0.780448717948718\n",
            "Val metrics: loss 0.04121201112866402 accuracy 0.6 auc 0.6786188579017265\n",
            "Epoch -  52\n",
            "Train metrics: loss 0.04284283146262169 accuracy 0.74 auc 0.7660256410256411\n",
            "Val metrics: loss 0.04121201112866402 accuracy 0.6 auc 0.6786188579017265\n",
            "Epoch -  53\n",
            "Train metrics: loss 0.03533879667520523 accuracy 0.84 auc 0.8717948717948718\n",
            "Val metrics: loss 0.04064667597413063 accuracy 0.632 auc 0.6982031712507399\n",
            "Epoch -  54\n",
            "Train metrics: loss 0.036715034395456314 accuracy 0.7 auc 0.8189102564102564\n",
            "Val metrics: loss 0.04120463877916336 accuracy 0.596 auc 0.7062673002768045\n",
            "Epoch -  55\n",
            "Train metrics: loss 0.03765304386615753 accuracy 0.64 auc 0.8221153846153846\n",
            "Val metrics: loss 0.041113290935754776 accuracy 0.702 auc 0.6955951295220724\n",
            "Epoch -  56\n",
            "Train metrics: loss 0.041337303817272186 accuracy 0.72 auc 0.764423076923077\n",
            "Val metrics: loss 0.043705977499485016 accuracy 0.55 auc 0.7032592521480344\n",
            "Epoch -  57\n",
            "Train metrics: loss 0.03690680116415024 accuracy 0.74 auc 0.875\n",
            "Val metrics: loss 0.04052744433283806 accuracy 0.6 auc 0.7037712603401653\n",
            "Epoch -  58\n",
            "Train metrics: loss 0.043424271047115326 accuracy 0.7 auc 0.7708333333333333\n",
            "Val metrics: loss 0.04061717912554741 accuracy 0.59 auc 0.7014032224515592\n",
            "Epoch -  59\n",
            "Train metrics: loss 0.0406448058784008 accuracy 0.68 auc 0.7740384615384615\n",
            "Val metrics: loss 0.04107204079627991 accuracy 0.588 auc 0.7044112705803293\n",
            "Epoch -  60\n",
            "Train metrics: loss 0.04448157176375389 accuracy 0.66 auc 0.7467948717948718\n",
            "Val metrics: loss 0.04107204079627991 accuracy 0.588 auc 0.7044112705803293\n",
            "Epoch -  61\n",
            "Train metrics: loss 0.03732190653681755 accuracy 0.76 auc 0.8237179487179488\n",
            "Val metrics: loss 0.04061976447701454 accuracy 0.608 auc 0.7051792828685259\n",
            "Epoch -  62\n",
            "Train metrics: loss 0.03917675092816353 accuracy 0.78 auc 0.8365384615384617\n",
            "Val metrics: loss 0.04050803184509277 accuracy 0.684 auc 0.706555304884878\n",
            "Epoch -  63\n",
            "Train metrics: loss 0.038166966289281845 accuracy 0.74 auc 0.8012820512820513\n",
            "Val metrics: loss 0.04053802788257599 accuracy 0.588 auc 0.6984911758588138\n",
            "Epoch -  64\n",
            "Train metrics: loss 0.037522852420806885 accuracy 0.72 auc 0.8205128205128205\n",
            "Val metrics: loss 0.041494645178318024 accuracy 0.58 auc 0.6894670314725035\n",
            "Epoch -  65\n",
            "Train metrics: loss 0.038893889635801315 accuracy 0.76 auc 0.8253205128205128\n",
            "Val metrics: loss 0.04042612016201019 accuracy 0.646 auc 0.7161714587433399\n",
            "Epoch -  66\n",
            "Train metrics: loss 0.03549647331237793 accuracy 0.82 auc 0.875\n",
            "Val metrics: loss 0.04045966640114784 accuracy 0.672 auc 0.7182354917678683\n",
            "Epoch -  67\n",
            "Train metrics: loss 0.04014858230948448 accuracy 0.68 auc 0.7692307692307692\n",
            "Val metrics: loss 0.04062797129154205 accuracy 0.59 auc 0.7157874525992416\n",
            "Epoch -  68\n",
            "Train metrics: loss 0.040043413639068604 accuracy 0.72 auc 0.8157051282051282\n",
            "Val metrics: loss 0.04062797129154205 accuracy 0.59 auc 0.7157874525992416\n",
            "Epoch -  69\n",
            "Train metrics: loss 0.03296879678964615 accuracy 0.76 auc 0.8669871794871795\n",
            "Val metrics: loss 0.04020259156823158 accuracy 0.59 auc 0.7114993839901439\n",
            "Epoch -  70\n",
            "Train metrics: loss 0.04127385467290878 accuracy 0.76 auc 0.8285256410256411\n",
            "Val metrics: loss 0.04136645421385765 accuracy 0.568 auc 0.6984591753468057\n",
            "Epoch -  71\n",
            "Train metrics: loss 0.03724485635757446 accuracy 0.66 auc 0.8573717948717949\n",
            "Val metrics: loss 0.039559852331876755 accuracy 0.678 auc 0.7291316661066577\n",
            "Epoch -  72\n",
            "Train metrics: loss 0.031542111188173294 accuracy 0.84 auc 0.9150641025641025\n",
            "Val metrics: loss 0.04068271443247795 accuracy 0.634 auc 0.7106513704219267\n",
            "Epoch -  73\n",
            "Train metrics: loss 0.03097021020948887 accuracy 0.78 auc 0.8685897435897436\n",
            "Val metrics: loss 0.04206719249486923 accuracy 0.58 auc 0.7252116033856542\n",
            "Epoch -  74\n",
            "Train metrics: loss 0.03555486723780632 accuracy 0.7 auc 0.8605769230769231\n",
            "Val metrics: loss 0.039997078478336334 accuracy 0.706 auc 0.72218755500088\n",
            "Epoch -  75\n",
            "Train metrics: loss 0.03164232522249222 accuracy 0.84 auc 0.8942307692307692\n",
            "Val metrics: loss 0.040229544043540955 accuracy 0.734 auc 0.7221315541048657\n",
            "Epoch -  76\n",
            "Train metrics: loss 0.037683188915252686 accuracy 0.7 auc 0.8076923076923076\n",
            "Val metrics: loss 0.040229544043540955 accuracy 0.734 auc 0.7221315541048657\n",
            "Epoch -  77\n",
            "Train metrics: loss 0.033520448952913284 accuracy 0.74 auc 0.8477564102564102\n",
            "Val metrics: loss 0.039830531924963 accuracy 0.598 auc 0.7157074513192211\n",
            "Epoch -  78\n",
            "Train metrics: loss 0.028772851452231407 accuracy 0.8 auc 0.9118589743589745\n",
            "Val metrics: loss 0.046267006546258926 accuracy 0.548 auc 0.7021392342277477\n",
            "Epoch -  79\n",
            "Train metrics: loss 0.03551260009407997 accuracy 0.74 auc 0.9150641025641026\n",
            "Val metrics: loss 0.0405716598033905 accuracy 0.656 auc 0.7221395542328676\n",
            "Epoch -  80\n",
            "Train metrics: loss 0.041106753051280975 accuracy 0.66 auc 0.8125\n",
            "Val metrics: loss 0.040185216814279556 accuracy 0.592 auc 0.7249715995455928\n",
            "Epoch -  81\n",
            "Train metrics: loss 0.035814762115478516 accuracy 0.74 auc 0.8685897435897436\n",
            "Val metrics: loss 0.04079733043909073 accuracy 0.586 auc 0.7346037536600586\n",
            "Epoch -  82\n",
            "Train metrics: loss 0.03612509369850159 accuracy 0.72 auc 0.8349358974358975\n",
            "Val metrics: loss 0.03935055062174797 accuracy 0.736 auc 0.7322837165394646\n",
            "Epoch -  83\n",
            "Train metrics: loss 0.038589172065258026 accuracy 0.78 auc 0.7980769230769231\n",
            "Val metrics: loss 0.039422906935214996 accuracy 0.684 auc 0.7331637306196899\n",
            "Epoch -  84\n",
            "Train metrics: loss 0.03146454319357872 accuracy 0.86 auc 0.8894230769230769\n",
            "Val metrics: loss 0.039422906935214996 accuracy 0.684 auc 0.7331637306196899\n",
            "Epoch -  85\n",
            "Train metrics: loss 0.033251114189624786 accuracy 0.76 auc 0.8685897435897436\n",
            "Val metrics: loss 0.03994779661297798 accuracy 0.59 auc 0.7285716571465143\n",
            "Epoch -  86\n",
            "Train metrics: loss 0.030982064083218575 accuracy 0.86 auc 0.9230769230769231\n",
            "Val metrics: loss 0.040447037667036057 accuracy 0.58 auc 0.7188755020080321\n",
            "Epoch -  87\n",
            "Train metrics: loss 0.029880782589316368 accuracy 0.84 auc 0.8862179487179488\n",
            "Val metrics: loss 0.04014795646071434 accuracy 0.682 auc 0.7224595593529497\n",
            "Epoch -  88\n",
            "Train metrics: loss 0.027769457548856735 accuracy 0.84 auc 0.9102564102564102\n",
            "Val metrics: loss 0.04068973287940025 accuracy 0.592 auc 0.7180594889518233\n",
            "Epoch -  89\n",
            "Train metrics: loss 0.03156491369009018 accuracy 0.86 auc 0.8830128205128206\n",
            "Val metrics: loss 0.04083472117781639 accuracy 0.708 auc 0.7245715931454904\n",
            "Epoch -  90\n",
            "Train metrics: loss 0.03201165795326233 accuracy 0.76 auc 0.8653846153846154\n",
            "Val metrics: loss 0.03954107314348221 accuracy 0.67 auc 0.7272916366661867\n",
            "Epoch -  91\n",
            "Train metrics: loss 0.03101433999836445 accuracy 0.76 auc 0.8717948717948718\n",
            "Val metrics: loss 0.03956073895096779 accuracy 0.626 auc 0.7267956287300598\n",
            "Epoch -  92\n",
            "Train metrics: loss 0.02878478541970253 accuracy 0.88 auc 0.9198717948717949\n",
            "Val metrics: loss 0.03956073895096779 accuracy 0.626 auc 0.7267956287300598\n",
            "Epoch -  93\n",
            "Train metrics: loss 0.029667042195796967 accuracy 0.84 auc 0.9038461538461539\n",
            "Val metrics: loss 0.03938736021518707 accuracy 0.648 auc 0.728011648186371\n",
            "Epoch -  94\n",
            "Train metrics: loss 0.034668274223804474 accuracy 0.7 auc 0.8317307692307692\n",
            "Val metrics: loss 0.038715094327926636 accuracy 0.698 auc 0.7452599241587865\n",
            "Epoch -  95\n",
            "Train metrics: loss 0.0339178666472435 accuracy 0.74 auc 0.8525641025641025\n",
            "Val metrics: loss 0.03994443640112877 accuracy 0.598 auc 0.7231475703611258\n",
            "Epoch -  96\n",
            "Train metrics: loss 0.02622840739786625 accuracy 0.86 auc 0.9599358974358975\n",
            "Val metrics: loss 0.03964182734489441 accuracy 0.678 auc 0.7185874973999583\n",
            "Epoch -  97\n",
            "Train metrics: loss 0.035967867821455 accuracy 0.76 auc 0.8461538461538461\n",
            "Val metrics: loss 0.03961135819554329 accuracy 0.644 auc 0.7224435590969456\n",
            "Epoch -  98\n",
            "Train metrics: loss 0.029288174584507942 accuracy 0.8 auc 0.8958333333333333\n",
            "Val metrics: loss 0.039981815963983536 accuracy 0.614 auc 0.7227475639610235\n",
            "Epoch -  99\n",
            "Train metrics: loss 0.03019718825817108 accuracy 0.82 auc 0.9022435897435898\n",
            "Val metrics: loss 0.03974182531237602 accuracy 0.656 auc 0.723355573689179\n",
            "Train pass no. 1\n",
            "Debug charts for first training run\n"
          ],
          "name": "stdout"
        },
        {
          "output_type": "display_data",
          "data": {
            "image/png": "[encoded data removed]",
            "text/plain": [
              "<Figure size 432x288 with 1 Axes>"
            ]
          },
          "metadata": {
            "tags": [],
            "needs_background": "light"
          }
        },
        {
          "output_type": "display_data",
          "data": {
            "image/png": "[encoded data removed]",
            "text/plain": [
              "<Figure size 432x288 with 1 Axes>"
            ]
          },
          "metadata": {
            "tags": [],
            "needs_background": "light"
          }
        },
        {
          "output_type": "display_data",
          "data": {
            "image/png": "[encoded data removed]",
            "text/plain": [
              "<Figure size 432x288 with 1 Axes>"
            ]
          },
          "metadata": {
            "tags": [],
            "needs_background": "light"
          }
        },
        {
          "output_type": "execute_result",
          "data": {
            "text/plain": [
              "{'testAUC': 0.723355573689179,\n",
              " 'testAccuracy': 0.656,\n",
              " 'testLoss': 0.03974182531237602,\n",
              " 'trainAUC': 0.9022435897435898,\n",
              " 'trainAccuracy': 0.82,\n",
              " 'trainLoss': 0.03019718825817108}"
            ]
          },
          "metadata": {
            "tags": []
          },
          "execution_count": 79
        }
      ]
    },
    {
      "cell_type": "markdown",
      "metadata": {
        "id": "Clre1lUXPXYg"
      },
      "source": [
        "## Initialise Subnets Search with activation that obtained optimal AUC in previous experiment\n",
        "\n",
        "We do this both as a sanity check as well as a potential improvement"
      ]
    },
    {
      "cell_type": "code",
      "metadata": {
        "id": "RO5NwFAmPh2l",
        "outputId": "934c0786-040b-4462-dee0-a533b1ed5702",
        "colab": {
          "base_uri": "https://localhost:8080/",
          "height": 70
        }
      },
      "source": [
        "from sklearn import metrics \n",
        "\n",
        "acts = []\n",
        "prefs = []\n",
        "\n",
        "for data in all_raw_data:\n",
        "    for i in range(data.observation.shape[0]):\n",
        "        acts.append(np.copy(data.policy_info[\"activations\"][i]))\n",
        "        prefs.append((data.policy_info['satisfaction'].as_list()[i] > -6).astype(int))\n",
        "\n",
        "acts = np.array(acts)\n",
        "prefs = np.array(prefs)\n",
        "\n",
        "def display_auc_info(xs, ys):\n",
        "    \n",
        "    def calc_auc(xs, ys, i):\n",
        "        fpr, tpr, thresholds = metrics.roc_curve(ys, xs[:,i], pos_label=1)\n",
        "        return metrics.auc(fpr, tpr)\n",
        "\n",
        "\n",
        "    multi_runs_aucs = []\n",
        "    for run_ix in range(50):\n",
        "        xs, ys = shuffle(xs, ys)\n",
        "        flat_xs = np.reshape(xs, (xs.shape[0], -1))\n",
        "        aucs = []    \n",
        "        \n",
        "        for i in range(flat_xs.shape[1]):\n",
        "            auc = calc_auc(flat_xs[:params['num_train']], ys[:params['num_train']], i)\n",
        "            aucs.append(auc)  \n",
        "\n",
        "        aucs = np.array(aucs)\n",
        "        multi_runs_aucs.append(aucs)\n",
        "\n",
        "    aucs = np.array(multi_runs_aucs)\n",
        "    aucs = aucs.mean(axis=0)\n",
        "\n",
        "    print(\"AUC from only picking a single activation\")\n",
        "    print(np.argmin(aucs), \"train\", 1-np.min(aucs), \"val\", 1-calc_auc(flat_xs[params['num_train']:], ys[params['num_train']:], np.argmin(aucs)))\n",
        "    print(np.argmax(aucs), \"train\", np.max(aucs), \"val\", calc_auc(flat_xs[params['num_train']:], ys[params['num_train']:], np.argmax(aucs)))\n",
        "  \n",
        "display_auc_info(acts, prefs)"
      ],
      "execution_count": null,
      "outputs": [
        {
          "output_type": "stream",
          "text": [
            "AUC from only picking a single activation\n",
            "34 train 0.8168389427248516 val 0.8203183087179845\n",
            "13 train 0.6133060108723783 val 0.6179787990821131\n"
          ],
          "name": "stdout"
        }
      ]
    },
    {
      "cell_type": "code",
      "metadata": {
        "id": "M9Yw8LJRYEnL",
        "outputId": "9dbfdd4e-a3a5-4d67-9017-e75a952d36eb",
        "colab": {
          "base_uri": "https://localhost:8080/",
          "height": 123
        }
      },
      "source": [
        "best_act_index = 34\n",
        "K = 66774 / 67152  # Num of weigths with all dense activations except one set to 0 / Number of total weights\n",
        "\n",
        "params['num_epochs'] = 1\n",
        "results = multi_runs(fine_tune=False, K=1, q_head_index=None, q_means_stds=q_mu_s, \n",
        "                     use_last_linear=False, init_from_act_index=best_act_index,\n",
        "                     learning_rate=0.000, weight_decay=0.000, plots=False)\n",
        "\n",
        "####results is a tuple where the first element is the dict\n",
        "print(1-max(results[0]['testAUC']))"
      ],
      "execution_count": null,
      "outputs": [
        {
          "output_type": "stream",
          "text": [
            "Train pass no. 1\n",
            "Train pass no. 2\n",
            "Train pass no. 3\n",
            "Train pass no. 4\n",
            "Train pass no. 5\n",
            "0.8254807323986824\n"
          ],
          "name": "stdout"
        }
      ]
    }
  ]
}