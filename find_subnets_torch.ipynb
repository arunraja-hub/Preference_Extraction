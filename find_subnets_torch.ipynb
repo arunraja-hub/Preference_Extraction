{
  "nbformat": 4,
  "nbformat_minor": 0,
  "metadata": {
    "colab": {
      "name": "find-subnets-torch_ppo",
      "provenance": [],
      "collapsed_sections": []
    },
    "kernelspec": {
      "name": "python3",
      "display_name": "Python 3"
    },
    "accelerator": "GPU"
  },
  "cells": [
    {
      "cell_type": "markdown",
      "metadata": {
        "id": "QWwPhoB4VkHs"
      },
      "source": [
        "# Find subnets implemented using mnist"
      ]
    },
    {
      "cell_type": "markdown",
      "metadata": {
        "id": "O2PtbrFz01L5"
      },
      "source": [
        "## Imports"
      ]
    },
    {
      "cell_type": "code",
      "metadata": {
        "id": "cVH7LTvX00Y5",
        "outputId": "16983397-0d26-404f-ad11-e82315551a24",
        "colab": {
          "base_uri": "https://localhost:8080/",
          "height": 35
        }
      },
      "source": [
        "!git clone https://github.com/arunraja-hub/Preference_Extraction.git"
      ],
      "execution_count": null,
      "outputs": [
        {
          "output_type": "stream",
          "text": [
            "fatal: destination path 'Preference_Extraction' already exists and is not an empty directory.\n"
          ],
          "name": "stdout"
        }
      ]
    },
    {
      "cell_type": "code",
      "metadata": {
        "id": "kFZkjgJt4W2H",
        "outputId": "686f95da-7fb9-4d0e-ba5f-ffc60e81b52b",
        "colab": {
          "base_uri": "https://localhost:8080/",
          "height": 370
        }
      },
      "source": [
        "!nvidia-smi"
      ],
      "execution_count": null,
      "outputs": [
        {
          "output_type": "stream",
          "text": [
            "Sat Sep 26 09:05:38 2020       \n",
            "+-----------------------------------------------------------------------------+\n",
            "| NVIDIA-SMI 450.66       Driver Version: 418.67       CUDA Version: 10.1     |\n",
            "|-------------------------------+----------------------+----------------------+\n",
            "| GPU  Name        Persistence-M| Bus-Id        Disp.A | Volatile Uncorr. ECC |\n",
            "| Fan  Temp  Perf  Pwr:Usage/Cap|         Memory-Usage | GPU-Util  Compute M. |\n",
            "|                               |                      |               MIG M. |\n",
            "|===============================+======================+======================|\n",
            "|   0  Tesla P100-PCIE...  Off  | 00000000:00:04.0 Off |                    0 |\n",
            "| N/A   37C    P0    26W / 250W |      0MiB / 16280MiB |      0%      Default |\n",
            "|                               |                      |                 ERR! |\n",
            "+-------------------------------+----------------------+----------------------+\n",
            "                                                                               \n",
            "+-----------------------------------------------------------------------------+\n",
            "| Processes:                                                                  |\n",
            "|  GPU   GI   CI        PID   Type   Process name                  GPU Memory |\n",
            "|        ID   ID                                                   Usage      |\n",
            "|=============================================================================|\n",
            "|  No running processes found                                                 |\n",
            "+-----------------------------------------------------------------------------+\n"
          ],
          "name": "stdout"
        }
      ]
    },
    {
      "cell_type": "code",
      "metadata": {
        "id": "Yd-5ibD8Zsfl"
      },
      "source": [
        "## If you are running on Google Colab, please install TensorFlow 2.0 by uncommenting below..\n",
        "try:\n",
        "  # %tensorflow_version only exists in Colab.\n",
        "  %tensorflow_version 2.x\n",
        "except Exception:\n",
        "  pass"
      ],
      "execution_count": null,
      "outputs": []
    },
    {
      "cell_type": "code",
      "metadata": {
        "id": "5xmOhgVIHOwh"
      },
      "source": [
        "from __future__ import print_function\n",
        "import argparse\n",
        "import os\n",
        "import math\n",
        "\n",
        "import numpy as np\n",
        "import pandas as pd\n",
        "import matplotlib.pyplot as plt\n",
        "from sklearn import metrics\n",
        "from sklearn.metrics import roc_curve, auc, roc_auc_score\n",
        "from sklearn.preprocessing import label_binarize\n",
        "import joblib\n",
        "\n",
        "import torch\n",
        "import torch.nn as nn\n",
        "import torch.nn.functional as F\n",
        "import torch.optim as optim\n",
        "import torchvision.transforms.functional as TF\n",
        "from torch.optim.lr_scheduler import CosineAnnealingLR\n",
        "from torchvision import datasets, transforms\n",
        "import torch.autograd as autograd\n",
        "from torchsummary import summary\n",
        "\n",
        "from sklearn.utils import shuffle\n",
        "import tensorflow as tf\n",
        "import concurrent.futures\n",
        "import itertools\n",
        "import os\n",
        "import random\n",
        "import sys\n",
        "import time\n",
        "import re\n",
        "import io\n",
        "import itertools\n",
        "import sys\n",
        "\n",
        "sys.path.append('Preference_Extraction')\n",
        "from imports_data import all_load_data"
      ],
      "execution_count": null,
      "outputs": []
    },
    {
      "cell_type": "code",
      "metadata": {
        "id": "5hU3eIxdF6IH",
        "outputId": "7904f947-686c-4d31-d046-6ec3bdb18d0e",
        "colab": {
          "base_uri": "https://localhost:8080/",
          "height": 35
        }
      },
      "source": [
        "params = {}\n",
        "np.random.seed(0)\n",
        "torch.manual_seed(0)\n",
        "torch.backends.cudnn.deterministic = True\n",
        "torch.backends.cudnn.benchmark = False\n",
        "use_cuda = torch.cuda.is_available()\n",
        "device = torch.device(\"cuda\" if use_cuda else \"cpu\")\n",
        "device"
      ],
      "execution_count": null,
      "outputs": [
        {
          "output_type": "execute_result",
          "data": {
            "text/plain": [
              "device(type='cuda')"
            ]
          },
          "metadata": {
            "tags": []
          },
          "execution_count": 7
        }
      ]
    },
    {
      "cell_type": "markdown",
      "metadata": {
        "id": "uIHGI0a71NVI"
      },
      "source": [
        "## Load Data"
      ]
    },
    {
      "cell_type": "code",
      "metadata": {
        "id": "dAN7OYeaDMk5"
      },
      "source": [
        "# Data source options, choices: 'mnist', 'grid' and 'doom'\n",
        "params['env'] = 'doom' "
      ],
      "execution_count": null,
      "outputs": []
    },
    {
      "cell_type": "code",
      "metadata": {
        "id": "-XVXv9cXDeL2",
        "outputId": "ce3a6b8c-4681-43ed-c5df-8ee3dd8d2611",
        "colab": {
          "base_uri": "https://localhost:8080/",
          "height": 70
        }
      },
      "source": [
        "# Load doom data from GCP storage, run only if env == doom\n",
        "# Requires GCP authentication\n",
        "from google.colab import auth\n",
        "auth.authenticate_user()\n",
        "!gsutil cp gs://pref-extr-data/agentv29/experienceData.pkl experienceData.pkl"
      ],
      "execution_count": null,
      "outputs": [
        {
          "output_type": "stream",
          "text": [
            "Copying gs://pref-extr-data/agentv29/experienceData.pkl...\n",
            "- [1 files][  1.3 GiB/  1.3 GiB]   69.6 MiB/s                                   \n",
            "Operation completed over 1 objects/1.3 GiB.                                      \n"
          ],
          "name": "stdout"
        }
      ]
    },
    {
      "cell_type": "code",
      "metadata": {
        "id": "bSOw_1tcDWJt",
        "outputId": "af4f5102-b976-4acf-c8db-0fd6704b4e34",
        "colab": {
          "base_uri": "https://localhost:8080/",
          "height": 52
        }
      },
      "source": [
        "# Data Loader\n",
        "xs = []\n",
        "ys = []\n",
        "\n",
        "if params['env'] == 'grid':\n",
        "    # original pref extraction data\n",
        "    all_raw_data = all_load_data(\"Preference_Extraction/data/simple_env_1/\")\n",
        "    for data in all_raw_data:\n",
        "        for i in range(data.observation.shape[0]):\n",
        "            x = np.copy(data.observation[i])\n",
        "            y = (data.policy_info['satisfaction'].as_list()[i] > -6).astype(int)\n",
        "\n",
        "            xs.append(x)\n",
        "            ys.append(y)\n",
        "\n",
        "    ys = np.array(ys)\n",
        "    xs = np.rollaxis(np.array(xs), 3, 1) # Torch wants channel-first\n",
        "\n",
        "elif params['env'] == 'doom':\n",
        "    all_raw_data = joblib.load('/content/experienceData.pkl')\n",
        "    for data in all_raw_data:\n",
        "        for i in range(data.observation.shape[0]):\n",
        "            x = np.copy(data.observation[i])\n",
        "            label_object = data.policy_info['satisfaction'][i]\n",
        "            if len(label_object) == 0: # When label is empty, i.e. human is dead, skip frame\n",
        "                continue\n",
        "            else:\n",
        "                y = label_object['object_angle'] < 90 or label_object['object_angle'] > 270\n",
        "\n",
        "            xs.append(x)\n",
        "            ys.append(y)\n",
        "    \n",
        "    ys = np.array(ys)\n",
        "    xs = np.rollaxis(np.array(xs), 3, 1) # Torch wants channel-first\n",
        "\n",
        "elif params['env'] == 'mnist':\n",
        "    mnist_choice = 3 # Change this value to do binary classification against other mnist digit\n",
        "    (mnist_xs, mnist_ys), _ = tf.keras.datasets.mnist.load_data()\n",
        "    for ix, label in enumerate(mnist_ys):\n",
        "        x = np.copy(mnist_xs[ix])\n",
        "        y = (label == mnist_choice).astype(int)\n",
        "\n",
        "        xs.append(x)\n",
        "        ys.append(y)\n",
        "\n",
        "    ys = np.array(ys)\n",
        "    xs = np.array(xs) # Mnist has no channels\n",
        "\n",
        "else:\n",
        "    print('Invalid enviroment choice!!')\n",
        "\n",
        "print(\"xs\", xs.shape, \"ys\", ys.shape)\n",
        "print(\"ys 1\", np.sum(ys))"
      ],
      "execution_count": null,
      "outputs": [
        {
          "output_type": "stream",
          "text": [
            "xs (7830, 6, 60, 100) ys (7830,)\n",
            "ys 1 1828\n"
          ],
          "name": "stdout"
        }
      ]
    },
    {
      "cell_type": "code",
      "metadata": {
        "id": "JmNMl0RHdBSe",
        "outputId": "25a5537b-c00d-45d8-e711-028a3122d905",
        "colab": {
          "base_uri": "https://localhost:8080/",
          "height": 52
        }
      },
      "source": [
        "# Rebalancing data to minority class\n",
        "points = xs\n",
        "labels = ys\n",
        "\n",
        "# indexes of 1s and 0s\n",
        "indexes1 = [i for i in range(len(points)) if labels[i] == 1]\n",
        "indexes0 = [i for i in range(len(points)) if labels[i] == 0]\n",
        "\n",
        "# separate 0s and 1s\n",
        "x0, x1, y0, y1 = points[indexes0], points[indexes1], labels[indexes0], labels[indexes1]\n",
        "\n",
        "minority_points, minority_labels = x1, y1  # points and labels for the minority class\n",
        "majority_points, majority_labels = x0, y0  # points and labels for the majority class\n",
        "\n",
        "# get a random permutation of indexes of the majority that includes a number of indexes equal to the minority\n",
        "sample_ind = np.random.permutation(len(majority_labels))[:len(minority_labels)]\n",
        "\n",
        "# subsample the majority\n",
        "majority_points, majority_labels = majority_points[sample_ind], majority_labels[sample_ind]\n",
        "\n",
        "# concat the minority and the sub-sampled majority\n",
        "xs = np.concatenate((majority_points, minority_points))\n",
        "ys = np.concatenate((majority_labels, minority_labels))\n",
        "\n",
        "print(\"xs\", xs.shape, \"ys\", ys.shape)\n",
        "print(\"ys 1\", np.sum(ys))\n",
        "xs, ys = shuffle(xs, ys)"
      ],
      "execution_count": null,
      "outputs": [
        {
          "output_type": "stream",
          "text": [
            "xs (3656, 6, 60, 100) ys (3656,)\n",
            "ys 1 1828\n"
          ],
          "name": "stdout"
        }
      ]
    },
    {
      "cell_type": "markdown",
      "metadata": {
        "id": "Y1R6bB1u1B-l"
      },
      "source": [
        "## Nets and Subnets Architectures"
      ]
    },
    {
      "cell_type": "code",
      "metadata": {
        "id": "fzdNqZBANfjh"
      },
      "source": [
        "\"\"\"\n",
        "    Original code from What's hidden in a randomly weighted neural network? paper\n",
        "    Implemented at https://github.com/allenai/hidden-networks\n",
        "    Remove weigths-initialisation since it is not relevant for us\n",
        "\"\"\"\n",
        "\n",
        "class GetSubnet(autograd.Function):\n",
        "    @staticmethod\n",
        "    def forward(ctx, scores, k):\n",
        "        # Get the supermask by sorting the scores and using the top k%\n",
        "        out = scores.clone()\n",
        "        _, idx = scores.flatten().sort()\n",
        "        j = int((1 - k) * scores.numel())\n",
        "\n",
        "        # flat_out and out access the same memory.\n",
        "        flat_out = out.flatten()\n",
        "        flat_out[idx[:j]] = 0\n",
        "        flat_out[idx[j:]] = 1\n",
        "\n",
        "        return out\n",
        "\n",
        "    @staticmethod\n",
        "    def backward(ctx, g):\n",
        "        # send the gradient g straight-through on the backward pass.\n",
        "        return g, None\n",
        "\n",
        "class SupermaskConv(nn.Conv2d):\n",
        "    def __init__(self, *args, k, scores_init='kaiming_uniform', **kwargs):\n",
        "        super().__init__(*args, **kwargs)\n",
        "        self.k = k\n",
        "        self.scores_init = scores_init\n",
        "\n",
        "        # initialize the scores\n",
        "        self.scores = nn.Parameter(torch.Tensor(self.weight.size()))\n",
        "        if self.scores_init == 'kaiming_normal':\n",
        "          nn.init.kaiming_normal_(self.scores)\n",
        "        elif self.scores_init == 'kaiming_uniform':\n",
        "          nn.init.kaiming_uniform_(self.scores, a=math.sqrt(5))\n",
        "        elif self.scores_init == 'xavier_normal':\n",
        "          nn.init.xavier_normal_(self.scores)\n",
        "        elif self.scores_init == 'best_activation':\n",
        "          nn.init.ones_(self.scores)\n",
        "        else:\n",
        "          nn.init.uniform_(self.scores)\n",
        "\n",
        "        # initialize the weights\n",
        "        nn.init.uniform_(self.weight)\n",
        "        \n",
        "        # NOTE: turn the gradient on the weights off\n",
        "        self.weight.requires_grad = False\n",
        "\n",
        "    def forward(self, x):\n",
        "        subnet = GetSubnet.apply(self.scores.abs(), self.k)\n",
        "        w = self.weight * subnet\n",
        "        x = F.conv2d(\n",
        "            x, w, self.bias, self.stride, self.padding, self.dilation, self.groups\n",
        "        )\n",
        "        return x\n",
        "\n",
        "class SupermaskLinear(nn.Linear):\n",
        "    def __init__(self, *args, k, scores_init='kaiming_uniform', **kwargs):\n",
        "        super().__init__(*args, **kwargs)\n",
        "        self.k = k\n",
        "        self.scores_init = scores_init\n",
        "\n",
        "        # initialize the scores and weights\n",
        "        self.scores = nn.Parameter(torch.Tensor(self.weight.size()))\n",
        "        if self.scores_init == 'kaiming_normal':\n",
        "          nn.init.kaiming_normal_(self.scores)\n",
        "        elif self.scores_init == 'kaiming_uniform':\n",
        "          nn.init.kaiming_uniform_(self.scores, a=math.sqrt(5))\n",
        "        elif self.scores_init == 'xavier_normal':\n",
        "          nn.init.xavier_normal_(self.scores)\n",
        "        elif self.scores_init == 'best_activation':\n",
        "          nn.init.ones_(self.scores)\n",
        "        else:\n",
        "          nn.init.uniform_(self.scores)\n",
        "\n",
        "        nn.init.uniform_(self.weight)\n",
        "\n",
        "        # NOTE: turn the gradient on the weights off\n",
        "        self.weight.requires_grad = False\n",
        "\n",
        "    def forward(self, x):\n",
        "        subnet = GetSubnet.apply(self.scores.abs(), self.k)\n",
        "        w = self.weight * subnet\n",
        "        return F.linear(x, w, self.bias)\n",
        "        return x\n",
        "\n",
        "# NOTE: not used here but we use NON-AFFINE Normalization!\n",
        "# So there is no learned parameters for your nomralization layer.\n",
        "class NonAffineBatchNorm(nn.BatchNorm2d):\n",
        "    def __init__(self, dim):\n",
        "        super(NonAffineBatchNorm, self).__init__(dim, affine=False)"
      ],
      "execution_count": null,
      "outputs": []
    },
    {
      "cell_type": "code",
      "metadata": {
        "id": "MLgKTR1sqhB-"
      },
      "source": [
        "class PrefQNet(nn.Module):\n",
        "    \"\"\"\n",
        "      If q_head_index is None, this uses a linear model on the normalized q outputs.\n",
        "      Otherwise, it gets the Q head with the specified index.\n",
        "    \"\"\" \n",
        "    def __init__(self, fine_tune, k, q_head_index, q_means_stds, use_last_linear, init_from_act_index=None):\n",
        "        super(PrefQNet, self).__init__()\n",
        "        \n",
        "        if not params['use_mnist']:\n",
        "            channels_in = 5\n",
        "            flattened_shape = 960\n",
        "        else:\n",
        "            channels_in = 1\n",
        "            flattened_shape = 4608\n",
        "\n",
        "        if fine_tune:\n",
        "            conv_layer = nn.Conv2d\n",
        "            dense_layer = nn.Linear\n",
        "            additional_args = {}\n",
        "            init_from_act_index = None\n",
        "        else:\n",
        "            conv_layer = SupermaskConv\n",
        "            dense_layer = SupermaskLinear\n",
        "            additional_args = {'k': k}\n",
        "            if init_from_act_index is not None:\n",
        "                additional_args['scores_init'] = 'best_activation'\n",
        "        \n",
        "        self.conv1 = conv_layer(in_channels=channels_in, out_channels=16, kernel_size=3, stride=1, bias=True, **additional_args)\n",
        "        self.conv2 = conv_layer(in_channels=16, out_channels=32, kernel_size=3, stride=2, bias=True, **additional_args)\n",
        "        self.fc1 = dense_layer(in_features=flattened_shape, out_features=64, bias=True, **additional_args)\n",
        "        self.fc2 = dense_layer(in_features=64, out_features=3, bias=True, **additional_args)\n",
        "        \n",
        "        if init_from_act_index is not None:\n",
        "            init_scores = np.zeros((3, 64))\n",
        "            init_scores[:, init_from_act_index] = 1.0\n",
        "            self.fc2.scores.data = torch.from_numpy(init_scores).float()\n",
        "\n",
        "        self.fc3 = dense_layer(in_features=3, out_features=1, bias=True, **additional_args)\n",
        "        self.linear = nn.Linear(1, 1, bias=True)\n",
        "\n",
        "        self.qix = q_head_index\n",
        "        self.qu_mu_s = q_means_stds\n",
        "        self.use_last_linear = use_last_linear\n",
        "\n",
        "    def fwd_conv1(self, x):\n",
        "        x = self.conv1(x)\n",
        "        return F.relu(x)\n",
        "\n",
        "    def fwd_conv2(self, x):\n",
        "        x = self.fwd_conv1(x)\n",
        "        x = self.conv2(x)\n",
        "        return F.relu(x)\n",
        "\n",
        "    def fwd_flat(self, x):\n",
        "        x = self.fwd_conv2(x)\n",
        "        return torch.flatten(torch.transpose(x, 1, 3), 1) # Pre-flattening transpose is necessary for TF-Torch conversion\n",
        "\n",
        "    def fwd_fc1(self, x):\n",
        "        x = self.fwd_flat(x)\n",
        "        x = self.fc1(x)\n",
        "        return F.relu(x)\n",
        "    \n",
        "    def fwd_fc2(self, x):\n",
        "        x = self.fwd_fc1(x)\n",
        "        return self.fc2(x)\n",
        "\n",
        "    def forward(self, x):\n",
        "        x = self.fwd_fc2(x)\n",
        "\n",
        "        x -= torch.tensor(self.qu_mu_s[0], device=device)\n",
        "        x /= torch.tensor(self.qu_mu_s[1], device=device)\n",
        "\n",
        "        if self.qix == None:\n",
        "          x = self.fc3(x)\n",
        "        else:\n",
        "          x = x[: ,self.qix:self.qix+1]\n",
        "\n",
        "        if self.use_last_linear:\n",
        "          x = self.linear(x)\n",
        "\n",
        "        x = torch.sigmoid(x)\n",
        "        return x.flatten()\n",
        "\n",
        "    def load_weights(self, original_weights):\n",
        "        if not params['use_mnist']:\n",
        "            self.conv1.weight.data = torch.from_numpy(np.transpose(original_weights[0]))\n",
        "            self.fc1.weight.data = torch.from_numpy(np.transpose(original_weights[4]))\n",
        "        else:\n",
        "            self.conv1.weight.data = torch.from_numpy(np.transpose(original_weights[0][:,:,:1,:]))\n",
        "            mnist_flt_weights = np.random.rand(64, 4608)\n",
        "            mnist_flt_weights[:, :original_weights[4].shape[0]] = np.transpose(original_weights[4])\n",
        "            mnist_flt_weights = mnist_flt_weights.astype(np.float32)\n",
        "            self.fc1.weight.data = torch.from_numpy(mnist_flt_weights)\n",
        "\n",
        "        self.conv1.bias.data = torch.from_numpy(original_weights[1])\n",
        "        self.conv2.weight.data = torch.from_numpy(np.transpose(original_weights[2]))\n",
        "        self.conv2.bias.data = torch.from_numpy(original_weights[3])\n",
        "        self.fc1.bias.data = torch.from_numpy(original_weights[5])\n",
        "        self.fc2.weight.data = torch.from_numpy(np.transpose(original_weights[6]))\n",
        "        self.fc2.bias.data = torch.from_numpy(original_weights[7])\n",
        "        self.fc3.weight.data = torch.from_numpy(np.ones(shape=[1,3], dtype=np.float32))\n",
        "        self.fc3.bias.data = torch.from_numpy(np.zeros(shape=[1], dtype=np.float32))\n",
        "        self.to(device)"
      ],
      "execution_count": null,
      "outputs": []
    },
    {
      "cell_type": "code",
      "metadata": {
        "id": "22d-UaZtMPMT"
      },
      "source": [
        "class PPOMaskNet(nn.Module):\n",
        "    \"\"\"\n",
        "    A simple torch network to apply supermask techniques on Doom Agent\n",
        "    \"\"\" \n",
        "    def __init__(self, fine_tune, k, use_last_linear,\n",
        "                 means_stds=[[0, 0, 0], [1, 1, 1]],\n",
        "                 dropout=None,\n",
        "                 init_from_act_index=None):\n",
        "        super(PPOMaskNet, self).__init__()\n",
        "        \n",
        "        if fine_tune:\n",
        "            conv_layer = nn.Conv2d\n",
        "            dense_layer = nn.Linear\n",
        "            additional_args = {}\n",
        "            init_from_act_index = None\n",
        "        else:\n",
        "            conv_layer = SupermaskConv\n",
        "            dense_layer = SupermaskLinear\n",
        "            additional_args = {'k': k}\n",
        "            if init_from_act_index is not None:\n",
        "                additional_args['scores_init'] = 'best_activation'\n",
        "        \n",
        "        self.fc1 = dense_layer(in_features=36000, out_features=200, bias=True, **additional_args)\n",
        "        self.fc2 = dense_layer(in_features=200, out_features=100, bias=True, **additional_args)\n",
        "        #self.fc3 = dense_layer(in_features=100, out_features=4, bias=True, **additional_args)\n",
        "        #self.fc4 = dense_layer(in_features=4, out_features=1, bias=True, **additional_args)\n",
        "        self.drop = None\n",
        "        if dropout is not None:\n",
        "            self.drop = nn.Dropout(p=dropout)\n",
        "        self.linear = nn.Linear(100, 1, bias=True)\n",
        "        self.use_last_linear = use_last_linear\n",
        "\n",
        "        self.mu_s = means_stds\n",
        "\n",
        "    def fwd_flat(self, x):\n",
        "        return torch.flatten(torch.transpose(x, 1, 3), 1) # Pre-flattening transpose is necessary for TF-Torch conversion\n",
        "\n",
        "    def fwd_fc1(self, x):\n",
        "        x = self.fwd_flat(x)\n",
        "        x = self.fc1(x)\n",
        "        return F.relu(x)\n",
        "    \n",
        "    def fwd_fc2(self, x):\n",
        "        x = self.fwd_fc1(x)\n",
        "        x = self.fc2(x)\n",
        "        return F.relu(x)\n",
        "\n",
        "    def fwd_fc3(self, x):\n",
        "        x = self.fwd_fc2(x)\n",
        "        return self.fc3(x)\n",
        "\n",
        "    def fwd_fc4(self, x):\n",
        "        x = self.fwd_fc3(x)\n",
        "        return self.fc4(x)\n",
        "\n",
        "    def forward(self, x):\n",
        "        x = self.fwd_fc2(x)\n",
        "        x -= torch.tensor(self.mu_s[0], device=device)\n",
        "        x /= torch.tensor(self.mu_s[1], device=device)\n",
        "\n",
        "        if self.use_last_linear:\n",
        "            if self.drop is not None:\n",
        "                x = self.drop(x)\n",
        "            x = self.linear(x)\n",
        "\n",
        "        x = torch.sigmoid(x)\n",
        "        return x.flatten()\n",
        "\n",
        "    def load_weights(self, original_weights):\n",
        "        self.fc1.weight.data = torch.from_numpy(np.transpose(original_weights[0]))\n",
        "        self.fc1.bias.data = torch.from_numpy(original_weights[1])\n",
        "        self.fc2.weight.data = torch.from_numpy(np.transpose(original_weights[2]))\n",
        "        self.fc2.bias.data = torch.from_numpy(original_weights[3])\n",
        "        #self.fc3.weight.data = torch.from_numpy(np.transpose(original_weights[4]))\n",
        "        #self.fc3.bias.data = torch.from_numpy(original_weights[5])\n",
        "        #self.fc4.weight.data = torch.from_numpy(np.ones(shape=[1, 4], dtype=np.float32))\n",
        "        #self.fc4.bias.data = torch.from_numpy(np.zeros(shape=[1], dtype=np.float32))\n",
        "        self.to(device)"
      ],
      "execution_count": null,
      "outputs": []
    },
    {
      "cell_type": "markdown",
      "metadata": {
        "id": "wpSHf83VSgoJ"
      },
      "source": [
        "## Loading Weights"
      ]
    },
    {
      "cell_type": "code",
      "metadata": {
        "id": "9Bmgjet_cJ7m",
        "outputId": "7ebffe1d-3e40-4048-c3fb-487769062e44",
        "colab": {
          "base_uri": "https://localhost:8080/",
          "height": 70
        }
      },
      "source": [
        "!gsutil cp gs://pref-extr-data/agentv29/actorNet.keras actorNet.keras"
      ],
      "execution_count": null,
      "outputs": [
        {
          "output_type": "stream",
          "text": [
            "Copying gs://pref-extr-data/agentv29/actorNet.keras...\n",
            "/ [1 files][ 27.6 MiB/ 27.6 MiB]                                                \n",
            "Operation completed over 1 objects/27.6 MiB.                                     \n"
          ],
          "name": "stdout"
        }
      ]
    },
    {
      "cell_type": "code",
      "metadata": {
        "id": "DD-16xFHSi5r"
      },
      "source": [
        "# Shortlisting different agents\n",
        "dqn_grid_path = \"Preference_Extraction/saved_model2\"\n",
        "ppo_doom_path = \"/content/actorNet.keras\""
      ],
      "execution_count": null,
      "outputs": []
    },
    {
      "cell_type": "code",
      "metadata": {
        "id": "DduBU77wPgSI"
      },
      "source": [
        "# Choose agent to use\n",
        "model_path = ppo_doom_path\n",
        "params['agent_path'] = model_path"
      ],
      "execution_count": null,
      "outputs": []
    },
    {
      "cell_type": "code",
      "metadata": {
        "id": "ml_EV0Y_KrHR",
        "outputId": "7caffd7d-bff8-4259-d1fd-ab70082715ef",
        "colab": {
          "base_uri": "https://localhost:8080/",
          "height": 317
        }
      },
      "source": [
        "restored_model = tf.keras.models.load_model(model_path)\n",
        "restored_model.summary()\n",
        "original_weights = restored_model.get_weights()"
      ],
      "execution_count": null,
      "outputs": [
        {
          "output_type": "stream",
          "text": [
            "WARNING:tensorflow:No training configuration found in the save file, so the model was *not* compiled. Compile it manually.\n",
            "Model: \"sequential\"\n",
            "_________________________________________________________________\n",
            "Layer (type)                 Output Shape              Param #   \n",
            "=================================================================\n",
            "flatten (Flatten)            (1, 36000)                0         \n",
            "_________________________________________________________________\n",
            "dense (Dense)                (1, 200)                  7200200   \n",
            "_________________________________________________________________\n",
            "dense_1 (Dense)              (1, 100)                  20100     \n",
            "_________________________________________________________________\n",
            "logits (Dense)               (1, 4)                    404       \n",
            "=================================================================\n",
            "Total params: 7,220,704\n",
            "Trainable params: 7,220,704\n",
            "Non-trainable params: 0\n",
            "_________________________________________________________________\n"
          ],
          "name": "stdout"
        }
      ]
    },
    {
      "cell_type": "code",
      "metadata": {
        "id": "AwWx3ioNqhhC"
      },
      "source": [
        "if params['env'] != 'doom':\n",
        "    test_model = PrefQNet(k=1, fine_tune=False, q_head_index=None, q_means_stds=[[0, 0, 0], [1, 1, 1]], use_last_linear=True).to(device)\n",
        "else:\n",
        "    test_model = PPOMaskNet(k=1, fine_tune=False, use_last_linear=True).to(device)\n",
        "\n",
        "test_model.load_weights(original_weights)"
      ],
      "execution_count": null,
      "outputs": []
    },
    {
      "cell_type": "code",
      "metadata": {
        "id": "_i1akicOSL3n"
      },
      "source": [
        "# Testing that weigths loaded property\n",
        "# Change this list to test different torch models\n",
        "torch_model_layers = [test_model.fwd_fc1, \n",
        "                      test_model.fwd_fc2]\n",
        "                      #test_model.fwd_fc3]\n",
        "\n",
        "def check_same(torch_layer, tf_layer):\n",
        "    torch_out = np.transpose(torch_layer(single_observation_torch).detach().cpu().numpy())\n",
        "    torch_out = torch_out.reshape(torch_out.shape[:-1])\n",
        "    tf_out = tf_layer(single_observation)[0].numpy()\n",
        "    np.testing.assert_allclose(torch_out, tf_out, rtol=.1, atol=5)  \n",
        "\n",
        "for i in range(100):\n",
        "    single_observation = np.array([xs[i]])\n",
        "    single_observation_torch = torch.Tensor(np.array([np.transpose(xs[i])]))\n",
        "    single_observation_torch = single_observation_torch.to(device)\n",
        "    \n",
        "    index_shift = 0\n",
        "    for ix, original_lyr in enumerate(restored_model.layers):\n",
        "        if ix < len(torch_model_layers):\n",
        "            if original_lyr.name == 'flatten':\n",
        "                index_shift = 1\n",
        "            else:\n",
        "                tf_sub_model = tf.keras.models.Model(inputs=restored_model.input, outputs=original_lyr.output)\n",
        "                check_same(torch_model_layers[ix-index_shift], tf_sub_model)"
      ],
      "execution_count": null,
      "outputs": []
    },
    {
      "cell_type": "markdown",
      "metadata": {
        "id": "j4DfkOECSppn"
      },
      "source": [
        "### Get data to normalize outputs"
      ]
    },
    {
      "cell_type": "code",
      "metadata": {
        "id": "AbrjckDJn94C",
        "outputId": "6722d703-18d3-493a-ee01-f1474ca7cacc",
        "colab": {
          "base_uri": "https://localhost:8080/",
          "height": 741
        }
      },
      "source": [
        "def get_heads_mu_and_sigma(model, all_obs, num_obs):\n",
        "    \n",
        "    model.eval()\n",
        "\n",
        "    all_obs = shuffle(all_obs)\n",
        "    obs_to_pass = all_obs[:num_obs]\n",
        "\n",
        "    obs_tensor = torch.Tensor(obs_to_pass)\n",
        "    obs_tensor = obs_tensor.to(device)\n",
        "    heads_values = model.fwd_fc2(obs_tensor).detach().cpu().numpy()\n",
        "\n",
        "    mu = heads_values.mean(axis=0)\n",
        "    s = heads_values.std(axis=0)\n",
        "    s[s == 0] = 1\n",
        "    print(\"mu\", mu, \"s\", s)\n",
        "    \n",
        "    return np.array([mu, s])\n",
        "\n",
        "mu_s = get_heads_mu_and_sigma(test_model, xs, 500)"
      ],
      "execution_count": null,
      "outputs": [
        {
          "output_type": "stream",
          "text": [
            "mu [0.00000000e+00 0.00000000e+00 0.00000000e+00 1.13397194e+02\n",
            " 0.00000000e+00 0.00000000e+00 0.00000000e+00 0.00000000e+00\n",
            " 2.92282715e+01 0.00000000e+00 0.00000000e+00 0.00000000e+00\n",
            " 0.00000000e+00 0.00000000e+00 0.00000000e+00 6.80466369e-02\n",
            " 0.00000000e+00 0.00000000e+00 8.93991351e-01 1.86095474e+02\n",
            " 0.00000000e+00 8.62564668e-02 5.36296988e+00 0.00000000e+00\n",
            " 0.00000000e+00 0.00000000e+00 0.00000000e+00 0.00000000e+00\n",
            " 0.00000000e+00 0.00000000e+00 0.00000000e+00 0.00000000e+00\n",
            " 0.00000000e+00 0.00000000e+00 1.12318611e+01 0.00000000e+00\n",
            " 0.00000000e+00 0.00000000e+00 0.00000000e+00 8.87620735e+00\n",
            " 0.00000000e+00 0.00000000e+00 0.00000000e+00 0.00000000e+00\n",
            " 0.00000000e+00 0.00000000e+00 0.00000000e+00 0.00000000e+00\n",
            " 0.00000000e+00 0.00000000e+00 0.00000000e+00 0.00000000e+00\n",
            " 0.00000000e+00 0.00000000e+00 0.00000000e+00 0.00000000e+00\n",
            " 0.00000000e+00 5.68521385e+01 0.00000000e+00 0.00000000e+00\n",
            " 0.00000000e+00 0.00000000e+00 0.00000000e+00 0.00000000e+00\n",
            " 0.00000000e+00 2.87556052e-01 2.19816971e+02 0.00000000e+00\n",
            " 0.00000000e+00 2.94519806e+00 0.00000000e+00 5.35305405e+00\n",
            " 0.00000000e+00 0.00000000e+00 0.00000000e+00 0.00000000e+00\n",
            " 0.00000000e+00 0.00000000e+00 0.00000000e+00 0.00000000e+00\n",
            " 0.00000000e+00 0.00000000e+00 0.00000000e+00 0.00000000e+00\n",
            " 3.89644891e-01 0.00000000e+00 0.00000000e+00 0.00000000e+00\n",
            " 0.00000000e+00 0.00000000e+00 0.00000000e+00 0.00000000e+00\n",
            " 0.00000000e+00 0.00000000e+00 0.00000000e+00 0.00000000e+00\n",
            " 0.00000000e+00 0.00000000e+00 0.00000000e+00 1.18882050e+02] s [ 1.         1.         1.        32.316654   1.         1.\n",
            "  1.         1.        18.393452   1.         1.         1.\n",
            "  1.         1.         1.         0.7992831  1.         1.\n",
            "  5.1470065 69.677216   1.         0.8130601  9.993946   1.\n",
            "  1.         1.         1.         1.         1.         1.\n",
            "  1.         1.         1.         1.        12.417698   1.\n",
            "  1.         1.         1.        11.351973   1.         1.\n",
            "  1.         1.         1.         1.         1.         1.\n",
            "  1.         1.         1.         1.         1.         1.\n",
            "  1.         1.         1.        19.335346   1.         1.\n",
            "  1.         1.         1.         1.         1.         1.408599\n",
            " 84.219246   1.         1.         8.365762   1.         9.077913\n",
            "  1.         1.         1.         1.         1.         1.\n",
            "  1.         1.         1.         1.         1.         1.\n",
            "  2.2611117  1.         1.         1.         1.         1.\n",
            "  1.         1.         1.         1.         1.         1.\n",
            "  1.         1.         1.        24.054405 ]\n"
          ],
          "name": "stdout"
        }
      ]
    },
    {
      "cell_type": "markdown",
      "metadata": {
        "id": "cjzhnnt9UqBB"
      },
      "source": [
        "### Method to get data for one sample run"
      ]
    },
    {
      "cell_type": "code",
      "metadata": {
        "id": "fv8Z2oPJb270"
      },
      "source": [
        "params['num_train'] = 500\n",
        "params['num_val'] = 500\n",
        "params['batch_size'] = 128\n",
        "\n",
        "def get_data_sample(xs=None, ys=None):\n",
        "    xs, ys = shuffle(xs, ys)\n",
        "    \n",
        "    train_split = params['num_train']\n",
        "    test_split = params['num_train']+params['num_val']\n",
        "\n",
        "    tr_data_loader = torch.utils.data.DataLoader(\n",
        "        torch.utils.data.TensorDataset(torch.Tensor(xs[:train_split]), torch.Tensor(ys[:train_split])),\n",
        "        batch_size=params['batch_size'])\n",
        "    \n",
        "    val_data_loader = torch.utils.data.DataLoader(\n",
        "        torch.utils.data.TensorDataset(torch.Tensor(xs[train_split:test_split]), torch.Tensor(ys[train_split:test_split])),\n",
        "        batch_size=params['batch_size'])\n",
        "    \n",
        "    return tr_data_loader, val_data_loader"
      ],
      "execution_count": null,
      "outputs": []
    },
    {
      "cell_type": "markdown",
      "metadata": {
        "id": "Th-WxNDGTKth"
      },
      "source": [
        "### Single run train/test methods"
      ]
    },
    {
      "cell_type": "code",
      "metadata": {
        "id": "xEj7Qn1-H-Es"
      },
      "source": [
        "\"\"\"\n",
        "    Train/Test function for Randomly Weighted Hidden Neural Networks Techniques\n",
        "    Adapted from https://github.com/NesterukSergey/hidden-networks/blob/master/demos/mnist.ipynb\n",
        "\"\"\"\n",
        "\n",
        "def compute_metrics(predictions, true_labels):\n",
        "    predictions = np.array(predictions)\n",
        "    true_labels = np.array(true_labels)\n",
        "    accuracy = np.sum(np.equal((predictions > 0.5).astype(int), true_labels)) / len(true_labels)\n",
        "    fpr, tpr, thresholds = metrics.roc_curve(true_labels, predictions)\n",
        "    auc = metrics.auc(fpr, tpr)\n",
        "    return accuracy, auc\n",
        "\n",
        "def train(model, device, train_loader, optimizer, criterion):\n",
        "    \n",
        "    train_loss = 0\n",
        "    true_labels = []\n",
        "    predictions = [] # labels\n",
        "\n",
        "    model.train()\n",
        "\n",
        "    for data, target in itertools.islice(train_loader, params['num_train']):\n",
        "        data, target = data.to(device), target.to(device)\n",
        "        optimizer.zero_grad()\n",
        "        output = model(data)\n",
        "        loss = criterion(output, target)\n",
        "        loss.backward()\n",
        "        optimizer.step()\n",
        "        train_loss += loss\n",
        "        predictions.extend(output.detach().cpu().numpy())\n",
        "        true_labels.extend(target.detach().cpu().numpy())\n",
        "    \n",
        "    train_loss /= len(train_loader.dataset)\n",
        "    accuracy, auc = compute_metrics(predictions, true_labels)\n",
        "\n",
        "    return train_loss.item(), accuracy, auc\n",
        "\n",
        "def test(model, device, criterion, test_loader, num_test):\n",
        "    true_labels = []\n",
        "    predictions = [] # labels\n",
        "\n",
        "    model.eval()\n",
        "    test_loss = 0\n",
        "    with torch.no_grad():\n",
        "        for data, target in itertools.islice(test_loader, num_test):\n",
        "            data, target = data.to(device), target.to(device)\n",
        "            output = model(data)\n",
        "            test_loss += criterion(output, target)\n",
        "            predictions.extend(output.detach().cpu().numpy())\n",
        "            true_labels.extend(target.detach().cpu().numpy())\n",
        "    \n",
        "    test_loss /= len(test_loader.dataset)\n",
        "    accuracy, auc = compute_metrics(predictions, true_labels)\n",
        "\n",
        "    return test_loss.item(), accuracy, auc\n",
        "\n",
        "def run_model(model, learning_rate, weight_decay, num_epochs):\n",
        "\n",
        "  tr_data_loader, val_data_loader = get_data_sample(xs, ys)\n",
        "\n",
        "  optimizer = optim.Adam(\n",
        "      [p for p in model.parameters() if p.requires_grad],\n",
        "      lr=learning_rate,\n",
        "      weight_decay=weight_decay\n",
        "  )\n",
        "\n",
        "  criterion = nn.BCELoss().to(device)\n",
        "  scheduler = CosineAnnealingLR(optimizer, T_max=len(tr_data_loader))\n",
        "\n",
        "  train_losses = []\n",
        "  test_losses = []\n",
        "  train_accs = []\n",
        "  train_aucs = []\n",
        "  test_accs = []\n",
        "  test_aucs = []  \n",
        "\n",
        "  best_test_loss = np.inf\n",
        "  test_loss_up_since = 0\n",
        "  early_stop = 50\n",
        "  verbose = True\n",
        "  for epoch in range(num_epochs):\n",
        "      train_loss, train_accuracy, train_auc = train(model, device, tr_data_loader, optimizer, criterion)\n",
        "      test_loss, test_accuracy, test_auc = test(model, device, criterion, val_data_loader, params['num_val'])\n",
        "      scheduler.step()\n",
        "      if test_loss < best_test_loss:\n",
        "          best_test_loss = test_loss\n",
        "          test_loss_up_since = 0\n",
        "      test_loss_up_since += 1\n",
        "      if test_loss_up_since > early_stop:\n",
        "          print('Epoch - ', epoch, 'Early stopping')\n",
        "          break\n",
        "      if verbose:\n",
        "          print('Epoch - ', epoch)\n",
        "          print('Train metrics: loss', train_loss, 'accuracy', train_accuracy, 'auc', train_auc)\n",
        "          print('Val metrics: loss', test_loss, 'accuracy', test_accuracy, 'auc', test_auc)\n",
        "\n",
        "      train_losses.append(train_loss)\n",
        "      test_losses.append(test_loss)\n",
        "      train_accs.append(train_accuracy)\n",
        "      train_aucs.append(train_auc)\n",
        "      test_accs.append(test_accuracy)\n",
        "      test_aucs.append(test_auc)\n",
        "\n",
        "  return {'trainLoss': train_losses, 'testLoss': test_losses, \n",
        "          'trainAccuracy': train_accs, 'testAccuracy': test_accs,\n",
        "          'trainAUC': train_aucs, 'testAUC': test_aucs}\n",
        "\n",
        "def plot_metric(results_dict, metric):\n",
        "    plt.title(metric)\n",
        "    plt.xlabel('Epochs')\n",
        "    plt.plot(list(range(1, len(results_dict[f'train{metric}']) + 1)), results_dict[f'train{metric}'], label=f'Train {metric}')\n",
        "    plt.plot(list(range(1, len(results_dict[f'train{metric}']) + 1)), results_dict[f'test{metric}'], label=f'Test {metric}')\n",
        "    plt.legend()\n",
        "    plt.show()\n",
        "\n",
        "def multi_runs(model, learning_rate, weight_decay, plots=False):\n",
        "\n",
        "    averaged_results = {}    \n",
        "    for run_ix in range(params['num_run']):\n",
        " \n",
        "        results = run_model(model, learning_rate=learning_rate, weight_decay=weight_decay, num_epochs=params['num_epochs'])       \n",
        "        print(f'Train pass no. {run_ix+1}')\n",
        "\n",
        "        if (run_ix == 0) and plots:\n",
        "            print('Debug charts for first training run')\n",
        "            plot_metric(results, 'Loss')\n",
        "            plot_metric(results, 'Accuracy')\n",
        "            plot_metric(results, 'AUC')\n",
        "\n",
        "        for res in results:\n",
        "            if len(results[res]) > 0:\n",
        "                if res not in averaged_results:\n",
        "                    averaged_results[res] = [results[res][-1]]\n",
        "                else:\n",
        "                    averaged_results[res].append(results[res][-1])         \n",
        "    \n",
        "    return {x: sum(averaged_results[x]) / params['num_run'] for x in averaged_results}"
      ],
      "execution_count": null,
      "outputs": []
    },
    {
      "cell_type": "code",
      "metadata": {
        "id": "9W4Kl4TEhyX8",
        "outputId": "a8627b29-4103-4570-b15f-4a5fef4218c2",
        "colab": {
          "base_uri": "https://localhost:8080/",
          "height": 1000
        }
      },
      "source": [
        "params['num_run'] = 1\n",
        "params['num_epochs'] = 500\n",
        "\n",
        "model = PPOMaskNet(k=1e-6, fine_tune=False, \n",
        "                   means_stds=mu_s,\n",
        "                   dropout=0.2,\n",
        "                   use_last_linear=True).to(device)\n",
        "model.load_weights(original_weights)\n",
        "multi_runs(model, learning_rate=1e-4, weight_decay=0, plots=True)"
      ],
      "execution_count": null,
      "outputs": [
        {
          "output_type": "stream",
          "text": [
            "Epoch -  0\n",
            "Train metrics: loss 0.0055450135841965675 accuracy 0.5 auc 0.5196963151410423\n",
            "Val metrics: loss 0.005542377009987831 accuracy 0.514 auc 0.5\n",
            "Epoch -  1\n",
            "Train metrics: loss 0.005574568174779415 accuracy 0.498 auc 0.48853581657306516\n",
            "Val metrics: loss 0.005542497616261244 accuracy 0.514 auc 0.5\n",
            "Epoch -  2\n",
            "Train metrics: loss 0.00554695213213563 accuracy 0.474 auc 0.5103201651226419\n",
            "Val metrics: loss 0.005542566999793053 accuracy 0.514 auc 0.5\n",
            "Epoch -  3\n",
            "Train metrics: loss 0.0055999187752604485 accuracy 0.482 auc 0.45725531608505726\n",
            "Val metrics: loss 0.0055425832979381084 accuracy 0.514 auc 0.5\n",
            "Epoch -  4\n",
            "Train metrics: loss 0.0055280644446611404 accuracy 0.568 auc 0.5504328069249108\n",
            "Val metrics: loss 0.0055425832979381084 accuracy 0.514 auc 0.5\n",
            "Epoch -  5\n",
            "Train metrics: loss 0.005524537526071072 accuracy 0.512 auc 0.5382166114657835\n",
            "Val metrics: loss 0.0055425954051315784 accuracy 0.514 auc 0.5\n",
            "Epoch -  6\n",
            "Train metrics: loss 0.005537973716855049 accuracy 0.506 auc 0.5219203507256116\n",
            "Val metrics: loss 0.005542635452002287 accuracy 0.514 auc 0.5\n",
            "Epoch -  7\n",
            "Train metrics: loss 0.005561476573348045 accuracy 0.464 auc 0.48990383846141533\n",
            "Val metrics: loss 0.005542713217437267 accuracy 0.514 auc 0.5\n",
            "Epoch -  8\n",
            "Train metrics: loss 0.005599575117230415 accuracy 0.476 auc 0.4593593497495959\n",
            "Val metrics: loss 0.005542774684727192 accuracy 0.514 auc 0.5\n",
            "Epoch -  9\n",
            "Train metrics: loss 0.0055695497430861 accuracy 0.504 auc 0.49289588633418135\n",
            "Val metrics: loss 0.0055428375490009785 accuracy 0.514 auc 0.5\n",
            "Epoch -  10\n",
            "Train metrics: loss 0.005509619601070881 accuracy 0.538 auc 0.5562488999823997\n",
            "Val metrics: loss 0.005542866885662079 accuracy 0.514 auc 0.5\n",
            "Epoch -  11\n",
            "Train metrics: loss 0.00554268155246973 accuracy 0.508 auc 0.5214243427894847\n",
            "Val metrics: loss 0.0055428724735975266 accuracy 0.514 auc 0.5\n",
            "Epoch -  12\n",
            "Train metrics: loss 0.00557730533182621 accuracy 0.502 auc 0.48173570777132435\n",
            "Val metrics: loss 0.0055428724735975266 accuracy 0.514 auc 0.5\n",
            "Epoch -  13\n",
            "Train metrics: loss 0.005530049558728933 accuracy 0.51 auc 0.5320645130322085\n",
            "Val metrics: loss 0.0055428738705813885 accuracy 0.514 auc 0.5\n",
            "Epoch -  14\n",
            "Train metrics: loss 0.005578503478318453 accuracy 0.47 auc 0.47313557016912267\n",
            "Val metrics: loss 0.0055428678169846535 accuracy 0.514 auc 0.5\n",
            "Epoch -  15\n",
            "Train metrics: loss 0.0055749122984707355 accuracy 0.48 auc 0.48595177522840366\n",
            "Val metrics: loss 0.0055429041385650635 accuracy 0.514 auc 0.5\n",
            "Epoch -  16\n",
            "Train metrics: loss 0.005603848025202751 accuracy 0.472 auc 0.4495591929470872\n",
            "Val metrics: loss 0.005542959552258253 accuracy 0.514 auc 0.5\n",
            "Epoch -  17\n",
            "Train metrics: loss 0.0055615706369280815 accuracy 0.484 auc 0.4849357589721435\n",
            "Val metrics: loss 0.005543022882193327 accuracy 0.514 auc 0.5\n",
            "Epoch -  18\n",
            "Train metrics: loss 0.005595029331743717 accuracy 0.454 auc 0.4575593209491352\n",
            "Val metrics: loss 0.005543059203773737 accuracy 0.514 auc 0.5\n",
            "Epoch -  19\n",
            "Train metrics: loss 0.005547449458390474 accuracy 0.522 auc 0.5195603129650075\n",
            "Val metrics: loss 0.005543066188693047 accuracy 0.514 auc 0.5\n",
            "Epoch -  20\n",
            "Train metrics: loss 0.005571799352765083 accuracy 0.48 auc 0.4800556808908943\n",
            "Val metrics: loss 0.005543066188693047 accuracy 0.514 auc 0.5\n",
            "Epoch -  21\n",
            "Train metrics: loss 0.005598913412541151 accuracy 0.452 auc 0.44319909118545897\n",
            "Val metrics: loss 0.0055430736392736435 accuracy 0.514 auc 0.5\n",
            "Epoch -  22\n",
            "Train metrics: loss 0.00557855237275362 accuracy 0.47 auc 0.47526360421766745\n",
            "Val metrics: loss 0.005543118342757225 accuracy 0.514 auc 0.5\n",
            "Epoch -  23\n",
            "Train metrics: loss 0.005548999644815922 accuracy 0.524 auc 0.5175762812204995\n",
            "Val metrics: loss 0.005543198436498642 accuracy 0.514 auc 0.5\n",
            "Epoch -  24\n",
            "Train metrics: loss 0.005585516337305307 accuracy 0.486 auc 0.4669034704555273\n",
            "Val metrics: loss 0.005543262232095003 accuracy 0.514 auc 0.7670253478727322\n",
            "Epoch -  25\n",
            "Train metrics: loss 0.005544145591557026 accuracy 0.508 auc 0.5187442999087986\n",
            "Val metrics: loss 0.005543340463191271 accuracy 0.514 auc 0.7777537589470146\n",
            "Epoch -  26\n",
            "Train metrics: loss 0.005572203546762466 accuracy 0.502 auc 0.48279172466759473\n",
            "Val metrics: loss 0.0055433614179492 accuracy 0.514 auc 0.8054794959248051\n",
            "Epoch -  27\n",
            "Train metrics: loss 0.005508374888449907 accuracy 0.504 auc 0.5486007776124417\n",
            "Val metrics: loss 0.005543371196836233 accuracy 0.514 auc 0.8054554770940417\n",
            "Epoch -  28\n",
            "Train metrics: loss 0.005541721358895302 accuracy 0.522 auc 0.5227843645498328\n",
            "Val metrics: loss 0.005543371196836233 accuracy 0.514 auc 0.8054554770940417\n",
            "Epoch -  29\n",
            "Train metrics: loss 0.005603950470685959 accuracy 0.478 auc 0.45543128690059037\n",
            "Val metrics: loss 0.005543380510061979 accuracy 0.514 auc 0.8060879729708091\n",
            "Epoch -  30\n",
            "Train metrics: loss 0.005558338947594166 accuracy 0.508 auc 0.5068881102097633\n",
            "Val metrics: loss 0.005543417297303677 accuracy 0.514 auc 0.8064162303245744\n",
            "Epoch -  31\n",
            "Train metrics: loss 0.005576106254011393 accuracy 0.51 auc 0.4887438199011185\n",
            "Val metrics: loss 0.005543469917029142 accuracy 0.514 auc 0.8055035147555684\n",
            "Epoch -  32\n",
            "Train metrics: loss 0.005618207156658173 accuracy 0.452 auc 0.43607097713563414\n",
            "Val metrics: loss 0.005543514154851437 accuracy 0.514 auc 0.814382475861075\n",
            "Epoch -  33\n",
            "Train metrics: loss 0.0055580222979187965 accuracy 0.508 auc 0.5066961071377142\n",
            "Val metrics: loss 0.005543533246964216 accuracy 0.514 auc 0.8234135562280828\n",
            "Epoch -  34\n",
            "Train metrics: loss 0.005604622419923544 accuracy 0.46 auc 0.44306308900942415\n",
            "Val metrics: loss 0.005543556064367294 accuracy 0.514 auc 0.8223807465052602\n",
            "Epoch -  35\n",
            "Train metrics: loss 0.005569398403167725 accuracy 0.498 auc 0.4903278452455239\n",
            "Val metrics: loss 0.005543561186641455 accuracy 0.514 auc 0.8224287841667868\n",
            "Epoch -  36\n",
            "Train metrics: loss 0.005575288087129593 accuracy 0.462 auc 0.4846557544920719\n",
            "Val metrics: loss 0.005543561186641455 accuracy 0.514 auc 0.8224287841667868\n",
            "Epoch -  37\n",
            "Train metrics: loss 0.005553930997848511 accuracy 0.48 auc 0.5012000192003072\n",
            "Val metrics: loss 0.0055435700342059135 accuracy 0.514 auc 0.821932394997678\n",
            "Epoch -  38\n",
            "Train metrics: loss 0.005536933429539204 accuracy 0.532 auc 0.5322245155922495\n",
            "Val metrics: loss 0.005543598905205727 accuracy 0.514 auc 0.8059678788169926\n",
            "Epoch -  39\n",
            "Train metrics: loss 0.005520406179130077 accuracy 0.524 auc 0.5412166594665514\n",
            "Val metrics: loss 0.005543638486415148 accuracy 0.514 auc 0.8241341211509824\n",
            "Epoch -  40\n",
            "Train metrics: loss 0.005582854617387056 accuracy 0.454 auc 0.47064753036048573\n",
            "Val metrics: loss 0.005543611478060484 accuracy 0.514 auc 0.823877920289507\n",
            "Epoch -  41\n",
            "Train metrics: loss 0.005537271499633789 accuracy 0.502 auc 0.5174162786604586\n",
            "Val metrics: loss 0.005543593317270279 accuracy 0.514 auc 0.8239900081664024\n",
            "Epoch -  42\n",
            "Train metrics: loss 0.005585878621786833 accuracy 0.48 auc 0.4708075329205268\n",
            "Val metrics: loss 0.0055435774847865105 accuracy 0.514 auc 0.8138140301996766\n",
            "Epoch -  43\n",
            "Train metrics: loss 0.00554760592058301 accuracy 0.512 auc 0.516480263684219\n",
            "Val metrics: loss 0.005543574690818787 accuracy 0.514 auc 0.8140141871227042\n",
            "Epoch -  44\n",
            "Train metrics: loss 0.005514952819794416 accuracy 0.51 auc 0.5488567817085073\n",
            "Val metrics: loss 0.005543574690818787 accuracy 0.514 auc 0.8140141871227042\n",
            "Epoch -  45\n",
            "Train metrics: loss 0.0055925725027918816 accuracy 0.5 auc 0.46555144882318117\n",
            "Val metrics: loss 0.005543577019125223 accuracy 0.514 auc 0.8136779234920177\n",
            "Epoch -  46\n",
            "Train metrics: loss 0.005570483393967152 accuracy 0.472 auc 0.4795676730827694\n",
            "Val metrics: loss 0.005543592851608992 accuracy 0.514 auc 0.814446526076444\n",
            "Epoch -  47\n",
            "Train metrics: loss 0.005556948017328978 accuracy 0.494 auc 0.49874397990367847\n",
            "Val metrics: loss 0.005543611943721771 accuracy 0.514 auc 0.8194984868136619\n",
            "Epoch -  48\n",
            "Train metrics: loss 0.00556728383526206 accuracy 0.488 auc 0.492007872125954\n",
            "Val metrics: loss 0.0055436622351408005 accuracy 0.514 auc 0.8232133993050552\n",
            "Epoch -  49\n",
            "Train metrics: loss 0.005581877660006285 accuracy 0.49 auc 0.4774316389062225\n",
            "Val metrics: loss 0.005543710198253393 accuracy 0.514 auc 0.8211237610286465\n",
            "Epoch -  50 Early stopping\n",
            "Train pass no. 1\n",
            "Debug charts for first training run\n"
          ],
          "name": "stdout"
        },
        {
          "output_type": "display_data",
          "data": {
            "image/png": "[encoded data removed]",
            "text/plain": [
              "<Figure size 432x288 with 1 Axes>"
            ]
          },
          "metadata": {
            "tags": [],
            "needs_background": "light"
          }
        },
        {
          "output_type": "display_data",
          "data": {
            "image/png": "[encoded data removed]",
            "text/plain": [
              "<Figure size 432x288 with 1 Axes>"
            ]
          },
          "metadata": {
            "tags": [],
            "needs_background": "light"
          }
        },
        {
          "output_type": "display_data",
          "data": {
            "image/png": "[encoded data removed]",
            "text/plain": [
              "<Figure size 432x288 with 1 Axes>"
            ]
          },
          "metadata": {
            "tags": [],
            "needs_background": "light"
          }
        },
        {
          "output_type": "execute_result",
          "data": {
            "text/plain": [
              "{'testAUC': 0.8211237610286465,\n",
              " 'testAccuracy': 0.514,\n",
              " 'testLoss': 0.005543710198253393,\n",
              " 'trainAUC': 0.4774316389062225,\n",
              " 'trainAccuracy': 0.49,\n",
              " 'trainLoss': 0.005581877660006285}"
            ]
          },
          "metadata": {
            "tags": []
          },
          "execution_count": 32
        }
      ]
    },
    {
      "cell_type": "code",
      "metadata": {
        "id": "3A7uhDz5n_pT"
      },
      "source": [
        "obs_to_pass = xs[:20]\n",
        "obs_tensor = torch.Tensor(obs_to_pass)\n",
        "obs_tensor = obs_tensor.to(device)\n",
        "y_hat = model.linear.forward(model.fc2.forward(model.fc1.forward(model.fwd_flat(obs_tensor)))).detach().cpu().numpy()"
      ],
      "execution_count": null,
      "outputs": []
    },
    {
      "cell_type": "code",
      "metadata": {
        "id": "IfrzQUuIpjmo",
        "outputId": "7835fb7b-e119-4df6-e8b6-ff8ff5714cd6",
        "colab": {
          "base_uri": "https://localhost:8080/",
          "height": 370
        }
      },
      "source": [
        "list(zip(y_hat, ys[:20]))"
      ],
      "execution_count": null,
      "outputs": [
        {
          "output_type": "execute_result",
          "data": {
            "text/plain": [
              "[(array([0.1250588], dtype=float32), True),\n",
              " (array([0.12495093], dtype=float32), True),\n",
              " (array([0.12501633], dtype=float32), False),\n",
              " (array([0.12509783], dtype=float32), True),\n",
              " (array([0.1251204], dtype=float32), True),\n",
              " (array([0.12486207], dtype=float32), False),\n",
              " (array([0.12510873], dtype=float32), True),\n",
              " (array([0.12494467], dtype=float32), False),\n",
              " (array([0.12495093], dtype=float32), True),\n",
              " (array([0.12508222], dtype=float32), False),\n",
              " (array([0.12509783], dtype=float32), True),\n",
              " (array([0.12481277], dtype=float32), False),\n",
              " (array([0.12423654], dtype=float32), False),\n",
              " (array([0.12435955], dtype=float32), False),\n",
              " (array([0.12466638], dtype=float32), False),\n",
              " (array([0.12517461], dtype=float32), True),\n",
              " (array([0.12510873], dtype=float32), True),\n",
              " (array([0.12393266], dtype=float32), False),\n",
              " (array([0.12503144], dtype=float32), False),\n",
              " (array([0.12471586], dtype=float32), False)]"
            ]
          },
          "metadata": {
            "tags": []
          },
          "execution_count": 39
        }
      ]
    },
    {
      "cell_type": "code",
      "metadata": {
        "id": "a_uKkivPei-R",
        "outputId": "be9f318a-bf1f-4090-9b77-e9e48910c4fd",
        "colab": {
          "base_uri": "https://localhost:8080/",
          "height": 125
        }
      },
      "source": [
        "params"
      ],
      "execution_count": null,
      "outputs": [
        {
          "output_type": "execute_result",
          "data": {
            "text/plain": [
              "{'agent_path': '/content/actorNet.keras',\n",
              " 'env': 'doom',\n",
              " 'num_epochs': 500,\n",
              " 'num_run': 1,\n",
              " 'num_train': 500,\n",
              " 'num_val': 1000}"
            ]
          },
          "metadata": {
            "tags": []
          },
          "execution_count": 30
        }
      ]
    },
    {
      "cell_type": "markdown",
      "metadata": {
        "id": "Clre1lUXPXYg"
      },
      "source": [
        "## Initialise Subnets Search with activation that obtained optimal AUC in previous experiment\n",
        "\n",
        "We do this both as a sanity check as well as a potential improvement"
      ]
    },
    {
      "cell_type": "code",
      "metadata": {
        "id": "RO5NwFAmPh2l",
        "outputId": "934c0786-040b-4462-dee0-a533b1ed5702",
        "colab": {
          "base_uri": "https://localhost:8080/",
          "height": 70
        }
      },
      "source": [
        "from sklearn import metrics \n",
        "\n",
        "acts = []\n",
        "prefs = []\n",
        "\n",
        "for data in all_raw_data:\n",
        "    for i in range(data.observation.shape[0]):\n",
        "        acts.append(np.copy(data.policy_info[\"activations\"][i]))\n",
        "        prefs.append((data.policy_info['satisfaction'].as_list()[i] > -6).astype(int))\n",
        "\n",
        "acts = np.array(acts)\n",
        "prefs = np.array(prefs)\n",
        "\n",
        "def display_auc_info(xs, ys):\n",
        "    \n",
        "    def calc_auc(xs, ys, i):\n",
        "        fpr, tpr, thresholds = metrics.roc_curve(ys, xs[:,i], pos_label=1)\n",
        "        return metrics.auc(fpr, tpr)\n",
        "\n",
        "\n",
        "    multi_runs_aucs = []\n",
        "    for run_ix in range(50):\n",
        "        xs, ys = shuffle(xs, ys)\n",
        "        flat_xs = np.reshape(xs, (xs.shape[0], -1))\n",
        "        aucs = []    \n",
        "        \n",
        "        for i in range(flat_xs.shape[1]):\n",
        "            auc = calc_auc(flat_xs[:params['num_train']], ys[:params['num_train']], i)\n",
        "            aucs.append(auc)  \n",
        "\n",
        "        aucs = np.array(aucs)\n",
        "        multi_runs_aucs.append(aucs)\n",
        "\n",
        "    aucs = np.array(multi_runs_aucs)\n",
        "    aucs = aucs.mean(axis=0)\n",
        "\n",
        "    print(\"AUC from only picking a single activation\")\n",
        "    print(np.argmin(aucs), \"train\", 1-np.min(aucs), \"val\", 1-calc_auc(flat_xs[params['num_train']:], ys[params['num_train']:], np.argmin(aucs)))\n",
        "    print(np.argmax(aucs), \"train\", np.max(aucs), \"val\", calc_auc(flat_xs[params['num_train']:], ys[params['num_train']:], np.argmax(aucs)))\n",
        "  \n",
        "display_auc_info(acts, prefs)"
      ],
      "execution_count": null,
      "outputs": [
        {
          "output_type": "stream",
          "text": [
            "AUC from only picking a single activation\n",
            "34 train 0.8168389427248516 val 0.8203183087179845\n",
            "13 train 0.6133060108723783 val 0.6179787990821131\n"
          ],
          "name": "stdout"
        }
      ]
    },
    {
      "cell_type": "code",
      "metadata": {
        "id": "M9Yw8LJRYEnL",
        "outputId": "9dbfdd4e-a3a5-4d67-9017-e75a952d36eb",
        "colab": {
          "base_uri": "https://localhost:8080/",
          "height": 123
        }
      },
      "source": [
        "best_act_index = 34\n",
        "K = 66774 / 67152  # Num of weigths with all dense activations except one set to 0 / Number of total weights\n",
        "\n",
        "params['num_epochs'] = 1\n",
        "results = multi_runs(fine_tune=False, K=1, q_head_index=None, q_means_stds=q_mu_s, \n",
        "                     use_last_linear=False, init_from_act_index=best_act_index,\n",
        "                     learning_rate=0.000, weight_decay=0.000, plots=False)\n",
        "\n",
        "####results is a tuple where the first element is the dict\n",
        "print(1-max(results[0]['testAUC']))"
      ],
      "execution_count": null,
      "outputs": [
        {
          "output_type": "stream",
          "text": [
            "Train pass no. 1\n",
            "Train pass no. 2\n",
            "Train pass no. 3\n",
            "Train pass no. 4\n",
            "Train pass no. 5\n",
            "0.8254807323986824\n"
          ],
          "name": "stdout"
        }
      ]
    }
  ]
}