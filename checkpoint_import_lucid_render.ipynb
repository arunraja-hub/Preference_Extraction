{
  "nbformat": 4,
  "nbformat_minor": 0,
  "metadata": {
    "colab": {
      "name": "checkpoint_import_lucid_render.ipynb",
      "provenance": [],
      "collapsed_sections": [
        "9tAQ3OiTyBY0",
        "b8Wjnp3ydqaS",
        "GZSCD0v92Svr"
      ],
      "include_colab_link": true
    },
    "kernelspec": {
      "name": "python3",
      "display_name": "Python 3"
    },
    "accelerator": "GPU"
  },
  "cells": [
    {
      "cell_type": "markdown",
      "metadata": {
        "id": "view-in-github",
        "colab_type": "text"
      },
      "source": [
        "<a href=\"https://colab.research.google.com/github/arunraja-hub/Preference_Extraction/blob/export_model/checkpoint_import_lucid_render.ipynb\" target=\"_parent\"><img src=\"https://colab.research.google.com/assets/colab-badge.svg\" alt=\"Open In Colab\"/></a>"
      ]
    },
    {
      "cell_type": "markdown",
      "metadata": {
        "id": "9tAQ3OiTyBY0",
        "colab_type": "text"
      },
      "source": [
        "#Install and imports"
      ]
    },
    {
      "cell_type": "code",
      "metadata": {
        "id": "2qFyxgPWtOMF",
        "colab_type": "code",
        "outputId": "8e576330-e8a0-46f6-9eec-22cc79374b59",
        "colab": {
          "base_uri": "https://localhost:8080/",
          "height": 1000
        }
      },
      "source": [
        "%tensorflow_version 1.x\n",
        "\n",
        "!pip uninstall lucid -y\n",
        "!pip install git+https://github.com/tensorflow/lucid.git#egg=lucid\n",
        "\n",
        "!git clone https://github.com/arunraja-hub/Preference_Extraction.git\n",
        "!cd Preference_Extraction && git checkout export_model\n",
        "\n",
        "!pip install tf-agents==0.3.0\n",
        "\n",
        "!pip uninstall tensorflow-probability -y\n",
        "!pip install tensorflow-probability==0.7.0\n",
        "\n",
        "!npm install -g svelte-cli@2.2.0\n",
        "\n",
        "import tensorflow as tf\n",
        "\n",
        "tf.compat.v1.disable_eager_execution()"
      ],
      "execution_count": 1,
      "outputs": [
        {
          "output_type": "stream",
          "text": [
            "TensorFlow 1.x selected.\n",
            "Uninstalling lucid-0.3.8:\n",
            "  Successfully uninstalled lucid-0.3.8\n",
            "Collecting lucid\n",
            "  Cloning https://github.com/tensorflow/lucid.git to /tmp/pip-install-vz_id7do/lucid\n",
            "  Running command git clone -q https://github.com/tensorflow/lucid.git /tmp/pip-install-vz_id7do/lucid\n",
            "Requirement already satisfied: numpy in /usr/local/lib/python3.6/dist-packages (from lucid) (1.18.2)\n",
            "Requirement already satisfied: scipy in /usr/local/lib/python3.6/dist-packages (from lucid) (1.4.1)\n",
            "Requirement already satisfied: scikit-learn in /usr/local/lib/python3.6/dist-packages (from lucid) (0.22.2.post1)\n",
            "Requirement already satisfied: umap-learn in /usr/local/lib/python3.6/dist-packages (from lucid) (0.4.1)\n",
            "Requirement already satisfied: nltk in /usr/local/lib/python3.6/dist-packages (from lucid) (3.2.5)\n",
            "Requirement already satisfied: ipython in /usr/local/lib/python3.6/dist-packages (from lucid) (5.5.0)\n",
            "Requirement already satisfied: pillow in /usr/local/lib/python3.6/dist-packages (from lucid) (7.0.0)\n",
            "Requirement already satisfied: future in /usr/local/lib/python3.6/dist-packages (from lucid) (0.16.0)\n",
            "Requirement already satisfied: decorator in /usr/local/lib/python3.6/dist-packages (from lucid) (4.4.2)\n",
            "Requirement already satisfied: pyopengl in /usr/local/lib/python3.6/dist-packages (from lucid) (3.1.5)\n",
            "Requirement already satisfied: filelock in /usr/local/lib/python3.6/dist-packages (from lucid) (3.0.12)\n",
            "Requirement already satisfied: cachetools in /usr/local/lib/python3.6/dist-packages (from lucid) (3.1.1)\n",
            "Requirement already satisfied: more-itertools in /usr/local/lib/python3.6/dist-packages (from lucid) (8.2.0)\n",
            "Requirement already satisfied: joblib>=0.11 in /usr/local/lib/python3.6/dist-packages (from scikit-learn->lucid) (0.14.1)\n",
            "Requirement already satisfied: numba!=0.47,>=0.46 in /usr/local/lib/python3.6/dist-packages (from umap-learn->lucid) (0.48.0)\n",
            "Requirement already satisfied: tbb>=2019.0 in /usr/local/lib/python3.6/dist-packages (from umap-learn->lucid) (2020.0.133)\n",
            "Requirement already satisfied: six in /usr/local/lib/python3.6/dist-packages (from nltk->lucid) (1.12.0)\n",
            "Requirement already satisfied: pickleshare in /usr/local/lib/python3.6/dist-packages (from ipython->lucid) (0.7.5)\n",
            "Requirement already satisfied: prompt-toolkit<2.0.0,>=1.0.4 in /usr/local/lib/python3.6/dist-packages (from ipython->lucid) (1.0.18)\n",
            "Requirement already satisfied: traitlets>=4.2 in /usr/local/lib/python3.6/dist-packages (from ipython->lucid) (4.3.3)\n",
            "Requirement already satisfied: setuptools>=18.5 in /usr/local/lib/python3.6/dist-packages (from ipython->lucid) (46.1.3)\n",
            "Requirement already satisfied: simplegeneric>0.8 in /usr/local/lib/python3.6/dist-packages (from ipython->lucid) (0.8.1)\n",
            "Requirement already satisfied: pygments in /usr/local/lib/python3.6/dist-packages (from ipython->lucid) (2.1.3)\n",
            "Requirement already satisfied: pexpect; sys_platform != \"win32\" in /usr/local/lib/python3.6/dist-packages (from ipython->lucid) (4.8.0)\n",
            "Requirement already satisfied: llvmlite<0.32.0,>=0.31.0dev0 in /usr/local/lib/python3.6/dist-packages (from numba!=0.47,>=0.46->umap-learn->lucid) (0.31.0)\n",
            "Requirement already satisfied: wcwidth in /usr/local/lib/python3.6/dist-packages (from prompt-toolkit<2.0.0,>=1.0.4->ipython->lucid) (0.1.9)\n",
            "Requirement already satisfied: ipython-genutils in /usr/local/lib/python3.6/dist-packages (from traitlets>=4.2->ipython->lucid) (0.2.0)\n",
            "Requirement already satisfied: ptyprocess>=0.5 in /usr/local/lib/python3.6/dist-packages (from pexpect; sys_platform != \"win32\"->ipython->lucid) (0.6.0)\n",
            "Building wheels for collected packages: lucid\n",
            "  Building wheel for lucid (setup.py) ... \u001b[?25l\u001b[?25hdone\n",
            "  Created wheel for lucid: filename=lucid-0.3.9-cp36-none-any.whl size=155742 sha256=f4fb2199e3b7c2f61c833bc6a6ae1fea1e19553b77e5b75e4eb58ce44b07f71d\n",
            "  Stored in directory: /tmp/pip-ephem-wheel-cache-5ifm7r14/wheels/64/c2/51/7238e75f457453774587708b21cd3cf32f9a86456648688634\n",
            "Successfully built lucid\n",
            "Installing collected packages: lucid\n",
            "Successfully installed lucid-0.3.9\n",
            "Cloning into 'Preference_Extraction'...\n",
            "remote: Enumerating objects: 549, done.\u001b[K\n",
            "remote: Counting objects: 100% (549/549), done.\u001b[K\n",
            "remote: Compressing objects: 100% (538/538), done.\u001b[K\n",
            "remote: Total 549 (delta 27), reused 514 (delta 10), pack-reused 0\u001b[K\n",
            "Receiving objects: 100% (549/549), 20.54 MiB | 15.76 MiB/s, done.\n",
            "Resolving deltas: 100% (27/27), done.\n",
            "Branch 'export_model' set up to track remote branch 'export_model' from 'origin'.\n",
            "Switched to a new branch 'export_model'\n",
            "Collecting tf-agents==0.3.0\n",
            "\u001b[?25l  Downloading https://files.pythonhosted.org/packages/0e/a5/07aa82a3cd586d193b2f086b50a2fd0f48bd888ae204389f666eb178cfb3/tf_agents-0.3.0-py2.py3-none-any.whl (839kB)\n",
            "\u001b[K     |████████████████████████████████| 839kB 35.1MB/s \n",
            "\u001b[?25hRequirement already satisfied: numpy>=1.13.3 in /usr/local/lib/python3.6/dist-packages (from tf-agents==0.3.0) (1.18.2)\n",
            "Requirement already satisfied: six>=1.10.0 in /usr/local/lib/python3.6/dist-packages (from tf-agents==0.3.0) (1.12.0)\n",
            "Requirement already satisfied: tensorflow-probability>=0.6.0 in /tensorflow-1.15.2/python3.6 (from tf-agents==0.3.0) (0.7.0)\n",
            "Requirement already satisfied: absl-py>=0.6.1 in /usr/local/lib/python3.6/dist-packages (from tf-agents==0.3.0) (0.9.0)\n",
            "Collecting gin-config==0.1.3\n",
            "\u001b[?25l  Downloading https://files.pythonhosted.org/packages/8c/be/c984b1c8a7ba1c385b32bf39c7a225cd9f713d49705898309d01b60fd0e7/gin_config-0.1.3-py3-none-any.whl (43kB)\n",
            "\u001b[K     |████████████████████████████████| 51kB 9.3MB/s \n",
            "\u001b[?25hRequirement already satisfied: decorator in /usr/local/lib/python3.6/dist-packages (from tensorflow-probability>=0.6.0->tf-agents==0.3.0) (4.4.2)\n",
            "Requirement already satisfied: cloudpickle>=0.6.1 in /usr/local/lib/python3.6/dist-packages (from tensorflow-probability>=0.6.0->tf-agents==0.3.0) (1.3.0)\n",
            "Installing collected packages: gin-config, tf-agents\n",
            "  Found existing installation: gin-config 0.3.0\n",
            "    Uninstalling gin-config-0.3.0:\n",
            "      Successfully uninstalled gin-config-0.3.0\n",
            "Successfully installed gin-config-0.1.3 tf-agents-0.3.0\n",
            "Uninstalling tensorflow-probability-0.7.0:\n",
            "  Successfully uninstalled tensorflow-probability-0.7.0\n",
            "Collecting tensorflow-probability==0.7.0\n",
            "\u001b[?25l  Downloading https://files.pythonhosted.org/packages/3e/3a/c10b6c22320531c774402ac7186d1b673374e2a9d12502cbc8d811e4601c/tensorflow_probability-0.7.0-py2.py3-none-any.whl (981kB)\n",
            "\u001b[K     |████████████████████████████████| 983kB 12.7MB/s \n",
            "\u001b[?25hRequirement already satisfied: numpy>=1.13.3 in /usr/local/lib/python3.6/dist-packages (from tensorflow-probability==0.7.0) (1.18.2)\n",
            "Requirement already satisfied: decorator in /usr/local/lib/python3.6/dist-packages (from tensorflow-probability==0.7.0) (4.4.2)\n",
            "Requirement already satisfied: cloudpickle>=0.6.1 in /usr/local/lib/python3.6/dist-packages (from tensorflow-probability==0.7.0) (1.3.0)\n",
            "Requirement already satisfied: six>=1.10.0 in /usr/local/lib/python3.6/dist-packages (from tensorflow-probability==0.7.0) (1.12.0)\n",
            "Installing collected packages: tensorflow-probability\n",
            "  Found existing installation: tensorflow-probability 0.9.0\n",
            "    Uninstalling tensorflow-probability-0.9.0:\n",
            "      Successfully uninstalled tensorflow-probability-0.9.0\n",
            "Successfully installed tensorflow-probability-0.7.0\n",
            "\u001b[K\u001b[?25h/tools/node/bin/svelte -> /tools/node/lib/node_modules/svelte-cli/bin.js\n",
            "+ svelte-cli@2.2.0\n",
            "added 2 packages from 1 contributor in 1.286s\n"
          ],
          "name": "stdout"
        }
      ]
    },
    {
      "cell_type": "code",
      "metadata": {
        "id": "ap5q8W9Mx8Yi",
        "colab_type": "code",
        "colab": {
          "base_uri": "https://localhost:8080/",
          "height": 71
        },
        "outputId": "0e58003a-19f6-40fb-cb9c-9590e2c07d8d"
      },
      "source": [
        "import numpy as np\n",
        "\n",
        "from tf_agents.trajectories.time_step import TimeStep\n",
        "from tf_agents.specs.tensor_spec import TensorSpec\n",
        "from tf_agents.specs.tensor_spec import TensorSpec\n",
        "from tf_agents.specs.tensor_spec import BoundedTensorSpec\n",
        "from tf_agents.networks import q_network\n",
        "\n",
        "import lucid.modelzoo.vision_models as models\n",
        "from lucid.misc.io import show\n",
        "import lucid.misc.io.showing as showing\n",
        "from lucid.misc.channel_reducer import ChannelReducer\n",
        "import lucid.optvis.param as param\n",
        "import lucid.optvis.objectives as objectives\n",
        "import lucid.optvis.render as render\n",
        "from lucid.misc.io import show, load\n",
        "from lucid.misc.io.reading import read\n",
        "from lucid.misc.io.showing import _image_url\n",
        "import lucid.scratch.web.svelte as lucid_svelte\n",
        "from lucid.misc.gradient_override import gradient_override_map\n",
        "\n",
        "\n",
        "import concurrent.futures\n",
        "import itertools\n",
        "import os\n",
        "import pickle\n",
        "import random\n",
        "import sys\n",
        "import time\n",
        "\n",
        "import matplotlib.pyplot as plt\n",
        "import numpy as np\n",
        "import PIL\n",
        "from PIL import Image\n",
        "import scipy\n",
        "from scipy import ndimage\n",
        "from sklearn import metrics\n",
        "from sklearn.utils import shuffle\n",
        "import io\n",
        "import collections\n",
        "\n",
        "import urllib.request\n",
        "from urllib.error import HTTPError"
      ],
      "execution_count": 2,
      "outputs": [
        {
          "output_type": "stream",
          "text": [
            "/usr/local/lib/python3.6/dist-packages/sklearn/utils/deprecation.py:144: FutureWarning: The sklearn.decomposition.base module is  deprecated in version 0.22 and will be removed in version 0.24. The corresponding classes / functions should instead be imported from sklearn.decomposition. Anything that cannot be imported from sklearn.decomposition is now part of the private API.\n",
            "  warnings.warn(message, FutureWarning)\n"
          ],
          "name": "stderr"
        }
      ]
    },
    {
      "cell_type": "markdown",
      "metadata": {
        "id": "QI_qeDUfyJEn",
        "colab_type": "text"
      },
      "source": [
        "# Examine the checkpoint vars"
      ]
    },
    {
      "cell_type": "code",
      "metadata": {
        "id": "NCPu6NZBEjGh",
        "colab_type": "code",
        "colab": {}
      },
      "source": [
        "cpt_name = \"Preference_Extraction/model_ckpt\""
      ],
      "execution_count": 0,
      "outputs": []
    },
    {
      "cell_type": "code",
      "metadata": {
        "id": "2H4LfezV9Kfh",
        "colab_type": "code",
        "outputId": "3d13fbf8-8996-455e-ba71-0e214aeb12d1",
        "colab": {
          "base_uri": "https://localhost:8080/",
          "height": 544
        }
      },
      "source": [
        "cpt_var_names = tf.compat.v1.train.list_variables(cpt_name)\n",
        "[name for name in cpt_var_names if ((\"bias\" in name[0]) or (\"kernel\" in name[0])) and not (\"OPTIMIZER\" in name[0])]"
      ],
      "execution_count": 4,
      "outputs": [
        {
          "output_type": "execute_result",
          "data": {
            "text/plain": [
              "[('agent/_q_network/_encoder/_postprocessing_layers/0/bias/.ATTRIBUTES/VARIABLE_VALUE',\n",
              "  [16]),\n",
              " ('agent/_q_network/_encoder/_postprocessing_layers/0/kernel/.ATTRIBUTES/VARIABLE_VALUE',\n",
              "  [3, 3, 5, 16]),\n",
              " ('agent/_q_network/_encoder/_postprocessing_layers/1/bias/.ATTRIBUTES/VARIABLE_VALUE',\n",
              "  [32]),\n",
              " ('agent/_q_network/_encoder/_postprocessing_layers/1/kernel/.ATTRIBUTES/VARIABLE_VALUE',\n",
              "  [3, 3, 16, 32]),\n",
              " ('agent/_q_network/_encoder/_postprocessing_layers/3/bias/.ATTRIBUTES/VARIABLE_VALUE',\n",
              "  [64]),\n",
              " ('agent/_q_network/_encoder/_postprocessing_layers/3/kernel/.ATTRIBUTES/VARIABLE_VALUE',\n",
              "  [960, 64]),\n",
              " ('agent/_q_network/_q_value_layer/bias/.ATTRIBUTES/VARIABLE_VALUE', [3]),\n",
              " ('agent/_q_network/_q_value_layer/kernel/.ATTRIBUTES/VARIABLE_VALUE',\n",
              "  [64, 3]),\n",
              " ('agent/_target_q_network/_encoder/_postprocessing_layers/0/bias/.ATTRIBUTES/VARIABLE_VALUE',\n",
              "  [16]),\n",
              " ('agent/_target_q_network/_encoder/_postprocessing_layers/0/kernel/.ATTRIBUTES/VARIABLE_VALUE',\n",
              "  [3, 3, 5, 16]),\n",
              " ('agent/_target_q_network/_encoder/_postprocessing_layers/1/bias/.ATTRIBUTES/VARIABLE_VALUE',\n",
              "  [32]),\n",
              " ('agent/_target_q_network/_encoder/_postprocessing_layers/1/kernel/.ATTRIBUTES/VARIABLE_VALUE',\n",
              "  [3, 3, 16, 32]),\n",
              " ('agent/_target_q_network/_encoder/_postprocessing_layers/3/bias/.ATTRIBUTES/VARIABLE_VALUE',\n",
              "  [64]),\n",
              " ('agent/_target_q_network/_encoder/_postprocessing_layers/3/kernel/.ATTRIBUTES/VARIABLE_VALUE',\n",
              "  [960, 64]),\n",
              " ('agent/_target_q_network/_q_value_layer/bias/.ATTRIBUTES/VARIABLE_VALUE',\n",
              "  [3]),\n",
              " ('agent/_target_q_network/_q_value_layer/kernel/.ATTRIBUTES/VARIABLE_VALUE',\n",
              "  [64, 3])]"
            ]
          },
          "metadata": {
            "tags": []
          },
          "execution_count": 4
        }
      ]
    },
    {
      "cell_type": "markdown",
      "metadata": {
        "id": "qtLlCNBLdBBK",
        "colab_type": "text"
      },
      "source": [
        "# Setup model"
      ]
    },
    {
      "cell_type": "code",
      "metadata": {
        "id": "jyivcV3jEJSn",
        "colab_type": "code",
        "outputId": "9bbfb923-a7de-4eb2-9bb1-c01ded600b94",
        "colab": {
          "base_uri": "https://localhost:8080/",
          "height": 1000
        }
      },
      "source": [
        "tf.reset_default_graph()\n",
        "\n",
        "input_shape = [14, 16, 5]\n",
        "\n",
        "my_input = tf.placeholder(tf.float32, shape=[None] + input_shape, name=\"my_input\")\n",
        "q_vals = q_network.QNetwork(input_tensor_spec=TensorSpec(shape=(14, 16, 5)), action_spec=BoundedTensorSpec((), tf.int32, 0, 2), conv_layer_params = [[16, 3, 1], [32, 3, 2]], fc_layer_params = [64])(my_input)\n",
        "\n",
        "[tensor for op in tf.get_default_graph().get_operations() for tensor in op.values()]"
      ],
      "execution_count": 5,
      "outputs": [
        {
          "output_type": "stream",
          "text": [
            "WARNING:tensorflow:Entity <bound method QNetwork.call of <tf_agents.networks.q_network.QNetwork object at 0x7f65ebf46b70>> could not be transformed and will be executed as-is. Please report this to the AutoGraph team. When filing the bug, set the verbosity to 10 (on Linux, `export AUTOGRAPH_VERBOSITY=10`) and attach the full output. Cause: Bad argument number for Name: 3, expecting 4\n"
          ],
          "name": "stdout"
        },
        {
          "output_type": "stream",
          "text": [
            "WARNING:tensorflow:Entity <bound method QNetwork.call of <tf_agents.networks.q_network.QNetwork object at 0x7f65ebf46b70>> could not be transformed and will be executed as-is. Please report this to the AutoGraph team. When filing the bug, set the verbosity to 10 (on Linux, `export AUTOGRAPH_VERBOSITY=10`) and attach the full output. Cause: Bad argument number for Name: 3, expecting 4\n"
          ],
          "name": "stderr"
        },
        {
          "output_type": "stream",
          "text": [
            "WARNING: Entity <bound method QNetwork.call of <tf_agents.networks.q_network.QNetwork object at 0x7f65ebf46b70>> could not be transformed and will be executed as-is. Please report this to the AutoGraph team. When filing the bug, set the verbosity to 10 (on Linux, `export AUTOGRAPH_VERBOSITY=10`) and attach the full output. Cause: Bad argument number for Name: 3, expecting 4\n",
            "WARNING:tensorflow:Entity <bound method EncodingNetwork.call of <tf_agents.networks.encoding_network.EncodingNetwork object at 0x7f65ebf46a90>> could not be transformed and will be executed as-is. Please report this to the AutoGraph team. When filing the bug, set the verbosity to 10 (on Linux, `export AUTOGRAPH_VERBOSITY=10`) and attach the full output. Cause: module 'gast' has no attribute 'Num'\n"
          ],
          "name": "stdout"
        },
        {
          "output_type": "stream",
          "text": [
            "WARNING:tensorflow:Entity <bound method EncodingNetwork.call of <tf_agents.networks.encoding_network.EncodingNetwork object at 0x7f65ebf46a90>> could not be transformed and will be executed as-is. Please report this to the AutoGraph team. When filing the bug, set the verbosity to 10 (on Linux, `export AUTOGRAPH_VERBOSITY=10`) and attach the full output. Cause: module 'gast' has no attribute 'Num'\n"
          ],
          "name": "stderr"
        },
        {
          "output_type": "stream",
          "text": [
            "WARNING: Entity <bound method EncodingNetwork.call of <tf_agents.networks.encoding_network.EncodingNetwork object at 0x7f65ebf46a90>> could not be transformed and will be executed as-is. Please report this to the AutoGraph team. When filing the bug, set the verbosity to 10 (on Linux, `export AUTOGRAPH_VERBOSITY=10`) and attach the full output. Cause: module 'gast' has no attribute 'Num'\n",
            "WARNING:tensorflow:From /tensorflow-1.15.2/python3.6/tensorflow_core/python/ops/resource_variable_ops.py:1630: calling BaseResourceVariable.__init__ (from tensorflow.python.ops.resource_variable_ops) with constraint is deprecated and will be removed in a future version.\n",
            "Instructions for updating:\n",
            "If using Keras pass *_constraint arguments to layers.\n"
          ],
          "name": "stdout"
        },
        {
          "output_type": "stream",
          "text": [
            "WARNING:tensorflow:From /tensorflow-1.15.2/python3.6/tensorflow_core/python/ops/resource_variable_ops.py:1630: calling BaseResourceVariable.__init__ (from tensorflow.python.ops.resource_variable_ops) with constraint is deprecated and will be removed in a future version.\n",
            "Instructions for updating:\n",
            "If using Keras pass *_constraint arguments to layers.\n"
          ],
          "name": "stderr"
        },
        {
          "output_type": "execute_result",
          "data": {
            "text/plain": [
              "[<tf.Tensor 'my_input:0' shape=(?, 14, 16, 5) dtype=float32>,\n",
              " <tf.Tensor 'QNetwork/EncodingNetwork/EncodingNetwork/conv2d/kernel/Initializer/truncated_normal/shape:0' shape=(4,) dtype=int32>,\n",
              " <tf.Tensor 'QNetwork/EncodingNetwork/EncodingNetwork/conv2d/kernel/Initializer/truncated_normal/mean:0' shape=() dtype=float32>,\n",
              " <tf.Tensor 'QNetwork/EncodingNetwork/EncodingNetwork/conv2d/kernel/Initializer/truncated_normal/stddev:0' shape=() dtype=float32>,\n",
              " <tf.Tensor 'QNetwork/EncodingNetwork/EncodingNetwork/conv2d/kernel/Initializer/truncated_normal/TruncatedNormal:0' shape=(3, 3, 5, 16) dtype=float32>,\n",
              " <tf.Tensor 'QNetwork/EncodingNetwork/EncodingNetwork/conv2d/kernel/Initializer/truncated_normal/mul:0' shape=(3, 3, 5, 16) dtype=float32>,\n",
              " <tf.Tensor 'QNetwork/EncodingNetwork/EncodingNetwork/conv2d/kernel/Initializer/truncated_normal:0' shape=(3, 3, 5, 16) dtype=float32>,\n",
              " <tf.Tensor 'QNetwork/EncodingNetwork/EncodingNetwork/conv2d/kernel:0' shape=() dtype=resource>,\n",
              " <tf.Tensor 'QNetwork/EncodingNetwork/EncodingNetwork/conv2d/kernel/IsInitialized/VarIsInitializedOp:0' shape=() dtype=bool>,\n",
              " <tf.Tensor 'QNetwork/EncodingNetwork/EncodingNetwork/conv2d/kernel/Read/ReadVariableOp:0' shape=(3, 3, 5, 16) dtype=float32>,\n",
              " <tf.Tensor 'QNetwork/EncodingNetwork/EncodingNetwork/conv2d/bias/Initializer/zeros:0' shape=(16,) dtype=float32>,\n",
              " <tf.Tensor 'QNetwork/EncodingNetwork/EncodingNetwork/conv2d/bias:0' shape=() dtype=resource>,\n",
              " <tf.Tensor 'QNetwork/EncodingNetwork/EncodingNetwork/conv2d/bias/IsInitialized/VarIsInitializedOp:0' shape=() dtype=bool>,\n",
              " <tf.Tensor 'QNetwork/EncodingNetwork/EncodingNetwork/conv2d/bias/Read/ReadVariableOp:0' shape=(16,) dtype=float32>,\n",
              " <tf.Tensor 'QNetwork/EncodingNetwork/EncodingNetwork/conv2d/dilation_rate:0' shape=(2,) dtype=int32>,\n",
              " <tf.Tensor 'QNetwork/EncodingNetwork/EncodingNetwork/conv2d/Conv2D/ReadVariableOp:0' shape=(3, 3, 5, 16) dtype=float32>,\n",
              " <tf.Tensor 'QNetwork/EncodingNetwork/EncodingNetwork/conv2d/Conv2D:0' shape=(?, 12, 14, 16) dtype=float32>,\n",
              " <tf.Tensor 'QNetwork/EncodingNetwork/EncodingNetwork/conv2d/BiasAdd/ReadVariableOp:0' shape=(16,) dtype=float32>,\n",
              " <tf.Tensor 'QNetwork/EncodingNetwork/EncodingNetwork/conv2d/BiasAdd:0' shape=(?, 12, 14, 16) dtype=float32>,\n",
              " <tf.Tensor 'QNetwork/EncodingNetwork/EncodingNetwork/conv2d/Relu:0' shape=(?, 12, 14, 16) dtype=float32>,\n",
              " <tf.Tensor 'QNetwork/EncodingNetwork/EncodingNetwork/conv2d_1/kernel/Initializer/truncated_normal/shape:0' shape=(4,) dtype=int32>,\n",
              " <tf.Tensor 'QNetwork/EncodingNetwork/EncodingNetwork/conv2d_1/kernel/Initializer/truncated_normal/mean:0' shape=() dtype=float32>,\n",
              " <tf.Tensor 'QNetwork/EncodingNetwork/EncodingNetwork/conv2d_1/kernel/Initializer/truncated_normal/stddev:0' shape=() dtype=float32>,\n",
              " <tf.Tensor 'QNetwork/EncodingNetwork/EncodingNetwork/conv2d_1/kernel/Initializer/truncated_normal/TruncatedNormal:0' shape=(3, 3, 16, 32) dtype=float32>,\n",
              " <tf.Tensor 'QNetwork/EncodingNetwork/EncodingNetwork/conv2d_1/kernel/Initializer/truncated_normal/mul:0' shape=(3, 3, 16, 32) dtype=float32>,\n",
              " <tf.Tensor 'QNetwork/EncodingNetwork/EncodingNetwork/conv2d_1/kernel/Initializer/truncated_normal:0' shape=(3, 3, 16, 32) dtype=float32>,\n",
              " <tf.Tensor 'QNetwork/EncodingNetwork/EncodingNetwork/conv2d_1/kernel:0' shape=() dtype=resource>,\n",
              " <tf.Tensor 'QNetwork/EncodingNetwork/EncodingNetwork/conv2d_1/kernel/IsInitialized/VarIsInitializedOp:0' shape=() dtype=bool>,\n",
              " <tf.Tensor 'QNetwork/EncodingNetwork/EncodingNetwork/conv2d_1/kernel/Read/ReadVariableOp:0' shape=(3, 3, 16, 32) dtype=float32>,\n",
              " <tf.Tensor 'QNetwork/EncodingNetwork/EncodingNetwork/conv2d_1/bias/Initializer/zeros:0' shape=(32,) dtype=float32>,\n",
              " <tf.Tensor 'QNetwork/EncodingNetwork/EncodingNetwork/conv2d_1/bias:0' shape=() dtype=resource>,\n",
              " <tf.Tensor 'QNetwork/EncodingNetwork/EncodingNetwork/conv2d_1/bias/IsInitialized/VarIsInitializedOp:0' shape=() dtype=bool>,\n",
              " <tf.Tensor 'QNetwork/EncodingNetwork/EncodingNetwork/conv2d_1/bias/Read/ReadVariableOp:0' shape=(32,) dtype=float32>,\n",
              " <tf.Tensor 'QNetwork/EncodingNetwork/EncodingNetwork/conv2d_1/dilation_rate:0' shape=(2,) dtype=int32>,\n",
              " <tf.Tensor 'QNetwork/EncodingNetwork/EncodingNetwork/conv2d_1/Conv2D/ReadVariableOp:0' shape=(3, 3, 16, 32) dtype=float32>,\n",
              " <tf.Tensor 'QNetwork/EncodingNetwork/EncodingNetwork/conv2d_1/Conv2D:0' shape=(?, 5, 6, 32) dtype=float32>,\n",
              " <tf.Tensor 'QNetwork/EncodingNetwork/EncodingNetwork/conv2d_1/BiasAdd/ReadVariableOp:0' shape=(32,) dtype=float32>,\n",
              " <tf.Tensor 'QNetwork/EncodingNetwork/EncodingNetwork/conv2d_1/BiasAdd:0' shape=(?, 5, 6, 32) dtype=float32>,\n",
              " <tf.Tensor 'QNetwork/EncodingNetwork/EncodingNetwork/conv2d_1/Relu:0' shape=(?, 5, 6, 32) dtype=float32>,\n",
              " <tf.Tensor 'QNetwork/EncodingNetwork/flatten/Shape:0' shape=(4,) dtype=int32>,\n",
              " <tf.Tensor 'QNetwork/EncodingNetwork/flatten/strided_slice/stack:0' shape=(1,) dtype=int32>,\n",
              " <tf.Tensor 'QNetwork/EncodingNetwork/flatten/strided_slice/stack_1:0' shape=(1,) dtype=int32>,\n",
              " <tf.Tensor 'QNetwork/EncodingNetwork/flatten/strided_slice/stack_2:0' shape=(1,) dtype=int32>,\n",
              " <tf.Tensor 'QNetwork/EncodingNetwork/flatten/strided_slice:0' shape=() dtype=int32>,\n",
              " <tf.Tensor 'QNetwork/EncodingNetwork/flatten/Reshape/shape/1:0' shape=() dtype=int32>,\n",
              " <tf.Tensor 'QNetwork/EncodingNetwork/flatten/Reshape/shape:0' shape=(2,) dtype=int32>,\n",
              " <tf.Tensor 'QNetwork/EncodingNetwork/flatten/Reshape:0' shape=(?, 960) dtype=float32>,\n",
              " <tf.Tensor 'QNetwork/EncodingNetwork/EncodingNetwork/dense/kernel/Initializer/truncated_normal/shape:0' shape=(2,) dtype=int32>,\n",
              " <tf.Tensor 'QNetwork/EncodingNetwork/EncodingNetwork/dense/kernel/Initializer/truncated_normal/mean:0' shape=() dtype=float32>,\n",
              " <tf.Tensor 'QNetwork/EncodingNetwork/EncodingNetwork/dense/kernel/Initializer/truncated_normal/stddev:0' shape=() dtype=float32>,\n",
              " <tf.Tensor 'QNetwork/EncodingNetwork/EncodingNetwork/dense/kernel/Initializer/truncated_normal/TruncatedNormal:0' shape=(960, 64) dtype=float32>,\n",
              " <tf.Tensor 'QNetwork/EncodingNetwork/EncodingNetwork/dense/kernel/Initializer/truncated_normal/mul:0' shape=(960, 64) dtype=float32>,\n",
              " <tf.Tensor 'QNetwork/EncodingNetwork/EncodingNetwork/dense/kernel/Initializer/truncated_normal:0' shape=(960, 64) dtype=float32>,\n",
              " <tf.Tensor 'QNetwork/EncodingNetwork/EncodingNetwork/dense/kernel:0' shape=() dtype=resource>,\n",
              " <tf.Tensor 'QNetwork/EncodingNetwork/EncodingNetwork/dense/kernel/IsInitialized/VarIsInitializedOp:0' shape=() dtype=bool>,\n",
              " <tf.Tensor 'QNetwork/EncodingNetwork/EncodingNetwork/dense/kernel/Read/ReadVariableOp:0' shape=(960, 64) dtype=float32>,\n",
              " <tf.Tensor 'QNetwork/EncodingNetwork/EncodingNetwork/dense/bias/Initializer/zeros:0' shape=(64,) dtype=float32>,\n",
              " <tf.Tensor 'QNetwork/EncodingNetwork/EncodingNetwork/dense/bias:0' shape=() dtype=resource>,\n",
              " <tf.Tensor 'QNetwork/EncodingNetwork/EncodingNetwork/dense/bias/IsInitialized/VarIsInitializedOp:0' shape=() dtype=bool>,\n",
              " <tf.Tensor 'QNetwork/EncodingNetwork/EncodingNetwork/dense/bias/Read/ReadVariableOp:0' shape=(64,) dtype=float32>,\n",
              " <tf.Tensor 'QNetwork/EncodingNetwork/EncodingNetwork/dense/MatMul/ReadVariableOp:0' shape=(960, 64) dtype=float32>,\n",
              " <tf.Tensor 'QNetwork/EncodingNetwork/EncodingNetwork/dense/MatMul:0' shape=(?, 64) dtype=float32>,\n",
              " <tf.Tensor 'QNetwork/EncodingNetwork/EncodingNetwork/dense/BiasAdd/ReadVariableOp:0' shape=(64,) dtype=float32>,\n",
              " <tf.Tensor 'QNetwork/EncodingNetwork/EncodingNetwork/dense/BiasAdd:0' shape=(?, 64) dtype=float32>,\n",
              " <tf.Tensor 'QNetwork/EncodingNetwork/EncodingNetwork/dense/Relu:0' shape=(?, 64) dtype=float32>,\n",
              " <tf.Tensor 'QNetwork/dense/kernel/Initializer/random_uniform/shape:0' shape=(2,) dtype=int32>,\n",
              " <tf.Tensor 'QNetwork/dense/kernel/Initializer/random_uniform/min:0' shape=() dtype=float32>,\n",
              " <tf.Tensor 'QNetwork/dense/kernel/Initializer/random_uniform/max:0' shape=() dtype=float32>,\n",
              " <tf.Tensor 'QNetwork/dense/kernel/Initializer/random_uniform/RandomUniform:0' shape=(64, 3) dtype=float32>,\n",
              " <tf.Tensor 'QNetwork/dense/kernel/Initializer/random_uniform/sub:0' shape=() dtype=float32>,\n",
              " <tf.Tensor 'QNetwork/dense/kernel/Initializer/random_uniform/mul:0' shape=(64, 3) dtype=float32>,\n",
              " <tf.Tensor 'QNetwork/dense/kernel/Initializer/random_uniform:0' shape=(64, 3) dtype=float32>,\n",
              " <tf.Tensor 'QNetwork/dense/kernel:0' shape=() dtype=resource>,\n",
              " <tf.Tensor 'QNetwork/dense/kernel/IsInitialized/VarIsInitializedOp:0' shape=() dtype=bool>,\n",
              " <tf.Tensor 'QNetwork/dense/kernel/Read/ReadVariableOp:0' shape=(64, 3) dtype=float32>,\n",
              " <tf.Tensor 'QNetwork/dense/bias/Initializer/Const:0' shape=(3,) dtype=float32>,\n",
              " <tf.Tensor 'QNetwork/dense/bias:0' shape=() dtype=resource>,\n",
              " <tf.Tensor 'QNetwork/dense/bias/IsInitialized/VarIsInitializedOp:0' shape=() dtype=bool>,\n",
              " <tf.Tensor 'QNetwork/dense/bias/Read/ReadVariableOp:0' shape=(3,) dtype=float32>,\n",
              " <tf.Tensor 'QNetwork/dense/MatMul/ReadVariableOp:0' shape=(64, 3) dtype=float32>,\n",
              " <tf.Tensor 'QNetwork/dense/MatMul:0' shape=(?, 3) dtype=float32>,\n",
              " <tf.Tensor 'QNetwork/dense/BiasAdd/ReadVariableOp:0' shape=(3,) dtype=float32>,\n",
              " <tf.Tensor 'QNetwork/dense/BiasAdd:0' shape=(?, 3) dtype=float32>]"
            ]
          },
          "metadata": {
            "tags": []
          },
          "execution_count": 5
        }
      ]
    },
    {
      "cell_type": "markdown",
      "metadata": {
        "id": "2IBJo4kTdH58",
        "colab_type": "text"
      },
      "source": [
        "# Get the var_name_to_prev_var_name mapping by matching tensors with the same shape."
      ]
    },
    {
      "cell_type": "code",
      "metadata": {
        "id": "oHJd9f3EEMVX",
        "colab_type": "code",
        "outputId": "ee8058b7-fc76-49d0-bc2d-20eb47bd6d94",
        "colab": {
          "base_uri": "https://localhost:8080/",
          "height": 272
        }
      },
      "source": [
        "cpt_var_info = tf.compat.v1.train.list_variables(cpt_name)\n",
        "cpt_var_info = [var for var in cpt_var_info if ((\"bias\" in var[0]) or (\"kernel\" in var[0])) and not (\"OPTIMIZER\" in var[0]) and not (\"_target_q_network\" in var[0])]\n",
        "\n",
        "shape_to_cpt_var_name = {tuple(var[1]): var[0] for var in cpt_var_info}\n",
        "shape_to_cpt_var_name"
      ],
      "execution_count": 6,
      "outputs": [
        {
          "output_type": "execute_result",
          "data": {
            "text/plain": [
              "{(3,): 'agent/_q_network/_q_value_layer/bias/.ATTRIBUTES/VARIABLE_VALUE',\n",
              " (3,\n",
              "  3,\n",
              "  5,\n",
              "  16): 'agent/_q_network/_encoder/_postprocessing_layers/0/kernel/.ATTRIBUTES/VARIABLE_VALUE',\n",
              " (3,\n",
              "  3,\n",
              "  16,\n",
              "  32): 'agent/_q_network/_encoder/_postprocessing_layers/1/kernel/.ATTRIBUTES/VARIABLE_VALUE',\n",
              " (16,): 'agent/_q_network/_encoder/_postprocessing_layers/0/bias/.ATTRIBUTES/VARIABLE_VALUE',\n",
              " (32,): 'agent/_q_network/_encoder/_postprocessing_layers/1/bias/.ATTRIBUTES/VARIABLE_VALUE',\n",
              " (64,): 'agent/_q_network/_encoder/_postprocessing_layers/3/bias/.ATTRIBUTES/VARIABLE_VALUE',\n",
              " (64, 3): 'agent/_q_network/_q_value_layer/kernel/.ATTRIBUTES/VARIABLE_VALUE',\n",
              " (960,\n",
              "  64): 'agent/_q_network/_encoder/_postprocessing_layers/3/kernel/.ATTRIBUTES/VARIABLE_VALUE'}"
            ]
          },
          "metadata": {
            "tags": []
          },
          "execution_count": 6
        }
      ]
    },
    {
      "cell_type": "code",
      "metadata": {
        "id": "YSSE_JK0EV33",
        "colab_type": "code",
        "outputId": "5f55c76b-983d-4378-c18a-d6b08746282b",
        "colab": {
          "base_uri": "https://localhost:8080/",
          "height": 275
        }
      },
      "source": [
        "current_vars = tf.get_collection(tf.GraphKeys.VARIABLES)\n",
        "current_vars\n",
        "\n",
        "shape_to_current_var_name = {tuple(var.get_shape().as_list()): var.name[:-2] for var in current_vars}\n",
        "shape_to_current_var_name"
      ],
      "execution_count": 7,
      "outputs": [
        {
          "output_type": "stream",
          "text": [
            "WARNING:tensorflow:From /tensorflow-1.15.2/python3.6/tensorflow_core/python/util/decorator_utils.py:145: GraphKeys.VARIABLES (from tensorflow.python.framework.ops) is deprecated and will be removed in a future version.\n",
            "Instructions for updating:\n",
            "Use `tf.GraphKeys.GLOBAL_VARIABLES` instead.\n"
          ],
          "name": "stdout"
        },
        {
          "output_type": "stream",
          "text": [
            "WARNING:tensorflow:From /tensorflow-1.15.2/python3.6/tensorflow_core/python/util/decorator_utils.py:145: GraphKeys.VARIABLES (from tensorflow.python.framework.ops) is deprecated and will be removed in a future version.\n",
            "Instructions for updating:\n",
            "Use `tf.GraphKeys.GLOBAL_VARIABLES` instead.\n"
          ],
          "name": "stderr"
        },
        {
          "output_type": "execute_result",
          "data": {
            "text/plain": [
              "{(3,): 'QNetwork/dense/bias',\n",
              " (3, 3, 5, 16): 'QNetwork/EncodingNetwork/EncodingNetwork/conv2d/kernel',\n",
              " (3, 3, 16, 32): 'QNetwork/EncodingNetwork/EncodingNetwork/conv2d_1/kernel',\n",
              " (16,): 'QNetwork/EncodingNetwork/EncodingNetwork/conv2d/bias',\n",
              " (32,): 'QNetwork/EncodingNetwork/EncodingNetwork/conv2d_1/bias',\n",
              " (64,): 'QNetwork/EncodingNetwork/EncodingNetwork/dense/bias',\n",
              " (64, 3): 'QNetwork/dense/kernel',\n",
              " (960, 64): 'QNetwork/EncodingNetwork/EncodingNetwork/dense/kernel'}"
            ]
          },
          "metadata": {
            "tags": []
          },
          "execution_count": 7
        }
      ]
    },
    {
      "cell_type": "code",
      "metadata": {
        "id": "BzVYSz64EYLQ",
        "colab_type": "code",
        "outputId": "fa2593ef-2710-413b-a79e-46c101b412ab",
        "colab": {
          "base_uri": "https://localhost:8080/",
          "height": 153
        }
      },
      "source": [
        "var_name_to_prev_var_name = {}\n",
        "\n",
        "for shape in shape_to_current_var_name:\n",
        "  var_name_to_prev_var_name[shape_to_current_var_name[shape]] = shape_to_cpt_var_name[shape]\n",
        "\n",
        "var_name_to_prev_var_name"
      ],
      "execution_count": 8,
      "outputs": [
        {
          "output_type": "execute_result",
          "data": {
            "text/plain": [
              "{'QNetwork/EncodingNetwork/EncodingNetwork/conv2d/bias': 'agent/_q_network/_encoder/_postprocessing_layers/0/bias/.ATTRIBUTES/VARIABLE_VALUE',\n",
              " 'QNetwork/EncodingNetwork/EncodingNetwork/conv2d/kernel': 'agent/_q_network/_encoder/_postprocessing_layers/0/kernel/.ATTRIBUTES/VARIABLE_VALUE',\n",
              " 'QNetwork/EncodingNetwork/EncodingNetwork/conv2d_1/bias': 'agent/_q_network/_encoder/_postprocessing_layers/1/bias/.ATTRIBUTES/VARIABLE_VALUE',\n",
              " 'QNetwork/EncodingNetwork/EncodingNetwork/conv2d_1/kernel': 'agent/_q_network/_encoder/_postprocessing_layers/1/kernel/.ATTRIBUTES/VARIABLE_VALUE',\n",
              " 'QNetwork/EncodingNetwork/EncodingNetwork/dense/bias': 'agent/_q_network/_encoder/_postprocessing_layers/3/bias/.ATTRIBUTES/VARIABLE_VALUE',\n",
              " 'QNetwork/EncodingNetwork/EncodingNetwork/dense/kernel': 'agent/_q_network/_encoder/_postprocessing_layers/3/kernel/.ATTRIBUTES/VARIABLE_VALUE',\n",
              " 'QNetwork/dense/bias': 'agent/_q_network/_q_value_layer/bias/.ATTRIBUTES/VARIABLE_VALUE',\n",
              " 'QNetwork/dense/kernel': 'agent/_q_network/_q_value_layer/kernel/.ATTRIBUTES/VARIABLE_VALUE'}"
            ]
          },
          "metadata": {
            "tags": []
          },
          "execution_count": 8
        }
      ]
    },
    {
      "cell_type": "markdown",
      "metadata": {
        "id": "b8Wjnp3ydqaS",
        "colab_type": "text"
      },
      "source": [
        "# Read data"
      ]
    },
    {
      "cell_type": "code",
      "metadata": {
        "id": "y5DtdGrSHqnz",
        "colab_type": "code",
        "colab": {}
      },
      "source": [
        "class Trajectory(\n",
        "    collections.namedtuple('Trajectory', [\n",
        "        'step_type',\n",
        "        'observation',\n",
        "        'action',\n",
        "        'policy_info',\n",
        "        'next_step_type',\n",
        "        'reward',\n",
        "        'discount',\n",
        "    ])):\n",
        "  \"\"\"Stores the observation the agent saw and the action it took.\n",
        "      The rest of the attributes aren't used in this code.\"\"\"\n",
        "  __slots__ = ()\n",
        "\n",
        "class ListWrapper(object):\n",
        "  def __init__(self, list_to_wrap):\n",
        "    self._list = list_to_wrap\n",
        "\n",
        "  def as_list(self):\n",
        "    return self._list\n",
        "\n",
        "class RenameUnpickler(pickle.Unpickler):\n",
        "    def find_class(self, module, name):\n",
        "      if name == \"Trajectory\":\n",
        "        return Trajectory\n",
        "      if name == \"ListWrapper\":\n",
        "        return ListWrapper\n",
        "\n",
        "      return super(RenameUnpickler, self).find_class(module, name)\n",
        "\n",
        "def rename_load(s):\n",
        "    \"\"\"Helper function analogous to pickle.loads().\"\"\"\n",
        "    return RenameUnpickler(s, encoding='latin1').load()"
      ],
      "execution_count": 0,
      "outputs": []
    },
    {
      "cell_type": "code",
      "metadata": {
        "id": "6Nt_g4fjIHzz",
        "colab_type": "code",
        "colab": {}
      },
      "source": [
        "# Modified read trajectories functions to read files from local storage\n",
        "\n",
        "def load_file(full_path):\n",
        "    try:\n",
        "        with open(full_path, 'rb') as f:\n",
        "            data = rename_load(f)\n",
        "            return data\n",
        "    except:\n",
        "        return None\n",
        "    \n",
        "def all_load_data(base_path):\n",
        "    \n",
        "    executor = concurrent.futures.ThreadPoolExecutor(max_workers=100)\n",
        "    \n",
        "    futures = []\n",
        "    for i in range(5000):\n",
        "        full_path = os.path.join(base_path, \"ts\"+str(i)+\".pickle\")\n",
        "        future = executor.submit(load_file, full_path)\n",
        "        futures.append(future)\n",
        "    \n",
        "    raw_data = []\n",
        "    for future in concurrent.futures.as_completed(futures):\n",
        "        result = future.result()\n",
        "        if result:\n",
        "            raw_data.append(result)\n",
        "    \n",
        "    return raw_data\n",
        "\n",
        "\n",
        "all_raw_data = all_load_data(\"Preference_Extraction/data/simple_env_1/\")"
      ],
      "execution_count": 0,
      "outputs": []
    },
    {
      "cell_type": "markdown",
      "metadata": {
        "id": "SmIRId7SdRO8",
        "colab_type": "text"
      },
      "source": [
        "# Do the warmstart and verify it worked"
      ]
    },
    {
      "cell_type": "code",
      "metadata": {
        "id": "WbPnCcoDESau",
        "colab_type": "code",
        "outputId": "569d1136-5a9b-48f6-b616-02f39699baef",
        "colab": {
          "base_uri": "https://localhost:8080/",
          "height": 119
        }
      },
      "source": [
        "tf.train.warm_start(cpt_name, var_name_to_prev_var_name=var_name_to_prev_var_name)\n",
        "init_op = tf.global_variables_initializer()"
      ],
      "execution_count": 11,
      "outputs": [
        {
          "output_type": "stream",
          "text": [
            "INFO:tensorflow:Warm-starting from: Preference_Extraction/model_ckpt\n"
          ],
          "name": "stdout"
        },
        {
          "output_type": "stream",
          "text": [
            "INFO:tensorflow:Warm-starting from: Preference_Extraction/model_ckpt\n"
          ],
          "name": "stderr"
        },
        {
          "output_type": "stream",
          "text": [
            "INFO:tensorflow:Warm-starting variables only in TRAINABLE_VARIABLES.\n"
          ],
          "name": "stdout"
        },
        {
          "output_type": "stream",
          "text": [
            "INFO:tensorflow:Warm-starting variables only in TRAINABLE_VARIABLES.\n"
          ],
          "name": "stderr"
        },
        {
          "output_type": "stream",
          "text": [
            "INFO:tensorflow:Warm-started 8 variables.\n"
          ],
          "name": "stdout"
        },
        {
          "output_type": "stream",
          "text": [
            "INFO:tensorflow:Warm-started 8 variables.\n"
          ],
          "name": "stderr"
        }
      ]
    },
    {
      "cell_type": "code",
      "metadata": {
        "id": "ml_Ivqa7IceG",
        "colab_type": "code",
        "outputId": "0dff6b4d-bf84-4cb1-eecb-aa92f0234d59",
        "colab": {
          "base_uri": "https://localhost:8080/",
          "height": 1000
        }
      },
      "source": [
        "activation_tensor = tf.get_default_graph().get_tensor_by_name(\"QNetwork/EncodingNetwork/EncodingNetwork/dense/Relu:0\")\n",
        "weights = tf.get_default_graph().get_tensor_by_name(\"QNetwork/dense/kernel/Read/ReadVariableOp:0\")\n",
        "bias = tf.get_default_graph().get_tensor_by_name(\"QNetwork/dense/bias/Read/ReadVariableOp:0\")\n",
        "\n",
        "with tf.Session() as sess:\n",
        "  sess.run(init_op)\n",
        "\n",
        "  for i in range(len(all_raw_data[0].observation)):\n",
        "    single_observation = np.array([all_raw_data[0].observation[i]])\n",
        "\n",
        "    restored_activations = sess.run(activation_tensor, {my_input: single_observation})[0]\n",
        "    old_activations = all_raw_data[0].policy_info[\"activations\"][i]\n",
        "\n",
        "    if i < 3:\n",
        "      print(\"restored_activations\", restored_activations, \"old_activations\", old_activations)\n",
        "\n",
        "    np.testing.assert_allclose(restored_activations, old_activations, rtol=1e-2)"
      ],
      "execution_count": 13,
      "outputs": [
        {
          "output_type": "stream",
          "text": [
            "restored_activations [  0.         0.         0.         0.       282.45563    0.\n",
            "   0.       150.05293    0.         0.         0.        29.24245\n",
            "   0.         0.         0.         0.         0.         0.\n",
            "   0.         0.         0.       167.96378    0.         0.\n",
            "   0.         0.         0.        29.117985   0.         0.\n",
            "   0.         0.         0.         0.       223.1004     0.\n",
            "  70.77664    0.         0.         0.         0.         0.\n",
            "   0.         0.        52.82331    0.         0.         0.\n",
            "   0.         0.         0.         0.         0.         0.\n",
            "   0.         0.         0.         0.         0.         0.\n",
            "   0.        42.96146    0.         0.      ] old_activations [  0.         0.         0.         0.       282.45563    0.\n",
            "   0.       150.05296    0.         0.         0.        29.24238\n",
            "   0.         0.         0.         0.         0.         0.\n",
            "   0.         0.         0.       167.9638     0.         0.\n",
            "   0.         0.         0.        29.117958   0.         0.\n",
            "   0.         0.         0.         0.       223.1004     0.\n",
            "  70.77662    0.         0.         0.         0.         0.\n",
            "   0.         0.        52.82322    0.         0.         0.\n",
            "   0.         0.         0.         0.         0.         0.\n",
            "   0.         0.         0.         0.         0.         0.\n",
            "   0.        42.961407   0.         0.      ]\n",
            "restored_activations [  0.         0.         0.         0.         0.         0.\n",
            "   0.         0.         0.         0.         0.         0.\n",
            "   0.         0.         0.         0.         0.         0.\n",
            "   0.         0.         0.         0.        58.439926   0.\n",
            "   0.         0.         0.         0.         0.         0.\n",
            "   0.         0.         0.         0.         0.         0.\n",
            " 102.98203    0.         0.         0.         0.         0.\n",
            "   0.         0.       116.33781    0.         0.         0.\n",
            "   0.         0.         0.         0.         0.         0.\n",
            "   0.         0.         0.         0.         0.         0.\n",
            "   0.        22.323135   0.         0.      ] old_activations [  0.         0.         0.         0.         0.         0.\n",
            "   0.         0.         0.         0.         0.         0.\n",
            "   0.         0.         0.         0.         0.         0.\n",
            "   0.         0.         0.         0.        58.439735   0.\n",
            "   0.         0.         0.         0.         0.         0.\n",
            "   0.         0.         0.         0.         0.         0.\n",
            " 102.98202    0.         0.         0.         0.         0.\n",
            "   0.         0.       116.337685   0.         0.         0.\n",
            "   0.         0.         0.         0.         0.         0.\n",
            "   0.         0.         0.         0.         0.         0.\n",
            "   0.        22.323086   0.         0.      ]\n",
            "restored_activations [  0.         0.         0.         0.         0.         0.\n",
            "   0.         5.732088   0.         0.         0.        19.802826\n",
            "   0.        13.886696   0.         0.         0.         0.\n",
            "   0.         0.         0.         0.         0.         0.\n",
            "   0.         0.         0.         0.         0.         0.\n",
            "   0.         0.         0.         0.         0.         0.\n",
            "  10.876702   0.         0.         0.         0.         0.\n",
            "   0.         0.       114.02922    0.         0.         0.\n",
            "   0.         0.         0.         0.         0.         0.\n",
            "   0.         0.         0.         0.         0.         0.\n",
            "   0.        30.68842    0.         0.      ] old_activations [  0.         0.         0.         0.         0.         0.\n",
            "   0.         5.73207    0.         0.         0.        19.802835\n",
            "   0.        13.886745   0.         0.         0.         0.\n",
            "   0.         0.         0.         0.         0.         0.\n",
            "   0.         0.         0.         0.         0.         0.\n",
            "   0.         0.         0.         0.         0.         0.\n",
            "  10.876708   0.         0.         0.         0.         0.\n",
            "   0.         0.       114.029205   0.         0.         0.\n",
            "   0.         0.         0.         0.         0.         0.\n",
            "   0.         0.         0.         0.         0.         0.\n",
            "   0.        30.688374   0.         0.      ]\n"
          ],
          "name": "stdout"
        }
      ]
    },
    {
      "cell_type": "markdown",
      "metadata": {
        "id": "Z4wVcF_42IVK",
        "colab_type": "text"
      },
      "source": [
        "# Save Lucid model."
      ]
    },
    {
      "cell_type": "code",
      "metadata": {
        "id": "NZEAP5rojiQc",
        "colab_type": "code",
        "outputId": "4e62f083-f091-40e6-bd6d-ed9837c796e5",
        "colab": {
          "base_uri": "https://localhost:8080/",
          "height": 887
        }
      },
      "source": [
        "with tf.Session() as sess:\n",
        "  sess.run(init_op)\n",
        "\n",
        "  models.Model.suggest_save_args()\n",
        "  \n",
        "  models.Model.save(\n",
        "    input_name='my_input',\n",
        "    image_shape=input_shape,\n",
        "    output_names=[\"QNetwork/EncodingNetwork/EncodingNetwork/dense/Relu\"],\n",
        "    image_value_range=[0,1],\n",
        "    save_url=\"lucid_save_model.pb\"\n",
        "  )"
      ],
      "execution_count": 14,
      "outputs": [
        {
          "output_type": "stream",
          "text": [
            "Inferred: input_name = my_input (because it was the only Placeholder in the graph_def)\n",
            "Inferred: image_shape = [14, 16, 5]\n",
            "# Please sanity check all inferred values before using this code.\n",
            "# Incorrect `image_value_range` is the most common cause of feature visualization bugs! Most methods will fail silently with incorrect visualizations!\n",
            "Model.save(\n",
            "    input_name='my_input',\n",
            "    image_shape=[14, 16, 5],\n",
            "    output_names=_,                   # TODO (eg. ['logits'])\n",
            "    image_value_range=_,                   # TODO (eg. '[-1, 1], [0, 1], [0, 255], or [-117, 138]')\n",
            "  )\n",
            "WARNING:tensorflow:From /usr/local/lib/python3.6/dist-packages/lucid/modelzoo/util.py:64: The name tf.get_default_session is deprecated. Please use tf.compat.v1.get_default_session instead.\n",
            "\n"
          ],
          "name": "stdout"
        },
        {
          "output_type": "stream",
          "text": [
            "/usr/local/lib/python3.6/dist-packages/lucid/modelzoo/vision_base.py:283: UserWarning: Could not infer output_names.\n",
            "  warnings.warn(\"Could not infer output_names.\")\n",
            "WARNING:tensorflow:From /usr/local/lib/python3.6/dist-packages/lucid/modelzoo/util.py:64: The name tf.get_default_session is deprecated. Please use tf.compat.v1.get_default_session instead.\n",
            "\n"
          ],
          "name": "stderr"
        },
        {
          "output_type": "stream",
          "text": [
            "WARNING:tensorflow:From /usr/local/lib/python3.6/dist-packages/lucid/modelzoo/util.py:73: remove_training_nodes (from tensorflow.python.framework.graph_util_impl) is deprecated and will be removed in a future version.\n",
            "Instructions for updating:\n",
            "Use `tf.compat.v1.graph_util.remove_training_nodes`\n"
          ],
          "name": "stdout"
        },
        {
          "output_type": "stream",
          "text": [
            "WARNING:tensorflow:From /usr/local/lib/python3.6/dist-packages/lucid/modelzoo/util.py:73: remove_training_nodes (from tensorflow.python.framework.graph_util_impl) is deprecated and will be removed in a future version.\n",
            "Instructions for updating:\n",
            "Use `tf.compat.v1.graph_util.remove_training_nodes`\n"
          ],
          "name": "stderr"
        },
        {
          "output_type": "stream",
          "text": [
            "WARNING:tensorflow:From /usr/local/lib/python3.6/dist-packages/lucid/modelzoo/util.py:75: extract_sub_graph (from tensorflow.python.framework.graph_util_impl) is deprecated and will be removed in a future version.\n",
            "Instructions for updating:\n",
            "Use `tf.compat.v1.graph_util.extract_sub_graph`\n"
          ],
          "name": "stdout"
        },
        {
          "output_type": "stream",
          "text": [
            "WARNING:tensorflow:From /usr/local/lib/python3.6/dist-packages/lucid/modelzoo/util.py:75: extract_sub_graph (from tensorflow.python.framework.graph_util_impl) is deprecated and will be removed in a future version.\n",
            "Instructions for updating:\n",
            "Use `tf.compat.v1.graph_util.extract_sub_graph`\n"
          ],
          "name": "stderr"
        },
        {
          "output_type": "stream",
          "text": [
            "WARNING:tensorflow:From /usr/local/lib/python3.6/dist-packages/lucid/modelzoo/util.py:81: The name tf.global_variables is deprecated. Please use tf.compat.v1.global_variables instead.\n",
            "\n"
          ],
          "name": "stdout"
        },
        {
          "output_type": "stream",
          "text": [
            "WARNING:tensorflow:From /usr/local/lib/python3.6/dist-packages/lucid/modelzoo/util.py:81: The name tf.global_variables is deprecated. Please use tf.compat.v1.global_variables instead.\n",
            "\n"
          ],
          "name": "stderr"
        },
        {
          "output_type": "stream",
          "text": [
            "WARNING:tensorflow:From /usr/local/lib/python3.6/dist-packages/lucid/modelzoo/util.py:86: convert_variables_to_constants (from tensorflow.python.framework.graph_util_impl) is deprecated and will be removed in a future version.\n",
            "Instructions for updating:\n",
            "Use `tf.compat.v1.graph_util.convert_variables_to_constants`\n"
          ],
          "name": "stdout"
        },
        {
          "output_type": "stream",
          "text": [
            "WARNING:tensorflow:From /usr/local/lib/python3.6/dist-packages/lucid/modelzoo/util.py:86: convert_variables_to_constants (from tensorflow.python.framework.graph_util_impl) is deprecated and will be removed in a future version.\n",
            "Instructions for updating:\n",
            "Use `tf.compat.v1.graph_util.convert_variables_to_constants`\n"
          ],
          "name": "stderr"
        },
        {
          "output_type": "stream",
          "text": [
            "INFO:tensorflow:Froze 6 variables.\n"
          ],
          "name": "stdout"
        },
        {
          "output_type": "stream",
          "text": [
            "INFO:tensorflow:Froze 6 variables.\n"
          ],
          "name": "stderr"
        },
        {
          "output_type": "stream",
          "text": [
            "INFO:tensorflow:Converted 6 variables to const ops.\n"
          ],
          "name": "stdout"
        },
        {
          "output_type": "stream",
          "text": [
            "INFO:tensorflow:Converted 6 variables to const ops.\n"
          ],
          "name": "stderr"
        },
        {
          "output_type": "stream",
          "text": [
            "WARNING:tensorflow:From /usr/local/lib/python3.6/dist-packages/lucid/misc/io/writing.py:69: The name tf.gfile.MakeDirs is deprecated. Please use tf.io.gfile.makedirs instead.\n",
            "\n"
          ],
          "name": "stdout"
        },
        {
          "output_type": "stream",
          "text": [
            "WARNING:tensorflow:From /usr/local/lib/python3.6/dist-packages/lucid/misc/io/writing.py:69: The name tf.gfile.MakeDirs is deprecated. Please use tf.io.gfile.makedirs instead.\n",
            "\n"
          ],
          "name": "stderr"
        },
        {
          "output_type": "stream",
          "text": [
            "WARNING:tensorflow:From /usr/local/lib/python3.6/dist-packages/lucid/misc/io/writing.py:77: The name tf.gfile.Open is deprecated. Please use tf.io.gfile.GFile instead.\n",
            "\n"
          ],
          "name": "stdout"
        },
        {
          "output_type": "stream",
          "text": [
            "WARNING:tensorflow:From /usr/local/lib/python3.6/dist-packages/lucid/misc/io/writing.py:77: The name tf.gfile.Open is deprecated. Please use tf.io.gfile.GFile instead.\n",
            "\n"
          ],
          "name": "stderr"
        }
      ]
    },
    {
      "cell_type": "markdown",
      "metadata": {
        "id": "GZSCD0v92Svr",
        "colab_type": "text"
      },
      "source": [
        "# Lucid HTML stuff.\n",
        "Copied from https://colab.research.google.com/github/tensorflow/lucid/blob/master/notebooks/building-blocks/NeuronGroups.ipynb"
      ]
    },
    {
      "cell_type": "code",
      "metadata": {
        "id": "eXPnJ1tOzjRo",
        "colab_type": "code",
        "colab": {
          "base_uri": "https://localhost:8080/",
          "height": 88
        },
        "outputId": "831392f9-7717-4e4e-bbf9-471bdadc0862"
      },
      "source": [
        "%%html_define_svelte GroupWidget\n",
        "\n",
        "<div class=\"figure\" style=\"width: 600px;\">\n",
        "  <div class=\"outer\" on:mouseover=\"set({pres_n: undefined})\">\n",
        "    <img src=\"{{img}}\">\n",
        "    {{#if pres_n != undefined}}\n",
        "    <img src=\"{{spatial_factors[pres_n]}}\" class=\"overlay\"  >\n",
        "    {{/if}}\n",
        "  </div>\n",
        "   \n",
        "  <div class=\"outer\" on:mouseover=\"set({pres_n: undefined})\">\n",
        "    <div style=\"width:100%; height: 100%; background-color: #000;\"></div>\n",
        "    {{#each range(n_groups) as n}}\n",
        "    {{#if pres_n == undefined || pres_n == n}}\n",
        "    <img src=\"{{spatial_factors[n]}}\" class=\"factor\" \n",
        "         style=\"filter: hue-rotate({{n*360/n_groups}}deg);\">\n",
        "    {{/if}}\n",
        "    {{/each}}\n",
        "  </div>\n",
        "  \n",
        "  <br>\n",
        "  <br>\n",
        "  \n",
        "  <div on:mouseleave=\"set({pres_n: undefined})\">\n",
        "    {{#each range(n_groups) as n}}\n",
        "    <div class=\"group\" style=\"background-color: hsl({{n*360/n_groups}}, 80%, 50%); \"\n",
        "         on:mouseover=\"set({pres_n: n})\">\n",
        "      <img src=\"{{group_icons[n]}}\">\n",
        "    </div>\n",
        "    {{/each}}\n",
        "  </div>\n",
        "  \n",
        "</div>\n",
        "\n",
        "\n",
        "<style>\n",
        "  .outer{\n",
        "    width: 224px;\n",
        "    height: 224px;\n",
        "    display: inline-block;\n",
        "    margin-right: 2px;\n",
        "    position: relative;\n",
        "  }\n",
        "  .outer img {\n",
        "    position: absolute;\n",
        "    left: 0px;\n",
        "    top: 0px;\n",
        "    width: 224px;\n",
        "    height: 224px;\n",
        "    image-rendering: pixelated; \n",
        "  }\n",
        "  .factor {\n",
        "    mix-blend-mode: lighten;\n",
        "  }\n",
        "  .overlay {\n",
        "    filter: grayscale(100%) brightness(3);\n",
        "    mix-blend-mode: multiply;\n",
        "  }\n",
        "  .group {\n",
        "    width: 80px;\n",
        "    height: 80px;\n",
        "    margin-right: 4px;\n",
        "    display: inline-block;\n",
        "    padding-top: 10px;\n",
        "  }\n",
        "</style>\n",
        "\n",
        "<script>\n",
        "  function range(n){\n",
        "    return Array(n).fill().map((_, i) => i);\n",
        "  }\n",
        "  \n",
        "  export default {\n",
        "    data () {\n",
        "      return {\n",
        "        img: \"\",\n",
        "        n_groups: 1,\n",
        "        spatial_factors: [\"\"],\n",
        "        group_icons: [\"\"],\n",
        "        pres_n: undefined,\n",
        "        \n",
        "      };\n",
        "    },\n",
        "    helpers: {range}\n",
        "  };\n",
        "</script>"
      ],
      "execution_count": 15,
      "outputs": [
        {
          "output_type": "stream",
          "text": [
            "Trying to build svelte component from html...\n",
            "svelte compile --format iife /tmp/svelte_ulxdok43/GroupWidget_26ca7b20_bb3b_492b_b0e2_a658d662167b.html > /tmp/svelte_ulxdok43/GroupWidget_26ca7b20_bb3b_492b_b0e2_a658d662167b.js\n",
            "b'svelte version 1.64.1\\ncompiling ../tmp/svelte_ulxdok43/GroupWidget_26ca7b20_bb3b_492b_b0e2_a658d662167b.html...\\n(4:4) \\xe2\\x80\\x93 A11y: <img> element should have an alt attribute\\n(6:4) \\xe2\\x80\\x93 A11y: <img> element should have an alt attribute\\n(14:4) \\xe2\\x80\\x93 A11y: <img> element should have an alt attribute\\n(27:6) \\xe2\\x80\\x93 A11y: <img> element should have an alt attribute\\n'\n"
          ],
          "name": "stdout"
        }
      ]
    },
    {
      "cell_type": "markdown",
      "metadata": {
        "id": "JMyJU71h2i1s",
        "colab_type": "text"
      },
      "source": [
        "# Load model and run lucid grouping code"
      ]
    },
    {
      "cell_type": "code",
      "metadata": {
        "id": "ku9oLrycj8k0",
        "colab_type": "code",
        "colab": {}
      },
      "source": [
        "model = models.Model.load(\"lucid_save_model.pb\")\n",
        "model.load_graphdef()"
      ],
      "execution_count": 0,
      "outputs": []
    },
    {
      "cell_type": "code",
      "metadata": {
        "id": "wqnyE6IMkR8q",
        "colab_type": "code",
        "colab": {
          "base_uri": "https://localhost:8080/",
          "height": 887
        },
        "outputId": "e7e3114e-4508-492c-d188-85dcca289ac3"
      },
      "source": [
        "# This is modified from the neuron_groups funciton in https://colab.research.google.com/github/tensorflow/lucid/blob/master/notebooks/building-blocks/NeuronGroups.ipynb to handle 5 channels instead of 3.\n",
        "\n",
        "img = single_observation[0]\n",
        "layer = \"QNetwork/EncodingNetwork/EncodingNetwork/conv2d/Relu\"\n",
        "n_groups=6\n",
        "\n",
        "# Compute activations\n",
        "\n",
        "with tf.Graph().as_default(), tf.Session():\n",
        "  t_input = tf.placeholder_with_default(img, input_shape, name=\"lucid_placeholder\")\n",
        "  T = render.import_model(model, t_input, t_input)\n",
        "  acts = T(layer).eval()\n",
        "\n",
        "# We'll use ChannelReducer (a wrapper around scikit learn's factorization tools)\n",
        "# to apply Non-Negative Matrix factorization (NMF).\n",
        "\n",
        "nmf = ChannelReducer(n_groups, \"NMF\")\n",
        "spatial_factors = nmf.fit_transform(acts)[0]\n",
        "spatial_factors = spatial_factors.transpose(2, 0, 1).astype(\"float32\")\n",
        "channel_factors = nmf._reducer.components_.astype(\"float32\")\n",
        "\n",
        "# Let's organize the channels based on their horizontal position in the image\n",
        "\n",
        "x_peak = np.argmax(spatial_factors.max(1), 1)\n",
        "ns_sorted = np.argsort(x_peak)\n",
        "spatial_factors = spatial_factors[ns_sorted]\n",
        "channel_factors = channel_factors[ns_sorted]\n",
        "\n",
        "# And create a feature visualziation of each group\n",
        "\n",
        "param_f = lambda: param.image(80, batch=n_groups, channels=input_shape[-1])\n",
        "obj = sum(objectives.direction(layer, channel_factors[i], batch=i)\n",
        "          for i in range(n_groups))\n",
        "group_icons = render.render_vis(model, obj, param_f, verbose=False)[-1]\n",
        "\n",
        "# We'd also like to know about attribution\n",
        "\n",
        "# First, let's turn each group into a vector over activations\n",
        "group_vecs = [spatial_factors[i, ..., None]*channel_factors[i]\n",
        "              for i in range(n_groups)]\n",
        "\n",
        "# attrs = np.asarray([raw_class_group_attr(img, layer, attr_class, group_vecs)\n",
        "#                    for attr_class in attr_classes])\n",
        "\n",
        "# print(attrs)"
      ],
      "execution_count": 17,
      "outputs": [
        {
          "output_type": "stream",
          "text": [
            "WARNING:tensorflow:From /usr/local/lib/python3.6/dist-packages/lucid/optvis/param/spatial.py:82: The name tf.spectral.irfft2d is deprecated. Please use tf.signal.irfft2d instead.\n",
            "\n"
          ],
          "name": "stdout"
        },
        {
          "output_type": "stream",
          "text": [
            "WARNING:tensorflow:From /usr/local/lib/python3.6/dist-packages/lucid/optvis/param/spatial.py:82: The name tf.spectral.irfft2d is deprecated. Please use tf.signal.irfft2d instead.\n",
            "\n"
          ],
          "name": "stderr"
        },
        {
          "output_type": "stream",
          "text": [
            "WARNING:tensorflow:From /usr/local/lib/python3.6/dist-packages/lucid/optvis/render.py:242: The name tf.train.AdamOptimizer is deprecated. Please use tf.compat.v1.train.AdamOptimizer instead.\n",
            "\n"
          ],
          "name": "stdout"
        },
        {
          "output_type": "stream",
          "text": [
            "WARNING:tensorflow:From /usr/local/lib/python3.6/dist-packages/lucid/optvis/render.py:242: The name tf.train.AdamOptimizer is deprecated. Please use tf.compat.v1.train.AdamOptimizer instead.\n",
            "\n"
          ],
          "name": "stderr"
        },
        {
          "output_type": "stream",
          "text": [
            "WARNING:tensorflow:From /usr/local/lib/python3.6/dist-packages/lucid/optvis/render.py:170: The name tf.train.get_or_create_global_step is deprecated. Please use tf.compat.v1.train.get_or_create_global_step instead.\n",
            "\n"
          ],
          "name": "stdout"
        },
        {
          "output_type": "stream",
          "text": [
            "WARNING:tensorflow:From /usr/local/lib/python3.6/dist-packages/lucid/optvis/render.py:170: The name tf.train.get_or_create_global_step is deprecated. Please use tf.compat.v1.train.get_or_create_global_step instead.\n",
            "\n"
          ],
          "name": "stderr"
        },
        {
          "output_type": "stream",
          "text": [
            "WARNING:tensorflow:From /usr/local/lib/python3.6/dist-packages/lucid/optvis/render.py:171: The name tf.variables_initializer is deprecated. Please use tf.compat.v1.variables_initializer instead.\n",
            "\n"
          ],
          "name": "stdout"
        },
        {
          "output_type": "stream",
          "text": [
            "WARNING:tensorflow:From /usr/local/lib/python3.6/dist-packages/lucid/optvis/render.py:171: The name tf.variables_initializer is deprecated. Please use tf.compat.v1.variables_initializer instead.\n",
            "\n"
          ],
          "name": "stderr"
        },
        {
          "output_type": "stream",
          "text": [
            "WARNING:tensorflow:From /usr/local/lib/python3.6/dist-packages/lucid/optvis/transform.py:38: The name tf.random_crop is deprecated. Please use tf.image.random_crop instead.\n",
            "\n"
          ],
          "name": "stdout"
        },
        {
          "output_type": "stream",
          "text": [
            "WARNING:tensorflow:From /usr/local/lib/python3.6/dist-packages/lucid/optvis/transform.py:38: The name tf.random_crop is deprecated. Please use tf.image.random_crop instead.\n",
            "\n"
          ],
          "name": "stderr"
        },
        {
          "output_type": "stream",
          "text": [
            "WARNING:tensorflow:From /usr/local/lib/python3.6/dist-packages/lucid/optvis/transform.py:141: The name tf.random_uniform is deprecated. Please use tf.random.uniform instead.\n",
            "\n"
          ],
          "name": "stdout"
        },
        {
          "output_type": "stream",
          "text": [
            "WARNING:tensorflow:From /usr/local/lib/python3.6/dist-packages/lucid/optvis/transform.py:141: The name tf.random_uniform is deprecated. Please use tf.random.uniform instead.\n",
            "\n"
          ],
          "name": "stderr"
        },
        {
          "output_type": "stream",
          "text": [
            "WARNING:tensorflow:From /usr/local/lib/python3.6/dist-packages/lucid/optvis/transform.py:83: The name tf.image.resize_bilinear is deprecated. Please use tf.compat.v1.image.resize_bilinear instead.\n",
            "\n"
          ],
          "name": "stdout"
        },
        {
          "output_type": "stream",
          "text": [
            "WARNING:tensorflow:From /usr/local/lib/python3.6/dist-packages/lucid/optvis/transform.py:83: The name tf.image.resize_bilinear is deprecated. Please use tf.compat.v1.image.resize_bilinear instead.\n",
            "\n"
          ],
          "name": "stderr"
        },
        {
          "output_type": "stream",
          "text": [
            "WARNING:tensorflow:\n",
            "The TensorFlow contrib module will not be included in TensorFlow 2.0.\n",
            "For more information, please see:\n",
            "  * https://github.com/tensorflow/community/blob/master/rfcs/20180907-contrib-sunset.md\n",
            "  * https://github.com/tensorflow/addons\n",
            "  * https://github.com/tensorflow/io (for I/O related ops)\n",
            "If you depend on functionality not listed there, please file an issue.\n",
            "\n"
          ],
          "name": "stdout"
        },
        {
          "output_type": "stream",
          "text": [
            "WARNING:tensorflow:\n",
            "The TensorFlow contrib module will not be included in TensorFlow 2.0.\n",
            "For more information, please see:\n",
            "  * https://github.com/tensorflow/community/blob/master/rfcs/20180907-contrib-sunset.md\n",
            "  * https://github.com/tensorflow/addons\n",
            "  * https://github.com/tensorflow/io (for I/O related ops)\n",
            "If you depend on functionality not listed there, please file an issue.\n",
            "\n"
          ],
          "name": "stderr"
        },
        {
          "output_type": "stream",
          "text": [
            "WARNING:tensorflow:From /usr/local/lib/python3.6/dist-packages/lucid/misc/redirected_relu_grad.py:95: where (from tensorflow.python.ops.array_ops) is deprecated and will be removed in a future version.\n",
            "Instructions for updating:\n",
            "Use tf.where in 2.0, which has the same broadcast rule as np.where\n"
          ],
          "name": "stdout"
        },
        {
          "output_type": "stream",
          "text": [
            "WARNING:tensorflow:From /usr/local/lib/python3.6/dist-packages/lucid/misc/redirected_relu_grad.py:95: where (from tensorflow.python.ops.array_ops) is deprecated and will be removed in a future version.\n",
            "Instructions for updating:\n",
            "Use tf.where in 2.0, which has the same broadcast rule as np.where\n"
          ],
          "name": "stderr"
        }
      ]
    },
    {
      "cell_type": "code",
      "metadata": {
        "id": "3zgL60BN0qtC",
        "colab_type": "code",
        "colab": {
          "base_uri": "https://localhost:8080/",
          "height": 356
        },
        "outputId": "8dbbff48-238e-42ac-86db-bf8d8a1a9a1c"
      },
      "source": [
        "# Let's render the visualization!\n",
        "\n",
        "lucid_svelte.GroupWidget({\n",
        "  \"img\" : _image_url(img[:, :, :3]),\n",
        "  \"n_groups\": n_groups,\n",
        "  \"spatial_factors\": [_image_url(factor[..., None]/np.percentile(spatial_factors,99)*[1,0,0]) for factor in spatial_factors], \n",
        "  \"group_icons\": [_image_url(icon) for icon in group_icons[:, :, :, :3]] \n",
        "})\n"
      ],
      "execution_count": 19,
      "outputs": [
        {
          "output_type": "display_data",
          "data": {
            "text/html": [
              "\n",
              "  <div id='GroupWidget_26ca7b20_bb3b_492b_b0e2_a658d662167b_3f6e2ce8_77c1_4c13_a808_6f311fc53291'></div>\n",
              "  <script>\n",
              "  /* tmp/svelte_ulxdok43/GroupWidget_26ca7b20_bb3b_492b_b0e2_a658d662167b.html generated by Svelte v1.64.1 */\n",
              "var GroupWidget_26ca7b20_bb3b_492b_b0e2_a658d662167b = (function() { \"use strict\";\n",
              "\n",
              "\tfunction range(n){\n",
              "  return Array(n).fill().map((_, i) => i);\n",
              "}\n",
              "\n",
              "function data() {\n",
              "  return {\n",
              "    img: \"\",\n",
              "    n_groups: 1,\n",
              "    spatial_factors: [\"\"],\n",
              "    group_icons: [\"\"],\n",
              "    pres_n: undefined,\n",
              "    \n",
              "  };\n",
              "};\n",
              "\n",
              "\tfunction add_css() {\n",
              "\t\tvar style = createElement(\"style\");\n",
              "\t\tstyle.id = 'svelte-by7njd-style';\n",
              "\t\tstyle.textContent = \".svelte-by7njd.outer,.svelte-by7njd .outer{width:224px;height:224px;display:inline-block;margin-right:2px;position:relative}.svelte-by7njd.outer img,.svelte-by7njd .outer img{position:absolute;left:0px;top:0px;width:224px;height:224px;image-rendering:pixelated}.svelte-by7njd.factor,.svelte-by7njd .factor{mix-blend-mode:lighten}.svelte-by7njd.overlay,.svelte-by7njd .overlay{filter:grayscale(100%) brightness(3);mix-blend-mode:multiply}.svelte-by7njd.group,.svelte-by7njd .group{width:80px;height:80px;margin-right:4px;display:inline-block;padding-top:10px}\";\n",
              "\t\tappendNode(style, document.head);\n",
              "\t}\n",
              "\n",
              "\tfunction create_main_fragment(component, state) {\n",
              "\t\tvar div, div_1, img, text, text_2, div_2, div_3, text_3, text_5, br, text_6, br_1, text_7, div_4;\n",
              "\n",
              "\t\tvar if_block = (state.pres_n != state.undefined) && create_if_block(component, state);\n",
              "\n",
              "\t\tfunction mouseover_handler(event) {\n",
              "\t\t\tvar state = component.get();\n",
              "\t\t\tcomponent.set({pres_n: state.undefined});\n",
              "\t\t}\n",
              "\n",
              "\t\tvar each_value = range(state.n_groups);\n",
              "\n",
              "\t\tvar each_blocks = [];\n",
              "\n",
              "\t\tfor (var i = 0; i < each_value.length; i += 1) {\n",
              "\t\t\teach_blocks[i] = create_each_block(component, assign(assign({}, state), {\n",
              "\t\t\t\teach_value: each_value,\n",
              "\t\t\t\tn: each_value[i],\n",
              "\t\t\t\tn_index: i\n",
              "\t\t\t}));\n",
              "\t\t}\n",
              "\n",
              "\t\tfunction mouseover_handler_1(event) {\n",
              "\t\t\tvar state = component.get();\n",
              "\t\t\tcomponent.set({pres_n: state.undefined});\n",
              "\t\t}\n",
              "\n",
              "\t\tvar each_value_1 = range(state.n_groups);\n",
              "\n",
              "\t\tvar each_1_blocks = [];\n",
              "\n",
              "\t\tfor (var i = 0; i < each_value_1.length; i += 1) {\n",
              "\t\t\teach_1_blocks[i] = create_each_block_1(component, assign(assign({}, state), {\n",
              "\t\t\t\teach_value_1: each_value_1,\n",
              "\t\t\t\tn: each_value_1[i],\n",
              "\t\t\t\tn_index_1: i\n",
              "\t\t\t}));\n",
              "\t\t}\n",
              "\n",
              "\t\tfunction mouseleave_handler(event) {\n",
              "\t\t\tvar state = component.get();\n",
              "\t\t\tcomponent.set({pres_n: state.undefined});\n",
              "\t\t}\n",
              "\n",
              "\t\treturn {\n",
              "\t\t\tc: function create() {\n",
              "\t\t\t\tdiv = createElement(\"div\");\n",
              "\t\t\t\tdiv_1 = createElement(\"div\");\n",
              "\t\t\t\timg = createElement(\"img\");\n",
              "\t\t\t\ttext = createText(\"\\n    \");\n",
              "\t\t\t\tif (if_block) if_block.c();\n",
              "\t\t\t\ttext_2 = createText(\"\\n   \\n  \");\n",
              "\t\t\t\tdiv_2 = createElement(\"div\");\n",
              "\t\t\t\tdiv_3 = createElement(\"div\");\n",
              "\t\t\t\ttext_3 = createText(\"\\n    \");\n",
              "\n",
              "\t\t\t\tfor (var i = 0; i < each_blocks.length; i += 1) {\n",
              "\t\t\t\t\teach_blocks[i].c();\n",
              "\t\t\t\t}\n",
              "\n",
              "\t\t\t\ttext_5 = createText(\"\\n  \\n  \");\n",
              "\t\t\t\tbr = createElement(\"br\");\n",
              "\t\t\t\ttext_6 = createText(\"\\n  \");\n",
              "\t\t\t\tbr_1 = createElement(\"br\");\n",
              "\t\t\t\ttext_7 = createText(\"\\n  \\n  \");\n",
              "\t\t\t\tdiv_4 = createElement(\"div\");\n",
              "\n",
              "\t\t\t\tfor (var i = 0; i < each_1_blocks.length; i += 1) {\n",
              "\t\t\t\t\teach_1_blocks[i].c();\n",
              "\t\t\t\t}\n",
              "\t\t\t\tthis.h();\n",
              "\t\t\t},\n",
              "\n",
              "\t\t\th: function hydrate() {\n",
              "\t\t\t\timg.src = state.img;\n",
              "\t\t\t\taddListener(div_1, \"mouseover\", mouseover_handler);\n",
              "\t\t\t\tdiv_1.className = \"outer\";\n",
              "\t\t\t\tsetStyle(div_3, \"width\", \"100%\");\n",
              "\t\t\t\tsetStyle(div_3, \"height\", \"100%\");\n",
              "\t\t\t\tsetStyle(div_3, \"background-color\", \"#000\");\n",
              "\t\t\t\taddListener(div_2, \"mouseover\", mouseover_handler_1);\n",
              "\t\t\t\tdiv_2.className = \"outer\";\n",
              "\t\t\t\taddListener(div_4, \"mouseleave\", mouseleave_handler);\n",
              "\t\t\t\tdiv.className = \"figure svelte-by7njd\";\n",
              "\t\t\t\tsetStyle(div, \"width\", \"600px\");\n",
              "\t\t\t},\n",
              "\n",
              "\t\t\tm: function mount(target, anchor) {\n",
              "\t\t\t\tinsertNode(div, target, anchor);\n",
              "\t\t\t\tappendNode(div_1, div);\n",
              "\t\t\t\tappendNode(img, div_1);\n",
              "\t\t\t\tappendNode(text, div_1);\n",
              "\t\t\t\tif (if_block) if_block.m(div_1, null);\n",
              "\t\t\t\tappendNode(text_2, div);\n",
              "\t\t\t\tappendNode(div_2, div);\n",
              "\t\t\t\tappendNode(div_3, div_2);\n",
              "\t\t\t\tappendNode(text_3, div_2);\n",
              "\n",
              "\t\t\t\tfor (var i = 0; i < each_blocks.length; i += 1) {\n",
              "\t\t\t\t\teach_blocks[i].m(div_2, null);\n",
              "\t\t\t\t}\n",
              "\n",
              "\t\t\t\tappendNode(text_5, div);\n",
              "\t\t\t\tappendNode(br, div);\n",
              "\t\t\t\tappendNode(text_6, div);\n",
              "\t\t\t\tappendNode(br_1, div);\n",
              "\t\t\t\tappendNode(text_7, div);\n",
              "\t\t\t\tappendNode(div_4, div);\n",
              "\n",
              "\t\t\t\tfor (var i = 0; i < each_1_blocks.length; i += 1) {\n",
              "\t\t\t\t\teach_1_blocks[i].m(div_4, null);\n",
              "\t\t\t\t}\n",
              "\t\t\t},\n",
              "\n",
              "\t\t\tp: function update(changed, state) {\n",
              "\t\t\t\tif (changed.img) {\n",
              "\t\t\t\t\timg.src = state.img;\n",
              "\t\t\t\t}\n",
              "\n",
              "\t\t\t\tif (state.pres_n != state.undefined) {\n",
              "\t\t\t\t\tif (if_block) {\n",
              "\t\t\t\t\t\tif_block.p(changed, state);\n",
              "\t\t\t\t\t} else {\n",
              "\t\t\t\t\t\tif_block = create_if_block(component, state);\n",
              "\t\t\t\t\t\tif_block.c();\n",
              "\t\t\t\t\t\tif_block.m(div_1, null);\n",
              "\t\t\t\t\t}\n",
              "\t\t\t\t} else if (if_block) {\n",
              "\t\t\t\t\tif_block.u();\n",
              "\t\t\t\t\tif_block.d();\n",
              "\t\t\t\t\tif_block = null;\n",
              "\t\t\t\t}\n",
              "\n",
              "\t\t\t\tvar each_value = range(state.n_groups);\n",
              "\n",
              "\t\t\t\tif (changed.pres_n || changed.undefined || changed.n_groups || changed.spatial_factors) {\n",
              "\t\t\t\t\tfor (var i = 0; i < each_value.length; i += 1) {\n",
              "\t\t\t\t\t\tvar each_context = assign(assign({}, state), {\n",
              "\t\t\t\t\t\t\teach_value: each_value,\n",
              "\t\t\t\t\t\t\tn: each_value[i],\n",
              "\t\t\t\t\t\t\tn_index: i\n",
              "\t\t\t\t\t\t});\n",
              "\n",
              "\t\t\t\t\t\tif (each_blocks[i]) {\n",
              "\t\t\t\t\t\t\teach_blocks[i].p(changed, each_context);\n",
              "\t\t\t\t\t\t} else {\n",
              "\t\t\t\t\t\t\teach_blocks[i] = create_each_block(component, each_context);\n",
              "\t\t\t\t\t\t\teach_blocks[i].c();\n",
              "\t\t\t\t\t\t\teach_blocks[i].m(div_2, null);\n",
              "\t\t\t\t\t\t}\n",
              "\t\t\t\t\t}\n",
              "\n",
              "\t\t\t\t\tfor (; i < each_blocks.length; i += 1) {\n",
              "\t\t\t\t\t\teach_blocks[i].u();\n",
              "\t\t\t\t\t\teach_blocks[i].d();\n",
              "\t\t\t\t\t}\n",
              "\t\t\t\t\teach_blocks.length = each_value.length;\n",
              "\t\t\t\t}\n",
              "\n",
              "\t\t\t\tvar each_value_1 = range(state.n_groups);\n",
              "\n",
              "\t\t\t\tif (changed.n_groups || changed.group_icons) {\n",
              "\t\t\t\t\tfor (var i = 0; i < each_value_1.length; i += 1) {\n",
              "\t\t\t\t\t\tvar each_1_context = assign(assign({}, state), {\n",
              "\t\t\t\t\t\t\teach_value_1: each_value_1,\n",
              "\t\t\t\t\t\t\tn: each_value_1[i],\n",
              "\t\t\t\t\t\t\tn_index_1: i\n",
              "\t\t\t\t\t\t});\n",
              "\n",
              "\t\t\t\t\t\tif (each_1_blocks[i]) {\n",
              "\t\t\t\t\t\t\teach_1_blocks[i].p(changed, each_1_context);\n",
              "\t\t\t\t\t\t} else {\n",
              "\t\t\t\t\t\t\teach_1_blocks[i] = create_each_block_1(component, each_1_context);\n",
              "\t\t\t\t\t\t\teach_1_blocks[i].c();\n",
              "\t\t\t\t\t\t\teach_1_blocks[i].m(div_4, null);\n",
              "\t\t\t\t\t\t}\n",
              "\t\t\t\t\t}\n",
              "\n",
              "\t\t\t\t\tfor (; i < each_1_blocks.length; i += 1) {\n",
              "\t\t\t\t\t\teach_1_blocks[i].u();\n",
              "\t\t\t\t\t\teach_1_blocks[i].d();\n",
              "\t\t\t\t\t}\n",
              "\t\t\t\t\teach_1_blocks.length = each_value_1.length;\n",
              "\t\t\t\t}\n",
              "\t\t\t},\n",
              "\n",
              "\t\t\tu: function unmount() {\n",
              "\t\t\t\tdetachNode(div);\n",
              "\t\t\t\tif (if_block) if_block.u();\n",
              "\n",
              "\t\t\t\tfor (var i = 0; i < each_blocks.length; i += 1) {\n",
              "\t\t\t\t\teach_blocks[i].u();\n",
              "\t\t\t\t}\n",
              "\n",
              "\t\t\t\tfor (var i = 0; i < each_1_blocks.length; i += 1) {\n",
              "\t\t\t\t\teach_1_blocks[i].u();\n",
              "\t\t\t\t}\n",
              "\t\t\t},\n",
              "\n",
              "\t\t\td: function destroy() {\n",
              "\t\t\t\tif (if_block) if_block.d();\n",
              "\t\t\t\tremoveListener(div_1, \"mouseover\", mouseover_handler);\n",
              "\n",
              "\t\t\t\tdestroyEach(each_blocks);\n",
              "\n",
              "\t\t\t\tremoveListener(div_2, \"mouseover\", mouseover_handler_1);\n",
              "\n",
              "\t\t\t\tdestroyEach(each_1_blocks);\n",
              "\n",
              "\t\t\t\tremoveListener(div_4, \"mouseleave\", mouseleave_handler);\n",
              "\t\t\t}\n",
              "\t\t};\n",
              "\t}\n",
              "\n",
              "\t// (5:4) {{#if pres_n != undefined}}\n",
              "\tfunction create_if_block(component, state) {\n",
              "\t\tvar img, img_src_value;\n",
              "\n",
              "\t\treturn {\n",
              "\t\t\tc: function create() {\n",
              "\t\t\t\timg = createElement(\"img\");\n",
              "\t\t\t\tthis.h();\n",
              "\t\t\t},\n",
              "\n",
              "\t\t\th: function hydrate() {\n",
              "\t\t\t\timg.src = img_src_value = state.spatial_factors[state.pres_n];\n",
              "\t\t\t\timg.className = \"overlay\";\n",
              "\t\t\t},\n",
              "\n",
              "\t\t\tm: function mount(target, anchor) {\n",
              "\t\t\t\tinsertNode(img, target, anchor);\n",
              "\t\t\t},\n",
              "\n",
              "\t\t\tp: function update(changed, state) {\n",
              "\t\t\t\tif ((changed.spatial_factors || changed.pres_n) && img_src_value !== (img_src_value = state.spatial_factors[state.pres_n])) {\n",
              "\t\t\t\t\timg.src = img_src_value;\n",
              "\t\t\t\t}\n",
              "\t\t\t},\n",
              "\n",
              "\t\t\tu: function unmount() {\n",
              "\t\t\t\tdetachNode(img);\n",
              "\t\t\t},\n",
              "\n",
              "\t\t\td: noop\n",
              "\t\t};\n",
              "\t}\n",
              "\n",
              "\t// (12:4) {{#each range(n_groups) as n}}\n",
              "\tfunction create_each_block(component, state) {\n",
              "\t\tvar n_1 = state.n, each_value = state.each_value, n_index = state.n_index;\n",
              "\t\tvar if_block_anchor;\n",
              "\n",
              "\t\tvar if_block = (state.pres_n == state.undefined || state.pres_n == n_1) && create_if_block_1(component, state);\n",
              "\n",
              "\t\treturn {\n",
              "\t\t\tc: function create() {\n",
              "\t\t\t\tif (if_block) if_block.c();\n",
              "\t\t\t\tif_block_anchor = createComment();\n",
              "\t\t\t},\n",
              "\n",
              "\t\t\tm: function mount(target, anchor) {\n",
              "\t\t\t\tif (if_block) if_block.m(target, anchor);\n",
              "\t\t\t\tinsertNode(if_block_anchor, target, anchor);\n",
              "\t\t\t},\n",
              "\n",
              "\t\t\tp: function update(changed, state) {\n",
              "\t\t\t\tn_1 = state.n;\n",
              "\t\t\t\teach_value = state.each_value;\n",
              "\t\t\t\tn_index = state.n_index;\n",
              "\t\t\t\tif (state.pres_n == state.undefined || state.pres_n == n_1) {\n",
              "\t\t\t\t\tif (if_block) {\n",
              "\t\t\t\t\t\tif_block.p(changed, state);\n",
              "\t\t\t\t\t} else {\n",
              "\t\t\t\t\t\tif_block = create_if_block_1(component, state);\n",
              "\t\t\t\t\t\tif_block.c();\n",
              "\t\t\t\t\t\tif_block.m(if_block_anchor.parentNode, if_block_anchor);\n",
              "\t\t\t\t\t}\n",
              "\t\t\t\t} else if (if_block) {\n",
              "\t\t\t\t\tif_block.u();\n",
              "\t\t\t\t\tif_block.d();\n",
              "\t\t\t\t\tif_block = null;\n",
              "\t\t\t\t}\n",
              "\t\t\t},\n",
              "\n",
              "\t\t\tu: function unmount() {\n",
              "\t\t\t\tif (if_block) if_block.u();\n",
              "\t\t\t\tdetachNode(if_block_anchor);\n",
              "\t\t\t},\n",
              "\n",
              "\t\t\td: function destroy() {\n",
              "\t\t\t\tif (if_block) if_block.d();\n",
              "\t\t\t}\n",
              "\t\t};\n",
              "\t}\n",
              "\n",
              "\t// (13:4) {{#if pres_n == undefined || pres_n == n}}\n",
              "\tfunction create_if_block_1(component, state) {\n",
              "\t\tvar n_1 = state.n, each_value = state.each_value, n_index = state.n_index;\n",
              "\t\tvar img, img_src_value;\n",
              "\n",
              "\t\treturn {\n",
              "\t\t\tc: function create() {\n",
              "\t\t\t\timg = createElement(\"img\");\n",
              "\t\t\t\tthis.h();\n",
              "\t\t\t},\n",
              "\n",
              "\t\t\th: function hydrate() {\n",
              "\t\t\t\timg.src = img_src_value = state.spatial_factors[n_1];\n",
              "\t\t\t\timg.className = \"factor\";\n",
              "\t\t\t\tsetStyle(img, \"filter\", \"hue-rotate(\" + n_1*360/state.n_groups + \"deg)\");\n",
              "\t\t\t},\n",
              "\n",
              "\t\t\tm: function mount(target, anchor) {\n",
              "\t\t\t\tinsertNode(img, target, anchor);\n",
              "\t\t\t},\n",
              "\n",
              "\t\t\tp: function update(changed, state) {\n",
              "\t\t\t\tn_1 = state.n;\n",
              "\t\t\t\teach_value = state.each_value;\n",
              "\t\t\t\tn_index = state.n_index;\n",
              "\t\t\t\tif ((changed.spatial_factors || changed.n_groups) && img_src_value !== (img_src_value = state.spatial_factors[n_1])) {\n",
              "\t\t\t\t\timg.src = img_src_value;\n",
              "\t\t\t\t}\n",
              "\n",
              "\t\t\t\tif (changed.n_groups) {\n",
              "\t\t\t\t\tsetStyle(img, \"filter\", \"hue-rotate(\" + n_1*360/state.n_groups + \"deg)\");\n",
              "\t\t\t\t}\n",
              "\t\t\t},\n",
              "\n",
              "\t\t\tu: function unmount() {\n",
              "\t\t\t\tdetachNode(img);\n",
              "\t\t\t},\n",
              "\n",
              "\t\t\td: noop\n",
              "\t\t};\n",
              "\t}\n",
              "\n",
              "\t// (24:4) {{#each range(n_groups) as n}}\n",
              "\tfunction create_each_block_1(component, state) {\n",
              "\t\tvar n_1 = state.n, each_value_1 = state.each_value_1, n_index_1 = state.n_index_1;\n",
              "\t\tvar div, img, img_src_value;\n",
              "\n",
              "\t\treturn {\n",
              "\t\t\tc: function create() {\n",
              "\t\t\t\tdiv = createElement(\"div\");\n",
              "\t\t\t\timg = createElement(\"img\");\n",
              "\t\t\t\tthis.h();\n",
              "\t\t\t},\n",
              "\n",
              "\t\t\th: function hydrate() {\n",
              "\t\t\t\timg.src = img_src_value = state.group_icons[n_1];\n",
              "\t\t\t\taddListener(div, \"mouseover\", mouseover_handler);\n",
              "\t\t\t\tdiv.className = \"group\";\n",
              "\t\t\t\tsetStyle(div, \"background-color\", \"hsl(\" + n_1*360/state.n_groups + \", 80%, 50%)\");\n",
              "\n",
              "\t\t\t\tdiv._svelte = {\n",
              "\t\t\t\t\tcomponent: component,\n",
              "\t\t\t\t\teach_value_1: state.each_value_1,\n",
              "\t\t\t\t\tn_index_1: state.n_index_1\n",
              "\t\t\t\t};\n",
              "\t\t\t},\n",
              "\n",
              "\t\t\tm: function mount(target, anchor) {\n",
              "\t\t\t\tinsertNode(div, target, anchor);\n",
              "\t\t\t\tappendNode(img, div);\n",
              "\t\t\t},\n",
              "\n",
              "\t\t\tp: function update(changed, state) {\n",
              "\t\t\t\tn_1 = state.n;\n",
              "\t\t\t\teach_value_1 = state.each_value_1;\n",
              "\t\t\t\tn_index_1 = state.n_index_1;\n",
              "\t\t\t\tif ((changed.group_icons || changed.n_groups) && img_src_value !== (img_src_value = state.group_icons[n_1])) {\n",
              "\t\t\t\t\timg.src = img_src_value;\n",
              "\t\t\t\t}\n",
              "\n",
              "\t\t\t\tif (changed.n_groups) {\n",
              "\t\t\t\t\tsetStyle(div, \"background-color\", \"hsl(\" + n_1*360/state.n_groups + \", 80%, 50%)\");\n",
              "\t\t\t\t}\n",
              "\n",
              "\t\t\t\tdiv._svelte.each_value_1 = state.each_value_1;\n",
              "\t\t\t\tdiv._svelte.n_index_1 = state.n_index_1;\n",
              "\t\t\t},\n",
              "\n",
              "\t\t\tu: function unmount() {\n",
              "\t\t\t\tdetachNode(div);\n",
              "\t\t\t},\n",
              "\n",
              "\t\t\td: function destroy() {\n",
              "\t\t\t\tremoveListener(div, \"mouseover\", mouseover_handler);\n",
              "\t\t\t}\n",
              "\t\t};\n",
              "\t}\n",
              "\n",
              "\tfunction mouseover_handler(event) {\n",
              "\t\tvar component = this._svelte.component;\n",
              "\t\tvar each_value_1 = this._svelte.each_value_1, n_index_1 = this._svelte.n_index_1, n_1 = each_value_1[n_index_1];\n",
              "\t\tcomponent.set({pres_n: n_1});\n",
              "\t}\n",
              "\n",
              "\tfunction GroupWidget_26ca7b20_bb3b_492b_b0e2_a658d662167b(options) {\n",
              "\t\tinit(this, options);\n",
              "\t\tthis._state = assign(assign({ undefined : undefined }, data()), options.data);\n",
              "\n",
              "\t\tif (!document.getElementById(\"svelte-by7njd-style\")) add_css();\n",
              "\n",
              "\t\tthis._fragment = create_main_fragment(this, this._state);\n",
              "\n",
              "\t\tif (options.target) {\n",
              "\t\t\tthis._fragment.c();\n",
              "\t\t\tthis._mount(options.target, options.anchor);\n",
              "\t\t}\n",
              "\t}\n",
              "\n",
              "\tassign(GroupWidget_26ca7b20_bb3b_492b_b0e2_a658d662167b.prototype, {\n",
              "\t \tdestroy: destroy,\n",
              "\t \tget: get,\n",
              "\t \tfire: fire,\n",
              "\t \tobserve: observe,\n",
              "\t \ton: on,\n",
              "\t \tset: set,\n",
              "\t \tteardown: destroy,\n",
              "\t \t_set: _set,\n",
              "\t \t_mount: _mount,\n",
              "\t \t_unmount: _unmount,\n",
              "\t \t_differs: _differs\n",
              "\t });\n",
              "\n",
              "\tGroupWidget_26ca7b20_bb3b_492b_b0e2_a658d662167b.prototype._recompute = noop;\n",
              "\n",
              "\tfunction createElement(name) {\n",
              "\t\treturn document.createElement(name);\n",
              "\t}\n",
              "\n",
              "\tfunction appendNode(node, target) {\n",
              "\t\ttarget.appendChild(node);\n",
              "\t}\n",
              "\n",
              "\tfunction assign(tar, src) {\n",
              "\t\tfor (var k in src) tar[k] = src[k];\n",
              "\t\treturn tar;\n",
              "\t}\n",
              "\n",
              "\tfunction createText(data) {\n",
              "\t\treturn document.createTextNode(data);\n",
              "\t}\n",
              "\n",
              "\tfunction addListener(node, event, handler) {\n",
              "\t\tnode.addEventListener(event, handler, false);\n",
              "\t}\n",
              "\n",
              "\tfunction setStyle(node, key, value) {\n",
              "\t\tnode.style.setProperty(key, value);\n",
              "\t}\n",
              "\n",
              "\tfunction insertNode(node, target, anchor) {\n",
              "\t\ttarget.insertBefore(node, anchor);\n",
              "\t}\n",
              "\n",
              "\tfunction detachNode(node) {\n",
              "\t\tnode.parentNode.removeChild(node);\n",
              "\t}\n",
              "\n",
              "\tfunction removeListener(node, event, handler) {\n",
              "\t\tnode.removeEventListener(event, handler, false);\n",
              "\t}\n",
              "\n",
              "\tfunction destroyEach(iterations) {\n",
              "\t\tfor (var i = 0; i < iterations.length; i += 1) {\n",
              "\t\t\tif (iterations[i]) iterations[i].d();\n",
              "\t\t}\n",
              "\t}\n",
              "\n",
              "\tfunction noop() {}\n",
              "\n",
              "\tfunction createComment() {\n",
              "\t\treturn document.createComment('');\n",
              "\t}\n",
              "\n",
              "\tfunction init(component, options) {\n",
              "\t\tcomponent._handlers = blankObject();\n",
              "\t\tcomponent._bind = options._bind;\n",
              "\n",
              "\t\tcomponent.options = options;\n",
              "\t\tcomponent.root = options.root || component;\n",
              "\t\tcomponent.store = component.root.store || options.store;\n",
              "\t}\n",
              "\n",
              "\tfunction destroy(detach) {\n",
              "\t\tthis.destroy = noop;\n",
              "\t\tthis.fire('destroy');\n",
              "\t\tthis.set = this.get = noop;\n",
              "\n",
              "\t\tif (detach !== false) this._fragment.u();\n",
              "\t\tthis._fragment.d();\n",
              "\t\tthis._fragment = this._state = null;\n",
              "\t}\n",
              "\n",
              "\tfunction get(key) {\n",
              "\t\treturn key ? this._state[key] : this._state;\n",
              "\t}\n",
              "\n",
              "\tfunction fire(eventName, data) {\n",
              "\t\tvar handlers =\n",
              "\t\t\teventName in this._handlers && this._handlers[eventName].slice();\n",
              "\t\tif (!handlers) return;\n",
              "\n",
              "\t\tfor (var i = 0; i < handlers.length; i += 1) {\n",
              "\t\t\tvar handler = handlers[i];\n",
              "\n",
              "\t\t\tif (!handler.__calling) {\n",
              "\t\t\t\thandler.__calling = true;\n",
              "\t\t\t\thandler.call(this, data);\n",
              "\t\t\t\thandler.__calling = false;\n",
              "\t\t\t}\n",
              "\t\t}\n",
              "\t}\n",
              "\n",
              "\tfunction observe(key, callback, options) {\n",
              "\t\tvar fn = callback.bind(this);\n",
              "\n",
              "\t\tif (!options || options.init !== false) {\n",
              "\t\t\tfn(this.get()[key], undefined);\n",
              "\t\t}\n",
              "\n",
              "\t\treturn this.on(options && options.defer ? 'update' : 'state', function(event) {\n",
              "\t\t\tif (event.changed[key]) fn(event.current[key], event.previous && event.previous[key]);\n",
              "\t\t});\n",
              "\t}\n",
              "\n",
              "\tfunction on(eventName, handler) {\n",
              "\t\tif (eventName === 'teardown') return this.on('destroy', handler);\n",
              "\n",
              "\t\tvar handlers = this._handlers[eventName] || (this._handlers[eventName] = []);\n",
              "\t\thandlers.push(handler);\n",
              "\n",
              "\t\treturn {\n",
              "\t\t\tcancel: function() {\n",
              "\t\t\t\tvar index = handlers.indexOf(handler);\n",
              "\t\t\t\tif (~index) handlers.splice(index, 1);\n",
              "\t\t\t}\n",
              "\t\t};\n",
              "\t}\n",
              "\n",
              "\tfunction set(newState) {\n",
              "\t\tthis._set(assign({}, newState));\n",
              "\t\tif (this.root._lock) return;\n",
              "\t\tthis.root._lock = true;\n",
              "\t\tcallAll(this.root._beforecreate);\n",
              "\t\tcallAll(this.root._oncreate);\n",
              "\t\tcallAll(this.root._aftercreate);\n",
              "\t\tthis.root._lock = false;\n",
              "\t}\n",
              "\n",
              "\tfunction _set(newState) {\n",
              "\t\tvar oldState = this._state,\n",
              "\t\t\tchanged = {},\n",
              "\t\t\tdirty = false;\n",
              "\n",
              "\t\tfor (var key in newState) {\n",
              "\t\t\tif (this._differs(newState[key], oldState[key])) changed[key] = dirty = true;\n",
              "\t\t}\n",
              "\t\tif (!dirty) return;\n",
              "\n",
              "\t\tthis._state = assign(assign({}, oldState), newState);\n",
              "\t\tthis._recompute(changed, this._state);\n",
              "\t\tif (this._bind) this._bind(changed, this._state);\n",
              "\n",
              "\t\tif (this._fragment) {\n",
              "\t\t\tthis.fire(\"state\", { changed: changed, current: this._state, previous: oldState });\n",
              "\t\t\tthis._fragment.p(changed, this._state);\n",
              "\t\t\tthis.fire(\"update\", { changed: changed, current: this._state, previous: oldState });\n",
              "\t\t}\n",
              "\t}\n",
              "\n",
              "\tfunction _mount(target, anchor) {\n",
              "\t\tthis._fragment[this._fragment.i ? 'i' : 'm'](target, anchor || null);\n",
              "\t}\n",
              "\n",
              "\tfunction _unmount() {\n",
              "\t\tif (this._fragment) this._fragment.u();\n",
              "\t}\n",
              "\n",
              "\tfunction _differs(a, b) {\n",
              "\t\treturn a != a ? b == b : a !== b || ((a && typeof a === 'object') || typeof a === 'function');\n",
              "\t}\n",
              "\n",
              "\tfunction blankObject() {\n",
              "\t\treturn Object.create(null);\n",
              "\t}\n",
              "\n",
              "\tfunction callAll(fns) {\n",
              "\t\twhile (fns && fns.length) fns.shift()();\n",
              "\t}\n",
              "\treturn GroupWidget_26ca7b20_bb3b_492b_b0e2_a658d662167b;\n",
              "}());\n",
              "  </script>\n",
              "  <script>\n",
              "    var app = new GroupWidget_26ca7b20_bb3b_492b_b0e2_a658d662167b({\n",
              "        target: document.querySelector('#GroupWidget_26ca7b20_bb3b_492b_b0e2_a658d662167b_3f6e2ce8_77c1_4c13_a808_6f311fc53291'),\n",
              "        data: {\"img\": \"data:image/PNG;base64,iVBORw0KGgoAAAANSUhEUgAAABAAAAAOCAIAAACpTQvdAAAAi0lEQVR4nGMQ+vrfpnKdTeU6CAMriayGiQEJXKsJ1GpZj8lGFkHRgAy0WtZfqwlEZkNInBqQTUUmsWhAdgyaaoQNuFyMxQ+43IrLV0z4QwbTJwzExwCEZMCjGivJgN88TBEm4sMHQjIiS/jM7GFgYEhr6GVgYPB7/hwhzsDAwMCwhYGBgYGBQExjAgCu/cc07N1aBQAAAABJRU5ErkJggg==\", \"n_groups\": 6, \"spatial_factors\": [\"data:image/PNG;base64,iVBORw0KGgoAAAANSUhEUgAAAA4AAAAMCAIAAADd4huNAAAA5UlEQVR4nE3QvUpDQRAF4G/3bm5u/Inge4g/2PgAqXwNBQsLCxtBi+D7iAgBC8XGTsRH0UIImpi1uNmrUwyHM4eZM0dNZoOGTZ4Z0jDggWMiNfvAB0eEgivLmtAUHIktyoWakhhTccgXCCxa6ZQBmSEjAluksqIh00Nim0sCFzSFqZkQGXenz8EKu6DPaVn5TsVVcRwXBGZEAjdMWYAZievieOm667f/vm6P/GlCyaIbtMwZWGev02T6nJAI7JCp+SYx46dEGRN39JiTqAk8kpiXQNboEefccwA+eSHzxhNY5ZURFb9+FS89OXW8LQAAAABJRU5ErkJggg==\", \"data:image/PNG;base64,iVBORw0KGgoAAAANSUhEUgAAAA4AAAAMCAIAAADd4huNAAAA3ElEQVR4nGXPPUoEURAE4E8Z8D2EGRF1xswVNFYTL2XiFYxMBE12Fhf8QfzB1MRE3BWdSNELeAkvoMHwdgesoCm6q6urBSqeiGwReCTyAYZEaiIQOSdL/IKcYwoqbsHbf+kly+AOvHbqLAbscwR+yDlhj4IxGzTs4JSMVQKHlKmzBq7AjYRrMAKbHKQMIQUtW80Dc/QJPIOaQE2Rdl4mruNOHbKS7vTpcT+ZtopP0OvsNO3L5IwSt82ARTIasMsZJZF3FvhClWJ8J9IazJhiyiNL/KavsU7FfEdd8QfUeSt0JmSbEwAAAABJRU5ErkJggg==\", \"data:image/PNG;base64,iVBORw0KGgoAAAANSUhEUgAAAA4AAAAMCAIAAADd4huNAAAA1UlEQVR4nEXRwUrDQBDG8V+2oVjSNBGrV1/AR/OieCsIVWx9VhERhdo0aeIhHZ3D7MLuzPy/b/TMwSvnPIEtBWtQsgP5kWM8v7MAHa1T3HPJDO14UNEyBXvwwowicsqiawcOLNiAIwOJgQl5y4GS7xj6xhkVPXu+mPJIfgE+mXBFSQU+gjuLaSfQBhThQE0TzmwoKEk5BcsRPLjvWJKo2ZDoyf5+5HEZpbT80JOYk8gnIXbHQBaIvf/IxprEQ5D14dotDTVDlHVYBz6euWHFdagcd7sCv+chPH044OY7AAAAAElFTkSuQmCC\", \"data:image/PNG;base64,iVBORw0KGgoAAAANSUhEUgAAAA4AAAAMCAIAAADd4huNAAAAt0lEQVR4nHXQu04CYRAF4G8vMXIplkQuBRISkJbK1vgW1r6LL+MLWUChIdY2UpFsoFj/ZYjhVGfmnDkzGcj9IePeGT0wSBKUoWj4LLlLJq0PRZwjpwrZ2aUqT+uayRsK1pdB7Z2WSag5cOQH1OAY9uiAu9BpYwrGDZsGuTmjCu7SdeSMQt7DNdMglLf/HePA+2AYOt1Ezv8aMmfEKx+80WXPimd2ZO980uOXb554YcMXC7Y8UlFzAnx/FElUpbFgAAAAAElFTkSuQmCC\", \"data:image/PNG;base64,iVBORw0KGgoAAAANSUhEUgAAAA4AAAAMCAIAAADd4huNAAAAbklEQVR4nOXNKw6DUABE0QO88DH9CER3geqSuhX20a1VvZoKAqQCUkUCrgmSUZPJzFwOpGzlk38GYS+xpNomF0qQL4QEBTU9Mx0zZ2oGJjpOfAkv8ObOtFw+aMmIPKloSEcK0lXvyo2BSM8HjPwAgs0U6dnHplQAAAAASUVORK5CYII=\", \"data:image/PNG;base64,iVBORw0KGgoAAAANSUhEUgAAAA4AAAAMCAIAAADd4huNAAAA2klEQVR4nGXQMUoDYRDF8d/37WYTtPIiNlYqJIoK4lmEsIUewEKLeAC9gyBoo0Uq9SJp0kpAtMhGiziLwakebx7/GZ5Mj5oBPQbUHFNwQk0FXoGSmhT6jMwEXINvMqXVmbPBghGHnLMg07SJqxB3VGwyIjGly7RFPlPwCC7D6bDLEJxygK/gJRoqJhSgiOiovT4GLySOGMa5zAXbQdGESnz+YXwgmlpuf3OZGRWzlsEDeGqd+ep/6Z+Tg5W7bHEbpDEddrgJ554O7+izDt7YI9NnjUS57Ih9Kn4As1k0Y44FA5kAAAAASUVORK5CYII=\"], \"group_icons\": [\"data:image/PNG;base64,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\", \"data:image/PNG;base64,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\", \"data:image/PNG;base64,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\", \"data:image/PNG;base64,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\", \"data:image/PNG;base64,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\", \"data:image/PNG;base64,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\"]},\n",
              "      });\n",
              "  </script>\n",
              " "
            ],
            "text/plain": [
              "<IPython.core.display.HTML object>"
            ]
          },
          "metadata": {
            "tags": []
          }
        }
      ]
    }
  ]
}