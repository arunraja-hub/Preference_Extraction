{
 "cells": [
  {
   "cell_type": "markdown",
   "metadata": {},
   "source": [
    "# Export PPOAgent - ActorCriticNetwork"
   ]
  },
  {
   "cell_type": "code",
   "execution_count": 2,
   "metadata": {},
   "outputs": [],
   "source": [
    "import tensorflow as tf\n",
    "import numpy as np\n",
    "from tf_agents.agents.ppo.ppo_kl_penalty_agent import PPOKLPenaltyAgent\n",
    "from tf_agents.networks.actor_distribution_network import ActorDistributionNetwork\n",
    "from tf_agents.networks.value_network import ValueNetwork\n",
    "from tf_agents.environments import tf_py_environment\n",
    "from rl_env.DoomEnviroment import DoomEnvironment\n",
    "import matplotlib.pyplot as plt\n",
    "import collections\n",
    "import joblib\n",
    "from tqdm import tqdm"
   ]
  },
  {
   "cell_type": "markdown",
   "metadata": {},
   "source": [
    "## Create Agent, Load Checkpoints, Flatten Model and Save it"
   ]
  },
  {
   "cell_type": "code",
   "execution_count": 3,
   "metadata": {},
   "outputs": [],
   "source": [
    "CPT_DIR = '/home/jupyter/train_data/agentV2.9/train/policy'\n",
    "CHECKPOINT_NO = 19000\n",
    "NO_OF_DATA_POINTS = 10000"
   ]
  },
  {
   "cell_type": "code",
   "execution_count": 4,
   "metadata": {},
   "outputs": [],
   "source": [
    "env = DoomEnvironment(\n",
    "    config_name='rl_env/custom.cfg', \n",
    "    frame_skip=4, \n",
    "    episode_timeout=2000, \n",
    "    obs_shape=(60, 100),\n",
    "    start_ammo=6, \n",
    "    living_reward=3, \n",
    "    kill_imp_reward=100, \n",
    "    kill_demon_reward=10, \n",
    "    ammo_reward=5, \n",
    "    health_reward=.5\n",
    ")\n",
    "tfpy_env = tf_py_environment.TFPyEnvironment(env)"
   ]
  },
  {
   "cell_type": "code",
   "execution_count": 5,
   "metadata": {},
   "outputs": [],
   "source": [
    "actor_net = ActorDistributionNetwork(\n",
    "    input_tensor_spec=tfpy_env.observation_spec(),\n",
    "    output_tensor_spec=tfpy_env.action_spec(),\n",
    "    fc_layer_params = (200, 100)\n",
    ")\n",
    "\n",
    "value_net = ValueNetwork(\n",
    "    input_tensor_spec=tfpy_env.observation_spec(),\n",
    "    fc_layer_params = (200, 100)\n",
    ")\n",
    "\n",
    "agent = PPOKLPenaltyAgent(\n",
    "    time_step_spec=tfpy_env.time_step_spec(),\n",
    "    action_spec=tfpy_env.action_spec(),\n",
    "    actor_net=actor_net,\n",
    "    value_net=value_net,\n",
    "    entropy_regularization = 0.0,\n",
    "    kl_cutoff_factor = 2.0,\n",
    "    kl_cutoff_coef = 100,\n",
    "    initial_adaptive_kl_beta = 1.0,\n",
    "    adaptive_kl_target = 0.01,\n",
    "    adaptive_kl_tolerance = 0.3,\n",
    "    normalize_observations = True,\n",
    "    normalize_rewards = False,\n",
    "    use_gae = True,\n",
    "    num_epochs = 25,\n",
    ")"
   ]
  },
  {
   "cell_type": "code",
   "execution_count": 6,
   "metadata": {},
   "outputs": [
    {
     "data": {
      "text/plain": [
       "'/home/jupyter/train_data/agentV2.9/train/policy/ckpt-19000'"
      ]
     },
     "execution_count": 6,
     "metadata": {},
     "output_type": "execute_result"
    }
   ],
   "source": [
    "checkpoint_state = tf.train.get_checkpoint_state(CPT_DIR)\n",
    "checkpoint_paths = list(checkpoint_state.all_model_checkpoint_paths)\n",
    "checkpoint = [x for x in checkpoint_paths if str(CHECKPOINT_NO) in x][0]\n",
    "checkpoint"
   ]
  },
  {
   "cell_type": "code",
   "execution_count": 7,
   "metadata": {},
   "outputs": [],
   "source": [
    "policy_checkpoint = tf.train.Checkpoint(policy=agent.policy)\n",
    "load_status = policy_checkpoint.restore(checkpoint)"
   ]
  },
  {
   "cell_type": "code",
   "execution_count": 8,
   "metadata": {},
   "outputs": [
    {
     "name": "stdout",
     "output_type": "stream",
     "text": [
      "Model: \"ActorDistributionNetwork\"\n",
      "_________________________________________________________________\n",
      "Layer (type)                 Output Shape              Param #   \n",
      "=================================================================\n",
      "EncodingNetwork (EncodingNet multiple                  7220300   \n",
      "_________________________________________________________________\n",
      "CategoricalProjectionNetwork multiple                  404       \n",
      "=================================================================\n",
      "Total params: 7,220,704\n",
      "Trainable params: 7,220,704\n",
      "Non-trainable params: 0\n",
      "_________________________________________________________________\n"
     ]
    }
   ],
   "source": [
    "agent.actor_net.summary()"
   ]
  },
  {
   "cell_type": "code",
   "execution_count": 9,
   "metadata": {},
   "outputs": [
    {
     "name": "stdout",
     "output_type": "stream",
     "text": [
      "ActorDistributionNetwork/EncodingNetwork/dense/kernel:0 (36000, 200)\n",
      "ActorDistributionNetwork/EncodingNetwork/dense/bias:0 (200,)\n",
      "ActorDistributionNetwork/EncodingNetwork/dense_1/kernel:0 (200, 100)\n",
      "ActorDistributionNetwork/EncodingNetwork/dense_1/bias:0 (100,)\n",
      "ActorDistributionNetwork/CategoricalProjectionNetwork/logits/kernel:0 (100, 4)\n",
      "ActorDistributionNetwork/CategoricalProjectionNetwork/logits/bias:0 (4,)\n"
     ]
    }
   ],
   "source": [
    "for v in agent.actor_net.variables:\n",
    "    print(v.name, v.shape)"
   ]
  },
  {
   "cell_type": "code",
   "execution_count": 18,
   "metadata": {},
   "outputs": [],
   "source": [
    "def flatten_model(model_nested):\n",
    "    def get_layers(layers):\n",
    "        layers_flat = []\n",
    "        for layer in layers:\n",
    "            try:\n",
    "                layers_flat.extend(get_layers(layer.layers))\n",
    "            except AttributeError:\n",
    "                layers_flat.append(layer)\n",
    "        return layers_flat\n",
    "\n",
    "    model_flat = tf.keras.models.Sequential(\n",
    "        get_layers(model_nested.layers)\n",
    "    )\n",
    "    return model_flat"
   ]
  },
  {
   "cell_type": "code",
   "execution_count": 19,
   "metadata": {},
   "outputs": [
    {
     "name": "stdout",
     "output_type": "stream",
     "text": [
      "Model: \"sequential\"\n",
      "_________________________________________________________________\n",
      "Layer (type)                 Output Shape              Param #   \n",
      "=================================================================\n",
      "flatten (Flatten)            multiple                  0         \n",
      "_________________________________________________________________\n",
      "dense (Dense)                multiple                  7200200   \n",
      "_________________________________________________________________\n",
      "dense_1 (Dense)              multiple                  20100     \n",
      "_________________________________________________________________\n",
      "logits (Dense)               multiple                  404       \n",
      "=================================================================\n",
      "Total params: 7,220,704\n",
      "Trainable params: 7,220,704\n",
      "Non-trainable params: 0\n",
      "_________________________________________________________________\n"
     ]
    }
   ],
   "source": [
    "flat_actorNet = flatten_model(agent.actor_net)\n",
    "flat_actorNet.build(input_shape=(1, 60, 100, 6))\n",
    "flat_actorNet.summary()"
   ]
  },
  {
   "cell_type": "code",
   "execution_count": 20,
   "metadata": {},
   "outputs": [],
   "source": [
    "flat_actorNet.save('/home/jupyter/train_data/agentV2.9/actorNet.keras')"
   ]
  },
  {
   "cell_type": "markdown",
   "metadata": {},
   "source": [
    "## Run Enviroment and Save Observations, Preferences and  Agent's Actions"
   ]
  },
  {
   "cell_type": "code",
   "execution_count": 32,
   "metadata": {},
   "outputs": [
    {
     "name": "stderr",
     "output_type": "stream",
     "text": [
      "100%|██████████| 10000/10000 [01:30<00:00, 110.01it/s]\n"
     ]
    }
   ],
   "source": [
    "time_step = tfpy_env.reset()\n",
    "observations = []\n",
    "actions = []\n",
    "preferences = []\n",
    "for _ in tqdm(range(NO_OF_DATA_POINTS)):\n",
    "    action_obj = agent.actor_net.call(time_step.observation, time_step.step_type, network_state=())[0]\n",
    "    action = action_obj.sample().numpy()[0]\n",
    "    time_step = tfpy_env.step(action=action)\n",
    "    state = tfpy_env.envs[0]._game.get_state()\n",
    "    tfpy_env.envs[0]._game.advance_action()\n",
    "    preference = None\n",
    "    if state is not None:\n",
    "        label = [lbl for lbl in state.labels if lbl.object_name == 'Demon']\n",
    "        if len(label) > 0:\n",
    "            label = label[0]\n",
    "            if label.object_angle < 90 or label.object_angle > 270:\n",
    "                preference = 'Attacking Monster'\n",
    "            else:\n",
    "                preference = 'Attacking Agent'\n",
    "        else:\n",
    "            preference = 'Dead'\n",
    "    preferences.append(preference)\n",
    "    observations.append(time_step.observation)\n",
    "    actions.append(action)"
   ]
  },
  {
   "cell_type": "code",
   "execution_count": 33,
   "metadata": {},
   "outputs": [],
   "source": [
    "class ExperienceData(\n",
    "    collections.namedtuple('ExperienceData', [\n",
    "        'observation',\n",
    "        'action',\n",
    "        'preference'\n",
    "    ])):\n",
    "  __slots__ = ()"
   ]
  },
  {
   "cell_type": "code",
   "execution_count": 34,
   "metadata": {},
   "outputs": [],
   "source": [
    "exps = ExperienceData(\n",
    "    observation=observations,\n",
    "    action=actions,\n",
    "    preference=preferences\n",
    ")"
   ]
  },
  {
   "cell_type": "code",
   "execution_count": 35,
   "metadata": {},
   "outputs": [
    {
     "data": {
      "text/plain": [
       "['/home/jupyter/train_data/agentV2.9/AgentExperienceData.pkl']"
      ]
     },
     "execution_count": 35,
     "metadata": {},
     "output_type": "execute_result"
    }
   ],
   "source": [
    "joblib.dump([exps], '/home/jupyter/train_data/agentV2.9/AgentExperienceData.pkl')"
   ]
  }
 ],
 "metadata": {
  "environment": {
   "name": "tf2-2-2-gpu.2-2.m49",
   "type": "gcloud",
   "uri": "gcr.io/deeplearning-platform-release/tf2-2-2-gpu.2-2:m49"
  },
  "kernelspec": {
   "display_name": "Python 3",
   "language": "python",
   "name": "python3"
  },
  "language_info": {
   "codemirror_mode": {
    "name": "ipython",
    "version": 3
   },
   "file_extension": ".py",
   "mimetype": "text/x-python",
   "name": "python",
   "nbconvert_exporter": "python",
   "pygments_lexer": "ipython3",
   "version": "3.7.6"
  }
 },
 "nbformat": 4,
 "nbformat_minor": 4
}
